{
  "cells": [
    {
      "cell_type": "code",
      "source": [
        "spark"
      ],
      "outputs": [
        {
          "output_type": "display_data",
          "data": {
            "application/vnd.livy.statement-meta+json": {
              "spark_pool": "d3c1b951-094c-48e1-919d-e32bc175397b",
              "session_id": "25",
              "statement_id": 6,
              "state": "finished",
              "livy_statement_state": "available",
              "queued_time": "2023-11-17T20:26:44.2890649Z",
              "session_start_time": "2023-11-17T20:26:44.327163Z",
              "execution_start_time": "2023-11-17T20:30:01.874899Z",
              "execution_finish_time": "2023-11-17T20:30:04.8868252Z",
              "spark_jobs": {
                "numbers": {
                  "SUCCEEDED": 0,
                  "UNKNOWN": 0,
                  "FAILED": 0,
                  "RUNNING": 0
                },
                "jobs": [],
                "limit": 20,
                "rule": "ALL_DESC"
              },
              "parent_msg_id": "de0722c3-37ca-4cd9-a857-9429089fa1d8"
            },
            "text/plain": "StatementMeta(d3c1b951-094c-48e1-919d-e32bc175397b, 25, 6, Finished, Available)"
          },
          "metadata": {}
        },
        {
          "output_type": "execute_result",
          "execution_count": 11,
          "data": {
            "text/plain": "<pyspark.sql.session.SparkSession at 0x7f1a78fe9940>",
            "text/html": "\n            <div>\n                <p><b>SparkSession - hive</b></p>\n                \n        <div>\n            <p><b>SparkContext</b></p>\n\n            <p><a href=\"http://vm-74128361:38879\">Spark UI</a></p>\n\n            <dl>\n              <dt>Version</dt>\n                <dd><code>v3.2.2.5.1-100879434</code></dd>\n              <dt>Master</dt>\n                <dd><code>yarn</code></dd>\n              <dt>AppName</dt>\n                <dd><code>Azure ML Experiment</code></dd>\n            </dl>\n        </div>\n        \n            </div>\n        "
          },
          "metadata": {}
        }
      ],
      "execution_count": 1,
      "metadata": {
        "gather": {
          "logged": 1700253005301
        }
      }
    },
    {
      "cell_type": "markdown",
      "source": [
        "## Loading Data"
      ],
      "metadata": {
        "nteract": {
          "transient": {
            "deleting": false
          }
        }
      }
    },
    {
      "cell_type": "code",
      "source": [
        "%%configure -f \\\n",
        "{\"conf\": {\"spark.jars.packages\": \"com.johnsnowlabs.nlp:spark-nlp_2.12:5.1.2\"}}"
      ],
      "outputs": [
        {
          "output_type": "display_data",
          "data": {
            "application/vnd.livy.statement-meta+json": {
              "spark_pool": null,
              "session_id": null,
              "statement_id": null,
              "state": "session_starting",
              "livy_statement_state": null,
              "queued_time": "2023-11-17T21:09:09.2473153Z",
              "session_start_time": "2023-11-17T21:09:09.3979647Z",
              "execution_start_time": null,
              "execution_finish_time": null,
              "spark_jobs": null,
              "parent_msg_id": "00f864b3-2e12-44b4-9559-ce99e138642f"
            },
            "text/plain": "StatementMeta(, , , SessionStarting, )"
          },
          "metadata": {}
        },
        {
          "output_type": "stream",
          "name": "stdout",
          "text": "Unrecognized options: "
        }
      ],
      "execution_count": 66,
      "metadata": {
        "jupyter": {
          "source_hidden": false,
          "outputs_hidden": false
        },
        "nteract": {
          "transient": {
            "deleting": false
          }
        }
      }
    },
    {
      "cell_type": "code",
      "source": [
        "!pip install spark-nlp\n",
        "!pip install pyspark"
      ],
      "outputs": [
        {
          "output_type": "display_data",
          "data": {
            "application/vnd.livy.statement-meta+json": {
              "spark_pool": null,
              "session_id": null,
              "statement_id": null,
              "state": "waiting",
              "livy_statement_state": null,
              "queued_time": "2023-11-17T21:09:11.9798087Z",
              "session_start_time": null,
              "execution_start_time": null,
              "execution_finish_time": null,
              "spark_jobs": null,
              "parent_msg_id": "06828aa0-02aa-4b9a-8b6b-331b40f8d10f"
            },
            "text/plain": "StatementMeta(, , , Waiting, )"
          },
          "metadata": {}
        }
      ],
      "execution_count": null,
      "metadata": {
        "jupyter": {
          "source_hidden": false,
          "outputs_hidden": false
        },
        "nteract": {
          "transient": {
            "deleting": false
          }
        }
      }
    },
    {
      "cell_type": "code",
      "source": [
        "import pandas as pd\n",
        "import matplotlib.pyplot as plt\n",
        "import seaborn as sns\n",
        "from pyspark.sql.functions import *\n",
        "from pyspark.ml.feature import CountVectorizer, HashingTF, IDF\n",
        "from pyspark.ml import Pipeline"
      ],
      "outputs": [
        {
          "output_type": "display_data",
          "data": {
            "application/vnd.livy.statement-meta+json": {
              "spark_pool": "d3c1b951-094c-48e1-919d-e32bc175397b",
              "session_id": "26",
              "statement_id": 24,
              "state": "finished",
              "livy_statement_state": "available",
              "queued_time": "2023-11-17T20:49:00.2755697Z",
              "session_start_time": null,
              "execution_start_time": "2023-11-17T20:49:00.3870341Z",
              "execution_finish_time": "2023-11-17T20:49:00.6852772Z",
              "spark_jobs": {
                "numbers": {
                  "SUCCEEDED": 0,
                  "UNKNOWN": 0,
                  "FAILED": 0,
                  "RUNNING": 0
                },
                "jobs": [],
                "limit": 20,
                "rule": "ALL_DESC"
              },
              "parent_msg_id": "5e9dc43a-b7c3-40ee-8fa3-2064b041e5be"
            },
            "text/plain": "StatementMeta(d3c1b951-094c-48e1-919d-e32bc175397b, 26, 24, Finished, Available)"
          },
          "metadata": {}
        }
      ],
      "execution_count": 23,
      "metadata": {
        "jupyter": {
          "source_hidden": false,
          "outputs_hidden": false
        },
        "nteract": {
          "transient": {
            "deleting": false
          }
        },
        "gather": {
          "logged": 1700254141224
        }
      }
    },
    {
      "cell_type": "code",
      "source": [
        "## Necessary Libraries\n",
        "import sparknlp\n",
        "from sparknlp.base import *\n",
        "from sparknlp.annotator import *\n",
        "from sparknlp.pretrained import PretrainedPipeline\n"
      ],
      "outputs": [
        {
          "output_type": "display_data",
          "data": {
            "application/vnd.livy.statement-meta+json": {
              "spark_pool": null,
              "session_id": null,
              "statement_id": null,
              "state": "waiting",
              "livy_statement_state": null,
              "queued_time": "2023-11-17T21:09:14.3524958Z",
              "session_start_time": null,
              "execution_start_time": null,
              "execution_finish_time": null,
              "spark_jobs": null,
              "parent_msg_id": "a24780a0-af10-4636-9eb5-3af4bd5458d3"
            },
            "text/plain": "StatementMeta(, , , Waiting, )"
          },
          "metadata": {}
        }
      ],
      "execution_count": null,
      "metadata": {
        "jupyter": {
          "source_hidden": false,
          "outputs_hidden": false
        },
        "nteract": {
          "transient": {
            "deleting": false
          }
        },
        "gather": {
          "logged": 1700253036831
        }
      }
    },
    {
      "cell_type": "code",
      "source": [
        "workspace_default_storage_account = \"aml6214727930\"\n",
        "workspace_default_container = \"azureml-blobstore-6653633b-3460-4381-9199-d9e0f368353c\"\n",
        "\n",
        "workspace_wasbs_base_url = (\n",
        "    f\"wasbs://{workspace_default_container}@{workspace_default_storage_account}.blob.core.windows.net/\"\n",
        ")\n",
        "\n",
        "comments_path = \"/basketball_comments_clean.parquet\"\n",
        "submissions_path = \"/basketball_submissions_clean.parquet\"\n",
        "\n",
        "comments = spark.read.parquet(f\"{workspace_wasbs_base_url}{comments_path}\")\n",
        "submissions = spark.read.parquet(f\"{workspace_wasbs_base_url}{submissions_path}\")"
      ],
      "outputs": [
        {
          "output_type": "display_data",
          "data": {
            "application/vnd.livy.statement-meta+json": {
              "spark_pool": "d3c1b951-094c-48e1-919d-e32bc175397b",
              "session_id": "26",
              "statement_id": 6,
              "state": "finished",
              "livy_statement_state": "available",
              "queued_time": "2023-11-17T20:26:57.6977507Z",
              "session_start_time": "2023-11-17T20:30:36.8704353Z",
              "execution_start_time": "2023-11-17T20:32:47.1209845Z",
              "execution_finish_time": "2023-11-17T20:33:04.2694663Z",
              "spark_jobs": {
                "numbers": {
                  "SUCCEEDED": 2,
                  "UNKNOWN": 0,
                  "FAILED": 0,
                  "RUNNING": 0
                },
                "jobs": [
                  {
                    "displayName": "parquet at NativeMethodAccessorImpl.java:0",
                    "dataWritten": 0,
                    "dataRead": 0,
                    "rowCount": 0,
                    "usageDescription": "",
                    "jobId": 1,
                    "name": "parquet at NativeMethodAccessorImpl.java:0",
                    "description": "Job group for statement 6:\nworkspace_default_storage_account = \"aml6214727930\"\nworkspace_default_container = \"azureml-blobstore-6653633b-3460-4381-9199-d9e0f368353c\"\n\nworkspace_wasbs_base_url = (\n    f\"wasbs://{workspace_default_container}@{workspace_default_storage_account}.blob.core.windows.net/\"\n)\n\ncomments_path = \"/basketball_comments_clean.parquet\"\nsubmissions_path = \"/basketball_submissions_clean.parquet\"\n\ncomments = spark.read.parquet(f\"{workspace_wasbs_base_url}{comments_path}\")\nsubmissions = spark.read.parquet(f\"{workspace_wasbs_base_url}{submissions_path}\")",
                    "submissionTime": "2023-11-17T20:32:56.615GMT",
                    "completionTime": "2023-11-17T20:33:00.734GMT",
                    "stageIds": [
                      1
                    ],
                    "jobGroup": "6",
                    "status": "SUCCEEDED",
                    "numTasks": 1,
                    "numActiveTasks": 0,
                    "numCompletedTasks": 1,
                    "numSkippedTasks": 0,
                    "numFailedTasks": 0,
                    "numKilledTasks": 0,
                    "numCompletedIndices": 1,
                    "numActiveStages": 0,
                    "numCompletedStages": 1,
                    "numSkippedStages": 0,
                    "numFailedStages": 0,
                    "killedTasksSummary": {}
                  },
                  {
                    "displayName": "parquet at NativeMethodAccessorImpl.java:0",
                    "dataWritten": 0,
                    "dataRead": 0,
                    "rowCount": 0,
                    "usageDescription": "",
                    "jobId": 0,
                    "name": "parquet at NativeMethodAccessorImpl.java:0",
                    "description": "Job group for statement 6:\nworkspace_default_storage_account = \"aml6214727930\"\nworkspace_default_container = \"azureml-blobstore-6653633b-3460-4381-9199-d9e0f368353c\"\n\nworkspace_wasbs_base_url = (\n    f\"wasbs://{workspace_default_container}@{workspace_default_storage_account}.blob.core.windows.net/\"\n)\n\ncomments_path = \"/basketball_comments_clean.parquet\"\nsubmissions_path = \"/basketball_submissions_clean.parquet\"\n\ncomments = spark.read.parquet(f\"{workspace_wasbs_base_url}{comments_path}\")\nsubmissions = spark.read.parquet(f\"{workspace_wasbs_base_url}{submissions_path}\")",
                    "submissionTime": "2023-11-17T20:32:48.309GMT",
                    "completionTime": "2023-11-17T20:32:54.297GMT",
                    "stageIds": [
                      0
                    ],
                    "jobGroup": "6",
                    "status": "SUCCEEDED",
                    "numTasks": 1,
                    "numActiveTasks": 0,
                    "numCompletedTasks": 1,
                    "numSkippedTasks": 0,
                    "numFailedTasks": 0,
                    "numKilledTasks": 0,
                    "numCompletedIndices": 1,
                    "numActiveStages": 0,
                    "numCompletedStages": 1,
                    "numSkippedStages": 0,
                    "numFailedStages": 0,
                    "killedTasksSummary": {}
                  }
                ],
                "limit": 20,
                "rule": "ALL_DESC"
              },
              "parent_msg_id": "6b12f954-180d-4f1d-b45b-43997bae0fde"
            },
            "text/plain": "StatementMeta(d3c1b951-094c-48e1-919d-e32bc175397b, 26, 6, Finished, Available)"
          },
          "metadata": {}
        }
      ],
      "execution_count": 5,
      "metadata": {
        "jupyter": {
          "source_hidden": false,
          "outputs_hidden": false
        },
        "nteract": {
          "transient": {
            "deleting": false
          }
        },
        "gather": {
          "logged": 1700253184528
        }
      }
    },
    {
      "cell_type": "markdown",
      "source": [
        "## NLP Processing"
      ],
      "metadata": {
        "nteract": {
          "transient": {
            "deleting": false
          }
        }
      }
    },
    {
      "cell_type": "markdown",
      "source": [
        "### Part 1: Data Checks"
      ],
      "metadata": {
        "nteract": {
          "transient": {
            "deleting": false
          }
        }
      }
    },
    {
      "cell_type": "markdown",
      "source": [
        "##### Most Common Words"
      ],
      "metadata": {
        "nteract": {
          "transient": {
            "deleting": false
          }
        }
      }
    },
    {
      "cell_type": "code",
      "source": [
        "comments = comments.cache()\n",
        "submissions = submissions.cache()\n",
        "\n",
        "# find the top 10 most common words in comments without cleaning\n",
        "words = comments.select(explode(split(comments[\"body\"], \"\\s+\")).alias(\"word\")) # split the body column in words\n",
        "word_counts = words.groupBy(\"word\").count() # group by each word and count\n",
        "top_10_words = word_counts.orderBy(desc(\"count\")).limit(10) # sort the words and take top 10\n",
        "print(\"Top 10 Words in Comments\")\n",
        "top_10_words.show()\n",
        "\n",
        "# find the top 10 most common words in submissions without cleaning\n",
        "words = submissions.select(explode(split(submissions[\"selftext\"], \"\\s+\")).alias(\"word\")) # split the body column in words\n",
        "word_counts = words.groupBy(\"word\").count() # group by each word and count\n",
        "top_10_words = word_counts.orderBy(desc(\"count\")).limit(10) # sort the words and take top 10\n",
        "print(\"Top 10 Words in Submissions\")\n",
        "top_10_words.show()"
      ],
      "outputs": [
        {
          "output_type": "display_data",
          "data": {
            "application/vnd.livy.statement-meta+json": {
              "spark_pool": "d3c1b951-094c-48e1-919d-e32bc175397b",
              "session_id": "26",
              "statement_id": 18,
              "state": "finished",
              "livy_statement_state": "available",
              "queued_time": "2023-11-17T20:41:38.8675611Z",
              "session_start_time": null,
              "execution_start_time": "2023-11-17T20:41:38.9700313Z",
              "execution_finish_time": "2023-11-17T20:41:45.404916Z",
              "spark_jobs": {
                "numbers": {
                  "SUCCEEDED": 4,
                  "UNKNOWN": 0,
                  "FAILED": 0,
                  "RUNNING": 0
                },
                "jobs": [
                  {
                    "displayName": "showString at NativeMethodAccessorImpl.java:0",
                    "dataWritten": 743,
                    "dataRead": 3607235,
                    "rowCount": 145646,
                    "usageDescription": "",
                    "jobId": 12,
                    "name": "showString at NativeMethodAccessorImpl.java:0",
                    "description": "Job group for statement 18:\ncomments = comments.cache()\nsubmissions = submissions.cache()\n\n# find the top 10 most common words in comments without cleaning\nwords = comments.select(explode(split(comments[\"body\"], \"\\s+\")).alias(\"word\")) # split the body column in words\nword_counts = words.groupBy(\"word\").count() # group by each word and count\ntop_10_words = word_counts.orderBy(desc(\"count\")).limit(10) # sort the words and take top 10\nprint(\"Top 10 Words in Comments\")\ntop_10_words.show()\n\n# find the top 10 most common words in submissions without cleaning\nwords = submissions.select(explode(split(submissions[\"selftext\"], \"\\s+\")).alias(\"word\")) # split the body column in words\nword_counts = words.groupBy(\"word\").count() # group by each word and count\ntop_10_words = word_counts.orderBy(desc(\"count\")).limit(10) # sort the words and take top 10\nprint(\"Top 10 Words in Submissions\")\ntop_10_words.show()",
                    "submissionTime": "2023-11-17T20:41:43.792GMT",
                    "completionTime": "2023-11-17T20:41:43.998GMT",
                    "stageIds": [
                      20,
                      21,
                      22
                    ],
                    "jobGroup": "18",
                    "status": "SUCCEEDED",
                    "numTasks": 20,
                    "numActiveTasks": 0,
                    "numCompletedTasks": 4,
                    "numSkippedTasks": 16,
                    "numFailedTasks": 0,
                    "numKilledTasks": 0,
                    "numCompletedIndices": 4,
                    "numActiveStages": 0,
                    "numCompletedStages": 2,
                    "numSkippedStages": 1,
                    "numFailedStages": 0,
                    "killedTasksSummary": {}
                  },
                  {
                    "displayName": "showString at NativeMethodAccessorImpl.java:0",
                    "dataWritten": 3606492,
                    "dataRead": 5415790,
                    "rowCount": 155390,
                    "usageDescription": "",
                    "jobId": 11,
                    "name": "showString at NativeMethodAccessorImpl.java:0",
                    "description": "Job group for statement 18:\ncomments = comments.cache()\nsubmissions = submissions.cache()\n\n# find the top 10 most common words in comments without cleaning\nwords = comments.select(explode(split(comments[\"body\"], \"\\s+\")).alias(\"word\")) # split the body column in words\nword_counts = words.groupBy(\"word\").count() # group by each word and count\ntop_10_words = word_counts.orderBy(desc(\"count\")).limit(10) # sort the words and take top 10\nprint(\"Top 10 Words in Comments\")\ntop_10_words.show()\n\n# find the top 10 most common words in submissions without cleaning\nwords = submissions.select(explode(split(submissions[\"selftext\"], \"\\s+\")).alias(\"word\")) # split the body column in words\nword_counts = words.groupBy(\"word\").count() # group by each word and count\ntop_10_words = word_counts.orderBy(desc(\"count\")).limit(10) # sort the words and take top 10\nprint(\"Top 10 Words in Submissions\")\ntop_10_words.show()",
                    "submissionTime": "2023-11-17T20:41:42.484GMT",
                    "completionTime": "2023-11-17T20:41:43.673GMT",
                    "stageIds": [
                      19
                    ],
                    "jobGroup": "18",
                    "status": "SUCCEEDED",
                    "numTasks": 16,
                    "numActiveTasks": 0,
                    "numCompletedTasks": 16,
                    "numSkippedTasks": 0,
                    "numFailedTasks": 0,
                    "numKilledTasks": 0,
                    "numCompletedIndices": 16,
                    "numActiveStages": 0,
                    "numCompletedStages": 1,
                    "numSkippedStages": 0,
                    "numFailedStages": 0,
                    "killedTasksSummary": {}
                  },
                  {
                    "displayName": "showString at NativeMethodAccessorImpl.java:0",
                    "dataWritten": 3830,
                    "dataRead": 22985129,
                    "rowCount": 1262758,
                    "usageDescription": "",
                    "jobId": 10,
                    "name": "showString at NativeMethodAccessorImpl.java:0",
                    "description": "Job group for statement 18:\ncomments = comments.cache()\nsubmissions = submissions.cache()\n\n# find the top 10 most common words in comments without cleaning\nwords = comments.select(explode(split(comments[\"body\"], \"\\s+\")).alias(\"word\")) # split the body column in words\nword_counts = words.groupBy(\"word\").count() # group by each word and count\ntop_10_words = word_counts.orderBy(desc(\"count\")).limit(10) # sort the words and take top 10\nprint(\"Top 10 Words in Comments\")\ntop_10_words.show()\n\n# find the top 10 most common words in submissions without cleaning\nwords = submissions.select(explode(split(submissions[\"selftext\"], \"\\s+\")).alias(\"word\")) # split the body column in words\nword_counts = words.groupBy(\"word\").count() # group by each word and count\ntop_10_words = word_counts.orderBy(desc(\"count\")).limit(10) # sort the words and take top 10\nprint(\"Top 10 Words in Submissions\")\ntop_10_words.show()",
                    "submissionTime": "2023-11-17T20:41:41.969GMT",
                    "completionTime": "2023-11-17T20:41:42.233GMT",
                    "stageIds": [
                      16,
                      17,
                      18
                    ],
                    "jobGroup": "18",
                    "status": "SUCCEEDED",
                    "numTasks": 33,
                    "numActiveTasks": 0,
                    "numCompletedTasks": 17,
                    "numSkippedTasks": 16,
                    "numFailedTasks": 0,
                    "numKilledTasks": 0,
                    "numCompletedIndices": 17,
                    "numActiveStages": 0,
                    "numCompletedStages": 2,
                    "numSkippedStages": 1,
                    "numFailedStages": 0,
                    "killedTasksSummary": {}
                  },
                  {
                    "displayName": "showString at NativeMethodAccessorImpl.java:0",
                    "dataWritten": 22981299,
                    "dataRead": 218221040,
                    "rowCount": 1262594,
                    "usageDescription": "",
                    "jobId": 9,
                    "name": "showString at NativeMethodAccessorImpl.java:0",
                    "description": "Job group for statement 18:\ncomments = comments.cache()\nsubmissions = submissions.cache()\n\n# find the top 10 most common words in comments without cleaning\nwords = comments.select(explode(split(comments[\"body\"], \"\\s+\")).alias(\"word\")) # split the body column in words\nword_counts = words.groupBy(\"word\").count() # group by each word and count\ntop_10_words = word_counts.orderBy(desc(\"count\")).limit(10) # sort the words and take top 10\nprint(\"Top 10 Words in Comments\")\ntop_10_words.show()\n\n# find the top 10 most common words in submissions without cleaning\nwords = submissions.select(explode(split(submissions[\"selftext\"], \"\\s+\")).alias(\"word\")) # split the body column in words\nword_counts = words.groupBy(\"word\").count() # group by each word and count\ntop_10_words = word_counts.orderBy(desc(\"count\")).limit(10) # sort the words and take top 10\nprint(\"Top 10 Words in Submissions\")\ntop_10_words.show()",
                    "submissionTime": "2023-11-17T20:41:39.082GMT",
                    "completionTime": "2023-11-17T20:41:41.913GMT",
                    "stageIds": [
                      15
                    ],
                    "jobGroup": "18",
                    "status": "SUCCEEDED",
                    "numTasks": 16,
                    "numActiveTasks": 0,
                    "numCompletedTasks": 16,
                    "numSkippedTasks": 0,
                    "numFailedTasks": 0,
                    "numKilledTasks": 0,
                    "numCompletedIndices": 16,
                    "numActiveStages": 0,
                    "numCompletedStages": 1,
                    "numSkippedStages": 0,
                    "numFailedStages": 0,
                    "killedTasksSummary": {}
                  }
                ],
                "limit": 20,
                "rule": "ALL_DESC"
              },
              "parent_msg_id": "c5f148e6-ecf4-43ee-9d6d-76cc224d582f"
            },
            "text/plain": "StatementMeta(d3c1b951-094c-48e1-919d-e32bc175397b, 26, 18, Finished, Available)"
          },
          "metadata": {}
        },
        {
          "output_type": "stream",
          "name": "stdout",
          "text": "Top 10 Words in Comments\n+----+------+\n|word| count|\n+----+------+\n| the|958778|\n|   a|599649|\n|  to|552908|\n| and|399550|\n|   I|386791|\n|  in|338734|\n|  is|333757|\n|  of|330328|\n|that|262082|\n| for|218723|\n+----+------+\n\nTop 10 Words in Submissions\n+--------------------+------+\n|                word| count|\n+--------------------+------+\n|                   ||235602|\n|                   -| 23506|\n|                 the| 23140|\n|                  to| 15876|\n|                   a| 14834|\n|-----------------...| 12805|\n|                  of| 10815|\n|                 and| 10239|\n|                  on|  9514|\n|                team|  7621|\n+--------------------+------+\n\n"
        }
      ],
      "execution_count": 17,
      "metadata": {
        "jupyter": {
          "source_hidden": false,
          "outputs_hidden": false
        },
        "nteract": {
          "transient": {
            "deleting": false
          }
        },
        "gather": {
          "logged": 1700253705572
        }
      }
    },
    {
      "cell_type": "markdown",
      "source": [
        "##### Distribution of Text Lengths"
      ],
      "metadata": {
        "nteract": {
          "transient": {
            "deleting": false
          }
        }
      }
    },
    {
      "cell_type": "code",
      "source": [
        "submissions_l = submissions.withColumn(\"selftext_word_count\", length(col(\"selftext\")))\n",
        "comments_l = comments.withColumn(\"body_word_count\", length(col(\"body\")))\n",
        "\n",
        "selftext_word_count = submissions_l.select(\"selftext_word_count\").rdd.flatMap(lambda x: x).collect()\n",
        "body_word_count = comments_l.select(\"body_word_count\").rdd.flatMap(lambda x: x).collect()\n",
        "\n",
        "plt.figure(figsize=(10, 5))\n",
        "\n",
        "plt.subplot(1, 2, 1)\n",
        "plt.hist(selftext_word_count, bins=20, color='blue')\n",
        "plt.title('Word Count in Submissions')\n",
        "plt.xlabel('Word Count')\n",
        "plt.ylabel('Frequency')\n",
        "\n",
        "plt.subplot(1, 2, 2)\n",
        "plt.hist(body_word_count, bins=20, color='purple')\n",
        "plt.title('Word Count in Comments')\n",
        "plt.xlabel('Word Count')\n",
        "plt.ylabel('Frequency')\n",
        "\n",
        "plt.show()"
      ],
      "outputs": [
        {
          "output_type": "display_data",
          "data": {
            "application/vnd.livy.statement-meta+json": {
              "spark_pool": "d3c1b951-094c-48e1-919d-e32bc175397b",
              "session_id": "26",
              "statement_id": 21,
              "state": "finished",
              "livy_statement_state": "available",
              "queued_time": "2023-11-17T20:45:44.8274007Z",
              "session_start_time": null,
              "execution_start_time": "2023-11-17T20:45:45.4776489Z",
              "execution_finish_time": "2023-11-17T20:45:58.1956166Z",
              "spark_jobs": {
                "numbers": {
                  "SUCCEEDED": 2,
                  "UNKNOWN": 0,
                  "FAILED": 0,
                  "RUNNING": 0
                },
                "jobs": [
                  {
                    "displayName": "collect at /tmp/ipykernel_10096/2772459046.py:5",
                    "dataWritten": 0,
                    "dataRead": 218221040,
                    "rowCount": 156,
                    "usageDescription": "",
                    "jobId": 18,
                    "name": "collect at /tmp/ipykernel_10096/2772459046.py:5",
                    "description": "Job group for statement 21:\nsubmissions_l = submissions.withColumn(\"selftext_word_count\", length(col(\"selftext\")))\ncomments_l = comments.withColumn(\"body_word_count\", length(col(\"body\")))\n\nselftext_word_count = submissions_l.select(\"selftext_word_count\").rdd.flatMap(lambda x: x).collect()\nbody_word_count = comments_l.select(\"body_word_count\").rdd.flatMap(lambda x: x).collect()\n\nplt.figure(figsize=(10, 5))\n\nplt.subplot(1, 2, 1)\nplt.hist(selftext_word_count, bins=20, color='blue')\nplt.title('Word Count in Submissions')\nplt.xlabel('Word Count')\nplt.ylabel('Frequency')\n\nplt.subplot(1, 2, 2)\nplt.hist(body_word_count, bins=20, color='purple')\nplt.title('Word Count in Comments')\nplt.xlabel('Word Count')\nplt.ylabel('Frequency')\n\nplt.show()",
                    "submissionTime": "2023-11-17T20:45:50.414GMT",
                    "completionTime": "2023-11-17T20:45:51.946GMT",
                    "stageIds": [
                      30
                    ],
                    "jobGroup": "21",
                    "status": "SUCCEEDED",
                    "numTasks": 16,
                    "numActiveTasks": 0,
                    "numCompletedTasks": 16,
                    "numSkippedTasks": 0,
                    "numFailedTasks": 0,
                    "numKilledTasks": 0,
                    "numCompletedIndices": 16,
                    "numActiveStages": 0,
                    "numCompletedStages": 1,
                    "numSkippedStages": 0,
                    "numFailedStages": 0,
                    "killedTasksSummary": {}
                  },
                  {
                    "displayName": "collect at /tmp/ipykernel_10096/2772459046.py:4",
                    "dataWritten": 0,
                    "dataRead": 12656240,
                    "rowCount": 16,
                    "usageDescription": "",
                    "jobId": 17,
                    "name": "collect at /tmp/ipykernel_10096/2772459046.py:4",
                    "description": "Job group for statement 21:\nsubmissions_l = submissions.withColumn(\"selftext_word_count\", length(col(\"selftext\")))\ncomments_l = comments.withColumn(\"body_word_count\", length(col(\"body\")))\n\nselftext_word_count = submissions_l.select(\"selftext_word_count\").rdd.flatMap(lambda x: x).collect()\nbody_word_count = comments_l.select(\"body_word_count\").rdd.flatMap(lambda x: x).collect()\n\nplt.figure(figsize=(10, 5))\n\nplt.subplot(1, 2, 1)\nplt.hist(selftext_word_count, bins=20, color='blue')\nplt.title('Word Count in Submissions')\nplt.xlabel('Word Count')\nplt.ylabel('Frequency')\n\nplt.subplot(1, 2, 2)\nplt.hist(body_word_count, bins=20, color='purple')\nplt.title('Word Count in Comments')\nplt.xlabel('Word Count')\nplt.ylabel('Frequency')\n\nplt.show()",
                    "submissionTime": "2023-11-17T20:45:45.603GMT",
                    "completionTime": "2023-11-17T20:45:50.350GMT",
                    "stageIds": [
                      29
                    ],
                    "jobGroup": "21",
                    "status": "SUCCEEDED",
                    "numTasks": 16,
                    "numActiveTasks": 0,
                    "numCompletedTasks": 16,
                    "numSkippedTasks": 0,
                    "numFailedTasks": 0,
                    "numKilledTasks": 0,
                    "numCompletedIndices": 16,
                    "numActiveStages": 0,
                    "numCompletedStages": 1,
                    "numSkippedStages": 0,
                    "numFailedStages": 0,
                    "killedTasksSummary": {}
                  }
                ],
                "limit": 20,
                "rule": "ALL_DESC"
              },
              "parent_msg_id": "cc67a1e5-83a8-459b-b81c-6d754522f50f"
            },
            "text/plain": "StatementMeta(d3c1b951-094c-48e1-919d-e32bc175397b, 26, 21, Finished, Available)"
          },
          "metadata": {}
        },
        {
          "output_type": "display_data",
          "data": {
            "text/plain": "<Figure size 720x360 with 2 Axes>",
            "image/png": "[encoded data removed]"
          },
          "metadata": {
            "needs_background": "light"
          }
        }
      ],
      "execution_count": 20,
      "metadata": {
        "jupyter": {
          "source_hidden": false,
          "outputs_hidden": false
        },
        "nteract": {
          "transient": {
            "deleting": false
          }
        },
        "gather": {
          "logged": 1700253958457
        }
      }
    },
    {
      "cell_type": "code",
      "source": [
        "# get average word count by day\n",
        "t = (\n",
        "    submissions\n",
        "    .filter(col(\"subreddit\") == \"CollegeBasketball\") # keep only college basketball subreddit\n",
        "    .withColumn(\"word_count\", size(split(col(\"selftext\"), \"\\\\s+\"))) # get size of selftext column split by spaces (# of words)\n",
        "    .groupBy(\"year\", \"month\", \"day\")  # group by day\n",
        "    .agg(avg(\"word_count\").alias(\"avg_words\")) # average number of words per day\n",
        ")\n",
        "q = (\n",
        "    comments\n",
        "    .filter(col(\"subreddit\") == \"CollegeBasketball\")  # keep only college basketball subreddit\n",
        "    .withColumn(\"word_count\", size(split(col(\"body\"), \"\\\\s+\"))) # get size of selftext column split by spaces (# of words)\n",
        "    .groupBy(\"year\", \"month\", \"day\")  # group by day\n",
        "    .agg(avg(\"word_count\").alias(\"avg_words\")) # average number of words per day\n",
        ")\n",
        "# convert grouped data to pandas\n",
        "df_s = t.toPandas()\n",
        "df = q.toPandas()\n",
        "df['date'] = pd.to_datetime(df[['year', 'month', 'day']])\n",
        "df = df.sort_values(by='date') \n",
        "\n",
        "df_s['date'] = pd.to_datetime(df_s[['year', 'month', 'day']])\n",
        "df_s = df_s.sort_values(by='date') \n",
        "\n",
        "# Plot average word count by day\n",
        "fig, (ax1, ax2) = plt.subplots(2, 1, figsize=(8, 10))\n",
        "ax1.plot(df['date'], df['avg_words'], linestyle='-', color = \"green\")\n",
        "ax2.plot(df_s['date'], df_s['avg_words'], linestyle='-')\n",
        "\n",
        "ax1.set_xlabel('Date')\n",
        "ax1.set_ylabel('Count')\n",
        "ax1.set_title('Average # of Words by Comment per Day (r/CollegeBasketball)', fontsize = 14)\n",
        "ax1.tick_params(axis='x', rotation=45)\n",
        "\n",
        "\n",
        "ax2.set_xlabel('Date')\n",
        "ax2.set_ylabel('Count')\n",
        "ax2.set_title('Average # of Words by Submission per Day (r/CollegeBasketball)', fontsize = 14)\n",
        "ax2.tick_params(axis='x', rotation=45)\n",
        "\n",
        "plt.tight_layout()\n",
        "plt.show()"
      ],
      "outputs": [
        {
          "output_type": "display_data",
          "data": {
            "application/vnd.livy.statement-meta+json": {
              "spark_pool": "d3c1b951-094c-48e1-919d-e32bc175397b",
              "session_id": "26",
              "statement_id": 19,
              "state": "finished",
              "livy_statement_state": "available",
              "queued_time": "2023-11-17T20:43:28.9658114Z",
              "session_start_time": null,
              "execution_start_time": "2023-11-17T20:43:29.0983793Z",
              "execution_finish_time": "2023-11-17T20:43:41.1905234Z",
              "spark_jobs": {
                "numbers": {
                  "SUCCEEDED": 4,
                  "UNKNOWN": 0,
                  "FAILED": 0,
                  "RUNNING": 0
                },
                "jobs": [
                  {
                    "displayName": "toPandas at /tmp/ipykernel_10096/4012679542.py:18",
                    "dataWritten": 0,
                    "dataRead": 205629,
                    "rowCount": 3553,
                    "usageDescription": "",
                    "jobId": 16,
                    "name": "toPandas at /tmp/ipykernel_10096/4012679542.py:18",
                    "description": "Job group for statement 19:\n# get average word count by day\nt = (\n    submissions\n    .filter(col(\"subreddit\") == \"CollegeBasketball\") # keep only college basketball subreddit\n    .withColumn(\"word_count\", size(split(col(\"selftext\"), \"\\s+\"))) # get size of selftext column split by spaces (# of words)\n    .groupBy(\"year\", \"month\", \"day\")  # group by day\n    .agg(avg(\"word_count\").alias(\"avg_words\")) # average number of words per day\n)\nq = (\n    comments\n    .filter(col(\"subreddit\") == \"CollegeBasketball\")  # keep only college basketball subreddit\n    .withColumn(\"word_count\", size(split(col(\"body\"), \"\\s+\"))) # get size of selftext column split by spaces (# of words)\n    .groupBy(\"year\", \"month\", \"day\")  # group by day\n    .agg(avg(\"word_count\").alias(\"avg_words\")) # average number of words per day\n)\n# convert grouped data to pandas\ndf_s = t.toPandas()\ndf = q.toPandas()\ndf['date'] = pd.to_datetime(df[['year', 'month', 'day']])\ndf = df.sort_values(by='date') \n\ndf_s['date'] = pd.to_datetime(df_s[['year', 'month', 'day']])\ndf_s = df_s.sort...",
                    "submissionTime": "2023-11-17T20:43:35.503GMT",
                    "completionTime": "2023-11-17T20:43:37.037GMT",
                    "stageIds": [
                      27,
                      28
                    ],
                    "jobGroup": "19",
                    "status": "SUCCEEDED",
                    "numTasks": 17,
                    "numActiveTasks": 0,
                    "numCompletedTasks": 1,
                    "numSkippedTasks": 16,
                    "numFailedTasks": 0,
                    "numKilledTasks": 0,
                    "numCompletedIndices": 1,
                    "numActiveStages": 0,
                    "numCompletedStages": 1,
                    "numSkippedStages": 1,
                    "numFailedStages": 0,
                    "killedTasksSummary": {}
                  },
                  {
                    "displayName": "toPandas at /tmp/ipykernel_10096/4012679542.py:18",
                    "dataWritten": 205629,
                    "dataRead": 218221040,
                    "rowCount": 3709,
                    "usageDescription": "",
                    "jobId": 15,
                    "name": "toPandas at /tmp/ipykernel_10096/4012679542.py:18",
                    "description": "Job group for statement 19:\n# get average word count by day\nt = (\n    submissions\n    .filter(col(\"subreddit\") == \"CollegeBasketball\") # keep only college basketball subreddit\n    .withColumn(\"word_count\", size(split(col(\"selftext\"), \"\\s+\"))) # get size of selftext column split by spaces (# of words)\n    .groupBy(\"year\", \"month\", \"day\")  # group by day\n    .agg(avg(\"word_count\").alias(\"avg_words\")) # average number of words per day\n)\nq = (\n    comments\n    .filter(col(\"subreddit\") == \"CollegeBasketball\")  # keep only college basketball subreddit\n    .withColumn(\"word_count\", size(split(col(\"body\"), \"\\s+\"))) # get size of selftext column split by spaces (# of words)\n    .groupBy(\"year\", \"month\", \"day\")  # group by day\n    .agg(avg(\"word_count\").alias(\"avg_words\")) # average number of words per day\n)\n# convert grouped data to pandas\ndf_s = t.toPandas()\ndf = q.toPandas()\ndf['date'] = pd.to_datetime(df[['year', 'month', 'day']])\ndf = df.sort_values(by='date') \n\ndf_s['date'] = pd.to_datetime(df_s[['year', 'month', 'day']])\ndf_s = df_s.sort...",
                    "submissionTime": "2023-11-17T20:43:33.231GMT",
                    "completionTime": "2023-11-17T20:43:35.468GMT",
                    "stageIds": [
                      26
                    ],
                    "jobGroup": "19",
                    "status": "SUCCEEDED",
                    "numTasks": 16,
                    "numActiveTasks": 0,
                    "numCompletedTasks": 16,
                    "numSkippedTasks": 0,
                    "numFailedTasks": 0,
                    "numKilledTasks": 0,
                    "numCompletedIndices": 16,
                    "numActiveStages": 0,
                    "numCompletedStages": 1,
                    "numSkippedStages": 0,
                    "numFailedStages": 0,
                    "killedTasksSummary": {}
                  },
                  {
                    "displayName": "toPandas at /tmp/ipykernel_10096/4012679542.py:17",
                    "dataWritten": 0,
                    "dataRead": 115047,
                    "rowCount": 1771,
                    "usageDescription": "",
                    "jobId": 14,
                    "name": "toPandas at /tmp/ipykernel_10096/4012679542.py:17",
                    "description": "Job group for statement 19:\n# get average word count by day\nt = (\n    submissions\n    .filter(col(\"subreddit\") == \"CollegeBasketball\") # keep only college basketball subreddit\n    .withColumn(\"word_count\", size(split(col(\"selftext\"), \"\\s+\"))) # get size of selftext column split by spaces (# of words)\n    .groupBy(\"year\", \"month\", \"day\")  # group by day\n    .agg(avg(\"word_count\").alias(\"avg_words\")) # average number of words per day\n)\nq = (\n    comments\n    .filter(col(\"subreddit\") == \"CollegeBasketball\")  # keep only college basketball subreddit\n    .withColumn(\"word_count\", size(split(col(\"body\"), \"\\s+\"))) # get size of selftext column split by spaces (# of words)\n    .groupBy(\"year\", \"month\", \"day\")  # group by day\n    .agg(avg(\"word_count\").alias(\"avg_words\")) # average number of words per day\n)\n# convert grouped data to pandas\ndf_s = t.toPandas()\ndf = q.toPandas()\ndf['date'] = pd.to_datetime(df[['year', 'month', 'day']])\ndf = df.sort_values(by='date') \n\ndf_s['date'] = pd.to_datetime(df_s[['year', 'month', 'day']])\ndf_s = df_s.sort...",
                    "submissionTime": "2023-11-17T20:43:31.647GMT",
                    "completionTime": "2023-11-17T20:43:32.901GMT",
                    "stageIds": [
                      24,
                      25
                    ],
                    "jobGroup": "19",
                    "status": "SUCCEEDED",
                    "numTasks": 17,
                    "numActiveTasks": 0,
                    "numCompletedTasks": 1,
                    "numSkippedTasks": 16,
                    "numFailedTasks": 0,
                    "numKilledTasks": 0,
                    "numCompletedIndices": 1,
                    "numActiveStages": 0,
                    "numCompletedStages": 1,
                    "numSkippedStages": 1,
                    "numFailedStages": 0,
                    "killedTasksSummary": {}
                  },
                  {
                    "displayName": "toPandas at /tmp/ipykernel_10096/4012679542.py:17",
                    "dataWritten": 115047,
                    "dataRead": 12656240,
                    "rowCount": 1787,
                    "usageDescription": "",
                    "jobId": 13,
                    "name": "toPandas at /tmp/ipykernel_10096/4012679542.py:17",
                    "description": "Job group for statement 19:\n# get average word count by day\nt = (\n    submissions\n    .filter(col(\"subreddit\") == \"CollegeBasketball\") # keep only college basketball subreddit\n    .withColumn(\"word_count\", size(split(col(\"selftext\"), \"\\s+\"))) # get size of selftext column split by spaces (# of words)\n    .groupBy(\"year\", \"month\", \"day\")  # group by day\n    .agg(avg(\"word_count\").alias(\"avg_words\")) # average number of words per day\n)\nq = (\n    comments\n    .filter(col(\"subreddit\") == \"CollegeBasketball\")  # keep only college basketball subreddit\n    .withColumn(\"word_count\", size(split(col(\"body\"), \"\\s+\"))) # get size of selftext column split by spaces (# of words)\n    .groupBy(\"year\", \"month\", \"day\")  # group by day\n    .agg(avg(\"word_count\").alias(\"avg_words\")) # average number of words per day\n)\n# convert grouped data to pandas\ndf_s = t.toPandas()\ndf = q.toPandas()\ndf['date'] = pd.to_datetime(df[['year', 'month', 'day']])\ndf = df.sort_values(by='date') \n\ndf_s['date'] = pd.to_datetime(df_s[['year', 'month', 'day']])\ndf_s = df_s.sort...",
                    "submissionTime": "2023-11-17T20:43:30.894GMT",
                    "completionTime": "2023-11-17T20:43:31.577GMT",
                    "stageIds": [
                      23
                    ],
                    "jobGroup": "19",
                    "status": "SUCCEEDED",
                    "numTasks": 16,
                    "numActiveTasks": 0,
                    "numCompletedTasks": 16,
                    "numSkippedTasks": 0,
                    "numFailedTasks": 0,
                    "numKilledTasks": 0,
                    "numCompletedIndices": 16,
                    "numActiveStages": 0,
                    "numCompletedStages": 1,
                    "numSkippedStages": 0,
                    "numFailedStages": 0,
                    "killedTasksSummary": {}
                  }
                ],
                "limit": 20,
                "rule": "ALL_DESC"
              },
              "parent_msg_id": "3aed4dc2-7e44-4b9c-8042-7953a05b03ab"
            },
            "text/plain": "StatementMeta(d3c1b951-094c-48e1-919d-e32bc175397b, 26, 19, Finished, Available)"
          },
          "metadata": {}
        },
        {
          "output_type": "display_data",
          "data": {
            "text/plain": "<Figure size 576x720 with 2 Axes>",
            "image/png": "[encoded data removed]"
          },
          "metadata": {
            "needs_background": "light"
          }
        }
      ],
      "execution_count": 18,
      "metadata": {
        "jupyter": {
          "source_hidden": false,
          "outputs_hidden": false
        },
        "nteract": {
          "transient": {
            "deleting": false
          }
        },
        "gather": {
          "logged": 1700253821439
        }
      }
    },
    {
      "cell_type": "markdown",
      "source": [
        "##### Most important words"
      ],
      "metadata": {
        "nteract": {
          "transient": {
            "deleting": false
          }
        }
      }
    },
    {
      "cell_type": "code",
      "source": [
        "# Step 3: Tokenize the text data\n",
        "tokenizer = Tokenizer(inputCol=\"text_column\", outputCol=\"words\")\n",
        "df = tokenizer.transform(df)\n",
        "\n",
        "# Step 4: Calculate Term Frequency (TF)\n",
        "cv = CountVectorizer(inputCol=\"words\", outputCol=\"raw_features\")\n",
        "model = cv.fit(df)\n",
        "df = model.transform(df)\n",
        "\n",
        "# Step 5: Calculate Inverse Document Frequency (IDF)\n",
        "idf = IDF(inputCol=\"raw_features\", outputCol=\"tf_idf_features\")\n",
        "idf_model = idf.fit(df)\n",
        "df = idf_model.transform(df)\n",
        "\n",
        "# Now, df contains the TF-IDF features in the \"tf_idf_features\" column\n",
        "\n",
        "# Optional: Select relevant columns if needed\n",
        "result_df = df.select(\"text_column\", \"tf_idf_features\")\n",
        "\n",
        "# Show the result\n",
        "result_df.show(truncate=False)"
      ],
      "outputs": [],
      "execution_count": null,
      "metadata": {
        "jupyter": {
          "source_hidden": false,
          "outputs_hidden": false
        },
        "nteract": {
          "transient": {
            "deleting": false
          }
        }
      }
    },
    {
      "cell_type": "markdown",
      "source": [
        "### Part 3\n",
        "#### Cleaning Text Data (Comments)"
      ],
      "metadata": {
        "nteract": {
          "transient": {
            "deleting": false
          }
        }
      }
    },
    {
      "cell_type": "code",
      "source": [
        "# Text Data Cleaning Pipeline\n",
        "\n",
        "# covert body of comments data to nlp document format\n",
        "document_assembler = (\n",
        "    DocumentAssembler()\n",
        "    .setInputCol(\"body\")\n",
        "    .setOutputCol(\"document\")\n",
        ")\n",
        "# split document into sentences\n",
        "sentence = (\n",
        "    SentenceDetectorDLModel.pretrained(\"sentence_detector_dl\", \"en\")\n",
        "    .setInputCols([\"document\"])\n",
        "    .setOutputCol(\"sentence\")\n",
        ")\n",
        "# tokenize the words in each sentence\n",
        "tokenizer = (\n",
        "    Tokenizer()\n",
        "    .setInputCols([\"sentence\"])\n",
        "    .setOutputCol(\"token\")\n",
        ")\n",
        "# remove common stopwords\n",
        "stop_words = (\n",
        "    StopWordsCleaner().pretrained(\"stopwords_iso\",\"en\")\n",
        "    .setInputCols([\"token\"])\n",
        "    .setOutputCol(\"cleanTokens\")\n",
        ")\n",
        "# normalize data (remove any digits or entries that are non-standard words, convert to lowercase)\n",
        "normalizer = (\n",
        "    Normalizer()\n",
        "    .setInputCols([\"cleanTokens\"])\n",
        "    .setOutputCol(\"normalizedTokens\")\n",
        "    .setLowercase(True)\n",
        ")\n",
        "# lemmatize the normalized tokens\n",
        "lemmatizer = (\n",
        "    LemmatizerModel.pretrained().setInputCols([\"normalizedTokens\"]).setOutputCol(\"lemma\")\n",
        ")\n",
        "# define pipeline\n",
        "pipeline = Pipeline(stages=[document_assembler, sentence, tokenizer, stop_words, normalizer, lemmatizer])\n",
        "\n",
        "# fit and transform comments data using the pipeline\n",
        "model = pipeline.fit(comments)\n",
        "comments_clean = model.transform(comments)\n",
        "\n",
        "# print the new clean_text\n",
        "comments_clean = comments_clean.withColumn(\"clean_text\", col(\"lemma.result\"))\n",
        "comments_clean.select(\"clean_text\").show()"
      ],
      "outputs": [
        {
          "output_type": "display_data",
          "data": {
            "application/vnd.livy.statement-meta+json": {
              "spark_pool": "d3c1b951-094c-48e1-919d-e32bc175397b",
              "session_id": "23",
              "statement_id": 24,
              "state": "finished",
              "livy_statement_state": "available",
              "queued_time": "2023-11-17T17:19:33.603216Z",
              "session_start_time": null,
              "execution_start_time": "2023-11-17T17:19:33.7236774Z",
              "execution_finish_time": "2023-11-17T17:19:45.9171185Z",
              "spark_jobs": {
                "numbers": {
                  "RUNNING": 0,
                  "SUCCEEDED": 0,
                  "FAILED": 0,
                  "UNKNOWN": 0
                },
                "jobs": [],
                "limit": 20,
                "rule": "ALL_DESC"
              },
              "parent_msg_id": "10a91dbd-5a2e-4fa2-9130-5a4cc3938f5f"
            },
            "text/plain": "StatementMeta(d3c1b951-094c-48e1-919d-e32bc175397b, 23, 24, Finished, Available)"
          },
          "metadata": {}
        },
        {
          "output_type": "stream",
          "name": "stdout",
          "text": "sentence_detector_dl download started this may take some time.\nApproximate size to download 354.6 KB\n[OK!]\nstopwords_iso download started this may take some time.\nApproximate size to download 2.1 KB\n[OK!]\nlemma_antbnc download started this may take some time.\nApproximate size to download 907.6 KB\n[OK!]\n"
        }
      ],
      "execution_count": 27,
      "metadata": {
        "jupyter": {
          "source_hidden": false,
          "outputs_hidden": false
        },
        "nteract": {
          "transient": {
            "deleting": false
          }
        },
        "gather": {
          "logged": 1700241586149
        }
      }
    },
    {
      "cell_type": "code",
      "source": [],
      "outputs": [
        {
          "output_type": "display_data",
          "data": {
            "application/vnd.livy.statement-meta+json": {
              "spark_pool": "d3c1b951-094c-48e1-919d-e32bc175397b",
              "session_id": "23",
              "statement_id": 26,
              "state": "finished",
              "livy_statement_state": "available",
              "queued_time": "2023-11-17T17:20:01.5899371Z",
              "session_start_time": null,
              "execution_start_time": "2023-11-17T17:20:01.7212633Z",
              "execution_finish_time": "2023-11-17T17:20:08.0312553Z",
              "spark_jobs": {
                "numbers": {
                  "RUNNING": 0,
                  "SUCCEEDED": 1,
                  "FAILED": 0,
                  "UNKNOWN": 0
                },
                "jobs": [
                  {
                    "displayName": "showString at NativeMethodAccessorImpl.java:0",
                    "dataWritten": 0,
                    "dataRead": 4723985,
                    "rowCount": 4096,
                    "usageDescription": "",
                    "jobId": 13,
                    "name": "showString at NativeMethodAccessorImpl.java:0",
                    "description": "Job group for statement 26:\ncomments_clean = comments_clean.withColumn(\"clean_text\", col(\"lemma.result\"))\ncomments_clean.select(\"clean_text\").show()",
                    "submissionTime": "2023-11-17T17:20:01.853GMT",
                    "completionTime": "2023-11-17T17:20:07.825GMT",
                    "stageIds": [
                      13
                    ],
                    "jobGroup": "26",
                    "status": "SUCCEEDED",
                    "numTasks": 1,
                    "numActiveTasks": 0,
                    "numCompletedTasks": 1,
                    "numSkippedTasks": 0,
                    "numFailedTasks": 0,
                    "numKilledTasks": 0,
                    "numCompletedIndices": 1,
                    "numActiveStages": 0,
                    "numCompletedStages": 1,
                    "numSkippedStages": 0,
                    "numFailedStages": 0,
                    "killedTasksSummary": {}
                  }
                ],
                "limit": 20,
                "rule": "ALL_DESC"
              },
              "parent_msg_id": "19559590-48ae-41c7-b896-ec914b56c419"
            },
            "text/plain": "StatementMeta(d3c1b951-094c-48e1-919d-e32bc175397b, 23, 26, Finished, Available)"
          },
          "metadata": {}
        },
        {
          "output_type": "stream",
          "name": "stdout",
          "text": "+--------------------+\n|          clean_text|\n+--------------------+\n|              [fall]|\n|[lol, forget, foo...|\n|[half, foul, aren...|\n|[like, creighton,...|\n|  [lose, apparently]|\n|[oklahoma, lose, ...|\n|[ah, miss, miss, ...|\n|[gonna, hour, gam...|\n|[miss, shots, ope...|\n|   [man, call, ucla]|\n|[high, iq, play, ...|\n|[yeesh, yeah, fou...|\n|               [bet]|\n|[northern, iowa, ...|\n|[check, busy, foo...|\n|          [be, roll]|\n|[lmao, im, watch,...|\n|      [attaway, cat]|\n|[glad, thread, in...|\n|      [pretty, cool]|\n+--------------------+\nonly showing top 20 rows\n\n"
        }
      ],
      "execution_count": 29,
      "metadata": {
        "jupyter": {
          "source_hidden": false,
          "outputs_hidden": false
        },
        "nteract": {
          "transient": {
            "deleting": false
          }
        },
        "gather": {
          "logged": 1700241608306
        }
      }
    },
    {
      "cell_type": "markdown",
      "source": [
        "##### Remove comments with less than 5 words"
      ],
      "metadata": {
        "nteract": {
          "transient": {
            "deleting": false
          }
        }
      }
    },
    {
      "cell_type": "code",
      "source": [
        "comments_clean = comments_clean.filter(size(col(\"clean_text\")) >= 5)\n",
        "print(\"Number of Comments after cleaning\", comments_clean.count())"
      ],
      "outputs": [
        {
          "output_type": "display_data",
          "data": {
            "application/vnd.livy.statement-meta+json": {
              "spark_pool": "d3c1b951-094c-48e1-919d-e32bc175397b",
              "session_id": "23",
              "statement_id": 27,
              "state": "finished",
              "livy_statement_state": "available",
              "queued_time": "2023-11-17T17:20:11.5858945Z",
              "session_start_time": null,
              "execution_start_time": "2023-11-17T17:20:11.7222351Z",
              "execution_finish_time": "2023-11-17T17:25:50.7282561Z",
              "spark_jobs": {
                "numbers": {
                  "RUNNING": 0,
                  "SUCCEEDED": 2,
                  "FAILED": 0,
                  "UNKNOWN": 0
                },
                "jobs": [
                  {
                    "displayName": "count at NativeMethodAccessorImpl.java:0",
                    "dataWritten": 0,
                    "dataRead": 944,
                    "rowCount": 16,
                    "usageDescription": "",
                    "jobId": 15,
                    "name": "count at NativeMethodAccessorImpl.java:0",
                    "description": "Job group for statement 27:\ncomments_clean = comments_clean.filter(size(col(\"clean_text\")) >= 5)\ncomments_clean.count()",
                    "submissionTime": "2023-11-17T17:25:49.987GMT",
                    "completionTime": "2023-11-17T17:25:50.241GMT",
                    "stageIds": [
                      15,
                      16
                    ],
                    "jobGroup": "27",
                    "status": "SUCCEEDED",
                    "numTasks": 17,
                    "numActiveTasks": 0,
                    "numCompletedTasks": 1,
                    "numSkippedTasks": 16,
                    "numFailedTasks": 0,
                    "numKilledTasks": 0,
                    "numCompletedIndices": 1,
                    "numActiveStages": 0,
                    "numCompletedStages": 1,
                    "numSkippedStages": 1,
                    "numFailedStages": 0,
                    "killedTasksSummary": {}
                  },
                  {
                    "displayName": "count at NativeMethodAccessorImpl.java:0",
                    "dataWritten": 944,
                    "dataRead": 96088488,
                    "rowCount": 1489891,
                    "usageDescription": "",
                    "jobId": 14,
                    "name": "count at NativeMethodAccessorImpl.java:0",
                    "description": "Job group for statement 27:\ncomments_clean = comments_clean.filter(size(col(\"clean_text\")) >= 5)\ncomments_clean.count()",
                    "submissionTime": "2023-11-17T17:20:12.183GMT",
                    "completionTime": "2023-11-17T17:25:49.892GMT",
                    "stageIds": [
                      14
                    ],
                    "jobGroup": "27",
                    "status": "SUCCEEDED",
                    "numTasks": 16,
                    "numActiveTasks": 0,
                    "numCompletedTasks": 16,
                    "numSkippedTasks": 0,
                    "numFailedTasks": 0,
                    "numKilledTasks": 0,
                    "numCompletedIndices": 16,
                    "numActiveStages": 0,
                    "numCompletedStages": 1,
                    "numSkippedStages": 0,
                    "numFailedStages": 0,
                    "killedTasksSummary": {}
                  }
                ],
                "limit": 20,
                "rule": "ALL_DESC"
              },
              "parent_msg_id": "57ddcd50-dcab-4c2d-aaff-127b0a5744c9"
            },
            "text/plain": "StatementMeta(d3c1b951-094c-48e1-919d-e32bc175397b, 23, 27, Finished, Available)"
          },
          "metadata": {}
        },
        {
          "output_type": "execute_result",
          "execution_count": 53,
          "data": {
            "text/plain": "869804"
          },
          "metadata": {}
        }
      ],
      "execution_count": 30,
      "metadata": {
        "jupyter": {
          "source_hidden": false,
          "outputs_hidden": false
        },
        "nteract": {
          "transient": {
            "deleting": false
          }
        },
        "gather": {
          "logged": 1700241950947
        }
      }
    },
    {
      "cell_type": "markdown",
      "source": [
        "##### Save cleaned comments data"
      ],
      "metadata": {
        "nteract": {
          "transient": {
            "deleting": false
          }
        }
      }
    },
    {
      "cell_type": "code",
      "source": [
        "\n",
        "workspace_default_storage_account = \"aml6214727930\"\n",
        "workspace_default_container = \"azureml-blobstore-6653633b-3460-4381-9199-d9e0f368353c\"\n",
        "\n",
        "workspace_wasbs_base_url = (\n",
        "    f\"wasbs://{workspace_default_container}@{workspace_default_storage_account}.blob.core.windows.net/\"\n",
        ")\n",
        "\n",
        "comments_clean = comments_clean.select('subreddit','author','author_flair_text','body','parent_id','link_id','id','created_utc','supported_team','day','month','year','clean_text')\n",
        "comments_clean.write.mode(\"overwrite\").parquet(f\"{workspace_wasbs_base_url}/basketball_comments_nlp.parquet\")"
      ],
      "outputs": [
        {
          "output_type": "display_data",
          "data": {
            "application/vnd.livy.statement-meta+json": {
              "spark_pool": "d3c1b951-094c-48e1-919d-e32bc175397b",
              "session_id": "23",
              "statement_id": 29,
              "state": "finished",
              "livy_statement_state": "available",
              "queued_time": "2023-11-17T17:33:56.4435901Z",
              "session_start_time": null,
              "execution_start_time": "2023-11-17T17:33:56.6474211Z",
              "execution_finish_time": "2023-11-17T17:44:11.5422469Z",
              "spark_jobs": {
                "numbers": {
                  "RUNNING": 0,
                  "SUCCEEDED": 1,
                  "FAILED": 0,
                  "UNKNOWN": 0
                },
                "jobs": [
                  {
                    "displayName": "parquet at NativeMethodAccessorImpl.java:0",
                    "dataWritten": 130639049,
                    "dataRead": 142864304,
                    "rowCount": 2359679,
                    "usageDescription": "",
                    "jobId": 16,
                    "name": "parquet at NativeMethodAccessorImpl.java:0",
                    "description": "Job group for statement 29:\nworkspace_default_storage_account = \"aml6214727930\"\nworkspace_default_container = \"azureml-blobstore-6653633b-3460-4381-9199-d9e0f368353c\"\n\nworkspace_wasbs_base_url = (\n    f\"wasbs://{workspace_default_container}@{workspace_default_storage_account}.blob.core.windows.net/\"\n)\n\ncomments_clean.write.mode(\"overwrite\").parquet(f\"{workspace_wasbs_base_url}/basketball_comments_nlp.parquet\")",
                    "submissionTime": "2023-11-17T17:33:56.991GMT",
                    "completionTime": "2023-11-17T17:44:09.933GMT",
                    "stageIds": [
                      17
                    ],
                    "jobGroup": "29",
                    "status": "SUCCEEDED",
                    "numTasks": 16,
                    "numActiveTasks": 0,
                    "numCompletedTasks": 16,
                    "numSkippedTasks": 0,
                    "numFailedTasks": 0,
                    "numKilledTasks": 0,
                    "numCompletedIndices": 16,
                    "numActiveStages": 0,
                    "numCompletedStages": 1,
                    "numSkippedStages": 0,
                    "numFailedStages": 0,
                    "killedTasksSummary": {}
                  }
                ],
                "limit": 20,
                "rule": "ALL_DESC"
              },
              "parent_msg_id": "2a4ff7e1-af96-49ab-b6d3-155164b800b5"
            },
            "text/plain": "StatementMeta(d3c1b951-094c-48e1-919d-e32bc175397b, 23, 29, Finished, Available)"
          },
          "metadata": {}
        }
      ],
      "execution_count": 32,
      "metadata": {
        "jupyter": {
          "source_hidden": false,
          "outputs_hidden": false
        },
        "nteract": {
          "transient": {
            "deleting": false
          }
        },
        "gather": {
          "logged": 1700243051794
        }
      }
    },
    {
      "cell_type": "markdown",
      "source": [
        "#### Cleaning Text Data Submissions"
      ],
      "metadata": {
        "nteract": {
          "transient": {
            "deleting": false
          }
        }
      }
    },
    {
      "cell_type": "code",
      "source": [
        "# Text Data Cleaning Pipeline\n",
        "\n",
        "# covert selftext of submissions data to nlp document format\n",
        "document_assembler = (\n",
        "    DocumentAssembler()\n",
        "    .setInputCol(\"selftext\")\n",
        "    .setOutputCol(\"document\")\n",
        ")\n",
        "# split document into sentences\n",
        "sentence = (\n",
        "    SentenceDetectorDLModel.pretrained(\"sentence_detector_dl\", \"en\")\n",
        "    .setInputCols([\"document\"])\n",
        "    .setOutputCol(\"sentence\")\n",
        ")\n",
        "# tokenize the words in each sentence\n",
        "tokenizer = (\n",
        "    Tokenizer()\n",
        "    .setInputCols([\"sentence\"])\n",
        "    .setOutputCol(\"token\")\n",
        ")\n",
        "# remove common stopwords\n",
        "stop_words = (\n",
        "    StopWordsCleaner().pretrained(\"stopwords_iso\",\"en\")\n",
        "    .setInputCols([\"token\"])\n",
        "    .setOutputCol(\"cleanTokens\")\n",
        ")\n",
        "# normalize data (remove any digits or entries that are non-standard words, convert to lowercase)\n",
        "normalizer = (\n",
        "    Normalizer()\n",
        "    .setInputCols([\"cleanTokens\"])\n",
        "    .setOutputCol(\"normalizedTokens\")\n",
        "    .setLowercase(True)\n",
        ")\n",
        "# lemmatize the normalized tokens\n",
        "lemmatizer = (\n",
        "    LemmatizerModel.pretrained().setInputCols([\"normalizedTokens\"]).setOutputCol(\"lemma\")\n",
        ")\n",
        "# define pipeline\n",
        "pipeline = Pipeline(stages=[document_assembler, sentence, tokenizer, stop_words, normalizer, lemmatizer])\n",
        "\n",
        "# fit and transform submissions data using the pipeline\n",
        "model = pipeline.fit(submissions)\n",
        "submissions_clean = model.transform(submissions)\n",
        "\n",
        "# print the new clean_text\n",
        "submissions_clean = submissions_clean.withColumn(\"clean_text\", col(\"lemma.result\"))\n",
        "submissions_clean.select(\"clean_text\").show()"
      ],
      "outputs": [
        {
          "output_type": "display_data",
          "data": {
            "application/vnd.livy.statement-meta+json": {
              "spark_pool": "d3c1b951-094c-48e1-919d-e32bc175397b",
              "session_id": "23",
              "statement_id": 31,
              "state": "finished",
              "livy_statement_state": "available",
              "queued_time": "2023-11-17T17:44:18.9657244Z",
              "session_start_time": null,
              "execution_start_time": "2023-11-17T17:44:19.081546Z",
              "execution_finish_time": "2023-11-17T17:44:31.2050098Z",
              "spark_jobs": {
                "numbers": {
                  "RUNNING": 0,
                  "SUCCEEDED": 0,
                  "FAILED": 0,
                  "UNKNOWN": 0
                },
                "jobs": [],
                "limit": 20,
                "rule": "ALL_DESC"
              },
              "parent_msg_id": "eb4abb30-81d0-4ca5-a5f3-4e747051cd31"
            },
            "text/plain": "StatementMeta(d3c1b951-094c-48e1-919d-e32bc175397b, 23, 31, Finished, Available)"
          },
          "metadata": {}
        },
        {
          "output_type": "stream",
          "name": "stdout",
          "text": "sentence_detector_dl download started this may take some time.\nApproximate size to download 354.6 KB\n[OK!]\nstopwords_iso download started this may take some time.\nApproximate size to download 2.1 KB\n[OK!]\nlemma_antbnc download started this may take some time.\nApproximate size to download 907.6 KB\n[OK!]\n"
        }
      ],
      "execution_count": 34,
      "metadata": {
        "jupyter": {
          "source_hidden": false,
          "outputs_hidden": false
        },
        "nteract": {
          "transient": {
            "deleting": false
          }
        },
        "gather": {
          "logged": 1700243071409
        }
      }
    },
    {
      "cell_type": "code",
      "source": [],
      "outputs": [
        {
          "output_type": "display_data",
          "data": {
            "application/vnd.livy.statement-meta+json": {
              "spark_pool": "d3c1b951-094c-48e1-919d-e32bc175397b",
              "session_id": "23",
              "statement_id": 34,
              "state": "finished",
              "livy_statement_state": "available",
              "queued_time": "2023-11-17T17:44:44.3547721Z",
              "session_start_time": null,
              "execution_start_time": "2023-11-17T17:44:44.4937208Z",
              "execution_finish_time": "2023-11-17T17:44:45.9989413Z",
              "spark_jobs": {
                "numbers": {
                  "RUNNING": 0,
                  "SUCCEEDED": 1,
                  "FAILED": 0,
                  "UNKNOWN": 0
                },
                "jobs": [
                  {
                    "displayName": "showString at NativeMethodAccessorImpl.java:0",
                    "dataWritten": 0,
                    "dataRead": 3343632,
                    "rowCount": 1,
                    "usageDescription": "",
                    "jobId": 18,
                    "name": "showString at NativeMethodAccessorImpl.java:0",
                    "description": "Job group for statement 34:\nsubmissions_clean = submissions_clean.withColumn(\"clean_text\", col(\"lemma.result\"))\nsubmissions_clean.select(\"clean_text\").show()",
                    "submissionTime": "2023-11-17T17:44:44.689GMT",
                    "completionTime": "2023-11-17T17:44:45.706GMT",
                    "stageIds": [
                      19
                    ],
                    "jobGroup": "34",
                    "status": "SUCCEEDED",
                    "numTasks": 1,
                    "numActiveTasks": 0,
                    "numCompletedTasks": 1,
                    "numSkippedTasks": 0,
                    "numFailedTasks": 0,
                    "numKilledTasks": 0,
                    "numCompletedIndices": 1,
                    "numActiveStages": 0,
                    "numCompletedStages": 1,
                    "numSkippedStages": 0,
                    "numFailedStages": 0,
                    "killedTasksSummary": {}
                  }
                ],
                "limit": 20,
                "rule": "ALL_DESC"
              },
              "parent_msg_id": "4c89697a-d881-4e8a-8028-98f8f3240cdb"
            },
            "text/plain": "StatementMeta(d3c1b951-094c-48e1-919d-e32bc175397b, 23, 34, Finished, Available)"
          },
          "metadata": {}
        },
        {
          "output_type": "stream",
          "name": "stdout",
          "text": "+--------------------+\n|          clean_text|\n+--------------------+\n|[hello, rcollegeb...|\n|[new, game, stupi...|\n|[it, free, talk, ...|\n|[nebraskafnebrask...|\n|[kansas, statefka...|\n|[alabamafalabama,...|\n|[san, diego, stat...|\n|[hello, march, ma...|\n|[sorry, hijack, i...|\n|[note, purdue, re...|\n|[sunday, new, eli...|\n|[rankteam, place,...|\n|[think, iowa, win...|\n|[rank, game, time...|\n|[rankings, team, ...|\n|[remove, view, po...|\n|[texasftexas, sta...|\n|[ut, martinfutmar...|\n|[ut, arlingtonfut...|\n|[smufsmu, new, me...|\n+--------------------+\nonly showing top 20 rows\n\n"
        }
      ],
      "execution_count": 37,
      "metadata": {
        "jupyter": {
          "source_hidden": false,
          "outputs_hidden": false
        },
        "nteract": {
          "transient": {
            "deleting": false
          }
        },
        "gather": {
          "logged": 1700243086230
        }
      }
    },
    {
      "cell_type": "code",
      "source": [
        "submissions_clean = submissions_clean.filter(size(col(\"clean_text\")) >= 5)\n",
        "print(\"Number of Submissions after cleaning\", submissions_clean.count())"
      ],
      "outputs": [
        {
          "output_type": "display_data",
          "data": {
            "application/vnd.livy.statement-meta+json": {
              "spark_pool": "d3c1b951-094c-48e1-919d-e32bc175397b",
              "session_id": "23",
              "statement_id": 35,
              "state": "finished",
              "livy_statement_state": "available",
              "queued_time": "2023-11-17T17:44:52.4749268Z",
              "session_start_time": null,
              "execution_start_time": "2023-11-17T17:44:52.5968988Z",
              "execution_finish_time": "2023-11-17T17:46:02.3825837Z",
              "spark_jobs": {
                "numbers": {
                  "RUNNING": 0,
                  "SUCCEEDED": 2,
                  "FAILED": 0,
                  "UNKNOWN": 0
                },
                "jobs": [
                  {
                    "displayName": "count at NativeMethodAccessorImpl.java:0",
                    "dataWritten": 0,
                    "dataRead": 944,
                    "rowCount": 16,
                    "usageDescription": "",
                    "jobId": 20,
                    "name": "count at NativeMethodAccessorImpl.java:0",
                    "description": "Job group for statement 35:\nsubmissions_clean = submissions_clean.filter(size(col(\"clean_text\")) >= 5)\nsubmissions_clean.count()",
                    "submissionTime": "2023-11-17T17:46:00.279GMT",
                    "completionTime": "2023-11-17T17:46:00.446GMT",
                    "stageIds": [
                      21,
                      22
                    ],
                    "jobGroup": "35",
                    "status": "SUCCEEDED",
                    "numTasks": 17,
                    "numActiveTasks": 0,
                    "numCompletedTasks": 1,
                    "numSkippedTasks": 16,
                    "numFailedTasks": 0,
                    "numKilledTasks": 0,
                    "numCompletedIndices": 1,
                    "numActiveStages": 0,
                    "numCompletedStages": 1,
                    "numSkippedStages": 1,
                    "numFailedStages": 0,
                    "killedTasksSummary": {}
                  },
                  {
                    "displayName": "count at NativeMethodAccessorImpl.java:0",
                    "dataWritten": 944,
                    "dataRead": 7447304,
                    "rowCount": 8061,
                    "usageDescription": "",
                    "jobId": 19,
                    "name": "count at NativeMethodAccessorImpl.java:0",
                    "description": "Job group for statement 35:\nsubmissions_clean = submissions_clean.filter(size(col(\"clean_text\")) >= 5)\nsubmissions_clean.count()",
                    "submissionTime": "2023-11-17T17:44:52.738GMT",
                    "completionTime": "2023-11-17T17:46:00.255GMT",
                    "stageIds": [
                      20
                    ],
                    "jobGroup": "35",
                    "status": "SUCCEEDED",
                    "numTasks": 16,
                    "numActiveTasks": 0,
                    "numCompletedTasks": 16,
                    "numSkippedTasks": 0,
                    "numFailedTasks": 0,
                    "numKilledTasks": 0,
                    "numCompletedIndices": 16,
                    "numActiveStages": 0,
                    "numCompletedStages": 1,
                    "numSkippedStages": 0,
                    "numFailedStages": 0,
                    "killedTasksSummary": {}
                  }
                ],
                "limit": 20,
                "rule": "ALL_DESC"
              },
              "parent_msg_id": "c83c210a-86e5-43c1-9a2e-708e155b114f"
            },
            "text/plain": "StatementMeta(d3c1b951-094c-48e1-919d-e32bc175397b, 23, 35, Finished, Available)"
          },
          "metadata": {}
        },
        {
          "output_type": "execute_result",
          "execution_count": 69,
          "data": {
            "text/plain": "9163"
          },
          "metadata": {}
        }
      ],
      "execution_count": 38,
      "metadata": {
        "jupyter": {
          "source_hidden": false,
          "outputs_hidden": false
        },
        "nteract": {
          "transient": {
            "deleting": false
          }
        },
        "gather": {
          "logged": 1700243162853
        }
      }
    },
    {
      "cell_type": "markdown",
      "source": [
        "##### Saving clean submissions data"
      ],
      "metadata": {
        "nteract": {
          "transient": {
            "deleting": false
          }
        }
      }
    },
    {
      "cell_type": "code",
      "source": [
        "submissions_clean = submissions_clean.select('subreddit','author','author_flair_text','title','selftext','created_utc','num_comments','supported_team','game_thread','home_ranking','home_team','away_ranking','away_team','game_time','ranked_matchup','day','month','year','clean_text')\n",
        "submissions_clean.write.mode(\"overwrite\").parquet(f\"{workspace_wasbs_base_url}/basketball_submissions_nlp.parquet\")"
      ],
      "outputs": [
        {
          "output_type": "display_data",
          "data": {
            "application/vnd.livy.statement-meta+json": {
              "spark_pool": "d3c1b951-094c-48e1-919d-e32bc175397b",
              "session_id": "23",
              "statement_id": 37,
              "state": "finished",
              "livy_statement_state": "available",
              "queued_time": "2023-11-17T17:46:11.0816296Z",
              "session_start_time": null,
              "execution_start_time": "2023-11-17T17:46:12.8184925Z",
              "execution_finish_time": "2023-11-17T17:48:28.3477264Z",
              "spark_jobs": {
                "numbers": {
                  "RUNNING": 0,
                  "SUCCEEDED": 1,
                  "FAILED": 0,
                  "UNKNOWN": 0
                },
                "jobs": [
                  {
                    "displayName": "parquet at NativeMethodAccessorImpl.java:0",
                    "dataWritten": 6076323,
                    "dataRead": 12656240,
                    "rowCount": 9179,
                    "usageDescription": "",
                    "jobId": 21,
                    "name": "parquet at NativeMethodAccessorImpl.java:0",
                    "description": "Job group for statement 37:\nsubmissions_clean.write.mode(\"overwrite\").parquet(f\"{workspace_wasbs_base_url}/basketball_submissions_nlp.parquet\")",
                    "submissionTime": "2023-11-17T17:46:11.497GMT",
                    "completionTime": "2023-11-17T17:48:26.857GMT",
                    "stageIds": [
                      23
                    ],
                    "jobGroup": "37",
                    "status": "SUCCEEDED",
                    "numTasks": 16,
                    "numActiveTasks": 0,
                    "numCompletedTasks": 16,
                    "numSkippedTasks": 0,
                    "numFailedTasks": 0,
                    "numKilledTasks": 0,
                    "numCompletedIndices": 16,
                    "numActiveStages": 0,
                    "numCompletedStages": 1,
                    "numSkippedStages": 0,
                    "numFailedStages": 0,
                    "killedTasksSummary": {}
                  }
                ],
                "limit": 20,
                "rule": "ALL_DESC"
              },
              "parent_msg_id": "f923c4bd-8368-402b-8bab-179bd6d8f878"
            },
            "text/plain": "StatementMeta(d3c1b951-094c-48e1-919d-e32bc175397b, 23, 37, Finished, Available)"
          },
          "metadata": {}
        }
      ],
      "execution_count": 40,
      "metadata": {
        "jupyter": {
          "source_hidden": false,
          "outputs_hidden": false
        },
        "nteract": {
          "transient": {
            "deleting": false
          }
        },
        "gather": {
          "logged": 1700243308801
        }
      }
    },
    {
      "cell_type": "markdown",
      "source": [
        "### Part 4: Looking at Top words after cleaning"
      ],
      "metadata": {
        "nteract": {
          "transient": {
            "deleting": false
          }
        }
      }
    }
  ],
  "metadata": {
    "kernelspec": {
      "name": "synapse_pyspark",
      "language": "Python",
      "display_name": "Synapse PySpark"
    },
    "language_info": {
      "name": "python",
      "version": "3.8.0",
      "mimetype": "text/x-python",
      "file_extension": ".py",
      "pygments_lexer": "ipython",
      "codemirror_mode": "ipython",
      "nbconvert_exporter": "python"
    },
    "microsoft": {
      "ms_spell_check": {
        "ms_spell_check_language": "en"
      },
      "host": {
        "AzureML": {
          "notebookHasBeenCompleted": true
        }
      }
    },
    "kernel_info": {
      "name": "synapse_pyspark"
    },
    "nteract": {
      "version": "nteract-front-end@1.0.0"
    }
  },
  "nbformat": 4,
  "nbformat_minor": 2
}
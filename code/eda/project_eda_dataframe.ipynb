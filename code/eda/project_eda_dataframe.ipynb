{
  "cells": [
    {
      "cell_type": "code",
      "source": [
        "spark"
      ],
      "outputs": [
        {
          "output_type": "display_data",
          "data": {
            "application/vnd.livy.statement-meta+json": {
              "spark_pool": null,
              "session_id": null,
              "statement_id": null,
              "state": "waiting",
              "livy_statement_state": null,
              "queued_time": "2023-11-28T18:35:15.5078916Z",
              "session_start_time": "2023-11-28T18:35:15.5445636Z",
              "execution_start_time": null,
              "execution_finish_time": null,
              "spark_jobs": null,
              "parent_msg_id": "42bfa60c-efa6-4bf8-a19f-429adcf5d16a"
            },
            "text/plain": "StatementMeta(, , , Waiting, )"
          },
          "metadata": {}
        },
        {
          "output_type": "execute_result",
          "execution_count": 13,
          "data": {
            "text/plain": "<pyspark.sql.session.SparkSession at 0x7f87d275b8e0>",
            "text/html": "\n            <div>\n                <p><b>SparkSession - hive</b></p>\n                \n        <div>\n            <p><b>SparkContext</b></p>\n\n            <p><a href=\"http://vm-09b55326:43917\">Spark UI</a></p>\n\n            <dl>\n              <dt>Version</dt>\n                <dd><code>v3.2.2.5.1-100879434</code></dd>\n              <dt>Master</dt>\n                <dd><code>yarn</code></dd>\n              <dt>AppName</dt>\n                <dd><code>Azure ML Experiment</code></dd>\n            </dl>\n        </div>\n        \n            </div>\n        "
          },
          "metadata": {}
        }
      ],
      "execution_count": 1,
      "metadata": {
        "gather": {
          "logged": 1701196605504
        }
      }
    },
    {
      "cell_type": "code",
      "source": [
        "## Necessary Libraries\n",
        "import pandas as pd\n",
        "import matplotlib.pyplot as plt\n",
        "import seaborn as sns\n",
        "from pyspark.sql.functions import *"
      ],
      "outputs": [
        {
          "output_type": "display_data",
          "data": {
            "application/vnd.livy.statement-meta+json": {
              "spark_pool": "d3c1b951-094c-48e1-919d-e32bc175397b",
              "session_id": "42",
              "statement_id": 8,
              "state": "finished",
              "livy_statement_state": "available",
              "queued_time": "2023-11-28T18:36:48.3990572Z",
              "session_start_time": null,
              "execution_start_time": "2023-11-28T18:36:48.5088512Z",
              "execution_finish_time": "2023-11-28T18:36:53.3438243Z",
              "spark_jobs": {
                "numbers": {
                  "FAILED": 0,
                  "RUNNING": 0,
                  "UNKNOWN": 0,
                  "SUCCEEDED": 0
                },
                "jobs": [],
                "limit": 20,
                "rule": "ALL_DESC"
              },
              "parent_msg_id": "68936900-7277-4b46-bd14-c5d329cd8231"
            },
            "text/plain": "StatementMeta(d3c1b951-094c-48e1-919d-e32bc175397b, 42, 8, Finished, Available)"
          },
          "metadata": {}
        }
      ],
      "execution_count": 2,
      "metadata": {
        "jupyter": {
          "source_hidden": false,
          "outputs_hidden": false
        },
        "nteract": {
          "transient": {
            "deleting": false
          }
        },
        "gather": {
          "logged": 1701196613538
        }
      }
    },
    {
      "cell_type": "markdown",
      "source": [
        "### Loading Intermediate Data\n",
        "\n",
        "Here we load the intermediate data which includes 2 datasets: `Comments` and `Submissions`. These datasets include all the Reddit posts between September 2021 and April 2022 (The approximate length of the College Basketball Season). No additional cleaning has already been done on this data "
      ],
      "metadata": {
        "nteract": {
          "transient": {
            "deleting": false
          }
        }
      }
    },
    {
      "cell_type": "code",
      "source": [
        "workspace_default_storage_account = \"aml6214727930\"\n",
        "workspace_default_container = \"azureml-blobstore-6653633b-3460-4381-9199-d9e0f368353c\"\n",
        "\n",
        "workspace_wasbs_base_url = (\n",
        "    f\"wasbs://{workspace_default_container}@{workspace_default_storage_account}.blob.core.windows.net/\"\n",
        ")\n"
      ],
      "outputs": [
        {
          "output_type": "display_data",
          "data": {
            "application/vnd.livy.statement-meta+json": {
              "spark_pool": "d3c1b951-094c-48e1-919d-e32bc175397b",
              "session_id": "42",
              "statement_id": 9,
              "state": "finished",
              "livy_statement_state": "available",
              "queued_time": "2023-11-28T18:36:53.1456295Z",
              "session_start_time": null,
              "execution_start_time": "2023-11-28T18:36:53.4596075Z",
              "execution_finish_time": "2023-11-28T18:36:53.7661022Z",
              "spark_jobs": {
                "numbers": {
                  "FAILED": 0,
                  "RUNNING": 0,
                  "UNKNOWN": 0,
                  "SUCCEEDED": 0
                },
                "jobs": [],
                "limit": 20,
                "rule": "ALL_DESC"
              },
              "parent_msg_id": "ff08c0be-977a-4c33-8750-05c59e20272b"
            },
            "text/plain": "StatementMeta(d3c1b951-094c-48e1-919d-e32bc175397b, 42, 9, Finished, Available)"
          },
          "metadata": {}
        }
      ],
      "execution_count": 3,
      "metadata": {
        "jupyter": {
          "source_hidden": false,
          "outputs_hidden": false
        },
        "nteract": {
          "transient": {
            "deleting": false
          }
        },
        "gather": {
          "logged": 1701196613946
        }
      }
    },
    {
      "cell_type": "code",
      "source": [
        "comments_path = \"/basketball_comments_sep_v2.parquet\"\n",
        "submissions_path = \"/basketball_submissions_sep.parquet\"\n",
        "\n",
        "comments = spark.read.parquet(f\"{workspace_wasbs_base_url}{comments_path}\")\n",
        "submissions = spark.read.parquet(f\"{workspace_wasbs_base_url}{submissions_path}\")"
      ],
      "outputs": [
        {
          "output_type": "display_data",
          "data": {
            "application/vnd.livy.statement-meta+json": {
              "spark_pool": "d3c1b951-094c-48e1-919d-e32bc175397b",
              "session_id": "42",
              "statement_id": 10,
              "state": "finished",
              "livy_statement_state": "available",
              "queued_time": "2023-11-28T18:36:57.6404285Z",
              "session_start_time": null,
              "execution_start_time": "2023-11-28T18:36:57.749191Z",
              "execution_finish_time": "2023-11-28T18:37:12.2656972Z",
              "spark_jobs": {
                "numbers": {
                  "FAILED": 0,
                  "RUNNING": 0,
                  "UNKNOWN": 0,
                  "SUCCEEDED": 2
                },
                "jobs": [
                  {
                    "displayName": "parquet at NativeMethodAccessorImpl.java:0",
                    "dataWritten": 0,
                    "dataRead": 0,
                    "rowCount": 0,
                    "usageDescription": "",
                    "jobId": 1,
                    "name": "parquet at NativeMethodAccessorImpl.java:0",
                    "description": "Job group for statement 10:\ncomments_path = \"/basketball_comments_sep_v2.parquet\"\nsubmissions_path = \"/basketball_submissions_sep.parquet\"\n\ncomments = spark.read.parquet(f\"{workspace_wasbs_base_url}{comments_path}\")\nsubmissions = spark.read.parquet(f\"{workspace_wasbs_base_url}{submissions_path}\")",
                    "submissionTime": "2023-11-28T18:37:07.820GMT",
                    "completionTime": "2023-11-28T18:37:10.696GMT",
                    "stageIds": [
                      1
                    ],
                    "jobGroup": "10",
                    "status": "SUCCEEDED",
                    "numTasks": 1,
                    "numActiveTasks": 0,
                    "numCompletedTasks": 1,
                    "numSkippedTasks": 0,
                    "numFailedTasks": 0,
                    "numKilledTasks": 0,
                    "numCompletedIndices": 1,
                    "numActiveStages": 0,
                    "numCompletedStages": 1,
                    "numSkippedStages": 0,
                    "numFailedStages": 0,
                    "killedTasksSummary": {}
                  },
                  {
                    "displayName": "parquet at NativeMethodAccessorImpl.java:0",
                    "dataWritten": 0,
                    "dataRead": 0,
                    "rowCount": 0,
                    "usageDescription": "",
                    "jobId": 0,
                    "name": "parquet at NativeMethodAccessorImpl.java:0",
                    "description": "Job group for statement 10:\ncomments_path = \"/basketball_comments_sep_v2.parquet\"\nsubmissions_path = \"/basketball_submissions_sep.parquet\"\n\ncomments = spark.read.parquet(f\"{workspace_wasbs_base_url}{comments_path}\")\nsubmissions = spark.read.parquet(f\"{workspace_wasbs_base_url}{submissions_path}\")",
                    "submissionTime": "2023-11-28T18:37:00.657GMT",
                    "completionTime": "2023-11-28T18:37:04.987GMT",
                    "stageIds": [
                      0
                    ],
                    "jobGroup": "10",
                    "status": "SUCCEEDED",
                    "numTasks": 1,
                    "numActiveTasks": 0,
                    "numCompletedTasks": 1,
                    "numSkippedTasks": 0,
                    "numFailedTasks": 0,
                    "numKilledTasks": 0,
                    "numCompletedIndices": 1,
                    "numActiveStages": 0,
                    "numCompletedStages": 1,
                    "numSkippedStages": 0,
                    "numFailedStages": 0,
                    "killedTasksSummary": {}
                  }
                ],
                "limit": 20,
                "rule": "ALL_DESC"
              },
              "parent_msg_id": "660b17a6-7109-41bc-a3c3-cd01db8ae479"
            },
            "text/plain": "StatementMeta(d3c1b951-094c-48e1-919d-e32bc175397b, 42, 10, Finished, Available)"
          },
          "metadata": {}
        }
      ],
      "execution_count": 4,
      "metadata": {
        "jupyter": {
          "source_hidden": false,
          "outputs_hidden": false
        },
        "nteract": {
          "transient": {
            "deleting": false
          }
        },
        "gather": {
          "logged": 1701196632494
        }
      }
    },
    {
      "cell_type": "markdown",
      "source": [
        "### Exploring the Data"
      ],
      "metadata": {
        "nteract": {
          "transient": {
            "deleting": false
          }
        }
      }
    },
    {
      "cell_type": "code",
      "source": [
        "submissions = submissions.cache()\n",
        "comments = comments.cache()"
      ],
      "outputs": [
        {
          "output_type": "display_data",
          "data": {
            "application/vnd.livy.statement-meta+json": {
              "spark_pool": "d3c1b951-094c-48e1-919d-e32bc175397b",
              "session_id": "42",
              "statement_id": 11,
              "state": "finished",
              "livy_statement_state": "available",
              "queued_time": "2023-11-28T18:37:15.9943302Z",
              "session_start_time": null,
              "execution_start_time": "2023-11-28T18:37:16.1124365Z",
              "execution_finish_time": "2023-11-28T18:37:17.637224Z",
              "spark_jobs": {
                "numbers": {
                  "FAILED": 0,
                  "RUNNING": 0,
                  "UNKNOWN": 0,
                  "SUCCEEDED": 0
                },
                "jobs": [],
                "limit": 20,
                "rule": "ALL_DESC"
              },
              "parent_msg_id": "fca64779-26e8-41bb-8ae8-7fc268c9f74f"
            },
            "text/plain": "StatementMeta(d3c1b951-094c-48e1-919d-e32bc175397b, 42, 11, Finished, Available)"
          },
          "metadata": {}
        }
      ],
      "execution_count": 5,
      "metadata": {
        "jupyter": {
          "source_hidden": false,
          "outputs_hidden": false
        },
        "nteract": {
          "transient": {
            "deleting": false
          }
        },
        "gather": {
          "logged": 1701196637871
        }
      }
    },
    {
      "cell_type": "markdown",
      "source": [
        "#### Data Shape and Schema\n",
        "\n",
        "The breakdown of the 3 subreddits by number of posts is heavily imbalanced as is expected. In submissions there are just over 22,000 posts and in comments there are just over 1,575,000 comments. The majority of these posts come from the CollegeBasketball subreddit. "
      ],
      "metadata": {
        "nteract": {
          "transient": {
            "deleting": false
          }
        }
      }
    },
    {
      "cell_type": "code",
      "source": [
        "print(\"Count of Submissions by Subreddit\")\n",
        "print(submissions.groupBy('subreddit').count().show())\n",
        "\n",
        "print(\"Count of Comments by Subreddit\")\n",
        "print(comments.groupBy('subreddit').count().show())"
      ],
      "outputs": [
        {
          "output_type": "display_data",
          "data": {
            "application/vnd.livy.statement-meta+json": {
              "spark_pool": "d3c1b951-094c-48e1-919d-e32bc175397b",
              "session_id": "14",
              "statement_id": 13,
              "state": "finished",
              "livy_statement_state": "available",
              "queued_time": "2023-11-07T16:46:03.9867842Z",
              "session_start_time": null,
              "execution_start_time": "2023-11-07T16:46:04.1212955Z",
              "execution_finish_time": "2023-11-07T16:47:22.5066285Z",
              "spark_jobs": {
                "numbers": {
                  "RUNNING": 0,
                  "SUCCEEDED": 4,
                  "FAILED": 0,
                  "UNKNOWN": 0
                },
                "jobs": [
                  {
                    "displayName": "showString at NativeMethodAccessorImpl.java:0",
                    "dataWritten": 0,
                    "dataRead": 39894,
                    "rowCount": 516,
                    "usageDescription": "",
                    "jobId": 7,
                    "name": "showString at NativeMethodAccessorImpl.java:0",
                    "description": "Job group for statement 13:\nprint(\"Count of Submissions by Subreddit\")\nprint(submissions.groupBy('subreddit').count().show())\n\nprint(\"Count of Comments by Subreddit\")\nprint(comments.groupBy('subreddit').count().show())",
                    "submissionTime": "2023-11-07T16:47:21.217GMT",
                    "completionTime": "2023-11-07T16:47:21.426GMT",
                    "stageIds": [
                      9,
                      10
                    ],
                    "jobGroup": "13",
                    "status": "SUCCEEDED",
                    "numTasks": 183,
                    "numActiveTasks": 0,
                    "numCompletedTasks": 1,
                    "numSkippedTasks": 182,
                    "numFailedTasks": 0,
                    "numKilledTasks": 0,
                    "numCompletedIndices": 1,
                    "numActiveStages": 0,
                    "numCompletedStages": 1,
                    "numSkippedStages": 1,
                    "numFailedStages": 0,
                    "killedTasksSummary": {}
                  },
                  {
                    "displayName": "showString at NativeMethodAccessorImpl.java:0",
                    "dataWritten": 39894,
                    "dataRead": 192935219,
                    "rowCount": 1575686,
                    "usageDescription": "",
                    "jobId": 6,
                    "name": "showString at NativeMethodAccessorImpl.java:0",
                    "description": "Job group for statement 13:\nprint(\"Count of Submissions by Subreddit\")\nprint(submissions.groupBy('subreddit').count().show())\n\nprint(\"Count of Comments by Subreddit\")\nprint(comments.groupBy('subreddit').count().show())",
                    "submissionTime": "2023-11-07T16:46:25.353GMT",
                    "completionTime": "2023-11-07T16:47:21.125GMT",
                    "stageIds": [
                      8
                    ],
                    "jobGroup": "13",
                    "status": "SUCCEEDED",
                    "numTasks": 182,
                    "numActiveTasks": 0,
                    "numCompletedTasks": 182,
                    "numSkippedTasks": 0,
                    "numFailedTasks": 0,
                    "numKilledTasks": 0,
                    "numCompletedIndices": 182,
                    "numActiveStages": 0,
                    "numCompletedStages": 1,
                    "numSkippedStages": 0,
                    "numFailedStages": 0,
                    "killedTasksSummary": {}
                  },
                  {
                    "displayName": "showString at NativeMethodAccessorImpl.java:0",
                    "dataWritten": 0,
                    "dataRead": 14533,
                    "rowCount": 189,
                    "usageDescription": "",
                    "jobId": 5,
                    "name": "showString at NativeMethodAccessorImpl.java:0",
                    "description": "Job group for statement 13:\nprint(\"Count of Submissions by Subreddit\")\nprint(submissions.groupBy('subreddit').count().show())\n\nprint(\"Count of Comments by Subreddit\")\nprint(comments.groupBy('subreddit').count().show())",
                    "submissionTime": "2023-11-07T16:46:24.746GMT",
                    "completionTime": "2023-11-07T16:46:25.092GMT",
                    "stageIds": [
                      6,
                      7
                    ],
                    "jobGroup": "13",
                    "status": "SUCCEEDED",
                    "numTasks": 65,
                    "numActiveTasks": 0,
                    "numCompletedTasks": 1,
                    "numSkippedTasks": 64,
                    "numFailedTasks": 0,
                    "numKilledTasks": 0,
                    "numCompletedIndices": 1,
                    "numActiveStages": 0,
                    "numCompletedStages": 1,
                    "numSkippedStages": 1,
                    "numFailedStages": 0,
                    "killedTasksSummary": {}
                  },
                  {
                    "displayName": "showString at NativeMethodAccessorImpl.java:0",
                    "dataWritten": 14533,
                    "dataRead": 19785875,
                    "rowCount": 22341,
                    "usageDescription": "",
                    "jobId": 4,
                    "name": "showString at NativeMethodAccessorImpl.java:0",
                    "description": "Job group for statement 13:\nprint(\"Count of Submissions by Subreddit\")\nprint(submissions.groupBy('subreddit').count().show())\n\nprint(\"Count of Comments by Subreddit\")\nprint(comments.groupBy('subreddit').count().show())",
                    "submissionTime": "2023-11-07T16:46:04.465GMT",
                    "completionTime": "2023-11-07T16:46:24.447GMT",
                    "stageIds": [
                      5
                    ],
                    "jobGroup": "13",
                    "status": "SUCCEEDED",
                    "numTasks": 64,
                    "numActiveTasks": 0,
                    "numCompletedTasks": 64,
                    "numSkippedTasks": 0,
                    "numFailedTasks": 0,
                    "numKilledTasks": 0,
                    "numCompletedIndices": 64,
                    "numActiveStages": 0,
                    "numCompletedStages": 1,
                    "numSkippedStages": 0,
                    "numFailedStages": 0,
                    "killedTasksSummary": {}
                  }
                ],
                "limit": 20,
                "rule": "ALL_DESC"
              },
              "parent_msg_id": "6bab632e-5a20-4966-8af2-9accf855185a"
            },
            "text/plain": "StatementMeta(d3c1b951-094c-48e1-919d-e32bc175397b, 14, 13, Finished, Available)"
          },
          "metadata": {}
        },
        {
          "output_type": "stream",
          "name": "stdout",
          "text": "Count of Submissions by Subreddit\n+-----------------+-----+\n|        subreddit|count|\n+-----------------+-----+\n|         jayhawks|  632|\n|CollegeBasketball|21290|\n|         tarheels|  230|\n+-----------------+-----+\n\nNone\nCount of Comments by Subreddit\n+-----------------+-------+\n|        subreddit|  count|\n+-----------------+-------+\n|         jayhawks|   6541|\n|CollegeBasketball|1567801|\n|         tarheels|    828|\n+-----------------+-------+\n\nNone\n"
        }
      ],
      "execution_count": 8,
      "metadata": {
        "jupyter": {
          "source_hidden": false,
          "outputs_hidden": false
        },
        "nteract": {
          "transient": {
            "deleting": false
          }
        },
        "gather": {
          "logged": 1699375642672
        }
      }
    },
    {
      "cell_type": "markdown",
      "source": [
        "The important variables in the submissions dataframe are \n",
        "\n",
        "1. `subreddit`: The Subreddit that the post is in\n",
        "2. `author` : Who authored the post\n",
        "3. `selftext` : The contents of the post\n",
        "4. `created_utc` : The timestamp of the post\n",
        "\n",
        "The important variables in the comments dataframe are \n",
        "\n",
        "1. `subreddit`: The Subreddit that the post is in\n",
        "2. `author` : Who authored the post\n",
        "3. `body` : The contents of the post\n",
        "4. `created_utc` : The timestamp of the post"
      ],
      "metadata": {
        "nteract": {
          "transient": {
            "deleting": false
          }
        }
      }
    },
    {
      "cell_type": "code",
      "source": [
        "print(\"Submissions Schema\")\n",
        "submissions.printSchema()\n",
        "\n",
        "print(\"Comments Schema\")\n",
        "comments.printSchema()"
      ],
      "outputs": [
        {
          "output_type": "display_data",
          "data": {
            "application/vnd.livy.statement-meta+json": {
              "spark_pool": "d3c1b951-094c-48e1-919d-e32bc175397b",
              "session_id": "42",
              "statement_id": 12,
              "state": "finished",
              "livy_statement_state": "available",
              "queued_time": "2023-11-28T18:37:25.5822751Z",
              "session_start_time": null,
              "execution_start_time": "2023-11-28T18:37:25.6810357Z",
              "execution_finish_time": "2023-11-28T18:37:26.010902Z",
              "spark_jobs": {
                "numbers": {
                  "FAILED": 0,
                  "RUNNING": 0,
                  "UNKNOWN": 0,
                  "SUCCEEDED": 0
                },
                "jobs": [],
                "limit": 20,
                "rule": "ALL_DESC"
              },
              "parent_msg_id": "441efc1a-13a3-4240-9c9e-011e10594dc7"
            },
            "text/plain": "StatementMeta(d3c1b951-094c-48e1-919d-e32bc175397b, 42, 12, Finished, Available)"
          },
          "metadata": {}
        },
        {
          "output_type": "stream",
          "name": "stdout",
          "text": "Submissions Schema\nroot\n |-- subreddit: string (nullable = true)\n |-- author: string (nullable = true)\n |-- author_flair_text: string (nullable = true)\n |-- title: string (nullable = true)\n |-- selftext: string (nullable = true)\n |-- created_utc: timestamp (nullable = true)\n |-- num_comments: long (nullable = true)\n\nComments Schema\nroot\n |-- subreddit: string (nullable = true)\n |-- author: string (nullable = true)\n |-- author_flair_text: string (nullable = true)\n |-- body: string (nullable = true)\n |-- parent_id: string (nullable = true)\n |-- link_id: string (nullable = true)\n |-- id: string (nullable = true)\n |-- created_utc: timestamp (nullable = true)\n |-- score: long (nullable = true)\n\n"
        }
      ],
      "execution_count": 6,
      "metadata": {
        "jupyter": {
          "source_hidden": false,
          "outputs_hidden": false
        },
        "nteract": {
          "transient": {
            "deleting": false
          }
        },
        "gather": {
          "logged": 1701196646478
        }
      }
    },
    {
      "cell_type": "markdown",
      "source": [
        "#### Missing Data\n",
        "\n",
        "Since Reddit is a user driven platform there will likely be issues with missing text in posts or deleted posts/comments. Lets check for missing data before we proceed."
      ],
      "metadata": {
        "nteract": {
          "transient": {
            "deleting": false
          }
        }
      }
    },
    {
      "cell_type": "code",
      "source": [
        "# Submissions\n",
        "missing_values = [\"\", \"[deleted]\", \"[removed]\"]\n",
        "missing_df = submissions.withColumn(\"selftext\", when(col(\"selftext\").isin(missing_values), None).otherwise(col(\"selftext\")))\n",
        "missing_data_count = missing_df.filter(col(\"selftext\").isNull()).count()\n",
        "print(\"Missing Text Column in Submissions =\",missing_data_count)\n",
        "# Comments\n",
        "missing_df_c = comments.withColumn(\"body\", when(col(\"body\").isin(missing_values), None).otherwise(col(\"body\")))\n",
        "missing_data_count = missing_df_c.filter(col(\"body\").isNull()).count()\n",
        "print(\"Missing Text Column in Comments =\",missing_data_count)"
      ],
      "outputs": [
        {
          "output_type": "display_data",
          "data": {
            "application/vnd.livy.statement-meta+json": {
              "spark_pool": "d3c1b951-094c-48e1-919d-e32bc175397b",
              "session_id": "42",
              "statement_id": 13,
              "state": "finished",
              "livy_statement_state": "available",
              "queued_time": "2023-11-28T18:37:39.0504955Z",
              "session_start_time": null,
              "execution_start_time": "2023-11-28T18:37:39.1551896Z",
              "execution_finish_time": "2023-11-28T18:38:29.63756Z",
              "spark_jobs": {
                "numbers": {
                  "FAILED": 0,
                  "RUNNING": 0,
                  "UNKNOWN": 0,
                  "SUCCEEDED": 4
                },
                "jobs": [
                  {
                    "displayName": "count at NativeMethodAccessorImpl.java:0",
                    "dataWritten": 0,
                    "dataRead": 10737,
                    "rowCount": 182,
                    "usageDescription": "",
                    "jobId": 5,
                    "name": "count at NativeMethodAccessorImpl.java:0",
                    "description": "Job group for statement 13:\n# Submissions\nmissing_values = [\"\", \"[deleted]\", \"[removed]\"]\nmissing_df = submissions.withColumn(\"selftext\", when(col(\"selftext\").isin(missing_values), None).otherwise(col(\"selftext\")))\nmissing_data_count = missing_df.filter(col(\"selftext\").isNull()).count()\nprint(\"Missing Text Column in Submissions =\",missing_data_count)\n# Comments\nmissing_df_c = comments.withColumn(\"body\", when(col(\"body\").isin(missing_values), None).otherwise(col(\"body\")))\nmissing_data_count = missing_df_c.filter(col(\"body\").isNull()).count()\nprint(\"Missing Text Column in Comments =\",missing_data_count)",
                    "submissionTime": "2023-11-28T18:38:27.291GMT",
                    "completionTime": "2023-11-28T18:38:27.955GMT",
                    "stageIds": [
                      6,
                      7
                    ],
                    "jobGroup": "13",
                    "status": "SUCCEEDED",
                    "numTasks": 183,
                    "numActiveTasks": 0,
                    "numCompletedTasks": 1,
                    "numSkippedTasks": 182,
                    "numFailedTasks": 0,
                    "numKilledTasks": 0,
                    "numCompletedIndices": 1,
                    "numActiveStages": 0,
                    "numCompletedStages": 1,
                    "numSkippedStages": 1,
                    "numFailedStages": 0,
                    "killedTasksSummary": {}
                  },
                  {
                    "displayName": "count at NativeMethodAccessorImpl.java:0",
                    "dataWritten": 10737,
                    "dataRead": 198661671,
                    "rowCount": 1575352,
                    "usageDescription": "",
                    "jobId": 4,
                    "name": "count at NativeMethodAccessorImpl.java:0",
                    "description": "Job group for statement 13:\n# Submissions\nmissing_values = [\"\", \"[deleted]\", \"[removed]\"]\nmissing_df = submissions.withColumn(\"selftext\", when(col(\"selftext\").isin(missing_values), None).otherwise(col(\"selftext\")))\nmissing_data_count = missing_df.filter(col(\"selftext\").isNull()).count()\nprint(\"Missing Text Column in Submissions =\",missing_data_count)\n# Comments\nmissing_df_c = comments.withColumn(\"body\", when(col(\"body\").isin(missing_values), None).otherwise(col(\"body\")))\nmissing_data_count = missing_df_c.filter(col(\"body\").isNull()).count()\nprint(\"Missing Text Column in Comments =\",missing_data_count)",
                    "submissionTime": "2023-11-28T18:37:57.459GMT",
                    "completionTime": "2023-11-28T18:38:27.238GMT",
                    "stageIds": [
                      5
                    ],
                    "jobGroup": "13",
                    "status": "SUCCEEDED",
                    "numTasks": 182,
                    "numActiveTasks": 0,
                    "numCompletedTasks": 182,
                    "numSkippedTasks": 0,
                    "numFailedTasks": 0,
                    "numKilledTasks": 0,
                    "numCompletedIndices": 182,
                    "numActiveStages": 0,
                    "numCompletedStages": 1,
                    "numSkippedStages": 0,
                    "numFailedStages": 0,
                    "killedTasksSummary": {}
                  },
                  {
                    "displayName": "count at NativeMethodAccessorImpl.java:0",
                    "dataWritten": 0,
                    "dataRead": 3776,
                    "rowCount": 64,
                    "usageDescription": "",
                    "jobId": 3,
                    "name": "count at NativeMethodAccessorImpl.java:0",
                    "description": "Job group for statement 13:\n# Submissions\nmissing_values = [\"\", \"[deleted]\", \"[removed]\"]\nmissing_df = submissions.withColumn(\"selftext\", when(col(\"selftext\").isin(missing_values), None).otherwise(col(\"selftext\")))\nmissing_data_count = missing_df.filter(col(\"selftext\").isNull()).count()\nprint(\"Missing Text Column in Submissions =\",missing_data_count)\n# Comments\nmissing_df_c = comments.withColumn(\"body\", when(col(\"body\").isin(missing_values), None).otherwise(col(\"body\")))\nmissing_data_count = missing_df_c.filter(col(\"body\").isNull()).count()\nprint(\"Missing Text Column in Comments =\",missing_data_count)",
                    "submissionTime": "2023-11-28T18:37:56.578GMT",
                    "completionTime": "2023-11-28T18:37:56.903GMT",
                    "stageIds": [
                      3,
                      4
                    ],
                    "jobGroup": "13",
                    "status": "SUCCEEDED",
                    "numTasks": 65,
                    "numActiveTasks": 0,
                    "numCompletedTasks": 1,
                    "numSkippedTasks": 64,
                    "numFailedTasks": 0,
                    "numKilledTasks": 0,
                    "numCompletedIndices": 1,
                    "numActiveStages": 0,
                    "numCompletedStages": 1,
                    "numSkippedStages": 1,
                    "numFailedStages": 0,
                    "killedTasksSummary": {}
                  },
                  {
                    "displayName": "count at NativeMethodAccessorImpl.java:0",
                    "dataWritten": 3776,
                    "dataRead": 20654375,
                    "rowCount": 22216,
                    "usageDescription": "",
                    "jobId": 2,
                    "name": "count at NativeMethodAccessorImpl.java:0",
                    "description": "Job group for statement 13:\n# Submissions\nmissing_values = [\"\", \"[deleted]\", \"[removed]\"]\nmissing_df = submissions.withColumn(\"selftext\", when(col(\"selftext\").isin(missing_values), None).otherwise(col(\"selftext\")))\nmissing_data_count = missing_df.filter(col(\"selftext\").isNull()).count()\nprint(\"Missing Text Column in Submissions =\",missing_data_count)\n# Comments\nmissing_df_c = comments.withColumn(\"body\", when(col(\"body\").isin(missing_values), None).otherwise(col(\"body\")))\nmissing_data_count = missing_df_c.filter(col(\"body\").isNull()).count()\nprint(\"Missing Text Column in Comments =\",missing_data_count)",
                    "submissionTime": "2023-11-28T18:37:40.652GMT",
                    "completionTime": "2023-11-28T18:37:56.460GMT",
                    "stageIds": [
                      2
                    ],
                    "jobGroup": "13",
                    "status": "SUCCEEDED",
                    "numTasks": 64,
                    "numActiveTasks": 0,
                    "numCompletedTasks": 64,
                    "numSkippedTasks": 0,
                    "numFailedTasks": 0,
                    "numKilledTasks": 0,
                    "numCompletedIndices": 64,
                    "numActiveStages": 0,
                    "numCompletedStages": 1,
                    "numSkippedStages": 0,
                    "numFailedStages": 0,
                    "killedTasksSummary": {}
                  }
                ],
                "limit": 20,
                "rule": "ALL_DESC"
              },
              "parent_msg_id": "593c4a0c-dc0b-4bd3-8d6f-c7e7542c61ae"
            },
            "text/plain": "StatementMeta(d3c1b951-094c-48e1-919d-e32bc175397b, 42, 13, Finished, Available)"
          },
          "metadata": {}
        },
        {
          "output_type": "stream",
          "name": "stdout",
          "text": "Missing Text Column in Submissions = 12348\nMissing Text Column in Comments = 85295\n"
        }
      ],
      "execution_count": 7,
      "metadata": {
        "jupyter": {
          "source_hidden": false,
          "outputs_hidden": false
        },
        "nteract": {
          "transient": {
            "deleting": false
          }
        },
        "gather": {
          "logged": 1701196709861
        }
      }
    },
    {
      "cell_type": "markdown",
      "source": [
        "There are over 12,000 missing posts in `Submissions` and around 85,000 missing comments in `Comments`. We will remove these before doing further analysis"
      ],
      "metadata": {
        "nteract": {
          "transient": {
            "deleting": false
          }
        }
      }
    },
    {
      "cell_type": "code",
      "source": [
        "submissions = missing_df.na.drop(subset=[\"selftext\"])\n",
        "comments = missing_df_c.na.drop(subset = [\"body\"])"
      ],
      "outputs": [
        {
          "output_type": "display_data",
          "data": {
            "application/vnd.livy.statement-meta+json": {
              "spark_pool": "d3c1b951-094c-48e1-919d-e32bc175397b",
              "session_id": "42",
              "statement_id": 14,
              "state": "finished",
              "livy_statement_state": "available",
              "queued_time": "2023-11-28T18:37:42.7782143Z",
              "session_start_time": null,
              "execution_start_time": "2023-11-28T18:38:29.7853257Z",
              "execution_finish_time": "2023-11-28T18:38:30.0945026Z",
              "spark_jobs": {
                "numbers": {
                  "FAILED": 0,
                  "RUNNING": 0,
                  "UNKNOWN": 0,
                  "SUCCEEDED": 0
                },
                "jobs": [],
                "limit": 20,
                "rule": "ALL_DESC"
              },
              "parent_msg_id": "e0c9a1b6-5ede-4327-ad2b-4867c5973e9b"
            },
            "text/plain": "StatementMeta(d3c1b951-094c-48e1-919d-e32bc175397b, 42, 14, Finished, Available)"
          },
          "metadata": {}
        }
      ],
      "execution_count": 8,
      "metadata": {
        "jupyter": {
          "source_hidden": false,
          "outputs_hidden": false
        },
        "nteract": {
          "transient": {
            "deleting": false
          }
        },
        "gather": {
          "logged": 1701196710269
        }
      }
    },
    {
      "cell_type": "markdown",
      "source": [
        "The new counts of the subreddits with missing removed show about half of the submission data remaining, but a large portion of the comments data is intact."
      ],
      "metadata": {
        "nteract": {
          "transient": {
            "deleting": false
          }
        }
      }
    },
    {
      "cell_type": "code",
      "source": [
        "print(\"Count of Submissions by Subreddit with Missing Removed\")\n",
        "print(submissions.groupBy('subreddit').count().show())\n",
        "\n",
        "print(\"Count of Comments by Subreddit with Missing Removed\")\n",
        "print(comments.groupBy('subreddit').count().show())"
      ],
      "outputs": [
        {
          "output_type": "display_data",
          "data": {
            "application/vnd.livy.statement-meta+json": {
              "spark_pool": "d3c1b951-094c-48e1-919d-e32bc175397b",
              "session_id": "42",
              "statement_id": 15,
              "state": "finished",
              "livy_statement_state": "available",
              "queued_time": "2023-11-28T18:38:33.9280403Z",
              "session_start_time": null,
              "execution_start_time": "2023-11-28T18:38:34.0468305Z",
              "execution_finish_time": "2023-11-28T18:38:37.6168068Z",
              "spark_jobs": {
                "numbers": {
                  "FAILED": 0,
                  "RUNNING": 0,
                  "UNKNOWN": 0,
                  "SUCCEEDED": 4
                },
                "jobs": [
                  {
                    "displayName": "showString at NativeMethodAccessorImpl.java:0",
                    "dataWritten": 0,
                    "dataRead": 39835,
                    "rowCount": 515,
                    "usageDescription": "",
                    "jobId": 9,
                    "name": "showString at NativeMethodAccessorImpl.java:0",
                    "description": "Job group for statement 15:\nprint(\"Count of Submissions by Subreddit with Missing Removed\")\nprint(submissions.groupBy('subreddit').count().show())\n\nprint(\"Count of Comments by Subreddit with Missing Removed\")\nprint(comments.groupBy('subreddit').count().show())",
                    "submissionTime": "2023-11-28T18:38:37.169GMT",
                    "completionTime": "2023-11-28T18:38:37.297GMT",
                    "stageIds": [
                      12,
                      13
                    ],
                    "jobGroup": "15",
                    "status": "SUCCEEDED",
                    "numTasks": 183,
                    "numActiveTasks": 0,
                    "numCompletedTasks": 1,
                    "numSkippedTasks": 182,
                    "numFailedTasks": 0,
                    "numKilledTasks": 0,
                    "numCompletedIndices": 1,
                    "numActiveStages": 0,
                    "numCompletedStages": 1,
                    "numSkippedStages": 1,
                    "numFailedStages": 0,
                    "killedTasksSummary": {}
                  },
                  {
                    "displayName": "showString at NativeMethodAccessorImpl.java:0",
                    "dataWritten": 39835,
                    "dataRead": 222223249,
                    "rowCount": 789,
                    "usageDescription": "",
                    "jobId": 8,
                    "name": "showString at NativeMethodAccessorImpl.java:0",
                    "description": "Job group for statement 15:\nprint(\"Count of Submissions by Subreddit with Missing Removed\")\nprint(submissions.groupBy('subreddit').count().show())\n\nprint(\"Count of Comments by Subreddit with Missing Removed\")\nprint(comments.groupBy('subreddit').count().show())",
                    "submissionTime": "2023-11-28T18:38:36.093GMT",
                    "completionTime": "2023-11-28T18:38:37.055GMT",
                    "stageIds": [
                      11
                    ],
                    "jobGroup": "15",
                    "status": "SUCCEEDED",
                    "numTasks": 182,
                    "numActiveTasks": 0,
                    "numCompletedTasks": 182,
                    "numSkippedTasks": 0,
                    "numFailedTasks": 0,
                    "numKilledTasks": 0,
                    "numCompletedIndices": 182,
                    "numActiveStages": 0,
                    "numCompletedStages": 1,
                    "numSkippedStages": 0,
                    "numFailedStages": 0,
                    "killedTasksSummary": {}
                  },
                  {
                    "displayName": "showString at NativeMethodAccessorImpl.java:0",
                    "dataWritten": 0,
                    "dataRead": 11079,
                    "rowCount": 141,
                    "usageDescription": "",
                    "jobId": 7,
                    "name": "showString at NativeMethodAccessorImpl.java:0",
                    "description": "Job group for statement 15:\nprint(\"Count of Submissions by Subreddit with Missing Removed\")\nprint(submissions.groupBy('subreddit').count().show())\n\nprint(\"Count of Comments by Subreddit with Missing Removed\")\nprint(comments.groupBy('subreddit').count().show())",
                    "submissionTime": "2023-11-28T18:38:35.728GMT",
                    "completionTime": "2023-11-28T18:38:35.921GMT",
                    "stageIds": [
                      9,
                      10
                    ],
                    "jobGroup": "15",
                    "status": "SUCCEEDED",
                    "numTasks": 65,
                    "numActiveTasks": 0,
                    "numCompletedTasks": 1,
                    "numSkippedTasks": 64,
                    "numFailedTasks": 0,
                    "numKilledTasks": 0,
                    "numCompletedIndices": 1,
                    "numActiveStages": 0,
                    "numCompletedStages": 1,
                    "numSkippedStages": 1,
                    "numFailedStages": 0,
                    "killedTasksSummary": {}
                  },
                  {
                    "displayName": "showString at NativeMethodAccessorImpl.java:0",
                    "dataWritten": 11079,
                    "dataRead": 13882558,
                    "rowCount": 205,
                    "usageDescription": "",
                    "jobId": 6,
                    "name": "showString at NativeMethodAccessorImpl.java:0",
                    "description": "Job group for statement 15:\nprint(\"Count of Submissions by Subreddit with Missing Removed\")\nprint(submissions.groupBy('subreddit').count().show())\n\nprint(\"Count of Comments by Subreddit with Missing Removed\")\nprint(comments.groupBy('subreddit').count().show())",
                    "submissionTime": "2023-11-28T18:38:34.418GMT",
                    "completionTime": "2023-11-28T18:38:35.493GMT",
                    "stageIds": [
                      8
                    ],
                    "jobGroup": "15",
                    "status": "SUCCEEDED",
                    "numTasks": 64,
                    "numActiveTasks": 0,
                    "numCompletedTasks": 64,
                    "numSkippedTasks": 0,
                    "numFailedTasks": 0,
                    "numKilledTasks": 0,
                    "numCompletedIndices": 64,
                    "numActiveStages": 0,
                    "numCompletedStages": 1,
                    "numSkippedStages": 0,
                    "numFailedStages": 0,
                    "killedTasksSummary": {}
                  }
                ],
                "limit": 20,
                "rule": "ALL_DESC"
              },
              "parent_msg_id": "8fd1697a-8810-4da5-8954-e6edf659ae51"
            },
            "text/plain": "StatementMeta(d3c1b951-094c-48e1-919d-e32bc175397b, 42, 15, Finished, Available)"
          },
          "metadata": {}
        },
        {
          "output_type": "stream",
          "name": "stdout",
          "text": "Count of Submissions by Subreddit with Missing Removed\n+-----------------+-----+\n|        subreddit|count|\n+-----------------+-----+\n|         jayhawks|  204|\n|CollegeBasketball| 9567|\n|         tarheels|   33|\n+-----------------+-----+\n\nNone\nCount of Comments by Subreddit with Missing Removed\n+-----------------+-------+\n|        subreddit|  count|\n+-----------------+-------+\n|         jayhawks|   6328|\n|CollegeBasketball|1482767|\n|         tarheels|    780|\n+-----------------+-------+\n\nNone\n"
        }
      ],
      "execution_count": 9,
      "metadata": {
        "jupyter": {
          "source_hidden": false,
          "outputs_hidden": false
        },
        "nteract": {
          "transient": {
            "deleting": false
          }
        },
        "gather": {
          "logged": 1701196717866
        }
      }
    },
    {
      "cell_type": "markdown",
      "source": [
        "#### Adding Day, Month, Year Columns"
      ],
      "metadata": {
        "nteract": {
          "transient": {
            "deleting": false
          }
        }
      }
    },
    {
      "cell_type": "code",
      "source": [
        "submissions = (\n",
        "    submissions\n",
        "    .withColumn(\"day\", dayofmonth(col(\"created_utc\")))\n",
        "    .withColumn(\"month\", month(col(\"created_utc\")))\n",
        "    .withColumn(\"year\", year(col(\"created_utc\")))\n",
        ")\n",
        "comments = (\n",
        "    comments\n",
        "    .withColumn(\"day\", dayofmonth(col(\"created_utc\")))\n",
        "    .withColumn(\"month\", month(col(\"created_utc\")))\n",
        "    .withColumn(\"year\", year(col(\"created_utc\")))\n",
        ")"
      ],
      "outputs": [
        {
          "output_type": "display_data",
          "data": {
            "application/vnd.livy.statement-meta+json": {
              "spark_pool": "d3c1b951-094c-48e1-919d-e32bc175397b",
              "session_id": "42",
              "statement_id": 16,
              "state": "finished",
              "livy_statement_state": "available",
              "queued_time": "2023-11-28T18:38:40.7171106Z",
              "session_start_time": null,
              "execution_start_time": "2023-11-28T18:38:40.8371983Z",
              "execution_finish_time": "2023-11-28T18:38:41.1371743Z",
              "spark_jobs": {
                "numbers": {
                  "FAILED": 0,
                  "RUNNING": 0,
                  "UNKNOWN": 0,
                  "SUCCEEDED": 0
                },
                "jobs": [],
                "limit": 20,
                "rule": "ALL_DESC"
              },
              "parent_msg_id": "c06c08b7-fa23-4f5f-b5aa-2954c105a459"
            },
            "text/plain": "StatementMeta(d3c1b951-094c-48e1-919d-e32bc175397b, 42, 16, Finished, Available)"
          },
          "metadata": {}
        }
      ],
      "execution_count": 10,
      "metadata": {
        "jupyter": {
          "source_hidden": false,
          "outputs_hidden": false
        },
        "nteract": {
          "transient": {
            "deleting": false
          }
        },
        "gather": {
          "logged": 1701196721387
        }
      }
    },
    {
      "cell_type": "markdown",
      "source": [
        "#### First Snapshot of Data\n",
        "\n",
        "Here we can see the most important columns from `submissions` and `comments`. The `selftext` and `body` columns hold the post and comments, respectively."
      ],
      "metadata": {
        "nteract": {
          "transient": {
            "deleting": false
          }
        }
      }
    },
    {
      "cell_type": "code",
      "source": [
        "print(\"Submission Data\")\n",
        "submissions.select(\"subreddit\", \"author\", \"title\", \"selftext\", \"created_utc\", \"num_comments\").show()"
      ],
      "outputs": [
        {
          "output_type": "display_data",
          "data": {
            "application/vnd.livy.statement-meta+json": {
              "spark_pool": "d3c1b951-094c-48e1-919d-e32bc175397b",
              "session_id": "42",
              "statement_id": 17,
              "state": "finished",
              "livy_statement_state": "available",
              "queued_time": "2023-11-28T18:38:47.5136636Z",
              "session_start_time": null,
              "execution_start_time": "2023-11-28T18:38:47.6307695Z",
              "execution_finish_time": "2023-11-28T18:38:48.4632474Z",
              "spark_jobs": {
                "numbers": {
                  "FAILED": 0,
                  "RUNNING": 0,
                  "UNKNOWN": 0,
                  "SUCCEEDED": 1
                },
                "jobs": [
                  {
                    "displayName": "showString at NativeMethodAccessorImpl.java:0",
                    "dataWritten": 0,
                    "dataRead": 1111728,
                    "rowCount": 1,
                    "usageDescription": "",
                    "jobId": 10,
                    "name": "showString at NativeMethodAccessorImpl.java:0",
                    "description": "Job group for statement 17:\nprint(\"Submission Data\")\nsubmissions.select(\"subreddit\", \"author\", \"title\", \"selftext\", \"created_utc\", \"num_comments\").show()",
                    "submissionTime": "2023-11-28T18:38:47.797GMT",
                    "completionTime": "2023-11-28T18:38:48.082GMT",
                    "stageIds": [
                      14
                    ],
                    "jobGroup": "17",
                    "status": "SUCCEEDED",
                    "numTasks": 1,
                    "numActiveTasks": 0,
                    "numCompletedTasks": 1,
                    "numSkippedTasks": 0,
                    "numFailedTasks": 0,
                    "numKilledTasks": 0,
                    "numCompletedIndices": 1,
                    "numActiveStages": 0,
                    "numCompletedStages": 1,
                    "numSkippedStages": 0,
                    "numFailedStages": 0,
                    "killedTasksSummary": {}
                  }
                ],
                "limit": 20,
                "rule": "ALL_DESC"
              },
              "parent_msg_id": "deb5fd4d-b6ff-4cb6-8ad7-c62b7010ad7f"
            },
            "text/plain": "StatementMeta(d3c1b951-094c-48e1-919d-e32bc175397b, 42, 17, Finished, Available)"
          },
          "metadata": {}
        },
        {
          "output_type": "stream",
          "name": "stdout",
          "text": "Submission Data\n+-----------------+--------------------+--------------------+--------------------+-------------------+------------+\n|        subreddit|              author|               title|            selftext|        created_utc|num_comments|\n+-----------------+--------------------+--------------------+--------------------+-------------------+------------+\n|CollegeBasketball|             rCBBMod|Announcement: The...|Hello r/CollegeBa...|2022-03-17 14:00:50|           9|\n|CollegeBasketball|       AutoModerator|[Weekly Post] Fre...|Are you new to th...|2022-04-29 15:00:11|           0|\n|CollegeBasketball|       AutoModerator|[Weekly Post] Fre...|It's Free Talk Fr...|2022-04-29 15:00:11|           1|\n|CollegeBasketball|              cbbBot|[Game Thread] Neb...|[Nebraska](#f/neb...|2022-02-23 00:54:05|          41|\n|CollegeBasketball|              cbbBot|[Game Thread] Kan...|[Kansas State](#f...|2022-02-23 01:00:04|         626|\n|CollegeBasketball|              cbbBot|[Game Thread] #24...|[Alabama](#f/alab...|2022-02-23 01:00:05|         198|\n|CollegeBasketball|              cbbBot|[Game Thread] San...|[San Diego State]...|2022-02-23 01:00:06|         135|\n|CollegeBasketball|              i_MiLK|Meet the Mid-Majo...|Hello March Madne...|2022-03-07 14:41:43|           5|\n|CollegeBasketball|          INtoCT2015|Izzo surpasses Bo...|Sorry to hijack I...|2022-03-07 14:50:10|           9|\n|CollegeBasketball|   urdueBoilermakers|Since the Big Ten...|(Note, when Purdu...|2022-03-07 14:55:07|          47|\n|CollegeBasketball|          sourceit88|240 Teams are sti...|Sunday had 17 new...|2022-03-07 14:58:37|           4|\n|CollegeBasketball|          cbbpollbot|  User Poll: Week 18|\\nRank||Team (Fir...|2022-03-07 15:00:04|         173|\n|CollegeBasketball|  Sharp_Quarter_8343|               BIG10|Anyone else think...|2022-03-07 15:03:26|          19|\n|CollegeBasketball|              cbbBot|Game Thread Index...|# Ranked Games\\n\\...|2022-03-07 15:07:07|           0|\n|CollegeBasketball|      TallLatvianLad|Mid-Major+ User P...|Rankings of teams...|2022-03-07 15:11:12|           9|\n|         tarheels|SteelHeelNittanyLion|What seed do you ...|[removed]\\n\\n[Vie...|2022-03-07 15:12:34|           0|\n|CollegeBasketball|              cbbBot|[Game Thread] #18...|[Texas](#f/texas)...|2021-12-19 19:00:06|          23|\n|CollegeBasketball|              cbbBot|[Game Thread] UT ...|[UT Martin](#f/ut...|2021-12-19 19:00:10|           0|\n|CollegeBasketball|              cbbBot|[Game Thread] UT ...|[UT Arlington](#f...|2021-12-19 19:00:14|           2|\n|CollegeBasketball|              cbbBot|[Game Thread] SMU...|[SMU](#f/smu) **9...|2021-12-19 19:00:19|           3|\n+-----------------+--------------------+--------------------+--------------------+-------------------+------------+\nonly showing top 20 rows\n\n"
        }
      ],
      "execution_count": 11,
      "metadata": {
        "jupyter": {
          "source_hidden": false,
          "outputs_hidden": false
        },
        "nteract": {
          "transient": {
            "deleting": false
          }
        },
        "gather": {
          "logged": 1701196728686
        }
      }
    },
    {
      "cell_type": "code",
      "source": [
        "print(\"Comments Data\")\n",
        "comments.select(\"subreddit\", \"author\",\"author_flair_text\", \"body\", \"created_utc\", \"score\").show()"
      ],
      "outputs": [
        {
          "output_type": "display_data",
          "data": {
            "application/vnd.livy.statement-meta+json": {
              "spark_pool": "d3c1b951-094c-48e1-919d-e32bc175397b",
              "session_id": "42",
              "statement_id": 18,
              "state": "finished",
              "livy_statement_state": "available",
              "queued_time": "2023-11-28T18:38:54.6699168Z",
              "session_start_time": null,
              "execution_start_time": "2023-11-28T18:38:54.789897Z",
              "execution_finish_time": "2023-11-28T18:38:55.6007371Z",
              "spark_jobs": {
                "numbers": {
                  "FAILED": 0,
                  "RUNNING": 0,
                  "UNKNOWN": 0,
                  "SUCCEEDED": 1
                },
                "jobs": [
                  {
                    "displayName": "showString at NativeMethodAccessorImpl.java:0",
                    "dataWritten": 0,
                    "dataRead": 11873344,
                    "rowCount": 1,
                    "usageDescription": "",
                    "jobId": 11,
                    "name": "showString at NativeMethodAccessorImpl.java:0",
                    "description": "Job group for statement 18:\nprint(\"Comments Data\")\ncomments.select(\"subreddit\", \"author\",\"author_flair_text\", \"body\", \"created_utc\", \"score\").show()",
                    "submissionTime": "2023-11-28T18:38:54.925GMT",
                    "completionTime": "2023-11-28T18:38:55.104GMT",
                    "stageIds": [
                      15
                    ],
                    "jobGroup": "18",
                    "status": "SUCCEEDED",
                    "numTasks": 1,
                    "numActiveTasks": 0,
                    "numCompletedTasks": 1,
                    "numSkippedTasks": 0,
                    "numFailedTasks": 0,
                    "numKilledTasks": 0,
                    "numCompletedIndices": 1,
                    "numActiveStages": 0,
                    "numCompletedStages": 1,
                    "numSkippedStages": 0,
                    "numFailedStages": 0,
                    "killedTasksSummary": {}
                  }
                ],
                "limit": 20,
                "rule": "ALL_DESC"
              },
              "parent_msg_id": "c002c12c-5592-441b-b70b-03ee6b0483e2"
            },
            "text/plain": "StatementMeta(d3c1b951-094c-48e1-919d-e32bc175397b, 42, 18, Finished, Available)"
          },
          "metadata": {}
        },
        {
          "output_type": "stream",
          "name": "stdout",
          "text": "Comments Data\n+-----------------+-------------------+--------------------+--------------------+-------------------+-----+\n|        subreddit|             author|   author_flair_text|                body|        created_utc|score|\n+-----------------+-------------------+--------------------+--------------------+-------------------+-----+\n|CollegeBasketball|         joeveralls|:cincinnati: :ohi...|Nothing is fallin...|2021-11-14 00:27:16|    5|\n|CollegeBasketball|       DaddyStone13|:cincinnati: :big...|lol i forgot abou...|2021-11-14 00:27:51|    4|\n|CollegeBasketball|        seahawksjoe|   :usc: USC Trojans|Also, half of the...|2021-11-14 00:28:36|    4|\n|CollegeBasketball|       CheeseAndCam|:iowastate: Iowa ...|I like how Creigh...|2021-11-14 00:30:06|    2|\n|CollegeBasketball|          [deleted]|                null|  Losing, apparently|2021-11-14 00:30:17|   14|\n|CollegeBasketball|       corranhorn57|:cincinnati: Cinc...|Oklahoma lost, th...|2021-11-14 00:30:26|    5|\n|CollegeBasketball|SwimmingInYourPants|   :usc: USC Trojans|Ah, I missed thes...|2021-11-14 00:30:29|    1|\n|CollegeBasketball|          Papytendo|:temple: :bestofw...|This gonna be one...|2021-11-14 00:30:32|    3|\n|CollegeBasketball|           love2Vax|:rutgers: Rutgers...|He was missing sh...|2021-11-14 00:31:19|   11|\n|CollegeBasketball|        seahawksjoe|   :usc: USC Trojans|This man really j...|2021-11-14 00:31:51|    3|\n|CollegeBasketball|         Cnsrbstrmp|:cincinnati: Cinc...|High IQ play ther...|2021-11-14 00:32:11|    6|\n|CollegeBasketball|              s-sea|:usc: :nebraska: ...|yeesh yeah, 14 fo...|2021-11-14 00:32:15|    1|\n|CollegeBasketball|           myth7550|:indiana: Indiana...|      You bet we do!|2021-11-14 00:32:52|    4|\n|CollegeBasketball|            mjd1977|:vanderbilt: :vil...|Northern Iowa. Fa...|2021-11-14 00:33:16|    8|\n|CollegeBasketball| WildfireTommyBitch|:memphis: Memphis...|Checking in on a ...|2021-11-14 00:33:21|    3|\n|CollegeBasketball|       corranhorn57|:cincinnati: Cinc...|  Now we’re rolling!|2021-11-14 00:34:14|    5|\n|CollegeBasketball|              s-sea|:usc: :nebraska: ...|lmao, I'm watchin...|2021-11-14 00:34:28|    2|\n|CollegeBasketball|         Cnsrbstrmp|:cincinnati: Cinc...|        Attaway CATS|2021-11-14 00:34:31|    7|\n|CollegeBasketball|         MusaEnsete|:michigan: Michig...|So glad to see th...|2021-11-14 00:34:58|    1|\n|CollegeBasketball|      HurricaneHugo|:ucsd: :sandiegos...|         Pretty cool|2021-11-14 00:35:19|   32|\n+-----------------+-------------------+--------------------+--------------------+-------------------+-----+\nonly showing top 20 rows\n\n"
        }
      ],
      "execution_count": 12,
      "metadata": {
        "jupyter": {
          "source_hidden": false,
          "outputs_hidden": false
        },
        "nteract": {
          "transient": {
            "deleting": false
          }
        },
        "gather": {
          "logged": 1701196735845
        }
      }
    },
    {
      "cell_type": "markdown",
      "source": [
        "#### Creating author flair column\n",
        "\n",
        "`author_flair_text` is a column that contains information about the user icon of the reddit user. In most of these posts this is the team that the author supports. Here we create a new variable that indicates who the author of the comment or post supports"
      ],
      "metadata": {
        "nteract": {
          "transient": {
            "deleting": false
          }
        }
      }
    },
    {
      "cell_type": "code",
      "source": [
        "team_pattern = r\":([\\w\\s]+):\"\n",
        "\n",
        "# Extract the team names and create the \"supported_team\" column\n",
        "submissions = submissions.withColumn(\"supported_team\", regexp_extract(col(\"author_flair_text\"), team_pattern, 1))\n",
        "comments = comments.withColumn(\"supported_team\", regexp_extract(col(\"author_flair_text\"), team_pattern, 1))"
      ],
      "outputs": [
        {
          "output_type": "display_data",
          "data": {
            "application/vnd.livy.statement-meta+json": {
              "spark_pool": "d3c1b951-094c-48e1-919d-e32bc175397b",
              "session_id": "16",
              "statement_id": 14,
              "state": "finished",
              "livy_statement_state": "available",
              "queued_time": "2023-11-09T15:57:49.7082681Z",
              "session_start_time": null,
              "execution_start_time": "2023-11-09T15:58:58.4644114Z",
              "execution_finish_time": "2023-11-09T15:58:58.8682265Z",
              "spark_jobs": {
                "numbers": {
                  "RUNNING": 0,
                  "UNKNOWN": 0,
                  "SUCCEEDED": 0,
                  "FAILED": 0
                },
                "jobs": [],
                "limit": 20,
                "rule": "ALL_DESC"
              },
              "parent_msg_id": "056e5469-83ac-4ea3-8df6-07d956c21ddd"
            },
            "text/plain": "StatementMeta(d3c1b951-094c-48e1-919d-e32bc175397b, 16, 14, Finished, Available)"
          },
          "metadata": {}
        }
      ],
      "execution_count": 9,
      "metadata": {
        "jupyter": {
          "source_hidden": false,
          "outputs_hidden": false
        },
        "nteract": {
          "transient": {
            "deleting": false
          }
        },
        "gather": {
          "logged": 1699545539358
        }
      }
    },
    {
      "cell_type": "markdown",
      "source": [
        "If we remove the `r/tarheels` and `r/jayhawks` subreddits from our data temporarily we can get a good idea of what teams are the most supported in the user base of `r/CollegeBasektball`. \n",
        "\n",
        "In `submissions` the most common icons are the default `rcbb` (r/collegebasketball) and `null` (no icon). Ignoring those we see that the most supported teams are Florida State, Illinois, Purdue, and Duke. In `comments`, `null` is the most common icon, however after that the most supported teams are Purdue, North Carolina, Illinois, and Kentucky. \n",
        "\n",
        "This shows that some fan bases may be more active posters while others may be more involved in the comments section. "
      ],
      "metadata": {
        "nteract": {
          "transient": {
            "deleting": false
          }
        }
      }
    },
    {
      "cell_type": "code",
      "source": [
        "print(\"Submissions Top Supported Teams\")\n",
        "submissions.filter(col(\"subreddit\")==\"CollegeBasketball\").groupBy(\"supported_team\").agg(count(\"*\").alias(\"count\")).orderBy(desc(\"count\")).show()\n",
        "print(\"Comments Top Supported Teams\")\n",
        "comments.filter(col(\"subreddit\")==\"CollegeBasketball\").groupBy(\"supported_team\").agg(count(\"*\").alias(\"count\")).orderBy(desc(\"count\")).show()"
      ],
      "outputs": [
        {
          "output_type": "display_data",
          "data": {
            "application/vnd.livy.statement-meta+json": {
              "spark_pool": "d3c1b951-094c-48e1-919d-e32bc175397b",
              "session_id": "14",
              "statement_id": 44,
              "state": "finished",
              "livy_statement_state": "available",
              "queued_time": "2023-11-07T17:18:39.7789744Z",
              "session_start_time": null,
              "execution_start_time": "2023-11-07T17:18:39.9433305Z",
              "execution_finish_time": "2023-11-07T17:18:43.8360918Z",
              "spark_jobs": {
                "numbers": {
                  "RUNNING": 0,
                  "SUCCEEDED": 4,
                  "FAILED": 0,
                  "UNKNOWN": 0
                },
                "jobs": [
                  {
                    "displayName": "showString at <unknown>:0",
                    "dataWritten": 0,
                    "dataRead": 2140445,
                    "rowCount": 37401,
                    "usageDescription": "",
                    "jobId": 46,
                    "name": "showString at <unknown>:0",
                    "description": "Job group for statement 44:\nprint(\"Submissions Top Supported Teams\")\nsubmissions.filter(col(\"subreddit\")==\"CollegeBasketball\").groupBy(\"supported_team\").agg(count(\"*\").alias(\"count\")).orderBy(desc(\"count\")).show()\nprint(\"Comments Top Supported Teams\")\ncomments.filter(col(\"subreddit\")==\"CollegeBasketball\").groupBy(\"supported_team\").agg(count(\"*\").alias(\"count\")).orderBy(desc(\"count\")).show()",
                    "submissionTime": "2023-11-07T17:18:43.288GMT",
                    "completionTime": "2023-11-07T17:18:43.397GMT",
                    "stageIds": [
                      63,
                      62
                    ],
                    "jobGroup": "44",
                    "status": "SUCCEEDED",
                    "numTasks": 184,
                    "numActiveTasks": 0,
                    "numCompletedTasks": 2,
                    "numSkippedTasks": 182,
                    "numFailedTasks": 0,
                    "numKilledTasks": 0,
                    "numCompletedIndices": 2,
                    "numActiveStages": 0,
                    "numCompletedStages": 1,
                    "numSkippedStages": 1,
                    "numFailedStages": 0,
                    "killedTasksSummary": {}
                  },
                  {
                    "displayName": "showString at <unknown>:0",
                    "dataWritten": 2140445,
                    "dataRead": 221033688,
                    "rowCount": 37676,
                    "usageDescription": "",
                    "jobId": 45,
                    "name": "showString at <unknown>:0",
                    "description": "Job group for statement 44:\nprint(\"Submissions Top Supported Teams\")\nsubmissions.filter(col(\"subreddit\")==\"CollegeBasketball\").groupBy(\"supported_team\").agg(count(\"*\").alias(\"count\")).orderBy(desc(\"count\")).show()\nprint(\"Comments Top Supported Teams\")\ncomments.filter(col(\"subreddit\")==\"CollegeBasketball\").groupBy(\"supported_team\").agg(count(\"*\").alias(\"count\")).orderBy(desc(\"count\")).show()",
                    "submissionTime": "2023-11-07T17:18:40.652GMT",
                    "completionTime": "2023-11-07T17:18:43.260GMT",
                    "stageIds": [
                      61
                    ],
                    "jobGroup": "44",
                    "status": "SUCCEEDED",
                    "numTasks": 182,
                    "numActiveTasks": 0,
                    "numCompletedTasks": 182,
                    "numSkippedTasks": 0,
                    "numFailedTasks": 0,
                    "numKilledTasks": 0,
                    "numCompletedIndices": 182,
                    "numActiveStages": 0,
                    "numCompletedStages": 1,
                    "numSkippedStages": 0,
                    "numFailedStages": 0,
                    "killedTasksSummary": {}
                  },
                  {
                    "displayName": "showString at <unknown>:0",
                    "dataWritten": 0,
                    "dataRead": 114894,
                    "rowCount": 1611,
                    "usageDescription": "",
                    "jobId": 44,
                    "name": "showString at <unknown>:0",
                    "description": "Job group for statement 44:\nprint(\"Submissions Top Supported Teams\")\nsubmissions.filter(col(\"subreddit\")==\"CollegeBasketball\").groupBy(\"supported_team\").agg(count(\"*\").alias(\"count\")).orderBy(desc(\"count\")).show()\nprint(\"Comments Top Supported Teams\")\ncomments.filter(col(\"subreddit\")==\"CollegeBasketball\").groupBy(\"supported_team\").agg(count(\"*\").alias(\"count\")).orderBy(desc(\"count\")).show()",
                    "submissionTime": "2023-11-07T17:18:40.488GMT",
                    "completionTime": "2023-11-07T17:18:40.533GMT",
                    "stageIds": [
                      60,
                      59
                    ],
                    "jobGroup": "44",
                    "status": "SUCCEEDED",
                    "numTasks": 65,
                    "numActiveTasks": 0,
                    "numCompletedTasks": 1,
                    "numSkippedTasks": 64,
                    "numFailedTasks": 0,
                    "numKilledTasks": 0,
                    "numCompletedIndices": 1,
                    "numActiveStages": 0,
                    "numCompletedStages": 1,
                    "numSkippedStages": 1,
                    "numFailedStages": 0,
                    "killedTasksSummary": {}
                  },
                  {
                    "displayName": "showString at <unknown>:0",
                    "dataWritten": 114894,
                    "dataRead": 13989770,
                    "rowCount": 1675,
                    "usageDescription": "",
                    "jobId": 43,
                    "name": "showString at <unknown>:0",
                    "description": "Job group for statement 44:\nprint(\"Submissions Top Supported Teams\")\nsubmissions.filter(col(\"subreddit\")==\"CollegeBasketball\").groupBy(\"supported_team\").agg(count(\"*\").alias(\"count\")).orderBy(desc(\"count\")).show()\nprint(\"Comments Top Supported Teams\")\ncomments.filter(col(\"subreddit\")==\"CollegeBasketball\").groupBy(\"supported_team\").agg(count(\"*\").alias(\"count\")).orderBy(desc(\"count\")).show()",
                    "submissionTime": "2023-11-07T17:18:40.085GMT",
                    "completionTime": "2023-11-07T17:18:40.450GMT",
                    "stageIds": [
                      58
                    ],
                    "jobGroup": "44",
                    "status": "SUCCEEDED",
                    "numTasks": 64,
                    "numActiveTasks": 0,
                    "numCompletedTasks": 64,
                    "numSkippedTasks": 0,
                    "numFailedTasks": 0,
                    "numKilledTasks": 0,
                    "numCompletedIndices": 64,
                    "numActiveStages": 0,
                    "numCompletedStages": 1,
                    "numSkippedStages": 0,
                    "numFailedStages": 0,
                    "killedTasksSummary": {}
                  }
                ],
                "limit": 20,
                "rule": "ALL_DESC"
              },
              "parent_msg_id": "0cb9bc6a-c8cb-4246-a1bf-540cf260d654"
            },
            "text/plain": "StatementMeta(d3c1b951-094c-48e1-919d-e32bc175397b, 14, 44, Finished, Available)"
          },
          "metadata": {}
        },
        {
          "output_type": "stream",
          "name": "stdout",
          "text": "Submissions Top Supported Teams\n+----------------+-----+\n|  supported_team|count|\n+----------------+-----+\n|            rcbb| 6632|\n|            null|  821|\n|    floridastate|  124|\n|        illinois|   89|\n|          purdue|   84|\n|            duke|   69|\n|   northcarolina|   66|\n|          kansas|   64|\n|       iowastate|   64|\n|        virginia|   62|\n|        kentucky|   62|\n|     connecticut|   51|\n|          dayton|   48|\n|        michigan|   43|\n|mississippistate|   42|\n|         indiana|   36|\n|         gonzaga|   35|\n|    sanjosestate|   35|\n|   michiganstate|   33|\n|          auburn|   32|\n+----------------+-----+\nonly showing top 20 rows\n\nComments Top Supported Teams\n+--------------+------+\n|supported_team| count|\n+--------------+------+\n|          null|173474|\n|        purdue| 72772|\n| northcarolina| 68933|\n|      illinois| 62610|\n|      kentucky| 56856|\n|        kansas| 55664|\n|      michigan| 52395|\n| michiganstate| 51169|\n|       indiana| 40537|\n|        auburn| 39623|\n|          duke| 34871|\n|     texastech| 34346|\n|     iowastate| 32179|\n|     wisconsin| 32087|\n|          iowa| 27663|\n|      virginia| 25376|\n|       arizona| 24325|\n|      arkansas| 22708|\n|       gonzaga| 21720|\n|     ohiostate| 20953|\n+--------------+------+\nonly showing top 20 rows\n\n"
        }
      ],
      "execution_count": 39,
      "metadata": {
        "jupyter": {
          "source_hidden": false,
          "outputs_hidden": false
        },
        "nteract": {
          "transient": {
            "deleting": false
          }
        },
        "gather": {
          "logged": 1699377523949
        }
      }
    },
    {
      "cell_type": "markdown",
      "source": [
        "#### Creating Game Thread Indicator and details about game (teams, ranking, time)"
      ],
      "metadata": {
        "nteract": {
          "transient": {
            "deleting": false
          }
        }
      }
    },
    {
      "cell_type": "markdown",
      "source": [
        "Some posts in the submissions of `r/CollegeBasketball` are game threads where people can comment on and discuss specific games that are being played. We can extract information about the title to determine the teams playing in the game, their rankings, and the time the game is being played. \n",
        "\n",
        "From here we can determine which games have the most comments and thereby can act as a proxy for which games were the most watched on reddit. We see that the most commented on games involve North Carolina, and further analysis of these games show that the three most popular games are the Elite Eights, Final Four, and Championship games for North Carolina. Additionally we see that all of the most popular games are between ranked teams. \n",
        "\n",
        "Expanding on this finding that ranked matchups seem to have more interest we did some further analysis to look at the popularity of games over the course of a season and also the difference between ranked and unranked mathcups. Here we see that ranked matchups have significantly higher average number of comment in all months of the season. If we compare only February, ranked matchups have on average 12.5 times the number of comments of unranked matchups.  Additionally we see that April and March have the highest number of average comments across both groups, while the earlier months in the season (November and December) have lower average comments per game. "
      ],
      "metadata": {
        "nteract": {
          "transient": {
            "deleting": false
          }
        }
      }
    },
    {
      "cell_type": "code",
      "source": [
        "# create condition for title column starting with the string [Game Thread]\n",
        "condition = submissions[\"title\"].startswith(\"[Game Thread]\")\n",
        "# create new column in submissions indicating if post is a game thread\n",
        "submissions = submissions.withColumn(\"game_thread\", when(condition, True).otherwise(False))"
      ],
      "outputs": [
        {
          "output_type": "display_data",
          "data": {
            "application/vnd.livy.statement-meta+json": {
              "spark_pool": "d3c1b951-094c-48e1-919d-e32bc175397b",
              "session_id": "16",
              "statement_id": 62,
              "state": "finished",
              "livy_statement_state": "available",
              "queued_time": "2023-11-09T16:32:57.729017Z",
              "session_start_time": null,
              "execution_start_time": "2023-11-09T16:32:57.8778811Z",
              "execution_finish_time": "2023-11-09T16:32:58.2994581Z",
              "spark_jobs": {
                "numbers": {
                  "RUNNING": 0,
                  "UNKNOWN": 0,
                  "SUCCEEDED": 0,
                  "FAILED": 0
                },
                "jobs": [],
                "limit": 20,
                "rule": "ALL_DESC"
              },
              "parent_msg_id": "4d359192-3d03-4c83-8fc5-b617287f9b52"
            },
            "text/plain": "StatementMeta(d3c1b951-094c-48e1-919d-e32bc175397b, 16, 62, Finished, Available)"
          },
          "metadata": {}
        }
      ],
      "execution_count": 57,
      "metadata": {
        "jupyter": {
          "source_hidden": false,
          "outputs_hidden": false
        },
        "nteract": {
          "transient": {
            "deleting": false
          }
        },
        "gather": {
          "logged": 1699547578623
        }
      }
    },
    {
      "cell_type": "code",
      "source": [
        "teams_pattern = \"\\[Game Thread\\] (#?(\\d*) )?([^\\[@]+) @ (#?(\\d*) )?([^\\[@]+) \\((\\d{2}:\\d{2} [APMapm]{2} [A-Za-z]+)\\)\"\n",
        "submissions = submissions.withColumn(\"home_ranking\", regexp_extract(col(\"title\"), teams_pattern, 5))\n",
        "submissions = submissions.withColumn(\"home_team\", regexp_extract(col(\"title\"), teams_pattern, 6))\n",
        "submissions = submissions.withColumn(\"away_ranking\", regexp_extract(col(\"title\"), teams_pattern, 2))\n",
        "submissions = submissions.withColumn(\"away_team\", regexp_extract(col(\"title\"), teams_pattern, 3))\n",
        "submissions = submissions.withColumn(\"game_time\", regexp_extract(col(\"title\"), teams_pattern, 7))\n",
        "submissions = submissions.withColumn(\"ranked_matchup\", when((col(\"home_ranking\")!=\"\")& (col(\"away_ranking\")!=\"\"),True).otherwise(False))"
      ],
      "outputs": [
        {
          "output_type": "display_data",
          "data": {
            "application/vnd.livy.statement-meta+json": {
              "spark_pool": "d3c1b951-094c-48e1-919d-e32bc175397b",
              "session_id": "16",
              "statement_id": 63,
              "state": "finished",
              "livy_statement_state": "available",
              "queued_time": "2023-11-09T16:32:59.4734474Z",
              "session_start_time": null,
              "execution_start_time": "2023-11-09T16:32:59.5865394Z",
              "execution_finish_time": "2023-11-09T16:32:59.9437107Z",
              "spark_jobs": {
                "numbers": {
                  "RUNNING": 0,
                  "UNKNOWN": 0,
                  "SUCCEEDED": 0,
                  "FAILED": 0
                },
                "jobs": [],
                "limit": 20,
                "rule": "ALL_DESC"
              },
              "parent_msg_id": "c5fdcf9c-43b1-4e85-a36c-de024db1ccf8"
            },
            "text/plain": "StatementMeta(d3c1b951-094c-48e1-919d-e32bc175397b, 16, 63, Finished, Available)"
          },
          "metadata": {}
        }
      ],
      "execution_count": 58,
      "metadata": {
        "jupyter": {
          "source_hidden": false,
          "outputs_hidden": false
        },
        "nteract": {
          "transient": {
            "deleting": false
          }
        },
        "gather": {
          "logged": 1699547580268
        }
      }
    },
    {
      "cell_type": "code",
      "source": [
        "submissions.filter(col(\"game_thread\")==1).orderBy(col(\"num_comments\").desc()).limit(20).select(\"title\", \"num_comments\").show(truncate = False)"
      ],
      "outputs": [
        {
          "output_type": "display_data",
          "data": {
            "application/vnd.livy.statement-meta+json": {
              "spark_pool": "d3c1b951-094c-48e1-919d-e32bc175397b",
              "session_id": "16",
              "statement_id": 37,
              "state": "finished",
              "livy_statement_state": "available",
              "queued_time": "2023-11-09T16:19:04.3586528Z",
              "session_start_time": null,
              "execution_start_time": "2023-11-09T16:19:04.4723134Z",
              "execution_finish_time": "2023-11-09T16:19:06.1499333Z",
              "spark_jobs": {
                "numbers": {
                  "RUNNING": 0,
                  "UNKNOWN": 0,
                  "SUCCEEDED": 1,
                  "FAILED": 0
                },
                "jobs": [
                  {
                    "displayName": "showString at NativeMethodAccessorImpl.java:0",
                    "dataWritten": 31068,
                    "dataRead": 14064732,
                    "rowCount": 1528,
                    "usageDescription": "",
                    "jobId": 18,
                    "name": "showString at NativeMethodAccessorImpl.java:0",
                    "description": "Job group for statement 37:\nsubmissions.filter(col(\"game_thread\")==1).orderBy(col(\"num_comments\").desc()).limit(20).select(\"title\", \"num_comments\").show(truncate = False)",
                    "submissionTime": "2023-11-09T16:19:04.736GMT",
                    "completionTime": "2023-11-09T16:19:05.148GMT",
                    "stageIds": [
                      21,
                      22
                    ],
                    "jobGroup": "37",
                    "status": "SUCCEEDED",
                    "numTasks": 65,
                    "numActiveTasks": 0,
                    "numCompletedTasks": 65,
                    "numSkippedTasks": 0,
                    "numFailedTasks": 0,
                    "numKilledTasks": 0,
                    "numCompletedIndices": 65,
                    "numActiveStages": 0,
                    "numCompletedStages": 2,
                    "numSkippedStages": 0,
                    "numFailedStages": 0,
                    "killedTasksSummary": {}
                  }
                ],
                "limit": 20,
                "rule": "ALL_DESC"
              },
              "parent_msg_id": "d6f9b02f-0991-4463-89d8-f7cb4891bb56"
            },
            "text/plain": "StatementMeta(d3c1b951-094c-48e1-919d-e32bc175397b, 16, 37, Finished, Available)"
          },
          "metadata": {}
        },
        {
          "output_type": "stream",
          "name": "stdout",
          "text": "+-----------------------------------------------------------------+------------+\n|title                                                            |num_comments|\n+-----------------------------------------------------------------+------------+\n|[Game Thread] #8 North Carolina @ #1 Kansas (09:20 PM ET)        |20723       |\n|[Game Thread] #8 North Carolina @ #1 Baylor (12:10 PM ET)        |18640       |\n|[Game Thread] #8 North Carolina @ #2 Duke (08:49 PM ET)          |11959       |\n|[Game Thread] #15 Saint Peter's @ #3 Purdue (07:09 PM ET)        |9872        |\n|[Game Thread] #4 Arkansas @ #1 Gonzaga (07:09 PM ET)             |9648        |\n|[Game Thread] #15 Saint Peter's @ #8 North Carolina (05:05 PM ET)|8080        |\n|[Game Thread] #9 TCU @ #1 Arizona (09:40 PM ET)                  |7972        |\n|[Game Thread] #3 Texas Tech @ #2 Duke (09:39 PM ET)              |7045        |\n|[Game Thread] #7 Michigan State @ #2 Duke (05:15 PM ET)          |6857        |\n|[Game Thread] #4 Arkansas @ #2 Duke (08:49 PM ET)                |6775        |\n|[Game Thread] #9 Memphis @ #1 Gonzaga (09:40 PM ET)              |6698        |\n|[Game Thread] #6 Texas @ #3 Purdue (08:40 PM ET)                 |6694        |\n|[Game Thread] #15 Saint Peter's @ #2 Kentucky (07:10 PM ET)      |6682        |\n|[Game Thread] #5 Houston @ #4 Illinois (12:10 PM ET)             |6419        |\n|[Game Thread] #11 Iowa State @ #3 Wisconsin (06:10 PM ET)        |6245        |\n|[Game Thread] #11 Notre Dame @ #11 Rutgers (09:10 PM ET)         |5868        |\n|[Game Thread] #11 Michigan @ #6 Colorado State (12:15 PM ET)     |5680        |\n|[Game Thread] #25 Texas @ #13 Texas Tech (09:00 PM ET)           |5626        |\n|[Game Thread] #12 Indiana @ #12 Wyoming (09:10 PM ET)            |5591        |\n|[Game Thread] #12 Kentucky @ #1 Auburn (01:00 PM ET)             |5537        |\n+-----------------------------------------------------------------+------------+\n\n"
        }
      ],
      "execution_count": 32,
      "metadata": {
        "jupyter": {
          "source_hidden": false,
          "outputs_hidden": false
        },
        "nteract": {
          "transient": {
            "deleting": false
          }
        },
        "gather": {
          "logged": 1699546747246
        }
      }
    },
    {
      "cell_type": "code",
      "source": [
        "submissions.filter(col(\"game_thread\")==1).groupBy(\"year\", \"month\", \"ranked_matchup\").agg(round(mean(\"num_comments\"),0).alias(\"average_comments\"), sum(col(\"num_comments\")).alias(\"total_comments\")).orderBy(col(\"average_comments\").desc()).limit(11).show()"
      ],
      "outputs": [
        {
          "output_type": "display_data",
          "data": {
            "application/vnd.livy.statement-meta+json": {
              "spark_pool": "d3c1b951-094c-48e1-919d-e32bc175397b",
              "session_id": "16",
              "statement_id": 65,
              "state": "finished",
              "livy_statement_state": "available",
              "queued_time": "2023-11-09T16:41:04.3320731Z",
              "session_start_time": null,
              "execution_start_time": "2023-11-09T16:41:04.4782861Z",
              "execution_finish_time": "2023-11-09T16:41:05.3643711Z",
              "spark_jobs": {
                "numbers": {
                  "RUNNING": 0,
                  "UNKNOWN": 0,
                  "SUCCEEDED": 2,
                  "FAILED": 0
                },
                "jobs": [
                  {
                    "displayName": "showString at <unknown>:0",
                    "dataWritten": 0,
                    "dataRead": 21414,
                    "rowCount": 294,
                    "usageDescription": "",
                    "jobId": 46,
                    "name": "showString at <unknown>:0",
                    "description": "Job group for statement 65:\nsubmissions.filter(col(\"game_thread\")==1).groupBy(\"year\", \"month\", \"ranked_matchup\").agg(round(mean(\"num_comments\"),0).alias(\"average_comments\"), sum(col(\"num_comments\")).alias(\"total_comments\")).orderBy(col(\"average_comments\").desc()).limit(11).show()",
                    "submissionTime": "2023-11-09T16:41:05.019GMT",
                    "completionTime": "2023-11-09T16:41:05.128GMT",
                    "stageIds": [
                      63,
                      64
                    ],
                    "jobGroup": "65",
                    "status": "SUCCEEDED",
                    "numTasks": 65,
                    "numActiveTasks": 0,
                    "numCompletedTasks": 1,
                    "numSkippedTasks": 64,
                    "numFailedTasks": 0,
                    "numKilledTasks": 0,
                    "numCompletedIndices": 1,
                    "numActiveStages": 0,
                    "numCompletedStages": 1,
                    "numSkippedStages": 1,
                    "numFailedStages": 0,
                    "killedTasksSummary": {}
                  },
                  {
                    "displayName": "showString at <unknown>:0",
                    "dataWritten": 21414,
                    "dataRead": 14028286,
                    "rowCount": 358,
                    "usageDescription": "",
                    "jobId": 45,
                    "name": "showString at <unknown>:0",
                    "description": "Job group for statement 65:\nsubmissions.filter(col(\"game_thread\")==1).groupBy(\"year\", \"month\", \"ranked_matchup\").agg(round(mean(\"num_comments\"),0).alias(\"average_comments\"), sum(col(\"num_comments\")).alias(\"total_comments\")).orderBy(col(\"average_comments\").desc()).limit(11).show()",
                    "submissionTime": "2023-11-09T16:41:04.669GMT",
                    "completionTime": "2023-11-09T16:41:04.963GMT",
                    "stageIds": [
                      62
                    ],
                    "jobGroup": "65",
                    "status": "SUCCEEDED",
                    "numTasks": 64,
                    "numActiveTasks": 0,
                    "numCompletedTasks": 64,
                    "numSkippedTasks": 0,
                    "numFailedTasks": 0,
                    "numKilledTasks": 0,
                    "numCompletedIndices": 64,
                    "numActiveStages": 0,
                    "numCompletedStages": 1,
                    "numSkippedStages": 0,
                    "numFailedStages": 0,
                    "killedTasksSummary": {}
                  }
                ],
                "limit": 20,
                "rule": "ALL_DESC"
              },
              "parent_msg_id": "793b86de-8752-453c-81af-12309ac9fede"
            },
            "text/plain": "StatementMeta(d3c1b951-094c-48e1-919d-e32bc175397b, 16, 65, Finished, Available)"
          },
          "metadata": {}
        },
        {
          "output_type": "stream",
          "name": "stdout",
          "text": "+----+-----+--------------+----------------+--------------+\n|year|month|ranked_matchup|average_comments|total_comments|\n+----+-----+--------------+----------------+--------------+\n|2022|    4|          true|         12685.0|         38055|\n|2022|    3|          true|          3290.0|        263187|\n|2021|   11|          true|          1818.0|         18181|\n|2022|    2|          true|          1570.0|         48671|\n|2022|    1|          true|          1470.0|         38213|\n|2021|   12|          true|           740.0|          7395|\n|2022|    3|         false|           215.0|         97438|\n|2022|    1|         false|           129.0|         84812|\n|2022|    2|         false|           125.0|         93661|\n|2021|   12|         false|           103.0|         54828|\n|2021|   11|         false|            89.0|         58010|\n+----+-----+--------------+----------------+--------------+\n\n"
        }
      ],
      "execution_count": 60,
      "metadata": {
        "jupyter": {
          "source_hidden": false,
          "outputs_hidden": false
        },
        "nteract": {
          "transient": {
            "deleting": false
          }
        },
        "gather": {
          "logged": 1699548065717
        }
      }
    },
    {
      "cell_type": "markdown",
      "source": [
        "Using this cleaned data we will proceed to answer our business questions"
      ],
      "metadata": {
        "nteract": {
          "transient": {
            "deleting": false
          }
        }
      }
    },
    {
      "cell_type": "code",
      "source": [
        "comments.show()"
      ],
      "outputs": [],
      "execution_count": null,
      "metadata": {
        "jupyter": {
          "source_hidden": false,
          "outputs_hidden": false
        },
        "nteract": {
          "transient": {
            "deleting": false
          }
        }
      }
    },
    {
      "cell_type": "code",
      "source": [
        "comments.write.mode(\"overwrite\").parquet(f\"{workspace_wasbs_base_url}/basketball_comments_clean_v2.parquet\")"
      ],
      "outputs": [],
      "execution_count": null,
      "metadata": {
        "jupyter": {
          "source_hidden": false,
          "outputs_hidden": false
        },
        "nteract": {
          "transient": {
            "deleting": false
          }
        }
      }
    }
  ],
  "metadata": {
    "kernelspec": {
      "name": "synapse_pyspark",
      "language": "Python",
      "display_name": "Synapse PySpark"
    },
    "language_info": {
      "name": "python",
      "version": "3.8.0",
      "mimetype": "text/x-python",
      "file_extension": ".py",
      "pygments_lexer": "ipython",
      "codemirror_mode": "ipython",
      "nbconvert_exporter": "python"
    },
    "microsoft": {
      "ms_spell_check": {
        "ms_spell_check_language": "en"
      },
      "host": {
        "AzureML": {
          "notebookHasBeenCompleted": true
        }
      }
    },
    "kernel_info": {
      "name": "synapse_pyspark"
    },
    "nteract": {
      "version": "nteract-front-end@1.0.0"
    }
  },
  "nbformat": 4,
  "nbformat_minor": 2
}
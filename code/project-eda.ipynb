{
 "cells": [
  {
   "cell_type": "markdown",
   "metadata": {},
   "source": [
    "## Project EDA"
   ]
  },
  {
   "cell_type": "markdown",
   "metadata": {},
   "source": [
    "# Overview of the Project\n",
    "\n",
    "This project will use the given Reddit data to explore how Reddit users view, react to, and analyze professional and colleagiate basketball. We will compare sentiments and use external datasets such as team records and injuries to better understand how Reddit users react to their team successes or failures. \n",
    "\n",
    "This project will center around three different areas of analysis: exploratory data analysis, natural language processing (NLP), and machine learning. We expect these three different areas of analysis to display different areas of the dataset and allow us to answer a variety of questions about this data. We will use the Reddit data to explore the differences in sentiment between professional and colleagiate basketball fans and how the fans of the top teams from 2021-2022 reacted over the course of the season.\n",
    "\n",
    "We chose to limit our data to 2021-2022 because we wanted to ensure that our data captured an entire basketball season, both professional and colleagiate. These seasons are slightly different but do overlap: the colleagiate season ranges from November to about March, while the professional basketball season ranges from October to June. By taking our data from October 2021 to June 2022, we are able to ensure that we can capture the data from an entire basketball season, both for college and professional.\n",
    "\n",
    "# Overview of Professional and Colleagiate Basketball"
   ]
  },
  {
   "cell_type": "markdown",
   "metadata": {},
   "source": []
  }
 ],
 "metadata": {
  "language_info": {
   "name": "python"
  }
 },
 "nbformat": 4,
 "nbformat_minor": 2
}

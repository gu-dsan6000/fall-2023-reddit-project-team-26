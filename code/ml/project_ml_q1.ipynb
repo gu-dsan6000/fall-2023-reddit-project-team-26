{
  "cells": [
    {
      "cell_type": "code",
      "source": [
        "spark"
      ],
      "outputs": [
        {
          "output_type": "display_data",
          "data": {
            "application/vnd.livy.statement-meta+json": {
              "spark_pool": "d3c1b951-094c-48e1-919d-e32bc175397b",
              "session_id": "43",
              "statement_id": 6,
              "state": "finished",
              "livy_statement_state": "available",
              "queued_time": "2023-11-28T18:41:16.2314998Z",
              "session_start_time": "2023-11-28T18:41:16.2758567Z",
              "execution_start_time": "2023-11-28T18:42:31.0897328Z",
              "execution_finish_time": "2023-11-28T18:42:31.469015Z",
              "spark_jobs": {
                "numbers": {
                  "FAILED": 0,
                  "RUNNING": 0,
                  "UNKNOWN": 0,
                  "SUCCEEDED": 0
                },
                "jobs": [],
                "limit": 20,
                "rule": "ALL_DESC"
              },
              "parent_msg_id": "4c691eb4-cb61-4b44-8fa5-0b91f6d326a9"
            },
            "text/plain": "StatementMeta(d3c1b951-094c-48e1-919d-e32bc175397b, 43, 6, Finished, Available)"
          },
          "metadata": {}
        },
        {
          "output_type": "execute_result",
          "execution_count": 11,
          "data": {
            "text/plain": "<pyspark.sql.session.SparkSession at 0x7f9aff0f62b0>",
            "text/html": "\n            <div>\n                <p><b>SparkSession - hive</b></p>\n                \n        <div>\n            <p><b>SparkContext</b></p>\n\n            <p><a href=\"http://vm-2d047532:44841\">Spark UI</a></p>\n\n            <dl>\n              <dt>Version</dt>\n                <dd><code>v3.2.2.5.1-100879434</code></dd>\n              <dt>Master</dt>\n                <dd><code>yarn</code></dd>\n              <dt>AppName</dt>\n                <dd><code>Azure ML Experiment</code></dd>\n            </dl>\n        </div>\n        \n            </div>\n        "
          },
          "metadata": {}
        }
      ],
      "execution_count": 1,
      "metadata": {
        "gather": {
          "logged": 1701196951698
        }
      }
    },
    {
      "cell_type": "code",
      "source": [
        "## Necessary Libraries\n",
        "import pandas as pd\n",
        "import matplotlib.pyplot as plt\n",
        "import seaborn as sns\n",
        "from pyspark.sql.functions import *\n",
        "from pyspark.sql import functions as F\n",
        "from pyspark.sql.window import Window\n",
        "\n",
        "from pyspark.ml.feature import VectorAssembler, StringIndexer, OneHotEncoder, IndexToString\n",
        "from pyspark.ml.classification import RandomForestClassifier, LogisticRegression\n",
        "from pyspark.ml import Pipeline\n",
        "from pyspark.ml.evaluation import BinaryClassificationEvaluator"
      ],
      "outputs": [
        {
          "output_type": "display_data",
          "data": {
            "application/vnd.livy.statement-meta+json": {
              "spark_pool": "d3c1b951-094c-48e1-919d-e32bc175397b",
              "session_id": "43",
              "statement_id": 98,
              "state": "finished",
              "livy_statement_state": "available",
              "queued_time": "2023-11-28T19:47:00.1435067Z",
              "session_start_time": null,
              "execution_start_time": "2023-11-28T19:47:00.2714726Z",
              "execution_finish_time": "2023-11-28T19:47:00.573055Z",
              "spark_jobs": {
                "numbers": {
                  "FAILED": 0,
                  "RUNNING": 0,
                  "UNKNOWN": 0,
                  "SUCCEEDED": 0
                },
                "jobs": [],
                "limit": 20,
                "rule": "ALL_DESC"
              },
              "parent_msg_id": "ba5a799c-3ccd-4f8f-a754-43c7d11588b6"
            },
            "text/plain": "StatementMeta(d3c1b951-094c-48e1-919d-e32bc175397b, 43, 98, Finished, Available)"
          },
          "metadata": {}
        }
      ],
      "execution_count": 93,
      "metadata": {
        "jupyter": {
          "source_hidden": false,
          "outputs_hidden": false
        },
        "nteract": {
          "transient": {
            "deleting": false
          }
        },
        "gather": {
          "logged": 1701200821085
        }
      }
    },
    {
      "cell_type": "code",
      "source": [
        "workspace_default_storage_account = \"aml6214727930\"\n",
        "workspace_default_container = \"azureml-blobstore-6653633b-3460-4381-9199-d9e0f368353c\"\n",
        "\n",
        "workspace_wasbs_base_url = (\n",
        "    f\"wasbs://{workspace_default_container}@{workspace_default_storage_account}.blob.core.windows.net/\"\n",
        ")\n",
        "\n",
        "comments_path = \"/basketball_comments_clean_v2.parquet\"\n",
        "submissions_path = \"/basketball_submissions_clean.parquet\"\n",
        "\n",
        "comments = spark.read.parquet(f\"{workspace_wasbs_base_url}{comments_path}\")\n",
        "submissions = spark.read.parquet(f\"{workspace_wasbs_base_url}{submissions_path}\")"
      ],
      "outputs": [
        {
          "output_type": "display_data",
          "data": {
            "application/vnd.livy.statement-meta+json": {
              "spark_pool": "d3c1b951-094c-48e1-919d-e32bc175397b",
              "session_id": "43",
              "statement_id": 8,
              "state": "finished",
              "livy_statement_state": "available",
              "queued_time": "2023-11-28T18:43:03.1261375Z",
              "session_start_time": null,
              "execution_start_time": "2023-11-28T18:43:05.9710959Z",
              "execution_finish_time": "2023-11-28T18:43:16.4204696Z",
              "spark_jobs": {
                "numbers": {
                  "FAILED": 0,
                  "RUNNING": 0,
                  "UNKNOWN": 0,
                  "SUCCEEDED": 2
                },
                "jobs": [
                  {
                    "displayName": "parquet at NativeMethodAccessorImpl.java:0",
                    "dataWritten": 0,
                    "dataRead": 0,
                    "rowCount": 0,
                    "usageDescription": "",
                    "jobId": 1,
                    "name": "parquet at NativeMethodAccessorImpl.java:0",
                    "description": "Job group for statement 8:\nworkspace_default_storage_account = \"aml6214727930\"\nworkspace_default_container = \"azureml-blobstore-6653633b-3460-4381-9199-d9e0f368353c\"\n\nworkspace_wasbs_base_url = (\n    f\"wasbs://{workspace_default_container}@{workspace_default_storage_account}.blob.core.windows.net/\"\n)\n\ncomments_path = \"/basketball_comments_clean_v2.parquet\"\nsubmissions_path = \"/basketball_submissions_clean.parquet\"\n\ncomments = spark.read.parquet(f\"{workspace_wasbs_base_url}{comments_path}\")\nsubmissions = spark.read.parquet(f\"{workspace_wasbs_base_url}{submissions_path}\")",
                    "submissionTime": "2023-11-28T18:43:12.484GMT",
                    "completionTime": "2023-11-28T18:43:15.193GMT",
                    "stageIds": [
                      1
                    ],
                    "jobGroup": "8",
                    "status": "SUCCEEDED",
                    "numTasks": 1,
                    "numActiveTasks": 0,
                    "numCompletedTasks": 1,
                    "numSkippedTasks": 0,
                    "numFailedTasks": 0,
                    "numKilledTasks": 0,
                    "numCompletedIndices": 1,
                    "numActiveStages": 0,
                    "numCompletedStages": 1,
                    "numSkippedStages": 0,
                    "numFailedStages": 0,
                    "killedTasksSummary": {}
                  },
                  {
                    "displayName": "parquet at NativeMethodAccessorImpl.java:0",
                    "dataWritten": 0,
                    "dataRead": 0,
                    "rowCount": 0,
                    "usageDescription": "",
                    "jobId": 0,
                    "name": "parquet at NativeMethodAccessorImpl.java:0",
                    "description": "Job group for statement 8:\nworkspace_default_storage_account = \"aml6214727930\"\nworkspace_default_container = \"azureml-blobstore-6653633b-3460-4381-9199-d9e0f368353c\"\n\nworkspace_wasbs_base_url = (\n    f\"wasbs://{workspace_default_container}@{workspace_default_storage_account}.blob.core.windows.net/\"\n)\n\ncomments_path = \"/basketball_comments_clean_v2.parquet\"\nsubmissions_path = \"/basketball_submissions_clean.parquet\"\n\ncomments = spark.read.parquet(f\"{workspace_wasbs_base_url}{comments_path}\")\nsubmissions = spark.read.parquet(f\"{workspace_wasbs_base_url}{submissions_path}\")",
                    "submissionTime": "2023-11-28T18:43:06.995GMT",
                    "completionTime": "2023-11-28T18:43:10.351GMT",
                    "stageIds": [
                      0
                    ],
                    "jobGroup": "8",
                    "status": "SUCCEEDED",
                    "numTasks": 1,
                    "numActiveTasks": 0,
                    "numCompletedTasks": 1,
                    "numSkippedTasks": 0,
                    "numFailedTasks": 0,
                    "numKilledTasks": 0,
                    "numCompletedIndices": 1,
                    "numActiveStages": 0,
                    "numCompletedStages": 1,
                    "numSkippedStages": 0,
                    "numFailedStages": 0,
                    "killedTasksSummary": {}
                  }
                ],
                "limit": 20,
                "rule": "ALL_DESC"
              },
              "parent_msg_id": "303d5612-3bb6-4449-832f-2f0468c5beea"
            },
            "text/plain": "StatementMeta(d3c1b951-094c-48e1-919d-e32bc175397b, 43, 8, Finished, Available)"
          },
          "metadata": {}
        }
      ],
      "execution_count": 3,
      "metadata": {
        "jupyter": {
          "source_hidden": false,
          "outputs_hidden": false
        },
        "nteract": {
          "transient": {
            "deleting": false
          }
        },
        "gather": {
          "logged": 1701196996605
        }
      }
    },
    {
      "cell_type": "code",
      "source": [
        "comments = comments.cache()\n",
        "submissions = submissions.cache()"
      ],
      "outputs": [
        {
          "output_type": "display_data",
          "data": {
            "application/vnd.livy.statement-meta+json": {
              "spark_pool": "d3c1b951-094c-48e1-919d-e32bc175397b",
              "session_id": "43",
              "statement_id": 9,
              "state": "finished",
              "livy_statement_state": "available",
              "queued_time": "2023-11-28T18:43:07.387652Z",
              "session_start_time": null,
              "execution_start_time": "2023-11-28T18:43:16.5281052Z",
              "execution_finish_time": "2023-11-28T18:43:17.9859248Z",
              "spark_jobs": {
                "numbers": {
                  "FAILED": 0,
                  "RUNNING": 0,
                  "UNKNOWN": 0,
                  "SUCCEEDED": 0
                },
                "jobs": [],
                "limit": 20,
                "rule": "ALL_DESC"
              },
              "parent_msg_id": "0936dd69-2dfb-4f48-83a4-0db66f2d49bb"
            },
            "text/plain": "StatementMeta(d3c1b951-094c-48e1-919d-e32bc175397b, 43, 9, Finished, Available)"
          },
          "metadata": {}
        }
      ],
      "execution_count": 4,
      "metadata": {
        "jupyter": {
          "source_hidden": false,
          "outputs_hidden": false
        },
        "nteract": {
          "transient": {
            "deleting": false
          }
        },
        "gather": {
          "logged": 1701196998143
        }
      }
    },
    {
      "cell_type": "code",
      "source": [
        "comments = comments.filter(col(\"subreddit\")==\"CollegeBasketball\")\n",
        "comments = comments.withColumn(\"hour\", hour(\"created_utc\"))\n",
        "comments = comments.withColumn(\"popular\", when(comments[\"score\"] > 8, 1).otherwise(0))\n",
        "comments = comments.withColumn(\"comment_length\", length(\"body\"))"
      ],
      "outputs": [
        {
          "output_type": "display_data",
          "data": {
            "application/vnd.livy.statement-meta+json": {
              "spark_pool": "d3c1b951-094c-48e1-919d-e32bc175397b",
              "session_id": "43",
              "statement_id": 125,
              "state": "finished",
              "livy_statement_state": "available",
              "queued_time": "2023-11-28T19:53:56.7485079Z",
              "session_start_time": null,
              "execution_start_time": "2023-11-28T19:53:56.8895449Z",
              "execution_finish_time": "2023-11-28T19:53:57.6788273Z",
              "spark_jobs": {
                "numbers": {
                  "FAILED": 0,
                  "RUNNING": 0,
                  "UNKNOWN": 0,
                  "SUCCEEDED": 0
                },
                "jobs": [],
                "limit": 20,
                "rule": "ALL_DESC"
              },
              "parent_msg_id": "3af5bc91-07c3-426b-9e25-9be83cacf506"
            },
            "text/plain": "StatementMeta(d3c1b951-094c-48e1-919d-e32bc175397b, 43, 125, Finished, Available)"
          },
          "metadata": {}
        }
      ],
      "execution_count": 120,
      "metadata": {
        "jupyter": {
          "source_hidden": false,
          "outputs_hidden": false
        },
        "nteract": {
          "transient": {
            "deleting": false
          }
        },
        "gather": {
          "logged": 1701201237756
        }
      }
    },
    {
      "cell_type": "code",
      "source": [
        "pandas_df = comments.select(\"popular\").toPandas()\n",
        "\n",
        "counts = pandas_df['popular'].value_counts()\n",
        "counts.plot(kind='bar', color=['lightblue', 'darkblue'])\n",
        "\n",
        "# Add labels and title\n",
        "plt.title(\"Distribution of Popular Comments\")\n",
        "plt.xlabel('Popular')\n",
        "plt.ylabel('Count')\n",
        "plt.xticks(rotation = 0, ticks = [0,1],labels = [\"Unpopular\", \"Popular\"])\n",
        "# Show the plot\n",
        "plt.show()"
      ],
      "outputs": [
        {
          "output_type": "display_data",
          "data": {
            "application/vnd.livy.statement-meta+json": {
              "spark_pool": "d3c1b951-094c-48e1-919d-e32bc175397b",
              "session_id": "43",
              "statement_id": 126,
              "state": "finished",
              "livy_statement_state": "available",
              "queued_time": "2023-11-28T19:53:59.4595296Z",
              "session_start_time": null,
              "execution_start_time": "2023-11-28T19:53:59.5608976Z",
              "execution_finish_time": "2023-11-28T19:54:00.374937Z",
              "spark_jobs": {
                "numbers": {
                  "FAILED": 0,
                  "RUNNING": 0,
                  "UNKNOWN": 0,
                  "SUCCEEDED": 1
                },
                "jobs": [
                  {
                    "displayName": "toPandas at /tmp/ipykernel_19395/2809945764.py:1",
                    "dataWritten": 0,
                    "dataRead": 0,
                    "rowCount": 0,
                    "usageDescription": "",
                    "jobId": 242,
                    "name": "toPandas at /tmp/ipykernel_19395/2809945764.py:1",
                    "description": "Job group for statement 126:\npandas_df = comments.select(\"popular\").toPandas()\n\ncounts = pandas_df['popular'].value_counts()\ncounts.plot(kind='bar', color=['lightblue', 'darkblue'])\n\n# Add labels and title\nplt.title(\"Distribution of Popular Comments\")\nplt.xlabel('Popular')\nplt.ylabel('Count')\nplt.xticks(rotation = 0, ticks = [0,1],labels = [\"Unpopular\", \"Popular\"])\n# Show the plot\nplt.show()",
                    "submissionTime": "2023-11-28T19:53:59.617GMT",
                    "completionTime": "2023-11-28T19:53:59.792GMT",
                    "stageIds": [
                      602
                    ],
                    "jobGroup": "126",
                    "status": "SUCCEEDED",
                    "numTasks": 16,
                    "numActiveTasks": 0,
                    "numCompletedTasks": 16,
                    "numSkippedTasks": 0,
                    "numFailedTasks": 0,
                    "numKilledTasks": 0,
                    "numCompletedIndices": 16,
                    "numActiveStages": 0,
                    "numCompletedStages": 1,
                    "numSkippedStages": 0,
                    "numFailedStages": 0,
                    "killedTasksSummary": {}
                  }
                ],
                "limit": 20,
                "rule": "ALL_DESC"
              },
              "parent_msg_id": "24cce40c-c1d3-41b6-8688-242347a57342"
            },
            "text/plain": "StatementMeta(d3c1b951-094c-48e1-919d-e32bc175397b, 43, 126, Finished, Available)"
          },
          "metadata": {}
        },
        {
          "output_type": "display_data",
          "data": {
            "text/plain": "<Figure size 432x288 with 1 Axes>",
            "image/png": "[encoded data removed]"
          },
          "metadata": {
            "needs_background": "light"
          }
        }
      ],
      "execution_count": 121,
      "metadata": {
        "jupyter": {
          "source_hidden": false,
          "outputs_hidden": false
        },
        "nteract": {
          "transient": {
            "deleting": false
          }
        },
        "gather": {
          "logged": 1701201240553
        }
      }
    },
    {
      "cell_type": "code",
      "source": [
        "window_spec = Window.partitionBy(\"author\")\n",
        "comments = comments.withColumn(\"author_activity\", F.count(\"author\").over(window_spec))"
      ],
      "outputs": [
        {
          "output_type": "display_data",
          "data": {
            "application/vnd.livy.statement-meta+json": {
              "spark_pool": "d3c1b951-094c-48e1-919d-e32bc175397b",
              "session_id": "43",
              "statement_id": 54,
              "state": "finished",
              "livy_statement_state": "available",
              "queued_time": "2023-11-28T19:14:46.4757264Z",
              "session_start_time": null,
              "execution_start_time": "2023-11-28T19:14:46.6167339Z",
              "execution_finish_time": "2023-11-28T19:14:46.9612303Z",
              "spark_jobs": {
                "numbers": {
                  "FAILED": 0,
                  "RUNNING": 0,
                  "UNKNOWN": 0,
                  "SUCCEEDED": 0
                },
                "jobs": [],
                "limit": 20,
                "rule": "ALL_DESC"
              },
              "parent_msg_id": "058c0288-439d-4edb-8649-f2ff6b790dc7"
            },
            "text/plain": "StatementMeta(d3c1b951-094c-48e1-919d-e32bc175397b, 43, 54, Finished, Available)"
          },
          "metadata": {}
        }
      ],
      "execution_count": 49,
      "metadata": {
        "jupyter": {
          "source_hidden": false,
          "outputs_hidden": false
        },
        "nteract": {
          "transient": {
            "deleting": false
          }
        },
        "gather": {
          "logged": 1701198887095
        }
      }
    },
    {
      "cell_type": "code",
      "source": [
        "train_data, test_data = comments.randomSplit([0.8, 0.2], seed = 82)\n",
        "print(\"Number of training records: \" + str(train_data.count()))\n",
        "print(\"Number of testing records : \" + str(test_data.count()))\n",
        "train_data = train_data.cache()"
      ],
      "outputs": [
        {
          "output_type": "display_data",
          "data": {
            "application/vnd.livy.statement-meta+json": {
              "spark_pool": "d3c1b951-094c-48e1-919d-e32bc175397b",
              "session_id": "43",
              "statement_id": 127,
              "state": "finished",
              "livy_statement_state": "available",
              "queued_time": "2023-11-28T19:54:07.3085713Z",
              "session_start_time": null,
              "execution_start_time": "2023-11-28T19:54:07.4155646Z",
              "execution_finish_time": "2023-11-28T19:54:13.9149412Z",
              "spark_jobs": {
                "numbers": {
                  "FAILED": 0,
                  "RUNNING": 0,
                  "UNKNOWN": 0,
                  "SUCCEEDED": 6
                },
                "jobs": [
                  {
                    "displayName": "count at NativeMethodAccessorImpl.java:0",
                    "dataWritten": 0,
                    "dataRead": 0,
                    "rowCount": 0,
                    "usageDescription": "",
                    "jobId": 248,
                    "name": "count at NativeMethodAccessorImpl.java:0",
                    "description": "Job group for statement 127:\ntrain_data, test_data = comments.randomSplit([0.8, 0.2], seed = 82)\nprint(\"Number of training records: \" + str(train_data.count()))\nprint(\"Number of testing records : \" + str(test_data.count()))\ntrain_data = train_data.cache()",
                    "submissionTime": "2023-11-28T19:54:12.873GMT",
                    "completionTime": "2023-11-28T19:54:12.892GMT",
                    "stageIds": [
                      614,
                      612,
                      613
                    ],
                    "jobGroup": "127",
                    "status": "SUCCEEDED",
                    "numTasks": 34,
                    "numActiveTasks": 0,
                    "numCompletedTasks": 1,
                    "numSkippedTasks": 33,
                    "numFailedTasks": 0,
                    "numKilledTasks": 0,
                    "numCompletedIndices": 1,
                    "numActiveStages": 0,
                    "numCompletedStages": 1,
                    "numSkippedStages": 2,
                    "numFailedStages": 0,
                    "killedTasksSummary": {}
                  },
                  {
                    "displayName": "count at NativeMethodAccessorImpl.java:0",
                    "dataWritten": 0,
                    "dataRead": 0,
                    "rowCount": 0,
                    "usageDescription": "",
                    "jobId": 247,
                    "name": "count at NativeMethodAccessorImpl.java:0",
                    "description": "Job group for statement 127:\ntrain_data, test_data = comments.randomSplit([0.8, 0.2], seed = 82)\nprint(\"Number of training records: \" + str(train_data.count()))\nprint(\"Number of testing records : \" + str(test_data.count()))\ntrain_data = train_data.cache()",
                    "submissionTime": "2023-11-28T19:54:11.551GMT",
                    "completionTime": "2023-11-28T19:54:12.852GMT",
                    "stageIds": [
                      610,
                      611
                    ],
                    "jobGroup": "127",
                    "status": "SUCCEEDED",
                    "numTasks": 33,
                    "numActiveTasks": 0,
                    "numCompletedTasks": 17,
                    "numSkippedTasks": 16,
                    "numFailedTasks": 0,
                    "numKilledTasks": 0,
                    "numCompletedIndices": 17,
                    "numActiveStages": 0,
                    "numCompletedStages": 1,
                    "numSkippedStages": 1,
                    "numFailedStages": 0,
                    "killedTasksSummary": {}
                  },
                  {
                    "displayName": "count at NativeMethodAccessorImpl.java:0",
                    "dataWritten": 0,
                    "dataRead": 0,
                    "rowCount": 0,
                    "usageDescription": "",
                    "jobId": 246,
                    "name": "count at NativeMethodAccessorImpl.java:0",
                    "description": "Job group for statement 127:\ntrain_data, test_data = comments.randomSplit([0.8, 0.2], seed = 82)\nprint(\"Number of training records: \" + str(train_data.count()))\nprint(\"Number of testing records : \" + str(test_data.count()))\ntrain_data = train_data.cache()",
                    "submissionTime": "2023-11-28T19:54:10.222GMT",
                    "completionTime": "2023-11-28T19:54:11.381GMT",
                    "stageIds": [
                      609
                    ],
                    "jobGroup": "127",
                    "status": "SUCCEEDED",
                    "numTasks": 16,
                    "numActiveTasks": 0,
                    "numCompletedTasks": 16,
                    "numSkippedTasks": 0,
                    "numFailedTasks": 0,
                    "numKilledTasks": 0,
                    "numCompletedIndices": 16,
                    "numActiveStages": 0,
                    "numCompletedStages": 1,
                    "numSkippedStages": 0,
                    "numFailedStages": 0,
                    "killedTasksSummary": {}
                  },
                  {
                    "displayName": "count at NativeMethodAccessorImpl.java:0",
                    "dataWritten": 0,
                    "dataRead": 0,
                    "rowCount": 0,
                    "usageDescription": "",
                    "jobId": 245,
                    "name": "count at NativeMethodAccessorImpl.java:0",
                    "description": "Job group for statement 127:\ntrain_data, test_data = comments.randomSplit([0.8, 0.2], seed = 82)\nprint(\"Number of training records: \" + str(train_data.count()))\nprint(\"Number of testing records : \" + str(test_data.count()))\ntrain_data = train_data.cache()",
                    "submissionTime": "2023-11-28T19:54:10.133GMT",
                    "completionTime": "2023-11-28T19:54:10.168GMT",
                    "stageIds": [
                      607,
                      608,
                      606
                    ],
                    "jobGroup": "127",
                    "status": "SUCCEEDED",
                    "numTasks": 34,
                    "numActiveTasks": 0,
                    "numCompletedTasks": 1,
                    "numSkippedTasks": 33,
                    "numFailedTasks": 0,
                    "numKilledTasks": 0,
                    "numCompletedIndices": 1,
                    "numActiveStages": 0,
                    "numCompletedStages": 1,
                    "numSkippedStages": 2,
                    "numFailedStages": 0,
                    "killedTasksSummary": {}
                  },
                  {
                    "displayName": "count at NativeMethodAccessorImpl.java:0",
                    "dataWritten": 0,
                    "dataRead": 0,
                    "rowCount": 0,
                    "usageDescription": "",
                    "jobId": 244,
                    "name": "count at NativeMethodAccessorImpl.java:0",
                    "description": "Job group for statement 127:\ntrain_data, test_data = comments.randomSplit([0.8, 0.2], seed = 82)\nprint(\"Number of training records: \" + str(train_data.count()))\nprint(\"Number of testing records : \" + str(test_data.count()))\ntrain_data = train_data.cache()",
                    "submissionTime": "2023-11-28T19:54:08.789GMT",
                    "completionTime": "2023-11-28T19:54:10.117GMT",
                    "stageIds": [
                      604,
                      605
                    ],
                    "jobGroup": "127",
                    "status": "SUCCEEDED",
                    "numTasks": 33,
                    "numActiveTasks": 0,
                    "numCompletedTasks": 17,
                    "numSkippedTasks": 16,
                    "numFailedTasks": 0,
                    "numKilledTasks": 0,
                    "numCompletedIndices": 17,
                    "numActiveStages": 0,
                    "numCompletedStages": 1,
                    "numSkippedStages": 1,
                    "numFailedStages": 0,
                    "killedTasksSummary": {}
                  },
                  {
                    "displayName": "count at NativeMethodAccessorImpl.java:0",
                    "dataWritten": 0,
                    "dataRead": 0,
                    "rowCount": 0,
                    "usageDescription": "",
                    "jobId": 243,
                    "name": "count at NativeMethodAccessorImpl.java:0",
                    "description": "Job group for statement 127:\ntrain_data, test_data = comments.randomSplit([0.8, 0.2], seed = 82)\nprint(\"Number of training records: \" + str(train_data.count()))\nprint(\"Number of testing records : \" + str(test_data.count()))\ntrain_data = train_data.cache()",
                    "submissionTime": "2023-11-28T19:54:07.456GMT",
                    "completionTime": "2023-11-28T19:54:08.702GMT",
                    "stageIds": [
                      603
                    ],
                    "jobGroup": "127",
                    "status": "SUCCEEDED",
                    "numTasks": 16,
                    "numActiveTasks": 0,
                    "numCompletedTasks": 16,
                    "numSkippedTasks": 0,
                    "numFailedTasks": 0,
                    "numKilledTasks": 0,
                    "numCompletedIndices": 16,
                    "numActiveStages": 0,
                    "numCompletedStages": 1,
                    "numSkippedStages": 0,
                    "numFailedStages": 0,
                    "killedTasksSummary": {}
                  }
                ],
                "limit": 20,
                "rule": "ALL_DESC"
              },
              "parent_msg_id": "8cf9e66b-f402-4bef-9174-90e75b1a1406"
            },
            "text/plain": "StatementMeta(d3c1b951-094c-48e1-919d-e32bc175397b, 43, 127, Finished, Available)"
          },
          "metadata": {}
        },
        {
          "output_type": "stream",
          "name": "stdout",
          "text": "Number of training records: 1186384\nNumber of testing records : 296383\n"
        }
      ],
      "execution_count": 122,
      "metadata": {
        "jupyter": {
          "source_hidden": false,
          "outputs_hidden": false
        },
        "nteract": {
          "transient": {
            "deleting": false
          }
        },
        "gather": {
          "logged": 1701201254225
        }
      }
    },
    {
      "cell_type": "code",
      "source": [
        "stringIndexer_team = StringIndexer(inputCol='supported_team', outputCol=\"supported_team_index\", handleInvalid=\"skip\") \n",
        "label_indexer = StringIndexer(inputCol=\"popular\", outputCol=\"popular_label\", handleInvalid=\"skip\")\n",
        "onehot_team = OneHotEncoder(inputCol=\"supported_team_index\", outputCol=\"supported_team_vec\")"
      ],
      "outputs": [
        {
          "output_type": "display_data",
          "data": {
            "application/vnd.livy.statement-meta+json": {
              "spark_pool": "d3c1b951-094c-48e1-919d-e32bc175397b",
              "session_id": "43",
              "statement_id": 128,
              "state": "finished",
              "livy_statement_state": "available",
              "queued_time": "2023-11-28T19:54:17.3179946Z",
              "session_start_time": null,
              "execution_start_time": "2023-11-28T19:54:17.4393429Z",
              "execution_finish_time": "2023-11-28T19:54:17.7511941Z",
              "spark_jobs": {
                "numbers": {
                  "FAILED": 0,
                  "RUNNING": 0,
                  "UNKNOWN": 0,
                  "SUCCEEDED": 0
                },
                "jobs": [],
                "limit": 20,
                "rule": "ALL_DESC"
              },
              "parent_msg_id": "a965d076-a98c-4ba5-9f6c-7f0127eb9f23"
            },
            "text/plain": "StatementMeta(d3c1b951-094c-48e1-919d-e32bc175397b, 43, 128, Finished, Available)"
          },
          "metadata": {}
        }
      ],
      "execution_count": 123,
      "metadata": {
        "jupyter": {
          "source_hidden": false,
          "outputs_hidden": false
        },
        "nteract": {
          "transient": {
            "deleting": false
          }
        },
        "gather": {
          "logged": 1701201257775
        }
      }
    },
    {
      "cell_type": "code",
      "source": [
        "feature_cols = ['comment_length', 'day', 'month', 'year', 'hour', 'author_activity',\"supported_team_vec\"]\n",
        "assembler = VectorAssembler(inputCols=feature_cols, outputCol=\"features\")"
      ],
      "outputs": [
        {
          "output_type": "display_data",
          "data": {
            "application/vnd.livy.statement-meta+json": {
              "spark_pool": "d3c1b951-094c-48e1-919d-e32bc175397b",
              "session_id": "43",
              "statement_id": 129,
              "state": "finished",
              "livy_statement_state": "available",
              "queued_time": "2023-11-28T19:54:18.3746628Z",
              "session_start_time": null,
              "execution_start_time": "2023-11-28T19:54:18.4687421Z",
              "execution_finish_time": "2023-11-28T19:54:18.7770067Z",
              "spark_jobs": {
                "numbers": {
                  "FAILED": 0,
                  "RUNNING": 0,
                  "UNKNOWN": 0,
                  "SUCCEEDED": 0
                },
                "jobs": [],
                "limit": 20,
                "rule": "ALL_DESC"
              },
              "parent_msg_id": "d9746a4f-508d-4cdd-b7db-3dda95f41572"
            },
            "text/plain": "StatementMeta(d3c1b951-094c-48e1-919d-e32bc175397b, 43, 129, Finished, Available)"
          },
          "metadata": {}
        }
      ],
      "execution_count": 124,
      "metadata": {
        "jupyter": {
          "source_hidden": false,
          "outputs_hidden": false
        },
        "nteract": {
          "transient": {
            "deleting": false
          }
        },
        "gather": {
          "logged": 1701201259131
        }
      }
    },
    {
      "cell_type": "code",
      "source": [
        "labelConverter = IndexToString(inputCol=\"prediction\", \n",
        "                               outputCol=\"predictedPopularity\", \n",
        "                               labels= label_indexer.fit(train_data).labels)"
      ],
      "outputs": [
        {
          "output_type": "display_data",
          "data": {
            "application/vnd.livy.statement-meta+json": {
              "spark_pool": "d3c1b951-094c-48e1-919d-e32bc175397b",
              "session_id": "43",
              "statement_id": 130,
              "state": "finished",
              "livy_statement_state": "available",
              "queued_time": "2023-11-28T19:54:19.7393859Z",
              "session_start_time": null,
              "execution_start_time": "2023-11-28T19:54:19.8428479Z",
              "execution_finish_time": "2023-11-28T19:54:24.7309065Z",
              "spark_jobs": {
                "numbers": {
                  "FAILED": 0,
                  "RUNNING": 0,
                  "UNKNOWN": 0,
                  "SUCCEEDED": 2
                },
                "jobs": [
                  {
                    "displayName": "collect at StringIndexer.scala:204",
                    "dataWritten": 0,
                    "dataRead": 0,
                    "rowCount": 0,
                    "usageDescription": "",
                    "jobId": 250,
                    "name": "collect at StringIndexer.scala:204",
                    "description": "Job group for statement 130:\nlabelConverter = IndexToString(inputCol=\"prediction\", \n                               outputCol=\"predictedPopularity\", \n                               labels= label_indexer.fit(train_data).labels)",
                    "submissionTime": "2023-11-28T19:54:23.663GMT",
                    "completionTime": "2023-11-28T19:54:23.716GMT",
                    "stageIds": [
                      619,
                      617,
                      618
                    ],
                    "jobGroup": "130",
                    "status": "SUCCEEDED",
                    "numTasks": 217,
                    "numActiveTasks": 0,
                    "numCompletedTasks": 1,
                    "numSkippedTasks": 216,
                    "numFailedTasks": 0,
                    "numKilledTasks": 0,
                    "numCompletedIndices": 1,
                    "numActiveStages": 0,
                    "numCompletedStages": 1,
                    "numSkippedStages": 2,
                    "numFailedStages": 0,
                    "killedTasksSummary": {}
                  },
                  {
                    "displayName": "collect at StringIndexer.scala:204",
                    "dataWritten": 0,
                    "dataRead": 0,
                    "rowCount": 0,
                    "usageDescription": "",
                    "jobId": 249,
                    "name": "collect at StringIndexer.scala:204",
                    "description": "Job group for statement 130:\nlabelConverter = IndexToString(inputCol=\"prediction\", \n                               outputCol=\"predictedPopularity\", \n                               labels= label_indexer.fit(train_data).labels)",
                    "submissionTime": "2023-11-28T19:54:19.972GMT",
                    "completionTime": "2023-11-28T19:54:23.626GMT",
                    "stageIds": [
                      615,
                      616
                    ],
                    "jobGroup": "130",
                    "status": "SUCCEEDED",
                    "numTasks": 216,
                    "numActiveTasks": 0,
                    "numCompletedTasks": 216,
                    "numSkippedTasks": 0,
                    "numFailedTasks": 0,
                    "numKilledTasks": 0,
                    "numCompletedIndices": 216,
                    "numActiveStages": 0,
                    "numCompletedStages": 2,
                    "numSkippedStages": 0,
                    "numFailedStages": 0,
                    "killedTasksSummary": {}
                  }
                ],
                "limit": 20,
                "rule": "ALL_DESC"
              },
              "parent_msg_id": "68e372b1-fca1-4e2d-be6a-3b66b2621793"
            },
            "text/plain": "StatementMeta(d3c1b951-094c-48e1-919d-e32bc175397b, 43, 130, Finished, Available)"
          },
          "metadata": {}
        }
      ],
      "execution_count": 125,
      "metadata": {
        "jupyter": {
          "source_hidden": false,
          "outputs_hidden": false
        },
        "nteract": {
          "transient": {
            "deleting": false
          }
        },
        "gather": {
          "logged": 1701201264809
        }
      }
    },
    {
      "cell_type": "code",
      "source": [
        "model = RandomForestClassifier(featuresCol=\"features\", labelCol=\"popular_label\", numTrees = 100)"
      ],
      "outputs": [
        {
          "output_type": "display_data",
          "data": {
            "application/vnd.livy.statement-meta+json": {
              "spark_pool": "d3c1b951-094c-48e1-919d-e32bc175397b",
              "session_id": "43",
              "statement_id": 131,
              "state": "finished",
              "livy_statement_state": "available",
              "queued_time": "2023-11-28T19:54:25.6136071Z",
              "session_start_time": null,
              "execution_start_time": "2023-11-28T19:54:25.7149871Z",
              "execution_finish_time": "2023-11-28T19:54:26.0087409Z",
              "spark_jobs": {
                "numbers": {
                  "FAILED": 0,
                  "RUNNING": 0,
                  "UNKNOWN": 0,
                  "SUCCEEDED": 0
                },
                "jobs": [],
                "limit": 20,
                "rule": "ALL_DESC"
              },
              "parent_msg_id": "8aae8bdd-e412-4fb0-854f-dca128f68f44"
            },
            "text/plain": "StatementMeta(d3c1b951-094c-48e1-919d-e32bc175397b, 43, 131, Finished, Available)"
          },
          "metadata": {}
        }
      ],
      "execution_count": 126,
      "metadata": {
        "jupyter": {
          "source_hidden": false,
          "outputs_hidden": false
        },
        "nteract": {
          "transient": {
            "deleting": false
          }
        },
        "gather": {
          "logged": 1701201266108
        }
      }
    },
    {
      "cell_type": "code",
      "source": [
        "model = LogisticRegression(featuresCol=\"features\", labelCol=\"popular_label\")"
      ],
      "outputs": [
        {
          "output_type": "display_data",
          "data": {
            "application/vnd.livy.statement-meta+json": {
              "spark_pool": "d3c1b951-094c-48e1-919d-e32bc175397b",
              "session_id": "43",
              "statement_id": 114,
              "state": "finished",
              "livy_statement_state": "available",
              "queued_time": "2023-11-28T19:50:59.3283003Z",
              "session_start_time": null,
              "execution_start_time": "2023-11-28T19:50:59.4262214Z",
              "execution_finish_time": "2023-11-28T19:50:59.7230483Z",
              "spark_jobs": {
                "numbers": {
                  "FAILED": 0,
                  "RUNNING": 0,
                  "UNKNOWN": 0,
                  "SUCCEEDED": 0
                },
                "jobs": [],
                "limit": 20,
                "rule": "ALL_DESC"
              },
              "parent_msg_id": "90f26501-bdf3-4466-a495-028e56b166e1"
            },
            "text/plain": "StatementMeta(d3c1b951-094c-48e1-919d-e32bc175397b, 43, 114, Finished, Available)"
          },
          "metadata": {}
        }
      ],
      "execution_count": 109,
      "metadata": {
        "jupyter": {
          "source_hidden": false,
          "outputs_hidden": false
        },
        "nteract": {
          "transient": {
            "deleting": false
          }
        },
        "gather": {
          "logged": 1701201059824
        }
      }
    },
    {
      "cell_type": "code",
      "source": [
        "pipeline_model = Pipeline(stages = [\n",
        "    stringIndexer_team,\n",
        "    label_indexer,\n",
        "    onehot_team,\n",
        "    assembler,\n",
        "    model,\n",
        "    labelConverter\n",
        "])"
      ],
      "outputs": [
        {
          "output_type": "display_data",
          "data": {
            "application/vnd.livy.statement-meta+json": {
              "spark_pool": "d3c1b951-094c-48e1-919d-e32bc175397b",
              "session_id": "43",
              "statement_id": 132,
              "state": "finished",
              "livy_statement_state": "available",
              "queued_time": "2023-11-28T19:54:27.7563461Z",
              "session_start_time": null,
              "execution_start_time": "2023-11-28T19:54:27.8622709Z",
              "execution_finish_time": "2023-11-28T19:54:28.1710995Z",
              "spark_jobs": {
                "numbers": {
                  "FAILED": 0,
                  "RUNNING": 0,
                  "UNKNOWN": 0,
                  "SUCCEEDED": 0
                },
                "jobs": [],
                "limit": 20,
                "rule": "ALL_DESC"
              },
              "parent_msg_id": "56e50a60-3d4c-4379-858f-63c8144f60d6"
            },
            "text/plain": "StatementMeta(d3c1b951-094c-48e1-919d-e32bc175397b, 43, 132, Finished, Available)"
          },
          "metadata": {}
        }
      ],
      "execution_count": 127,
      "metadata": {
        "jupyter": {
          "source_hidden": false,
          "outputs_hidden": false
        },
        "nteract": {
          "transient": {
            "deleting": false
          }
        },
        "gather": {
          "logged": 1701201268228
        }
      }
    },
    {
      "cell_type": "code",
      "source": [
        "model = pipeline_model.fit(train_data)"
      ],
      "outputs": [
        {
          "output_type": "display_data",
          "data": {
            "application/vnd.livy.statement-meta+json": {
              "spark_pool": "d3c1b951-094c-48e1-919d-e32bc175397b",
              "session_id": "43",
              "statement_id": 133,
              "state": "finished",
              "livy_statement_state": "available",
              "queued_time": "2023-11-28T19:54:28.857431Z",
              "session_start_time": null,
              "execution_start_time": "2023-11-28T19:54:29.0071818Z",
              "execution_finish_time": "2023-11-28T19:55:21.0835195Z",
              "spark_jobs": {
                "numbers": {
                  "FAILED": 0,
                  "RUNNING": 0,
                  "UNKNOWN": 0,
                  "SUCCEEDED": 12
                },
                "jobs": [
                  {
                    "displayName": "collectAsMap at RandomForest.scala:663",
                    "dataWritten": 0,
                    "dataRead": 0,
                    "rowCount": 0,
                    "usageDescription": "",
                    "jobId": 262,
                    "name": "collectAsMap at RandomForest.scala:663",
                    "description": "Job group for statement 133:\nmodel = pipeline_model.fit(train_data)",
                    "submissionTime": "2023-11-28T19:55:07.375GMT",
                    "completionTime": "2023-11-28T19:55:18.852GMT",
                    "stageIds": [
                      651,
                      649,
                      650
                    ],
                    "jobGroup": "133",
                    "status": "SUCCEEDED",
                    "numTasks": 416,
                    "numActiveTasks": 0,
                    "numCompletedTasks": 400,
                    "numSkippedTasks": 16,
                    "numFailedTasks": 0,
                    "numKilledTasks": 0,
                    "numCompletedIndices": 400,
                    "numActiveStages": 0,
                    "numCompletedStages": 2,
                    "numSkippedStages": 1,
                    "numFailedStages": 0,
                    "killedTasksSummary": {}
                  },
                  {
                    "displayName": "collectAsMap at RandomForest.scala:663",
                    "dataWritten": 0,
                    "dataRead": 0,
                    "rowCount": 0,
                    "usageDescription": "",
                    "jobId": 261,
                    "name": "collectAsMap at RandomForest.scala:663",
                    "description": "Job group for statement 133:\nmodel = pipeline_model.fit(train_data)",
                    "submissionTime": "2023-11-28T19:54:57.118GMT",
                    "completionTime": "2023-11-28T19:55:07.338GMT",
                    "stageIds": [
                      647,
                      648,
                      646
                    ],
                    "jobGroup": "133",
                    "status": "SUCCEEDED",
                    "numTasks": 416,
                    "numActiveTasks": 0,
                    "numCompletedTasks": 400,
                    "numSkippedTasks": 16,
                    "numFailedTasks": 0,
                    "numKilledTasks": 0,
                    "numCompletedIndices": 400,
                    "numActiveStages": 0,
                    "numCompletedStages": 2,
                    "numSkippedStages": 1,
                    "numFailedStages": 0,
                    "killedTasksSummary": {}
                  },
                  {
                    "displayName": "collectAsMap at RandomForest.scala:663",
                    "dataWritten": 0,
                    "dataRead": 0,
                    "rowCount": 0,
                    "usageDescription": "",
                    "jobId": 260,
                    "name": "collectAsMap at RandomForest.scala:663",
                    "description": "Job group for statement 133:\nmodel = pipeline_model.fit(train_data)",
                    "submissionTime": "2023-11-28T19:54:48.454GMT",
                    "completionTime": "2023-11-28T19:54:57.065GMT",
                    "stageIds": [
                      643,
                      644,
                      645
                    ],
                    "jobGroup": "133",
                    "status": "SUCCEEDED",
                    "numTasks": 416,
                    "numActiveTasks": 0,
                    "numCompletedTasks": 400,
                    "numSkippedTasks": 16,
                    "numFailedTasks": 0,
                    "numKilledTasks": 0,
                    "numCompletedIndices": 400,
                    "numActiveStages": 0,
                    "numCompletedStages": 2,
                    "numSkippedStages": 1,
                    "numFailedStages": 0,
                    "killedTasksSummary": {}
                  },
                  {
                    "displayName": "collectAsMap at RandomForest.scala:663",
                    "dataWritten": 0,
                    "dataRead": 0,
                    "rowCount": 0,
                    "usageDescription": "",
                    "jobId": 259,
                    "name": "collectAsMap at RandomForest.scala:663",
                    "description": "Job group for statement 133:\nmodel = pipeline_model.fit(train_data)",
                    "submissionTime": "2023-11-28T19:54:41.026GMT",
                    "completionTime": "2023-11-28T19:54:48.425GMT",
                    "stageIds": [
                      640,
                      641,
                      642
                    ],
                    "jobGroup": "133",
                    "status": "SUCCEEDED",
                    "numTasks": 416,
                    "numActiveTasks": 0,
                    "numCompletedTasks": 400,
                    "numSkippedTasks": 16,
                    "numFailedTasks": 0,
                    "numKilledTasks": 0,
                    "numCompletedIndices": 400,
                    "numActiveStages": 0,
                    "numCompletedStages": 2,
                    "numSkippedStages": 1,
                    "numFailedStages": 0,
                    "killedTasksSummary": {}
                  },
                  {
                    "displayName": "collectAsMap at RandomForest.scala:663",
                    "dataWritten": 0,
                    "dataRead": 0,
                    "rowCount": 0,
                    "usageDescription": "",
                    "jobId": 258,
                    "name": "collectAsMap at RandomForest.scala:663",
                    "description": "Job group for statement 133:\nmodel = pipeline_model.fit(train_data)",
                    "submissionTime": "2023-11-28T19:54:33.086GMT",
                    "completionTime": "2023-11-28T19:54:40.988GMT",
                    "stageIds": [
                      637,
                      638,
                      639
                    ],
                    "jobGroup": "133",
                    "status": "SUCCEEDED",
                    "numTasks": 416,
                    "numActiveTasks": 0,
                    "numCompletedTasks": 400,
                    "numSkippedTasks": 16,
                    "numFailedTasks": 0,
                    "numKilledTasks": 0,
                    "numCompletedIndices": 400,
                    "numActiveStages": 0,
                    "numCompletedStages": 2,
                    "numSkippedStages": 1,
                    "numFailedStages": 0,
                    "killedTasksSummary": {}
                  },
                  {
                    "displayName": "collectAsMap at RandomForest.scala:1054",
                    "dataWritten": 0,
                    "dataRead": 0,
                    "rowCount": 0,
                    "usageDescription": "",
                    "jobId": 257,
                    "name": "collectAsMap at RandomForest.scala:1054",
                    "description": "Job group for statement 133:\nmodel = pipeline_model.fit(train_data)",
                    "submissionTime": "2023-11-28T19:54:31.958GMT",
                    "completionTime": "2023-11-28T19:54:33.057GMT",
                    "stageIds": [
                      634,
                      635,
                      636
                    ],
                    "jobGroup": "133",
                    "status": "SUCCEEDED",
                    "numTasks": 222,
                    "numActiveTasks": 0,
                    "numCompletedTasks": 206,
                    "numSkippedTasks": 16,
                    "numFailedTasks": 0,
                    "numKilledTasks": 0,
                    "numCompletedIndices": 206,
                    "numActiveStages": 0,
                    "numCompletedStages": 2,
                    "numSkippedStages": 1,
                    "numFailedStages": 0,
                    "killedTasksSummary": {}
                  },
                  {
                    "displayName": "aggregate at DecisionTreeMetadata.scala:125",
                    "dataWritten": 0,
                    "dataRead": 0,
                    "rowCount": 0,
                    "usageDescription": "",
                    "jobId": 256,
                    "name": "aggregate at DecisionTreeMetadata.scala:125",
                    "description": "Job group for statement 133:\nmodel = pipeline_model.fit(train_data)",
                    "submissionTime": "2023-11-28T19:54:30.827GMT",
                    "completionTime": "2023-11-28T19:54:31.929GMT",
                    "stageIds": [
                      633,
                      632
                    ],
                    "jobGroup": "133",
                    "status": "SUCCEEDED",
                    "numTasks": 216,
                    "numActiveTasks": 0,
                    "numCompletedTasks": 200,
                    "numSkippedTasks": 16,
                    "numFailedTasks": 0,
                    "numKilledTasks": 0,
                    "numCompletedIndices": 200,
                    "numActiveStages": 0,
                    "numCompletedStages": 1,
                    "numSkippedStages": 1,
                    "numFailedStages": 0,
                    "killedTasksSummary": {}
                  },
                  {
                    "displayName": "take at DecisionTreeMetadata.scala:119",
                    "dataWritten": 0,
                    "dataRead": 0,
                    "rowCount": 0,
                    "usageDescription": "",
                    "jobId": 255,
                    "name": "take at DecisionTreeMetadata.scala:119",
                    "description": "Job group for statement 133:\nmodel = pipeline_model.fit(train_data)",
                    "submissionTime": "2023-11-28T19:54:30.760GMT",
                    "completionTime": "2023-11-28T19:54:30.819GMT",
                    "stageIds": [
                      630,
                      631
                    ],
                    "jobGroup": "133",
                    "status": "SUCCEEDED",
                    "numTasks": 17,
                    "numActiveTasks": 0,
                    "numCompletedTasks": 1,
                    "numSkippedTasks": 16,
                    "numFailedTasks": 0,
                    "numKilledTasks": 0,
                    "numCompletedIndices": 1,
                    "numActiveStages": 0,
                    "numCompletedStages": 1,
                    "numSkippedStages": 1,
                    "numFailedStages": 0,
                    "killedTasksSummary": {}
                  },
                  {
                    "displayName": "collect at StringIndexer.scala:204",
                    "dataWritten": 0,
                    "dataRead": 0,
                    "rowCount": 0,
                    "usageDescription": "",
                    "jobId": 254,
                    "name": "collect at StringIndexer.scala:204",
                    "description": "Job group for statement 133:\nmodel = pipeline_model.fit(train_data)",
                    "submissionTime": "2023-11-28T19:54:30.327GMT",
                    "completionTime": "2023-11-28T19:54:30.382GMT",
                    "stageIds": [
                      628,
                      629,
                      627
                    ],
                    "jobGroup": "133",
                    "status": "SUCCEEDED",
                    "numTasks": 217,
                    "numActiveTasks": 0,
                    "numCompletedTasks": 1,
                    "numSkippedTasks": 216,
                    "numFailedTasks": 0,
                    "numKilledTasks": 0,
                    "numCompletedIndices": 1,
                    "numActiveStages": 0,
                    "numCompletedStages": 1,
                    "numSkippedStages": 2,
                    "numFailedStages": 0,
                    "killedTasksSummary": {}
                  },
                  {
                    "displayName": "collect at StringIndexer.scala:204",
                    "dataWritten": 0,
                    "dataRead": 0,
                    "rowCount": 0,
                    "usageDescription": "",
                    "jobId": 253,
                    "name": "collect at StringIndexer.scala:204",
                    "description": "Job group for statement 133:\nmodel = pipeline_model.fit(train_data)",
                    "submissionTime": "2023-11-28T19:54:29.895GMT",
                    "completionTime": "2023-11-28T19:54:30.308GMT",
                    "stageIds": [
                      625,
                      626
                    ],
                    "jobGroup": "133",
                    "status": "SUCCEEDED",
                    "numTasks": 216,
                    "numActiveTasks": 0,
                    "numCompletedTasks": 200,
                    "numSkippedTasks": 16,
                    "numFailedTasks": 0,
                    "numKilledTasks": 0,
                    "numCompletedIndices": 200,
                    "numActiveStages": 0,
                    "numCompletedStages": 1,
                    "numSkippedStages": 1,
                    "numFailedStages": 0,
                    "killedTasksSummary": {}
                  },
                  {
                    "displayName": "collect at StringIndexer.scala:204",
                    "dataWritten": 0,
                    "dataRead": 0,
                    "rowCount": 0,
                    "usageDescription": "",
                    "jobId": 252,
                    "name": "collect at StringIndexer.scala:204",
                    "description": "Job group for statement 133:\nmodel = pipeline_model.fit(train_data)",
                    "submissionTime": "2023-11-28T19:54:29.551GMT",
                    "completionTime": "2023-11-28T19:54:29.629GMT",
                    "stageIds": [
                      622,
                      623,
                      624
                    ],
                    "jobGroup": "133",
                    "status": "SUCCEEDED",
                    "numTasks": 217,
                    "numActiveTasks": 0,
                    "numCompletedTasks": 1,
                    "numSkippedTasks": 216,
                    "numFailedTasks": 0,
                    "numKilledTasks": 0,
                    "numCompletedIndices": 1,
                    "numActiveStages": 0,
                    "numCompletedStages": 1,
                    "numSkippedStages": 2,
                    "numFailedStages": 0,
                    "killedTasksSummary": {}
                  },
                  {
                    "displayName": "collect at StringIndexer.scala:204",
                    "dataWritten": 0,
                    "dataRead": 0,
                    "rowCount": 0,
                    "usageDescription": "",
                    "jobId": 251,
                    "name": "collect at StringIndexer.scala:204",
                    "description": "Job group for statement 133:\nmodel = pipeline_model.fit(train_data)",
                    "submissionTime": "2023-11-28T19:54:29.053GMT",
                    "completionTime": "2023-11-28T19:54:29.531GMT",
                    "stageIds": [
                      620,
                      621
                    ],
                    "jobGroup": "133",
                    "status": "SUCCEEDED",
                    "numTasks": 216,
                    "numActiveTasks": 0,
                    "numCompletedTasks": 200,
                    "numSkippedTasks": 16,
                    "numFailedTasks": 0,
                    "numKilledTasks": 0,
                    "numCompletedIndices": 200,
                    "numActiveStages": 0,
                    "numCompletedStages": 1,
                    "numSkippedStages": 1,
                    "numFailedStages": 0,
                    "killedTasksSummary": {}
                  }
                ],
                "limit": 20,
                "rule": "ALL_DESC"
              },
              "parent_msg_id": "79ec45cf-78f2-4f83-b87f-f9e3c4b8ee88"
            },
            "text/plain": "StatementMeta(d3c1b951-094c-48e1-919d-e32bc175397b, 43, 133, Finished, Available)"
          },
          "metadata": {}
        }
      ],
      "execution_count": 128,
      "metadata": {
        "jupyter": {
          "source_hidden": false,
          "outputs_hidden": false
        },
        "nteract": {
          "transient": {
            "deleting": false
          }
        },
        "gather": {
          "logged": 1701201321186
        }
      }
    },
    {
      "cell_type": "code",
      "source": [
        "predictions = model.transform(test_data)"
      ],
      "outputs": [
        {
          "output_type": "display_data",
          "data": {
            "application/vnd.livy.statement-meta+json": {
              "spark_pool": "d3c1b951-094c-48e1-919d-e32bc175397b",
              "session_id": "43",
              "statement_id": 134,
              "state": "finished",
              "livy_statement_state": "available",
              "queued_time": "2023-11-28T19:54:31.8262507Z",
              "session_start_time": null,
              "execution_start_time": "2023-11-28T19:55:21.2175923Z",
              "execution_finish_time": "2023-11-28T19:55:22.0071635Z",
              "spark_jobs": {
                "numbers": {
                  "FAILED": 0,
                  "RUNNING": 0,
                  "UNKNOWN": 0,
                  "SUCCEEDED": 0
                },
                "jobs": [],
                "limit": 20,
                "rule": "ALL_DESC"
              },
              "parent_msg_id": "cc4a2756-910f-4ecc-891f-a10a0cacf8b5"
            },
            "text/plain": "StatementMeta(d3c1b951-094c-48e1-919d-e32bc175397b, 43, 134, Finished, Available)"
          },
          "metadata": {}
        }
      ],
      "execution_count": 129,
      "metadata": {
        "jupyter": {
          "source_hidden": false,
          "outputs_hidden": false
        },
        "nteract": {
          "transient": {
            "deleting": false
          }
        },
        "gather": {
          "logged": 1701201322081
        }
      }
    },
    {
      "cell_type": "code",
      "source": [
        "evaluator = BinaryClassificationEvaluator(labelCol=\"popular_label\", rawPredictionCol=\"prediction\", metricName=\"areaUnderROC\")\n",
        "roc_result = evaluator.evaluate(predictions)\n",
        "roc_result"
      ],
      "outputs": [
        {
          "output_type": "display_data",
          "data": {
            "application/vnd.livy.statement-meta+json": {
              "spark_pool": "d3c1b951-094c-48e1-919d-e32bc175397b",
              "session_id": "43",
              "statement_id": 135,
              "state": "finished",
              "livy_statement_state": "available",
              "queued_time": "2023-11-28T19:54:32.6284726Z",
              "session_start_time": null,
              "execution_start_time": "2023-11-28T19:55:22.1263781Z",
              "execution_finish_time": "2023-11-28T19:55:27.0529985Z",
              "spark_jobs": {
                "numbers": {
                  "FAILED": 0,
                  "RUNNING": 0,
                  "UNKNOWN": 0,
                  "SUCCEEDED": 5
                },
                "jobs": [
                  {
                    "displayName": "collect at AreaUnderCurve.scala:44",
                    "dataWritten": 0,
                    "dataRead": 0,
                    "rowCount": 0,
                    "usageDescription": "",
                    "jobId": 267,
                    "name": "collect at AreaUnderCurve.scala:44",
                    "description": "Job group for statement 135:\nevaluator = BinaryClassificationEvaluator(labelCol=\"popular_label\", rawPredictionCol=\"prediction\", metricName=\"areaUnderROC\")\nroc_result = evaluator.evaluate(predictions)\nroc_result",
                    "submissionTime": "2023-11-28T19:55:25.562GMT",
                    "completionTime": "2023-11-28T19:55:25.579GMT",
                    "stageIds": [
                      665,
                      666,
                      667,
                      664
                    ],
                    "jobGroup": "135",
                    "status": "SUCCEEDED",
                    "numTasks": 51,
                    "numActiveTasks": 0,
                    "numCompletedTasks": 1,
                    "numSkippedTasks": 50,
                    "numFailedTasks": 0,
                    "numKilledTasks": 0,
                    "numCompletedIndices": 1,
                    "numActiveStages": 0,
                    "numCompletedStages": 1,
                    "numSkippedStages": 3,
                    "numFailedStages": 0,
                    "killedTasksSummary": {}
                  },
                  {
                    "displayName": "collect at BinaryClassificationMetrics.scala:237",
                    "dataWritten": 0,
                    "dataRead": 0,
                    "rowCount": 0,
                    "usageDescription": "",
                    "jobId": 266,
                    "name": "collect at BinaryClassificationMetrics.scala:237",
                    "description": "Job group for statement 135:\nevaluator = BinaryClassificationEvaluator(labelCol=\"popular_label\", rawPredictionCol=\"prediction\", metricName=\"areaUnderROC\")\nroc_result = evaluator.evaluate(predictions)\nroc_result",
                    "submissionTime": "2023-11-28T19:55:25.532GMT",
                    "completionTime": "2023-11-28T19:55:25.550GMT",
                    "stageIds": [
                      661,
                      662,
                      663,
                      660
                    ],
                    "jobGroup": "135",
                    "status": "SUCCEEDED",
                    "numTasks": 51,
                    "numActiveTasks": 0,
                    "numCompletedTasks": 1,
                    "numSkippedTasks": 50,
                    "numFailedTasks": 0,
                    "numKilledTasks": 0,
                    "numCompletedIndices": 1,
                    "numActiveStages": 0,
                    "numCompletedStages": 1,
                    "numSkippedStages": 3,
                    "numFailedStages": 0,
                    "killedTasksSummary": {}
                  },
                  {
                    "displayName": "count at BinaryClassificationMetrics.scala:197",
                    "dataWritten": 0,
                    "dataRead": 0,
                    "rowCount": 0,
                    "usageDescription": "",
                    "jobId": 265,
                    "name": "count at BinaryClassificationMetrics.scala:197",
                    "description": "Job group for statement 135:\nevaluator = BinaryClassificationEvaluator(labelCol=\"popular_label\", rawPredictionCol=\"prediction\", metricName=\"areaUnderROC\")\nroc_result = evaluator.evaluate(predictions)\nroc_result",
                    "submissionTime": "2023-11-28T19:55:25.478GMT",
                    "completionTime": "2023-11-28T19:55:25.519GMT",
                    "stageIds": [
                      658,
                      659,
                      656,
                      657
                    ],
                    "jobGroup": "135",
                    "status": "SUCCEEDED",
                    "numTasks": 51,
                    "numActiveTasks": 0,
                    "numCompletedTasks": 18,
                    "numSkippedTasks": 33,
                    "numFailedTasks": 0,
                    "numKilledTasks": 0,
                    "numCompletedIndices": 18,
                    "numActiveStages": 0,
                    "numCompletedStages": 2,
                    "numSkippedStages": 2,
                    "numFailedStages": 0,
                    "killedTasksSummary": {}
                  },
                  {
                    "displayName": "sortByKey at BinaryClassificationMetrics.scala:189",
                    "dataWritten": 0,
                    "dataRead": 0,
                    "rowCount": 0,
                    "usageDescription": "",
                    "jobId": 264,
                    "name": "sortByKey at BinaryClassificationMetrics.scala:189",
                    "description": "Job group for statement 135:\nevaluator = BinaryClassificationEvaluator(labelCol=\"popular_label\", rawPredictionCol=\"prediction\", metricName=\"areaUnderROC\")\nroc_result = evaluator.evaluate(predictions)\nroc_result",
                    "submissionTime": "2023-11-28T19:55:23.397GMT",
                    "completionTime": "2023-11-28T19:55:25.470GMT",
                    "stageIds": [
                      655,
                      653,
                      654
                    ],
                    "jobGroup": "135",
                    "status": "SUCCEEDED",
                    "numTasks": 50,
                    "numActiveTasks": 0,
                    "numCompletedTasks": 34,
                    "numSkippedTasks": 16,
                    "numFailedTasks": 0,
                    "numKilledTasks": 0,
                    "numCompletedIndices": 34,
                    "numActiveStages": 0,
                    "numCompletedStages": 2,
                    "numSkippedStages": 1,
                    "numFailedStages": 0,
                    "killedTasksSummary": {}
                  },
                  {
                    "displayName": "rdd at BinaryClassificationEvaluator.scala:133",
                    "dataWritten": 0,
                    "dataRead": 0,
                    "rowCount": 0,
                    "usageDescription": "",
                    "jobId": 263,
                    "name": "rdd at BinaryClassificationEvaluator.scala:133",
                    "description": "Job group for statement 135:\nevaluator = BinaryClassificationEvaluator(labelCol=\"popular_label\", rawPredictionCol=\"prediction\", metricName=\"areaUnderROC\")\nroc_result = evaluator.evaluate(predictions)\nroc_result",
                    "submissionTime": "2023-11-28T19:55:22.184GMT",
                    "completionTime": "2023-11-28T19:55:23.279GMT",
                    "stageIds": [
                      652
                    ],
                    "jobGroup": "135",
                    "status": "SUCCEEDED",
                    "numTasks": 16,
                    "numActiveTasks": 0,
                    "numCompletedTasks": 16,
                    "numSkippedTasks": 0,
                    "numFailedTasks": 0,
                    "numKilledTasks": 0,
                    "numCompletedIndices": 16,
                    "numActiveStages": 0,
                    "numCompletedStages": 1,
                    "numSkippedStages": 0,
                    "numFailedStages": 0,
                    "killedTasksSummary": {}
                  }
                ],
                "limit": 20,
                "rule": "ALL_DESC"
              },
              "parent_msg_id": "3ed0e6ad-4484-4ac9-a51a-c6a997e68bbb"
            },
            "text/plain": "StatementMeta(d3c1b951-094c-48e1-919d-e32bc175397b, 43, 135, Finished, Available)"
          },
          "metadata": {}
        },
        {
          "output_type": "execute_result",
          "execution_count": 269,
          "data": {
            "text/plain": "0.5"
          },
          "metadata": {}
        }
      ],
      "execution_count": 130,
      "metadata": {
        "jupyter": {
          "source_hidden": false,
          "outputs_hidden": false
        },
        "nteract": {
          "transient": {
            "deleting": false
          }
        },
        "gather": {
          "logged": 1701201327174
        }
      }
    },
    {
      "cell_type": "code",
      "source": [
        "predictions.select(\"popular\", \"prediction\", \"probability\").show(truncate=False)"
      ],
      "outputs": [
        {
          "output_type": "display_data",
          "data": {
            "application/vnd.livy.statement-meta+json": {
              "spark_pool": "d3c1b951-094c-48e1-919d-e32bc175397b",
              "session_id": "43",
              "statement_id": 136,
              "state": "finished",
              "livy_statement_state": "available",
              "queued_time": "2023-11-28T19:54:33.5331775Z",
              "session_start_time": null,
              "execution_start_time": "2023-11-28T19:55:27.1658407Z",
              "execution_finish_time": "2023-11-28T19:55:29.5946083Z",
              "spark_jobs": {
                "numbers": {
                  "FAILED": 0,
                  "RUNNING": 0,
                  "UNKNOWN": 0,
                  "SUCCEEDED": 2
                },
                "jobs": [
                  {
                    "displayName": "showString at NativeMethodAccessorImpl.java:0",
                    "dataWritten": 0,
                    "dataRead": 0,
                    "rowCount": 0,
                    "usageDescription": "",
                    "jobId": 269,
                    "name": "showString at NativeMethodAccessorImpl.java:0",
                    "description": "Job group for statement 136:\npredictions.select(\"popular\", \"prediction\", \"probability\").show(truncate=False)",
                    "submissionTime": "2023-11-28T19:55:28.439GMT",
                    "completionTime": "2023-11-28T19:55:29.134GMT",
                    "stageIds": [
                      670,
                      669
                    ],
                    "jobGroup": "136",
                    "status": "SUCCEEDED",
                    "numTasks": 17,
                    "numActiveTasks": 0,
                    "numCompletedTasks": 1,
                    "numSkippedTasks": 16,
                    "numFailedTasks": 0,
                    "numKilledTasks": 0,
                    "numCompletedIndices": 1,
                    "numActiveStages": 0,
                    "numCompletedStages": 1,
                    "numSkippedStages": 1,
                    "numFailedStages": 0,
                    "killedTasksSummary": {}
                  },
                  {
                    "displayName": "showString at NativeMethodAccessorImpl.java:0",
                    "dataWritten": 0,
                    "dataRead": 0,
                    "rowCount": 0,
                    "usageDescription": "",
                    "jobId": 268,
                    "name": "showString at NativeMethodAccessorImpl.java:0",
                    "description": "Job group for statement 136:\npredictions.select(\"popular\", \"prediction\", \"probability\").show(truncate=False)",
                    "submissionTime": "2023-11-28T19:55:27.248GMT",
                    "completionTime": "2023-11-28T19:55:28.320GMT",
                    "stageIds": [
                      668
                    ],
                    "jobGroup": "136",
                    "status": "SUCCEEDED",
                    "numTasks": 16,
                    "numActiveTasks": 0,
                    "numCompletedTasks": 16,
                    "numSkippedTasks": 0,
                    "numFailedTasks": 0,
                    "numKilledTasks": 0,
                    "numCompletedIndices": 16,
                    "numActiveStages": 0,
                    "numCompletedStages": 1,
                    "numSkippedStages": 0,
                    "numFailedStages": 0,
                    "killedTasksSummary": {}
                  }
                ],
                "limit": 20,
                "rule": "ALL_DESC"
              },
              "parent_msg_id": "e3bbc14b-70cb-40ff-b234-ca2d524f1816"
            },
            "text/plain": "StatementMeta(d3c1b951-094c-48e1-919d-e32bc175397b, 43, 136, Finished, Available)"
          },
          "metadata": {}
        },
        {
          "output_type": "stream",
          "name": "stdout",
          "text": "+-------+----------+----------------------------------------+\n|popular|prediction|probability                             |\n+-------+----------+----------------------------------------+\n|0      |0.0       |[0.8178938375166349,0.182106162483365]  |\n|0      |0.0       |[0.8155509173573235,0.1844490826426765] |\n|0      |0.0       |[0.8164810526834876,0.18351894731651242]|\n|1      |0.0       |[0.8178938375166349,0.182106162483365]  |\n|0      |0.0       |[0.8225913808572595,0.17740861914274056]|\n|0      |0.0       |[0.8148095140765591,0.18519048592344084]|\n|1      |0.0       |[0.8164810526834876,0.18351894731651242]|\n|0      |0.0       |[0.8257076806691251,0.17429231933087494]|\n|0      |0.0       |[0.8193853001173805,0.18061469988261952]|\n|0      |0.0       |[0.8145539199713497,0.1854460800286502] |\n|0      |0.0       |[0.8217323767300901,0.1782676232699098] |\n|0      |0.0       |[0.8217323767300901,0.1782676232699098] |\n|0      |0.0       |[0.8164810526834876,0.18351894731651242]|\n|0      |0.0       |[0.8164810526834876,0.18351894731651242]|\n|0      |0.0       |[0.8164810526834876,0.18351894731651242]|\n|0      |0.0       |[0.8189889469768774,0.18101105302312256]|\n|0      |0.0       |[0.8217323767300901,0.1782676232699098] |\n|0      |0.0       |[0.8257076806691251,0.17429231933087494]|\n|0      |0.0       |[0.8192418217403151,0.18075817825968493]|\n|0      |0.0       |[0.8192418217403151,0.18075817825968493]|\n+-------+----------+----------------------------------------+\nonly showing top 20 rows\n\n"
        }
      ],
      "execution_count": 131,
      "metadata": {
        "jupyter": {
          "source_hidden": false,
          "outputs_hidden": false
        },
        "nteract": {
          "transient": {
            "deleting": false
          }
        },
        "gather": {
          "logged": 1701201329713
        }
      }
    }
  ],
  "metadata": {
    "kernelspec": {
      "name": "synapse_pyspark",
      "language": "Python",
      "display_name": "Synapse PySpark"
    },
    "language_info": {
      "name": "python",
      "version": "3.8.0",
      "mimetype": "text/x-python",
      "file_extension": ".py",
      "pygments_lexer": "ipython",
      "codemirror_mode": "ipython",
      "nbconvert_exporter": "python"
    },
    "microsoft": {
      "ms_spell_check": {
        "ms_spell_check_language": "en"
      }
    },
    "kernel_info": {
      "name": "synapse_pyspark"
    },
    "nteract": {
      "version": "nteract-front-end@1.0.0"
    }
  },
  "nbformat": 4,
  "nbformat_minor": 2
}
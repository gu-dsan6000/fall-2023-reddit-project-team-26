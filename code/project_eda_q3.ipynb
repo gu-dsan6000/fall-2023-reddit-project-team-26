{
  "cells": [
    {
      "cell_type": "markdown",
      "metadata": {},
      "source": [
        "# EDA Question 3\n",
        "\n",
        "For this portion of the project, we will attempt to answer the third question proposed in our original Business Goals:\n",
        "\n",
        "**Business Goal 3:** Explore how the subreddit page of the NCAA champion in 2022, the Kansas Jayhawks, varied over the course of the season. Identify any trends in post frequency or comment length that may correlate to on-the-court successes or failures. \n",
        "\n",
        "**Technical Proposal:** Use trend analysis and count number of comments and comment lengths to determine excitement over the course of the CBB season. Correlate any major trends to outside data sets, including Jayhawks wins and losses or major games. Analyze any additional trends in activity over the course of the 2022 season to find any other additional results before entering into the NLP phase of the project.\n",
        "\n",
        "As you will see throughout this exploration, this analysis began as only covering the r/jayhawks subreddit, but we expanded it to also include the r/tarheels subreddit as well. This initial glimpse into how these subreddits work will lead into other analyses as we continue. Thus, we effectively added the following business goal:\n",
        "\n",
        "**Business Goal 3.5:** Explore how the subreddit page of the NCAA runner ups in 2022, the UNC Tarheels, varied over the course of the season. Identify any trends in post frequency or comment length that may correlate to on-the-court successes or failures. \n",
        "\n",
        "**Technical Proposal:** Use trend analysis and count number of comments and comment lengths to determine excitement over the course of the CBB season. Correlate any major trends to outside data sets, including UNC wins and losses or major games. Analyze any additional trends in activity over the course of the 2022 season to find any other additional results before entering into the NLP phase of the project."
      ]
    },
    {
      "cell_type": "markdown",
      "metadata": {},
      "source": [
        "### Configuring and Cleaning the Data\n",
        "\n",
        "This process will be the same across our EDA questions."
      ]
    },
    {
      "cell_type": "code",
      "execution_count": 1,
      "metadata": {
        "gather": {
          "logged": 1699286719723
        },
        "jupyter": {
          "outputs_hidden": false,
          "source_hidden": false
        },
        "nteract": {
          "transient": {
            "deleting": false
          }
        }
      },
      "outputs": [
        {
          "data": {
            "application/vnd.livy.statement-meta+json": {
              "execution_finish_time": "2023-11-06T16:05:19.4274796Z",
              "execution_start_time": "2023-11-06T16:05:16.6731272Z",
              "livy_statement_state": "available",
              "parent_msg_id": "48156207-44d4-45c9-a1f0-1b5f9b887fc5",
              "queued_time": "2023-11-06T16:01:57.8015264Z",
              "session_id": "25",
              "session_start_time": "2023-11-06T16:01:57.8936301Z",
              "spark_jobs": {
                "jobs": [],
                "limit": 20,
                "numbers": {
                  "FAILED": 0,
                  "RUNNING": 0,
                  "SUCCEEDED": 0,
                  "UNKNOWN": 0
                },
                "rule": "ALL_DESC"
              },
              "spark_pool": "7c27951d-2bdf-4140-be82-d0dc0c0e7d8e",
              "state": "finished",
              "statement_id": 6
            },
            "text/plain": [
              "StatementMeta(7c27951d-2bdf-4140-be82-d0dc0c0e7d8e, 25, 6, Finished, Available)"
            ]
          },
          "metadata": {},
          "output_type": "display_data"
        },
        {
          "data": {
            "text/html": [
              "\n",
              "            <div>\n",
              "                <p><b>SparkSession - hive</b></p>\n",
              "                \n",
              "        <div>\n",
              "            <p><b>SparkContext</b></p>\n",
              "\n",
              "            <p><a href=\"http://vm-48c52006:36275\">Spark UI</a></p>\n",
              "\n",
              "            <dl>\n",
              "              <dt>Version</dt>\n",
              "                <dd><code>v3.2.2.5.1-100879434</code></dd>\n",
              "              <dt>Master</dt>\n",
              "                <dd><code>yarn</code></dd>\n",
              "              <dt>AppName</dt>\n",
              "                <dd><code>Azure ML Experiment</code></dd>\n",
              "            </dl>\n",
              "        </div>\n",
              "        \n",
              "            </div>\n",
              "        "
            ],
            "text/plain": [
              "<pyspark.sql.session.SparkSession at 0x7f43c19ec340>"
            ]
          },
          "execution_count": 11,
          "metadata": {},
          "output_type": "execute_result"
        }
      ],
      "source": [
        "spark"
      ]
    },
    {
      "cell_type": "code",
      "execution_count": 2,
      "metadata": {
        "gather": {
          "logged": 1699286765980
        },
        "vscode": {
          "languageId": "plaintext"
        }
      },
      "outputs": [
        {
          "data": {
            "application/vnd.livy.statement-meta+json": {
              "execution_finish_time": "2023-11-06T16:06:05.8481748Z",
              "execution_start_time": "2023-11-06T16:06:05.4477253Z",
              "livy_statement_state": "available",
              "parent_msg_id": "3922ac23-3f64-4f67-a66f-f053ef51a189",
              "queued_time": "2023-11-06T16:06:05.2437499Z",
              "session_id": "25",
              "session_start_time": null,
              "spark_jobs": {
                "jobs": [],
                "limit": 20,
                "numbers": {
                  "FAILED": 0,
                  "RUNNING": 0,
                  "SUCCEEDED": 0,
                  "UNKNOWN": 0
                },
                "rule": "ALL_DESC"
              },
              "spark_pool": "7c27951d-2bdf-4140-be82-d0dc0c0e7d8e",
              "state": "finished",
              "statement_id": 7
            },
            "text/plain": [
              "StatementMeta(7c27951d-2bdf-4140-be82-d0dc0c0e7d8e, 25, 7, Finished, Available)"
            ]
          },
          "metadata": {},
          "output_type": "display_data"
        }
      ],
      "source": [
        "workspace_default_storage_account = \"aml6214727930\"\n",
        "workspace_default_container = \"azureml-blobstore-6653633b-3460-4381-9199-d9e0f368353c\"\n",
        "\n",
        "workspace_wasbs_base_url = (\n",
        "    f\"wasbs://{workspace_default_container}@{workspace_default_storage_account}.blob.core.windows.net/\"\n",
        ")"
      ]
    },
    {
      "cell_type": "code",
      "execution_count": 26,
      "metadata": {
        "gather": {
          "logged": 1699289389268
        },
        "vscode": {
          "languageId": "plaintext"
        }
      },
      "outputs": [
        {
          "data": {
            "application/vnd.livy.statement-meta+json": {
              "execution_finish_time": "2023-11-06T16:49:49.1602019Z",
              "execution_start_time": "2023-11-06T16:49:45.3771021Z",
              "livy_statement_state": "available",
              "parent_msg_id": "13a0a772-70c8-4a4f-a98d-a1e97e7783e5",
              "queued_time": "2023-11-06T16:49:45.2250613Z",
              "session_id": "25",
              "session_start_time": null,
              "spark_jobs": {
                "jobs": [
                  {
                    "completionTime": "2023-11-06T16:49:48.102GMT",
                    "dataRead": 0,
                    "dataWritten": 0,
                    "description": "Job group for statement 31:\n#datastore = 'azureml://datastores/workspaceblobstore/paths'\ncomments_path = \"/basketball_comments_sep.parquet\"\nsubmissions_path = \"/basketball_submissions_sep.parquet\"\n\ncomments = spark.read.parquet(f\"{workspace_wasbs_base_url}{comments_path}\")\nsubmissions = spark.read.parquet(f\"{workspace_wasbs_base_url}{submissions_path}\")",
                    "displayName": "parquet at NativeMethodAccessorImpl.java:0",
                    "jobGroup": "31",
                    "jobId": 17,
                    "killedTasksSummary": {},
                    "name": "parquet at NativeMethodAccessorImpl.java:0",
                    "numActiveStages": 0,
                    "numActiveTasks": 0,
                    "numCompletedIndices": 1,
                    "numCompletedStages": 1,
                    "numCompletedTasks": 1,
                    "numFailedStages": 0,
                    "numFailedTasks": 0,
                    "numKilledTasks": 0,
                    "numSkippedStages": 0,
                    "numSkippedTasks": 0,
                    "numTasks": 1,
                    "rowCount": 0,
                    "stageIds": [
                      21
                    ],
                    "status": "SUCCEEDED",
                    "submissionTime": "2023-11-06T16:49:47.939GMT",
                    "usageDescription": ""
                  },
                  {
                    "completionTime": "2023-11-06T16:49:47.237GMT",
                    "dataRead": 0,
                    "dataWritten": 0,
                    "description": "Job group for statement 31:\n#datastore = 'azureml://datastores/workspaceblobstore/paths'\ncomments_path = \"/basketball_comments_sep.parquet\"\nsubmissions_path = \"/basketball_submissions_sep.parquet\"\n\ncomments = spark.read.parquet(f\"{workspace_wasbs_base_url}{comments_path}\")\nsubmissions = spark.read.parquet(f\"{workspace_wasbs_base_url}{submissions_path}\")",
                    "displayName": "parquet at NativeMethodAccessorImpl.java:0",
                    "jobGroup": "31",
                    "jobId": 16,
                    "killedTasksSummary": {},
                    "name": "parquet at NativeMethodAccessorImpl.java:0",
                    "numActiveStages": 0,
                    "numActiveTasks": 0,
                    "numCompletedIndices": 1,
                    "numCompletedStages": 1,
                    "numCompletedTasks": 1,
                    "numFailedStages": 0,
                    "numFailedTasks": 0,
                    "numKilledTasks": 0,
                    "numSkippedStages": 0,
                    "numSkippedTasks": 0,
                    "numTasks": 1,
                    "rowCount": 0,
                    "stageIds": [
                      20
                    ],
                    "status": "SUCCEEDED",
                    "submissionTime": "2023-11-06T16:49:47.071GMT",
                    "usageDescription": ""
                  }
                ],
                "limit": 20,
                "numbers": {
                  "FAILED": 0,
                  "RUNNING": 0,
                  "SUCCEEDED": 2,
                  "UNKNOWN": 0
                },
                "rule": "ALL_DESC"
              },
              "spark_pool": "7c27951d-2bdf-4140-be82-d0dc0c0e7d8e",
              "state": "finished",
              "statement_id": 31
            },
            "text/plain": [
              "StatementMeta(7c27951d-2bdf-4140-be82-d0dc0c0e7d8e, 25, 31, Finished, Available)"
            ]
          },
          "metadata": {},
          "output_type": "display_data"
        }
      ],
      "source": [
        "#datastore = 'azureml://datastores/workspaceblobstore/paths'\n",
        "comments_path = \"/basketball_comments_sep.parquet\"\n",
        "submissions_path = \"/basketball_submissions_sep.parquet\"\n",
        "\n",
        "comments = spark.read.parquet(f\"{workspace_wasbs_base_url}{comments_path}\")\n",
        "submissions = spark.read.parquet(f\"{workspace_wasbs_base_url}{submissions_path}\")"
      ]
    },
    {
      "cell_type": "code",
      "execution_count": 4,
      "metadata": {
        "gather": {
          "logged": 1699286842789
        },
        "vscode": {
          "languageId": "plaintext"
        }
      },
      "outputs": [
        {
          "data": {
            "application/vnd.livy.statement-meta+json": {
              "execution_finish_time": "2023-11-06T16:07:22.6088316Z",
              "execution_start_time": "2023-11-06T16:07:21.5912933Z",
              "livy_statement_state": "available",
              "parent_msg_id": "e14ea746-ed41-43e3-8ace-045a95b1516f",
              "queued_time": "2023-11-06T16:07:21.3967443Z",
              "session_id": "25",
              "session_start_time": null,
              "spark_jobs": {
                "jobs": [],
                "limit": 20,
                "numbers": {
                  "FAILED": 0,
                  "RUNNING": 0,
                  "SUCCEEDED": 0,
                  "UNKNOWN": 0
                },
                "rule": "ALL_DESC"
              },
              "spark_pool": "7c27951d-2bdf-4140-be82-d0dc0c0e7d8e",
              "state": "finished",
              "statement_id": 9
            },
            "text/plain": [
              "StatementMeta(7c27951d-2bdf-4140-be82-d0dc0c0e7d8e, 25, 9, Finished, Available)"
            ]
          },
          "metadata": {},
          "output_type": "display_data"
        }
      ],
      "source": [
        "submissions = submissions.cache()\n",
        "comments = comments.cache()"
      ]
    },
    {
      "cell_type": "code",
      "execution_count": 5,
      "metadata": {
        "gather": {
          "logged": 1699286846050
        },
        "vscode": {
          "languageId": "plaintext"
        }
      },
      "outputs": [
        {
          "data": {
            "application/vnd.livy.statement-meta+json": {
              "execution_finish_time": "2023-11-06T16:07:25.8951745Z",
              "execution_start_time": "2023-11-06T16:07:24.8872747Z",
              "livy_statement_state": "available",
              "parent_msg_id": "1c270547-c9b2-4921-9f6d-4376b776ffdd",
              "queued_time": "2023-11-06T16:07:24.7139419Z",
              "session_id": "25",
              "session_start_time": null,
              "spark_jobs": {
                "jobs": [],
                "limit": 20,
                "numbers": {
                  "FAILED": 0,
                  "RUNNING": 0,
                  "SUCCEEDED": 0,
                  "UNKNOWN": 0
                },
                "rule": "ALL_DESC"
              },
              "spark_pool": "7c27951d-2bdf-4140-be82-d0dc0c0e7d8e",
              "state": "finished",
              "statement_id": 10
            },
            "text/plain": [
              "StatementMeta(7c27951d-2bdf-4140-be82-d0dc0c0e7d8e, 25, 10, Finished, Available)"
            ]
          },
          "metadata": {},
          "output_type": "display_data"
        }
      ],
      "source": [
        "submissions = submissions.filter((submissions.selftext != \"\") & (submissions.selftext != \"[deleted]\")& (submissions.selftext != \"[removed]\"))\n",
        "comments = comments.filter(comments.body != \"\")"
      ]
    },
    {
      "cell_type": "markdown",
      "metadata": {},
      "source": [
        "## Showing Frequency of Comments and Submissions in r/jayhawks\n",
        "\n",
        "In order to analyze these subreddits, we'll begin by diving into the comment and submission frequency for r/jayhawks."
      ]
    },
    {
      "cell_type": "code",
      "execution_count": 6,
      "metadata": {
        "gather": {
          "logged": 1699286940563
        },
        "vscode": {
          "languageId": "plaintext"
        }
      },
      "outputs": [
        {
          "data": {
            "application/vnd.livy.statement-meta+json": {
              "execution_finish_time": "2023-11-06T16:09:00.3833933Z",
              "execution_start_time": "2023-11-06T16:07:28.861121Z",
              "livy_statement_state": "available",
              "parent_msg_id": "8af09613-6b11-4e32-bba7-01f690e19cee",
              "queued_time": "2023-11-06T16:07:28.6433494Z",
              "session_id": "25",
              "session_start_time": null,
              "spark_jobs": {
                "jobs": [
                  {
                    "completionTime": "2023-11-06T16:08:58.100GMT",
                    "dataRead": 159340,
                    "dataWritten": 0,
                    "description": "Job group for statement 11:\nfrom pyspark.sql.functions import *\njayhawk_comments = (\n    comments\n    .filter(col(\"subreddit\") == \"jayhawks\")\n    .withColumn(\"day\", dayofmonth(col(\"created_utc\")))\n    .withColumn(\"month\", month(col(\"created_utc\")))\n    .withColumn(\"year\", year(col(\"created_utc\")))\n    .groupBy(\"year\", \"month\", \"day\")\n    .count()\n)\njayhawk_comments_df = jayhawk_comments.toPandas()",
                    "displayName": "toPandas at /tmp/ipykernel_7211/1640491008.py:11",
                    "jobGroup": "11",
                    "jobId": 3,
                    "killedTasksSummary": {},
                    "name": "toPandas at /tmp/ipykernel_7211/1640491008.py:11",
                    "numActiveStages": 0,
                    "numActiveTasks": 0,
                    "numCompletedIndices": 1,
                    "numCompletedStages": 1,
                    "numCompletedTasks": 1,
                    "numFailedStages": 0,
                    "numFailedTasks": 0,
                    "numKilledTasks": 0,
                    "numSkippedStages": 1,
                    "numSkippedTasks": 182,
                    "numTasks": 183,
                    "rowCount": 2262,
                    "stageIds": [
                      3,
                      4
                    ],
                    "status": "SUCCEEDED",
                    "submissionTime": "2023-11-06T16:08:56.651GMT",
                    "usageDescription": ""
                  },
                  {
                    "completionTime": "2023-11-06T16:08:56.275GMT",
                    "dataRead": 192935219,
                    "dataWritten": 159340,
                    "description": "Job group for statement 11:\nfrom pyspark.sql.functions import *\njayhawk_comments = (\n    comments\n    .filter(col(\"subreddit\") == \"jayhawks\")\n    .withColumn(\"day\", dayofmonth(col(\"created_utc\")))\n    .withColumn(\"month\", month(col(\"created_utc\")))\n    .withColumn(\"year\", year(col(\"created_utc\")))\n    .groupBy(\"year\", \"month\", \"day\")\n    .count()\n)\njayhawk_comments_df = jayhawk_comments.toPandas()",
                    "displayName": "toPandas at /tmp/ipykernel_7211/1640491008.py:11",
                    "jobGroup": "11",
                    "jobId": 2,
                    "killedTasksSummary": {},
                    "name": "toPandas at /tmp/ipykernel_7211/1640491008.py:11",
                    "numActiveStages": 0,
                    "numActiveTasks": 0,
                    "numCompletedIndices": 182,
                    "numCompletedStages": 1,
                    "numCompletedTasks": 182,
                    "numFailedStages": 0,
                    "numFailedTasks": 0,
                    "numKilledTasks": 0,
                    "numSkippedStages": 0,
                    "numSkippedTasks": 0,
                    "numTasks": 182,
                    "rowCount": 1577432,
                    "stageIds": [
                      2
                    ],
                    "status": "SUCCEEDED",
                    "submissionTime": "2023-11-06T16:07:36.792GMT",
                    "usageDescription": ""
                  }
                ],
                "limit": 20,
                "numbers": {
                  "FAILED": 0,
                  "RUNNING": 0,
                  "SUCCEEDED": 2,
                  "UNKNOWN": 0
                },
                "rule": "ALL_DESC"
              },
              "spark_pool": "7c27951d-2bdf-4140-be82-d0dc0c0e7d8e",
              "state": "finished",
              "statement_id": 11
            },
            "text/plain": [
              "StatementMeta(7c27951d-2bdf-4140-be82-d0dc0c0e7d8e, 25, 11, Finished, Available)"
            ]
          },
          "metadata": {},
          "output_type": "display_data"
        }
      ],
      "source": [
        "from pyspark.sql.functions import *\n",
        "jayhawk_comments = (\n",
        "    comments\n",
        "    .filter(col(\"subreddit\") == \"jayhawks\")\n",
        "    .withColumn(\"day\", dayofmonth(col(\"created_utc\")))\n",
        "    .withColumn(\"month\", month(col(\"created_utc\")))\n",
        "    .withColumn(\"year\", year(col(\"created_utc\")))\n",
        "    .groupBy(\"year\", \"month\", \"day\")\n",
        "    .count()\n",
        ")\n",
        "jayhawk_comments_df = jayhawk_comments.toPandas()"
      ]
    },
    {
      "cell_type": "code",
      "execution_count": 7,
      "metadata": {
        "gather": {
          "logged": 1699286985047
        },
        "vscode": {
          "languageId": "plaintext"
        }
      },
      "outputs": [
        {
          "data": {
            "application/vnd.livy.statement-meta+json": {
              "execution_finish_time": "2023-11-06T16:09:44.8184071Z",
              "execution_start_time": "2023-11-06T16:09:42.1410869Z",
              "livy_statement_state": "available",
              "parent_msg_id": "1ea45195-a0a6-44ee-afb1-f5605584faf4",
              "queued_time": "2023-11-06T16:09:41.9205387Z",
              "session_id": "25",
              "session_start_time": null,
              "spark_jobs": {
                "jobs": [],
                "limit": 20,
                "numbers": {
                  "FAILED": 0,
                  "RUNNING": 0,
                  "SUCCEEDED": 0,
                  "UNKNOWN": 0
                },
                "rule": "ALL_DESC"
              },
              "spark_pool": "7c27951d-2bdf-4140-be82-d0dc0c0e7d8e",
              "state": "finished",
              "statement_id": 12
            },
            "text/plain": [
              "StatementMeta(7c27951d-2bdf-4140-be82-d0dc0c0e7d8e, 25, 12, Finished, Available)"
            ]
          },
          "metadata": {},
          "output_type": "display_data"
        },
        {
          "data": {
            "image/png": "[encoded data removed]",
            "text/plain": [
              "<Figure size 576x432 with 1 Axes>"
            ]
          },
          "metadata": {
            "needs_background": "light"
          },
          "output_type": "display_data"
        }
      ],
      "source": [
        "import matplotlib.pyplot as plt\n",
        "import pandas as pd\n",
        "\n",
        "jayhawk_comments_df['date'] = pd.to_datetime(jayhawk_comments_df[['year', 'month', 'day']])\n",
        "jayhawk_comments_df = jayhawk_comments_df.sort_values(by='date') \n",
        "plt.figure(figsize=(8, 6))\n",
        "plt.plot(jayhawk_comments_df['date'], jayhawk_comments_df['count'], marker='.', linestyle='-')\n",
        "plt.xlabel('Date')\n",
        "plt.ylabel('Count')\n",
        "plt.title('Comment Count by Day (r/jayhawks)')\n",
        "plt.xticks(rotation=45)\n",
        "plt.tight_layout()\n",
        "plt.show()"
      ]
    },
    {
      "cell_type": "markdown",
      "metadata": {},
      "source": [
        "This shows us the comment frequency for r/jayhawks. \n",
        "\n",
        "This showed us some interesting things right off the bat about this subreddit. First, the primary thing that sticks out about this graph is that by far and away, the most comments occur in late March and early April. This aligns perfectly with earlier hypotheses that the most interaction on this subreddit would be during the NCAA March Madness tournament. \n",
        "\n",
        "Taking this a step further, the Jayhawks won the NCAA Championship on 4 April 2022. This aligns perfect with the huge spike - which is likely that championship game. According to Forbes (https://www.forbes.com/sites/masonbissada/2022/04/05/kansas-unc-game-is-most-watched-ncaa-basketball-final-in-cable-tv-history/?sh=773024af1a0e), this was the most-watched NCAA final game in history, so this spike correlates nicely with that!\n",
        "\n",
        "There is a general \"buzz\" about the Jayhawks primarily during the collegiate basketball season - November through April. Our data only includes the CBB season, but we can extrapolate from the near-zero comment rate in September that there is not much excitement around the team other than during the season - to include big recruiting commitments.\n",
        "\n",
        "Before the season, fans (https://www.cjonline.com/story/sports/college/hawk-zone/2021/11/23/kansas-basketball-schedule-2021-2022-jayhawks-big-12-most-important-games-mizzou-border-war/8608871002/) identified a number of games that were must watches: December 11, December 21, January 1, January 22, January 29, among others. Although there were potentially smaller spikes in comments during these games, there were vastly outweighed by the increased rate of comments during the finals and the NCAA tournament. \n",
        "\n",
        "This will help inform our analysis in the future: because the number of comments on this page was so much smaller than on the main r/CollegeBasketball page, our analysis may be more prescient taking Kansas mentions on that main page and using that information instead of focusing on this subreddit.\n",
        "\n",
        "\n",
        "Let's do the same thing for submissions and see if we get a similar result."
      ]
    },
    {
      "cell_type": "code",
      "execution_count": 8,
      "metadata": {
        "gather": {
          "logged": 1699287034005
        },
        "jupyter": {
          "outputs_hidden": false,
          "source_hidden": false
        },
        "nteract": {
          "transient": {
            "deleting": false
          }
        }
      },
      "outputs": [
        {
          "data": {
            "application/vnd.livy.statement-meta+json": {
              "execution_finish_time": "2023-11-06T16:10:33.7869556Z",
              "execution_start_time": "2023-11-06T16:10:05.2404335Z",
              "livy_statement_state": "available",
              "parent_msg_id": "2fe4807c-8fba-43a4-89f8-25696d847fe6",
              "queued_time": "2023-11-06T16:10:05.0395068Z",
              "session_id": "25",
              "session_start_time": null,
              "spark_jobs": {
                "jobs": [
                  {
                    "completionTime": "2023-11-06T16:10:32.841GMT",
                    "dataRead": 13801,
                    "dataWritten": 0,
                    "description": "Job group for statement 13:\njayhawk_submissions = (\n    submissions\n    .filter(col(\"subreddit\") == \"jayhawks\")\n    .withColumn(\"day\", dayofmonth(col(\"created_utc\")))\n    .withColumn(\"month\", month(col(\"created_utc\")))\n    .withColumn(\"year\", year(col(\"created_utc\")))\n    .groupBy(\"year\", \"month\", \"day\")\n    .count()\n)\njayhawk_submissions_df = jayhawk_submissions.toPandas()",
                    "displayName": "toPandas at /tmp/ipykernel_7211/3318777497.py:10",
                    "jobGroup": "13",
                    "jobId": 5,
                    "killedTasksSummary": {},
                    "name": "toPandas at /tmp/ipykernel_7211/3318777497.py:10",
                    "numActiveStages": 0,
                    "numActiveTasks": 0,
                    "numCompletedIndices": 1,
                    "numCompletedStages": 1,
                    "numCompletedTasks": 1,
                    "numFailedStages": 0,
                    "numFailedTasks": 0,
                    "numKilledTasks": 0,
                    "numSkippedStages": 1,
                    "numSkippedTasks": 64,
                    "numTasks": 65,
                    "rowCount": 191,
                    "stageIds": [
                      6,
                      7
                    ],
                    "status": "SUCCEEDED",
                    "submissionTime": "2023-11-06T16:10:32.766GMT",
                    "usageDescription": ""
                  },
                  {
                    "completionTime": "2023-11-06T16:10:32.626GMT",
                    "dataRead": 20654375,
                    "dataWritten": 13801,
                    "description": "Job group for statement 13:\njayhawk_submissions = (\n    submissions\n    .filter(col(\"subreddit\") == \"jayhawks\")\n    .withColumn(\"day\", dayofmonth(col(\"created_utc\")))\n    .withColumn(\"month\", month(col(\"created_utc\")))\n    .withColumn(\"year\", year(col(\"created_utc\")))\n    .groupBy(\"year\", \"month\", \"day\")\n    .count()\n)\njayhawk_submissions_df = jayhawk_submissions.toPandas()",
                    "displayName": "toPandas at /tmp/ipykernel_7211/3318777497.py:10",
                    "jobGroup": "13",
                    "jobId": 4,
                    "killedTasksSummary": {},
                    "name": "toPandas at /tmp/ipykernel_7211/3318777497.py:10",
                    "numActiveStages": 0,
                    "numActiveTasks": 0,
                    "numCompletedIndices": 64,
                    "numCompletedStages": 1,
                    "numCompletedTasks": 64,
                    "numFailedStages": 0,
                    "numFailedTasks": 0,
                    "numKilledTasks": 0,
                    "numSkippedStages": 0,
                    "numSkippedTasks": 0,
                    "numTasks": 64,
                    "rowCount": 22343,
                    "stageIds": [
                      5
                    ],
                    "status": "SUCCEEDED",
                    "submissionTime": "2023-11-06T16:10:05.716GMT",
                    "usageDescription": ""
                  }
                ],
                "limit": 20,
                "numbers": {
                  "FAILED": 0,
                  "RUNNING": 0,
                  "SUCCEEDED": 2,
                  "UNKNOWN": 0
                },
                "rule": "ALL_DESC"
              },
              "spark_pool": "7c27951d-2bdf-4140-be82-d0dc0c0e7d8e",
              "state": "finished",
              "statement_id": 13
            },
            "text/plain": [
              "StatementMeta(7c27951d-2bdf-4140-be82-d0dc0c0e7d8e, 25, 13, Finished, Available)"
            ]
          },
          "metadata": {},
          "output_type": "display_data"
        }
      ],
      "source": [
        "jayhawk_submissions = (\n",
        "    submissions\n",
        "    .filter(col(\"subreddit\") == \"jayhawks\")\n",
        "    .withColumn(\"day\", dayofmonth(col(\"created_utc\")))\n",
        "    .withColumn(\"month\", month(col(\"created_utc\")))\n",
        "    .withColumn(\"year\", year(col(\"created_utc\")))\n",
        "    .groupBy(\"year\", \"month\", \"day\")\n",
        "    .count()\n",
        ")\n",
        "jayhawk_submissions_df = jayhawk_submissions.toPandas()"
      ]
    },
    {
      "cell_type": "code",
      "execution_count": 9,
      "metadata": {
        "gather": {
          "logged": 1699287039891
        },
        "vscode": {
          "languageId": "plaintext"
        }
      },
      "outputs": [
        {
          "data": {
            "application/vnd.livy.statement-meta+json": {
              "execution_finish_time": "2023-11-06T16:10:39.6510063Z",
              "execution_start_time": "2023-11-06T16:10:38.725188Z",
              "livy_statement_state": "available",
              "parent_msg_id": "798c5aa1-dc76-4878-ad58-6072acf62f2a",
              "queued_time": "2023-11-06T16:10:38.6008734Z",
              "session_id": "25",
              "session_start_time": null,
              "spark_jobs": {
                "jobs": [],
                "limit": 20,
                "numbers": {
                  "FAILED": 0,
                  "RUNNING": 0,
                  "SUCCEEDED": 0,
                  "UNKNOWN": 0
                },
                "rule": "ALL_DESC"
              },
              "spark_pool": "7c27951d-2bdf-4140-be82-d0dc0c0e7d8e",
              "state": "finished",
              "statement_id": 14
            },
            "text/plain": [
              "StatementMeta(7c27951d-2bdf-4140-be82-d0dc0c0e7d8e, 25, 14, Finished, Available)"
            ]
          },
          "metadata": {},
          "output_type": "display_data"
        },
        {
          "data": {
            "image/png": "[encoded data removed]",
            "text/plain": [
              "<Figure size 576x432 with 1 Axes>"
            ]
          },
          "metadata": {
            "needs_background": "light"
          },
          "output_type": "display_data"
        }
      ],
      "source": [
        "jayhawk_submissions_df['date'] = pd.to_datetime(jayhawk_submissions_df[['year', 'month', 'day']])\n",
        "jayhawk_submissions_df = jayhawk_submissions_df.sort_values(by='date') \n",
        "plt.figure(figsize=(8, 6))\n",
        "plt.plot(jayhawk_submissions_df['date'], jayhawk_submissions_df['count'], marker='.', linestyle='-')\n",
        "plt.xlabel('Date')\n",
        "plt.ylabel('Count')\n",
        "plt.title('Submission Count by Day (r/jayhawks)')\n",
        "plt.xticks(rotation=45)\n",
        "plt.tight_layout()\n",
        "plt.show()"
      ]
    },
    {
      "cell_type": "markdown",
      "metadata": {},
      "source": [
        "Okay! Now we've completed the initial stages of our exploratory data analysis for r/jayhawks.\n",
        "\n",
        "There were so few submissions on the page that the maximum number of submissions in one day was eight! This tells us a lot about how Jayhawk fans react - they don't do it on this page! Maybe there is more interest on the larger page - maybe there is increased engagement there, and that is preferable for Jayhawk fans. We'll be able to find that out in the next EDA question.\n",
        "\n",
        "We are going to continue this analysis and also do the same thing for r/tarheels.\n",
        "\n",
        "## Showing Frequency of Comments and Submissions in r/tarheels\n",
        "\n",
        "In order to analyze these subreddits, we'll begin by diving into the comment and submission frequency for r/tarheels."
      ]
    },
    {
      "cell_type": "code",
      "execution_count": 10,
      "metadata": {
        "gather": {
          "logged": 1699287047597
        },
        "vscode": {
          "languageId": "plaintext"
        }
      },
      "outputs": [
        {
          "data": {
            "application/vnd.livy.statement-meta+json": {
              "execution_finish_time": "2023-11-06T16:10:47.3958693Z",
              "execution_start_time": "2023-11-06T16:10:43.5230286Z",
              "livy_statement_state": "available",
              "parent_msg_id": "14e32b46-0d57-4110-a489-0c0544c47a01",
              "queued_time": "2023-11-06T16:10:43.3581055Z",
              "session_id": "25",
              "session_start_time": null,
              "spark_jobs": {
                "jobs": [
                  {
                    "completionTime": "2023-11-06T16:10:46.453GMT",
                    "dataRead": 159340,
                    "dataWritten": 0,
                    "description": "Job group for statement 15:\ntarheel_comments = (\n    comments\n    .filter(col(\"subreddit\") == \"jayhawks\")\n    .withColumn(\"day\", dayofmonth(col(\"created_utc\")))\n    .withColumn(\"month\", month(col(\"created_utc\")))\n    .withColumn(\"year\", year(col(\"created_utc\")))\n    .groupBy(\"year\", \"month\", \"day\")\n    .count()\n)\ntarheel_comments_df = tarheel_comments.toPandas()",
                    "displayName": "toPandas at /tmp/ipykernel_7211/2714823769.py:10",
                    "jobGroup": "15",
                    "jobId": 7,
                    "killedTasksSummary": {},
                    "name": "toPandas at /tmp/ipykernel_7211/2714823769.py:10",
                    "numActiveStages": 0,
                    "numActiveTasks": 0,
                    "numCompletedIndices": 1,
                    "numCompletedStages": 1,
                    "numCompletedTasks": 1,
                    "numFailedStages": 0,
                    "numFailedTasks": 0,
                    "numKilledTasks": 0,
                    "numSkippedStages": 1,
                    "numSkippedTasks": 182,
                    "numTasks": 183,
                    "rowCount": 2262,
                    "stageIds": [
                      9,
                      10
                    ],
                    "status": "SUCCEEDED",
                    "submissionTime": "2023-11-06T16:10:45.186GMT",
                    "usageDescription": ""
                  },
                  {
                    "completionTime": "2023-11-06T16:10:45.146GMT",
                    "dataRead": 219734379,
                    "dataWritten": 159340,
                    "description": "Job group for statement 15:\ntarheel_comments = (\n    comments\n    .filter(col(\"subreddit\") == \"jayhawks\")\n    .withColumn(\"day\", dayofmonth(col(\"created_utc\")))\n    .withColumn(\"month\", month(col(\"created_utc\")))\n    .withColumn(\"year\", year(col(\"created_utc\")))\n    .groupBy(\"year\", \"month\", \"day\")\n    .count()\n)\ntarheel_comments_df = tarheel_comments.toPandas()",
                    "displayName": "toPandas at /tmp/ipykernel_7211/2714823769.py:10",
                    "jobGroup": "15",
                    "jobId": 6,
                    "killedTasksSummary": {},
                    "name": "toPandas at /tmp/ipykernel_7211/2714823769.py:10",
                    "numActiveStages": 0,
                    "numActiveTasks": 0,
                    "numCompletedIndices": 182,
                    "numCompletedStages": 1,
                    "numCompletedTasks": 182,
                    "numFailedStages": 0,
                    "numFailedTasks": 0,
                    "numKilledTasks": 0,
                    "numSkippedStages": 0,
                    "numSkippedTasks": 0,
                    "numTasks": 182,
                    "rowCount": 2537,
                    "stageIds": [
                      8
                    ],
                    "status": "SUCCEEDED",
                    "submissionTime": "2023-11-06T16:10:43.725GMT",
                    "usageDescription": ""
                  }
                ],
                "limit": 20,
                "numbers": {
                  "FAILED": 0,
                  "RUNNING": 0,
                  "SUCCEEDED": 2,
                  "UNKNOWN": 0
                },
                "rule": "ALL_DESC"
              },
              "spark_pool": "7c27951d-2bdf-4140-be82-d0dc0c0e7d8e",
              "state": "finished",
              "statement_id": 15
            },
            "text/plain": [
              "StatementMeta(7c27951d-2bdf-4140-be82-d0dc0c0e7d8e, 25, 15, Finished, Available)"
            ]
          },
          "metadata": {},
          "output_type": "display_data"
        }
      ],
      "source": [
        "tarheel_comments = (\n",
        "    comments\n",
        "    .filter(col(\"subreddit\") == \"jayhawks\")\n",
        "    .withColumn(\"day\", dayofmonth(col(\"created_utc\")))\n",
        "    .withColumn(\"month\", month(col(\"created_utc\")))\n",
        "    .withColumn(\"year\", year(col(\"created_utc\")))\n",
        "    .groupBy(\"year\", \"month\", \"day\")\n",
        "    .count()\n",
        ")\n",
        "tarheel_comments_df = tarheel_comments.toPandas()"
      ]
    },
    {
      "cell_type": "code",
      "execution_count": 11,
      "metadata": {
        "gather": {
          "logged": 1699287050827
        },
        "vscode": {
          "languageId": "plaintext"
        }
      },
      "outputs": [
        {
          "data": {
            "application/vnd.livy.statement-meta+json": {
              "execution_finish_time": "2023-11-06T16:10:50.6459032Z",
              "execution_start_time": "2023-11-06T16:10:49.6851102Z",
              "livy_statement_state": "available",
              "parent_msg_id": "208c0d49-919f-48ee-85e2-582475fcc123",
              "queued_time": "2023-11-06T16:10:49.5275595Z",
              "session_id": "25",
              "session_start_time": null,
              "spark_jobs": {
                "jobs": [],
                "limit": 20,
                "numbers": {
                  "FAILED": 0,
                  "RUNNING": 0,
                  "SUCCEEDED": 0,
                  "UNKNOWN": 0
                },
                "rule": "ALL_DESC"
              },
              "spark_pool": "7c27951d-2bdf-4140-be82-d0dc0c0e7d8e",
              "state": "finished",
              "statement_id": 16
            },
            "text/plain": [
              "StatementMeta(7c27951d-2bdf-4140-be82-d0dc0c0e7d8e, 25, 16, Finished, Available)"
            ]
          },
          "metadata": {},
          "output_type": "display_data"
        },
        {
          "data": {
            "image/png": "[encoded data removed]",
            "text/plain": [
              "<Figure size 576x432 with 1 Axes>"
            ]
          },
          "metadata": {
            "needs_background": "light"
          },
          "output_type": "display_data"
        }
      ],
      "source": [
        "tarheel_comments_df['date'] = pd.to_datetime(tarheel_comments_df[['year', 'month', 'day']])\n",
        "tarheel_comments_df = tarheel_comments_df.sort_values(by='date') \n",
        "plt.figure(figsize=(8, 6))\n",
        "plt.plot(tarheel_comments_df['date'], tarheel_comments_df['count'], marker='.', linestyle='-')\n",
        "plt.xlabel('Date')\n",
        "plt.ylabel('Count')\n",
        "plt.title('Comment Count by Day (r/tarheels)')\n",
        "plt.xticks(rotation=45)\n",
        "plt.tight_layout()\n",
        "plt.show()"
      ]
    },
    {
      "cell_type": "markdown",
      "metadata": {},
      "source": [
        "That's a good start! This is interesting to compare to the r/jayhawks analysis of before.\n",
        "\n",
        "The commenting patterns and spike follow the same pattern as the r/jayhawks subreddit. There is minimal engagement before the tournament, with some excitement building in February and March. Then, during the main tournament and especially during the 4 April championship game, there is a huge spike in comments!\n",
        "\n",
        "A number of games were identified by fans (https://watchstadium.com/college-basketball-must-see-games-in-2021-22-10-27-2021/) as must-watch throughout the season. The following is an excerpt from the linked article about the games the fandom was most excited for:\n",
        "\n",
        "1. North Carolina at Duke, March 5 – It’ll be the swan song at Cameron for Mike Krzyzewski, and it comes, of course, against rival North Carolina. The atmosphere in this one will be insane. Coach K announced he will retire after this season, and his final home game is against the Tar Heels in the ACC regular-season finale. I can’t wait to see what the resale market looks like for this matchup.\n",
        "\n",
        "2. Duke vs. Kentucky, Nov. 9 in New York – This is Coach K vs. John Calipari for one final time in the Champions Classic, basically opening the college hoops season. Both come off disappointing campaigns, and both will have a chance to get some early momentum this year. It’ll also feature two of the top frosh in the country: Duke’s Paolo Banchero and Kentucky’s TyTy Washington.\n",
        "\n",
        "3. Gonzaga vs. Duke, Nov. 26 in Las Vegas – Two of the best programs, and arguably the two best freshmen, go up against one another at T-Mobile Arena. The Zags have long and skilled 7-footer Chet Holmgren, while Duke will rely heavily on big, strong and athletic forward Paolo Banchero.\n",
        "\n",
        "4. Gonzaga vs. UCLA, Nov. 23 in Las Vegas – A rematch of the Final Four matchup in which Jalen Suggs hit the memorable game-winning shot, and both are contenders to cut down the nets this year.\n",
        "\n",
        "5. Texas at Gonzaga, Nov. 13 – New Longhorns coach Chris Beard takes his team to Spokane and will face Drew Timme, Chet Holmgren and the top-ranked Zags. It’s a chance for Texas and all of Beard’s transfers to show they are for real.\n",
        "\n",
        "6. Villanova at UCLA, Nov. 12 – A matchup of two top-five teams out at Pauley Pavilion. Villanova brought back a pair of fifth-year guys in Collin Gillespie and Jermaine Samuels, while UCLA will be led by March Madness star Johnny Juzang.\n",
        "\n",
        "7. Texas at Texas Tech, Feb. 1 – This is one you need to be in Lubbock for to truly appreciate the atmosphere. It won’t exactly be a heartwarming homecoming for Chris Beard. Sure, he led the Red Raiders to a national title game appearance and an Elite Eight, but the fans in Lubbock still can’t come to grips with why he’d leave for UT. In fact, they strongly dislike Beard now. This is his first appearance back in Lubbock, and it’ll be interesting to see the reception he receives from the fan base. I don’t expect a lot of pleasantries.\n",
        "\n",
        "8. Kentucky at Kansas, Jan. 29 – It’s Kentucky vs. Kansas in the Big 12/SEC Challenge at Allen Fieldhouse. Need I say more?\n",
        "\n",
        "As per the r/jayhawks subreddit, although there may have been a spike on these dates, nothing compares whatsoever to the spike around the championship engagement.\n",
        "\n",
        "Just as before, we'll do the same thing for submissions."
      ]
    },
    {
      "cell_type": "code",
      "execution_count": 12,
      "metadata": {
        "gather": {
          "logged": 1699287054949
        },
        "vscode": {
          "languageId": "plaintext"
        }
      },
      "outputs": [
        {
          "data": {
            "application/vnd.livy.statement-meta+json": {
              "execution_finish_time": "2023-11-06T16:10:54.8096089Z",
              "execution_start_time": "2023-11-06T16:10:53.8293735Z",
              "livy_statement_state": "available",
              "parent_msg_id": "33c445a8-550f-4f20-aa2e-b5d80f66bfd7",
              "queued_time": "2023-11-06T16:10:53.6224471Z",
              "session_id": "25",
              "session_start_time": null,
              "spark_jobs": {
                "jobs": [
                  {
                    "completionTime": "2023-11-06T16:10:54.540GMT",
                    "dataRead": 2399,
                    "dataWritten": 0,
                    "description": "Job group for statement 17:\ntarheel_submissions = (\n    submissions\n    .filter(col(\"subreddit\") == \"tarheels\")\n    .withColumn(\"day\", dayofmonth(col(\"created_utc\")))\n    .withColumn(\"month\", month(col(\"created_utc\")))\n    .withColumn(\"year\", year(col(\"created_utc\")))\n    .groupBy(\"year\", \"month\", \"day\")\n    .count()\n)\ntarheel_submissions_df = tarheel_submissions.toPandas()",
                    "displayName": "toPandas at /tmp/ipykernel_7211/1335411448.py:10",
                    "jobGroup": "17",
                    "jobId": 9,
                    "killedTasksSummary": {},
                    "name": "toPandas at /tmp/ipykernel_7211/1335411448.py:10",
                    "numActiveStages": 0,
                    "numActiveTasks": 0,
                    "numCompletedIndices": 1,
                    "numCompletedStages": 1,
                    "numCompletedTasks": 1,
                    "numFailedStages": 0,
                    "numFailedTasks": 0,
                    "numKilledTasks": 0,
                    "numSkippedStages": 1,
                    "numSkippedTasks": 64,
                    "numTasks": 65,
                    "rowCount": 33,
                    "stageIds": [
                      12,
                      13
                    ],
                    "status": "SUCCEEDED",
                    "submissionTime": "2023-11-06T16:10:54.471GMT",
                    "usageDescription": ""
                  },
                  {
                    "completionTime": "2023-11-06T16:10:54.438GMT",
                    "dataRead": 13984996,
                    "dataWritten": 2399,
                    "description": "Job group for statement 17:\ntarheel_submissions = (\n    submissions\n    .filter(col(\"subreddit\") == \"tarheels\")\n    .withColumn(\"day\", dayofmonth(col(\"created_utc\")))\n    .withColumn(\"month\", month(col(\"created_utc\")))\n    .withColumn(\"year\", year(col(\"created_utc\")))\n    .groupBy(\"year\", \"month\", \"day\")\n    .count()\n)\ntarheel_submissions_df = tarheel_submissions.toPandas()",
                    "displayName": "toPandas at /tmp/ipykernel_7211/1335411448.py:10",
                    "jobGroup": "17",
                    "jobId": 8,
                    "killedTasksSummary": {},
                    "name": "toPandas at /tmp/ipykernel_7211/1335411448.py:10",
                    "numActiveStages": 0,
                    "numActiveTasks": 0,
                    "numCompletedIndices": 64,
                    "numCompletedStages": 1,
                    "numCompletedTasks": 64,
                    "numFailedStages": 0,
                    "numFailedTasks": 0,
                    "numKilledTasks": 0,
                    "numSkippedStages": 0,
                    "numSkippedTasks": 0,
                    "numTasks": 64,
                    "rowCount": 97,
                    "stageIds": [
                      11
                    ],
                    "status": "SUCCEEDED",
                    "submissionTime": "2023-11-06T16:10:54.063GMT",
                    "usageDescription": ""
                  }
                ],
                "limit": 20,
                "numbers": {
                  "FAILED": 0,
                  "RUNNING": 0,
                  "SUCCEEDED": 2,
                  "UNKNOWN": 0
                },
                "rule": "ALL_DESC"
              },
              "spark_pool": "7c27951d-2bdf-4140-be82-d0dc0c0e7d8e",
              "state": "finished",
              "statement_id": 17
            },
            "text/plain": [
              "StatementMeta(7c27951d-2bdf-4140-be82-d0dc0c0e7d8e, 25, 17, Finished, Available)"
            ]
          },
          "metadata": {},
          "output_type": "display_data"
        }
      ],
      "source": [
        "tarheel_submissions = (\n",
        "    submissions\n",
        "    .filter(col(\"subreddit\") == \"tarheels\")\n",
        "    .withColumn(\"day\", dayofmonth(col(\"created_utc\")))\n",
        "    .withColumn(\"month\", month(col(\"created_utc\")))\n",
        "    .withColumn(\"year\", year(col(\"created_utc\")))\n",
        "    .groupBy(\"year\", \"month\", \"day\")\n",
        "    .count()\n",
        ")\n",
        "tarheel_submissions_df = tarheel_submissions.toPandas()"
      ]
    },
    {
      "cell_type": "code",
      "execution_count": 13,
      "metadata": {
        "gather": {
          "logged": 1699287057116
        },
        "vscode": {
          "languageId": "plaintext"
        }
      },
      "outputs": [
        {
          "data": {
            "application/vnd.livy.statement-meta+json": {
              "execution_finish_time": "2023-11-06T16:10:56.9436519Z",
              "execution_start_time": "2023-11-06T16:10:56.5837838Z",
              "livy_statement_state": "available",
              "parent_msg_id": "1567114d-fd38-46c8-9187-284e8ee95e9d",
              "queued_time": "2023-11-06T16:10:56.3817307Z",
              "session_id": "25",
              "session_start_time": null,
              "spark_jobs": {
                "jobs": [],
                "limit": 20,
                "numbers": {
                  "FAILED": 0,
                  "RUNNING": 0,
                  "SUCCEEDED": 0,
                  "UNKNOWN": 0
                },
                "rule": "ALL_DESC"
              },
              "spark_pool": "7c27951d-2bdf-4140-be82-d0dc0c0e7d8e",
              "state": "finished",
              "statement_id": 18
            },
            "text/plain": [
              "StatementMeta(7c27951d-2bdf-4140-be82-d0dc0c0e7d8e, 25, 18, Finished, Available)"
            ]
          },
          "metadata": {},
          "output_type": "display_data"
        },
        {
          "data": {
            "image/png": "[encoded data removed]",
            "text/plain": [
              "<Figure size 576x432 with 1 Axes>"
            ]
          },
          "metadata": {
            "needs_background": "light"
          },
          "output_type": "display_data"
        }
      ],
      "source": [
        "tarheel_submissions_df['date'] = pd.to_datetime(tarheel_submissions_df[['year', 'month', 'day']])\n",
        "tarheel_submissions_df = tarheel_submissions_df.sort_values(by='date') \n",
        "plt.figure(figsize=(8, 6))\n",
        "plt.plot(tarheel_submissions_df['date'], tarheel_submissions_df['count'], marker='.', linestyle='-')\n",
        "plt.xlabel('Date')\n",
        "plt.ylabel('Count')\n",
        "plt.title('Submission Count by Day (r/tarheels)')\n",
        "plt.xticks(rotation=45)\n",
        "plt.tight_layout()\n",
        "plt.show()"
      ]
    },
    {
      "cell_type": "markdown",
      "metadata": {},
      "source": [
        "Wow! There were many fewer submissions on the tarheels subreddit than the jayhawks subreddit. This could, again, be due to a number of reasons, and maybe the engagement on the main page makes up for this difference. We'll have to see in our next portion of EDA!"
      ]
    },
    {
      "cell_type": "markdown",
      "metadata": {},
      "source": [
        "## Continued Analysis: Do these teams appear on r/CollegeBasketball?\n",
        "\n",
        "We found that many of the questions that arose during our question 3 analysis aligned nicely with the next step of our process: finding which team mentions in the main subreddit occurred the most often. Please see our EDA Question 5 for more information."
      ]
    },
    {
      "cell_type": "markdown",
      "metadata": {
        "nteract": {
          "transient": {
            "deleting": false
          }
        }
      },
      "source": [
        "## Length of Comments throughout r/Jayhawks\n",
        "\n",
        "Now, we'll dive in a little more into the subreddit and try to extract interesting insights from the length of comment and submission in r/jayhawks."
      ]
    },
    {
      "cell_type": "code",
      "execution_count": 20,
      "metadata": {
        "gather": {
          "logged": 1699288930940
        },
        "jupyter": {
          "outputs_hidden": false,
          "source_hidden": false
        },
        "nteract": {
          "transient": {
            "deleting": false
          }
        }
      },
      "outputs": [
        {
          "data": {
            "application/vnd.livy.statement-meta+json": {
              "execution_finish_time": "2023-11-06T16:42:10.7226889Z",
              "execution_start_time": "2023-11-06T16:42:10.3375653Z",
              "livy_statement_state": "available",
              "parent_msg_id": "c056fd77-76a5-4f96-851b-a6cd1df7ed91",
              "queued_time": "2023-11-06T16:42:10.1539704Z",
              "session_id": "25",
              "session_start_time": null,
              "spark_jobs": {
                "jobs": [],
                "limit": 20,
                "numbers": {
                  "FAILED": 0,
                  "RUNNING": 0,
                  "SUCCEEDED": 0,
                  "UNKNOWN": 0
                },
                "rule": "ALL_DESC"
              },
              "spark_pool": "7c27951d-2bdf-4140-be82-d0dc0c0e7d8e",
              "state": "finished",
              "statement_id": 25
            },
            "text/plain": [
              "StatementMeta(7c27951d-2bdf-4140-be82-d0dc0c0e7d8e, 25, 25, Finished, Available)"
            ]
          },
          "metadata": {},
          "output_type": "display_data"
        }
      ],
      "source": [
        "from pyspark.sql.functions import col\n",
        "\n",
        "submissions_l = submissions.select(\"subreddit\", \"author\", \"title\", \"selftext\", \"created_utc\", \"num_comments\").filter(col(\"subreddit\") == \"jayhawks\")\n",
        "\n",
        "comments_l = comments.select(\"subreddit\", \"author\", \"body\", \"parent_id\", \"created_utc\").filter(col(\"subreddit\") == \"jayhawks\")"
      ]
    },
    {
      "cell_type": "code",
      "execution_count": 22,
      "metadata": {
        "gather": {
          "logged": 1699289108897
        },
        "jupyter": {
          "outputs_hidden": false,
          "source_hidden": false
        },
        "nteract": {
          "transient": {
            "deleting": false
          }
        }
      },
      "outputs": [
        {
          "data": {
            "application/vnd.livy.statement-meta+json": {
              "execution_finish_time": "2023-11-06T16:45:08.8128919Z",
              "execution_start_time": "2023-11-06T16:45:08.451093Z",
              "livy_statement_state": "available",
              "parent_msg_id": "f7ed5cd1-9a02-4017-b311-d416fa203d1b",
              "queued_time": "2023-11-06T16:45:08.3146724Z",
              "session_id": "25",
              "session_start_time": null,
              "spark_jobs": {
                "jobs": [],
                "limit": 20,
                "numbers": {
                  "FAILED": 0,
                  "RUNNING": 0,
                  "SUCCEEDED": 0,
                  "UNKNOWN": 0
                },
                "rule": "ALL_DESC"
              },
              "spark_pool": "7c27951d-2bdf-4140-be82-d0dc0c0e7d8e",
              "state": "finished",
              "statement_id": 27
            },
            "text/plain": [
              "StatementMeta(7c27951d-2bdf-4140-be82-d0dc0c0e7d8e, 25, 27, Finished, Available)"
            ]
          },
          "metadata": {},
          "output_type": "display_data"
        }
      ],
      "source": [
        "from pyspark.sql.functions import col, length\n",
        "\n",
        "submissions_l = submissions_l.withColumn(\"selftext_word_count\", length(col(\"selftext\")))\n",
        "comments_l = comments_l.withColumn(\"body_word_count\", length(col(\"body\")))"
      ]
    },
    {
      "cell_type": "code",
      "execution_count": 25,
      "metadata": {
        "gather": {
          "logged": 1699289218288
        },
        "jupyter": {
          "outputs_hidden": false,
          "source_hidden": false
        },
        "nteract": {
          "transient": {
            "deleting": false
          }
        }
      },
      "outputs": [
        {
          "data": {
            "application/vnd.livy.statement-meta+json": {
              "execution_finish_time": "2023-11-06T16:46:58.1632144Z",
              "execution_start_time": "2023-11-06T16:46:54.3323764Z",
              "livy_statement_state": "available",
              "parent_msg_id": "252feb3f-14bb-430e-8706-af23bae210cb",
              "queued_time": "2023-11-06T16:46:54.2083471Z",
              "session_id": "25",
              "session_start_time": null,
              "spark_jobs": {
                "jobs": [
                  {
                    "completionTime": "2023-11-06T16:46:56.490GMT",
                    "dataRead": 220481891,
                    "dataWritten": 0,
                    "description": "Job group for statement 30:\nselftext_word_count = submissions.select(\"selftext_word_count\").rdd.flatMap(lambda x: x).collect()\nbody_word_count = comments.select(\"body_word_count\").rdd.flatMap(lambda x: x).collect()\n\nplt.figure(figsize=(10, 5))\n\nplt.subplot(1, 2, 1)\nplt.hist(selftext_word_count, bins=20, color='blue')\nplt.title('Word Count in Submissions')\nplt.xlabel('Word Count')\nplt.ylabel('Frequency')\n\nplt.subplot(1, 2, 2)\nplt.hist(body_word_count, bins=20, color='purple')\nplt.title('Word Count in Comments')\nplt.xlabel('Word Count')\nplt.ylabel('Frequency')\n\nplt.show()",
                    "displayName": "collect at /tmp/ipykernel_7211/702508260.py:2",
                    "jobGroup": "30",
                    "jobId": 15,
                    "killedTasksSummary": {},
                    "name": "collect at /tmp/ipykernel_7211/702508260.py:2",
                    "numActiveStages": 0,
                    "numActiveTasks": 0,
                    "numCompletedIndices": 182,
                    "numCompletedStages": 1,
                    "numCompletedTasks": 182,
                    "numFailedStages": 0,
                    "numFailedTasks": 0,
                    "numKilledTasks": 0,
                    "numSkippedStages": 0,
                    "numSkippedTasks": 0,
                    "numTasks": 182,
                    "rowCount": 275,
                    "stageIds": [
                      19
                    ],
                    "status": "SUCCEEDED",
                    "submissionTime": "2023-11-06T16:46:55.030GMT",
                    "usageDescription": ""
                  },
                  {
                    "completionTime": "2023-11-06T16:46:54.947GMT",
                    "dataRead": 14017215,
                    "dataWritten": 0,
                    "description": "Job group for statement 30:\nselftext_word_count = submissions.select(\"selftext_word_count\").rdd.flatMap(lambda x: x).collect()\nbody_word_count = comments.select(\"body_word_count\").rdd.flatMap(lambda x: x).collect()\n\nplt.figure(figsize=(10, 5))\n\nplt.subplot(1, 2, 1)\nplt.hist(selftext_word_count, bins=20, color='blue')\nplt.title('Word Count in Submissions')\nplt.xlabel('Word Count')\nplt.ylabel('Frequency')\n\nplt.subplot(1, 2, 2)\nplt.hist(body_word_count, bins=20, color='purple')\nplt.title('Word Count in Comments')\nplt.xlabel('Word Count')\nplt.ylabel('Frequency')\n\nplt.show()",
                    "displayName": "collect at /tmp/ipykernel_7211/702508260.py:1",
                    "jobGroup": "30",
                    "jobId": 14,
                    "killedTasksSummary": {},
                    "name": "collect at /tmp/ipykernel_7211/702508260.py:1",
                    "numActiveStages": 0,
                    "numActiveTasks": 0,
                    "numCompletedIndices": 64,
                    "numCompletedStages": 1,
                    "numCompletedTasks": 64,
                    "numFailedStages": 0,
                    "numFailedTasks": 0,
                    "numKilledTasks": 0,
                    "numSkippedStages": 0,
                    "numSkippedTasks": 0,
                    "numTasks": 64,
                    "rowCount": 64,
                    "stageIds": [
                      18
                    ],
                    "status": "SUCCEEDED",
                    "submissionTime": "2023-11-06T16:46:54.433GMT",
                    "usageDescription": ""
                  }
                ],
                "limit": 20,
                "numbers": {
                  "FAILED": 0,
                  "RUNNING": 0,
                  "SUCCEEDED": 2,
                  "UNKNOWN": 0
                },
                "rule": "ALL_DESC"
              },
              "spark_pool": "7c27951d-2bdf-4140-be82-d0dc0c0e7d8e",
              "state": "finished",
              "statement_id": 30
            },
            "text/plain": [
              "StatementMeta(7c27951d-2bdf-4140-be82-d0dc0c0e7d8e, 25, 30, Finished, Available)"
            ]
          },
          "metadata": {},
          "output_type": "display_data"
        },
        {
          "data": {
            "image/png": "[encoded data removed]",
            "text/plain": [
              "<Figure size 720x360 with 2 Axes>"
            ]
          },
          "metadata": {
            "needs_background": "light"
          },
          "output_type": "display_data"
        }
      ],
      "source": [
        "selftext_word_count = submissions_l.select(\"selftext_word_count\").rdd.flatMap(lambda x: x).collect()\n",
        "body_word_count = comments_l.select(\"body_word_count\").rdd.flatMap(lambda x: x).collect()\n",
        "\n",
        "plt.figure(figsize=(10, 5))\n",
        "\n",
        "plt.subplot(1, 2, 1)\n",
        "plt.hist(selftext_word_count, bins=20, color='blue')\n",
        "plt.title('Word Count in Submissions')\n",
        "plt.xlabel('Word Count')\n",
        "plt.ylabel('Frequency')\n",
        "\n",
        "plt.subplot(1, 2, 2)\n",
        "plt.hist(body_word_count, bins=20, color='purple')\n",
        "plt.title('Word Count in Comments')\n",
        "plt.xlabel('Word Count')\n",
        "plt.ylabel('Frequency')\n",
        "\n",
        "plt.show()"
      ]
    },
    {
      "cell_type": "markdown",
      "metadata": {
        "nteract": {
          "transient": {
            "deleting": false
          }
        }
      },
      "source": [
        "Wow! This really helped contextualize the number of comments and submissions on this subreddit. For the submissions, a majority of the submissions were less than 500 words, although there was a small spike of 1500-word submissions. This is interesting, and to me shows that some submissions were written by people who care a lot and take the time to write out lengthy responses. On the other hand, a large majority of all comments were less than 100 words. \n",
        "\n",
        "Let's do the same thing for the r/tarheels page and see what we see there."
      ]
    },
    {
      "cell_type": "code",
      "execution_count": 27,
      "metadata": {
        "gather": {
          "logged": 1699289460476
        },
        "jupyter": {
          "outputs_hidden": false,
          "source_hidden": false
        },
        "nteract": {
          "transient": {
            "deleting": false
          }
        }
      },
      "outputs": [
        {
          "data": {
            "application/vnd.livy.statement-meta+json": {
              "execution_finish_time": "2023-11-06T16:51:00.1821393Z",
              "execution_start_time": "2023-11-06T16:50:59.2581251Z",
              "livy_statement_state": "available",
              "parent_msg_id": "74f8ca4d-9809-4206-bc45-13c53842c333",
              "queued_time": "2023-11-06T16:50:59.1351179Z",
              "session_id": "25",
              "session_start_time": null,
              "spark_jobs": {
                "jobs": [],
                "limit": 20,
                "numbers": {
                  "FAILED": 0,
                  "RUNNING": 0,
                  "SUCCEEDED": 0,
                  "UNKNOWN": 0
                },
                "rule": "ALL_DESC"
              },
              "spark_pool": "7c27951d-2bdf-4140-be82-d0dc0c0e7d8e",
              "state": "finished",
              "statement_id": 32
            },
            "text/plain": [
              "StatementMeta(7c27951d-2bdf-4140-be82-d0dc0c0e7d8e, 25, 32, Finished, Available)"
            ]
          },
          "metadata": {},
          "output_type": "display_data"
        }
      ],
      "source": [
        "submissions_w = submissions.select(\"subreddit\", \"author\", \"title\", \"selftext\", \"created_utc\", \"num_comments\").filter(col(\"subreddit\") == \"tarheels\")\n",
        "comments_w = comments.select(\"subreddit\", \"author\", \"body\", \"parent_id\", \"created_utc\").filter(col(\"subreddit\") == \"tarheels\")\n",
        "\n",
        "\n",
        "submissions_w = submissions_w.withColumn(\"selftext_word_count\", length(col(\"selftext\")))\n",
        "comments_w = comments_w.withColumn(\"body_word_count\", length(col(\"body\")))"
      ]
    },
    {
      "cell_type": "code",
      "execution_count": 28,
      "metadata": {
        "gather": {
          "logged": 1699289469926
        },
        "jupyter": {
          "outputs_hidden": false,
          "source_hidden": false
        },
        "nteract": {
          "transient": {
            "deleting": false
          }
        }
      },
      "outputs": [
        {
          "data": {
            "application/vnd.livy.statement-meta+json": {
              "execution_finish_time": "2023-11-06T16:51:09.6506772Z",
              "execution_start_time": "2023-11-06T16:51:05.7585954Z",
              "livy_statement_state": "available",
              "parent_msg_id": "70c44f15-0ce0-4fb5-9178-c1eb258f391a",
              "queued_time": "2023-11-06T16:51:05.6445687Z",
              "session_id": "25",
              "session_start_time": null,
              "spark_jobs": {
                "jobs": [
                  {
                    "completionTime": "2023-11-06T16:51:08.054GMT",
                    "dataRead": 220658342,
                    "dataWritten": 0,
                    "description": "Job group for statement 33:\nselftext_word_count = submissions_w.select(\"selftext_word_count\").rdd.flatMap(lambda x: x).collect()\nbody_word_count = comments_w.select(\"body_word_count\").rdd.flatMap(lambda x: x).collect()\n\nplt.figure(figsize=(10, 5))\n\nplt.subplot(1, 2, 1)\nplt.hist(selftext_word_count, bins=20, color='blue')\nplt.title('Word Count in Submissions')\nplt.xlabel('Word Count')\nplt.ylabel('Frequency')\n\nplt.subplot(1, 2, 2)\nplt.hist(body_word_count, bins=20, color='purple')\nplt.title('Word Count in Comments')\nplt.xlabel('Word Count')\nplt.ylabel('Frequency')\n\nplt.show()",
                    "displayName": "collect at /tmp/ipykernel_7211/931682810.py:2",
                    "jobGroup": "33",
                    "jobId": 19,
                    "killedTasksSummary": {},
                    "name": "collect at /tmp/ipykernel_7211/931682810.py:2",
                    "numActiveStages": 0,
                    "numActiveTasks": 0,
                    "numCompletedIndices": 182,
                    "numCompletedStages": 1,
                    "numCompletedTasks": 182,
                    "numFailedStages": 0,
                    "numFailedTasks": 0,
                    "numKilledTasks": 0,
                    "numSkippedStages": 0,
                    "numSkippedTasks": 0,
                    "numTasks": 182,
                    "rowCount": 275,
                    "stageIds": [
                      23
                    ],
                    "status": "SUCCEEDED",
                    "submissionTime": "2023-11-06T16:51:06.521GMT",
                    "usageDescription": ""
                  },
                  {
                    "completionTime": "2023-11-06T16:51:06.455GMT",
                    "dataRead": 14004431,
                    "dataWritten": 0,
                    "description": "Job group for statement 33:\nselftext_word_count = submissions_w.select(\"selftext_word_count\").rdd.flatMap(lambda x: x).collect()\nbody_word_count = comments_w.select(\"body_word_count\").rdd.flatMap(lambda x: x).collect()\n\nplt.figure(figsize=(10, 5))\n\nplt.subplot(1, 2, 1)\nplt.hist(selftext_word_count, bins=20, color='blue')\nplt.title('Word Count in Submissions')\nplt.xlabel('Word Count')\nplt.ylabel('Frequency')\n\nplt.subplot(1, 2, 2)\nplt.hist(body_word_count, bins=20, color='purple')\nplt.title('Word Count in Comments')\nplt.xlabel('Word Count')\nplt.ylabel('Frequency')\n\nplt.show()",
                    "displayName": "collect at /tmp/ipykernel_7211/931682810.py:1",
                    "jobGroup": "33",
                    "jobId": 18,
                    "killedTasksSummary": {},
                    "name": "collect at /tmp/ipykernel_7211/931682810.py:1",
                    "numActiveStages": 0,
                    "numActiveTasks": 0,
                    "numCompletedIndices": 64,
                    "numCompletedStages": 1,
                    "numCompletedTasks": 64,
                    "numFailedStages": 0,
                    "numFailedTasks": 0,
                    "numKilledTasks": 0,
                    "numSkippedStages": 0,
                    "numSkippedTasks": 0,
                    "numTasks": 64,
                    "rowCount": 64,
                    "stageIds": [
                      22
                    ],
                    "status": "SUCCEEDED",
                    "submissionTime": "2023-11-06T16:51:05.834GMT",
                    "usageDescription": ""
                  }
                ],
                "limit": 20,
                "numbers": {
                  "FAILED": 0,
                  "RUNNING": 0,
                  "SUCCEEDED": 2,
                  "UNKNOWN": 0
                },
                "rule": "ALL_DESC"
              },
              "spark_pool": "7c27951d-2bdf-4140-be82-d0dc0c0e7d8e",
              "state": "finished",
              "statement_id": 33
            },
            "text/plain": [
              "StatementMeta(7c27951d-2bdf-4140-be82-d0dc0c0e7d8e, 25, 33, Finished, Available)"
            ]
          },
          "metadata": {},
          "output_type": "display_data"
        },
        {
          "data": {
            "image/png": "[encoded data removed]",
            "text/plain": [
              "<Figure size 720x360 with 2 Axes>"
            ]
          },
          "metadata": {
            "needs_background": "light"
          },
          "output_type": "display_data"
        }
      ],
      "source": [
        "selftext_word_count = submissions_w.select(\"selftext_word_count\").rdd.flatMap(lambda x: x).collect()\n",
        "body_word_count = comments_w.select(\"body_word_count\").rdd.flatMap(lambda x: x).collect()\n",
        "\n",
        "plt.figure(figsize=(10, 5))\n",
        "\n",
        "plt.subplot(1, 2, 1)\n",
        "plt.hist(selftext_word_count, bins=20, color='blue')\n",
        "plt.title('Word Count in Submissions')\n",
        "plt.xlabel('Word Count')\n",
        "plt.ylabel('Frequency')\n",
        "\n",
        "plt.subplot(1, 2, 2)\n",
        "plt.hist(body_word_count, bins=20, color='purple')\n",
        "plt.title('Word Count in Comments')\n",
        "plt.xlabel('Word Count')\n",
        "plt.ylabel('Frequency')\n",
        "\n",
        "plt.show()"
      ]
    },
    {
      "cell_type": "markdown",
      "metadata": {
        "nteract": {
          "transient": {
            "deleting": false
          }
        }
      },
      "source": [
        "Very weird! This looks very different than the r/jayhawks version. The number of words in the comments and submissions is lower, and there is no relative increase in mid-length postings like there was in the previous iteration. We'd be interested in if any of these trends continue for the main page.\n",
        "\n",
        "This concludes our analysis of Exploratory Data Analysis Question 3. Thank you!"
      ]
    },
    {
      "cell_type": "code",
      "execution_count": null,
      "metadata": {
        "jupyter": {
          "outputs_hidden": false,
          "source_hidden": false
        },
        "nteract": {
          "transient": {
            "deleting": false
          }
        }
      },
      "outputs": [],
      "source": []
    }
  ],
  "metadata": {
    "kernel_info": {
      "name": "synapse_pyspark"
    },
    "kernelspec": {
      "display_name": "Synapse PySpark",
      "language": "Python",
      "name": "synapse_pyspark"
    },
    "language_info": {
      "codemirror_mode": "ipython",
      "file_extension": ".py",
      "mimetype": "text/x-python",
      "name": "python",
      "nbconvert_exporter": "python",
      "pygments_lexer": "ipython",
      "version": "3.8.0"
    },
    "microsoft": {
      "host": {
        "AzureML": {
          "notebookHasBeenCompleted": true
        }
      },
      "ms_spell_check": {
        "ms_spell_check_language": "en"
      }
    },
    "nteract": {
      "version": "nteract-front-end@1.0.0"
    }
  },
  "nbformat": 4,
  "nbformat_minor": 2
}

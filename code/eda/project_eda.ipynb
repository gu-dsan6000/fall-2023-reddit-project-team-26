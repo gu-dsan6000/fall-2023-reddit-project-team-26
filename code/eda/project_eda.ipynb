{
  "cells": [
    {
      "cell_type": "markdown",
      "id": "ee8ae429-47c6-4761-982f-512698bbf719",
      "metadata": {},
      "source": [
        "# Project EDA Notebook"
      ]
    },
    {
      "cell_type": "markdown",
      "id": "6ac6cc23-dcb0-4013-8318-7d0f80d47dbf",
      "metadata": {},
      "source": [
        "# Business Questions\n",
        "\n",
        "### Project by Klaas van Kempen, Shihong Zhou, Yifan Hu, and Katherine Nunez\n",
        "\n",
        "## Overview of the Project\n",
        "\n",
        "This project will use the given Reddit data to explore how Reddit users view, react to, and analyze collegiate basketball. We will compare sentiments and use external datasets such as team records and injuries to better understand how Reddit users react to their team successes or failures. \n",
        "\n",
        "This project will center around three different areas of analysis: exploratory data analysis, natural language processing (NLP), and machine learning. We expect these three different areas of analysis to display different areas of the dataset and allow us to answer a variety of questions about this data. \n",
        "\n",
        "We will use the Reddit data to explore the differences in sentiment between collegiate basketball fans and how the fans of the top teams from 2021-2022 reacted over the course of the season. We chose to limit our data to 2021-2022 because we wanted to ensure that our data captured an entire basketball season. The collegiate season ranges from November to about March, so by taking our data from September 2021 to April 2022, we are able to ensure that we can capture the data from an entire basketball season.\n",
        "\n",
        "\n",
        "### Overview of Colleagiate Basketball\n",
        "\n",
        "Although professional and collegiate basketball are very related, there are some key differences that we want to establish before engaging in any exploratory data analysis. We expect these differences to become apparent in some of our sentiment analysis, NLP, and even in the exploratory phase of this project.\n",
        "\n",
        "\n",
        "**Collegiate Basketball:** Collegiate basketball in the United States is regulated primarily by the National Collegiate Athletic Association (NCAA). For the purposes of this project, we will be focusing on NCAA division 1 (D1) college basketball. College basketball is sorted into conferences (which typically align across sports for schools), which determines most of each team's scheduled opponents and the conference championship tournament. At the end of each season, there is a gigantic tournament to determine the college basketball champion, colloquially called March Madness. In March, 64 teams (plus four other teams who play a \"play-in game\") compete in a single-elimination tournament to determine the champion for the season. These players are considered amateurs, i.e. they do not receive contracts, but each collegiate basketball player is eligible to receive sponsorships and advertisement revenues.\n",
        "\n",
        "Part of our analysis will by analyzing the r/CBB (college basketball) subreddit, but we will also be analyzing the r/jayhawks and r/tarheels, the two teams to make the finals for college basketball in 2022 (Kansas won!). This way, we can also track the sentiments of the fans of the two most successful college basketball teams across the course of the season on their championship runs."
      ]
    },
    {
      "cell_type": "markdown",
      "id": "bed93baa",
      "metadata": {},
      "source": [
        "## Business Goals: Questions To Answer\n",
        "\n",
        "Over the course of this project, we aim to answer different data science questions. The first few questions will be exploratory data analysis, which we have presented for you here. The next questions will be on NLP and machine learning, which will vary in complexity and in which part of the data set they are analyzing. We aim to answer these questions through multiple visual avenues, including plots, graphs, and charts, and aim to expose some interesting trends in collegiate basketball over the course of the 2021-2022 season. \n",
        "\n",
        "### Exploratory Data Analysis Questions\n",
        "\n",
        "**Business Goal 1:** Between the two top teams of 2021-2022 (UNC and Kansas) which has higher reddit engagement. \\\n",
        "**Technical Proposal:** Use regular expressions to extract mentions of the UNC and Kansas basketball team from the College Basketball subreddit to determine which is more talked about. Additionally, compute the counts of comments and submissions by day in the respective subreddits of UNC and Kansas basketball to determine which days have the most engagement for each fanbase. Finally also compute a count of comments by day in the large College Basketball subreddit to determine high engagement days in the overall college basketball community. \n",
        "\n",
        "**Business Goal 2:** Determine how reddit activity ebbs and flows over the course of a collegiate basketball season. Construct visuals to aid in understanding how much reddit users post over the course of the 2022 season. \\\n",
        "**Technical Proposal:** Group by date to determine the number of comments and submissions in the college basketball subreddit and visualize both of these time series plots. Compute the word count in each comment/submission and plot the average word count by day over the time period. Finally plot a heatmap comparing the count of comments on each day of week/hour of day combination to identify and weekly/daily cyclical trends. \n",
        "\n",
        "**Business Goal 3:** Explore how the subreddit page of the NCAA champion in 2022, the Kansas Jayhawks, varied over the course of the season. Identify any trends in post frequency or comment length that may correlate to on-the-court successes or failures. \\\n",
        "**Technical Proposal:** Use trend analysis and count number of comments and comment lengths to determine excitement over the course of the CBB season. Correlate any major trends to outside data sets, including Jayhawks wins and losses or injuries of key players. Analyze any additional trends in activity over the course of the 2022 season to find any other additional results before entering into the NLP phase of the project.\n",
        "\n",
        "**Business Goal 3.5:** Explore how the subreddit page of the NCAA runner ups in 2022, the UNC Tarheels, varied over the course of the season. Identify any trends in post frequency or comment length that may correlate to on-the-court successes or failures. \\\n",
        "**Technical Proposal:** Use trend analysis and count number of comments and comment lengths to determine excitement over the course of the CBB season. Correlate any major trends to outside data sets, including UNC wins and losses or major games. Analyze any additional trends in activity over the course of the 2022 season to find any other additional results before entering into the NLP phase of the project.\n",
        "\n",
        "**Business Goal 4:** Identify the teams that have the most engagement on the main college basketball subreddit. \\\n",
        "**Technical Proposal:** Use grouping and sorting algorithms to find which college basketball teams are the most mentioned teams. Identify if these mentions ebb or flow over the course of the season. Incorporate external datasets such as basketball rankings to correlate mentions with popular games or teams.\n",
        "\n",
        "### Natural Language Processing (NLP) Questions\n",
        "\n",
        "**Business Goal 5:** Rank CBB players in terms of popularity across subreddits. Determine if the popularity is \"positive\" or \"negative\". \\\n",
        "**Technical Proposal:** Use NLP techniques to identify which players are the most popular in collegiate basketball by analyzing how many times they are mentioned or are referred to in comments. Extract mentions of player names using NLP techniques and count frequency. Combine with sentiment scores to create a popularity index. Use sentiment analysis techniques to determine if this popularity is due to positive or negative sentiment. Compare trends in these players' appearance in comments to external factors, such as on-the-court statistics or injuries.\n",
        "\n",
        "**Business Goal 6:** Understand how player transfers in CBB affect fan engagement on relevant subreddits. \\\n",
        "**Technical Proposal:** Conduct time-series analysis of post and comment frequencies before and after trade announcements. Apply statistical tests to determine significance. Use sentiment analysis to determine how fans feel about each trade. Integrate external data sets to see if fan sentiment agrees with conventional wisdom on the success of trades.\n",
        "\n",
        "**Business Goal 7:** Determine how collegiate fan bases react after big wins and big losses. Identify volatility over the course of the season, especially for teams we know reach the championship. \\\n",
        "**Technical Proposal:** Identify fan sentiment for two days following a \"big win\" or a \"big loss\". A big win could be some definition such as by beating a team by 20 points, and a big loss could be some definition such as losing to a team by more than 20 points. Analyze how fans of championship-caliber teams react to victory and defeat. Use NLP techniques to identify any rivalries or particularly important games to fanbases.\n",
        "\n",
        "**Business Goal 8:** Determine if sentiment correlates to team success on CBB subreddits. Identify fan sentiment over the course of a championship-caliber season. \\\n",
        "**Technical Proposal:** Use NLP techniques to conduct trend analysis on sentiment across individual subreddits for CBB teams. Identify how positive and negative sentiment fluxuate over the course of a season. Use NLP to identify additional trends around March and June, the time of the playoffs, and how fan sentiment changes (or does not change) during the postseason.\n",
        "\n",
        "**Business Goal 9:** Determine which teams are the most liked or most hated in college basketball. \\\n",
        "**Technical Proposal:** Incorporate results of the EDA portion of most mentioned teams. Conduct NLP analysis to determine if these mentions are positive or negative. Expand analysis to surrounding comments and threads to understand which teams are generally viewed favorably or which are viewed negatively. Use external news sources to understand how fans view unlikely winners, such as \"cinderella stories,\" or losers, such as \"upsets.\"\n",
        "\n",
        "\n",
        "### Machine Learning Questions\n",
        "\n",
        "**Business Goal 9:** Assess if the sentiment on CBB subreddits can help predict game outcomes. \\\n",
        "**Technical Proposal:** Build a machine learning model using historical game outcomes and pre-game subreddit sentiment as features. Use external data sets, such as season win/loss records, to create predictive model that incorporates pre-game sentiment. Test data on 2022-2023 season to determine accuracy of said model.\n",
        "\n",
        "**Business Goal 10:** Determine what do subreddits look like in the lead up to big games or big tournaments. \\\n",
        "**Technical Proposal:** Start with postseason sentiment analysis, then use cluster modeling or some similar machine learning technique to identify important games throughout the course of the season. Correlate these important games to external factors, such as rivalries, injuries, or trades. Visualize results by grouping important games over the course of the regular season and post season.\n",
        "\n",
        "**Business Goal 11:** Assess if the Kansas Jayhawks or UNC Tar Heel subreddits more volatile throughout the season. \\\n",
        "**Technical Proposal:** Compare NBA and CBB subreddits using a multitude of machine learning techniques to identify which have more varied reactions, posting tempos, or other factors. Identify which have a wider variety of types of post and poster over the course of a season. Determine if NBA fans or CBB fans are more volatile in their reaction timing, tempo, length, and frequency over the course of a season.\n",
        "\n",
        "**Business Goal 12:** Predict which college basketball players will become major NBA stars based on Reddit discussions. \\\n",
        "**Technical Proposal:** Monitor mentions and sentiments around CBB players. Track those who enter the NBA and evaluate their performance using regression analysis against Reddit metrics. Use draft status and 2022-2023 NBA season statistics to verify these outcomes.\n",
        "\n",
        "\n",
        "### An Aside\n",
        "\n",
        "We initially conceptualized this project as a comparison of professional and collegiate basketball. When we began our initial data pulls of the reddit data, we found that this data would be too big and too unweildy to complete a project like this one. Below is our overview of professional basketball and our initial proposal.\n",
        "\n",
        "**Professional Basketball:** Professional basketball in the United States is played in the National Basketball Association (NBA). The NBA has feeder leagues (such as the G League), and there are other international leagues as well. The NBA consists of 30 teams, most if not all of which have their own subreddits. Each NBA team has 15 players, in addition to two two-way contracts between the NBA and the G League. Each player in the NBA is paid via contract, and each are eligible for any advertising or sponsorship money that they pursue in addition to their contractual responsibilities. \n",
        "\n",
        "Part of our analysis would've been analyzing the r/NBA subreddit and also the r/bostonceltics and r/warriors subreddits, as those were the two teams to make the NBA finals in 2022 (the Golden State Warriors were the 2022 NBA champions). This way, we would've been able to track the sentiments of the two most successful teams in the NBA across the season."
      ]
    },
    {
      "cell_type": "markdown",
      "id": "9fff4364-203e-4fc7-8133-57ed29aab0d5",
      "metadata": {},
      "source": [
        "## Other Items of Note\n",
        "\n",
        "### External Datasets\n",
        "\n",
        "Based on our initial business goals, we think there are a few external datasets that could be relevant. Our primary dataset will likely be the weekly rankings of college basketball teams in the 2021-2022 season. We found that dataset [here](https://en.wikipedia.org/wiki/2021%E2%80%9322_NCAA_Division_I_men%27s_basketball_rankings), and that dataset is uploaded as a csv in the /data folder. This dataset is the top 25 rankings of college basketball teams, as voted on by a predetermined committee. These rankings come out once a week and reflect the outcomes of all of the games from the week prior. This dataset would be relevant in each of our sections because it captures lots of national sentiments around how each team is performing and their performance relative to other teams week to week. We could likely use this information to capture how teams are performing objectively and compare that to sentiments on these subreddits.\n",
        "\n",
        "We will also likely need to incorporate the daily or weekly schedule of college basketball games, found [here](https://www.espn.com/mens-college-basketball/schedule/_/date/20211117). This schedule will allow us to take reddit sentiment or posting patterns and correlate that information to games played that day, week, or month.\n",
        "\n",
        "We will also likely incorporate information from viewership data, such as from this [website](https://watchstadium.com/college-basketball-must-see-games-in-2021-22-10-27-2021/). This can help us find which games are highly anticipated and the games that are the most viewed, and thus likely the most commented on.\n",
        "\n",
        "Other potential datasets we could incorporate are injury reports, potentially the reports generated before every game. This could help capture things outside of the weekly rankings or scheduling that may affect poster sentiment or poster frequency. \n",
        "\n",
        "We anticipate continuing to find and use external datasets throughout the course of this project.\n",
        "\n",
        "### New Variables\n",
        "\n",
        "We also created new variables to help with our exploratory data analysis. We created variables such as comment length and submission length (across the subreddits) to find the length of post.\n",
        "\n",
        "Additionally, we created a new variable taking information from the poster's username/avatar to extract information about the poster's fandom. This will help contextualize the comments and submissions, giving us greater insights and avenues for analysis. Extracting data from the \"title\" of a post we also created a \"game thread\" indicator column which helps separate normal submissions to game specific threads. Additional variables we created are found throughout this analysis.\n",
        "\n",
        "We plan to continue developing new variables as necessary throughout this project to capture other necessary information as we continue. \n",
        "\n",
        "### Regex Variables\n",
        "\n",
        "Finally, we created a number of dummy variables to help with our exploratory data analysis and to continue to help with other phases of analysis. Some of these dummy variables include:\n",
        "\n",
        "```\n",
        "- if a game thread was about a ranked matchup (Game Thread Posts Only)\n",
        "- if a certain team was mentioned in the comment/submission post \n",
        "- What time a game was played and what teams were playing (Game Thread Posts Only)\n",
        "```\n",
        "\n",
        " These dummy variables are found throughout our analysis here."
      ]
    },
    {
      "cell_type": "markdown",
      "id": "9c13ef86-d4b4-4451-a1e1-7253311062a6",
      "metadata": {},
      "source": [
        "### Setting up spark"
      ]
    },
    {
      "cell_type": "code",
      "execution_count": 1,
      "id": "93750110-1490-41d2-adbc-456018af35fd",
      "metadata": {
        "gather": {
          "logged": 1699236956714
        },
        "jupyter": {
          "outputs_hidden": false,
          "source_hidden": false
        },
        "nteract": {
          "transient": {
            "deleting": false
          }
        }
      },
      "outputs": [
        {
          "data": {
            "application/vnd.livy.statement-meta+json": {
              "execution_finish_time": "2023-11-06T02:15:56.4166341Z",
              "execution_start_time": "2023-11-06T02:15:53.4971719Z",
              "livy_statement_state": "available",
              "parent_msg_id": "75cd289d-8963-4f54-902a-40aa6122db41",
              "queued_time": "2023-11-06T02:12:40.0020226Z",
              "session_id": "20",
              "session_start_time": "2023-11-06T02:12:40.0598419Z",
              "spark_jobs": {
                "jobs": [],
                "limit": 20,
                "numbers": {
                  "FAILED": 0,
                  "RUNNING": 0,
                  "SUCCEEDED": 0,
                  "UNKNOWN": 0
                },
                "rule": "ALL_DESC"
              },
              "spark_pool": "7c27951d-2bdf-4140-be82-d0dc0c0e7d8e",
              "state": "finished",
              "statement_id": 6
            },
            "text/plain": [
              "StatementMeta(7c27951d-2bdf-4140-be82-d0dc0c0e7d8e, 20, 6, Finished, Available)"
            ]
          },
          "metadata": {},
          "output_type": "display_data"
        },
        {
          "data": {
            "text/html": [
              "\n",
              "            <div>\n",
              "                <p><b>SparkSession - hive</b></p>\n",
              "                \n",
              "        <div>\n",
              "            <p><b>SparkContext</b></p>\n",
              "\n",
              "            <p><a href=\"http://vm-70558386:37835\">Spark UI</a></p>\n",
              "\n",
              "            <dl>\n",
              "              <dt>Version</dt>\n",
              "                <dd><code>v3.2.2.5.1-100879434</code></dd>\n",
              "              <dt>Master</dt>\n",
              "                <dd><code>yarn</code></dd>\n",
              "              <dt>AppName</dt>\n",
              "                <dd><code>Azure ML Experiment</code></dd>\n",
              "            </dl>\n",
              "        </div>\n",
              "        \n",
              "            </div>\n",
              "        "
            ],
            "text/plain": [
              "<pyspark.sql.session.SparkSession at 0x7f8de2070910>"
            ]
          },
          "execution_count": 11,
          "metadata": {},
          "output_type": "execute_result"
        }
      ],
      "source": [
        "spark"
      ]
    },
    {
      "cell_type": "markdown",
      "id": "a20d1993-fa64-443d-9715-41ea4a0171a3",
      "metadata": {
        "nteract": {
          "transient": {
            "deleting": false
          }
        }
      },
      "source": [
        "### Setting up Data Configuration"
      ]
    },
    {
      "cell_type": "code",
      "execution_count": 2,
      "id": "18d8cf8a-0690-428c-92bc-b170311b5302",
      "metadata": {
        "gather": {
          "logged": 1699236961433
        },
        "jupyter": {
          "outputs_hidden": false,
          "source_hidden": false
        },
        "nteract": {
          "transient": {
            "deleting": false
          }
        }
      },
      "outputs": [
        {
          "data": {
            "application/vnd.livy.statement-meta+json": {
              "execution_finish_time": "2023-11-06T02:16:01.2187171Z",
              "execution_start_time": "2023-11-06T02:16:00.8498731Z",
              "livy_statement_state": "available",
              "parent_msg_id": "76efcac8-8f83-45b4-8890-7e53dd89d71e",
              "queued_time": "2023-11-06T02:16:00.6997811Z",
              "session_id": "20",
              "session_start_time": null,
              "spark_jobs": {
                "jobs": [],
                "limit": 20,
                "numbers": {
                  "FAILED": 0,
                  "RUNNING": 0,
                  "SUCCEEDED": 0,
                  "UNKNOWN": 0
                },
                "rule": "ALL_DESC"
              },
              "spark_pool": "7c27951d-2bdf-4140-be82-d0dc0c0e7d8e",
              "state": "finished",
              "statement_id": 7
            },
            "text/plain": [
              "StatementMeta(7c27951d-2bdf-4140-be82-d0dc0c0e7d8e, 20, 7, Finished, Available)"
            ]
          },
          "metadata": {},
          "output_type": "display_data"
        }
      ],
      "source": [
        "blob_account_name = \"marckvnonprodblob\"\n",
        "blob_container_name = \"bigdata\"\n",
        "# read only\n",
        "blob_sas_token = \"?sv=2021-10-04&st=2023-10-04T01%3A42%3A59Z&se=2024-01-02T02%3A42%3A00Z&sr=c&sp=rlf&sig=w3CH9MbCOpwO7DtHlrahc7AlRPxSZZb8MOgS6TaXLzI%3D\"\n",
        "\n",
        "wasbs_base_url = (\n",
        "    f\"wasbs://{blob_container_name}@{blob_account_name}.blob.core.windows.net/\"\n",
        ")\n",
        "spark.conf.set(\n",
        "    f\"fs.azure.sas.{blob_container_name}.{blob_account_name}.blob.core.windows.net\",\n",
        "    blob_sas_token,\n",
        ")"
      ]
    },
    {
      "cell_type": "markdown",
      "id": "070acf71-a6dc-4b37-8c03-56e1d721cee0",
      "metadata": {},
      "source": [
        "### Reading in Reddit Data"
      ]
    },
    {
      "cell_type": "code",
      "execution_count": 3,
      "id": "3bdf3f26-a60b-4345-aa0f-1fdb69ff5df5",
      "metadata": {
        "gather": {
          "logged": 1699236964938
        },
        "jupyter": {
          "outputs_hidden": false,
          "source_hidden": false
        },
        "nteract": {
          "transient": {
            "deleting": false
          }
        }
      },
      "outputs": [
        {
          "data": {
            "application/vnd.livy.statement-meta+json": {
              "execution_finish_time": "2023-11-06T02:16:04.8266204Z",
              "execution_start_time": "2023-11-06T02:16:04.4832265Z",
              "livy_statement_state": "available",
              "parent_msg_id": "8069dff1-64b2-423d-886a-0282b34e70cc",
              "queued_time": "2023-11-06T02:16:04.3660291Z",
              "session_id": "20",
              "session_start_time": null,
              "spark_jobs": {
                "jobs": [],
                "limit": 20,
                "numbers": {
                  "FAILED": 0,
                  "RUNNING": 0,
                  "SUCCEEDED": 0,
                  "UNKNOWN": 0
                },
                "rule": "ALL_DESC"
              },
              "spark_pool": "7c27951d-2bdf-4140-be82-d0dc0c0e7d8e",
              "state": "finished",
              "statement_id": 8
            },
            "text/plain": [
              "StatementMeta(7c27951d-2bdf-4140-be82-d0dc0c0e7d8e, 20, 8, Finished, Available)"
            ]
          },
          "metadata": {},
          "output_type": "display_data"
        }
      ],
      "source": [
        "comments_path = \"reddit-parquet/comments/\"\n",
        "submissions_path = \"reddit-parquet/submissions/\""
      ]
    },
    {
      "cell_type": "code",
      "execution_count": 4,
      "id": "a68daec4-2262-4212-8393-e3d0540ecb51",
      "metadata": {
        "gather": {
          "logged": 1699236967195
        },
        "jupyter": {
          "outputs_hidden": false,
          "source_hidden": false
        },
        "nteract": {
          "transient": {
            "deleting": false
          }
        }
      },
      "outputs": [
        {
          "data": {
            "application/vnd.livy.statement-meta+json": {
              "execution_finish_time": "2023-11-06T02:16:07.0800772Z",
              "execution_start_time": "2023-11-06T02:16:06.7185452Z",
              "livy_statement_state": "available",
              "parent_msg_id": "da243f72-bedc-4db0-ba9c-4edcc5fc7b24",
              "queued_time": "2023-11-06T02:16:06.4931205Z",
              "session_id": "20",
              "session_start_time": null,
              "spark_jobs": {
                "jobs": [],
                "limit": 20,
                "numbers": {
                  "FAILED": 0,
                  "RUNNING": 0,
                  "SUCCEEDED": 0,
                  "UNKNOWN": 0
                },
                "rule": "ALL_DESC"
              },
              "spark_pool": "7c27951d-2bdf-4140-be82-d0dc0c0e7d8e",
              "state": "finished",
              "statement_id": 9
            },
            "text/plain": [
              "StatementMeta(7c27951d-2bdf-4140-be82-d0dc0c0e7d8e, 20, 9, Finished, Available)"
            ]
          },
          "metadata": {},
          "output_type": "display_data"
        }
      ],
      "source": [
        "# Test on a single file only (random file)\n",
        "comments_single = \"year=2021/month=10/*\"\n",
        "submissions_single = \"year=2021/month=10/*\""
      ]
    },
    {
      "cell_type": "code",
      "execution_count": 5,
      "id": "7eb6d8f8-1414-46b1-9c54-29a7fc985544",
      "metadata": {
        "gather": {
          "logged": 1699024436707
        },
        "jupyter": {
          "outputs_hidden": false,
          "source_hidden": false
        },
        "nteract": {
          "transient": {
            "deleting": false
          }
        }
      },
      "outputs": [
        {
          "data": {
            "application/vnd.livy.statement-meta+json": {
              "execution_finish_time": null,
              "execution_start_time": "2023-11-06T02:16:09.8691693Z",
              "livy_statement_state": "running",
              "parent_msg_id": "87421622-12b4-4e74-8f2a-a60ff3a3ccfc",
              "queued_time": "2023-11-06T02:16:09.6812974Z",
              "session_id": "20",
              "session_start_time": null,
              "spark_jobs": {
                "jobs": [],
                "limit": 20,
                "numbers": {
                  "FAILED": 0,
                  "RUNNING": 0,
                  "SUCCEEDED": 0,
                  "UNKNOWN": 0
                },
                "rule": "ALL_DESC"
              },
              "spark_pool": "7c27951d-2bdf-4140-be82-d0dc0c0e7d8e",
              "state": "submitted",
              "statement_id": 10
            },
            "text/plain": [
              "StatementMeta(7c27951d-2bdf-4140-be82-d0dc0c0e7d8e, 20, 10, Submitted, Running)"
            ]
          },
          "metadata": {},
          "output_type": "display_data"
        }
      ],
      "source": [
        "comments_single_df = spark.read.parquet(f\"{wasbs_base_url}{comments_path}\")\n",
        "submissions_single_df = spark.read.parquet(f\"{wasbs_base_url}{submissions_path}\")"
      ]
    },
    {
      "cell_type": "markdown",
      "id": "56cb76ec-baf0-43c1-b4f2-0ba185624d81",
      "metadata": {},
      "source": [
        "### Selecting Desired Subreddits"
      ]
    },
    {
      "cell_type": "code",
      "execution_count": 5,
      "id": "efd4d193-132c-4d27-bd50-d0a902758e86",
      "metadata": {
        "gather": {
          "logged": 1698976720882
        },
        "jupyter": {
          "outputs_hidden": false,
          "source_hidden": false
        },
        "nteract": {
          "transient": {
            "deleting": false
          }
        }
      },
      "outputs": [
        {
          "data": {
            "application/vnd.livy.statement-meta+json": {
              "execution_finish_time": "2023-11-03T01:58:40.6693918Z",
              "execution_start_time": "2023-11-03T01:58:39.7413221Z",
              "livy_statement_state": "available",
              "parent_msg_id": "76ae4f19-9768-42be-bc64-3f1c4df39c2d",
              "queued_time": "2023-11-03T01:55:04.958658Z",
              "session_id": "7",
              "session_start_time": null,
              "spark_jobs": {
                "jobs": [],
                "limit": 20,
                "numbers": {
                  "FAILED": 0,
                  "RUNNING": 0,
                  "SUCCEEDED": 0,
                  "UNKNOWN": 0
                },
                "rule": "ALL_DESC"
              },
              "spark_pool": "d3c1b951-094c-48e1-919d-e32bc175397b",
              "state": "finished",
              "statement_id": 10
            },
            "text/plain": [
              "StatementMeta(d3c1b951-094c-48e1-919d-e32bc175397b, 7, 10, Finished, Available)"
            ]
          },
          "metadata": {},
          "output_type": "display_data"
        }
      ],
      "source": [
        "subreddit_values = [\"CollegeBasketball\", \"jayhawks\", \"tarheels\"]\n",
        "submissions_filtered = submissions_single_df.filter(submissions_single_df['subreddit'].isin(subreddit_values))\n",
        "comments_filtered = comments_single_df.filter(comments_single_df['subreddit'].isin(subreddit_values))"
      ]
    },
    {
      "cell_type": "code",
      "execution_count": 6,
      "id": "c0056d33-8855-48aa-8b0a-bf7b21b66eef",
      "metadata": {
        "gather": {
          "logged": 1698976721878
        },
        "jupyter": {
          "outputs_hidden": false,
          "source_hidden": false
        },
        "nteract": {
          "transient": {
            "deleting": false
          }
        }
      },
      "outputs": [
        {
          "data": {
            "application/vnd.livy.statement-meta+json": {
              "execution_finish_time": "2023-11-03T01:58:41.6740308Z",
              "execution_start_time": "2023-11-03T01:58:40.7940462Z",
              "livy_statement_state": "available",
              "parent_msg_id": "4add17d0-58ed-400f-ada4-7e50203d3c33",
              "queued_time": "2023-11-03T01:55:33.4496986Z",
              "session_id": "7",
              "session_start_time": null,
              "spark_jobs": {
                "jobs": [],
                "limit": 20,
                "numbers": {
                  "FAILED": 0,
                  "RUNNING": 0,
                  "SUCCEEDED": 0,
                  "UNKNOWN": 0
                },
                "rule": "ALL_DESC"
              },
              "spark_pool": "d3c1b951-094c-48e1-919d-e32bc175397b",
              "state": "finished",
              "statement_id": 11
            },
            "text/plain": [
              "StatementMeta(d3c1b951-094c-48e1-919d-e32bc175397b, 7, 11, Finished, Available)"
            ]
          },
          "metadata": {},
          "output_type": "display_data"
        }
      ],
      "source": [
        "from pyspark.sql.functions import *\n",
        "from datetime import datetime\n",
        "\n",
        "start_timestamp = datetime(2021, 9, 1)\n",
        "end_timestamp = datetime(2022, 4, 30)\n",
        "\n",
        "submissions_filtered = submissions_filtered.filter((col(\"created_utc\") >= start_timestamp) & (col(\"created_utc\") <= end_timestamp))\n",
        "comments_filtered = comments_filtered.filter((col(\"created_utc\") >= start_timestamp) & (col(\"created_utc\") <= end_timestamp))"
      ]
    },
    {
      "cell_type": "markdown",
      "id": "6bf6ee8a-5b15-44d1-8f63-95dce684fe8d",
      "metadata": {
        "nteract": {
          "transient": {
            "deleting": false
          }
        }
      },
      "source": [
        "#### Saving Intermediate Data"
      ]
    },
    {
      "cell_type": "code",
      "execution_count": 2,
      "id": "2b01020e-e826-4093-837f-47515dfa1b6b",
      "metadata": {
        "gather": {
          "logged": 1699024672658
        },
        "jupyter": {
          "outputs_hidden": false,
          "source_hidden": false
        },
        "nteract": {
          "transient": {
            "deleting": false
          }
        }
      },
      "outputs": [
        {
          "data": {
            "application/vnd.livy.statement-meta+json": {
              "execution_finish_time": "2023-11-03T15:17:52.4121763Z",
              "execution_start_time": "2023-11-03T15:17:52.0581722Z",
              "livy_statement_state": "available",
              "parent_msg_id": "ee48011e-142e-4428-a195-3e7851b3fe25",
              "queued_time": "2023-11-03T15:17:51.9320379Z",
              "session_id": "11",
              "session_start_time": null,
              "spark_jobs": {
                "jobs": [],
                "limit": 20,
                "numbers": {
                  "FAILED": 0,
                  "RUNNING": 0,
                  "SUCCEEDED": 0,
                  "UNKNOWN": 0
                },
                "rule": "ALL_DESC"
              },
              "spark_pool": "d3c1b951-094c-48e1-919d-e32bc175397b",
              "state": "finished",
              "statement_id": 7
            },
            "text/plain": [
              "StatementMeta(d3c1b951-094c-48e1-919d-e32bc175397b, 11, 7, Finished, Available)"
            ]
          },
          "metadata": {},
          "output_type": "display_data"
        }
      ],
      "source": [
        "workspace_default_storage_account = \"aml6214727930\"\n",
        "workspace_default_container = \"azureml-blobstore-6653633b-3460-4381-9199-d9e0f368353c\"\n",
        "\n",
        "workspace_wasbs_base_url = (\n",
        "    f\"wasbs://{workspace_default_container}@{workspace_default_storage_account}.blob.core.windows.net/\"\n",
        ")\n"
      ]
    },
    {
      "cell_type": "code",
      "execution_count": 8,
      "id": "59b51c5c-eac6-4b42-9b63-c6366e4f7947",
      "metadata": {
        "gather": {
          "logged": 1698979116252
        },
        "jupyter": {
          "outputs_hidden": false,
          "source_hidden": false
        },
        "nteract": {
          "transient": {
            "deleting": false
          }
        }
      },
      "outputs": [
        {
          "data": {
            "application/vnd.livy.statement-meta+json": {
              "execution_finish_time": "2023-11-03T02:38:35.8362796Z",
              "execution_start_time": "2023-11-03T01:59:20.4283624Z",
              "livy_statement_state": "available",
              "parent_msg_id": "abb0942a-e260-4355-a192-80fda7933614",
              "queued_time": "2023-11-03T01:59:20.2764481Z",
              "session_id": "7",
              "session_start_time": null,
              "spark_jobs": {
                "jobs": [
                  {
                    "completionTime": "2023-11-03T02:37:50.993GMT",
                    "dataRead": 525742623630,
                    "dataWritten": 170939214,
                    "description": "Job group for statement 13:\ncomments_filtered.select(\"subreddit\", \"author\",\"author_flair_text\", \"body\", \"parent_id\", \"link_id\", \"id\", \"created_utc\").write.mode(\"overwrite\").parquet(f\"{workspace_wasbs_base_url}/basketball_comments_sep.parquet\")",
                    "displayName": "parquet at NativeMethodAccessorImpl.java:0",
                    "jobGroup": "13",
                    "jobId": 2,
                    "killedTasksSummary": {},
                    "name": "parquet at NativeMethodAccessorImpl.java:0",
                    "numActiveStages": 0,
                    "numActiveTasks": 0,
                    "numCompletedIndices": 7428,
                    "numCompletedStages": 1,
                    "numCompletedTasks": 7428,
                    "numFailedStages": 0,
                    "numFailedTasks": 0,
                    "numKilledTasks": 0,
                    "numSkippedStages": 0,
                    "numSkippedTasks": 0,
                    "numTasks": 7428,
                    "rowCount": 6013024692,
                    "stageIds": [
                      2
                    ],
                    "status": "SUCCEEDED",
                    "submissionTime": "2023-11-03T01:59:23.723GMT",
                    "usageDescription": ""
                  }
                ],
                "limit": 20,
                "numbers": {
                  "FAILED": 0,
                  "RUNNING": 0,
                  "SUCCEEDED": 1,
                  "UNKNOWN": 0
                },
                "rule": "ALL_DESC"
              },
              "spark_pool": "d3c1b951-094c-48e1-919d-e32bc175397b",
              "state": "finished",
              "statement_id": 13
            },
            "text/plain": [
              "StatementMeta(d3c1b951-094c-48e1-919d-e32bc175397b, 7, 13, Finished, Available)"
            ]
          },
          "metadata": {},
          "output_type": "display_data"
        }
      ],
      "source": [
        "comments_filtered.select(\"subreddit\", \"author\",\"author_flair_text\", \"body\", \"parent_id\", \"link_id\", \"id\", \"created_utc\").write.mode(\"overwrite\").parquet(f\"{workspace_wasbs_base_url}/basketball_comments_sep.parquet\")"
      ]
    },
    {
      "cell_type": "code",
      "execution_count": 10,
      "id": "c6c0b78d-6cc5-49de-a6ec-73eda12c28e3",
      "metadata": {
        "gather": {
          "logged": 1698979847217
        },
        "jupyter": {
          "outputs_hidden": false,
          "source_hidden": false
        },
        "nteract": {
          "transient": {
            "deleting": false
          }
        }
      },
      "outputs": [
        {
          "data": {
            "application/vnd.livy.statement-meta+json": {
              "execution_finish_time": "2023-11-03T02:50:46.9424521Z",
              "execution_start_time": "2023-11-03T02:40:56.2221939Z",
              "livy_statement_state": "available",
              "parent_msg_id": "90caa735-44df-43ac-a4b1-857a5ab5d49b",
              "queued_time": "2023-11-03T02:40:56.0758728Z",
              "session_id": "7",
              "session_start_time": null,
              "spark_jobs": {
                "jobs": [
                  {
                    "completionTime": "2023-11-03T02:50:29.886GMT",
                    "dataRead": 59310198117,
                    "dataWritten": 12570391,
                    "description": "Job group for statement 15:\nsubmissions_filtered.select(\"subreddit\", \"author\", 'author_flair_text',\"title\", \"selftext\", \"created_utc\", \"num_comments\").write.mode(\"overwrite\").parquet(f\"{workspace_wasbs_base_url}/basketball_submissions_sep.parquet\")",
                    "displayName": "parquet at NativeMethodAccessorImpl.java:0",
                    "jobGroup": "15",
                    "jobId": 3,
                    "killedTasksSummary": {},
                    "name": "parquet at NativeMethodAccessorImpl.java:0",
                    "numActiveStages": 0,
                    "numActiveTasks": 0,
                    "numCompletedIndices": 3080,
                    "numCompletedStages": 1,
                    "numCompletedTasks": 3080,
                    "numFailedStages": 0,
                    "numFailedTasks": 0,
                    "numKilledTasks": 0,
                    "numSkippedStages": 0,
                    "numSkippedTasks": 0,
                    "numTasks": 3080,
                    "rowCount": 595601450,
                    "stageIds": [
                      3
                    ],
                    "status": "SUCCEEDED",
                    "submissionTime": "2023-11-03T02:40:56.766GMT",
                    "usageDescription": ""
                  }
                ],
                "limit": 20,
                "numbers": {
                  "FAILED": 0,
                  "RUNNING": 0,
                  "SUCCEEDED": 1,
                  "UNKNOWN": 0
                },
                "rule": "ALL_DESC"
              },
              "spark_pool": "d3c1b951-094c-48e1-919d-e32bc175397b",
              "state": "finished",
              "statement_id": 15
            },
            "text/plain": [
              "StatementMeta(d3c1b951-094c-48e1-919d-e32bc175397b, 7, 15, Finished, Available)"
            ]
          },
          "metadata": {},
          "output_type": "display_data"
        }
      ],
      "source": [
        "submissions_filtered.select(\"subreddit\", \"author\", 'author_flair_text',\"title\", \"selftext\", \"created_utc\", \"num_comments\").write.mode(\"overwrite\").parquet(f\"{workspace_wasbs_base_url}/basketball_submissions_sep.parquet\")"
      ]
    },
    {
      "cell_type": "markdown",
      "id": "5d61eabb-c0c5-48bd-8a2b-9419d9a4c970",
      "metadata": {
        "nteract": {
          "transient": {
            "deleting": false
          }
        }
      },
      "source": [
        "#### Loading Intermediate Data"
      ]
    },
    {
      "cell_type": "code",
      "execution_count": null,
      "id": "5b8f7a28-41e4-40b6-864a-5cb8194f0283",
      "metadata": {
        "jupyter": {
          "outputs_hidden": false,
          "source_hidden": false
        },
        "nteract": {
          "transient": {
            "deleting": false
          }
        }
      },
      "outputs": [],
      "source": [
        "workspace_default_storage_account = \"aml6214727930\"\n",
        "workspace_default_container = \"azureml-blobstore-6653633b-3460-4381-9199-d9e0f368353c\"\n",
        "\n",
        "workspace_wasbs_base_url = (\n",
        "    f\"wasbs://{workspace_default_container}@{workspace_default_storage_account}.blob.core.windows.net/\"\n",
        ")\n"
      ]
    },
    {
      "cell_type": "code",
      "execution_count": 3,
      "id": "83ecbd9b-d668-4df1-be79-45e12deb05be",
      "metadata": {
        "gather": {
          "logged": 1699024689908
        },
        "jupyter": {
          "outputs_hidden": false,
          "source_hidden": false
        },
        "nteract": {
          "transient": {
            "deleting": false
          }
        }
      },
      "outputs": [
        {
          "data": {
            "application/vnd.livy.statement-meta+json": {
              "execution_finish_time": "2023-11-03T15:18:09.8671808Z",
              "execution_start_time": "2023-11-03T15:17:54.9497849Z",
              "livy_statement_state": "available",
              "parent_msg_id": "3d1e0a51-a0e7-4293-92ce-19f242cddafb",
              "queued_time": "2023-11-03T15:17:54.8282223Z",
              "session_id": "11",
              "session_start_time": null,
              "spark_jobs": {
                "jobs": [
                  {
                    "completionTime": "2023-11-03T15:18:09.009GMT",
                    "dataRead": 0,
                    "dataWritten": 0,
                    "description": "Job group for statement 8:\n#datastore = 'azureml://datastores/workspaceblobstore/paths'\ncomments_path = \"/basketball_comments_sep.parquet\"\nsubmissions_path = \"/basketball_submissions_sep.parquet\"\n\ncomments = spark.read.parquet(f\"{workspace_wasbs_base_url}{comments_path}\")\nsubmissions = spark.read.parquet(f\"{workspace_wasbs_base_url}{submissions_path}\")\n\n",
                    "displayName": "parquet at NativeMethodAccessorImpl.java:0",
                    "jobGroup": "8",
                    "jobId": 1,
                    "killedTasksSummary": {},
                    "name": "parquet at NativeMethodAccessorImpl.java:0",
                    "numActiveStages": 0,
                    "numActiveTasks": 0,
                    "numCompletedIndices": 1,
                    "numCompletedStages": 1,
                    "numCompletedTasks": 1,
                    "numFailedStages": 0,
                    "numFailedTasks": 0,
                    "numKilledTasks": 0,
                    "numSkippedStages": 0,
                    "numSkippedTasks": 0,
                    "numTasks": 1,
                    "rowCount": 0,
                    "stageIds": [
                      1
                    ],
                    "status": "SUCCEEDED",
                    "submissionTime": "2023-11-03T15:18:06.448GMT",
                    "usageDescription": ""
                  },
                  {
                    "completionTime": "2023-11-03T15:18:03.993GMT",
                    "dataRead": 0,
                    "dataWritten": 0,
                    "description": "Job group for statement 8:\n#datastore = 'azureml://datastores/workspaceblobstore/paths'\ncomments_path = \"/basketball_comments_sep.parquet\"\nsubmissions_path = \"/basketball_submissions_sep.parquet\"\n\ncomments = spark.read.parquet(f\"{workspace_wasbs_base_url}{comments_path}\")\nsubmissions = spark.read.parquet(f\"{workspace_wasbs_base_url}{submissions_path}\")\n\n",
                    "displayName": "parquet at NativeMethodAccessorImpl.java:0",
                    "jobGroup": "8",
                    "jobId": 0,
                    "killedTasksSummary": {},
                    "name": "parquet at NativeMethodAccessorImpl.java:0",
                    "numActiveStages": 0,
                    "numActiveTasks": 0,
                    "numCompletedIndices": 1,
                    "numCompletedStages": 1,
                    "numCompletedTasks": 1,
                    "numFailedStages": 0,
                    "numFailedTasks": 0,
                    "numKilledTasks": 0,
                    "numSkippedStages": 0,
                    "numSkippedTasks": 0,
                    "numTasks": 1,
                    "rowCount": 0,
                    "stageIds": [
                      0
                    ],
                    "status": "SUCCEEDED",
                    "submissionTime": "2023-11-03T15:17:57.804GMT",
                    "usageDescription": ""
                  }
                ],
                "limit": 20,
                "numbers": {
                  "FAILED": 0,
                  "RUNNING": 0,
                  "SUCCEEDED": 2,
                  "UNKNOWN": 0
                },
                "rule": "ALL_DESC"
              },
              "spark_pool": "d3c1b951-094c-48e1-919d-e32bc175397b",
              "state": "finished",
              "statement_id": 8
            },
            "text/plain": [
              "StatementMeta(d3c1b951-094c-48e1-919d-e32bc175397b, 11, 8, Finished, Available)"
            ]
          },
          "metadata": {},
          "output_type": "display_data"
        }
      ],
      "source": [
        "#datastore = 'azureml://datastores/workspaceblobstore/paths'\n",
        "comments_path = \"/basketball_comments_sep.parquet\"\n",
        "submissions_path = \"/basketball_submissions_sep.parquet\"\n",
        "\n",
        "comments = spark.read.parquet(f\"{workspace_wasbs_base_url}{comments_path}\")\n",
        "submissions = spark.read.parquet(f\"{workspace_wasbs_base_url}{submissions_path}\")\n",
        "\n"
      ]
    }
  ],
  "metadata": {
    "availableInstances": [
      {
        "_defaultOrder": 0,
        "_isFastLaunch": true,
        "category": "General purpose",
        "gpuNum": 0,
        "hideHardwareSpecs": false,
        "memoryGiB": 4,
        "name": "ml.t3.medium",
        "vcpuNum": 2
      },
      {
        "_defaultOrder": 1,
        "_isFastLaunch": false,
        "category": "General purpose",
        "gpuNum": 0,
        "hideHardwareSpecs": false,
        "memoryGiB": 8,
        "name": "ml.t3.large",
        "vcpuNum": 2
      },
      {
        "_defaultOrder": 2,
        "_isFastLaunch": false,
        "category": "General purpose",
        "gpuNum": 0,
        "hideHardwareSpecs": false,
        "memoryGiB": 16,
        "name": "ml.t3.xlarge",
        "vcpuNum": 4
      },
      {
        "_defaultOrder": 3,
        "_isFastLaunch": false,
        "category": "General purpose",
        "gpuNum": 0,
        "hideHardwareSpecs": false,
        "memoryGiB": 32,
        "name": "ml.t3.2xlarge",
        "vcpuNum": 8
      },
      {
        "_defaultOrder": 4,
        "_isFastLaunch": true,
        "category": "General purpose",
        "gpuNum": 0,
        "hideHardwareSpecs": false,
        "memoryGiB": 8,
        "name": "ml.m5.large",
        "vcpuNum": 2
      },
      {
        "_defaultOrder": 5,
        "_isFastLaunch": false,
        "category": "General purpose",
        "gpuNum": 0,
        "hideHardwareSpecs": false,
        "memoryGiB": 16,
        "name": "ml.m5.xlarge",
        "vcpuNum": 4
      },
      {
        "_defaultOrder": 6,
        "_isFastLaunch": false,
        "category": "General purpose",
        "gpuNum": 0,
        "hideHardwareSpecs": false,
        "memoryGiB": 32,
        "name": "ml.m5.2xlarge",
        "vcpuNum": 8
      },
      {
        "_defaultOrder": 7,
        "_isFastLaunch": false,
        "category": "General purpose",
        "gpuNum": 0,
        "hideHardwareSpecs": false,
        "memoryGiB": 64,
        "name": "ml.m5.4xlarge",
        "vcpuNum": 16
      },
      {
        "_defaultOrder": 8,
        "_isFastLaunch": false,
        "category": "General purpose",
        "gpuNum": 0,
        "hideHardwareSpecs": false,
        "memoryGiB": 128,
        "name": "ml.m5.8xlarge",
        "vcpuNum": 32
      },
      {
        "_defaultOrder": 9,
        "_isFastLaunch": false,
        "category": "General purpose",
        "gpuNum": 0,
        "hideHardwareSpecs": false,
        "memoryGiB": 192,
        "name": "ml.m5.12xlarge",
        "vcpuNum": 48
      },
      {
        "_defaultOrder": 10,
        "_isFastLaunch": false,
        "category": "General purpose",
        "gpuNum": 0,
        "hideHardwareSpecs": false,
        "memoryGiB": 256,
        "name": "ml.m5.16xlarge",
        "vcpuNum": 64
      },
      {
        "_defaultOrder": 11,
        "_isFastLaunch": false,
        "category": "General purpose",
        "gpuNum": 0,
        "hideHardwareSpecs": false,
        "memoryGiB": 384,
        "name": "ml.m5.24xlarge",
        "vcpuNum": 96
      },
      {
        "_defaultOrder": 12,
        "_isFastLaunch": false,
        "category": "General purpose",
        "gpuNum": 0,
        "hideHardwareSpecs": false,
        "memoryGiB": 8,
        "name": "ml.m5d.large",
        "vcpuNum": 2
      },
      {
        "_defaultOrder": 13,
        "_isFastLaunch": false,
        "category": "General purpose",
        "gpuNum": 0,
        "hideHardwareSpecs": false,
        "memoryGiB": 16,
        "name": "ml.m5d.xlarge",
        "vcpuNum": 4
      },
      {
        "_defaultOrder": 14,
        "_isFastLaunch": false,
        "category": "General purpose",
        "gpuNum": 0,
        "hideHardwareSpecs": false,
        "memoryGiB": 32,
        "name": "ml.m5d.2xlarge",
        "vcpuNum": 8
      },
      {
        "_defaultOrder": 15,
        "_isFastLaunch": false,
        "category": "General purpose",
        "gpuNum": 0,
        "hideHardwareSpecs": false,
        "memoryGiB": 64,
        "name": "ml.m5d.4xlarge",
        "vcpuNum": 16
      },
      {
        "_defaultOrder": 16,
        "_isFastLaunch": false,
        "category": "General purpose",
        "gpuNum": 0,
        "hideHardwareSpecs": false,
        "memoryGiB": 128,
        "name": "ml.m5d.8xlarge",
        "vcpuNum": 32
      },
      {
        "_defaultOrder": 17,
        "_isFastLaunch": false,
        "category": "General purpose",
        "gpuNum": 0,
        "hideHardwareSpecs": false,
        "memoryGiB": 192,
        "name": "ml.m5d.12xlarge",
        "vcpuNum": 48
      },
      {
        "_defaultOrder": 18,
        "_isFastLaunch": false,
        "category": "General purpose",
        "gpuNum": 0,
        "hideHardwareSpecs": false,
        "memoryGiB": 256,
        "name": "ml.m5d.16xlarge",
        "vcpuNum": 64
      },
      {
        "_defaultOrder": 19,
        "_isFastLaunch": false,
        "category": "General purpose",
        "gpuNum": 0,
        "hideHardwareSpecs": false,
        "memoryGiB": 384,
        "name": "ml.m5d.24xlarge",
        "vcpuNum": 96
      },
      {
        "_defaultOrder": 20,
        "_isFastLaunch": false,
        "category": "General purpose",
        "gpuNum": 0,
        "hideHardwareSpecs": true,
        "memoryGiB": 0,
        "name": "ml.geospatial.interactive",
        "supportedImageNames": [
          "sagemaker-geospatial-v1-0"
        ],
        "vcpuNum": 0
      },
      {
        "_defaultOrder": 21,
        "_isFastLaunch": true,
        "category": "Compute optimized",
        "gpuNum": 0,
        "hideHardwareSpecs": false,
        "memoryGiB": 4,
        "name": "ml.c5.large",
        "vcpuNum": 2
      },
      {
        "_defaultOrder": 22,
        "_isFastLaunch": false,
        "category": "Compute optimized",
        "gpuNum": 0,
        "hideHardwareSpecs": false,
        "memoryGiB": 8,
        "name": "ml.c5.xlarge",
        "vcpuNum": 4
      },
      {
        "_defaultOrder": 23,
        "_isFastLaunch": false,
        "category": "Compute optimized",
        "gpuNum": 0,
        "hideHardwareSpecs": false,
        "memoryGiB": 16,
        "name": "ml.c5.2xlarge",
        "vcpuNum": 8
      },
      {
        "_defaultOrder": 24,
        "_isFastLaunch": false,
        "category": "Compute optimized",
        "gpuNum": 0,
        "hideHardwareSpecs": false,
        "memoryGiB": 32,
        "name": "ml.c5.4xlarge",
        "vcpuNum": 16
      },
      {
        "_defaultOrder": 25,
        "_isFastLaunch": false,
        "category": "Compute optimized",
        "gpuNum": 0,
        "hideHardwareSpecs": false,
        "memoryGiB": 72,
        "name": "ml.c5.9xlarge",
        "vcpuNum": 36
      },
      {
        "_defaultOrder": 26,
        "_isFastLaunch": false,
        "category": "Compute optimized",
        "gpuNum": 0,
        "hideHardwareSpecs": false,
        "memoryGiB": 96,
        "name": "ml.c5.12xlarge",
        "vcpuNum": 48
      },
      {
        "_defaultOrder": 27,
        "_isFastLaunch": false,
        "category": "Compute optimized",
        "gpuNum": 0,
        "hideHardwareSpecs": false,
        "memoryGiB": 144,
        "name": "ml.c5.18xlarge",
        "vcpuNum": 72
      },
      {
        "_defaultOrder": 28,
        "_isFastLaunch": false,
        "category": "Compute optimized",
        "gpuNum": 0,
        "hideHardwareSpecs": false,
        "memoryGiB": 192,
        "name": "ml.c5.24xlarge",
        "vcpuNum": 96
      },
      {
        "_defaultOrder": 29,
        "_isFastLaunch": true,
        "category": "Accelerated computing",
        "gpuNum": 1,
        "hideHardwareSpecs": false,
        "memoryGiB": 16,
        "name": "ml.g4dn.xlarge",
        "vcpuNum": 4
      },
      {
        "_defaultOrder": 30,
        "_isFastLaunch": false,
        "category": "Accelerated computing",
        "gpuNum": 1,
        "hideHardwareSpecs": false,
        "memoryGiB": 32,
        "name": "ml.g4dn.2xlarge",
        "vcpuNum": 8
      },
      {
        "_defaultOrder": 31,
        "_isFastLaunch": false,
        "category": "Accelerated computing",
        "gpuNum": 1,
        "hideHardwareSpecs": false,
        "memoryGiB": 64,
        "name": "ml.g4dn.4xlarge",
        "vcpuNum": 16
      },
      {
        "_defaultOrder": 32,
        "_isFastLaunch": false,
        "category": "Accelerated computing",
        "gpuNum": 1,
        "hideHardwareSpecs": false,
        "memoryGiB": 128,
        "name": "ml.g4dn.8xlarge",
        "vcpuNum": 32
      },
      {
        "_defaultOrder": 33,
        "_isFastLaunch": false,
        "category": "Accelerated computing",
        "gpuNum": 4,
        "hideHardwareSpecs": false,
        "memoryGiB": 192,
        "name": "ml.g4dn.12xlarge",
        "vcpuNum": 48
      },
      {
        "_defaultOrder": 34,
        "_isFastLaunch": false,
        "category": "Accelerated computing",
        "gpuNum": 1,
        "hideHardwareSpecs": false,
        "memoryGiB": 256,
        "name": "ml.g4dn.16xlarge",
        "vcpuNum": 64
      },
      {
        "_defaultOrder": 35,
        "_isFastLaunch": false,
        "category": "Accelerated computing",
        "gpuNum": 1,
        "hideHardwareSpecs": false,
        "memoryGiB": 61,
        "name": "ml.p3.2xlarge",
        "vcpuNum": 8
      },
      {
        "_defaultOrder": 36,
        "_isFastLaunch": false,
        "category": "Accelerated computing",
        "gpuNum": 4,
        "hideHardwareSpecs": false,
        "memoryGiB": 244,
        "name": "ml.p3.8xlarge",
        "vcpuNum": 32
      },
      {
        "_defaultOrder": 37,
        "_isFastLaunch": false,
        "category": "Accelerated computing",
        "gpuNum": 8,
        "hideHardwareSpecs": false,
        "memoryGiB": 488,
        "name": "ml.p3.16xlarge",
        "vcpuNum": 64
      },
      {
        "_defaultOrder": 38,
        "_isFastLaunch": false,
        "category": "Accelerated computing",
        "gpuNum": 8,
        "hideHardwareSpecs": false,
        "memoryGiB": 768,
        "name": "ml.p3dn.24xlarge",
        "vcpuNum": 96
      },
      {
        "_defaultOrder": 39,
        "_isFastLaunch": false,
        "category": "Memory Optimized",
        "gpuNum": 0,
        "hideHardwareSpecs": false,
        "memoryGiB": 16,
        "name": "ml.r5.large",
        "vcpuNum": 2
      },
      {
        "_defaultOrder": 40,
        "_isFastLaunch": false,
        "category": "Memory Optimized",
        "gpuNum": 0,
        "hideHardwareSpecs": false,
        "memoryGiB": 32,
        "name": "ml.r5.xlarge",
        "vcpuNum": 4
      },
      {
        "_defaultOrder": 41,
        "_isFastLaunch": false,
        "category": "Memory Optimized",
        "gpuNum": 0,
        "hideHardwareSpecs": false,
        "memoryGiB": 64,
        "name": "ml.r5.2xlarge",
        "vcpuNum": 8
      },
      {
        "_defaultOrder": 42,
        "_isFastLaunch": false,
        "category": "Memory Optimized",
        "gpuNum": 0,
        "hideHardwareSpecs": false,
        "memoryGiB": 128,
        "name": "ml.r5.4xlarge",
        "vcpuNum": 16
      },
      {
        "_defaultOrder": 43,
        "_isFastLaunch": false,
        "category": "Memory Optimized",
        "gpuNum": 0,
        "hideHardwareSpecs": false,
        "memoryGiB": 256,
        "name": "ml.r5.8xlarge",
        "vcpuNum": 32
      },
      {
        "_defaultOrder": 44,
        "_isFastLaunch": false,
        "category": "Memory Optimized",
        "gpuNum": 0,
        "hideHardwareSpecs": false,
        "memoryGiB": 384,
        "name": "ml.r5.12xlarge",
        "vcpuNum": 48
      },
      {
        "_defaultOrder": 45,
        "_isFastLaunch": false,
        "category": "Memory Optimized",
        "gpuNum": 0,
        "hideHardwareSpecs": false,
        "memoryGiB": 512,
        "name": "ml.r5.16xlarge",
        "vcpuNum": 64
      },
      {
        "_defaultOrder": 46,
        "_isFastLaunch": false,
        "category": "Memory Optimized",
        "gpuNum": 0,
        "hideHardwareSpecs": false,
        "memoryGiB": 768,
        "name": "ml.r5.24xlarge",
        "vcpuNum": 96
      },
      {
        "_defaultOrder": 47,
        "_isFastLaunch": false,
        "category": "Accelerated computing",
        "gpuNum": 1,
        "hideHardwareSpecs": false,
        "memoryGiB": 16,
        "name": "ml.g5.xlarge",
        "vcpuNum": 4
      },
      {
        "_defaultOrder": 48,
        "_isFastLaunch": false,
        "category": "Accelerated computing",
        "gpuNum": 1,
        "hideHardwareSpecs": false,
        "memoryGiB": 32,
        "name": "ml.g5.2xlarge",
        "vcpuNum": 8
      },
      {
        "_defaultOrder": 49,
        "_isFastLaunch": false,
        "category": "Accelerated computing",
        "gpuNum": 1,
        "hideHardwareSpecs": false,
        "memoryGiB": 64,
        "name": "ml.g5.4xlarge",
        "vcpuNum": 16
      },
      {
        "_defaultOrder": 50,
        "_isFastLaunch": false,
        "category": "Accelerated computing",
        "gpuNum": 1,
        "hideHardwareSpecs": false,
        "memoryGiB": 128,
        "name": "ml.g5.8xlarge",
        "vcpuNum": 32
      },
      {
        "_defaultOrder": 51,
        "_isFastLaunch": false,
        "category": "Accelerated computing",
        "gpuNum": 1,
        "hideHardwareSpecs": false,
        "memoryGiB": 256,
        "name": "ml.g5.16xlarge",
        "vcpuNum": 64
      },
      {
        "_defaultOrder": 52,
        "_isFastLaunch": false,
        "category": "Accelerated computing",
        "gpuNum": 4,
        "hideHardwareSpecs": false,
        "memoryGiB": 192,
        "name": "ml.g5.12xlarge",
        "vcpuNum": 48
      },
      {
        "_defaultOrder": 53,
        "_isFastLaunch": false,
        "category": "Accelerated computing",
        "gpuNum": 4,
        "hideHardwareSpecs": false,
        "memoryGiB": 384,
        "name": "ml.g5.24xlarge",
        "vcpuNum": 96
      },
      {
        "_defaultOrder": 54,
        "_isFastLaunch": false,
        "category": "Accelerated computing",
        "gpuNum": 8,
        "hideHardwareSpecs": false,
        "memoryGiB": 768,
        "name": "ml.g5.48xlarge",
        "vcpuNum": 192
      },
      {
        "_defaultOrder": 55,
        "_isFastLaunch": false,
        "category": "Accelerated computing",
        "gpuNum": 8,
        "hideHardwareSpecs": false,
        "memoryGiB": 1152,
        "name": "ml.p4d.24xlarge",
        "vcpuNum": 96
      },
      {
        "_defaultOrder": 56,
        "_isFastLaunch": false,
        "category": "Accelerated computing",
        "gpuNum": 8,
        "hideHardwareSpecs": false,
        "memoryGiB": 1152,
        "name": "ml.p4de.24xlarge",
        "vcpuNum": 96
      }
    ],
    "instance_type": "ml.t3.medium",
    "kernel_info": {
      "name": "synapse_pyspark"
    },
    "kernelspec": {
      "display_name": "Synapse PySpark",
      "language": "Python",
      "name": "synapse_pyspark"
    },
    "language_info": {
      "codemirror_mode": "ipython",
      "file_extension": ".py",
      "mimetype": "text/x-python",
      "name": "python",
      "nbconvert_exporter": "python",
      "pygments_lexer": "ipython",
      "version": "3.8.0"
    },
    "microsoft": {
      "host": {
        "AzureML": {
          "notebookHasBeenCompleted": true
        }
      },
      "ms_spell_check": {
        "ms_spell_check_language": "en"
      }
    },
    "nteract": {
      "version": "nteract-front-end@1.0.0"
    }
  },
  "nbformat": 4,
  "nbformat_minor": 5
}

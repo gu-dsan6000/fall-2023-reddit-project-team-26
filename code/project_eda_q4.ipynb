{
  "cells": [
    {
      "cell_type": "markdown",
      "source": [
        "### Q4"
      ],
      "metadata": {
        "nteract": {
          "transient": {
            "deleting": false
          }
        }
      }
    },
    {
      "cell_type": "markdown",
      "source": [
        "**Business Goal 4:** Identify the teams that have the most engagement on the main college basketball subreddit.  \n",
        "**Technical Proposal:** Use grouping and sorting algorithms to find which college basketball teams are the most mentioned teams. Identify if these mentions ebb or flow over the course of the season. Incorporate external datasets such as basketball rankings to correlate mentions with popular games or teams."
      ],
      "metadata": {
        "nteract": {
          "transient": {
            "deleting": false
          }
        }
      }
    },
    {
      "cell_type": "markdown",
      "source": [
        "### Setting up spark"
      ],
      "metadata": {
        "nteract": {
          "transient": {
            "deleting": false
          }
        }
      }
    },
    {
      "cell_type": "code",
      "source": [
        "spark"
      ],
      "outputs": [
        {
          "output_type": "display_data",
          "data": {
            "application/vnd.livy.statement-meta+json": {
              "spark_pool": "7c27951d-2bdf-4140-be82-d0dc0c0e7d8e",
              "session_id": "23",
              "statement_id": 6,
              "state": "finished",
              "livy_statement_state": "available",
              "queued_time": "2023-11-06T14:54:51.5800435Z",
              "session_start_time": "2023-11-06T14:54:51.6286119Z",
              "execution_start_time": "2023-11-06T14:57:49.9133007Z",
              "execution_finish_time": "2023-11-06T14:57:52.469005Z",
              "spark_jobs": {
                "numbers": {
                  "RUNNING": 0,
                  "SUCCEEDED": 0,
                  "UNKNOWN": 0,
                  "FAILED": 0
                },
                "jobs": [],
                "limit": 20,
                "rule": "ALL_DESC"
              },
              "parent_msg_id": "d8942c9a-bcb6-40af-a5a7-462e6e7e1c9b"
            },
            "text/plain": "StatementMeta(7c27951d-2bdf-4140-be82-d0dc0c0e7d8e, 23, 6, Finished, Available)"
          },
          "metadata": {}
        },
        {
          "output_type": "execute_result",
          "execution_count": 11,
          "data": {
            "text/plain": "<pyspark.sql.session.SparkSession at 0x7f458550f2b0>",
            "text/html": "\n            <div>\n                <p><b>SparkSession - hive</b></p>\n                \n        <div>\n            <p><b>SparkContext</b></p>\n\n            <p><a href=\"http://vm-eb437280:36743\">Spark UI</a></p>\n\n            <dl>\n              <dt>Version</dt>\n                <dd><code>v3.2.2.5.1-100879434</code></dd>\n              <dt>Master</dt>\n                <dd><code>yarn</code></dd>\n              <dt>AppName</dt>\n                <dd><code>Azure ML Experiment</code></dd>\n            </dl>\n        </div>\n        \n            </div>\n        "
          },
          "metadata": {}
        }
      ],
      "execution_count": 1,
      "metadata": {
        "gather": {
          "logged": 1699282672964
        }
      }
    },
    {
      "cell_type": "markdown",
      "source": [
        "### Loading Intermediate Data"
      ],
      "metadata": {
        "nteract": {
          "transient": {
            "deleting": false
          }
        }
      }
    },
    {
      "cell_type": "code",
      "source": [
        "workspace_default_storage_account = \"aml6214727930\"\n",
        "workspace_default_container = \"azureml-blobstore-6653633b-3460-4381-9199-d9e0f368353c\"\n",
        "\n",
        "workspace_wasbs_base_url = (\n",
        "    f\"wasbs://{workspace_default_container}@{workspace_default_storage_account}.blob.core.windows.net/\"\n",
        ")"
      ],
      "outputs": [
        {
          "output_type": "display_data",
          "data": {
            "application/vnd.livy.statement-meta+json": {
              "spark_pool": "7c27951d-2bdf-4140-be82-d0dc0c0e7d8e",
              "session_id": "23",
              "statement_id": 7,
              "state": "finished",
              "livy_statement_state": "available",
              "queued_time": "2023-11-06T14:57:57.6230148Z",
              "session_start_time": null,
              "execution_start_time": "2023-11-06T14:57:57.747904Z",
              "execution_finish_time": "2023-11-06T14:57:58.149525Z",
              "spark_jobs": {
                "numbers": {
                  "RUNNING": 0,
                  "SUCCEEDED": 0,
                  "UNKNOWN": 0,
                  "FAILED": 0
                },
                "jobs": [],
                "limit": 20,
                "rule": "ALL_DESC"
              },
              "parent_msg_id": "20992227-cdbb-4b6b-9a39-3fdd00d114b2"
            },
            "text/plain": "StatementMeta(7c27951d-2bdf-4140-be82-d0dc0c0e7d8e, 23, 7, Finished, Available)"
          },
          "metadata": {}
        }
      ],
      "execution_count": 2,
      "metadata": {
        "jupyter": {
          "source_hidden": false,
          "outputs_hidden": false
        },
        "nteract": {
          "transient": {
            "deleting": false
          }
        },
        "gather": {
          "logged": 1699282678320
        }
      }
    },
    {
      "cell_type": "code",
      "source": [
        "#datastore = 'azureml://datastores/workspaceblobstore/paths'\n",
        "comments_path = \"/basketball_comments_sep.parquet\"\n",
        "submissions_path = \"/basketball_submissions_sep.parquet\"\n",
        "\n",
        "comments = spark.read.parquet(f\"{workspace_wasbs_base_url}{comments_path}\")\n",
        "submissions = spark.read.parquet(f\"{workspace_wasbs_base_url}{submissions_path}\")"
      ],
      "outputs": [
        {
          "output_type": "display_data",
          "data": {
            "application/vnd.livy.statement-meta+json": {
              "spark_pool": "7c27951d-2bdf-4140-be82-d0dc0c0e7d8e",
              "session_id": "23",
              "statement_id": 8,
              "state": "finished",
              "livy_statement_state": "available",
              "queued_time": "2023-11-06T14:58:01.1572276Z",
              "session_start_time": null,
              "execution_start_time": "2023-11-06T14:58:01.3065387Z",
              "execution_finish_time": "2023-11-06T14:58:14.5083058Z",
              "spark_jobs": {
                "numbers": {
                  "RUNNING": 0,
                  "SUCCEEDED": 2,
                  "UNKNOWN": 0,
                  "FAILED": 0
                },
                "jobs": [
                  {
                    "displayName": "parquet at NativeMethodAccessorImpl.java:0",
                    "dataWritten": 0,
                    "dataRead": 0,
                    "rowCount": 0,
                    "usageDescription": "",
                    "jobId": 1,
                    "name": "parquet at NativeMethodAccessorImpl.java:0",
                    "description": "Job group for statement 8:\n#datastore = 'azureml://datastores/workspaceblobstore/paths'\ncomments_path = \"/basketball_comments_sep.parquet\"\nsubmissions_path = \"/basketball_submissions_sep.parquet\"\n\ncomments = spark.read.parquet(f\"{workspace_wasbs_base_url}{comments_path}\")\nsubmissions = spark.read.parquet(f\"{workspace_wasbs_base_url}{submissions_path}\")",
                    "submissionTime": "2023-11-06T14:58:13.885GMT",
                    "completionTime": "2023-11-06T14:58:14.110GMT",
                    "stageIds": [
                      1
                    ],
                    "jobGroup": "8",
                    "status": "SUCCEEDED",
                    "numTasks": 1,
                    "numActiveTasks": 0,
                    "numCompletedTasks": 1,
                    "numSkippedTasks": 0,
                    "numFailedTasks": 0,
                    "numKilledTasks": 0,
                    "numCompletedIndices": 1,
                    "numActiveStages": 0,
                    "numCompletedStages": 1,
                    "numSkippedStages": 0,
                    "numFailedStages": 0,
                    "killedTasksSummary": {}
                  },
                  {
                    "displayName": "parquet at NativeMethodAccessorImpl.java:0",
                    "dataWritten": 0,
                    "dataRead": 0,
                    "rowCount": 0,
                    "usageDescription": "",
                    "jobId": 0,
                    "name": "parquet at NativeMethodAccessorImpl.java:0",
                    "description": "Job group for statement 8:\n#datastore = 'azureml://datastores/workspaceblobstore/paths'\ncomments_path = \"/basketball_comments_sep.parquet\"\nsubmissions_path = \"/basketball_submissions_sep.parquet\"\n\ncomments = spark.read.parquet(f\"{workspace_wasbs_base_url}{comments_path}\")\nsubmissions = spark.read.parquet(f\"{workspace_wasbs_base_url}{submissions_path}\")",
                    "submissionTime": "2023-11-06T14:58:04.266GMT",
                    "completionTime": "2023-11-06T14:58:11.219GMT",
                    "stageIds": [
                      0
                    ],
                    "jobGroup": "8",
                    "status": "SUCCEEDED",
                    "numTasks": 1,
                    "numActiveTasks": 0,
                    "numCompletedTasks": 1,
                    "numSkippedTasks": 0,
                    "numFailedTasks": 0,
                    "numKilledTasks": 0,
                    "numCompletedIndices": 1,
                    "numActiveStages": 0,
                    "numCompletedStages": 1,
                    "numSkippedStages": 0,
                    "numFailedStages": 0,
                    "killedTasksSummary": {}
                  }
                ],
                "limit": 20,
                "rule": "ALL_DESC"
              },
              "parent_msg_id": "2c97b35a-3c87-4019-bff8-33c6e0c2ba50"
            },
            "text/plain": "StatementMeta(7c27951d-2bdf-4140-be82-d0dc0c0e7d8e, 23, 8, Finished, Available)"
          },
          "metadata": {}
        }
      ],
      "execution_count": 3,
      "metadata": {
        "jupyter": {
          "source_hidden": false,
          "outputs_hidden": false
        },
        "nteract": {
          "transient": {
            "deleting": false
          }
        },
        "gather": {
          "logged": 1699282694667
        }
      }
    },
    {
      "cell_type": "markdown",
      "source": [
        "### Data Cleaning"
      ],
      "metadata": {
        "nteract": {
          "transient": {
            "deleting": false
          }
        }
      }
    },
    {
      "cell_type": "code",
      "source": [
        "submissions = submissions.cache()\n",
        "comments = comments.cache()"
      ],
      "outputs": [
        {
          "output_type": "display_data",
          "data": {
            "application/vnd.livy.statement-meta+json": {
              "spark_pool": "7c27951d-2bdf-4140-be82-d0dc0c0e7d8e",
              "session_id": "23",
              "statement_id": 9,
              "state": "finished",
              "livy_statement_state": "available",
              "queued_time": "2023-11-06T14:58:18.5927034Z",
              "session_start_time": null,
              "execution_start_time": "2023-11-06T14:58:18.7440883Z",
              "execution_finish_time": "2023-11-06T14:58:19.7206371Z",
              "spark_jobs": {
                "numbers": {
                  "RUNNING": 0,
                  "SUCCEEDED": 0,
                  "UNKNOWN": 0,
                  "FAILED": 0
                },
                "jobs": [],
                "limit": 20,
                "rule": "ALL_DESC"
              },
              "parent_msg_id": "e9699080-24c9-4334-ac8a-a9ab092fe5ee"
            },
            "text/plain": "StatementMeta(7c27951d-2bdf-4140-be82-d0dc0c0e7d8e, 23, 9, Finished, Available)"
          },
          "metadata": {}
        }
      ],
      "execution_count": 4,
      "metadata": {
        "jupyter": {
          "source_hidden": false,
          "outputs_hidden": false
        },
        "nteract": {
          "transient": {
            "deleting": false
          }
        },
        "gather": {
          "logged": 1699282699887
        }
      }
    },
    {
      "cell_type": "code",
      "source": [
        "submissions = submissions.filter((submissions.selftext != \"\") & (submissions.selftext != \"[deleted]\")& (submissions.selftext != \"[removed]\"))\n",
        "\n",
        "comments = comments.filter(comments.body != \"\")"
      ],
      "outputs": [
        {
          "output_type": "display_data",
          "data": {
            "application/vnd.livy.statement-meta+json": {
              "spark_pool": "7c27951d-2bdf-4140-be82-d0dc0c0e7d8e",
              "session_id": "23",
              "statement_id": 10,
              "state": "finished",
              "livy_statement_state": "available",
              "queued_time": "2023-11-06T14:58:59.87836Z",
              "session_start_time": null,
              "execution_start_time": "2023-11-06T14:59:00.0506058Z",
              "execution_finish_time": "2023-11-06T14:59:00.9968843Z",
              "spark_jobs": {
                "numbers": {
                  "RUNNING": 0,
                  "SUCCEEDED": 0,
                  "UNKNOWN": 0,
                  "FAILED": 0
                },
                "jobs": [],
                "limit": 20,
                "rule": "ALL_DESC"
              },
              "parent_msg_id": "2c42579f-4355-44aa-bebf-3df5687ecefc"
            },
            "text/plain": "StatementMeta(7c27951d-2bdf-4140-be82-d0dc0c0e7d8e, 23, 10, Finished, Available)"
          },
          "metadata": {}
        }
      ],
      "execution_count": 5,
      "metadata": {
        "jupyter": {
          "source_hidden": false,
          "outputs_hidden": false
        },
        "nteract": {
          "transient": {
            "deleting": false
          }
        },
        "gather": {
          "logged": 1699282741173
        }
      }
    },
    {
      "cell_type": "code",
      "source": [
        "from pyspark.sql.functions import col\n",
        "\n",
        "submissions = submissions.select(\"subreddit\", \"author\", \"title\", \"selftext\", \"created_utc\", \"num_comments\").filter(col(\"subreddit\") == \"CollegeBasketball\")\n",
        "\n",
        "comments = comments.select(\"subreddit\", \"author\", \"body\", \"parent_id\", \"created_utc\").filter(col(\"subreddit\") == \"CollegeBasketball\")"
      ],
      "outputs": [
        {
          "output_type": "display_data",
          "data": {
            "application/vnd.livy.statement-meta+json": {
              "spark_pool": "7c27951d-2bdf-4140-be82-d0dc0c0e7d8e",
              "session_id": "23",
              "statement_id": 15,
              "state": "finished",
              "livy_statement_state": "available",
              "queued_time": "2023-11-06T15:05:18.636986Z",
              "session_start_time": null,
              "execution_start_time": "2023-11-06T15:05:18.7713142Z",
              "execution_finish_time": "2023-11-06T15:05:20.5315909Z",
              "spark_jobs": {
                "numbers": {
                  "RUNNING": 0,
                  "SUCCEEDED": 0,
                  "UNKNOWN": 0,
                  "FAILED": 0
                },
                "jobs": [],
                "limit": 20,
                "rule": "ALL_DESC"
              },
              "parent_msg_id": "e0f6a674-643f-43fa-8504-dcc67ef37343"
            },
            "text/plain": "StatementMeta(7c27951d-2bdf-4140-be82-d0dc0c0e7d8e, 23, 15, Finished, Available)"
          },
          "metadata": {}
        }
      ],
      "execution_count": 10,
      "metadata": {
        "jupyter": {
          "source_hidden": false,
          "outputs_hidden": false
        },
        "nteract": {
          "transient": {
            "deleting": false
          }
        },
        "gather": {
          "logged": 1699283126477
        }
      }
    },
    {
      "cell_type": "code",
      "source": [
        "# Check\n",
        "submissions.show()\n",
        "\n",
        "comments.show()"
      ],
      "outputs": [
        {
          "output_type": "display_data",
          "data": {
            "application/vnd.livy.statement-meta+json": {
              "spark_pool": "7c27951d-2bdf-4140-be82-d0dc0c0e7d8e",
              "session_id": "23",
              "statement_id": 16,
              "state": "finished",
              "livy_statement_state": "available",
              "queued_time": "2023-11-06T15:05:51.0738881Z",
              "session_start_time": null,
              "execution_start_time": "2023-11-06T15:05:51.2037997Z",
              "execution_finish_time": "2023-11-06T15:05:52.9449833Z",
              "spark_jobs": {
                "numbers": {
                  "RUNNING": 0,
                  "SUCCEEDED": 2,
                  "UNKNOWN": 0,
                  "FAILED": 0
                },
                "jobs": [
                  {
                    "displayName": "showString at NativeMethodAccessorImpl.java:0",
                    "dataWritten": 0,
                    "dataRead": 11742776,
                    "rowCount": 1,
                    "usageDescription": "",
                    "jobId": 5,
                    "name": "showString at NativeMethodAccessorImpl.java:0",
                    "description": "Job group for statement 16:\n# Check\nsubmissions.show()\n\ncomments.show()",
                    "submissionTime": "2023-11-06T15:05:51.818GMT",
                    "completionTime": "2023-11-06T15:05:52.041GMT",
                    "stageIds": [
                      5
                    ],
                    "jobGroup": "16",
                    "status": "SUCCEEDED",
                    "numTasks": 1,
                    "numActiveTasks": 0,
                    "numCompletedTasks": 1,
                    "numSkippedTasks": 0,
                    "numFailedTasks": 0,
                    "numKilledTasks": 0,
                    "numCompletedIndices": 1,
                    "numActiveStages": 0,
                    "numCompletedStages": 1,
                    "numSkippedStages": 0,
                    "numFailedStages": 0,
                    "killedTasksSummary": {}
                  },
                  {
                    "displayName": "showString at NativeMethodAccessorImpl.java:0",
                    "dataWritten": 0,
                    "dataRead": 1111728,
                    "rowCount": 1,
                    "usageDescription": "",
                    "jobId": 4,
                    "name": "showString at NativeMethodAccessorImpl.java:0",
                    "description": "Job group for statement 16:\n# Check\nsubmissions.show()\n\ncomments.show()",
                    "submissionTime": "2023-11-06T15:05:51.338GMT",
                    "completionTime": "2023-11-06T15:05:51.654GMT",
                    "stageIds": [
                      4
                    ],
                    "jobGroup": "16",
                    "status": "SUCCEEDED",
                    "numTasks": 1,
                    "numActiveTasks": 0,
                    "numCompletedTasks": 1,
                    "numSkippedTasks": 0,
                    "numFailedTasks": 0,
                    "numKilledTasks": 0,
                    "numCompletedIndices": 1,
                    "numActiveStages": 0,
                    "numCompletedStages": 1,
                    "numSkippedStages": 0,
                    "numFailedStages": 0,
                    "killedTasksSummary": {}
                  }
                ],
                "limit": 20,
                "rule": "ALL_DESC"
              },
              "parent_msg_id": "e7d5cdeb-c421-475b-9cd3-2d0c590f7f2b"
            },
            "text/plain": "StatementMeta(7c27951d-2bdf-4140-be82-d0dc0c0e7d8e, 23, 16, Finished, Available)"
          },
          "metadata": {}
        },
        {
          "output_type": "stream",
          "name": "stdout",
          "text": "+-----------------+------------------+--------------------+--------------------+-------------------+------------+\n|        subreddit|            author|               title|            selftext|        created_utc|num_comments|\n+-----------------+------------------+--------------------+--------------------+-------------------+------------+\n|CollegeBasketball|           rCBBMod|Announcement: The...|Hello r/CollegeBa...|2022-03-17 14:00:50|           9|\n|CollegeBasketball|     AutoModerator|[Weekly Post] Fre...|Are you new to th...|2022-04-29 15:00:11|           0|\n|CollegeBasketball|     AutoModerator|[Weekly Post] Fre...|It's Free Talk Fr...|2022-04-29 15:00:11|           1|\n|CollegeBasketball|            cbbBot|[Game Thread] Neb...|[Nebraska](#f/neb...|2022-02-23 00:54:05|          41|\n|CollegeBasketball|            cbbBot|[Game Thread] Kan...|[Kansas State](#f...|2022-02-23 01:00:04|         626|\n|CollegeBasketball|            cbbBot|[Game Thread] #24...|[Alabama](#f/alab...|2022-02-23 01:00:05|         198|\n|CollegeBasketball|            cbbBot|[Game Thread] San...|[San Diego State]...|2022-02-23 01:00:06|         135|\n|CollegeBasketball|            i_MiLK|Meet the Mid-Majo...|Hello March Madne...|2022-03-07 14:41:43|           5|\n|CollegeBasketball|        INtoCT2015|Izzo surpasses Bo...|Sorry to hijack I...|2022-03-07 14:50:10|           9|\n|CollegeBasketball| urdueBoilermakers|Since the Big Ten...|(Note, when Purdu...|2022-03-07 14:55:07|          47|\n|CollegeBasketball|        sourceit88|240 Teams are sti...|Sunday had 17 new...|2022-03-07 14:58:37|           4|\n|CollegeBasketball|        cbbpollbot|  User Poll: Week 18|\\nRank||Team (Fir...|2022-03-07 15:00:04|         173|\n|CollegeBasketball|Sharp_Quarter_8343|               BIG10|Anyone else think...|2022-03-07 15:03:26|          19|\n|CollegeBasketball|            cbbBot|Game Thread Index...|# Ranked Games\\n\\...|2022-03-07 15:07:07|           0|\n|CollegeBasketball|    TallLatvianLad|Mid-Major+ User P...|Rankings of teams...|2022-03-07 15:11:12|           9|\n|CollegeBasketball|            cbbBot|[Game Thread] #18...|[Texas](#f/texas)...|2021-12-19 19:00:06|          23|\n|CollegeBasketball|            cbbBot|[Game Thread] UT ...|[UT Martin](#f/ut...|2021-12-19 19:00:10|           0|\n|CollegeBasketball|            cbbBot|[Game Thread] UT ...|[UT Arlington](#f...|2021-12-19 19:00:14|           2|\n|CollegeBasketball|            cbbBot|[Game Thread] SMU...|[SMU](#f/smu) **9...|2021-12-19 19:00:19|           3|\n|CollegeBasketball|            cbbBot|Game Thread Index...|# Ranked Games\\n\\...|2022-01-23 15:07:08|           0|\n+-----------------+------------------+--------------------+--------------------+-------------------+------------+\nonly showing top 20 rows\n\n+-----------------+-------------------+--------------------+----------+-------------------+\n|        subreddit|             author|                body| parent_id|        created_utc|\n+-----------------+-------------------+--------------------+----------+-------------------+\n|CollegeBasketball|         joeveralls|Nothing is fallin...| t3_qtcawg|2021-11-14 00:27:16|\n|CollegeBasketball|       DaddyStone13|lol i forgot abou...|t1_hkiua9s|2021-11-14 00:27:51|\n|CollegeBasketball|        seahawksjoe|Also, half of the...| t3_qtcaw2|2021-11-14 00:28:36|\n|CollegeBasketball|       CheeseAndCam|I like how Creigh...| t3_qt70bd|2021-11-14 00:30:06|\n|CollegeBasketball|          [deleted]|  Losing, apparently|t1_hki2icg|2021-11-14 00:30:17|\n|CollegeBasketball|       corranhorn57|Oklahoma lost, th...|t1_hkiungs|2021-11-14 00:30:26|\n|CollegeBasketball|SwimmingInYourPants|Ah, I missed thes...| t3_qtcaw2|2021-11-14 00:30:29|\n|CollegeBasketball|          Papytendo|This gonna be one...| t3_qtcaw2|2021-11-14 00:30:32|\n|CollegeBasketball|          [deleted]|           [deleted]| t3_qt9wx0|2021-11-14 00:30:42|\n|CollegeBasketball|           love2Vax|He was missing sh...|t1_hkiaor5|2021-11-14 00:31:19|\n|CollegeBasketball|        seahawksjoe|This man really j...| t3_qtcaw2|2021-11-14 00:31:51|\n|CollegeBasketball|         Cnsrbstrmp|High IQ play ther...| t3_qtcawg|2021-11-14 00:32:11|\n|CollegeBasketball|              s-sea|yeesh yeah, 14 fo...|t1_hkiuqzc|2021-11-14 00:32:15|\n|CollegeBasketball|           myth7550|      You bet we do!|t1_hkignwj|2021-11-14 00:32:52|\n|CollegeBasketball|            mjd1977|Northern Iowa. Fa...| t3_qtarzv|2021-11-14 00:33:16|\n|CollegeBasketball| WildfireTommyBitch|Checking in on a ...| t3_qtcauv|2021-11-14 00:33:21|\n|CollegeBasketball|       corranhorn57|  Now we’re rolling!| t3_qtcawg|2021-11-14 00:34:14|\n|CollegeBasketball|              s-sea|lmao, I'm watchin...|t1_hkiv6fv|2021-11-14 00:34:28|\n|CollegeBasketball|         Cnsrbstrmp|        Attaway CATS| t3_qtcawg|2021-11-14 00:34:31|\n|CollegeBasketball|         MusaEnsete|So glad to see th...| t3_qtddrg|2021-11-14 00:34:58|\n+-----------------+-------------------+--------------------+----------+-------------------+\nonly showing top 20 rows\n\n"
        }
      ],
      "execution_count": 11,
      "metadata": {
        "jupyter": {
          "source_hidden": false,
          "outputs_hidden": false
        },
        "nteract": {
          "transient": {
            "deleting": false
          }
        },
        "gather": {
          "logged": 1699283153237
        }
      }
    },
    {
      "cell_type": "code",
      "source": [
        "submissions.count()"
      ],
      "outputs": [
        {
          "output_type": "display_data",
          "data": {
            "application/vnd.livy.statement-meta+json": {
              "spark_pool": "7c27951d-2bdf-4140-be82-d0dc0c0e7d8e",
              "session_id": "23",
              "statement_id": 18,
              "state": "finished",
              "livy_statement_state": "available",
              "queued_time": "2023-11-06T15:08:44.3935758Z",
              "session_start_time": null,
              "execution_start_time": "2023-11-06T15:08:44.5863177Z",
              "execution_finish_time": "2023-11-06T15:08:45.5497529Z",
              "spark_jobs": {
                "numbers": {
                  "RUNNING": 0,
                  "SUCCEEDED": 2,
                  "UNKNOWN": 0,
                  "FAILED": 0
                },
                "jobs": [
                  {
                    "displayName": "count at NativeMethodAccessorImpl.java:0",
                    "dataWritten": 0,
                    "dataRead": 3769,
                    "rowCount": 64,
                    "usageDescription": "",
                    "jobId": 11,
                    "name": "count at NativeMethodAccessorImpl.java:0",
                    "description": "Job group for statement 18:\nsubmissions.count()",
                    "submissionTime": "2023-11-06T15:08:45.068GMT",
                    "completionTime": "2023-11-06T15:08:45.179GMT",
                    "stageIds": [
                      13,
                      14
                    ],
                    "jobGroup": "18",
                    "status": "SUCCEEDED",
                    "numTasks": 65,
                    "numActiveTasks": 0,
                    "numCompletedTasks": 1,
                    "numSkippedTasks": 64,
                    "numFailedTasks": 0,
                    "numKilledTasks": 0,
                    "numCompletedIndices": 1,
                    "numActiveStages": 0,
                    "numCompletedStages": 1,
                    "numSkippedStages": 1,
                    "numFailedStages": 0,
                    "killedTasksSummary": {}
                  },
                  {
                    "displayName": "count at NativeMethodAccessorImpl.java:0",
                    "dataWritten": 3769,
                    "dataRead": 14033664,
                    "rowCount": 128,
                    "usageDescription": "",
                    "jobId": 10,
                    "name": "count at NativeMethodAccessorImpl.java:0",
                    "description": "Job group for statement 18:\nsubmissions.count()",
                    "submissionTime": "2023-11-06T15:08:44.669GMT",
                    "completionTime": "2023-11-06T15:08:45.032GMT",
                    "stageIds": [
                      12
                    ],
                    "jobGroup": "18",
                    "status": "SUCCEEDED",
                    "numTasks": 64,
                    "numActiveTasks": 0,
                    "numCompletedTasks": 64,
                    "numSkippedTasks": 0,
                    "numFailedTasks": 0,
                    "numKilledTasks": 0,
                    "numCompletedIndices": 64,
                    "numActiveStages": 0,
                    "numCompletedStages": 1,
                    "numSkippedStages": 0,
                    "numFailedStages": 0,
                    "killedTasksSummary": {}
                  }
                ],
                "limit": 20,
                "rule": "ALL_DESC"
              },
              "parent_msg_id": "7c9af98a-1d2b-4ba6-8646-aae440917c3d"
            },
            "text/plain": "StatementMeta(7c27951d-2bdf-4140-be82-d0dc0c0e7d8e, 23, 18, Finished, Available)"
          },
          "metadata": {}
        },
        {
          "output_type": "execute_result",
          "execution_count": 35,
          "data": {
            "text/plain": "9567"
          },
          "metadata": {}
        }
      ],
      "execution_count": 13,
      "metadata": {
        "jupyter": {
          "source_hidden": false,
          "outputs_hidden": false
        },
        "nteract": {
          "transient": {
            "deleting": false
          }
        },
        "gather": {
          "logged": 1699283325831
        }
      }
    },
    {
      "cell_type": "code",
      "source": [
        "comments.count()"
      ],
      "outputs": [
        {
          "output_type": "display_data",
          "data": {
            "application/vnd.livy.statement-meta+json": {
              "spark_pool": "7c27951d-2bdf-4140-be82-d0dc0c0e7d8e",
              "session_id": "23",
              "statement_id": 19,
              "state": "finished",
              "livy_statement_state": "available",
              "queued_time": "2023-11-06T15:08:53.181391Z",
              "session_start_time": null,
              "execution_start_time": "2023-11-06T15:08:53.4103833Z",
              "execution_finish_time": "2023-11-06T15:08:55.1589323Z",
              "spark_jobs": {
                "numbers": {
                  "RUNNING": 0,
                  "SUCCEEDED": 2,
                  "UNKNOWN": 0,
                  "FAILED": 0
                },
                "jobs": [
                  {
                    "displayName": "count at NativeMethodAccessorImpl.java:0",
                    "dataWritten": 0,
                    "dataRead": 10737,
                    "rowCount": 182,
                    "usageDescription": "",
                    "jobId": 13,
                    "name": "count at NativeMethodAccessorImpl.java:0",
                    "description": "Job group for statement 19:\ncomments.count()",
                    "submissionTime": "2023-11-06T15:08:54.334GMT",
                    "completionTime": "2023-11-06T15:08:54.429GMT",
                    "stageIds": [
                      16,
                      17
                    ],
                    "jobGroup": "19",
                    "status": "SUCCEEDED",
                    "numTasks": 183,
                    "numActiveTasks": 0,
                    "numCompletedTasks": 1,
                    "numSkippedTasks": 182,
                    "numFailedTasks": 0,
                    "numKilledTasks": 0,
                    "numCompletedIndices": 1,
                    "numActiveStages": 0,
                    "numCompletedStages": 1,
                    "numSkippedStages": 1,
                    "numFailedStages": 0,
                    "killedTasksSummary": {}
                  },
                  {
                    "displayName": "count at NativeMethodAccessorImpl.java:0",
                    "dataWritten": 10737,
                    "dataRead": 220865831,
                    "rowCount": 457,
                    "usageDescription": "",
                    "jobId": 12,
                    "name": "count at NativeMethodAccessorImpl.java:0",
                    "description": "Job group for statement 19:\ncomments.count()",
                    "submissionTime": "2023-11-06T15:08:53.450GMT",
                    "completionTime": "2023-11-06T15:08:54.297GMT",
                    "stageIds": [
                      15
                    ],
                    "jobGroup": "19",
                    "status": "SUCCEEDED",
                    "numTasks": 182,
                    "numActiveTasks": 0,
                    "numCompletedTasks": 182,
                    "numSkippedTasks": 0,
                    "numFailedTasks": 0,
                    "numKilledTasks": 0,
                    "numCompletedIndices": 182,
                    "numActiveStages": 0,
                    "numCompletedStages": 1,
                    "numSkippedStages": 0,
                    "numFailedStages": 0,
                    "killedTasksSummary": {}
                  }
                ],
                "limit": 20,
                "rule": "ALL_DESC"
              },
              "parent_msg_id": "2cba07b2-95f6-4d08-bed2-322dcf67d6ae"
            },
            "text/plain": "StatementMeta(7c27951d-2bdf-4140-be82-d0dc0c0e7d8e, 23, 19, Finished, Available)"
          },
          "metadata": {}
        },
        {
          "output_type": "execute_result",
          "execution_count": 37,
          "data": {
            "text/plain": "1567798"
          },
          "metadata": {}
        }
      ],
      "execution_count": 14,
      "metadata": {
        "jupyter": {
          "source_hidden": false,
          "outputs_hidden": false
        },
        "nteract": {
          "transient": {
            "deleting": false
          }
        },
        "gather": {
          "logged": 1699283335399
        }
      }
    },
    {
      "cell_type": "markdown",
      "source": [
        "### Distribution"
      ],
      "metadata": {
        "nteract": {
          "transient": {
            "deleting": false
          }
        }
      }
    },
    {
      "cell_type": "code",
      "source": [
        "# Define a dictionary of teams and associated keywords\n",
        "team_keywords = {\n",
        "    'houston': ['houston', 'cougars', 'uh'],\n",
        "    'kansas': ['kansas', 'jayhawks', 'ku', 'rockchalk'],\n",
        "    'villanova': ['villanova', 'wildcats', 'nova'],\n",
        "    'duke': ['duke', 'blue devils'],\n",
        "    'arkansas': ['arkansas', 'razorbacks', 'hogs', 'u of a'],\n",
        "    'saint peters': [\"saint peter's\", 'peacocks', 'saint peters', \"st. peter's\", 'st peters', 'spu'],\n",
        "    'north carolina': ['north carolina', 'tar heels', 'unc'],\n",
        "    'miami': ['miami', 'hurricanes', 'um']\n",
        "}"
      ],
      "outputs": [
        {
          "output_type": "display_data",
          "data": {
            "application/vnd.livy.statement-meta+json": {
              "spark_pool": "7c27951d-2bdf-4140-be82-d0dc0c0e7d8e",
              "session_id": "23",
              "statement_id": 20,
              "state": "finished",
              "livy_statement_state": "available",
              "queued_time": "2023-11-06T15:09:24.7031608Z",
              "session_start_time": null,
              "execution_start_time": "2023-11-06T15:09:24.8192117Z",
              "execution_finish_time": "2023-11-06T15:09:25.2006475Z",
              "spark_jobs": {
                "numbers": {
                  "RUNNING": 0,
                  "SUCCEEDED": 0,
                  "UNKNOWN": 0,
                  "FAILED": 0
                },
                "jobs": [],
                "limit": 20,
                "rule": "ALL_DESC"
              },
              "parent_msg_id": "e669717b-4c5f-408b-ba14-906b95c63f91"
            },
            "text/plain": "StatementMeta(7c27951d-2bdf-4140-be82-d0dc0c0e7d8e, 23, 20, Finished, Available)"
          },
          "metadata": {}
        }
      ],
      "execution_count": 15,
      "metadata": {
        "jupyter": {
          "source_hidden": false,
          "outputs_hidden": false
        },
        "nteract": {
          "transient": {
            "deleting": false
          }
        },
        "gather": {
          "logged": 1699283365443
        }
      }
    },
    {
      "cell_type": "code",
      "source": [
        "from pyspark.sql.functions import lower\n",
        "\n",
        "# Lowercase the text fields for uniformity\n",
        "comments = comments.withColumn('body', lower(col('body')))\n",
        "submissions = submissions.withColumn('title', lower(col('title')))\\\n",
        "                         .withColumn('selftext', lower(col('selftext')))"
      ],
      "outputs": [
        {
          "output_type": "display_data",
          "data": {
            "application/vnd.livy.statement-meta+json": {
              "spark_pool": "7c27951d-2bdf-4140-be82-d0dc0c0e7d8e",
              "session_id": "23",
              "statement_id": 22,
              "state": "finished",
              "livy_statement_state": "available",
              "queued_time": "2023-11-06T15:09:49.8461085Z",
              "session_start_time": null,
              "execution_start_time": "2023-11-06T15:09:50.0049122Z",
              "execution_finish_time": "2023-11-06T15:09:50.3616896Z",
              "spark_jobs": {
                "numbers": {
                  "RUNNING": 0,
                  "SUCCEEDED": 0,
                  "UNKNOWN": 0,
                  "FAILED": 0
                },
                "jobs": [],
                "limit": 20,
                "rule": "ALL_DESC"
              },
              "parent_msg_id": "ab1427bf-78dc-4062-a7f1-82f387d2759c"
            },
            "text/plain": "StatementMeta(7c27951d-2bdf-4140-be82-d0dc0c0e7d8e, 23, 22, Finished, Available)"
          },
          "metadata": {}
        }
      ],
      "execution_count": 17,
      "metadata": {
        "jupyter": {
          "source_hidden": false,
          "outputs_hidden": false
        },
        "nteract": {
          "transient": {
            "deleting": false
          }
        },
        "gather": {
          "logged": 1699283390568
        }
      }
    },
    {
      "cell_type": "code",
      "source": [
        "from pyspark.sql.functions import udf, lit, array\n",
        "from pyspark.sql.types import BooleanType\n",
        "\n",
        "# Define the UDF to check the existence of key words\n",
        "def keyword_present(text, keywords):\n",
        "    if text:\n",
        "        return any(keyword in text for keyword in keywords)\n",
        "    return False\n",
        "\n",
        "keyword_udf = udf(keyword_present, BooleanType())"
      ],
      "outputs": [
        {
          "output_type": "display_data",
          "data": {
            "application/vnd.livy.statement-meta+json": {
              "spark_pool": "7c27951d-2bdf-4140-be82-d0dc0c0e7d8e",
              "session_id": "23",
              "statement_id": 23,
              "state": "finished",
              "livy_statement_state": "available",
              "queued_time": "2023-11-06T15:10:10.0771512Z",
              "session_start_time": null,
              "execution_start_time": "2023-11-06T15:10:10.2261835Z",
              "execution_finish_time": "2023-11-06T15:10:10.6009078Z",
              "spark_jobs": {
                "numbers": {
                  "RUNNING": 0,
                  "SUCCEEDED": 0,
                  "UNKNOWN": 0,
                  "FAILED": 0
                },
                "jobs": [],
                "limit": 20,
                "rule": "ALL_DESC"
              },
              "parent_msg_id": "0cc081a7-2417-4c30-a1e1-ea0e2d3a9d1a"
            },
            "text/plain": "StatementMeta(7c27951d-2bdf-4140-be82-d0dc0c0e7d8e, 23, 23, Finished, Available)"
          },
          "metadata": {}
        }
      ],
      "execution_count": 18,
      "metadata": {
        "jupyter": {
          "source_hidden": false,
          "outputs_hidden": false
        },
        "nteract": {
          "transient": {
            "deleting": false
          }
        },
        "gather": {
          "logged": 1699283410956
        }
      }
    },
    {
      "cell_type": "code",
      "source": [
        "# Apply the UDF\n",
        "for team, keywords in team_keywords.items():\n",
        "    submissions = submissions.withColumn(\n",
        "        team,\n",
        "        keyword_udf(col(\"title\"), array([lit(k) for k in keywords])) | keyword_udf(col(\"selftext\"), array([lit(k) for k in keywords]))\n",
        "    )\n",
        "    comments = comments.withColumn(\n",
        "        team, \n",
        "        keyword_udf(col(\"body\"), array([lit(k) for k in keywords]))\n",
        "    )"
      ],
      "outputs": [
        {
          "output_type": "display_data",
          "data": {
            "application/vnd.livy.statement-meta+json": {
              "spark_pool": "7c27951d-2bdf-4140-be82-d0dc0c0e7d8e",
              "session_id": "23",
              "statement_id": 24,
              "state": "finished",
              "livy_statement_state": "available",
              "queued_time": "2023-11-06T15:10:26.060767Z",
              "session_start_time": null,
              "execution_start_time": "2023-11-06T15:10:26.1946279Z",
              "execution_finish_time": "2023-11-06T15:10:27.8454528Z",
              "spark_jobs": {
                "numbers": {
                  "RUNNING": 0,
                  "SUCCEEDED": 0,
                  "UNKNOWN": 0,
                  "FAILED": 0
                },
                "jobs": [],
                "limit": 20,
                "rule": "ALL_DESC"
              },
              "parent_msg_id": "1201a4c5-6d25-425a-91b1-265ddba4d518"
            },
            "text/plain": "StatementMeta(7c27951d-2bdf-4140-be82-d0dc0c0e7d8e, 23, 24, Finished, Available)"
          },
          "metadata": {}
        }
      ],
      "execution_count": 19,
      "metadata": {
        "jupyter": {
          "source_hidden": false,
          "outputs_hidden": false
        },
        "nteract": {
          "transient": {
            "deleting": false
          }
        },
        "gather": {
          "logged": 1699283428046
        }
      }
    },
    {
      "cell_type": "code",
      "source": [
        "# Check\n",
        "submissions.printSchema"
      ],
      "outputs": [
        {
          "output_type": "display_data",
          "data": {
            "application/vnd.livy.statement-meta+json": {
              "spark_pool": "7c27951d-2bdf-4140-be82-d0dc0c0e7d8e",
              "session_id": "23",
              "statement_id": 25,
              "state": "finished",
              "livy_statement_state": "available",
              "queued_time": "2023-11-06T15:10:43.36017Z",
              "session_start_time": null,
              "execution_start_time": "2023-11-06T15:10:43.4973044Z",
              "execution_finish_time": "2023-11-06T15:10:43.8298365Z",
              "spark_jobs": {
                "numbers": {
                  "RUNNING": 0,
                  "SUCCEEDED": 0,
                  "UNKNOWN": 0,
                  "FAILED": 0
                },
                "jobs": [],
                "limit": 20,
                "rule": "ALL_DESC"
              },
              "parent_msg_id": "19b85f28-c3b9-4320-ab73-f73262b4fce9"
            },
            "text/plain": "StatementMeta(7c27951d-2bdf-4140-be82-d0dc0c0e7d8e, 23, 25, Finished, Available)"
          },
          "metadata": {}
        },
        {
          "output_type": "execute_result",
          "execution_count": 49,
          "data": {
            "text/plain": "<bound method DataFrame.printSchema of DataFrame[subreddit: string, author: string, title: string, selftext: string, created_utc: timestamp, num_comments: bigint, houston: boolean, kansas: boolean, villanova: boolean, duke: boolean, arkansas: boolean, saint peters: boolean, north carolina: boolean, miami: boolean]>"
          },
          "metadata": {}
        }
      ],
      "execution_count": 20,
      "metadata": {
        "jupyter": {
          "source_hidden": false,
          "outputs_hidden": false
        },
        "nteract": {
          "transient": {
            "deleting": false
          }
        },
        "gather": {
          "logged": 1699283444225
        }
      }
    },
    {
      "cell_type": "code",
      "source": [
        "comments.printSchema"
      ],
      "outputs": [
        {
          "output_type": "display_data",
          "data": {
            "application/vnd.livy.statement-meta+json": {
              "spark_pool": "7c27951d-2bdf-4140-be82-d0dc0c0e7d8e",
              "session_id": "23",
              "statement_id": 26,
              "state": "finished",
              "livy_statement_state": "available",
              "queued_time": "2023-11-06T15:10:54.6773371Z",
              "session_start_time": null,
              "execution_start_time": "2023-11-06T15:10:54.8067876Z",
              "execution_finish_time": "2023-11-06T15:10:55.16504Z",
              "spark_jobs": {
                "numbers": {
                  "RUNNING": 0,
                  "SUCCEEDED": 0,
                  "UNKNOWN": 0,
                  "FAILED": 0
                },
                "jobs": [],
                "limit": 20,
                "rule": "ALL_DESC"
              },
              "parent_msg_id": "88c1acaa-d04d-4afa-9071-6f812829ede3"
            },
            "text/plain": "StatementMeta(7c27951d-2bdf-4140-be82-d0dc0c0e7d8e, 23, 26, Finished, Available)"
          },
          "metadata": {}
        },
        {
          "output_type": "execute_result",
          "execution_count": 51,
          "data": {
            "text/plain": "<bound method DataFrame.printSchema of DataFrame[subreddit: string, author: string, body: string, parent_id: string, created_utc: timestamp, houston: boolean, kansas: boolean, villanova: boolean, duke: boolean, arkansas: boolean, saint peters: boolean, north carolina: boolean, miami: boolean]>"
          },
          "metadata": {}
        }
      ],
      "execution_count": 21,
      "metadata": {
        "jupyter": {
          "source_hidden": false,
          "outputs_hidden": false
        },
        "nteract": {
          "transient": {
            "deleting": false
          }
        },
        "gather": {
          "logged": 1699283455695
        }
      }
    },
    {
      "cell_type": "code",
      "source": [
        "from pyspark.sql.functions import sum as sql_sum\n",
        "\n",
        "# Aggregate the counts for submissions\n",
        "submissions_counts = submissions.select([sql_sum(col(team).cast(\"int\")).alias(team) for team in team_keywords.keys()])\n",
        "\n",
        "# Aggregate the counts for comments\n",
        "comments_counts = comments.select([sql_sum(col(team).cast(\"int\")).alias(team) for team in team_keywords.keys()])"
      ],
      "outputs": [
        {
          "output_type": "display_data",
          "data": {
            "application/vnd.livy.statement-meta+json": {
              "spark_pool": "7c27951d-2bdf-4140-be82-d0dc0c0e7d8e",
              "session_id": "23",
              "statement_id": 27,
              "state": "finished",
              "livy_statement_state": "available",
              "queued_time": "2023-11-06T15:11:12.4620198Z",
              "session_start_time": null,
              "execution_start_time": "2023-11-06T15:11:12.5891361Z",
              "execution_finish_time": "2023-11-06T15:11:12.9260175Z",
              "spark_jobs": {
                "numbers": {
                  "RUNNING": 0,
                  "SUCCEEDED": 0,
                  "UNKNOWN": 0,
                  "FAILED": 0
                },
                "jobs": [],
                "limit": 20,
                "rule": "ALL_DESC"
              },
              "parent_msg_id": "5c235d42-91bc-4c16-a53e-fdef73fc49c0"
            },
            "text/plain": "StatementMeta(7c27951d-2bdf-4140-be82-d0dc0c0e7d8e, 23, 27, Finished, Available)"
          },
          "metadata": {}
        }
      ],
      "execution_count": 22,
      "metadata": {
        "jupyter": {
          "source_hidden": false,
          "outputs_hidden": false
        },
        "nteract": {
          "transient": {
            "deleting": false
          }
        },
        "gather": {
          "logged": 1699283473206
        }
      }
    },
    {
      "cell_type": "code",
      "source": [
        "print(\"Top 8 Team Mentions in Submissions\")\n",
        "submissions_counts.show()"
      ],
      "outputs": [
        {
          "output_type": "display_data",
          "data": {
            "application/vnd.livy.statement-meta+json": {
              "spark_pool": "7c27951d-2bdf-4140-be82-d0dc0c0e7d8e",
              "session_id": "23",
              "statement_id": 28,
              "state": "finished",
              "livy_statement_state": "available",
              "queued_time": "2023-11-06T15:11:26.0875327Z",
              "session_start_time": null,
              "execution_start_time": "2023-11-06T15:11:26.2200379Z",
              "execution_finish_time": "2023-11-06T15:11:34.7993113Z",
              "spark_jobs": {
                "numbers": {
                  "RUNNING": 0,
                  "SUCCEEDED": 2,
                  "UNKNOWN": 0,
                  "FAILED": 0
                },
                "jobs": [
                  {
                    "displayName": "showString at NativeMethodAccessorImpl.java:0",
                    "dataWritten": 0,
                    "dataRead": 5141,
                    "rowCount": 64,
                    "usageDescription": "",
                    "jobId": 15,
                    "name": "showString at NativeMethodAccessorImpl.java:0",
                    "description": "Job group for statement 28:\nprint(\"Top 8 Team Mentions in Submissions\")\nsubmissions_counts.show()",
                    "submissionTime": "2023-11-06T15:11:32.833GMT",
                    "completionTime": "2023-11-06T15:11:32.954GMT",
                    "stageIds": [
                      19,
                      20
                    ],
                    "jobGroup": "28",
                    "status": "SUCCEEDED",
                    "numTasks": 65,
                    "numActiveTasks": 0,
                    "numCompletedTasks": 1,
                    "numSkippedTasks": 64,
                    "numFailedTasks": 0,
                    "numKilledTasks": 0,
                    "numCompletedIndices": 1,
                    "numActiveStages": 0,
                    "numCompletedStages": 1,
                    "numSkippedStages": 1,
                    "numFailedStages": 0,
                    "killedTasksSummary": {}
                  },
                  {
                    "displayName": "showString at NativeMethodAccessorImpl.java:0",
                    "dataWritten": 5141,
                    "dataRead": 14022381,
                    "rowCount": 128,
                    "usageDescription": "",
                    "jobId": 14,
                    "name": "showString at NativeMethodAccessorImpl.java:0",
                    "description": "Job group for statement 28:\nprint(\"Top 8 Team Mentions in Submissions\")\nsubmissions_counts.show()",
                    "submissionTime": "2023-11-06T15:11:26.663GMT",
                    "completionTime": "2023-11-06T15:11:32.726GMT",
                    "stageIds": [
                      18
                    ],
                    "jobGroup": "28",
                    "status": "SUCCEEDED",
                    "numTasks": 64,
                    "numActiveTasks": 0,
                    "numCompletedTasks": 64,
                    "numSkippedTasks": 0,
                    "numFailedTasks": 0,
                    "numKilledTasks": 0,
                    "numCompletedIndices": 64,
                    "numActiveStages": 0,
                    "numCompletedStages": 1,
                    "numSkippedStages": 0,
                    "numFailedStages": 0,
                    "killedTasksSummary": {}
                  }
                ],
                "limit": 20,
                "rule": "ALL_DESC"
              },
              "parent_msg_id": "510ba366-a257-4c9b-b2ea-b40eeb177b19"
            },
            "text/plain": "StatementMeta(7c27951d-2bdf-4140-be82-d0dc0c0e7d8e, 23, 28, Finished, Available)"
          },
          "metadata": {}
        },
        {
          "output_type": "stream",
          "name": "stdout",
          "text": "Top 8 Team Mentions in Submissions\n+-------+------+---------+----+--------+------------+--------------+-----+\n|houston|kansas|villanova|duke|arkansas|saint peters|north carolina|miami|\n+-------+------+---------+----+--------+------------+--------------+-----+\n|    454|   968|      385| 453|     371|         149|           809| 3102|\n+-------+------+---------+----+--------+------------+--------------+-----+\n\n"
        }
      ],
      "execution_count": 23,
      "metadata": {
        "jupyter": {
          "source_hidden": false,
          "outputs_hidden": false
        },
        "nteract": {
          "transient": {
            "deleting": false
          }
        },
        "gather": {
          "logged": 1699283495132
        }
      }
    },
    {
      "cell_type": "code",
      "source": [
        "print(\"Top 8 Team Mentions in Comments\")\n",
        "comments_counts.show()"
      ],
      "outputs": [
        {
          "output_type": "display_data",
          "data": {
            "application/vnd.livy.statement-meta+json": {
              "spark_pool": "7c27951d-2bdf-4140-be82-d0dc0c0e7d8e",
              "session_id": "23",
              "statement_id": 29,
              "state": "finished",
              "livy_statement_state": "available",
              "queued_time": "2023-11-06T15:11:40.4071714Z",
              "session_start_time": null,
              "execution_start_time": "2023-11-06T15:11:40.5933516Z",
              "execution_finish_time": "2023-11-06T15:11:55.4690458Z",
              "spark_jobs": {
                "numbers": {
                  "RUNNING": 0,
                  "SUCCEEDED": 2,
                  "UNKNOWN": 0,
                  "FAILED": 0
                },
                "jobs": [
                  {
                    "displayName": "showString at NativeMethodAccessorImpl.java:0",
                    "dataWritten": 0,
                    "dataRead": 15848,
                    "rowCount": 182,
                    "usageDescription": "",
                    "jobId": 17,
                    "name": "showString at NativeMethodAccessorImpl.java:0",
                    "description": "Job group for statement 29:\nprint(\"Top 8 Team Mentions in Comments\")\ncomments_counts.show()",
                    "submissionTime": "2023-11-06T15:11:54.845GMT",
                    "completionTime": "2023-11-06T15:11:54.919GMT",
                    "stageIds": [
                      22,
                      23
                    ],
                    "jobGroup": "29",
                    "status": "SUCCEEDED",
                    "numTasks": 183,
                    "numActiveTasks": 0,
                    "numCompletedTasks": 1,
                    "numSkippedTasks": 182,
                    "numFailedTasks": 0,
                    "numKilledTasks": 0,
                    "numCompletedIndices": 1,
                    "numActiveStages": 0,
                    "numCompletedStages": 1,
                    "numSkippedStages": 1,
                    "numFailedStages": 0,
                    "killedTasksSummary": {}
                  },
                  {
                    "displayName": "showString at NativeMethodAccessorImpl.java:0",
                    "dataWritten": 15848,
                    "dataRead": 217782599,
                    "rowCount": 457,
                    "usageDescription": "",
                    "jobId": 16,
                    "name": "showString at NativeMethodAccessorImpl.java:0",
                    "description": "Job group for statement 29:\nprint(\"Top 8 Team Mentions in Comments\")\ncomments_counts.show()",
                    "submissionTime": "2023-11-06T15:11:40.807GMT",
                    "completionTime": "2023-11-06T15:11:54.767GMT",
                    "stageIds": [
                      21
                    ],
                    "jobGroup": "29",
                    "status": "SUCCEEDED",
                    "numTasks": 182,
                    "numActiveTasks": 0,
                    "numCompletedTasks": 182,
                    "numSkippedTasks": 0,
                    "numFailedTasks": 0,
                    "numKilledTasks": 0,
                    "numCompletedIndices": 182,
                    "numActiveStages": 0,
                    "numCompletedStages": 1,
                    "numSkippedStages": 0,
                    "numFailedStages": 0,
                    "killedTasksSummary": {}
                  }
                ],
                "limit": 20,
                "rule": "ALL_DESC"
              },
              "parent_msg_id": "ba6ff846-a579-40ce-b1fe-c22a1d3f790b"
            },
            "text/plain": "StatementMeta(7c27951d-2bdf-4140-be82-d0dc0c0e7d8e, 23, 29, Finished, Available)"
          },
          "metadata": {}
        },
        {
          "output_type": "stream",
          "name": "stdout",
          "text": "Top 8 Team Mentions in Comments\n+-------+------+---------+-----+--------+------------+--------------+-----+\n|houston|kansas|villanova| duke|arkansas|saint peters|north carolina|miami|\n+-------+------+---------+-----+--------+------------+--------------+-----+\n|  17144| 33921|    12317|31856|    9246|        6020|         46033|69595|\n+-------+------+---------+-----+--------+------------+--------------+-----+\n\n"
        }
      ],
      "execution_count": 24,
      "metadata": {
        "jupyter": {
          "source_hidden": false,
          "outputs_hidden": false
        },
        "nteract": {
          "transient": {
            "deleting": false
          }
        },
        "gather": {
          "logged": 1699283515764
        }
      }
    },
    {
      "cell_type": "code",
      "source": [
        "# Collect the data from PySpark DataFrame to Python\n",
        "submissions_counts_data = submissions_counts.collect()[0].asDict()\n",
        "comments_counts_data = comments_counts.collect()[0].asDict()\n",
        "\n",
        "import matplotlib.pyplot as plt\n",
        "\n",
        "# Function to plot histogram from a dictionary of team counts\n",
        "def plot_histogram(team_counts, title):\n",
        "    teams = list(team_counts.keys())\n",
        "    counts = list(team_counts.values())\n",
        "\n",
        "    plt.figure(figsize=(12, 6))\n",
        "    plt.bar(teams, counts, color='skyblue')\n",
        "    plt.title(title)\n",
        "    plt.xlabel('Teams')\n",
        "    plt.ylabel('Mentions')\n",
        "    plt.xticks(rotation=45)\n",
        "    plt.tight_layout()\n",
        "    plt.show()\n",
        "\n",
        "# Plot the histogram for submission counts\n",
        "plot_histogram(submissions_counts_data, 'Histogram of Team Mentions in Submissions')\n",
        "\n",
        "# Plot the histogram for comment counts\n",
        "plot_histogram(comments_counts_data, 'Histogram of Team Mentions in Comments')"
      ],
      "outputs": [
        {
          "output_type": "display_data",
          "data": {
            "application/vnd.livy.statement-meta+json": {
              "spark_pool": "7c27951d-2bdf-4140-be82-d0dc0c0e7d8e",
              "session_id": "23",
              "statement_id": 30,
              "state": "finished",
              "livy_statement_state": "available",
              "queued_time": "2023-11-06T15:12:33.8595275Z",
              "session_start_time": null,
              "execution_start_time": "2023-11-06T15:12:33.9968998Z",
              "execution_finish_time": "2023-11-06T15:12:51.1530263Z",
              "spark_jobs": {
                "numbers": {
                  "RUNNING": 0,
                  "SUCCEEDED": 4,
                  "UNKNOWN": 0,
                  "FAILED": 0
                },
                "jobs": [
                  {
                    "displayName": "collect at /tmp/ipykernel_8056/3721384235.py:3",
                    "dataWritten": 0,
                    "dataRead": 15848,
                    "rowCount": 182,
                    "usageDescription": "",
                    "jobId": 21,
                    "name": "collect at /tmp/ipykernel_8056/3721384235.py:3",
                    "description": "Job group for statement 30:\n# Collect the data from PySpark DataFrame to Python\nsubmissions_counts_data = submissions_counts.collect()[0].asDict()\ncomments_counts_data = comments_counts.collect()[0].asDict()\n\nimport matplotlib.pyplot as plt\n\n# Function to plot histogram from a dictionary of team counts\ndef plot_histogram(team_counts, title):\n    teams = list(team_counts.keys())\n    counts = list(team_counts.values())\n\n    plt.figure(figsize=(12, 6))\n    plt.bar(teams, counts, color='skyblue')\n    plt.title(title)\n    plt.xlabel('Teams')\n    plt.ylabel('Mentions')\n    plt.xticks(rotation=45)\n    plt.tight_layout()\n    plt.show()\n\n# Plot the histogram for submission counts\nplot_histogram(submissions_counts_data, 'Histogram of Team Mentions in Submissions')\n\n# Plot the histogram for comment counts\nplot_histogram(comments_counts_data, 'Histogram of Team Mentions in Comments')",
                    "submissionTime": "2023-11-06T15:12:47.744GMT",
                    "completionTime": "2023-11-06T15:12:47.812GMT",
                    "stageIds": [
                      28,
                      29
                    ],
                    "jobGroup": "30",
                    "status": "SUCCEEDED",
                    "numTasks": 183,
                    "numActiveTasks": 0,
                    "numCompletedTasks": 1,
                    "numSkippedTasks": 182,
                    "numFailedTasks": 0,
                    "numKilledTasks": 0,
                    "numCompletedIndices": 1,
                    "numActiveStages": 0,
                    "numCompletedStages": 1,
                    "numSkippedStages": 1,
                    "numFailedStages": 0,
                    "killedTasksSummary": {}
                  },
                  {
                    "displayName": "collect at /tmp/ipykernel_8056/3721384235.py:3",
                    "dataWritten": 15848,
                    "dataRead": 218677311,
                    "rowCount": 457,
                    "usageDescription": "",
                    "jobId": 20,
                    "name": "collect at /tmp/ipykernel_8056/3721384235.py:3",
                    "description": "Job group for statement 30:\n# Collect the data from PySpark DataFrame to Python\nsubmissions_counts_data = submissions_counts.collect()[0].asDict()\ncomments_counts_data = comments_counts.collect()[0].asDict()\n\nimport matplotlib.pyplot as plt\n\n# Function to plot histogram from a dictionary of team counts\ndef plot_histogram(team_counts, title):\n    teams = list(team_counts.keys())\n    counts = list(team_counts.values())\n\n    plt.figure(figsize=(12, 6))\n    plt.bar(teams, counts, color='skyblue')\n    plt.title(title)\n    plt.xlabel('Teams')\n    plt.ylabel('Mentions')\n    plt.xticks(rotation=45)\n    plt.tight_layout()\n    plt.show()\n\n# Plot the histogram for submission counts\nplot_histogram(submissions_counts_data, 'Histogram of Team Mentions in Submissions')\n\n# Plot the histogram for comment counts\nplot_histogram(comments_counts_data, 'Histogram of Team Mentions in Comments')",
                    "submissionTime": "2023-11-06T15:12:35.333GMT",
                    "completionTime": "2023-11-06T15:12:47.677GMT",
                    "stageIds": [
                      27
                    ],
                    "jobGroup": "30",
                    "status": "SUCCEEDED",
                    "numTasks": 182,
                    "numActiveTasks": 0,
                    "numCompletedTasks": 182,
                    "numSkippedTasks": 0,
                    "numFailedTasks": 0,
                    "numKilledTasks": 0,
                    "numCompletedIndices": 182,
                    "numActiveStages": 0,
                    "numCompletedStages": 1,
                    "numSkippedStages": 0,
                    "numFailedStages": 0,
                    "killedTasksSummary": {}
                  },
                  {
                    "displayName": "collect at /tmp/ipykernel_8056/3721384235.py:2",
                    "dataWritten": 0,
                    "dataRead": 5141,
                    "rowCount": 64,
                    "usageDescription": "",
                    "jobId": 19,
                    "name": "collect at /tmp/ipykernel_8056/3721384235.py:2",
                    "description": "Job group for statement 30:\n# Collect the data from PySpark DataFrame to Python\nsubmissions_counts_data = submissions_counts.collect()[0].asDict()\ncomments_counts_data = comments_counts.collect()[0].asDict()\n\nimport matplotlib.pyplot as plt\n\n# Function to plot histogram from a dictionary of team counts\ndef plot_histogram(team_counts, title):\n    teams = list(team_counts.keys())\n    counts = list(team_counts.values())\n\n    plt.figure(figsize=(12, 6))\n    plt.bar(teams, counts, color='skyblue')\n    plt.title(title)\n    plt.xlabel('Teams')\n    plt.ylabel('Mentions')\n    plt.xticks(rotation=45)\n    plt.tight_layout()\n    plt.show()\n\n# Plot the histogram for submission counts\nplot_histogram(submissions_counts_data, 'Histogram of Team Mentions in Submissions')\n\n# Plot the histogram for comment counts\nplot_histogram(comments_counts_data, 'Histogram of Team Mentions in Comments')",
                    "submissionTime": "2023-11-06T15:12:35.067GMT",
                    "completionTime": "2023-11-06T15:12:35.166GMT",
                    "stageIds": [
                      25,
                      26
                    ],
                    "jobGroup": "30",
                    "status": "SUCCEEDED",
                    "numTasks": 65,
                    "numActiveTasks": 0,
                    "numCompletedTasks": 1,
                    "numSkippedTasks": 64,
                    "numFailedTasks": 0,
                    "numKilledTasks": 0,
                    "numCompletedIndices": 1,
                    "numActiveStages": 0,
                    "numCompletedStages": 1,
                    "numSkippedStages": 1,
                    "numFailedStages": 0,
                    "killedTasksSummary": {}
                  },
                  {
                    "displayName": "collect at /tmp/ipykernel_8056/3721384235.py:2",
                    "dataWritten": 5141,
                    "dataRead": 14030237,
                    "rowCount": 128,
                    "usageDescription": "",
                    "jobId": 18,
                    "name": "collect at /tmp/ipykernel_8056/3721384235.py:2",
                    "description": "Job group for statement 30:\n# Collect the data from PySpark DataFrame to Python\nsubmissions_counts_data = submissions_counts.collect()[0].asDict()\ncomments_counts_data = comments_counts.collect()[0].asDict()\n\nimport matplotlib.pyplot as plt\n\n# Function to plot histogram from a dictionary of team counts\ndef plot_histogram(team_counts, title):\n    teams = list(team_counts.keys())\n    counts = list(team_counts.values())\n\n    plt.figure(figsize=(12, 6))\n    plt.bar(teams, counts, color='skyblue')\n    plt.title(title)\n    plt.xlabel('Teams')\n    plt.ylabel('Mentions')\n    plt.xticks(rotation=45)\n    plt.tight_layout()\n    plt.show()\n\n# Plot the histogram for submission counts\nplot_histogram(submissions_counts_data, 'Histogram of Team Mentions in Submissions')\n\n# Plot the histogram for comment counts\nplot_histogram(comments_counts_data, 'Histogram of Team Mentions in Comments')",
                    "submissionTime": "2023-11-06T15:12:34.163GMT",
                    "completionTime": "2023-11-06T15:12:34.962GMT",
                    "stageIds": [
                      24
                    ],
                    "jobGroup": "30",
                    "status": "SUCCEEDED",
                    "numTasks": 64,
                    "numActiveTasks": 0,
                    "numCompletedTasks": 64,
                    "numSkippedTasks": 0,
                    "numFailedTasks": 0,
                    "numKilledTasks": 0,
                    "numCompletedIndices": 64,
                    "numActiveStages": 0,
                    "numCompletedStages": 1,
                    "numSkippedStages": 0,
                    "numFailedStages": 0,
                    "killedTasksSummary": {}
                  }
                ],
                "limit": 20,
                "rule": "ALL_DESC"
              },
              "parent_msg_id": "08ce32be-9d3a-4938-8e87-a8bf89392f16"
            },
            "text/plain": "StatementMeta(7c27951d-2bdf-4140-be82-d0dc0c0e7d8e, 23, 30, Finished, Available)"
          },
          "metadata": {}
        },
        {
          "output_type": "display_data",
          "data": {
            "text/plain": "<Figure size 864x432 with 1 Axes>",
            "image/png": "[encoded data removed]"
          },
          "metadata": {
            "needs_background": "light"
          }
        },
        {
          "output_type": "display_data",
          "data": {
            "text/plain": "<Figure size 864x432 with 1 Axes>",
            "image/png": "[encoded data removed]"
          },
          "metadata": {
            "needs_background": "light"
          }
        }
      ],
      "execution_count": 25,
      "metadata": {
        "jupyter": {
          "source_hidden": false,
          "outputs_hidden": false
        },
        "nteract": {
          "transient": {
            "deleting": false
          }
        },
        "gather": {
          "logged": 1699283571707
        }
      }
    },
    {
      "cell_type": "markdown",
      "source": [
        "### Trend"
      ],
      "metadata": {
        "nteract": {
          "transient": {
            "deleting": false
          }
        }
      }
    },
    {
      "cell_type": "code",
      "source": [
        "from pyspark.sql.functions import dayofmonth, month, year\n",
        "\n",
        "# Aggregate the daily mention counts for each team\n",
        "daily_mentions_comments = comments.groupBy(\n",
        "    year(\"created_utc\").alias(\"year\"),\n",
        "    month(\"created_utc\").alias(\"month\"),\n",
        "    dayofmonth(\"created_utc\").alias(\"day\")\n",
        ").agg(\n",
        "    sql_sum(col('kansas').cast('int')).alias('kansas'),\n",
        "    sql_sum(col('duke').cast('int')).alias('duke'),\n",
        "    sql_sum(col('north carolina').cast('int')).alias('north_carolina'),\n",
        "    sql_sum(col('miami').cast('int')).alias('miami')\n",
        ")\n",
        "\n",
        "daily_mentions_submissions = submissions.groupBy(\n",
        "    year(\"created_utc\").alias(\"year\"),\n",
        "    month(\"created_utc\").alias(\"month\"),\n",
        "    dayofmonth(\"created_utc\").alias(\"day\")\n",
        ").agg(\n",
        "    sql_sum(col('kansas').cast('int')).alias('kansas'),\n",
        "    sql_sum(col('duke').cast('int')).alias('duke'),\n",
        "    sql_sum(col('north carolina').cast('int')).alias('north_carolina'),\n",
        "    sql_sum(col('miami').cast('int')).alias('miami')\n",
        ")"
      ],
      "outputs": [
        {
          "output_type": "display_data",
          "data": {
            "application/vnd.livy.statement-meta+json": {
              "spark_pool": "7c27951d-2bdf-4140-be82-d0dc0c0e7d8e",
              "session_id": "23",
              "statement_id": 31,
              "state": "finished",
              "livy_statement_state": "available",
              "queued_time": "2023-11-06T15:14:06.0022645Z",
              "session_start_time": null,
              "execution_start_time": "2023-11-06T15:14:06.1802573Z",
              "execution_finish_time": "2023-11-06T15:14:06.5484902Z",
              "spark_jobs": {
                "numbers": {
                  "RUNNING": 0,
                  "SUCCEEDED": 0,
                  "UNKNOWN": 0,
                  "FAILED": 0
                },
                "jobs": [],
                "limit": 20,
                "rule": "ALL_DESC"
              },
              "parent_msg_id": "e5413217-a77a-4fc6-b00c-c466a8b66ed6"
            },
            "text/plain": "StatementMeta(7c27951d-2bdf-4140-be82-d0dc0c0e7d8e, 23, 31, Finished, Available)"
          },
          "metadata": {}
        }
      ],
      "execution_count": 26,
      "metadata": {
        "jupyter": {
          "source_hidden": false,
          "outputs_hidden": false
        },
        "nteract": {
          "transient": {
            "deleting": false
          }
        },
        "gather": {
          "logged": 1699283646987
        }
      }
    },
    {
      "cell_type": "code",
      "source": [
        "import pandas as pd\n",
        "import matplotlib.pyplot as plt\n",
        "\n",
        "# Plot Daily Team Mentions in Submissions\n",
        "# Convert the Spark DataFrame to a Pandas DataFrame\n",
        "daily_mentions_submissions_pd = daily_mentions_submissions.toPandas()\n",
        "\n",
        "# Convert year, month, day to a datetime object\n",
        "daily_mentions_submissions_pd['date'] = pd.to_datetime(daily_mentions_submissions_pd[['year', 'month', 'day']])\n",
        "\n",
        "# Set the 'date' column as index\n",
        "daily_mentions_submissions_pd.set_index('date', inplace=True)\n",
        "\n",
        "# Drop the year, month, and day columns\n",
        "daily_mentions_submissions_pd.drop(['year', 'month', 'day'], axis=1, inplace=True)\n",
        "\n",
        "# Sort the DataFrame by date\n",
        "daily_mentions_submissions_pd.sort_index(inplace=True)\n",
        "\n",
        "# Plot\n",
        "plt.figure(figsize=(14, 8))\n",
        "\n",
        "for column in daily_mentions_submissions_pd.columns:\n",
        "    plt.plot(daily_mentions_submissions_pd.index, daily_mentions_submissions_pd[column], label=column.replace('_', ' ').title())\n",
        "\n",
        "plt.xlabel('Date')\n",
        "plt.ylabel('Daily Mentions')\n",
        "plt.title('Daily Team Mentions in Submissions')\n",
        "plt.legend()\n",
        "plt.grid(True)\n",
        "plt.show()"
      ],
      "outputs": [
        {
          "output_type": "display_data",
          "data": {
            "application/vnd.livy.statement-meta+json": {
              "spark_pool": "7c27951d-2bdf-4140-be82-d0dc0c0e7d8e",
              "session_id": "23",
              "statement_id": 32,
              "state": "finished",
              "livy_statement_state": "available",
              "queued_time": "2023-11-06T15:14:14.4007941Z",
              "session_start_time": null,
              "execution_start_time": "2023-11-06T15:14:14.5457447Z",
              "execution_finish_time": "2023-11-06T15:14:23.0898199Z",
              "spark_jobs": {
                "numbers": {
                  "RUNNING": 0,
                  "SUCCEEDED": 2,
                  "UNKNOWN": 0,
                  "FAILED": 0
                },
                "jobs": [
                  {
                    "displayName": "toPandas at /tmp/ipykernel_8056/3490322285.py:6",
                    "dataWritten": 0,
                    "dataRead": 191433,
                    "rowCount": 2729,
                    "usageDescription": "",
                    "jobId": 23,
                    "name": "toPandas at /tmp/ipykernel_8056/3490322285.py:6",
                    "description": "Job group for statement 32:\nimport pandas as pd\nimport matplotlib.pyplot as plt\n\n# Plot Daily Team Mentions in Submissions\n# Convert the Spark DataFrame to a Pandas DataFrame\ndaily_mentions_submissions_pd = daily_mentions_submissions.toPandas()\n\n# Convert year, month, day to a datetime object\ndaily_mentions_submissions_pd['date'] = pd.to_datetime(daily_mentions_submissions_pd[['year', 'month', 'day']])\n\n# Set the 'date' column as index\ndaily_mentions_submissions_pd.set_index('date', inplace=True)\n\n# Drop the year, month, and day columns\ndaily_mentions_submissions_pd.drop(['year', 'month', 'day'], axis=1, inplace=True)\n\n# Sort the DataFrame by date\ndaily_mentions_submissions_pd.sort_index(inplace=True)\n\n# Plot\nplt.figure(figsize=(14, 8))\n\nfor column in daily_mentions_submissions_pd.columns:\n    plt.plot(daily_mentions_submissions_pd.index, daily_mentions_submissions_pd[column], label=column.replace('_', ' ').title())\n\nplt.xlabel('Date')\nplt.ylabel('Daily Mentions')\nplt.title('Daily Team Mentions in Submissions')\nplt.legend()\nplt.grid(Tru...",
                    "submissionTime": "2023-11-06T15:14:20.002GMT",
                    "completionTime": "2023-11-06T15:14:21.374GMT",
                    "stageIds": [
                      31,
                      32
                    ],
                    "jobGroup": "32",
                    "status": "SUCCEEDED",
                    "numTasks": 65,
                    "numActiveTasks": 0,
                    "numCompletedTasks": 1,
                    "numSkippedTasks": 64,
                    "numFailedTasks": 0,
                    "numKilledTasks": 0,
                    "numCompletedIndices": 1,
                    "numActiveStages": 0,
                    "numCompletedStages": 1,
                    "numSkippedStages": 1,
                    "numFailedStages": 0,
                    "killedTasksSummary": {}
                  },
                  {
                    "displayName": "toPandas at /tmp/ipykernel_8056/3490322285.py:6",
                    "dataWritten": 191433,
                    "dataRead": 13957736,
                    "rowCount": 2793,
                    "usageDescription": "",
                    "jobId": 22,
                    "name": "toPandas at /tmp/ipykernel_8056/3490322285.py:6",
                    "description": "Job group for statement 32:\nimport pandas as pd\nimport matplotlib.pyplot as plt\n\n# Plot Daily Team Mentions in Submissions\n# Convert the Spark DataFrame to a Pandas DataFrame\ndaily_mentions_submissions_pd = daily_mentions_submissions.toPandas()\n\n# Convert year, month, day to a datetime object\ndaily_mentions_submissions_pd['date'] = pd.to_datetime(daily_mentions_submissions_pd[['year', 'month', 'day']])\n\n# Set the 'date' column as index\ndaily_mentions_submissions_pd.set_index('date', inplace=True)\n\n# Drop the year, month, and day columns\ndaily_mentions_submissions_pd.drop(['year', 'month', 'day'], axis=1, inplace=True)\n\n# Sort the DataFrame by date\ndaily_mentions_submissions_pd.sort_index(inplace=True)\n\n# Plot\nplt.figure(figsize=(14, 8))\n\nfor column in daily_mentions_submissions_pd.columns:\n    plt.plot(daily_mentions_submissions_pd.index, daily_mentions_submissions_pd[column], label=column.replace('_', ' ').title())\n\nplt.xlabel('Date')\nplt.ylabel('Daily Mentions')\nplt.title('Daily Team Mentions in Submissions')\nplt.legend()\nplt.grid(Tru...",
                    "submissionTime": "2023-11-06T15:14:17.829GMT",
                    "completionTime": "2023-11-06T15:14:19.767GMT",
                    "stageIds": [
                      30
                    ],
                    "jobGroup": "32",
                    "status": "SUCCEEDED",
                    "numTasks": 64,
                    "numActiveTasks": 0,
                    "numCompletedTasks": 64,
                    "numSkippedTasks": 0,
                    "numFailedTasks": 0,
                    "numKilledTasks": 0,
                    "numCompletedIndices": 64,
                    "numActiveStages": 0,
                    "numCompletedStages": 1,
                    "numSkippedStages": 0,
                    "numFailedStages": 0,
                    "killedTasksSummary": {}
                  }
                ],
                "limit": 20,
                "rule": "ALL_DESC"
              },
              "parent_msg_id": "1b60a562-bc01-4de9-adbf-a9459e34e151"
            },
            "text/plain": "StatementMeta(7c27951d-2bdf-4140-be82-d0dc0c0e7d8e, 23, 32, Finished, Available)"
          },
          "metadata": {}
        },
        {
          "output_type": "display_data",
          "data": {
            "text/plain": "<Figure size 1008x576 with 1 Axes>",
            "image/png": "[encoded data removed]"
          },
          "metadata": {
            "needs_background": "light"
          }
        }
      ],
      "execution_count": 27,
      "metadata": {
        "jupyter": {
          "source_hidden": false,
          "outputs_hidden": false
        },
        "nteract": {
          "transient": {
            "deleting": false
          }
        },
        "gather": {
          "logged": 1699283663715
        }
      }
    },
    {
      "cell_type": "code",
      "source": [
        "# Plot Daily Team Mentions in Comments\n",
        "# Convert the Spark DataFrame to a Pandas DataFrame\n",
        "daily_mentions_comments_pd = daily_mentions_comments.toPandas()\n",
        "\n",
        "# Convert year, month, day to a datetime object\n",
        "daily_mentions_comments_pd['date'] = pd.to_datetime(daily_mentions_comments_pd[['year', 'month', 'day']])\n",
        "\n",
        "# Set the 'date' column as index\n",
        "daily_mentions_comments_pd.set_index('date', inplace=True)\n",
        "\n",
        "# Drop the year, month, and day columns\n",
        "daily_mentions_comments_pd.drop(['year', 'month', 'day'], axis=1, inplace=True)\n",
        "\n",
        "# Sort the DataFrame by date\n",
        "daily_mentions_comments_pd.sort_index(inplace=True)\n",
        "\n",
        "# Plot\n",
        "plt.figure(figsize=(14, 8))\n",
        "\n",
        "for column in daily_mentions_comments_pd.columns:\n",
        "    plt.plot(daily_mentions_comments_pd.index, daily_mentions_comments_pd[column], label=column.replace('_', ' ').title())\n",
        "\n",
        "plt.xlabel('Date')\n",
        "plt.ylabel('Daily Mentions')\n",
        "plt.title('Daily Team Mentions in Comments')\n",
        "plt.legend()\n",
        "plt.grid(True)\n",
        "plt.show()"
      ],
      "outputs": [
        {
          "output_type": "display_data",
          "data": {
            "application/vnd.livy.statement-meta+json": {
              "spark_pool": "7c27951d-2bdf-4140-be82-d0dc0c0e7d8e",
              "session_id": "23",
              "statement_id": 33,
              "state": "finished",
              "livy_statement_state": "available",
              "queued_time": "2023-11-06T15:14:44.3444768Z",
              "session_start_time": null,
              "execution_start_time": "2023-11-06T15:14:44.4873139Z",
              "execution_finish_time": "2023-11-06T15:14:54.9237531Z",
              "spark_jobs": {
                "numbers": {
                  "RUNNING": 0,
                  "SUCCEEDED": 2,
                  "UNKNOWN": 0,
                  "FAILED": 0
                },
                "jobs": [
                  {
                    "displayName": "toPandas at /tmp/ipykernel_8056/1640855485.py:3",
                    "dataWritten": 0,
                    "dataRead": 1020882,
                    "rowCount": 14728,
                    "usageDescription": "",
                    "jobId": 25,
                    "name": "toPandas at /tmp/ipykernel_8056/1640855485.py:3",
                    "description": "Job group for statement 33:\n# Plot Daily Team Mentions in Comments\n# Convert the Spark DataFrame to a Pandas DataFrame\ndaily_mentions_comments_pd = daily_mentions_comments.toPandas()\n\n# Convert year, month, day to a datetime object\ndaily_mentions_comments_pd['date'] = pd.to_datetime(daily_mentions_comments_pd[['year', 'month', 'day']])\n\n# Set the 'date' column as index\ndaily_mentions_comments_pd.set_index('date', inplace=True)\n\n# Drop the year, month, and day columns\ndaily_mentions_comments_pd.drop(['year', 'month', 'day'], axis=1, inplace=True)\n\n# Sort the DataFrame by date\ndaily_mentions_comments_pd.sort_index(inplace=True)\n\n# Plot\nplt.figure(figsize=(14, 8))\n\nfor column in daily_mentions_comments_pd.columns:\n    plt.plot(daily_mentions_comments_pd.index, daily_mentions_comments_pd[column], label=column.replace('_', ' ').title())\n\nplt.xlabel('Date')\nplt.ylabel('Daily Mentions')\nplt.title('Daily Team Mentions in Comments')\nplt.legend()\nplt.grid(True)\nplt.show()",
                    "submissionTime": "2023-11-06T15:14:54.186GMT",
                    "completionTime": "2023-11-06T15:14:54.361GMT",
                    "stageIds": [
                      34,
                      35
                    ],
                    "jobGroup": "33",
                    "status": "SUCCEEDED",
                    "numTasks": 183,
                    "numActiveTasks": 0,
                    "numCompletedTasks": 1,
                    "numSkippedTasks": 182,
                    "numFailedTasks": 0,
                    "numKilledTasks": 0,
                    "numCompletedIndices": 1,
                    "numActiveStages": 0,
                    "numCompletedStages": 1,
                    "numSkippedStages": 1,
                    "numFailedStages": 0,
                    "killedTasksSummary": {}
                  },
                  {
                    "displayName": "toPandas at /tmp/ipykernel_8056/1640855485.py:3",
                    "dataWritten": 1020882,
                    "dataRead": 220831795,
                    "rowCount": 15003,
                    "usageDescription": "",
                    "jobId": 24,
                    "name": "toPandas at /tmp/ipykernel_8056/1640855485.py:3",
                    "description": "Job group for statement 33:\n# Plot Daily Team Mentions in Comments\n# Convert the Spark DataFrame to a Pandas DataFrame\ndaily_mentions_comments_pd = daily_mentions_comments.toPandas()\n\n# Convert year, month, day to a datetime object\ndaily_mentions_comments_pd['date'] = pd.to_datetime(daily_mentions_comments_pd[['year', 'month', 'day']])\n\n# Set the 'date' column as index\ndaily_mentions_comments_pd.set_index('date', inplace=True)\n\n# Drop the year, month, and day columns\ndaily_mentions_comments_pd.drop(['year', 'month', 'day'], axis=1, inplace=True)\n\n# Sort the DataFrame by date\ndaily_mentions_comments_pd.sort_index(inplace=True)\n\n# Plot\nplt.figure(figsize=(14, 8))\n\nfor column in daily_mentions_comments_pd.columns:\n    plt.plot(daily_mentions_comments_pd.index, daily_mentions_comments_pd[column], label=column.replace('_', ' ').title())\n\nplt.xlabel('Date')\nplt.ylabel('Daily Mentions')\nplt.title('Daily Team Mentions in Comments')\nplt.legend()\nplt.grid(True)\nplt.show()",
                    "submissionTime": "2023-11-06T15:14:44.731GMT",
                    "completionTime": "2023-11-06T15:14:54.074GMT",
                    "stageIds": [
                      33
                    ],
                    "jobGroup": "33",
                    "status": "SUCCEEDED",
                    "numTasks": 182,
                    "numActiveTasks": 0,
                    "numCompletedTasks": 182,
                    "numSkippedTasks": 0,
                    "numFailedTasks": 0,
                    "numKilledTasks": 0,
                    "numCompletedIndices": 182,
                    "numActiveStages": 0,
                    "numCompletedStages": 1,
                    "numSkippedStages": 0,
                    "numFailedStages": 0,
                    "killedTasksSummary": {}
                  }
                ],
                "limit": 20,
                "rule": "ALL_DESC"
              },
              "parent_msg_id": "8d24fc8d-5790-48c1-b688-47497b285008"
            },
            "text/plain": "StatementMeta(7c27951d-2bdf-4140-be82-d0dc0c0e7d8e, 23, 33, Finished, Available)"
          },
          "metadata": {}
        },
        {
          "output_type": "display_data",
          "data": {
            "text/plain": "<Figure size 1008x576 with 1 Axes>",
            "image/png": "[encoded data removed]"
          },
          "metadata": {
            "needs_background": "light"
          }
        }
      ],
      "execution_count": 28,
      "metadata": {
        "jupyter": {
          "source_hidden": false,
          "outputs_hidden": false
        },
        "nteract": {
          "transient": {
            "deleting": false
          }
        },
        "gather": {
          "logged": 1699283695431
        }
      }
    }
  ],
  "metadata": {
    "kernelspec": {
      "name": "synapse_pyspark",
      "language": "Python",
      "display_name": "Synapse PySpark"
    },
    "language_info": {
      "name": "python",
      "version": "3.8.0",
      "mimetype": "text/x-python",
      "file_extension": ".py",
      "pygments_lexer": "ipython",
      "codemirror_mode": "ipython",
      "nbconvert_exporter": "python"
    },
    "microsoft": {
      "ms_spell_check": {
        "ms_spell_check_language": "en"
      },
      "host": {
        "AzureML": {
          "notebookHasBeenCompleted": true
        }
      }
    },
    "kernel_info": {
      "name": "synapse_pyspark"
    },
    "nteract": {
      "version": "nteract-front-end@1.0.0"
    }
  },
  "nbformat": 4,
  "nbformat_minor": 2
}
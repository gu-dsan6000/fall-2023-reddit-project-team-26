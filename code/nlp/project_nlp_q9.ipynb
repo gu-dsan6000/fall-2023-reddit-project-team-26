{
  "cells": [
    {
      "cell_type": "markdown",
      "source": [
        "### Setting up"
      ],
      "metadata": {
        "nteract": {
          "transient": {
            "deleting": false
          }
        }
      }
    },
    {
      "cell_type": "code",
      "source": [
        "spark"
      ],
      "outputs": [
        {
          "output_type": "display_data",
          "data": {
            "application/vnd.livy.statement-meta+json": {
              "spark_pool": "7c27951d-2bdf-4140-be82-d0dc0c0e7d8e",
              "session_id": "51",
              "statement_id": 6,
              "state": "finished",
              "livy_statement_state": "available",
              "queued_time": "2023-11-20T17:15:55.3636272Z",
              "session_start_time": "2023-11-20T17:15:55.4080594Z",
              "execution_start_time": "2023-11-20T17:18:57.4986781Z",
              "execution_finish_time": "2023-11-20T17:19:00.2124253Z",
              "spark_jobs": {
                "numbers": {
                  "FAILED": 0,
                  "RUNNING": 0,
                  "UNKNOWN": 0,
                  "SUCCEEDED": 0
                },
                "jobs": [],
                "limit": 20,
                "rule": "ALL_DESC"
              },
              "parent_msg_id": "eddd26f5-f528-4259-b234-4b4d74c218d6"
            },
            "text/plain": "StatementMeta(7c27951d-2bdf-4140-be82-d0dc0c0e7d8e, 51, 6, Finished, Available)"
          },
          "metadata": {}
        },
        {
          "output_type": "execute_result",
          "execution_count": 11,
          "data": {
            "text/plain": "<pyspark.sql.session.SparkSession at 0x7fa0cddcc8e0>",
            "text/html": "\n            <div>\n                <p><b>SparkSession - hive</b></p>\n                \n        <div>\n            <p><b>SparkContext</b></p>\n\n            <p><a href=\"http://vm-d2f49464:45965\">Spark UI</a></p>\n\n            <dl>\n              <dt>Version</dt>\n                <dd><code>v3.2.2.5.1-100879434</code></dd>\n              <dt>Master</dt>\n                <dd><code>yarn</code></dd>\n              <dt>AppName</dt>\n                <dd><code>Azure ML Experiment</code></dd>\n            </dl>\n        </div>\n        \n            </div>\n        "
          },
          "metadata": {}
        }
      ],
      "execution_count": 1,
      "metadata": {
        "jupyter": {
          "source_hidden": false,
          "outputs_hidden": false
        },
        "nteract": {
          "transient": {
            "deleting": false
          }
        },
        "gather": {
          "logged": 1700500740593
        }
      }
    },
    {
      "cell_type": "code",
      "source": [
        "import pandas as pd\n",
        "import matplotlib.pyplot as plt\n",
        "import seaborn as sns\n",
        "from pyspark.sql.functions import *\n",
        "from pyspark.sql.types import BooleanType\n",
        "from pyspark.ml.feature import HashingTF, IDF, Tokenizer, CountVectorizer\n",
        "from pyspark.ml import Pipeline\n",
        "from tabulate import tabulate\n",
        "from functools import reduce"
      ],
      "outputs": [
        {
          "output_type": "display_data",
          "data": {
            "application/vnd.livy.statement-meta+json": {
              "spark_pool": "7c27951d-2bdf-4140-be82-d0dc0c0e7d8e",
              "session_id": "51",
              "statement_id": 19,
              "state": "finished",
              "livy_statement_state": "available",
              "queued_time": "2023-11-20T17:28:24.4966005Z",
              "session_start_time": null,
              "execution_start_time": "2023-11-20T17:28:24.6608477Z",
              "execution_finish_time": "2023-11-20T17:28:26.8187362Z",
              "spark_jobs": {
                "numbers": {
                  "FAILED": 0,
                  "RUNNING": 0,
                  "UNKNOWN": 0,
                  "SUCCEEDED": 0
                },
                "jobs": [],
                "limit": 20,
                "rule": "ALL_DESC"
              },
              "parent_msg_id": "2623997e-c120-44a1-a5df-1c2744591b7b"
            },
            "text/plain": "StatementMeta(7c27951d-2bdf-4140-be82-d0dc0c0e7d8e, 51, 19, Finished, Available)"
          },
          "metadata": {}
        }
      ],
      "execution_count": 14,
      "metadata": {
        "jupyter": {
          "source_hidden": false,
          "outputs_hidden": false
        },
        "nteract": {
          "transient": {
            "deleting": false
          }
        },
        "gather": {
          "logged": 1700501306952
        }
      }
    },
    {
      "cell_type": "markdown",
      "source": [
        "### Loading data"
      ],
      "metadata": {
        "nteract": {
          "transient": {
            "deleting": false
          }
        }
      }
    },
    {
      "cell_type": "code",
      "source": [
        "workspace_default_storage_account = \"aml6214727930\"\n",
        "workspace_default_container = \"azureml-blobstore-6653633b-3460-4381-9199-d9e0f368353c\"\n",
        "\n",
        "workspace_wasbs_base_url = (\n",
        "    f\"wasbs://{workspace_default_container}@{workspace_default_storage_account}.blob.core.windows.net/\"\n",
        ")\n",
        "\n",
        "comments_path = \"/basketball_comments_sentiment.parquet\"\n",
        "submissions_path = \"/basketball_submissions_sentiment.parquet\"\n",
        "\n",
        "comments = spark.read.parquet(f\"{workspace_wasbs_base_url}{comments_path}\")\n",
        "submissions = spark.read.parquet(f\"{workspace_wasbs_base_url}{submissions_path}\")"
      ],
      "outputs": [
        {
          "output_type": "display_data",
          "data": {
            "application/vnd.livy.statement-meta+json": {
              "spark_pool": "7c27951d-2bdf-4140-be82-d0dc0c0e7d8e",
              "session_id": "51",
              "statement_id": 8,
              "state": "finished",
              "livy_statement_state": "available",
              "queued_time": "2023-11-20T17:19:25.0132191Z",
              "session_start_time": null,
              "execution_start_time": "2023-11-20T17:19:25.1240653Z",
              "execution_finish_time": "2023-11-20T17:19:35.5926498Z",
              "spark_jobs": {
                "numbers": {
                  "FAILED": 0,
                  "RUNNING": 0,
                  "UNKNOWN": 0,
                  "SUCCEEDED": 2
                },
                "jobs": [
                  {
                    "displayName": "parquet at NativeMethodAccessorImpl.java:0",
                    "dataWritten": 0,
                    "dataRead": 0,
                    "rowCount": 0,
                    "usageDescription": "",
                    "jobId": 1,
                    "name": "parquet at NativeMethodAccessorImpl.java:0",
                    "description": "Job group for statement 8:\nworkspace_default_storage_account = \"aml6214727930\"\nworkspace_default_container = \"azureml-blobstore-6653633b-3460-4381-9199-d9e0f368353c\"\n\nworkspace_wasbs_base_url = (\n    f\"wasbs://{workspace_default_container}@{workspace_default_storage_account}.blob.core.windows.net/\"\n)\n\ncomments_path = \"/basketball_comments_sentiment.parquet\"\nsubmissions_path = \"/basketball_submissions_sentiment.parquet\"\n\ncomments = spark.read.parquet(f\"{workspace_wasbs_base_url}{comments_path}\")\nsubmissions = spark.read.parquet(f\"{workspace_wasbs_base_url}{submissions_path}\")",
                    "submissionTime": "2023-11-20T17:19:34.257GMT",
                    "completionTime": "2023-11-20T17:19:34.471GMT",
                    "stageIds": [
                      1
                    ],
                    "jobGroup": "8",
                    "status": "SUCCEEDED",
                    "numTasks": 1,
                    "numActiveTasks": 0,
                    "numCompletedTasks": 1,
                    "numSkippedTasks": 0,
                    "numFailedTasks": 0,
                    "numKilledTasks": 0,
                    "numCompletedIndices": 1,
                    "numActiveStages": 0,
                    "numCompletedStages": 1,
                    "numSkippedStages": 0,
                    "numFailedStages": 0,
                    "killedTasksSummary": {}
                  },
                  {
                    "displayName": "parquet at NativeMethodAccessorImpl.java:0",
                    "dataWritten": 0,
                    "dataRead": 0,
                    "rowCount": 0,
                    "usageDescription": "",
                    "jobId": 0,
                    "name": "parquet at NativeMethodAccessorImpl.java:0",
                    "description": "Job group for statement 8:\nworkspace_default_storage_account = \"aml6214727930\"\nworkspace_default_container = \"azureml-blobstore-6653633b-3460-4381-9199-d9e0f368353c\"\n\nworkspace_wasbs_base_url = (\n    f\"wasbs://{workspace_default_container}@{workspace_default_storage_account}.blob.core.windows.net/\"\n)\n\ncomments_path = \"/basketball_comments_sentiment.parquet\"\nsubmissions_path = \"/basketball_submissions_sentiment.parquet\"\n\ncomments = spark.read.parquet(f\"{workspace_wasbs_base_url}{comments_path}\")\nsubmissions = spark.read.parquet(f\"{workspace_wasbs_base_url}{submissions_path}\")",
                    "submissionTime": "2023-11-20T17:19:26.149GMT",
                    "completionTime": "2023-11-20T17:19:32.026GMT",
                    "stageIds": [
                      0
                    ],
                    "jobGroup": "8",
                    "status": "SUCCEEDED",
                    "numTasks": 1,
                    "numActiveTasks": 0,
                    "numCompletedTasks": 1,
                    "numSkippedTasks": 0,
                    "numFailedTasks": 0,
                    "numKilledTasks": 0,
                    "numCompletedIndices": 1,
                    "numActiveStages": 0,
                    "numCompletedStages": 1,
                    "numSkippedStages": 0,
                    "numFailedStages": 0,
                    "killedTasksSummary": {}
                  }
                ],
                "limit": 20,
                "rule": "ALL_DESC"
              },
              "parent_msg_id": "c1ba0c8d-49ca-4f56-aca3-9445d83a98af"
            },
            "text/plain": "StatementMeta(7c27951d-2bdf-4140-be82-d0dc0c0e7d8e, 51, 8, Finished, Available)"
          },
          "metadata": {}
        }
      ],
      "execution_count": 3,
      "metadata": {
        "jupyter": {
          "source_hidden": false,
          "outputs_hidden": false
        },
        "nteract": {
          "transient": {
            "deleting": false
          }
        },
        "gather": {
          "logged": 1700500775694
        }
      }
    },
    {
      "cell_type": "code",
      "source": [
        "submissions.show(5)"
      ],
      "outputs": [
        {
          "output_type": "display_data",
          "data": {
            "application/vnd.livy.statement-meta+json": {
              "spark_pool": "7c27951d-2bdf-4140-be82-d0dc0c0e7d8e",
              "session_id": "51",
              "statement_id": 9,
              "state": "finished",
              "livy_statement_state": "available",
              "queued_time": "2023-11-20T17:19:45.4466068Z",
              "session_start_time": null,
              "execution_start_time": "2023-11-20T17:19:45.5630416Z",
              "execution_finish_time": "2023-11-20T17:19:57.7768268Z",
              "spark_jobs": {
                "numbers": {
                  "FAILED": 0,
                  "RUNNING": 0,
                  "UNKNOWN": 0,
                  "SUCCEEDED": 1
                },
                "jobs": [
                  {
                    "displayName": "showString at NativeMethodAccessorImpl.java:0",
                    "dataWritten": 0,
                    "dataRead": 1861774,
                    "rowCount": 2827,
                    "usageDescription": "",
                    "jobId": 2,
                    "name": "showString at NativeMethodAccessorImpl.java:0",
                    "description": "Job group for statement 9:\nsubmissions.show(5)",
                    "submissionTime": "2023-11-20T17:19:47.249GMT",
                    "completionTime": "2023-11-20T17:19:55.544GMT",
                    "stageIds": [
                      2
                    ],
                    "jobGroup": "9",
                    "status": "SUCCEEDED",
                    "numTasks": 1,
                    "numActiveTasks": 0,
                    "numCompletedTasks": 1,
                    "numSkippedTasks": 0,
                    "numFailedTasks": 0,
                    "numKilledTasks": 0,
                    "numCompletedIndices": 1,
                    "numActiveStages": 0,
                    "numCompletedStages": 1,
                    "numSkippedStages": 0,
                    "numFailedStages": 0,
                    "killedTasksSummary": {}
                  }
                ],
                "limit": 20,
                "rule": "ALL_DESC"
              },
              "parent_msg_id": "f8d459cd-0637-40ac-83ae-2fcbf672b3c3"
            },
            "text/plain": "StatementMeta(7c27951d-2bdf-4140-be82-d0dc0c0e7d8e, 51, 9, Finished, Available)"
          },
          "metadata": {}
        },
        {
          "output_type": "stream",
          "name": "stdout",
          "text": "+-----------------+------+--------------------+--------------------+--------------------+-------------------+------------+--------------+-----------+------------+------------+------------+----------------+-----------+--------------+---+-----+----+--------------------+--------+\n|        subreddit|author|   author_flair_text|               title|            selftext|        created_utc|num_comments|supported_team|game_thread|home_ranking|   home_team|away_ranking|       away_team|  game_time|ranked_matchup|day|month|year|          clean_text|     col|\n+-----------------+------+--------------------+--------------------+--------------------+-------------------+------------+--------------+-----------+------------+------------+------------+----------------+-----------+--------------+---+-----+----+--------------------+--------+\n|CollegeBasketball|cbbBot|:rcbb: :ncaa: /r/...|[Game Thread] #3 ...|[UCLA](#f/ucla) *...|2022-02-04 00:00:04|        1172|          rcbb|       true|           5|     Arizona|           3|            UCLA|08:00 PM ET|          true|  4|    2|2022|uclafucla arizona...|positive|\n|CollegeBasketball|cbbBot|:rcbb: :ncaa: /r/...|[Game Thread] Mar...|[Marshall](#f/mar...|2022-02-04 00:00:06|           0|          rcbb|       true|            |Old Dominion|            |        Marshall|08:00 PM ET|         false|  4|    2|2022|marshallfmarshall...|positive|\n|CollegeBasketball|cbbBot|:rcbb: :ncaa: /r/...|[Game Thread] Wes...|[Western Illinois...|2022-02-04 00:00:08|           1|          rcbb|       true|            |Oral Roberts|            |Western Illinois|08:00 PM ET|         false|  4|    2|2022|western illinoisf...|positive|\n|CollegeBasketball|cbbBot|:rcbb: :ncaa: /r/...|[Game Thread] Den...|[Denver](#f/denve...|2022-02-04 00:00:11|          10|          rcbb|       true|            |North Dakota|            |          Denver|08:00 PM ET|         false|  4|    2|2022|denverfdenver nor...|positive|\n|CollegeBasketball|cbbBot|:rcbb: :ncaa: /r/...|[Game Thread] UNC...|[UNC Wilmington](...|2022-02-04 00:23:06|           0|          rcbb|       true|            |        Elon|            |  UNC Wilmington|07:00 PM ET|         false|  4|    2|2022|unc wilmingtonfun...|positive|\n+-----------------+------+--------------------+--------------------+--------------------+-------------------+------------+--------------+-----------+------------+------------+------------+----------------+-----------+--------------+---+-----+----+--------------------+--------+\nonly showing top 5 rows\n\n"
        }
      ],
      "execution_count": 4,
      "metadata": {
        "jupyter": {
          "source_hidden": false,
          "outputs_hidden": false
        },
        "nteract": {
          "transient": {
            "deleting": false
          }
        },
        "gather": {
          "logged": 1700500798009
        }
      }
    },
    {
      "cell_type": "code",
      "source": [
        "# Rename col sentiment\n",
        "submissions = submissions.withColumnRenamed(\"col\", \"sentiment\")\n",
        "comments = comments.withColumnRenamed(\"col\", \"sentiment\")"
      ],
      "outputs": [
        {
          "output_type": "display_data",
          "data": {
            "application/vnd.livy.statement-meta+json": {
              "spark_pool": "7c27951d-2bdf-4140-be82-d0dc0c0e7d8e",
              "session_id": "51",
              "statement_id": 11,
              "state": "finished",
              "livy_statement_state": "available",
              "queued_time": "2023-11-20T17:21:22.97114Z",
              "session_start_time": null,
              "execution_start_time": "2023-11-20T17:21:23.0843381Z",
              "execution_finish_time": "2023-11-20T17:21:23.3820207Z",
              "spark_jobs": {
                "numbers": {
                  "FAILED": 0,
                  "RUNNING": 0,
                  "UNKNOWN": 0,
                  "SUCCEEDED": 0
                },
                "jobs": [],
                "limit": 20,
                "rule": "ALL_DESC"
              },
              "parent_msg_id": "f16ec6da-6ae4-4762-b943-27ab96e9ec07"
            },
            "text/plain": "StatementMeta(7c27951d-2bdf-4140-be82-d0dc0c0e7d8e, 51, 11, Finished, Available)"
          },
          "metadata": {}
        }
      ],
      "execution_count": 6,
      "metadata": {
        "jupyter": {
          "source_hidden": false,
          "outputs_hidden": false
        },
        "nteract": {
          "transient": {
            "deleting": false
          }
        },
        "gather": {
          "logged": 1700500883483
        }
      }
    },
    {
      "cell_type": "code",
      "source": [
        "submissions.count()"
      ],
      "outputs": [
        {
          "output_type": "display_data",
          "data": {
            "application/vnd.livy.statement-meta+json": {
              "spark_pool": "7c27951d-2bdf-4140-be82-d0dc0c0e7d8e",
              "session_id": "51",
              "statement_id": 23,
              "state": "finished",
              "livy_statement_state": "available",
              "queued_time": "2023-11-20T17:32:28.7537294Z",
              "session_start_time": null,
              "execution_start_time": "2023-11-20T17:32:28.8654792Z",
              "execution_finish_time": "2023-11-20T17:32:29.7061984Z",
              "spark_jobs": {
                "numbers": {
                  "FAILED": 0,
                  "RUNNING": 0,
                  "UNKNOWN": 0,
                  "SUCCEEDED": 2
                },
                "jobs": [
                  {
                    "displayName": "count at NativeMethodAccessorImpl.java:0",
                    "dataWritten": 0,
                    "dataRead": 354,
                    "rowCount": 6,
                    "usageDescription": "",
                    "jobId": 25,
                    "name": "count at NativeMethodAccessorImpl.java:0",
                    "description": "Job group for statement 23:\nsubmissions.count()",
                    "submissionTime": "2023-11-20T17:32:29.298GMT",
                    "completionTime": "2023-11-20T17:32:29.341GMT",
                    "stageIds": [
                      117,
                      116
                    ],
                    "jobGroup": "23",
                    "status": "SUCCEEDED",
                    "numTasks": 7,
                    "numActiveTasks": 0,
                    "numCompletedTasks": 1,
                    "numSkippedTasks": 6,
                    "numFailedTasks": 0,
                    "numKilledTasks": 0,
                    "numCompletedIndices": 1,
                    "numActiveStages": 0,
                    "numCompletedStages": 1,
                    "numSkippedStages": 1,
                    "numFailedStages": 0,
                    "killedTasksSummary": {}
                  },
                  {
                    "displayName": "count at NativeMethodAccessorImpl.java:0",
                    "dataWritten": 354,
                    "dataRead": 51354,
                    "rowCount": 9169,
                    "usageDescription": "",
                    "jobId": 24,
                    "name": "count at NativeMethodAccessorImpl.java:0",
                    "description": "Job group for statement 23:\nsubmissions.count()",
                    "submissionTime": "2023-11-20T17:32:28.996GMT",
                    "completionTime": "2023-11-20T17:32:29.274GMT",
                    "stageIds": [
                      115
                    ],
                    "jobGroup": "23",
                    "status": "SUCCEEDED",
                    "numTasks": 6,
                    "numActiveTasks": 0,
                    "numCompletedTasks": 6,
                    "numSkippedTasks": 0,
                    "numFailedTasks": 0,
                    "numKilledTasks": 0,
                    "numCompletedIndices": 6,
                    "numActiveStages": 0,
                    "numCompletedStages": 1,
                    "numSkippedStages": 0,
                    "numFailedStages": 0,
                    "killedTasksSummary": {}
                  }
                ],
                "limit": 20,
                "rule": "ALL_DESC"
              },
              "parent_msg_id": "6957e5bb-364c-492f-826d-1f18308da170"
            },
            "text/plain": "StatementMeta(7c27951d-2bdf-4140-be82-d0dc0c0e7d8e, 51, 23, Finished, Available)"
          },
          "metadata": {}
        },
        {
          "output_type": "execute_result",
          "execution_count": 45,
          "data": {
            "text/plain": "9163"
          },
          "metadata": {}
        }
      ],
      "execution_count": 18,
      "metadata": {
        "jupyter": {
          "source_hidden": false,
          "outputs_hidden": false
        },
        "nteract": {
          "transient": {
            "deleting": false
          }
        },
        "gather": {
          "logged": 1700501549825
        }
      }
    },
    {
      "cell_type": "code",
      "source": [
        "comments.count()"
      ],
      "outputs": [
        {
          "output_type": "display_data",
          "data": {
            "application/vnd.livy.statement-meta+json": {
              "spark_pool": "7c27951d-2bdf-4140-be82-d0dc0c0e7d8e",
              "session_id": "51",
              "statement_id": 24,
              "state": "finished",
              "livy_statement_state": "available",
              "queued_time": "2023-11-20T17:33:59.0681555Z",
              "session_start_time": null,
              "execution_start_time": "2023-11-20T17:33:59.2269265Z",
              "execution_finish_time": "2023-11-20T17:34:00.0461339Z",
              "spark_jobs": {
                "numbers": {
                  "FAILED": 0,
                  "RUNNING": 0,
                  "UNKNOWN": 0,
                  "SUCCEEDED": 2
                },
                "jobs": [
                  {
                    "displayName": "count at NativeMethodAccessorImpl.java:0",
                    "dataWritten": 0,
                    "dataRead": 531,
                    "rowCount": 9,
                    "usageDescription": "",
                    "jobId": 27,
                    "name": "count at NativeMethodAccessorImpl.java:0",
                    "description": "Job group for statement 24:\ncomments.count()",
                    "submissionTime": "2023-11-20T17:33:59.674GMT",
                    "completionTime": "2023-11-20T17:33:59.723GMT",
                    "stageIds": [
                      119,
                      120
                    ],
                    "jobGroup": "24",
                    "status": "SUCCEEDED",
                    "numTasks": 10,
                    "numActiveTasks": 0,
                    "numCompletedTasks": 1,
                    "numSkippedTasks": 9,
                    "numFailedTasks": 0,
                    "numKilledTasks": 0,
                    "numCompletedIndices": 1,
                    "numActiveStages": 0,
                    "numCompletedStages": 1,
                    "numSkippedStages": 1,
                    "numFailedStages": 0,
                    "killedTasksSummary": {}
                  },
                  {
                    "displayName": "count at NativeMethodAccessorImpl.java:0",
                    "dataWritten": 531,
                    "dataRead": 75286,
                    "rowCount": 869813,
                    "usageDescription": "",
                    "jobId": 26,
                    "name": "count at NativeMethodAccessorImpl.java:0",
                    "description": "Job group for statement 24:\ncomments.count()",
                    "submissionTime": "2023-11-20T17:33:59.298GMT",
                    "completionTime": "2023-11-20T17:33:59.639GMT",
                    "stageIds": [
                      118
                    ],
                    "jobGroup": "24",
                    "status": "SUCCEEDED",
                    "numTasks": 9,
                    "numActiveTasks": 0,
                    "numCompletedTasks": 9,
                    "numSkippedTasks": 0,
                    "numFailedTasks": 0,
                    "numKilledTasks": 0,
                    "numCompletedIndices": 9,
                    "numActiveStages": 0,
                    "numCompletedStages": 1,
                    "numSkippedStages": 0,
                    "numFailedStages": 0,
                    "killedTasksSummary": {}
                  }
                ],
                "limit": 20,
                "rule": "ALL_DESC"
              },
              "parent_msg_id": "2d0644dd-84d4-4832-ba38-7cd7229f739c"
            },
            "text/plain": "StatementMeta(7c27951d-2bdf-4140-be82-d0dc0c0e7d8e, 51, 24, Finished, Available)"
          },
          "metadata": {}
        },
        {
          "output_type": "execute_result",
          "execution_count": 47,
          "data": {
            "text/plain": "869804"
          },
          "metadata": {}
        }
      ],
      "execution_count": 19,
      "metadata": {
        "jupyter": {
          "source_hidden": false,
          "outputs_hidden": false
        },
        "nteract": {
          "transient": {
            "deleting": false
          }
        },
        "gather": {
          "logged": 1700501640182
        }
      }
    },
    {
      "cell_type": "markdown",
      "source": [
        "### Sentiment Analysis on each team"
      ],
      "metadata": {
        "nteract": {
          "transient": {
            "deleting": false
          }
        }
      }
    },
    {
      "cell_type": "code",
      "source": [
        "# Define a dictionary of teams and associated keywords\n",
        "team_keywords = {\n",
        "    'houston': ['houston', 'cougars', 'uh', 'uh cougars'],\n",
        "    'kansas': ['kansas', 'jayhawks', 'ku', 'rock chalk', 'ku jayhawks'],\n",
        "    'villanova': ['villanova', 'wildcats', 'nova', 'villanova wildcats'],\n",
        "    'duke': ['duke', 'blue devils', 'duke blue devils'],\n",
        "    'arkansas': ['arkansas', 'razorbacks', 'hogs', 'u of a', 'arkansas razorbacks'],\n",
        "    'saint peters': [\"saint peter's\", 'peacocks', \"saint peter's peacocks\", 'saint peters', \"st. peter's\", 'st peters', 'spu'],\n",
        "    'north carolina': ['north carolina', 'tar heels', 'unc', 'unc tar heels'],\n",
        "    'miami': ['miami', 'hurricanes', 'um', 'miami hurricanes'],\n",
        "    'purdue': ['purdue', 'boilermakers', 'purdue boilermakers', 'pu'],\n",
        "    'illinois': ['illinois', 'fighting illini', 'illini', 'u of i', 'university of illinois']\n",
        "}"
      ],
      "outputs": [
        {
          "output_type": "display_data",
          "data": {
            "application/vnd.livy.statement-meta+json": {
              "spark_pool": "7c27951d-2bdf-4140-be82-d0dc0c0e7d8e",
              "session_id": "51",
              "statement_id": 12,
              "state": "finished",
              "livy_statement_state": "available",
              "queued_time": "2023-11-20T17:21:33.4485887Z",
              "session_start_time": null,
              "execution_start_time": "2023-11-20T17:21:33.5651851Z",
              "execution_finish_time": "2023-11-20T17:21:33.8600082Z",
              "spark_jobs": {
                "numbers": {
                  "FAILED": 0,
                  "RUNNING": 0,
                  "UNKNOWN": 0,
                  "SUCCEEDED": 0
                },
                "jobs": [],
                "limit": 20,
                "rule": "ALL_DESC"
              },
              "parent_msg_id": "59694e7e-b12f-46ca-89d6-d594683c98f9"
            },
            "text/plain": "StatementMeta(7c27951d-2bdf-4140-be82-d0dc0c0e7d8e, 51, 12, Finished, Available)"
          },
          "metadata": {}
        }
      ],
      "execution_count": 7,
      "metadata": {
        "jupyter": {
          "source_hidden": false,
          "outputs_hidden": false
        },
        "nteract": {
          "transient": {
            "deleting": false
          }
        },
        "gather": {
          "logged": 1700500893958
        }
      }
    },
    {
      "cell_type": "code",
      "source": [
        "# Define the UDF to check the existence of key words\n",
        "def keyword_present(text, keywords):\n",
        "    if text:\n",
        "        return any(keyword in text for keyword in keywords)\n",
        "    return False\n",
        "\n",
        "keyword_udf = udf(keyword_present, BooleanType())"
      ],
      "outputs": [
        {
          "output_type": "display_data",
          "data": {
            "application/vnd.livy.statement-meta+json": {
              "spark_pool": "7c27951d-2bdf-4140-be82-d0dc0c0e7d8e",
              "session_id": "51",
              "statement_id": 13,
              "state": "finished",
              "livy_statement_state": "available",
              "queued_time": "2023-11-20T17:21:36.329217Z",
              "session_start_time": null,
              "execution_start_time": "2023-11-20T17:21:36.4472028Z",
              "execution_finish_time": "2023-11-20T17:21:36.7434685Z",
              "spark_jobs": {
                "numbers": {
                  "FAILED": 0,
                  "RUNNING": 0,
                  "UNKNOWN": 0,
                  "SUCCEEDED": 0
                },
                "jobs": [],
                "limit": 20,
                "rule": "ALL_DESC"
              },
              "parent_msg_id": "95930cdc-6b8e-4ade-b8c2-5ad32a0c5cb9"
            },
            "text/plain": "StatementMeta(7c27951d-2bdf-4140-be82-d0dc0c0e7d8e, 51, 13, Finished, Available)"
          },
          "metadata": {}
        }
      ],
      "execution_count": 8,
      "metadata": {
        "jupyter": {
          "source_hidden": false,
          "outputs_hidden": false
        },
        "nteract": {
          "transient": {
            "deleting": false
          }
        },
        "gather": {
          "logged": 1700500896864
        }
      }
    },
    {
      "cell_type": "code",
      "source": [
        "# Apply the UDF\n",
        "for team, keywords in team_keywords.items():\n",
        "    submissions = submissions.withColumn(\n",
        "        team,\n",
        "        keyword_udf(col(\"title\"), array([lit(k) for k in keywords])) | keyword_udf(col(\"selftext\"), array([lit(k) for k in keywords]))\n",
        "    )\n",
        "    comments = comments.withColumn(\n",
        "        team, \n",
        "        keyword_udf(col(\"body\"), array([lit(k) for k in keywords]))\n",
        "    )"
      ],
      "outputs": [
        {
          "output_type": "display_data",
          "data": {
            "application/vnd.livy.statement-meta+json": {
              "spark_pool": "7c27951d-2bdf-4140-be82-d0dc0c0e7d8e",
              "session_id": "51",
              "statement_id": 14,
              "state": "finished",
              "livy_statement_state": "available",
              "queued_time": "2023-11-20T17:21:39.214525Z",
              "session_start_time": null,
              "execution_start_time": "2023-11-20T17:21:39.3434147Z",
              "execution_finish_time": "2023-11-20T17:21:41.5781571Z",
              "spark_jobs": {
                "numbers": {
                  "FAILED": 0,
                  "RUNNING": 0,
                  "UNKNOWN": 0,
                  "SUCCEEDED": 0
                },
                "jobs": [],
                "limit": 20,
                "rule": "ALL_DESC"
              },
              "parent_msg_id": "7d4eec50-4a93-41d9-a003-cb242484ef79"
            },
            "text/plain": "StatementMeta(7c27951d-2bdf-4140-be82-d0dc0c0e7d8e, 51, 14, Finished, Available)"
          },
          "metadata": {}
        }
      ],
      "execution_count": 9,
      "metadata": {
        "jupyter": {
          "source_hidden": false,
          "outputs_hidden": false
        },
        "nteract": {
          "transient": {
            "deleting": false
          }
        },
        "gather": {
          "logged": 1700500901838
        }
      }
    },
    {
      "cell_type": "code",
      "source": [
        "# Check\n",
        "submissions.printSchema"
      ],
      "outputs": [
        {
          "output_type": "display_data",
          "data": {
            "application/vnd.livy.statement-meta+json": {
              "spark_pool": "7c27951d-2bdf-4140-be82-d0dc0c0e7d8e",
              "session_id": "51",
              "statement_id": 15,
              "state": "finished",
              "livy_statement_state": "available",
              "queued_time": "2023-11-20T17:21:53.893697Z",
              "session_start_time": null,
              "execution_start_time": "2023-11-20T17:21:54.01487Z",
              "execution_finish_time": "2023-11-20T17:21:54.3173261Z",
              "spark_jobs": {
                "numbers": {
                  "FAILED": 0,
                  "RUNNING": 0,
                  "UNKNOWN": 0,
                  "SUCCEEDED": 0
                },
                "jobs": [],
                "limit": 20,
                "rule": "ALL_DESC"
              },
              "parent_msg_id": "7a27044e-3824-44ce-92a2-65808bb12bda"
            },
            "text/plain": "StatementMeta(7c27951d-2bdf-4140-be82-d0dc0c0e7d8e, 51, 15, Finished, Available)"
          },
          "metadata": {}
        },
        {
          "output_type": "execute_result",
          "execution_count": 29,
          "data": {
            "text/plain": "<bound method DataFrame.printSchema of DataFrame[subreddit: string, author: string, author_flair_text: string, title: string, selftext: string, created_utc: timestamp, num_comments: bigint, supported_team: string, game_thread: boolean, home_ranking: string, home_team: string, away_ranking: string, away_team: string, game_time: string, ranked_matchup: boolean, day: int, month: int, year: int, clean_text: string, sentiment: string, houston: boolean, kansas: boolean, villanova: boolean, duke: boolean, arkansas: boolean, saint peters: boolean, north carolina: boolean, miami: boolean, purdue: boolean, illinois: boolean]>"
          },
          "metadata": {}
        }
      ],
      "execution_count": 10,
      "metadata": {
        "jupyter": {
          "source_hidden": false,
          "outputs_hidden": false
        },
        "nteract": {
          "transient": {
            "deleting": false
          }
        },
        "gather": {
          "logged": 1700500914482
        }
      }
    },
    {
      "cell_type": "code",
      "source": [
        "from pyspark.sql.functions import sum as sql_sum\n",
        "\n",
        "# Define the function to aggregate counts by sentiment and team\n",
        "def aggregate_counts_by_sentiment_and_team(df):\n",
        "    aggregated_dfs = [df.groupBy(\"sentiment\").agg(sql_sum(col(team).cast(\"int\")).alias(team)) for team in team_keywords.keys()]\n",
        "    return reduce(lambda df1, df2: df1.join(df2, \"sentiment\", \"outer\"), aggregated_dfs)\n",
        "\n",
        "\n",
        "# Aggregate the counts for submissions by sentiment and team\n",
        "submissions_aggregated = aggregate_counts_by_sentiment_and_team(submissions)\n",
        "\n",
        "# Aggregate the counts for comments by sentiment and team\n",
        "comments_aggregated = aggregate_counts_by_sentiment_and_team(comments)"
      ],
      "outputs": [
        {
          "output_type": "display_data",
          "data": {
            "application/vnd.livy.statement-meta+json": {
              "spark_pool": "7c27951d-2bdf-4140-be82-d0dc0c0e7d8e",
              "session_id": "51",
              "statement_id": 20,
              "state": "finished",
              "livy_statement_state": "available",
              "queued_time": "2023-11-20T17:29:09.7540292Z",
              "session_start_time": null,
              "execution_start_time": "2023-11-20T17:29:09.8949786Z",
              "execution_finish_time": "2023-11-20T17:29:12.2884553Z",
              "spark_jobs": {
                "numbers": {
                  "FAILED": 0,
                  "RUNNING": 0,
                  "UNKNOWN": 0,
                  "SUCCEEDED": 0
                },
                "jobs": [],
                "limit": 20,
                "rule": "ALL_DESC"
              },
              "parent_msg_id": "bb4759a6-ea18-4803-8362-ddd3e34c1f14"
            },
            "text/plain": "StatementMeta(7c27951d-2bdf-4140-be82-d0dc0c0e7d8e, 51, 20, Finished, Available)"
          },
          "metadata": {}
        }
      ],
      "execution_count": 15,
      "metadata": {
        "jupyter": {
          "source_hidden": false,
          "outputs_hidden": false
        },
        "nteract": {
          "transient": {
            "deleting": false
          }
        },
        "gather": {
          "logged": 1700501352385
        }
      }
    },
    {
      "cell_type": "code",
      "source": [
        "print(\"Team Mentions and Sentiment Proportion in Submissions\")\n",
        "submissions_aggregated.show()"
      ],
      "outputs": [
        {
          "output_type": "display_data",
          "data": {
            "application/vnd.livy.statement-meta+json": {
              "spark_pool": "7c27951d-2bdf-4140-be82-d0dc0c0e7d8e",
              "session_id": "51",
              "statement_id": 21,
              "state": "finished",
              "livy_statement_state": "available",
              "queued_time": "2023-11-20T17:29:17.9763122Z",
              "session_start_time": null,
              "execution_start_time": "2023-11-20T17:29:18.4112141Z",
              "execution_finish_time": "2023-11-20T17:29:35.8631457Z",
              "spark_jobs": {
                "numbers": {
                  "FAILED": 0,
                  "RUNNING": 0,
                  "UNKNOWN": 0,
                  "SUCCEEDED": 19
                },
                "jobs": [
                  {
                    "displayName": "showString at NativeMethodAccessorImpl.java:0",
                    "dataWritten": 0,
                    "dataRead": 1579,
                    "rowCount": 21,
                    "usageDescription": "",
                    "jobId": 21,
                    "name": "showString at NativeMethodAccessorImpl.java:0",
                    "description": "Job group for statement 21:\nprint(\"Team Mentions and Sentiment Proportion in Submissions\")\nsubmissions_aggregated.show()",
                    "submissionTime": "2023-11-20T17:29:34.823GMT",
                    "completionTime": "2023-11-20T17:29:35.098GMT",
                    "stageIds": [
                      102,
                      96,
                      103,
                      104,
                      111,
                      105,
                      97,
                      106,
                      98,
                      99,
                      100,
                      107,
                      101,
                      93,
                      108,
                      94,
                      109,
                      95,
                      110
                    ],
                    "jobGroup": "21",
                    "status": "SUCCEEDED",
                    "numTasks": 69,
                    "numActiveTasks": 0,
                    "numCompletedTasks": 1,
                    "numSkippedTasks": 68,
                    "numFailedTasks": 0,
                    "numKilledTasks": 0,
                    "numCompletedIndices": 1,
                    "numActiveStages": 0,
                    "numCompletedStages": 1,
                    "numSkippedStages": 18,
                    "numFailedStages": 0,
                    "killedTasksSummary": {}
                  },
                  {
                    "displayName": "showString at NativeMethodAccessorImpl.java:0",
                    "dataWritten": 311,
                    "dataRead": 1575,
                    "rowCount": 24,
                    "usageDescription": "",
                    "jobId": 20,
                    "name": "showString at NativeMethodAccessorImpl.java:0",
                    "description": "Job group for statement 21:\nprint(\"Team Mentions and Sentiment Proportion in Submissions\")\nsubmissions_aggregated.show()",
                    "submissionTime": "2023-11-20T17:29:34.262GMT",
                    "completionTime": "2023-11-20T17:29:34.545GMT",
                    "stageIds": [
                      81,
                      88,
                      82,
                      89,
                      83,
                      90,
                      76,
                      91,
                      77,
                      92,
                      84,
                      78,
                      85,
                      86,
                      87,
                      79,
                      80
                    ],
                    "jobGroup": "21",
                    "status": "SUCCEEDED",
                    "numTasks": 62,
                    "numActiveTasks": 0,
                    "numCompletedTasks": 1,
                    "numSkippedTasks": 61,
                    "numFailedTasks": 0,
                    "numKilledTasks": 0,
                    "numCompletedIndices": 1,
                    "numActiveStages": 0,
                    "numCompletedStages": 1,
                    "numSkippedStages": 16,
                    "numFailedStages": 0,
                    "killedTasksSummary": {}
                  },
                  {
                    "displayName": "showString at NativeMethodAccessorImpl.java:0",
                    "dataWritten": 298,
                    "dataRead": 1563,
                    "rowCount": 24,
                    "usageDescription": "",
                    "jobId": 19,
                    "name": "showString at NativeMethodAccessorImpl.java:0",
                    "description": "Job group for statement 21:\nprint(\"Team Mentions and Sentiment Proportion in Submissions\")\nsubmissions_aggregated.show()",
                    "submissionTime": "2023-11-20T17:29:33.765GMT",
                    "completionTime": "2023-11-20T17:29:33.950GMT",
                    "stageIds": [
                      66,
                      67,
                      74,
                      68,
                      75,
                      69,
                      61,
                      62,
                      63,
                      70,
                      64,
                      71,
                      72,
                      73,
                      65
                    ],
                    "jobGroup": "21",
                    "status": "SUCCEEDED",
                    "numTasks": 55,
                    "numActiveTasks": 0,
                    "numCompletedTasks": 1,
                    "numSkippedTasks": 54,
                    "numFailedTasks": 0,
                    "numKilledTasks": 0,
                    "numCompletedIndices": 1,
                    "numActiveStages": 0,
                    "numCompletedStages": 1,
                    "numSkippedStages": 14,
                    "numFailedStages": 0,
                    "killedTasksSummary": {}
                  },
                  {
                    "displayName": "showString at NativeMethodAccessorImpl.java:0",
                    "dataWritten": 284,
                    "dataRead": 1547,
                    "rowCount": 24,
                    "usageDescription": "",
                    "jobId": 18,
                    "name": "showString at NativeMethodAccessorImpl.java:0",
                    "description": "Job group for statement 21:\nprint(\"Team Mentions and Sentiment Proportion in Submissions\")\nsubmissions_aggregated.show()",
                    "submissionTime": "2023-11-20T17:29:33.231GMT",
                    "completionTime": "2023-11-20T17:29:33.485GMT",
                    "stageIds": [
                      51,
                      48,
                      60,
                      52,
                      49,
                      56,
                      53,
                      50,
                      57,
                      54,
                      58,
                      55,
                      59
                    ],
                    "jobGroup": "21",
                    "status": "SUCCEEDED",
                    "numTasks": 48,
                    "numActiveTasks": 0,
                    "numCompletedTasks": 1,
                    "numSkippedTasks": 47,
                    "numFailedTasks": 0,
                    "numKilledTasks": 0,
                    "numCompletedIndices": 1,
                    "numActiveStages": 0,
                    "numCompletedStages": 1,
                    "numSkippedStages": 12,
                    "numFailedStages": 0,
                    "killedTasksSummary": {}
                  },
                  {
                    "displayName": "showString at NativeMethodAccessorImpl.java:0",
                    "dataWritten": 272,
                    "dataRead": 1525,
                    "rowCount": 24,
                    "usageDescription": "",
                    "jobId": 17,
                    "name": "showString at NativeMethodAccessorImpl.java:0",
                    "description": "Job group for statement 21:\nprint(\"Team Mentions and Sentiment Proportion in Submissions\")\nsubmissions_aggregated.show()",
                    "submissionTime": "2023-11-20T17:29:32.707GMT",
                    "completionTime": "2023-11-20T17:29:32.921GMT",
                    "stageIds": [
                      45,
                      37,
                      46,
                      38,
                      42,
                      39,
                      43,
                      40,
                      47,
                      44,
                      41
                    ],
                    "jobGroup": "21",
                    "status": "SUCCEEDED",
                    "numTasks": 41,
                    "numActiveTasks": 0,
                    "numCompletedTasks": 1,
                    "numSkippedTasks": 40,
                    "numFailedTasks": 0,
                    "numKilledTasks": 0,
                    "numCompletedIndices": 1,
                    "numActiveStages": 0,
                    "numCompletedStages": 1,
                    "numSkippedStages": 10,
                    "numFailedStages": 0,
                    "killedTasksSummary": {}
                  },
                  {
                    "displayName": "showString at NativeMethodAccessorImpl.java:0",
                    "dataWritten": 262,
                    "dataRead": 1521,
                    "rowCount": 24,
                    "usageDescription": "",
                    "jobId": 16,
                    "name": "showString at NativeMethodAccessorImpl.java:0",
                    "description": "Job group for statement 21:\nprint(\"Team Mentions and Sentiment Proportion in Submissions\")\nsubmissions_aggregated.show()",
                    "submissionTime": "2023-11-20T17:29:32.252GMT",
                    "completionTime": "2023-11-20T17:29:32.477GMT",
                    "stageIds": [
                      33,
                      30,
                      34,
                      31,
                      35,
                      32,
                      36,
                      28,
                      29
                    ],
                    "jobGroup": "21",
                    "status": "SUCCEEDED",
                    "numTasks": 34,
                    "numActiveTasks": 0,
                    "numCompletedTasks": 1,
                    "numSkippedTasks": 33,
                    "numFailedTasks": 0,
                    "numKilledTasks": 0,
                    "numCompletedIndices": 1,
                    "numActiveStages": 0,
                    "numCompletedStages": 1,
                    "numSkippedStages": 8,
                    "numFailedStages": 0,
                    "killedTasksSummary": {}
                  },
                  {
                    "displayName": "showString at NativeMethodAccessorImpl.java:0",
                    "dataWritten": 251,
                    "dataRead": 1512,
                    "rowCount": 24,
                    "usageDescription": "",
                    "jobId": 15,
                    "name": "showString at NativeMethodAccessorImpl.java:0",
                    "description": "Job group for statement 21:\nprint(\"Team Mentions and Sentiment Proportion in Submissions\")\nsubmissions_aggregated.show()",
                    "submissionTime": "2023-11-20T17:29:31.787GMT",
                    "completionTime": "2023-11-20T17:29:32.009GMT",
                    "stageIds": [
                      27,
                      24,
                      21,
                      25,
                      22,
                      26,
                      23
                    ],
                    "jobGroup": "21",
                    "status": "SUCCEEDED",
                    "numTasks": 27,
                    "numActiveTasks": 0,
                    "numCompletedTasks": 1,
                    "numSkippedTasks": 26,
                    "numFailedTasks": 0,
                    "numKilledTasks": 0,
                    "numCompletedIndices": 1,
                    "numActiveStages": 0,
                    "numCompletedStages": 1,
                    "numSkippedStages": 6,
                    "numFailedStages": 0,
                    "killedTasksSummary": {}
                  },
                  {
                    "displayName": "showString at NativeMethodAccessorImpl.java:0",
                    "dataWritten": 239,
                    "dataRead": 1501,
                    "rowCount": 24,
                    "usageDescription": "",
                    "jobId": 14,
                    "name": "showString at NativeMethodAccessorImpl.java:0",
                    "description": "Job group for statement 21:\nprint(\"Team Mentions and Sentiment Proportion in Submissions\")\nsubmissions_aggregated.show()",
                    "submissionTime": "2023-11-20T17:29:31.257GMT",
                    "completionTime": "2023-11-20T17:29:31.505GMT",
                    "stageIds": [
                      19,
                      16,
                      20,
                      17,
                      18
                    ],
                    "jobGroup": "21",
                    "status": "SUCCEEDED",
                    "numTasks": 20,
                    "numActiveTasks": 0,
                    "numCompletedTasks": 1,
                    "numSkippedTasks": 19,
                    "numFailedTasks": 0,
                    "numKilledTasks": 0,
                    "numCompletedIndices": 1,
                    "numActiveStages": 0,
                    "numCompletedStages": 1,
                    "numSkippedStages": 4,
                    "numFailedStages": 0,
                    "killedTasksSummary": {}
                  },
                  {
                    "displayName": "showString at NativeMethodAccessorImpl.java:0",
                    "dataWritten": 226,
                    "dataRead": 2546,
                    "rowCount": 39,
                    "usageDescription": "",
                    "jobId": 13,
                    "name": "showString at NativeMethodAccessorImpl.java:0",
                    "description": "Job group for statement 21:\nprint(\"Team Mentions and Sentiment Proportion in Submissions\")\nsubmissions_aggregated.show()",
                    "submissionTime": "2023-11-20T17:29:27.546GMT",
                    "completionTime": "2023-11-20T17:29:31.040GMT",
                    "stageIds": [
                      15,
                      13,
                      14
                    ],
                    "jobGroup": "21",
                    "status": "SUCCEEDED",
                    "numTasks": 13,
                    "numActiveTasks": 0,
                    "numCompletedTasks": 1,
                    "numSkippedTasks": 12,
                    "numFailedTasks": 0,
                    "numKilledTasks": 0,
                    "numCompletedIndices": 1,
                    "numActiveStages": 0,
                    "numCompletedStages": 1,
                    "numSkippedStages": 2,
                    "numFailedStages": 0,
                    "killedTasksSummary": {}
                  },
                  {
                    "displayName": "showString at NativeMethodAccessorImpl.java:0",
                    "dataWritten": 1268,
                    "dataRead": 4253296,
                    "rowCount": 9181,
                    "usageDescription": "",
                    "jobId": 12,
                    "name": "showString at NativeMethodAccessorImpl.java:0",
                    "description": "Job group for statement 21:\nprint(\"Team Mentions and Sentiment Proportion in Submissions\")\nsubmissions_aggregated.show()",
                    "submissionTime": "2023-11-20T17:29:21.823GMT",
                    "completionTime": "2023-11-20T17:29:30.453GMT",
                    "stageIds": [
                      12
                    ],
                    "jobGroup": "21",
                    "status": "SUCCEEDED",
                    "numTasks": 6,
                    "numActiveTasks": 0,
                    "numCompletedTasks": 6,
                    "numSkippedTasks": 0,
                    "numFailedTasks": 0,
                    "numKilledTasks": 0,
                    "numCompletedIndices": 6,
                    "numActiveStages": 0,
                    "numCompletedStages": 1,
                    "numSkippedStages": 0,
                    "numFailedStages": 0,
                    "killedTasksSummary": {}
                  },
                  {
                    "displayName": "showString at NativeMethodAccessorImpl.java:0",
                    "dataWritten": 1277,
                    "dataRead": 4253296,
                    "rowCount": 9181,
                    "usageDescription": "",
                    "jobId": 11,
                    "name": "showString at NativeMethodAccessorImpl.java:0",
                    "description": "Job group for statement 21:\nprint(\"Team Mentions and Sentiment Proportion in Submissions\")\nsubmissions_aggregated.show()",
                    "submissionTime": "2023-11-20T17:29:21.591GMT",
                    "completionTime": "2023-11-20T17:29:30.185GMT",
                    "stageIds": [
                      11
                    ],
                    "jobGroup": "21",
                    "status": "SUCCEEDED",
                    "numTasks": 6,
                    "numActiveTasks": 0,
                    "numCompletedTasks": 6,
                    "numSkippedTasks": 0,
                    "numFailedTasks": 0,
                    "numKilledTasks": 0,
                    "numCompletedIndices": 6,
                    "numActiveStages": 0,
                    "numCompletedStages": 1,
                    "numSkippedStages": 0,
                    "numFailedStages": 0,
                    "killedTasksSummary": {}
                  },
                  {
                    "displayName": "showString at NativeMethodAccessorImpl.java:0",
                    "dataWritten": 1279,
                    "dataRead": 4253296,
                    "rowCount": 9181,
                    "usageDescription": "",
                    "jobId": 10,
                    "name": "showString at NativeMethodAccessorImpl.java:0",
                    "description": "Job group for statement 21:\nprint(\"Team Mentions and Sentiment Proportion in Submissions\")\nsubmissions_aggregated.show()",
                    "submissionTime": "2023-11-20T17:29:21.274GMT",
                    "completionTime": "2023-11-20T17:29:29.780GMT",
                    "stageIds": [
                      10
                    ],
                    "jobGroup": "21",
                    "status": "SUCCEEDED",
                    "numTasks": 6,
                    "numActiveTasks": 0,
                    "numCompletedTasks": 6,
                    "numSkippedTasks": 0,
                    "numFailedTasks": 0,
                    "numKilledTasks": 0,
                    "numCompletedIndices": 6,
                    "numActiveStages": 0,
                    "numCompletedStages": 1,
                    "numSkippedStages": 0,
                    "numFailedStages": 0,
                    "killedTasksSummary": {}
                  },
                  {
                    "displayName": "showString at NativeMethodAccessorImpl.java:0",
                    "dataWritten": 1275,
                    "dataRead": 4253296,
                    "rowCount": 9181,
                    "usageDescription": "",
                    "jobId": 9,
                    "name": "showString at NativeMethodAccessorImpl.java:0",
                    "description": "Job group for statement 21:\nprint(\"Team Mentions and Sentiment Proportion in Submissions\")\nsubmissions_aggregated.show()",
                    "submissionTime": "2023-11-20T17:29:21.031GMT",
                    "completionTime": "2023-11-20T17:29:29.378GMT",
                    "stageIds": [
                      9
                    ],
                    "jobGroup": "21",
                    "status": "SUCCEEDED",
                    "numTasks": 6,
                    "numActiveTasks": 0,
                    "numCompletedTasks": 6,
                    "numSkippedTasks": 0,
                    "numFailedTasks": 0,
                    "numKilledTasks": 0,
                    "numCompletedIndices": 6,
                    "numActiveStages": 0,
                    "numCompletedStages": 1,
                    "numSkippedStages": 0,
                    "numFailedStages": 0,
                    "killedTasksSummary": {}
                  },
                  {
                    "displayName": "showString at NativeMethodAccessorImpl.java:0",
                    "dataWritten": 1263,
                    "dataRead": 4253296,
                    "rowCount": 9181,
                    "usageDescription": "",
                    "jobId": 8,
                    "name": "showString at NativeMethodAccessorImpl.java:0",
                    "description": "Job group for statement 21:\nprint(\"Team Mentions and Sentiment Proportion in Submissions\")\nsubmissions_aggregated.show()",
                    "submissionTime": "2023-11-20T17:29:20.864GMT",
                    "completionTime": "2023-11-20T17:29:28.933GMT",
                    "stageIds": [
                      8
                    ],
                    "jobGroup": "21",
                    "status": "SUCCEEDED",
                    "numTasks": 6,
                    "numActiveTasks": 0,
                    "numCompletedTasks": 6,
                    "numSkippedTasks": 0,
                    "numFailedTasks": 0,
                    "numKilledTasks": 0,
                    "numCompletedIndices": 6,
                    "numActiveStages": 0,
                    "numCompletedStages": 1,
                    "numSkippedStages": 0,
                    "numFailedStages": 0,
                    "killedTasksSummary": {}
                  },
                  {
                    "displayName": "showString at NativeMethodAccessorImpl.java:0",
                    "dataWritten": 1270,
                    "dataRead": 4259598,
                    "rowCount": 9181,
                    "usageDescription": "",
                    "jobId": 7,
                    "name": "showString at NativeMethodAccessorImpl.java:0",
                    "description": "Job group for statement 21:\nprint(\"Team Mentions and Sentiment Proportion in Submissions\")\nsubmissions_aggregated.show()",
                    "submissionTime": "2023-11-20T17:29:20.672GMT",
                    "completionTime": "2023-11-20T17:29:28.551GMT",
                    "stageIds": [
                      7
                    ],
                    "jobGroup": "21",
                    "status": "SUCCEEDED",
                    "numTasks": 6,
                    "numActiveTasks": 0,
                    "numCompletedTasks": 6,
                    "numSkippedTasks": 0,
                    "numFailedTasks": 0,
                    "numKilledTasks": 0,
                    "numCompletedIndices": 6,
                    "numActiveStages": 0,
                    "numCompletedStages": 1,
                    "numSkippedStages": 0,
                    "numFailedStages": 0,
                    "killedTasksSummary": {}
                  },
                  {
                    "displayName": "showString at NativeMethodAccessorImpl.java:0",
                    "dataWritten": 1273,
                    "dataRead": 4253296,
                    "rowCount": 9181,
                    "usageDescription": "",
                    "jobId": 6,
                    "name": "showString at NativeMethodAccessorImpl.java:0",
                    "description": "Job group for statement 21:\nprint(\"Team Mentions and Sentiment Proportion in Submissions\")\nsubmissions_aggregated.show()",
                    "submissionTime": "2023-11-20T17:29:20.487GMT",
                    "completionTime": "2023-11-20T17:29:28.147GMT",
                    "stageIds": [
                      6
                    ],
                    "jobGroup": "21",
                    "status": "SUCCEEDED",
                    "numTasks": 6,
                    "numActiveTasks": 0,
                    "numCompletedTasks": 6,
                    "numSkippedTasks": 0,
                    "numFailedTasks": 0,
                    "numKilledTasks": 0,
                    "numCompletedIndices": 6,
                    "numActiveStages": 0,
                    "numCompletedStages": 1,
                    "numSkippedStages": 0,
                    "numFailedStages": 0,
                    "killedTasksSummary": {}
                  },
                  {
                    "displayName": "showString at NativeMethodAccessorImpl.java:0",
                    "dataWritten": 1275,
                    "dataRead": 4263675,
                    "rowCount": 9181,
                    "usageDescription": "",
                    "jobId": 5,
                    "name": "showString at NativeMethodAccessorImpl.java:0",
                    "description": "Job group for statement 21:\nprint(\"Team Mentions and Sentiment Proportion in Submissions\")\nsubmissions_aggregated.show()",
                    "submissionTime": "2023-11-20T17:29:20.286GMT",
                    "completionTime": "2023-11-20T17:29:27.788GMT",
                    "stageIds": [
                      5
                    ],
                    "jobGroup": "21",
                    "status": "SUCCEEDED",
                    "numTasks": 6,
                    "numActiveTasks": 0,
                    "numCompletedTasks": 6,
                    "numSkippedTasks": 0,
                    "numFailedTasks": 0,
                    "numKilledTasks": 0,
                    "numCompletedIndices": 6,
                    "numActiveStages": 0,
                    "numCompletedStages": 1,
                    "numSkippedStages": 0,
                    "numFailedStages": 0,
                    "killedTasksSummary": {}
                  },
                  {
                    "displayName": "showString at NativeMethodAccessorImpl.java:0",
                    "dataWritten": 1274,
                    "dataRead": 4287969,
                    "rowCount": 9181,
                    "usageDescription": "",
                    "jobId": 4,
                    "name": "showString at NativeMethodAccessorImpl.java:0",
                    "description": "Job group for statement 21:\nprint(\"Team Mentions and Sentiment Proportion in Submissions\")\nsubmissions_aggregated.show()",
                    "submissionTime": "2023-11-20T17:29:20.118GMT",
                    "completionTime": "2023-11-20T17:29:27.001GMT",
                    "stageIds": [
                      4
                    ],
                    "jobGroup": "21",
                    "status": "SUCCEEDED",
                    "numTasks": 6,
                    "numActiveTasks": 0,
                    "numCompletedTasks": 6,
                    "numSkippedTasks": 0,
                    "numFailedTasks": 0,
                    "numKilledTasks": 0,
                    "numCompletedIndices": 6,
                    "numActiveStages": 0,
                    "numCompletedStages": 1,
                    "numSkippedStages": 0,
                    "numFailedStages": 0,
                    "killedTasksSummary": {}
                  },
                  {
                    "displayName": "showString at NativeMethodAccessorImpl.java:0",
                    "dataWritten": 1272,
                    "dataRead": 4297348,
                    "rowCount": 9181,
                    "usageDescription": "",
                    "jobId": 3,
                    "name": "showString at NativeMethodAccessorImpl.java:0",
                    "description": "Job group for statement 21:\nprint(\"Team Mentions and Sentiment Proportion in Submissions\")\nsubmissions_aggregated.show()",
                    "submissionTime": "2023-11-20T17:29:19.832GMT",
                    "completionTime": "2023-11-20T17:29:26.992GMT",
                    "stageIds": [
                      3
                    ],
                    "jobGroup": "21",
                    "status": "SUCCEEDED",
                    "numTasks": 6,
                    "numActiveTasks": 0,
                    "numCompletedTasks": 6,
                    "numSkippedTasks": 0,
                    "numFailedTasks": 0,
                    "numKilledTasks": 0,
                    "numCompletedIndices": 6,
                    "numActiveStages": 0,
                    "numCompletedStages": 1,
                    "numSkippedStages": 0,
                    "numFailedStages": 0,
                    "killedTasksSummary": {}
                  }
                ],
                "limit": 20,
                "rule": "ALL_DESC"
              },
              "parent_msg_id": "b9655786-cbc8-452f-9408-e83077af1336"
            },
            "text/plain": "StatementMeta(7c27951d-2bdf-4140-be82-d0dc0c0e7d8e, 51, 21, Finished, Available)"
          },
          "metadata": {}
        },
        {
          "output_type": "stream",
          "name": "stdout",
          "text": "Team Mentions and Sentiment Proportion in Submissions\n+---------+-------+------+---------+----+--------+------------+--------------+-----+------+--------+\n|sentiment|houston|kansas|villanova|duke|arkansas|saint peters|north carolina|miami|purdue|illinois|\n+---------+-------+------+---------+----+--------+------------+--------------+-----+------+--------+\n| negative|     71|   173|      100|  42|      46|           0|           101|  308|   211|      81|\n|  neutral|      2|    30|       25|   3|       2|           0|             8|   53|    15|       3|\n| positive|    187|   462|      210| 113|     122|           4|           226| 2611|   404|     265|\n+---------+-------+------+---------+----+--------+------------+--------------+-----+------+--------+\n\n"
        }
      ],
      "execution_count": 16,
      "metadata": {
        "jupyter": {
          "source_hidden": false,
          "outputs_hidden": false
        },
        "nteract": {
          "transient": {
            "deleting": false
          }
        },
        "gather": {
          "logged": 1700501376339
        }
      }
    },
    {
      "cell_type": "code",
      "source": [
        "print(\"Team Mentions and Sentiment Proportion in Comments\")\n",
        "comments_aggregated.show()"
      ],
      "outputs": [
        {
          "output_type": "display_data",
          "data": {
            "application/vnd.livy.statement-meta+json": {
              "spark_pool": "7c27951d-2bdf-4140-be82-d0dc0c0e7d8e",
              "session_id": "51",
              "statement_id": 25,
              "state": "finished",
              "livy_statement_state": "available",
              "queued_time": "2023-11-20T17:35:12.2455666Z",
              "session_start_time": null,
              "execution_start_time": "2023-11-20T17:35:12.3641989Z",
              "execution_finish_time": "2023-11-20T17:35:37.7528385Z",
              "spark_jobs": {
                "numbers": {
                  "FAILED": 0,
                  "RUNNING": 0,
                  "UNKNOWN": 0,
                  "SUCCEEDED": 19
                },
                "jobs": [
                  {
                    "displayName": "showString at NativeMethodAccessorImpl.java:0",
                    "dataWritten": 0,
                    "dataRead": 2250,
                    "rowCount": 30,
                    "usageDescription": "",
                    "jobId": 46,
                    "name": "showString at NativeMethodAccessorImpl.java:0",
                    "description": "Job group for statement 25:\nprint(\"Team Mentions and Sentiment Proportion in Comments\")\ncomments_aggregated.show()",
                    "submissionTime": "2023-11-20T17:35:36.856GMT",
                    "completionTime": "2023-11-20T17:35:37.018GMT",
                    "stageIds": [
                      212,
                      219,
                      220,
                      227,
                      221,
                      213,
                      228,
                      214,
                      229,
                      215,
                      222,
                      216,
                      223,
                      224,
                      225,
                      217,
                      211,
                      226,
                      218
                    ],
                    "jobGroup": "25",
                    "status": "SUCCEEDED",
                    "numTasks": 99,
                    "numActiveTasks": 0,
                    "numCompletedTasks": 1,
                    "numSkippedTasks": 98,
                    "numFailedTasks": 0,
                    "numKilledTasks": 0,
                    "numCompletedIndices": 1,
                    "numActiveStages": 0,
                    "numCompletedStages": 1,
                    "numSkippedStages": 18,
                    "numFailedStages": 0,
                    "killedTasksSummary": {}
                  },
                  {
                    "displayName": "showString at NativeMethodAccessorImpl.java:0",
                    "dataWritten": 336,
                    "dataRead": 2256,
                    "rowCount": 33,
                    "usageDescription": "",
                    "jobId": 45,
                    "name": "showString at NativeMethodAccessorImpl.java:0",
                    "description": "Job group for statement 25:\nprint(\"Team Mentions and Sentiment Proportion in Comments\")\ncomments_aggregated.show()",
                    "submissionTime": "2023-11-20T17:35:36.596GMT",
                    "completionTime": "2023-11-20T17:35:36.780GMT",
                    "stageIds": [
                      197,
                      204,
                      198,
                      205,
                      206,
                      207,
                      199,
                      200,
                      201,
                      208,
                      202,
                      194,
                      209,
                      203,
                      195,
                      210,
                      196
                    ],
                    "jobGroup": "25",
                    "status": "SUCCEEDED",
                    "numTasks": 89,
                    "numActiveTasks": 0,
                    "numCompletedTasks": 1,
                    "numSkippedTasks": 88,
                    "numFailedTasks": 0,
                    "numKilledTasks": 0,
                    "numCompletedIndices": 1,
                    "numActiveStages": 0,
                    "numCompletedStages": 1,
                    "numSkippedStages": 16,
                    "numFailedStages": 0,
                    "killedTasksSummary": {}
                  },
                  {
                    "displayName": "showString at NativeMethodAccessorImpl.java:0",
                    "dataWritten": 319,
                    "dataRead": 2244,
                    "rowCount": 33,
                    "usageDescription": "",
                    "jobId": 44,
                    "name": "showString at NativeMethodAccessorImpl.java:0",
                    "description": "Job group for statement 25:\nprint(\"Team Mentions and Sentiment Proportion in Comments\")\ncomments_aggregated.show()",
                    "submissionTime": "2023-11-20T17:35:36.377GMT",
                    "completionTime": "2023-11-20T17:35:36.533GMT",
                    "stageIds": [
                      183,
                      190,
                      184,
                      191,
                      192,
                      193,
                      185,
                      179,
                      186,
                      180,
                      187,
                      188,
                      189,
                      181,
                      182
                    ],
                    "jobGroup": "25",
                    "status": "SUCCEEDED",
                    "numTasks": 79,
                    "numActiveTasks": 0,
                    "numCompletedTasks": 1,
                    "numSkippedTasks": 78,
                    "numFailedTasks": 0,
                    "numKilledTasks": 0,
                    "numCompletedIndices": 1,
                    "numActiveStages": 0,
                    "numCompletedStages": 1,
                    "numSkippedStages": 14,
                    "numFailedStages": 0,
                    "killedTasksSummary": {}
                  },
                  {
                    "displayName": "showString at NativeMethodAccessorImpl.java:0",
                    "dataWritten": 304,
                    "dataRead": 2221,
                    "rowCount": 33,
                    "usageDescription": "",
                    "jobId": 43,
                    "name": "showString at NativeMethodAccessorImpl.java:0",
                    "description": "Job group for statement 25:\nprint(\"Team Mentions and Sentiment Proportion in Comments\")\ncomments_aggregated.show()",
                    "submissionTime": "2023-11-20T17:35:36.135GMT",
                    "completionTime": "2023-11-20T17:35:36.288GMT",
                    "stageIds": [
                      171,
                      168,
                      172,
                      169,
                      166,
                      176,
                      173,
                      170,
                      177,
                      174,
                      178,
                      175,
                      167
                    ],
                    "jobGroup": "25",
                    "status": "SUCCEEDED",
                    "numTasks": 69,
                    "numActiveTasks": 0,
                    "numCompletedTasks": 1,
                    "numSkippedTasks": 68,
                    "numFailedTasks": 0,
                    "numKilledTasks": 0,
                    "numCompletedIndices": 1,
                    "numActiveStages": 0,
                    "numCompletedStages": 1,
                    "numSkippedStages": 12,
                    "numFailedStages": 0,
                    "killedTasksSummary": {}
                  },
                  {
                    "displayName": "showString at NativeMethodAccessorImpl.java:0",
                    "dataWritten": 289,
                    "dataRead": 2188,
                    "rowCount": 33,
                    "usageDescription": "",
                    "jobId": 42,
                    "name": "showString at NativeMethodAccessorImpl.java:0",
                    "description": "Job group for statement 25:\nprint(\"Team Mentions and Sentiment Proportion in Comments\")\ncomments_aggregated.show()",
                    "submissionTime": "2023-11-20T17:35:35.797GMT",
                    "completionTime": "2023-11-20T17:35:35.953GMT",
                    "stageIds": [
                      161,
                      165,
                      157,
                      158,
                      155,
                      162,
                      159,
                      156,
                      163,
                      160,
                      164
                    ],
                    "jobGroup": "25",
                    "status": "SUCCEEDED",
                    "numTasks": 59,
                    "numActiveTasks": 0,
                    "numCompletedTasks": 1,
                    "numSkippedTasks": 58,
                    "numFailedTasks": 0,
                    "numKilledTasks": 0,
                    "numCompletedIndices": 1,
                    "numActiveStages": 0,
                    "numCompletedStages": 1,
                    "numSkippedStages": 10,
                    "numFailedStages": 0,
                    "killedTasksSummary": {}
                  },
                  {
                    "displayName": "showString at NativeMethodAccessorImpl.java:0",
                    "dataWritten": 275,
                    "dataRead": 2175,
                    "rowCount": 33,
                    "usageDescription": "",
                    "jobId": 41,
                    "name": "showString at NativeMethodAccessorImpl.java:0",
                    "description": "Job group for statement 25:\nprint(\"Team Mentions and Sentiment Proportion in Comments\")\ncomments_aggregated.show()",
                    "submissionTime": "2023-11-20T17:35:35.554GMT",
                    "completionTime": "2023-11-20T17:35:35.700GMT",
                    "stageIds": [
                      153,
                      150,
                      147,
                      154,
                      151,
                      152,
                      148,
                      149,
                      146
                    ],
                    "jobGroup": "25",
                    "status": "SUCCEEDED",
                    "numTasks": 49,
                    "numActiveTasks": 0,
                    "numCompletedTasks": 1,
                    "numSkippedTasks": 48,
                    "numFailedTasks": 0,
                    "numKilledTasks": 0,
                    "numCompletedIndices": 1,
                    "numActiveStages": 0,
                    "numCompletedStages": 1,
                    "numSkippedStages": 8,
                    "numFailedStages": 0,
                    "killedTasksSummary": {}
                  },
                  {
                    "displayName": "showString at NativeMethodAccessorImpl.java:0",
                    "dataWritten": 261,
                    "dataRead": 2161,
                    "rowCount": 33,
                    "usageDescription": "",
                    "jobId": 40,
                    "name": "showString at NativeMethodAccessorImpl.java:0",
                    "description": "Job group for statement 25:\nprint(\"Team Mentions and Sentiment Proportion in Comments\")\ncomments_aggregated.show()",
                    "submissionTime": "2023-11-20T17:35:35.290GMT",
                    "completionTime": "2023-11-20T17:35:35.472GMT",
                    "stageIds": [
                      143,
                      139,
                      140,
                      144,
                      141,
                      145,
                      142
                    ],
                    "jobGroup": "25",
                    "status": "SUCCEEDED",
                    "numTasks": 39,
                    "numActiveTasks": 0,
                    "numCompletedTasks": 1,
                    "numSkippedTasks": 38,
                    "numFailedTasks": 0,
                    "numKilledTasks": 0,
                    "numCompletedIndices": 1,
                    "numActiveStages": 0,
                    "numCompletedStages": 1,
                    "numSkippedStages": 6,
                    "numFailedStages": 0,
                    "killedTasksSummary": {}
                  },
                  {
                    "displayName": "showString at NativeMethodAccessorImpl.java:0",
                    "dataWritten": 245,
                    "dataRead": 2158,
                    "rowCount": 33,
                    "usageDescription": "",
                    "jobId": 39,
                    "name": "showString at NativeMethodAccessorImpl.java:0",
                    "description": "Job group for statement 25:\nprint(\"Team Mentions and Sentiment Proportion in Comments\")\ncomments_aggregated.show()",
                    "submissionTime": "2023-11-20T17:35:34.907GMT",
                    "completionTime": "2023-11-20T17:35:35.159GMT",
                    "stageIds": [
                      135,
                      136,
                      137,
                      138,
                      134
                    ],
                    "jobGroup": "25",
                    "status": "SUCCEEDED",
                    "numTasks": 29,
                    "numActiveTasks": 0,
                    "numCompletedTasks": 1,
                    "numSkippedTasks": 28,
                    "numFailedTasks": 0,
                    "numKilledTasks": 0,
                    "numCompletedIndices": 1,
                    "numActiveStages": 0,
                    "numCompletedStages": 1,
                    "numSkippedStages": 4,
                    "numFailedStages": 0,
                    "killedTasksSummary": {}
                  },
                  {
                    "displayName": "showString at NativeMethodAccessorImpl.java:0",
                    "dataWritten": 230,
                    "dataRead": 3846,
                    "rowCount": 57,
                    "usageDescription": "",
                    "jobId": 38,
                    "name": "showString at NativeMethodAccessorImpl.java:0",
                    "description": "Job group for statement 25:\nprint(\"Team Mentions and Sentiment Proportion in Comments\")\ncomments_aggregated.show()",
                    "submissionTime": "2023-11-20T17:35:18.589GMT",
                    "completionTime": "2023-11-20T17:35:34.763GMT",
                    "stageIds": [
                      132,
                      133,
                      131
                    ],
                    "jobGroup": "25",
                    "status": "SUCCEEDED",
                    "numTasks": 19,
                    "numActiveTasks": 0,
                    "numCompletedTasks": 1,
                    "numSkippedTasks": 18,
                    "numFailedTasks": 0,
                    "numKilledTasks": 0,
                    "numCompletedIndices": 1,
                    "numActiveStages": 0,
                    "numCompletedStages": 1,
                    "numSkippedStages": 2,
                    "numFailedStages": 0,
                    "killedTasksSummary": {}
                  },
                  {
                    "displayName": "showString at NativeMethodAccessorImpl.java:0",
                    "dataWritten": 1914,
                    "dataRead": 80719460,
                    "rowCount": 869831,
                    "usageDescription": "",
                    "jobId": 37,
                    "name": "showString at NativeMethodAccessorImpl.java:0",
                    "description": "Job group for statement 25:\nprint(\"Team Mentions and Sentiment Proportion in Comments\")\ncomments_aggregated.show()",
                    "submissionTime": "2023-11-20T17:35:14.263GMT",
                    "completionTime": "2023-11-20T17:35:34.904GMT",
                    "stageIds": [
                      130
                    ],
                    "jobGroup": "25",
                    "status": "SUCCEEDED",
                    "numTasks": 9,
                    "numActiveTasks": 0,
                    "numCompletedTasks": 9,
                    "numSkippedTasks": 0,
                    "numFailedTasks": 0,
                    "numKilledTasks": 0,
                    "numCompletedIndices": 9,
                    "numActiveStages": 0,
                    "numCompletedStages": 1,
                    "numSkippedStages": 0,
                    "numFailedStages": 0,
                    "killedTasksSummary": {}
                  },
                  {
                    "displayName": "showString at NativeMethodAccessorImpl.java:0",
                    "dataWritten": 1937,
                    "dataRead": 80719460,
                    "rowCount": 869831,
                    "usageDescription": "",
                    "jobId": 36,
                    "name": "showString at NativeMethodAccessorImpl.java:0",
                    "description": "Job group for statement 25:\nprint(\"Team Mentions and Sentiment Proportion in Comments\")\ncomments_aggregated.show()",
                    "submissionTime": "2023-11-20T17:35:14.179GMT",
                    "completionTime": "2023-11-20T17:35:33.097GMT",
                    "stageIds": [
                      129
                    ],
                    "jobGroup": "25",
                    "status": "SUCCEEDED",
                    "numTasks": 9,
                    "numActiveTasks": 0,
                    "numCompletedTasks": 9,
                    "numSkippedTasks": 0,
                    "numFailedTasks": 0,
                    "numKilledTasks": 0,
                    "numCompletedIndices": 9,
                    "numActiveStages": 0,
                    "numCompletedStages": 1,
                    "numSkippedStages": 0,
                    "numFailedStages": 0,
                    "killedTasksSummary": {}
                  },
                  {
                    "displayName": "showString at NativeMethodAccessorImpl.java:0",
                    "dataWritten": 1940,
                    "dataRead": 80719460,
                    "rowCount": 869831,
                    "usageDescription": "",
                    "jobId": 35,
                    "name": "showString at NativeMethodAccessorImpl.java:0",
                    "description": "Job group for statement 25:\nprint(\"Team Mentions and Sentiment Proportion in Comments\")\ncomments_aggregated.show()",
                    "submissionTime": "2023-11-20T17:35:14.059GMT",
                    "completionTime": "2023-11-20T17:35:30.809GMT",
                    "stageIds": [
                      128
                    ],
                    "jobGroup": "25",
                    "status": "SUCCEEDED",
                    "numTasks": 9,
                    "numActiveTasks": 0,
                    "numCompletedTasks": 9,
                    "numSkippedTasks": 0,
                    "numFailedTasks": 0,
                    "numKilledTasks": 0,
                    "numCompletedIndices": 9,
                    "numActiveStages": 0,
                    "numCompletedStages": 1,
                    "numSkippedStages": 0,
                    "numFailedStages": 0,
                    "killedTasksSummary": {}
                  },
                  {
                    "displayName": "showString at NativeMethodAccessorImpl.java:0",
                    "dataWritten": 1932,
                    "dataRead": 80719460,
                    "rowCount": 869831,
                    "usageDescription": "",
                    "jobId": 34,
                    "name": "showString at NativeMethodAccessorImpl.java:0",
                    "description": "Job group for statement 25:\nprint(\"Team Mentions and Sentiment Proportion in Comments\")\ncomments_aggregated.show()",
                    "submissionTime": "2023-11-20T17:35:13.922GMT",
                    "completionTime": "2023-11-20T17:35:28.938GMT",
                    "stageIds": [
                      127
                    ],
                    "jobGroup": "25",
                    "status": "SUCCEEDED",
                    "numTasks": 9,
                    "numActiveTasks": 0,
                    "numCompletedTasks": 9,
                    "numSkippedTasks": 0,
                    "numFailedTasks": 0,
                    "numKilledTasks": 0,
                    "numCompletedIndices": 9,
                    "numActiveStages": 0,
                    "numCompletedStages": 1,
                    "numSkippedStages": 0,
                    "numFailedStages": 0,
                    "killedTasksSummary": {}
                  },
                  {
                    "displayName": "showString at NativeMethodAccessorImpl.java:0",
                    "dataWritten": 1913,
                    "dataRead": 80719460,
                    "rowCount": 869831,
                    "usageDescription": "",
                    "jobId": 33,
                    "name": "showString at NativeMethodAccessorImpl.java:0",
                    "description": "Job group for statement 25:\nprint(\"Team Mentions and Sentiment Proportion in Comments\")\ncomments_aggregated.show()",
                    "submissionTime": "2023-11-20T17:35:13.660GMT",
                    "completionTime": "2023-11-20T17:35:27.916GMT",
                    "stageIds": [
                      126
                    ],
                    "jobGroup": "25",
                    "status": "SUCCEEDED",
                    "numTasks": 9,
                    "numActiveTasks": 0,
                    "numCompletedTasks": 9,
                    "numSkippedTasks": 0,
                    "numFailedTasks": 0,
                    "numKilledTasks": 0,
                    "numCompletedIndices": 9,
                    "numActiveStages": 0,
                    "numCompletedStages": 1,
                    "numSkippedStages": 0,
                    "numFailedStages": 0,
                    "killedTasksSummary": {}
                  },
                  {
                    "displayName": "showString at NativeMethodAccessorImpl.java:0",
                    "dataWritten": 1914,
                    "dataRead": 80719460,
                    "rowCount": 869831,
                    "usageDescription": "",
                    "jobId": 32,
                    "name": "showString at NativeMethodAccessorImpl.java:0",
                    "description": "Job group for statement 25:\nprint(\"Team Mentions and Sentiment Proportion in Comments\")\ncomments_aggregated.show()",
                    "submissionTime": "2023-11-20T17:35:13.503GMT",
                    "completionTime": "2023-11-20T17:35:24.608GMT",
                    "stageIds": [
                      125
                    ],
                    "jobGroup": "25",
                    "status": "SUCCEEDED",
                    "numTasks": 9,
                    "numActiveTasks": 0,
                    "numCompletedTasks": 9,
                    "numSkippedTasks": 0,
                    "numFailedTasks": 0,
                    "numKilledTasks": 0,
                    "numCompletedIndices": 9,
                    "numActiveStages": 0,
                    "numCompletedStages": 1,
                    "numSkippedStages": 0,
                    "numFailedStages": 0,
                    "killedTasksSummary": {}
                  },
                  {
                    "displayName": "showString at NativeMethodAccessorImpl.java:0",
                    "dataWritten": 1916,
                    "dataRead": 80719460,
                    "rowCount": 869831,
                    "usageDescription": "",
                    "jobId": 31,
                    "name": "showString at NativeMethodAccessorImpl.java:0",
                    "description": "Job group for statement 25:\nprint(\"Team Mentions and Sentiment Proportion in Comments\")\ncomments_aggregated.show()",
                    "submissionTime": "2023-11-20T17:35:13.358GMT",
                    "completionTime": "2023-11-20T17:35:22.703GMT",
                    "stageIds": [
                      124
                    ],
                    "jobGroup": "25",
                    "status": "SUCCEEDED",
                    "numTasks": 9,
                    "numActiveTasks": 0,
                    "numCompletedTasks": 9,
                    "numSkippedTasks": 0,
                    "numFailedTasks": 0,
                    "numKilledTasks": 0,
                    "numCompletedIndices": 9,
                    "numActiveStages": 0,
                    "numCompletedStages": 1,
                    "numSkippedStages": 0,
                    "numFailedStages": 0,
                    "killedTasksSummary": {}
                  },
                  {
                    "displayName": "showString at NativeMethodAccessorImpl.java:0",
                    "dataWritten": 1928,
                    "dataRead": 80719460,
                    "rowCount": 869831,
                    "usageDescription": "",
                    "jobId": 30,
                    "name": "showString at NativeMethodAccessorImpl.java:0",
                    "description": "Job group for statement 25:\nprint(\"Team Mentions and Sentiment Proportion in Comments\")\ncomments_aggregated.show()",
                    "submissionTime": "2023-11-20T17:35:13.135GMT",
                    "completionTime": "2023-11-20T17:35:20.568GMT",
                    "stageIds": [
                      123
                    ],
                    "jobGroup": "25",
                    "status": "SUCCEEDED",
                    "numTasks": 9,
                    "numActiveTasks": 0,
                    "numCompletedTasks": 9,
                    "numSkippedTasks": 0,
                    "numFailedTasks": 0,
                    "numKilledTasks": 0,
                    "numCompletedIndices": 9,
                    "numActiveStages": 0,
                    "numCompletedStages": 1,
                    "numSkippedStages": 0,
                    "numFailedStages": 0,
                    "killedTasksSummary": {}
                  },
                  {
                    "displayName": "showString at NativeMethodAccessorImpl.java:0",
                    "dataWritten": 1926,
                    "dataRead": 80719460,
                    "rowCount": 869831,
                    "usageDescription": "",
                    "jobId": 29,
                    "name": "showString at NativeMethodAccessorImpl.java:0",
                    "description": "Job group for statement 25:\nprint(\"Team Mentions and Sentiment Proportion in Comments\")\ncomments_aggregated.show()",
                    "submissionTime": "2023-11-20T17:35:13.005GMT",
                    "completionTime": "2023-11-20T17:35:18.481GMT",
                    "stageIds": [
                      122
                    ],
                    "jobGroup": "25",
                    "status": "SUCCEEDED",
                    "numTasks": 9,
                    "numActiveTasks": 0,
                    "numCompletedTasks": 9,
                    "numSkippedTasks": 0,
                    "numFailedTasks": 0,
                    "numKilledTasks": 0,
                    "numCompletedIndices": 9,
                    "numActiveStages": 0,
                    "numCompletedStages": 1,
                    "numSkippedStages": 0,
                    "numFailedStages": 0,
                    "killedTasksSummary": {}
                  },
                  {
                    "displayName": "showString at NativeMethodAccessorImpl.java:0",
                    "dataWritten": 1920,
                    "dataRead": 80750131,
                    "rowCount": 869831,
                    "usageDescription": "",
                    "jobId": 28,
                    "name": "showString at NativeMethodAccessorImpl.java:0",
                    "description": "Job group for statement 25:\nprint(\"Team Mentions and Sentiment Proportion in Comments\")\ncomments_aggregated.show()",
                    "submissionTime": "2023-11-20T17:35:12.855GMT",
                    "completionTime": "2023-11-20T17:35:16.505GMT",
                    "stageIds": [
                      121
                    ],
                    "jobGroup": "25",
                    "status": "SUCCEEDED",
                    "numTasks": 9,
                    "numActiveTasks": 0,
                    "numCompletedTasks": 9,
                    "numSkippedTasks": 0,
                    "numFailedTasks": 0,
                    "numKilledTasks": 0,
                    "numCompletedIndices": 9,
                    "numActiveStages": 0,
                    "numCompletedStages": 1,
                    "numSkippedStages": 0,
                    "numFailedStages": 0,
                    "killedTasksSummary": {}
                  }
                ],
                "limit": 20,
                "rule": "ALL_DESC"
              },
              "parent_msg_id": "5fbbc703-b6c2-408c-ada6-c83ce806ef06"
            },
            "text/plain": "StatementMeta(7c27951d-2bdf-4140-be82-d0dc0c0e7d8e, 51, 25, Finished, Available)"
          },
          "metadata": {}
        },
        {
          "output_type": "stream",
          "name": "stdout",
          "text": "Team Mentions and Sentiment Proportion in Comments\n+---------+-------+------+---------+----+--------+------------+--------------+-----+------+--------+\n|sentiment|houston|kansas|villanova|duke|arkansas|saint peters|north carolina|miami|purdue|illinois|\n+---------+-------+------+---------+----+--------+------------+--------------+-----+------+--------+\n| negative|   1347|  3612|     2233|1111|     237|         359|          6283|19138| 15274|     253|\n|  neutral|    190|   494|      307| 158|      41|          39|           849| 2428|  1908|      29|\n| positive|   2518|  5109|     3573|1865|     462|         786|         11905|31182| 25010|     361|\n+---------+-------+------+---------+----+--------+------------+--------------+-----+------+--------+\n\n"
        }
      ],
      "execution_count": 20,
      "metadata": {
        "jupyter": {
          "source_hidden": false,
          "outputs_hidden": false
        },
        "nteract": {
          "transient": {
            "deleting": false
          }
        },
        "gather": {
          "logged": 1700501738017
        }
      }
    },
    {
      "cell_type": "code",
      "source": [
        "type(submissions_aggregated)"
      ],
      "outputs": [
        {
          "output_type": "display_data",
          "data": {
            "application/vnd.livy.statement-meta+json": {
              "spark_pool": "7c27951d-2bdf-4140-be82-d0dc0c0e7d8e",
              "session_id": "51",
              "statement_id": 26,
              "state": "finished",
              "livy_statement_state": "available",
              "queued_time": "2023-11-20T17:37:10.0122277Z",
              "session_start_time": null,
              "execution_start_time": "2023-11-20T17:37:10.1287989Z",
              "execution_finish_time": "2023-11-20T17:37:10.453408Z",
              "spark_jobs": {
                "numbers": {
                  "FAILED": 0,
                  "RUNNING": 0,
                  "UNKNOWN": 0,
                  "SUCCEEDED": 0
                },
                "jobs": [],
                "limit": 20,
                "rule": "ALL_DESC"
              },
              "parent_msg_id": "e959c6c0-7544-46ed-b984-e5e6721191bb"
            },
            "text/plain": "StatementMeta(7c27951d-2bdf-4140-be82-d0dc0c0e7d8e, 51, 26, Finished, Available)"
          },
          "metadata": {}
        },
        {
          "output_type": "execute_result",
          "execution_count": 51,
          "data": {
            "text/plain": "pyspark.sql.dataframe.DataFrame"
          },
          "metadata": {}
        }
      ],
      "execution_count": 21,
      "metadata": {
        "jupyter": {
          "source_hidden": false,
          "outputs_hidden": false
        },
        "nteract": {
          "transient": {
            "deleting": false
          }
        },
        "gather": {
          "logged": 1700501830791
        }
      }
    },
    {
      "cell_type": "code",
      "source": [
        "# Convert the Spark DataFrame to a Pandas DataFrame\n",
        "submissions_aggregated_pd = submissions_aggregated.toPandas()\n",
        "comments_aggregated_pd = comments_aggregated.toPandas()"
      ],
      "outputs": [
        {
          "output_type": "display_data",
          "data": {
            "application/vnd.livy.statement-meta+json": {
              "spark_pool": "7c27951d-2bdf-4140-be82-d0dc0c0e7d8e",
              "session_id": "51",
              "statement_id": 28,
              "state": "finished",
              "livy_statement_state": "available",
              "queued_time": "2023-11-20T17:37:39.8210623Z",
              "session_start_time": null,
              "execution_start_time": "2023-11-20T17:37:39.9220155Z",
              "execution_finish_time": "2023-11-20T17:38:07.8432497Z",
              "spark_jobs": {
                "numbers": {
                  "FAILED": 0,
                  "RUNNING": 0,
                  "UNKNOWN": 0,
                  "SUCCEEDED": 38
                },
                "jobs": [
                  {
                    "displayName": "toPandas at /tmp/ipykernel_8085/249865643.py:3",
                    "dataWritten": 0,
                    "dataRead": 2250,
                    "rowCount": 30,
                    "usageDescription": "",
                    "jobId": 86,
                    "name": "toPandas at /tmp/ipykernel_8085/249865643.py:3",
                    "description": "Job group for statement 28:\n# Convert the Spark DataFrame to a Pandas DataFrame\nsubmissions_aggregated_pd = submissions_aggregated.toPandas()\ncomments_aggregated_pd = comments_aggregated.toPandas()",
                    "submissionTime": "2023-11-20T17:38:05.551GMT",
                    "completionTime": "2023-11-20T17:38:05.650GMT",
                    "stageIds": [
                      437,
                      444,
                      438,
                      445,
                      446,
                      432,
                      447,
                      439,
                      433,
                      440,
                      441,
                      448,
                      442,
                      434,
                      449,
                      443,
                      435,
                      450,
                      436
                    ],
                    "jobGroup": "28",
                    "status": "SUCCEEDED",
                    "numTasks": 99,
                    "numActiveTasks": 0,
                    "numCompletedTasks": 1,
                    "numSkippedTasks": 98,
                    "numFailedTasks": 0,
                    "numKilledTasks": 0,
                    "numCompletedIndices": 1,
                    "numActiveStages": 0,
                    "numCompletedStages": 1,
                    "numSkippedStages": 18,
                    "numFailedStages": 0,
                    "killedTasksSummary": {}
                  },
                  {
                    "displayName": "toPandas at /tmp/ipykernel_8085/249865643.py:3",
                    "dataWritten": 336,
                    "dataRead": 2256,
                    "rowCount": 33,
                    "usageDescription": "",
                    "jobId": 85,
                    "name": "toPandas at /tmp/ipykernel_8085/249865643.py:3",
                    "description": "Job group for statement 28:\n# Convert the Spark DataFrame to a Pandas DataFrame\nsubmissions_aggregated_pd = submissions_aggregated.toPandas()\ncomments_aggregated_pd = comments_aggregated.toPandas()",
                    "submissionTime": "2023-11-20T17:38:05.379GMT",
                    "completionTime": "2023-11-20T17:38:05.479GMT",
                    "stageIds": [
                      422,
                      423,
                      430,
                      424,
                      416,
                      431,
                      417,
                      418,
                      425,
                      419,
                      426,
                      420,
                      427,
                      428,
                      429,
                      421,
                      415
                    ],
                    "jobGroup": "28",
                    "status": "SUCCEEDED",
                    "numTasks": 89,
                    "numActiveTasks": 0,
                    "numCompletedTasks": 1,
                    "numSkippedTasks": 88,
                    "numFailedTasks": 0,
                    "numKilledTasks": 0,
                    "numCompletedIndices": 1,
                    "numActiveStages": 0,
                    "numCompletedStages": 1,
                    "numSkippedStages": 16,
                    "numFailedStages": 0,
                    "killedTasksSummary": {}
                  },
                  {
                    "displayName": "toPandas at /tmp/ipykernel_8085/249865643.py:3",
                    "dataWritten": 319,
                    "dataRead": 2244,
                    "rowCount": 33,
                    "usageDescription": "",
                    "jobId": 84,
                    "name": "toPandas at /tmp/ipykernel_8085/249865643.py:3",
                    "description": "Job group for statement 28:\n# Convert the Spark DataFrame to a Pandas DataFrame\nsubmissions_aggregated_pd = submissions_aggregated.toPandas()\ncomments_aggregated_pd = comments_aggregated.toPandas()",
                    "submissionTime": "2023-11-20T17:38:05.185GMT",
                    "completionTime": "2023-11-20T17:38:05.283GMT",
                    "stageIds": [
                      407,
                      401,
                      408,
                      409,
                      410,
                      402,
                      403,
                      404,
                      411,
                      405,
                      412,
                      406,
                      413,
                      414,
                      400
                    ],
                    "jobGroup": "28",
                    "status": "SUCCEEDED",
                    "numTasks": 79,
                    "numActiveTasks": 0,
                    "numCompletedTasks": 1,
                    "numSkippedTasks": 78,
                    "numFailedTasks": 0,
                    "numKilledTasks": 0,
                    "numCompletedIndices": 1,
                    "numActiveStages": 0,
                    "numCompletedStages": 1,
                    "numSkippedStages": 14,
                    "numFailedStages": 0,
                    "killedTasksSummary": {}
                  },
                  {
                    "displayName": "toPandas at /tmp/ipykernel_8085/249865643.py:3",
                    "dataWritten": 304,
                    "dataRead": 2221,
                    "rowCount": 33,
                    "usageDescription": "",
                    "jobId": 83,
                    "name": "toPandas at /tmp/ipykernel_8085/249865643.py:3",
                    "description": "Job group for statement 28:\n# Convert the Spark DataFrame to a Pandas DataFrame\nsubmissions_aggregated_pd = submissions_aggregated.toPandas()\ncomments_aggregated_pd = comments_aggregated.toPandas()",
                    "submissionTime": "2023-11-20T17:38:04.971GMT",
                    "completionTime": "2023-11-20T17:38:05.036GMT",
                    "stageIds": [
                      389,
                      393,
                      390,
                      387,
                      397,
                      394,
                      391,
                      398,
                      395,
                      392,
                      399,
                      396,
                      388
                    ],
                    "jobGroup": "28",
                    "status": "SUCCEEDED",
                    "numTasks": 69,
                    "numActiveTasks": 0,
                    "numCompletedTasks": 1,
                    "numSkippedTasks": 68,
                    "numFailedTasks": 0,
                    "numKilledTasks": 0,
                    "numCompletedIndices": 1,
                    "numActiveStages": 0,
                    "numCompletedStages": 1,
                    "numSkippedStages": 12,
                    "numFailedStages": 0,
                    "killedTasksSummary": {}
                  },
                  {
                    "displayName": "toPandas at /tmp/ipykernel_8085/249865643.py:3",
                    "dataWritten": 289,
                    "dataRead": 2188,
                    "rowCount": 33,
                    "usageDescription": "",
                    "jobId": 82,
                    "name": "toPandas at /tmp/ipykernel_8085/249865643.py:3",
                    "description": "Job group for statement 28:\n# Convert the Spark DataFrame to a Pandas DataFrame\nsubmissions_aggregated_pd = submissions_aggregated.toPandas()\ncomments_aggregated_pd = comments_aggregated.toPandas()",
                    "submissionTime": "2023-11-20T17:38:04.707GMT",
                    "completionTime": "2023-11-20T17:38:04.792GMT",
                    "stageIds": [
                      386,
                      383,
                      379,
                      376,
                      380,
                      377,
                      384,
                      381,
                      378,
                      385,
                      382
                    ],
                    "jobGroup": "28",
                    "status": "SUCCEEDED",
                    "numTasks": 59,
                    "numActiveTasks": 0,
                    "numCompletedTasks": 1,
                    "numSkippedTasks": 58,
                    "numFailedTasks": 0,
                    "numKilledTasks": 0,
                    "numCompletedIndices": 1,
                    "numActiveStages": 0,
                    "numCompletedStages": 1,
                    "numSkippedStages": 10,
                    "numFailedStages": 0,
                    "killedTasksSummary": {}
                  },
                  {
                    "displayName": "toPandas at /tmp/ipykernel_8085/249865643.py:3",
                    "dataWritten": 275,
                    "dataRead": 2175,
                    "rowCount": 33,
                    "usageDescription": "",
                    "jobId": 81,
                    "name": "toPandas at /tmp/ipykernel_8085/249865643.py:3",
                    "description": "Job group for statement 28:\n# Convert the Spark DataFrame to a Pandas DataFrame\nsubmissions_aggregated_pd = submissions_aggregated.toPandas()\ncomments_aggregated_pd = comments_aggregated.toPandas()",
                    "submissionTime": "2023-11-20T17:38:04.516GMT",
                    "completionTime": "2023-11-20T17:38:04.609GMT",
                    "stageIds": [
                      374,
                      371,
                      368,
                      375,
                      372,
                      369,
                      373,
                      370,
                      367
                    ],
                    "jobGroup": "28",
                    "status": "SUCCEEDED",
                    "numTasks": 49,
                    "numActiveTasks": 0,
                    "numCompletedTasks": 1,
                    "numSkippedTasks": 48,
                    "numFailedTasks": 0,
                    "numKilledTasks": 0,
                    "numCompletedIndices": 1,
                    "numActiveStages": 0,
                    "numCompletedStages": 1,
                    "numSkippedStages": 8,
                    "numFailedStages": 0,
                    "killedTasksSummary": {}
                  },
                  {
                    "displayName": "toPandas at /tmp/ipykernel_8085/249865643.py:3",
                    "dataWritten": 261,
                    "dataRead": 2161,
                    "rowCount": 33,
                    "usageDescription": "",
                    "jobId": 80,
                    "name": "toPandas at /tmp/ipykernel_8085/249865643.py:3",
                    "description": "Job group for statement 28:\n# Convert the Spark DataFrame to a Pandas DataFrame\nsubmissions_aggregated_pd = submissions_aggregated.toPandas()\ncomments_aggregated_pd = comments_aggregated.toPandas()",
                    "submissionTime": "2023-11-20T17:38:04.352GMT",
                    "completionTime": "2023-11-20T17:38:04.423GMT",
                    "stageIds": [
                      361,
                      365,
                      362,
                      366,
                      363,
                      360,
                      364
                    ],
                    "jobGroup": "28",
                    "status": "SUCCEEDED",
                    "numTasks": 39,
                    "numActiveTasks": 0,
                    "numCompletedTasks": 1,
                    "numSkippedTasks": 38,
                    "numFailedTasks": 0,
                    "numKilledTasks": 0,
                    "numCompletedIndices": 1,
                    "numActiveStages": 0,
                    "numCompletedStages": 1,
                    "numSkippedStages": 6,
                    "numFailedStages": 0,
                    "killedTasksSummary": {}
                  },
                  {
                    "displayName": "toPandas at /tmp/ipykernel_8085/249865643.py:3",
                    "dataWritten": 245,
                    "dataRead": 2158,
                    "rowCount": 33,
                    "usageDescription": "",
                    "jobId": 79,
                    "name": "toPandas at /tmp/ipykernel_8085/249865643.py:3",
                    "description": "Job group for statement 28:\n# Convert the Spark DataFrame to a Pandas DataFrame\nsubmissions_aggregated_pd = submissions_aggregated.toPandas()\ncomments_aggregated_pd = comments_aggregated.toPandas()",
                    "submissionTime": "2023-11-20T17:38:04.170GMT",
                    "completionTime": "2023-11-20T17:38:04.292GMT",
                    "stageIds": [
                      356,
                      357,
                      358,
                      355,
                      359
                    ],
                    "jobGroup": "28",
                    "status": "SUCCEEDED",
                    "numTasks": 29,
                    "numActiveTasks": 0,
                    "numCompletedTasks": 1,
                    "numSkippedTasks": 28,
                    "numFailedTasks": 0,
                    "numKilledTasks": 0,
                    "numCompletedIndices": 1,
                    "numActiveStages": 0,
                    "numCompletedStages": 1,
                    "numSkippedStages": 4,
                    "numFailedStages": 0,
                    "killedTasksSummary": {}
                  },
                  {
                    "displayName": "toPandas at /tmp/ipykernel_8085/249865643.py:3",
                    "dataWritten": 230,
                    "dataRead": 3846,
                    "rowCount": 57,
                    "usageDescription": "",
                    "jobId": 78,
                    "name": "toPandas at /tmp/ipykernel_8085/249865643.py:3",
                    "description": "Job group for statement 28:\n# Convert the Spark DataFrame to a Pandas DataFrame\nsubmissions_aggregated_pd = submissions_aggregated.toPandas()\ncomments_aggregated_pd = comments_aggregated.toPandas()",
                    "submissionTime": "2023-11-20T17:37:49.370GMT",
                    "completionTime": "2023-11-20T17:38:04.109GMT",
                    "stageIds": [
                      353,
                      354,
                      352
                    ],
                    "jobGroup": "28",
                    "status": "SUCCEEDED",
                    "numTasks": 19,
                    "numActiveTasks": 0,
                    "numCompletedTasks": 1,
                    "numSkippedTasks": 18,
                    "numFailedTasks": 0,
                    "numKilledTasks": 0,
                    "numCompletedIndices": 1,
                    "numActiveStages": 0,
                    "numCompletedStages": 1,
                    "numSkippedStages": 2,
                    "numFailedStages": 0,
                    "killedTasksSummary": {}
                  },
                  {
                    "displayName": "toPandas at /tmp/ipykernel_8085/249865643.py:3",
                    "dataWritten": 1914,
                    "dataRead": 80719460,
                    "rowCount": 869831,
                    "usageDescription": "",
                    "jobId": 77,
                    "name": "toPandas at /tmp/ipykernel_8085/249865643.py:3",
                    "description": "Job group for statement 28:\n# Convert the Spark DataFrame to a Pandas DataFrame\nsubmissions_aggregated_pd = submissions_aggregated.toPandas()\ncomments_aggregated_pd = comments_aggregated.toPandas()",
                    "submissionTime": "2023-11-20T17:37:45.815GMT",
                    "completionTime": "2023-11-20T17:38:04.539GMT",
                    "stageIds": [
                      351
                    ],
                    "jobGroup": "28",
                    "status": "SUCCEEDED",
                    "numTasks": 9,
                    "numActiveTasks": 0,
                    "numCompletedTasks": 9,
                    "numSkippedTasks": 0,
                    "numFailedTasks": 0,
                    "numKilledTasks": 0,
                    "numCompletedIndices": 9,
                    "numActiveStages": 0,
                    "numCompletedStages": 1,
                    "numSkippedStages": 0,
                    "numFailedStages": 0,
                    "killedTasksSummary": {}
                  },
                  {
                    "displayName": "toPandas at /tmp/ipykernel_8085/249865643.py:3",
                    "dataWritten": 1937,
                    "dataRead": 80719460,
                    "rowCount": 869831,
                    "usageDescription": "",
                    "jobId": 76,
                    "name": "toPandas at /tmp/ipykernel_8085/249865643.py:3",
                    "description": "Job group for statement 28:\n# Convert the Spark DataFrame to a Pandas DataFrame\nsubmissions_aggregated_pd = submissions_aggregated.toPandas()\ncomments_aggregated_pd = comments_aggregated.toPandas()",
                    "submissionTime": "2023-11-20T17:37:45.756GMT",
                    "completionTime": "2023-11-20T17:38:02.753GMT",
                    "stageIds": [
                      350
                    ],
                    "jobGroup": "28",
                    "status": "SUCCEEDED",
                    "numTasks": 9,
                    "numActiveTasks": 0,
                    "numCompletedTasks": 9,
                    "numSkippedTasks": 0,
                    "numFailedTasks": 0,
                    "numKilledTasks": 0,
                    "numCompletedIndices": 9,
                    "numActiveStages": 0,
                    "numCompletedStages": 1,
                    "numSkippedStages": 0,
                    "numFailedStages": 0,
                    "killedTasksSummary": {}
                  },
                  {
                    "displayName": "toPandas at /tmp/ipykernel_8085/249865643.py:3",
                    "dataWritten": 1940,
                    "dataRead": 80719460,
                    "rowCount": 869831,
                    "usageDescription": "",
                    "jobId": 75,
                    "name": "toPandas at /tmp/ipykernel_8085/249865643.py:3",
                    "description": "Job group for statement 28:\n# Convert the Spark DataFrame to a Pandas DataFrame\nsubmissions_aggregated_pd = submissions_aggregated.toPandas()\ncomments_aggregated_pd = comments_aggregated.toPandas()",
                    "submissionTime": "2023-11-20T17:37:45.626GMT",
                    "completionTime": "2023-11-20T17:38:00.975GMT",
                    "stageIds": [
                      349
                    ],
                    "jobGroup": "28",
                    "status": "SUCCEEDED",
                    "numTasks": 9,
                    "numActiveTasks": 0,
                    "numCompletedTasks": 9,
                    "numSkippedTasks": 0,
                    "numFailedTasks": 0,
                    "numKilledTasks": 0,
                    "numCompletedIndices": 9,
                    "numActiveStages": 0,
                    "numCompletedStages": 1,
                    "numSkippedStages": 0,
                    "numFailedStages": 0,
                    "killedTasksSummary": {}
                  },
                  {
                    "displayName": "toPandas at /tmp/ipykernel_8085/249865643.py:3",
                    "dataWritten": 1932,
                    "dataRead": 80719460,
                    "rowCount": 869831,
                    "usageDescription": "",
                    "jobId": 74,
                    "name": "toPandas at /tmp/ipykernel_8085/249865643.py:3",
                    "description": "Job group for statement 28:\n# Convert the Spark DataFrame to a Pandas DataFrame\nsubmissions_aggregated_pd = submissions_aggregated.toPandas()\ncomments_aggregated_pd = comments_aggregated.toPandas()",
                    "submissionTime": "2023-11-20T17:37:45.557GMT",
                    "completionTime": "2023-11-20T17:37:59.056GMT",
                    "stageIds": [
                      348
                    ],
                    "jobGroup": "28",
                    "status": "SUCCEEDED",
                    "numTasks": 9,
                    "numActiveTasks": 0,
                    "numCompletedTasks": 9,
                    "numSkippedTasks": 0,
                    "numFailedTasks": 0,
                    "numKilledTasks": 0,
                    "numCompletedIndices": 9,
                    "numActiveStages": 0,
                    "numCompletedStages": 1,
                    "numSkippedStages": 0,
                    "numFailedStages": 0,
                    "killedTasksSummary": {}
                  },
                  {
                    "displayName": "toPandas at /tmp/ipykernel_8085/249865643.py:3",
                    "dataWritten": 1913,
                    "dataRead": 80719460,
                    "rowCount": 869831,
                    "usageDescription": "",
                    "jobId": 73,
                    "name": "toPandas at /tmp/ipykernel_8085/249865643.py:3",
                    "description": "Job group for statement 28:\n# Convert the Spark DataFrame to a Pandas DataFrame\nsubmissions_aggregated_pd = submissions_aggregated.toPandas()\ncomments_aggregated_pd = comments_aggregated.toPandas()",
                    "submissionTime": "2023-11-20T17:37:45.507GMT",
                    "completionTime": "2023-11-20T17:37:58.370GMT",
                    "stageIds": [
                      347
                    ],
                    "jobGroup": "28",
                    "status": "SUCCEEDED",
                    "numTasks": 9,
                    "numActiveTasks": 0,
                    "numCompletedTasks": 9,
                    "numSkippedTasks": 0,
                    "numFailedTasks": 0,
                    "numKilledTasks": 0,
                    "numCompletedIndices": 9,
                    "numActiveStages": 0,
                    "numCompletedStages": 1,
                    "numSkippedStages": 0,
                    "numFailedStages": 0,
                    "killedTasksSummary": {}
                  },
                  {
                    "displayName": "toPandas at /tmp/ipykernel_8085/249865643.py:3",
                    "dataWritten": 1914,
                    "dataRead": 80719460,
                    "rowCount": 869831,
                    "usageDescription": "",
                    "jobId": 72,
                    "name": "toPandas at /tmp/ipykernel_8085/249865643.py:3",
                    "description": "Job group for statement 28:\n# Convert the Spark DataFrame to a Pandas DataFrame\nsubmissions_aggregated_pd = submissions_aggregated.toPandas()\ncomments_aggregated_pd = comments_aggregated.toPandas()",
                    "submissionTime": "2023-11-20T17:37:45.443GMT",
                    "completionTime": "2023-11-20T17:37:55.341GMT",
                    "stageIds": [
                      346
                    ],
                    "jobGroup": "28",
                    "status": "SUCCEEDED",
                    "numTasks": 9,
                    "numActiveTasks": 0,
                    "numCompletedTasks": 9,
                    "numSkippedTasks": 0,
                    "numFailedTasks": 0,
                    "numKilledTasks": 0,
                    "numCompletedIndices": 9,
                    "numActiveStages": 0,
                    "numCompletedStages": 1,
                    "numSkippedStages": 0,
                    "numFailedStages": 0,
                    "killedTasksSummary": {}
                  },
                  {
                    "displayName": "toPandas at /tmp/ipykernel_8085/249865643.py:3",
                    "dataWritten": 1916,
                    "dataRead": 80719460,
                    "rowCount": 869831,
                    "usageDescription": "",
                    "jobId": 71,
                    "name": "toPandas at /tmp/ipykernel_8085/249865643.py:3",
                    "description": "Job group for statement 28:\n# Convert the Spark DataFrame to a Pandas DataFrame\nsubmissions_aggregated_pd = submissions_aggregated.toPandas()\ncomments_aggregated_pd = comments_aggregated.toPandas()",
                    "submissionTime": "2023-11-20T17:37:45.385GMT",
                    "completionTime": "2023-11-20T17:37:53.026GMT",
                    "stageIds": [
                      345
                    ],
                    "jobGroup": "28",
                    "status": "SUCCEEDED",
                    "numTasks": 9,
                    "numActiveTasks": 0,
                    "numCompletedTasks": 9,
                    "numSkippedTasks": 0,
                    "numFailedTasks": 0,
                    "numKilledTasks": 0,
                    "numCompletedIndices": 9,
                    "numActiveStages": 0,
                    "numCompletedStages": 1,
                    "numSkippedStages": 0,
                    "numFailedStages": 0,
                    "killedTasksSummary": {}
                  },
                  {
                    "displayName": "toPandas at /tmp/ipykernel_8085/249865643.py:3",
                    "dataWritten": 1928,
                    "dataRead": 80719460,
                    "rowCount": 869831,
                    "usageDescription": "",
                    "jobId": 70,
                    "name": "toPandas at /tmp/ipykernel_8085/249865643.py:3",
                    "description": "Job group for statement 28:\n# Convert the Spark DataFrame to a Pandas DataFrame\nsubmissions_aggregated_pd = submissions_aggregated.toPandas()\ncomments_aggregated_pd = comments_aggregated.toPandas()",
                    "submissionTime": "2023-11-20T17:37:45.319GMT",
                    "completionTime": "2023-11-20T17:37:51.566GMT",
                    "stageIds": [
                      344
                    ],
                    "jobGroup": "28",
                    "status": "SUCCEEDED",
                    "numTasks": 9,
                    "numActiveTasks": 0,
                    "numCompletedTasks": 9,
                    "numSkippedTasks": 0,
                    "numFailedTasks": 0,
                    "numKilledTasks": 0,
                    "numCompletedIndices": 9,
                    "numActiveStages": 0,
                    "numCompletedStages": 1,
                    "numSkippedStages": 0,
                    "numFailedStages": 0,
                    "killedTasksSummary": {}
                  },
                  {
                    "displayName": "toPandas at /tmp/ipykernel_8085/249865643.py:3",
                    "dataWritten": 1926,
                    "dataRead": 80719460,
                    "rowCount": 869831,
                    "usageDescription": "",
                    "jobId": 69,
                    "name": "toPandas at /tmp/ipykernel_8085/249865643.py:3",
                    "description": "Job group for statement 28:\n# Convert the Spark DataFrame to a Pandas DataFrame\nsubmissions_aggregated_pd = submissions_aggregated.toPandas()\ncomments_aggregated_pd = comments_aggregated.toPandas()",
                    "submissionTime": "2023-11-20T17:37:45.259GMT",
                    "completionTime": "2023-11-20T17:37:49.266GMT",
                    "stageIds": [
                      343
                    ],
                    "jobGroup": "28",
                    "status": "SUCCEEDED",
                    "numTasks": 9,
                    "numActiveTasks": 0,
                    "numCompletedTasks": 9,
                    "numSkippedTasks": 0,
                    "numFailedTasks": 0,
                    "numKilledTasks": 0,
                    "numCompletedIndices": 9,
                    "numActiveStages": 0,
                    "numCompletedStages": 1,
                    "numSkippedStages": 0,
                    "numFailedStages": 0,
                    "killedTasksSummary": {}
                  },
                  {
                    "displayName": "toPandas at /tmp/ipykernel_8085/249865643.py:3",
                    "dataWritten": 1920,
                    "dataRead": 80719460,
                    "rowCount": 869831,
                    "usageDescription": "",
                    "jobId": 68,
                    "name": "toPandas at /tmp/ipykernel_8085/249865643.py:3",
                    "description": "Job group for statement 28:\n# Convert the Spark DataFrame to a Pandas DataFrame\nsubmissions_aggregated_pd = submissions_aggregated.toPandas()\ncomments_aggregated_pd = comments_aggregated.toPandas()",
                    "submissionTime": "2023-11-20T17:37:45.196GMT",
                    "completionTime": "2023-11-20T17:37:48.419GMT",
                    "stageIds": [
                      342
                    ],
                    "jobGroup": "28",
                    "status": "SUCCEEDED",
                    "numTasks": 9,
                    "numActiveTasks": 0,
                    "numCompletedTasks": 9,
                    "numSkippedTasks": 0,
                    "numFailedTasks": 0,
                    "numKilledTasks": 0,
                    "numCompletedIndices": 9,
                    "numActiveStages": 0,
                    "numCompletedStages": 1,
                    "numSkippedStages": 0,
                    "numFailedStages": 0,
                    "killedTasksSummary": {}
                  },
                  {
                    "displayName": "toPandas at /tmp/ipykernel_8085/249865643.py:2",
                    "dataWritten": 0,
                    "dataRead": 1579,
                    "rowCount": 21,
                    "usageDescription": "",
                    "jobId": 67,
                    "name": "toPandas at /tmp/ipykernel_8085/249865643.py:2",
                    "description": "Job group for statement 28:\n# Convert the Spark DataFrame to a Pandas DataFrame\nsubmissions_aggregated_pd = submissions_aggregated.toPandas()\ncomments_aggregated_pd = comments_aggregated.toPandas()",
                    "submissionTime": "2023-11-20T17:37:43.986GMT",
                    "completionTime": "2023-11-20T17:37:44.799GMT",
                    "stageIds": [
                      335,
                      336,
                      328,
                      329,
                      323,
                      330,
                      337,
                      331,
                      338,
                      332,
                      324,
                      339,
                      325,
                      340,
                      326,
                      341,
                      333,
                      327,
                      334
                    ],
                    "jobGroup": "28",
                    "status": "SUCCEEDED",
                    "numTasks": 69,
                    "numActiveTasks": 0,
                    "numCompletedTasks": 1,
                    "numSkippedTasks": 68,
                    "numFailedTasks": 0,
                    "numKilledTasks": 0,
                    "numCompletedIndices": 1,
                    "numActiveStages": 0,
                    "numCompletedStages": 1,
                    "numSkippedStages": 18,
                    "numFailedStages": 0,
                    "killedTasksSummary": {}
                  }
                ],
                "limit": 20,
                "rule": "ALL_DESC"
              },
              "parent_msg_id": "1b2979bb-47b5-446e-8a2d-5d015dce8c11"
            },
            "text/plain": "StatementMeta(7c27951d-2bdf-4140-be82-d0dc0c0e7d8e, 51, 28, Finished, Available)"
          },
          "metadata": {}
        }
      ],
      "execution_count": 23,
      "metadata": {
        "jupyter": {
          "source_hidden": false,
          "outputs_hidden": false
        },
        "nteract": {
          "transient": {
            "deleting": false
          }
        },
        "gather": {
          "logged": 1700501888047
        }
      }
    },
    {
      "cell_type": "code",
      "source": [
        "# Calculate the total counts for each team\n",
        "submissions_total_counts = submissions_aggregated_pd.set_index('sentiment').sum()\n",
        "\n",
        "# Calculate proportions\n",
        "submissions_proportions = submissions_aggregated_pd.set_index('sentiment').div(submissions_total_counts)\n",
        "\n",
        "# Plot\n",
        "fig, ax = plt.subplots(figsize=(16, 8))\n",
        "bars = submissions_proportions.T.plot(kind='bar', stacked=True, ax=ax)\n",
        "\n",
        "# Annotate each bar segment with its proportion\n",
        "for bar in bars.containers:\n",
        "    ax.bar_label(bar, fmt='%.2f', label_type='center')\n",
        "\n",
        "ax.set_xlabel('Team')\n",
        "ax.set_ylabel('Proportion of Sentiments')\n",
        "ax.set_title('Sentiment Distribution for Each Team in Submissions')\n",
        "plt.xticks(rotation=45)\n",
        "plt.legend(title='Sentiment')\n",
        "plt.savefig(\"Users/yh706/fall-2023-reddit-project-team-26/data/plots/sentiment_distribution_for_each_team_in_submissions.png\")\n",
        "plt.show()"
      ],
      "outputs": [
        {
          "output_type": "display_data",
          "data": {
            "application/vnd.livy.statement-meta+json": {
              "spark_pool": "7c27951d-2bdf-4140-be82-d0dc0c0e7d8e",
              "session_id": "51",
              "statement_id": 43,
              "state": "finished",
              "livy_statement_state": "available",
              "queued_time": "2023-11-20T18:04:51.8823701Z",
              "session_start_time": null,
              "execution_start_time": "2023-11-20T18:04:52.0076776Z",
              "execution_finish_time": "2023-11-20T18:04:53.5722271Z",
              "spark_jobs": {
                "numbers": {
                  "FAILED": 0,
                  "RUNNING": 0,
                  "UNKNOWN": 0,
                  "SUCCEEDED": 0
                },
                "jobs": [],
                "limit": 20,
                "rule": "ALL_DESC"
              },
              "parent_msg_id": "908a0e01-fb2b-4bc8-93d5-1cd708de1a3a"
            },
            "text/plain": "StatementMeta(7c27951d-2bdf-4140-be82-d0dc0c0e7d8e, 51, 43, Finished, Available)"
          },
          "metadata": {}
        },
        {
          "output_type": "display_data",
          "data": {
            "text/plain": "<Figure size 1152x576 with 1 Axes>",
            "image/png": "[encoded data removed]"
          },
          "metadata": {
            "needs_background": "light"
          }
        }
      ],
      "execution_count": 38,
      "metadata": {
        "jupyter": {
          "source_hidden": false,
          "outputs_hidden": false
        },
        "nteract": {
          "transient": {
            "deleting": false
          }
        },
        "gather": {
          "logged": 1700503493938
        }
      }
    },
    {
      "cell_type": "code",
      "source": [
        "# Calculate the total counts for each team\n",
        "comments_total_counts = comments_aggregated_pd.set_index('sentiment').sum()\n",
        "\n",
        "# Calculate proportions\n",
        "comments_proportions = comments_aggregated_pd.set_index('sentiment').div(comments_total_counts)\n",
        "\n",
        "# Plot\n",
        "fig, ax = plt.subplots(figsize=(16, 8))\n",
        "bars = comments_proportions.T.plot(kind='bar', stacked=True, ax=ax)\n",
        "\n",
        "# Annotate each bar segment with its proportion\n",
        "for bar in bars.containers:\n",
        "    ax.bar_label(bar, fmt='%.2f', label_type='center')\n",
        "\n",
        "ax.set_xlabel('Team')\n",
        "ax.set_ylabel('Proportion of Sentiments')\n",
        "ax.set_title('Sentiment Distribution for Each Team in Comments')\n",
        "plt.xticks(rotation=45)\n",
        "plt.legend(title='Sentiment')\n",
        "plt.savefig(\"Users/yh706/fall-2023-reddit-project-team-26/data/plots/sentiment_distribution_for_each_team_in_comments.png\")\n",
        "plt.show()"
      ],
      "outputs": [
        {
          "output_type": "display_data",
          "data": {
            "application/vnd.livy.statement-meta+json": {
              "spark_pool": "7c27951d-2bdf-4140-be82-d0dc0c0e7d8e",
              "session_id": "51",
              "statement_id": 44,
              "state": "finished",
              "livy_statement_state": "available",
              "queued_time": "2023-11-20T18:05:09.1346989Z",
              "session_start_time": null,
              "execution_start_time": "2023-11-20T18:05:09.236954Z",
              "execution_finish_time": "2023-11-20T18:05:10.7540426Z",
              "spark_jobs": {
                "numbers": {
                  "FAILED": 0,
                  "RUNNING": 0,
                  "UNKNOWN": 0,
                  "SUCCEEDED": 0
                },
                "jobs": [],
                "limit": 20,
                "rule": "ALL_DESC"
              },
              "parent_msg_id": "8532eba7-5046-4d13-858f-e88a6417adb5"
            },
            "text/plain": "StatementMeta(7c27951d-2bdf-4140-be82-d0dc0c0e7d8e, 51, 44, Finished, Available)"
          },
          "metadata": {}
        },
        {
          "output_type": "display_data",
          "data": {
            "text/plain": "<Figure size 1152x576 with 1 Axes>",
            "image/png": "[encoded data removed]"
          },
          "metadata": {
            "needs_background": "light"
          }
        }
      ],
      "execution_count": 39,
      "metadata": {
        "jupyter": {
          "source_hidden": false,
          "outputs_hidden": false
        },
        "nteract": {
          "transient": {
            "deleting": false
          }
        },
        "gather": {
          "logged": 1700503511152
        }
      }
    }
  ],
  "metadata": {
    "kernelspec": {
      "name": "synapse_pyspark",
      "language": "Python",
      "display_name": "Synapse PySpark"
    },
    "language_info": {
      "name": "python",
      "version": "3.8.0",
      "mimetype": "text/x-python",
      "file_extension": ".py",
      "pygments_lexer": "ipython",
      "codemirror_mode": "ipython",
      "nbconvert_exporter": "python"
    },
    "microsoft": {
      "ms_spell_check": {
        "ms_spell_check_language": "en"
      },
      "host": {
        "AzureML": {
          "notebookHasBeenCompleted": true
        }
      }
    },
    "nteract": {
      "version": "nteract-front-end@1.0.0"
    },
    "kernel_info": {
      "name": "synapse_pyspark"
    }
  },
  "nbformat": 4,
  "nbformat_minor": 2
}
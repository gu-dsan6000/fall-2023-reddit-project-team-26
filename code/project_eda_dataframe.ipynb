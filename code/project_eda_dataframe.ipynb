{
  "cells": [
    {
      "cell_type": "code",
      "source": [
        "spark"
      ],
      "outputs": [
        {
          "output_type": "display_data",
          "data": {
            "application/vnd.livy.statement-meta+json": {
              "spark_pool": "d3c1b951-094c-48e1-919d-e32bc175397b",
              "session_id": "14",
              "statement_id": 6,
              "state": "finished",
              "livy_statement_state": "available",
              "queued_time": "2023-11-07T16:36:52.1605078Z",
              "session_start_time": "2023-11-07T16:36:52.2012945Z",
              "execution_start_time": "2023-11-07T16:41:02.3340081Z",
              "execution_finish_time": "2023-11-07T16:41:02.7858856Z",
              "spark_jobs": {
                "numbers": {
                  "RUNNING": 0,
                  "SUCCEEDED": 0,
                  "FAILED": 0,
                  "UNKNOWN": 0
                },
                "jobs": [],
                "limit": 20,
                "rule": "ALL_DESC"
              },
              "parent_msg_id": "c2ad33f0-4e80-4e77-8e08-e8fd2c0fa5f6"
            },
            "text/plain": "StatementMeta(d3c1b951-094c-48e1-919d-e32bc175397b, 14, 6, Finished, Available)"
          },
          "metadata": {}
        },
        {
          "output_type": "execute_result",
          "execution_count": 11,
          "data": {
            "text/plain": "<pyspark.sql.session.SparkSession at 0x7f80e85998e0>",
            "text/html": "\n            <div>\n                <p><b>SparkSession - hive</b></p>\n                \n        <div>\n            <p><b>SparkContext</b></p>\n\n            <p><a href=\"http://vm-57433990:40311\">Spark UI</a></p>\n\n            <dl>\n              <dt>Version</dt>\n                <dd><code>v3.2.2.5.1-100879434</code></dd>\n              <dt>Master</dt>\n                <dd><code>yarn</code></dd>\n              <dt>AppName</dt>\n                <dd><code>Azure ML Experiment</code></dd>\n            </dl>\n        </div>\n        \n            </div>\n        "
          },
          "metadata": {}
        }
      ],
      "execution_count": 1,
      "metadata": {
        "gather": {
          "logged": 1699375263071
        }
      }
    },
    {
      "cell_type": "code",
      "source": [
        "## Necessary Libraries\n",
        "import pandas as pd\n",
        "import matplotlib.pyplot as plt\n",
        "import seaborn as sns\n",
        "from pyspark.sql.functions import *"
      ],
      "outputs": [
        {
          "output_type": "display_data",
          "data": {
            "application/vnd.livy.statement-meta+json": {
              "spark_pool": "d3c1b951-094c-48e1-919d-e32bc175397b",
              "session_id": "14",
              "statement_id": 7,
              "state": "finished",
              "livy_statement_state": "available",
              "queued_time": "2023-11-07T16:41:06.1628303Z",
              "session_start_time": null,
              "execution_start_time": "2023-11-07T16:41:06.2862978Z",
              "execution_finish_time": "2023-11-07T16:41:15.8255381Z",
              "spark_jobs": {
                "numbers": {
                  "RUNNING": 0,
                  "SUCCEEDED": 0,
                  "FAILED": 0,
                  "UNKNOWN": 0
                },
                "jobs": [],
                "limit": 20,
                "rule": "ALL_DESC"
              },
              "parent_msg_id": "75d3274c-5650-4ec8-ac90-5d2d7869c903"
            },
            "text/plain": "StatementMeta(d3c1b951-094c-48e1-919d-e32bc175397b, 14, 7, Finished, Available)"
          },
          "metadata": {}
        }
      ],
      "execution_count": 2,
      "metadata": {
        "jupyter": {
          "source_hidden": false,
          "outputs_hidden": false
        },
        "nteract": {
          "transient": {
            "deleting": false
          }
        },
        "gather": {
          "logged": 1699375276164
        }
      }
    },
    {
      "cell_type": "markdown",
      "source": [
        "### Loading Intermediate Data\n",
        "\n",
        "Here we load the intermediate data which includes 2 datasets: `Comments` and `Submissions`. These datasets include all the Reddit posts between September 2021 and April 2022 (The approximate length of the College Basketball Season). No additional cleaning has already been done on this data "
      ],
      "metadata": {
        "nteract": {
          "transient": {
            "deleting": false
          }
        }
      }
    },
    {
      "cell_type": "code",
      "source": [
        "workspace_default_storage_account = \"aml6214727930\"\n",
        "workspace_default_container = \"azureml-blobstore-6653633b-3460-4381-9199-d9e0f368353c\"\n",
        "\n",
        "workspace_wasbs_base_url = (\n",
        "    f\"wasbs://{workspace_default_container}@{workspace_default_storage_account}.blob.core.windows.net/\"\n",
        ")\n"
      ],
      "outputs": [
        {
          "output_type": "display_data",
          "data": {
            "application/vnd.livy.statement-meta+json": {
              "spark_pool": "d3c1b951-094c-48e1-919d-e32bc175397b",
              "session_id": "14",
              "statement_id": 8,
              "state": "finished",
              "livy_statement_state": "available",
              "queued_time": "2023-11-07T16:41:17.8857602Z",
              "session_start_time": null,
              "execution_start_time": "2023-11-07T16:41:18.02682Z",
              "execution_finish_time": "2023-11-07T16:41:18.3766936Z",
              "spark_jobs": {
                "numbers": {
                  "RUNNING": 0,
                  "SUCCEEDED": 0,
                  "FAILED": 0,
                  "UNKNOWN": 0
                },
                "jobs": [],
                "limit": 20,
                "rule": "ALL_DESC"
              },
              "parent_msg_id": "73eb7332-9487-4ba9-9e53-c845b932c80d"
            },
            "text/plain": "StatementMeta(d3c1b951-094c-48e1-919d-e32bc175397b, 14, 8, Finished, Available)"
          },
          "metadata": {}
        }
      ],
      "execution_count": 3,
      "metadata": {
        "jupyter": {
          "source_hidden": false,
          "outputs_hidden": false
        },
        "nteract": {
          "transient": {
            "deleting": false
          }
        },
        "gather": {
          "logged": 1699375278577
        }
      }
    },
    {
      "cell_type": "code",
      "source": [
        "comments_path = \"/basketball_comments_sep.parquet\"\n",
        "submissions_path = \"/basketball_submissions_sep.parquet\"\n",
        "\n",
        "comments = spark.read.parquet(f\"{workspace_wasbs_base_url}{comments_path}\")\n",
        "submissions = spark.read.parquet(f\"{workspace_wasbs_base_url}{submissions_path}\")"
      ],
      "outputs": [
        {
          "output_type": "display_data",
          "data": {
            "application/vnd.livy.statement-meta+json": {
              "spark_pool": "d3c1b951-094c-48e1-919d-e32bc175397b",
              "session_id": "14",
              "statement_id": 9,
              "state": "finished",
              "livy_statement_state": "available",
              "queued_time": "2023-11-07T16:41:19.9255336Z",
              "session_start_time": null,
              "execution_start_time": "2023-11-07T16:41:20.0402176Z",
              "execution_finish_time": "2023-11-07T16:41:33.1075519Z",
              "spark_jobs": {
                "numbers": {
                  "RUNNING": 0,
                  "SUCCEEDED": 2,
                  "FAILED": 0,
                  "UNKNOWN": 0
                },
                "jobs": [
                  {
                    "displayName": "parquet at NativeMethodAccessorImpl.java:0",
                    "dataWritten": 0,
                    "dataRead": 0,
                    "rowCount": 0,
                    "usageDescription": "",
                    "jobId": 1,
                    "name": "parquet at NativeMethodAccessorImpl.java:0",
                    "description": "Job group for statement 9:\ncomments_path = \"/basketball_comments_sep.parquet\"\nsubmissions_path = \"/basketball_submissions_sep.parquet\"\n\ncomments = spark.read.parquet(f\"{workspace_wasbs_base_url}{comments_path}\")\nsubmissions = spark.read.parquet(f\"{workspace_wasbs_base_url}{submissions_path}\")",
                    "submissionTime": "2023-11-07T16:41:32.281GMT",
                    "completionTime": "2023-11-07T16:41:32.479GMT",
                    "stageIds": [
                      1
                    ],
                    "jobGroup": "9",
                    "status": "SUCCEEDED",
                    "numTasks": 1,
                    "numActiveTasks": 0,
                    "numCompletedTasks": 1,
                    "numSkippedTasks": 0,
                    "numFailedTasks": 0,
                    "numKilledTasks": 0,
                    "numCompletedIndices": 1,
                    "numActiveStages": 0,
                    "numCompletedStages": 1,
                    "numSkippedStages": 0,
                    "numFailedStages": 0,
                    "killedTasksSummary": {}
                  },
                  {
                    "displayName": "parquet at NativeMethodAccessorImpl.java:0",
                    "dataWritten": 0,
                    "dataRead": 0,
                    "rowCount": 0,
                    "usageDescription": "",
                    "jobId": 0,
                    "name": "parquet at NativeMethodAccessorImpl.java:0",
                    "description": "Job group for statement 9:\ncomments_path = \"/basketball_comments_sep.parquet\"\nsubmissions_path = \"/basketball_submissions_sep.parquet\"\n\ncomments = spark.read.parquet(f\"{workspace_wasbs_base_url}{comments_path}\")\nsubmissions = spark.read.parquet(f\"{workspace_wasbs_base_url}{submissions_path}\")",
                    "submissionTime": "2023-11-07T16:41:22.994GMT",
                    "completionTime": "2023-11-07T16:41:30.214GMT",
                    "stageIds": [
                      0
                    ],
                    "jobGroup": "9",
                    "status": "SUCCEEDED",
                    "numTasks": 1,
                    "numActiveTasks": 0,
                    "numCompletedTasks": 1,
                    "numSkippedTasks": 0,
                    "numFailedTasks": 0,
                    "numKilledTasks": 0,
                    "numCompletedIndices": 1,
                    "numActiveStages": 0,
                    "numCompletedStages": 1,
                    "numSkippedStages": 0,
                    "numFailedStages": 0,
                    "killedTasksSummary": {}
                  }
                ],
                "limit": 20,
                "rule": "ALL_DESC"
              },
              "parent_msg_id": "35a111fb-754a-4558-b13b-7152a94f7187"
            },
            "text/plain": "StatementMeta(d3c1b951-094c-48e1-919d-e32bc175397b, 14, 9, Finished, Available)"
          },
          "metadata": {}
        }
      ],
      "execution_count": 4,
      "metadata": {
        "jupyter": {
          "source_hidden": false,
          "outputs_hidden": false
        },
        "nteract": {
          "transient": {
            "deleting": false
          }
        },
        "gather": {
          "logged": 1699375293243
        }
      }
    },
    {
      "cell_type": "markdown",
      "source": [
        "### Exploring the Data"
      ],
      "metadata": {
        "nteract": {
          "transient": {
            "deleting": false
          }
        }
      }
    },
    {
      "cell_type": "code",
      "source": [
        "submissions = submissions.cache()\n",
        "comments = comments.cache()"
      ],
      "outputs": [
        {
          "output_type": "display_data",
          "data": {
            "application/vnd.livy.statement-meta+json": {
              "spark_pool": "d3c1b951-094c-48e1-919d-e32bc175397b",
              "session_id": "14",
              "statement_id": 12,
              "state": "finished",
              "livy_statement_state": "available",
              "queued_time": "2023-11-07T16:44:41.4217043Z",
              "session_start_time": null,
              "execution_start_time": "2023-11-07T16:44:41.544621Z",
              "execution_finish_time": "2023-11-07T16:44:41.91284Z",
              "spark_jobs": {
                "numbers": {
                  "RUNNING": 0,
                  "SUCCEEDED": 0,
                  "FAILED": 0,
                  "UNKNOWN": 0
                },
                "jobs": [],
                "limit": 20,
                "rule": "ALL_DESC"
              },
              "parent_msg_id": "67673e38-9211-48c0-9b23-f7f0a6b79436"
            },
            "text/plain": "StatementMeta(d3c1b951-094c-48e1-919d-e32bc175397b, 14, 12, Finished, Available)"
          },
          "metadata": {}
        }
      ],
      "execution_count": 7,
      "metadata": {
        "jupyter": {
          "source_hidden": false,
          "outputs_hidden": false
        },
        "nteract": {
          "transient": {
            "deleting": false
          }
        },
        "gather": {
          "logged": 1699375482140
        }
      }
    },
    {
      "cell_type": "markdown",
      "source": [
        "#### Data Shape and Schema\n",
        "\n",
        "The breakdown of the 3 subreddits by number of posts is heavily imbalanced as is expected. In submissions there are just over 22,000 posts and in comments there are just over 1,575,000 comments. The majority of these posts come from the CollegeBasketball subreddit. "
      ],
      "metadata": {
        "nteract": {
          "transient": {
            "deleting": false
          }
        }
      }
    },
    {
      "cell_type": "code",
      "source": [
        "print(\"Count of Submissions by Subreddit\")\n",
        "print(submissions.groupBy('subreddit').count().show())\n",
        "\n",
        "print(\"Count of Comments by Subreddit\")\n",
        "print(comments.groupBy('subreddit').count().show())"
      ],
      "outputs": [
        {
          "output_type": "display_data",
          "data": {
            "application/vnd.livy.statement-meta+json": {
              "spark_pool": "d3c1b951-094c-48e1-919d-e32bc175397b",
              "session_id": "14",
              "statement_id": 13,
              "state": "finished",
              "livy_statement_state": "available",
              "queued_time": "2023-11-07T16:46:03.9867842Z",
              "session_start_time": null,
              "execution_start_time": "2023-11-07T16:46:04.1212955Z",
              "execution_finish_time": "2023-11-07T16:47:22.5066285Z",
              "spark_jobs": {
                "numbers": {
                  "RUNNING": 0,
                  "SUCCEEDED": 4,
                  "FAILED": 0,
                  "UNKNOWN": 0
                },
                "jobs": [
                  {
                    "displayName": "showString at NativeMethodAccessorImpl.java:0",
                    "dataWritten": 0,
                    "dataRead": 39894,
                    "rowCount": 516,
                    "usageDescription": "",
                    "jobId": 7,
                    "name": "showString at NativeMethodAccessorImpl.java:0",
                    "description": "Job group for statement 13:\nprint(\"Count of Submissions by Subreddit\")\nprint(submissions.groupBy('subreddit').count().show())\n\nprint(\"Count of Comments by Subreddit\")\nprint(comments.groupBy('subreddit').count().show())",
                    "submissionTime": "2023-11-07T16:47:21.217GMT",
                    "completionTime": "2023-11-07T16:47:21.426GMT",
                    "stageIds": [
                      9,
                      10
                    ],
                    "jobGroup": "13",
                    "status": "SUCCEEDED",
                    "numTasks": 183,
                    "numActiveTasks": 0,
                    "numCompletedTasks": 1,
                    "numSkippedTasks": 182,
                    "numFailedTasks": 0,
                    "numKilledTasks": 0,
                    "numCompletedIndices": 1,
                    "numActiveStages": 0,
                    "numCompletedStages": 1,
                    "numSkippedStages": 1,
                    "numFailedStages": 0,
                    "killedTasksSummary": {}
                  },
                  {
                    "displayName": "showString at NativeMethodAccessorImpl.java:0",
                    "dataWritten": 39894,
                    "dataRead": 192935219,
                    "rowCount": 1575686,
                    "usageDescription": "",
                    "jobId": 6,
                    "name": "showString at NativeMethodAccessorImpl.java:0",
                    "description": "Job group for statement 13:\nprint(\"Count of Submissions by Subreddit\")\nprint(submissions.groupBy('subreddit').count().show())\n\nprint(\"Count of Comments by Subreddit\")\nprint(comments.groupBy('subreddit').count().show())",
                    "submissionTime": "2023-11-07T16:46:25.353GMT",
                    "completionTime": "2023-11-07T16:47:21.125GMT",
                    "stageIds": [
                      8
                    ],
                    "jobGroup": "13",
                    "status": "SUCCEEDED",
                    "numTasks": 182,
                    "numActiveTasks": 0,
                    "numCompletedTasks": 182,
                    "numSkippedTasks": 0,
                    "numFailedTasks": 0,
                    "numKilledTasks": 0,
                    "numCompletedIndices": 182,
                    "numActiveStages": 0,
                    "numCompletedStages": 1,
                    "numSkippedStages": 0,
                    "numFailedStages": 0,
                    "killedTasksSummary": {}
                  },
                  {
                    "displayName": "showString at NativeMethodAccessorImpl.java:0",
                    "dataWritten": 0,
                    "dataRead": 14533,
                    "rowCount": 189,
                    "usageDescription": "",
                    "jobId": 5,
                    "name": "showString at NativeMethodAccessorImpl.java:0",
                    "description": "Job group for statement 13:\nprint(\"Count of Submissions by Subreddit\")\nprint(submissions.groupBy('subreddit').count().show())\n\nprint(\"Count of Comments by Subreddit\")\nprint(comments.groupBy('subreddit').count().show())",
                    "submissionTime": "2023-11-07T16:46:24.746GMT",
                    "completionTime": "2023-11-07T16:46:25.092GMT",
                    "stageIds": [
                      6,
                      7
                    ],
                    "jobGroup": "13",
                    "status": "SUCCEEDED",
                    "numTasks": 65,
                    "numActiveTasks": 0,
                    "numCompletedTasks": 1,
                    "numSkippedTasks": 64,
                    "numFailedTasks": 0,
                    "numKilledTasks": 0,
                    "numCompletedIndices": 1,
                    "numActiveStages": 0,
                    "numCompletedStages": 1,
                    "numSkippedStages": 1,
                    "numFailedStages": 0,
                    "killedTasksSummary": {}
                  },
                  {
                    "displayName": "showString at NativeMethodAccessorImpl.java:0",
                    "dataWritten": 14533,
                    "dataRead": 19785875,
                    "rowCount": 22341,
                    "usageDescription": "",
                    "jobId": 4,
                    "name": "showString at NativeMethodAccessorImpl.java:0",
                    "description": "Job group for statement 13:\nprint(\"Count of Submissions by Subreddit\")\nprint(submissions.groupBy('subreddit').count().show())\n\nprint(\"Count of Comments by Subreddit\")\nprint(comments.groupBy('subreddit').count().show())",
                    "submissionTime": "2023-11-07T16:46:04.465GMT",
                    "completionTime": "2023-11-07T16:46:24.447GMT",
                    "stageIds": [
                      5
                    ],
                    "jobGroup": "13",
                    "status": "SUCCEEDED",
                    "numTasks": 64,
                    "numActiveTasks": 0,
                    "numCompletedTasks": 64,
                    "numSkippedTasks": 0,
                    "numFailedTasks": 0,
                    "numKilledTasks": 0,
                    "numCompletedIndices": 64,
                    "numActiveStages": 0,
                    "numCompletedStages": 1,
                    "numSkippedStages": 0,
                    "numFailedStages": 0,
                    "killedTasksSummary": {}
                  }
                ],
                "limit": 20,
                "rule": "ALL_DESC"
              },
              "parent_msg_id": "6bab632e-5a20-4966-8af2-9accf855185a"
            },
            "text/plain": "StatementMeta(d3c1b951-094c-48e1-919d-e32bc175397b, 14, 13, Finished, Available)"
          },
          "metadata": {}
        },
        {
          "output_type": "stream",
          "name": "stdout",
          "text": "Count of Submissions by Subreddit\n+-----------------+-----+\n|        subreddit|count|\n+-----------------+-----+\n|         jayhawks|  632|\n|CollegeBasketball|21290|\n|         tarheels|  230|\n+-----------------+-----+\n\nNone\nCount of Comments by Subreddit\n+-----------------+-------+\n|        subreddit|  count|\n+-----------------+-------+\n|         jayhawks|   6541|\n|CollegeBasketball|1567801|\n|         tarheels|    828|\n+-----------------+-------+\n\nNone\n"
        }
      ],
      "execution_count": 8,
      "metadata": {
        "jupyter": {
          "source_hidden": false,
          "outputs_hidden": false
        },
        "nteract": {
          "transient": {
            "deleting": false
          }
        },
        "gather": {
          "logged": 1699375642672
        }
      }
    },
    {
      "cell_type": "markdown",
      "source": [
        "The important variables in the submissions dataframe are \n",
        "\n",
        "1. `subreddit`: The Subreddit that the post is in\n",
        "2. `author` : Who authored the post\n",
        "3. `selftext` : The contents of the post\n",
        "4. `created_utc` : The timestamp of the post\n",
        "\n",
        "The important variables in the comments dataframe are \n",
        "\n",
        "1. `subreddit`: The Subreddit that the post is in\n",
        "2. `author` : Who authored the post\n",
        "3. `body` : The contents of the post\n",
        "4. `created_utc` : The timestamp of the post"
      ],
      "metadata": {
        "nteract": {
          "transient": {
            "deleting": false
          }
        }
      }
    },
    {
      "cell_type": "code",
      "source": [
        "print(\"Submissions Schema\")\n",
        "submissions.printSchema()\n",
        "\n",
        "print(\"Comments Schema\")\n",
        "comments.printSchema()"
      ],
      "outputs": [
        {
          "output_type": "display_data",
          "data": {
            "application/vnd.livy.statement-meta+json": {
              "spark_pool": "d3c1b951-094c-48e1-919d-e32bc175397b",
              "session_id": "14",
              "statement_id": 17,
              "state": "finished",
              "livy_statement_state": "available",
              "queued_time": "2023-11-07T16:47:53.9163368Z",
              "session_start_time": null,
              "execution_start_time": "2023-11-07T16:47:54.067456Z",
              "execution_finish_time": "2023-11-07T16:47:54.4145766Z",
              "spark_jobs": {
                "numbers": {
                  "RUNNING": 0,
                  "SUCCEEDED": 0,
                  "FAILED": 0,
                  "UNKNOWN": 0
                },
                "jobs": [],
                "limit": 20,
                "rule": "ALL_DESC"
              },
              "parent_msg_id": "75a3c748-af68-4f67-af11-4532009a79f5"
            },
            "text/plain": "StatementMeta(d3c1b951-094c-48e1-919d-e32bc175397b, 14, 17, Finished, Available)"
          },
          "metadata": {}
        },
        {
          "output_type": "stream",
          "name": "stdout",
          "text": "Submissions Schema\nroot\n |-- subreddit: string (nullable = true)\n |-- author: string (nullable = true)\n |-- author_flair_text: string (nullable = true)\n |-- title: string (nullable = true)\n |-- selftext: string (nullable = true)\n |-- created_utc: timestamp (nullable = true)\n |-- num_comments: long (nullable = true)\n\nComments Schema\nroot\n |-- subreddit: string (nullable = true)\n |-- author: string (nullable = true)\n |-- author_flair_text: string (nullable = true)\n |-- body: string (nullable = true)\n |-- parent_id: string (nullable = true)\n |-- link_id: string (nullable = true)\n |-- id: string (nullable = true)\n |-- created_utc: timestamp (nullable = true)\n\n"
        }
      ],
      "execution_count": 12,
      "metadata": {
        "jupyter": {
          "source_hidden": false,
          "outputs_hidden": false
        },
        "nteract": {
          "transient": {
            "deleting": false
          }
        },
        "gather": {
          "logged": 1699375674532
        }
      }
    },
    {
      "cell_type": "markdown",
      "source": [
        "#### Missing Data\n",
        "\n",
        "Since Reddit is a user driven platform there will likely be issues with missing text in posts or deleted posts/comments. Lets check for missing data before we proceed."
      ],
      "metadata": {
        "nteract": {
          "transient": {
            "deleting": false
          }
        }
      }
    },
    {
      "cell_type": "code",
      "source": [
        "# Submissions\n",
        "missing_values = [\"\", \"[deleted]\", \"[removed]\"]\n",
        "missing_df = submissions.withColumn(\"selftext\", when(col(\"selftext\").isin(missing_values), None).otherwise(col(\"selftext\")))\n",
        "missing_data_count = missing_df.filter(col(\"selftext\").isNull()).count()\n",
        "print(\"Missing Text Column in Submissions =\",missing_data_count)\n",
        "# Comments\n",
        "missing_df_c = comments.withColumn(\"body\", when(col(\"body\").isin(missing_values), None).otherwise(col(\"body\")))\n",
        "missing_data_count = missing_df_c.filter(col(\"body\").isNull()).count()\n",
        "print(\"Missing Text Column in Comments =\",missing_data_count)"
      ],
      "outputs": [
        {
          "output_type": "display_data",
          "data": {
            "application/vnd.livy.statement-meta+json": {
              "spark_pool": "d3c1b951-094c-48e1-919d-e32bc175397b",
              "session_id": "14",
              "statement_id": 24,
              "state": "finished",
              "livy_statement_state": "available",
              "queued_time": "2023-11-07T16:59:46.380616Z",
              "session_start_time": null,
              "execution_start_time": "2023-11-07T16:59:46.4989425Z",
              "execution_finish_time": "2023-11-07T16:59:48.2105512Z",
              "spark_jobs": {
                "numbers": {
                  "RUNNING": 0,
                  "SUCCEEDED": 4,
                  "FAILED": 0,
                  "UNKNOWN": 0
                },
                "jobs": [
                  {
                    "displayName": "count at NativeMethodAccessorImpl.java:0",
                    "dataWritten": 0,
                    "dataRead": 10738,
                    "rowCount": 182,
                    "usageDescription": "",
                    "jobId": 23,
                    "name": "count at NativeMethodAccessorImpl.java:0",
                    "description": "Job group for statement 24:\n# Submissions\nmissing_values = [\"\", \"[deleted]\", \"[removed]\"]\nmissing_df = submissions.withColumn(\"selftext\", when(col(\"selftext\").isin(missing_values), None).otherwise(col(\"selftext\")))\nmissing_data_count = missing_df.filter(col(\"selftext\").isNull()).count()\nprint(\"Missing Text Column in Submissions =\",missing_data_count)\n# Comments\nmissing_df_c = comments.withColumn(\"body\", when(col(\"body\").isin(missing_values), None).otherwise(col(\"body\")))\nmissing_data_count = missing_df_c.filter(col(\"body\").isNull()).count()\nprint(\"Missing Text Column in Comments =\",missing_data_count)",
                    "submissionTime": "2023-11-07T16:59:47.602GMT",
                    "completionTime": "2023-11-07T16:59:47.671GMT",
                    "stageIds": [
                      33,
                      32
                    ],
                    "jobGroup": "24",
                    "status": "SUCCEEDED",
                    "numTasks": 183,
                    "numActiveTasks": 0,
                    "numCompletedTasks": 1,
                    "numSkippedTasks": 182,
                    "numFailedTasks": 0,
                    "numKilledTasks": 0,
                    "numCompletedIndices": 1,
                    "numActiveStages": 0,
                    "numCompletedStages": 1,
                    "numSkippedStages": 1,
                    "numFailedStages": 0,
                    "killedTasksSummary": {}
                  },
                  {
                    "displayName": "count at NativeMethodAccessorImpl.java:0",
                    "dataWritten": 10738,
                    "dataRead": 221013960,
                    "rowCount": 457,
                    "usageDescription": "",
                    "jobId": 22,
                    "name": "count at NativeMethodAccessorImpl.java:0",
                    "description": "Job group for statement 24:\n# Submissions\nmissing_values = [\"\", \"[deleted]\", \"[removed]\"]\nmissing_df = submissions.withColumn(\"selftext\", when(col(\"selftext\").isin(missing_values), None).otherwise(col(\"selftext\")))\nmissing_data_count = missing_df.filter(col(\"selftext\").isNull()).count()\nprint(\"Missing Text Column in Submissions =\",missing_data_count)\n# Comments\nmissing_df_c = comments.withColumn(\"body\", when(col(\"body\").isin(missing_values), None).otherwise(col(\"body\")))\nmissing_data_count = missing_df_c.filter(col(\"body\").isNull()).count()\nprint(\"Missing Text Column in Comments =\",missing_data_count)",
                    "submissionTime": "2023-11-07T16:59:47.059GMT",
                    "completionTime": "2023-11-07T16:59:47.565GMT",
                    "stageIds": [
                      31
                    ],
                    "jobGroup": "24",
                    "status": "SUCCEEDED",
                    "numTasks": 182,
                    "numActiveTasks": 0,
                    "numCompletedTasks": 182,
                    "numSkippedTasks": 0,
                    "numFailedTasks": 0,
                    "numKilledTasks": 0,
                    "numCompletedIndices": 182,
                    "numActiveStages": 0,
                    "numCompletedStages": 1,
                    "numSkippedStages": 0,
                    "numFailedStages": 0,
                    "killedTasksSummary": {}
                  },
                  {
                    "displayName": "count at NativeMethodAccessorImpl.java:0",
                    "dataWritten": 0,
                    "dataRead": 3776,
                    "rowCount": 64,
                    "usageDescription": "",
                    "jobId": 21,
                    "name": "count at NativeMethodAccessorImpl.java:0",
                    "description": "Job group for statement 24:\n# Submissions\nmissing_values = [\"\", \"[deleted]\", \"[removed]\"]\nmissing_df = submissions.withColumn(\"selftext\", when(col(\"selftext\").isin(missing_values), None).otherwise(col(\"selftext\")))\nmissing_data_count = missing_df.filter(col(\"selftext\").isNull()).count()\nprint(\"Missing Text Column in Submissions =\",missing_data_count)\n# Comments\nmissing_df_c = comments.withColumn(\"body\", when(col(\"body\").isin(missing_values), None).otherwise(col(\"body\")))\nmissing_data_count = missing_df_c.filter(col(\"body\").isNull()).count()\nprint(\"Missing Text Column in Comments =\",missing_data_count)",
                    "submissionTime": "2023-11-07T16:59:46.918GMT",
                    "completionTime": "2023-11-07T16:59:46.965GMT",
                    "stageIds": [
                      30,
                      29
                    ],
                    "jobGroup": "24",
                    "status": "SUCCEEDED",
                    "numTasks": 65,
                    "numActiveTasks": 0,
                    "numCompletedTasks": 1,
                    "numSkippedTasks": 64,
                    "numFailedTasks": 0,
                    "numKilledTasks": 0,
                    "numCompletedIndices": 1,
                    "numActiveStages": 0,
                    "numCompletedStages": 1,
                    "numSkippedStages": 1,
                    "numFailedStages": 0,
                    "killedTasksSummary": {}
                  },
                  {
                    "displayName": "count at NativeMethodAccessorImpl.java:0",
                    "dataWritten": 3776,
                    "dataRead": 14031671,
                    "rowCount": 128,
                    "usageDescription": "",
                    "jobId": 20,
                    "name": "count at NativeMethodAccessorImpl.java:0",
                    "description": "Job group for statement 24:\n# Submissions\nmissing_values = [\"\", \"[deleted]\", \"[removed]\"]\nmissing_df = submissions.withColumn(\"selftext\", when(col(\"selftext\").isin(missing_values), None).otherwise(col(\"selftext\")))\nmissing_data_count = missing_df.filter(col(\"selftext\").isNull()).count()\nprint(\"Missing Text Column in Submissions =\",missing_data_count)\n# Comments\nmissing_df_c = comments.withColumn(\"body\", when(col(\"body\").isin(missing_values), None).otherwise(col(\"body\")))\nmissing_data_count = missing_df_c.filter(col(\"body\").isNull()).count()\nprint(\"Missing Text Column in Comments =\",missing_data_count)",
                    "submissionTime": "2023-11-07T16:59:46.678GMT",
                    "completionTime": "2023-11-07T16:59:46.892GMT",
                    "stageIds": [
                      28
                    ],
                    "jobGroup": "24",
                    "status": "SUCCEEDED",
                    "numTasks": 64,
                    "numActiveTasks": 0,
                    "numCompletedTasks": 64,
                    "numSkippedTasks": 0,
                    "numFailedTasks": 0,
                    "numKilledTasks": 0,
                    "numCompletedIndices": 64,
                    "numActiveStages": 0,
                    "numCompletedStages": 1,
                    "numSkippedStages": 0,
                    "numFailedStages": 0,
                    "killedTasksSummary": {}
                  }
                ],
                "limit": 20,
                "rule": "ALL_DESC"
              },
              "parent_msg_id": "68e764b1-04b7-45f3-8e96-992cd80204e1"
            },
            "text/plain": "StatementMeta(d3c1b951-094c-48e1-919d-e32bc175397b, 14, 24, Finished, Available)"
          },
          "metadata": {}
        },
        {
          "output_type": "stream",
          "name": "stdout",
          "text": "Missing Text Column in Submissions = 12348\nMissing Text Column in Comments = 85295\n"
        }
      ],
      "execution_count": 19,
      "metadata": {
        "jupyter": {
          "source_hidden": false,
          "outputs_hidden": false
        },
        "nteract": {
          "transient": {
            "deleting": false
          }
        },
        "gather": {
          "logged": 1699376388696
        }
      }
    },
    {
      "cell_type": "markdown",
      "source": [
        "There are over 12,000 missing posts in `Submissions` and around 85,000 missing comments in `Comments`. We will remove these before doing further analysis"
      ],
      "metadata": {
        "nteract": {
          "transient": {
            "deleting": false
          }
        }
      }
    },
    {
      "cell_type": "code",
      "source": [
        "submissions = missing_df.na.drop(subset=[\"selftext\"])\n",
        "comments = missing_df_c.na.drop(subset = [\"body\"])"
      ],
      "outputs": [
        {
          "output_type": "display_data",
          "data": {
            "application/vnd.livy.statement-meta+json": {
              "spark_pool": "d3c1b951-094c-48e1-919d-e32bc175397b",
              "session_id": "14",
              "statement_id": 27,
              "state": "finished",
              "livy_statement_state": "available",
              "queued_time": "2023-11-07T17:01:14.0518742Z",
              "session_start_time": null,
              "execution_start_time": "2023-11-07T17:01:14.1727914Z",
              "execution_finish_time": "2023-11-07T17:01:14.5271625Z",
              "spark_jobs": {
                "numbers": {
                  "RUNNING": 0,
                  "SUCCEEDED": 0,
                  "FAILED": 0,
                  "UNKNOWN": 0
                },
                "jobs": [],
                "limit": 20,
                "rule": "ALL_DESC"
              },
              "parent_msg_id": "f6de7077-4ed5-45be-bff0-bd28cd07db02"
            },
            "text/plain": "StatementMeta(d3c1b951-094c-48e1-919d-e32bc175397b, 14, 27, Finished, Available)"
          },
          "metadata": {}
        }
      ],
      "execution_count": 22,
      "metadata": {
        "jupyter": {
          "source_hidden": false,
          "outputs_hidden": false
        },
        "nteract": {
          "transient": {
            "deleting": false
          }
        },
        "gather": {
          "logged": 1699376475021
        }
      }
    },
    {
      "cell_type": "markdown",
      "source": [
        "The new counts of the subreddits with missing removed show about half of the submission data remaining, but a large portion of the comments data is intact."
      ],
      "metadata": {
        "nteract": {
          "transient": {
            "deleting": false
          }
        }
      }
    },
    {
      "cell_type": "code",
      "source": [
        "print(\"Count of Submissions by Subreddit with Missing Removed\")\n",
        "print(submissions.groupBy('subreddit').count().show())\n",
        "\n",
        "print(\"Count of Comments by Subreddit with Missing Removed\")\n",
        "print(comments.groupBy('subreddit').count().show())"
      ],
      "outputs": [
        {
          "output_type": "display_data",
          "data": {
            "application/vnd.livy.statement-meta+json": {
              "spark_pool": "d3c1b951-094c-48e1-919d-e32bc175397b",
              "session_id": "14",
              "statement_id": 28,
              "state": "finished",
              "livy_statement_state": "available",
              "queued_time": "2023-11-07T17:01:48.5896457Z",
              "session_start_time": null,
              "execution_start_time": "2023-11-07T17:01:48.7263341Z",
              "execution_finish_time": "2023-11-07T17:01:51.3511124Z",
              "spark_jobs": {
                "numbers": {
                  "RUNNING": 0,
                  "SUCCEEDED": 4,
                  "FAILED": 0,
                  "UNKNOWN": 0
                },
                "jobs": [
                  {
                    "displayName": "showString at NativeMethodAccessorImpl.java:0",
                    "dataWritten": 0,
                    "dataRead": 39825,
                    "rowCount": 515,
                    "usageDescription": "",
                    "jobId": 29,
                    "name": "showString at NativeMethodAccessorImpl.java:0",
                    "description": "Job group for statement 28:\nprint(\"Count of Submissions by Subreddit with Missing Removed\")\nprint(submissions.groupBy('subreddit').count().show())\n\nprint(\"Count of Comments by Subreddit with Missing Removed\")\nprint(comments.groupBy('subreddit').count().show())",
                    "submissionTime": "2023-11-07T17:01:50.562GMT",
                    "completionTime": "2023-11-07T17:01:50.658GMT",
                    "stageIds": [
                      40,
                      41
                    ],
                    "jobGroup": "28",
                    "status": "SUCCEEDED",
                    "numTasks": 183,
                    "numActiveTasks": 0,
                    "numCompletedTasks": 1,
                    "numSkippedTasks": 182,
                    "numFailedTasks": 0,
                    "numKilledTasks": 0,
                    "numCompletedIndices": 1,
                    "numActiveStages": 0,
                    "numCompletedStages": 1,
                    "numSkippedStages": 1,
                    "numFailedStages": 0,
                    "killedTasksSummary": {}
                  },
                  {
                    "displayName": "showString at NativeMethodAccessorImpl.java:0",
                    "dataWritten": 39825,
                    "dataRead": 220862225,
                    "rowCount": 790,
                    "usageDescription": "",
                    "jobId": 28,
                    "name": "showString at NativeMethodAccessorImpl.java:0",
                    "description": "Job group for statement 28:\nprint(\"Count of Submissions by Subreddit with Missing Removed\")\nprint(submissions.groupBy('subreddit').count().show())\n\nprint(\"Count of Comments by Subreddit with Missing Removed\")\nprint(comments.groupBy('subreddit').count().show())",
                    "submissionTime": "2023-11-07T17:01:49.524GMT",
                    "completionTime": "2023-11-07T17:01:50.538GMT",
                    "stageIds": [
                      39
                    ],
                    "jobGroup": "28",
                    "status": "SUCCEEDED",
                    "numTasks": 182,
                    "numActiveTasks": 0,
                    "numCompletedTasks": 182,
                    "numSkippedTasks": 0,
                    "numFailedTasks": 0,
                    "numKilledTasks": 0,
                    "numCompletedIndices": 182,
                    "numActiveStages": 0,
                    "numCompletedStages": 1,
                    "numSkippedStages": 0,
                    "numFailedStages": 0,
                    "killedTasksSummary": {}
                  },
                  {
                    "displayName": "showString at NativeMethodAccessorImpl.java:0",
                    "dataWritten": 0,
                    "dataRead": 11079,
                    "rowCount": 141,
                    "usageDescription": "",
                    "jobId": 27,
                    "name": "showString at NativeMethodAccessorImpl.java:0",
                    "description": "Job group for statement 28:\nprint(\"Count of Submissions by Subreddit with Missing Removed\")\nprint(submissions.groupBy('subreddit').count().show())\n\nprint(\"Count of Comments by Subreddit with Missing Removed\")\nprint(comments.groupBy('subreddit').count().show())",
                    "submissionTime": "2023-11-07T17:01:49.390GMT",
                    "completionTime": "2023-11-07T17:01:49.447GMT",
                    "stageIds": [
                      37,
                      38
                    ],
                    "jobGroup": "28",
                    "status": "SUCCEEDED",
                    "numTasks": 65,
                    "numActiveTasks": 0,
                    "numCompletedTasks": 1,
                    "numSkippedTasks": 64,
                    "numFailedTasks": 0,
                    "numKilledTasks": 0,
                    "numCompletedIndices": 1,
                    "numActiveStages": 0,
                    "numCompletedStages": 1,
                    "numSkippedStages": 1,
                    "numFailedStages": 0,
                    "killedTasksSummary": {}
                  },
                  {
                    "displayName": "showString at NativeMethodAccessorImpl.java:0",
                    "dataWritten": 11079,
                    "dataRead": 14026558,
                    "rowCount": 205,
                    "usageDescription": "",
                    "jobId": 26,
                    "name": "showString at NativeMethodAccessorImpl.java:0",
                    "description": "Job group for statement 28:\nprint(\"Count of Submissions by Subreddit with Missing Removed\")\nprint(submissions.groupBy('subreddit').count().show())\n\nprint(\"Count of Comments by Subreddit with Missing Removed\")\nprint(comments.groupBy('subreddit').count().show())",
                    "submissionTime": "2023-11-07T17:01:48.875GMT",
                    "completionTime": "2023-11-07T17:01:49.360GMT",
                    "stageIds": [
                      36
                    ],
                    "jobGroup": "28",
                    "status": "SUCCEEDED",
                    "numTasks": 64,
                    "numActiveTasks": 0,
                    "numCompletedTasks": 64,
                    "numSkippedTasks": 0,
                    "numFailedTasks": 0,
                    "numKilledTasks": 0,
                    "numCompletedIndices": 64,
                    "numActiveStages": 0,
                    "numCompletedStages": 1,
                    "numSkippedStages": 0,
                    "numFailedStages": 0,
                    "killedTasksSummary": {}
                  }
                ],
                "limit": 20,
                "rule": "ALL_DESC"
              },
              "parent_msg_id": "10081c32-afde-4178-9747-50bc95afe9c6"
            },
            "text/plain": "StatementMeta(d3c1b951-094c-48e1-919d-e32bc175397b, 14, 28, Finished, Available)"
          },
          "metadata": {}
        },
        {
          "output_type": "stream",
          "name": "stdout",
          "text": "Count of Submissions by Subreddit with Missing Removed\n+-----------------+-----+\n|        subreddit|count|\n+-----------------+-----+\n|         jayhawks|  204|\n|CollegeBasketball| 9567|\n|         tarheels|   33|\n+-----------------+-----+\n\nNone\nCount of Comments by Subreddit with Missing Removed\n+-----------------+-------+\n|        subreddit|  count|\n+-----------------+-------+\n|         jayhawks|   6328|\n|CollegeBasketball|1482767|\n|         tarheels|    780|\n+-----------------+-------+\n\nNone\n"
        }
      ],
      "execution_count": 23,
      "metadata": {
        "jupyter": {
          "source_hidden": false,
          "outputs_hidden": false
        },
        "nteract": {
          "transient": {
            "deleting": false
          }
        },
        "gather": {
          "logged": 1699376511509
        }
      }
    },
    {
      "cell_type": "markdown",
      "source": [
        "#### First Snapshot of Data\n",
        "\n",
        "Here we can see the most important columns from `submissions` and `comments`. The `selftext` and `body` columns hold the post and comments, respectively."
      ],
      "metadata": {
        "nteract": {
          "transient": {
            "deleting": false
          }
        }
      }
    },
    {
      "cell_type": "code",
      "source": [
        "print(\"Submission Data\")\n",
        "submissions.select(\"subreddit\", \"author\", \"title\", \"selftext\", \"created_utc\", \"num_comments\").show()"
      ],
      "outputs": [
        {
          "output_type": "display_data",
          "data": {
            "application/vnd.livy.statement-meta+json": {
              "spark_pool": "d3c1b951-094c-48e1-919d-e32bc175397b",
              "session_id": "14",
              "statement_id": 29,
              "state": "finished",
              "livy_statement_state": "available",
              "queued_time": "2023-11-07T17:03:57.2942146Z",
              "session_start_time": null,
              "execution_start_time": "2023-11-07T17:03:57.4213948Z",
              "execution_finish_time": "2023-11-07T17:03:58.3646042Z",
              "spark_jobs": {
                "numbers": {
                  "RUNNING": 0,
                  "SUCCEEDED": 1,
                  "FAILED": 0,
                  "UNKNOWN": 0
                },
                "jobs": [
                  {
                    "displayName": "showString at NativeMethodAccessorImpl.java:0",
                    "dataWritten": 0,
                    "dataRead": 1111728,
                    "rowCount": 1,
                    "usageDescription": "",
                    "jobId": 30,
                    "name": "showString at NativeMethodAccessorImpl.java:0",
                    "description": "Job group for statement 29:\nprint(\"Submission Data\")\nsubmissions.select(\"subreddit\", \"author\", \"title\", \"selftext\", \"created_utc\", \"num_comments\").show()",
                    "submissionTime": "2023-11-07T17:03:57.503GMT",
                    "completionTime": "2023-11-07T17:03:57.597GMT",
                    "stageIds": [
                      42
                    ],
                    "jobGroup": "29",
                    "status": "SUCCEEDED",
                    "numTasks": 1,
                    "numActiveTasks": 0,
                    "numCompletedTasks": 1,
                    "numSkippedTasks": 0,
                    "numFailedTasks": 0,
                    "numKilledTasks": 0,
                    "numCompletedIndices": 1,
                    "numActiveStages": 0,
                    "numCompletedStages": 1,
                    "numSkippedStages": 0,
                    "numFailedStages": 0,
                    "killedTasksSummary": {}
                  }
                ],
                "limit": 20,
                "rule": "ALL_DESC"
              },
              "parent_msg_id": "bf280e49-1cb0-468b-b290-f121deefbe60"
            },
            "text/plain": "StatementMeta(d3c1b951-094c-48e1-919d-e32bc175397b, 14, 29, Finished, Available)"
          },
          "metadata": {}
        },
        {
          "output_type": "stream",
          "name": "stdout",
          "text": "Submission Data\n+-----------------+--------------------+--------------------+--------------------+-------------------+------------+\n|        subreddit|              author|               title|            selftext|        created_utc|num_comments|\n+-----------------+--------------------+--------------------+--------------------+-------------------+------------+\n|CollegeBasketball|             rCBBMod|Announcement: The...|Hello r/CollegeBa...|2022-03-17 14:00:50|           9|\n|CollegeBasketball|       AutoModerator|[Weekly Post] Fre...|Are you new to th...|2022-04-29 15:00:11|           0|\n|CollegeBasketball|       AutoModerator|[Weekly Post] Fre...|It's Free Talk Fr...|2022-04-29 15:00:11|           1|\n|CollegeBasketball|              cbbBot|[Game Thread] Neb...|[Nebraska](#f/neb...|2022-02-23 00:54:05|          41|\n|CollegeBasketball|              cbbBot|[Game Thread] Kan...|[Kansas State](#f...|2022-02-23 01:00:04|         626|\n|CollegeBasketball|              cbbBot|[Game Thread] #24...|[Alabama](#f/alab...|2022-02-23 01:00:05|         198|\n|CollegeBasketball|              cbbBot|[Game Thread] San...|[San Diego State]...|2022-02-23 01:00:06|         135|\n|CollegeBasketball|              i_MiLK|Meet the Mid-Majo...|Hello March Madne...|2022-03-07 14:41:43|           5|\n|CollegeBasketball|          INtoCT2015|Izzo surpasses Bo...|Sorry to hijack I...|2022-03-07 14:50:10|           9|\n|CollegeBasketball|   urdueBoilermakers|Since the Big Ten...|(Note, when Purdu...|2022-03-07 14:55:07|          47|\n|CollegeBasketball|          sourceit88|240 Teams are sti...|Sunday had 17 new...|2022-03-07 14:58:37|           4|\n|CollegeBasketball|          cbbpollbot|  User Poll: Week 18|\\nRank||Team (Fir...|2022-03-07 15:00:04|         173|\n|CollegeBasketball|  Sharp_Quarter_8343|               BIG10|Anyone else think...|2022-03-07 15:03:26|          19|\n|CollegeBasketball|              cbbBot|Game Thread Index...|# Ranked Games\\n\\...|2022-03-07 15:07:07|           0|\n|CollegeBasketball|      TallLatvianLad|Mid-Major+ User P...|Rankings of teams...|2022-03-07 15:11:12|           9|\n|         tarheels|SteelHeelNittanyLion|What seed do you ...|[removed]\\n\\n[Vie...|2022-03-07 15:12:34|           0|\n|CollegeBasketball|              cbbBot|[Game Thread] #18...|[Texas](#f/texas)...|2021-12-19 19:00:06|          23|\n|CollegeBasketball|              cbbBot|[Game Thread] UT ...|[UT Martin](#f/ut...|2021-12-19 19:00:10|           0|\n|CollegeBasketball|              cbbBot|[Game Thread] UT ...|[UT Arlington](#f...|2021-12-19 19:00:14|           2|\n|CollegeBasketball|              cbbBot|[Game Thread] SMU...|[SMU](#f/smu) **9...|2021-12-19 19:00:19|           3|\n+-----------------+--------------------+--------------------+--------------------+-------------------+------------+\nonly showing top 20 rows\n\n"
        }
      ],
      "execution_count": 24,
      "metadata": {
        "jupyter": {
          "source_hidden": false,
          "outputs_hidden": false
        },
        "nteract": {
          "transient": {
            "deleting": false
          }
        },
        "gather": {
          "logged": 1699376638664
        }
      }
    },
    {
      "cell_type": "code",
      "source": [
        "print(\"Comments Data\")\n",
        "comments.select(\"subreddit\", \"author\",\"author_flair_text\", \"body\", \"created_utc\").show()"
      ],
      "outputs": [
        {
          "output_type": "display_data",
          "data": {
            "application/vnd.livy.statement-meta+json": {
              "spark_pool": "d3c1b951-094c-48e1-919d-e32bc175397b",
              "session_id": "14",
              "statement_id": 33,
              "state": "finished",
              "livy_statement_state": "available",
              "queued_time": "2023-11-07T17:05:08.8498349Z",
              "session_start_time": null,
              "execution_start_time": "2023-11-07T17:05:08.9997042Z",
              "execution_finish_time": "2023-11-07T17:05:09.9922256Z",
              "spark_jobs": {
                "numbers": {
                  "RUNNING": 0,
                  "SUCCEEDED": 1,
                  "FAILED": 0,
                  "UNKNOWN": 0
                },
                "jobs": [
                  {
                    "displayName": "showString at NativeMethodAccessorImpl.java:0",
                    "dataWritten": 0,
                    "dataRead": 11742776,
                    "rowCount": 1,
                    "usageDescription": "",
                    "jobId": 31,
                    "name": "showString at NativeMethodAccessorImpl.java:0",
                    "description": "Job group for statement 33:\nprint(\"Comments Data\")\ncomments.select(\"subreddit\", \"author\",\"author_flair_text\", \"body\", \"created_utc\").show()",
                    "submissionTime": "2023-11-07T17:05:09.065GMT",
                    "completionTime": "2023-11-07T17:05:09.136GMT",
                    "stageIds": [
                      43
                    ],
                    "jobGroup": "33",
                    "status": "SUCCEEDED",
                    "numTasks": 1,
                    "numActiveTasks": 0,
                    "numCompletedTasks": 1,
                    "numSkippedTasks": 0,
                    "numFailedTasks": 0,
                    "numKilledTasks": 0,
                    "numCompletedIndices": 1,
                    "numActiveStages": 0,
                    "numCompletedStages": 1,
                    "numSkippedStages": 0,
                    "numFailedStages": 0,
                    "killedTasksSummary": {}
                  }
                ],
                "limit": 20,
                "rule": "ALL_DESC"
              },
              "parent_msg_id": "0cec2989-d24e-4e9c-9e3f-6ffded83b129"
            },
            "text/plain": "StatementMeta(d3c1b951-094c-48e1-919d-e32bc175397b, 14, 33, Finished, Available)"
          },
          "metadata": {}
        },
        {
          "output_type": "stream",
          "name": "stdout",
          "text": "Comments Data\n+-----------------+-------------------+--------------------+--------------------+-------------------+\n|        subreddit|             author|   author_flair_text|                body|        created_utc|\n+-----------------+-------------------+--------------------+--------------------+-------------------+\n|CollegeBasketball|         joeveralls|:cincinnati: :ohi...|Nothing is fallin...|2021-11-14 00:27:16|\n|CollegeBasketball|       DaddyStone13|:cincinnati: :big...|lol i forgot abou...|2021-11-14 00:27:51|\n|CollegeBasketball|        seahawksjoe|   :usc: USC Trojans|Also, half of the...|2021-11-14 00:28:36|\n|CollegeBasketball|       CheeseAndCam|:iowastate: Iowa ...|I like how Creigh...|2021-11-14 00:30:06|\n|CollegeBasketball|          [deleted]|                null|  Losing, apparently|2021-11-14 00:30:17|\n|CollegeBasketball|       corranhorn57|:cincinnati: Cinc...|Oklahoma lost, th...|2021-11-14 00:30:26|\n|CollegeBasketball|SwimmingInYourPants|   :usc: USC Trojans|Ah, I missed thes...|2021-11-14 00:30:29|\n|CollegeBasketball|          Papytendo|:temple: :bestofw...|This gonna be one...|2021-11-14 00:30:32|\n|CollegeBasketball|           love2Vax|:rutgers: Rutgers...|He was missing sh...|2021-11-14 00:31:19|\n|CollegeBasketball|        seahawksjoe|   :usc: USC Trojans|This man really j...|2021-11-14 00:31:51|\n|CollegeBasketball|         Cnsrbstrmp|:cincinnati: Cinc...|High IQ play ther...|2021-11-14 00:32:11|\n|CollegeBasketball|              s-sea|:usc: :nebraska: ...|yeesh yeah, 14 fo...|2021-11-14 00:32:15|\n|CollegeBasketball|           myth7550|:indiana: Indiana...|      You bet we do!|2021-11-14 00:32:52|\n|CollegeBasketball|            mjd1977|:vanderbilt: :vil...|Northern Iowa. Fa...|2021-11-14 00:33:16|\n|CollegeBasketball| WildfireTommyBitch|:memphis: Memphis...|Checking in on a ...|2021-11-14 00:33:21|\n|CollegeBasketball|       corranhorn57|:cincinnati: Cinc...|  Now we’re rolling!|2021-11-14 00:34:14|\n|CollegeBasketball|              s-sea|:usc: :nebraska: ...|lmao, I'm watchin...|2021-11-14 00:34:28|\n|CollegeBasketball|         Cnsrbstrmp|:cincinnati: Cinc...|        Attaway CATS|2021-11-14 00:34:31|\n|CollegeBasketball|         MusaEnsete|:michigan: Michig...|So glad to see th...|2021-11-14 00:34:58|\n|CollegeBasketball|      HurricaneHugo|:ucsd: :sandiegos...|         Pretty cool|2021-11-14 00:35:19|\n+-----------------+-------------------+--------------------+--------------------+-------------------+\nonly showing top 20 rows\n\n"
        }
      ],
      "execution_count": 28,
      "metadata": {
        "jupyter": {
          "source_hidden": false,
          "outputs_hidden": false
        },
        "nteract": {
          "transient": {
            "deleting": false
          }
        },
        "gather": {
          "logged": 1699376710547
        }
      }
    },
    {
      "cell_type": "markdown",
      "source": [
        "#### Creating author flair column\n",
        "\n",
        "`author_flair_text` is a column that contains information about the user icon of the reddit user. In most of these posts this is the team that the author supports. Here we create a new variable that indicates who the author of the comment or post supports"
      ],
      "metadata": {
        "nteract": {
          "transient": {
            "deleting": false
          }
        }
      }
    },
    {
      "cell_type": "code",
      "source": [
        "team_pattern = r\":([\\w\\s]+):\"\n",
        "\n",
        "# Extract the team names and create the \"supported_team\" column\n",
        "submissions = submissions.withColumn(\"supported_team\", regexp_extract(col(\"author_flair_text\"), team_pattern, 1))\n",
        "comments = comments.withColumn(\"supported_team\", regexp_extract(col(\"author_flair_text\"), team_pattern, 1))"
      ],
      "outputs": [
        {
          "output_type": "display_data",
          "data": {
            "application/vnd.livy.statement-meta+json": {
              "spark_pool": "d3c1b951-094c-48e1-919d-e32bc175397b",
              "session_id": "14",
              "statement_id": 38,
              "state": "finished",
              "livy_statement_state": "available",
              "queued_time": "2023-11-07T17:15:12.2454339Z",
              "session_start_time": null,
              "execution_start_time": "2023-11-07T17:15:12.3914442Z",
              "execution_finish_time": "2023-11-07T17:15:12.7399035Z",
              "spark_jobs": {
                "numbers": {
                  "RUNNING": 0,
                  "SUCCEEDED": 0,
                  "FAILED": 0,
                  "UNKNOWN": 0
                },
                "jobs": [],
                "limit": 20,
                "rule": "ALL_DESC"
              },
              "parent_msg_id": "2cc670c6-7439-4aa6-bcb2-699f84410272"
            },
            "text/plain": "StatementMeta(d3c1b951-094c-48e1-919d-e32bc175397b, 14, 38, Finished, Available)"
          },
          "metadata": {}
        }
      ],
      "execution_count": 33,
      "metadata": {
        "jupyter": {
          "source_hidden": false,
          "outputs_hidden": false
        },
        "nteract": {
          "transient": {
            "deleting": false
          }
        },
        "gather": {
          "logged": 1699377312856
        }
      }
    },
    {
      "cell_type": "markdown",
      "source": [
        "If we remove the `r/tarheels` and `r/jayhawks` subreddits from our data temporarily we can get a good idea of what teams are the most supported in the user base of `r/CollegeBasektball`. \n",
        "\n",
        "In `submissions` the most common icons are the default `rcbb` (r/collegebasketball) and `null` (no icon). Ignoring those we see that the most supported teams are Florida State, Illinois, Purdue, and Duke. In `comments`, `null` is the most common icon, however after that the most supported teams are Purdue, North Carolina, Illinois, and Kentucky. \n",
        "\n",
        "This shows that some fan bases may be more active posters while others may be more involved in the comments section. "
      ],
      "metadata": {
        "nteract": {
          "transient": {
            "deleting": false
          }
        }
      }
    },
    {
      "cell_type": "code",
      "source": [
        "print(\"Submissions Top Supported Teams\")\n",
        "submissions.filter(col(\"subreddit\")==\"CollegeBasketball\").groupBy(\"supported_team\").agg(count(\"*\").alias(\"count\")).orderBy(desc(\"count\")).show()\n",
        "print(\"Comments Top Supported Teams\")\n",
        "comments.filter(col(\"subreddit\")==\"CollegeBasketball\").groupBy(\"supported_team\").agg(count(\"*\").alias(\"count\")).orderBy(desc(\"count\")).show()"
      ],
      "outputs": [
        {
          "output_type": "display_data",
          "data": {
            "application/vnd.livy.statement-meta+json": {
              "spark_pool": "d3c1b951-094c-48e1-919d-e32bc175397b",
              "session_id": "14",
              "statement_id": 44,
              "state": "finished",
              "livy_statement_state": "available",
              "queued_time": "2023-11-07T17:18:39.7789744Z",
              "session_start_time": null,
              "execution_start_time": "2023-11-07T17:18:39.9433305Z",
              "execution_finish_time": "2023-11-07T17:18:43.8360918Z",
              "spark_jobs": {
                "numbers": {
                  "RUNNING": 0,
                  "SUCCEEDED": 4,
                  "FAILED": 0,
                  "UNKNOWN": 0
                },
                "jobs": [
                  {
                    "displayName": "showString at <unknown>:0",
                    "dataWritten": 0,
                    "dataRead": 2140445,
                    "rowCount": 37401,
                    "usageDescription": "",
                    "jobId": 46,
                    "name": "showString at <unknown>:0",
                    "description": "Job group for statement 44:\nprint(\"Submissions Top Supported Teams\")\nsubmissions.filter(col(\"subreddit\")==\"CollegeBasketball\").groupBy(\"supported_team\").agg(count(\"*\").alias(\"count\")).orderBy(desc(\"count\")).show()\nprint(\"Comments Top Supported Teams\")\ncomments.filter(col(\"subreddit\")==\"CollegeBasketball\").groupBy(\"supported_team\").agg(count(\"*\").alias(\"count\")).orderBy(desc(\"count\")).show()",
                    "submissionTime": "2023-11-07T17:18:43.288GMT",
                    "completionTime": "2023-11-07T17:18:43.397GMT",
                    "stageIds": [
                      63,
                      62
                    ],
                    "jobGroup": "44",
                    "status": "SUCCEEDED",
                    "numTasks": 184,
                    "numActiveTasks": 0,
                    "numCompletedTasks": 2,
                    "numSkippedTasks": 182,
                    "numFailedTasks": 0,
                    "numKilledTasks": 0,
                    "numCompletedIndices": 2,
                    "numActiveStages": 0,
                    "numCompletedStages": 1,
                    "numSkippedStages": 1,
                    "numFailedStages": 0,
                    "killedTasksSummary": {}
                  },
                  {
                    "displayName": "showString at <unknown>:0",
                    "dataWritten": 2140445,
                    "dataRead": 221033688,
                    "rowCount": 37676,
                    "usageDescription": "",
                    "jobId": 45,
                    "name": "showString at <unknown>:0",
                    "description": "Job group for statement 44:\nprint(\"Submissions Top Supported Teams\")\nsubmissions.filter(col(\"subreddit\")==\"CollegeBasketball\").groupBy(\"supported_team\").agg(count(\"*\").alias(\"count\")).orderBy(desc(\"count\")).show()\nprint(\"Comments Top Supported Teams\")\ncomments.filter(col(\"subreddit\")==\"CollegeBasketball\").groupBy(\"supported_team\").agg(count(\"*\").alias(\"count\")).orderBy(desc(\"count\")).show()",
                    "submissionTime": "2023-11-07T17:18:40.652GMT",
                    "completionTime": "2023-11-07T17:18:43.260GMT",
                    "stageIds": [
                      61
                    ],
                    "jobGroup": "44",
                    "status": "SUCCEEDED",
                    "numTasks": 182,
                    "numActiveTasks": 0,
                    "numCompletedTasks": 182,
                    "numSkippedTasks": 0,
                    "numFailedTasks": 0,
                    "numKilledTasks": 0,
                    "numCompletedIndices": 182,
                    "numActiveStages": 0,
                    "numCompletedStages": 1,
                    "numSkippedStages": 0,
                    "numFailedStages": 0,
                    "killedTasksSummary": {}
                  },
                  {
                    "displayName": "showString at <unknown>:0",
                    "dataWritten": 0,
                    "dataRead": 114894,
                    "rowCount": 1611,
                    "usageDescription": "",
                    "jobId": 44,
                    "name": "showString at <unknown>:0",
                    "description": "Job group for statement 44:\nprint(\"Submissions Top Supported Teams\")\nsubmissions.filter(col(\"subreddit\")==\"CollegeBasketball\").groupBy(\"supported_team\").agg(count(\"*\").alias(\"count\")).orderBy(desc(\"count\")).show()\nprint(\"Comments Top Supported Teams\")\ncomments.filter(col(\"subreddit\")==\"CollegeBasketball\").groupBy(\"supported_team\").agg(count(\"*\").alias(\"count\")).orderBy(desc(\"count\")).show()",
                    "submissionTime": "2023-11-07T17:18:40.488GMT",
                    "completionTime": "2023-11-07T17:18:40.533GMT",
                    "stageIds": [
                      60,
                      59
                    ],
                    "jobGroup": "44",
                    "status": "SUCCEEDED",
                    "numTasks": 65,
                    "numActiveTasks": 0,
                    "numCompletedTasks": 1,
                    "numSkippedTasks": 64,
                    "numFailedTasks": 0,
                    "numKilledTasks": 0,
                    "numCompletedIndices": 1,
                    "numActiveStages": 0,
                    "numCompletedStages": 1,
                    "numSkippedStages": 1,
                    "numFailedStages": 0,
                    "killedTasksSummary": {}
                  },
                  {
                    "displayName": "showString at <unknown>:0",
                    "dataWritten": 114894,
                    "dataRead": 13989770,
                    "rowCount": 1675,
                    "usageDescription": "",
                    "jobId": 43,
                    "name": "showString at <unknown>:0",
                    "description": "Job group for statement 44:\nprint(\"Submissions Top Supported Teams\")\nsubmissions.filter(col(\"subreddit\")==\"CollegeBasketball\").groupBy(\"supported_team\").agg(count(\"*\").alias(\"count\")).orderBy(desc(\"count\")).show()\nprint(\"Comments Top Supported Teams\")\ncomments.filter(col(\"subreddit\")==\"CollegeBasketball\").groupBy(\"supported_team\").agg(count(\"*\").alias(\"count\")).orderBy(desc(\"count\")).show()",
                    "submissionTime": "2023-11-07T17:18:40.085GMT",
                    "completionTime": "2023-11-07T17:18:40.450GMT",
                    "stageIds": [
                      58
                    ],
                    "jobGroup": "44",
                    "status": "SUCCEEDED",
                    "numTasks": 64,
                    "numActiveTasks": 0,
                    "numCompletedTasks": 64,
                    "numSkippedTasks": 0,
                    "numFailedTasks": 0,
                    "numKilledTasks": 0,
                    "numCompletedIndices": 64,
                    "numActiveStages": 0,
                    "numCompletedStages": 1,
                    "numSkippedStages": 0,
                    "numFailedStages": 0,
                    "killedTasksSummary": {}
                  }
                ],
                "limit": 20,
                "rule": "ALL_DESC"
              },
              "parent_msg_id": "0cb9bc6a-c8cb-4246-a1bf-540cf260d654"
            },
            "text/plain": "StatementMeta(d3c1b951-094c-48e1-919d-e32bc175397b, 14, 44, Finished, Available)"
          },
          "metadata": {}
        },
        {
          "output_type": "stream",
          "name": "stdout",
          "text": "Submissions Top Supported Teams\n+----------------+-----+\n|  supported_team|count|\n+----------------+-----+\n|            rcbb| 6632|\n|            null|  821|\n|    floridastate|  124|\n|        illinois|   89|\n|          purdue|   84|\n|            duke|   69|\n|   northcarolina|   66|\n|          kansas|   64|\n|       iowastate|   64|\n|        virginia|   62|\n|        kentucky|   62|\n|     connecticut|   51|\n|          dayton|   48|\n|        michigan|   43|\n|mississippistate|   42|\n|         indiana|   36|\n|         gonzaga|   35|\n|    sanjosestate|   35|\n|   michiganstate|   33|\n|          auburn|   32|\n+----------------+-----+\nonly showing top 20 rows\n\nComments Top Supported Teams\n+--------------+------+\n|supported_team| count|\n+--------------+------+\n|          null|173474|\n|        purdue| 72772|\n| northcarolina| 68933|\n|      illinois| 62610|\n|      kentucky| 56856|\n|        kansas| 55664|\n|      michigan| 52395|\n| michiganstate| 51169|\n|       indiana| 40537|\n|        auburn| 39623|\n|          duke| 34871|\n|     texastech| 34346|\n|     iowastate| 32179|\n|     wisconsin| 32087|\n|          iowa| 27663|\n|      virginia| 25376|\n|       arizona| 24325|\n|      arkansas| 22708|\n|       gonzaga| 21720|\n|     ohiostate| 20953|\n+--------------+------+\nonly showing top 20 rows\n\n"
        }
      ],
      "execution_count": 39,
      "metadata": {
        "jupyter": {
          "source_hidden": false,
          "outputs_hidden": false
        },
        "nteract": {
          "transient": {
            "deleting": false
          }
        },
        "gather": {
          "logged": 1699377523949
        }
      }
    },
    {
      "cell_type": "markdown",
      "source": [
        "Using this cleaned data we will proceed to answer our business questions"
      ],
      "metadata": {
        "nteract": {
          "transient": {
            "deleting": false
          }
        }
      }
    }
  ],
  "metadata": {
    "kernelspec": {
      "name": "synapse_pyspark",
      "language": "Python",
      "display_name": "Synapse PySpark"
    },
    "language_info": {
      "name": "python",
      "version": "3.8.0",
      "mimetype": "text/x-python",
      "file_extension": ".py",
      "pygments_lexer": "ipython",
      "codemirror_mode": "ipython",
      "nbconvert_exporter": "python"
    },
    "microsoft": {
      "ms_spell_check": {
        "ms_spell_check_language": "en"
      },
      "host": {
        "AzureML": {
          "notebookHasBeenCompleted": true
        }
      }
    },
    "kernel_info": {
      "name": "synapse_pyspark"
    },
    "nteract": {
      "version": "nteract-front-end@1.0.0"
    }
  },
  "nbformat": 4,
  "nbformat_minor": 2
}
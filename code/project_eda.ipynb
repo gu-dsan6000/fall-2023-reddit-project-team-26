{
  "cells": [
    {
      "cell_type": "markdown",
      "source": [
        "# Project EDA Notebook"
      ],
      "metadata": {},
      "id": "ee8ae429-47c6-4761-982f-512698bbf719"
    },
    {
      "cell_type": "markdown",
      "source": [
        "### Project by Klaas van Kempen, Shihong Zhou, Yifan Hu, and Katherine Nunez\n",
        "\n",
        "## Overview of the Project\n",
        "\n",
        "This project will use the given Reddit data to explore how Reddit users view, react to, and analyze collegiate basketball. We will compare sentiments and use external datasets such as team records and injuries to better understand how Reddit users react to their team successes or failures. \n",
        "\n",
        "This project will center around three different areas of analysis: exploratory data analysis, natural language processing (NLP), and machine learning. We expect these three different areas of analysis to display different areas of the dataset and allow us to answer a variety of questions about this data. \n",
        "\n",
        "We will use the Reddit data to explore the differences in sentiment between collegiate basketball fans and how the fans of the top teams from 2021-2022 reacted over the course of the season. We chose to limit our data to 2021-2022 because we wanted to ensure that our data captured an entire basketball season. The collegiate season ranges from November to about March, so by taking our data from October 2021 to April 2022, we are able to ensure that we can capture the data from an entire basketball season.\n",
        "\n",
        "\n",
        "### Overview of Colleagiate Basketball\n",
        "\n",
        "Although professional and collegiate basketball are very related, there are some key differences that we want to establish before engaging in any exploratory data analysis. We expect these differences to become apparent in some of our sentiment analysis, NLP, and even in the exploratory phase of this project.\n",
        "\n",
        "\n",
        "**Collegiate Basketball:** Collegiate basketball in the United States is regulated primarily by the National Collegiate Athletic Association (NCAA). For the purposes of this project, we will be focusing on NCAA division 1 (D1) college basketball. College basketball is sorted into conferences (which typically align across sports for schools), which determines most of each team's scheduled opponents and the conference championship tournament. At the end of each season, there is a gigantic tournament to determine the college basketball champion, colloquially called March Madness. In March, 64 teams (plus four other teams who play a \"play-in game\") compete in a single-elimination tournament to determine the champion for the season. These players are considered amateurs, i.e. they do not receive contracts, but each collegiate basketball player is eligible to receive sponsorships and advertisement revenues.\n",
        "\n",
        "Part of our analysis will by analyzing the r/CBB (college basketball) subreddit, but we will also be analyzing the r/jayhawks and r/UNC, the two teams to make the finals for college basketball in 2022 (Kansas won!). This way, we can also track the sentiments of the fans of the two most successful college basketball teams across the course of the season on their championship runs.\n",
        "\n"
      ],
      "metadata": {},
      "id": "6ac6cc23-dcb0-4013-8318-7d0f80d47dbf"
    },
    {
      "cell_type": "markdown",
      "source": [
        "## Business Goals: Questions To Answer\n",
        "\n",
        "Over the course of this project, we aim to answer different data science questions. The first few questions will be exploratory data analysis, which we have presented for you here. The next questions will be on NLP and machine learning, which will vary in complexity and in which part of the data set they are analyzing. We aim to answer these questions through multiple visual avenues, including plots, graphs, and charts, and aim to expose some interesting trends in professional and collegiate basketball over the course of the 2022 season.\n",
        "\n",
        "### Exploratory Data Analysis Questions\n",
        "\n",
        "**Business Goal 1:** Determine which college basketball games had the most reddit engagement. \\\n",
        "**Technical Proposal:** Use word counts in comments and number of comments to determine which game had the most fan engagement online. Identify trends in when major games occur and if there are any similarities in which teams compete in these games. Possibly correlate these major games to most successful teams by record and ranking.\n",
        "\n",
        "**Business Goal 2:** Determine how reddit activity ebbs and flows over the course of a collegiate basketball season. Construct visuals to aid in understanding how much reddit users post over the course of the 2022 season. \\\n",
        "**Technical Proposal:** Use exploratory data analysis techniques to achieve some of the same outcomes as the goal above, only with collegiate subreddit data. Create opportunity to identify differences in the trends between professional and collegiate sports through word counts and post counts over the course of the season. Identify any differences between the overall CBB subreddit activity and the subreddits of the individual teams we have chosen.\n",
        "\n",
        "**Business Goal 3:** Explore how the subreddit page of the NCAA champion in 2022, the Kansas Jayhawks, varied over the course of the season. Identify any trends in post frequency or comment length that may correlate to on-the-court successes or failures. \\\n",
        "**Technical Proposal:** Use trend analysis and count number of comments and comment lengths to determine excitement over the course of the NBA season. Correlate any major trends to outside data sets, including Jayhawks wins and losses or injuries of key players. Analyze any additional trends in activity over the course of the 2022 season to find any other additional results before entering into the NLP phase of the project.\n",
        "\n",
        "**Business Goal 4:** Identify the teams that have the most engagement on the main college basketball subreddit.\n",
        "**Technical Proposal:** Use grouping and sorting algorithms to find which college basketball teams are the most mentioned teams. Identify if these mentions ebb or flow over the course of the season. Incorporate external datasets such as basketball rankings to correlate mentions with popular games or teams.\n",
        "\n",
        "### Natural Language Processing (NLP) Questions\n",
        "\n",
        "**Business Goal 5:** Rank CBB players in terms of popularity across subreddits. Determine if the popularity is \"positive\" or \"negative\". \\\n",
        "**Technical Proposal:** Use NLP techniques to identify which players are the most popular in collegiate basketball by analyzing how many times they are mentioned or are referred to in comments. Extract mentions of player names using NLP techniques and count frequency. Combine with sentiment scores to create a popularity index. Use sentiment analysis techniques to determine if this popularity is due to positive or negative sentiment. Compare trends in these players' appearance in comments to external factors, such as on-the-court statistics or injuries.\n",
        "\n",
        "**Business Goal 6:** Understand how player transfers in CBB affect fan engagement on relevant subreddits. \\\n",
        "**Technical Proposal:** Conduct time-series analysis of post and comment frequencies before and after trade announcements. Apply statistical tests to determine significance. Use sentiment analysis to determine how fans feel about each trade. Integrate external data sets to see if fan sentiment agrees with conventional wisdom on the success of trades.\n",
        "\n",
        "**Business Goal 7:** Determine how collegiate fan bases react after big wins and big losses. Identify volatility over the course of the season, especially for teams we know reach the championship. \\\n",
        "**Technical Proposal:** Identify fan sentiment for two days following a \"big win\" or a \"big loss\". A big win could be some definition such as by beating a team by 20 points, and a big loss could be some definition such as losing to a team by more than 20 points. Analyze how fans of championship-caliber teams react to victory and defeat. Use NLP techniques to identify any rivalries or particularly important games to fanbases.\n",
        "\n",
        "**Business Goal 8:** Determine if sentiment correlates to team success on CBB subreddits. Identify fan sentiment over the course of a championship-caliber season. \\\n",
        "**Technical Proposal:** Use NLP techniques to conduct trend analysis on sentiment across individual subreddits for CBB teams. Identify how positive and negative sentiment fluxuate over the course of a season. Use NLP to identify additional trends around March and June, the time of the playoffs, and how fan sentiment changes (or does not change) during the postseason.\n",
        "\n",
        "**Business Goal 9:** Determine which teams are the most liked or most hated in college basketball. \\\n",
        "**Technical Proposal:** Incorporate results of the EDA portion of most mentioned teams. Conduct NLP analysis to determine if these mentions are positive or negative. Expand analysis to surrounding comments and threads to understand which teams are generally viewed favorably or which are viewed negatively. Use external news sources to understand how fans view unlikely winners, such as \"cinderella stories,\" or losers, such as \"upsets.\"\n",
        "\n",
        "\n",
        "### Machine Learning Questions\n",
        "\n",
        "**Business Goal 9:** Assess if the sentiment on CBB subreddits can help predict game outcomes. \\\n",
        "**Technical Proposal:** Build a machine learning model using historical game outcomes and pre-game subreddit sentiment as features. Use external data sets, such as season win/loss records, to create predictive model that incorporates pre-game sentiment. Test data on 2022-2023 season to determine accuracy of said model.\n",
        "\n",
        "**Business Goal 10:** Determine what do subreddits look like in the lead up to big games or big tournaments. \\\n",
        "**Technical Proposal:** Start with postseason sentiment analysis, then use cluster modeling or some similar machine learning technique to identify important games throughout the course of the season. Correlate these important games to external factors, such as rivalries, injuries, or trades. Visualize results by grouping important games over the course of the regular season and post season.\n",
        "\n",
        "**Business Goal 11:** Assess if the Kansas Jayhawks or UNC Tar Heel subreddits more volatile throughout the season. \\\n",
        "**Technical Proposal:** Compare NBA and CBB subreddits using a multitude of machine learning techniques to identify which have more varied reactions, posting tempos, or other factors. Identify which have a wider variety of types of post and poster over the course of a season. Determine if NBA fans or CBB fans are more volatile in their reaction timing, tempo, length, and frequency over the course of a season.\n",
        "\n",
        "**Business Goal 12:** Predict which college basketball players will become major NBA stars based on Reddit discussions. \\\n",
        "**Technical Proposal:** Monitor mentions and sentiments around CBB players. Track those who enter the NBA and evaluate their performance using regression analysis against Reddit metrics. Use draft status and 2022-2023 NBA season statistics to verify these outcomes.\n",
        "\n",
        "\n",
        "\n",
        "\n",
        "### An Aside\n",
        "\n",
        "We initially conceptualized this project as a comparison of professional and collegiate basketball. When we began our initial data pulls of the reddit data, we found that this data would be too big and too unweildy to complete a project like this one. Below is our overview of professional basketball and our initial proposal.\n",
        "\n",
        "**Professional Basketball:** Professional basketball in the United States is played in the National Basketball Association (NBA). The NBA has feeder leagues (such as the G League), and there are other international leagues as well. The NBA consists of 30 teams, most if not all of which have their own subreddits. Each NBA team has 15 players, in addition to two two-way contracts between the NBA and the G League. Each player in the NBA is paid via contract, and each are eligible for any advertising or sponsorship money that they pursue in addition to their contractual responsibilities. \n",
        "\n",
        "Part of our analysis would've been analyzing the r/NBA subreddit and also the r/bostonceltics and r/warriors subreddits, as those were the two teams to make the NBA finals in 2022 (the Golden State Warriors were the 2022 NBA champions). This way, we would've been able to track the sentiments of the two most successful teams in the NBA across the season."
      ],
      "metadata": {},
      "id": "bed93baa"
    },
    {
      "cell_type": "markdown",
      "source": [
        "### Setting up Pyspark"
      ],
      "metadata": {},
      "id": "9c13ef86-d4b4-4451-a1e1-7253311062a6"
    },
    {
      "cell_type": "markdown",
      "source": [
        "### Reading in Reddit Data"
      ],
      "metadata": {},
      "id": "070acf71-a6dc-4b37-8c03-56e1d721cee0"
    },
    {
      "cell_type": "markdown",
      "source": [
        "### Selecting Desired Subreddits"
      ],
      "metadata": {},
      "id": "56cb76ec-baf0-43c1-b4f2-0ba185624d81"
    },
    {
      "cell_type": "code",
      "source": [
        "from pyspark.sql.functions import *\n",
        "from datetime import datetime\n",
        "\n",
        "start_timestamp = datetime(2021, 11, 1)\n",
        "end_timestamp = datetime(2022, 4, 5)\n",
        "\n",
        "submissions = submissions.filter((col(\"created_utc\") >= start_timestamp) & (col(\"created_utc\") <= end_timestamp))\n",
        "comments = comments.filter((col(\"created_utc\") >= start_timestamp) & (col(\"created_utc\") <= end_timestamp))"
      ],
      "outputs": [],
      "execution_count": null,
      "metadata": {
        "jupyter": {
          "source_hidden": false,
          "outputs_hidden": false
        },
        "nteract": {
          "transient": {
            "deleting": false
          }
        }
      },
      "id": "c0056d33-8855-48aa-8b0a-bf7b21b66eef"
    },
    {
      "cell_type": "code",
      "source": [
        "# start with small data (remove this when we scale up)\n",
        "submissions_small = submissions.sample(0.0001)"
      ],
      "outputs": [],
      "execution_count": null,
      "metadata": {
        "jupyter": {
          "source_hidden": false,
          "outputs_hidden": false
        },
        "nteract": {
          "transient": {
            "deleting": false
          }
        }
      },
      "id": "2b599aa3-ec4c-483b-b619-9b8f50678ae6"
    },
    {
      "cell_type": "markdown",
      "source": [
        "### EDA"
      ],
      "metadata": {
        "nteract": {
          "transient": {
            "deleting": false
          }
        }
      },
      "id": "cd5b9057-d6fc-4587-bc14-b97c7248a0ea"
    },
    {
      "cell_type": "markdown",
      "source": [
        "#### Basic Data Summary"
      ],
      "metadata": {
        "nteract": {
          "transient": {
            "deleting": false
          }
        }
      },
      "id": "b5b0d09b-dfe7-4c51-bffc-bb4d5d2baeac"
    },
    {
      "cell_type": "code",
      "source": [
        "print(\"Total Submissions\")\n",
        "submissions.count()\n",
        "print(\"Total Comments\")\n",
        "comments.count()\n",
        "\n",
        "print(\"Count\")\n",
        "submissions.groupBy('subreddit').count().show()\n",
        "comments.groupBy('subreddit').count().show()"
      ],
      "outputs": [],
      "execution_count": null,
      "metadata": {
        "jupyter": {
          "source_hidden": false,
          "outputs_hidden": false
        },
        "nteract": {
          "transient": {
            "deleting": false
          }
        }
      },
      "id": "5f313a05-f15d-42ee-9616-3a890b6780ee"
    },
    {
      "cell_type": "code",
      "source": [
        "q = (\n",
        "    submissions_small\n",
        "    .withColumn(\"day\", dayofmonth(col(\"created_utc\")))\n",
        "    .withColumn(\"month\", month(col(\"created_utc\")))\n",
        "    .withColumn(\"year\", year(col(\"created_utc\")))\n",
        "    .groupBy(\"year\", \"month\", \"day\")\n",
        "    .count()\n",
        ")\n",
        "q.show()\n",
        "df = q.toPandas()"
      ],
      "outputs": [],
      "execution_count": null,
      "metadata": {
        "jupyter": {
          "source_hidden": false,
          "outputs_hidden": false
        },
        "nteract": {
          "transient": {
            "deleting": false
          }
        }
      },
      "id": "96ad35ab-f683-4397-813e-a48afef1692b"
    },
    {
      "cell_type": "code",
      "source": [
        "df['date'] = pd.to_datetime(df[['year', 'month', 'day']])\n",
        "plt.figure(figsize=(8, 6))\n",
        "plt.bar(df['date'], df['count'])\n",
        "plt.xlabel('Date')\n",
        "plt.ylabel('Count')\n",
        "plt.ylim(0,3)\n",
        "plt.title('Count by Day')\n",
        "plt.xticks(rotation=45)\n",
        "plt.tight_layout()\n",
        "plt.show()"
      ],
      "outputs": [
        {
          "output_type": "display_data",
          "data": {
            "image/png": "[encoded data removed]",
            "text/plain": "<Figure size 800x600 with 1 Axes>"
          },
          "metadata": {}
        }
      ],
      "execution_count": 22,
      "metadata": {
        "tags": []
      },
      "id": "90bb6428-0cc0-4d85-b41f-e07134e0ddb2"
    },
    {
      "cell_type": "markdown",
      "source": [
        "## EDA"
      ],
      "metadata": {},
      "id": "8fc728f7-cc3c-4555-8946-512cecf337c2"
    },
    {
      "cell_type": "code",
      "source": [],
      "outputs": [],
      "execution_count": null,
      "metadata": {},
      "id": "4cf80840-e6ee-4b08-bc45-fdd5878a27ac"
    }
  ],
  "metadata": {
    "availableInstances": [
      {
        "_defaultOrder": 0,
        "_isFastLaunch": true,
        "category": "General purpose",
        "gpuNum": 0,
        "hideHardwareSpecs": false,
        "memoryGiB": 4,
        "name": "ml.t3.medium",
        "vcpuNum": 2
      },
      {
        "_defaultOrder": 1,
        "_isFastLaunch": false,
        "category": "General purpose",
        "gpuNum": 0,
        "hideHardwareSpecs": false,
        "memoryGiB": 8,
        "name": "ml.t3.large",
        "vcpuNum": 2
      },
      {
        "_defaultOrder": 2,
        "_isFastLaunch": false,
        "category": "General purpose",
        "gpuNum": 0,
        "hideHardwareSpecs": false,
        "memoryGiB": 16,
        "name": "ml.t3.xlarge",
        "vcpuNum": 4
      },
      {
        "_defaultOrder": 3,
        "_isFastLaunch": false,
        "category": "General purpose",
        "gpuNum": 0,
        "hideHardwareSpecs": false,
        "memoryGiB": 32,
        "name": "ml.t3.2xlarge",
        "vcpuNum": 8
      },
      {
        "_defaultOrder": 4,
        "_isFastLaunch": true,
        "category": "General purpose",
        "gpuNum": 0,
        "hideHardwareSpecs": false,
        "memoryGiB": 8,
        "name": "ml.m5.large",
        "vcpuNum": 2
      },
      {
        "_defaultOrder": 5,
        "_isFastLaunch": false,
        "category": "General purpose",
        "gpuNum": 0,
        "hideHardwareSpecs": false,
        "memoryGiB": 16,
        "name": "ml.m5.xlarge",
        "vcpuNum": 4
      },
      {
        "_defaultOrder": 6,
        "_isFastLaunch": false,
        "category": "General purpose",
        "gpuNum": 0,
        "hideHardwareSpecs": false,
        "memoryGiB": 32,
        "name": "ml.m5.2xlarge",
        "vcpuNum": 8
      },
      {
        "_defaultOrder": 7,
        "_isFastLaunch": false,
        "category": "General purpose",
        "gpuNum": 0,
        "hideHardwareSpecs": false,
        "memoryGiB": 64,
        "name": "ml.m5.4xlarge",
        "vcpuNum": 16
      },
      {
        "_defaultOrder": 8,
        "_isFastLaunch": false,
        "category": "General purpose",
        "gpuNum": 0,
        "hideHardwareSpecs": false,
        "memoryGiB": 128,
        "name": "ml.m5.8xlarge",
        "vcpuNum": 32
      },
      {
        "_defaultOrder": 9,
        "_isFastLaunch": false,
        "category": "General purpose",
        "gpuNum": 0,
        "hideHardwareSpecs": false,
        "memoryGiB": 192,
        "name": "ml.m5.12xlarge",
        "vcpuNum": 48
      },
      {
        "_defaultOrder": 10,
        "_isFastLaunch": false,
        "category": "General purpose",
        "gpuNum": 0,
        "hideHardwareSpecs": false,
        "memoryGiB": 256,
        "name": "ml.m5.16xlarge",
        "vcpuNum": 64
      },
      {
        "_defaultOrder": 11,
        "_isFastLaunch": false,
        "category": "General purpose",
        "gpuNum": 0,
        "hideHardwareSpecs": false,
        "memoryGiB": 384,
        "name": "ml.m5.24xlarge",
        "vcpuNum": 96
      },
      {
        "_defaultOrder": 12,
        "_isFastLaunch": false,
        "category": "General purpose",
        "gpuNum": 0,
        "hideHardwareSpecs": false,
        "memoryGiB": 8,
        "name": "ml.m5d.large",
        "vcpuNum": 2
      },
      {
        "_defaultOrder": 13,
        "_isFastLaunch": false,
        "category": "General purpose",
        "gpuNum": 0,
        "hideHardwareSpecs": false,
        "memoryGiB": 16,
        "name": "ml.m5d.xlarge",
        "vcpuNum": 4
      },
      {
        "_defaultOrder": 14,
        "_isFastLaunch": false,
        "category": "General purpose",
        "gpuNum": 0,
        "hideHardwareSpecs": false,
        "memoryGiB": 32,
        "name": "ml.m5d.2xlarge",
        "vcpuNum": 8
      },
      {
        "_defaultOrder": 15,
        "_isFastLaunch": false,
        "category": "General purpose",
        "gpuNum": 0,
        "hideHardwareSpecs": false,
        "memoryGiB": 64,
        "name": "ml.m5d.4xlarge",
        "vcpuNum": 16
      },
      {
        "_defaultOrder": 16,
        "_isFastLaunch": false,
        "category": "General purpose",
        "gpuNum": 0,
        "hideHardwareSpecs": false,
        "memoryGiB": 128,
        "name": "ml.m5d.8xlarge",
        "vcpuNum": 32
      },
      {
        "_defaultOrder": 17,
        "_isFastLaunch": false,
        "category": "General purpose",
        "gpuNum": 0,
        "hideHardwareSpecs": false,
        "memoryGiB": 192,
        "name": "ml.m5d.12xlarge",
        "vcpuNum": 48
      },
      {
        "_defaultOrder": 18,
        "_isFastLaunch": false,
        "category": "General purpose",
        "gpuNum": 0,
        "hideHardwareSpecs": false,
        "memoryGiB": 256,
        "name": "ml.m5d.16xlarge",
        "vcpuNum": 64
      },
      {
        "_defaultOrder": 19,
        "_isFastLaunch": false,
        "category": "General purpose",
        "gpuNum": 0,
        "hideHardwareSpecs": false,
        "memoryGiB": 384,
        "name": "ml.m5d.24xlarge",
        "vcpuNum": 96
      },
      {
        "name": "ml.geospatial.interactive",
        "_defaultOrder": 20,
        "hideHardwareSpecs": true,
        "vcpuNum": 0,
        "_isFastLaunch": false,
        "gpuNum": 0,
        "supportedImageNames": [
          "sagemaker-geospatial-v1-0"
        ],
        "category": "General purpose",
        "memoryGiB": 0
      },
      {
        "_defaultOrder": 21,
        "_isFastLaunch": true,
        "category": "Compute optimized",
        "gpuNum": 0,
        "hideHardwareSpecs": false,
        "memoryGiB": 4,
        "name": "ml.c5.large",
        "vcpuNum": 2
      },
      {
        "_defaultOrder": 22,
        "_isFastLaunch": false,
        "category": "Compute optimized",
        "gpuNum": 0,
        "hideHardwareSpecs": false,
        "memoryGiB": 8,
        "name": "ml.c5.xlarge",
        "vcpuNum": 4
      },
      {
        "_defaultOrder": 23,
        "_isFastLaunch": false,
        "category": "Compute optimized",
        "gpuNum": 0,
        "hideHardwareSpecs": false,
        "memoryGiB": 16,
        "name": "ml.c5.2xlarge",
        "vcpuNum": 8
      },
      {
        "_defaultOrder": 24,
        "_isFastLaunch": false,
        "category": "Compute optimized",
        "gpuNum": 0,
        "hideHardwareSpecs": false,
        "memoryGiB": 32,
        "name": "ml.c5.4xlarge",
        "vcpuNum": 16
      },
      {
        "_defaultOrder": 25,
        "_isFastLaunch": false,
        "category": "Compute optimized",
        "gpuNum": 0,
        "hideHardwareSpecs": false,
        "memoryGiB": 72,
        "name": "ml.c5.9xlarge",
        "vcpuNum": 36
      },
      {
        "_defaultOrder": 26,
        "_isFastLaunch": false,
        "category": "Compute optimized",
        "gpuNum": 0,
        "hideHardwareSpecs": false,
        "memoryGiB": 96,
        "name": "ml.c5.12xlarge",
        "vcpuNum": 48
      },
      {
        "_defaultOrder": 27,
        "_isFastLaunch": false,
        "category": "Compute optimized",
        "gpuNum": 0,
        "hideHardwareSpecs": false,
        "memoryGiB": 144,
        "name": "ml.c5.18xlarge",
        "vcpuNum": 72
      },
      {
        "_defaultOrder": 28,
        "_isFastLaunch": false,
        "category": "Compute optimized",
        "gpuNum": 0,
        "hideHardwareSpecs": false,
        "memoryGiB": 192,
        "name": "ml.c5.24xlarge",
        "vcpuNum": 96
      },
      {
        "_defaultOrder": 29,
        "_isFastLaunch": true,
        "category": "Accelerated computing",
        "gpuNum": 1,
        "hideHardwareSpecs": false,
        "memoryGiB": 16,
        "name": "ml.g4dn.xlarge",
        "vcpuNum": 4
      },
      {
        "_defaultOrder": 30,
        "_isFastLaunch": false,
        "category": "Accelerated computing",
        "gpuNum": 1,
        "hideHardwareSpecs": false,
        "memoryGiB": 32,
        "name": "ml.g4dn.2xlarge",
        "vcpuNum": 8
      },
      {
        "_defaultOrder": 31,
        "_isFastLaunch": false,
        "category": "Accelerated computing",
        "gpuNum": 1,
        "hideHardwareSpecs": false,
        "memoryGiB": 64,
        "name": "ml.g4dn.4xlarge",
        "vcpuNum": 16
      },
      {
        "_defaultOrder": 32,
        "_isFastLaunch": false,
        "category": "Accelerated computing",
        "gpuNum": 1,
        "hideHardwareSpecs": false,
        "memoryGiB": 128,
        "name": "ml.g4dn.8xlarge",
        "vcpuNum": 32
      },
      {
        "_defaultOrder": 33,
        "_isFastLaunch": false,
        "category": "Accelerated computing",
        "gpuNum": 4,
        "hideHardwareSpecs": false,
        "memoryGiB": 192,
        "name": "ml.g4dn.12xlarge",
        "vcpuNum": 48
      },
      {
        "_defaultOrder": 34,
        "_isFastLaunch": false,
        "category": "Accelerated computing",
        "gpuNum": 1,
        "hideHardwareSpecs": false,
        "memoryGiB": 256,
        "name": "ml.g4dn.16xlarge",
        "vcpuNum": 64
      },
      {
        "_defaultOrder": 35,
        "_isFastLaunch": false,
        "category": "Accelerated computing",
        "gpuNum": 1,
        "hideHardwareSpecs": false,
        "memoryGiB": 61,
        "name": "ml.p3.2xlarge",
        "vcpuNum": 8
      },
      {
        "_defaultOrder": 36,
        "_isFastLaunch": false,
        "category": "Accelerated computing",
        "gpuNum": 4,
        "hideHardwareSpecs": false,
        "memoryGiB": 244,
        "name": "ml.p3.8xlarge",
        "vcpuNum": 32
      },
      {
        "_defaultOrder": 37,
        "_isFastLaunch": false,
        "category": "Accelerated computing",
        "gpuNum": 8,
        "hideHardwareSpecs": false,
        "memoryGiB": 488,
        "name": "ml.p3.16xlarge",
        "vcpuNum": 64
      },
      {
        "_defaultOrder": 38,
        "_isFastLaunch": false,
        "category": "Accelerated computing",
        "gpuNum": 8,
        "hideHardwareSpecs": false,
        "memoryGiB": 768,
        "name": "ml.p3dn.24xlarge",
        "vcpuNum": 96
      },
      {
        "_defaultOrder": 39,
        "_isFastLaunch": false,
        "category": "Memory Optimized",
        "gpuNum": 0,
        "hideHardwareSpecs": false,
        "memoryGiB": 16,
        "name": "ml.r5.large",
        "vcpuNum": 2
      },
      {
        "_defaultOrder": 40,
        "_isFastLaunch": false,
        "category": "Memory Optimized",
        "gpuNum": 0,
        "hideHardwareSpecs": false,
        "memoryGiB": 32,
        "name": "ml.r5.xlarge",
        "vcpuNum": 4
      },
      {
        "_defaultOrder": 41,
        "_isFastLaunch": false,
        "category": "Memory Optimized",
        "gpuNum": 0,
        "hideHardwareSpecs": false,
        "memoryGiB": 64,
        "name": "ml.r5.2xlarge",
        "vcpuNum": 8
      },
      {
        "_defaultOrder": 42,
        "_isFastLaunch": false,
        "category": "Memory Optimized",
        "gpuNum": 0,
        "hideHardwareSpecs": false,
        "memoryGiB": 128,
        "name": "ml.r5.4xlarge",
        "vcpuNum": 16
      },
      {
        "_defaultOrder": 43,
        "_isFastLaunch": false,
        "category": "Memory Optimized",
        "gpuNum": 0,
        "hideHardwareSpecs": false,
        "memoryGiB": 256,
        "name": "ml.r5.8xlarge",
        "vcpuNum": 32
      },
      {
        "_defaultOrder": 44,
        "_isFastLaunch": false,
        "category": "Memory Optimized",
        "gpuNum": 0,
        "hideHardwareSpecs": false,
        "memoryGiB": 384,
        "name": "ml.r5.12xlarge",
        "vcpuNum": 48
      },
      {
        "_defaultOrder": 45,
        "_isFastLaunch": false,
        "category": "Memory Optimized",
        "gpuNum": 0,
        "hideHardwareSpecs": false,
        "memoryGiB": 512,
        "name": "ml.r5.16xlarge",
        "vcpuNum": 64
      },
      {
        "_defaultOrder": 46,
        "_isFastLaunch": false,
        "category": "Memory Optimized",
        "gpuNum": 0,
        "hideHardwareSpecs": false,
        "memoryGiB": 768,
        "name": "ml.r5.24xlarge",
        "vcpuNum": 96
      },
      {
        "_defaultOrder": 47,
        "_isFastLaunch": false,
        "category": "Accelerated computing",
        "gpuNum": 1,
        "hideHardwareSpecs": false,
        "memoryGiB": 16,
        "name": "ml.g5.xlarge",
        "vcpuNum": 4
      },
      {
        "_defaultOrder": 48,
        "_isFastLaunch": false,
        "category": "Accelerated computing",
        "gpuNum": 1,
        "hideHardwareSpecs": false,
        "memoryGiB": 32,
        "name": "ml.g5.2xlarge",
        "vcpuNum": 8
      },
      {
        "_defaultOrder": 49,
        "_isFastLaunch": false,
        "category": "Accelerated computing",
        "gpuNum": 1,
        "hideHardwareSpecs": false,
        "memoryGiB": 64,
        "name": "ml.g5.4xlarge",
        "vcpuNum": 16
      },
      {
        "_defaultOrder": 50,
        "_isFastLaunch": false,
        "category": "Accelerated computing",
        "gpuNum": 1,
        "hideHardwareSpecs": false,
        "memoryGiB": 128,
        "name": "ml.g5.8xlarge",
        "vcpuNum": 32
      },
      {
        "_defaultOrder": 51,
        "_isFastLaunch": false,
        "category": "Accelerated computing",
        "gpuNum": 1,
        "hideHardwareSpecs": false,
        "memoryGiB": 256,
        "name": "ml.g5.16xlarge",
        "vcpuNum": 64
      },
      {
        "_defaultOrder": 52,
        "_isFastLaunch": false,
        "category": "Accelerated computing",
        "gpuNum": 4,
        "hideHardwareSpecs": false,
        "memoryGiB": 192,
        "name": "ml.g5.12xlarge",
        "vcpuNum": 48
      },
      {
        "_defaultOrder": 53,
        "_isFastLaunch": false,
        "category": "Accelerated computing",
        "gpuNum": 4,
        "hideHardwareSpecs": false,
        "memoryGiB": 384,
        "name": "ml.g5.24xlarge",
        "vcpuNum": 96
      },
      {
        "_defaultOrder": 54,
        "_isFastLaunch": false,
        "category": "Accelerated computing",
        "gpuNum": 8,
        "hideHardwareSpecs": false,
        "memoryGiB": 768,
        "name": "ml.g5.48xlarge",
        "vcpuNum": 192
      },
      {
        "_defaultOrder": 55,
        "_isFastLaunch": false,
        "category": "Accelerated computing",
        "gpuNum": 8,
        "hideHardwareSpecs": false,
        "memoryGiB": 1152,
        "name": "ml.p4d.24xlarge",
        "vcpuNum": 96
      },
      {
        "_defaultOrder": 56,
        "_isFastLaunch": false,
        "category": "Accelerated computing",
        "gpuNum": 8,
        "hideHardwareSpecs": false,
        "memoryGiB": 1152,
        "name": "ml.p4de.24xlarge",
        "vcpuNum": 96
      }
    ],
    "instance_type": "ml.t3.medium",
    "kernelspec": {
      "display_name": "Python 3 (Data Science 3.0)",
      "language": "python",
      "name": "python3__SAGEMAKER_INTERNAL__arn:aws:sagemaker:us-east-1:081325390199:image/sagemaker-data-science-310-v1"
    },
    "language_info": {
      "codemirror_mode": {
        "name": "ipython",
        "version": 3
      },
      "file_extension": ".py",
      "mimetype": "text/x-python",
      "name": "python",
      "nbconvert_exporter": "python",
      "pygments_lexer": "ipython3",
      "version": "3.10.6"
    },
    "microsoft": {
      "ms_spell_check": {
        "ms_spell_check_language": "en"
      }
    },
    "nteract": {
      "version": "nteract-front-end@1.0.0"
    }
  },
  "nbformat": 4,
  "nbformat_minor": 5
}
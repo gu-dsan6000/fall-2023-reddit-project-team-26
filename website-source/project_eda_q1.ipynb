{
  "cells": [
    {
      "cell_type": "raw",
      "metadata": {},
      "source": [
        "---\n",
        "format: html\n",
        "embed-resources: True\n",
        "execute:\n",
        " eval: false\n",
        "---"
      ]
    },
    {
      "cell_type": "markdown",
      "metadata": {
        "nteract": {
          "transient": {
            "deleting": false
          }
        }
      },
      "source": [
        "# EDA Question 1"
      ]
    },
    {
      "cell_type": "markdown",
      "metadata": {
        "nteract": {
          "transient": {
            "deleting": false
          }
        }
      },
      "source": [
        "**Business Goal 1:** Between the two top teams of 2021-2022 (UNC and Kansas) which has higher reddit engagement.\n",
        "\n",
        "**Technical Proposal:** Use regular expressions to extract mentions of the UNC and Kansas basketball team from the College Basketball subreddit to determine which is more talked about. Additionally, compute the counts of comments and submissions by day in the respective subreddits of UNC and Kansas basketball to determine which days have the most engagement for each fanbase. Finally also compute a count of comments by day in the large College Basketball subreddit to determine high engagement days in the overall college basketball community. "
      ]
    },
    {
      "cell_type": "code",
      "execution_count": 1,
      "metadata": {
        "gather": {
          "logged": 1699625570518
        }
      },
      "outputs": [
        {
          "data": {
            "application/vnd.livy.statement-meta+json": {
              "execution_finish_time": "2023-11-10T14:12:50.3101954Z",
              "execution_start_time": "2023-11-10T14:12:47.3793323Z",
              "livy_statement_state": "available",
              "parent_msg_id": "ca417d64-e92a-45f5-bea7-bb22c28462d5",
              "queued_time": "2023-11-10T14:09:36.6509711Z",
              "session_id": "35",
              "session_start_time": "2023-11-10T14:09:36.6958103Z",
              "spark_jobs": {
                "jobs": [],
                "limit": 20,
                "numbers": {
                  "FAILED": 0,
                  "RUNNING": 0,
                  "SUCCEEDED": 0,
                  "UNKNOWN": 0
                },
                "rule": "ALL_DESC"
              },
              "spark_pool": "7c27951d-2bdf-4140-be82-d0dc0c0e7d8e",
              "state": "finished",
              "statement_id": 6
            },
            "text/plain": [
              "StatementMeta(7c27951d-2bdf-4140-be82-d0dc0c0e7d8e, 35, 6, Finished, Available)"
            ]
          },
          "metadata": {},
          "output_type": "display_data"
        },
        {
          "data": {
            "text/html": [
              "\n",
              "            <div>\n",
              "                <p><b>SparkSession - hive</b></p>\n",
              "                \n",
              "        <div>\n",
              "            <p><b>SparkContext</b></p>\n",
              "\n",
              "            <p><a href=\"http://vm-b5532744:45741\">Spark UI</a></p>\n",
              "\n",
              "            <dl>\n",
              "              <dt>Version</dt>\n",
              "                <dd><code>v3.2.2.5.1-100879434</code></dd>\n",
              "              <dt>Master</dt>\n",
              "                <dd><code>yarn</code></dd>\n",
              "              <dt>AppName</dt>\n",
              "                <dd><code>Azure ML Experiment</code></dd>\n",
              "            </dl>\n",
              "        </div>\n",
              "        \n",
              "            </div>\n",
              "        "
            ],
            "text/plain": [
              "<pyspark.sql.session.SparkSession at 0x7faa945e92b0>"
            ]
          },
          "execution_count": 11,
          "metadata": {},
          "output_type": "execute_result"
        }
      ],
      "source": [
        "#| output: false\n",
        "#| echo: false\n",
        "spark"
      ]
    },
    {
      "cell_type": "code",
      "execution_count": 2,
      "metadata": {
        "gather": {
          "logged": 1699625581081
        },
        "jupyter": {
          "outputs_hidden": false,
          "source_hidden": false
        },
        "nteract": {
          "transient": {
            "deleting": false
          }
        }
      },
      "outputs": [
        {
          "data": {
            "application/vnd.livy.statement-meta+json": {
              "execution_finish_time": "2023-11-10T14:13:00.9284358Z",
              "execution_start_time": "2023-11-10T14:13:00.5824166Z",
              "livy_statement_state": "available",
              "parent_msg_id": "1621992b-f0f5-4fbc-8454-10db281b2d6e",
              "queued_time": "2023-11-10T14:13:00.4544456Z",
              "session_id": "35",
              "session_start_time": null,
              "spark_jobs": {
                "jobs": [],
                "limit": 20,
                "numbers": {
                  "FAILED": 0,
                  "RUNNING": 0,
                  "SUCCEEDED": 0,
                  "UNKNOWN": 0
                },
                "rule": "ALL_DESC"
              },
              "spark_pool": "7c27951d-2bdf-4140-be82-d0dc0c0e7d8e",
              "state": "finished",
              "statement_id": 7
            },
            "text/plain": [
              "StatementMeta(7c27951d-2bdf-4140-be82-d0dc0c0e7d8e, 35, 7, Finished, Available)"
            ]
          },
          "metadata": {},
          "output_type": "display_data"
        }
      ],
      "source": [
        "#| output: false\n",
        "#| echo: false\n",
        "\n",
        "workspace_default_storage_account = \"aml6214727930\"\n",
        "workspace_default_container = \"azureml-blobstore-6653633b-3460-4381-9199-d9e0f368353c\"\n",
        "\n",
        "workspace_wasbs_base_url = (\n",
        "    f\"wasbs://{workspace_default_container}@{workspace_default_storage_account}.blob.core.windows.net/\"\n",
        ")"
      ]
    },
    {
      "cell_type": "code",
      "execution_count": 3,
      "metadata": {
        "gather": {
          "logged": 1699625598048
        },
        "jupyter": {
          "outputs_hidden": false,
          "source_hidden": false
        },
        "nteract": {
          "transient": {
            "deleting": false
          }
        }
      },
      "outputs": [
        {
          "data": {
            "application/vnd.livy.statement-meta+json": {
              "execution_finish_time": "2023-11-10T14:13:17.8597776Z",
              "execution_start_time": "2023-11-10T14:13:03.1666529Z",
              "livy_statement_state": "available",
              "parent_msg_id": "b60ef78c-7b48-4a68-aa4c-5b487c40acca",
              "queued_time": "2023-11-10T14:13:03.0520132Z",
              "session_id": "35",
              "session_start_time": null,
              "spark_jobs": {
                "jobs": [
                  {
                    "completionTime": "2023-11-10T14:13:17.001GMT",
                    "dataRead": 0,
                    "dataWritten": 0,
                    "description": "Job group for statement 8:\n#datastore = 'azureml://datastores/workspaceblobstore/paths'\ncomments_path = \"/basketball_comments_sep.parquet\"\nsubmissions_path = \"/basketball_submissions_sep.parquet\"\n\ncomments = spark.read.parquet(f\"{workspace_wasbs_base_url}{comments_path}\")\nsubmissions = spark.read.parquet(f\"{workspace_wasbs_base_url}{submissions_path}\")",
                    "displayName": "parquet at NativeMethodAccessorImpl.java:0",
                    "jobGroup": "8",
                    "jobId": 1,
                    "killedTasksSummary": {},
                    "name": "parquet at NativeMethodAccessorImpl.java:0",
                    "numActiveStages": 0,
                    "numActiveTasks": 0,
                    "numCompletedIndices": 1,
                    "numCompletedStages": 1,
                    "numCompletedTasks": 1,
                    "numFailedStages": 0,
                    "numFailedTasks": 0,
                    "numKilledTasks": 0,
                    "numSkippedStages": 0,
                    "numSkippedTasks": 0,
                    "numTasks": 1,
                    "rowCount": 0,
                    "stageIds": [
                      1
                    ],
                    "status": "SUCCEEDED",
                    "submissionTime": "2023-11-10T14:13:16.817GMT",
                    "usageDescription": ""
                  },
                  {
                    "completionTime": "2023-11-10T14:13:13.915GMT",
                    "dataRead": 0,
                    "dataWritten": 0,
                    "description": "Job group for statement 8:\n#datastore = 'azureml://datastores/workspaceblobstore/paths'\ncomments_path = \"/basketball_comments_sep.parquet\"\nsubmissions_path = \"/basketball_submissions_sep.parquet\"\n\ncomments = spark.read.parquet(f\"{workspace_wasbs_base_url}{comments_path}\")\nsubmissions = spark.read.parquet(f\"{workspace_wasbs_base_url}{submissions_path}\")",
                    "displayName": "parquet at NativeMethodAccessorImpl.java:0",
                    "jobGroup": "8",
                    "jobId": 0,
                    "killedTasksSummary": {},
                    "name": "parquet at NativeMethodAccessorImpl.java:0",
                    "numActiveStages": 0,
                    "numActiveTasks": 0,
                    "numCompletedIndices": 1,
                    "numCompletedStages": 1,
                    "numCompletedTasks": 1,
                    "numFailedStages": 0,
                    "numFailedTasks": 0,
                    "numKilledTasks": 0,
                    "numSkippedStages": 0,
                    "numSkippedTasks": 0,
                    "numTasks": 1,
                    "rowCount": 0,
                    "stageIds": [
                      0
                    ],
                    "status": "SUCCEEDED",
                    "submissionTime": "2023-11-10T14:13:06.694GMT",
                    "usageDescription": ""
                  }
                ],
                "limit": 20,
                "numbers": {
                  "FAILED": 0,
                  "RUNNING": 0,
                  "SUCCEEDED": 2,
                  "UNKNOWN": 0
                },
                "rule": "ALL_DESC"
              },
              "spark_pool": "7c27951d-2bdf-4140-be82-d0dc0c0e7d8e",
              "state": "finished",
              "statement_id": 8
            },
            "text/plain": [
              "StatementMeta(7c27951d-2bdf-4140-be82-d0dc0c0e7d8e, 35, 8, Finished, Available)"
            ]
          },
          "metadata": {},
          "output_type": "display_data"
        }
      ],
      "source": [
        "#| echo: false\n",
        "#| output: false\n",
        "\n",
        "#datastore = 'azureml://datastores/workspaceblobstore/paths'\n",
        "comments_path = \"/basketball_comments_sep.parquet\"\n",
        "submissions_path = \"/basketball_submissions_sep.parquet\"\n",
        "\n",
        "comments = spark.read.parquet(f\"{workspace_wasbs_base_url}{comments_path}\")\n",
        "submissions = spark.read.parquet(f\"{workspace_wasbs_base_url}{submissions_path}\")\n",
        "\n",
        "comments = comments.cache()\n",
        "submissions = submissions.cache()"
      ]
    },
    {
      "cell_type": "code",
      "execution_count": 7,
      "metadata": {
        "gather": {
          "logged": 1699449936458
        },
        "jupyter": {
          "outputs_hidden": false,
          "source_hidden": false
        },
        "nteract": {
          "transient": {
            "deleting": false
          }
        }
      },
      "outputs": [
        {
          "data": {
            "application/vnd.livy.statement-meta+json": {
              "execution_finish_time": "2023-11-08T13:25:36.2966242Z",
              "execution_start_time": "2023-11-08T13:25:29.5955471Z",
              "livy_statement_state": "available",
              "parent_msg_id": "728dd29b-beb5-481f-87e6-1a16212b400f",
              "queued_time": "2023-11-08T13:25:29.4020896Z",
              "session_id": "32",
              "session_start_time": null,
              "spark_jobs": {
                "jobs": [
                  {
                    "completionTime": "2023-11-08T13:25:35.812GMT",
                    "dataRead": 7618144,
                    "dataWritten": 0,
                    "description": "Job group for statement 12:\ncomments.show(3)",
                    "displayName": "showString at NativeMethodAccessorImpl.java:0",
                    "jobGroup": "12",
                    "jobId": 2,
                    "killedTasksSummary": {},
                    "name": "showString at NativeMethodAccessorImpl.java:0",
                    "numActiveStages": 0,
                    "numActiveTasks": 0,
                    "numCompletedIndices": 1,
                    "numCompletedStages": 1,
                    "numCompletedTasks": 1,
                    "numFailedStages": 0,
                    "numFailedTasks": 0,
                    "numKilledTasks": 0,
                    "numSkippedStages": 0,
                    "numSkippedTasks": 0,
                    "numTasks": 1,
                    "rowCount": 114746,
                    "stageIds": [
                      2
                    ],
                    "status": "SUCCEEDED",
                    "submissionTime": "2023-11-08T13:25:30.483GMT",
                    "usageDescription": ""
                  }
                ],
                "limit": 20,
                "numbers": {
                  "FAILED": 0,
                  "RUNNING": 0,
                  "SUCCEEDED": 1,
                  "UNKNOWN": 0
                },
                "rule": "ALL_DESC"
              },
              "spark_pool": "7c27951d-2bdf-4140-be82-d0dc0c0e7d8e",
              "state": "finished",
              "statement_id": 12
            },
            "text/plain": [
              "StatementMeta(7c27951d-2bdf-4140-be82-d0dc0c0e7d8e, 32, 12, Finished, Available)"
            ]
          },
          "metadata": {},
          "output_type": "display_data"
        },
        {
          "name": "stdout",
          "output_type": "stream",
          "text": [
            "+-----------------+------------+--------------------+--------------------+----------+---------+-------+-------------------+\n",
            "|        subreddit|      author|   author_flair_text|                body| parent_id|  link_id|     id|        created_utc|\n",
            "+-----------------+------------+--------------------+--------------------+----------+---------+-------+-------------------+\n",
            "|CollegeBasketball|  joeveralls|:cincinnati: :ohi...|Nothing is fallin...| t3_qtcawg|t3_qtcawg|hkiuknu|2021-11-14 00:27:16|\n",
            "|CollegeBasketball|DaddyStone13|:cincinnati: :big...|lol i forgot abou...|t1_hkiua9s|t3_qtcawg|hkiungs|2021-11-14 00:27:51|\n",
            "|CollegeBasketball| seahawksjoe|   :usc: USC Trojans|Also, half of the...| t3_qtcaw2|t3_qtcaw2|hkiuqzc|2021-11-14 00:28:36|\n",
            "+-----------------+------------+--------------------+--------------------+----------+---------+-------+-------------------+\n",
            "only showing top 3 rows\n",
            "\n"
          ]
        }
      ],
      "source": [
        "#| echo: false\n",
        "#| output: false\n",
        "\n",
        "comments.show(3)"
      ]
    },
    {
      "cell_type": "code",
      "execution_count": 8,
      "metadata": {
        "gather": {
          "logged": 1699298454309
        },
        "jupyter": {
          "outputs_hidden": false,
          "source_hidden": false
        },
        "nteract": {
          "transient": {
            "deleting": false
          }
        }
      },
      "outputs": [
        {
          "data": {
            "application/vnd.livy.statement-meta+json": {
              "execution_finish_time": "2023-11-06T19:20:54.1766153Z",
              "execution_start_time": "2023-11-06T19:20:41.4691659Z",
              "livy_statement_state": "available",
              "parent_msg_id": "03168e73-392e-4085-8aec-f5bab86204a1",
              "queued_time": "2023-11-06T19:20:41.3220999Z",
              "session_id": "27",
              "session_start_time": null,
              "spark_jobs": {
                "jobs": [
                  {
                    "completionTime": "2023-11-06T19:20:52.887GMT",
                    "dataRead": 711026,
                    "dataWritten": 0,
                    "description": "Job group for statement 13:\nsubmissions.show(3)",
                    "displayName": "showString at NativeMethodAccessorImpl.java:0",
                    "jobGroup": "13",
                    "jobId": 3,
                    "killedTasksSummary": {},
                    "name": "showString at NativeMethodAccessorImpl.java:0",
                    "numActiveStages": 0,
                    "numActiveTasks": 0,
                    "numCompletedIndices": 1,
                    "numCompletedStages": 1,
                    "numCompletedTasks": 1,
                    "numFailedStages": 0,
                    "numFailedTasks": 0,
                    "numKilledTasks": 0,
                    "numSkippedStages": 0,
                    "numSkippedTasks": 0,
                    "numTasks": 1,
                    "rowCount": 830,
                    "stageIds": [
                      3
                    ],
                    "status": "SUCCEEDED",
                    "submissionTime": "2023-11-06T19:20:41.689GMT",
                    "usageDescription": ""
                  }
                ],
                "limit": 20,
                "numbers": {
                  "FAILED": 0,
                  "RUNNING": 0,
                  "SUCCEEDED": 1,
                  "UNKNOWN": 0
                },
                "rule": "ALL_DESC"
              },
              "spark_pool": "7c27951d-2bdf-4140-be82-d0dc0c0e7d8e",
              "state": "finished",
              "statement_id": 13
            },
            "text/plain": [
              "StatementMeta(7c27951d-2bdf-4140-be82-d0dc0c0e7d8e, 27, 13, Finished, Available)"
            ]
          },
          "metadata": {},
          "output_type": "display_data"
        },
        {
          "name": "stdout",
          "output_type": "stream",
          "text": [
            "+-----------------+---------------+--------------------+--------------------+---------+-------------------+------------+\n",
            "|        subreddit|         author|   author_flair_text|               title| selftext|        created_utc|num_comments|\n",
            "+-----------------+---------------+--------------------+--------------------+---------+-------------------+------------+\n",
            "|CollegeBasketball|   MrSmartShart|:texastech: Texas...|When is the first...|         |2022-03-17 13:28:37|           0|\n",
            "|CollegeBasketball|    wavyboimike|:houston: Houston...|        New Upsets ?|[removed]|2022-03-17 13:30:14|           2|\n",
            "|CollegeBasketball|IncessantStress|                null|  Sportsline Bracket|[removed]|2022-03-17 13:31:31|           0|\n",
            "+-----------------+---------------+--------------------+--------------------+---------+-------------------+------------+\n",
            "only showing top 3 rows\n",
            "\n"
          ]
        }
      ],
      "source": [
        "#| echo: false\n",
        "#| output: false\n",
        "\n",
        "submissions.show(3)"
      ]
    },
    {
      "cell_type": "code",
      "execution_count": 5,
      "metadata": {
        "gather": {
          "logged": 1699625609854
        },
        "jupyter": {
          "outputs_hidden": false,
          "source_hidden": false
        },
        "nteract": {
          "transient": {
            "deleting": false
          }
        }
      },
      "outputs": [
        {
          "data": {
            "application/vnd.livy.statement-meta+json": {
              "execution_finish_time": "2023-11-10T14:13:29.6693806Z",
              "execution_start_time": "2023-11-10T14:13:29.3679915Z",
              "livy_statement_state": "available",
              "parent_msg_id": "0e1751fe-4c75-49fd-90dd-b64c1b8c674a",
              "queued_time": "2023-11-10T14:13:29.2314086Z",
              "session_id": "35",
              "session_start_time": null,
              "spark_jobs": {
                "jobs": [],
                "limit": 20,
                "numbers": {
                  "FAILED": 0,
                  "RUNNING": 0,
                  "SUCCEEDED": 0,
                  "UNKNOWN": 0
                },
                "rule": "ALL_DESC"
              },
              "spark_pool": "7c27951d-2bdf-4140-be82-d0dc0c0e7d8e",
              "state": "finished",
              "statement_id": 10
            },
            "text/plain": [
              "StatementMeta(7c27951d-2bdf-4140-be82-d0dc0c0e7d8e, 35, 10, Finished, Available)"
            ]
          },
          "metadata": {},
          "output_type": "display_data"
        }
      ],
      "source": [
        "#| echo: false\n",
        "#| output: false\n",
        "\n",
        "from pyspark.sql.functions import col, to_date, desc"
      ]
    },
    {
      "cell_type": "code",
      "execution_count": 7,
      "metadata": {
        "gather": {
          "logged": 1699447547905
        },
        "jupyter": {
          "outputs_hidden": false,
          "source_hidden": false
        },
        "nteract": {
          "transient": {
            "deleting": false
          }
        }
      },
      "outputs": [
        {
          "data": {
            "application/vnd.livy.statement-meta+json": {
              "execution_finish_time": "2023-11-08T12:45:47.7194565Z",
              "execution_start_time": "2023-11-08T12:44:47.2329471Z",
              "livy_statement_state": "available",
              "parent_msg_id": "a2b679ac-8a85-4bd2-9860-1c887d20e90b",
              "queued_time": "2023-11-08T12:44:46.5326845Z",
              "session_id": "31",
              "session_start_time": null,
              "spark_jobs": {
                "jobs": [
                  {
                    "completionTime": "2023-11-08T12:45:46.345GMT",
                    "dataRead": 10192,
                    "dataWritten": 0,
                    "description": "Job group for statement 12:\ncomments.filter(col('body').isNull()).count()\n",
                    "displayName": "count at NativeMethodAccessorImpl.java:0",
                    "jobGroup": "12",
                    "jobId": 3,
                    "killedTasksSummary": {},
                    "name": "count at NativeMethodAccessorImpl.java:0",
                    "numActiveStages": 0,
                    "numActiveTasks": 0,
                    "numCompletedIndices": 1,
                    "numCompletedStages": 1,
                    "numCompletedTasks": 1,
                    "numFailedStages": 0,
                    "numFailedTasks": 0,
                    "numKilledTasks": 0,
                    "numSkippedStages": 1,
                    "numSkippedTasks": 182,
                    "numTasks": 183,
                    "rowCount": 182,
                    "stageIds": [
                      3,
                      4
                    ],
                    "status": "SUCCEEDED",
                    "submissionTime": "2023-11-08T12:45:45.648GMT",
                    "usageDescription": ""
                  },
                  {
                    "completionTime": "2023-11-08T12:45:45.518GMT",
                    "dataRead": 192935219,
                    "dataWritten": 10192,
                    "description": "Job group for statement 12:\ncomments.filter(col('body').isNull()).count()\n",
                    "displayName": "count at NativeMethodAccessorImpl.java:0",
                    "jobGroup": "12",
                    "jobId": 2,
                    "killedTasksSummary": {},
                    "name": "count at NativeMethodAccessorImpl.java:0",
                    "numActiveStages": 0,
                    "numActiveTasks": 0,
                    "numCompletedIndices": 182,
                    "numCompletedStages": 1,
                    "numCompletedTasks": 182,
                    "numFailedStages": 0,
                    "numFailedTasks": 0,
                    "numKilledTasks": 0,
                    "numSkippedStages": 0,
                    "numSkippedTasks": 0,
                    "numTasks": 182,
                    "rowCount": 1575352,
                    "stageIds": [
                      2
                    ],
                    "status": "SUCCEEDED",
                    "submissionTime": "2023-11-08T12:44:48.636GMT",
                    "usageDescription": ""
                  }
                ],
                "limit": 20,
                "numbers": {
                  "FAILED": 0,
                  "RUNNING": 0,
                  "SUCCEEDED": 2,
                  "UNKNOWN": 0
                },
                "rule": "ALL_DESC"
              },
              "spark_pool": "7c27951d-2bdf-4140-be82-d0dc0c0e7d8e",
              "state": "finished",
              "statement_id": 12
            },
            "text/plain": [
              "StatementMeta(7c27951d-2bdf-4140-be82-d0dc0c0e7d8e, 31, 12, Finished, Available)"
            ]
          },
          "metadata": {},
          "output_type": "display_data"
        },
        {
          "data": {
            "text/plain": [
              "0"
            ]
          },
          "execution_count": 23,
          "metadata": {},
          "output_type": "execute_result"
        }
      ],
      "source": [
        "#| echo: false\n",
        "#| output: false\n",
        "\n",
        "comments.filter(col('body').isNull()).count()"
      ]
    },
    {
      "cell_type": "code",
      "execution_count": 8,
      "metadata": {
        "gather": {
          "logged": 1699447636036
        },
        "jupyter": {
          "outputs_hidden": false,
          "source_hidden": false
        },
        "nteract": {
          "transient": {
            "deleting": false
          }
        }
      },
      "outputs": [
        {
          "data": {
            "application/vnd.livy.statement-meta+json": {
              "execution_finish_time": "2023-11-08T12:47:15.8598045Z",
              "execution_start_time": "2023-11-08T12:46:56.4619826Z",
              "livy_statement_state": "available",
              "parent_msg_id": "719da80d-caa3-4031-958b-057c966e635c",
              "queued_time": "2023-11-08T12:46:56.2486188Z",
              "session_id": "31",
              "session_start_time": null,
              "spark_jobs": {
                "jobs": [
                  {
                    "completionTime": "2023-11-08T12:47:13.551GMT",
                    "dataRead": 3584,
                    "dataWritten": 0,
                    "description": "Job group for statement 13:\nsubmissions.filter(col('selftext').isNull()).count()",
                    "displayName": "count at NativeMethodAccessorImpl.java:0",
                    "jobGroup": "13",
                    "jobId": 5,
                    "killedTasksSummary": {},
                    "name": "count at NativeMethodAccessorImpl.java:0",
                    "numActiveStages": 0,
                    "numActiveTasks": 0,
                    "numCompletedIndices": 1,
                    "numCompletedStages": 1,
                    "numCompletedTasks": 1,
                    "numFailedStages": 0,
                    "numFailedTasks": 0,
                    "numKilledTasks": 0,
                    "numSkippedStages": 1,
                    "numSkippedTasks": 64,
                    "numTasks": 65,
                    "rowCount": 64,
                    "stageIds": [
                      6,
                      7
                    ],
                    "status": "SUCCEEDED",
                    "submissionTime": "2023-11-08T12:47:13.505GMT",
                    "usageDescription": ""
                  },
                  {
                    "completionTime": "2023-11-08T12:47:13.467GMT",
                    "dataRead": 20654375,
                    "dataWritten": 3584,
                    "description": "Job group for statement 13:\nsubmissions.filter(col('selftext').isNull()).count()",
                    "displayName": "count at NativeMethodAccessorImpl.java:0",
                    "jobGroup": "13",
                    "jobId": 4,
                    "killedTasksSummary": {},
                    "name": "count at NativeMethodAccessorImpl.java:0",
                    "numActiveStages": 0,
                    "numActiveTasks": 0,
                    "numCompletedIndices": 64,
                    "numCompletedStages": 1,
                    "numCompletedTasks": 64,
                    "numFailedStages": 0,
                    "numFailedTasks": 0,
                    "numKilledTasks": 0,
                    "numSkippedStages": 0,
                    "numSkippedTasks": 0,
                    "numTasks": 64,
                    "rowCount": 22216,
                    "stageIds": [
                      5
                    ],
                    "status": "SUCCEEDED",
                    "submissionTime": "2023-11-08T12:46:56.634GMT",
                    "usageDescription": ""
                  }
                ],
                "limit": 20,
                "numbers": {
                  "FAILED": 0,
                  "RUNNING": 0,
                  "SUCCEEDED": 2,
                  "UNKNOWN": 0
                },
                "rule": "ALL_DESC"
              },
              "spark_pool": "7c27951d-2bdf-4140-be82-d0dc0c0e7d8e",
              "state": "finished",
              "statement_id": 13
            },
            "text/plain": [
              "StatementMeta(7c27951d-2bdf-4140-be82-d0dc0c0e7d8e, 31, 13, Finished, Available)"
            ]
          },
          "metadata": {},
          "output_type": "display_data"
        },
        {
          "data": {
            "text/plain": [
              "0"
            ]
          },
          "execution_count": 25,
          "metadata": {},
          "output_type": "execute_result"
        }
      ],
      "source": [
        "#| echo: false\n",
        "#| output: false\n",
        "\n",
        "submissions.filter(col('selftext').isNull()).count()"
      ]
    },
    {
      "cell_type": "code",
      "execution_count": 6,
      "metadata": {
        "gather": {
          "logged": 1699625615568
        },
        "jupyter": {
          "outputs_hidden": false,
          "source_hidden": false
        },
        "nteract": {
          "transient": {
            "deleting": false
          }
        }
      },
      "outputs": [
        {
          "data": {
            "application/vnd.livy.statement-meta+json": {
              "execution_finish_time": "2023-11-10T14:13:35.3935867Z",
              "execution_start_time": "2023-11-10T14:13:34.5840412Z",
              "livy_statement_state": "available",
              "parent_msg_id": "23221a04-d9a7-45d6-9667-3dab4787e9b1",
              "queued_time": "2023-11-10T14:13:34.4149559Z",
              "session_id": "35",
              "session_start_time": null,
              "spark_jobs": {
                "jobs": [],
                "limit": 20,
                "numbers": {
                  "FAILED": 0,
                  "RUNNING": 0,
                  "SUCCEEDED": 0,
                  "UNKNOWN": 0
                },
                "rule": "ALL_DESC"
              },
              "spark_pool": "7c27951d-2bdf-4140-be82-d0dc0c0e7d8e",
              "state": "finished",
              "statement_id": 11
            },
            "text/plain": [
              "StatementMeta(7c27951d-2bdf-4140-be82-d0dc0c0e7d8e, 35, 11, Finished, Available)"
            ]
          },
          "metadata": {},
          "output_type": "display_data"
        }
      ],
      "source": [
        "#| echo: false\n",
        "#| output: false\n",
        "\n",
        "comments = comments.filter(comments.body != '')\n",
        "submissions = submissions.filter((submissions.selftext != '[removed]') & \n",
        "                                 (submissions.selftext != '[deleted]') &\n",
        "                                 (submissions.selftext != ''))"
      ]
    },
    {
      "cell_type": "markdown",
      "metadata": {
        "nteract": {
          "transient": {
            "deleting": false
          }
        }
      },
      "source": [
        "## Exploratory analysis"
      ]
    },
    {
      "cell_type": "markdown",
      "metadata": {
        "nteract": {
          "transient": {
            "deleting": false
          }
        }
      },
      "source": [
        "### EDA of comments data"
      ]
    },
    {
      "cell_type": "markdown",
      "metadata": {
        "nteract": {
          "transient": {
            "deleting": false
          }
        }
      },
      "source": [
        "First, let's look at the comments data."
      ]
    },
    {
      "cell_type": "code",
      "execution_count": 10,
      "metadata": {
        "gather": {
          "logged": 1699447648074
        },
        "jupyter": {
          "outputs_hidden": false,
          "source_hidden": false
        },
        "nteract": {
          "transient": {
            "deleting": false
          }
        }
      },
      "outputs": [
        {
          "data": {
            "application/vnd.livy.statement-meta+json": {
              "execution_finish_time": "2023-11-08T12:47:27.9193465Z",
              "execution_start_time": "2023-11-08T12:47:27.5705004Z",
              "livy_statement_state": "available",
              "parent_msg_id": "8e8db3ed-b142-4f5f-be90-614a7e657bdd",
              "queued_time": "2023-11-08T12:47:27.4041003Z",
              "session_id": "31",
              "session_start_time": null,
              "spark_jobs": {
                "jobs": [],
                "limit": 20,
                "numbers": {
                  "FAILED": 0,
                  "RUNNING": 0,
                  "SUCCEEDED": 0,
                  "UNKNOWN": 0
                },
                "rule": "ALL_DESC"
              },
              "spark_pool": "7c27951d-2bdf-4140-be82-d0dc0c0e7d8e",
              "state": "finished",
              "statement_id": 15
            },
            "text/plain": [
              "StatementMeta(7c27951d-2bdf-4140-be82-d0dc0c0e7d8e, 31, 15, Finished, Available)"
            ]
          },
          "metadata": {},
          "output_type": "display_data"
        },
        {
          "data": {
            "text/plain": [
              "pyspark.sql.dataframe.DataFrame"
            ]
          },
          "execution_count": 29,
          "metadata": {},
          "output_type": "execute_result"
        }
      ],
      "source": [
        "#| echo: false\n",
        "#| output: false\n",
        "\n",
        "type(comments)"
      ]
    },
    {
      "cell_type": "code",
      "execution_count": 12,
      "metadata": {
        "gather": {
          "logged": 1699450516018
        },
        "jupyter": {
          "outputs_hidden": false,
          "source_hidden": false
        },
        "nteract": {
          "transient": {
            "deleting": false
          }
        }
      },
      "outputs": [
        {
          "data": {
            "application/vnd.livy.statement-meta+json": {
              "execution_finish_time": "2023-11-08T13:35:15.8601499Z",
              "execution_start_time": "2023-11-08T13:35:15.5021645Z",
              "livy_statement_state": "available",
              "parent_msg_id": "f828e99e-d14c-4a15-9ee1-211cd18b2c70",
              "queued_time": "2023-11-08T13:35:15.3278424Z",
              "session_id": "32",
              "session_start_time": null,
              "spark_jobs": {
                "jobs": [],
                "limit": 20,
                "numbers": {
                  "FAILED": 0,
                  "RUNNING": 0,
                  "SUCCEEDED": 0,
                  "UNKNOWN": 0
                },
                "rule": "ALL_DESC"
              },
              "spark_pool": "7c27951d-2bdf-4140-be82-d0dc0c0e7d8e",
              "state": "finished",
              "statement_id": 17
            },
            "text/plain": [
              "StatementMeta(7c27951d-2bdf-4140-be82-d0dc0c0e7d8e, 32, 17, Finished, Available)"
            ]
          },
          "metadata": {},
          "output_type": "display_data"
        },
        {
          "data": {
            "text/plain": [
              "['subreddit',\n",
              " 'author',\n",
              " 'author_flair_text',\n",
              " 'body',\n",
              " 'parent_id',\n",
              " 'link_id',\n",
              " 'id',\n",
              " 'created_utc']"
            ]
          },
          "execution_count": 33,
          "metadata": {},
          "output_type": "execute_result"
        }
      ],
      "source": [
        "#| echo: false\n",
        "#| output: false\n",
        "\n",
        "comments.columns"
      ]
    },
    {
      "cell_type": "code",
      "execution_count": 12,
      "metadata": {
        "gather": {
          "logged": 1699447656969
        },
        "jupyter": {
          "outputs_hidden": false,
          "source_hidden": false
        },
        "nteract": {
          "transient": {
            "deleting": false
          }
        }
      },
      "outputs": [
        {
          "data": {
            "application/vnd.livy.statement-meta+json": {
              "execution_finish_time": "2023-11-08T12:47:36.8325905Z",
              "execution_start_time": "2023-11-08T12:47:36.4468302Z",
              "livy_statement_state": "available",
              "parent_msg_id": "e0a23a8e-cc73-4ec4-9e16-bf1efe043106",
              "queued_time": "2023-11-08T12:47:36.283717Z",
              "session_id": "31",
              "session_start_time": null,
              "spark_jobs": {
                "jobs": [],
                "limit": 20,
                "numbers": {
                  "FAILED": 0,
                  "RUNNING": 0,
                  "SUCCEEDED": 0,
                  "UNKNOWN": 0
                },
                "rule": "ALL_DESC"
              },
              "spark_pool": "7c27951d-2bdf-4140-be82-d0dc0c0e7d8e",
              "state": "finished",
              "statement_id": 17
            },
            "text/plain": [
              "StatementMeta(7c27951d-2bdf-4140-be82-d0dc0c0e7d8e, 31, 17, Finished, Available)"
            ]
          },
          "metadata": {},
          "output_type": "display_data"
        },
        {
          "name": "stdout",
          "output_type": "stream",
          "text": [
            "root\n",
            " |-- subreddit: string (nullable = true)\n",
            " |-- author: string (nullable = true)\n",
            " |-- author_flair_text: string (nullable = true)\n",
            " |-- body: string (nullable = true)\n",
            " |-- parent_id: string (nullable = true)\n",
            " |-- link_id: string (nullable = true)\n",
            " |-- id: string (nullable = true)\n",
            " |-- created_utc: timestamp (nullable = true)\n",
            "\n"
          ]
        }
      ],
      "source": [
        "#| echo: false\n",
        "#| output: false\n",
        "\n",
        "comments.printSchema()"
      ]
    },
    {
      "cell_type": "code",
      "execution_count": 7,
      "metadata": {
        "gather": {
          "logged": 1699625626272
        },
        "jupyter": {
          "outputs_hidden": false,
          "source_hidden": false
        },
        "nteract": {
          "transient": {
            "deleting": false
          }
        }
      },
      "outputs": [
        {
          "data": {
            "application/vnd.livy.statement-meta+json": {
              "execution_finish_time": "2023-11-10T14:13:46.0913373Z",
              "execution_start_time": "2023-11-10T14:13:45.8007063Z",
              "livy_statement_state": "available",
              "parent_msg_id": "f88716a6-2149-4556-86f1-c11f81ce90ce",
              "queued_time": "2023-11-10T14:13:45.6734865Z",
              "session_id": "35",
              "session_start_time": null,
              "spark_jobs": {
                "jobs": [],
                "limit": 20,
                "numbers": {
                  "FAILED": 0,
                  "RUNNING": 0,
                  "SUCCEEDED": 0,
                  "UNKNOWN": 0
                },
                "rule": "ALL_DESC"
              },
              "spark_pool": "7c27951d-2bdf-4140-be82-d0dc0c0e7d8e",
              "state": "finished",
              "statement_id": 12
            },
            "text/plain": [
              "StatementMeta(7c27951d-2bdf-4140-be82-d0dc0c0e7d8e, 35, 12, Finished, Available)"
            ]
          },
          "metadata": {},
          "output_type": "display_data"
        }
      ],
      "source": [
        "#| echo: false\n",
        "#| output: false\n",
        "\n",
        "from pyspark.sql.functions import col, to_date, desc\n",
        "import pyspark.sql.functions as F"
      ]
    },
    {
      "cell_type": "markdown",
      "metadata": {
        "nteract": {
          "transient": {
            "deleting": false
          }
        }
      },
      "source": [
        "Let's find out which team is more popular in reddit comments."
      ]
    },
    {
      "cell_type": "code",
      "execution_count": 12,
      "metadata": {
        "gather": {
          "logged": 1699625874982
        },
        "jupyter": {
          "outputs_hidden": false,
          "source_hidden": false
        },
        "nteract": {
          "transient": {
            "deleting": false
          }
        }
      },
      "outputs": [
        {
          "data": {
            "application/vnd.livy.statement-meta+json": {
              "execution_finish_time": "2023-11-10T14:17:54.8374656Z",
              "execution_start_time": "2023-11-10T14:17:54.5409958Z",
              "livy_statement_state": "available",
              "parent_msg_id": "dee86959-0aaf-45e6-9ecd-bf2e8ac73ab1",
              "queued_time": "2023-11-10T14:17:54.3447398Z",
              "session_id": "35",
              "session_start_time": null,
              "spark_jobs": {
                "jobs": [],
                "limit": 20,
                "numbers": {
                  "FAILED": 0,
                  "RUNNING": 0,
                  "SUCCEEDED": 0,
                  "UNKNOWN": 0
                },
                "rule": "ALL_DESC"
              },
              "spark_pool": "7c27951d-2bdf-4140-be82-d0dc0c0e7d8e",
              "state": "finished",
              "statement_id": 17
            },
            "text/plain": [
              "StatementMeta(7c27951d-2bdf-4140-be82-d0dc0c0e7d8e, 35, 17, Finished, Available)"
            ]
          },
          "metadata": {},
          "output_type": "display_data"
        }
      ],
      "source": [
        "#| output: false\n",
        "\n",
        "comments_popular = comments.withColumn('mention_jayhawks',\n",
        "                                        F.when(F.regexp_extract(col('body'), 'jayhawks',0) == 'jayhawks', 1).otherwise(0))\n",
        "comments_popular = comments_popular.withColumn('mention_tarheels',\n",
        "                                        F.when(F.regexp_extract(col('body'), 'tarheels',0) == 'tarheels', 1).otherwise(0))\n",
        "#reference: https://blog.devgenius.io/regular-expression-regexp-in-pyspark-e5f9b5d9617a                 "
      ]
    },
    {
      "cell_type": "code",
      "execution_count": 14,
      "metadata": {
        "gather": {
          "logged": 1699625967408
        },
        "jupyter": {
          "outputs_hidden": false,
          "source_hidden": false
        },
        "nteract": {
          "transient": {
            "deleting": false
          }
        }
      },
      "outputs": [
        {
          "data": {
            "application/vnd.livy.statement-meta+json": {
              "execution_finish_time": "2023-11-10T14:19:27.2059145Z",
              "execution_start_time": "2023-11-10T14:18:12.8316337Z",
              "livy_statement_state": "available",
              "parent_msg_id": "4b48ca39-ebc9-4ebe-b7ae-e580655669bd",
              "queued_time": "2023-11-10T14:18:12.6776972Z",
              "session_id": "35",
              "session_start_time": null,
              "spark_jobs": {
                "jobs": [
                  {
                    "completionTime": "2023-11-10T14:19:25.904GMT",
                    "dataRead": 14094,
                    "dataWritten": 0,
                    "description": "Job group for statement 19:\ncomments_popular.groupBy('mention_jayhawks').count().show()",
                    "displayName": "showString at NativeMethodAccessorImpl.java:0",
                    "jobGroup": "19",
                    "jobId": 4,
                    "killedTasksSummary": {},
                    "name": "showString at NativeMethodAccessorImpl.java:0",
                    "numActiveStages": 0,
                    "numActiveTasks": 0,
                    "numCompletedIndices": 1,
                    "numCompletedStages": 1,
                    "numCompletedTasks": 1,
                    "numFailedStages": 0,
                    "numFailedTasks": 0,
                    "numKilledTasks": 0,
                    "numSkippedStages": 1,
                    "numSkippedTasks": 182,
                    "numTasks": 183,
                    "rowCount": 237,
                    "stageIds": [
                      5,
                      4
                    ],
                    "status": "SUCCEEDED",
                    "submissionTime": "2023-11-10T14:19:25.343GMT",
                    "usageDescription": ""
                  },
                  {
                    "completionTime": "2023-11-10T14:19:24.591GMT",
                    "dataRead": 197059851,
                    "dataWritten": 14094,
                    "description": "Job group for statement 19:\ncomments_popular.groupBy('mention_jayhawks').count().show()",
                    "displayName": "showString at NativeMethodAccessorImpl.java:0",
                    "jobGroup": "19",
                    "jobId": 3,
                    "killedTasksSummary": {},
                    "name": "showString at NativeMethodAccessorImpl.java:0",
                    "numActiveStages": 0,
                    "numActiveTasks": 0,
                    "numCompletedIndices": 182,
                    "numCompletedStages": 1,
                    "numCompletedTasks": 182,
                    "numFailedStages": 0,
                    "numFailedTasks": 0,
                    "numKilledTasks": 0,
                    "numSkippedStages": 0,
                    "numSkippedTasks": 0,
                    "numTasks": 182,
                    "rowCount": 1460673,
                    "stageIds": [
                      3
                    ],
                    "status": "SUCCEEDED",
                    "submissionTime": "2023-11-10T14:18:13.337GMT",
                    "usageDescription": ""
                  }
                ],
                "limit": 20,
                "numbers": {
                  "FAILED": 0,
                  "RUNNING": 0,
                  "SUCCEEDED": 2,
                  "UNKNOWN": 0
                },
                "rule": "ALL_DESC"
              },
              "spark_pool": "7c27951d-2bdf-4140-be82-d0dc0c0e7d8e",
              "state": "finished",
              "statement_id": 19
            },
            "text/plain": [
              "StatementMeta(7c27951d-2bdf-4140-be82-d0dc0c0e7d8e, 35, 19, Finished, Available)"
            ]
          },
          "metadata": {},
          "output_type": "display_data"
        },
        {
          "name": "stdout",
          "output_type": "stream",
          "text": [
            "+----------------+-------+\n",
            "|mention_jayhawks|  count|\n",
            "+----------------+-------+\n",
            "|               1|     90|\n",
            "|               0|1575077|\n",
            "+----------------+-------+\n",
            "\n"
          ]
        }
      ],
      "source": [
        "comments_popular.groupBy('mention_jayhawks').count().show()"
      ]
    },
    {
      "cell_type": "code",
      "execution_count": 15,
      "metadata": {
        "gather": {
          "logged": 1699626089594
        },
        "jupyter": {
          "outputs_hidden": false,
          "source_hidden": false
        },
        "nteract": {
          "transient": {
            "deleting": false
          }
        }
      },
      "outputs": [
        {
          "data": {
            "application/vnd.livy.statement-meta+json": {
              "execution_finish_time": "2023-11-10T14:21:29.3766925Z",
              "execution_start_time": "2023-11-10T14:21:25.7623368Z",
              "livy_statement_state": "available",
              "parent_msg_id": "e105b343-adae-46e2-8c48-598e45a77a44",
              "queued_time": "2023-11-10T14:21:25.6113959Z",
              "session_id": "35",
              "session_start_time": null,
              "spark_jobs": {
                "jobs": [
                  {
                    "completionTime": "2023-11-10T14:21:28.140GMT",
                    "dataRead": 12375,
                    "dataWritten": 0,
                    "description": "Job group for statement 20:\ncomments_popular.groupBy('mention_tarheels').count().show()",
                    "displayName": "showString at NativeMethodAccessorImpl.java:0",
                    "jobGroup": "20",
                    "jobId": 6,
                    "killedTasksSummary": {},
                    "name": "showString at NativeMethodAccessorImpl.java:0",
                    "numActiveStages": 0,
                    "numActiveTasks": 0,
                    "numCompletedIndices": 1,
                    "numCompletedStages": 1,
                    "numCompletedTasks": 1,
                    "numFailedStages": 0,
                    "numFailedTasks": 0,
                    "numKilledTasks": 0,
                    "numSkippedStages": 1,
                    "numSkippedTasks": 182,
                    "numTasks": 183,
                    "rowCount": 209,
                    "stageIds": [
                      7,
                      8
                    ],
                    "status": "SUCCEEDED",
                    "submissionTime": "2023-11-10T14:21:27.467GMT",
                    "usageDescription": ""
                  },
                  {
                    "completionTime": "2023-11-10T14:21:27.351GMT",
                    "dataRead": 220244257,
                    "dataWritten": 12375,
                    "description": "Job group for statement 20:\ncomments_popular.groupBy('mention_tarheels').count().show()",
                    "displayName": "showString at NativeMethodAccessorImpl.java:0",
                    "jobGroup": "20",
                    "jobId": 5,
                    "killedTasksSummary": {},
                    "name": "showString at NativeMethodAccessorImpl.java:0",
                    "numActiveStages": 0,
                    "numActiveTasks": 0,
                    "numCompletedIndices": 182,
                    "numCompletedStages": 1,
                    "numCompletedTasks": 182,
                    "numFailedStages": 0,
                    "numFailedTasks": 0,
                    "numKilledTasks": 0,
                    "numSkippedStages": 0,
                    "numSkippedTasks": 0,
                    "numTasks": 182,
                    "rowCount": 484,
                    "stageIds": [
                      6
                    ],
                    "status": "SUCCEEDED",
                    "submissionTime": "2023-11-10T14:21:25.900GMT",
                    "usageDescription": ""
                  }
                ],
                "limit": 20,
                "numbers": {
                  "FAILED": 0,
                  "RUNNING": 0,
                  "SUCCEEDED": 2,
                  "UNKNOWN": 0
                },
                "rule": "ALL_DESC"
              },
              "spark_pool": "7c27951d-2bdf-4140-be82-d0dc0c0e7d8e",
              "state": "finished",
              "statement_id": 20
            },
            "text/plain": [
              "StatementMeta(7c27951d-2bdf-4140-be82-d0dc0c0e7d8e, 35, 20, Finished, Available)"
            ]
          },
          "metadata": {},
          "output_type": "display_data"
        },
        {
          "name": "stdout",
          "output_type": "stream",
          "text": [
            "+----------------+-------+\n",
            "|mention_tarheels|  count|\n",
            "+----------------+-------+\n",
            "|               1|     41|\n",
            "|               0|1575126|\n",
            "+----------------+-------+\n",
            "\n"
          ]
        }
      ],
      "source": [
        "comments_popular.groupBy('mention_tarheels').count().show()"
      ]
    },
    {
      "cell_type": "markdown",
      "metadata": {
        "nteract": {
          "transient": {
            "deleting": false
          }
        }
      },
      "source": [
        "Among all the comments, 90 comments mention 'jayhawks' and 41 comments mention 'tarheels'. The numbers are both not really huge. To see the popularity of a team, maybe we should look at more words related to the team, like 'Kansas' and 'jayhawks' and so on. "
      ]
    },
    {
      "cell_type": "markdown",
      "metadata": {
        "nteract": {
          "transient": {
            "deleting": false
          }
        }
      },
      "source": [
        "In the comments dataset, there is a column named 'created_utc' which contains the information of when the comments were posted. Let's extract only the date information from it."
      ]
    },
    {
      "cell_type": "code",
      "execution_count": 8,
      "metadata": {
        "gather": {
          "logged": 1699466300946
        },
        "jupyter": {
          "outputs_hidden": false,
          "source_hidden": false
        },
        "nteract": {
          "transient": {
            "deleting": false
          }
        }
      },
      "outputs": [
        {
          "data": {
            "application/vnd.livy.statement-meta+json": {
              "execution_finish_time": "2023-11-08T17:58:20.6602411Z",
              "execution_start_time": "2023-11-08T17:58:20.3044949Z",
              "livy_statement_state": "available",
              "parent_msg_id": "f3ca6794-7ba9-4c70-9657-ab34d2526fbf",
              "queued_time": "2023-11-08T17:58:20.1622073Z",
              "session_id": "34",
              "session_start_time": null,
              "spark_jobs": {
                "jobs": [],
                "limit": 20,
                "numbers": {
                  "FAILED": 0,
                  "RUNNING": 0,
                  "SUCCEEDED": 0,
                  "UNKNOWN": 0
                },
                "rule": "ALL_DESC"
              },
              "spark_pool": "7c27951d-2bdf-4140-be82-d0dc0c0e7d8e",
              "state": "finished",
              "statement_id": 13
            },
            "text/plain": [
              "StatementMeta(7c27951d-2bdf-4140-be82-d0dc0c0e7d8e, 34, 13, Finished, Available)"
            ]
          },
          "metadata": {},
          "output_type": "display_data"
        }
      ],
      "source": [
        "#| echo: false\n",
        "#| output: false\n",
        "\n",
        "comments_eda = comments.withColumn('date', to_date(col('created_utc')))\n",
        "#reference: https://www.projectpro.io/recipes/explain-conversion-of-timestamp-date-pyspark-databricks#:~:text=To%20convert%20a%20datetime%20to,input%20and%20returns%20a%20date."
      ]
    },
    {
      "cell_type": "code",
      "execution_count": 15,
      "metadata": {
        "gather": {
          "logged": 1699448421442
        },
        "jupyter": {
          "outputs_hidden": false,
          "source_hidden": false
        },
        "nteract": {
          "transient": {
            "deleting": false
          }
        }
      },
      "outputs": [
        {
          "data": {
            "application/vnd.livy.statement-meta+json": {
              "execution_finish_time": "2023-11-08T13:00:21.3068294Z",
              "execution_start_time": "2023-11-08T13:00:20.3086856Z",
              "livy_statement_state": "available",
              "parent_msg_id": "0bfebc39-9b77-4115-a2a6-623ad30aa081",
              "queued_time": "2023-11-08T13:00:19.6201793Z",
              "session_id": "31",
              "session_start_time": null,
              "spark_jobs": {
                "jobs": [
                  {
                    "completionTime": "2023-11-08T13:00:20.883GMT",
                    "dataRead": 11742776,
                    "dataWritten": 0,
                    "description": "Job group for statement 20:\ncomments_eda.show(3)",
                    "displayName": "showString at NativeMethodAccessorImpl.java:0",
                    "jobGroup": "20",
                    "jobId": 6,
                    "killedTasksSummary": {},
                    "name": "showString at NativeMethodAccessorImpl.java:0",
                    "numActiveStages": 0,
                    "numActiveTasks": 0,
                    "numCompletedIndices": 1,
                    "numCompletedStages": 1,
                    "numCompletedTasks": 1,
                    "numFailedStages": 0,
                    "numFailedTasks": 0,
                    "numKilledTasks": 0,
                    "numSkippedStages": 0,
                    "numSkippedTasks": 0,
                    "numTasks": 1,
                    "rowCount": 1,
                    "stageIds": [
                      8
                    ],
                    "status": "SUCCEEDED",
                    "submissionTime": "2023-11-08T13:00:20.517GMT",
                    "usageDescription": ""
                  }
                ],
                "limit": 20,
                "numbers": {
                  "FAILED": 0,
                  "RUNNING": 0,
                  "SUCCEEDED": 1,
                  "UNKNOWN": 0
                },
                "rule": "ALL_DESC"
              },
              "spark_pool": "7c27951d-2bdf-4140-be82-d0dc0c0e7d8e",
              "state": "finished",
              "statement_id": 20
            },
            "text/plain": [
              "StatementMeta(7c27951d-2bdf-4140-be82-d0dc0c0e7d8e, 31, 20, Finished, Available)"
            ]
          },
          "metadata": {},
          "output_type": "display_data"
        },
        {
          "name": "stdout",
          "output_type": "stream",
          "text": [
            "+-----------------+------------+--------------------+--------------------+----------+---------+-------+-------------------+----------+\n",
            "|        subreddit|      author|   author_flair_text|                body| parent_id|  link_id|     id|        created_utc|      date|\n",
            "+-----------------+------------+--------------------+--------------------+----------+---------+-------+-------------------+----------+\n",
            "|CollegeBasketball|  joeveralls|:cincinnati: :ohi...|Nothing is fallin...| t3_qtcawg|t3_qtcawg|hkiuknu|2021-11-14 00:27:16|2021-11-14|\n",
            "|CollegeBasketball|DaddyStone13|:cincinnati: :big...|lol i forgot abou...|t1_hkiua9s|t3_qtcawg|hkiungs|2021-11-14 00:27:51|2021-11-14|\n",
            "|CollegeBasketball| seahawksjoe|   :usc: USC Trojans|Also, half of the...| t3_qtcaw2|t3_qtcaw2|hkiuqzc|2021-11-14 00:28:36|2021-11-14|\n",
            "+-----------------+------------+--------------------+--------------------+----------+---------+-------+-------------------+----------+\n",
            "only showing top 3 rows\n",
            "\n"
          ]
        }
      ],
      "source": [
        "#| echo: false\n",
        "#| output: false\n",
        "\n",
        "comments_eda.show(3)"
      ]
    },
    {
      "cell_type": "markdown",
      "metadata": {
        "nteract": {
          "transient": {
            "deleting": false
          }
        }
      },
      "source": [
        "Our project focus on collegiate basketball and the two most successful teams during this basketball season which ranges from November 2021 to around March 2022."
      ]
    },
    {
      "cell_type": "code",
      "execution_count": 11,
      "metadata": {
        "gather": {
          "logged": 1699320801647
        },
        "jupyter": {
          "outputs_hidden": false,
          "source_hidden": false
        },
        "nteract": {
          "transient": {
            "deleting": false
          }
        }
      },
      "outputs": [
        {
          "data": {
            "application/vnd.livy.statement-meta+json": {
              "execution_finish_time": "2023-11-07T01:33:21.4926722Z",
              "execution_start_time": "2023-11-07T01:33:18.7451687Z",
              "livy_statement_state": "available",
              "parent_msg_id": "3f9f6469-11ec-466f-ad9b-872226f3b8dd",
              "queued_time": "2023-11-07T01:33:18.6135269Z",
              "session_id": "29",
              "session_start_time": null,
              "spark_jobs": {
                "jobs": [
                  {
                    "completionTime": "2023-11-07T01:33:20.685GMT",
                    "dataRead": 38000,
                    "dataWritten": 0,
                    "description": "Job group for statement 16:\ncomments_eda.select('subreddit').distinct().show()",
                    "displayName": "showString at NativeMethodAccessorImpl.java:0",
                    "jobGroup": "16",
                    "jobId": 5,
                    "killedTasksSummary": {},
                    "name": "showString at NativeMethodAccessorImpl.java:0",
                    "numActiveStages": 0,
                    "numActiveTasks": 0,
                    "numCompletedIndices": 1,
                    "numCompletedStages": 1,
                    "numCompletedTasks": 1,
                    "numFailedStages": 0,
                    "numFailedTasks": 0,
                    "numKilledTasks": 0,
                    "numSkippedStages": 1,
                    "numSkippedTasks": 182,
                    "numTasks": 183,
                    "rowCount": 516,
                    "stageIds": [
                      6,
                      7
                    ],
                    "status": "SUCCEEDED",
                    "submissionTime": "2023-11-07T01:33:20.337GMT",
                    "usageDescription": ""
                  },
                  {
                    "completionTime": "2023-11-07T01:33:20.243GMT",
                    "dataRead": 220712612,
                    "dataWritten": 38000,
                    "description": "Job group for statement 16:\ncomments_eda.select('subreddit').distinct().show()",
                    "displayName": "showString at NativeMethodAccessorImpl.java:0",
                    "jobGroup": "16",
                    "jobId": 4,
                    "killedTasksSummary": {},
                    "name": "showString at NativeMethodAccessorImpl.java:0",
                    "numActiveStages": 0,
                    "numActiveTasks": 0,
                    "numCompletedIndices": 182,
                    "numCompletedStages": 1,
                    "numCompletedTasks": 182,
                    "numFailedStages": 0,
                    "numFailedTasks": 0,
                    "numKilledTasks": 0,
                    "numSkippedStages": 0,
                    "numSkippedTasks": 0,
                    "numTasks": 182,
                    "rowCount": 791,
                    "stageIds": [
                      5
                    ],
                    "status": "SUCCEEDED",
                    "submissionTime": "2023-11-07T01:33:18.884GMT",
                    "usageDescription": ""
                  }
                ],
                "limit": 20,
                "numbers": {
                  "FAILED": 0,
                  "RUNNING": 0,
                  "SUCCEEDED": 2,
                  "UNKNOWN": 0
                },
                "rule": "ALL_DESC"
              },
              "spark_pool": "7c27951d-2bdf-4140-be82-d0dc0c0e7d8e",
              "state": "finished",
              "statement_id": 16
            },
            "text/plain": [
              "StatementMeta(7c27951d-2bdf-4140-be82-d0dc0c0e7d8e, 29, 16, Finished, Available)"
            ]
          },
          "metadata": {},
          "output_type": "display_data"
        },
        {
          "name": "stdout",
          "output_type": "stream",
          "text": [
            "+-----------------+\n",
            "|        subreddit|\n",
            "+-----------------+\n",
            "|         jayhawks|\n",
            "|CollegeBasketball|\n",
            "|         tarheels|\n",
            "+-----------------+\n",
            "\n"
          ]
        }
      ],
      "source": [
        "#| echo: false\n",
        "#| output: false\n",
        "\n",
        "comments_eda.select('subreddit').distinct().show()\n",
        "#reference: https://stackoverflow.com/questions/39383557/show-distinct-column-values-in-pyspark-dataframe"
      ]
    },
    {
      "cell_type": "markdown",
      "metadata": {
        "nteract": {
          "transient": {
            "deleting": false
          }
        }
      },
      "source": [
        "'jayhawks' is about the Kansas team and 'tarheels' is about the UNC team."
      ]
    },
    {
      "cell_type": "markdown",
      "metadata": {
        "nteract": {
          "transient": {
            "deleting": false
          }
        }
      },
      "source": [
        "Let's find out which days had the most comments."
      ]
    },
    {
      "cell_type": "code",
      "execution_count": 10,
      "metadata": {
        "gather": {
          "logged": 1699320124776
        },
        "jupyter": {
          "outputs_hidden": false,
          "source_hidden": false
        },
        "nteract": {
          "transient": {
            "deleting": false
          }
        }
      },
      "outputs": [
        {
          "data": {
            "application/vnd.livy.statement-meta+json": {
              "execution_finish_time": "2023-11-07T01:22:04.6532384Z",
              "execution_start_time": "2023-11-07T01:20:56.9772833Z",
              "livy_statement_state": "available",
              "parent_msg_id": "bc1941da-7b74-488d-8f58-7286b51ac545",
              "queued_time": "2023-11-07T01:20:56.8295179Z",
              "session_id": "29",
              "session_start_time": null,
              "spark_jobs": {
                "jobs": [
                  {
                    "completionTime": "2023-11-07T01:22:03.343GMT",
                    "dataRead": 815866,
                    "dataWritten": 0,
                    "description": "Job group for statement 15:\ncomments_eda.groupBy('date')             .count()             .sort(desc('count'))             .show(10)",
                    "displayName": "showString at NativeMethodAccessorImpl.java:0",
                    "jobGroup": "15",
                    "jobId": 3,
                    "killedTasksSummary": {},
                    "name": "showString at NativeMethodAccessorImpl.java:0",
                    "numActiveStages": 0,
                    "numActiveTasks": 0,
                    "numCompletedIndices": 1,
                    "numCompletedStages": 1,
                    "numCompletedTasks": 1,
                    "numFailedStages": 0,
                    "numFailedTasks": 0,
                    "numKilledTasks": 0,
                    "numSkippedStages": 1,
                    "numSkippedTasks": 182,
                    "numTasks": 183,
                    "rowCount": 14734,
                    "stageIds": [
                      3,
                      4
                    ],
                    "status": "SUCCEEDED",
                    "submissionTime": "2023-11-07T01:22:02.668GMT",
                    "usageDescription": ""
                  },
                  {
                    "completionTime": "2023-11-07T01:22:02.179GMT",
                    "dataRead": 192935219,
                    "dataWritten": 815866,
                    "description": "Job group for statement 15:\ncomments_eda.groupBy('date')             .count()             .sort(desc('count'))             .show(10)",
                    "displayName": "showString at NativeMethodAccessorImpl.java:0",
                    "jobGroup": "15",
                    "jobId": 2,
                    "killedTasksSummary": {},
                    "name": "showString at NativeMethodAccessorImpl.java:0",
                    "numActiveStages": 0,
                    "numActiveTasks": 0,
                    "numCompletedIndices": 182,
                    "numCompletedStages": 1,
                    "numCompletedTasks": 182,
                    "numFailedStages": 0,
                    "numFailedTasks": 0,
                    "numKilledTasks": 0,
                    "numSkippedStages": 0,
                    "numSkippedTasks": 0,
                    "numTasks": 182,
                    "rowCount": 1589904,
                    "stageIds": [
                      2
                    ],
                    "status": "SUCCEEDED",
                    "submissionTime": "2023-11-07T01:20:58.673GMT",
                    "usageDescription": ""
                  }
                ],
                "limit": 20,
                "numbers": {
                  "FAILED": 0,
                  "RUNNING": 0,
                  "SUCCEEDED": 2,
                  "UNKNOWN": 0
                },
                "rule": "ALL_DESC"
              },
              "spark_pool": "7c27951d-2bdf-4140-be82-d0dc0c0e7d8e",
              "state": "finished",
              "statement_id": 15
            },
            "text/plain": [
              "StatementMeta(7c27951d-2bdf-4140-be82-d0dc0c0e7d8e, 29, 15, Finished, Available)"
            ]
          },
          "metadata": {},
          "output_type": "display_data"
        },
        {
          "name": "stdout",
          "output_type": "stream",
          "text": [
            "+----------+-----+\n",
            "|      date|count|\n",
            "+----------+-----+\n",
            "|2022-03-19|59485|\n",
            "|2022-03-18|52046|\n",
            "|2022-03-20|49716|\n",
            "|2022-03-21|41322|\n",
            "|2022-03-17|40123|\n",
            "|2022-03-25|38882|\n",
            "|2022-03-26|35700|\n",
            "|2022-04-05|35635|\n",
            "|2022-03-12|35390|\n",
            "|2022-03-13|34023|\n",
            "+----------+-----+\n",
            "only showing top 10 rows\n",
            "\n"
          ]
        }
      ],
      "source": [
        "\n",
        "comments_eda.groupBy('date') \\\n",
        "            .count() \\\n",
        "            .sort(desc('count')) \\\n",
        "            .show(10)\n",
        "#reference: https://sparkbyexamples.com/pyspark/pyspark-dataframe-groupby-and-sort-by-descending-order/\n",
        "#           https://www.geeksforgeeks.org/pyspark-groupby-dataframe-with-aggregation-or-count/"
      ]
    },
    {
      "cell_type": "markdown",
      "metadata": {
        "nteract": {
          "transient": {
            "deleting": false
          }
        }
      },
      "source": [
        "\n",
        "From this dataframe, we can know that days from March 2022 to April 2022 had the most reddit engagement. It makes sense because our project focuses on the whole basketball season which ranges from November 2021 to around March 2022, and March 2022 is the end of the basketball season. People will get extremely excited at the end of the basketball season and definitely lots of people will be talking about the games like the possible champion of this season."
      ]
    },
    {
      "cell_type": "markdown",
      "metadata": {
        "nteract": {
          "transient": {
            "deleting": false
          }
        }
      },
      "source": [
        "Between the two most successful teams in this season, which team had the most reddit engagement?"
      ]
    },
    {
      "cell_type": "code",
      "execution_count": 9,
      "metadata": {
        "gather": {
          "logged": 1699466313928
        },
        "jupyter": {
          "outputs_hidden": false,
          "source_hidden": false
        },
        "nteract": {
          "transient": {
            "deleting": false
          }
        }
      },
      "outputs": [
        {
          "data": {
            "application/vnd.livy.statement-meta+json": {
              "execution_finish_time": "2023-11-08T17:58:33.6653471Z",
              "execution_start_time": "2023-11-08T17:58:33.3061545Z",
              "livy_statement_state": "available",
              "parent_msg_id": "f8ce4833-6777-460a-9ea0-aebda36f8b89",
              "queued_time": "2023-11-08T17:58:33.1393129Z",
              "session_id": "34",
              "session_start_time": null,
              "spark_jobs": {
                "jobs": [],
                "limit": 20,
                "numbers": {
                  "FAILED": 0,
                  "RUNNING": 0,
                  "SUCCEEDED": 0,
                  "UNKNOWN": 0
                },
                "rule": "ALL_DESC"
              },
              "spark_pool": "7c27951d-2bdf-4140-be82-d0dc0c0e7d8e",
              "state": "finished",
              "statement_id": 14
            },
            "text/plain": [
              "StatementMeta(7c27951d-2bdf-4140-be82-d0dc0c0e7d8e, 34, 14, Finished, Available)"
            ]
          },
          "metadata": {},
          "output_type": "display_data"
        }
      ],
      "source": [
        "#| output: false\n",
        "\n",
        "df_eda = comments_eda.groupBy('date', 'subreddit') \\\n",
        "                     .count() \\\n",
        "                     .sort(desc('count'))\n",
        "#reference:https://www.geeksforgeeks.org/pyspark-groupby-and-sort-dataframe-in-descending-order/\n",
        "#          https://sparkbyexamples.com/pyspark/pyspark-groupby-on-multiple-columns/"
      ]
    },
    {
      "cell_type": "code",
      "execution_count": 21,
      "metadata": {
        "gather": {
          "logged": 1699451191412
        },
        "jupyter": {
          "outputs_hidden": false,
          "source_hidden": false
        },
        "nteract": {
          "transient": {
            "deleting": false
          }
        }
      },
      "outputs": [
        {
          "data": {
            "application/vnd.livy.statement-meta+json": {
              "execution_finish_time": "2023-11-08T13:46:31.2779704Z",
              "execution_start_time": "2023-11-08T13:46:28.5280332Z",
              "livy_statement_state": "available",
              "parent_msg_id": "ef2dcef8-8bd2-4217-aeff-668b4e48049d",
              "queued_time": "2023-11-08T13:46:28.3335609Z",
              "session_id": "32",
              "session_start_time": null,
              "spark_jobs": {
                "jobs": [
                  {
                    "completionTime": "2023-11-08T13:46:30.340GMT",
                    "dataRead": 1337159,
                    "dataWritten": 0,
                    "description": "Job group for statement 26:\ndf_eda.show(3)",
                    "displayName": "showString at NativeMethodAccessorImpl.java:0",
                    "jobGroup": "26",
                    "jobId": 11,
                    "killedTasksSummary": {},
                    "name": "showString at NativeMethodAccessorImpl.java:0",
                    "numActiveStages": 0,
                    "numActiveTasks": 0,
                    "numCompletedIndices": 1,
                    "numCompletedStages": 1,
                    "numCompletedTasks": 1,
                    "numFailedStages": 0,
                    "numFailedTasks": 0,
                    "numKilledTasks": 0,
                    "numSkippedStages": 1,
                    "numSkippedTasks": 182,
                    "numTasks": 183,
                    "rowCount": 17479,
                    "stageIds": [
                      15,
                      16
                    ],
                    "status": "SUCCEEDED",
                    "submissionTime": "2023-11-08T13:46:30.182GMT",
                    "usageDescription": ""
                  },
                  {
                    "completionTime": "2023-11-08T13:46:30.056GMT",
                    "dataRead": 220972949,
                    "dataWritten": 1337159,
                    "description": "Job group for statement 26:\ndf_eda.show(3)",
                    "displayName": "showString at NativeMethodAccessorImpl.java:0",
                    "jobGroup": "26",
                    "jobId": 10,
                    "killedTasksSummary": {},
                    "name": "showString at NativeMethodAccessorImpl.java:0",
                    "numActiveStages": 0,
                    "numActiveTasks": 0,
                    "numCompletedIndices": 182,
                    "numCompletedStages": 1,
                    "numCompletedTasks": 182,
                    "numFailedStages": 0,
                    "numFailedTasks": 0,
                    "numKilledTasks": 0,
                    "numSkippedStages": 0,
                    "numSkippedTasks": 0,
                    "numTasks": 182,
                    "rowCount": 17754,
                    "stageIds": [
                      14
                    ],
                    "status": "SUCCEEDED",
                    "submissionTime": "2023-11-08T13:46:28.625GMT",
                    "usageDescription": ""
                  }
                ],
                "limit": 20,
                "numbers": {
                  "FAILED": 0,
                  "RUNNING": 0,
                  "SUCCEEDED": 2,
                  "UNKNOWN": 0
                },
                "rule": "ALL_DESC"
              },
              "spark_pool": "7c27951d-2bdf-4140-be82-d0dc0c0e7d8e",
              "state": "finished",
              "statement_id": 26
            },
            "text/plain": [
              "StatementMeta(7c27951d-2bdf-4140-be82-d0dc0c0e7d8e, 32, 26, Finished, Available)"
            ]
          },
          "metadata": {},
          "output_type": "display_data"
        },
        {
          "name": "stdout",
          "output_type": "stream",
          "text": [
            "+----------+-----------------+-----+\n",
            "|      date|        subreddit|count|\n",
            "+----------+-----------------+-----+\n",
            "|2022-03-19|CollegeBasketball|59227|\n",
            "|2022-03-18|CollegeBasketball|51876|\n",
            "|2022-03-20|CollegeBasketball|49672|\n",
            "+----------+-----------------+-----+\n",
            "only showing top 3 rows\n",
            "\n"
          ]
        }
      ],
      "source": [
        "#| echo: false\n",
        "#| output: false\n",
        "\n",
        "df_eda.show(3)"
      ]
    },
    {
      "cell_type": "markdown",
      "metadata": {
        "nteract": {
          "transient": {
            "deleting": false
          }
        }
      },
      "source": [
        "The most comments are in the subreddit 'CollegeBasketball'."
      ]
    },
    {
      "cell_type": "markdown",
      "metadata": {
        "nteract": {
          "transient": {
            "deleting": false
          }
        }
      },
      "source": [
        "Then let's focus on the two most successful teams in this season."
      ]
    },
    {
      "cell_type": "code",
      "execution_count": 17,
      "metadata": {
        "gather": {
          "logged": 1699448471446
        },
        "jupyter": {
          "outputs_hidden": false,
          "source_hidden": false
        },
        "nteract": {
          "transient": {
            "deleting": false
          }
        }
      },
      "outputs": [
        {
          "data": {
            "application/vnd.livy.statement-meta+json": {
              "execution_finish_time": "2023-11-08T13:01:11.320875Z",
              "execution_start_time": "2023-11-08T13:01:06.0166266Z",
              "livy_statement_state": "available",
              "parent_msg_id": "050e2529-a81a-4359-8983-a2c07d4209d3",
              "queued_time": "2023-11-08T13:01:05.8807445Z",
              "session_id": "31",
              "session_start_time": null,
              "spark_jobs": {
                "jobs": [
                  {
                    "completionTime": "2023-11-08T13:01:10.114GMT",
                    "dataRead": 203656,
                    "dataWritten": 0,
                    "description": "Job group for statement 22:\ndf_eda.where((col('subreddit') == 'jayhawks') | (col('subreddit') == 'tarheels')).show(5)",
                    "displayName": "showString at NativeMethodAccessorImpl.java:0",
                    "jobGroup": "22",
                    "jobId": 8,
                    "killedTasksSummary": {},
                    "name": "showString at NativeMethodAccessorImpl.java:0",
                    "numActiveStages": 0,
                    "numActiveTasks": 0,
                    "numCompletedIndices": 1,
                    "numCompletedStages": 1,
                    "numCompletedTasks": 1,
                    "numFailedStages": 0,
                    "numFailedTasks": 0,
                    "numKilledTasks": 0,
                    "numSkippedStages": 1,
                    "numSkippedTasks": 182,
                    "numTasks": 183,
                    "rowCount": 2751,
                    "stageIds": [
                      10,
                      11
                    ],
                    "status": "SUCCEEDED",
                    "submissionTime": "2023-11-08T13:01:09.746GMT",
                    "usageDescription": ""
                  },
                  {
                    "completionTime": "2023-11-08T13:01:09.169GMT",
                    "dataRead": 220655119,
                    "dataWritten": 203656,
                    "description": "Job group for statement 22:\ndf_eda.where((col('subreddit') == 'jayhawks') | (col('subreddit') == 'tarheels')).show(5)",
                    "displayName": "showString at NativeMethodAccessorImpl.java:0",
                    "jobGroup": "22",
                    "jobId": 7,
                    "killedTasksSummary": {},
                    "name": "showString at NativeMethodAccessorImpl.java:0",
                    "numActiveStages": 0,
                    "numActiveTasks": 0,
                    "numCompletedIndices": 182,
                    "numCompletedStages": 1,
                    "numCompletedTasks": 182,
                    "numFailedStages": 0,
                    "numFailedTasks": 0,
                    "numKilledTasks": 0,
                    "numSkippedStages": 0,
                    "numSkippedTasks": 0,
                    "numTasks": 182,
                    "rowCount": 3026,
                    "stageIds": [
                      9
                    ],
                    "status": "SUCCEEDED",
                    "submissionTime": "2023-11-08T13:01:06.394GMT",
                    "usageDescription": ""
                  }
                ],
                "limit": 20,
                "numbers": {
                  "FAILED": 0,
                  "RUNNING": 0,
                  "SUCCEEDED": 2,
                  "UNKNOWN": 0
                },
                "rule": "ALL_DESC"
              },
              "spark_pool": "7c27951d-2bdf-4140-be82-d0dc0c0e7d8e",
              "state": "finished",
              "statement_id": 22
            },
            "text/plain": [
              "StatementMeta(7c27951d-2bdf-4140-be82-d0dc0c0e7d8e, 31, 22, Finished, Available)"
            ]
          },
          "metadata": {},
          "output_type": "display_data"
        },
        {
          "name": "stdout",
          "output_type": "stream",
          "text": [
            "+----------+---------+-----+\n",
            "|      date|subreddit|count|\n",
            "+----------+---------+-----+\n",
            "|2022-04-05| jayhawks|  900|\n",
            "|2022-03-27| jayhawks|  280|\n",
            "|2022-03-19| jayhawks|  215|\n",
            "|2022-03-26| jayhawks|  212|\n",
            "|2022-04-02| jayhawks|  208|\n",
            "+----------+---------+-----+\n",
            "only showing top 5 rows\n",
            "\n"
          ]
        }
      ],
      "source": [
        "\n",
        "df_eda.where((col('subreddit') == 'jayhawks') | (col('subreddit') == 'tarheels')).show(5)\n",
        "#reference: https://medium.com/@uzzaman.ahmed/how-to-use-where-and-filter-in-a-dataframe-with-examples-bc2a9544ae3f#:~:text=In%20Apache%20Spark%2C%20the%20where,evaluates%20to%20False%20are%20removed."
      ]
    },
    {
      "cell_type": "markdown",
      "metadata": {
        "nteract": {
          "transient": {
            "deleting": false
          }
        }
      },
      "source": [
        "wow! It seems that 'jayhawks' had more reddit engagement. It also makes sense because the Kansas team is the winner of this season. We can image people screaming, shouting and sending comments after the Kansas team won."
      ]
    },
    {
      "cell_type": "code",
      "execution_count": 10,
      "metadata": {
        "gather": {
          "logged": 1699466322966
        },
        "jupyter": {
          "outputs_hidden": false,
          "source_hidden": false
        },
        "nteract": {
          "transient": {
            "deleting": false
          }
        }
      },
      "outputs": [
        {
          "data": {
            "application/vnd.livy.statement-meta+json": {
              "execution_finish_time": "2023-11-08T17:58:42.8078902Z",
              "execution_start_time": "2023-11-08T17:58:42.4634636Z",
              "livy_statement_state": "available",
              "parent_msg_id": "c2c5d152-c4c4-4c62-82ea-79ef07e16103",
              "queued_time": "2023-11-08T17:58:42.2679898Z",
              "session_id": "34",
              "session_start_time": null,
              "spark_jobs": {
                "jobs": [],
                "limit": 20,
                "numbers": {
                  "FAILED": 0,
                  "RUNNING": 0,
                  "SUCCEEDED": 0,
                  "UNKNOWN": 0
                },
                "rule": "ALL_DESC"
              },
              "spark_pool": "7c27951d-2bdf-4140-be82-d0dc0c0e7d8e",
              "state": "finished",
              "statement_id": 15
            },
            "text/plain": [
              "StatementMeta(7c27951d-2bdf-4140-be82-d0dc0c0e7d8e, 34, 15, Finished, Available)"
            ]
          },
          "metadata": {},
          "output_type": "display_data"
        }
      ],
      "source": [
        "#| output: false\n",
        "\n",
        "df_eda_comments = df_eda.where((col('subreddit') == 'jayhawks') | (col('subreddit') == 'tarheels'))"
      ]
    },
    {
      "cell_type": "code",
      "execution_count": 11,
      "metadata": {
        "gather": {
          "logged": 1699466326894
        },
        "jupyter": {
          "outputs_hidden": false,
          "source_hidden": false
        },
        "nteract": {
          "transient": {
            "deleting": false
          }
        }
      },
      "outputs": [
        {
          "data": {
            "application/vnd.livy.statement-meta+json": {
              "execution_finish_time": "2023-11-08T17:58:46.6958492Z",
              "execution_start_time": "2023-11-08T17:58:46.357386Z",
              "livy_statement_state": "available",
              "parent_msg_id": "e4efe16f-00f2-48a8-800f-a832d4b025d8",
              "queued_time": "2023-11-08T17:58:46.1938527Z",
              "session_id": "34",
              "session_start_time": null,
              "spark_jobs": {
                "jobs": [],
                "limit": 20,
                "numbers": {
                  "FAILED": 0,
                  "RUNNING": 0,
                  "SUCCEEDED": 0,
                  "UNKNOWN": 0
                },
                "rule": "ALL_DESC"
              },
              "spark_pool": "7c27951d-2bdf-4140-be82-d0dc0c0e7d8e",
              "state": "finished",
              "statement_id": 16
            },
            "text/plain": [
              "StatementMeta(7c27951d-2bdf-4140-be82-d0dc0c0e7d8e, 34, 16, Finished, Available)"
            ]
          },
          "metadata": {},
          "output_type": "display_data"
        }
      ],
      "source": [
        "#| output: false\n",
        "\n",
        "df_eda_comments = df_eda_comments.orderBy('date')\n",
        "#reference:https://sparkbyexamples.com/pyspark/pyspark-orderby-and-sort-explained/\n",
        "\n",
        "df_eda_comments_pd = df_eda_comments.toPandas()\n",
        "#reference: https://sparkbyexamples.com/python/convert-pyspark-dataframe-to-pandas/"
      ]
    },
    {
      "cell_type": "code",
      "execution_count": 13,
      "metadata": {
        "gather": {
          "logged": 1699466416625
        },
        "jupyter": {
          "outputs_hidden": false,
          "source_hidden": false
        },
        "nteract": {
          "transient": {
            "deleting": false
          }
        }
      },
      "outputs": [
        {
          "data": {
            "application/vnd.livy.statement-meta+json": {
              "execution_finish_time": "2023-11-08T18:00:16.3934755Z",
              "execution_start_time": "2023-11-08T18:00:16.0413504Z",
              "livy_statement_state": "available",
              "parent_msg_id": "327309b8-4c29-4754-b58d-f44f5cffa3f4",
              "queued_time": "2023-11-08T18:00:15.8495736Z",
              "session_id": "34",
              "session_start_time": null,
              "spark_jobs": {
                "jobs": [],
                "limit": 20,
                "numbers": {
                  "FAILED": 0,
                  "RUNNING": 0,
                  "SUCCEEDED": 0,
                  "UNKNOWN": 0
                },
                "rule": "ALL_DESC"
              },
              "spark_pool": "7c27951d-2bdf-4140-be82-d0dc0c0e7d8e",
              "state": "finished",
              "statement_id": 18
            },
            "text/plain": [
              "StatementMeta(7c27951d-2bdf-4140-be82-d0dc0c0e7d8e, 34, 18, Finished, Available)"
            ]
          },
          "metadata": {},
          "output_type": "display_data"
        }
      ],
      "source": [
        "#| output: false\n",
        "comments_jayhawks = df_eda_comments_pd[df_eda_comments_pd['subreddit'] == 'jayhawks']\n",
        "comments_tarheels = df_eda_comments_pd[df_eda_comments_pd['subreddit'] == 'tarheels']\n",
        "#reference:https://www.geeksforgeeks.org/ways-to-filter-pandas-dataframe-by-column-values/"
      ]
    },
    {
      "cell_type": "code",
      "execution_count": 19,
      "metadata": {
        "gather": {
          "logged": 1699466453274
        },
        "jupyter": {
          "outputs_hidden": false,
          "source_hidden": false
        },
        "nteract": {
          "transient": {
            "deleting": false
          }
        }
      },
      "outputs": [
        {
          "data": {
            "application/vnd.livy.statement-meta+json": {
              "execution_finish_time": "2023-11-08T18:00:53.0801642Z",
              "execution_start_time": "2023-11-08T18:00:52.170261Z",
              "livy_statement_state": "available",
              "parent_msg_id": "c0e1c1f0-d939-4944-811f-a2c96fd83e90",
              "queued_time": "2023-11-08T18:00:51.9885525Z",
              "session_id": "34",
              "session_start_time": null,
              "spark_jobs": {
                "jobs": [],
                "limit": 20,
                "numbers": {
                  "FAILED": 0,
                  "RUNNING": 0,
                  "SUCCEEDED": 0,
                  "UNKNOWN": 0
                },
                "rule": "ALL_DESC"
              },
              "spark_pool": "7c27951d-2bdf-4140-be82-d0dc0c0e7d8e",
              "state": "finished",
              "statement_id": 24
            },
            "text/plain": [
              "StatementMeta(7c27951d-2bdf-4140-be82-d0dc0c0e7d8e, 34, 24, Finished, Available)"
            ]
          },
          "metadata": {},
          "output_type": "display_data"
        },
        {
          "data": {
            "text/plain": [
              "<matplotlib.legend.Legend at 0x7fdd9a24d940>"
            ]
          },
          "execution_count": 47,
          "metadata": {},
          "output_type": "execute_result"
        },
        {
          "data": {
            "image/png": "[encoded data removed]",
            "text/plain": [
              "<Figure size 864x432 with 1 Axes>"
            ]
          },
          "metadata": {
            "needs_background": "light"
          },
          "output_type": "display_data"
        }
      ],
      "source": [
        "#| echo: false\n",
        "#| output: false\n",
        "\n",
        "import matplotlib.pyplot as plt\n",
        "plt.figure(figsize = (12,6))\n",
        "plt.plot(comments_jayhawks['date'],comments_jayhawks['count'], label = 'Jayhawks', marker = 'o')\n",
        "plt.plot(comments_tarheels['date'],comments_tarheels['count'], label = 'Tarheels', marker = 'o')\n",
        "plt.xlabel('Date')\n",
        "plt.ylabel('Count')\n",
        "plt.title('Time Series Plot for Comments Counts')\n",
        "plt.legend()\n",
        "#reference: https://www.tutorialspoint.com/plot-multiple-lines-in-matplotlib"
      ]
    },
    {
      "cell_type": "markdown",
      "metadata": {
        "nteract": {
          "transient": {
            "deleting": false
          }
        }
      },
      "source": [
        "### EDA of submissions data"
      ]
    },
    {
      "cell_type": "markdown",
      "metadata": {
        "nteract": {
          "transient": {
            "deleting": false
          }
        }
      },
      "source": [
        "Let's see the popularity of both teams in reddit submissions."
      ]
    },
    {
      "cell_type": "code",
      "execution_count": 16,
      "metadata": {
        "gather": {
          "logged": 1699626175386
        },
        "jupyter": {
          "outputs_hidden": false,
          "source_hidden": false
        },
        "nteract": {
          "transient": {
            "deleting": false
          }
        }
      },
      "outputs": [
        {
          "data": {
            "application/vnd.livy.statement-meta+json": {
              "execution_finish_time": "2023-11-10T14:22:55.2487732Z",
              "execution_start_time": "2023-11-10T14:22:54.4220834Z",
              "livy_statement_state": "available",
              "parent_msg_id": "79816fad-7fba-40c4-a61c-bbcff3b4c39f",
              "queued_time": "2023-11-10T14:22:54.2804762Z",
              "session_id": "35",
              "session_start_time": null,
              "spark_jobs": {
                "jobs": [],
                "limit": 20,
                "numbers": {
                  "FAILED": 0,
                  "RUNNING": 0,
                  "SUCCEEDED": 0,
                  "UNKNOWN": 0
                },
                "rule": "ALL_DESC"
              },
              "spark_pool": "7c27951d-2bdf-4140-be82-d0dc0c0e7d8e",
              "state": "finished",
              "statement_id": 21
            },
            "text/plain": [
              "StatementMeta(7c27951d-2bdf-4140-be82-d0dc0c0e7d8e, 35, 21, Finished, Available)"
            ]
          },
          "metadata": {},
          "output_type": "display_data"
        }
      ],
      "source": [
        "#| echo: false\n",
        "#| output: false\n",
        "\n",
        "submissions_popular = submissions.withColumn('mention_jayhawks',\n",
        "                                        F.when(F.regexp_extract(col('selftext'), 'jayhawks',0) == 'jayhawks', 1).otherwise(0))\n",
        "submissions_popular = submissions_popular.withColumn('mention_tarheels',\n",
        "                                        F.when(F.regexp_extract(col('selftext'), 'tarheels',0) == 'tarheels', 1).otherwise(0))\n",
        "#reference: https://blog.devgenius.io/regular-expression-regexp-in-pyspark-e5f9b5d9617a"
      ]
    },
    {
      "cell_type": "code",
      "execution_count": 18,
      "metadata": {
        "gather": {
          "logged": 1699626215335
        },
        "jupyter": {
          "outputs_hidden": false,
          "source_hidden": false
        },
        "nteract": {
          "transient": {
            "deleting": false
          }
        }
      },
      "outputs": [
        {
          "data": {
            "application/vnd.livy.statement-meta+json": {
              "execution_finish_time": "2023-11-10T14:23:35.175419Z",
              "execution_start_time": "2023-11-10T14:23:12.1359912Z",
              "livy_statement_state": "available",
              "parent_msg_id": "7a67086e-7a8d-42f5-a954-d793d6b70fe5",
              "queued_time": "2023-11-10T14:23:12.0150402Z",
              "session_id": "35",
              "session_start_time": null,
              "spark_jobs": {
                "jobs": [
                  {
                    "completionTime": "2023-11-10T14:23:33.709GMT",
                    "dataRead": 3958,
                    "dataWritten": 0,
                    "description": "Job group for statement 23:\nsubmissions_popular.groupBy('mention_jayhawks').count().show()",
                    "displayName": "showString at NativeMethodAccessorImpl.java:0",
                    "jobGroup": "23",
                    "jobId": 8,
                    "killedTasksSummary": {},
                    "name": "showString at NativeMethodAccessorImpl.java:0",
                    "numActiveStages": 0,
                    "numActiveTasks": 0,
                    "numCompletedIndices": 1,
                    "numCompletedStages": 1,
                    "numCompletedTasks": 1,
                    "numFailedStages": 0,
                    "numFailedTasks": 0,
                    "numKilledTasks": 0,
                    "numSkippedStages": 1,
                    "numSkippedTasks": 64,
                    "numTasks": 65,
                    "rowCount": 67,
                    "stageIds": [
                      10,
                      11
                    ],
                    "status": "SUCCEEDED",
                    "submissionTime": "2023-11-10T14:23:33.648GMT",
                    "usageDescription": ""
                  },
                  {
                    "completionTime": "2023-11-10T14:23:33.544GMT",
                    "dataRead": 20654375,
                    "dataWritten": 3958,
                    "description": "Job group for statement 23:\nsubmissions_popular.groupBy('mention_jayhawks').count().show()",
                    "displayName": "showString at NativeMethodAccessorImpl.java:0",
                    "jobGroup": "23",
                    "jobId": 7,
                    "killedTasksSummary": {},
                    "name": "showString at NativeMethodAccessorImpl.java:0",
                    "numActiveStages": 0,
                    "numActiveTasks": 0,
                    "numCompletedIndices": 64,
                    "numCompletedStages": 1,
                    "numCompletedTasks": 64,
                    "numFailedStages": 0,
                    "numFailedTasks": 0,
                    "numKilledTasks": 0,
                    "numSkippedStages": 0,
                    "numSkippedTasks": 0,
                    "numTasks": 64,
                    "rowCount": 22219,
                    "stageIds": [
                      9
                    ],
                    "status": "SUCCEEDED",
                    "submissionTime": "2023-11-10T14:23:12.519GMT",
                    "usageDescription": ""
                  }
                ],
                "limit": 20,
                "numbers": {
                  "FAILED": 0,
                  "RUNNING": 0,
                  "SUCCEEDED": 2,
                  "UNKNOWN": 0
                },
                "rule": "ALL_DESC"
              },
              "spark_pool": "7c27951d-2bdf-4140-be82-d0dc0c0e7d8e",
              "state": "finished",
              "statement_id": 23
            },
            "text/plain": [
              "StatementMeta(7c27951d-2bdf-4140-be82-d0dc0c0e7d8e, 35, 23, Finished, Available)"
            ]
          },
          "metadata": {},
          "output_type": "display_data"
        },
        {
          "name": "stdout",
          "output_type": "stream",
          "text": [
            "+----------------+-----+\n",
            "|mention_jayhawks|count|\n",
            "+----------------+-----+\n",
            "|               0| 9799|\n",
            "|               1|    5|\n",
            "+----------------+-----+\n",
            "\n"
          ]
        }
      ],
      "source": [
        "#| echo: false\n",
        "#| output: false\n",
        "\n",
        "submissions_popular.groupBy('mention_jayhawks').count().show()"
      ]
    },
    {
      "cell_type": "code",
      "execution_count": 19,
      "metadata": {
        "gather": {
          "logged": 1699626224330
        },
        "jupyter": {
          "outputs_hidden": false,
          "source_hidden": false
        },
        "nteract": {
          "transient": {
            "deleting": false
          }
        }
      },
      "outputs": [
        {
          "data": {
            "application/vnd.livy.statement-meta+json": {
              "execution_finish_time": "2023-11-10T14:23:44.1706737Z",
              "execution_start_time": "2023-11-10T14:23:42.6272659Z",
              "livy_statement_state": "available",
              "parent_msg_id": "597e59ab-aa5b-4d77-92af-7849ae594566",
              "queued_time": "2023-11-10T14:23:42.4440259Z",
              "session_id": "35",
              "session_start_time": null,
              "spark_jobs": {
                "jobs": [
                  {
                    "completionTime": "2023-11-10T14:23:43.284GMT",
                    "dataRead": 3718,
                    "dataWritten": 0,
                    "description": "Job group for statement 24:\nsubmissions_popular.groupBy('mention_tarheels').count().show()",
                    "displayName": "showString at NativeMethodAccessorImpl.java:0",
                    "jobGroup": "24",
                    "jobId": 10,
                    "killedTasksSummary": {},
                    "name": "showString at NativeMethodAccessorImpl.java:0",
                    "numActiveStages": 0,
                    "numActiveTasks": 0,
                    "numCompletedIndices": 1,
                    "numCompletedStages": 1,
                    "numCompletedTasks": 1,
                    "numFailedStages": 0,
                    "numFailedTasks": 0,
                    "numKilledTasks": 0,
                    "numSkippedStages": 1,
                    "numSkippedTasks": 64,
                    "numTasks": 65,
                    "rowCount": 63,
                    "stageIds": [
                      13,
                      14
                    ],
                    "status": "SUCCEEDED",
                    "submissionTime": "2023-11-10T14:23:43.181GMT",
                    "usageDescription": ""
                  },
                  {
                    "completionTime": "2023-11-10T14:23:43.137GMT",
                    "dataRead": 14021826,
                    "dataWritten": 3718,
                    "description": "Job group for statement 24:\nsubmissions_popular.groupBy('mention_tarheels').count().show()",
                    "displayName": "showString at NativeMethodAccessorImpl.java:0",
                    "jobGroup": "24",
                    "jobId": 9,
                    "killedTasksSummary": {},
                    "name": "showString at NativeMethodAccessorImpl.java:0",
                    "numActiveStages": 0,
                    "numActiveTasks": 0,
                    "numCompletedIndices": 64,
                    "numCompletedStages": 1,
                    "numCompletedTasks": 64,
                    "numFailedStages": 0,
                    "numFailedTasks": 0,
                    "numKilledTasks": 0,
                    "numSkippedStages": 0,
                    "numSkippedTasks": 0,
                    "numTasks": 64,
                    "rowCount": 127,
                    "stageIds": [
                      12
                    ],
                    "status": "SUCCEEDED",
                    "submissionTime": "2023-11-10T14:23:42.731GMT",
                    "usageDescription": ""
                  }
                ],
                "limit": 20,
                "numbers": {
                  "FAILED": 0,
                  "RUNNING": 0,
                  "SUCCEEDED": 2,
                  "UNKNOWN": 0
                },
                "rule": "ALL_DESC"
              },
              "spark_pool": "7c27951d-2bdf-4140-be82-d0dc0c0e7d8e",
              "state": "finished",
              "statement_id": 24
            },
            "text/plain": [
              "StatementMeta(7c27951d-2bdf-4140-be82-d0dc0c0e7d8e, 35, 24, Finished, Available)"
            ]
          },
          "metadata": {},
          "output_type": "display_data"
        },
        {
          "name": "stdout",
          "output_type": "stream",
          "text": [
            "+----------------+-----+\n",
            "|mention_tarheels|count|\n",
            "+----------------+-----+\n",
            "|               0| 9803|\n",
            "|               1|    1|\n",
            "+----------------+-----+\n",
            "\n"
          ]
        }
      ],
      "source": [
        "#| echo: false\n",
        "#| output: false\n",
        "\n",
        "submissions_popular.groupBy('mention_tarheels').count().show()"
      ]
    },
    {
      "cell_type": "markdown",
      "metadata": {
        "nteract": {
          "transient": {
            "deleting": false
          }
        }
      },
      "source": [
        "Similarly, extract the date information from the 'created_utc' column."
      ]
    },
    {
      "cell_type": "code",
      "execution_count": 30,
      "metadata": {
        "gather": {
          "logged": 1699451764758
        },
        "jupyter": {
          "outputs_hidden": false,
          "source_hidden": false
        },
        "nteract": {
          "transient": {
            "deleting": false
          }
        }
      },
      "outputs": [
        {
          "data": {
            "application/vnd.livy.statement-meta+json": {
              "execution_finish_time": "2023-11-08T13:56:04.6543794Z",
              "execution_start_time": "2023-11-08T13:56:04.3251928Z",
              "livy_statement_state": "available",
              "parent_msg_id": "0b7a92cf-e59e-49c8-a304-e9b0378aed9d",
              "queued_time": "2023-11-08T13:56:04.1001227Z",
              "session_id": "32",
              "session_start_time": null,
              "spark_jobs": {
                "jobs": [],
                "limit": 20,
                "numbers": {
                  "FAILED": 0,
                  "RUNNING": 0,
                  "SUCCEEDED": 0,
                  "UNKNOWN": 0
                },
                "rule": "ALL_DESC"
              },
              "spark_pool": "7c27951d-2bdf-4140-be82-d0dc0c0e7d8e",
              "state": "finished",
              "statement_id": 35
            },
            "text/plain": [
              "StatementMeta(7c27951d-2bdf-4140-be82-d0dc0c0e7d8e, 32, 35, Finished, Available)"
            ]
          },
          "metadata": {},
          "output_type": "display_data"
        }
      ],
      "source": [
        "#| echo: false\n",
        "#| output: false\n",
        "\n",
        "submissions_eda = submissions.withColumn('date',to_date(col('created_utc')))"
      ]
    },
    {
      "cell_type": "markdown",
      "metadata": {
        "nteract": {
          "transient": {
            "deleting": false
          }
        }
      },
      "source": [
        "Some days in November 2021 and days in around February 2022 and March 2022 have the most submissions. This season starts in November 2021, and people must be excited about the start of a new basketball season. And when the end of the season came, people would talk about the performances in different games and so on."
      ]
    },
    {
      "cell_type": "code",
      "execution_count": 35,
      "metadata": {
        "gather": {
          "logged": 1699452050211
        },
        "jupyter": {
          "outputs_hidden": false,
          "source_hidden": false
        },
        "nteract": {
          "transient": {
            "deleting": false
          }
        }
      },
      "outputs": [
        {
          "data": {
            "application/vnd.livy.statement-meta+json": {
              "execution_finish_time": "2023-11-08T14:00:50.1053532Z",
              "execution_start_time": "2023-11-08T14:00:49.1103878Z",
              "livy_statement_state": "available",
              "parent_msg_id": "a496b9ea-19a5-4bf0-b38f-5083b705930b",
              "queued_time": "2023-11-08T14:00:48.2790292Z",
              "session_id": "32",
              "session_start_time": null,
              "spark_jobs": {
                "jobs": [
                  {
                    "completionTime": "2023-11-08T14:00:49.820GMT",
                    "dataRead": 249186,
                    "dataWritten": 0,
                    "description": "Job group for statement 40:\nsubmissions_eda.groupBy('date', 'subreddit')                .count()                .sort(desc('count'))                .show(5)",
                    "displayName": "showString at NativeMethodAccessorImpl.java:0",
                    "jobGroup": "40",
                    "jobId": 24,
                    "killedTasksSummary": {},
                    "name": "showString at NativeMethodAccessorImpl.java:0",
                    "numActiveStages": 0,
                    "numActiveTasks": 0,
                    "numCompletedIndices": 1,
                    "numCompletedStages": 1,
                    "numCompletedTasks": 1,
                    "numFailedStages": 0,
                    "numFailedTasks": 0,
                    "numKilledTasks": 0,
                    "numSkippedStages": 1,
                    "numSkippedTasks": 64,
                    "numTasks": 65,
                    "rowCount": 2953,
                    "stageIds": [
                      37,
                      36
                    ],
                    "status": "SUCCEEDED",
                    "submissionTime": "2023-11-08T14:00:49.760GMT",
                    "usageDescription": ""
                  },
                  {
                    "completionTime": "2023-11-08T14:00:49.727GMT",
                    "dataRead": 14033664,
                    "dataWritten": 249186,
                    "description": "Job group for statement 40:\nsubmissions_eda.groupBy('date', 'subreddit')                .count()                .sort(desc('count'))                .show(5)",
                    "displayName": "showString at NativeMethodAccessorImpl.java:0",
                    "jobGroup": "40",
                    "jobId": 23,
                    "killedTasksSummary": {},
                    "name": "showString at NativeMethodAccessorImpl.java:0",
                    "numActiveStages": 0,
                    "numActiveTasks": 0,
                    "numCompletedIndices": 64,
                    "numCompletedStages": 1,
                    "numCompletedTasks": 64,
                    "numFailedStages": 0,
                    "numFailedTasks": 0,
                    "numKilledTasks": 0,
                    "numSkippedStages": 0,
                    "numSkippedTasks": 0,
                    "numTasks": 64,
                    "rowCount": 3017,
                    "stageIds": [
                      35
                    ],
                    "status": "SUCCEEDED",
                    "submissionTime": "2023-11-08T14:00:49.243GMT",
                    "usageDescription": ""
                  }
                ],
                "limit": 20,
                "numbers": {
                  "FAILED": 0,
                  "RUNNING": 0,
                  "SUCCEEDED": 2,
                  "UNKNOWN": 0
                },
                "rule": "ALL_DESC"
              },
              "spark_pool": "7c27951d-2bdf-4140-be82-d0dc0c0e7d8e",
              "state": "finished",
              "statement_id": 40
            },
            "text/plain": [
              "StatementMeta(7c27951d-2bdf-4140-be82-d0dc0c0e7d8e, 32, 40, Finished, Available)"
            ]
          },
          "metadata": {},
          "output_type": "display_data"
        },
        {
          "name": "stdout",
          "output_type": "stream",
          "text": [
            "+----------+-----------------+-----+\n",
            "|      date|        subreddit|count|\n",
            "+----------+-----------------+-----+\n",
            "|2021-11-10|CollegeBasketball|  186|\n",
            "|2021-11-13|CollegeBasketball|  137|\n",
            "|2022-03-06|CollegeBasketball|  126|\n",
            "|2022-03-11|CollegeBasketball|  126|\n",
            "|2022-02-12|CollegeBasketball|  118|\n",
            "+----------+-----------------+-----+\n",
            "only showing top 5 rows\n",
            "\n"
          ]
        }
      ],
      "source": [
        "\n",
        "\n",
        "submissions_eda.groupBy('date', 'subreddit') \\\n",
        "               .count() \\\n",
        "               .sort(desc('count')) \\\n",
        "               .show(5)"
      ]
    },
    {
      "cell_type": "markdown",
      "metadata": {
        "nteract": {
          "transient": {
            "deleting": false
          }
        }
      },
      "source": [
        "Let's focus on the submissions in the subreddit 'jayhawks' and the subreddit 'tarheels'."
      ]
    },
    {
      "cell_type": "code",
      "execution_count": 39,
      "metadata": {
        "gather": {
          "logged": 1699452422484
        },
        "jupyter": {
          "outputs_hidden": false,
          "source_hidden": false
        },
        "nteract": {
          "transient": {
            "deleting": false
          }
        }
      },
      "outputs": [
        {
          "data": {
            "application/vnd.livy.statement-meta+json": {
              "execution_finish_time": "2023-11-08T14:07:02.3140745Z",
              "execution_start_time": "2023-11-08T14:07:01.3310486Z",
              "livy_statement_state": "available",
              "parent_msg_id": "ccfdb171-b0e2-4f2c-9368-38c5e435089a",
              "queued_time": "2023-11-08T14:07:01.1422205Z",
              "session_id": "32",
              "session_start_time": null,
              "spark_jobs": {
                "jobs": [
                  {
                    "completionTime": "2023-11-08T14:07:01.998GMT",
                    "dataRead": 17246,
                    "dataWritten": 0,
                    "description": "Job group for statement 44:\ndf_eda_2.where((col('subreddit') == 'jayhawks') | (col('subreddit') == 'tarheels')).show(5)",
                    "displayName": "showString at NativeMethodAccessorImpl.java:0",
                    "jobGroup": "44",
                    "jobId": 29,
                    "killedTasksSummary": {},
                    "name": "showString at NativeMethodAccessorImpl.java:0",
                    "numActiveStages": 0,
                    "numActiveTasks": 0,
                    "numCompletedIndices": 1,
                    "numCompletedStages": 1,
                    "numCompletedTasks": 1,
                    "numFailedStages": 0,
                    "numFailedTasks": 0,
                    "numKilledTasks": 0,
                    "numSkippedStages": 1,
                    "numSkippedTasks": 64,
                    "numTasks": 65,
                    "rowCount": 224,
                    "stageIds": [
                      45,
                      44
                    ],
                    "status": "SUCCEEDED",
                    "submissionTime": "2023-11-08T14:07:01.890GMT",
                    "usageDescription": ""
                  },
                  {
                    "completionTime": "2023-11-08T14:07:01.857GMT",
                    "dataRead": 14020772,
                    "dataWritten": 17246,
                    "description": "Job group for statement 44:\ndf_eda_2.where((col('subreddit') == 'jayhawks') | (col('subreddit') == 'tarheels')).show(5)",
                    "displayName": "showString at NativeMethodAccessorImpl.java:0",
                    "jobGroup": "44",
                    "jobId": 28,
                    "killedTasksSummary": {},
                    "name": "showString at NativeMethodAccessorImpl.java:0",
                    "numActiveStages": 0,
                    "numActiveTasks": 0,
                    "numCompletedIndices": 64,
                    "numCompletedStages": 1,
                    "numCompletedTasks": 64,
                    "numFailedStages": 0,
                    "numFailedTasks": 0,
                    "numKilledTasks": 0,
                    "numSkippedStages": 0,
                    "numSkippedTasks": 0,
                    "numTasks": 64,
                    "rowCount": 288,
                    "stageIds": [
                      43
                    ],
                    "status": "SUCCEEDED",
                    "submissionTime": "2023-11-08T14:07:01.529GMT",
                    "usageDescription": ""
                  }
                ],
                "limit": 20,
                "numbers": {
                  "FAILED": 0,
                  "RUNNING": 0,
                  "SUCCEEDED": 2,
                  "UNKNOWN": 0
                },
                "rule": "ALL_DESC"
              },
              "spark_pool": "7c27951d-2bdf-4140-be82-d0dc0c0e7d8e",
              "state": "finished",
              "statement_id": 44
            },
            "text/plain": [
              "StatementMeta(7c27951d-2bdf-4140-be82-d0dc0c0e7d8e, 32, 44, Finished, Available)"
            ]
          },
          "metadata": {},
          "output_type": "display_data"
        },
        {
          "name": "stdout",
          "output_type": "stream",
          "text": [
            "+----------+---------+-----+\n",
            "|      date|subreddit|count|\n",
            "+----------+---------+-----+\n",
            "|2022-04-05| jayhawks|    8|\n",
            "|2022-04-04| jayhawks|    7|\n",
            "|2022-03-27| jayhawks|    6|\n",
            "|2022-04-05| tarheels|    5|\n",
            "|2022-04-03| jayhawks|    5|\n",
            "+----------+---------+-----+\n",
            "only showing top 5 rows\n",
            "\n"
          ]
        }
      ],
      "source": [
        "df_eda_2 = submissions_eda.groupBy('date','subreddit') \\\n",
        "                          .count() \\\n",
        "                          .sort(desc('count'))\n",
        "df_eda_2.where((col('subreddit') == 'jayhawks') | (col('subreddit') == 'tarheels')).show(5)"
      ]
    },
    {
      "cell_type": "markdown",
      "metadata": {
        "nteract": {
          "transient": {
            "deleting": false
          }
        }
      },
      "source": [
        "'jayhawks' have the most submissions in April 2022. Certainly! They won!"
      ]
    },
    {
      "cell_type": "code",
      "execution_count": 41,
      "metadata": {
        "gather": {
          "logged": 1699452614948
        },
        "jupyter": {
          "outputs_hidden": false,
          "source_hidden": false
        },
        "nteract": {
          "transient": {
            "deleting": false
          }
        }
      },
      "outputs": [
        {
          "data": {
            "application/vnd.livy.statement-meta+json": {
              "execution_finish_time": "2023-11-08T14:10:14.7624718Z",
              "execution_start_time": "2023-11-08T14:10:13.8227207Z",
              "livy_statement_state": "available",
              "parent_msg_id": "d79d880c-eb49-412c-bf6c-4c6571d1b993",
              "queued_time": "2023-11-08T14:10:13.6547316Z",
              "session_id": "32",
              "session_start_time": null,
              "spark_jobs": {
                "jobs": [
                  {
                    "completionTime": "2023-11-08T14:10:14.232GMT",
                    "dataRead": 17246,
                    "dataWritten": 0,
                    "description": "Job group for statement 46:\ndf_eda_submissions.show(5)",
                    "displayName": "showString at NativeMethodAccessorImpl.java:0",
                    "jobGroup": "46",
                    "jobId": 31,
                    "killedTasksSummary": {},
                    "name": "showString at NativeMethodAccessorImpl.java:0",
                    "numActiveStages": 0,
                    "numActiveTasks": 0,
                    "numCompletedIndices": 1,
                    "numCompletedStages": 1,
                    "numCompletedTasks": 1,
                    "numFailedStages": 0,
                    "numFailedTasks": 0,
                    "numKilledTasks": 0,
                    "numSkippedStages": 1,
                    "numSkippedTasks": 64,
                    "numTasks": 65,
                    "rowCount": 224,
                    "stageIds": [
                      48,
                      47
                    ],
                    "status": "SUCCEEDED",
                    "submissionTime": "2023-11-08T14:10:14.196GMT",
                    "usageDescription": ""
                  },
                  {
                    "completionTime": "2023-11-08T14:10:14.158GMT",
                    "dataRead": 13991080,
                    "dataWritten": 17246,
                    "description": "Job group for statement 46:\ndf_eda_submissions.show(5)",
                    "displayName": "showString at NativeMethodAccessorImpl.java:0",
                    "jobGroup": "46",
                    "jobId": 30,
                    "killedTasksSummary": {},
                    "name": "showString at NativeMethodAccessorImpl.java:0",
                    "numActiveStages": 0,
                    "numActiveTasks": 0,
                    "numCompletedIndices": 64,
                    "numCompletedStages": 1,
                    "numCompletedTasks": 64,
                    "numFailedStages": 0,
                    "numFailedTasks": 0,
                    "numKilledTasks": 0,
                    "numSkippedStages": 0,
                    "numSkippedTasks": 0,
                    "numTasks": 64,
                    "rowCount": 288,
                    "stageIds": [
                      46
                    ],
                    "status": "SUCCEEDED",
                    "submissionTime": "2023-11-08T14:10:13.886GMT",
                    "usageDescription": ""
                  }
                ],
                "limit": 20,
                "numbers": {
                  "FAILED": 0,
                  "RUNNING": 0,
                  "SUCCEEDED": 2,
                  "UNKNOWN": 0
                },
                "rule": "ALL_DESC"
              },
              "spark_pool": "7c27951d-2bdf-4140-be82-d0dc0c0e7d8e",
              "state": "finished",
              "statement_id": 46
            },
            "text/plain": [
              "StatementMeta(7c27951d-2bdf-4140-be82-d0dc0c0e7d8e, 32, 46, Finished, Available)"
            ]
          },
          "metadata": {},
          "output_type": "display_data"
        },
        {
          "name": "stdout",
          "output_type": "stream",
          "text": [
            "+----------+---------+-----+\n",
            "|      date|subreddit|count|\n",
            "+----------+---------+-----+\n",
            "|2022-04-05| jayhawks|    8|\n",
            "|2022-04-04| jayhawks|    7|\n",
            "|2022-03-27| jayhawks|    6|\n",
            "|2022-04-05| tarheels|    5|\n",
            "|2022-04-03| jayhawks|    5|\n",
            "+----------+---------+-----+\n",
            "only showing top 5 rows\n",
            "\n"
          ]
        }
      ],
      "source": [
        "#| echo: false\n",
        "#| output: false\n",
        "\n",
        "df_eda_submissions = df_eda_2.where((col('subreddit') == 'jayhawks') | (col('subreddit') == 'tarheels')) \n",
        "df_eda_submissions.show(5)"
      ]
    },
    {
      "cell_type": "code",
      "execution_count": 43,
      "metadata": {
        "gather": {
          "logged": 1699452713511
        },
        "jupyter": {
          "outputs_hidden": false,
          "source_hidden": false
        },
        "nteract": {
          "transient": {
            "deleting": false
          }
        }
      },
      "outputs": [
        {
          "data": {
            "application/vnd.livy.statement-meta+json": {
              "execution_finish_time": "2023-11-08T14:11:53.3462103Z",
              "execution_start_time": "2023-11-08T14:11:52.3523015Z",
              "livy_statement_state": "available",
              "parent_msg_id": "22825de2-feff-4b5e-a621-5c5250fd3141",
              "queued_time": "2023-11-08T14:11:52.1739849Z",
              "session_id": "32",
              "session_start_time": null,
              "spark_jobs": {
                "jobs": [
                  {
                    "completionTime": "2023-11-08T14:11:52.773GMT",
                    "dataRead": 17246,
                    "dataWritten": 0,
                    "description": "Job group for statement 48:\ndf_eda_submissions.show(5)",
                    "displayName": "showString at NativeMethodAccessorImpl.java:0",
                    "jobGroup": "48",
                    "jobId": 39,
                    "killedTasksSummary": {},
                    "name": "showString at NativeMethodAccessorImpl.java:0",
                    "numActiveStages": 0,
                    "numActiveTasks": 0,
                    "numCompletedIndices": 1,
                    "numCompletedStages": 1,
                    "numCompletedTasks": 1,
                    "numFailedStages": 0,
                    "numFailedTasks": 0,
                    "numKilledTasks": 0,
                    "numSkippedStages": 1,
                    "numSkippedTasks": 64,
                    "numTasks": 65,
                    "rowCount": 224,
                    "stageIds": [
                      60,
                      61
                    ],
                    "status": "SUCCEEDED",
                    "submissionTime": "2023-11-08T14:11:52.728GMT",
                    "usageDescription": ""
                  },
                  {
                    "completionTime": "2023-11-08T14:11:52.693GMT",
                    "dataRead": 14033664,
                    "dataWritten": 17246,
                    "description": "Job group for statement 48:\ndf_eda_submissions.show(5)",
                    "displayName": "showString at NativeMethodAccessorImpl.java:0",
                    "jobGroup": "48",
                    "jobId": 38,
                    "killedTasksSummary": {},
                    "name": "showString at NativeMethodAccessorImpl.java:0",
                    "numActiveStages": 0,
                    "numActiveTasks": 0,
                    "numCompletedIndices": 64,
                    "numCompletedStages": 1,
                    "numCompletedTasks": 64,
                    "numFailedStages": 0,
                    "numFailedTasks": 0,
                    "numKilledTasks": 0,
                    "numSkippedStages": 0,
                    "numSkippedTasks": 0,
                    "numTasks": 64,
                    "rowCount": 288,
                    "stageIds": [
                      59
                    ],
                    "status": "SUCCEEDED",
                    "submissionTime": "2023-11-08T14:11:52.445GMT",
                    "usageDescription": ""
                  }
                ],
                "limit": 20,
                "numbers": {
                  "FAILED": 0,
                  "RUNNING": 0,
                  "SUCCEEDED": 2,
                  "UNKNOWN": 0
                },
                "rule": "ALL_DESC"
              },
              "spark_pool": "7c27951d-2bdf-4140-be82-d0dc0c0e7d8e",
              "state": "finished",
              "statement_id": 48
            },
            "text/plain": [
              "StatementMeta(7c27951d-2bdf-4140-be82-d0dc0c0e7d8e, 32, 48, Finished, Available)"
            ]
          },
          "metadata": {},
          "output_type": "display_data"
        },
        {
          "name": "stdout",
          "output_type": "stream",
          "text": [
            "+----------+---------+-----+\n",
            "|      date|subreddit|count|\n",
            "+----------+---------+-----+\n",
            "|2021-09-01| tarheels|    1|\n",
            "|2021-09-01| jayhawks|    1|\n",
            "|2021-09-03| jayhawks|    2|\n",
            "|2021-09-05| jayhawks|    1|\n",
            "|2021-09-06| jayhawks|    1|\n",
            "+----------+---------+-----+\n",
            "only showing top 5 rows\n",
            "\n"
          ]
        }
      ],
      "source": [
        "#| echo: false\n",
        "#| output: false\n",
        "\n",
        "df_eda_submissions = df_eda_submissions.orderBy('date')\n",
        "df_eda_submissions_pd = df_eda_submissions.toPandas()\n",
        "df_eda_submissions.show(5)"
      ]
    },
    {
      "cell_type": "code",
      "execution_count": 46,
      "metadata": {
        "gather": {
          "logged": 1699452892935
        },
        "jupyter": {
          "outputs_hidden": false,
          "source_hidden": false
        },
        "nteract": {
          "transient": {
            "deleting": false
          }
        }
      },
      "outputs": [
        {
          "data": {
            "application/vnd.livy.statement-meta+json": {
              "execution_finish_time": "2023-11-08T14:14:52.8104407Z",
              "execution_start_time": "2023-11-08T14:14:52.4492849Z",
              "livy_statement_state": "available",
              "parent_msg_id": "1666ec90-f1aa-4446-9408-6d202ce65ec9",
              "queued_time": "2023-11-08T14:14:52.325326Z",
              "session_id": "32",
              "session_start_time": null,
              "spark_jobs": {
                "jobs": [],
                "limit": 20,
                "numbers": {
                  "FAILED": 0,
                  "RUNNING": 0,
                  "SUCCEEDED": 0,
                  "UNKNOWN": 0
                },
                "rule": "ALL_DESC"
              },
              "spark_pool": "7c27951d-2bdf-4140-be82-d0dc0c0e7d8e",
              "state": "finished",
              "statement_id": 51
            },
            "text/plain": [
              "StatementMeta(7c27951d-2bdf-4140-be82-d0dc0c0e7d8e, 32, 51, Finished, Available)"
            ]
          },
          "metadata": {},
          "output_type": "display_data"
        }
      ],
      "source": [
        "#| echo: false\n",
        "#| output: false\n",
        "\n",
        "submissions_jayhawks = df_eda_submissions_pd[df_eda_submissions_pd['subreddit'] == 'jayhawks']\n",
        "submissions_tarheels = df_eda_submissions_pd[df_eda_submissions_pd['subreddit'] == 'tarheels']"
      ]
    },
    {
      "cell_type": "code",
      "execution_count": 52,
      "metadata": {
        "gather": {
          "logged": 1699453200649
        },
        "jupyter": {
          "outputs_hidden": false,
          "source_hidden": false
        },
        "nteract": {
          "transient": {
            "deleting": false
          }
        }
      },
      "outputs": [
        {
          "data": {
            "application/vnd.livy.statement-meta+json": {
              "execution_finish_time": "2023-11-08T14:20:00.4973678Z",
              "execution_start_time": "2023-11-08T14:19:59.5318986Z",
              "livy_statement_state": "available",
              "parent_msg_id": "4dbde8b6-abd6-4462-bd76-f769ffbc1e92",
              "queued_time": "2023-11-08T14:19:59.3247567Z",
              "session_id": "32",
              "session_start_time": null,
              "spark_jobs": {
                "jobs": [],
                "limit": 20,
                "numbers": {
                  "FAILED": 0,
                  "RUNNING": 0,
                  "SUCCEEDED": 0,
                  "UNKNOWN": 0
                },
                "rule": "ALL_DESC"
              },
              "spark_pool": "7c27951d-2bdf-4140-be82-d0dc0c0e7d8e",
              "state": "finished",
              "statement_id": 57
            },
            "text/plain": [
              "StatementMeta(7c27951d-2bdf-4140-be82-d0dc0c0e7d8e, 32, 57, Finished, Available)"
            ]
          },
          "metadata": {},
          "output_type": "display_data"
        },
        {
          "data": {
            "text/plain": [
              "<matplotlib.legend.Legend at 0x7f508a0f43d0>"
            ]
          },
          "execution_count": 113,
          "metadata": {},
          "output_type": "execute_result"
        },
        {
          "data": {
            "image/png": "[encoded data removed]",
            "text/plain": [
              "<Figure size 936x432 with 1 Axes>"
            ]
          },
          "metadata": {
            "needs_background": "light"
          },
          "output_type": "display_data"
        }
      ],
      "source": [
        "#| echo: false\n",
        "#| output: false\n",
        "\n",
        "plt.figure(figsize = (13,6))\n",
        "plt.plot(submissions_jayhawks['date'], submissions_jayhawks['count'], label = 'Jayhawks', marker = 'o')\n",
        "plt.plot(submissions_tarheels['date'], submissions_tarheels['count'], label = 'Tarhheels', marker = 'o')\n",
        "plt.xlabel('Date')\n",
        "plt.ylabel('Count')\n",
        "plt.title('Time Series Plot for Submissions Counts')\n",
        "plt.legend()"
      ]
    },
    {
      "cell_type": "markdown",
      "metadata": {},
      "source": [
        "***Work completed by Shihong Zhou***\n"
      ]
    },
    {
      "cell_type": "markdown",
      "metadata": {},
      "source": []
    }
  ],
  "metadata": {
    "kernel_info": {
      "name": "synapse_pyspark"
    },
    "kernelspec": {
      "display_name": "Synapse PySpark",
      "language": "Python",
      "name": "synapse_pyspark"
    },
    "language_info": {
      "codemirror_mode": "ipython",
      "file_extension": ".py",
      "mimetype": "text/x-python",
      "name": "python",
      "nbconvert_exporter": "python",
      "pygments_lexer": "ipython",
      "version": "3.8.0"
    },
    "microsoft": {
      "host": {
        "AzureML": {
          "notebookHasBeenCompleted": true
        }
      },
      "ms_spell_check": {
        "ms_spell_check_language": "en"
      }
    },
    "nteract": {
      "version": "nteract-front-end@1.0.0"
    }
  },
  "nbformat": 4,
  "nbformat_minor": 2
}

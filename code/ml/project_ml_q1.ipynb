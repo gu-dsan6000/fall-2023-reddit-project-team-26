{
  "cells": [
    {
      "cell_type": "raw",
      "metadata": {},
      "source": [
        "---\n",
        "format: html\n",
        "embed-resources: True\n",
        "---"
      ]
    },
    {
      "cell_type": "code",
      "execution_count": 1,
      "metadata": {
        "gather": {
          "logged": 1701382590756
        }
      },
      "outputs": [
        {
          "data": {
            "application/vnd.livy.statement-meta+json": {
              "execution_finish_time": null,
              "execution_start_time": null,
              "livy_statement_state": null,
              "parent_msg_id": "f9ce8d99-8b78-4718-b0b0-5b49c2e155d6",
              "queued_time": "2023-11-30T22:13:32.4543693Z",
              "session_id": null,
              "session_start_time": "2023-11-30T22:13:32.4939556Z",
              "spark_jobs": null,
              "spark_pool": null,
              "state": "session_starting",
              "statement_id": null
            },
            "text/plain": [
              "StatementMeta(, , , SessionStarting, )"
            ]
          },
          "metadata": {},
          "output_type": "display_data"
        },
        {
          "data": {
            "text/html": [
              "\n",
              "            <div>\n",
              "                <p><b>SparkSession - hive</b></p>\n",
              "                \n",
              "        <div>\n",
              "            <p><b>SparkContext</b></p>\n",
              "\n",
              "            <p><a href=\"http://vm-96e54811:41567\">Spark UI</a></p>\n",
              "\n",
              "            <dl>\n",
              "              <dt>Version</dt>\n",
              "                <dd><code>v3.2.2.5.1-100879434</code></dd>\n",
              "              <dt>Master</dt>\n",
              "                <dd><code>yarn</code></dd>\n",
              "              <dt>AppName</dt>\n",
              "                <dd><code>Azure ML Experiment</code></dd>\n",
              "            </dl>\n",
              "        </div>\n",
              "        \n",
              "            </div>\n",
              "        "
            ],
            "text/plain": [
              "<pyspark.sql.session.SparkSession at 0x7fc717464910>"
            ]
          },
          "execution_count": 11,
          "metadata": {},
          "output_type": "execute_result"
        }
      ],
      "source": [
        "spark"
      ]
    },
    {
      "cell_type": "markdown",
      "metadata": {
        "nteract": {
          "transient": {
            "deleting": false
          }
        }
      },
      "source": [
        "## Reading in Libraries and Importing Data"
      ]
    },
    {
      "cell_type": "code",
      "execution_count": 2,
      "metadata": {
        "gather": {
          "logged": 1701382598677
        },
        "jupyter": {
          "outputs_hidden": false,
          "source_hidden": false
        },
        "nteract": {
          "transient": {
            "deleting": false
          }
        }
      },
      "outputs": [
        {
          "data": {
            "application/vnd.livy.statement-meta+json": {
              "execution_finish_time": null,
              "execution_start_time": null,
              "livy_statement_state": null,
              "parent_msg_id": "b5580b74-0f22-4290-b9a6-3e8d24c3d919",
              "queued_time": "2023-11-30T22:13:32.4554635Z",
              "session_id": null,
              "session_start_time": null,
              "spark_jobs": null,
              "spark_pool": null,
              "state": "waiting",
              "statement_id": null
            },
            "text/plain": [
              "StatementMeta(, , , Waiting, )"
            ]
          },
          "metadata": {},
          "output_type": "display_data"
        }
      ],
      "source": [
        "## Necessary Libraries\n",
        "import pandas as pd\n",
        "import matplotlib.pyplot as plt\n",
        "import seaborn as sns\n",
        "from pyspark.sql.functions import *\n",
        "from pyspark.sql import functions as F\n",
        "from pyspark.sql.window import Window\n",
        "from tabulate import tabulate\n",
        "\n",
        "from pyspark.ml.feature import VectorAssembler, StringIndexer, OneHotEncoder, IndexToString\n",
        "from pyspark.ml.classification import RandomForestClassifier, LogisticRegression\n",
        "from pyspark.ml import Pipeline\n",
        "from pyspark.ml.evaluation import BinaryClassificationEvaluator, RegressionEvaluator\n",
        "from pyspark.ml.regression import LinearRegression, RandomForestRegressor\n",
        "from pyspark.ml import PipelineModel\n"
      ]
    },
    {
      "cell_type": "code",
      "execution_count": 3,
      "metadata": {
        "gather": {
          "logged": 1701382610146
        },
        "jupyter": {
          "outputs_hidden": false,
          "source_hidden": false
        },
        "nteract": {
          "transient": {
            "deleting": false
          }
        }
      },
      "outputs": [
        {
          "data": {
            "application/vnd.livy.statement-meta+json": {
              "execution_finish_time": null,
              "execution_start_time": null,
              "livy_statement_state": null,
              "parent_msg_id": "9bb713d8-d5a8-4630-b9d0-cc4f44453bde",
              "queued_time": "2023-11-30T22:13:32.4564727Z",
              "session_id": null,
              "session_start_time": null,
              "spark_jobs": null,
              "spark_pool": null,
              "state": "waiting",
              "statement_id": null
            },
            "text/plain": [
              "StatementMeta(, , , Waiting, )"
            ]
          },
          "metadata": {},
          "output_type": "display_data"
        }
      ],
      "source": [
        "# Read in data using spark\n",
        "workspace_default_storage_account = \"aml6214727930\"\n",
        "workspace_default_container = \"azureml-blobstore-6653633b-3460-4381-9199-d9e0f368353c\"\n",
        "\n",
        "workspace_wasbs_base_url = (\n",
        "    f\"wasbs://{workspace_default_container}@{workspace_default_storage_account}.blob.core.windows.net/\"\n",
        ")\n",
        "\n",
        "comments_path = \"/basketball_comments_clean_v2.parquet\"\n",
        "comments_sentiment_path = \"/basketball_comments_sentiment.parquet\"\n",
        "\n",
        "comments = spark.read.parquet(f\"{workspace_wasbs_base_url}{comments_path}\")\n",
        "comments_sentiment = spark.read.parquet(f\"{workspace_wasbs_base_url}{comments_sentiment_path}\")"
      ]
    },
    {
      "cell_type": "code",
      "execution_count": 4,
      "metadata": {
        "gather": {
          "logged": 1701382611889
        },
        "jupyter": {
          "outputs_hidden": false,
          "source_hidden": false
        },
        "nteract": {
          "transient": {
            "deleting": false
          }
        }
      },
      "outputs": [
        {
          "data": {
            "application/vnd.livy.statement-meta+json": {
              "execution_finish_time": null,
              "execution_start_time": null,
              "livy_statement_state": null,
              "parent_msg_id": "deaa0326-1bc2-427c-aad1-dd29f677ea24",
              "queued_time": "2023-11-30T22:13:32.4575395Z",
              "session_id": null,
              "session_start_time": null,
              "spark_jobs": null,
              "spark_pool": null,
              "state": "waiting",
              "statement_id": null
            },
            "text/plain": [
              "StatementMeta(, , , Waiting, )"
            ]
          },
          "metadata": {},
          "output_type": "display_data"
        }
      ],
      "source": [
        "# Merge comments and sentiment dataframe to get sentiment on same line for each comment\n",
        "comments = comments.join(comments_sentiment.select(\"id\", \"col\", \"clean_text\"), on=\"id\", how='inner')\n",
        "comments = comments.cache()"
      ]
    },
    {
      "cell_type": "markdown",
      "metadata": {
        "nteract": {
          "transient": {
            "deleting": false
          }
        }
      },
      "source": [
        "## Prepare Dataframe for Modeling"
      ]
    },
    {
      "cell_type": "code",
      "execution_count": 5,
      "metadata": {
        "gather": {
          "logged": 1701382612825
        },
        "jupyter": {
          "outputs_hidden": false,
          "source_hidden": false
        },
        "nteract": {
          "transient": {
            "deleting": false
          }
        }
      },
      "outputs": [
        {
          "data": {
            "application/vnd.livy.statement-meta+json": {
              "execution_finish_time": null,
              "execution_start_time": null,
              "livy_statement_state": null,
              "parent_msg_id": "783e058a-6ef3-4abc-96eb-6bb0ee074556",
              "queued_time": "2023-11-30T22:13:32.458561Z",
              "session_id": null,
              "session_start_time": null,
              "spark_jobs": null,
              "spark_pool": null,
              "state": "waiting",
              "statement_id": null
            },
            "text/plain": [
              "StatementMeta(, , , Waiting, )"
            ]
          },
          "metadata": {},
          "output_type": "display_data"
        }
      ],
      "source": [
        "comments = comments.filter(col(\"subreddit\")==\"CollegeBasketball\") # keep only CollegeBasketball Subreddit\n",
        "comments = comments.withColumn(\"hour\", hour(\"created_utc\")) # create hour column\n",
        "comments = comments.withColumn(\"comment_length\", length(\"body\")) # create comment length column\n",
        "comments = comments.withColumnRenamed(\"col\", \"sentiment\") # rename \"col\" to \"sentiment\"\n",
        "comments = comments.withColumn(\"supports_a_team\", when(col(\"supported_team\").isNull(), 0).otherwise(1)) # define binary variable for if an author has a supported team in their profile\n",
        "# count number of posts by each author and create column (Used GAI for these two lines prompt: for each unique entry in the \"author\" column count how many times that entry existsw in the dataset and create a new column with that value for each author)\n",
        "window_spec = Window.partitionBy(\"author\")  # GAI\n",
        "comments = comments.withColumn(\"author_activity\", F.count(\"author\").over(window_spec)) # GAI"
      ]
    },
    {
      "cell_type": "code",
      "execution_count": 120,
      "metadata": {
        "gather": {
          "logged": 1701365718908
        },
        "jupyter": {
          "outputs_hidden": false,
          "source_hidden": false
        },
        "nteract": {
          "transient": {
            "deleting": false
          }
        }
      },
      "outputs": [
        {
          "data": {
            "application/vnd.livy.statement-meta+json": {
              "execution_finish_time": "2023-11-30T17:35:18.6523339Z",
              "execution_start_time": "2023-11-30T17:35:17.7873515Z",
              "livy_statement_state": "available",
              "parent_msg_id": "9f5a20b5-c32b-4afd-b974-e362c39e9560",
              "queued_time": "2023-11-30T17:35:17.6440416Z",
              "session_id": "48",
              "session_start_time": null,
              "spark_jobs": {
                "jobs": [
                  {
                    "completionTime": "2023-11-30T17:35:18.372GMT",
                    "dataRead": 0,
                    "dataWritten": 0,
                    "description": "Job group for statement 125:\nscore = comments.select(\"score\").toPandas()\nstats_table = score[\"score\"].describe()\nprint(\"         Summary Statistics for 'Score' (Upvotes-Downvotes) Variable\")\nprint(tabulate(pd.DataFrame(stats_table).T, headers='keys', tablefmt='fancy_grid'))",
                    "displayName": "toPandas at /tmp/ipykernel_7828/2020804629.py:1",
                    "jobGroup": "125",
                    "jobId": 239,
                    "killedTasksSummary": {},
                    "name": "toPandas at /tmp/ipykernel_7828/2020804629.py:1",
                    "numActiveStages": 0,
                    "numActiveTasks": 0,
                    "numCompletedIndices": 200,
                    "numCompletedStages": 1,
                    "numCompletedTasks": 200,
                    "numFailedStages": 0,
                    "numFailedTasks": 0,
                    "numKilledTasks": 0,
                    "numSkippedStages": 2,
                    "numSkippedTasks": 17,
                    "numTasks": 217,
                    "rowCount": 0,
                    "stageIds": [
                      556,
                      557,
                      558
                    ],
                    "status": "SUCCEEDED",
                    "submissionTime": "2023-11-30T17:35:17.834GMT",
                    "usageDescription": ""
                  }
                ],
                "limit": 20,
                "numbers": {
                  "FAILED": 0,
                  "RUNNING": 0,
                  "SUCCEEDED": 1,
                  "UNKNOWN": 0
                },
                "rule": "ALL_DESC"
              },
              "spark_pool": "d3c1b951-094c-48e1-919d-e32bc175397b",
              "state": "finished",
              "statement_id": 125
            },
            "text/plain": [
              "StatementMeta(d3c1b951-094c-48e1-919d-e32bc175397b, 48, 125, Finished, Available)"
            ]
          },
          "metadata": {},
          "output_type": "display_data"
        },
        {
          "name": "stdout",
          "output_type": "stream",
          "text": [
            "         Summary Statistics for 'Score' (Upvotes-Downvotes) Variable\n",
            "╒═══════╤═════════╤═════════╤═══════╤═══════╤═══════╤═══════╤═══════╤═══════╕\n",
            "│       │   count │    mean │   std │   min │   25% │   50% │   75% │   max │\n",
            "╞═══════╪═════════╪═════════╪═══════╪═══════╪═══════╪═══════╪═══════╪═══════╡\n",
            "│ score │  865472 │ 9.19509 │ 39.91 │  -341 │     1 │     3 │     7 │  5360 │\n",
            "╘═══════╧═════════╧═════════╧═══════╧═══════╧═══════╧═══════╧═══════╧═══════╛\n"
          ]
        }
      ],
      "source": [
        "score = comments.select(\"score\").toPandas()\n",
        "stats_table = score[\"score\"].describe()\n",
        "print(\"         Summary Statistics for 'Score' (Upvotes-Downvotes) Variable\")\n",
        "print(tabulate(pd.DataFrame(stats_table).T, headers='keys', tablefmt='fancy_grid'))"
      ]
    },
    {
      "cell_type": "code",
      "execution_count": 121,
      "metadata": {
        "gather": {
          "logged": 1701365756300
        },
        "jupyter": {
          "outputs_hidden": false,
          "source_hidden": false
        },
        "nteract": {
          "transient": {
            "deleting": false
          }
        }
      },
      "outputs": [
        {
          "data": {
            "application/vnd.livy.statement-meta+json": {
              "execution_finish_time": "2023-11-30T17:35:56.1738217Z",
              "execution_start_time": "2023-11-30T17:35:55.2440953Z",
              "livy_statement_state": "available",
              "parent_msg_id": "0be2f705-0b87-4e73-9608-caec95d81c31",
              "queued_time": "2023-11-30T17:35:55.0970246Z",
              "session_id": "48",
              "session_start_time": null,
              "spark_jobs": {
                "jobs": [],
                "limit": 20,
                "numbers": {
                  "FAILED": 0,
                  "RUNNING": 0,
                  "SUCCEEDED": 0,
                  "UNKNOWN": 0
                },
                "rule": "ALL_DESC"
              },
              "spark_pool": "d3c1b951-094c-48e1-919d-e32bc175397b",
              "state": "finished",
              "statement_id": 126
            },
            "text/plain": [
              "StatementMeta(d3c1b951-094c-48e1-919d-e32bc175397b, 48, 126, Finished, Available)"
            ]
          },
          "metadata": {},
          "output_type": "display_data"
        },
        {
          "data": {
            "image/png": "[encoded data removed]",
            "text/plain": [
              "<Figure size 432x288 with 1 Axes>"
            ]
          },
          "metadata": {
            "needs_background": "light"
          },
          "output_type": "display_data"
        }
      ],
      "source": [
        "score[\"score_limit\"] = score[\"score\"][(score[\"score\"]<80) & (score[\"score\"]>-25)]\n",
        "plt.hist(score[\"score_limit\"], bins = 50, color=\"darkgreen\")\n",
        "plt.title(\"Distribution of Score (Upvotes-Downvotes)\", fontsize = 16)\n",
        "plt.xlabel('Score \\n\\n (X axis limited to -20 to 80 for readability)', fontsize = 16)\n",
        "plt.ylabel('Count', fontsize = 16)\n",
        "plt.xticks(fontsize = 14)\n",
        "plt.yticks(fontsize = 12)\n",
        "plt.savefig(\"Users/vankempenklaas/fall-2023-reddit-project-team-26/data/plots/ml_q1_score_dist.png\")\n",
        "plt.show()"
      ]
    },
    {
      "cell_type": "markdown",
      "metadata": {
        "nteract": {
          "transient": {
            "deleting": false
          }
        }
      },
      "source": [
        "Split data into training and testing (80/20) with start seed"
      ]
    },
    {
      "cell_type": "code",
      "execution_count": 8,
      "metadata": {
        "gather": {
          "logged": 1701382768336
        },
        "jupyter": {
          "outputs_hidden": false,
          "source_hidden": false
        },
        "nteract": {
          "transient": {
            "deleting": false
          }
        }
      },
      "outputs": [
        {
          "data": {
            "application/vnd.livy.statement-meta+json": {
              "execution_finish_time": "2023-11-30T22:19:28.061441Z",
              "execution_start_time": "2023-11-30T22:19:09.3285158Z",
              "livy_statement_state": "available",
              "parent_msg_id": "e247b754-d723-4117-8abe-e5af84e1488e",
              "queued_time": "2023-11-30T22:19:09.217714Z",
              "session_id": "49",
              "session_start_time": null,
              "spark_jobs": {
                "jobs": [
                  {
                    "completionTime": "2023-11-30T22:19:26.620GMT",
                    "dataRead": 1003,
                    "dataWritten": 0,
                    "description": "Job group for statement 19:\ntrain_data, test_data = comments.randomSplit([0.8, 0.2], seed = 82)\nprint(\"Number of training records: \" + str(train_data.count()))\nprint(\"Number of testing records : \" + str(test_data.count()))\ntrain_data = train_data.cache()",
                    "displayName": "count at NativeMethodAccessorImpl.java:0",
                    "jobGroup": "19",
                    "jobId": 12,
                    "killedTasksSummary": {},
                    "name": "count at NativeMethodAccessorImpl.java:0",
                    "numActiveStages": 0,
                    "numActiveTasks": 0,
                    "numCompletedIndices": 1,
                    "numCompletedStages": 1,
                    "numCompletedTasks": 1,
                    "numFailedStages": 0,
                    "numFailedTasks": 0,
                    "numKilledTasks": 0,
                    "numSkippedStages": 4,
                    "numSkippedTasks": 234,
                    "numTasks": 235,
                    "rowCount": 17,
                    "stageIds": [
                      45,
                      46,
                      42,
                      43,
                      44
                    ],
                    "status": "SUCCEEDED",
                    "submissionTime": "2023-11-30T22:19:26.551GMT",
                    "usageDescription": ""
                  },
                  {
                    "completionTime": "2023-11-30T22:19:26.489GMT",
                    "dataRead": 255537744,
                    "dataWritten": 1003,
                    "description": "Job group for statement 19:\ntrain_data, test_data = comments.randomSplit([0.8, 0.2], seed = 82)\nprint(\"Number of training records: \" + str(train_data.count()))\nprint(\"Number of testing records : \" + str(test_data.count()))\ntrain_data = train_data.cache()",
                    "displayName": "count at NativeMethodAccessorImpl.java:0",
                    "jobGroup": "19",
                    "jobId": 11,
                    "killedTasksSummary": {},
                    "name": "count at NativeMethodAccessorImpl.java:0",
                    "numActiveStages": 0,
                    "numActiveTasks": 0,
                    "numCompletedIndices": 17,
                    "numCompletedStages": 1,
                    "numCompletedTasks": 17,
                    "numFailedStages": 0,
                    "numFailedTasks": 0,
                    "numKilledTasks": 0,
                    "numSkippedStages": 3,
                    "numSkippedTasks": 217,
                    "numTasks": 234,
                    "rowCount": 865489,
                    "stageIds": [
                      38,
                      39,
                      40,
                      41
                    ],
                    "status": "SUCCEEDED",
                    "submissionTime": "2023-11-30T22:19:25.373GMT",
                    "usageDescription": ""
                  },
                  {
                    "completionTime": "2023-11-30T22:19:25.289GMT",
                    "dataRead": 224092291,
                    "dataWritten": 255537744,
                    "description": "Job group for statement 19:\ntrain_data, test_data = comments.randomSplit([0.8, 0.2], seed = 82)\nprint(\"Number of training records: \" + str(train_data.count()))\nprint(\"Number of testing records : \" + str(test_data.count()))\ntrain_data = train_data.cache()",
                    "displayName": "count at NativeMethodAccessorImpl.java:0",
                    "jobGroup": "19",
                    "jobId": 10,
                    "killedTasksSummary": {},
                    "name": "count at NativeMethodAccessorImpl.java:0",
                    "numActiveStages": 0,
                    "numActiveTasks": 0,
                    "numCompletedIndices": 200,
                    "numCompletedStages": 1,
                    "numCompletedTasks": 200,
                    "numFailedStages": 0,
                    "numFailedTasks": 0,
                    "numKilledTasks": 0,
                    "numSkippedStages": 2,
                    "numSkippedTasks": 17,
                    "numTasks": 217,
                    "rowCount": 865672,
                    "stageIds": [
                      37,
                      35,
                      36
                    ],
                    "status": "SUCCEEDED",
                    "submissionTime": "2023-11-30T22:19:21.446GMT",
                    "usageDescription": ""
                  },
                  {
                    "completionTime": "2023-11-30T22:19:21.275GMT",
                    "dataRead": 11800,
                    "dataWritten": 0,
                    "description": "Job group for statement 19:\ntrain_data, test_data = comments.randomSplit([0.8, 0.2], seed = 82)\nprint(\"Number of training records: \" + str(train_data.count()))\nprint(\"Number of testing records : \" + str(test_data.count()))\ntrain_data = train_data.cache()",
                    "displayName": "count at NativeMethodAccessorImpl.java:0",
                    "jobGroup": "19",
                    "jobId": 9,
                    "killedTasksSummary": {},
                    "name": "count at NativeMethodAccessorImpl.java:0",
                    "numActiveStages": 0,
                    "numActiveTasks": 0,
                    "numCompletedIndices": 1,
                    "numCompletedStages": 1,
                    "numCompletedTasks": 1,
                    "numFailedStages": 0,
                    "numFailedTasks": 0,
                    "numKilledTasks": 0,
                    "numSkippedStages": 4,
                    "numSkippedTasks": 417,
                    "numTasks": 418,
                    "rowCount": 200,
                    "stageIds": [
                      33,
                      30,
                      34,
                      31,
                      32
                    ],
                    "status": "SUCCEEDED",
                    "submissionTime": "2023-11-30T22:19:21.200GMT",
                    "usageDescription": ""
                  },
                  {
                    "completionTime": "2023-11-30T22:19:21.098GMT",
                    "dataRead": 505833455,
                    "dataWritten": 255549544,
                    "description": "Job group for statement 19:\ntrain_data, test_data = comments.randomSplit([0.8, 0.2], seed = 82)\nprint(\"Number of training records: \" + str(train_data.count()))\nprint(\"Number of testing records : \" + str(test_data.count()))\ntrain_data = train_data.cache()",
                    "displayName": "count at NativeMethodAccessorImpl.java:0",
                    "jobGroup": "19",
                    "jobId": 8,
                    "killedTasksSummary": {},
                    "name": "count at NativeMethodAccessorImpl.java:0",
                    "numActiveStages": 0,
                    "numActiveTasks": 0,
                    "numCompletedIndices": 400,
                    "numCompletedStages": 2,
                    "numCompletedTasks": 400,
                    "numFailedStages": 0,
                    "numFailedTasks": 0,
                    "numKilledTasks": 0,
                    "numSkippedStages": 2,
                    "numSkippedTasks": 17,
                    "numTasks": 417,
                    "rowCount": 1731344,
                    "stageIds": [
                      27,
                      28,
                      29,
                      26
                    ],
                    "status": "SUCCEEDED",
                    "submissionTime": "2023-11-30T22:19:09.752GMT",
                    "usageDescription": ""
                  }
                ],
                "limit": 20,
                "numbers": {
                  "FAILED": 0,
                  "RUNNING": 0,
                  "SUCCEEDED": 5,
                  "UNKNOWN": 0
                },
                "rule": "ALL_DESC"
              },
              "spark_pool": "d3c1b951-094c-48e1-919d-e32bc175397b",
              "state": "finished",
              "statement_id": 19
            },
            "text/plain": [
              "StatementMeta(d3c1b951-094c-48e1-919d-e32bc175397b, 49, 19, Finished, Available)"
            ]
          },
          "metadata": {},
          "output_type": "display_data"
        },
        {
          "name": "stdout",
          "output_type": "stream",
          "text": [
            "Number of training records: 692440\n",
            "Number of testing records : 172760\n"
          ]
        }
      ],
      "source": [
        "train_data, test_data = comments.randomSplit([0.8, 0.2], seed = 82)\n",
        "print(\"Number of training records: \" + str(train_data.count()))\n",
        "print(\"Number of testing records : \" + str(test_data.count()))\n",
        "train_data = train_data.cache()"
      ]
    },
    {
      "cell_type": "markdown",
      "metadata": {
        "nteract": {
          "transient": {
            "deleting": false
          }
        }
      },
      "source": [
        "### Regression\n",
        "\n",
        "Attempt to predict score of a comment (popularity) based on the following: \n",
        "\n",
        "- If the author has a supported team in their profile picture\n",
        "- What month the post is from\n",
        "- What the sentiment of the post is\n",
        "- What Year the post is from\n",
        "- What day the post is from\n",
        "- What Hour of day the post is from\n",
        "- Length of the post\n",
        "- How much the author has commented in this dataset"
      ]
    },
    {
      "cell_type": "code",
      "execution_count": 10,
      "metadata": {
        "gather": {
          "logged": 1701382790947
        },
        "jupyter": {
          "outputs_hidden": false,
          "source_hidden": false
        },
        "nteract": {
          "transient": {
            "deleting": false
          }
        }
      },
      "outputs": [
        {
          "data": {
            "application/vnd.livy.statement-meta+json": {
              "execution_finish_time": "2023-11-30T22:19:50.668093Z",
              "execution_start_time": "2023-11-30T22:19:48.9871164Z",
              "livy_statement_state": "available",
              "parent_msg_id": "3a79c6e9-9e02-4ec5-8d2f-95fd7517ed6c",
              "queued_time": "2023-11-30T22:19:48.8821188Z",
              "session_id": "49",
              "session_start_time": null,
              "spark_jobs": {
                "jobs": [],
                "limit": 20,
                "numbers": {
                  "FAILED": 0,
                  "RUNNING": 0,
                  "SUCCEEDED": 0,
                  "UNKNOWN": 0
                },
                "rule": "ALL_DESC"
              },
              "spark_pool": "d3c1b951-094c-48e1-919d-e32bc175397b",
              "state": "finished",
              "statement_id": 21
            },
            "text/plain": [
              "StatementMeta(d3c1b951-094c-48e1-919d-e32bc175397b, 49, 21, Finished, Available)"
            ]
          },
          "metadata": {},
          "output_type": "display_data"
        }
      ],
      "source": [
        "# perform variable transformations for categorical/binary variables\n",
        "stringIndexer_team = StringIndexer(inputCol='supports_a_team', outputCol=\"team_index\", handleInvalid=\"skip\") \n",
        "stringIndexer_month = StringIndexer(inputCol='month', outputCol=\"month_index\", handleInvalid=\"skip\") \n",
        "stringIndexer_sentiment = StringIndexer(inputCol='sentiment', outputCol=\"sentiment_index\", handleInvalid=\"skip\") \n",
        "onehot_sentiment = OneHotEncoder(inputCol=\"sentiment_index\", outputCol=\"sentiment_vec\")\n",
        "onehot_month = OneHotEncoder(inputCol=\"month_index\", outputCol=\"month_vec\")"
      ]
    },
    {
      "cell_type": "code",
      "execution_count": 11,
      "metadata": {
        "gather": {
          "logged": 1701382792232
        },
        "jupyter": {
          "outputs_hidden": false,
          "source_hidden": false
        },
        "nteract": {
          "transient": {
            "deleting": false
          }
        }
      },
      "outputs": [
        {
          "data": {
            "application/vnd.livy.statement-meta+json": {
              "execution_finish_time": "2023-11-30T22:19:52.0212157Z",
              "execution_start_time": "2023-11-30T22:19:51.6973745Z",
              "livy_statement_state": "available",
              "parent_msg_id": "dfc977f5-8599-4db2-ba3e-2ae719f605cd",
              "queued_time": "2023-11-30T22:19:51.575743Z",
              "session_id": "49",
              "session_start_time": null,
              "spark_jobs": {
                "jobs": [],
                "limit": 20,
                "numbers": {
                  "FAILED": 0,
                  "RUNNING": 0,
                  "SUCCEEDED": 0,
                  "UNKNOWN": 0
                },
                "rule": "ALL_DESC"
              },
              "spark_pool": "d3c1b951-094c-48e1-919d-e32bc175397b",
              "state": "finished",
              "statement_id": 22
            },
            "text/plain": [
              "StatementMeta(d3c1b951-094c-48e1-919d-e32bc175397b, 49, 22, Finished, Available)"
            ]
          },
          "metadata": {},
          "output_type": "display_data"
        }
      ],
      "source": [
        "# assemble all features using vector assembler \n",
        "feature_cols = ['comment_length', 'day', 'year', 'hour', 'author_activity', \"month_vec\", \"sentiment_vec\", \"team_index\"]\n",
        "assembler = VectorAssembler(inputCols=feature_cols, outputCol=\"features\")"
      ]
    },
    {
      "cell_type": "code",
      "execution_count": 12,
      "metadata": {
        "gather": {
          "logged": 1701382794166
        },
        "jupyter": {
          "outputs_hidden": false,
          "source_hidden": false
        },
        "nteract": {
          "transient": {
            "deleting": false
          }
        }
      },
      "outputs": [
        {
          "data": {
            "application/vnd.livy.statement-meta+json": {
              "execution_finish_time": "2023-11-30T22:19:53.797808Z",
              "execution_start_time": "2023-11-30T22:19:53.5064526Z",
              "livy_statement_state": "available",
              "parent_msg_id": "64a472ee-ee5e-4064-a7a6-8573aa3dbbe6",
              "queued_time": "2023-11-30T22:19:53.3970683Z",
              "session_id": "49",
              "session_start_time": null,
              "spark_jobs": {
                "jobs": [],
                "limit": 20,
                "numbers": {
                  "FAILED": 0,
                  "RUNNING": 0,
                  "SUCCEEDED": 0,
                  "UNKNOWN": 0
                },
                "rule": "ALL_DESC"
              },
              "spark_pool": "d3c1b951-094c-48e1-919d-e32bc175397b",
              "state": "finished",
              "statement_id": 23
            },
            "text/plain": [
              "StatementMeta(d3c1b951-094c-48e1-919d-e32bc175397b, 49, 23, Finished, Available)"
            ]
          },
          "metadata": {},
          "output_type": "display_data"
        }
      ],
      "source": [
        "# define random forest model \n",
        "rf = RandomForestRegressor(featuresCol=\"features\", labelCol=\"score\", maxDepth=5, numTrees=50)"
      ]
    },
    {
      "cell_type": "code",
      "execution_count": 13,
      "metadata": {
        "gather": {
          "logged": 1701382796203
        },
        "jupyter": {
          "outputs_hidden": false,
          "source_hidden": false
        },
        "nteract": {
          "transient": {
            "deleting": false
          }
        }
      },
      "outputs": [
        {
          "data": {
            "application/vnd.livy.statement-meta+json": {
              "execution_finish_time": "2023-11-30T22:19:55.953231Z",
              "execution_start_time": "2023-11-30T22:19:55.6272412Z",
              "livy_statement_state": "available",
              "parent_msg_id": "8380af92-70c1-4c71-a770-c7fed94da342",
              "queued_time": "2023-11-30T22:19:55.4975163Z",
              "session_id": "49",
              "session_start_time": null,
              "spark_jobs": {
                "jobs": [],
                "limit": 20,
                "numbers": {
                  "FAILED": 0,
                  "RUNNING": 0,
                  "SUCCEEDED": 0,
                  "UNKNOWN": 0
                },
                "rule": "ALL_DESC"
              },
              "spark_pool": "d3c1b951-094c-48e1-919d-e32bc175397b",
              "state": "finished",
              "statement_id": 24
            },
            "text/plain": [
              "StatementMeta(d3c1b951-094c-48e1-919d-e32bc175397b, 49, 24, Finished, Available)"
            ]
          },
          "metadata": {},
          "output_type": "display_data"
        }
      ],
      "source": [
        "# define pipeline model \n",
        "pipeline_model = Pipeline(stages = [\n",
        "    stringIndexer_sentiment,\n",
        "    stringIndexer_month,\n",
        "    stringIndexer_team,\n",
        "    onehot_month,\n",
        "    onehot_sentiment,\n",
        "    assembler,\n",
        "    rf\n",
        "])"
      ]
    },
    {
      "cell_type": "code",
      "execution_count": 14,
      "metadata": {
        "gather": {
          "logged": 1701382834547
        },
        "jupyter": {
          "outputs_hidden": false,
          "source_hidden": false
        },
        "nteract": {
          "transient": {
            "deleting": false
          }
        }
      },
      "outputs": [
        {
          "data": {
            "application/vnd.livy.statement-meta+json": {
              "execution_finish_time": "2023-11-30T22:20:33.4626811Z",
              "execution_start_time": "2023-11-30T22:20:00.8892772Z",
              "livy_statement_state": "available",
              "parent_msg_id": "eaef1f14-8025-4508-a3f6-6bdba97505a6",
              "queued_time": "2023-11-30T22:20:00.7736465Z",
              "session_id": "49",
              "session_start_time": null,
              "spark_jobs": {
                "jobs": [
                  {
                    "completionTime": "2023-11-30T22:20:31.627GMT",
                    "dataRead": 306936876,
                    "dataWritten": 67754960,
                    "description": "Job group for statement 25:\n# fit the pipelined model using the training data\nmodel = pipeline_model.fit(train_data)",
                    "displayName": "collectAsMap at RandomForest.scala:663",
                    "jobGroup": "25",
                    "jobId": 26,
                    "killedTasksSummary": {},
                    "name": "collectAsMap at RandomForest.scala:663",
                    "numActiveStages": 0,
                    "numActiveTasks": 0,
                    "numCompletedIndices": 400,
                    "numCompletedStages": 2,
                    "numCompletedTasks": 400,
                    "numFailedStages": 0,
                    "numFailedTasks": 0,
                    "numKilledTasks": 0,
                    "numSkippedStages": 3,
                    "numSkippedTasks": 217,
                    "numTasks": 617,
                    "rowCount": 1002040,
                    "stageIds": [
                      107,
                      111,
                      108,
                      109,
                      110
                    ],
                    "status": "SUCCEEDED",
                    "submissionTime": "2023-11-30T22:20:28.291GMT",
                    "usageDescription": ""
                  },
                  {
                    "completionTime": "2023-11-30T22:20:28.219GMT",
                    "dataRead": 296053871,
                    "dataWritten": 49785771,
                    "description": "Job group for statement 25:\n# fit the pipelined model using the training data\nmodel = pipeline_model.fit(train_data)",
                    "displayName": "collectAsMap at RandomForest.scala:663",
                    "jobGroup": "25",
                    "jobId": 25,
                    "killedTasksSummary": {},
                    "name": "collectAsMap at RandomForest.scala:663",
                    "numActiveStages": 0,
                    "numActiveTasks": 0,
                    "numCompletedIndices": 400,
                    "numCompletedStages": 2,
                    "numCompletedTasks": 400,
                    "numFailedStages": 0,
                    "numFailedTasks": 0,
                    "numKilledTasks": 0,
                    "numSkippedStages": 3,
                    "numSkippedTasks": 217,
                    "numTasks": 617,
                    "rowCount": 847640,
                    "stageIds": [
                      102,
                      103,
                      104,
                      105,
                      106
                    ],
                    "status": "SUCCEEDED",
                    "submissionTime": "2023-11-30T22:20:25.149GMT",
                    "usageDescription": ""
                  },
                  {
                    "completionTime": "2023-11-30T22:20:25.079GMT",
                    "dataRead": 283762334,
                    "dataWritten": 37173656,
                    "description": "Job group for statement 25:\n# fit the pipelined model using the training data\nmodel = pipeline_model.fit(train_data)",
                    "displayName": "collectAsMap at RandomForest.scala:663",
                    "jobGroup": "25",
                    "jobId": 24,
                    "killedTasksSummary": {},
                    "name": "collectAsMap at RandomForest.scala:663",
                    "numActiveStages": 0,
                    "numActiveTasks": 0,
                    "numCompletedIndices": 400,
                    "numCompletedStages": 2,
                    "numCompletedTasks": 400,
                    "numFailedStages": 0,
                    "numFailedTasks": 0,
                    "numKilledTasks": 0,
                    "numSkippedStages": 3,
                    "numSkippedTasks": 217,
                    "numTasks": 617,
                    "rowCount": 771640,
                    "stageIds": [
                      99,
                      100,
                      101,
                      97,
                      98
                    ],
                    "status": "SUCCEEDED",
                    "submissionTime": "2023-11-30T22:20:21.978GMT",
                    "usageDescription": ""
                  },
                  {
                    "completionTime": "2023-11-30T22:20:21.803GMT",
                    "dataRead": 265408243,
                    "dataWritten": 21097273,
                    "description": "Job group for statement 25:\n# fit the pipelined model using the training data\nmodel = pipeline_model.fit(train_data)",
                    "displayName": "collectAsMap at RandomForest.scala:663",
                    "jobGroup": "25",
                    "jobId": 23,
                    "killedTasksSummary": {},
                    "name": "collectAsMap at RandomForest.scala:663",
                    "numActiveStages": 0,
                    "numActiveTasks": 0,
                    "numCompletedIndices": 400,
                    "numCompletedStages": 2,
                    "numCompletedTasks": 400,
                    "numFailedStages": 0,
                    "numFailedTasks": 0,
                    "numKilledTasks": 0,
                    "numSkippedStages": 3,
                    "numSkippedTasks": 217,
                    "numTasks": 617,
                    "rowCount": 732440,
                    "stageIds": [
                      96,
                      93,
                      94,
                      95,
                      92
                    ],
                    "status": "SUCCEEDED",
                    "submissionTime": "2023-11-30T22:20:19.578GMT",
                    "usageDescription": ""
                  },
                  {
                    "completionTime": "2023-11-30T22:20:19.502GMT",
                    "dataRead": 191997997,
                    "dataWritten": 12028502,
                    "description": "Job group for statement 25:\n# fit the pipelined model using the training data\nmodel = pipeline_model.fit(train_data)",
                    "displayName": "collectAsMap at RandomForest.scala:663",
                    "jobGroup": "25",
                    "jobId": 22,
                    "killedTasksSummary": {},
                    "name": "collectAsMap at RandomForest.scala:663",
                    "numActiveStages": 0,
                    "numActiveTasks": 0,
                    "numCompletedIndices": 400,
                    "numCompletedStages": 2,
                    "numCompletedTasks": 400,
                    "numFailedStages": 0,
                    "numFailedTasks": 0,
                    "numKilledTasks": 0,
                    "numSkippedStages": 3,
                    "numSkippedTasks": 217,
                    "numTasks": 617,
                    "rowCount": 20201,
                    "stageIds": [
                      88,
                      89,
                      90,
                      87,
                      91
                    ],
                    "status": "SUCCEEDED",
                    "submissionTime": "2023-11-30T22:20:15.397GMT",
                    "usageDescription": ""
                  },
                  {
                    "completionTime": "2023-11-30T22:20:15.312GMT",
                    "dataRead": 181086731,
                    "dataWritten": 641750,
                    "description": "Job group for statement 25:\n# fit the pipelined model using the training data\nmodel = pipeline_model.fit(train_data)",
                    "displayName": "collectAsMap at RandomForest.scala:1054",
                    "jobGroup": "25",
                    "jobId": 21,
                    "killedTasksSummary": {},
                    "name": "collectAsMap at RandomForest.scala:1054",
                    "numActiveStages": 0,
                    "numActiveTasks": 0,
                    "numCompletedIndices": 205,
                    "numCompletedStages": 2,
                    "numCompletedTasks": 205,
                    "numFailedStages": 0,
                    "numFailedTasks": 0,
                    "numKilledTasks": 0,
                    "numSkippedStages": 3,
                    "numSkippedTasks": 217,
                    "numTasks": 422,
                    "rowCount": 2201,
                    "stageIds": [
                      84,
                      85,
                      82,
                      86,
                      83
                    ],
                    "status": "SUCCEEDED",
                    "submissionTime": "2023-11-30T22:20:13.235GMT",
                    "usageDescription": ""
                  },
                  {
                    "completionTime": "2023-11-30T22:20:13.125GMT",
                    "dataRead": 183353742,
                    "dataWritten": 0,
                    "description": "Job group for statement 25:\n# fit the pipelined model using the training data\nmodel = pipeline_model.fit(train_data)",
                    "displayName": "aggregate at DecisionTreeMetadata.scala:125",
                    "jobGroup": "25",
                    "jobId": 20,
                    "killedTasksSummary": {},
                    "name": "aggregate at DecisionTreeMetadata.scala:125",
                    "numActiveStages": 0,
                    "numActiveTasks": 0,
                    "numCompletedIndices": 200,
                    "numCompletedStages": 1,
                    "numCompletedTasks": 200,
                    "numFailedStages": 0,
                    "numFailedTasks": 0,
                    "numKilledTasks": 0,
                    "numSkippedStages": 3,
                    "numSkippedTasks": 217,
                    "numTasks": 417,
                    "rowCount": 201,
                    "stageIds": [
                      81,
                      78,
                      79,
                      80
                    ],
                    "status": "SUCCEEDED",
                    "submissionTime": "2023-11-30T22:20:10.406GMT",
                    "usageDescription": ""
                  },
                  {
                    "completionTime": "2023-11-30T22:20:10.382GMT",
                    "dataRead": 1391120,
                    "dataWritten": 0,
                    "description": "Job group for statement 25:\n# fit the pipelined model using the training data\nmodel = pipeline_model.fit(train_data)",
                    "displayName": "take at DecisionTreeMetadata.scala:119",
                    "jobGroup": "25",
                    "jobId": 19,
                    "killedTasksSummary": {},
                    "name": "take at DecisionTreeMetadata.scala:119",
                    "numActiveStages": 0,
                    "numActiveTasks": 0,
                    "numCompletedIndices": 1,
                    "numCompletedStages": 1,
                    "numCompletedTasks": 1,
                    "numFailedStages": 0,
                    "numFailedTasks": 0,
                    "numKilledTasks": 0,
                    "numSkippedStages": 3,
                    "numSkippedTasks": 217,
                    "numTasks": 218,
                    "rowCount": 1,
                    "stageIds": [
                      74,
                      75,
                      76,
                      77
                    ],
                    "status": "SUCCEEDED",
                    "submissionTime": "2023-11-30T22:20:09.784GMT",
                    "usageDescription": ""
                  },
                  {
                    "completionTime": "2023-11-30T22:20:08.764GMT",
                    "dataRead": 100583,
                    "dataWritten": 0,
                    "description": "Job group for statement 25:\n# fit the pipelined model using the training data\nmodel = pipeline_model.fit(train_data)",
                    "displayName": "collect at StringIndexer.scala:204",
                    "jobGroup": "25",
                    "jobId": 18,
                    "killedTasksSummary": {},
                    "name": "collect at StringIndexer.scala:204",
                    "numActiveStages": 0,
                    "numActiveTasks": 0,
                    "numCompletedIndices": 1,
                    "numCompletedStages": 1,
                    "numCompletedTasks": 1,
                    "numFailedStages": 0,
                    "numFailedTasks": 0,
                    "numKilledTasks": 0,
                    "numSkippedStages": 4,
                    "numSkippedTasks": 417,
                    "numTasks": 418,
                    "rowCount": 200,
                    "stageIds": [
                      70,
                      71,
                      72,
                      69,
                      73
                    ],
                    "status": "SUCCEEDED",
                    "submissionTime": "2023-11-30T22:20:08.372GMT",
                    "usageDescription": ""
                  },
                  {
                    "completionTime": "2023-11-30T22:20:08.334GMT",
                    "dataRead": 182537084,
                    "dataWritten": 100583,
                    "description": "Job group for statement 25:\n# fit the pipelined model using the training data\nmodel = pipeline_model.fit(train_data)",
                    "displayName": "collect at StringIndexer.scala:204",
                    "jobGroup": "25",
                    "jobId": 17,
                    "killedTasksSummary": {},
                    "name": "collect at StringIndexer.scala:204",
                    "numActiveStages": 0,
                    "numActiveTasks": 0,
                    "numCompletedIndices": 200,
                    "numCompletedStages": 1,
                    "numCompletedTasks": 200,
                    "numFailedStages": 0,
                    "numFailedTasks": 0,
                    "numKilledTasks": 0,
                    "numSkippedStages": 3,
                    "numSkippedTasks": 217,
                    "numTasks": 417,
                    "rowCount": 401,
                    "stageIds": [
                      66,
                      67,
                      68,
                      65
                    ],
                    "status": "SUCCEEDED",
                    "submissionTime": "2023-11-30T22:20:07.413GMT",
                    "usageDescription": ""
                  },
                  {
                    "completionTime": "2023-11-30T22:20:06.922GMT",
                    "dataRead": 110983,
                    "dataWritten": 0,
                    "description": "Job group for statement 25:\n# fit the pipelined model using the training data\nmodel = pipeline_model.fit(train_data)",
                    "displayName": "collect at StringIndexer.scala:204",
                    "jobGroup": "25",
                    "jobId": 16,
                    "killedTasksSummary": {},
                    "name": "collect at StringIndexer.scala:204",
                    "numActiveStages": 0,
                    "numActiveTasks": 0,
                    "numCompletedIndices": 1,
                    "numCompletedStages": 1,
                    "numCompletedTasks": 1,
                    "numFailedStages": 0,
                    "numFailedTasks": 0,
                    "numKilledTasks": 0,
                    "numSkippedStages": 4,
                    "numSkippedTasks": 417,
                    "numTasks": 418,
                    "rowCount": 200,
                    "stageIds": [
                      63,
                      60,
                      64,
                      61,
                      62
                    ],
                    "status": "SUCCEEDED",
                    "submissionTime": "2023-11-30T22:20:06.819GMT",
                    "usageDescription": ""
                  },
                  {
                    "completionTime": "2023-11-30T22:20:06.754GMT",
                    "dataRead": 182458099,
                    "dataWritten": 110983,
                    "description": "Job group for statement 25:\n# fit the pipelined model using the training data\nmodel = pipeline_model.fit(train_data)",
                    "displayName": "collect at StringIndexer.scala:204",
                    "jobGroup": "25",
                    "jobId": 15,
                    "killedTasksSummary": {},
                    "name": "collect at StringIndexer.scala:204",
                    "numActiveStages": 0,
                    "numActiveTasks": 0,
                    "numCompletedIndices": 200,
                    "numCompletedStages": 1,
                    "numCompletedTasks": 200,
                    "numFailedStages": 0,
                    "numFailedTasks": 0,
                    "numKilledTasks": 0,
                    "numSkippedStages": 3,
                    "numSkippedTasks": 217,
                    "numTasks": 417,
                    "rowCount": 401,
                    "stageIds": [
                      56,
                      57,
                      58,
                      59
                    ],
                    "status": "SUCCEEDED",
                    "submissionTime": "2023-11-30T22:20:05.377GMT",
                    "usageDescription": ""
                  },
                  {
                    "completionTime": "2023-11-30T22:20:04.313GMT",
                    "dataRead": 104993,
                    "dataWritten": 0,
                    "description": "Job group for statement 25:\n# fit the pipelined model using the training data\nmodel = pipeline_model.fit(train_data)",
                    "displayName": "collect at StringIndexer.scala:204",
                    "jobGroup": "25",
                    "jobId": 14,
                    "killedTasksSummary": {},
                    "name": "collect at StringIndexer.scala:204",
                    "numActiveStages": 0,
                    "numActiveTasks": 0,
                    "numCompletedIndices": 1,
                    "numCompletedStages": 1,
                    "numCompletedTasks": 1,
                    "numFailedStages": 0,
                    "numFailedTasks": 0,
                    "numKilledTasks": 0,
                    "numSkippedStages": 4,
                    "numSkippedTasks": 417,
                    "numTasks": 418,
                    "rowCount": 200,
                    "stageIds": [
                      51,
                      52,
                      53,
                      54,
                      55
                    ],
                    "status": "SUCCEEDED",
                    "submissionTime": "2023-11-30T22:20:04.126GMT",
                    "usageDescription": ""
                  },
                  {
                    "completionTime": "2023-11-30T22:20:04.058GMT",
                    "dataRead": 187770893,
                    "dataWritten": 104993,
                    "description": "Job group for statement 25:\n# fit the pipelined model using the training data\nmodel = pipeline_model.fit(train_data)",
                    "displayName": "collect at StringIndexer.scala:204",
                    "jobGroup": "25",
                    "jobId": 13,
                    "killedTasksSummary": {},
                    "name": "collect at StringIndexer.scala:204",
                    "numActiveStages": 0,
                    "numActiveTasks": 0,
                    "numCompletedIndices": 200,
                    "numCompletedStages": 1,
                    "numCompletedTasks": 200,
                    "numFailedStages": 0,
                    "numFailedTasks": 0,
                    "numKilledTasks": 0,
                    "numSkippedStages": 3,
                    "numSkippedTasks": 217,
                    "numTasks": 417,
                    "rowCount": 401,
                    "stageIds": [
                      48,
                      49,
                      50,
                      47
                    ],
                    "status": "SUCCEEDED",
                    "submissionTime": "2023-11-30T22:20:01.066GMT",
                    "usageDescription": ""
                  }
                ],
                "limit": 20,
                "numbers": {
                  "FAILED": 0,
                  "RUNNING": 0,
                  "SUCCEEDED": 14,
                  "UNKNOWN": 0
                },
                "rule": "ALL_DESC"
              },
              "spark_pool": "d3c1b951-094c-48e1-919d-e32bc175397b",
              "state": "finished",
              "statement_id": 25
            },
            "text/plain": [
              "StatementMeta(d3c1b951-094c-48e1-919d-e32bc175397b, 49, 25, Finished, Available)"
            ]
          },
          "metadata": {},
          "output_type": "display_data"
        }
      ],
      "source": [
        "# fit the pipelined model using the training data\n",
        "model = pipeline_model.fit(train_data)"
      ]
    },
    {
      "cell_type": "code",
      "execution_count": 15,
      "metadata": {
        "gather": {
          "logged": 1701382871695
        },
        "jupyter": {
          "outputs_hidden": false,
          "source_hidden": false
        },
        "nteract": {
          "transient": {
            "deleting": false
          }
        }
      },
      "outputs": [
        {
          "data": {
            "application/vnd.livy.statement-meta+json": {
              "execution_finish_time": "2023-11-30T22:21:11.3468219Z",
              "execution_start_time": "2023-11-30T22:20:41.4410981Z",
              "livy_statement_state": "available",
              "parent_msg_id": "15a2d3f5-583f-4e71-a211-131d52f965c0",
              "queued_time": "2023-11-30T22:20:41.3269981Z",
              "session_id": "49",
              "session_start_time": null,
              "spark_jobs": {
                "jobs": [
                  {
                    "completionTime": "2023-11-30T22:21:08.744GMT",
                    "dataRead": 203669,
                    "dataWritten": 140156,
                    "description": "Job group for statement 26:\n# save the model\nmodel.write().overwrite().save(\"Users/vankempenklaas/fall-2023-reddit-project-team-26/code/ml/model_files/popularity_model_v1\")",
                    "displayName": "parquet at treeModels.scala:491",
                    "jobGroup": "26",
                    "jobId": 48,
                    "killedTasksSummary": {},
                    "name": "parquet at treeModels.scala:491",
                    "numActiveStages": 0,
                    "numActiveTasks": 0,
                    "numCompletedIndices": 1,
                    "numCompletedStages": 1,
                    "numCompletedTasks": 1,
                    "numFailedStages": 0,
                    "numFailedTasks": 0,
                    "numKilledTasks": 0,
                    "numSkippedStages": 1,
                    "numSkippedTasks": 16,
                    "numTasks": 17,
                    "rowCount": 6032,
                    "stageIds": [
                      139,
                      140
                    ],
                    "status": "SUCCEEDED",
                    "submissionTime": "2023-11-30T22:21:07.936GMT",
                    "usageDescription": ""
                  },
                  {
                    "completionTime": "2023-11-30T22:21:07.881GMT",
                    "dataRead": 0,
                    "dataWritten": 203669,
                    "description": "Job group for statement 26:\n# save the model\nmodel.write().overwrite().save(\"Users/vankempenklaas/fall-2023-reddit-project-team-26/code/ml/model_files/popularity_model_v1\")",
                    "displayName": "parquet at treeModels.scala:491",
                    "jobGroup": "26",
                    "jobId": 47,
                    "killedTasksSummary": {},
                    "name": "parquet at treeModels.scala:491",
                    "numActiveStages": 0,
                    "numActiveTasks": 0,
                    "numCompletedIndices": 16,
                    "numCompletedStages": 1,
                    "numCompletedTasks": 16,
                    "numFailedStages": 0,
                    "numFailedTasks": 0,
                    "numKilledTasks": 0,
                    "numSkippedStages": 0,
                    "numSkippedTasks": 0,
                    "numTasks": 16,
                    "rowCount": 3016,
                    "stageIds": [
                      138
                    ],
                    "status": "SUCCEEDED",
                    "submissionTime": "2023-11-30T22:21:07.516GMT",
                    "usageDescription": ""
                  },
                  {
                    "completionTime": "2023-11-30T22:21:06.851GMT",
                    "dataRead": 11944,
                    "dataWritten": 6571,
                    "description": "Job group for statement 26:\n# save the model\nmodel.write().overwrite().save(\"Users/vankempenklaas/fall-2023-reddit-project-team-26/code/ml/model_files/popularity_model_v1\")",
                    "displayName": "parquet at treeModels.scala:483",
                    "jobGroup": "26",
                    "jobId": 46,
                    "killedTasksSummary": {},
                    "name": "parquet at treeModels.scala:483",
                    "numActiveStages": 0,
                    "numActiveTasks": 0,
                    "numCompletedIndices": 1,
                    "numCompletedStages": 1,
                    "numCompletedTasks": 1,
                    "numFailedStages": 0,
                    "numFailedTasks": 0,
                    "numKilledTasks": 0,
                    "numSkippedStages": 1,
                    "numSkippedTasks": 16,
                    "numTasks": 17,
                    "rowCount": 100,
                    "stageIds": [
                      136,
                      137
                    ],
                    "status": "SUCCEEDED",
                    "submissionTime": "2023-11-30T22:21:06.084GMT",
                    "usageDescription": ""
                  },
                  {
                    "completionTime": "2023-11-30T22:21:06.026GMT",
                    "dataRead": 0,
                    "dataWritten": 11944,
                    "description": "Job group for statement 26:\n# save the model\nmodel.write().overwrite().save(\"Users/vankempenklaas/fall-2023-reddit-project-team-26/code/ml/model_files/popularity_model_v1\")",
                    "displayName": "parquet at treeModels.scala:483",
                    "jobGroup": "26",
                    "jobId": 45,
                    "killedTasksSummary": {},
                    "name": "parquet at treeModels.scala:483",
                    "numActiveStages": 0,
                    "numActiveTasks": 0,
                    "numCompletedIndices": 16,
                    "numCompletedStages": 1,
                    "numCompletedTasks": 16,
                    "numFailedStages": 0,
                    "numFailedTasks": 0,
                    "numKilledTasks": 0,
                    "numSkippedStages": 0,
                    "numSkippedTasks": 0,
                    "numTasks": 16,
                    "rowCount": 50,
                    "stageIds": [
                      135
                    ],
                    "status": "SUCCEEDED",
                    "submissionTime": "2023-11-30T22:21:05.964GMT",
                    "usageDescription": ""
                  },
                  {
                    "completionTime": "2023-11-30T22:21:05.481GMT",
                    "dataRead": 0,
                    "dataWritten": 695,
                    "description": "Job group for statement 26:\n# save the model\nmodel.write().overwrite().save(\"Users/vankempenklaas/fall-2023-reddit-project-team-26/code/ml/model_files/popularity_model_v1\")",
                    "displayName": "runJob at SparkHadoopWriter.scala:85",
                    "jobGroup": "26",
                    "jobId": 44,
                    "killedTasksSummary": {},
                    "name": "runJob at SparkHadoopWriter.scala:85",
                    "numActiveStages": 0,
                    "numActiveTasks": 0,
                    "numCompletedIndices": 1,
                    "numCompletedStages": 1,
                    "numCompletedTasks": 1,
                    "numFailedStages": 0,
                    "numFailedTasks": 0,
                    "numKilledTasks": 0,
                    "numSkippedStages": 0,
                    "numSkippedTasks": 0,
                    "numTasks": 1,
                    "rowCount": 1,
                    "stageIds": [
                      134
                    ],
                    "status": "SUCCEEDED",
                    "submissionTime": "2023-11-30T22:21:05.003GMT",
                    "usageDescription": ""
                  },
                  {
                    "completionTime": "2023-11-30T22:21:04.520GMT",
                    "dataRead": 0,
                    "dataWritten": 397,
                    "description": "Job group for statement 26:\n# save the model\nmodel.write().overwrite().save(\"Users/vankempenklaas/fall-2023-reddit-project-team-26/code/ml/model_files/popularity_model_v1\")",
                    "displayName": "runJob at SparkHadoopWriter.scala:85",
                    "jobGroup": "26",
                    "jobId": 43,
                    "killedTasksSummary": {},
                    "name": "runJob at SparkHadoopWriter.scala:85",
                    "numActiveStages": 0,
                    "numActiveTasks": 0,
                    "numCompletedIndices": 1,
                    "numCompletedStages": 1,
                    "numCompletedTasks": 1,
                    "numFailedStages": 0,
                    "numFailedTasks": 0,
                    "numKilledTasks": 0,
                    "numSkippedStages": 0,
                    "numSkippedTasks": 0,
                    "numTasks": 1,
                    "rowCount": 1,
                    "stageIds": [
                      133
                    ],
                    "status": "SUCCEEDED",
                    "submissionTime": "2023-11-30T22:21:04.000GMT",
                    "usageDescription": ""
                  },
                  {
                    "completionTime": "2023-11-30T22:21:03.533GMT",
                    "dataRead": 74,
                    "dataWritten": 589,
                    "description": "Job group for statement 26:\n# save the model\nmodel.write().overwrite().save(\"Users/vankempenklaas/fall-2023-reddit-project-team-26/code/ml/model_files/popularity_model_v1\")",
                    "displayName": "parquet at OneHotEncoder.scala:407",
                    "jobGroup": "26",
                    "jobId": 42,
                    "killedTasksSummary": {},
                    "name": "parquet at OneHotEncoder.scala:407",
                    "numActiveStages": 0,
                    "numActiveTasks": 0,
                    "numCompletedIndices": 1,
                    "numCompletedStages": 1,
                    "numCompletedTasks": 1,
                    "numFailedStages": 0,
                    "numFailedTasks": 0,
                    "numKilledTasks": 0,
                    "numSkippedStages": 1,
                    "numSkippedTasks": 1,
                    "numTasks": 2,
                    "rowCount": 2,
                    "stageIds": [
                      132,
                      131
                    ],
                    "status": "SUCCEEDED",
                    "submissionTime": "2023-11-30T22:21:02.719GMT",
                    "usageDescription": ""
                  },
                  {
                    "completionTime": "2023-11-30T22:21:02.660GMT",
                    "dataRead": 0,
                    "dataWritten": 74,
                    "description": "Job group for statement 26:\n# save the model\nmodel.write().overwrite().save(\"Users/vankempenklaas/fall-2023-reddit-project-team-26/code/ml/model_files/popularity_model_v1\")",
                    "displayName": "parquet at OneHotEncoder.scala:407",
                    "jobGroup": "26",
                    "jobId": 41,
                    "killedTasksSummary": {},
                    "name": "parquet at OneHotEncoder.scala:407",
                    "numActiveStages": 0,
                    "numActiveTasks": 0,
                    "numCompletedIndices": 1,
                    "numCompletedStages": 1,
                    "numCompletedTasks": 1,
                    "numFailedStages": 0,
                    "numFailedTasks": 0,
                    "numKilledTasks": 0,
                    "numSkippedStages": 0,
                    "numSkippedTasks": 0,
                    "numTasks": 1,
                    "rowCount": 1,
                    "stageIds": [
                      130
                    ],
                    "status": "SUCCEEDED",
                    "submissionTime": "2023-11-30T22:21:02.634GMT",
                    "usageDescription": ""
                  },
                  {
                    "completionTime": "2023-11-30T22:21:02.125GMT",
                    "dataRead": 0,
                    "dataWritten": 336,
                    "description": "Job group for statement 26:\n# save the model\nmodel.write().overwrite().save(\"Users/vankempenklaas/fall-2023-reddit-project-team-26/code/ml/model_files/popularity_model_v1\")",
                    "displayName": "runJob at SparkHadoopWriter.scala:85",
                    "jobGroup": "26",
                    "jobId": 40,
                    "killedTasksSummary": {},
                    "name": "runJob at SparkHadoopWriter.scala:85",
                    "numActiveStages": 0,
                    "numActiveTasks": 0,
                    "numCompletedIndices": 1,
                    "numCompletedStages": 1,
                    "numCompletedTasks": 1,
                    "numFailedStages": 0,
                    "numFailedTasks": 0,
                    "numKilledTasks": 0,
                    "numSkippedStages": 0,
                    "numSkippedTasks": 0,
                    "numTasks": 1,
                    "rowCount": 1,
                    "stageIds": [
                      129
                    ],
                    "status": "SUCCEEDED",
                    "submissionTime": "2023-11-30T22:21:01.512GMT",
                    "usageDescription": ""
                  },
                  {
                    "completionTime": "2023-11-30T22:21:01.039GMT",
                    "dataRead": 74,
                    "dataWritten": 589,
                    "description": "Job group for statement 26:\n# save the model\nmodel.write().overwrite().save(\"Users/vankempenklaas/fall-2023-reddit-project-team-26/code/ml/model_files/popularity_model_v1\")",
                    "displayName": "parquet at OneHotEncoder.scala:407",
                    "jobGroup": "26",
                    "jobId": 39,
                    "killedTasksSummary": {},
                    "name": "parquet at OneHotEncoder.scala:407",
                    "numActiveStages": 0,
                    "numActiveTasks": 0,
                    "numCompletedIndices": 1,
                    "numCompletedStages": 1,
                    "numCompletedTasks": 1,
                    "numFailedStages": 0,
                    "numFailedTasks": 0,
                    "numKilledTasks": 0,
                    "numSkippedStages": 1,
                    "numSkippedTasks": 1,
                    "numTasks": 2,
                    "rowCount": 2,
                    "stageIds": [
                      127,
                      128
                    ],
                    "status": "SUCCEEDED",
                    "submissionTime": "2023-11-30T22:20:58.544GMT",
                    "usageDescription": ""
                  },
                  {
                    "completionTime": "2023-11-30T22:20:58.488GMT",
                    "dataRead": 0,
                    "dataWritten": 74,
                    "description": "Job group for statement 26:\n# save the model\nmodel.write().overwrite().save(\"Users/vankempenklaas/fall-2023-reddit-project-team-26/code/ml/model_files/popularity_model_v1\")",
                    "displayName": "parquet at OneHotEncoder.scala:407",
                    "jobGroup": "26",
                    "jobId": 38,
                    "killedTasksSummary": {},
                    "name": "parquet at OneHotEncoder.scala:407",
                    "numActiveStages": 0,
                    "numActiveTasks": 0,
                    "numCompletedIndices": 1,
                    "numCompletedStages": 1,
                    "numCompletedTasks": 1,
                    "numFailedStages": 0,
                    "numFailedTasks": 0,
                    "numKilledTasks": 0,
                    "numSkippedStages": 0,
                    "numSkippedTasks": 0,
                    "numTasks": 1,
                    "rowCount": 1,
                    "stageIds": [
                      126
                    ],
                    "status": "SUCCEEDED",
                    "submissionTime": "2023-11-30T22:20:58.415GMT",
                    "usageDescription": ""
                  },
                  {
                    "completionTime": "2023-11-30T22:20:57.687GMT",
                    "dataRead": 0,
                    "dataWritten": 328,
                    "description": "Job group for statement 26:\n# save the model\nmodel.write().overwrite().save(\"Users/vankempenklaas/fall-2023-reddit-project-team-26/code/ml/model_files/popularity_model_v1\")",
                    "displayName": "runJob at SparkHadoopWriter.scala:85",
                    "jobGroup": "26",
                    "jobId": 37,
                    "killedTasksSummary": {},
                    "name": "runJob at SparkHadoopWriter.scala:85",
                    "numActiveStages": 0,
                    "numActiveTasks": 0,
                    "numCompletedIndices": 1,
                    "numCompletedStages": 1,
                    "numCompletedTasks": 1,
                    "numFailedStages": 0,
                    "numFailedTasks": 0,
                    "numKilledTasks": 0,
                    "numSkippedStages": 0,
                    "numSkippedTasks": 0,
                    "numTasks": 1,
                    "rowCount": 1,
                    "stageIds": [
                      125
                    ],
                    "status": "SUCCEEDED",
                    "submissionTime": "2023-11-30T22:20:57.093GMT",
                    "usageDescription": ""
                  },
                  {
                    "completionTime": "2023-11-30T22:20:56.652GMT",
                    "dataRead": 104,
                    "dataWritten": 665,
                    "description": "Job group for statement 26:\n# save the model\nmodel.write().overwrite().save(\"Users/vankempenklaas/fall-2023-reddit-project-team-26/code/ml/model_files/popularity_model_v1\")",
                    "displayName": "parquet at StringIndexer.scala:499",
                    "jobGroup": "26",
                    "jobId": 36,
                    "killedTasksSummary": {},
                    "name": "parquet at StringIndexer.scala:499",
                    "numActiveStages": 0,
                    "numActiveTasks": 0,
                    "numCompletedIndices": 1,
                    "numCompletedStages": 1,
                    "numCompletedTasks": 1,
                    "numFailedStages": 0,
                    "numFailedTasks": 0,
                    "numKilledTasks": 0,
                    "numSkippedStages": 1,
                    "numSkippedTasks": 1,
                    "numTasks": 2,
                    "rowCount": 2,
                    "stageIds": [
                      123,
                      124
                    ],
                    "status": "SUCCEEDED",
                    "submissionTime": "2023-11-30T22:20:55.928GMT",
                    "usageDescription": ""
                  },
                  {
                    "completionTime": "2023-11-30T22:20:55.878GMT",
                    "dataRead": 0,
                    "dataWritten": 104,
                    "description": "Job group for statement 26:\n# save the model\nmodel.write().overwrite().save(\"Users/vankempenklaas/fall-2023-reddit-project-team-26/code/ml/model_files/popularity_model_v1\")",
                    "displayName": "parquet at StringIndexer.scala:499",
                    "jobGroup": "26",
                    "jobId": 35,
                    "killedTasksSummary": {},
                    "name": "parquet at StringIndexer.scala:499",
                    "numActiveStages": 0,
                    "numActiveTasks": 0,
                    "numCompletedIndices": 1,
                    "numCompletedStages": 1,
                    "numCompletedTasks": 1,
                    "numFailedStages": 0,
                    "numFailedTasks": 0,
                    "numKilledTasks": 0,
                    "numSkippedStages": 0,
                    "numSkippedTasks": 0,
                    "numTasks": 1,
                    "rowCount": 1,
                    "stageIds": [
                      122
                    ],
                    "status": "SUCCEEDED",
                    "submissionTime": "2023-11-30T22:20:55.827GMT",
                    "usageDescription": ""
                  },
                  {
                    "completionTime": "2023-11-30T22:20:55.413GMT",
                    "dataRead": 0,
                    "dataWritten": 374,
                    "description": "Job group for statement 26:\n# save the model\nmodel.write().overwrite().save(\"Users/vankempenklaas/fall-2023-reddit-project-team-26/code/ml/model_files/popularity_model_v1\")",
                    "displayName": "runJob at SparkHadoopWriter.scala:85",
                    "jobGroup": "26",
                    "jobId": 34,
                    "killedTasksSummary": {},
                    "name": "runJob at SparkHadoopWriter.scala:85",
                    "numActiveStages": 0,
                    "numActiveTasks": 0,
                    "numCompletedIndices": 1,
                    "numCompletedStages": 1,
                    "numCompletedTasks": 1,
                    "numFailedStages": 0,
                    "numFailedTasks": 0,
                    "numKilledTasks": 0,
                    "numSkippedStages": 0,
                    "numSkippedTasks": 0,
                    "numTasks": 1,
                    "rowCount": 1,
                    "stageIds": [
                      121
                    ],
                    "status": "SUCCEEDED",
                    "submissionTime": "2023-11-30T22:20:54.734GMT",
                    "usageDescription": ""
                  },
                  {
                    "completionTime": "2023-11-30T22:20:54.295GMT",
                    "dataRead": 155,
                    "dataWritten": 697,
                    "description": "Job group for statement 26:\n# save the model\nmodel.write().overwrite().save(\"Users/vankempenklaas/fall-2023-reddit-project-team-26/code/ml/model_files/popularity_model_v1\")",
                    "displayName": "parquet at StringIndexer.scala:499",
                    "jobGroup": "26",
                    "jobId": 33,
                    "killedTasksSummary": {},
                    "name": "parquet at StringIndexer.scala:499",
                    "numActiveStages": 0,
                    "numActiveTasks": 0,
                    "numCompletedIndices": 1,
                    "numCompletedStages": 1,
                    "numCompletedTasks": 1,
                    "numFailedStages": 0,
                    "numFailedTasks": 0,
                    "numKilledTasks": 0,
                    "numSkippedStages": 1,
                    "numSkippedTasks": 1,
                    "numTasks": 2,
                    "rowCount": 2,
                    "stageIds": [
                      119,
                      120
                    ],
                    "status": "SUCCEEDED",
                    "submissionTime": "2023-11-30T22:20:50.181GMT",
                    "usageDescription": ""
                  },
                  {
                    "completionTime": "2023-11-30T22:20:50.125GMT",
                    "dataRead": 0,
                    "dataWritten": 155,
                    "description": "Job group for statement 26:\n# save the model\nmodel.write().overwrite().save(\"Users/vankempenklaas/fall-2023-reddit-project-team-26/code/ml/model_files/popularity_model_v1\")",
                    "displayName": "parquet at StringIndexer.scala:499",
                    "jobGroup": "26",
                    "jobId": 32,
                    "killedTasksSummary": {},
                    "name": "parquet at StringIndexer.scala:499",
                    "numActiveStages": 0,
                    "numActiveTasks": 0,
                    "numCompletedIndices": 1,
                    "numCompletedStages": 1,
                    "numCompletedTasks": 1,
                    "numFailedStages": 0,
                    "numFailedTasks": 0,
                    "numKilledTasks": 0,
                    "numSkippedStages": 0,
                    "numSkippedTasks": 0,
                    "numTasks": 1,
                    "rowCount": 1,
                    "stageIds": [
                      118
                    ],
                    "status": "SUCCEEDED",
                    "submissionTime": "2023-11-30T22:20:50.092GMT",
                    "usageDescription": ""
                  },
                  {
                    "completionTime": "2023-11-30T22:20:49.607GMT",
                    "dataRead": 0,
                    "dataWritten": 365,
                    "description": "Job group for statement 26:\n# save the model\nmodel.write().overwrite().save(\"Users/vankempenklaas/fall-2023-reddit-project-team-26/code/ml/model_files/popularity_model_v1\")",
                    "displayName": "runJob at SparkHadoopWriter.scala:85",
                    "jobGroup": "26",
                    "jobId": 31,
                    "killedTasksSummary": {},
                    "name": "runJob at SparkHadoopWriter.scala:85",
                    "numActiveStages": 0,
                    "numActiveTasks": 0,
                    "numCompletedIndices": 1,
                    "numCompletedStages": 1,
                    "numCompletedTasks": 1,
                    "numFailedStages": 0,
                    "numFailedTasks": 0,
                    "numKilledTasks": 0,
                    "numSkippedStages": 0,
                    "numSkippedTasks": 0,
                    "numTasks": 1,
                    "rowCount": 1,
                    "stageIds": [
                      117
                    ],
                    "status": "SUCCEEDED",
                    "submissionTime": "2023-11-30T22:20:48.780GMT",
                    "usageDescription": ""
                  },
                  {
                    "completionTime": "2023-11-30T22:20:48.168GMT",
                    "dataRead": 123,
                    "dataWritten": 723,
                    "description": "Job group for statement 26:\n# save the model\nmodel.write().overwrite().save(\"Users/vankempenklaas/fall-2023-reddit-project-team-26/code/ml/model_files/popularity_model_v1\")",
                    "displayName": "parquet at StringIndexer.scala:499",
                    "jobGroup": "26",
                    "jobId": 30,
                    "killedTasksSummary": {},
                    "name": "parquet at StringIndexer.scala:499",
                    "numActiveStages": 0,
                    "numActiveTasks": 0,
                    "numCompletedIndices": 1,
                    "numCompletedStages": 1,
                    "numCompletedTasks": 1,
                    "numFailedStages": 0,
                    "numFailedTasks": 0,
                    "numKilledTasks": 0,
                    "numSkippedStages": 1,
                    "numSkippedTasks": 1,
                    "numTasks": 2,
                    "rowCount": 2,
                    "stageIds": [
                      115,
                      116
                    ],
                    "status": "SUCCEEDED",
                    "submissionTime": "2023-11-30T22:20:47.193GMT",
                    "usageDescription": ""
                  },
                  {
                    "completionTime": "2023-11-30T22:20:47.098GMT",
                    "dataRead": 0,
                    "dataWritten": 123,
                    "description": "Job group for statement 26:\n# save the model\nmodel.write().overwrite().save(\"Users/vankempenklaas/fall-2023-reddit-project-team-26/code/ml/model_files/popularity_model_v1\")",
                    "displayName": "parquet at StringIndexer.scala:499",
                    "jobGroup": "26",
                    "jobId": 29,
                    "killedTasksSummary": {},
                    "name": "parquet at StringIndexer.scala:499",
                    "numActiveStages": 0,
                    "numActiveTasks": 0,
                    "numCompletedIndices": 1,
                    "numCompletedStages": 1,
                    "numCompletedTasks": 1,
                    "numFailedStages": 0,
                    "numFailedTasks": 0,
                    "numKilledTasks": 0,
                    "numSkippedStages": 0,
                    "numSkippedTasks": 0,
                    "numTasks": 1,
                    "rowCount": 1,
                    "stageIds": [
                      114
                    ],
                    "status": "SUCCEEDED",
                    "submissionTime": "2023-11-30T22:20:47.061GMT",
                    "usageDescription": ""
                  }
                ],
                "limit": 20,
                "numbers": {
                  "FAILED": 0,
                  "RUNNING": 0,
                  "SUCCEEDED": 22,
                  "UNKNOWN": 0
                },
                "rule": "ALL_DESC"
              },
              "spark_pool": "d3c1b951-094c-48e1-919d-e32bc175397b",
              "state": "finished",
              "statement_id": 26
            },
            "text/plain": [
              "StatementMeta(d3c1b951-094c-48e1-919d-e32bc175397b, 49, 26, Finished, Available)"
            ]
          },
          "metadata": {},
          "output_type": "display_data"
        }
      ],
      "source": [
        "# save the model\n",
        "model.write().overwrite().save(\"Users/vankempenklaas/fall-2023-reddit-project-team-26/code/ml/model_files/popularity_model_v1\")"
      ]
    },
    {
      "cell_type": "code",
      "execution_count": 16,
      "metadata": {
        "gather": {
          "logged": 1701382886212
        },
        "jupyter": {
          "outputs_hidden": false,
          "source_hidden": false
        },
        "nteract": {
          "transient": {
            "deleting": false
          }
        }
      },
      "outputs": [
        {
          "data": {
            "application/vnd.livy.statement-meta+json": {
              "execution_finish_time": "2023-11-30T22:21:25.9680653Z",
              "execution_start_time": "2023-11-30T22:21:11.4705492Z",
              "livy_statement_state": "available",
              "parent_msg_id": "8f86e551-d849-48ff-a8b3-1ffefb4342e4",
              "queued_time": "2023-11-30T22:20:48.3520323Z",
              "session_id": "49",
              "session_start_time": null,
              "spark_jobs": {
                "jobs": [
                  {
                    "completionTime": "2023-11-30T22:21:24.769GMT",
                    "dataRead": 458857,
                    "dataWritten": 316077,
                    "description": "Job group for statement 27:\n# load the saved trained model\nloaded_model = PipelineModel.load(\"Users/vankempenklaas/fall-2023-reddit-project-team-26/code/ml/model_files/popularity_model_v1\")",
                    "displayName": "collect at treeModels.scala:549",
                    "jobGroup": "27",
                    "jobId": 78,
                    "killedTasksSummary": {},
                    "name": "collect at treeModels.scala:549",
                    "numActiveStages": 0,
                    "numActiveTasks": 0,
                    "numCompletedIndices": 3,
                    "numCompletedStages": 3,
                    "numCompletedTasks": 3,
                    "numFailedStages": 0,
                    "numFailedTasks": 0,
                    "numKilledTasks": 0,
                    "numSkippedStages": 0,
                    "numSkippedTasks": 0,
                    "numTasks": 3,
                    "rowCount": 9148,
                    "stageIds": [
                      171,
                      172,
                      173
                    ],
                    "status": "SUCCEEDED",
                    "submissionTime": "2023-11-30T22:21:23.978GMT",
                    "usageDescription": ""
                  },
                  {
                    "completionTime": "2023-11-30T22:21:23.563GMT",
                    "dataRead": 0,
                    "dataWritten": 0,
                    "description": "Job group for statement 27:\n# load the saved trained model\nloaded_model = PipelineModel.load(\"Users/vankempenklaas/fall-2023-reddit-project-team-26/code/ml/model_files/popularity_model_v1\")",
                    "displayName": "parquet at treeModels.scala:532",
                    "jobGroup": "27",
                    "jobId": 77,
                    "killedTasksSummary": {},
                    "name": "parquet at treeModels.scala:532",
                    "numActiveStages": 0,
                    "numActiveTasks": 0,
                    "numCompletedIndices": 1,
                    "numCompletedStages": 1,
                    "numCompletedTasks": 1,
                    "numFailedStages": 0,
                    "numFailedTasks": 0,
                    "numKilledTasks": 0,
                    "numSkippedStages": 0,
                    "numSkippedTasks": 0,
                    "numTasks": 1,
                    "rowCount": 0,
                    "stageIds": [
                      170
                    ],
                    "status": "SUCCEEDED",
                    "submissionTime": "2023-11-30T22:21:23.332GMT",
                    "usageDescription": ""
                  },
                  {
                    "completionTime": "2023-11-30T22:21:23.184GMT",
                    "dataRead": 24248,
                    "dataWritten": 13983,
                    "description": "Job group for statement 27:\n# load the saved trained model\nloaded_model = PipelineModel.load(\"Users/vankempenklaas/fall-2023-reddit-project-team-26/code/ml/model_files/popularity_model_v1\")",
                    "displayName": "collect at treeModels.scala:527",
                    "jobGroup": "27",
                    "jobId": 76,
                    "killedTasksSummary": {},
                    "name": "collect at treeModels.scala:527",
                    "numActiveStages": 0,
                    "numActiveTasks": 0,
                    "numCompletedIndices": 2,
                    "numCompletedStages": 2,
                    "numCompletedTasks": 2,
                    "numFailedStages": 0,
                    "numFailedTasks": 0,
                    "numKilledTasks": 0,
                    "numSkippedStages": 0,
                    "numSkippedTasks": 0,
                    "numTasks": 2,
                    "rowCount": 150,
                    "stageIds": [
                      168,
                      169
                    ],
                    "status": "SUCCEEDED",
                    "submissionTime": "2023-11-30T22:21:22.881GMT",
                    "usageDescription": ""
                  },
                  {
                    "completionTime": "2023-11-30T22:21:22.604GMT",
                    "dataRead": 0,
                    "dataWritten": 0,
                    "description": "Job group for statement 27:\n# load the saved trained model\nloaded_model = PipelineModel.load(\"Users/vankempenklaas/fall-2023-reddit-project-team-26/code/ml/model_files/popularity_model_v1\")",
                    "displayName": "parquet at treeModels.scala:520",
                    "jobGroup": "27",
                    "jobId": 75,
                    "killedTasksSummary": {},
                    "name": "parquet at treeModels.scala:520",
                    "numActiveStages": 0,
                    "numActiveTasks": 0,
                    "numCompletedIndices": 1,
                    "numCompletedStages": 1,
                    "numCompletedTasks": 1,
                    "numFailedStages": 0,
                    "numFailedTasks": 0,
                    "numKilledTasks": 0,
                    "numSkippedStages": 0,
                    "numSkippedTasks": 0,
                    "numTasks": 1,
                    "rowCount": 0,
                    "stageIds": [
                      167
                    ],
                    "status": "SUCCEEDED",
                    "submissionTime": "2023-11-30T22:21:22.528GMT",
                    "usageDescription": ""
                  },
                  {
                    "completionTime": "2023-11-30T22:21:22.364GMT",
                    "dataRead": 695,
                    "dataWritten": 0,
                    "description": "Job group for statement 27:\n# load the saved trained model\nloaded_model = PipelineModel.load(\"Users/vankempenklaas/fall-2023-reddit-project-team-26/code/ml/model_files/popularity_model_v1\")",
                    "displayName": "first at ReadWrite.scala:587",
                    "jobGroup": "27",
                    "jobId": 74,
                    "killedTasksSummary": {},
                    "name": "first at ReadWrite.scala:587",
                    "numActiveStages": 0,
                    "numActiveTasks": 0,
                    "numCompletedIndices": 1,
                    "numCompletedStages": 1,
                    "numCompletedTasks": 1,
                    "numFailedStages": 0,
                    "numFailedTasks": 0,
                    "numKilledTasks": 0,
                    "numSkippedStages": 0,
                    "numSkippedTasks": 0,
                    "numTasks": 1,
                    "rowCount": 1,
                    "stageIds": [
                      166
                    ],
                    "status": "SUCCEEDED",
                    "submissionTime": "2023-11-30T22:21:22.313GMT",
                    "usageDescription": ""
                  },
                  {
                    "completionTime": "2023-11-30T22:21:22.225GMT",
                    "dataRead": 695,
                    "dataWritten": 0,
                    "description": "Job group for statement 27:\n# load the saved trained model\nloaded_model = PipelineModel.load(\"Users/vankempenklaas/fall-2023-reddit-project-team-26/code/ml/model_files/popularity_model_v1\")",
                    "displayName": "first at ReadWrite.scala:587",
                    "jobGroup": "27",
                    "jobId": 73,
                    "killedTasksSummary": {},
                    "name": "first at ReadWrite.scala:587",
                    "numActiveStages": 0,
                    "numActiveTasks": 0,
                    "numCompletedIndices": 1,
                    "numCompletedStages": 1,
                    "numCompletedTasks": 1,
                    "numFailedStages": 0,
                    "numFailedTasks": 0,
                    "numKilledTasks": 0,
                    "numSkippedStages": 0,
                    "numSkippedTasks": 0,
                    "numTasks": 1,
                    "rowCount": 1,
                    "stageIds": [
                      165
                    ],
                    "status": "SUCCEEDED",
                    "submissionTime": "2023-11-30T22:21:22.174GMT",
                    "usageDescription": ""
                  },
                  {
                    "completionTime": "2023-11-30T22:21:22.076GMT",
                    "dataRead": 397,
                    "dataWritten": 0,
                    "description": "Job group for statement 27:\n# load the saved trained model\nloaded_model = PipelineModel.load(\"Users/vankempenklaas/fall-2023-reddit-project-team-26/code/ml/model_files/popularity_model_v1\")",
                    "displayName": "first at ReadWrite.scala:587",
                    "jobGroup": "27",
                    "jobId": 72,
                    "killedTasksSummary": {},
                    "name": "first at ReadWrite.scala:587",
                    "numActiveStages": 0,
                    "numActiveTasks": 0,
                    "numCompletedIndices": 1,
                    "numCompletedStages": 1,
                    "numCompletedTasks": 1,
                    "numFailedStages": 0,
                    "numFailedTasks": 0,
                    "numKilledTasks": 0,
                    "numSkippedStages": 0,
                    "numSkippedTasks": 0,
                    "numTasks": 1,
                    "rowCount": 1,
                    "stageIds": [
                      164
                    ],
                    "status": "SUCCEEDED",
                    "submissionTime": "2023-11-30T22:21:22.023GMT",
                    "usageDescription": ""
                  },
                  {
                    "completionTime": "2023-11-30T22:21:21.944GMT",
                    "dataRead": 397,
                    "dataWritten": 0,
                    "description": "Job group for statement 27:\n# load the saved trained model\nloaded_model = PipelineModel.load(\"Users/vankempenklaas/fall-2023-reddit-project-team-26/code/ml/model_files/popularity_model_v1\")",
                    "displayName": "first at ReadWrite.scala:587",
                    "jobGroup": "27",
                    "jobId": 71,
                    "killedTasksSummary": {},
                    "name": "first at ReadWrite.scala:587",
                    "numActiveStages": 0,
                    "numActiveTasks": 0,
                    "numCompletedIndices": 1,
                    "numCompletedStages": 1,
                    "numCompletedTasks": 1,
                    "numFailedStages": 0,
                    "numFailedTasks": 0,
                    "numKilledTasks": 0,
                    "numSkippedStages": 0,
                    "numSkippedTasks": 0,
                    "numTasks": 1,
                    "rowCount": 1,
                    "stageIds": [
                      163
                    ],
                    "status": "SUCCEEDED",
                    "submissionTime": "2023-11-30T22:21:21.891GMT",
                    "usageDescription": ""
                  },
                  {
                    "completionTime": "2023-11-30T22:21:21.811GMT",
                    "dataRead": 1621,
                    "dataWritten": 0,
                    "description": "Job group for statement 27:\n# load the saved trained model\nloaded_model = PipelineModel.load(\"Users/vankempenklaas/fall-2023-reddit-project-team-26/code/ml/model_files/popularity_model_v1\")",
                    "displayName": "head at OneHotEncoder.scala:419",
                    "jobGroup": "27",
                    "jobId": 70,
                    "killedTasksSummary": {},
                    "name": "head at OneHotEncoder.scala:419",
                    "numActiveStages": 0,
                    "numActiveTasks": 0,
                    "numCompletedIndices": 1,
                    "numCompletedStages": 1,
                    "numCompletedTasks": 1,
                    "numFailedStages": 0,
                    "numFailedTasks": 0,
                    "numKilledTasks": 0,
                    "numSkippedStages": 0,
                    "numSkippedTasks": 0,
                    "numTasks": 1,
                    "rowCount": 1,
                    "stageIds": [
                      162
                    ],
                    "status": "SUCCEEDED",
                    "submissionTime": "2023-11-30T22:21:21.593GMT",
                    "usageDescription": ""
                  },
                  {
                    "completionTime": "2023-11-30T22:21:21.544GMT",
                    "dataRead": 0,
                    "dataWritten": 0,
                    "description": "Job group for statement 27:\n# load the saved trained model\nloaded_model = PipelineModel.load(\"Users/vankempenklaas/fall-2023-reddit-project-team-26/code/ml/model_files/popularity_model_v1\")",
                    "displayName": "parquet at OneHotEncoder.scala:418",
                    "jobGroup": "27",
                    "jobId": 69,
                    "killedTasksSummary": {},
                    "name": "parquet at OneHotEncoder.scala:418",
                    "numActiveStages": 0,
                    "numActiveTasks": 0,
                    "numCompletedIndices": 1,
                    "numCompletedStages": 1,
                    "numCompletedTasks": 1,
                    "numFailedStages": 0,
                    "numFailedTasks": 0,
                    "numKilledTasks": 0,
                    "numSkippedStages": 0,
                    "numSkippedTasks": 0,
                    "numTasks": 1,
                    "rowCount": 0,
                    "stageIds": [
                      161
                    ],
                    "status": "SUCCEEDED",
                    "submissionTime": "2023-11-30T22:21:21.463GMT",
                    "usageDescription": ""
                  },
                  {
                    "completionTime": "2023-11-30T22:21:21.309GMT",
                    "dataRead": 336,
                    "dataWritten": 0,
                    "description": "Job group for statement 27:\n# load the saved trained model\nloaded_model = PipelineModel.load(\"Users/vankempenklaas/fall-2023-reddit-project-team-26/code/ml/model_files/popularity_model_v1\")",
                    "displayName": "first at ReadWrite.scala:587",
                    "jobGroup": "27",
                    "jobId": 68,
                    "killedTasksSummary": {},
                    "name": "first at ReadWrite.scala:587",
                    "numActiveStages": 0,
                    "numActiveTasks": 0,
                    "numCompletedIndices": 1,
                    "numCompletedStages": 1,
                    "numCompletedTasks": 1,
                    "numFailedStages": 0,
                    "numFailedTasks": 0,
                    "numKilledTasks": 0,
                    "numSkippedStages": 0,
                    "numSkippedTasks": 0,
                    "numTasks": 1,
                    "rowCount": 1,
                    "stageIds": [
                      160
                    ],
                    "status": "SUCCEEDED",
                    "submissionTime": "2023-11-30T22:21:21.257GMT",
                    "usageDescription": ""
                  },
                  {
                    "completionTime": "2023-11-30T22:21:21.185GMT",
                    "dataRead": 336,
                    "dataWritten": 0,
                    "description": "Job group for statement 27:\n# load the saved trained model\nloaded_model = PipelineModel.load(\"Users/vankempenklaas/fall-2023-reddit-project-team-26/code/ml/model_files/popularity_model_v1\")",
                    "displayName": "first at ReadWrite.scala:587",
                    "jobGroup": "27",
                    "jobId": 67,
                    "killedTasksSummary": {},
                    "name": "first at ReadWrite.scala:587",
                    "numActiveStages": 0,
                    "numActiveTasks": 0,
                    "numCompletedIndices": 1,
                    "numCompletedStages": 1,
                    "numCompletedTasks": 1,
                    "numFailedStages": 0,
                    "numFailedTasks": 0,
                    "numKilledTasks": 0,
                    "numSkippedStages": 0,
                    "numSkippedTasks": 0,
                    "numTasks": 1,
                    "rowCount": 1,
                    "stageIds": [
                      159
                    ],
                    "status": "SUCCEEDED",
                    "submissionTime": "2023-11-30T22:21:21.133GMT",
                    "usageDescription": ""
                  },
                  {
                    "completionTime": "2023-11-30T22:21:21.032GMT",
                    "dataRead": 1621,
                    "dataWritten": 0,
                    "description": "Job group for statement 27:\n# load the saved trained model\nloaded_model = PipelineModel.load(\"Users/vankempenklaas/fall-2023-reddit-project-team-26/code/ml/model_files/popularity_model_v1\")",
                    "displayName": "head at OneHotEncoder.scala:419",
                    "jobGroup": "27",
                    "jobId": 66,
                    "killedTasksSummary": {},
                    "name": "head at OneHotEncoder.scala:419",
                    "numActiveStages": 0,
                    "numActiveTasks": 0,
                    "numCompletedIndices": 1,
                    "numCompletedStages": 1,
                    "numCompletedTasks": 1,
                    "numFailedStages": 0,
                    "numFailedTasks": 0,
                    "numKilledTasks": 0,
                    "numSkippedStages": 0,
                    "numSkippedTasks": 0,
                    "numTasks": 1,
                    "rowCount": 1,
                    "stageIds": [
                      158
                    ],
                    "status": "SUCCEEDED",
                    "submissionTime": "2023-11-30T22:21:20.896GMT",
                    "usageDescription": ""
                  },
                  {
                    "completionTime": "2023-11-30T22:21:20.827GMT",
                    "dataRead": 0,
                    "dataWritten": 0,
                    "description": "Job group for statement 27:\n# load the saved trained model\nloaded_model = PipelineModel.load(\"Users/vankempenklaas/fall-2023-reddit-project-team-26/code/ml/model_files/popularity_model_v1\")",
                    "displayName": "parquet at OneHotEncoder.scala:418",
                    "jobGroup": "27",
                    "jobId": 65,
                    "killedTasksSummary": {},
                    "name": "parquet at OneHotEncoder.scala:418",
                    "numActiveStages": 0,
                    "numActiveTasks": 0,
                    "numCompletedIndices": 1,
                    "numCompletedStages": 1,
                    "numCompletedTasks": 1,
                    "numFailedStages": 0,
                    "numFailedTasks": 0,
                    "numKilledTasks": 0,
                    "numSkippedStages": 0,
                    "numSkippedTasks": 0,
                    "numTasks": 1,
                    "rowCount": 0,
                    "stageIds": [
                      157
                    ],
                    "status": "SUCCEEDED",
                    "submissionTime": "2023-11-30T22:21:20.588GMT",
                    "usageDescription": ""
                  },
                  {
                    "completionTime": "2023-11-30T22:21:20.444GMT",
                    "dataRead": 328,
                    "dataWritten": 0,
                    "description": "Job group for statement 27:\n# load the saved trained model\nloaded_model = PipelineModel.load(\"Users/vankempenklaas/fall-2023-reddit-project-team-26/code/ml/model_files/popularity_model_v1\")",
                    "displayName": "first at ReadWrite.scala:587",
                    "jobGroup": "27",
                    "jobId": 64,
                    "killedTasksSummary": {},
                    "name": "first at ReadWrite.scala:587",
                    "numActiveStages": 0,
                    "numActiveTasks": 0,
                    "numCompletedIndices": 1,
                    "numCompletedStages": 1,
                    "numCompletedTasks": 1,
                    "numFailedStages": 0,
                    "numFailedTasks": 0,
                    "numKilledTasks": 0,
                    "numSkippedStages": 0,
                    "numSkippedTasks": 0,
                    "numTasks": 1,
                    "rowCount": 1,
                    "stageIds": [
                      156
                    ],
                    "status": "SUCCEEDED",
                    "submissionTime": "2023-11-30T22:21:20.390GMT",
                    "usageDescription": ""
                  },
                  {
                    "completionTime": "2023-11-30T22:21:20.309GMT",
                    "dataRead": 328,
                    "dataWritten": 0,
                    "description": "Job group for statement 27:\n# load the saved trained model\nloaded_model = PipelineModel.load(\"Users/vankempenklaas/fall-2023-reddit-project-team-26/code/ml/model_files/popularity_model_v1\")",
                    "displayName": "first at ReadWrite.scala:587",
                    "jobGroup": "27",
                    "jobId": 63,
                    "killedTasksSummary": {},
                    "name": "first at ReadWrite.scala:587",
                    "numActiveStages": 0,
                    "numActiveTasks": 0,
                    "numCompletedIndices": 1,
                    "numCompletedStages": 1,
                    "numCompletedTasks": 1,
                    "numFailedStages": 0,
                    "numFailedTasks": 0,
                    "numKilledTasks": 0,
                    "numSkippedStages": 0,
                    "numSkippedTasks": 0,
                    "numTasks": 1,
                    "rowCount": 1,
                    "stageIds": [
                      155
                    ],
                    "status": "SUCCEEDED",
                    "submissionTime": "2023-11-30T22:21:20.262GMT",
                    "usageDescription": ""
                  },
                  {
                    "completionTime": "2023-11-30T22:21:20.186GMT",
                    "dataRead": 1847,
                    "dataWritten": 0,
                    "description": "Job group for statement 27:\n# load the saved trained model\nloaded_model = PipelineModel.load(\"Users/vankempenklaas/fall-2023-reddit-project-team-26/code/ml/model_files/popularity_model_v1\")",
                    "displayName": "head at StringIndexer.scala:524",
                    "jobGroup": "27",
                    "jobId": 62,
                    "killedTasksSummary": {},
                    "name": "head at StringIndexer.scala:524",
                    "numActiveStages": 0,
                    "numActiveTasks": 0,
                    "numCompletedIndices": 1,
                    "numCompletedStages": 1,
                    "numCompletedTasks": 1,
                    "numFailedStages": 0,
                    "numFailedTasks": 0,
                    "numKilledTasks": 0,
                    "numSkippedStages": 0,
                    "numSkippedTasks": 0,
                    "numTasks": 1,
                    "rowCount": 1,
                    "stageIds": [
                      154
                    ],
                    "status": "SUCCEEDED",
                    "submissionTime": "2023-11-30T22:21:20.029GMT",
                    "usageDescription": ""
                  },
                  {
                    "completionTime": "2023-11-30T22:21:19.973GMT",
                    "dataRead": 0,
                    "dataWritten": 0,
                    "description": "Job group for statement 27:\n# load the saved trained model\nloaded_model = PipelineModel.load(\"Users/vankempenklaas/fall-2023-reddit-project-team-26/code/ml/model_files/popularity_model_v1\")",
                    "displayName": "parquet at StringIndexer.scala:523",
                    "jobGroup": "27",
                    "jobId": 61,
                    "killedTasksSummary": {},
                    "name": "parquet at StringIndexer.scala:523",
                    "numActiveStages": 0,
                    "numActiveTasks": 0,
                    "numCompletedIndices": 1,
                    "numCompletedStages": 1,
                    "numCompletedTasks": 1,
                    "numFailedStages": 0,
                    "numFailedTasks": 0,
                    "numKilledTasks": 0,
                    "numSkippedStages": 0,
                    "numSkippedTasks": 0,
                    "numTasks": 1,
                    "rowCount": 0,
                    "stageIds": [
                      153
                    ],
                    "status": "SUCCEEDED",
                    "submissionTime": "2023-11-30T22:21:19.888GMT",
                    "usageDescription": ""
                  },
                  {
                    "completionTime": "2023-11-30T22:21:19.740GMT",
                    "dataRead": 374,
                    "dataWritten": 0,
                    "description": "Job group for statement 27:\n# load the saved trained model\nloaded_model = PipelineModel.load(\"Users/vankempenklaas/fall-2023-reddit-project-team-26/code/ml/model_files/popularity_model_v1\")",
                    "displayName": "first at ReadWrite.scala:587",
                    "jobGroup": "27",
                    "jobId": 60,
                    "killedTasksSummary": {},
                    "name": "first at ReadWrite.scala:587",
                    "numActiveStages": 0,
                    "numActiveTasks": 0,
                    "numCompletedIndices": 1,
                    "numCompletedStages": 1,
                    "numCompletedTasks": 1,
                    "numFailedStages": 0,
                    "numFailedTasks": 0,
                    "numKilledTasks": 0,
                    "numSkippedStages": 0,
                    "numSkippedTasks": 0,
                    "numTasks": 1,
                    "rowCount": 1,
                    "stageIds": [
                      152
                    ],
                    "status": "SUCCEEDED",
                    "submissionTime": "2023-11-30T22:21:19.683GMT",
                    "usageDescription": ""
                  },
                  {
                    "completionTime": "2023-11-30T22:21:19.607GMT",
                    "dataRead": 374,
                    "dataWritten": 0,
                    "description": "Job group for statement 27:\n# load the saved trained model\nloaded_model = PipelineModel.load(\"Users/vankempenklaas/fall-2023-reddit-project-team-26/code/ml/model_files/popularity_model_v1\")",
                    "displayName": "first at ReadWrite.scala:587",
                    "jobGroup": "27",
                    "jobId": 59,
                    "killedTasksSummary": {},
                    "name": "first at ReadWrite.scala:587",
                    "numActiveStages": 0,
                    "numActiveTasks": 0,
                    "numCompletedIndices": 1,
                    "numCompletedStages": 1,
                    "numCompletedTasks": 1,
                    "numFailedStages": 0,
                    "numFailedTasks": 0,
                    "numKilledTasks": 0,
                    "numSkippedStages": 0,
                    "numSkippedTasks": 0,
                    "numTasks": 1,
                    "rowCount": 1,
                    "stageIds": [
                      151
                    ],
                    "status": "SUCCEEDED",
                    "submissionTime": "2023-11-30T22:21:19.542GMT",
                    "usageDescription": ""
                  }
                ],
                "limit": 20,
                "numbers": {
                  "FAILED": 0,
                  "RUNNING": 0,
                  "SUCCEEDED": 30,
                  "UNKNOWN": 0
                },
                "rule": "ALL_DESC"
              },
              "spark_pool": "d3c1b951-094c-48e1-919d-e32bc175397b",
              "state": "finished",
              "statement_id": 27
            },
            "text/plain": [
              "StatementMeta(d3c1b951-094c-48e1-919d-e32bc175397b, 49, 27, Finished, Available)"
            ]
          },
          "metadata": {},
          "output_type": "display_data"
        }
      ],
      "source": [
        "# load the saved trained model\n",
        "loaded_model = PipelineModel.load(\"Users/vankempenklaas/fall-2023-reddit-project-team-26/code/ml/model_files/popularity_model_v1\")"
      ]
    },
    {
      "cell_type": "code",
      "execution_count": 17,
      "metadata": {
        "gather": {
          "logged": 1701382899997
        },
        "jupyter": {
          "outputs_hidden": false,
          "source_hidden": false
        },
        "nteract": {
          "transient": {
            "deleting": false
          }
        }
      },
      "outputs": [
        {
          "data": {
            "application/vnd.livy.statement-meta+json": {
              "execution_finish_time": "2023-11-30T22:21:39.8226763Z",
              "execution_start_time": "2023-11-30T22:21:36.2694978Z",
              "livy_statement_state": "available",
              "parent_msg_id": "0671b882-7e86-4a73-baa6-17ad00da6214",
              "queued_time": "2023-11-30T22:21:36.1618489Z",
              "session_id": "49",
              "session_start_time": null,
              "spark_jobs": {
                "jobs": [],
                "limit": 20,
                "numbers": {
                  "FAILED": 0,
                  "RUNNING": 0,
                  "SUCCEEDED": 0,
                  "UNKNOWN": 0
                },
                "rule": "ALL_DESC"
              },
              "spark_pool": "d3c1b951-094c-48e1-919d-e32bc175397b",
              "state": "finished",
              "statement_id": 28
            },
            "text/plain": [
              "StatementMeta(d3c1b951-094c-48e1-919d-e32bc175397b, 49, 28, Finished, Available)"
            ]
          },
          "metadata": {},
          "output_type": "display_data"
        }
      ],
      "source": [
        "# make predictions using the saved model on the test data\n",
        "predictions = loaded_model.transform(test_data)"
      ]
    },
    {
      "cell_type": "code",
      "execution_count": 117,
      "metadata": {
        "gather": {
          "logged": 1701365638469
        },
        "jupyter": {
          "outputs_hidden": false,
          "source_hidden": false
        },
        "nteract": {
          "transient": {
            "deleting": false
          }
        }
      },
      "outputs": [
        {
          "data": {
            "application/vnd.livy.statement-meta+json": {
              "execution_finish_time": "2023-11-30T17:33:58.2893586Z",
              "execution_start_time": "2023-11-30T17:33:51.2551882Z",
              "livy_statement_state": "available",
              "parent_msg_id": "f1fd3f7c-4928-4b1b-b6a2-2255b13fae20",
              "queued_time": "2023-11-30T17:33:51.0890892Z",
              "session_id": "48",
              "session_start_time": null,
              "spark_jobs": {
                "jobs": [
                  {
                    "completionTime": "2023-11-30T17:33:57.664GMT",
                    "dataRead": 0,
                    "dataWritten": 0,
                    "description": "Job group for statement 122:\n# evaluate the model using RMSE \nevaluator = RegressionEvaluator(labelCol=\"score\", predictionCol=\"prediction\", metricName=\"rmse\")\nrmse = evaluator.evaluate(predictions)\nprint(\"Root Mean Squared Error (RMSE) on test data = {:.2f}\".format(rmse))",
                    "displayName": "treeAggregate at Statistics.scala:58",
                    "jobGroup": "122",
                    "jobId": 234,
                    "killedTasksSummary": {},
                    "name": "treeAggregate at Statistics.scala:58",
                    "numActiveStages": 0,
                    "numActiveTasks": 0,
                    "numCompletedIndices": 20,
                    "numCompletedStages": 2,
                    "numCompletedTasks": 20,
                    "numFailedStages": 0,
                    "numFailedTasks": 0,
                    "numKilledTasks": 0,
                    "numSkippedStages": 3,
                    "numSkippedTasks": 217,
                    "numTasks": 237,
                    "rowCount": 0,
                    "stageIds": [
                      538,
                      539,
                      540,
                      537,
                      541
                    ],
                    "status": "SUCCEEDED",
                    "submissionTime": "2023-11-30T17:33:56.529GMT",
                    "usageDescription": ""
                  },
                  {
                    "completionTime": "2023-11-30T17:33:56.450GMT",
                    "dataRead": 0,
                    "dataWritten": 0,
                    "description": "Job group for statement 122:\n# evaluate the model using RMSE \nevaluator = RegressionEvaluator(labelCol=\"score\", predictionCol=\"prediction\", metricName=\"rmse\")\nrmse = evaluator.evaluate(predictions)\nprint(\"Root Mean Squared Error (RMSE) on test data = {:.2f}\".format(rmse))",
                    "displayName": "rdd at RegressionEvaluator.scala:125",
                    "jobGroup": "122",
                    "jobId": 233,
                    "killedTasksSummary": {},
                    "name": "rdd at RegressionEvaluator.scala:125",
                    "numActiveStages": 0,
                    "numActiveTasks": 0,
                    "numCompletedIndices": 200,
                    "numCompletedStages": 1,
                    "numCompletedTasks": 200,
                    "numFailedStages": 0,
                    "numFailedTasks": 0,
                    "numKilledTasks": 0,
                    "numSkippedStages": 2,
                    "numSkippedTasks": 17,
                    "numTasks": 217,
                    "rowCount": 0,
                    "stageIds": [
                      535,
                      536,
                      534
                    ],
                    "status": "SUCCEEDED",
                    "submissionTime": "2023-11-30T17:33:51.325GMT",
                    "usageDescription": ""
                  }
                ],
                "limit": 20,
                "numbers": {
                  "FAILED": 0,
                  "RUNNING": 0,
                  "SUCCEEDED": 2,
                  "UNKNOWN": 0
                },
                "rule": "ALL_DESC"
              },
              "spark_pool": "d3c1b951-094c-48e1-919d-e32bc175397b",
              "state": "finished",
              "statement_id": 122
            },
            "text/plain": [
              "StatementMeta(d3c1b951-094c-48e1-919d-e32bc175397b, 48, 122, Finished, Available)"
            ]
          },
          "metadata": {},
          "output_type": "display_data"
        },
        {
          "name": "stdout",
          "output_type": "stream",
          "text": [
            "Root Mean Squared Error (RMSE) on test data = 37.55\n"
          ]
        }
      ],
      "source": [
        "# evaluate the model using RMSE \n",
        "evaluator = RegressionEvaluator(labelCol=\"score\", predictionCol=\"prediction\", metricName=\"rmse\")\n",
        "rmse = evaluator.evaluate(predictions)\n",
        "print(\"Root Mean Squared Error (RMSE) on test data = {:.2f}\".format(rmse))"
      ]
    },
    {
      "cell_type": "code",
      "execution_count": 18,
      "metadata": {
        "gather": {
          "logged": 1701382920589
        },
        "jupyter": {
          "outputs_hidden": false,
          "source_hidden": false
        },
        "nteract": {
          "transient": {
            "deleting": false
          }
        }
      },
      "outputs": [
        {
          "data": {
            "application/vnd.livy.statement-meta+json": {
              "execution_finish_time": "2023-11-30T22:22:00.338432Z",
              "execution_start_time": "2023-11-30T22:21:45.8938962Z",
              "livy_statement_state": "available",
              "parent_msg_id": "103a2b1f-c27d-44f4-b26a-c8bd34222767",
              "queued_time": "2023-11-30T22:21:45.7858484Z",
              "session_id": "49",
              "session_start_time": null,
              "spark_jobs": {
                "jobs": [
                  {
                    "completionTime": "2023-11-30T22:21:57.986GMT",
                    "dataRead": 255537744,
                    "dataWritten": 0,
                    "description": "Job group for statement 29:\n# downsample the predictions to get ~10,000 rows to visualize \npredictions_df = predictions.sample(fraction = 0.07, seed = 92).select(\"prediction\").toPandas()\ntrue_labels_df = predictions.sample(fraction = 0.07, seed = 92).select(\"score\").toPandas()",
                    "displayName": "toPandas at /tmp/ipykernel_8191/3721980617.py:3",
                    "jobGroup": "29",
                    "jobId": 82,
                    "killedTasksSummary": {},
                    "name": "toPandas at /tmp/ipykernel_8191/3721980617.py:3",
                    "numActiveStages": 0,
                    "numActiveTasks": 0,
                    "numCompletedIndices": 17,
                    "numCompletedStages": 1,
                    "numCompletedTasks": 17,
                    "numFailedStages": 0,
                    "numFailedTasks": 0,
                    "numKilledTasks": 0,
                    "numSkippedStages": 3,
                    "numSkippedTasks": 217,
                    "numTasks": 234,
                    "rowCount": 865472,
                    "stageIds": [
                      186,
                      187,
                      184,
                      185
                    ],
                    "status": "SUCCEEDED",
                    "submissionTime": "2023-11-30T22:21:57.249GMT",
                    "usageDescription": ""
                  },
                  {
                    "completionTime": "2023-11-30T22:21:57.160GMT",
                    "dataRead": 209485874,
                    "dataWritten": 255537744,
                    "description": "Job group for statement 29:\n# downsample the predictions to get ~10,000 rows to visualize \npredictions_df = predictions.sample(fraction = 0.07, seed = 92).select(\"prediction\").toPandas()\ntrue_labels_df = predictions.sample(fraction = 0.07, seed = 92).select(\"score\").toPandas()",
                    "displayName": "toPandas at /tmp/ipykernel_8191/3721980617.py:3",
                    "jobGroup": "29",
                    "jobId": 81,
                    "killedTasksSummary": {},
                    "name": "toPandas at /tmp/ipykernel_8191/3721980617.py:3",
                    "numActiveStages": 0,
                    "numActiveTasks": 0,
                    "numCompletedIndices": 200,
                    "numCompletedStages": 1,
                    "numCompletedTasks": 200,
                    "numFailedStages": 0,
                    "numFailedTasks": 0,
                    "numKilledTasks": 0,
                    "numSkippedStages": 2,
                    "numSkippedTasks": 17,
                    "numTasks": 217,
                    "rowCount": 865672,
                    "stageIds": [
                      183,
                      181,
                      182
                    ],
                    "status": "SUCCEEDED",
                    "submissionTime": "2023-11-30T22:21:54.219GMT",
                    "usageDescription": ""
                  },
                  {
                    "completionTime": "2023-11-30T22:21:53.927GMT",
                    "dataRead": 255537744,
                    "dataWritten": 0,
                    "description": "Job group for statement 29:\n# downsample the predictions to get ~10,000 rows to visualize \npredictions_df = predictions.sample(fraction = 0.07, seed = 92).select(\"prediction\").toPandas()\ntrue_labels_df = predictions.sample(fraction = 0.07, seed = 92).select(\"score\").toPandas()",
                    "displayName": "toPandas at /tmp/ipykernel_8191/3721980617.py:2",
                    "jobGroup": "29",
                    "jobId": 80,
                    "killedTasksSummary": {},
                    "name": "toPandas at /tmp/ipykernel_8191/3721980617.py:2",
                    "numActiveStages": 0,
                    "numActiveTasks": 0,
                    "numCompletedIndices": 17,
                    "numCompletedStages": 1,
                    "numCompletedTasks": 17,
                    "numFailedStages": 0,
                    "numFailedTasks": 0,
                    "numKilledTasks": 0,
                    "numSkippedStages": 3,
                    "numSkippedTasks": 217,
                    "numTasks": 234,
                    "rowCount": 865472,
                    "stageIds": [
                      179,
                      180,
                      177,
                      178
                    ],
                    "status": "SUCCEEDED",
                    "submissionTime": "2023-11-30T22:21:51.850GMT",
                    "usageDescription": ""
                  },
                  {
                    "completionTime": "2023-11-30T22:21:51.601GMT",
                    "dataRead": 204514335,
                    "dataWritten": 255537744,
                    "description": "Job group for statement 29:\n# downsample the predictions to get ~10,000 rows to visualize \npredictions_df = predictions.sample(fraction = 0.07, seed = 92).select(\"prediction\").toPandas()\ntrue_labels_df = predictions.sample(fraction = 0.07, seed = 92).select(\"score\").toPandas()",
                    "displayName": "toPandas at /tmp/ipykernel_8191/3721980617.py:2",
                    "jobGroup": "29",
                    "jobId": 79,
                    "killedTasksSummary": {},
                    "name": "toPandas at /tmp/ipykernel_8191/3721980617.py:2",
                    "numActiveStages": 0,
                    "numActiveTasks": 0,
                    "numCompletedIndices": 200,
                    "numCompletedStages": 1,
                    "numCompletedTasks": 200,
                    "numFailedStages": 0,
                    "numFailedTasks": 0,
                    "numKilledTasks": 0,
                    "numSkippedStages": 2,
                    "numSkippedTasks": 17,
                    "numTasks": 217,
                    "rowCount": 865672,
                    "stageIds": [
                      176,
                      174,
                      175
                    ],
                    "status": "SUCCEEDED",
                    "submissionTime": "2023-11-30T22:21:47.870GMT",
                    "usageDescription": ""
                  }
                ],
                "limit": 20,
                "numbers": {
                  "FAILED": 0,
                  "RUNNING": 0,
                  "SUCCEEDED": 4,
                  "UNKNOWN": 0
                },
                "rule": "ALL_DESC"
              },
              "spark_pool": "d3c1b951-094c-48e1-919d-e32bc175397b",
              "state": "finished",
              "statement_id": 29
            },
            "text/plain": [
              "StatementMeta(d3c1b951-094c-48e1-919d-e32bc175397b, 49, 29, Finished, Available)"
            ]
          },
          "metadata": {},
          "output_type": "display_data"
        }
      ],
      "source": [
        "# downsample the predictions to get ~10,000 rows to visualize \n",
        "predictions_df = predictions.sample(fraction = 0.07, seed = 92).select(\"prediction\").toPandas()\n",
        "true_labels_df = predictions.sample(fraction = 0.07, seed = 92).select(\"score\").toPandas()"
      ]
    },
    {
      "cell_type": "code",
      "execution_count": 20,
      "metadata": {
        "gather": {
          "logged": 1701382929449
        },
        "jupyter": {
          "outputs_hidden": false,
          "source_hidden": false
        },
        "nteract": {
          "transient": {
            "deleting": false
          }
        }
      },
      "outputs": [
        {
          "data": {
            "application/vnd.livy.statement-meta+json": {
              "execution_finish_time": "2023-11-30T22:22:09.1054896Z",
              "execution_start_time": "2023-11-30T22:22:08.271477Z",
              "livy_statement_state": "available",
              "parent_msg_id": "d8ea8033-6e5b-4823-9a30-2262a3597811",
              "queued_time": "2023-11-30T22:22:08.1510338Z",
              "session_id": "49",
              "session_start_time": null,
              "spark_jobs": {
                "jobs": [],
                "limit": 20,
                "numbers": {
                  "FAILED": 0,
                  "RUNNING": 0,
                  "SUCCEEDED": 0,
                  "UNKNOWN": 0
                },
                "rule": "ALL_DESC"
              },
              "spark_pool": "d3c1b951-094c-48e1-919d-e32bc175397b",
              "state": "finished",
              "statement_id": 31
            },
            "text/plain": [
              "StatementMeta(d3c1b951-094c-48e1-919d-e32bc175397b, 49, 31, Finished, Available)"
            ]
          },
          "metadata": {},
          "output_type": "display_data"
        },
        {
          "data": {
            "image/png": "[encoded data removed]",
            "text/plain": [
              "<Figure size 432x288 with 1 Axes>"
            ]
          },
          "metadata": {
            "needs_background": "light"
          },
          "output_type": "display_data"
        }
      ],
      "source": [
        "# plot true values against predicted values\n",
        "plt.scatter(true_labels_df, predictions_df, alpha=0.5, s = 10, c = [\"darkgreen\"])\n",
        "plt.title(\"True vs Predicted Score (Less Complex Model)\\n\", fontsize = 16)\n",
        "plt.xlabel(\"True Score \\n\\n (X axis limited to -20 to 80 for readability)\", fontsize = 14)\n",
        "plt.ylabel(\"Predicted Score\", fontsize = 14)\n",
        "plt.ylim([-20,80])\n",
        "plt.xlim([-20,80])\n",
        "plt.xticks(fontsize = 12)\n",
        "plt.yticks(fontsize = 12)\n",
        "plt.savefig(\"Users/vankempenklaas/fall-2023-reddit-project-team-26/data/plots/ml_q1_simplemodel_plot.png\")\n",
        "plt.show()"
      ]
    },
    {
      "cell_type": "markdown",
      "metadata": {
        "nteract": {
          "transient": {
            "deleting": false
          }
        }
      },
      "source": [
        "#### Version 2\n",
        "\n",
        "Increasing the number of trees in the random forest from 50 to 200 to give the model more complexity. Also increasing the max depth from 5 to 10 to increase complexity as well. "
      ]
    },
    {
      "cell_type": "code",
      "execution_count": 21,
      "metadata": {
        "gather": {
          "logged": 1701382942424
        },
        "jupyter": {
          "outputs_hidden": false,
          "source_hidden": false
        },
        "nteract": {
          "transient": {
            "deleting": false
          }
        }
      },
      "outputs": [
        {
          "data": {
            "application/vnd.livy.statement-meta+json": {
              "execution_finish_time": "2023-11-30T22:22:22.0881083Z",
              "execution_start_time": "2023-11-30T22:22:21.7766679Z",
              "livy_statement_state": "available",
              "parent_msg_id": "95335012-0dff-4cce-9017-7e2acdabcbf7",
              "queued_time": "2023-11-30T22:22:21.6454677Z",
              "session_id": "49",
              "session_start_time": null,
              "spark_jobs": {
                "jobs": [],
                "limit": 20,
                "numbers": {
                  "FAILED": 0,
                  "RUNNING": 0,
                  "SUCCEEDED": 0,
                  "UNKNOWN": 0
                },
                "rule": "ALL_DESC"
              },
              "spark_pool": "d3c1b951-094c-48e1-919d-e32bc175397b",
              "state": "finished",
              "statement_id": 32
            },
            "text/plain": [
              "StatementMeta(d3c1b951-094c-48e1-919d-e32bc175397b, 49, 32, Finished, Available)"
            ]
          },
          "metadata": {},
          "output_type": "display_data"
        }
      ],
      "source": [
        "rf_v2 = RandomForestRegressor(featuresCol=\"features\", labelCol=\"score\", maxDepth=10, numTrees=200)"
      ]
    },
    {
      "cell_type": "code",
      "execution_count": 22,
      "metadata": {
        "gather": {
          "logged": 1701382943614
        },
        "jupyter": {
          "outputs_hidden": false,
          "source_hidden": false
        },
        "nteract": {
          "transient": {
            "deleting": false
          }
        }
      },
      "outputs": [
        {
          "data": {
            "application/vnd.livy.statement-meta+json": {
              "execution_finish_time": "2023-11-30T22:22:23.4632048Z",
              "execution_start_time": "2023-11-30T22:22:23.1721184Z",
              "livy_statement_state": "available",
              "parent_msg_id": "710709c5-8e9c-4ce0-a485-e7e1c3fcdf9a",
              "queued_time": "2023-11-30T22:22:23.0522113Z",
              "session_id": "49",
              "session_start_time": null,
              "spark_jobs": {
                "jobs": [],
                "limit": 20,
                "numbers": {
                  "FAILED": 0,
                  "RUNNING": 0,
                  "SUCCEEDED": 0,
                  "UNKNOWN": 0
                },
                "rule": "ALL_DESC"
              },
              "spark_pool": "d3c1b951-094c-48e1-919d-e32bc175397b",
              "state": "finished",
              "statement_id": 33
            },
            "text/plain": [
              "StatementMeta(d3c1b951-094c-48e1-919d-e32bc175397b, 49, 33, Finished, Available)"
            ]
          },
          "metadata": {},
          "output_type": "display_data"
        }
      ],
      "source": [
        "pipeline_model_v2 = Pipeline(stages = [\n",
        "    stringIndexer_sentiment,\n",
        "    stringIndexer_month,\n",
        "    stringIndexer_team,\n",
        "    onehot_month,\n",
        "    onehot_sentiment,\n",
        "    assembler,\n",
        "    rf_v2\n",
        "])"
      ]
    },
    {
      "cell_type": "code",
      "execution_count": 23,
      "metadata": {
        "gather": {
          "logged": 1701383194199
        },
        "jupyter": {
          "outputs_hidden": false,
          "source_hidden": false
        },
        "nteract": {
          "transient": {
            "deleting": false
          }
        }
      },
      "outputs": [
        {
          "data": {
            "application/vnd.livy.statement-meta+json": {
              "execution_finish_time": "2023-11-30T22:26:33.8443228Z",
              "execution_start_time": "2023-11-30T22:22:27.9154339Z",
              "livy_statement_state": "available",
              "parent_msg_id": "32ef6e2c-51c4-403f-af9d-e67f6536b25b",
              "queued_time": "2023-11-30T22:22:27.8042183Z",
              "session_id": "49",
              "session_start_time": null,
              "spark_jobs": {
                "jobs": [
                  {
                    "completionTime": "2023-11-30T22:26:33.081GMT",
                    "dataRead": 1812790976,
                    "dataWritten": 1190007350,
                    "description": "Job group for statement 34:\nmodel_v2 = pipeline_model_v2.fit(train_data)",
                    "displayName": "collectAsMap at RandomForest.scala:663",
                    "jobGroup": "34",
                    "jobId": 101,
                    "killedTasksSummary": {},
                    "name": "collectAsMap at RandomForest.scala:663",
                    "numActiveStages": 0,
                    "numActiveTasks": 0,
                    "numCompletedIndices": 400,
                    "numCompletedStages": 2,
                    "numCompletedTasks": 400,
                    "numFailedStages": 0,
                    "numFailedTasks": 0,
                    "numKilledTasks": 0,
                    "numSkippedStages": 3,
                    "numSkippedTasks": 217,
                    "numTasks": 617,
                    "rowCount": 28742840,
                    "stageIds": [
                      273,
                      277,
                      274,
                      275,
                      276
                    ],
                    "status": "SUCCEEDED",
                    "submissionTime": "2023-11-30T22:25:09.148GMT",
                    "usageDescription": ""
                  },
                  {
                    "completionTime": "2023-11-30T22:25:07.331GMT",
                    "dataRead": 1483170760,
                    "dataWritten": 854230463,
                    "description": "Job group for statement 34:\nmodel_v2 = pipeline_model_v2.fit(train_data)",
                    "displayName": "collectAsMap at RandomForest.scala:663",
                    "jobGroup": "34",
                    "jobId": 100,
                    "killedTasksSummary": {},
                    "name": "collectAsMap at RandomForest.scala:663",
                    "numActiveStages": 0,
                    "numActiveTasks": 0,
                    "numCompletedIndices": 400,
                    "numCompletedStages": 2,
                    "numCompletedTasks": 400,
                    "numFailedStages": 0,
                    "numFailedTasks": 0,
                    "numKilledTasks": 0,
                    "numSkippedStages": 3,
                    "numSkippedTasks": 217,
                    "numTasks": 617,
                    "rowCount": 16631240,
                    "stageIds": [
                      269,
                      270,
                      271,
                      272,
                      268
                    ],
                    "status": "SUCCEEDED",
                    "submissionTime": "2023-11-30T22:24:19.432GMT",
                    "usageDescription": ""
                  },
                  {
                    "completionTime": "2023-11-30T22:24:18.467GMT",
                    "dataRead": 1248215021,
                    "dataWritten": 606341374,
                    "description": "Job group for statement 34:\nmodel_v2 = pipeline_model_v2.fit(train_data)",
                    "displayName": "collectAsMap at RandomForest.scala:663",
                    "jobGroup": "34",
                    "jobId": 99,
                    "killedTasksSummary": {},
                    "name": "collectAsMap at RandomForest.scala:663",
                    "numActiveStages": 0,
                    "numActiveTasks": 0,
                    "numCompletedIndices": 400,
                    "numCompletedStages": 2,
                    "numCompletedTasks": 400,
                    "numFailedStages": 0,
                    "numFailedTasks": 0,
                    "numKilledTasks": 0,
                    "numSkippedStages": 3,
                    "numSkippedTasks": 217,
                    "numTasks": 617,
                    "rowCount": 9417240,
                    "stageIds": [
                      266,
                      263,
                      267,
                      264,
                      265
                    ],
                    "status": "SUCCEEDED",
                    "submissionTime": "2023-11-30T22:23:48.472GMT",
                    "usageDescription": ""
                  },
                  {
                    "completionTime": "2023-11-30T22:23:47.911GMT",
                    "dataRead": 1063296777,
                    "dataWritten": 422504454,
                    "description": "Job group for statement 34:\nmodel_v2 = pipeline_model_v2.fit(train_data)",
                    "displayName": "collectAsMap at RandomForest.scala:663",
                    "jobGroup": "34",
                    "jobId": 98,
                    "killedTasksSummary": {},
                    "name": "collectAsMap at RandomForest.scala:663",
                    "numActiveStages": 0,
                    "numActiveTasks": 0,
                    "numCompletedIndices": 400,
                    "numCompletedStages": 2,
                    "numCompletedTasks": 400,
                    "numFailedStages": 0,
                    "numFailedTasks": 0,
                    "numKilledTasks": 0,
                    "numSkippedStages": 3,
                    "numSkippedTasks": 217,
                    "numTasks": 617,
                    "rowCount": 5329640,
                    "stageIds": [
                      259,
                      260,
                      261,
                      258,
                      262
                    ],
                    "status": "SUCCEEDED",
                    "submissionTime": "2023-11-30T22:23:28.343GMT",
                    "usageDescription": ""
                  },
                  {
                    "completionTime": "2023-11-30T22:23:28.065GMT",
                    "dataRead": 942752542,
                    "dataWritten": 306119744,
                    "description": "Job group for statement 34:\nmodel_v2 = pipeline_model_v2.fit(train_data)",
                    "displayName": "collectAsMap at RandomForest.scala:663",
                    "jobGroup": "34",
                    "jobId": 97,
                    "killedTasksSummary": {},
                    "name": "collectAsMap at RandomForest.scala:663",
                    "numActiveStages": 0,
                    "numActiveTasks": 0,
                    "numCompletedIndices": 400,
                    "numCompletedStages": 2,
                    "numCompletedTasks": 400,
                    "numFailedStages": 0,
                    "numFailedTasks": 0,
                    "numKilledTasks": 0,
                    "numSkippedStages": 3,
                    "numSkippedTasks": 217,
                    "numTasks": 617,
                    "rowCount": 3108840,
                    "stageIds": [
                      255,
                      256,
                      253,
                      257,
                      254
                    ],
                    "status": "SUCCEEDED",
                    "submissionTime": "2023-11-30T22:23:13.974GMT",
                    "usageDescription": ""
                  },
                  {
                    "completionTime": "2023-11-30T22:23:13.736GMT",
                    "dataRead": 856281994,
                    "dataWritten": 215729991,
                    "description": "Job group for statement 34:\nmodel_v2 = pipeline_model_v2.fit(train_data)",
                    "displayName": "collectAsMap at RandomForest.scala:663",
                    "jobGroup": "34",
                    "jobId": 96,
                    "killedTasksSummary": {},
                    "name": "collectAsMap at RandomForest.scala:663",
                    "numActiveStages": 0,
                    "numActiveTasks": 0,
                    "numCompletedIndices": 400,
                    "numCompletedStages": 2,
                    "numCompletedTasks": 400,
                    "numFailedStages": 0,
                    "numFailedTasks": 0,
                    "numKilledTasks": 0,
                    "numSkippedStages": 3,
                    "numSkippedTasks": 217,
                    "numTasks": 617,
                    "rowCount": 1928440,
                    "stageIds": [
                      251,
                      248,
                      252,
                      249,
                      250
                    ],
                    "status": "SUCCEEDED",
                    "submissionTime": "2023-11-30T22:23:02.242GMT",
                    "usageDescription": ""
                  },
                  {
                    "completionTime": "2023-11-30T22:23:02.122GMT",
                    "dataRead": 793773608,
                    "dataWritten": 153301192,
                    "description": "Job group for statement 34:\nmodel_v2 = pipeline_model_v2.fit(train_data)",
                    "displayName": "collectAsMap at RandomForest.scala:663",
                    "jobGroup": "34",
                    "jobId": 95,
                    "killedTasksSummary": {},
                    "name": "collectAsMap at RandomForest.scala:663",
                    "numActiveStages": 0,
                    "numActiveTasks": 0,
                    "numCompletedIndices": 400,
                    "numCompletedStages": 2,
                    "numCompletedTasks": 400,
                    "numFailedStages": 0,
                    "numFailedTasks": 0,
                    "numKilledTasks": 0,
                    "numSkippedStages": 3,
                    "numSkippedTasks": 217,
                    "numTasks": 617,
                    "rowCount": 1322040,
                    "stageIds": [
                      245,
                      246,
                      243,
                      247,
                      244
                    ],
                    "status": "SUCCEEDED",
                    "submissionTime": "2023-11-30T22:22:53.090GMT",
                    "usageDescription": ""
                  },
                  {
                    "completionTime": "2023-11-30T22:22:52.993GMT",
                    "dataRead": 751183695,
                    "dataWritten": 104547173,
                    "description": "Job group for statement 34:\nmodel_v2 = pipeline_model_v2.fit(train_data)",
                    "displayName": "collectAsMap at RandomForest.scala:663",
                    "jobGroup": "34",
                    "jobId": 94,
                    "killedTasksSummary": {},
                    "name": "collectAsMap at RandomForest.scala:663",
                    "numActiveStages": 0,
                    "numActiveTasks": 0,
                    "numCompletedIndices": 400,
                    "numCompletedStages": 2,
                    "numCompletedTasks": 400,
                    "numFailedStages": 0,
                    "numFailedTasks": 0,
                    "numKilledTasks": 0,
                    "numSkippedStages": 3,
                    "numSkippedTasks": 217,
                    "numTasks": 617,
                    "rowCount": 1010840,
                    "stageIds": [
                      241,
                      238,
                      242,
                      239,
                      240
                    ],
                    "status": "SUCCEEDED",
                    "submissionTime": "2023-11-30T22:22:46.168GMT",
                    "usageDescription": ""
                  },
                  {
                    "completionTime": "2023-11-30T22:22:46.090GMT",
                    "dataRead": 712487539,
                    "dataWritten": 70607740,
                    "description": "Job group for statement 34:\nmodel_v2 = pipeline_model_v2.fit(train_data)",
                    "displayName": "collectAsMap at RandomForest.scala:663",
                    "jobGroup": "34",
                    "jobId": 93,
                    "killedTasksSummary": {},
                    "name": "collectAsMap at RandomForest.scala:663",
                    "numActiveStages": 0,
                    "numActiveTasks": 0,
                    "numCompletedIndices": 400,
                    "numCompletedStages": 2,
                    "numCompletedTasks": 400,
                    "numFailedStages": 0,
                    "numFailedTasks": 0,
                    "numKilledTasks": 0,
                    "numSkippedStages": 3,
                    "numSkippedTasks": 217,
                    "numTasks": 617,
                    "rowCount": 852440,
                    "stageIds": [
                      233,
                      237,
                      234,
                      235,
                      236
                    ],
                    "status": "SUCCEEDED",
                    "submissionTime": "2023-11-30T22:22:40.888GMT",
                    "usageDescription": ""
                  },
                  {
                    "completionTime": "2023-11-30T22:22:40.787GMT",
                    "dataRead": 225569820,
                    "dataWritten": 47025014,
                    "description": "Job group for statement 34:\nmodel_v2 = pipeline_model_v2.fit(train_data)",
                    "displayName": "collectAsMap at RandomForest.scala:663",
                    "jobGroup": "34",
                    "jobId": 92,
                    "killedTasksSummary": {},
                    "name": "collectAsMap at RandomForest.scala:663",
                    "numActiveStages": 0,
                    "numActiveTasks": 0,
                    "numCompletedIndices": 400,
                    "numCompletedStages": 2,
                    "numCompletedTasks": 400,
                    "numFailedStages": 0,
                    "numFailedTasks": 0,
                    "numKilledTasks": 0,
                    "numSkippedStages": 3,
                    "numSkippedTasks": 217,
                    "numTasks": 617,
                    "rowCount": 80201,
                    "stageIds": [
                      230,
                      231,
                      228,
                      232,
                      229
                    ],
                    "status": "SUCCEEDED",
                    "submissionTime": "2023-11-30T22:22:34.957GMT",
                    "usageDescription": ""
                  },
                  {
                    "completionTime": "2023-11-30T22:22:34.843GMT",
                    "dataRead": 180535942,
                    "dataWritten": 641750,
                    "description": "Job group for statement 34:\nmodel_v2 = pipeline_model_v2.fit(train_data)",
                    "displayName": "collectAsMap at RandomForest.scala:1054",
                    "jobGroup": "34",
                    "jobId": 91,
                    "killedTasksSummary": {},
                    "name": "collectAsMap at RandomForest.scala:1054",
                    "numActiveStages": 0,
                    "numActiveTasks": 0,
                    "numCompletedIndices": 205,
                    "numCompletedStages": 2,
                    "numCompletedTasks": 205,
                    "numFailedStages": 0,
                    "numFailedTasks": 0,
                    "numKilledTasks": 0,
                    "numSkippedStages": 3,
                    "numSkippedTasks": 217,
                    "numTasks": 422,
                    "rowCount": 2201,
                    "stageIds": [
                      223,
                      227,
                      224,
                      225,
                      226
                    ],
                    "status": "SUCCEEDED",
                    "submissionTime": "2023-11-30T22:22:33.512GMT",
                    "usageDescription": ""
                  },
                  {
                    "completionTime": "2023-11-30T22:22:33.471GMT",
                    "dataRead": 176833714,
                    "dataWritten": 0,
                    "description": "Job group for statement 34:\nmodel_v2 = pipeline_model_v2.fit(train_data)",
                    "displayName": "aggregate at DecisionTreeMetadata.scala:125",
                    "jobGroup": "34",
                    "jobId": 90,
                    "killedTasksSummary": {},
                    "name": "aggregate at DecisionTreeMetadata.scala:125",
                    "numActiveStages": 0,
                    "numActiveTasks": 0,
                    "numCompletedIndices": 200,
                    "numCompletedStages": 1,
                    "numCompletedTasks": 200,
                    "numFailedStages": 0,
                    "numFailedTasks": 0,
                    "numKilledTasks": 0,
                    "numSkippedStages": 3,
                    "numSkippedTasks": 217,
                    "numTasks": 417,
                    "rowCount": 201,
                    "stageIds": [
                      222,
                      219,
                      220,
                      221
                    ],
                    "status": "SUCCEEDED",
                    "submissionTime": "2023-11-30T22:22:32.515GMT",
                    "usageDescription": ""
                  },
                  {
                    "completionTime": "2023-11-30T22:22:32.503GMT",
                    "dataRead": 1391120,
                    "dataWritten": 0,
                    "description": "Job group for statement 34:\nmodel_v2 = pipeline_model_v2.fit(train_data)",
                    "displayName": "take at DecisionTreeMetadata.scala:119",
                    "jobGroup": "34",
                    "jobId": 89,
                    "killedTasksSummary": {},
                    "name": "take at DecisionTreeMetadata.scala:119",
                    "numActiveStages": 0,
                    "numActiveTasks": 0,
                    "numCompletedIndices": 1,
                    "numCompletedStages": 1,
                    "numCompletedTasks": 1,
                    "numFailedStages": 0,
                    "numFailedTasks": 0,
                    "numKilledTasks": 0,
                    "numSkippedStages": 3,
                    "numSkippedTasks": 217,
                    "numTasks": 218,
                    "rowCount": 1,
                    "stageIds": [
                      215,
                      216,
                      217,
                      218
                    ],
                    "status": "SUCCEEDED",
                    "submissionTime": "2023-11-30T22:22:32.461GMT",
                    "usageDescription": ""
                  },
                  {
                    "completionTime": "2023-11-30T22:22:31.687GMT",
                    "dataRead": 100583,
                    "dataWritten": 0,
                    "description": "Job group for statement 34:\nmodel_v2 = pipeline_model_v2.fit(train_data)",
                    "displayName": "collect at StringIndexer.scala:204",
                    "jobGroup": "34",
                    "jobId": 88,
                    "killedTasksSummary": {},
                    "name": "collect at StringIndexer.scala:204",
                    "numActiveStages": 0,
                    "numActiveTasks": 0,
                    "numCompletedIndices": 1,
                    "numCompletedStages": 1,
                    "numCompletedTasks": 1,
                    "numFailedStages": 0,
                    "numFailedTasks": 0,
                    "numKilledTasks": 0,
                    "numSkippedStages": 4,
                    "numSkippedTasks": 417,
                    "numTasks": 418,
                    "rowCount": 200,
                    "stageIds": [
                      212,
                      213,
                      210,
                      214,
                      211
                    ],
                    "status": "SUCCEEDED",
                    "submissionTime": "2023-11-30T22:22:31.624GMT",
                    "usageDescription": ""
                  },
                  {
                    "completionTime": "2023-11-30T22:22:31.532GMT",
                    "dataRead": 178718883,
                    "dataWritten": 100583,
                    "description": "Job group for statement 34:\nmodel_v2 = pipeline_model_v2.fit(train_data)",
                    "displayName": "collect at StringIndexer.scala:204",
                    "jobGroup": "34",
                    "jobId": 87,
                    "killedTasksSummary": {},
                    "name": "collect at StringIndexer.scala:204",
                    "numActiveStages": 0,
                    "numActiveTasks": 0,
                    "numCompletedIndices": 200,
                    "numCompletedStages": 1,
                    "numCompletedTasks": 200,
                    "numFailedStages": 0,
                    "numFailedTasks": 0,
                    "numKilledTasks": 0,
                    "numSkippedStages": 3,
                    "numSkippedTasks": 217,
                    "numTasks": 417,
                    "rowCount": 401,
                    "stageIds": [
                      208,
                      209,
                      206,
                      207
                    ],
                    "status": "SUCCEEDED",
                    "submissionTime": "2023-11-30T22:22:30.454GMT",
                    "usageDescription": ""
                  },
                  {
                    "completionTime": "2023-11-30T22:22:29.991GMT",
                    "dataRead": 110983,
                    "dataWritten": 0,
                    "description": "Job group for statement 34:\nmodel_v2 = pipeline_model_v2.fit(train_data)",
                    "displayName": "collect at StringIndexer.scala:204",
                    "jobGroup": "34",
                    "jobId": 86,
                    "killedTasksSummary": {},
                    "name": "collect at StringIndexer.scala:204",
                    "numActiveStages": 0,
                    "numActiveTasks": 0,
                    "numCompletedIndices": 1,
                    "numCompletedStages": 1,
                    "numCompletedTasks": 1,
                    "numFailedStages": 0,
                    "numFailedTasks": 0,
                    "numKilledTasks": 0,
                    "numSkippedStages": 4,
                    "numSkippedTasks": 417,
                    "numTasks": 418,
                    "rowCount": 200,
                    "stageIds": [
                      204,
                      201,
                      205,
                      202,
                      203
                    ],
                    "status": "SUCCEEDED",
                    "submissionTime": "2023-11-30T22:22:29.931GMT",
                    "usageDescription": ""
                  },
                  {
                    "completionTime": "2023-11-30T22:22:29.882GMT",
                    "dataRead": 179236615,
                    "dataWritten": 110983,
                    "description": "Job group for statement 34:\nmodel_v2 = pipeline_model_v2.fit(train_data)",
                    "displayName": "collect at StringIndexer.scala:204",
                    "jobGroup": "34",
                    "jobId": 85,
                    "killedTasksSummary": {},
                    "name": "collect at StringIndexer.scala:204",
                    "numActiveStages": 0,
                    "numActiveTasks": 0,
                    "numCompletedIndices": 200,
                    "numCompletedStages": 1,
                    "numCompletedTasks": 200,
                    "numFailedStages": 0,
                    "numFailedTasks": 0,
                    "numKilledTasks": 0,
                    "numSkippedStages": 3,
                    "numSkippedTasks": 217,
                    "numTasks": 417,
                    "rowCount": 401,
                    "stageIds": [
                      197,
                      198,
                      199,
                      200
                    ],
                    "status": "SUCCEEDED",
                    "submissionTime": "2023-11-30T22:22:29.256GMT",
                    "usageDescription": ""
                  },
                  {
                    "completionTime": "2023-11-30T22:22:28.840GMT",
                    "dataRead": 104993,
                    "dataWritten": 0,
                    "description": "Job group for statement 34:\nmodel_v2 = pipeline_model_v2.fit(train_data)",
                    "displayName": "collect at StringIndexer.scala:204",
                    "jobGroup": "34",
                    "jobId": 84,
                    "killedTasksSummary": {},
                    "name": "collect at StringIndexer.scala:204",
                    "numActiveStages": 0,
                    "numActiveTasks": 0,
                    "numCompletedIndices": 1,
                    "numCompletedStages": 1,
                    "numCompletedTasks": 1,
                    "numFailedStages": 0,
                    "numFailedTasks": 0,
                    "numKilledTasks": 0,
                    "numSkippedStages": 4,
                    "numSkippedTasks": 417,
                    "numTasks": 418,
                    "rowCount": 200,
                    "stageIds": [
                      194,
                      195,
                      192,
                      196,
                      193
                    ],
                    "status": "SUCCEEDED",
                    "submissionTime": "2023-11-30T22:22:28.705GMT",
                    "usageDescription": ""
                  },
                  {
                    "completionTime": "2023-11-30T22:22:28.618GMT",
                    "dataRead": 181367612,
                    "dataWritten": 104993,
                    "description": "Job group for statement 34:\nmodel_v2 = pipeline_model_v2.fit(train_data)",
                    "displayName": "collect at StringIndexer.scala:204",
                    "jobGroup": "34",
                    "jobId": 83,
                    "killedTasksSummary": {},
                    "name": "collect at StringIndexer.scala:204",
                    "numActiveStages": 0,
                    "numActiveTasks": 0,
                    "numCompletedIndices": 200,
                    "numCompletedStages": 1,
                    "numCompletedTasks": 200,
                    "numFailedStages": 0,
                    "numFailedTasks": 0,
                    "numKilledTasks": 0,
                    "numSkippedStages": 3,
                    "numSkippedTasks": 217,
                    "numTasks": 417,
                    "rowCount": 401,
                    "stageIds": [
                      190,
                      191,
                      188,
                      189
                    ],
                    "status": "SUCCEEDED",
                    "submissionTime": "2023-11-30T22:22:27.983GMT",
                    "usageDescription": ""
                  }
                ],
                "limit": 20,
                "numbers": {
                  "FAILED": 0,
                  "RUNNING": 0,
                  "SUCCEEDED": 19,
                  "UNKNOWN": 0
                },
                "rule": "ALL_DESC"
              },
              "spark_pool": "d3c1b951-094c-48e1-919d-e32bc175397b",
              "state": "finished",
              "statement_id": 34
            },
            "text/plain": [
              "StatementMeta(d3c1b951-094c-48e1-919d-e32bc175397b, 49, 34, Finished, Available)"
            ]
          },
          "metadata": {},
          "output_type": "display_data"
        }
      ],
      "source": [
        "model_v2 = pipeline_model_v2.fit(train_data)"
      ]
    },
    {
      "cell_type": "code",
      "execution_count": 24,
      "metadata": {
        "gather": {
          "logged": 1701383217547
        },
        "jupyter": {
          "outputs_hidden": false,
          "source_hidden": false
        },
        "nteract": {
          "transient": {
            "deleting": false
          }
        }
      },
      "outputs": [
        {
          "data": {
            "application/vnd.livy.statement-meta+json": {
              "execution_finish_time": "2023-11-30T22:26:57.3577563Z",
              "execution_start_time": "2023-11-30T22:26:33.9652845Z",
              "livy_statement_state": "available",
              "parent_msg_id": "6648035e-069c-4034-a51b-8fc36e1b8fc0",
              "queued_time": "2023-11-30T22:23:03.711943Z",
              "session_id": "49",
              "session_start_time": null,
              "spark_jobs": {
                "jobs": [
                  {
                    "completionTime": "2023-11-30T22:26:53.510GMT",
                    "dataRead": 17095557,
                    "dataWritten": 11234364,
                    "description": "Job group for statement 35:\nmodel_v2.write().overwrite().save(\"Users/vankempenklaas/fall-2023-reddit-project-team-26/code/ml/model_files/popularity_model_v2\")",
                    "displayName": "parquet at treeModels.scala:491",
                    "jobGroup": "35",
                    "jobId": 123,
                    "killedTasksSummary": {},
                    "name": "parquet at treeModels.scala:491",
                    "numActiveStages": 0,
                    "numActiveTasks": 0,
                    "numCompletedIndices": 1,
                    "numCompletedStages": 1,
                    "numCompletedTasks": 1,
                    "numFailedStages": 0,
                    "numFailedTasks": 0,
                    "numKilledTasks": 0,
                    "numSkippedStages": 1,
                    "numSkippedTasks": 16,
                    "numTasks": 17,
                    "rowCount": 568916,
                    "stageIds": [
                      305,
                      306
                    ],
                    "status": "SUCCEEDED",
                    "submissionTime": "2023-11-30T22:26:51.161GMT",
                    "usageDescription": ""
                  },
                  {
                    "completionTime": "2023-11-30T22:26:51.101GMT",
                    "dataRead": 0,
                    "dataWritten": 17095557,
                    "description": "Job group for statement 35:\nmodel_v2.write().overwrite().save(\"Users/vankempenklaas/fall-2023-reddit-project-team-26/code/ml/model_files/popularity_model_v2\")",
                    "displayName": "parquet at treeModels.scala:491",
                    "jobGroup": "35",
                    "jobId": 122,
                    "killedTasksSummary": {},
                    "name": "parquet at treeModels.scala:491",
                    "numActiveStages": 0,
                    "numActiveTasks": 0,
                    "numCompletedIndices": 16,
                    "numCompletedStages": 1,
                    "numCompletedTasks": 16,
                    "numFailedStages": 0,
                    "numFailedTasks": 0,
                    "numKilledTasks": 0,
                    "numSkippedStages": 0,
                    "numSkippedTasks": 0,
                    "numTasks": 16,
                    "rowCount": 284458,
                    "stageIds": [
                      304
                    ],
                    "status": "SUCCEEDED",
                    "submissionTime": "2023-11-30T22:26:50.346GMT",
                    "usageDescription": ""
                  },
                  {
                    "completionTime": "2023-11-30T22:26:49.756GMT",
                    "dataRead": 26030,
                    "dataWritten": 18659,
                    "description": "Job group for statement 35:\nmodel_v2.write().overwrite().save(\"Users/vankempenklaas/fall-2023-reddit-project-team-26/code/ml/model_files/popularity_model_v2\")",
                    "displayName": "parquet at treeModels.scala:483",
                    "jobGroup": "35",
                    "jobId": 121,
                    "killedTasksSummary": {},
                    "name": "parquet at treeModels.scala:483",
                    "numActiveStages": 0,
                    "numActiveTasks": 0,
                    "numCompletedIndices": 1,
                    "numCompletedStages": 1,
                    "numCompletedTasks": 1,
                    "numFailedStages": 0,
                    "numFailedTasks": 0,
                    "numKilledTasks": 0,
                    "numSkippedStages": 1,
                    "numSkippedTasks": 16,
                    "numTasks": 17,
                    "rowCount": 400,
                    "stageIds": [
                      302,
                      303
                    ],
                    "status": "SUCCEEDED",
                    "submissionTime": "2023-11-30T22:26:49.111GMT",
                    "usageDescription": ""
                  },
                  {
                    "completionTime": "2023-11-30T22:26:49.061GMT",
                    "dataRead": 0,
                    "dataWritten": 26030,
                    "description": "Job group for statement 35:\nmodel_v2.write().overwrite().save(\"Users/vankempenklaas/fall-2023-reddit-project-team-26/code/ml/model_files/popularity_model_v2\")",
                    "displayName": "parquet at treeModels.scala:483",
                    "jobGroup": "35",
                    "jobId": 120,
                    "killedTasksSummary": {},
                    "name": "parquet at treeModels.scala:483",
                    "numActiveStages": 0,
                    "numActiveTasks": 0,
                    "numCompletedIndices": 16,
                    "numCompletedStages": 1,
                    "numCompletedTasks": 16,
                    "numFailedStages": 0,
                    "numFailedTasks": 0,
                    "numKilledTasks": 0,
                    "numSkippedStages": 0,
                    "numSkippedTasks": 0,
                    "numTasks": 16,
                    "rowCount": 200,
                    "stageIds": [
                      301
                    ],
                    "status": "SUCCEEDED",
                    "submissionTime": "2023-11-30T22:26:49.010GMT",
                    "usageDescription": ""
                  },
                  {
                    "completionTime": "2023-11-30T22:26:48.524GMT",
                    "dataRead": 0,
                    "dataWritten": 698,
                    "description": "Job group for statement 35:\nmodel_v2.write().overwrite().save(\"Users/vankempenklaas/fall-2023-reddit-project-team-26/code/ml/model_files/popularity_model_v2\")",
                    "displayName": "runJob at SparkHadoopWriter.scala:85",
                    "jobGroup": "35",
                    "jobId": 119,
                    "killedTasksSummary": {},
                    "name": "runJob at SparkHadoopWriter.scala:85",
                    "numActiveStages": 0,
                    "numActiveTasks": 0,
                    "numCompletedIndices": 1,
                    "numCompletedStages": 1,
                    "numCompletedTasks": 1,
                    "numFailedStages": 0,
                    "numFailedTasks": 0,
                    "numKilledTasks": 0,
                    "numSkippedStages": 0,
                    "numSkippedTasks": 0,
                    "numTasks": 1,
                    "rowCount": 1,
                    "stageIds": [
                      300
                    ],
                    "status": "SUCCEEDED",
                    "submissionTime": "2023-11-30T22:26:48.024GMT",
                    "usageDescription": ""
                  },
                  {
                    "completionTime": "2023-11-30T22:26:47.533GMT",
                    "dataRead": 0,
                    "dataWritten": 397,
                    "description": "Job group for statement 35:\nmodel_v2.write().overwrite().save(\"Users/vankempenklaas/fall-2023-reddit-project-team-26/code/ml/model_files/popularity_model_v2\")",
                    "displayName": "runJob at SparkHadoopWriter.scala:85",
                    "jobGroup": "35",
                    "jobId": 118,
                    "killedTasksSummary": {},
                    "name": "runJob at SparkHadoopWriter.scala:85",
                    "numActiveStages": 0,
                    "numActiveTasks": 0,
                    "numCompletedIndices": 1,
                    "numCompletedStages": 1,
                    "numCompletedTasks": 1,
                    "numFailedStages": 0,
                    "numFailedTasks": 0,
                    "numKilledTasks": 0,
                    "numSkippedStages": 0,
                    "numSkippedTasks": 0,
                    "numTasks": 1,
                    "rowCount": 1,
                    "stageIds": [
                      299
                    ],
                    "status": "SUCCEEDED",
                    "submissionTime": "2023-11-30T22:26:46.984GMT",
                    "usageDescription": ""
                  },
                  {
                    "completionTime": "2023-11-30T22:26:46.543GMT",
                    "dataRead": 74,
                    "dataWritten": 589,
                    "description": "Job group for statement 35:\nmodel_v2.write().overwrite().save(\"Users/vankempenklaas/fall-2023-reddit-project-team-26/code/ml/model_files/popularity_model_v2\")",
                    "displayName": "parquet at OneHotEncoder.scala:407",
                    "jobGroup": "35",
                    "jobId": 117,
                    "killedTasksSummary": {},
                    "name": "parquet at OneHotEncoder.scala:407",
                    "numActiveStages": 0,
                    "numActiveTasks": 0,
                    "numCompletedIndices": 1,
                    "numCompletedStages": 1,
                    "numCompletedTasks": 1,
                    "numFailedStages": 0,
                    "numFailedTasks": 0,
                    "numKilledTasks": 0,
                    "numSkippedStages": 1,
                    "numSkippedTasks": 1,
                    "numTasks": 2,
                    "rowCount": 2,
                    "stageIds": [
                      297,
                      298
                    ],
                    "status": "SUCCEEDED",
                    "submissionTime": "2023-11-30T22:26:45.886GMT",
                    "usageDescription": ""
                  },
                  {
                    "completionTime": "2023-11-30T22:26:45.829GMT",
                    "dataRead": 0,
                    "dataWritten": 74,
                    "description": "Job group for statement 35:\nmodel_v2.write().overwrite().save(\"Users/vankempenklaas/fall-2023-reddit-project-team-26/code/ml/model_files/popularity_model_v2\")",
                    "displayName": "parquet at OneHotEncoder.scala:407",
                    "jobGroup": "35",
                    "jobId": 116,
                    "killedTasksSummary": {},
                    "name": "parquet at OneHotEncoder.scala:407",
                    "numActiveStages": 0,
                    "numActiveTasks": 0,
                    "numCompletedIndices": 1,
                    "numCompletedStages": 1,
                    "numCompletedTasks": 1,
                    "numFailedStages": 0,
                    "numFailedTasks": 0,
                    "numKilledTasks": 0,
                    "numSkippedStages": 0,
                    "numSkippedTasks": 0,
                    "numTasks": 1,
                    "rowCount": 1,
                    "stageIds": [
                      296
                    ],
                    "status": "SUCCEEDED",
                    "submissionTime": "2023-11-30T22:26:45.803GMT",
                    "usageDescription": ""
                  },
                  {
                    "completionTime": "2023-11-30T22:26:45.404GMT",
                    "dataRead": 0,
                    "dataWritten": 336,
                    "description": "Job group for statement 35:\nmodel_v2.write().overwrite().save(\"Users/vankempenklaas/fall-2023-reddit-project-team-26/code/ml/model_files/popularity_model_v2\")",
                    "displayName": "runJob at SparkHadoopWriter.scala:85",
                    "jobGroup": "35",
                    "jobId": 115,
                    "killedTasksSummary": {},
                    "name": "runJob at SparkHadoopWriter.scala:85",
                    "numActiveStages": 0,
                    "numActiveTasks": 0,
                    "numCompletedIndices": 1,
                    "numCompletedStages": 1,
                    "numCompletedTasks": 1,
                    "numFailedStages": 0,
                    "numFailedTasks": 0,
                    "numKilledTasks": 0,
                    "numSkippedStages": 0,
                    "numSkippedTasks": 0,
                    "numTasks": 1,
                    "rowCount": 1,
                    "stageIds": [
                      295
                    ],
                    "status": "SUCCEEDED",
                    "submissionTime": "2023-11-30T22:26:44.847GMT",
                    "usageDescription": ""
                  },
                  {
                    "completionTime": "2023-11-30T22:26:44.429GMT",
                    "dataRead": 74,
                    "dataWritten": 589,
                    "description": "Job group for statement 35:\nmodel_v2.write().overwrite().save(\"Users/vankempenklaas/fall-2023-reddit-project-team-26/code/ml/model_files/popularity_model_v2\")",
                    "displayName": "parquet at OneHotEncoder.scala:407",
                    "jobGroup": "35",
                    "jobId": 114,
                    "killedTasksSummary": {},
                    "name": "parquet at OneHotEncoder.scala:407",
                    "numActiveStages": 0,
                    "numActiveTasks": 0,
                    "numCompletedIndices": 1,
                    "numCompletedStages": 1,
                    "numCompletedTasks": 1,
                    "numFailedStages": 0,
                    "numFailedTasks": 0,
                    "numKilledTasks": 0,
                    "numSkippedStages": 1,
                    "numSkippedTasks": 1,
                    "numTasks": 2,
                    "rowCount": 2,
                    "stageIds": [
                      293,
                      294
                    ],
                    "status": "SUCCEEDED",
                    "submissionTime": "2023-11-30T22:26:43.811GMT",
                    "usageDescription": ""
                  },
                  {
                    "completionTime": "2023-11-30T22:26:43.761GMT",
                    "dataRead": 0,
                    "dataWritten": 74,
                    "description": "Job group for statement 35:\nmodel_v2.write().overwrite().save(\"Users/vankempenklaas/fall-2023-reddit-project-team-26/code/ml/model_files/popularity_model_v2\")",
                    "displayName": "parquet at OneHotEncoder.scala:407",
                    "jobGroup": "35",
                    "jobId": 113,
                    "killedTasksSummary": {},
                    "name": "parquet at OneHotEncoder.scala:407",
                    "numActiveStages": 0,
                    "numActiveTasks": 0,
                    "numCompletedIndices": 1,
                    "numCompletedStages": 1,
                    "numCompletedTasks": 1,
                    "numFailedStages": 0,
                    "numFailedTasks": 0,
                    "numKilledTasks": 0,
                    "numSkippedStages": 0,
                    "numSkippedTasks": 0,
                    "numTasks": 1,
                    "rowCount": 1,
                    "stageIds": [
                      292
                    ],
                    "status": "SUCCEEDED",
                    "submissionTime": "2023-11-30T22:26:43.732GMT",
                    "usageDescription": ""
                  },
                  {
                    "completionTime": "2023-11-30T22:26:43.305GMT",
                    "dataRead": 0,
                    "dataWritten": 328,
                    "description": "Job group for statement 35:\nmodel_v2.write().overwrite().save(\"Users/vankempenklaas/fall-2023-reddit-project-team-26/code/ml/model_files/popularity_model_v2\")",
                    "displayName": "runJob at SparkHadoopWriter.scala:85",
                    "jobGroup": "35",
                    "jobId": 112,
                    "killedTasksSummary": {},
                    "name": "runJob at SparkHadoopWriter.scala:85",
                    "numActiveStages": 0,
                    "numActiveTasks": 0,
                    "numCompletedIndices": 1,
                    "numCompletedStages": 1,
                    "numCompletedTasks": 1,
                    "numFailedStages": 0,
                    "numFailedTasks": 0,
                    "numKilledTasks": 0,
                    "numSkippedStages": 0,
                    "numSkippedTasks": 0,
                    "numTasks": 1,
                    "rowCount": 1,
                    "stageIds": [
                      291
                    ],
                    "status": "SUCCEEDED",
                    "submissionTime": "2023-11-30T22:26:42.779GMT",
                    "usageDescription": ""
                  },
                  {
                    "completionTime": "2023-11-30T22:26:42.351GMT",
                    "dataRead": 104,
                    "dataWritten": 665,
                    "description": "Job group for statement 35:\nmodel_v2.write().overwrite().save(\"Users/vankempenklaas/fall-2023-reddit-project-team-26/code/ml/model_files/popularity_model_v2\")",
                    "displayName": "parquet at StringIndexer.scala:499",
                    "jobGroup": "35",
                    "jobId": 111,
                    "killedTasksSummary": {},
                    "name": "parquet at StringIndexer.scala:499",
                    "numActiveStages": 0,
                    "numActiveTasks": 0,
                    "numCompletedIndices": 1,
                    "numCompletedStages": 1,
                    "numCompletedTasks": 1,
                    "numFailedStages": 0,
                    "numFailedTasks": 0,
                    "numKilledTasks": 0,
                    "numSkippedStages": 1,
                    "numSkippedTasks": 1,
                    "numTasks": 2,
                    "rowCount": 2,
                    "stageIds": [
                      289,
                      290
                    ],
                    "status": "SUCCEEDED",
                    "submissionTime": "2023-11-30T22:26:41.647GMT",
                    "usageDescription": ""
                  },
                  {
                    "completionTime": "2023-11-30T22:26:41.597GMT",
                    "dataRead": 0,
                    "dataWritten": 104,
                    "description": "Job group for statement 35:\nmodel_v2.write().overwrite().save(\"Users/vankempenklaas/fall-2023-reddit-project-team-26/code/ml/model_files/popularity_model_v2\")",
                    "displayName": "parquet at StringIndexer.scala:499",
                    "jobGroup": "35",
                    "jobId": 110,
                    "killedTasksSummary": {},
                    "name": "parquet at StringIndexer.scala:499",
                    "numActiveStages": 0,
                    "numActiveTasks": 0,
                    "numCompletedIndices": 1,
                    "numCompletedStages": 1,
                    "numCompletedTasks": 1,
                    "numFailedStages": 0,
                    "numFailedTasks": 0,
                    "numKilledTasks": 0,
                    "numSkippedStages": 0,
                    "numSkippedTasks": 0,
                    "numTasks": 1,
                    "rowCount": 1,
                    "stageIds": [
                      288
                    ],
                    "status": "SUCCEEDED",
                    "submissionTime": "2023-11-30T22:26:41.575GMT",
                    "usageDescription": ""
                  },
                  {
                    "completionTime": "2023-11-30T22:26:41.095GMT",
                    "dataRead": 0,
                    "dataWritten": 374,
                    "description": "Job group for statement 35:\nmodel_v2.write().overwrite().save(\"Users/vankempenklaas/fall-2023-reddit-project-team-26/code/ml/model_files/popularity_model_v2\")",
                    "displayName": "runJob at SparkHadoopWriter.scala:85",
                    "jobGroup": "35",
                    "jobId": 109,
                    "killedTasksSummary": {},
                    "name": "runJob at SparkHadoopWriter.scala:85",
                    "numActiveStages": 0,
                    "numActiveTasks": 0,
                    "numCompletedIndices": 1,
                    "numCompletedStages": 1,
                    "numCompletedTasks": 1,
                    "numFailedStages": 0,
                    "numFailedTasks": 0,
                    "numKilledTasks": 0,
                    "numSkippedStages": 0,
                    "numSkippedTasks": 0,
                    "numTasks": 1,
                    "rowCount": 1,
                    "stageIds": [
                      287
                    ],
                    "status": "SUCCEEDED",
                    "submissionTime": "2023-11-30T22:26:40.539GMT",
                    "usageDescription": ""
                  },
                  {
                    "completionTime": "2023-11-30T22:26:40.116GMT",
                    "dataRead": 155,
                    "dataWritten": 697,
                    "description": "Job group for statement 35:\nmodel_v2.write().overwrite().save(\"Users/vankempenklaas/fall-2023-reddit-project-team-26/code/ml/model_files/popularity_model_v2\")",
                    "displayName": "parquet at StringIndexer.scala:499",
                    "jobGroup": "35",
                    "jobId": 108,
                    "killedTasksSummary": {},
                    "name": "parquet at StringIndexer.scala:499",
                    "numActiveStages": 0,
                    "numActiveTasks": 0,
                    "numCompletedIndices": 1,
                    "numCompletedStages": 1,
                    "numCompletedTasks": 1,
                    "numFailedStages": 0,
                    "numFailedTasks": 0,
                    "numKilledTasks": 0,
                    "numSkippedStages": 1,
                    "numSkippedTasks": 1,
                    "numTasks": 2,
                    "rowCount": 2,
                    "stageIds": [
                      285,
                      286
                    ],
                    "status": "SUCCEEDED",
                    "submissionTime": "2023-11-30T22:26:39.325GMT",
                    "usageDescription": ""
                  },
                  {
                    "completionTime": "2023-11-30T22:26:39.268GMT",
                    "dataRead": 0,
                    "dataWritten": 155,
                    "description": "Job group for statement 35:\nmodel_v2.write().overwrite().save(\"Users/vankempenklaas/fall-2023-reddit-project-team-26/code/ml/model_files/popularity_model_v2\")",
                    "displayName": "parquet at StringIndexer.scala:499",
                    "jobGroup": "35",
                    "jobId": 107,
                    "killedTasksSummary": {},
                    "name": "parquet at StringIndexer.scala:499",
                    "numActiveStages": 0,
                    "numActiveTasks": 0,
                    "numCompletedIndices": 1,
                    "numCompletedStages": 1,
                    "numCompletedTasks": 1,
                    "numFailedStages": 0,
                    "numFailedTasks": 0,
                    "numKilledTasks": 0,
                    "numSkippedStages": 0,
                    "numSkippedTasks": 0,
                    "numTasks": 1,
                    "rowCount": 1,
                    "stageIds": [
                      284
                    ],
                    "status": "SUCCEEDED",
                    "submissionTime": "2023-11-30T22:26:39.243GMT",
                    "usageDescription": ""
                  },
                  {
                    "completionTime": "2023-11-30T22:26:38.832GMT",
                    "dataRead": 0,
                    "dataWritten": 365,
                    "description": "Job group for statement 35:\nmodel_v2.write().overwrite().save(\"Users/vankempenklaas/fall-2023-reddit-project-team-26/code/ml/model_files/popularity_model_v2\")",
                    "displayName": "runJob at SparkHadoopWriter.scala:85",
                    "jobGroup": "35",
                    "jobId": 106,
                    "killedTasksSummary": {},
                    "name": "runJob at SparkHadoopWriter.scala:85",
                    "numActiveStages": 0,
                    "numActiveTasks": 0,
                    "numCompletedIndices": 1,
                    "numCompletedStages": 1,
                    "numCompletedTasks": 1,
                    "numFailedStages": 0,
                    "numFailedTasks": 0,
                    "numKilledTasks": 0,
                    "numSkippedStages": 0,
                    "numSkippedTasks": 0,
                    "numTasks": 1,
                    "rowCount": 1,
                    "stageIds": [
                      283
                    ],
                    "status": "SUCCEEDED",
                    "submissionTime": "2023-11-30T22:26:38.099GMT",
                    "usageDescription": ""
                  },
                  {
                    "completionTime": "2023-11-30T22:26:37.630GMT",
                    "dataRead": 123,
                    "dataWritten": 723,
                    "description": "Job group for statement 35:\nmodel_v2.write().overwrite().save(\"Users/vankempenklaas/fall-2023-reddit-project-team-26/code/ml/model_files/popularity_model_v2\")",
                    "displayName": "parquet at StringIndexer.scala:499",
                    "jobGroup": "35",
                    "jobId": 105,
                    "killedTasksSummary": {},
                    "name": "parquet at StringIndexer.scala:499",
                    "numActiveStages": 0,
                    "numActiveTasks": 0,
                    "numCompletedIndices": 1,
                    "numCompletedStages": 1,
                    "numCompletedTasks": 1,
                    "numFailedStages": 0,
                    "numFailedTasks": 0,
                    "numKilledTasks": 0,
                    "numSkippedStages": 1,
                    "numSkippedTasks": 1,
                    "numTasks": 2,
                    "rowCount": 2,
                    "stageIds": [
                      281,
                      282
                    ],
                    "status": "SUCCEEDED",
                    "submissionTime": "2023-11-30T22:26:36.543GMT",
                    "usageDescription": ""
                  },
                  {
                    "completionTime": "2023-11-30T22:26:36.489GMT",
                    "dataRead": 0,
                    "dataWritten": 123,
                    "description": "Job group for statement 35:\nmodel_v2.write().overwrite().save(\"Users/vankempenklaas/fall-2023-reddit-project-team-26/code/ml/model_files/popularity_model_v2\")",
                    "displayName": "parquet at StringIndexer.scala:499",
                    "jobGroup": "35",
                    "jobId": 104,
                    "killedTasksSummary": {},
                    "name": "parquet at StringIndexer.scala:499",
                    "numActiveStages": 0,
                    "numActiveTasks": 0,
                    "numCompletedIndices": 1,
                    "numCompletedStages": 1,
                    "numCompletedTasks": 1,
                    "numFailedStages": 0,
                    "numFailedTasks": 0,
                    "numKilledTasks": 0,
                    "numSkippedStages": 0,
                    "numSkippedTasks": 0,
                    "numTasks": 1,
                    "rowCount": 1,
                    "stageIds": [
                      280
                    ],
                    "status": "SUCCEEDED",
                    "submissionTime": "2023-11-30T22:26:36.468GMT",
                    "usageDescription": ""
                  }
                ],
                "limit": 20,
                "numbers": {
                  "FAILED": 0,
                  "RUNNING": 0,
                  "SUCCEEDED": 22,
                  "UNKNOWN": 0
                },
                "rule": "ALL_DESC"
              },
              "spark_pool": "d3c1b951-094c-48e1-919d-e32bc175397b",
              "state": "finished",
              "statement_id": 35
            },
            "text/plain": [
              "StatementMeta(d3c1b951-094c-48e1-919d-e32bc175397b, 49, 35, Finished, Available)"
            ]
          },
          "metadata": {},
          "output_type": "display_data"
        }
      ],
      "source": [
        "model_v2.write().overwrite().save(\"Users/vankempenklaas/fall-2023-reddit-project-team-26/code/ml/model_files/popularity_model_v2\")"
      ]
    },
    {
      "cell_type": "code",
      "execution_count": 25,
      "metadata": {
        "gather": {
          "logged": 1701383232641
        },
        "jupyter": {
          "outputs_hidden": false,
          "source_hidden": false
        },
        "nteract": {
          "transient": {
            "deleting": false
          }
        }
      },
      "outputs": [
        {
          "data": {
            "application/vnd.livy.statement-meta+json": {
              "execution_finish_time": "2023-11-30T22:27:12.4788486Z",
              "execution_start_time": "2023-11-30T22:26:57.4711553Z",
              "livy_statement_state": "available",
              "parent_msg_id": "351502ba-453d-4063-8dc7-0cc943057711",
              "queued_time": "2023-11-30T22:23:04.6559558Z",
              "session_id": "49",
              "session_start_time": null,
              "spark_jobs": {
                "jobs": [
                  {
                    "completionTime": "2023-11-30T22:27:10.444GMT",
                    "dataRead": 26614301,
                    "dataWritten": 12431468,
                    "description": "Job group for statement 36:\nloaded_model_v2 = PipelineModel.load(\"Users/vankempenklaas/fall-2023-reddit-project-team-26/code/ml/model_files/popularity_model_v2\")",
                    "displayName": "collect at treeModels.scala:549",
                    "jobGroup": "36",
                    "jobId": 154,
                    "killedTasksSummary": {},
                    "name": "collect at treeModels.scala:549",
                    "numActiveStages": 0,
                    "numActiveTasks": 0,
                    "numCompletedIndices": 6,
                    "numCompletedStages": 2,
                    "numCompletedTasks": 6,
                    "numFailedStages": 0,
                    "numFailedTasks": 0,
                    "numKilledTasks": 0,
                    "numSkippedStages": 1,
                    "numSkippedTasks": 3,
                    "numTasks": 9,
                    "rowCount": 284858,
                    "stageIds": [
                      339,
                      340,
                      341
                    ],
                    "status": "SUCCEEDED",
                    "submissionTime": "2023-11-30T22:27:06.753GMT",
                    "usageDescription": ""
                  },
                  {
                    "completionTime": "2023-11-30T22:27:06.734GMT",
                    "dataRead": 25427924,
                    "dataWritten": 14182833,
                    "description": "Job group for statement 36:\nloaded_model_v2 = PipelineModel.load(\"Users/vankempenklaas/fall-2023-reddit-project-team-26/code/ml/model_files/popularity_model_v2\")",
                    "displayName": "sortByKey at treeModels.scala:549",
                    "jobGroup": "36",
                    "jobId": 153,
                    "killedTasksSummary": {},
                    "name": "sortByKey at treeModels.scala:549",
                    "numActiveStages": 0,
                    "numActiveTasks": 0,
                    "numCompletedIndices": 6,
                    "numCompletedStages": 2,
                    "numCompletedTasks": 6,
                    "numFailedStages": 0,
                    "numFailedTasks": 0,
                    "numKilledTasks": 0,
                    "numSkippedStages": 0,
                    "numSkippedTasks": 0,
                    "numTasks": 6,
                    "rowCount": 853374,
                    "stageIds": [
                      338,
                      337
                    ],
                    "status": "SUCCEEDED",
                    "submissionTime": "2023-11-30T22:27:03.586GMT",
                    "usageDescription": ""
                  },
                  {
                    "completionTime": "2023-11-30T22:27:03.472GMT",
                    "dataRead": 0,
                    "dataWritten": 0,
                    "description": "Job group for statement 36:\nloaded_model_v2 = PipelineModel.load(\"Users/vankempenklaas/fall-2023-reddit-project-team-26/code/ml/model_files/popularity_model_v2\")",
                    "displayName": "parquet at treeModels.scala:532",
                    "jobGroup": "36",
                    "jobId": 152,
                    "killedTasksSummary": {},
                    "name": "parquet at treeModels.scala:532",
                    "numActiveStages": 0,
                    "numActiveTasks": 0,
                    "numCompletedIndices": 1,
                    "numCompletedStages": 1,
                    "numCompletedTasks": 1,
                    "numFailedStages": 0,
                    "numFailedTasks": 0,
                    "numKilledTasks": 0,
                    "numSkippedStages": 0,
                    "numSkippedTasks": 0,
                    "numTasks": 1,
                    "rowCount": 0,
                    "stageIds": [
                      336
                    ],
                    "status": "SUCCEEDED",
                    "submissionTime": "2023-11-30T22:27:03.317GMT",
                    "usageDescription": ""
                  },
                  {
                    "completionTime": "2023-11-30T22:27:03.151GMT",
                    "dataRead": 76596,
                    "dataWritten": 54207,
                    "description": "Job group for statement 36:\nloaded_model_v2 = PipelineModel.load(\"Users/vankempenklaas/fall-2023-reddit-project-team-26/code/ml/model_files/popularity_model_v2\")",
                    "displayName": "collect at treeModels.scala:527",
                    "jobGroup": "36",
                    "jobId": 151,
                    "killedTasksSummary": {},
                    "name": "collect at treeModels.scala:527",
                    "numActiveStages": 0,
                    "numActiveTasks": 0,
                    "numCompletedIndices": 2,
                    "numCompletedStages": 2,
                    "numCompletedTasks": 2,
                    "numFailedStages": 0,
                    "numFailedTasks": 0,
                    "numKilledTasks": 0,
                    "numSkippedStages": 0,
                    "numSkippedTasks": 0,
                    "numTasks": 2,
                    "rowCount": 600,
                    "stageIds": [
                      335,
                      334
                    ],
                    "status": "SUCCEEDED",
                    "submissionTime": "2023-11-30T22:27:02.512GMT",
                    "usageDescription": ""
                  },
                  {
                    "completionTime": "2023-11-30T22:27:02.340GMT",
                    "dataRead": 0,
                    "dataWritten": 0,
                    "description": "Job group for statement 36:\nloaded_model_v2 = PipelineModel.load(\"Users/vankempenklaas/fall-2023-reddit-project-team-26/code/ml/model_files/popularity_model_v2\")",
                    "displayName": "parquet at treeModels.scala:520",
                    "jobGroup": "36",
                    "jobId": 150,
                    "killedTasksSummary": {},
                    "name": "parquet at treeModels.scala:520",
                    "numActiveStages": 0,
                    "numActiveTasks": 0,
                    "numCompletedIndices": 1,
                    "numCompletedStages": 1,
                    "numCompletedTasks": 1,
                    "numFailedStages": 0,
                    "numFailedTasks": 0,
                    "numKilledTasks": 0,
                    "numSkippedStages": 0,
                    "numSkippedTasks": 0,
                    "numTasks": 1,
                    "rowCount": 0,
                    "stageIds": [
                      333
                    ],
                    "status": "SUCCEEDED",
                    "submissionTime": "2023-11-30T22:27:02.120GMT",
                    "usageDescription": ""
                  },
                  {
                    "completionTime": "2023-11-30T22:27:01.974GMT",
                    "dataRead": 698,
                    "dataWritten": 0,
                    "description": "Job group for statement 36:\nloaded_model_v2 = PipelineModel.load(\"Users/vankempenklaas/fall-2023-reddit-project-team-26/code/ml/model_files/popularity_model_v2\")",
                    "displayName": "first at ReadWrite.scala:587",
                    "jobGroup": "36",
                    "jobId": 149,
                    "killedTasksSummary": {},
                    "name": "first at ReadWrite.scala:587",
                    "numActiveStages": 0,
                    "numActiveTasks": 0,
                    "numCompletedIndices": 1,
                    "numCompletedStages": 1,
                    "numCompletedTasks": 1,
                    "numFailedStages": 0,
                    "numFailedTasks": 0,
                    "numKilledTasks": 0,
                    "numSkippedStages": 0,
                    "numSkippedTasks": 0,
                    "numTasks": 1,
                    "rowCount": 1,
                    "stageIds": [
                      332
                    ],
                    "status": "SUCCEEDED",
                    "submissionTime": "2023-11-30T22:27:01.913GMT",
                    "usageDescription": ""
                  },
                  {
                    "completionTime": "2023-11-30T22:27:01.842GMT",
                    "dataRead": 698,
                    "dataWritten": 0,
                    "description": "Job group for statement 36:\nloaded_model_v2 = PipelineModel.load(\"Users/vankempenklaas/fall-2023-reddit-project-team-26/code/ml/model_files/popularity_model_v2\")",
                    "displayName": "first at ReadWrite.scala:587",
                    "jobGroup": "36",
                    "jobId": 148,
                    "killedTasksSummary": {},
                    "name": "first at ReadWrite.scala:587",
                    "numActiveStages": 0,
                    "numActiveTasks": 0,
                    "numCompletedIndices": 1,
                    "numCompletedStages": 1,
                    "numCompletedTasks": 1,
                    "numFailedStages": 0,
                    "numFailedTasks": 0,
                    "numKilledTasks": 0,
                    "numSkippedStages": 0,
                    "numSkippedTasks": 0,
                    "numTasks": 1,
                    "rowCount": 1,
                    "stageIds": [
                      331
                    ],
                    "status": "SUCCEEDED",
                    "submissionTime": "2023-11-30T22:27:01.789GMT",
                    "usageDescription": ""
                  },
                  {
                    "completionTime": "2023-11-30T22:27:01.643GMT",
                    "dataRead": 397,
                    "dataWritten": 0,
                    "description": "Job group for statement 36:\nloaded_model_v2 = PipelineModel.load(\"Users/vankempenklaas/fall-2023-reddit-project-team-26/code/ml/model_files/popularity_model_v2\")",
                    "displayName": "first at ReadWrite.scala:587",
                    "jobGroup": "36",
                    "jobId": 147,
                    "killedTasksSummary": {},
                    "name": "first at ReadWrite.scala:587",
                    "numActiveStages": 0,
                    "numActiveTasks": 0,
                    "numCompletedIndices": 1,
                    "numCompletedStages": 1,
                    "numCompletedTasks": 1,
                    "numFailedStages": 0,
                    "numFailedTasks": 0,
                    "numKilledTasks": 0,
                    "numSkippedStages": 0,
                    "numSkippedTasks": 0,
                    "numTasks": 1,
                    "rowCount": 1,
                    "stageIds": [
                      330
                    ],
                    "status": "SUCCEEDED",
                    "submissionTime": "2023-11-30T22:27:01.586GMT",
                    "usageDescription": ""
                  },
                  {
                    "completionTime": "2023-11-30T22:27:01.494GMT",
                    "dataRead": 397,
                    "dataWritten": 0,
                    "description": "Job group for statement 36:\nloaded_model_v2 = PipelineModel.load(\"Users/vankempenklaas/fall-2023-reddit-project-team-26/code/ml/model_files/popularity_model_v2\")",
                    "displayName": "first at ReadWrite.scala:587",
                    "jobGroup": "36",
                    "jobId": 146,
                    "killedTasksSummary": {},
                    "name": "first at ReadWrite.scala:587",
                    "numActiveStages": 0,
                    "numActiveTasks": 0,
                    "numCompletedIndices": 1,
                    "numCompletedStages": 1,
                    "numCompletedTasks": 1,
                    "numFailedStages": 0,
                    "numFailedTasks": 0,
                    "numKilledTasks": 0,
                    "numSkippedStages": 0,
                    "numSkippedTasks": 0,
                    "numTasks": 1,
                    "rowCount": 1,
                    "stageIds": [
                      329
                    ],
                    "status": "SUCCEEDED",
                    "submissionTime": "2023-11-30T22:27:01.427GMT",
                    "usageDescription": ""
                  },
                  {
                    "completionTime": "2023-11-30T22:27:01.349GMT",
                    "dataRead": 1621,
                    "dataWritten": 0,
                    "description": "Job group for statement 36:\nloaded_model_v2 = PipelineModel.load(\"Users/vankempenklaas/fall-2023-reddit-project-team-26/code/ml/model_files/popularity_model_v2\")",
                    "displayName": "head at OneHotEncoder.scala:419",
                    "jobGroup": "36",
                    "jobId": 145,
                    "killedTasksSummary": {},
                    "name": "head at OneHotEncoder.scala:419",
                    "numActiveStages": 0,
                    "numActiveTasks": 0,
                    "numCompletedIndices": 1,
                    "numCompletedStages": 1,
                    "numCompletedTasks": 1,
                    "numFailedStages": 0,
                    "numFailedTasks": 0,
                    "numKilledTasks": 0,
                    "numSkippedStages": 0,
                    "numSkippedTasks": 0,
                    "numTasks": 1,
                    "rowCount": 1,
                    "stageIds": [
                      328
                    ],
                    "status": "SUCCEEDED",
                    "submissionTime": "2023-11-30T22:27:01.243GMT",
                    "usageDescription": ""
                  },
                  {
                    "completionTime": "2023-11-30T22:27:01.188GMT",
                    "dataRead": 0,
                    "dataWritten": 0,
                    "description": "Job group for statement 36:\nloaded_model_v2 = PipelineModel.load(\"Users/vankempenklaas/fall-2023-reddit-project-team-26/code/ml/model_files/popularity_model_v2\")",
                    "displayName": "parquet at OneHotEncoder.scala:418",
                    "jobGroup": "36",
                    "jobId": 144,
                    "killedTasksSummary": {},
                    "name": "parquet at OneHotEncoder.scala:418",
                    "numActiveStages": 0,
                    "numActiveTasks": 0,
                    "numCompletedIndices": 1,
                    "numCompletedStages": 1,
                    "numCompletedTasks": 1,
                    "numFailedStages": 0,
                    "numFailedTasks": 0,
                    "numKilledTasks": 0,
                    "numSkippedStages": 0,
                    "numSkippedTasks": 0,
                    "numTasks": 1,
                    "rowCount": 0,
                    "stageIds": [
                      327
                    ],
                    "status": "SUCCEEDED",
                    "submissionTime": "2023-11-30T22:27:01.107GMT",
                    "usageDescription": ""
                  },
                  {
                    "completionTime": "2023-11-30T22:27:00.932GMT",
                    "dataRead": 336,
                    "dataWritten": 0,
                    "description": "Job group for statement 36:\nloaded_model_v2 = PipelineModel.load(\"Users/vankempenklaas/fall-2023-reddit-project-team-26/code/ml/model_files/popularity_model_v2\")",
                    "displayName": "first at ReadWrite.scala:587",
                    "jobGroup": "36",
                    "jobId": 143,
                    "killedTasksSummary": {},
                    "name": "first at ReadWrite.scala:587",
                    "numActiveStages": 0,
                    "numActiveTasks": 0,
                    "numCompletedIndices": 1,
                    "numCompletedStages": 1,
                    "numCompletedTasks": 1,
                    "numFailedStages": 0,
                    "numFailedTasks": 0,
                    "numKilledTasks": 0,
                    "numSkippedStages": 0,
                    "numSkippedTasks": 0,
                    "numTasks": 1,
                    "rowCount": 1,
                    "stageIds": [
                      326
                    ],
                    "status": "SUCCEEDED",
                    "submissionTime": "2023-11-30T22:27:00.855GMT",
                    "usageDescription": ""
                  },
                  {
                    "completionTime": "2023-11-30T22:27:00.784GMT",
                    "dataRead": 336,
                    "dataWritten": 0,
                    "description": "Job group for statement 36:\nloaded_model_v2 = PipelineModel.load(\"Users/vankempenklaas/fall-2023-reddit-project-team-26/code/ml/model_files/popularity_model_v2\")",
                    "displayName": "first at ReadWrite.scala:587",
                    "jobGroup": "36",
                    "jobId": 142,
                    "killedTasksSummary": {},
                    "name": "first at ReadWrite.scala:587",
                    "numActiveStages": 0,
                    "numActiveTasks": 0,
                    "numCompletedIndices": 1,
                    "numCompletedStages": 1,
                    "numCompletedTasks": 1,
                    "numFailedStages": 0,
                    "numFailedTasks": 0,
                    "numKilledTasks": 0,
                    "numSkippedStages": 0,
                    "numSkippedTasks": 0,
                    "numTasks": 1,
                    "rowCount": 1,
                    "stageIds": [
                      325
                    ],
                    "status": "SUCCEEDED",
                    "submissionTime": "2023-11-30T22:27:00.725GMT",
                    "usageDescription": ""
                  },
                  {
                    "completionTime": "2023-11-30T22:27:00.658GMT",
                    "dataRead": 1621,
                    "dataWritten": 0,
                    "description": "Job group for statement 36:\nloaded_model_v2 = PipelineModel.load(\"Users/vankempenklaas/fall-2023-reddit-project-team-26/code/ml/model_files/popularity_model_v2\")",
                    "displayName": "head at OneHotEncoder.scala:419",
                    "jobGroup": "36",
                    "jobId": 141,
                    "killedTasksSummary": {},
                    "name": "head at OneHotEncoder.scala:419",
                    "numActiveStages": 0,
                    "numActiveTasks": 0,
                    "numCompletedIndices": 1,
                    "numCompletedStages": 1,
                    "numCompletedTasks": 1,
                    "numFailedStages": 0,
                    "numFailedTasks": 0,
                    "numKilledTasks": 0,
                    "numSkippedStages": 0,
                    "numSkippedTasks": 0,
                    "numTasks": 1,
                    "rowCount": 1,
                    "stageIds": [
                      324
                    ],
                    "status": "SUCCEEDED",
                    "submissionTime": "2023-11-30T22:27:00.521GMT",
                    "usageDescription": ""
                  },
                  {
                    "completionTime": "2023-11-30T22:27:00.466GMT",
                    "dataRead": 0,
                    "dataWritten": 0,
                    "description": "Job group for statement 36:\nloaded_model_v2 = PipelineModel.load(\"Users/vankempenklaas/fall-2023-reddit-project-team-26/code/ml/model_files/popularity_model_v2\")",
                    "displayName": "parquet at OneHotEncoder.scala:418",
                    "jobGroup": "36",
                    "jobId": 140,
                    "killedTasksSummary": {},
                    "name": "parquet at OneHotEncoder.scala:418",
                    "numActiveStages": 0,
                    "numActiveTasks": 0,
                    "numCompletedIndices": 1,
                    "numCompletedStages": 1,
                    "numCompletedTasks": 1,
                    "numFailedStages": 0,
                    "numFailedTasks": 0,
                    "numKilledTasks": 0,
                    "numSkippedStages": 0,
                    "numSkippedTasks": 0,
                    "numTasks": 1,
                    "rowCount": 0,
                    "stageIds": [
                      323
                    ],
                    "status": "SUCCEEDED",
                    "submissionTime": "2023-11-30T22:27:00.389GMT",
                    "usageDescription": ""
                  },
                  {
                    "completionTime": "2023-11-30T22:27:00.244GMT",
                    "dataRead": 328,
                    "dataWritten": 0,
                    "description": "Job group for statement 36:\nloaded_model_v2 = PipelineModel.load(\"Users/vankempenklaas/fall-2023-reddit-project-team-26/code/ml/model_files/popularity_model_v2\")",
                    "displayName": "first at ReadWrite.scala:587",
                    "jobGroup": "36",
                    "jobId": 139,
                    "killedTasksSummary": {},
                    "name": "first at ReadWrite.scala:587",
                    "numActiveStages": 0,
                    "numActiveTasks": 0,
                    "numCompletedIndices": 1,
                    "numCompletedStages": 1,
                    "numCompletedTasks": 1,
                    "numFailedStages": 0,
                    "numFailedTasks": 0,
                    "numKilledTasks": 0,
                    "numSkippedStages": 0,
                    "numSkippedTasks": 0,
                    "numTasks": 1,
                    "rowCount": 1,
                    "stageIds": [
                      322
                    ],
                    "status": "SUCCEEDED",
                    "submissionTime": "2023-11-30T22:27:00.192GMT",
                    "usageDescription": ""
                  },
                  {
                    "completionTime": "2023-11-30T22:27:00.112GMT",
                    "dataRead": 328,
                    "dataWritten": 0,
                    "description": "Job group for statement 36:\nloaded_model_v2 = PipelineModel.load(\"Users/vankempenklaas/fall-2023-reddit-project-team-26/code/ml/model_files/popularity_model_v2\")",
                    "displayName": "first at ReadWrite.scala:587",
                    "jobGroup": "36",
                    "jobId": 138,
                    "killedTasksSummary": {},
                    "name": "first at ReadWrite.scala:587",
                    "numActiveStages": 0,
                    "numActiveTasks": 0,
                    "numCompletedIndices": 1,
                    "numCompletedStages": 1,
                    "numCompletedTasks": 1,
                    "numFailedStages": 0,
                    "numFailedTasks": 0,
                    "numKilledTasks": 0,
                    "numSkippedStages": 0,
                    "numSkippedTasks": 0,
                    "numTasks": 1,
                    "rowCount": 1,
                    "stageIds": [
                      321
                    ],
                    "status": "SUCCEEDED",
                    "submissionTime": "2023-11-30T22:27:00.060GMT",
                    "usageDescription": ""
                  },
                  {
                    "completionTime": "2023-11-30T22:26:59.984GMT",
                    "dataRead": 1847,
                    "dataWritten": 0,
                    "description": "Job group for statement 36:\nloaded_model_v2 = PipelineModel.load(\"Users/vankempenklaas/fall-2023-reddit-project-team-26/code/ml/model_files/popularity_model_v2\")",
                    "displayName": "head at StringIndexer.scala:524",
                    "jobGroup": "36",
                    "jobId": 137,
                    "killedTasksSummary": {},
                    "name": "head at StringIndexer.scala:524",
                    "numActiveStages": 0,
                    "numActiveTasks": 0,
                    "numCompletedIndices": 1,
                    "numCompletedStages": 1,
                    "numCompletedTasks": 1,
                    "numFailedStages": 0,
                    "numFailedTasks": 0,
                    "numKilledTasks": 0,
                    "numSkippedStages": 0,
                    "numSkippedTasks": 0,
                    "numTasks": 1,
                    "rowCount": 1,
                    "stageIds": [
                      320
                    ],
                    "status": "SUCCEEDED",
                    "submissionTime": "2023-11-30T22:26:59.849GMT",
                    "usageDescription": ""
                  },
                  {
                    "completionTime": "2023-11-30T22:26:59.785GMT",
                    "dataRead": 0,
                    "dataWritten": 0,
                    "description": "Job group for statement 36:\nloaded_model_v2 = PipelineModel.load(\"Users/vankempenklaas/fall-2023-reddit-project-team-26/code/ml/model_files/popularity_model_v2\")",
                    "displayName": "parquet at StringIndexer.scala:523",
                    "jobGroup": "36",
                    "jobId": 136,
                    "killedTasksSummary": {},
                    "name": "parquet at StringIndexer.scala:523",
                    "numActiveStages": 0,
                    "numActiveTasks": 0,
                    "numCompletedIndices": 1,
                    "numCompletedStages": 1,
                    "numCompletedTasks": 1,
                    "numFailedStages": 0,
                    "numFailedTasks": 0,
                    "numKilledTasks": 0,
                    "numSkippedStages": 0,
                    "numSkippedTasks": 0,
                    "numTasks": 1,
                    "rowCount": 0,
                    "stageIds": [
                      319
                    ],
                    "status": "SUCCEEDED",
                    "submissionTime": "2023-11-30T22:26:59.700GMT",
                    "usageDescription": ""
                  },
                  {
                    "completionTime": "2023-11-30T22:26:59.558GMT",
                    "dataRead": 374,
                    "dataWritten": 0,
                    "description": "Job group for statement 36:\nloaded_model_v2 = PipelineModel.load(\"Users/vankempenklaas/fall-2023-reddit-project-team-26/code/ml/model_files/popularity_model_v2\")",
                    "displayName": "first at ReadWrite.scala:587",
                    "jobGroup": "36",
                    "jobId": 135,
                    "killedTasksSummary": {},
                    "name": "first at ReadWrite.scala:587",
                    "numActiveStages": 0,
                    "numActiveTasks": 0,
                    "numCompletedIndices": 1,
                    "numCompletedStages": 1,
                    "numCompletedTasks": 1,
                    "numFailedStages": 0,
                    "numFailedTasks": 0,
                    "numKilledTasks": 0,
                    "numSkippedStages": 0,
                    "numSkippedTasks": 0,
                    "numTasks": 1,
                    "rowCount": 1,
                    "stageIds": [
                      318
                    ],
                    "status": "SUCCEEDED",
                    "submissionTime": "2023-11-30T22:26:59.497GMT",
                    "usageDescription": ""
                  }
                ],
                "limit": 20,
                "numbers": {
                  "FAILED": 0,
                  "RUNNING": 0,
                  "SUCCEEDED": 31,
                  "UNKNOWN": 0
                },
                "rule": "ALL_DESC"
              },
              "spark_pool": "d3c1b951-094c-48e1-919d-e32bc175397b",
              "state": "finished",
              "statement_id": 36
            },
            "text/plain": [
              "StatementMeta(d3c1b951-094c-48e1-919d-e32bc175397b, 49, 36, Finished, Available)"
            ]
          },
          "metadata": {},
          "output_type": "display_data"
        }
      ],
      "source": [
        "loaded_model_v2 = PipelineModel.load(\"Users/vankempenklaas/fall-2023-reddit-project-team-26/code/ml/model_files/popularity_model_v2\")"
      ]
    },
    {
      "cell_type": "code",
      "execution_count": 26,
      "metadata": {
        "gather": {
          "logged": 1701383240731
        },
        "jupyter": {
          "outputs_hidden": false,
          "source_hidden": false
        },
        "nteract": {
          "transient": {
            "deleting": false
          }
        }
      },
      "outputs": [
        {
          "data": {
            "application/vnd.livy.statement-meta+json": {
              "execution_finish_time": "2023-11-30T22:27:20.5834785Z",
              "execution_start_time": "2023-11-30T22:27:12.5875779Z",
              "livy_statement_state": "available",
              "parent_msg_id": "5b9cdfa0-dbfb-400d-87d7-f2e50369b163",
              "queued_time": "2023-11-30T22:23:07.511159Z",
              "session_id": "49",
              "session_start_time": null,
              "spark_jobs": {
                "jobs": [],
                "limit": 20,
                "numbers": {
                  "FAILED": 0,
                  "RUNNING": 0,
                  "SUCCEEDED": 0,
                  "UNKNOWN": 0
                },
                "rule": "ALL_DESC"
              },
              "spark_pool": "d3c1b951-094c-48e1-919d-e32bc175397b",
              "state": "finished",
              "statement_id": 37
            },
            "text/plain": [
              "StatementMeta(d3c1b951-094c-48e1-919d-e32bc175397b, 49, 37, Finished, Available)"
            ]
          },
          "metadata": {},
          "output_type": "display_data"
        }
      ],
      "source": [
        "test_predictions = loaded_model_v2.transform(test_data)\n",
        "train_predictions = loaded_model_v2.transform(train_data)"
      ]
    },
    {
      "cell_type": "code",
      "execution_count": 96,
      "metadata": {
        "gather": {
          "logged": 1701364751155
        },
        "jupyter": {
          "outputs_hidden": false,
          "source_hidden": false
        },
        "nteract": {
          "transient": {
            "deleting": false
          }
        }
      },
      "outputs": [
        {
          "data": {
            "application/vnd.livy.statement-meta+json": {
              "execution_finish_time": "2023-11-30T17:19:10.8532359Z",
              "execution_start_time": "2023-11-30T17:18:49.4171899Z",
              "livy_statement_state": "available",
              "parent_msg_id": "2856f0c5-af21-490b-a6fc-25b0aef20f2f",
              "queued_time": "2023-11-30T17:18:49.2999139Z",
              "session_id": "48",
              "session_start_time": null,
              "spark_jobs": {
                "jobs": [
                  {
                    "completionTime": "2023-11-30T17:19:09.220GMT",
                    "dataRead": 185225292,
                    "dataWritten": 71251,
                    "description": "Job group for statement 101:\nevaluator = RegressionEvaluator(labelCol=\"score\", predictionCol=\"prediction\", metricName=\"rmse\")\ntest_rmse = evaluator.evaluate(test_predictions)\ntrain_rmse = evaluator.evaluate(train_predictions)\nprint(\"Root Mean Squared Error (RMSE) on test data = {:.2f}\".format(test_rmse))\nprint(\"Root Mean Squared Error (RMSE) on train data = {:.2f}\".format(train_rmse))",
                    "displayName": "treeAggregate at Statistics.scala:58",
                    "jobGroup": "101",
                    "jobId": 194,
                    "killedTasksSummary": {},
                    "name": "treeAggregate at Statistics.scala:58",
                    "numActiveStages": 0,
                    "numActiveTasks": 0,
                    "numCompletedIndices": 213,
                    "numCompletedStages": 2,
                    "numCompletedTasks": 213,
                    "numFailedStages": 0,
                    "numFailedTasks": 0,
                    "numKilledTasks": 0,
                    "numSkippedStages": 3,
                    "numSkippedTasks": 217,
                    "numTasks": 430,
                    "rowCount": 601,
                    "stageIds": [
                      470,
                      471,
                      468,
                      472,
                      469
                    ],
                    "status": "SUCCEEDED",
                    "submissionTime": "2023-11-30T17:18:57.836GMT",
                    "usageDescription": ""
                  },
                  {
                    "completionTime": "2023-11-30T17:18:57.708GMT",
                    "dataRead": 255543779,
                    "dataWritten": 6035,
                    "description": "Job group for statement 101:\nevaluator = RegressionEvaluator(labelCol=\"score\", predictionCol=\"prediction\", metricName=\"rmse\")\ntest_rmse = evaluator.evaluate(test_predictions)\ntrain_rmse = evaluator.evaluate(train_predictions)\nprint(\"Root Mean Squared Error (RMSE) on test data = {:.2f}\".format(test_rmse))\nprint(\"Root Mean Squared Error (RMSE) on train data = {:.2f}\".format(train_rmse))",
                    "displayName": "treeAggregate at Statistics.scala:58",
                    "jobGroup": "101",
                    "jobId": 193,
                    "killedTasksSummary": {},
                    "name": "treeAggregate at Statistics.scala:58",
                    "numActiveStages": 0,
                    "numActiveTasks": 0,
                    "numCompletedIndices": 20,
                    "numCompletedStages": 2,
                    "numCompletedTasks": 20,
                    "numFailedStages": 0,
                    "numFailedTasks": 0,
                    "numKilledTasks": 0,
                    "numSkippedStages": 3,
                    "numSkippedTasks": 217,
                    "numTasks": 237,
                    "rowCount": 865506,
                    "stageIds": [
                      466,
                      463,
                      467,
                      464,
                      465
                    ],
                    "status": "SUCCEEDED",
                    "submissionTime": "2023-11-30T17:18:52.923GMT",
                    "usageDescription": ""
                  },
                  {
                    "completionTime": "2023-11-30T17:18:52.846GMT",
                    "dataRead": 218309603,
                    "dataWritten": 255537744,
                    "description": "Job group for statement 101:\nevaluator = RegressionEvaluator(labelCol=\"score\", predictionCol=\"prediction\", metricName=\"rmse\")\ntest_rmse = evaluator.evaluate(test_predictions)\ntrain_rmse = evaluator.evaluate(train_predictions)\nprint(\"Root Mean Squared Error (RMSE) on test data = {:.2f}\".format(test_rmse))\nprint(\"Root Mean Squared Error (RMSE) on train data = {:.2f}\".format(train_rmse))",
                    "displayName": "rdd at RegressionEvaluator.scala:125",
                    "jobGroup": "101",
                    "jobId": 192,
                    "killedTasksSummary": {},
                    "name": "rdd at RegressionEvaluator.scala:125",
                    "numActiveStages": 0,
                    "numActiveTasks": 0,
                    "numCompletedIndices": 200,
                    "numCompletedStages": 1,
                    "numCompletedTasks": 200,
                    "numFailedStages": 0,
                    "numFailedTasks": 0,
                    "numKilledTasks": 0,
                    "numSkippedStages": 2,
                    "numSkippedTasks": 17,
                    "numTasks": 217,
                    "rowCount": 865672,
                    "stageIds": [
                      462,
                      460,
                      461
                    ],
                    "status": "SUCCEEDED",
                    "submissionTime": "2023-11-30T17:18:49.503GMT",
                    "usageDescription": ""
                  }
                ],
                "limit": 20,
                "numbers": {
                  "FAILED": 0,
                  "RUNNING": 0,
                  "SUCCEEDED": 3,
                  "UNKNOWN": 0
                },
                "rule": "ALL_DESC"
              },
              "spark_pool": "d3c1b951-094c-48e1-919d-e32bc175397b",
              "state": "finished",
              "statement_id": 101
            },
            "text/plain": [
              "StatementMeta(d3c1b951-094c-48e1-919d-e32bc175397b, 48, 101, Finished, Available)"
            ]
          },
          "metadata": {},
          "output_type": "display_data"
        },
        {
          "name": "stdout",
          "output_type": "stream",
          "text": [
            "Root Mean Squared Error (RMSE) on test data = 37.25\n",
            "Root Mean Squared Error (RMSE) on train data = 39.33\n"
          ]
        }
      ],
      "source": [
        "evaluator = RegressionEvaluator(labelCol=\"score\", predictionCol=\"prediction\", metricName=\"rmse\")\n",
        "test_rmse = evaluator.evaluate(test_predictions)\n",
        "train_rmse = evaluator.evaluate(train_predictions)\n",
        "print(\"Root Mean Squared Error (RMSE) on test data = {:.2f}\".format(test_rmse))\n",
        "print(\"Root Mean Squared Error (RMSE) on train data = {:.2f}\".format(train_rmse))"
      ]
    },
    {
      "cell_type": "code",
      "execution_count": 27,
      "metadata": {
        "gather": {
          "logged": 1701383257947
        },
        "jupyter": {
          "outputs_hidden": false,
          "source_hidden": false
        },
        "nteract": {
          "transient": {
            "deleting": false
          }
        }
      },
      "outputs": [
        {
          "data": {
            "application/vnd.livy.statement-meta+json": {
              "execution_finish_time": "2023-11-30T22:27:37.4378321Z",
              "execution_start_time": "2023-11-30T22:27:20.6935927Z",
              "livy_statement_state": "available",
              "parent_msg_id": "48bc6f5b-f2ca-4d0f-b016-c2eb82433581",
              "queued_time": "2023-11-30T22:23:10.2079146Z",
              "session_id": "49",
              "session_start_time": null,
              "spark_jobs": {
                "jobs": [
                  {
                    "completionTime": "2023-11-30T22:27:34.402GMT",
                    "dataRead": 255537744,
                    "dataWritten": 0,
                    "description": "Job group for statement 38:\npredictions_df = test_predictions.sample(fraction = 0.07, seed = 92).select(\"prediction\").toPandas()\ntrue_labels_df = test_predictions.sample(fraction = 0.07, seed = 92).select(\"score\").toPandas()",
                    "displayName": "toPandas at /tmp/ipykernel_8191/95333478.py:2",
                    "jobGroup": "38",
                    "jobId": 158,
                    "killedTasksSummary": {},
                    "name": "toPandas at /tmp/ipykernel_8191/95333478.py:2",
                    "numActiveStages": 0,
                    "numActiveTasks": 0,
                    "numCompletedIndices": 17,
                    "numCompletedStages": 1,
                    "numCompletedTasks": 17,
                    "numFailedStages": 0,
                    "numFailedTasks": 0,
                    "numKilledTasks": 0,
                    "numSkippedStages": 3,
                    "numSkippedTasks": 217,
                    "numTasks": 234,
                    "rowCount": 865472,
                    "stageIds": [
                      353,
                      354,
                      355,
                      352
                    ],
                    "status": "SUCCEEDED",
                    "submissionTime": "2023-11-30T22:27:32.452GMT",
                    "usageDescription": ""
                  },
                  {
                    "completionTime": "2023-11-30T22:27:32.387GMT",
                    "dataRead": 210735708,
                    "dataWritten": 255537744,
                    "description": "Job group for statement 38:\npredictions_df = test_predictions.sample(fraction = 0.07, seed = 92).select(\"prediction\").toPandas()\ntrue_labels_df = test_predictions.sample(fraction = 0.07, seed = 92).select(\"score\").toPandas()",
                    "displayName": "toPandas at /tmp/ipykernel_8191/95333478.py:2",
                    "jobGroup": "38",
                    "jobId": 157,
                    "killedTasksSummary": {},
                    "name": "toPandas at /tmp/ipykernel_8191/95333478.py:2",
                    "numActiveStages": 0,
                    "numActiveTasks": 0,
                    "numCompletedIndices": 200,
                    "numCompletedStages": 1,
                    "numCompletedTasks": 200,
                    "numFailedStages": 0,
                    "numFailedTasks": 0,
                    "numKilledTasks": 0,
                    "numSkippedStages": 2,
                    "numSkippedTasks": 17,
                    "numTasks": 217,
                    "rowCount": 865672,
                    "stageIds": [
                      350,
                      351,
                      349
                    ],
                    "status": "SUCCEEDED",
                    "submissionTime": "2023-11-30T22:27:28.382GMT",
                    "usageDescription": ""
                  },
                  {
                    "completionTime": "2023-11-30T22:27:28.249GMT",
                    "dataRead": 255537744,
                    "dataWritten": 0,
                    "description": "Job group for statement 38:\npredictions_df = test_predictions.sample(fraction = 0.07, seed = 92).select(\"prediction\").toPandas()\ntrue_labels_df = test_predictions.sample(fraction = 0.07, seed = 92).select(\"score\").toPandas()",
                    "displayName": "toPandas at /tmp/ipykernel_8191/95333478.py:1",
                    "jobGroup": "38",
                    "jobId": 156,
                    "killedTasksSummary": {},
                    "name": "toPandas at /tmp/ipykernel_8191/95333478.py:1",
                    "numActiveStages": 0,
                    "numActiveTasks": 0,
                    "numCompletedIndices": 17,
                    "numCompletedStages": 1,
                    "numCompletedTasks": 17,
                    "numFailedStages": 0,
                    "numFailedTasks": 0,
                    "numKilledTasks": 0,
                    "numSkippedStages": 3,
                    "numSkippedTasks": 217,
                    "numTasks": 234,
                    "rowCount": 865472,
                    "stageIds": [
                      347,
                      348,
                      345,
                      346
                    ],
                    "status": "SUCCEEDED",
                    "submissionTime": "2023-11-30T22:27:25.917GMT",
                    "usageDescription": ""
                  },
                  {
                    "completionTime": "2023-11-30T22:27:25.838GMT",
                    "dataRead": 206561398,
                    "dataWritten": 255537744,
                    "description": "Job group for statement 38:\npredictions_df = test_predictions.sample(fraction = 0.07, seed = 92).select(\"prediction\").toPandas()\ntrue_labels_df = test_predictions.sample(fraction = 0.07, seed = 92).select(\"score\").toPandas()",
                    "displayName": "toPandas at /tmp/ipykernel_8191/95333478.py:1",
                    "jobGroup": "38",
                    "jobId": 155,
                    "killedTasksSummary": {},
                    "name": "toPandas at /tmp/ipykernel_8191/95333478.py:1",
                    "numActiveStages": 0,
                    "numActiveTasks": 0,
                    "numCompletedIndices": 200,
                    "numCompletedStages": 1,
                    "numCompletedTasks": 200,
                    "numFailedStages": 0,
                    "numFailedTasks": 0,
                    "numKilledTasks": 0,
                    "numSkippedStages": 2,
                    "numSkippedTasks": 17,
                    "numTasks": 217,
                    "rowCount": 865672,
                    "stageIds": [
                      342,
                      343,
                      344
                    ],
                    "status": "SUCCEEDED",
                    "submissionTime": "2023-11-30T22:27:20.869GMT",
                    "usageDescription": ""
                  }
                ],
                "limit": 20,
                "numbers": {
                  "FAILED": 0,
                  "RUNNING": 0,
                  "SUCCEEDED": 4,
                  "UNKNOWN": 0
                },
                "rule": "ALL_DESC"
              },
              "spark_pool": "d3c1b951-094c-48e1-919d-e32bc175397b",
              "state": "finished",
              "statement_id": 38
            },
            "text/plain": [
              "StatementMeta(d3c1b951-094c-48e1-919d-e32bc175397b, 49, 38, Finished, Available)"
            ]
          },
          "metadata": {},
          "output_type": "display_data"
        }
      ],
      "source": [
        "predictions_df = test_predictions.sample(fraction = 0.07, seed = 92).select(\"prediction\").toPandas()\n",
        "true_labels_df = test_predictions.sample(fraction = 0.07, seed = 92).select(\"score\").toPandas()"
      ]
    },
    {
      "cell_type": "code",
      "execution_count": 28,
      "metadata": {
        "gather": {
          "logged": 1701383265099
        },
        "jupyter": {
          "outputs_hidden": false,
          "source_hidden": false
        },
        "nteract": {
          "transient": {
            "deleting": false
          }
        }
      },
      "outputs": [
        {
          "data": {
            "application/vnd.livy.statement-meta+json": {
              "execution_finish_time": "2023-11-30T22:27:44.4787646Z",
              "execution_start_time": "2023-11-30T22:27:43.6661103Z",
              "livy_statement_state": "available",
              "parent_msg_id": "92efec00-415f-4986-bc16-ce2b4247feec",
              "queued_time": "2023-11-30T22:27:43.5722907Z",
              "session_id": "49",
              "session_start_time": null,
              "spark_jobs": {
                "jobs": [],
                "limit": 20,
                "numbers": {
                  "FAILED": 0,
                  "RUNNING": 0,
                  "SUCCEEDED": 0,
                  "UNKNOWN": 0
                },
                "rule": "ALL_DESC"
              },
              "spark_pool": "d3c1b951-094c-48e1-919d-e32bc175397b",
              "state": "finished",
              "statement_id": 39
            },
            "text/plain": [
              "StatementMeta(d3c1b951-094c-48e1-919d-e32bc175397b, 49, 39, Finished, Available)"
            ]
          },
          "metadata": {},
          "output_type": "display_data"
        },
        {
          "data": {
            "image/png": "[encoded data removed]",
            "text/plain": [
              "<Figure size 432x288 with 1 Axes>"
            ]
          },
          "metadata": {
            "needs_background": "light"
          },
          "output_type": "display_data"
        }
      ],
      "source": [
        "# plot true values against predicted values\n",
        "plt.scatter(true_labels_df, predictions_df, alpha=0.5, s = 10, c = [\"darkgreen\"])\n",
        "plt.title(\"True vs Predicted Score (More Complex Model)\\n\", fontsize = 16)\n",
        "plt.xlabel(\"True Score \\n\\n (X axis limited to -20 to 80 for readability)\", fontsize = 14)\n",
        "plt.ylabel(\"Predicted Score\", fontsize = 14)\n",
        "plt.ylim([-20,80])\n",
        "plt.xlim([-20,80])\n",
        "plt.xticks(fontsize = 12)\n",
        "plt.yticks(fontsize = 12)\n",
        "plt.savefig(\"Users/vankempenklaas/fall-2023-reddit-project-team-26/data/plots/ml_q1_complexmodel_plot.png\")\n",
        "plt.show()"
      ]
    },
    {
      "cell_type": "code",
      "execution_count": 110,
      "metadata": {
        "gather": {
          "logged": 1701365044460
        },
        "jupyter": {
          "outputs_hidden": false,
          "source_hidden": false
        },
        "nteract": {
          "transient": {
            "deleting": false
          }
        }
      },
      "outputs": [
        {
          "data": {
            "application/vnd.livy.statement-meta+json": {
              "execution_finish_time": "2023-11-30T17:24:04.2107317Z",
              "execution_start_time": "2023-11-30T17:24:03.8480389Z",
              "livy_statement_state": "available",
              "parent_msg_id": "ad849af6-d1ab-47f0-bff1-d802cdb5e8f4",
              "queued_time": "2023-11-30T17:24:03.7080502Z",
              "session_id": "48",
              "session_start_time": null,
              "spark_jobs": {
                "jobs": [],
                "limit": 20,
                "numbers": {
                  "FAILED": 0,
                  "RUNNING": 0,
                  "SUCCEEDED": 0,
                  "UNKNOWN": 0
                },
                "rule": "ALL_DESC"
              },
              "spark_pool": "d3c1b951-094c-48e1-919d-e32bc175397b",
              "state": "finished",
              "statement_id": 115
            },
            "text/plain": [
              "StatementMeta(d3c1b951-094c-48e1-919d-e32bc175397b, 48, 115, Finished, Available)"
            ]
          },
          "metadata": {},
          "output_type": "display_data"
        },
        {
          "name": "stdout",
          "output_type": "stream",
          "text": [
            " Complex Model Feature Importance\n",
            "╒═════════════════╤══════════════╕\n",
            "│ feature         │   importance │\n",
            "╞═════════════════╪══════════════╡\n",
            "│ comment_length  │   0.21808    │\n",
            "├─────────────────┼──────────────┤\n",
            "│ author_activity │   0.203866   │\n",
            "├─────────────────┼──────────────┤\n",
            "│ hour            │   0.203269   │\n",
            "├─────────────────┼──────────────┤\n",
            "│ day             │   0.184356   │\n",
            "├─────────────────┼──────────────┤\n",
            "│ month_vec       │   0.0172099  │\n",
            "├─────────────────┼──────────────┤\n",
            "│ team_index      │   0.0103959  │\n",
            "├─────────────────┼──────────────┤\n",
            "│ sentiment_vec   │   0.00865863 │\n",
            "├─────────────────┼──────────────┤\n",
            "│ year            │   0.00547859 │\n",
            "╘═════════════════╧══════════════╛\n"
          ]
        }
      ],
      "source": [
        "importances = loaded_model_v2.stages[-1].featureImportances\n",
        "\n",
        "var_imp = pd.DataFrame(list(zip(feature_cols, importances)),columns=['feature', 'importance'])\n",
        "var_imp.sort_values(by = \"importance\", ascending=False, inplace=True)\n",
        "print(\" Complex Model Feature Importance\")\n",
        "print(tabulate(var_imp.set_index(\"feature\"), headers='keys', tablefmt='fancy_grid'))"
      ]
    },
    {
      "cell_type": "code",
      "execution_count": null,
      "metadata": {
        "jupyter": {
          "outputs_hidden": false,
          "source_hidden": false
        },
        "nteract": {
          "transient": {
            "deleting": false
          }
        }
      },
      "outputs": [],
      "source": []
    }
  ],
  "metadata": {
    "kernel_info": {
      "name": "synapse_pyspark"
    },
    "kernelspec": {
      "display_name": "Synapse PySpark",
      "language": "Python",
      "name": "synapse_pyspark"
    },
    "language_info": {
      "codemirror_mode": "ipython",
      "file_extension": ".py",
      "mimetype": "text/x-python",
      "name": "python",
      "nbconvert_exporter": "python",
      "pygments_lexer": "ipython",
      "version": "3.8.0"
    },
    "microsoft": {
      "host": {
        "AzureML": {
          "notebookHasBeenCompleted": true
        }
      },
      "ms_spell_check": {
        "ms_spell_check_language": "en"
      }
    },
    "nteract": {
      "version": "nteract-front-end@1.0.0"
    }
  },
  "nbformat": 4,
  "nbformat_minor": 2
}

{
  "cells": [
    {
      "cell_type": "raw",
      "metadata": {},
      "source": [
        "---\n",
        "format: html\n",
        "embed-resources: True\n",
        "execute:\n",
        " eval: false\n",
        "---"
      ]
    },
    {
      "cell_type": "markdown",
      "metadata": {},
      "source": [
        "# EDA Dataframe\n",
        "\n",
        "This section covers:\n",
        "\n",
        "1. Data Cleaning\n",
        "2. Dataframe Analysis\n",
        "3. Creating New Variables"
      ]
    },
    {
      "cell_type": "code",
      "execution_count": null,
      "metadata": {
        "gather": {
          "logged": 1699545400815
        }
      },
      "outputs": [],
      "source": [
        "#| output: false\n",
        "#| echo: false\n",
        "spark"
      ]
    },
    {
      "cell_type": "markdown",
      "metadata": {
        "nteract": {
          "transient": {
            "deleting": false
          }
        }
      },
      "source": [
        "### Loading Intermediate Data\n",
        "\n",
        "Here we load the intermediate data which includes 2 datasets: `Comments` and `Submissions`. These datasets include all the Reddit posts between September 2021 and April 2022 (The approximate length of the College Basketball Season). No additional cleaning has already been done on this data "
      ]
    },
    {
      "cell_type": "code",
      "execution_count": 4,
      "metadata": {
        "gather": {
          "logged": 1699545438594
        },
        "jupyter": {
          "outputs_hidden": false,
          "source_hidden": false
        },
        "nteract": {
          "transient": {
            "deleting": false
          }
        }
      },
      "outputs": [
        {
          "data": {
            "application/vnd.livy.statement-meta+json": {
              "execution_finish_time": "2023-11-09T15:57:17.6396002Z",
              "execution_start_time": "2023-11-09T15:57:17.292871Z",
              "livy_statement_state": "available",
              "parent_msg_id": "3666c1ef-94bf-42db-af0e-4cdd2428ad3e",
              "queued_time": "2023-11-09T15:57:08.427651Z",
              "session_id": "16",
              "session_start_time": null,
              "spark_jobs": {
                "jobs": [],
                "limit": 20,
                "numbers": {
                  "FAILED": 0,
                  "RUNNING": 0,
                  "SUCCEEDED": 0,
                  "UNKNOWN": 0
                },
                "rule": "ALL_DESC"
              },
              "spark_pool": "d3c1b951-094c-48e1-919d-e32bc175397b",
              "state": "finished",
              "statement_id": 9
            },
            "text/plain": [
              "StatementMeta(d3c1b951-094c-48e1-919d-e32bc175397b, 16, 9, Finished, Available)"
            ]
          },
          "metadata": {},
          "output_type": "display_data"
        }
      ],
      "source": [
        "#| output: false\n",
        "\n",
        "## Necessary Libraries\n",
        "import pandas as pd\n",
        "import matplotlib.pyplot as plt\n",
        "import seaborn as sns\n",
        "from pyspark.sql.functions import *\n",
        "\n",
        "workspace_default_storage_account = \"aml6214727930\"\n",
        "workspace_default_container = \"azureml-blobstore-6653633b-3460-4381-9199-d9e0f368353c\"\n",
        "\n",
        "workspace_wasbs_base_url = (\n",
        "    f\"wasbs://{workspace_default_container}@{workspace_default_storage_account}.blob.core.windows.net/\"\n",
        ")\n",
        "\n",
        "comments_path = \"/basketball_comments_sep.parquet\"\n",
        "submissions_path = \"/basketball_submissions_sep.parquet\"\n",
        "\n",
        "comments = spark.read.parquet(f\"{workspace_wasbs_base_url}{comments_path}\")\n",
        "submissions = spark.read.parquet(f\"{workspace_wasbs_base_url}{submissions_path}\")\n",
        "submissions = submissions.cache()\n",
        "comments = comments.cache()"
      ]
    },
    {
      "cell_type": "markdown",
      "metadata": {
        "nteract": {
          "transient": {
            "deleting": false
          }
        }
      },
      "source": [
        "### Exploring the Data"
      ]
    },
    {
      "cell_type": "markdown",
      "metadata": {
        "nteract": {
          "transient": {
            "deleting": false
          }
        }
      },
      "source": [
        "#### Data Shape and Schema\n",
        "\n",
        "The breakdown of the 3 subreddits by number of posts is heavily imbalanced as is expected. In submissions there are just over 22,000 posts and in comments there are just over 1,575,000 comments. The majority of these posts come from the CollegeBasketball subreddit. "
      ]
    },
    {
      "cell_type": "code",
      "execution_count": 8,
      "metadata": {
        "gather": {
          "logged": 1699375642672
        },
        "jupyter": {
          "outputs_hidden": false,
          "source_hidden": false
        },
        "nteract": {
          "transient": {
            "deleting": false
          }
        }
      },
      "outputs": [
        {
          "data": {
            "application/vnd.livy.statement-meta+json": {
              "execution_finish_time": "2023-11-07T16:47:22.5066285Z",
              "execution_start_time": "2023-11-07T16:46:04.1212955Z",
              "livy_statement_state": "available",
              "parent_msg_id": "6bab632e-5a20-4966-8af2-9accf855185a",
              "queued_time": "2023-11-07T16:46:03.9867842Z",
              "session_id": "14",
              "session_start_time": null,
              "spark_jobs": {
                "jobs": [
                  {
                    "completionTime": "2023-11-07T16:47:21.426GMT",
                    "dataRead": 39894,
                    "dataWritten": 0,
                    "description": "Job group for statement 13:\nprint(\"Count of Submissions by Subreddit\")\nprint(submissions.groupBy('subreddit').count().show())\n\nprint(\"Count of Comments by Subreddit\")\nprint(comments.groupBy('subreddit').count().show())",
                    "displayName": "showString at NativeMethodAccessorImpl.java:0",
                    "jobGroup": "13",
                    "jobId": 7,
                    "killedTasksSummary": {},
                    "name": "showString at NativeMethodAccessorImpl.java:0",
                    "numActiveStages": 0,
                    "numActiveTasks": 0,
                    "numCompletedIndices": 1,
                    "numCompletedStages": 1,
                    "numCompletedTasks": 1,
                    "numFailedStages": 0,
                    "numFailedTasks": 0,
                    "numKilledTasks": 0,
                    "numSkippedStages": 1,
                    "numSkippedTasks": 182,
                    "numTasks": 183,
                    "rowCount": 516,
                    "stageIds": [
                      9,
                      10
                    ],
                    "status": "SUCCEEDED",
                    "submissionTime": "2023-11-07T16:47:21.217GMT",
                    "usageDescription": ""
                  },
                  {
                    "completionTime": "2023-11-07T16:47:21.125GMT",
                    "dataRead": 192935219,
                    "dataWritten": 39894,
                    "description": "Job group for statement 13:\nprint(\"Count of Submissions by Subreddit\")\nprint(submissions.groupBy('subreddit').count().show())\n\nprint(\"Count of Comments by Subreddit\")\nprint(comments.groupBy('subreddit').count().show())",
                    "displayName": "showString at NativeMethodAccessorImpl.java:0",
                    "jobGroup": "13",
                    "jobId": 6,
                    "killedTasksSummary": {},
                    "name": "showString at NativeMethodAccessorImpl.java:0",
                    "numActiveStages": 0,
                    "numActiveTasks": 0,
                    "numCompletedIndices": 182,
                    "numCompletedStages": 1,
                    "numCompletedTasks": 182,
                    "numFailedStages": 0,
                    "numFailedTasks": 0,
                    "numKilledTasks": 0,
                    "numSkippedStages": 0,
                    "numSkippedTasks": 0,
                    "numTasks": 182,
                    "rowCount": 1575686,
                    "stageIds": [
                      8
                    ],
                    "status": "SUCCEEDED",
                    "submissionTime": "2023-11-07T16:46:25.353GMT",
                    "usageDescription": ""
                  },
                  {
                    "completionTime": "2023-11-07T16:46:25.092GMT",
                    "dataRead": 14533,
                    "dataWritten": 0,
                    "description": "Job group for statement 13:\nprint(\"Count of Submissions by Subreddit\")\nprint(submissions.groupBy('subreddit').count().show())\n\nprint(\"Count of Comments by Subreddit\")\nprint(comments.groupBy('subreddit').count().show())",
                    "displayName": "showString at NativeMethodAccessorImpl.java:0",
                    "jobGroup": "13",
                    "jobId": 5,
                    "killedTasksSummary": {},
                    "name": "showString at NativeMethodAccessorImpl.java:0",
                    "numActiveStages": 0,
                    "numActiveTasks": 0,
                    "numCompletedIndices": 1,
                    "numCompletedStages": 1,
                    "numCompletedTasks": 1,
                    "numFailedStages": 0,
                    "numFailedTasks": 0,
                    "numKilledTasks": 0,
                    "numSkippedStages": 1,
                    "numSkippedTasks": 64,
                    "numTasks": 65,
                    "rowCount": 189,
                    "stageIds": [
                      6,
                      7
                    ],
                    "status": "SUCCEEDED",
                    "submissionTime": "2023-11-07T16:46:24.746GMT",
                    "usageDescription": ""
                  },
                  {
                    "completionTime": "2023-11-07T16:46:24.447GMT",
                    "dataRead": 19785875,
                    "dataWritten": 14533,
                    "description": "Job group for statement 13:\nprint(\"Count of Submissions by Subreddit\")\nprint(submissions.groupBy('subreddit').count().show())\n\nprint(\"Count of Comments by Subreddit\")\nprint(comments.groupBy('subreddit').count().show())",
                    "displayName": "showString at NativeMethodAccessorImpl.java:0",
                    "jobGroup": "13",
                    "jobId": 4,
                    "killedTasksSummary": {},
                    "name": "showString at NativeMethodAccessorImpl.java:0",
                    "numActiveStages": 0,
                    "numActiveTasks": 0,
                    "numCompletedIndices": 64,
                    "numCompletedStages": 1,
                    "numCompletedTasks": 64,
                    "numFailedStages": 0,
                    "numFailedTasks": 0,
                    "numKilledTasks": 0,
                    "numSkippedStages": 0,
                    "numSkippedTasks": 0,
                    "numTasks": 64,
                    "rowCount": 22341,
                    "stageIds": [
                      5
                    ],
                    "status": "SUCCEEDED",
                    "submissionTime": "2023-11-07T16:46:04.465GMT",
                    "usageDescription": ""
                  }
                ],
                "limit": 20,
                "numbers": {
                  "FAILED": 0,
                  "RUNNING": 0,
                  "SUCCEEDED": 4,
                  "UNKNOWN": 0
                },
                "rule": "ALL_DESC"
              },
              "spark_pool": "d3c1b951-094c-48e1-919d-e32bc175397b",
              "state": "finished",
              "statement_id": 13
            },
            "text/plain": [
              "StatementMeta(d3c1b951-094c-48e1-919d-e32bc175397b, 14, 13, Finished, Available)"
            ]
          },
          "metadata": {},
          "output_type": "display_data"
        },
        {
          "name": "stdout",
          "output_type": "stream",
          "text": [
            "Count of Submissions by Subreddit\n",
            "+-----------------+-----+\n",
            "|        subreddit|count|\n",
            "+-----------------+-----+\n",
            "|         jayhawks|  632|\n",
            "|CollegeBasketball|21290|\n",
            "|         tarheels|  230|\n",
            "+-----------------+-----+\n",
            "\n",
            "None\n",
            "Count of Comments by Subreddit\n",
            "+-----------------+-------+\n",
            "|        subreddit|  count|\n",
            "+-----------------+-------+\n",
            "|         jayhawks|   6541|\n",
            "|CollegeBasketball|1567801|\n",
            "|         tarheels|    828|\n",
            "+-----------------+-------+\n",
            "\n",
            "None\n"
          ]
        }
      ],
      "source": [
        "print(\"Count of Submissions by Subreddit\")\n",
        "print(submissions.groupBy('subreddit').count().show())\n",
        "\n",
        "print(\"Count of Comments by Subreddit\")\n",
        "print(comments.groupBy('subreddit').count().show())"
      ]
    },
    {
      "cell_type": "markdown",
      "metadata": {
        "nteract": {
          "transient": {
            "deleting": false
          }
        }
      },
      "source": [
        "The important variables in the submissions dataframe are \n",
        "\n",
        "1. `subreddit`: The Subreddit that the post is in\n",
        "2. `author` : Who authored the post\n",
        "3. `selftext` : The contents of the post\n",
        "4. `created_utc` : The timestamp of the post\n",
        "\n",
        "The important variables in the comments dataframe are \n",
        "\n",
        "1. `subreddit`: The Subreddit that the post is in\n",
        "2. `author` : Who authored the post\n",
        "3. `body` : The contents of the post\n",
        "4. `created_utc` : The timestamp of the post"
      ]
    },
    {
      "cell_type": "code",
      "execution_count": 12,
      "metadata": {
        "gather": {
          "logged": 1699375674532
        },
        "jupyter": {
          "outputs_hidden": false,
          "source_hidden": false
        },
        "nteract": {
          "transient": {
            "deleting": false
          }
        }
      },
      "outputs": [
        {
          "data": {
            "application/vnd.livy.statement-meta+json": {
              "execution_finish_time": "2023-11-07T16:47:54.4145766Z",
              "execution_start_time": "2023-11-07T16:47:54.067456Z",
              "livy_statement_state": "available",
              "parent_msg_id": "75a3c748-af68-4f67-af11-4532009a79f5",
              "queued_time": "2023-11-07T16:47:53.9163368Z",
              "session_id": "14",
              "session_start_time": null,
              "spark_jobs": {
                "jobs": [],
                "limit": 20,
                "numbers": {
                  "FAILED": 0,
                  "RUNNING": 0,
                  "SUCCEEDED": 0,
                  "UNKNOWN": 0
                },
                "rule": "ALL_DESC"
              },
              "spark_pool": "d3c1b951-094c-48e1-919d-e32bc175397b",
              "state": "finished",
              "statement_id": 17
            },
            "text/plain": [
              "StatementMeta(d3c1b951-094c-48e1-919d-e32bc175397b, 14, 17, Finished, Available)"
            ]
          },
          "metadata": {},
          "output_type": "display_data"
        },
        {
          "name": "stdout",
          "output_type": "stream",
          "text": [
            "Submissions Schema\n",
            "root\n",
            " |-- subreddit: string (nullable = true)\n",
            " |-- author: string (nullable = true)\n",
            " |-- author_flair_text: string (nullable = true)\n",
            " |-- title: string (nullable = true)\n",
            " |-- selftext: string (nullable = true)\n",
            " |-- created_utc: timestamp (nullable = true)\n",
            " |-- num_comments: long (nullable = true)\n",
            "\n",
            "Comments Schema\n",
            "root\n",
            " |-- subreddit: string (nullable = true)\n",
            " |-- author: string (nullable = true)\n",
            " |-- author_flair_text: string (nullable = true)\n",
            " |-- body: string (nullable = true)\n",
            " |-- parent_id: string (nullable = true)\n",
            " |-- link_id: string (nullable = true)\n",
            " |-- id: string (nullable = true)\n",
            " |-- created_utc: timestamp (nullable = true)\n",
            "\n"
          ]
        }
      ],
      "source": [
        "print(\"Submissions Schema\")\n",
        "submissions.printSchema()\n",
        "\n",
        "print(\"Comments Schema\")\n",
        "comments.printSchema()"
      ]
    },
    {
      "cell_type": "markdown",
      "metadata": {
        "nteract": {
          "transient": {
            "deleting": false
          }
        }
      },
      "source": [
        "#### Missing Data\n",
        "\n",
        "Since Reddit is a user driven platform there will likely be issues with missing text in posts or deleted posts/comments. Lets check for missing data before we proceed."
      ]
    },
    {
      "cell_type": "code",
      "execution_count": 7,
      "metadata": {
        "gather": {
          "logged": 1699545538140
        },
        "jupyter": {
          "outputs_hidden": false,
          "source_hidden": false
        },
        "nteract": {
          "transient": {
            "deleting": false
          }
        }
      },
      "outputs": [
        {
          "data": {
            "application/vnd.livy.statement-meta+json": {
              "execution_finish_time": "2023-11-09T15:58:57.7182994Z",
              "execution_start_time": "2023-11-09T15:57:36.412107Z",
              "livy_statement_state": "available",
              "parent_msg_id": "69dde660-3707-43d1-b94e-52755dcce346",
              "queued_time": "2023-11-09T15:57:34.0194919Z",
              "session_id": "16",
              "session_start_time": null,
              "spark_jobs": {
                "jobs": [
                  {
                    "completionTime": "2023-11-09T15:58:56.823GMT",
                    "dataRead": 10738,
                    "dataWritten": 0,
                    "description": "Job group for statement 12:\n# Submissions\nmissing_values = [\"\", \"[deleted]\", \"[removed]\"]\nmissing_df = submissions.withColumn(\"selftext\", when(col(\"selftext\").isin(missing_values), None).otherwise(col(\"selftext\")))\nmissing_data_count = missing_df.filter(col(\"selftext\").isNull()).count()\nprint(\"Missing Text Column in Submissions =\",missing_data_count)\n# Comments\nmissing_df_c = comments.withColumn(\"body\", when(col(\"body\").isin(missing_values), None).otherwise(col(\"body\")))\nmissing_data_count = missing_df_c.filter(col(\"body\").isNull()).count()\nprint(\"Missing Text Column in Comments =\",missing_data_count)",
                    "displayName": "count at NativeMethodAccessorImpl.java:0",
                    "jobGroup": "12",
                    "jobId": 5,
                    "killedTasksSummary": {},
                    "name": "count at NativeMethodAccessorImpl.java:0",
                    "numActiveStages": 0,
                    "numActiveTasks": 0,
                    "numCompletedIndices": 1,
                    "numCompletedStages": 1,
                    "numCompletedTasks": 1,
                    "numFailedStages": 0,
                    "numFailedTasks": 0,
                    "numKilledTasks": 0,
                    "numSkippedStages": 1,
                    "numSkippedTasks": 182,
                    "numTasks": 183,
                    "rowCount": 182,
                    "stageIds": [
                      6,
                      7
                    ],
                    "status": "SUCCEEDED",
                    "submissionTime": "2023-11-09T15:58:56.506GMT",
                    "usageDescription": ""
                  },
                  {
                    "completionTime": "2023-11-09T15:58:56.461GMT",
                    "dataRead": 192935219,
                    "dataWritten": 10738,
                    "description": "Job group for statement 12:\n# Submissions\nmissing_values = [\"\", \"[deleted]\", \"[removed]\"]\nmissing_df = submissions.withColumn(\"selftext\", when(col(\"selftext\").isin(missing_values), None).otherwise(col(\"selftext\")))\nmissing_data_count = missing_df.filter(col(\"selftext\").isNull()).count()\nprint(\"Missing Text Column in Submissions =\",missing_data_count)\n# Comments\nmissing_df_c = comments.withColumn(\"body\", when(col(\"body\").isin(missing_values), None).otherwise(col(\"body\")))\nmissing_data_count = missing_df_c.filter(col(\"body\").isNull()).count()\nprint(\"Missing Text Column in Comments =\",missing_data_count)",
                    "displayName": "count at NativeMethodAccessorImpl.java:0",
                    "jobGroup": "12",
                    "jobId": 4,
                    "killedTasksSummary": {},
                    "name": "count at NativeMethodAccessorImpl.java:0",
                    "numActiveStages": 0,
                    "numActiveTasks": 0,
                    "numCompletedIndices": 182,
                    "numCompletedStages": 1,
                    "numCompletedTasks": 182,
                    "numFailedStages": 0,
                    "numFailedTasks": 0,
                    "numKilledTasks": 0,
                    "numSkippedStages": 0,
                    "numSkippedTasks": 0,
                    "numTasks": 182,
                    "rowCount": 1575352,
                    "stageIds": [
                      5
                    ],
                    "status": "SUCCEEDED",
                    "submissionTime": "2023-11-09T15:58:02.377GMT",
                    "usageDescription": ""
                  },
                  {
                    "completionTime": "2023-11-09T15:58:01.979GMT",
                    "dataRead": 3776,
                    "dataWritten": 0,
                    "description": "Job group for statement 12:\n# Submissions\nmissing_values = [\"\", \"[deleted]\", \"[removed]\"]\nmissing_df = submissions.withColumn(\"selftext\", when(col(\"selftext\").isin(missing_values), None).otherwise(col(\"selftext\")))\nmissing_data_count = missing_df.filter(col(\"selftext\").isNull()).count()\nprint(\"Missing Text Column in Submissions =\",missing_data_count)\n# Comments\nmissing_df_c = comments.withColumn(\"body\", when(col(\"body\").isin(missing_values), None).otherwise(col(\"body\")))\nmissing_data_count = missing_df_c.filter(col(\"body\").isNull()).count()\nprint(\"Missing Text Column in Comments =\",missing_data_count)",
                    "displayName": "count at NativeMethodAccessorImpl.java:0",
                    "jobGroup": "12",
                    "jobId": 3,
                    "killedTasksSummary": {},
                    "name": "count at NativeMethodAccessorImpl.java:0",
                    "numActiveStages": 0,
                    "numActiveTasks": 0,
                    "numCompletedIndices": 1,
                    "numCompletedStages": 1,
                    "numCompletedTasks": 1,
                    "numFailedStages": 0,
                    "numFailedTasks": 0,
                    "numKilledTasks": 0,
                    "numSkippedStages": 1,
                    "numSkippedTasks": 64,
                    "numTasks": 65,
                    "rowCount": 64,
                    "stageIds": [
                      3,
                      4
                    ],
                    "status": "SUCCEEDED",
                    "submissionTime": "2023-11-09T15:58:01.611GMT",
                    "usageDescription": ""
                  },
                  {
                    "completionTime": "2023-11-09T15:58:01.492GMT",
                    "dataRead": 20654375,
                    "dataWritten": 3776,
                    "description": "Job group for statement 12:\n# Submissions\nmissing_values = [\"\", \"[deleted]\", \"[removed]\"]\nmissing_df = submissions.withColumn(\"selftext\", when(col(\"selftext\").isin(missing_values), None).otherwise(col(\"selftext\")))\nmissing_data_count = missing_df.filter(col(\"selftext\").isNull()).count()\nprint(\"Missing Text Column in Submissions =\",missing_data_count)\n# Comments\nmissing_df_c = comments.withColumn(\"body\", when(col(\"body\").isin(missing_values), None).otherwise(col(\"body\")))\nmissing_data_count = missing_df_c.filter(col(\"body\").isNull()).count()\nprint(\"Missing Text Column in Comments =\",missing_data_count)",
                    "displayName": "count at NativeMethodAccessorImpl.java:0",
                    "jobGroup": "12",
                    "jobId": 2,
                    "killedTasksSummary": {},
                    "name": "count at NativeMethodAccessorImpl.java:0",
                    "numActiveStages": 0,
                    "numActiveTasks": 0,
                    "numCompletedIndices": 64,
                    "numCompletedStages": 1,
                    "numCompletedTasks": 64,
                    "numFailedStages": 0,
                    "numFailedTasks": 0,
                    "numKilledTasks": 0,
                    "numSkippedStages": 0,
                    "numSkippedTasks": 0,
                    "numTasks": 64,
                    "rowCount": 22216,
                    "stageIds": [
                      2
                    ],
                    "status": "SUCCEEDED",
                    "submissionTime": "2023-11-09T15:57:37.899GMT",
                    "usageDescription": ""
                  }
                ],
                "limit": 20,
                "numbers": {
                  "FAILED": 0,
                  "RUNNING": 0,
                  "SUCCEEDED": 4,
                  "UNKNOWN": 0
                },
                "rule": "ALL_DESC"
              },
              "spark_pool": "d3c1b951-094c-48e1-919d-e32bc175397b",
              "state": "finished",
              "statement_id": 12
            },
            "text/plain": [
              "StatementMeta(d3c1b951-094c-48e1-919d-e32bc175397b, 16, 12, Finished, Available)"
            ]
          },
          "metadata": {},
          "output_type": "display_data"
        },
        {
          "name": "stdout",
          "output_type": "stream",
          "text": [
            "Missing Text Column in Submissions = 12348\n",
            "Missing Text Column in Comments = 85295\n"
          ]
        }
      ],
      "source": [
        "# Submissions\n",
        "missing_values = [\"\", \"[deleted]\", \"[removed]\"]\n",
        "missing_df = submissions.withColumn(\"selftext\", when(col(\"selftext\").isin(missing_values), None).otherwise(col(\"selftext\")))\n",
        "missing_data_count = missing_df.filter(col(\"selftext\").isNull()).count()\n",
        "print(\"Missing Text Column in Submissions =\",missing_data_count)\n",
        "# Comments\n",
        "missing_df_c = comments.withColumn(\"body\", when(col(\"body\").isin(missing_values), None).otherwise(col(\"body\")))\n",
        "missing_data_count = missing_df_c.filter(col(\"body\").isNull()).count()\n",
        "print(\"Missing Text Column in Comments =\",missing_data_count)"
      ]
    },
    {
      "cell_type": "markdown",
      "metadata": {
        "nteract": {
          "transient": {
            "deleting": false
          }
        }
      },
      "source": [
        "There are over 12,000 missing posts in `Submissions` and around 85,000 missing comments in `Comments`. We will remove these before doing further analysis"
      ]
    },
    {
      "cell_type": "code",
      "execution_count": 8,
      "metadata": {
        "gather": {
          "logged": 1699545538653
        },
        "jupyter": {
          "outputs_hidden": false,
          "source_hidden": false
        },
        "nteract": {
          "transient": {
            "deleting": false
          }
        }
      },
      "outputs": [
        {
          "data": {
            "application/vnd.livy.statement-meta+json": {
              "execution_finish_time": "2023-11-09T15:58:58.2564799Z",
              "execution_start_time": "2023-11-09T15:58:57.9048968Z",
              "livy_statement_state": "available",
              "parent_msg_id": "6d0a2cfa-1384-4851-9fb9-f1da0e6186b6",
              "queued_time": "2023-11-09T15:57:37.5883663Z",
              "session_id": "16",
              "session_start_time": null,
              "spark_jobs": {
                "jobs": [],
                "limit": 20,
                "numbers": {
                  "FAILED": 0,
                  "RUNNING": 0,
                  "SUCCEEDED": 0,
                  "UNKNOWN": 0
                },
                "rule": "ALL_DESC"
              },
              "spark_pool": "d3c1b951-094c-48e1-919d-e32bc175397b",
              "state": "finished",
              "statement_id": 13
            },
            "text/plain": [
              "StatementMeta(d3c1b951-094c-48e1-919d-e32bc175397b, 16, 13, Finished, Available)"
            ]
          },
          "metadata": {},
          "output_type": "display_data"
        }
      ],
      "source": [
        "submissions = missing_df.na.drop(subset=[\"selftext\"])\n",
        "comments = missing_df_c.na.drop(subset = [\"body\"])"
      ]
    },
    {
      "cell_type": "markdown",
      "metadata": {
        "nteract": {
          "transient": {
            "deleting": false
          }
        }
      },
      "source": [
        "The new counts of the subreddits with missing removed show about half of the submission data remaining, but a large portion of the comments data is intact."
      ]
    },
    {
      "cell_type": "code",
      "execution_count": 23,
      "metadata": {
        "gather": {
          "logged": 1699376511509
        },
        "jupyter": {
          "outputs_hidden": false,
          "source_hidden": false
        },
        "nteract": {
          "transient": {
            "deleting": false
          }
        }
      },
      "outputs": [
        {
          "data": {
            "application/vnd.livy.statement-meta+json": {
              "execution_finish_time": "2023-11-07T17:01:51.3511124Z",
              "execution_start_time": "2023-11-07T17:01:48.7263341Z",
              "livy_statement_state": "available",
              "parent_msg_id": "10081c32-afde-4178-9747-50bc95afe9c6",
              "queued_time": "2023-11-07T17:01:48.5896457Z",
              "session_id": "14",
              "session_start_time": null,
              "spark_jobs": {
                "jobs": [
                  {
                    "completionTime": "2023-11-07T17:01:50.658GMT",
                    "dataRead": 39825,
                    "dataWritten": 0,
                    "description": "Job group for statement 28:\nprint(\"Count of Submissions by Subreddit with Missing Removed\")\nprint(submissions.groupBy('subreddit').count().show())\n\nprint(\"Count of Comments by Subreddit with Missing Removed\")\nprint(comments.groupBy('subreddit').count().show())",
                    "displayName": "showString at NativeMethodAccessorImpl.java:0",
                    "jobGroup": "28",
                    "jobId": 29,
                    "killedTasksSummary": {},
                    "name": "showString at NativeMethodAccessorImpl.java:0",
                    "numActiveStages": 0,
                    "numActiveTasks": 0,
                    "numCompletedIndices": 1,
                    "numCompletedStages": 1,
                    "numCompletedTasks": 1,
                    "numFailedStages": 0,
                    "numFailedTasks": 0,
                    "numKilledTasks": 0,
                    "numSkippedStages": 1,
                    "numSkippedTasks": 182,
                    "numTasks": 183,
                    "rowCount": 515,
                    "stageIds": [
                      40,
                      41
                    ],
                    "status": "SUCCEEDED",
                    "submissionTime": "2023-11-07T17:01:50.562GMT",
                    "usageDescription": ""
                  },
                  {
                    "completionTime": "2023-11-07T17:01:50.538GMT",
                    "dataRead": 220862225,
                    "dataWritten": 39825,
                    "description": "Job group for statement 28:\nprint(\"Count of Submissions by Subreddit with Missing Removed\")\nprint(submissions.groupBy('subreddit').count().show())\n\nprint(\"Count of Comments by Subreddit with Missing Removed\")\nprint(comments.groupBy('subreddit').count().show())",
                    "displayName": "showString at NativeMethodAccessorImpl.java:0",
                    "jobGroup": "28",
                    "jobId": 28,
                    "killedTasksSummary": {},
                    "name": "showString at NativeMethodAccessorImpl.java:0",
                    "numActiveStages": 0,
                    "numActiveTasks": 0,
                    "numCompletedIndices": 182,
                    "numCompletedStages": 1,
                    "numCompletedTasks": 182,
                    "numFailedStages": 0,
                    "numFailedTasks": 0,
                    "numKilledTasks": 0,
                    "numSkippedStages": 0,
                    "numSkippedTasks": 0,
                    "numTasks": 182,
                    "rowCount": 790,
                    "stageIds": [
                      39
                    ],
                    "status": "SUCCEEDED",
                    "submissionTime": "2023-11-07T17:01:49.524GMT",
                    "usageDescription": ""
                  },
                  {
                    "completionTime": "2023-11-07T17:01:49.447GMT",
                    "dataRead": 11079,
                    "dataWritten": 0,
                    "description": "Job group for statement 28:\nprint(\"Count of Submissions by Subreddit with Missing Removed\")\nprint(submissions.groupBy('subreddit').count().show())\n\nprint(\"Count of Comments by Subreddit with Missing Removed\")\nprint(comments.groupBy('subreddit').count().show())",
                    "displayName": "showString at NativeMethodAccessorImpl.java:0",
                    "jobGroup": "28",
                    "jobId": 27,
                    "killedTasksSummary": {},
                    "name": "showString at NativeMethodAccessorImpl.java:0",
                    "numActiveStages": 0,
                    "numActiveTasks": 0,
                    "numCompletedIndices": 1,
                    "numCompletedStages": 1,
                    "numCompletedTasks": 1,
                    "numFailedStages": 0,
                    "numFailedTasks": 0,
                    "numKilledTasks": 0,
                    "numSkippedStages": 1,
                    "numSkippedTasks": 64,
                    "numTasks": 65,
                    "rowCount": 141,
                    "stageIds": [
                      37,
                      38
                    ],
                    "status": "SUCCEEDED",
                    "submissionTime": "2023-11-07T17:01:49.390GMT",
                    "usageDescription": ""
                  },
                  {
                    "completionTime": "2023-11-07T17:01:49.360GMT",
                    "dataRead": 14026558,
                    "dataWritten": 11079,
                    "description": "Job group for statement 28:\nprint(\"Count of Submissions by Subreddit with Missing Removed\")\nprint(submissions.groupBy('subreddit').count().show())\n\nprint(\"Count of Comments by Subreddit with Missing Removed\")\nprint(comments.groupBy('subreddit').count().show())",
                    "displayName": "showString at NativeMethodAccessorImpl.java:0",
                    "jobGroup": "28",
                    "jobId": 26,
                    "killedTasksSummary": {},
                    "name": "showString at NativeMethodAccessorImpl.java:0",
                    "numActiveStages": 0,
                    "numActiveTasks": 0,
                    "numCompletedIndices": 64,
                    "numCompletedStages": 1,
                    "numCompletedTasks": 64,
                    "numFailedStages": 0,
                    "numFailedTasks": 0,
                    "numKilledTasks": 0,
                    "numSkippedStages": 0,
                    "numSkippedTasks": 0,
                    "numTasks": 64,
                    "rowCount": 205,
                    "stageIds": [
                      36
                    ],
                    "status": "SUCCEEDED",
                    "submissionTime": "2023-11-07T17:01:48.875GMT",
                    "usageDescription": ""
                  }
                ],
                "limit": 20,
                "numbers": {
                  "FAILED": 0,
                  "RUNNING": 0,
                  "SUCCEEDED": 4,
                  "UNKNOWN": 0
                },
                "rule": "ALL_DESC"
              },
              "spark_pool": "d3c1b951-094c-48e1-919d-e32bc175397b",
              "state": "finished",
              "statement_id": 28
            },
            "text/plain": [
              "StatementMeta(d3c1b951-094c-48e1-919d-e32bc175397b, 14, 28, Finished, Available)"
            ]
          },
          "metadata": {},
          "output_type": "display_data"
        },
        {
          "name": "stdout",
          "output_type": "stream",
          "text": [
            "Count of Submissions by Subreddit with Missing Removed\n",
            "+-----------------+-----+\n",
            "|        subreddit|count|\n",
            "+-----------------+-----+\n",
            "|         jayhawks|  204|\n",
            "|CollegeBasketball| 9567|\n",
            "|         tarheels|   33|\n",
            "+-----------------+-----+\n",
            "\n",
            "None\n",
            "Count of Comments by Subreddit with Missing Removed\n",
            "+-----------------+-------+\n",
            "|        subreddit|  count|\n",
            "+-----------------+-------+\n",
            "|         jayhawks|   6328|\n",
            "|CollegeBasketball|1482767|\n",
            "|         tarheels|    780|\n",
            "+-----------------+-------+\n",
            "\n",
            "None\n"
          ]
        }
      ],
      "source": [
        "print(\"Count of Submissions by Subreddit with Missing Removed\")\n",
        "print(submissions.groupBy('subreddit').count().show())\n",
        "\n",
        "print(\"Count of Comments by Subreddit with Missing Removed\")\n",
        "print(comments.groupBy('subreddit').count().show())"
      ]
    },
    {
      "cell_type": "markdown",
      "metadata": {
        "nteract": {
          "transient": {
            "deleting": false
          }
        }
      },
      "source": [
        "#### Adding Day, Month, Year Columns"
      ]
    },
    {
      "cell_type": "code",
      "execution_count": 62,
      "metadata": {
        "gather": {
          "logged": 1699548333727
        },
        "jupyter": {
          "outputs_hidden": false,
          "source_hidden": false
        },
        "nteract": {
          "transient": {
            "deleting": false
          }
        }
      },
      "outputs": [
        {
          "data": {
            "application/vnd.livy.statement-meta+json": {
              "execution_finish_time": "2023-11-09T16:45:33.2712288Z",
              "execution_start_time": "2023-11-09T16:45:32.9205189Z",
              "livy_statement_state": "available",
              "parent_msg_id": "96fe5e61-ed99-4f1c-8691-c8d980ba1643",
              "queued_time": "2023-11-09T16:45:32.7199967Z",
              "session_id": "16",
              "session_start_time": null,
              "spark_jobs": {
                "jobs": [],
                "limit": 20,
                "numbers": {
                  "FAILED": 0,
                  "RUNNING": 0,
                  "SUCCEEDED": 0,
                  "UNKNOWN": 0
                },
                "rule": "ALL_DESC"
              },
              "spark_pool": "d3c1b951-094c-48e1-919d-e32bc175397b",
              "state": "finished",
              "statement_id": 67
            },
            "text/plain": [
              "StatementMeta(d3c1b951-094c-48e1-919d-e32bc175397b, 16, 67, Finished, Available)"
            ]
          },
          "metadata": {},
          "output_type": "display_data"
        }
      ],
      "source": [
        "#| output: false\n",
        "submissions = (\n",
        "    submissions\n",
        "    .withColumn(\"day\", dayofmonth(col(\"created_utc\")))\n",
        "    .withColumn(\"month\", month(col(\"created_utc\")))\n",
        "    .withColumn(\"year\", year(col(\"created_utc\")))\n",
        ")\n",
        "comments = (\n",
        "    comments\n",
        "    .withColumn(\"day\", dayofmonth(col(\"created_utc\")))\n",
        "    .withColumn(\"month\", month(col(\"created_utc\")))\n",
        "    .withColumn(\"year\", year(col(\"created_utc\")))\n",
        ")"
      ]
    },
    {
      "cell_type": "markdown",
      "metadata": {
        "nteract": {
          "transient": {
            "deleting": false
          }
        }
      },
      "source": [
        "#### First Snapshot of Data\n",
        "\n",
        "Here we can see the most important columns from `submissions` and `comments`. The `selftext` and `body` columns hold the post and comments, respectively."
      ]
    },
    {
      "cell_type": "code",
      "execution_count": 24,
      "metadata": {
        "gather": {
          "logged": 1699376638664
        },
        "jupyter": {
          "outputs_hidden": false,
          "source_hidden": false
        },
        "nteract": {
          "transient": {
            "deleting": false
          }
        }
      },
      "outputs": [
        {
          "data": {
            "application/vnd.livy.statement-meta+json": {
              "execution_finish_time": "2023-11-07T17:03:58.3646042Z",
              "execution_start_time": "2023-11-07T17:03:57.4213948Z",
              "livy_statement_state": "available",
              "parent_msg_id": "bf280e49-1cb0-468b-b290-f121deefbe60",
              "queued_time": "2023-11-07T17:03:57.2942146Z",
              "session_id": "14",
              "session_start_time": null,
              "spark_jobs": {
                "jobs": [
                  {
                    "completionTime": "2023-11-07T17:03:57.597GMT",
                    "dataRead": 1111728,
                    "dataWritten": 0,
                    "description": "Job group for statement 29:\nprint(\"Submission Data\")\nsubmissions.select(\"subreddit\", \"author\", \"title\", \"selftext\", \"created_utc\", \"num_comments\").show()",
                    "displayName": "showString at NativeMethodAccessorImpl.java:0",
                    "jobGroup": "29",
                    "jobId": 30,
                    "killedTasksSummary": {},
                    "name": "showString at NativeMethodAccessorImpl.java:0",
                    "numActiveStages": 0,
                    "numActiveTasks": 0,
                    "numCompletedIndices": 1,
                    "numCompletedStages": 1,
                    "numCompletedTasks": 1,
                    "numFailedStages": 0,
                    "numFailedTasks": 0,
                    "numKilledTasks": 0,
                    "numSkippedStages": 0,
                    "numSkippedTasks": 0,
                    "numTasks": 1,
                    "rowCount": 1,
                    "stageIds": [
                      42
                    ],
                    "status": "SUCCEEDED",
                    "submissionTime": "2023-11-07T17:03:57.503GMT",
                    "usageDescription": ""
                  }
                ],
                "limit": 20,
                "numbers": {
                  "FAILED": 0,
                  "RUNNING": 0,
                  "SUCCEEDED": 1,
                  "UNKNOWN": 0
                },
                "rule": "ALL_DESC"
              },
              "spark_pool": "d3c1b951-094c-48e1-919d-e32bc175397b",
              "state": "finished",
              "statement_id": 29
            },
            "text/plain": [
              "StatementMeta(d3c1b951-094c-48e1-919d-e32bc175397b, 14, 29, Finished, Available)"
            ]
          },
          "metadata": {},
          "output_type": "display_data"
        },
        {
          "name": "stdout",
          "output_type": "stream",
          "text": [
            "Submission Data\n",
            "+-----------------+--------------------+--------------------+--------------------+-------------------+------------+\n",
            "|        subreddit|              author|               title|            selftext|        created_utc|num_comments|\n",
            "+-----------------+--------------------+--------------------+--------------------+-------------------+------------+\n",
            "|CollegeBasketball|             rCBBMod|Announcement: The...|Hello r/CollegeBa...|2022-03-17 14:00:50|           9|\n",
            "|CollegeBasketball|       AutoModerator|[Weekly Post] Fre...|Are you new to th...|2022-04-29 15:00:11|           0|\n",
            "|CollegeBasketball|       AutoModerator|[Weekly Post] Fre...|It's Free Talk Fr...|2022-04-29 15:00:11|           1|\n",
            "|CollegeBasketball|              cbbBot|[Game Thread] Neb...|[Nebraska](#f/neb...|2022-02-23 00:54:05|          41|\n",
            "|CollegeBasketball|              cbbBot|[Game Thread] Kan...|[Kansas State](#f...|2022-02-23 01:00:04|         626|\n",
            "|CollegeBasketball|              cbbBot|[Game Thread] #24...|[Alabama](#f/alab...|2022-02-23 01:00:05|         198|\n",
            "|CollegeBasketball|              cbbBot|[Game Thread] San...|[San Diego State]...|2022-02-23 01:00:06|         135|\n",
            "|CollegeBasketball|              i_MiLK|Meet the Mid-Majo...|Hello March Madne...|2022-03-07 14:41:43|           5|\n",
            "|CollegeBasketball|          INtoCT2015|Izzo surpasses Bo...|Sorry to hijack I...|2022-03-07 14:50:10|           9|\n",
            "|CollegeBasketball|   urdueBoilermakers|Since the Big Ten...|(Note, when Purdu...|2022-03-07 14:55:07|          47|\n",
            "|CollegeBasketball|          sourceit88|240 Teams are sti...|Sunday had 17 new...|2022-03-07 14:58:37|           4|\n",
            "|CollegeBasketball|          cbbpollbot|  User Poll: Week 18|\\nRank||Team (Fir...|2022-03-07 15:00:04|         173|\n",
            "|CollegeBasketball|  Sharp_Quarter_8343|               BIG10|Anyone else think...|2022-03-07 15:03:26|          19|\n",
            "|CollegeBasketball|              cbbBot|Game Thread Index...|# Ranked Games\\n\\...|2022-03-07 15:07:07|           0|\n",
            "|CollegeBasketball|      TallLatvianLad|Mid-Major+ User P...|Rankings of teams...|2022-03-07 15:11:12|           9|\n",
            "|         tarheels|SteelHeelNittanyLion|What seed do you ...|[removed]\\n\\n[Vie...|2022-03-07 15:12:34|           0|\n",
            "|CollegeBasketball|              cbbBot|[Game Thread] #18...|[Texas](#f/texas)...|2021-12-19 19:00:06|          23|\n",
            "|CollegeBasketball|              cbbBot|[Game Thread] UT ...|[UT Martin](#f/ut...|2021-12-19 19:00:10|           0|\n",
            "|CollegeBasketball|              cbbBot|[Game Thread] UT ...|[UT Arlington](#f...|2021-12-19 19:00:14|           2|\n",
            "|CollegeBasketball|              cbbBot|[Game Thread] SMU...|[SMU](#f/smu) **9...|2021-12-19 19:00:19|           3|\n",
            "+-----------------+--------------------+--------------------+--------------------+-------------------+------------+\n",
            "only showing top 20 rows\n",
            "\n"
          ]
        }
      ],
      "source": [
        "print(\"Submission Data\")\n",
        "submissions.select(\"subreddit\", \"author\", \"title\", \"selftext\", \"created_utc\", \"num_comments\").show()"
      ]
    },
    {
      "cell_type": "code",
      "execution_count": 28,
      "metadata": {
        "gather": {
          "logged": 1699376710547
        },
        "jupyter": {
          "outputs_hidden": false,
          "source_hidden": false
        },
        "nteract": {
          "transient": {
            "deleting": false
          }
        }
      },
      "outputs": [
        {
          "data": {
            "application/vnd.livy.statement-meta+json": {
              "execution_finish_time": "2023-11-07T17:05:09.9922256Z",
              "execution_start_time": "2023-11-07T17:05:08.9997042Z",
              "livy_statement_state": "available",
              "parent_msg_id": "0cec2989-d24e-4e9c-9e3f-6ffded83b129",
              "queued_time": "2023-11-07T17:05:08.8498349Z",
              "session_id": "14",
              "session_start_time": null,
              "spark_jobs": {
                "jobs": [
                  {
                    "completionTime": "2023-11-07T17:05:09.136GMT",
                    "dataRead": 11742776,
                    "dataWritten": 0,
                    "description": "Job group for statement 33:\nprint(\"Comments Data\")\ncomments.select(\"subreddit\", \"author\",\"author_flair_text\", \"body\", \"created_utc\").show()",
                    "displayName": "showString at NativeMethodAccessorImpl.java:0",
                    "jobGroup": "33",
                    "jobId": 31,
                    "killedTasksSummary": {},
                    "name": "showString at NativeMethodAccessorImpl.java:0",
                    "numActiveStages": 0,
                    "numActiveTasks": 0,
                    "numCompletedIndices": 1,
                    "numCompletedStages": 1,
                    "numCompletedTasks": 1,
                    "numFailedStages": 0,
                    "numFailedTasks": 0,
                    "numKilledTasks": 0,
                    "numSkippedStages": 0,
                    "numSkippedTasks": 0,
                    "numTasks": 1,
                    "rowCount": 1,
                    "stageIds": [
                      43
                    ],
                    "status": "SUCCEEDED",
                    "submissionTime": "2023-11-07T17:05:09.065GMT",
                    "usageDescription": ""
                  }
                ],
                "limit": 20,
                "numbers": {
                  "FAILED": 0,
                  "RUNNING": 0,
                  "SUCCEEDED": 1,
                  "UNKNOWN": 0
                },
                "rule": "ALL_DESC"
              },
              "spark_pool": "d3c1b951-094c-48e1-919d-e32bc175397b",
              "state": "finished",
              "statement_id": 33
            },
            "text/plain": [
              "StatementMeta(d3c1b951-094c-48e1-919d-e32bc175397b, 14, 33, Finished, Available)"
            ]
          },
          "metadata": {},
          "output_type": "display_data"
        },
        {
          "name": "stdout",
          "output_type": "stream",
          "text": [
            "Comments Data\n",
            "+-----------------+-------------------+--------------------+--------------------+-------------------+\n",
            "|        subreddit|             author|   author_flair_text|                body|        created_utc|\n",
            "+-----------------+-------------------+--------------------+--------------------+-------------------+\n",
            "|CollegeBasketball|         joeveralls|:cincinnati: :ohi...|Nothing is fallin...|2021-11-14 00:27:16|\n",
            "|CollegeBasketball|       DaddyStone13|:cincinnati: :big...|lol i forgot abou...|2021-11-14 00:27:51|\n",
            "|CollegeBasketball|        seahawksjoe|   :usc: USC Trojans|Also, half of the...|2021-11-14 00:28:36|\n",
            "|CollegeBasketball|       CheeseAndCam|:iowastate: Iowa ...|I like how Creigh...|2021-11-14 00:30:06|\n",
            "|CollegeBasketball|          [deleted]|                null|  Losing, apparently|2021-11-14 00:30:17|\n",
            "|CollegeBasketball|       corranhorn57|:cincinnati: Cinc...|Oklahoma lost, th...|2021-11-14 00:30:26|\n",
            "|CollegeBasketball|SwimmingInYourPants|   :usc: USC Trojans|Ah, I missed thes...|2021-11-14 00:30:29|\n",
            "|CollegeBasketball|          Papytendo|:temple: :bestofw...|This gonna be one...|2021-11-14 00:30:32|\n",
            "|CollegeBasketball|           love2Vax|:rutgers: Rutgers...|He was missing sh...|2021-11-14 00:31:19|\n",
            "|CollegeBasketball|        seahawksjoe|   :usc: USC Trojans|This man really j...|2021-11-14 00:31:51|\n",
            "|CollegeBasketball|         Cnsrbstrmp|:cincinnati: Cinc...|High IQ play ther...|2021-11-14 00:32:11|\n",
            "|CollegeBasketball|              s-sea|:usc: :nebraska: ...|yeesh yeah, 14 fo...|2021-11-14 00:32:15|\n",
            "|CollegeBasketball|           myth7550|:indiana: Indiana...|      You bet we do!|2021-11-14 00:32:52|\n",
            "|CollegeBasketball|            mjd1977|:vanderbilt: :vil...|Northern Iowa. Fa...|2021-11-14 00:33:16|\n",
            "|CollegeBasketball| WildfireTommyBitch|:memphis: Memphis...|Checking in on a ...|2021-11-14 00:33:21|\n",
            "|CollegeBasketball|       corranhorn57|:cincinnati: Cinc...|  Now we’re rolling!|2021-11-14 00:34:14|\n",
            "|CollegeBasketball|              s-sea|:usc: :nebraska: ...|lmao, I'm watchin...|2021-11-14 00:34:28|\n",
            "|CollegeBasketball|         Cnsrbstrmp|:cincinnati: Cinc...|        Attaway CATS|2021-11-14 00:34:31|\n",
            "|CollegeBasketball|         MusaEnsete|:michigan: Michig...|So glad to see th...|2021-11-14 00:34:58|\n",
            "|CollegeBasketball|      HurricaneHugo|:ucsd: :sandiegos...|         Pretty cool|2021-11-14 00:35:19|\n",
            "+-----------------+-------------------+--------------------+--------------------+-------------------+\n",
            "only showing top 20 rows\n",
            "\n"
          ]
        }
      ],
      "source": [
        "print(\"Comments Data\")\n",
        "comments.select(\"subreddit\", \"author\",\"author_flair_text\", \"body\", \"created_utc\").show()"
      ]
    },
    {
      "cell_type": "markdown",
      "metadata": {
        "nteract": {
          "transient": {
            "deleting": false
          }
        }
      },
      "source": [
        "#### Creating author flair column\n",
        "\n",
        "`author_flair_text` is a column that contains information about the user icon of the reddit user. In most of these posts this is the team that the author supports. Here we create a new variable that indicates who the author of the comment or post supports"
      ]
    },
    {
      "cell_type": "code",
      "execution_count": 9,
      "metadata": {
        "gather": {
          "logged": 1699545539358
        },
        "jupyter": {
          "outputs_hidden": false,
          "source_hidden": false
        },
        "nteract": {
          "transient": {
            "deleting": false
          }
        }
      },
      "outputs": [
        {
          "data": {
            "application/vnd.livy.statement-meta+json": {
              "execution_finish_time": "2023-11-09T15:58:58.8682265Z",
              "execution_start_time": "2023-11-09T15:58:58.4644114Z",
              "livy_statement_state": "available",
              "parent_msg_id": "056e5469-83ac-4ea3-8df6-07d956c21ddd",
              "queued_time": "2023-11-09T15:57:49.7082681Z",
              "session_id": "16",
              "session_start_time": null,
              "spark_jobs": {
                "jobs": [],
                "limit": 20,
                "numbers": {
                  "FAILED": 0,
                  "RUNNING": 0,
                  "SUCCEEDED": 0,
                  "UNKNOWN": 0
                },
                "rule": "ALL_DESC"
              },
              "spark_pool": "d3c1b951-094c-48e1-919d-e32bc175397b",
              "state": "finished",
              "statement_id": 14
            },
            "text/plain": [
              "StatementMeta(d3c1b951-094c-48e1-919d-e32bc175397b, 16, 14, Finished, Available)"
            ]
          },
          "metadata": {},
          "output_type": "display_data"
        }
      ],
      "source": [
        "#| output: false\n",
        "team_pattern = r\":([\\w\\s]+):\"\n",
        "\n",
        "# Extract the team names and create the \"supported_team\" column\n",
        "submissions = submissions.withColumn(\"supported_team\", regexp_extract(col(\"author_flair_text\"), team_pattern, 1))\n",
        "comments = comments.withColumn(\"supported_team\", regexp_extract(col(\"author_flair_text\"), team_pattern, 1))"
      ]
    },
    {
      "cell_type": "markdown",
      "metadata": {
        "nteract": {
          "transient": {
            "deleting": false
          }
        }
      },
      "source": [
        "If we remove the `r/tarheels` and `r/jayhawks` subreddits from our data temporarily we can get a good idea of what teams are the most supported in the user base of `r/CollegeBasektball`. \n",
        "\n",
        "In `submissions` the most common icons are the default `rcbb` (r/collegebasketball) and `null` (no icon). Ignoring those we see that the most supported teams are Florida State, Illinois, Purdue, and Duke. In `comments`, `null` is the most common icon, however after that the most supported teams are Purdue, North Carolina, Illinois, and Kentucky. \n",
        "\n",
        "This shows that some fan bases may be more active posters while others may be more involved in the comments section. "
      ]
    },
    {
      "cell_type": "code",
      "execution_count": 39,
      "metadata": {
        "gather": {
          "logged": 1699377523949
        },
        "jupyter": {
          "outputs_hidden": false,
          "source_hidden": false
        },
        "nteract": {
          "transient": {
            "deleting": false
          }
        }
      },
      "outputs": [
        {
          "data": {
            "application/vnd.livy.statement-meta+json": {
              "execution_finish_time": "2023-11-07T17:18:43.8360918Z",
              "execution_start_time": "2023-11-07T17:18:39.9433305Z",
              "livy_statement_state": "available",
              "parent_msg_id": "0cb9bc6a-c8cb-4246-a1bf-540cf260d654",
              "queued_time": "2023-11-07T17:18:39.7789744Z",
              "session_id": "14",
              "session_start_time": null,
              "spark_jobs": {
                "jobs": [
                  {
                    "completionTime": "2023-11-07T17:18:43.397GMT",
                    "dataRead": 2140445,
                    "dataWritten": 0,
                    "description": "Job group for statement 44:\nprint(\"Submissions Top Supported Teams\")\nsubmissions.filter(col(\"subreddit\")==\"CollegeBasketball\").groupBy(\"supported_team\").agg(count(\"*\").alias(\"count\")).orderBy(desc(\"count\")).show()\nprint(\"Comments Top Supported Teams\")\ncomments.filter(col(\"subreddit\")==\"CollegeBasketball\").groupBy(\"supported_team\").agg(count(\"*\").alias(\"count\")).orderBy(desc(\"count\")).show()",
                    "displayName": "showString at <unknown>:0",
                    "jobGroup": "44",
                    "jobId": 46,
                    "killedTasksSummary": {},
                    "name": "showString at <unknown>:0",
                    "numActiveStages": 0,
                    "numActiveTasks": 0,
                    "numCompletedIndices": 2,
                    "numCompletedStages": 1,
                    "numCompletedTasks": 2,
                    "numFailedStages": 0,
                    "numFailedTasks": 0,
                    "numKilledTasks": 0,
                    "numSkippedStages": 1,
                    "numSkippedTasks": 182,
                    "numTasks": 184,
                    "rowCount": 37401,
                    "stageIds": [
                      63,
                      62
                    ],
                    "status": "SUCCEEDED",
                    "submissionTime": "2023-11-07T17:18:43.288GMT",
                    "usageDescription": ""
                  },
                  {
                    "completionTime": "2023-11-07T17:18:43.260GMT",
                    "dataRead": 221033688,
                    "dataWritten": 2140445,
                    "description": "Job group for statement 44:\nprint(\"Submissions Top Supported Teams\")\nsubmissions.filter(col(\"subreddit\")==\"CollegeBasketball\").groupBy(\"supported_team\").agg(count(\"*\").alias(\"count\")).orderBy(desc(\"count\")).show()\nprint(\"Comments Top Supported Teams\")\ncomments.filter(col(\"subreddit\")==\"CollegeBasketball\").groupBy(\"supported_team\").agg(count(\"*\").alias(\"count\")).orderBy(desc(\"count\")).show()",
                    "displayName": "showString at <unknown>:0",
                    "jobGroup": "44",
                    "jobId": 45,
                    "killedTasksSummary": {},
                    "name": "showString at <unknown>:0",
                    "numActiveStages": 0,
                    "numActiveTasks": 0,
                    "numCompletedIndices": 182,
                    "numCompletedStages": 1,
                    "numCompletedTasks": 182,
                    "numFailedStages": 0,
                    "numFailedTasks": 0,
                    "numKilledTasks": 0,
                    "numSkippedStages": 0,
                    "numSkippedTasks": 0,
                    "numTasks": 182,
                    "rowCount": 37676,
                    "stageIds": [
                      61
                    ],
                    "status": "SUCCEEDED",
                    "submissionTime": "2023-11-07T17:18:40.652GMT",
                    "usageDescription": ""
                  },
                  {
                    "completionTime": "2023-11-07T17:18:40.533GMT",
                    "dataRead": 114894,
                    "dataWritten": 0,
                    "description": "Job group for statement 44:\nprint(\"Submissions Top Supported Teams\")\nsubmissions.filter(col(\"subreddit\")==\"CollegeBasketball\").groupBy(\"supported_team\").agg(count(\"*\").alias(\"count\")).orderBy(desc(\"count\")).show()\nprint(\"Comments Top Supported Teams\")\ncomments.filter(col(\"subreddit\")==\"CollegeBasketball\").groupBy(\"supported_team\").agg(count(\"*\").alias(\"count\")).orderBy(desc(\"count\")).show()",
                    "displayName": "showString at <unknown>:0",
                    "jobGroup": "44",
                    "jobId": 44,
                    "killedTasksSummary": {},
                    "name": "showString at <unknown>:0",
                    "numActiveStages": 0,
                    "numActiveTasks": 0,
                    "numCompletedIndices": 1,
                    "numCompletedStages": 1,
                    "numCompletedTasks": 1,
                    "numFailedStages": 0,
                    "numFailedTasks": 0,
                    "numKilledTasks": 0,
                    "numSkippedStages": 1,
                    "numSkippedTasks": 64,
                    "numTasks": 65,
                    "rowCount": 1611,
                    "stageIds": [
                      60,
                      59
                    ],
                    "status": "SUCCEEDED",
                    "submissionTime": "2023-11-07T17:18:40.488GMT",
                    "usageDescription": ""
                  },
                  {
                    "completionTime": "2023-11-07T17:18:40.450GMT",
                    "dataRead": 13989770,
                    "dataWritten": 114894,
                    "description": "Job group for statement 44:\nprint(\"Submissions Top Supported Teams\")\nsubmissions.filter(col(\"subreddit\")==\"CollegeBasketball\").groupBy(\"supported_team\").agg(count(\"*\").alias(\"count\")).orderBy(desc(\"count\")).show()\nprint(\"Comments Top Supported Teams\")\ncomments.filter(col(\"subreddit\")==\"CollegeBasketball\").groupBy(\"supported_team\").agg(count(\"*\").alias(\"count\")).orderBy(desc(\"count\")).show()",
                    "displayName": "showString at <unknown>:0",
                    "jobGroup": "44",
                    "jobId": 43,
                    "killedTasksSummary": {},
                    "name": "showString at <unknown>:0",
                    "numActiveStages": 0,
                    "numActiveTasks": 0,
                    "numCompletedIndices": 64,
                    "numCompletedStages": 1,
                    "numCompletedTasks": 64,
                    "numFailedStages": 0,
                    "numFailedTasks": 0,
                    "numKilledTasks": 0,
                    "numSkippedStages": 0,
                    "numSkippedTasks": 0,
                    "numTasks": 64,
                    "rowCount": 1675,
                    "stageIds": [
                      58
                    ],
                    "status": "SUCCEEDED",
                    "submissionTime": "2023-11-07T17:18:40.085GMT",
                    "usageDescription": ""
                  }
                ],
                "limit": 20,
                "numbers": {
                  "FAILED": 0,
                  "RUNNING": 0,
                  "SUCCEEDED": 4,
                  "UNKNOWN": 0
                },
                "rule": "ALL_DESC"
              },
              "spark_pool": "d3c1b951-094c-48e1-919d-e32bc175397b",
              "state": "finished",
              "statement_id": 44
            },
            "text/plain": [
              "StatementMeta(d3c1b951-094c-48e1-919d-e32bc175397b, 14, 44, Finished, Available)"
            ]
          },
          "metadata": {},
          "output_type": "display_data"
        },
        {
          "name": "stdout",
          "output_type": "stream",
          "text": [
            "Submissions Top Supported Teams\n",
            "+----------------+-----+\n",
            "|  supported_team|count|\n",
            "+----------------+-----+\n",
            "|            rcbb| 6632|\n",
            "|            null|  821|\n",
            "|    floridastate|  124|\n",
            "|        illinois|   89|\n",
            "|          purdue|   84|\n",
            "|            duke|   69|\n",
            "|   northcarolina|   66|\n",
            "|          kansas|   64|\n",
            "|       iowastate|   64|\n",
            "|        virginia|   62|\n",
            "|        kentucky|   62|\n",
            "|     connecticut|   51|\n",
            "|          dayton|   48|\n",
            "|        michigan|   43|\n",
            "|mississippistate|   42|\n",
            "|         indiana|   36|\n",
            "|         gonzaga|   35|\n",
            "|    sanjosestate|   35|\n",
            "|   michiganstate|   33|\n",
            "|          auburn|   32|\n",
            "+----------------+-----+\n",
            "only showing top 20 rows\n",
            "\n",
            "Comments Top Supported Teams\n",
            "+--------------+------+\n",
            "|supported_team| count|\n",
            "+--------------+------+\n",
            "|          null|173474|\n",
            "|        purdue| 72772|\n",
            "| northcarolina| 68933|\n",
            "|      illinois| 62610|\n",
            "|      kentucky| 56856|\n",
            "|        kansas| 55664|\n",
            "|      michigan| 52395|\n",
            "| michiganstate| 51169|\n",
            "|       indiana| 40537|\n",
            "|        auburn| 39623|\n",
            "|          duke| 34871|\n",
            "|     texastech| 34346|\n",
            "|     iowastate| 32179|\n",
            "|     wisconsin| 32087|\n",
            "|          iowa| 27663|\n",
            "|      virginia| 25376|\n",
            "|       arizona| 24325|\n",
            "|      arkansas| 22708|\n",
            "|       gonzaga| 21720|\n",
            "|     ohiostate| 20953|\n",
            "+--------------+------+\n",
            "only showing top 20 rows\n",
            "\n"
          ]
        }
      ],
      "source": [
        "print(\"Submissions Top Supported Teams\")\n",
        "submissions.filter(col(\"subreddit\")==\"CollegeBasketball\").groupBy(\"supported_team\").agg(count(\"*\").alias(\"count\")).orderBy(desc(\"count\")).show()\n",
        "print(\"Comments Top Supported Teams\")\n",
        "comments.filter(col(\"subreddit\")==\"CollegeBasketball\").groupBy(\"supported_team\").agg(count(\"*\").alias(\"count\")).orderBy(desc(\"count\")).show()"
      ]
    },
    {
      "cell_type": "markdown",
      "metadata": {
        "nteract": {
          "transient": {
            "deleting": false
          }
        }
      },
      "source": [
        "#### Creating Game Thread Indicator and details about game (teams, ranking, time)"
      ]
    },
    {
      "cell_type": "markdown",
      "metadata": {
        "nteract": {
          "transient": {
            "deleting": false
          }
        }
      },
      "source": [
        "Some posts in the submissions of `r/CollegeBasketball` are game threads where people can comment on and discuss specific games that are being played. We can extract information about the title to determine the teams playing in the game, their rankings, and the time the game is being played. \n",
        "\n",
        "From here we can determine which games have the most comments and thereby can act as a proxy for which games were the most watched on reddit. We see that the most commented on games involve North Carolina, and further analysis of these games show that the three most popular games are the Elite Eights, Final Four, and Championship games for North Carolina. Additionally we see that all of the most popular games are between ranked teams. \n",
        "\n",
        "Expanding on this finding that ranked matchups seem to have more interest we did some further analysis to look at the popularity of games over the course of a season and also the difference between ranked and unranked mathcups. Here we see that ranked matchups have significantly higher average number of comment in all months of the season. If we compare only February, ranked matchups have on average 12.5 times the number of comments of unranked matchups.  Additionally we see that April and March have the highest number of average comments across both groups, while the earlier months in the season (November and December) have lower average comments per game. "
      ]
    },
    {
      "cell_type": "code",
      "execution_count": 58,
      "metadata": {
        "gather": {
          "logged": 1699547580268
        },
        "jupyter": {
          "outputs_hidden": false,
          "source_hidden": false
        },
        "nteract": {
          "transient": {
            "deleting": false
          }
        }
      },
      "outputs": [
        {
          "data": {
            "application/vnd.livy.statement-meta+json": {
              "execution_finish_time": "2023-11-09T16:32:59.9437107Z",
              "execution_start_time": "2023-11-09T16:32:59.5865394Z",
              "livy_statement_state": "available",
              "parent_msg_id": "c5fdcf9c-43b1-4e85-a36c-de024db1ccf8",
              "queued_time": "2023-11-09T16:32:59.4734474Z",
              "session_id": "16",
              "session_start_time": null,
              "spark_jobs": {
                "jobs": [],
                "limit": 20,
                "numbers": {
                  "FAILED": 0,
                  "RUNNING": 0,
                  "SUCCEEDED": 0,
                  "UNKNOWN": 0
                },
                "rule": "ALL_DESC"
              },
              "spark_pool": "d3c1b951-094c-48e1-919d-e32bc175397b",
              "state": "finished",
              "statement_id": 63
            },
            "text/plain": [
              "StatementMeta(d3c1b951-094c-48e1-919d-e32bc175397b, 16, 63, Finished, Available)"
            ]
          },
          "metadata": {},
          "output_type": "display_data"
        }
      ],
      "source": [
        "#| output: false\n",
        "# create condition for title column starting with the string [Game Thread]\n",
        "condition = submissions[\"title\"].startswith(\"[Game Thread]\")\n",
        "# create new column in submissions indicating if post is a game thread\n",
        "submissions = submissions.withColumn(\"game_thread\", when(condition, True).otherwise(False))\n",
        "\n",
        "teams_pattern = \"\\[Game Thread\\] (#?(\\d*) )?([^\\[@]+) @ (#?(\\d*) )?([^\\[@]+) \\((\\d{2}:\\d{2} [APMapm]{2} [A-Za-z]+)\\)\"\n",
        "submissions = submissions.withColumn(\"home_ranking\", regexp_extract(col(\"title\"), teams_pattern, 5))\n",
        "submissions = submissions.withColumn(\"home_team\", regexp_extract(col(\"title\"), teams_pattern, 6))\n",
        "submissions = submissions.withColumn(\"away_ranking\", regexp_extract(col(\"title\"), teams_pattern, 2))\n",
        "submissions = submissions.withColumn(\"away_team\", regexp_extract(col(\"title\"), teams_pattern, 3))\n",
        "submissions = submissions.withColumn(\"game_time\", regexp_extract(col(\"title\"), teams_pattern, 7))\n",
        "submissions = submissions.withColumn(\"ranked_matchup\", when((col(\"home_ranking\")!=\"\")& (col(\"away_ranking\")!=\"\"),True).otherwise(False))"
      ]
    },
    {
      "cell_type": "code",
      "execution_count": 32,
      "metadata": {
        "gather": {
          "logged": 1699546747246
        },
        "jupyter": {
          "outputs_hidden": false,
          "source_hidden": false
        },
        "nteract": {
          "transient": {
            "deleting": false
          }
        }
      },
      "outputs": [
        {
          "data": {
            "application/vnd.livy.statement-meta+json": {
              "execution_finish_time": "2023-11-09T16:19:06.1499333Z",
              "execution_start_time": "2023-11-09T16:19:04.4723134Z",
              "livy_statement_state": "available",
              "parent_msg_id": "d6f9b02f-0991-4463-89d8-f7cb4891bb56",
              "queued_time": "2023-11-09T16:19:04.3586528Z",
              "session_id": "16",
              "session_start_time": null,
              "spark_jobs": {
                "jobs": [
                  {
                    "completionTime": "2023-11-09T16:19:05.148GMT",
                    "dataRead": 14064732,
                    "dataWritten": 31068,
                    "description": "Job group for statement 37:\nsubmissions.filter(col(\"game_thread\")==1).orderBy(col(\"num_comments\").desc()).limit(20).select(\"title\", \"num_comments\").show(truncate = False)",
                    "displayName": "showString at NativeMethodAccessorImpl.java:0",
                    "jobGroup": "37",
                    "jobId": 18,
                    "killedTasksSummary": {},
                    "name": "showString at NativeMethodAccessorImpl.java:0",
                    "numActiveStages": 0,
                    "numActiveTasks": 0,
                    "numCompletedIndices": 65,
                    "numCompletedStages": 2,
                    "numCompletedTasks": 65,
                    "numFailedStages": 0,
                    "numFailedTasks": 0,
                    "numKilledTasks": 0,
                    "numSkippedStages": 0,
                    "numSkippedTasks": 0,
                    "numTasks": 65,
                    "rowCount": 1528,
                    "stageIds": [
                      21,
                      22
                    ],
                    "status": "SUCCEEDED",
                    "submissionTime": "2023-11-09T16:19:04.736GMT",
                    "usageDescription": ""
                  }
                ],
                "limit": 20,
                "numbers": {
                  "FAILED": 0,
                  "RUNNING": 0,
                  "SUCCEEDED": 1,
                  "UNKNOWN": 0
                },
                "rule": "ALL_DESC"
              },
              "spark_pool": "d3c1b951-094c-48e1-919d-e32bc175397b",
              "state": "finished",
              "statement_id": 37
            },
            "text/plain": [
              "StatementMeta(d3c1b951-094c-48e1-919d-e32bc175397b, 16, 37, Finished, Available)"
            ]
          },
          "metadata": {},
          "output_type": "display_data"
        },
        {
          "name": "stdout",
          "output_type": "stream",
          "text": [
            "+-----------------------------------------------------------------+------------+\n",
            "|title                                                            |num_comments|\n",
            "+-----------------------------------------------------------------+------------+\n",
            "|[Game Thread] #8 North Carolina @ #1 Kansas (09:20 PM ET)        |20723       |\n",
            "|[Game Thread] #8 North Carolina @ #1 Baylor (12:10 PM ET)        |18640       |\n",
            "|[Game Thread] #8 North Carolina @ #2 Duke (08:49 PM ET)          |11959       |\n",
            "|[Game Thread] #15 Saint Peter's @ #3 Purdue (07:09 PM ET)        |9872        |\n",
            "|[Game Thread] #4 Arkansas @ #1 Gonzaga (07:09 PM ET)             |9648        |\n",
            "|[Game Thread] #15 Saint Peter's @ #8 North Carolina (05:05 PM ET)|8080        |\n",
            "|[Game Thread] #9 TCU @ #1 Arizona (09:40 PM ET)                  |7972        |\n",
            "|[Game Thread] #3 Texas Tech @ #2 Duke (09:39 PM ET)              |7045        |\n",
            "|[Game Thread] #7 Michigan State @ #2 Duke (05:15 PM ET)          |6857        |\n",
            "|[Game Thread] #4 Arkansas @ #2 Duke (08:49 PM ET)                |6775        |\n",
            "|[Game Thread] #9 Memphis @ #1 Gonzaga (09:40 PM ET)              |6698        |\n",
            "|[Game Thread] #6 Texas @ #3 Purdue (08:40 PM ET)                 |6694        |\n",
            "|[Game Thread] #15 Saint Peter's @ #2 Kentucky (07:10 PM ET)      |6682        |\n",
            "|[Game Thread] #5 Houston @ #4 Illinois (12:10 PM ET)             |6419        |\n",
            "|[Game Thread] #11 Iowa State @ #3 Wisconsin (06:10 PM ET)        |6245        |\n",
            "|[Game Thread] #11 Notre Dame @ #11 Rutgers (09:10 PM ET)         |5868        |\n",
            "|[Game Thread] #11 Michigan @ #6 Colorado State (12:15 PM ET)     |5680        |\n",
            "|[Game Thread] #25 Texas @ #13 Texas Tech (09:00 PM ET)           |5626        |\n",
            "|[Game Thread] #12 Indiana @ #12 Wyoming (09:10 PM ET)            |5591        |\n",
            "|[Game Thread] #12 Kentucky @ #1 Auburn (01:00 PM ET)             |5537        |\n",
            "+-----------------------------------------------------------------+------------+\n",
            "\n"
          ]
        }
      ],
      "source": [
        "submissions.filter(col(\"game_thread\")==1).orderBy(col(\"num_comments\").desc()).limit(20).select(\"title\", \"num_comments\").show(truncate = False)"
      ]
    },
    {
      "cell_type": "code",
      "execution_count": 60,
      "metadata": {
        "gather": {
          "logged": 1699548065717
        },
        "jupyter": {
          "outputs_hidden": false,
          "source_hidden": false
        },
        "nteract": {
          "transient": {
            "deleting": false
          }
        }
      },
      "outputs": [
        {
          "data": {
            "application/vnd.livy.statement-meta+json": {
              "execution_finish_time": "2023-11-09T16:41:05.3643711Z",
              "execution_start_time": "2023-11-09T16:41:04.4782861Z",
              "livy_statement_state": "available",
              "parent_msg_id": "793b86de-8752-453c-81af-12309ac9fede",
              "queued_time": "2023-11-09T16:41:04.3320731Z",
              "session_id": "16",
              "session_start_time": null,
              "spark_jobs": {
                "jobs": [
                  {
                    "completionTime": "2023-11-09T16:41:05.128GMT",
                    "dataRead": 21414,
                    "dataWritten": 0,
                    "description": "Job group for statement 65:\nsubmissions.filter(col(\"game_thread\")==1).groupBy(\"year\", \"month\", \"ranked_matchup\").agg(round(mean(\"num_comments\"),0).alias(\"average_comments\"), sum(col(\"num_comments\")).alias(\"total_comments\")).orderBy(col(\"average_comments\").desc()).limit(11).show()",
                    "displayName": "showString at <unknown>:0",
                    "jobGroup": "65",
                    "jobId": 46,
                    "killedTasksSummary": {},
                    "name": "showString at <unknown>:0",
                    "numActiveStages": 0,
                    "numActiveTasks": 0,
                    "numCompletedIndices": 1,
                    "numCompletedStages": 1,
                    "numCompletedTasks": 1,
                    "numFailedStages": 0,
                    "numFailedTasks": 0,
                    "numKilledTasks": 0,
                    "numSkippedStages": 1,
                    "numSkippedTasks": 64,
                    "numTasks": 65,
                    "rowCount": 294,
                    "stageIds": [
                      63,
                      64
                    ],
                    "status": "SUCCEEDED",
                    "submissionTime": "2023-11-09T16:41:05.019GMT",
                    "usageDescription": ""
                  },
                  {
                    "completionTime": "2023-11-09T16:41:04.963GMT",
                    "dataRead": 14028286,
                    "dataWritten": 21414,
                    "description": "Job group for statement 65:\nsubmissions.filter(col(\"game_thread\")==1).groupBy(\"year\", \"month\", \"ranked_matchup\").agg(round(mean(\"num_comments\"),0).alias(\"average_comments\"), sum(col(\"num_comments\")).alias(\"total_comments\")).orderBy(col(\"average_comments\").desc()).limit(11).show()",
                    "displayName": "showString at <unknown>:0",
                    "jobGroup": "65",
                    "jobId": 45,
                    "killedTasksSummary": {},
                    "name": "showString at <unknown>:0",
                    "numActiveStages": 0,
                    "numActiveTasks": 0,
                    "numCompletedIndices": 64,
                    "numCompletedStages": 1,
                    "numCompletedTasks": 64,
                    "numFailedStages": 0,
                    "numFailedTasks": 0,
                    "numKilledTasks": 0,
                    "numSkippedStages": 0,
                    "numSkippedTasks": 0,
                    "numTasks": 64,
                    "rowCount": 358,
                    "stageIds": [
                      62
                    ],
                    "status": "SUCCEEDED",
                    "submissionTime": "2023-11-09T16:41:04.669GMT",
                    "usageDescription": ""
                  }
                ],
                "limit": 20,
                "numbers": {
                  "FAILED": 0,
                  "RUNNING": 0,
                  "SUCCEEDED": 2,
                  "UNKNOWN": 0
                },
                "rule": "ALL_DESC"
              },
              "spark_pool": "d3c1b951-094c-48e1-919d-e32bc175397b",
              "state": "finished",
              "statement_id": 65
            },
            "text/plain": [
              "StatementMeta(d3c1b951-094c-48e1-919d-e32bc175397b, 16, 65, Finished, Available)"
            ]
          },
          "metadata": {},
          "output_type": "display_data"
        },
        {
          "name": "stdout",
          "output_type": "stream",
          "text": [
            "+----+-----+--------------+----------------+--------------+\n",
            "|year|month|ranked_matchup|average_comments|total_comments|\n",
            "+----+-----+--------------+----------------+--------------+\n",
            "|2022|    4|          true|         12685.0|         38055|\n",
            "|2022|    3|          true|          3290.0|        263187|\n",
            "|2021|   11|          true|          1818.0|         18181|\n",
            "|2022|    2|          true|          1570.0|         48671|\n",
            "|2022|    1|          true|          1470.0|         38213|\n",
            "|2021|   12|          true|           740.0|          7395|\n",
            "|2022|    3|         false|           215.0|         97438|\n",
            "|2022|    1|         false|           129.0|         84812|\n",
            "|2022|    2|         false|           125.0|         93661|\n",
            "|2021|   12|         false|           103.0|         54828|\n",
            "|2021|   11|         false|            89.0|         58010|\n",
            "+----+-----+--------------+----------------+--------------+\n",
            "\n"
          ]
        }
      ],
      "source": [
        "submissions.filter(col(\"game_thread\")==1).groupBy(\"year\", \"month\", \"ranked_matchup\").agg(round(mean(\"num_comments\"),0).alias(\"average_comments\"), sum(col(\"num_comments\")).alias(\"total_comments\")).orderBy(col(\"average_comments\").desc()).limit(11).show()"
      ]
    },
    {
      "cell_type": "markdown",
      "metadata": {
        "nteract": {
          "transient": {
            "deleting": false
          }
        }
      },
      "source": [
        "Using this cleaned data we will proceed to answer our business questions\n",
        "\n",
        "***Work completed by Klaas van Kempen***\n"
      ]
    }
  ],
  "metadata": {
    "kernel_info": {
      "name": "synapse_pyspark"
    },
    "kernelspec": {
      "display_name": "Synapse PySpark",
      "language": "Python",
      "name": "synapse_pyspark"
    },
    "language_info": {
      "codemirror_mode": "ipython",
      "file_extension": ".py",
      "mimetype": "text/x-python",
      "name": "python",
      "nbconvert_exporter": "python",
      "pygments_lexer": "ipython",
      "version": "3.8.0"
    },
    "microsoft": {
      "host": {
        "AzureML": {
          "notebookHasBeenCompleted": true
        }
      },
      "ms_spell_check": {
        "ms_spell_check_language": "en"
      }
    },
    "nteract": {
      "version": "nteract-front-end@1.0.0"
    }
  },
  "nbformat": 4,
  "nbformat_minor": 2
}

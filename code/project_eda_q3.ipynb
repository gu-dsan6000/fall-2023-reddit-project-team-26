{
 "cells": [
  {
   "cell_type": "markdown",
   "metadata": {},
   "source": [
    "# EDA Question 3\n",
    "\n",
    "For this portion of the project, we will attempt to answer the third question proposed in our original Business Goals:\n",
    "\n",
    "**Business Goal 3:** Explore how the subreddit page of the NCAA champion in 2022, the Kansas Jayhawks, varied over the course of the season. Identify any trends in post frequency or comment length that may correlate to on-the-court successes or failures. \\\n",
    "**Technical Proposal:** Use trend analysis and count number of comments and comment lengths to determine excitement over the course of the NBA season. Correlate any major trends to outside data sets, including Jayhawks wins and losses or injuries of key players. Analyze any additional trends in activity over the course of the 2022 season to find any other additional results before entering into the NLP phase of the project.\n",
    "\n",
    "As you will see throughout this exploration, this analysis began as only covering the r/jayhawks subreddit, but we expanded it to also include the r/tarheels subreddit as well. This initial glimpse into how these subreddits work will lead into other analyses as we continue."
   ]
  },
  {
   "cell_type": "markdown",
   "metadata": {},
   "source": [
    "### Configuring and Cleaning the Data\n",
    "\n",
    "This process will be the same across our EDA questions."
   ]
  },
  {
   "cell_type": "markdown",
   "metadata": {},
   "source": [
    "spark"
   ]
  },
  {
   "cell_type": "code",
   "execution_count": null,
   "metadata": {
    "vscode": {
     "languageId": "plaintext"
    }
   },
   "outputs": [],
   "source": [
    "workspace_default_storage_account = \"aml6214727930\"\n",
    "workspace_default_container = \"azureml-blobstore-6653633b-3460-4381-9199-d9e0f368353c\"\n",
    "\n",
    "workspace_wasbs_base_url = (\n",
    "    f\"wasbs://{workspace_default_container}@{workspace_default_storage_account}.blob.core.windows.net/\"\n",
    ")"
   ]
  },
  {
   "cell_type": "code",
   "execution_count": null,
   "metadata": {
    "vscode": {
     "languageId": "plaintext"
    }
   },
   "outputs": [],
   "source": [
    "#datastore = 'azureml://datastores/workspaceblobstore/paths'\n",
    "comments_path = \"/basketball_comments_sep.parquet\"\n",
    "submissions_path = \"/basketball_submissions_sep.parquet\"\n",
    "\n",
    "comments = spark.read.parquet(f\"{workspace_wasbs_base_url}{comments_path}\")\n",
    "submissions = spark.read.parquet(f\"{workspace_wasbs_base_url}{submissions_path}\")"
   ]
  },
  {
   "cell_type": "code",
   "execution_count": null,
   "metadata": {
    "vscode": {
     "languageId": "plaintext"
    }
   },
   "outputs": [],
   "source": [
    "submissions = submissions.cache()\n",
    "comments = comments.cache()"
   ]
  },
  {
   "cell_type": "code",
   "execution_count": null,
   "metadata": {
    "vscode": {
     "languageId": "plaintext"
    }
   },
   "outputs": [],
   "source": [
    "submissions = submissions.filter((submissions.selftext != \"\") & (submissions.selftext != \"[deleted]\")& (submissions.selftext != \"[removed]\"))\n",
    "comments = comments.filter(comments.body != \"\")"
   ]
  },
  {
   "cell_type": "markdown",
   "metadata": {},
   "source": [
    "## Showing Frequency of Comments and Submissions in r/jayhawks\n",
    "\n",
    "In order to analyze these subreddits, we'll begin by diving into the comment and submission frequency for r/jayhawks."
   ]
  },
  {
   "cell_type": "code",
   "execution_count": null,
   "metadata": {
    "vscode": {
     "languageId": "plaintext"
    }
   },
   "outputs": [],
   "source": [
    "from pyspark.sql.functions import *\n",
    "jayhawk_comments = (\n",
    "    comments\n",
    "    .filter(col(\"subreddit\") == \"jayhawks\")\n",
    "    .withColumn(\"day\", dayofmonth(col(\"created_utc\")))\n",
    "    .withColumn(\"month\", month(col(\"created_utc\")))\n",
    "    .withColumn(\"year\", year(col(\"created_utc\")))\n",
    "    .groupBy(\"year\", \"month\", \"day\")\n",
    "    .count()\n",
    ")\n",
    "jayhawk_comments_df = jayhawk_comments.toPandas()"
   ]
  },
  {
   "cell_type": "code",
   "execution_count": null,
   "metadata": {
    "vscode": {
     "languageId": "plaintext"
    }
   },
   "outputs": [],
   "source": [
    "import matplotlib.pyplot as plt\n",
    "import pandas as pd\n",
    "\n",
    "jayhawk_comments_df['date'] = pd.to_datetime(jayhawk_comments_df[['year', 'month', 'day']])\n",
    "jayhawk_comments_df = jayhawk_comments_df.sort_values(by='date') \n",
    "plt.figure(figsize=(8, 6))\n",
    "plt.plot(jayhawk_comments_df['date'], jayhawk_comments_df['count'], marker='.', linestyle='-')\n",
    "plt.xlabel('Date')\n",
    "plt.ylabel('Count')\n",
    "plt.title('Comment Count by Day (r/jayhawks)')\n",
    "plt.xticks(rotation=45)\n",
    "plt.tight_layout()\n",
    "plt.show()"
   ]
  },
  {
   "cell_type": "markdown",
   "metadata": {},
   "source": [
    "This shows us the comment frequency for r/jayhawks. \n",
    "\n",
    "*insert analysis here*\n",
    "\n",
    "Let's do the same thing for submissions and see if we get a similar result."
   ]
  },
  {
   "cell_type": "markdown",
   "metadata": {},
   "source": [
    "jayhawk_submissions = (\n",
    "    submissions\n",
    "    .filter(col(\"subreddit\") == \"jayhawks\")\n",
    "    .withColumn(\"day\", dayofmonth(col(\"created_utc\")))\n",
    "    .withColumn(\"month\", month(col(\"created_utc\")))\n",
    "    .withColumn(\"year\", year(col(\"created_utc\")))\n",
    "    .groupBy(\"year\", \"month\", \"day\")\n",
    "    .count()\n",
    ")\n",
    "jayhawk_submissions_df = jayhawk_submissions.toPandas()"
   ]
  },
  {
   "cell_type": "code",
   "execution_count": null,
   "metadata": {
    "vscode": {
     "languageId": "plaintext"
    }
   },
   "outputs": [],
   "source": [
    "jayhawk_submissions_df['date'] = pd.to_datetime(jayhawk_submissions_df[['year', 'month', 'day']])\n",
    "jayhawk_submissions_df = jayhawk_submissions_df.sort_values(by='date') \n",
    "plt.figure(figsize=(8, 6))\n",
    "plt.plot(jayhawk_submissions_df['date'], jayhawk_submissions_df['count'], marker='.', linestyle='-')\n",
    "plt.xlabel('Date')\n",
    "plt.ylabel('Count')\n",
    "plt.title('Submission Count by Day (r/jayhawks)')\n",
    "plt.xticks(rotation=45)\n",
    "plt.tight_layout()\n",
    "plt.show()"
   ]
  },
  {
   "cell_type": "markdown",
   "metadata": {},
   "source": [
    "Okay! Now we've completed the initial stages of our exploratory data analysis for r/jayhawks.\n",
    "\n",
    "*insert analysis here*\n",
    "\n",
    "We are going to continue this analysis and also do the same thing for r/tarheels.\n",
    "\n",
    "## Showing Frequency of Comments and Submissions in r/tarheels\n",
    "\n",
    "In order to analyze these subreddits, we'll begin by diving into the comment and submission frequency for r/tarheels."
   ]
  },
  {
   "cell_type": "code",
   "execution_count": null,
   "metadata": {
    "vscode": {
     "languageId": "plaintext"
    }
   },
   "outputs": [],
   "source": [
    "tarheel_comments = (\n",
    "    comments\n",
    "    .filter(col(\"subreddit\") == \"jayhawks\")\n",
    "    .withColumn(\"day\", dayofmonth(col(\"created_utc\")))\n",
    "    .withColumn(\"month\", month(col(\"created_utc\")))\n",
    "    .withColumn(\"year\", year(col(\"created_utc\")))\n",
    "    .groupBy(\"year\", \"month\", \"day\")\n",
    "    .count()\n",
    ")\n",
    "tarheel_comments_df = tarheel_comments.toPandas()"
   ]
  },
  {
   "cell_type": "code",
   "execution_count": null,
   "metadata": {
    "vscode": {
     "languageId": "plaintext"
    }
   },
   "outputs": [],
   "source": [
    "tarheel_comments_df['date'] = pd.to_datetime(tarheel_comments_df[['year', 'month', 'day']])\n",
    "tarheel_comments_df = tarheel_comments_df.sort_values(by='date') \n",
    "plt.figure(figsize=(8, 6))\n",
    "plt.plot(tarheel_comments_df['date'], tarheel_comments_df['count'], marker='.', linestyle='-')\n",
    "plt.xlabel('Date')\n",
    "plt.ylabel('Count')\n",
    "plt.title('Comment Count by Day (r/tarheels)')\n",
    "plt.xticks(rotation=45)\n",
    "plt.tight_layout()\n",
    "plt.show()"
   ]
  },
  {
   "cell_type": "markdown",
   "metadata": {},
   "source": [
    "That's a good start! This is interesting to compare to the r/jayhawks analysis of before.\n",
    "\n",
    "*insert analysis here*\n",
    "\n",
    "We'll do the same thing for submissions."
   ]
  },
  {
   "cell_type": "code",
   "execution_count": null,
   "metadata": {
    "vscode": {
     "languageId": "plaintext"
    }
   },
   "outputs": [],
   "source": [
    "tarheel_submissions = (\n",
    "    submissions\n",
    "    .filter(col(\"subreddit\") == \"tarheels\")\n",
    "    .withColumn(\"day\", dayofmonth(col(\"created_utc\")))\n",
    "    .withColumn(\"month\", month(col(\"created_utc\")))\n",
    "    .withColumn(\"year\", year(col(\"created_utc\")))\n",
    "    .groupBy(\"year\", \"month\", \"day\")\n",
    "    .count()\n",
    ")\n",
    "tarheel_submissions_df = tarheel_submissions.toPandas()"
   ]
  },
  {
   "cell_type": "code",
   "execution_count": null,
   "metadata": {
    "vscode": {
     "languageId": "plaintext"
    }
   },
   "outputs": [],
   "source": [
    "tarheel_submissions_df['date'] = pd.to_datetime(tarheel_submissions_df[['year', 'month', 'day']])\n",
    "tarheel_submissions_df = tarheel_submissions_df.sort_values(by='date') \n",
    "plt.figure(figsize=(8, 6))\n",
    "plt.plot(tarheel_submissions_df['date'], tarheel_submissions_df['count'], marker='.', linestyle='-')\n",
    "plt.xlabel('Date')\n",
    "plt.ylabel('Count')\n",
    "plt.title('Submission Count by Day (r/tarheels)')\n",
    "plt.xticks(rotation=45)\n",
    "plt.tight_layout()\n",
    "plt.show()"
   ]
  },
  {
   "cell_type": "markdown",
   "metadata": {},
   "source": [
    "Okay! That was great as well. Here is how that compares to the r/jayhawks subreddit:\n",
    "\n",
    "*insert analysis*"
   ]
  },
  {
   "cell_type": "markdown",
   "metadata": {},
   "source": [
    "## Extra Analysis: Do Others Teams Appear on r/tarheels?\n",
    "\n",
    "To take this analysis one step further, we wanted to find out if mentions of other teams made their way onto the r/tarheels subreddit. We chose to do this on the tarheels subreddit because it has more mentions and thus has a larger sample size to determine if this occurs. To align with our exploratory analysis in EDA question 4, we chose a few major teams to check for mentions of. Below is our analysis."
   ]
  },
  {
   "cell_type": "code",
   "execution_count": null,
   "metadata": {
    "vscode": {
     "languageId": "plaintext"
    }
   },
   "outputs": [],
   "source": [
    "other_team_keywords = {\n",
    "    'houston': ['houston', 'cougars', 'uh'],\n",
    "    'kansas': ['kansas', 'jayhawks', 'ku', 'rockchalk'],\n",
    "    'villanova': ['villanova', 'wildcats', 'nova'],\n",
    "    'duke': ['duke', 'blue devils'],\n",
    "    'arkansas': ['arkansas', 'razorbacks', 'hogs', 'u of a'],\n",
    "    'saint peters': [\"saint peter's\", 'peacocks', 'saint peters', \"st. peter's\", 'st peters', 'spu'],\n",
    "    'miami': ['miami', 'hurricanes', 'um']\n",
    "}"
   ]
  },
  {
   "cell_type": "code",
   "execution_count": null,
   "metadata": {
    "vscode": {
     "languageId": "plaintext"
    }
   },
   "outputs": [],
   "source": [
    "tarheel_comments_df = tarheel_comments_df.withColumn('body', lower(col('body')))\n",
    "tarheel_submissions_df = tarheel_submissions_df.withColumn('title', lower(col('title')))\\\n",
    "                         .withColumn('selftext', lower(col('selftext')))"
   ]
  },
  {
   "cell_type": "code",
   "execution_count": null,
   "metadata": {
    "vscode": {
     "languageId": "plaintext"
    }
   },
   "outputs": [],
   "source": [
    "def keyword_present(text, keywords):\n",
    "    if text:\n",
    "        return any(keyword in text for keyword in keywords)\n",
    "    return False\n",
    "\n",
    "keyword_udf = udf(keyword_present, BooleanType())"
   ]
  }
 ],
 "metadata": {
  "language_info": {
   "name": "python"
  }
 },
 "nbformat": 4,
 "nbformat_minor": 2
}

{
  "cells": [
    {
      "cell_type": "raw",
      "metadata": {},
      "source": [
        "---\n",
        "format: html\n",
        "embed-resources: True\n",
        "---"
      ]
    },
    {
      "cell_type": "markdown",
      "metadata": {
        "nteract": {
          "transient": {
            "deleting": false
          }
        }
      },
      "source": [
        "Business Goal 8:\n",
        "Determine if sentiment correlates with the team success. Identify fan sentiment throughout the season.\n",
        "\n",
        "Technical proposal:\n",
        "Identify fan sentiment in the subreddit. With the external dataset about ranking, determine whether sentiment correlates with the success of the team."
      ]
    },
    {
      "cell_type": "code",
      "execution_count": 1,
      "metadata": {
        "gather": {
          "logged": 1700455419230
        },
        "jupyter": {
          "outputs_hidden": false,
          "source_hidden": false
        },
        "nteract": {
          "transient": {
            "deleting": false
          }
        }
      },
      "outputs": [
        {
          "data": {
            "application/vnd.livy.statement-meta+json": {
              "execution_finish_time": "2023-11-20T04:43:39.0940429Z",
              "execution_start_time": "2023-11-20T04:43:38.7198036Z",
              "livy_statement_state": "available",
              "parent_msg_id": "d15c5dfd-1da0-45bf-b74b-aa81cba69e5f",
              "queued_time": "2023-11-20T04:42:47.3401796Z",
              "session_id": "48",
              "session_start_time": "2023-11-20T04:42:47.3760435Z",
              "spark_jobs": {
                "jobs": [],
                "limit": 20,
                "numbers": {
                  "FAILED": 0,
                  "RUNNING": 0,
                  "SUCCEEDED": 0,
                  "UNKNOWN": 0
                },
                "rule": "ALL_DESC"
              },
              "spark_pool": "7c27951d-2bdf-4140-be82-d0dc0c0e7d8e",
              "state": "finished",
              "statement_id": 6
            },
            "text/plain": [
              "StatementMeta(7c27951d-2bdf-4140-be82-d0dc0c0e7d8e, 48, 6, Finished, Available)"
            ]
          },
          "metadata": {},
          "output_type": "display_data"
        },
        {
          "data": {
            "text/html": [
              "\n",
              "            <div>\n",
              "                <p><b>SparkSession - hive</b></p>\n",
              "                \n",
              "        <div>\n",
              "            <p><b>SparkContext</b></p>\n",
              "\n",
              "            <p><a href=\"http://vm-aab73809:36633\">Spark UI</a></p>\n",
              "\n",
              "            <dl>\n",
              "              <dt>Version</dt>\n",
              "                <dd><code>v3.2.2.5.1-100879434</code></dd>\n",
              "              <dt>Master</dt>\n",
              "                <dd><code>yarn</code></dd>\n",
              "              <dt>AppName</dt>\n",
              "                <dd><code>Azure ML Experiment</code></dd>\n",
              "            </dl>\n",
              "        </div>\n",
              "        \n",
              "            </div>\n",
              "        "
            ],
            "text/plain": [
              "<pyspark.sql.session.SparkSession at 0x7fa1ce400400>"
            ]
          },
          "execution_count": 11,
          "metadata": {},
          "output_type": "execute_result"
        }
      ],
      "source": [
        "spark"
      ]
    },
    {
      "cell_type": "markdown",
      "metadata": {
        "nteract": {
          "transient": {
            "deleting": false
          }
        }
      },
      "source": [
        "First, install the John Snow Labs package."
      ]
    },
    {
      "cell_type": "code",
      "execution_count": 3,
      "metadata": {
        "jupyter": {
          "outputs_hidden": false,
          "source_hidden": false
        },
        "nteract": {
          "transient": {
            "deleting": false
          }
        }
      },
      "outputs": [
        {
          "data": {
            "application/vnd.livy.statement-meta+json": {
              "execution_finish_time": "2023-11-20T04:47:56.9892323Z",
              "execution_start_time": "2023-11-20T04:47:56.9580217Z",
              "livy_statement_state": "available",
              "parent_msg_id": "b6c8bedb-cbba-4da5-a28d-462269f8c5bf",
              "queued_time": "2023-11-20T04:46:29.0835053Z",
              "session_id": "50",
              "session_start_time": "2023-11-20T04:46:29.2083689Z",
              "spark_jobs": {
                "jobs": [],
                "limit": 20,
                "numbers": {
                  "FAILED": 0,
                  "RUNNING": 0,
                  "SUCCEEDED": 0,
                  "UNKNOWN": 0
                },
                "rule": "ALL_DESC"
              },
              "spark_pool": "7c27951d-2bdf-4140-be82-d0dc0c0e7d8e",
              "state": "finished",
              "statement_id": -1
            },
            "text/plain": [
              "StatementMeta(7c27951d-2bdf-4140-be82-d0dc0c0e7d8e, 50, -1, Finished, Available)"
            ]
          },
          "metadata": {},
          "output_type": "display_data"
        },
        {
          "name": "stdout",
          "output_type": "stream",
          "text": [
            "Unrecognized options: "
          ]
        }
      ],
      "source": [
        "%%configure -f \\\n",
        "{\"conf\": {\"spark.jars.packages\": \"com.johnsnowlabs.nlp:spark-nlp_2.12:5.1.2\"}}"
      ]
    },
    {
      "cell_type": "markdown",
      "metadata": {
        "nteract": {
          "transient": {
            "deleting": false
          }
        }
      },
      "source": [
        "Install the package on the Spark driver."
      ]
    },
    {
      "cell_type": "code",
      "execution_count": 4,
      "metadata": {
        "jupyter": {
          "outputs_hidden": false,
          "source_hidden": false
        },
        "nteract": {
          "transient": {
            "deleting": false
          }
        }
      },
      "outputs": [
        {
          "data": {
            "application/vnd.livy.statement-meta+json": {
              "execution_finish_time": "2023-11-20T04:48:34.8716164Z",
              "execution_start_time": "2023-11-20T04:48:26.8276023Z",
              "livy_statement_state": "available",
              "parent_msg_id": "7e090af5-251c-4dad-964a-8b5e76c6d984",
              "queued_time": "2023-11-20T04:48:07.7433235Z",
              "session_id": "50",
              "session_start_time": null,
              "spark_jobs": {
                "jobs": [],
                "limit": 20,
                "numbers": {
                  "FAILED": 0,
                  "RUNNING": 0,
                  "SUCCEEDED": 0,
                  "UNKNOWN": 0
                },
                "rule": "ALL_DESC"
              },
              "spark_pool": "7c27951d-2bdf-4140-be82-d0dc0c0e7d8e",
              "state": "finished",
              "statement_id": 6
            },
            "text/plain": [
              "StatementMeta(7c27951d-2bdf-4140-be82-d0dc0c0e7d8e, 50, 6, Finished, Available)"
            ]
          },
          "metadata": {},
          "output_type": "display_data"
        },
        {
          "name": "stdout",
          "output_type": "stream",
          "text": [
            "Collecting spark-nlp\n",
            "  Downloading spark_nlp-5.1.4-py2.py3-none-any.whl (540 kB)\n",
            "\u001b[K     |████████████████████████████████| 540 kB 10.6 MB/s eta 0:00:01\n",
            "\u001b[?25hInstalling collected packages: spark-nlp\n",
            "Successfully installed spark-nlp-5.1.4\n"
          ]
        }
      ],
      "source": [
        "!pip install spark-nlp"
      ]
    },
    {
      "cell_type": "markdown",
      "metadata": {
        "nteract": {
          "transient": {
            "deleting": false
          }
        }
      },
      "source": [
        "Import necessary libraries."
      ]
    },
    {
      "cell_type": "code",
      "execution_count": 5,
      "metadata": {
        "gather": {
          "logged": 1700455720031
        },
        "jupyter": {
          "outputs_hidden": false,
          "source_hidden": false
        },
        "nteract": {
          "transient": {
            "deleting": false
          }
        }
      },
      "outputs": [
        {
          "data": {
            "application/vnd.livy.statement-meta+json": {
              "execution_finish_time": "2023-11-20T04:48:39.9019286Z",
              "execution_start_time": "2023-11-20T04:48:38.4256271Z",
              "livy_statement_state": "available",
              "parent_msg_id": "77e2397b-517b-429f-9485-a6bc5e71c66d",
              "queued_time": "2023-11-20T04:48:38.3272867Z",
              "session_id": "50",
              "session_start_time": null,
              "spark_jobs": {
                "jobs": [],
                "limit": 20,
                "numbers": {
                  "FAILED": 0,
                  "RUNNING": 0,
                  "SUCCEEDED": 0,
                  "UNKNOWN": 0
                },
                "rule": "ALL_DESC"
              },
              "spark_pool": "7c27951d-2bdf-4140-be82-d0dc0c0e7d8e",
              "state": "finished",
              "statement_id": 7
            },
            "text/plain": [
              "StatementMeta(7c27951d-2bdf-4140-be82-d0dc0c0e7d8e, 50, 7, Finished, Available)"
            ]
          },
          "metadata": {},
          "output_type": "display_data"
        }
      ],
      "source": [
        "import pandas as pd\n",
        "import numpy as np\n",
        "from pyspark.ml import Pipeline\n",
        "from pyspark.sql import SparkSession\n",
        "import pyspark.sql.functions as F\n",
        "import matplotlib.pyplot as plt\n",
        "\n",
        "import sparknlp\n",
        "from sparknlp.annotator import *\n",
        "from sparknlp.base import *\n",
        "from sparknlp.pretrained import PretrainedPipeline"
      ]
    },
    {
      "cell_type": "code",
      "execution_count": 6,
      "metadata": {
        "gather": {
          "logged": 1700455722580
        },
        "jupyter": {
          "outputs_hidden": false,
          "source_hidden": false
        },
        "nteract": {
          "transient": {
            "deleting": false
          }
        }
      },
      "outputs": [
        {
          "data": {
            "application/vnd.livy.statement-meta+json": {
              "execution_finish_time": "2023-11-20T04:48:42.4468958Z",
              "execution_start_time": "2023-11-20T04:48:42.1411412Z",
              "livy_statement_state": "available",
              "parent_msg_id": "ec5c64f8-de0f-4f83-9bcb-525790e3c9ec",
              "queued_time": "2023-11-20T04:48:42.0212568Z",
              "session_id": "50",
              "session_start_time": null,
              "spark_jobs": {
                "jobs": [],
                "limit": 20,
                "numbers": {
                  "FAILED": 0,
                  "RUNNING": 0,
                  "SUCCEEDED": 0,
                  "UNKNOWN": 0
                },
                "rule": "ALL_DESC"
              },
              "spark_pool": "7c27951d-2bdf-4140-be82-d0dc0c0e7d8e",
              "state": "finished",
              "statement_id": 8
            },
            "text/plain": [
              "StatementMeta(7c27951d-2bdf-4140-be82-d0dc0c0e7d8e, 50, 8, Finished, Available)"
            ]
          },
          "metadata": {},
          "output_type": "display_data"
        }
      ],
      "source": [
        "from pyspark.sql.functions import col, when, to_date, weekofyear, sum, concat_ws, year"
      ]
    },
    {
      "cell_type": "markdown",
      "metadata": {
        "nteract": {
          "transient": {
            "deleting": false
          }
        }
      },
      "source": [
        "Then, read in the clean data."
      ]
    },
    {
      "cell_type": "code",
      "execution_count": 7,
      "metadata": {
        "gather": {
          "logged": 1700455732497
        },
        "jupyter": {
          "outputs_hidden": false,
          "source_hidden": false
        },
        "nteract": {
          "transient": {
            "deleting": false
          }
        }
      },
      "outputs": [
        {
          "data": {
            "application/vnd.livy.statement-meta+json": {
              "execution_finish_time": "2023-11-20T04:48:52.3588385Z",
              "execution_start_time": "2023-11-20T04:48:45.4254839Z",
              "livy_statement_state": "available",
              "parent_msg_id": "f5e71c19-b1f2-46e7-9a13-c23bffb29373",
              "queued_time": "2023-11-20T04:48:45.3164239Z",
              "session_id": "50",
              "session_start_time": null,
              "spark_jobs": {
                "jobs": [
                  {
                    "completionTime": "2023-11-20T04:48:51.924GMT",
                    "dataRead": 0,
                    "dataWritten": 0,
                    "description": "Job group for statement 9:\nworkspace_default_storage_account = \"aml6214727930\"\nworkspace_default_container = \"azureml-blobstore-6653633b-3460-4381-9199-d9e0f368353c\"\n\nworkspace_wasbs_base_url = (\n    f\"wasbs://{workspace_default_container}@{workspace_default_storage_account}.blob.core.windows.net/\"\n)\n\ncomments_path = \"/basketball_comments_nlp.parquet\"\nsubmissions_path = \"/basketball_submissions_nlp.parquet\"\n\ncomments = spark.read.parquet(f\"{workspace_wasbs_base_url}{comments_path}\")\nsubmissions = spark.read.parquet(f\"{workspace_wasbs_base_url}{submissions_path}\")",
                    "displayName": "parquet at NativeMethodAccessorImpl.java:0",
                    "jobGroup": "9",
                    "jobId": 1,
                    "killedTasksSummary": {},
                    "name": "parquet at NativeMethodAccessorImpl.java:0",
                    "numActiveStages": 0,
                    "numActiveTasks": 0,
                    "numCompletedIndices": 1,
                    "numCompletedStages": 1,
                    "numCompletedTasks": 1,
                    "numFailedStages": 0,
                    "numFailedTasks": 0,
                    "numKilledTasks": 0,
                    "numSkippedStages": 0,
                    "numSkippedTasks": 0,
                    "numTasks": 1,
                    "rowCount": 0,
                    "stageIds": [
                      1
                    ],
                    "status": "SUCCEEDED",
                    "submissionTime": "2023-11-20T04:48:51.724GMT",
                    "usageDescription": ""
                  },
                  {
                    "completionTime": "2023-11-20T04:48:49.909GMT",
                    "dataRead": 0,
                    "dataWritten": 0,
                    "description": "Job group for statement 9:\nworkspace_default_storage_account = \"aml6214727930\"\nworkspace_default_container = \"azureml-blobstore-6653633b-3460-4381-9199-d9e0f368353c\"\n\nworkspace_wasbs_base_url = (\n    f\"wasbs://{workspace_default_container}@{workspace_default_storage_account}.blob.core.windows.net/\"\n)\n\ncomments_path = \"/basketball_comments_nlp.parquet\"\nsubmissions_path = \"/basketball_submissions_nlp.parquet\"\n\ncomments = spark.read.parquet(f\"{workspace_wasbs_base_url}{comments_path}\")\nsubmissions = spark.read.parquet(f\"{workspace_wasbs_base_url}{submissions_path}\")",
                    "displayName": "parquet at NativeMethodAccessorImpl.java:0",
                    "jobGroup": "9",
                    "jobId": 0,
                    "killedTasksSummary": {},
                    "name": "parquet at NativeMethodAccessorImpl.java:0",
                    "numActiveStages": 0,
                    "numActiveTasks": 0,
                    "numCompletedIndices": 1,
                    "numCompletedStages": 1,
                    "numCompletedTasks": 1,
                    "numFailedStages": 0,
                    "numFailedTasks": 0,
                    "numKilledTasks": 0,
                    "numSkippedStages": 0,
                    "numSkippedTasks": 0,
                    "numTasks": 1,
                    "rowCount": 0,
                    "stageIds": [
                      0
                    ],
                    "status": "SUCCEEDED",
                    "submissionTime": "2023-11-20T04:48:46.247GMT",
                    "usageDescription": ""
                  }
                ],
                "limit": 20,
                "numbers": {
                  "FAILED": 0,
                  "RUNNING": 0,
                  "SUCCEEDED": 2,
                  "UNKNOWN": 0
                },
                "rule": "ALL_DESC"
              },
              "spark_pool": "7c27951d-2bdf-4140-be82-d0dc0c0e7d8e",
              "state": "finished",
              "statement_id": 9
            },
            "text/plain": [
              "StatementMeta(7c27951d-2bdf-4140-be82-d0dc0c0e7d8e, 50, 9, Finished, Available)"
            ]
          },
          "metadata": {},
          "output_type": "display_data"
        }
      ],
      "source": [
        "workspace_default_storage_account = \"aml6214727930\"\n",
        "workspace_default_container = \"azureml-blobstore-6653633b-3460-4381-9199-d9e0f368353c\"\n",
        "\n",
        "workspace_wasbs_base_url = (\n",
        "    f\"wasbs://{workspace_default_container}@{workspace_default_storage_account}.blob.core.windows.net/\"\n",
        ")\n",
        "\n",
        "comments_path = \"/basketball_comments_nlp.parquet\"\n",
        "submissions_path = \"/basketball_submissions_nlp.parquet\"\n",
        "\n",
        "comments = spark.read.parquet(f\"{workspace_wasbs_base_url}{comments_path}\")\n",
        "submissions = spark.read.parquet(f\"{workspace_wasbs_base_url}{submissions_path}\")"
      ]
    },
    {
      "cell_type": "code",
      "execution_count": 18,
      "metadata": {
        "gather": {
          "logged": 1700427889192
        },
        "jupyter": {
          "outputs_hidden": false,
          "source_hidden": false
        },
        "nteract": {
          "transient": {
            "deleting": false
          }
        }
      },
      "outputs": [
        {
          "data": {
            "application/vnd.livy.statement-meta+json": {
              "execution_finish_time": "2023-11-19T21:04:49.1061554Z",
              "execution_start_time": "2023-11-19T21:04:46.6845717Z",
              "livy_statement_state": "available",
              "parent_msg_id": "25b4bdfb-9eac-48f8-b804-10b21b1393b0",
              "queued_time": "2023-11-19T21:04:46.5641339Z",
              "session_id": "43",
              "session_start_time": null,
              "spark_jobs": {
                "jobs": [
                  {
                    "completionTime": "2023-11-19T21:04:47.983GMT",
                    "dataRead": 25477185,
                    "dataWritten": 0,
                    "description": "Job group for statement 20:\ncomments.show(3)",
                    "displayName": "showString at NativeMethodAccessorImpl.java:0",
                    "jobGroup": "20",
                    "jobId": 8,
                    "killedTasksSummary": {},
                    "name": "showString at NativeMethodAccessorImpl.java:0",
                    "numActiveStages": 0,
                    "numActiveTasks": 0,
                    "numCompletedIndices": 1,
                    "numCompletedStages": 1,
                    "numCompletedTasks": 1,
                    "numFailedStages": 0,
                    "numFailedTasks": 0,
                    "numKilledTasks": 0,
                    "numSkippedStages": 0,
                    "numSkippedTasks": 0,
                    "numTasks": 1,
                    "rowCount": 4,
                    "stageIds": [
                      8
                    ],
                    "status": "SUCCEEDED",
                    "submissionTime": "2023-11-19T21:04:46.806GMT",
                    "usageDescription": ""
                  }
                ],
                "limit": 20,
                "numbers": {
                  "FAILED": 0,
                  "RUNNING": 0,
                  "SUCCEEDED": 1,
                  "UNKNOWN": 0
                },
                "rule": "ALL_DESC"
              },
              "spark_pool": "7c27951d-2bdf-4140-be82-d0dc0c0e7d8e",
              "state": "finished",
              "statement_id": 20
            },
            "text/plain": [
              "StatementMeta(7c27951d-2bdf-4140-be82-d0dc0c0e7d8e, 43, 20, Finished, Available)"
            ]
          },
          "metadata": {},
          "output_type": "display_data"
        },
        {
          "name": "stdout",
          "output_type": "stream",
          "text": [
            "+-----------------+------------+--------------------+--------------------+----------+---------+-------+-------------------+--------------+---+-----+----+--------------------+\n",
            "|        subreddit|      author|   author_flair_text|                body| parent_id|  link_id|     id|        created_utc|supported_team|day|month|year|          clean_text|\n",
            "+-----------------+------------+--------------------+--------------------+----------+---------+-------+-------------------+--------------+---+-----+----+--------------------+\n",
            "|CollegeBasketball|DaddyStone13|:cincinnati: :big...|lol i forgot abou...|t1_hkiua9s|t3_qtcawg|hkiungs|2021-11-14 00:27:51|    cincinnati| 14|   11|2021|[lol, forget, foo...|\n",
            "|CollegeBasketball| seahawksjoe|   :usc: USC Trojans|Also, half of the...| t3_qtcaw2|t3_qtcaw2|hkiuqzc|2021-11-14 00:28:36|           usc| 14|   11|2021|[half, foul, aren...|\n",
            "|CollegeBasketball|CheeseAndCam|:iowastate: Iowa ...|I like how Creigh...| t3_qt70bd|t3_qt70bd|hkiuy80|2021-11-14 00:30:06|     iowastate| 14|   11|2021|[like, creighton,...|\n",
            "+-----------------+------------+--------------------+--------------------+----------+---------+-------+-------------------+--------------+---+-----+----+--------------------+\n",
            "only showing top 3 rows\n",
            "\n"
          ]
        }
      ],
      "source": [
        "comments.show(3)"
      ]
    },
    {
      "cell_type": "code",
      "execution_count": 9,
      "metadata": {
        "gather": {
          "logged": 1700419004064
        },
        "jupyter": {
          "outputs_hidden": false,
          "source_hidden": false
        },
        "nteract": {
          "transient": {
            "deleting": false
          }
        }
      },
      "outputs": [
        {
          "data": {
            "application/vnd.livy.statement-meta+json": {
              "execution_finish_time": "2023-11-19T18:36:43.8852861Z",
              "execution_start_time": "2023-11-19T18:36:40.3004399Z",
              "livy_statement_state": "available",
              "parent_msg_id": "3831a479-5d80-4e65-9216-ad11d9836bf9",
              "queued_time": "2023-11-19T18:36:40.1842891Z",
              "session_id": "41",
              "session_start_time": null,
              "spark_jobs": {
                "jobs": [
                  {
                    "completionTime": "2023-11-19T18:36:42.782GMT",
                    "dataRead": 1714342,
                    "dataWritten": 0,
                    "description": "Job group for statement 12:\nsubmissions.show(3)",
                    "displayName": "showString at NativeMethodAccessorImpl.java:0",
                    "jobGroup": "12",
                    "jobId": 3,
                    "killedTasksSummary": {},
                    "name": "showString at NativeMethodAccessorImpl.java:0",
                    "numActiveStages": 0,
                    "numActiveTasks": 0,
                    "numCompletedIndices": 1,
                    "numCompletedStages": 1,
                    "numCompletedTasks": 1,
                    "numFailedStages": 0,
                    "numFailedTasks": 0,
                    "numKilledTasks": 0,
                    "numSkippedStages": 0,
                    "numSkippedTasks": 0,
                    "numTasks": 1,
                    "rowCount": 4,
                    "stageIds": [
                      3
                    ],
                    "status": "SUCCEEDED",
                    "submissionTime": "2023-11-19T18:36:40.533GMT",
                    "usageDescription": ""
                  }
                ],
                "limit": 20,
                "numbers": {
                  "FAILED": 0,
                  "RUNNING": 0,
                  "SUCCEEDED": 1,
                  "UNKNOWN": 0
                },
                "rule": "ALL_DESC"
              },
              "spark_pool": "7c27951d-2bdf-4140-be82-d0dc0c0e7d8e",
              "state": "finished",
              "statement_id": 12
            },
            "text/plain": [
              "StatementMeta(7c27951d-2bdf-4140-be82-d0dc0c0e7d8e, 41, 12, Finished, Available)"
            ]
          },
          "metadata": {},
          "output_type": "display_data"
        },
        {
          "name": "stdout",
          "output_type": "stream",
          "text": [
            "+-----------------+-------------+--------------------+--------------------+--------------------+-------------------+------------+--------------+-----------+------------+---------+------------+---------+---------+--------------+---+-----+----+--------------------+\n",
            "|        subreddit|       author|   author_flair_text|               title|            selftext|        created_utc|num_comments|supported_team|game_thread|home_ranking|home_team|away_ranking|away_team|game_time|ranked_matchup|day|month|year|          clean_text|\n",
            "+-----------------+-------------+--------------------+--------------------+--------------------+-------------------+------------+--------------+-----------+------------+---------+------------+---------+---------+--------------+---+-----+----+--------------------+\n",
            "|CollegeBasketball|      rCBBMod|:rcbb: /r/College...|Announcement: The...|Hello r/CollegeBa...|2022-03-17 14:00:50|           9|          rcbb|      false|            |         |            |         |         |         false| 17|    3|2022|[hello, rcollegeb...|\n",
            "|CollegeBasketball|AutoModerator|                null|[Weekly Post] Fre...|Are you new to th...|2022-04-29 15:00:11|           0|          null|      false|            |         |            |         |         |         false| 29|    4|2022|[new, game, stupi...|\n",
            "|CollegeBasketball|AutoModerator|                null|[Weekly Post] Fre...|It's Free Talk Fr...|2022-04-29 15:00:11|           1|          null|      false|            |         |            |         |         |         false| 29|    4|2022|[it, free, talk, ...|\n",
            "+-----------------+-------------+--------------------+--------------------+--------------------+-------------------+------------+--------------+-----------+------------+---------+------------+---------+---------+--------------+---+-----+----+--------------------+\n",
            "only showing top 3 rows\n",
            "\n"
          ]
        }
      ],
      "source": [
        "submissions.show(3)"
      ]
    },
    {
      "cell_type": "markdown",
      "metadata": {
        "nteract": {
          "transient": {
            "deleting": false
          }
        }
      },
      "source": [
        "In the column 'clean_text', we can see there are lists of tokens. Let's combine them together to strings and then we can do sentiment analysis on them."
      ]
    },
    {
      "cell_type": "code",
      "execution_count": 8,
      "metadata": {
        "gather": {
          "logged": 1700455736502
        },
        "jupyter": {
          "outputs_hidden": false,
          "source_hidden": false
        },
        "nteract": {
          "transient": {
            "deleting": false
          }
        }
      },
      "outputs": [
        {
          "data": {
            "application/vnd.livy.statement-meta+json": {
              "execution_finish_time": "2023-11-20T04:48:56.3642909Z",
              "execution_start_time": "2023-11-20T04:48:56.0706724Z",
              "livy_statement_state": "available",
              "parent_msg_id": "1b6c1252-f779-4820-902a-65fc9d2764ff",
              "queued_time": "2023-11-20T04:48:55.9644535Z",
              "session_id": "50",
              "session_start_time": null,
              "spark_jobs": {
                "jobs": [],
                "limit": 20,
                "numbers": {
                  "FAILED": 0,
                  "RUNNING": 0,
                  "SUCCEEDED": 0,
                  "UNKNOWN": 0
                },
                "rule": "ALL_DESC"
              },
              "spark_pool": "7c27951d-2bdf-4140-be82-d0dc0c0e7d8e",
              "state": "finished",
              "statement_id": 10
            },
            "text/plain": [
              "StatementMeta(7c27951d-2bdf-4140-be82-d0dc0c0e7d8e, 50, 10, Finished, Available)"
            ]
          },
          "metadata": {},
          "output_type": "display_data"
        }
      ],
      "source": [
        "comments = comments.withColumn('clean_text', concat_ws(' ', 'clean_text'))"
      ]
    },
    {
      "cell_type": "code",
      "execution_count": 21,
      "metadata": {
        "gather": {
          "logged": 1700428042261
        },
        "jupyter": {
          "outputs_hidden": false,
          "source_hidden": false
        },
        "nteract": {
          "transient": {
            "deleting": false
          }
        }
      },
      "outputs": [
        {
          "data": {
            "application/vnd.livy.statement-meta+json": {
              "execution_finish_time": "2023-11-19T21:07:22.1376741Z",
              "execution_start_time": "2023-11-19T21:07:14.9348365Z",
              "livy_statement_state": "available",
              "parent_msg_id": "32260fdd-77c7-430b-bc4e-6a4d1a714d12",
              "queued_time": "2023-11-19T21:07:14.8367043Z",
              "session_id": "43",
              "session_start_time": null,
              "spark_jobs": {
                "jobs": [
                  {
                    "completionTime": "2023-11-19T21:07:20.575GMT",
                    "dataRead": 25480190,
                    "dataWritten": 0,
                    "description": "Job group for statement 23:\ncomments.show(3)",
                    "displayName": "showString at NativeMethodAccessorImpl.java:0",
                    "jobGroup": "23",
                    "jobId": 9,
                    "killedTasksSummary": {},
                    "name": "showString at NativeMethodAccessorImpl.java:0",
                    "numActiveStages": 0,
                    "numActiveTasks": 0,
                    "numCompletedIndices": 1,
                    "numCompletedStages": 1,
                    "numCompletedTasks": 1,
                    "numFailedStages": 0,
                    "numFailedTasks": 0,
                    "numKilledTasks": 0,
                    "numSkippedStages": 0,
                    "numSkippedTasks": 0,
                    "numTasks": 1,
                    "rowCount": 4,
                    "stageIds": [
                      9
                    ],
                    "status": "SUCCEEDED",
                    "submissionTime": "2023-11-19T21:07:15.088GMT",
                    "usageDescription": ""
                  }
                ],
                "limit": 20,
                "numbers": {
                  "FAILED": 0,
                  "RUNNING": 0,
                  "SUCCEEDED": 1,
                  "UNKNOWN": 0
                },
                "rule": "ALL_DESC"
              },
              "spark_pool": "7c27951d-2bdf-4140-be82-d0dc0c0e7d8e",
              "state": "finished",
              "statement_id": 23
            },
            "text/plain": [
              "StatementMeta(7c27951d-2bdf-4140-be82-d0dc0c0e7d8e, 43, 23, Finished, Available)"
            ]
          },
          "metadata": {},
          "output_type": "display_data"
        },
        {
          "name": "stdout",
          "output_type": "stream",
          "text": [
            "+-----------------+------------+--------------------+--------------------+----------+---------+-------+-------------------+--------------+---+-----+----+--------------------+\n",
            "|        subreddit|      author|   author_flair_text|                body| parent_id|  link_id|     id|        created_utc|supported_team|day|month|year|          clean_text|\n",
            "+-----------------+------------+--------------------+--------------------+----------+---------+-------+-------------------+--------------+---+-----+----+--------------------+\n",
            "|CollegeBasketball|DaddyStone13|:cincinnati: :big...|lol i forgot abou...|t1_hkiua9s|t3_qtcawg|hkiungs|2021-11-14 00:27:51|    cincinnati| 14|   11|2021|lol forget footba...|\n",
            "|CollegeBasketball| seahawksjoe|   :usc: USC Trojans|Also, half of the...| t3_qtcaw2|t3_qtcaw2|hkiuqzc|2021-11-14 00:28:36|           usc| 14|   11|2021|half foul arent f...|\n",
            "|CollegeBasketball|CheeseAndCam|:iowastate: Iowa ...|I like how Creigh...| t3_qt70bd|t3_qt70bd|hkiuy80|2021-11-14 00:30:06|     iowastate| 14|   11|2021|like creighton ne...|\n",
            "+-----------------+------------+--------------------+--------------------+----------+---------+-------+-------------------+--------------+---+-----+----+--------------------+\n",
            "only showing top 3 rows\n",
            "\n"
          ]
        }
      ],
      "source": [
        "comments.show(3)"
      ]
    },
    {
      "cell_type": "markdown",
      "metadata": {
        "nteract": {
          "transient": {
            "deleting": false
          }
        }
      },
      "source": [
        "Select the DL model."
      ]
    },
    {
      "cell_type": "code",
      "execution_count": 9,
      "metadata": {
        "gather": {
          "logged": 1700455741173
        },
        "jupyter": {
          "outputs_hidden": false,
          "source_hidden": false
        },
        "nteract": {
          "transient": {
            "deleting": false
          }
        }
      },
      "outputs": [
        {
          "data": {
            "application/vnd.livy.statement-meta+json": {
              "execution_finish_time": "2023-11-20T04:49:00.9051343Z",
              "execution_start_time": "2023-11-20T04:49:00.6177466Z",
              "livy_statement_state": "available",
              "parent_msg_id": "c3218492-7e6a-4d27-8fe5-070743ad310a",
              "queued_time": "2023-11-20T04:49:00.5209971Z",
              "session_id": "50",
              "session_start_time": null,
              "spark_jobs": {
                "jobs": [],
                "limit": 20,
                "numbers": {
                  "FAILED": 0,
                  "RUNNING": 0,
                  "SUCCEEDED": 0,
                  "UNKNOWN": 0
                },
                "rule": "ALL_DESC"
              },
              "spark_pool": "7c27951d-2bdf-4140-be82-d0dc0c0e7d8e",
              "state": "finished",
              "statement_id": 11
            },
            "text/plain": [
              "StatementMeta(7c27951d-2bdf-4140-be82-d0dc0c0e7d8e, 50, 11, Finished, Available)"
            ]
          },
          "metadata": {},
          "output_type": "display_data"
        }
      ],
      "source": [
        "model_name = 'sentimentdl_use_twitter'"
      ]
    },
    {
      "cell_type": "markdown",
      "metadata": {
        "nteract": {
          "transient": {
            "deleting": false
          }
        }
      },
      "source": [
        "Define the NLP pipeline."
      ]
    },
    {
      "cell_type": "code",
      "execution_count": 10,
      "metadata": {
        "gather": {
          "logged": 1700455843904
        },
        "jupyter": {
          "outputs_hidden": false,
          "source_hidden": false
        },
        "nteract": {
          "transient": {
            "deleting": false
          }
        }
      },
      "outputs": [
        {
          "data": {
            "application/vnd.livy.statement-meta+json": {
              "execution_finish_time": "2023-11-20T04:50:43.7109499Z",
              "execution_start_time": "2023-11-20T04:49:31.3979139Z",
              "livy_statement_state": "available",
              "parent_msg_id": "cf45b754-c479-4ddd-9761-3b8176a463ab",
              "queued_time": "2023-11-20T04:49:31.2806827Z",
              "session_id": "50",
              "session_start_time": null,
              "spark_jobs": {
                "jobs": [
                  {
                    "completionTime": "2023-11-20T04:50:40.672GMT",
                    "dataRead": 650,
                    "dataWritten": 0,
                    "description": "Job group for statement 12:\ndocumentAssembler = DocumentAssembler()    .setInputCol('clean_text')    .setOutputCol('document')\n\nuse = UniversalSentenceEncoder.pretrained(name = 'tfhub_use', lang = 'en') .setInputCols(['document']) .setOutputCol('sentence_embeddings')\n\nsentimentdl = SentimentDLModel.pretrained(name = model_name, lang = 'en')    .setInputCols(['sentence_embeddings'])    .setOutputCol('sentiment')\n\nnlpPipeline = Pipeline(\n    stages = [documentAssembler,\n              use,\n              sentimentdl]\n)\n",
                    "displayName": "first at Feature.scala:182",
                    "jobGroup": "12",
                    "jobId": 5,
                    "killedTasksSummary": {},
                    "name": "first at Feature.scala:182",
                    "numActiveStages": 0,
                    "numActiveTasks": 0,
                    "numCompletedIndices": 4,
                    "numCompletedStages": 1,
                    "numCompletedTasks": 4,
                    "numFailedStages": 0,
                    "numFailedTasks": 0,
                    "numKilledTasks": 0,
                    "numSkippedStages": 0,
                    "numSkippedTasks": 0,
                    "numTasks": 4,
                    "rowCount": 1,
                    "stageIds": [
                      5
                    ],
                    "status": "SUCCEEDED",
                    "submissionTime": "2023-11-20T04:50:40.427GMT",
                    "usageDescription": ""
                  },
                  {
                    "completionTime": "2023-11-20T04:50:40.417GMT",
                    "dataRead": 95,
                    "dataWritten": 0,
                    "description": "Job group for statement 12:\ndocumentAssembler = DocumentAssembler()    .setInputCol('clean_text')    .setOutputCol('document')\n\nuse = UniversalSentenceEncoder.pretrained(name = 'tfhub_use', lang = 'en') .setInputCols(['document']) .setOutputCol('sentence_embeddings')\n\nsentimentdl = SentimentDLModel.pretrained(name = model_name, lang = 'en')    .setInputCols(['sentence_embeddings'])    .setOutputCol('sentiment')\n\nnlpPipeline = Pipeline(\n    stages = [documentAssembler,\n              use,\n              sentimentdl]\n)\n",
                    "displayName": "first at Feature.scala:182",
                    "jobGroup": "12",
                    "jobId": 4,
                    "killedTasksSummary": {},
                    "name": "first at Feature.scala:182",
                    "numActiveStages": 0,
                    "numActiveTasks": 0,
                    "numCompletedIndices": 1,
                    "numCompletedStages": 1,
                    "numCompletedTasks": 1,
                    "numFailedStages": 0,
                    "numFailedTasks": 0,
                    "numKilledTasks": 0,
                    "numSkippedStages": 0,
                    "numSkippedTasks": 0,
                    "numTasks": 1,
                    "rowCount": 0,
                    "stageIds": [
                      4
                    ],
                    "status": "SUCCEEDED",
                    "submissionTime": "2023-11-20T04:50:40.221GMT",
                    "usageDescription": ""
                  },
                  {
                    "completionTime": "2023-11-20T04:50:40.027GMT",
                    "dataRead": 463,
                    "dataWritten": 0,
                    "description": "Job group for statement 12:\ndocumentAssembler = DocumentAssembler()    .setInputCol('clean_text')    .setOutputCol('document')\n\nuse = UniversalSentenceEncoder.pretrained(name = 'tfhub_use', lang = 'en') .setInputCols(['document']) .setOutputCol('sentence_embeddings')\n\nsentimentdl = SentimentDLModel.pretrained(name = model_name, lang = 'en')    .setInputCols(['sentence_embeddings'])    .setOutputCol('sentiment')\n\nnlpPipeline = Pipeline(\n    stages = [documentAssembler,\n              use,\n              sentimentdl]\n)\n",
                    "displayName": "first at ReadWrite.scala:587",
                    "jobGroup": "12",
                    "jobId": 3,
                    "killedTasksSummary": {},
                    "name": "first at ReadWrite.scala:587",
                    "numActiveStages": 0,
                    "numActiveTasks": 0,
                    "numCompletedIndices": 1,
                    "numCompletedStages": 1,
                    "numCompletedTasks": 1,
                    "numFailedStages": 0,
                    "numFailedTasks": 0,
                    "numKilledTasks": 0,
                    "numSkippedStages": 0,
                    "numSkippedTasks": 0,
                    "numTasks": 1,
                    "rowCount": 1,
                    "stageIds": [
                      3
                    ],
                    "status": "SUCCEEDED",
                    "submissionTime": "2023-11-20T04:50:37.856GMT",
                    "usageDescription": ""
                  },
                  {
                    "completionTime": "2023-11-20T04:49:37.697GMT",
                    "dataRead": 346,
                    "dataWritten": 0,
                    "description": "Job group for statement 12:\ndocumentAssembler = DocumentAssembler()    .setInputCol('clean_text')    .setOutputCol('document')\n\nuse = UniversalSentenceEncoder.pretrained(name = 'tfhub_use', lang = 'en') .setInputCols(['document']) .setOutputCol('sentence_embeddings')\n\nsentimentdl = SentimentDLModel.pretrained(name = model_name, lang = 'en')    .setInputCols(['sentence_embeddings'])    .setOutputCol('sentiment')\n\nnlpPipeline = Pipeline(\n    stages = [documentAssembler,\n              use,\n              sentimentdl]\n)\n",
                    "displayName": "first at ReadWrite.scala:587",
                    "jobGroup": "12",
                    "jobId": 2,
                    "killedTasksSummary": {},
                    "name": "first at ReadWrite.scala:587",
                    "numActiveStages": 0,
                    "numActiveTasks": 0,
                    "numCompletedIndices": 1,
                    "numCompletedStages": 1,
                    "numCompletedTasks": 1,
                    "numFailedStages": 0,
                    "numFailedTasks": 0,
                    "numKilledTasks": 0,
                    "numSkippedStages": 0,
                    "numSkippedTasks": 0,
                    "numTasks": 1,
                    "rowCount": 1,
                    "stageIds": [
                      2
                    ],
                    "status": "SUCCEEDED",
                    "submissionTime": "2023-11-20T04:49:37.355GMT",
                    "usageDescription": ""
                  }
                ],
                "limit": 20,
                "numbers": {
                  "FAILED": 0,
                  "RUNNING": 0,
                  "SUCCEEDED": 4,
                  "UNKNOWN": 0
                },
                "rule": "ALL_DESC"
              },
              "spark_pool": "7c27951d-2bdf-4140-be82-d0dc0c0e7d8e",
              "state": "finished",
              "statement_id": 12
            },
            "text/plain": [
              "StatementMeta(7c27951d-2bdf-4140-be82-d0dc0c0e7d8e, 50, 12, Finished, Available)"
            ]
          },
          "metadata": {},
          "output_type": "display_data"
        },
        {
          "name": "stdout",
          "output_type": "stream",
          "text": [
            "tfhub_use download started this may take some time.\n",
            "Approximate size to download 923.7 MB\n",
            "[OK!]\n",
            "sentimentdl_use_twitter download started this may take some time.\n",
            "Approximate size to download 11.4 MB\n",
            "[OK!]\n"
          ]
        }
      ],
      "source": [
        "documentAssembler = DocumentAssembler()\\\n",
        "    .setInputCol('clean_text')\\\n",
        "    .setOutputCol('document')\n",
        "\n",
        "use = UniversalSentenceEncoder.pretrained(name = 'tfhub_use', lang = 'en')\\\n",
        " .setInputCols(['document'])\\\n",
        " .setOutputCol('sentence_embeddings')\n",
        "\n",
        "sentimentdl = SentimentDLModel.pretrained(name = model_name, lang = 'en')\\\n",
        "    .setInputCols(['sentence_embeddings'])\\\n",
        "    .setOutputCol('sentiment')\n",
        "\n",
        "nlpPipeline = Pipeline(\n",
        "    stages = [documentAssembler,\n",
        "              use,\n",
        "              sentimentdl]\n",
        ")\n"
      ]
    },
    {
      "cell_type": "markdown",
      "metadata": {
        "nteract": {
          "transient": {
            "deleting": false
          }
        }
      },
      "source": [
        "Create a column 'date' based on the existing column 'created_utc'."
      ]
    },
    {
      "cell_type": "code",
      "execution_count": 11,
      "metadata": {
        "gather": {
          "logged": 1700455861805
        },
        "jupyter": {
          "outputs_hidden": false,
          "source_hidden": false
        },
        "nteract": {
          "transient": {
            "deleting": false
          }
        }
      },
      "outputs": [
        {
          "data": {
            "application/vnd.livy.statement-meta+json": {
              "execution_finish_time": "2023-11-20T04:51:01.5442112Z",
              "execution_start_time": "2023-11-20T04:51:01.2615774Z",
              "livy_statement_state": "available",
              "parent_msg_id": "336399ca-e648-4d8a-b342-9d6920eee753",
              "queued_time": "2023-11-20T04:51:01.1578459Z",
              "session_id": "50",
              "session_start_time": null,
              "spark_jobs": {
                "jobs": [],
                "limit": 20,
                "numbers": {
                  "FAILED": 0,
                  "RUNNING": 0,
                  "SUCCEEDED": 0,
                  "UNKNOWN": 0
                },
                "rule": "ALL_DESC"
              },
              "spark_pool": "7c27951d-2bdf-4140-be82-d0dc0c0e7d8e",
              "state": "finished",
              "statement_id": 13
            },
            "text/plain": [
              "StatementMeta(7c27951d-2bdf-4140-be82-d0dc0c0e7d8e, 50, 13, Finished, Available)"
            ]
          },
          "metadata": {},
          "output_type": "display_data"
        }
      ],
      "source": [
        "comments_nlp = comments.withColumn('date', to_date(col('created_utc')))"
      ]
    },
    {
      "cell_type": "code",
      "execution_count": 23,
      "metadata": {
        "gather": {
          "logged": 1700428093874
        },
        "jupyter": {
          "outputs_hidden": false,
          "source_hidden": false
        },
        "nteract": {
          "transient": {
            "deleting": false
          }
        }
      },
      "outputs": [
        {
          "data": {
            "application/vnd.livy.statement-meta+json": {
              "execution_finish_time": "2023-11-19T21:08:13.6912964Z",
              "execution_start_time": "2023-11-19T21:08:11.2885959Z",
              "livy_statement_state": "available",
              "parent_msg_id": "c10d1b36-6e8d-46fe-a346-18f822e88c39",
              "queued_time": "2023-11-19T21:08:11.1961704Z",
              "session_id": "43",
              "session_start_time": null,
              "spark_jobs": {
                "jobs": [
                  {
                    "completionTime": "2023-11-19T21:08:12.675GMT",
                    "dataRead": 25477185,
                    "dataWritten": 0,
                    "description": "Job group for statement 25:\ncomments_nlp.show(3)",
                    "displayName": "showString at NativeMethodAccessorImpl.java:0",
                    "jobGroup": "25",
                    "jobId": 10,
                    "killedTasksSummary": {},
                    "name": "showString at NativeMethodAccessorImpl.java:0",
                    "numActiveStages": 0,
                    "numActiveTasks": 0,
                    "numCompletedIndices": 1,
                    "numCompletedStages": 1,
                    "numCompletedTasks": 1,
                    "numFailedStages": 0,
                    "numFailedTasks": 0,
                    "numKilledTasks": 0,
                    "numSkippedStages": 0,
                    "numSkippedTasks": 0,
                    "numTasks": 1,
                    "rowCount": 4,
                    "stageIds": [
                      10
                    ],
                    "status": "SUCCEEDED",
                    "submissionTime": "2023-11-19T21:08:11.439GMT",
                    "usageDescription": ""
                  }
                ],
                "limit": 20,
                "numbers": {
                  "FAILED": 0,
                  "RUNNING": 0,
                  "SUCCEEDED": 1,
                  "UNKNOWN": 0
                },
                "rule": "ALL_DESC"
              },
              "spark_pool": "7c27951d-2bdf-4140-be82-d0dc0c0e7d8e",
              "state": "finished",
              "statement_id": 25
            },
            "text/plain": [
              "StatementMeta(7c27951d-2bdf-4140-be82-d0dc0c0e7d8e, 43, 25, Finished, Available)"
            ]
          },
          "metadata": {},
          "output_type": "display_data"
        },
        {
          "name": "stdout",
          "output_type": "stream",
          "text": [
            "+-----------------+------------+--------------------+--------------------+----------+---------+-------+-------------------+--------------+---+-----+----+--------------------+----------+\n",
            "|        subreddit|      author|   author_flair_text|                body| parent_id|  link_id|     id|        created_utc|supported_team|day|month|year|          clean_text|      date|\n",
            "+-----------------+------------+--------------------+--------------------+----------+---------+-------+-------------------+--------------+---+-----+----+--------------------+----------+\n",
            "|CollegeBasketball|DaddyStone13|:cincinnati: :big...|lol i forgot abou...|t1_hkiua9s|t3_qtcawg|hkiungs|2021-11-14 00:27:51|    cincinnati| 14|   11|2021|lol forget footba...|2021-11-14|\n",
            "|CollegeBasketball| seahawksjoe|   :usc: USC Trojans|Also, half of the...| t3_qtcaw2|t3_qtcaw2|hkiuqzc|2021-11-14 00:28:36|           usc| 14|   11|2021|half foul arent f...|2021-11-14|\n",
            "|CollegeBasketball|CheeseAndCam|:iowastate: Iowa ...|I like how Creigh...| t3_qt70bd|t3_qt70bd|hkiuy80|2021-11-14 00:30:06|     iowastate| 14|   11|2021|like creighton ne...|2021-11-14|\n",
            "+-----------------+------------+--------------------+--------------------+----------+---------+-------+-------------------+--------------+---+-----+----+--------------------+----------+\n",
            "only showing top 3 rows\n",
            "\n"
          ]
        }
      ],
      "source": [
        "comments_nlp.show(3)"
      ]
    },
    {
      "cell_type": "markdown",
      "metadata": {
        "nteract": {
          "transient": {
            "deleting": false
          }
        }
      },
      "source": [
        "Get information about the week of the year using 'weekofyear'."
      ]
    },
    {
      "cell_type": "code",
      "execution_count": 12,
      "metadata": {
        "gather": {
          "logged": 1700455867559
        },
        "jupyter": {
          "outputs_hidden": false,
          "source_hidden": false
        },
        "nteract": {
          "transient": {
            "deleting": false
          }
        }
      },
      "outputs": [
        {
          "data": {
            "application/vnd.livy.statement-meta+json": {
              "execution_finish_time": "2023-11-20T04:51:07.2945528Z",
              "execution_start_time": "2023-11-20T04:51:06.9682049Z",
              "livy_statement_state": "available",
              "parent_msg_id": "48c95636-046b-4ca2-8c85-83a3b345f12a",
              "queued_time": "2023-11-20T04:51:06.8699788Z",
              "session_id": "50",
              "session_start_time": null,
              "spark_jobs": {
                "jobs": [],
                "limit": 20,
                "numbers": {
                  "FAILED": 0,
                  "RUNNING": 0,
                  "SUCCEEDED": 0,
                  "UNKNOWN": 0
                },
                "rule": "ALL_DESC"
              },
              "spark_pool": "7c27951d-2bdf-4140-be82-d0dc0c0e7d8e",
              "state": "finished",
              "statement_id": 14
            },
            "text/plain": [
              "StatementMeta(7c27951d-2bdf-4140-be82-d0dc0c0e7d8e, 50, 14, Finished, Available)"
            ]
          },
          "metadata": {},
          "output_type": "display_data"
        }
      ],
      "source": [
        "comments_nlp = comments_nlp.withColumn('week', weekofyear('date'))"
      ]
    },
    {
      "cell_type": "code",
      "execution_count": 25,
      "metadata": {
        "gather": {
          "logged": 1700428122641
        },
        "jupyter": {
          "outputs_hidden": false,
          "source_hidden": false
        },
        "nteract": {
          "transient": {
            "deleting": false
          }
        }
      },
      "outputs": [
        {
          "data": {
            "application/vnd.livy.statement-meta+json": {
              "execution_finish_time": "2023-11-19T21:08:42.4789746Z",
              "execution_start_time": "2023-11-19T21:08:40.0838703Z",
              "livy_statement_state": "available",
              "parent_msg_id": "75834e36-9d9a-43ba-9d32-2bc694fec5ff",
              "queued_time": "2023-11-19T21:08:39.9839232Z",
              "session_id": "43",
              "session_start_time": null,
              "spark_jobs": {
                "jobs": [
                  {
                    "completionTime": "2023-11-19T21:08:41.457GMT",
                    "dataRead": 25477185,
                    "dataWritten": 0,
                    "description": "Job group for statement 27:\ncomments_nlp.show(3)",
                    "displayName": "showString at NativeMethodAccessorImpl.java:0",
                    "jobGroup": "27",
                    "jobId": 11,
                    "killedTasksSummary": {},
                    "name": "showString at NativeMethodAccessorImpl.java:0",
                    "numActiveStages": 0,
                    "numActiveTasks": 0,
                    "numCompletedIndices": 1,
                    "numCompletedStages": 1,
                    "numCompletedTasks": 1,
                    "numFailedStages": 0,
                    "numFailedTasks": 0,
                    "numKilledTasks": 0,
                    "numSkippedStages": 0,
                    "numSkippedTasks": 0,
                    "numTasks": 1,
                    "rowCount": 4,
                    "stageIds": [
                      11
                    ],
                    "status": "SUCCEEDED",
                    "submissionTime": "2023-11-19T21:08:40.255GMT",
                    "usageDescription": ""
                  }
                ],
                "limit": 20,
                "numbers": {
                  "FAILED": 0,
                  "RUNNING": 0,
                  "SUCCEEDED": 1,
                  "UNKNOWN": 0
                },
                "rule": "ALL_DESC"
              },
              "spark_pool": "7c27951d-2bdf-4140-be82-d0dc0c0e7d8e",
              "state": "finished",
              "statement_id": 27
            },
            "text/plain": [
              "StatementMeta(7c27951d-2bdf-4140-be82-d0dc0c0e7d8e, 43, 27, Finished, Available)"
            ]
          },
          "metadata": {},
          "output_type": "display_data"
        },
        {
          "name": "stdout",
          "output_type": "stream",
          "text": [
            "+-----------------+------------+--------------------+--------------------+----------+---------+-------+-------------------+--------------+---+-----+----+--------------------+----------+----+\n",
            "|        subreddit|      author|   author_flair_text|                body| parent_id|  link_id|     id|        created_utc|supported_team|day|month|year|          clean_text|      date|week|\n",
            "+-----------------+------------+--------------------+--------------------+----------+---------+-------+-------------------+--------------+---+-----+----+--------------------+----------+----+\n",
            "|CollegeBasketball|DaddyStone13|:cincinnati: :big...|lol i forgot abou...|t1_hkiua9s|t3_qtcawg|hkiungs|2021-11-14 00:27:51|    cincinnati| 14|   11|2021|lol forget footba...|2021-11-14|  45|\n",
            "|CollegeBasketball| seahawksjoe|   :usc: USC Trojans|Also, half of the...| t3_qtcaw2|t3_qtcaw2|hkiuqzc|2021-11-14 00:28:36|           usc| 14|   11|2021|half foul arent f...|2021-11-14|  45|\n",
            "|CollegeBasketball|CheeseAndCam|:iowastate: Iowa ...|I like how Creigh...| t3_qt70bd|t3_qt70bd|hkiuy80|2021-11-14 00:30:06|     iowastate| 14|   11|2021|like creighton ne...|2021-11-14|  45|\n",
            "+-----------------+------------+--------------------+--------------------+----------+---------+-------+-------------------+--------------+---+-----+----+--------------------+----------+----+\n",
            "only showing top 3 rows\n",
            "\n"
          ]
        }
      ],
      "source": [
        "comments_nlp.show(3)"
      ]
    },
    {
      "cell_type": "markdown",
      "metadata": {
        "nteract": {
          "transient": {
            "deleting": false
          }
        }
      },
      "source": [
        "Run the pipeline."
      ]
    },
    {
      "cell_type": "code",
      "execution_count": 13,
      "metadata": {
        "gather": {
          "logged": 1700455908385
        },
        "jupyter": {
          "outputs_hidden": false,
          "source_hidden": false
        },
        "nteract": {
          "transient": {
            "deleting": false
          }
        }
      },
      "outputs": [
        {
          "data": {
            "application/vnd.livy.statement-meta+json": {
              "execution_finish_time": "2023-11-20T04:51:48.2127371Z",
              "execution_start_time": "2023-11-20T04:51:16.4315906Z",
              "livy_statement_state": "available",
              "parent_msg_id": "8d8aea33-5c69-4c80-a76f-1a8387d8d77b",
              "queued_time": "2023-11-20T04:51:16.3285089Z",
              "session_id": "50",
              "session_start_time": null,
              "spark_jobs": {
                "jobs": [
                  {
                    "completionTime": "2023-11-20T04:51:46.543GMT",
                    "dataRead": 25480190,
                    "dataWritten": 0,
                    "description": "Job group for statement 15:\nthe_comments_model = nlpPipeline.fit(comments_nlp)\ncomments_sentiment_result = the_comments_model.transform(comments_nlp)\ncomments_sentiment_result.show(3)",
                    "displayName": "showString at NativeMethodAccessorImpl.java:0",
                    "jobGroup": "15",
                    "jobId": 6,
                    "killedTasksSummary": {},
                    "name": "showString at NativeMethodAccessorImpl.java:0",
                    "numActiveStages": 0,
                    "numActiveTasks": 0,
                    "numCompletedIndices": 1,
                    "numCompletedStages": 1,
                    "numCompletedTasks": 1,
                    "numFailedStages": 0,
                    "numFailedTasks": 0,
                    "numKilledTasks": 0,
                    "numSkippedStages": 0,
                    "numSkippedTasks": 0,
                    "numTasks": 1,
                    "rowCount": 4,
                    "stageIds": [
                      6
                    ],
                    "status": "SUCCEEDED",
                    "submissionTime": "2023-11-20T04:51:19.714GMT",
                    "usageDescription": ""
                  }
                ],
                "limit": 20,
                "numbers": {
                  "FAILED": 0,
                  "RUNNING": 0,
                  "SUCCEEDED": 1,
                  "UNKNOWN": 0
                },
                "rule": "ALL_DESC"
              },
              "spark_pool": "7c27951d-2bdf-4140-be82-d0dc0c0e7d8e",
              "state": "finished",
              "statement_id": 15
            },
            "text/plain": [
              "StatementMeta(7c27951d-2bdf-4140-be82-d0dc0c0e7d8e, 50, 15, Finished, Available)"
            ]
          },
          "metadata": {},
          "output_type": "display_data"
        },
        {
          "name": "stdout",
          "output_type": "stream",
          "text": [
            "+-----------------+------------+--------------------+--------------------+----------+---------+-------+-------------------+--------------+---+-----+----+--------------------+----------+----+--------------------+--------------------+--------------------+\n",
            "|        subreddit|      author|   author_flair_text|                body| parent_id|  link_id|     id|        created_utc|supported_team|day|month|year|          clean_text|      date|week|            document| sentence_embeddings|           sentiment|\n",
            "+-----------------+------------+--------------------+--------------------+----------+---------+-------+-------------------+--------------+---+-----+----+--------------------+----------+----+--------------------+--------------------+--------------------+\n",
            "|CollegeBasketball|DaddyStone13|:cincinnati: :big...|lol i forgot abou...|t1_hkiua9s|t3_qtcawg|hkiungs|2021-11-14 00:27:51|    cincinnati| 14|   11|2021|lol forget footba...|2021-11-14|  45|[{document, 0, 49...|[{sentence_embedd...|[{category, 0, 49...|\n",
            "|CollegeBasketball| seahawksjoe|   :usc: USC Trojans|Also, half of the...| t3_qtcaw2|t3_qtcaw2|hkiuqzc|2021-11-14 00:28:36|           usc| 14|   11|2021|half foul arent f...|2021-11-14|  45|[{document, 0, 70...|[{sentence_embedd...|[{category, 0, 70...|\n",
            "|CollegeBasketball|CheeseAndCam|:iowastate: Iowa ...|I like how Creigh...| t3_qt70bd|t3_qt70bd|hkiuy80|2021-11-14 00:30:06|     iowastate| 14|   11|2021|like creighton ne...|2021-11-14|  45|[{document, 0, 83...|[{sentence_embedd...|[{category, 0, 83...|\n",
            "+-----------------+------------+--------------------+--------------------+----------+---------+-------+-------------------+--------------+---+-----+----+--------------------+----------+----+--------------------+--------------------+--------------------+\n",
            "only showing top 3 rows\n",
            "\n"
          ]
        }
      ],
      "source": [
        "the_comments_model = nlpPipeline.fit(comments_nlp)\n",
        "comments_sentiment_result = the_comments_model.transform(comments_nlp)\n",
        "comments_sentiment_result.show(3)"
      ]
    },
    {
      "cell_type": "markdown",
      "metadata": {
        "nteract": {
          "transient": {
            "deleting": false
          }
        }
      },
      "source": [
        "See the sentiment analysis results."
      ]
    },
    {
      "cell_type": "code",
      "execution_count": 16,
      "metadata": {
        "gather": {
          "logged": 1700456339251
        },
        "jupyter": {
          "outputs_hidden": false,
          "source_hidden": false
        },
        "nteract": {
          "transient": {
            "deleting": false
          }
        }
      },
      "outputs": [
        {
          "data": {
            "application/vnd.livy.statement-meta+json": {
              "execution_finish_time": "2023-11-20T04:58:59.0192145Z",
              "execution_start_time": "2023-11-20T04:58:58.7217324Z",
              "livy_statement_state": "available",
              "parent_msg_id": "3aa7c7ab-df10-44f5-81cb-7c191b690475",
              "queued_time": "2023-11-20T04:58:58.6207563Z",
              "session_id": "50",
              "session_start_time": null,
              "spark_jobs": {
                "jobs": [],
                "limit": 20,
                "numbers": {
                  "FAILED": 0,
                  "RUNNING": 0,
                  "SUCCEEDED": 0,
                  "UNKNOWN": 0
                },
                "rule": "ALL_DESC"
              },
              "spark_pool": "7c27951d-2bdf-4140-be82-d0dc0c0e7d8e",
              "state": "finished",
              "statement_id": 18
            },
            "text/plain": [
              "StatementMeta(7c27951d-2bdf-4140-be82-d0dc0c0e7d8e, 50, 18, Finished, Available)"
            ]
          },
          "metadata": {},
          "output_type": "display_data"
        }
      ],
      "source": [
        "comments_sentiment_results = comments_sentiment_result.select('subreddit','author','author_flair_text', 'body','parent_id','link_id','id','created_utc','supported_team','day','month','year','clean_text','date','week', F.explode('sentiment.result'))"
      ]
    },
    {
      "cell_type": "code",
      "execution_count": 15,
      "metadata": {
        "gather": {
          "logged": 1700456327948
        },
        "jupyter": {
          "outputs_hidden": false,
          "source_hidden": false
        },
        "nteract": {
          "transient": {
            "deleting": false
          }
        }
      },
      "outputs": [
        {
          "data": {
            "application/vnd.livy.statement-meta+json": {
              "execution_finish_time": "2023-11-20T04:58:47.7653283Z",
              "execution_start_time": "2023-11-20T04:58:20.4157616Z",
              "livy_statement_state": "available",
              "parent_msg_id": "6147e7c1-b2b7-4470-9a4a-bc4e83dae635",
              "queued_time": "2023-11-20T04:58:20.3112004Z",
              "session_id": "50",
              "session_start_time": null,
              "spark_jobs": {
                "jobs": [
                  {
                    "completionTime": "2023-11-20T04:58:45.644GMT",
                    "dataRead": 25480190,
                    "dataWritten": 0,
                    "description": "Job group for statement 17:\ncomments_sentiment_results.show(3)",
                    "displayName": "showString at NativeMethodAccessorImpl.java:0",
                    "jobGroup": "17",
                    "jobId": 7,
                    "killedTasksSummary": {},
                    "name": "showString at NativeMethodAccessorImpl.java:0",
                    "numActiveStages": 0,
                    "numActiveTasks": 0,
                    "numCompletedIndices": 1,
                    "numCompletedStages": 1,
                    "numCompletedTasks": 1,
                    "numFailedStages": 0,
                    "numFailedTasks": 0,
                    "numKilledTasks": 0,
                    "numSkippedStages": 0,
                    "numSkippedTasks": 0,
                    "numTasks": 1,
                    "rowCount": 4,
                    "stageIds": [
                      7
                    ],
                    "status": "SUCCEEDED",
                    "submissionTime": "2023-11-20T04:58:20.960GMT",
                    "usageDescription": ""
                  }
                ],
                "limit": 20,
                "numbers": {
                  "FAILED": 0,
                  "RUNNING": 0,
                  "SUCCEEDED": 1,
                  "UNKNOWN": 0
                },
                "rule": "ALL_DESC"
              },
              "spark_pool": "7c27951d-2bdf-4140-be82-d0dc0c0e7d8e",
              "state": "finished",
              "statement_id": 17
            },
            "text/plain": [
              "StatementMeta(7c27951d-2bdf-4140-be82-d0dc0c0e7d8e, 50, 17, Finished, Available)"
            ]
          },
          "metadata": {},
          "output_type": "display_data"
        },
        {
          "name": "stdout",
          "output_type": "stream",
          "text": [
            "+-----------------+------------+--------------------+--------------------+----------+---------+-------+-------------------+--------------+---+-----+----+--------------------+----------+----+--------+\n",
            "|        subreddit|      author|   author_flair_text|                body| parent_id|  link_id|     id|        created_utc|supported_team|day|month|year|          clean_text|      date|week|     col|\n",
            "+-----------------+------------+--------------------+--------------------+----------+---------+-------+-------------------+--------------+---+-----+----+--------------------+----------+----+--------+\n",
            "|CollegeBasketball|DaddyStone13|:cincinnati: :big...|lol i forgot abou...|t1_hkiua9s|t3_qtcawg|hkiungs|2021-11-14 00:27:51|    cincinnati| 14|   11|2021|lol forget footba...|2021-11-14|  45|negative|\n",
            "|CollegeBasketball| seahawksjoe|   :usc: USC Trojans|Also, half of the...| t3_qtcaw2|t3_qtcaw2|hkiuqzc|2021-11-14 00:28:36|           usc| 14|   11|2021|half foul arent f...|2021-11-14|  45|negative|\n",
            "|CollegeBasketball|CheeseAndCam|:iowastate: Iowa ...|I like how Creigh...| t3_qt70bd|t3_qt70bd|hkiuy80|2021-11-14 00:30:06|     iowastate| 14|   11|2021|like creighton ne...|2021-11-14|  45|positive|\n",
            "+-----------------+------------+--------------------+--------------------+----------+---------+-------+-------------------+--------------+---+-----+----+--------------------+----------+----+--------+\n",
            "only showing top 3 rows\n",
            "\n"
          ]
        }
      ],
      "source": [
        "comments_sentiment_results.show(3)"
      ]
    },
    {
      "cell_type": "markdown",
      "metadata": {
        "nteract": {
          "transient": {
            "deleting": false
          }
        }
      },
      "source": [
        "Try to save the dataframe."
      ]
    },
    {
      "cell_type": "code",
      "execution_count": 18,
      "metadata": {
        "gather": {
          "logged": 1700456465350
        },
        "jupyter": {
          "outputs_hidden": false,
          "source_hidden": false
        },
        "nteract": {
          "transient": {
            "deleting": false
          }
        }
      },
      "outputs": [
        {
          "data": {
            "application/vnd.livy.statement-meta+json": {
              "execution_finish_time": "2023-11-20T05:01:05.2184391Z",
              "execution_start_time": "2023-11-20T05:01:04.3921432Z",
              "livy_statement_state": "available",
              "parent_msg_id": "2cd04c15-2936-48eb-82ac-93ecd1e425e4",
              "queued_time": "2023-11-20T05:01:04.2802964Z",
              "session_id": "50",
              "session_start_time": null,
              "spark_jobs": {
                "jobs": [],
                "limit": 20,
                "numbers": {
                  "FAILED": 0,
                  "RUNNING": 0,
                  "SUCCEEDED": 0,
                  "UNKNOWN": 0
                },
                "rule": "ALL_DESC"
              },
              "spark_pool": "7c27951d-2bdf-4140-be82-d0dc0c0e7d8e",
              "state": "finished",
              "statement_id": 20
            },
            "text/plain": [
              "StatementMeta(7c27951d-2bdf-4140-be82-d0dc0c0e7d8e, 50, 20, Finished, Available)"
            ]
          },
          "metadata": {},
          "output_type": "display_data"
        },
        {
          "ename": "Py4JJavaError",
          "evalue": "An error occurred while calling o6137.parquet.\n: org.apache.hadoop.fs.azure.AzureException: java.util.NoSuchElementException: An error occurred while enumerating the result, check the original exception for details.\n\tat org.apache.hadoop.fs.azure.AzureNativeFileSystemStore.retrieveMetadata(AzureNativeFileSystemStore.java:2223)\n\tat org.apache.hadoop.fs.azure.NativeAzureFileSystem.getAncestor(NativeAzureFileSystem.java:2973)\n\tat org.apache.hadoop.fs.azure.NativeAzureFileSystem.mkdirs(NativeAzureFileSystem.java:2999)\n\tat org.apache.hadoop.fs.azure.NativeAzureFileSystem.mkdirs(NativeAzureFileSystem.java:2986)\n\tat org.apache.hadoop.fs.FileSystem.mkdirs(FileSystem.java:2388)\n\tat org.apache.hadoop.mapreduce.lib.output.FileOutputCommitter.setupJob(FileOutputCommitter.java:356)\n\tat org.apache.spark.internal.io.HadoopMapReduceCommitProtocol.setupJob(HadoopMapReduceCommitProtocol.scala:205)\n\tat org.apache.spark.sql.execution.datasources.FileFormatWriter$.write(FileFormatWriter.scala:187)\n\tat org.apache.spark.sql.execution.datasources.InsertIntoHadoopFsRelationCommand.run(InsertIntoHadoopFsRelationCommand.scala:187)\n\tat org.apache.spark.sql.execution.command.DataWritingCommandExec.sideEffectResult$lzycompute(commands.scala:113)\n\tat org.apache.spark.sql.execution.command.DataWritingCommandExec.sideEffectResult(commands.scala:111)\n\tat org.apache.spark.sql.execution.command.DataWritingCommandExec.executeCollect(commands.scala:125)\n\tat org.apache.spark.sql.execution.QueryExecution$$anonfun$eagerlyExecuteCommands$1.$anonfun$applyOrElse$1(QueryExecution.scala:107)\n\tat org.apache.spark.sql.execution.SQLExecution$.$anonfun$withNewExecutionId$5(SQLExecution.scala:104)\n\tat org.apache.spark.sql.execution.SQLExecution$.withSQLConfPropagated(SQLExecution.scala:169)\n\tat org.apache.spark.sql.execution.SQLExecution$.$anonfun$withNewExecutionId$1(SQLExecution.scala:91)\n\tat org.apache.spark.sql.SparkSession.withActive(SparkSession.scala:775)\n\tat org.apache.spark.sql.execution.SQLExecution$.withNewExecutionId(SQLExecution.scala:65)\n\tat org.apache.spark.sql.execution.QueryExecution$$anonfun$eagerlyExecuteCommands$1.applyOrElse(QueryExecution.scala:107)\n\tat org.apache.spark.sql.execution.QueryExecution$$anonfun$eagerlyExecuteCommands$1.applyOrElse(QueryExecution.scala:103)\n\tat org.apache.spark.sql.catalyst.trees.TreeNode.$anonfun$transformDownWithPruning$1(TreeNode.scala:481)\n\tat org.apache.spark.sql.catalyst.trees.CurrentOrigin$.withOrigin(TreeNode.scala:82)\n\tat org.apache.spark.sql.catalyst.trees.TreeNode.transformDownWithPruning(TreeNode.scala:481)\n\tat org.apache.spark.sql.catalyst.plans.logical.LogicalPlan.org$apache$spark$sql$catalyst$plans$logical$AnalysisHelper$$super$transformDownWithPruning(LogicalPlan.scala:30)\n\tat org.apache.spark.sql.catalyst.plans.logical.AnalysisHelper.transformDownWithPruning(AnalysisHelper.scala:267)\n\tat org.apache.spark.sql.catalyst.plans.logical.AnalysisHelper.transformDownWithPruning$(AnalysisHelper.scala:263)\n\tat org.apache.spark.sql.catalyst.plans.logical.LogicalPlan.transformDownWithPruning(LogicalPlan.scala:30)\n\tat org.apache.spark.sql.catalyst.plans.logical.LogicalPlan.transformDownWithPruning(LogicalPlan.scala:30)\n\tat org.apache.spark.sql.catalyst.trees.TreeNode.transformDown(TreeNode.scala:457)\n\tat org.apache.spark.sql.execution.QueryExecution.eagerlyExecuteCommands(QueryExecution.scala:103)\n\tat org.apache.spark.sql.execution.QueryExecution.commandExecuted$lzycompute(QueryExecution.scala:87)\n\tat org.apache.spark.sql.execution.QueryExecution.commandExecuted(QueryExecution.scala:81)\n\tat org.apache.spark.sql.execution.QueryExecution.assertCommandExecuted(QueryExecution.scala:125)\n\tat org.apache.spark.sql.DataFrameWriter.runCommand(DataFrameWriter.scala:872)\n\tat org.apache.spark.sql.DataFrameWriter.saveToV1Source(DataFrameWriter.scala:406)\n\tat org.apache.spark.sql.DataFrameWriter.saveInternal(DataFrameWriter.scala:374)\n\tat org.apache.spark.sql.DataFrameWriter.save(DataFrameWriter.scala:241)\n\tat org.apache.spark.sql.DataFrameWriter.parquet(DataFrameWriter.scala:805)\n\tat sun.reflect.NativeMethodAccessorImpl.invoke0(Native Method)\n\tat sun.reflect.NativeMethodAccessorImpl.invoke(NativeMethodAccessorImpl.java:62)\n\tat sun.reflect.DelegatingMethodAccessorImpl.invoke(DelegatingMethodAccessorImpl.java:43)\n\tat java.lang.reflect.Method.invoke(Method.java:498)\n\tat py4j.reflection.MethodInvoker.invoke(MethodInvoker.java:244)\n\tat py4j.reflection.ReflectionEngine.invoke(ReflectionEngine.java:357)\n\tat py4j.Gateway.invoke(Gateway.java:282)\n\tat py4j.commands.AbstractCommand.invokeMethod(AbstractCommand.java:132)\n\tat py4j.commands.CallCommand.execute(CallCommand.java:79)\n\tat py4j.GatewayConnection.run(GatewayConnection.java:238)\n\tat java.lang.Thread.run(Thread.java:750)\nCaused by: java.util.NoSuchElementException: An error occurred while enumerating the result, check the original exception for details.\n\tat com.microsoft.azure.storage.core.LazySegmentedIterator.hasNext(LazySegmentedIterator.java:113)\n\tat org.apache.hadoop.fs.azure.StorageInterfaceImpl$WrappingIterator.hasNext(StorageInterfaceImpl.java:148)\n\tat org.apache.hadoop.fs.azure.AzureNativeFileSystemStore.retrieveMetadata(AzureNativeFileSystemStore.java:2202)\n\t... 48 more\nCaused by: com.microsoft.azure.storage.StorageException: The specified container does not exist.\n\tat com.microsoft.azure.storage.StorageException.translateException(StorageException.java:87)\n\tat com.microsoft.azure.storage.core.StorageRequest.materializeException(StorageRequest.java:315)\n\tat com.microsoft.azure.storage.core.ExecutionEngine.executeWithRetry(ExecutionEngine.java:185)\n\tat com.microsoft.azure.storage.core.LazySegmentedIterator.hasNext(LazySegmentedIterator.java:109)\n\t... 50 more\n",
          "output_type": "error",
          "traceback": [
            "\u001b[0;31m---------------------------------------------------------------------------\u001b[0m",
            "\u001b[0;31mPy4JJavaError\u001b[0m                             Traceback (most recent call last)",
            "\u001b[0;32m/tmp/ipykernel_26818/3809928981.py\u001b[0m in \u001b[0;36m<module>\u001b[0;34m\u001b[0m\n\u001b[1;32m      5\u001b[0m     \u001b[0;34mf\"wasbs://{workspace_default_container}@{workspace_default_storage_account}.blob.core.windows.net/\"\u001b[0m\u001b[0;34m\u001b[0m\u001b[0;34m\u001b[0m\u001b[0m\n\u001b[1;32m      6\u001b[0m )\n\u001b[0;32m----> 7\u001b[0;31m \u001b[0mcomments_sentiment_results\u001b[0m\u001b[0;34m.\u001b[0m\u001b[0mwrite\u001b[0m\u001b[0;34m.\u001b[0m\u001b[0mmode\u001b[0m\u001b[0;34m(\u001b[0m\u001b[0;34m\"overwrite\"\u001b[0m\u001b[0;34m)\u001b[0m\u001b[0;34m.\u001b[0m\u001b[0mparquet\u001b[0m\u001b[0;34m(\u001b[0m\u001b[0;34mf\"{workspace_wasbs_base_url}/basketball_comments_sentiment.parquet\"\u001b[0m\u001b[0;34m)\u001b[0m\u001b[0;34m\u001b[0m\u001b[0;34m\u001b[0m\u001b[0m\n\u001b[0m\u001b[1;32m      8\u001b[0m \u001b[0;34m\u001b[0m\u001b[0m\n",
            "\u001b[0;32m/opt/spark/python/lib/pyspark.zip/pyspark/sql/readwriter.py\u001b[0m in \u001b[0;36mparquet\u001b[0;34m(self, path, mode, partitionBy, compression)\u001b[0m\n\u001b[1;32m    883\u001b[0m             \u001b[0mself\u001b[0m\u001b[0;34m.\u001b[0m\u001b[0mpartitionBy\u001b[0m\u001b[0;34m(\u001b[0m\u001b[0mpartitionBy\u001b[0m\u001b[0;34m)\u001b[0m\u001b[0;34m\u001b[0m\u001b[0;34m\u001b[0m\u001b[0m\n\u001b[1;32m    884\u001b[0m         \u001b[0mself\u001b[0m\u001b[0;34m.\u001b[0m\u001b[0m_set_opts\u001b[0m\u001b[0;34m(\u001b[0m\u001b[0mcompression\u001b[0m\u001b[0;34m=\u001b[0m\u001b[0mcompression\u001b[0m\u001b[0;34m)\u001b[0m\u001b[0;34m\u001b[0m\u001b[0;34m\u001b[0m\u001b[0m\n\u001b[0;32m--> 885\u001b[0;31m         \u001b[0mself\u001b[0m\u001b[0;34m.\u001b[0m\u001b[0m_jwrite\u001b[0m\u001b[0;34m.\u001b[0m\u001b[0mparquet\u001b[0m\u001b[0;34m(\u001b[0m\u001b[0mpath\u001b[0m\u001b[0;34m)\u001b[0m\u001b[0;34m\u001b[0m\u001b[0;34m\u001b[0m\u001b[0m\n\u001b[0m\u001b[1;32m    886\u001b[0m \u001b[0;34m\u001b[0m\u001b[0m\n\u001b[1;32m    887\u001b[0m     \u001b[0;32mdef\u001b[0m \u001b[0mtext\u001b[0m\u001b[0;34m(\u001b[0m\u001b[0mself\u001b[0m\u001b[0;34m,\u001b[0m \u001b[0mpath\u001b[0m\u001b[0;34m,\u001b[0m \u001b[0mcompression\u001b[0m\u001b[0;34m=\u001b[0m\u001b[0;32mNone\u001b[0m\u001b[0;34m,\u001b[0m \u001b[0mlineSep\u001b[0m\u001b[0;34m=\u001b[0m\u001b[0;32mNone\u001b[0m\u001b[0;34m)\u001b[0m\u001b[0;34m:\u001b[0m\u001b[0;34m\u001b[0m\u001b[0;34m\u001b[0m\u001b[0m\n",
            "\u001b[0;32m~/cluster-env/env/lib/python3.8/site-packages/py4j/java_gateway.py\u001b[0m in \u001b[0;36m__call__\u001b[0;34m(self, *args)\u001b[0m\n\u001b[1;32m   1319\u001b[0m \u001b[0;34m\u001b[0m\u001b[0m\n\u001b[1;32m   1320\u001b[0m         \u001b[0manswer\u001b[0m \u001b[0;34m=\u001b[0m \u001b[0mself\u001b[0m\u001b[0;34m.\u001b[0m\u001b[0mgateway_client\u001b[0m\u001b[0;34m.\u001b[0m\u001b[0msend_command\u001b[0m\u001b[0;34m(\u001b[0m\u001b[0mcommand\u001b[0m\u001b[0;34m)\u001b[0m\u001b[0;34m\u001b[0m\u001b[0;34m\u001b[0m\u001b[0m\n\u001b[0;32m-> 1321\u001b[0;31m         return_value = get_return_value(\n\u001b[0m\u001b[1;32m   1322\u001b[0m             answer, self.gateway_client, self.target_id, self.name)\n\u001b[1;32m   1323\u001b[0m \u001b[0;34m\u001b[0m\u001b[0m\n",
            "\u001b[0;32m/opt/spark/python/lib/pyspark.zip/pyspark/sql/utils.py\u001b[0m in \u001b[0;36mdeco\u001b[0;34m(*a, **kw)\u001b[0m\n\u001b[1;32m    109\u001b[0m     \u001b[0;32mdef\u001b[0m \u001b[0mdeco\u001b[0m\u001b[0;34m(\u001b[0m\u001b[0;34m*\u001b[0m\u001b[0ma\u001b[0m\u001b[0;34m,\u001b[0m \u001b[0;34m**\u001b[0m\u001b[0mkw\u001b[0m\u001b[0;34m)\u001b[0m\u001b[0;34m:\u001b[0m\u001b[0;34m\u001b[0m\u001b[0;34m\u001b[0m\u001b[0m\n\u001b[1;32m    110\u001b[0m         \u001b[0;32mtry\u001b[0m\u001b[0;34m:\u001b[0m\u001b[0;34m\u001b[0m\u001b[0;34m\u001b[0m\u001b[0m\n\u001b[0;32m--> 111\u001b[0;31m             \u001b[0;32mreturn\u001b[0m \u001b[0mf\u001b[0m\u001b[0;34m(\u001b[0m\u001b[0;34m*\u001b[0m\u001b[0ma\u001b[0m\u001b[0;34m,\u001b[0m \u001b[0;34m**\u001b[0m\u001b[0mkw\u001b[0m\u001b[0;34m)\u001b[0m\u001b[0;34m\u001b[0m\u001b[0;34m\u001b[0m\u001b[0m\n\u001b[0m\u001b[1;32m    112\u001b[0m         \u001b[0;32mexcept\u001b[0m \u001b[0mpy4j\u001b[0m\u001b[0;34m.\u001b[0m\u001b[0mprotocol\u001b[0m\u001b[0;34m.\u001b[0m\u001b[0mPy4JJavaError\u001b[0m \u001b[0;32mas\u001b[0m \u001b[0me\u001b[0m\u001b[0;34m:\u001b[0m\u001b[0;34m\u001b[0m\u001b[0;34m\u001b[0m\u001b[0m\n\u001b[1;32m    113\u001b[0m             \u001b[0mconverted\u001b[0m \u001b[0;34m=\u001b[0m \u001b[0mconvert_exception\u001b[0m\u001b[0;34m(\u001b[0m\u001b[0me\u001b[0m\u001b[0;34m.\u001b[0m\u001b[0mjava_exception\u001b[0m\u001b[0;34m)\u001b[0m\u001b[0;34m\u001b[0m\u001b[0;34m\u001b[0m\u001b[0m\n",
            "\u001b[0;32m~/cluster-env/env/lib/python3.8/site-packages/py4j/protocol.py\u001b[0m in \u001b[0;36mget_return_value\u001b[0;34m(answer, gateway_client, target_id, name)\u001b[0m\n\u001b[1;32m    324\u001b[0m             \u001b[0mvalue\u001b[0m \u001b[0;34m=\u001b[0m \u001b[0mOUTPUT_CONVERTER\u001b[0m\u001b[0;34m[\u001b[0m\u001b[0mtype\u001b[0m\u001b[0;34m]\u001b[0m\u001b[0;34m(\u001b[0m\u001b[0manswer\u001b[0m\u001b[0;34m[\u001b[0m\u001b[0;36m2\u001b[0m\u001b[0;34m:\u001b[0m\u001b[0;34m]\u001b[0m\u001b[0;34m,\u001b[0m \u001b[0mgateway_client\u001b[0m\u001b[0;34m)\u001b[0m\u001b[0;34m\u001b[0m\u001b[0;34m\u001b[0m\u001b[0m\n\u001b[1;32m    325\u001b[0m             \u001b[0;32mif\u001b[0m \u001b[0manswer\u001b[0m\u001b[0;34m[\u001b[0m\u001b[0;36m1\u001b[0m\u001b[0;34m]\u001b[0m \u001b[0;34m==\u001b[0m \u001b[0mREFERENCE_TYPE\u001b[0m\u001b[0;34m:\u001b[0m\u001b[0;34m\u001b[0m\u001b[0;34m\u001b[0m\u001b[0m\n\u001b[0;32m--> 326\u001b[0;31m                 raise Py4JJavaError(\n\u001b[0m\u001b[1;32m    327\u001b[0m                     \u001b[0;34m\"An error occurred while calling {0}{1}{2}.\\n\"\u001b[0m\u001b[0;34m.\u001b[0m\u001b[0;34m\u001b[0m\u001b[0;34m\u001b[0m\u001b[0m\n\u001b[1;32m    328\u001b[0m                     format(target_id, \".\", name), value)\n",
            "\u001b[0;31mPy4JJavaError\u001b[0m: An error occurred while calling o6137.parquet.\n: org.apache.hadoop.fs.azure.AzureException: java.util.NoSuchElementException: An error occurred while enumerating the result, check the original exception for details.\n\tat org.apache.hadoop.fs.azure.AzureNativeFileSystemStore.retrieveMetadata(AzureNativeFileSystemStore.java:2223)\n\tat org.apache.hadoop.fs.azure.NativeAzureFileSystem.getAncestor(NativeAzureFileSystem.java:2973)\n\tat org.apache.hadoop.fs.azure.NativeAzureFileSystem.mkdirs(NativeAzureFileSystem.java:2999)\n\tat org.apache.hadoop.fs.azure.NativeAzureFileSystem.mkdirs(NativeAzureFileSystem.java:2986)\n\tat org.apache.hadoop.fs.FileSystem.mkdirs(FileSystem.java:2388)\n\tat org.apache.hadoop.mapreduce.lib.output.FileOutputCommitter.setupJob(FileOutputCommitter.java:356)\n\tat org.apache.spark.internal.io.HadoopMapReduceCommitProtocol.setupJob(HadoopMapReduceCommitProtocol.scala:205)\n\tat org.apache.spark.sql.execution.datasources.FileFormatWriter$.write(FileFormatWriter.scala:187)\n\tat org.apache.spark.sql.execution.datasources.InsertIntoHadoopFsRelationCommand.run(InsertIntoHadoopFsRelationCommand.scala:187)\n\tat org.apache.spark.sql.execution.command.DataWritingCommandExec.sideEffectResult$lzycompute(commands.scala:113)\n\tat org.apache.spark.sql.execution.command.DataWritingCommandExec.sideEffectResult(commands.scala:111)\n\tat org.apache.spark.sql.execution.command.DataWritingCommandExec.executeCollect(commands.scala:125)\n\tat org.apache.spark.sql.execution.QueryExecution$$anonfun$eagerlyExecuteCommands$1.$anonfun$applyOrElse$1(QueryExecution.scala:107)\n\tat org.apache.spark.sql.execution.SQLExecution$.$anonfun$withNewExecutionId$5(SQLExecution.scala:104)\n\tat org.apache.spark.sql.execution.SQLExecution$.withSQLConfPropagated(SQLExecution.scala:169)\n\tat org.apache.spark.sql.execution.SQLExecution$.$anonfun$withNewExecutionId$1(SQLExecution.scala:91)\n\tat org.apache.spark.sql.SparkSession.withActive(SparkSession.scala:775)\n\tat org.apache.spark.sql.execution.SQLExecution$.withNewExecutionId(SQLExecution.scala:65)\n\tat org.apache.spark.sql.execution.QueryExecution$$anonfun$eagerlyExecuteCommands$1.applyOrElse(QueryExecution.scala:107)\n\tat org.apache.spark.sql.execution.QueryExecution$$anonfun$eagerlyExecuteCommands$1.applyOrElse(QueryExecution.scala:103)\n\tat org.apache.spark.sql.catalyst.trees.TreeNode.$anonfun$transformDownWithPruning$1(TreeNode.scala:481)\n\tat org.apache.spark.sql.catalyst.trees.CurrentOrigin$.withOrigin(TreeNode.scala:82)\n\tat org.apache.spark.sql.catalyst.trees.TreeNode.transformDownWithPruning(TreeNode.scala:481)\n\tat org.apache.spark.sql.catalyst.plans.logical.LogicalPlan.org$apache$spark$sql$catalyst$plans$logical$AnalysisHelper$$super$transformDownWithPruning(LogicalPlan.scala:30)\n\tat org.apache.spark.sql.catalyst.plans.logical.AnalysisHelper.transformDownWithPruning(AnalysisHelper.scala:267)\n\tat org.apache.spark.sql.catalyst.plans.logical.AnalysisHelper.transformDownWithPruning$(AnalysisHelper.scala:263)\n\tat org.apache.spark.sql.catalyst.plans.logical.LogicalPlan.transformDownWithPruning(LogicalPlan.scala:30)\n\tat org.apache.spark.sql.catalyst.plans.logical.LogicalPlan.transformDownWithPruning(LogicalPlan.scala:30)\n\tat org.apache.spark.sql.catalyst.trees.TreeNode.transformDown(TreeNode.scala:457)\n\tat org.apache.spark.sql.execution.QueryExecution.eagerlyExecuteCommands(QueryExecution.scala:103)\n\tat org.apache.spark.sql.execution.QueryExecution.commandExecuted$lzycompute(QueryExecution.scala:87)\n\tat org.apache.spark.sql.execution.QueryExecution.commandExecuted(QueryExecution.scala:81)\n\tat org.apache.spark.sql.execution.QueryExecution.assertCommandExecuted(QueryExecution.scala:125)\n\tat org.apache.spark.sql.DataFrameWriter.runCommand(DataFrameWriter.scala:872)\n\tat org.apache.spark.sql.DataFrameWriter.saveToV1Source(DataFrameWriter.scala:406)\n\tat org.apache.spark.sql.DataFrameWriter.saveInternal(DataFrameWriter.scala:374)\n\tat org.apache.spark.sql.DataFrameWriter.save(DataFrameWriter.scala:241)\n\tat org.apache.spark.sql.DataFrameWriter.parquet(DataFrameWriter.scala:805)\n\tat sun.reflect.NativeMethodAccessorImpl.invoke0(Native Method)\n\tat sun.reflect.NativeMethodAccessorImpl.invoke(NativeMethodAccessorImpl.java:62)\n\tat sun.reflect.DelegatingMethodAccessorImpl.invoke(DelegatingMethodAccessorImpl.java:43)\n\tat java.lang.reflect.Method.invoke(Method.java:498)\n\tat py4j.reflection.MethodInvoker.invoke(MethodInvoker.java:244)\n\tat py4j.reflection.ReflectionEngine.invoke(ReflectionEngine.java:357)\n\tat py4j.Gateway.invoke(Gateway.java:282)\n\tat py4j.commands.AbstractCommand.invokeMethod(AbstractCommand.java:132)\n\tat py4j.commands.CallCommand.execute(CallCommand.java:79)\n\tat py4j.GatewayConnection.run(GatewayConnection.java:238)\n\tat java.lang.Thread.run(Thread.java:750)\nCaused by: java.util.NoSuchElementException: An error occurred while enumerating the result, check the original exception for details.\n\tat com.microsoft.azure.storage.core.LazySegmentedIterator.hasNext(LazySegmentedIterator.java:113)\n\tat org.apache.hadoop.fs.azure.StorageInterfaceImpl$WrappingIterator.hasNext(StorageInterfaceImpl.java:148)\n\tat org.apache.hadoop.fs.azure.AzureNativeFileSystemStore.retrieveMetadata(AzureNativeFileSystemStore.java:2202)\n\t... 48 more\nCaused by: com.microsoft.azure.storage.StorageException: The specified container does not exist.\n\tat com.microsoft.azure.storage.StorageException.translateException(StorageException.java:87)\n\tat com.microsoft.azure.storage.core.StorageRequest.materializeException(StorageRequest.java:315)\n\tat com.microsoft.azure.storage.core.ExecutionEngine.executeWithRetry(ExecutionEngine.java:185)\n\tat com.microsoft.azure.storage.core.LazySegmentedIterator.hasNext(LazySegmentedIterator.java:109)\n\t... 50 more\n"
          ]
        }
      ],
      "source": [
        "\n",
        "workspace_default_storage_account = \"group26astorage35a27acbd\"\n",
        "workspace_default_container = \"azureml-blobstore-570461b0-0642-4dca-b42c-0c43e1c96eec\"\n",
        "\n",
        "workspace_wasbs_base_url = (\n",
        "    f\"wasbs://{workspace_default_container}@{workspace_default_storage_account}.blob.core.windows.net/\"\n",
        ")\n",
        "comments_sentiment_results.write.mode(\"overwrite\").parquet(f\"{workspace_wasbs_base_url}/basketball_comments_sentiment.parquet\")\n",
        "\n"
      ]
    },
    {
      "cell_type": "code",
      "execution_count": 15,
      "metadata": {
        "gather": {
          "logged": 1700449994925
        },
        "jupyter": {
          "outputs_hidden": false,
          "source_hidden": false
        },
        "nteract": {
          "transient": {
            "deleting": false
          }
        }
      },
      "outputs": [
        {
          "data": {
            "application/vnd.livy.statement-meta+json": {
              "execution_finish_time": "2023-11-20T03:13:14.7502823Z",
              "execution_start_time": "2023-11-20T03:13:10.4850046Z",
              "livy_statement_state": "available",
              "parent_msg_id": "4d8a52ae-7d65-4161-aa21-e3a1322c509d",
              "queued_time": "2023-11-20T03:13:10.3710799Z",
              "session_id": "47",
              "session_start_time": null,
              "spark_jobs": {
                "jobs": [
                  {
                    "completionTime": "2023-11-20T03:13:12.720GMT",
                    "dataRead": 25477185,
                    "dataWritten": 0,
                    "description": "Job group for statement 18:\ncomments_sentiment_result.select('subreddit', 'year', 'week', F.explode('sentiment.result')).show(3, truncate=False)",
                    "displayName": "showString at NativeMethodAccessorImpl.java:0",
                    "jobGroup": "18",
                    "jobId": 7,
                    "killedTasksSummary": {},
                    "name": "showString at NativeMethodAccessorImpl.java:0",
                    "numActiveStages": 0,
                    "numActiveTasks": 0,
                    "numCompletedIndices": 1,
                    "numCompletedStages": 1,
                    "numCompletedTasks": 1,
                    "numFailedStages": 0,
                    "numFailedTasks": 0,
                    "numKilledTasks": 0,
                    "numSkippedStages": 0,
                    "numSkippedTasks": 0,
                    "numTasks": 1,
                    "rowCount": 4,
                    "stageIds": [
                      7
                    ],
                    "status": "SUCCEEDED",
                    "submissionTime": "2023-11-20T03:13:11.256GMT",
                    "usageDescription": ""
                  }
                ],
                "limit": 20,
                "numbers": {
                  "FAILED": 0,
                  "RUNNING": 0,
                  "SUCCEEDED": 1,
                  "UNKNOWN": 0
                },
                "rule": "ALL_DESC"
              },
              "spark_pool": "7c27951d-2bdf-4140-be82-d0dc0c0e7d8e",
              "state": "finished",
              "statement_id": 18
            },
            "text/plain": [
              "StatementMeta(7c27951d-2bdf-4140-be82-d0dc0c0e7d8e, 47, 18, Finished, Available)"
            ]
          },
          "metadata": {},
          "output_type": "display_data"
        },
        {
          "name": "stdout",
          "output_type": "stream",
          "text": [
            "+-----------------+----+----+--------+\n",
            "|subreddit        |year|week|col     |\n",
            "+-----------------+----+----+--------+\n",
            "|CollegeBasketball|2021|45  |negative|\n",
            "|CollegeBasketball|2021|45  |negative|\n",
            "|CollegeBasketball|2021|45  |positive|\n",
            "+-----------------+----+----+--------+\n",
            "only showing top 3 rows\n",
            "\n"
          ]
        }
      ],
      "source": [
        "comments_sentiment_result.select('subreddit', 'year', 'week', F.explode('sentiment.result')).show(3, truncate=False)"
      ]
    },
    {
      "cell_type": "markdown",
      "metadata": {
        "nteract": {
          "transient": {
            "deleting": false
          }
        }
      },
      "source": [
        "Since we focus on the question that determining if sentiment results correlate with team success, we just select the columns we want for further analysis. "
      ]
    },
    {
      "cell_type": "code",
      "execution_count": 16,
      "metadata": {
        "gather": {
          "logged": 1700450002487
        },
        "jupyter": {
          "outputs_hidden": false,
          "source_hidden": false
        },
        "nteract": {
          "transient": {
            "deleting": false
          }
        }
      },
      "outputs": [
        {
          "data": {
            "application/vnd.livy.statement-meta+json": {
              "execution_finish_time": "2023-11-20T03:13:22.3646303Z",
              "execution_start_time": "2023-11-20T03:13:22.0660693Z",
              "livy_statement_state": "available",
              "parent_msg_id": "3c8b10df-37b0-43bd-a499-3252c0f70f1d",
              "queued_time": "2023-11-20T03:13:21.9550877Z",
              "session_id": "47",
              "session_start_time": null,
              "spark_jobs": {
                "jobs": [],
                "limit": 20,
                "numbers": {
                  "FAILED": 0,
                  "RUNNING": 0,
                  "SUCCEEDED": 0,
                  "UNKNOWN": 0
                },
                "rule": "ALL_DESC"
              },
              "spark_pool": "7c27951d-2bdf-4140-be82-d0dc0c0e7d8e",
              "state": "finished",
              "statement_id": 19
            },
            "text/plain": [
              "StatementMeta(7c27951d-2bdf-4140-be82-d0dc0c0e7d8e, 47, 19, Finished, Available)"
            ]
          },
          "metadata": {},
          "output_type": "display_data"
        }
      ],
      "source": [
        "sentiment_comments = comments_sentiment_result.select('subreddit','year', 'week',F.explode('sentiment.result'))"
      ]
    },
    {
      "cell_type": "markdown",
      "metadata": {
        "nteract": {
          "transient": {
            "deleting": false
          }
        }
      },
      "source": [
        "Filter the dataframe to get a new dataframe about Kansas and a new dataframe about UNC."
      ]
    },
    {
      "cell_type": "code",
      "execution_count": 17,
      "metadata": {
        "gather": {
          "logged": 1700450027728
        },
        "jupyter": {
          "outputs_hidden": false,
          "source_hidden": false
        },
        "nteract": {
          "transient": {
            "deleting": false
          }
        }
      },
      "outputs": [
        {
          "data": {
            "application/vnd.livy.statement-meta+json": {
              "execution_finish_time": "2023-11-20T03:13:47.6100782Z",
              "execution_start_time": "2023-11-20T03:13:46.7739187Z",
              "livy_statement_state": "available",
              "parent_msg_id": "734d4c4d-5bb2-49ef-ad04-327acf8f1b33",
              "queued_time": "2023-11-20T03:13:46.658741Z",
              "session_id": "47",
              "session_start_time": null,
              "spark_jobs": {
                "jobs": [],
                "limit": 20,
                "numbers": {
                  "FAILED": 0,
                  "RUNNING": 0,
                  "SUCCEEDED": 0,
                  "UNKNOWN": 0
                },
                "rule": "ALL_DESC"
              },
              "spark_pool": "7c27951d-2bdf-4140-be82-d0dc0c0e7d8e",
              "state": "finished",
              "statement_id": 20
            },
            "text/plain": [
              "StatementMeta(7c27951d-2bdf-4140-be82-d0dc0c0e7d8e, 47, 20, Finished, Available)"
            ]
          },
          "metadata": {},
          "output_type": "display_data"
        }
      ],
      "source": [
        "sentiment_comments_kansas = sentiment_comments.filter(sentiment_comments.subreddit == 'jayhawks')\n",
        "sentiment_comments_unc = sentiment_comments.filter(sentiment_comments.subreddit == 'tarheels')"
      ]
    },
    {
      "cell_type": "code",
      "execution_count": 18,
      "metadata": {
        "gather": {
          "logged": 1700450066108
        },
        "jupyter": {
          "outputs_hidden": false,
          "source_hidden": false
        },
        "nteract": {
          "transient": {
            "deleting": false
          }
        }
      },
      "outputs": [
        {
          "data": {
            "application/vnd.livy.statement-meta+json": {
              "execution_finish_time": "2023-11-20T03:14:25.9213712Z",
              "execution_start_time": "2023-11-20T03:13:54.0569601Z",
              "livy_statement_state": "available",
              "parent_msg_id": "ee21299a-b1a5-4377-924f-9b446673a9c0",
              "queued_time": "2023-11-20T03:13:53.9457016Z",
              "session_id": "47",
              "session_start_time": null,
              "spark_jobs": {
                "jobs": [
                  {
                    "completionTime": "2023-11-20T03:14:23.592GMT",
                    "dataRead": 25480190,
                    "dataWritten": 0,
                    "description": "Job group for statement 21:\nsentiment_comments_kansas.show(3)",
                    "displayName": "showString at NativeMethodAccessorImpl.java:0",
                    "jobGroup": "21",
                    "jobId": 8,
                    "killedTasksSummary": {},
                    "name": "showString at NativeMethodAccessorImpl.java:0",
                    "numActiveStages": 0,
                    "numActiveTasks": 0,
                    "numCompletedIndices": 1,
                    "numCompletedStages": 1,
                    "numCompletedTasks": 1,
                    "numFailedStages": 0,
                    "numFailedTasks": 0,
                    "numKilledTasks": 0,
                    "numSkippedStages": 0,
                    "numSkippedTasks": 0,
                    "numTasks": 1,
                    "rowCount": 2120,
                    "stageIds": [
                      8
                    ],
                    "status": "SUCCEEDED",
                    "submissionTime": "2023-11-20T03:13:54.502GMT",
                    "usageDescription": ""
                  }
                ],
                "limit": 20,
                "numbers": {
                  "FAILED": 0,
                  "RUNNING": 0,
                  "SUCCEEDED": 1,
                  "UNKNOWN": 0
                },
                "rule": "ALL_DESC"
              },
              "spark_pool": "7c27951d-2bdf-4140-be82-d0dc0c0e7d8e",
              "state": "finished",
              "statement_id": 21
            },
            "text/plain": [
              "StatementMeta(7c27951d-2bdf-4140-be82-d0dc0c0e7d8e, 47, 21, Finished, Available)"
            ]
          },
          "metadata": {},
          "output_type": "display_data"
        },
        {
          "name": "stdout",
          "output_type": "stream",
          "text": [
            "+---------+----+----+--------+\n",
            "|subreddit|year|week|     col|\n",
            "+---------+----+----+--------+\n",
            "| jayhawks|2022|  11|positive|\n",
            "| jayhawks|2022|  11|negative|\n",
            "| jayhawks|2022|  11|positive|\n",
            "+---------+----+----+--------+\n",
            "only showing top 3 rows\n",
            "\n"
          ]
        }
      ],
      "source": [
        "sentiment_comments_kansas.show(3)"
      ]
    },
    {
      "cell_type": "markdown",
      "metadata": {
        "nteract": {
          "transient": {
            "deleting": false
          }
        }
      },
      "source": [
        "To keep the analysis process clear and easy to understand, we focus on the positive comments."
      ]
    },
    {
      "cell_type": "code",
      "execution_count": 19,
      "metadata": {
        "gather": {
          "logged": 1700450078079
        },
        "jupyter": {
          "outputs_hidden": false,
          "source_hidden": false
        },
        "nteract": {
          "transient": {
            "deleting": false
          }
        }
      },
      "outputs": [
        {
          "data": {
            "application/vnd.livy.statement-meta+json": {
              "execution_finish_time": "2023-11-20T03:14:37.9598635Z",
              "execution_start_time": "2023-11-20T03:14:37.6621188Z",
              "livy_statement_state": "available",
              "parent_msg_id": "1d0f7890-1170-445e-b800-cfd9fab102db",
              "queued_time": "2023-11-20T03:14:37.562217Z",
              "session_id": "47",
              "session_start_time": null,
              "spark_jobs": {
                "jobs": [],
                "limit": 20,
                "numbers": {
                  "FAILED": 0,
                  "RUNNING": 0,
                  "SUCCEEDED": 0,
                  "UNKNOWN": 0
                },
                "rule": "ALL_DESC"
              },
              "spark_pool": "7c27951d-2bdf-4140-be82-d0dc0c0e7d8e",
              "state": "finished",
              "statement_id": 22
            },
            "text/plain": [
              "StatementMeta(7c27951d-2bdf-4140-be82-d0dc0c0e7d8e, 47, 22, Finished, Available)"
            ]
          },
          "metadata": {},
          "output_type": "display_data"
        }
      ],
      "source": [
        "sentiment_comments_kansas_po = sentiment_comments_kansas.filter(col('col') == 'positive')"
      ]
    },
    {
      "cell_type": "markdown",
      "metadata": {
        "nteract": {
          "transient": {
            "deleting": false
          }
        }
      },
      "source": [
        "Now let's group by the positive comments from 'jayhawks' using 'year' and 'week' to see some results."
      ]
    },
    {
      "cell_type": "code",
      "execution_count": 21,
      "metadata": {
        "gather": {
          "logged": 1700450276417
        },
        "jupyter": {
          "outputs_hidden": false,
          "source_hidden": false
        },
        "nteract": {
          "transient": {
            "deleting": false
          }
        }
      },
      "outputs": [
        {
          "data": {
            "application/vnd.livy.statement-meta+json": {
              "execution_finish_time": "2023-11-20T03:17:56.2605974Z",
              "execution_start_time": "2023-11-20T03:15:23.8645964Z",
              "livy_statement_state": "available",
              "parent_msg_id": "a64650f4-acac-4a12-b608-9fc79e0fd703",
              "queued_time": "2023-11-20T03:15:23.7532181Z",
              "session_id": "47",
              "session_start_time": null,
              "spark_jobs": {
                "jobs": [
                  {
                    "completionTime": "2023-11-20T03:17:54.938GMT",
                    "dataRead": 16873,
                    "dataWritten": 0,
                    "description": "Job group for statement 24:\nsentiment_comments_kansas_po.groupBy('year','week').count().show(5)",
                    "displayName": "showString at NativeMethodAccessorImpl.java:0",
                    "jobGroup": "24",
                    "jobId": 10,
                    "killedTasksSummary": {},
                    "name": "showString at NativeMethodAccessorImpl.java:0",
                    "numActiveStages": 0,
                    "numActiveTasks": 0,
                    "numCompletedIndices": 1,
                    "numCompletedStages": 1,
                    "numCompletedTasks": 1,
                    "numFailedStages": 0,
                    "numFailedTasks": 0,
                    "numKilledTasks": 0,
                    "numSkippedStages": 1,
                    "numSkippedTasks": 9,
                    "numTasks": 10,
                    "rowCount": 259,
                    "stageIds": [
                      10,
                      11
                    ],
                    "status": "SUCCEEDED",
                    "submissionTime": "2023-11-20T03:17:54.556GMT",
                    "usageDescription": ""
                  },
                  {
                    "completionTime": "2023-11-20T03:17:54.342GMT",
                    "dataRead": 130649204,
                    "dataWritten": 16873,
                    "description": "Job group for statement 24:\nsentiment_comments_kansas_po.groupBy('year','week').count().show(5)",
                    "displayName": "showString at NativeMethodAccessorImpl.java:0",
                    "jobGroup": "24",
                    "jobId": 9,
                    "killedTasksSummary": {},
                    "name": "showString at NativeMethodAccessorImpl.java:0",
                    "numActiveStages": 0,
                    "numActiveTasks": 0,
                    "numCompletedIndices": 9,
                    "numCompletedStages": 1,
                    "numCompletedTasks": 9,
                    "numFailedStages": 0,
                    "numFailedTasks": 0,
                    "numKilledTasks": 0,
                    "numSkippedStages": 0,
                    "numSkippedTasks": 0,
                    "numTasks": 9,
                    "rowCount": 870063,
                    "stageIds": [
                      9
                    ],
                    "status": "SUCCEEDED",
                    "submissionTime": "2023-11-20T03:15:24.690GMT",
                    "usageDescription": ""
                  }
                ],
                "limit": 20,
                "numbers": {
                  "FAILED": 0,
                  "RUNNING": 0,
                  "SUCCEEDED": 2,
                  "UNKNOWN": 0
                },
                "rule": "ALL_DESC"
              },
              "spark_pool": "7c27951d-2bdf-4140-be82-d0dc0c0e7d8e",
              "state": "finished",
              "statement_id": 24
            },
            "text/plain": [
              "StatementMeta(7c27951d-2bdf-4140-be82-d0dc0c0e7d8e, 47, 24, Finished, Available)"
            ]
          },
          "metadata": {},
          "output_type": "display_data"
        },
        {
          "name": "stdout",
          "output_type": "stream",
          "text": [
            "+----+----+-----+\n",
            "|year|week|count|\n",
            "+----+----+-----+\n",
            "|2022|  10|  101|\n",
            "|2022|  14|  382|\n",
            "|2021|  51|   23|\n",
            "|2022|  52|   30|\n",
            "|2021|  45|   93|\n",
            "+----+----+-----+\n",
            "only showing top 5 rows\n",
            "\n"
          ]
        }
      ],
      "source": [
        "sentiment_comments_kansas_po.groupBy('year','week').count().show(5)"
      ]
    },
    {
      "cell_type": "markdown",
      "metadata": {
        "nteract": {
          "transient": {
            "deleting": false
          }
        }
      },
      "source": [
        "From the table above, we can see there are many positive results in the 14 week of 2022. That was around March or April of 2022. That makes sense because that was the end of the basketball season and people must be talking a lot about the games."
      ]
    },
    {
      "cell_type": "markdown",
      "metadata": {
        "nteract": {
          "transient": {
            "deleting": false
          }
        }
      },
      "source": [
        "Now let's look at the positive comments from 'tarheels'."
      ]
    },
    {
      "cell_type": "code",
      "execution_count": 20,
      "metadata": {
        "gather": {
          "logged": 1700450101509
        },
        "jupyter": {
          "outputs_hidden": false,
          "source_hidden": false
        },
        "nteract": {
          "transient": {
            "deleting": false
          }
        }
      },
      "outputs": [
        {
          "data": {
            "application/vnd.livy.statement-meta+json": {
              "execution_finish_time": "2023-11-20T03:15:01.3530381Z",
              "execution_start_time": "2023-11-20T03:15:01.0205314Z",
              "livy_statement_state": "available",
              "parent_msg_id": "a423dcda-6f53-4445-9fb6-bae33b2dd428",
              "queued_time": "2023-11-20T03:15:00.9121543Z",
              "session_id": "47",
              "session_start_time": null,
              "spark_jobs": {
                "jobs": [],
                "limit": 20,
                "numbers": {
                  "FAILED": 0,
                  "RUNNING": 0,
                  "SUCCEEDED": 0,
                  "UNKNOWN": 0
                },
                "rule": "ALL_DESC"
              },
              "spark_pool": "7c27951d-2bdf-4140-be82-d0dc0c0e7d8e",
              "state": "finished",
              "statement_id": 23
            },
            "text/plain": [
              "StatementMeta(7c27951d-2bdf-4140-be82-d0dc0c0e7d8e, 47, 23, Finished, Available)"
            ]
          },
          "metadata": {},
          "output_type": "display_data"
        }
      ],
      "source": [
        "sentiment_comments_unc_po = sentiment_comments_unc.filter(col('col') == 'positive')"
      ]
    },
    {
      "cell_type": "code",
      "execution_count": 22,
      "metadata": {
        "gather": {
          "logged": 1700450509829
        },
        "jupyter": {
          "outputs_hidden": false,
          "source_hidden": false
        },
        "nteract": {
          "transient": {
            "deleting": false
          }
        }
      },
      "outputs": [
        {
          "data": {
            "application/vnd.livy.statement-meta+json": {
              "execution_finish_time": "2023-11-20T03:21:49.6167229Z",
              "execution_start_time": "2023-11-20T03:19:24.6343661Z",
              "livy_statement_state": "available",
              "parent_msg_id": "7da19452-307e-47f7-be14-9db26635907c",
              "queued_time": "2023-11-20T03:19:24.5176924Z",
              "session_id": "47",
              "session_start_time": null,
              "spark_jobs": {
                "jobs": [
                  {
                    "completionTime": "2023-11-20T03:21:49.051GMT",
                    "dataRead": 6054,
                    "dataWritten": 0,
                    "description": "Job group for statement 25:\nsentiment_comments_unc_po.groupBy('year','week').count().show(5)",
                    "displayName": "showString at NativeMethodAccessorImpl.java:0",
                    "jobGroup": "25",
                    "jobId": 12,
                    "killedTasksSummary": {},
                    "name": "showString at NativeMethodAccessorImpl.java:0",
                    "numActiveStages": 0,
                    "numActiveTasks": 0,
                    "numCompletedIndices": 1,
                    "numCompletedStages": 1,
                    "numCompletedTasks": 1,
                    "numFailedStages": 0,
                    "numFailedTasks": 0,
                    "numKilledTasks": 0,
                    "numSkippedStages": 1,
                    "numSkippedTasks": 9,
                    "numTasks": 10,
                    "rowCount": 90,
                    "stageIds": [
                      13,
                      14
                    ],
                    "status": "SUCCEEDED",
                    "submissionTime": "2023-11-20T03:21:48.714GMT",
                    "usageDescription": ""
                  },
                  {
                    "completionTime": "2023-11-20T03:21:48.508GMT",
                    "dataRead": 130600266,
                    "dataWritten": 6054,
                    "description": "Job group for statement 25:\nsentiment_comments_unc_po.groupBy('year','week').count().show(5)",
                    "displayName": "showString at NativeMethodAccessorImpl.java:0",
                    "jobGroup": "25",
                    "jobId": 11,
                    "killedTasksSummary": {},
                    "name": "showString at NativeMethodAccessorImpl.java:0",
                    "numActiveStages": 0,
                    "numActiveTasks": 0,
                    "numCompletedIndices": 9,
                    "numCompletedStages": 1,
                    "numCompletedTasks": 9,
                    "numFailedStages": 0,
                    "numFailedTasks": 0,
                    "numKilledTasks": 0,
                    "numSkippedStages": 0,
                    "numSkippedTasks": 0,
                    "numTasks": 9,
                    "rowCount": 869894,
                    "stageIds": [
                      12
                    ],
                    "status": "SUCCEEDED",
                    "submissionTime": "2023-11-20T03:19:25.018GMT",
                    "usageDescription": ""
                  }
                ],
                "limit": 20,
                "numbers": {
                  "FAILED": 0,
                  "RUNNING": 0,
                  "SUCCEEDED": 2,
                  "UNKNOWN": 0
                },
                "rule": "ALL_DESC"
              },
              "spark_pool": "7c27951d-2bdf-4140-be82-d0dc0c0e7d8e",
              "state": "finished",
              "statement_id": 25
            },
            "text/plain": [
              "StatementMeta(7c27951d-2bdf-4140-be82-d0dc0c0e7d8e, 47, 25, Finished, Available)"
            ]
          },
          "metadata": {},
          "output_type": "display_data"
        },
        {
          "name": "stdout",
          "output_type": "stream",
          "text": [
            "+----+----+-----+\n",
            "|year|week|count|\n",
            "+----+----+-----+\n",
            "|2022|  10|    4|\n",
            "|2022|  14|   72|\n",
            "|2022|  11|   35|\n",
            "|2022|   5|    3|\n",
            "|2021|  41|    2|\n",
            "+----+----+-----+\n",
            "only showing top 5 rows\n",
            "\n"
          ]
        }
      ],
      "source": [
        "sentiment_comments_unc_po.groupBy('year','week').count().show(5)"
      ]
    },
    {
      "cell_type": "markdown",
      "metadata": {
        "nteract": {
          "transient": {
            "deleting": false
          }
        }
      },
      "source": [
        "From the table above, we can see that generally the numbers of positive comments from 'tarheels' were much smaller than those from 'jayhawks'."
      ]
    },
    {
      "cell_type": "code",
      "execution_count": 23,
      "metadata": {
        "gather": {
          "logged": 1700450564468
        },
        "jupyter": {
          "outputs_hidden": false,
          "source_hidden": false
        },
        "nteract": {
          "transient": {
            "deleting": false
          }
        }
      },
      "outputs": [
        {
          "data": {
            "application/vnd.livy.statement-meta+json": {
              "execution_finish_time": "2023-11-20T03:22:44.270213Z",
              "execution_start_time": "2023-11-20T03:22:43.9555531Z",
              "livy_statement_state": "available",
              "parent_msg_id": "d1e0cc96-a91d-4ec1-97e1-7f1792ac1f67",
              "queued_time": "2023-11-20T03:22:43.853195Z",
              "session_id": "47",
              "session_start_time": null,
              "spark_jobs": {
                "jobs": [],
                "limit": 20,
                "numbers": {
                  "FAILED": 0,
                  "RUNNING": 0,
                  "SUCCEEDED": 0,
                  "UNKNOWN": 0
                },
                "rule": "ALL_DESC"
              },
              "spark_pool": "7c27951d-2bdf-4140-be82-d0dc0c0e7d8e",
              "state": "finished",
              "statement_id": 26
            },
            "text/plain": [
              "StatementMeta(7c27951d-2bdf-4140-be82-d0dc0c0e7d8e, 47, 26, Finished, Available)"
            ]
          },
          "metadata": {},
          "output_type": "display_data"
        }
      ],
      "source": [
        "sentiment_comments_kansas_pcount = sentiment_comments_kansas_po.groupBy('year','week').count()"
      ]
    },
    {
      "cell_type": "code",
      "execution_count": 24,
      "metadata": {
        "gather": {
          "logged": 1700450567266
        },
        "jupyter": {
          "outputs_hidden": false,
          "source_hidden": false
        },
        "nteract": {
          "transient": {
            "deleting": false
          }
        }
      },
      "outputs": [
        {
          "data": {
            "application/vnd.livy.statement-meta+json": {
              "execution_finish_time": "2023-11-20T03:22:47.130002Z",
              "execution_start_time": "2023-11-20T03:22:46.8403602Z",
              "livy_statement_state": "available",
              "parent_msg_id": "373e67f2-f18d-4f27-a326-e26e890db6be",
              "queued_time": "2023-11-20T03:22:46.7413884Z",
              "session_id": "47",
              "session_start_time": null,
              "spark_jobs": {
                "jobs": [],
                "limit": 20,
                "numbers": {
                  "FAILED": 0,
                  "RUNNING": 0,
                  "SUCCEEDED": 0,
                  "UNKNOWN": 0
                },
                "rule": "ALL_DESC"
              },
              "spark_pool": "7c27951d-2bdf-4140-be82-d0dc0c0e7d8e",
              "state": "finished",
              "statement_id": 27
            },
            "text/plain": [
              "StatementMeta(7c27951d-2bdf-4140-be82-d0dc0c0e7d8e, 47, 27, Finished, Available)"
            ]
          },
          "metadata": {},
          "output_type": "display_data"
        }
      ],
      "source": [
        "sentiment_comments_unc_pcount = sentiment_comments_unc_po.groupBy('year','week').count()"
      ]
    },
    {
      "cell_type": "markdown",
      "metadata": {
        "nteract": {
          "transient": {
            "deleting": false
          }
        }
      },
      "source": [
        "Let's save the dataframes and spit each dataframe into two parts, one for 2021 and one for 2022, which makes it easier for further analysis."
      ]
    },
    {
      "cell_type": "code",
      "execution_count": 25,
      "metadata": {
        "gather": {
          "logged": 1700450572472
        },
        "jupyter": {
          "outputs_hidden": false,
          "source_hidden": false
        },
        "nteract": {
          "transient": {
            "deleting": false
          }
        }
      },
      "outputs": [
        {
          "data": {
            "application/vnd.livy.statement-meta+json": {
              "execution_finish_time": "2023-11-20T03:22:52.3445777Z",
              "execution_start_time": "2023-11-20T03:22:52.0591392Z",
              "livy_statement_state": "available",
              "parent_msg_id": "33a28fb8-9ae6-4da2-bee8-b892f18d8696",
              "queued_time": "2023-11-20T03:22:51.9628112Z",
              "session_id": "47",
              "session_start_time": null,
              "spark_jobs": {
                "jobs": [],
                "limit": 20,
                "numbers": {
                  "FAILED": 0,
                  "RUNNING": 0,
                  "SUCCEEDED": 0,
                  "UNKNOWN": 0
                },
                "rule": "ALL_DESC"
              },
              "spark_pool": "7c27951d-2bdf-4140-be82-d0dc0c0e7d8e",
              "state": "finished",
              "statement_id": 28
            },
            "text/plain": [
              "StatementMeta(7c27951d-2bdf-4140-be82-d0dc0c0e7d8e, 47, 28, Finished, Available)"
            ]
          },
          "metadata": {},
          "output_type": "display_data"
        }
      ],
      "source": [
        "sentiment_comments_kansas_pcount_2021 = sentiment_comments_kansas_pcount.filter(col('year') == 2021)\n",
        "sentiment_comments_kansas_pcount_2022 = sentiment_comments_kansas_pcount.filter(col('year') == 2022)"
      ]
    },
    {
      "cell_type": "code",
      "execution_count": 26,
      "metadata": {
        "gather": {
          "logged": 1700450575648
        },
        "jupyter": {
          "outputs_hidden": false,
          "source_hidden": false
        },
        "nteract": {
          "transient": {
            "deleting": false
          }
        }
      },
      "outputs": [
        {
          "data": {
            "application/vnd.livy.statement-meta+json": {
              "execution_finish_time": "2023-11-20T03:22:55.4722905Z",
              "execution_start_time": "2023-11-20T03:22:55.1779718Z",
              "livy_statement_state": "available",
              "parent_msg_id": "a8ad332f-d2f4-49a1-885c-919395690b45",
              "queued_time": "2023-11-20T03:22:55.0794335Z",
              "session_id": "47",
              "session_start_time": null,
              "spark_jobs": {
                "jobs": [],
                "limit": 20,
                "numbers": {
                  "FAILED": 0,
                  "RUNNING": 0,
                  "SUCCEEDED": 0,
                  "UNKNOWN": 0
                },
                "rule": "ALL_DESC"
              },
              "spark_pool": "7c27951d-2bdf-4140-be82-d0dc0c0e7d8e",
              "state": "finished",
              "statement_id": 29
            },
            "text/plain": [
              "StatementMeta(7c27951d-2bdf-4140-be82-d0dc0c0e7d8e, 47, 29, Finished, Available)"
            ]
          },
          "metadata": {},
          "output_type": "display_data"
        }
      ],
      "source": [
        "sentiment_comments_unc_pcount_2021 = sentiment_comments_unc_pcount.filter(col('year') == 2021)\n",
        "sentiment_comments_unc_pcount_2022 = sentiment_comments_unc_pcount.filter(col('year') == 2022)"
      ]
    },
    {
      "cell_type": "markdown",
      "metadata": {
        "nteract": {
          "transient": {
            "deleting": false
          }
        }
      },
      "source": [
        "Make the dataframes ordered by 'week' for comparison later. "
      ]
    },
    {
      "cell_type": "code",
      "execution_count": 53,
      "metadata": {
        "gather": {
          "logged": 1700452853669
        },
        "jupyter": {
          "outputs_hidden": false,
          "source_hidden": false
        },
        "nteract": {
          "transient": {
            "deleting": false
          }
        }
      },
      "outputs": [
        {
          "data": {
            "application/vnd.livy.statement-meta+json": {
              "execution_finish_time": "2023-11-20T04:00:53.524182Z",
              "execution_start_time": "2023-11-20T04:00:53.2177383Z",
              "livy_statement_state": "available",
              "parent_msg_id": "67659733-a2e5-40e4-89a5-e14cb869bd9f",
              "queued_time": "2023-11-20T04:00:53.1091982Z",
              "session_id": "47",
              "session_start_time": null,
              "spark_jobs": {
                "jobs": [],
                "limit": 20,
                "numbers": {
                  "FAILED": 0,
                  "RUNNING": 0,
                  "SUCCEEDED": 0,
                  "UNKNOWN": 0
                },
                "rule": "ALL_DESC"
              },
              "spark_pool": "7c27951d-2bdf-4140-be82-d0dc0c0e7d8e",
              "state": "finished",
              "statement_id": 56
            },
            "text/plain": [
              "StatementMeta(7c27951d-2bdf-4140-be82-d0dc0c0e7d8e, 47, 56, Finished, Available)"
            ]
          },
          "metadata": {},
          "output_type": "display_data"
        }
      ],
      "source": [
        "sentiment_comments_kansas_pcount_2021 = sentiment_comments_kansas_pcount_2021.orderBy('week')\n",
        "sentiment_comments_kansas_pcount_2022 = sentiment_comments_kansas_pcount_2022.orderBy('week')\n",
        "sentiment_comments_unc_pcount_2021 = sentiment_comments_unc_pcount_2021.orderBy('week')\n",
        "sentiment_comments_unc_pcount_2022 = sentiment_comments_unc_pcount_2022.orderBy('week')"
      ]
    },
    {
      "cell_type": "code",
      "execution_count": 54,
      "metadata": {
        "gather": {
          "logged": 1700453030532
        },
        "jupyter": {
          "outputs_hidden": false,
          "source_hidden": false
        },
        "nteract": {
          "transient": {
            "deleting": false
          }
        }
      },
      "outputs": [
        {
          "data": {
            "application/vnd.livy.statement-meta+json": {
              "execution_finish_time": "2023-11-20T04:03:50.3530167Z",
              "execution_start_time": "2023-11-20T04:01:23.7224717Z",
              "livy_statement_state": "available",
              "parent_msg_id": "3f9a1383-083f-48f9-9949-9f50a0ed5a5d",
              "queued_time": "2023-11-20T04:01:23.6228043Z",
              "session_id": "47",
              "session_start_time": null,
              "spark_jobs": {
                "jobs": [
                  {
                    "completionTime": "2023-11-20T04:03:49.049GMT",
                    "dataRead": 8694,
                    "dataWritten": 0,
                    "description": "Job group for statement 57:\nsentiment_comments_kansas_pcount_2021.show(3)",
                    "displayName": "showString at NativeMethodAccessorImpl.java:0",
                    "jobGroup": "57",
                    "jobId": 22,
                    "killedTasksSummary": {},
                    "name": "showString at NativeMethodAccessorImpl.java:0",
                    "numActiveStages": 0,
                    "numActiveTasks": 0,
                    "numCompletedIndices": 1,
                    "numCompletedStages": 1,
                    "numCompletedTasks": 1,
                    "numFailedStages": 0,
                    "numFailedTasks": 0,
                    "numKilledTasks": 0,
                    "numSkippedStages": 1,
                    "numSkippedTasks": 9,
                    "numTasks": 10,
                    "rowCount": 126,
                    "stageIds": [
                      28,
                      29
                    ],
                    "status": "SUCCEEDED",
                    "submissionTime": "2023-11-20T04:03:48.755GMT",
                    "usageDescription": ""
                  },
                  {
                    "completionTime": "2023-11-20T04:03:48.640GMT",
                    "dataRead": 130600266,
                    "dataWritten": 8694,
                    "description": "Job group for statement 57:\nsentiment_comments_kansas_pcount_2021.show(3)",
                    "displayName": "showString at NativeMethodAccessorImpl.java:0",
                    "jobGroup": "57",
                    "jobId": 21,
                    "killedTasksSummary": {},
                    "name": "showString at NativeMethodAccessorImpl.java:0",
                    "numActiveStages": 0,
                    "numActiveTasks": 0,
                    "numCompletedIndices": 9,
                    "numCompletedStages": 1,
                    "numCompletedTasks": 9,
                    "numFailedStages": 0,
                    "numFailedTasks": 0,
                    "numKilledTasks": 0,
                    "numSkippedStages": 0,
                    "numSkippedTasks": 0,
                    "numTasks": 9,
                    "rowCount": 869930,
                    "stageIds": [
                      27
                    ],
                    "status": "SUCCEEDED",
                    "submissionTime": "2023-11-20T04:01:23.991GMT",
                    "usageDescription": ""
                  }
                ],
                "limit": 20,
                "numbers": {
                  "FAILED": 0,
                  "RUNNING": 0,
                  "SUCCEEDED": 2,
                  "UNKNOWN": 0
                },
                "rule": "ALL_DESC"
              },
              "spark_pool": "7c27951d-2bdf-4140-be82-d0dc0c0e7d8e",
              "state": "finished",
              "statement_id": 57
            },
            "text/plain": [
              "StatementMeta(7c27951d-2bdf-4140-be82-d0dc0c0e7d8e, 47, 57, Finished, Available)"
            ]
          },
          "metadata": {},
          "output_type": "display_data"
        },
        {
          "name": "stdout",
          "output_type": "stream",
          "text": [
            "+----+----+-----+\n",
            "|year|week|count|\n",
            "+----+----+-----+\n",
            "|2021|  35|   26|\n",
            "|2021|  36|   20|\n",
            "|2021|  37|    9|\n",
            "+----+----+-----+\n",
            "only showing top 3 rows\n",
            "\n"
          ]
        }
      ],
      "source": [
        "sentiment_comments_kansas_pcount_2021.show(3)"
      ]
    },
    {
      "cell_type": "markdown",
      "metadata": {
        "nteract": {
          "transient": {
            "deleting": false
          }
        }
      },
      "source": [
        "Transform the dataframes into pandas dataframes."
      ]
    },
    {
      "cell_type": "code",
      "execution_count": 55,
      "metadata": {
        "gather": {
          "logged": 1700453732825
        },
        "jupyter": {
          "outputs_hidden": false,
          "source_hidden": false
        },
        "nteract": {
          "transient": {
            "deleting": false
          }
        }
      },
      "outputs": [
        {
          "data": {
            "application/vnd.livy.statement-meta+json": {
              "execution_finish_time": "2023-11-20T04:15:32.5418212Z",
              "execution_start_time": "2023-11-20T04:05:57.6954446Z",
              "livy_statement_state": "available",
              "parent_msg_id": "f5d3a01a-f219-42cd-89f3-a59b13bf3749",
              "queued_time": "2023-11-20T04:05:57.5623482Z",
              "session_id": "47",
              "session_start_time": null,
              "spark_jobs": {
                "jobs": [
                  {
                    "completionTime": "2023-11-20T04:15:31.538GMT",
                    "dataRead": 1035,
                    "dataWritten": 0,
                    "description": "Job group for statement 58:\nsentiment_comments_kansas_pcount_2021_pd = sentiment_comments_kansas_pcount_2021.toPandas()\nsentiment_comments_kansas_pcount_2022_pd = sentiment_comments_kansas_pcount_2022.toPandas()\nsentiment_comments_unc_pcount_2021_pd = sentiment_comments_unc_pcount_2021.toPandas()\nsentiment_comments_unc_pcount_2022_pd = sentiment_comments_unc_pcount_2022.toPandas()",
                    "displayName": "toPandas at /tmp/ipykernel_28510/2606276584.py:4",
                    "jobGroup": "58",
                    "jobId": 38,
                    "killedTasksSummary": {},
                    "name": "toPandas at /tmp/ipykernel_28510/2606276584.py:4",
                    "numActiveStages": 0,
                    "numActiveTasks": 0,
                    "numCompletedIndices": 1,
                    "numCompletedStages": 1,
                    "numCompletedTasks": 1,
                    "numFailedStages": 0,
                    "numFailedTasks": 0,
                    "numKilledTasks": 0,
                    "numSkippedStages": 2,
                    "numSkippedTasks": 10,
                    "numTasks": 11,
                    "rowCount": 15,
                    "stageIds": [
                      60,
                      61,
                      59
                    ],
                    "status": "SUCCEEDED",
                    "submissionTime": "2023-11-20T04:15:31.485GMT",
                    "usageDescription": ""
                  },
                  {
                    "completionTime": "2023-11-20T04:15:31.442GMT",
                    "dataRead": 4278,
                    "dataWritten": 1035,
                    "description": "Job group for statement 58:\nsentiment_comments_kansas_pcount_2021_pd = sentiment_comments_kansas_pcount_2021.toPandas()\nsentiment_comments_kansas_pcount_2022_pd = sentiment_comments_kansas_pcount_2022.toPandas()\nsentiment_comments_unc_pcount_2021_pd = sentiment_comments_unc_pcount_2021.toPandas()\nsentiment_comments_unc_pcount_2022_pd = sentiment_comments_unc_pcount_2022.toPandas()",
                    "displayName": "toPandas at /tmp/ipykernel_28510/2606276584.py:4",
                    "jobGroup": "58",
                    "jobId": 37,
                    "killedTasksSummary": {},
                    "name": "toPandas at /tmp/ipykernel_28510/2606276584.py:4",
                    "numActiveStages": 0,
                    "numActiveTasks": 0,
                    "numCompletedIndices": 1,
                    "numCompletedStages": 1,
                    "numCompletedTasks": 1,
                    "numFailedStages": 0,
                    "numFailedTasks": 0,
                    "numKilledTasks": 0,
                    "numSkippedStages": 1,
                    "numSkippedTasks": 9,
                    "numTasks": 10,
                    "rowCount": 77,
                    "stageIds": [
                      57,
                      58
                    ],
                    "status": "SUCCEEDED",
                    "submissionTime": "2023-11-20T04:15:31.371GMT",
                    "usageDescription": ""
                  },
                  {
                    "completionTime": "2023-11-20T04:15:31.366GMT",
                    "dataRead": 4278,
                    "dataWritten": 0,
                    "description": "Job group for statement 58:\nsentiment_comments_kansas_pcount_2021_pd = sentiment_comments_kansas_pcount_2021.toPandas()\nsentiment_comments_kansas_pcount_2022_pd = sentiment_comments_kansas_pcount_2022.toPandas()\nsentiment_comments_unc_pcount_2021_pd = sentiment_comments_unc_pcount_2021.toPandas()\nsentiment_comments_unc_pcount_2022_pd = sentiment_comments_unc_pcount_2022.toPandas()",
                    "displayName": "toPandas at /tmp/ipykernel_28510/2606276584.py:4",
                    "jobGroup": "58",
                    "jobId": 36,
                    "killedTasksSummary": {},
                    "name": "toPandas at /tmp/ipykernel_28510/2606276584.py:4",
                    "numActiveStages": 0,
                    "numActiveTasks": 0,
                    "numCompletedIndices": 1,
                    "numCompletedStages": 1,
                    "numCompletedTasks": 1,
                    "numFailedStages": 0,
                    "numFailedTasks": 0,
                    "numKilledTasks": 0,
                    "numSkippedStages": 1,
                    "numSkippedTasks": 9,
                    "numTasks": 10,
                    "rowCount": 62,
                    "stageIds": [
                      56,
                      55
                    ],
                    "status": "SUCCEEDED",
                    "submissionTime": "2023-11-20T04:15:31.275GMT",
                    "usageDescription": ""
                  },
                  {
                    "completionTime": "2023-11-20T04:15:31.209GMT",
                    "dataRead": 130600266,
                    "dataWritten": 4278,
                    "description": "Job group for statement 58:\nsentiment_comments_kansas_pcount_2021_pd = sentiment_comments_kansas_pcount_2021.toPandas()\nsentiment_comments_kansas_pcount_2022_pd = sentiment_comments_kansas_pcount_2022.toPandas()\nsentiment_comments_unc_pcount_2021_pd = sentiment_comments_unc_pcount_2021.toPandas()\nsentiment_comments_unc_pcount_2022_pd = sentiment_comments_unc_pcount_2022.toPandas()",
                    "displayName": "toPandas at /tmp/ipykernel_28510/2606276584.py:4",
                    "jobGroup": "58",
                    "jobId": 35,
                    "killedTasksSummary": {},
                    "name": "toPandas at /tmp/ipykernel_28510/2606276584.py:4",
                    "numActiveStages": 0,
                    "numActiveTasks": 0,
                    "numCompletedIndices": 9,
                    "numCompletedStages": 1,
                    "numCompletedTasks": 9,
                    "numFailedStages": 0,
                    "numFailedTasks": 0,
                    "numKilledTasks": 0,
                    "numSkippedStages": 0,
                    "numSkippedTasks": 0,
                    "numTasks": 9,
                    "rowCount": 869866,
                    "stageIds": [
                      54
                    ],
                    "status": "SUCCEEDED",
                    "submissionTime": "2023-11-20T04:13:09.694GMT",
                    "usageDescription": ""
                  },
                  {
                    "completionTime": "2023-11-20T04:13:09.405GMT",
                    "dataRead": 621,
                    "dataWritten": 0,
                    "description": "Job group for statement 58:\nsentiment_comments_kansas_pcount_2021_pd = sentiment_comments_kansas_pcount_2021.toPandas()\nsentiment_comments_kansas_pcount_2022_pd = sentiment_comments_kansas_pcount_2022.toPandas()\nsentiment_comments_unc_pcount_2021_pd = sentiment_comments_unc_pcount_2021.toPandas()\nsentiment_comments_unc_pcount_2022_pd = sentiment_comments_unc_pcount_2022.toPandas()",
                    "displayName": "toPandas at /tmp/ipykernel_28510/2606276584.py:3",
                    "jobGroup": "58",
                    "jobId": 34,
                    "killedTasksSummary": {},
                    "name": "toPandas at /tmp/ipykernel_28510/2606276584.py:3",
                    "numActiveStages": 0,
                    "numActiveTasks": 0,
                    "numCompletedIndices": 1,
                    "numCompletedStages": 1,
                    "numCompletedTasks": 1,
                    "numFailedStages": 0,
                    "numFailedTasks": 0,
                    "numKilledTasks": 0,
                    "numSkippedStages": 2,
                    "numSkippedTasks": 10,
                    "numTasks": 11,
                    "rowCount": 9,
                    "stageIds": [
                      51,
                      52,
                      53
                    ],
                    "status": "SUCCEEDED",
                    "submissionTime": "2023-11-20T04:13:09.357GMT",
                    "usageDescription": ""
                  },
                  {
                    "completionTime": "2023-11-20T04:13:09.319GMT",
                    "dataRead": 1932,
                    "dataWritten": 621,
                    "description": "Job group for statement 58:\nsentiment_comments_kansas_pcount_2021_pd = sentiment_comments_kansas_pcount_2021.toPandas()\nsentiment_comments_kansas_pcount_2022_pd = sentiment_comments_kansas_pcount_2022.toPandas()\nsentiment_comments_unc_pcount_2021_pd = sentiment_comments_unc_pcount_2021.toPandas()\nsentiment_comments_unc_pcount_2022_pd = sentiment_comments_unc_pcount_2022.toPandas()",
                    "displayName": "toPandas at /tmp/ipykernel_28510/2606276584.py:3",
                    "jobGroup": "58",
                    "jobId": 33,
                    "killedTasksSummary": {},
                    "name": "toPandas at /tmp/ipykernel_28510/2606276584.py:3",
                    "numActiveStages": 0,
                    "numActiveTasks": 0,
                    "numCompletedIndices": 1,
                    "numCompletedStages": 1,
                    "numCompletedTasks": 1,
                    "numFailedStages": 0,
                    "numFailedTasks": 0,
                    "numKilledTasks": 0,
                    "numSkippedStages": 1,
                    "numSkippedTasks": 9,
                    "numTasks": 10,
                    "rowCount": 37,
                    "stageIds": [
                      49,
                      50
                    ],
                    "status": "SUCCEEDED",
                    "submissionTime": "2023-11-20T04:13:09.256GMT",
                    "usageDescription": ""
                  },
                  {
                    "completionTime": "2023-11-20T04:13:09.250GMT",
                    "dataRead": 1932,
                    "dataWritten": 0,
                    "description": "Job group for statement 58:\nsentiment_comments_kansas_pcount_2021_pd = sentiment_comments_kansas_pcount_2021.toPandas()\nsentiment_comments_kansas_pcount_2022_pd = sentiment_comments_kansas_pcount_2022.toPandas()\nsentiment_comments_unc_pcount_2021_pd = sentiment_comments_unc_pcount_2021.toPandas()\nsentiment_comments_unc_pcount_2022_pd = sentiment_comments_unc_pcount_2022.toPandas()",
                    "displayName": "toPandas at /tmp/ipykernel_28510/2606276584.py:3",
                    "jobGroup": "58",
                    "jobId": 32,
                    "killedTasksSummary": {},
                    "name": "toPandas at /tmp/ipykernel_28510/2606276584.py:3",
                    "numActiveStages": 0,
                    "numActiveTasks": 0,
                    "numCompletedIndices": 1,
                    "numCompletedStages": 1,
                    "numCompletedTasks": 1,
                    "numFailedStages": 0,
                    "numFailedTasks": 0,
                    "numKilledTasks": 0,
                    "numSkippedStages": 1,
                    "numSkippedTasks": 9,
                    "numTasks": 10,
                    "rowCount": 28,
                    "stageIds": [
                      48,
                      47
                    ],
                    "status": "SUCCEEDED",
                    "submissionTime": "2023-11-20T04:13:09.187GMT",
                    "usageDescription": ""
                  },
                  {
                    "completionTime": "2023-11-20T04:13:09.114GMT",
                    "dataRead": 130600266,
                    "dataWritten": 1932,
                    "description": "Job group for statement 58:\nsentiment_comments_kansas_pcount_2021_pd = sentiment_comments_kansas_pcount_2021.toPandas()\nsentiment_comments_kansas_pcount_2022_pd = sentiment_comments_kansas_pcount_2022.toPandas()\nsentiment_comments_unc_pcount_2021_pd = sentiment_comments_unc_pcount_2021.toPandas()\nsentiment_comments_unc_pcount_2022_pd = sentiment_comments_unc_pcount_2022.toPandas()",
                    "displayName": "toPandas at /tmp/ipykernel_28510/2606276584.py:3",
                    "jobGroup": "58",
                    "jobId": 31,
                    "killedTasksSummary": {},
                    "name": "toPandas at /tmp/ipykernel_28510/2606276584.py:3",
                    "numActiveStages": 0,
                    "numActiveTasks": 0,
                    "numCompletedIndices": 9,
                    "numCompletedStages": 1,
                    "numCompletedTasks": 9,
                    "numFailedStages": 0,
                    "numFailedTasks": 0,
                    "numKilledTasks": 0,
                    "numSkippedStages": 0,
                    "numSkippedTasks": 0,
                    "numTasks": 9,
                    "rowCount": 869832,
                    "stageIds": [
                      46
                    ],
                    "status": "SUCCEEDED",
                    "submissionTime": "2023-11-20T04:10:47.220GMT",
                    "usageDescription": ""
                  },
                  {
                    "completionTime": "2023-11-20T04:10:46.912GMT",
                    "dataRead": 1241,
                    "dataWritten": 0,
                    "description": "Job group for statement 58:\nsentiment_comments_kansas_pcount_2021_pd = sentiment_comments_kansas_pcount_2021.toPandas()\nsentiment_comments_kansas_pcount_2022_pd = sentiment_comments_kansas_pcount_2022.toPandas()\nsentiment_comments_unc_pcount_2021_pd = sentiment_comments_unc_pcount_2021.toPandas()\nsentiment_comments_unc_pcount_2022_pd = sentiment_comments_unc_pcount_2022.toPandas()",
                    "displayName": "toPandas at /tmp/ipykernel_28510/2606276584.py:2",
                    "jobGroup": "58",
                    "jobId": 30,
                    "killedTasksSummary": {},
                    "name": "toPandas at /tmp/ipykernel_28510/2606276584.py:2",
                    "numActiveStages": 0,
                    "numActiveTasks": 0,
                    "numCompletedIndices": 1,
                    "numCompletedStages": 1,
                    "numCompletedTasks": 1,
                    "numFailedStages": 0,
                    "numFailedTasks": 0,
                    "numKilledTasks": 0,
                    "numSkippedStages": 2,
                    "numSkippedTasks": 10,
                    "numTasks": 11,
                    "rowCount": 18,
                    "stageIds": [
                      45,
                      43,
                      44
                    ],
                    "status": "SUCCEEDED",
                    "submissionTime": "2023-11-20T04:10:46.211GMT",
                    "usageDescription": ""
                  },
                  {
                    "completionTime": "2023-11-20T04:10:46.158GMT",
                    "dataRead": 9169,
                    "dataWritten": 1241,
                    "description": "Job group for statement 58:\nsentiment_comments_kansas_pcount_2021_pd = sentiment_comments_kansas_pcount_2021.toPandas()\nsentiment_comments_kansas_pcount_2022_pd = sentiment_comments_kansas_pcount_2022.toPandas()\nsentiment_comments_unc_pcount_2021_pd = sentiment_comments_unc_pcount_2021.toPandas()\nsentiment_comments_unc_pcount_2022_pd = sentiment_comments_unc_pcount_2022.toPandas()",
                    "displayName": "toPandas at /tmp/ipykernel_28510/2606276584.py:2",
                    "jobGroup": "58",
                    "jobId": 29,
                    "killedTasksSummary": {},
                    "name": "toPandas at /tmp/ipykernel_28510/2606276584.py:2",
                    "numActiveStages": 0,
                    "numActiveTasks": 0,
                    "numCompletedIndices": 1,
                    "numCompletedStages": 1,
                    "numCompletedTasks": 1,
                    "numFailedStages": 0,
                    "numFailedTasks": 0,
                    "numKilledTasks": 0,
                    "numSkippedStages": 1,
                    "numSkippedTasks": 9,
                    "numTasks": 10,
                    "rowCount": 151,
                    "stageIds": [
                      42,
                      41
                    ],
                    "status": "SUCCEEDED",
                    "submissionTime": "2023-11-20T04:10:46.049GMT",
                    "usageDescription": ""
                  },
                  {
                    "completionTime": "2023-11-20T04:10:46.044GMT",
                    "dataRead": 9169,
                    "dataWritten": 0,
                    "description": "Job group for statement 58:\nsentiment_comments_kansas_pcount_2021_pd = sentiment_comments_kansas_pcount_2021.toPandas()\nsentiment_comments_kansas_pcount_2022_pd = sentiment_comments_kansas_pcount_2022.toPandas()\nsentiment_comments_unc_pcount_2021_pd = sentiment_comments_unc_pcount_2021.toPandas()\nsentiment_comments_unc_pcount_2022_pd = sentiment_comments_unc_pcount_2022.toPandas()",
                    "displayName": "toPandas at /tmp/ipykernel_28510/2606276584.py:2",
                    "jobGroup": "58",
                    "jobId": 28,
                    "killedTasksSummary": {},
                    "name": "toPandas at /tmp/ipykernel_28510/2606276584.py:2",
                    "numActiveStages": 0,
                    "numActiveTasks": 0,
                    "numCompletedIndices": 1,
                    "numCompletedStages": 1,
                    "numCompletedTasks": 1,
                    "numFailedStages": 0,
                    "numFailedTasks": 0,
                    "numKilledTasks": 0,
                    "numSkippedStages": 1,
                    "numSkippedTasks": 9,
                    "numTasks": 10,
                    "rowCount": 133,
                    "stageIds": [
                      39,
                      40
                    ],
                    "status": "SUCCEEDED",
                    "submissionTime": "2023-11-20T04:10:45.976GMT",
                    "usageDescription": ""
                  },
                  {
                    "completionTime": "2023-11-20T04:10:45.876GMT",
                    "dataRead": 130600266,
                    "dataWritten": 9169,
                    "description": "Job group for statement 58:\nsentiment_comments_kansas_pcount_2021_pd = sentiment_comments_kansas_pcount_2021.toPandas()\nsentiment_comments_kansas_pcount_2022_pd = sentiment_comments_kansas_pcount_2022.toPandas()\nsentiment_comments_unc_pcount_2021_pd = sentiment_comments_unc_pcount_2021.toPandas()\nsentiment_comments_unc_pcount_2022_pd = sentiment_comments_unc_pcount_2022.toPandas()",
                    "displayName": "toPandas at /tmp/ipykernel_28510/2606276584.py:2",
                    "jobGroup": "58",
                    "jobId": 27,
                    "killedTasksSummary": {},
                    "name": "toPandas at /tmp/ipykernel_28510/2606276584.py:2",
                    "numActiveStages": 0,
                    "numActiveTasks": 0,
                    "numCompletedIndices": 9,
                    "numCompletedStages": 1,
                    "numCompletedTasks": 9,
                    "numFailedStages": 0,
                    "numFailedTasks": 0,
                    "numKilledTasks": 0,
                    "numSkippedStages": 0,
                    "numSkippedTasks": 0,
                    "numTasks": 9,
                    "rowCount": 869937,
                    "stageIds": [
                      38
                    ],
                    "status": "SUCCEEDED",
                    "submissionTime": "2023-11-20T04:08:21.682GMT",
                    "usageDescription": ""
                  },
                  {
                    "completionTime": "2023-11-20T04:08:21.392GMT",
                    "dataRead": 1242,
                    "dataWritten": 0,
                    "description": "Job group for statement 58:\nsentiment_comments_kansas_pcount_2021_pd = sentiment_comments_kansas_pcount_2021.toPandas()\nsentiment_comments_kansas_pcount_2022_pd = sentiment_comments_kansas_pcount_2022.toPandas()\nsentiment_comments_unc_pcount_2021_pd = sentiment_comments_unc_pcount_2021.toPandas()\nsentiment_comments_unc_pcount_2022_pd = sentiment_comments_unc_pcount_2022.toPandas()",
                    "displayName": "toPandas at /tmp/ipykernel_28510/2606276584.py:1",
                    "jobGroup": "58",
                    "jobId": 26,
                    "killedTasksSummary": {},
                    "name": "toPandas at /tmp/ipykernel_28510/2606276584.py:1",
                    "numActiveStages": 0,
                    "numActiveTasks": 0,
                    "numCompletedIndices": 1,
                    "numCompletedStages": 1,
                    "numCompletedTasks": 1,
                    "numFailedStages": 0,
                    "numFailedTasks": 0,
                    "numKilledTasks": 0,
                    "numSkippedStages": 2,
                    "numSkippedTasks": 10,
                    "numTasks": 11,
                    "rowCount": 18,
                    "stageIds": [
                      37,
                      35,
                      36
                    ],
                    "status": "SUCCEEDED",
                    "submissionTime": "2023-11-20T04:08:21.253GMT",
                    "usageDescription": ""
                  },
                  {
                    "completionTime": "2023-11-20T04:08:21.186GMT",
                    "dataRead": 8694,
                    "dataWritten": 1242,
                    "description": "Job group for statement 58:\nsentiment_comments_kansas_pcount_2021_pd = sentiment_comments_kansas_pcount_2021.toPandas()\nsentiment_comments_kansas_pcount_2022_pd = sentiment_comments_kansas_pcount_2022.toPandas()\nsentiment_comments_unc_pcount_2021_pd = sentiment_comments_unc_pcount_2021.toPandas()\nsentiment_comments_unc_pcount_2022_pd = sentiment_comments_unc_pcount_2022.toPandas()",
                    "displayName": "toPandas at /tmp/ipykernel_28510/2606276584.py:1",
                    "jobGroup": "58",
                    "jobId": 25,
                    "killedTasksSummary": {},
                    "name": "toPandas at /tmp/ipykernel_28510/2606276584.py:1",
                    "numActiveStages": 0,
                    "numActiveTasks": 0,
                    "numCompletedIndices": 1,
                    "numCompletedStages": 1,
                    "numCompletedTasks": 1,
                    "numFailedStages": 0,
                    "numFailedTasks": 0,
                    "numKilledTasks": 0,
                    "numSkippedStages": 1,
                    "numSkippedTasks": 9,
                    "numTasks": 10,
                    "rowCount": 144,
                    "stageIds": [
                      33,
                      34
                    ],
                    "status": "SUCCEEDED",
                    "submissionTime": "2023-11-20T04:08:21.060GMT",
                    "usageDescription": ""
                  },
                  {
                    "completionTime": "2023-11-20T04:08:21.046GMT",
                    "dataRead": 8694,
                    "dataWritten": 0,
                    "description": "Job group for statement 58:\nsentiment_comments_kansas_pcount_2021_pd = sentiment_comments_kansas_pcount_2021.toPandas()\nsentiment_comments_kansas_pcount_2022_pd = sentiment_comments_kansas_pcount_2022.toPandas()\nsentiment_comments_unc_pcount_2021_pd = sentiment_comments_unc_pcount_2021.toPandas()\nsentiment_comments_unc_pcount_2022_pd = sentiment_comments_unc_pcount_2022.toPandas()",
                    "displayName": "toPandas at /tmp/ipykernel_28510/2606276584.py:1",
                    "jobGroup": "58",
                    "jobId": 24,
                    "killedTasksSummary": {},
                    "name": "toPandas at /tmp/ipykernel_28510/2606276584.py:1",
                    "numActiveStages": 0,
                    "numActiveTasks": 0,
                    "numCompletedIndices": 1,
                    "numCompletedStages": 1,
                    "numCompletedTasks": 1,
                    "numFailedStages": 0,
                    "numFailedTasks": 0,
                    "numKilledTasks": 0,
                    "numSkippedStages": 1,
                    "numSkippedTasks": 9,
                    "numTasks": 10,
                    "rowCount": 126,
                    "stageIds": [
                      31,
                      32
                    ],
                    "status": "SUCCEEDED",
                    "submissionTime": "2023-11-20T04:08:20.901GMT",
                    "usageDescription": ""
                  },
                  {
                    "completionTime": "2023-11-20T04:08:20.779GMT",
                    "dataRead": 130600266,
                    "dataWritten": 8694,
                    "description": "Job group for statement 58:\nsentiment_comments_kansas_pcount_2021_pd = sentiment_comments_kansas_pcount_2021.toPandas()\nsentiment_comments_kansas_pcount_2022_pd = sentiment_comments_kansas_pcount_2022.toPandas()\nsentiment_comments_unc_pcount_2021_pd = sentiment_comments_unc_pcount_2021.toPandas()\nsentiment_comments_unc_pcount_2022_pd = sentiment_comments_unc_pcount_2022.toPandas()",
                    "displayName": "toPandas at /tmp/ipykernel_28510/2606276584.py:1",
                    "jobGroup": "58",
                    "jobId": 23,
                    "killedTasksSummary": {},
                    "name": "toPandas at /tmp/ipykernel_28510/2606276584.py:1",
                    "numActiveStages": 0,
                    "numActiveTasks": 0,
                    "numCompletedIndices": 9,
                    "numCompletedStages": 1,
                    "numCompletedTasks": 9,
                    "numFailedStages": 0,
                    "numFailedTasks": 0,
                    "numKilledTasks": 0,
                    "numSkippedStages": 0,
                    "numSkippedTasks": 0,
                    "numTasks": 9,
                    "rowCount": 869930,
                    "stageIds": [
                      30
                    ],
                    "status": "SUCCEEDED",
                    "submissionTime": "2023-11-20T04:05:57.985GMT",
                    "usageDescription": ""
                  }
                ],
                "limit": 20,
                "numbers": {
                  "FAILED": 0,
                  "RUNNING": 0,
                  "SUCCEEDED": 16,
                  "UNKNOWN": 0
                },
                "rule": "ALL_DESC"
              },
              "spark_pool": "7c27951d-2bdf-4140-be82-d0dc0c0e7d8e",
              "state": "finished",
              "statement_id": 58
            },
            "text/plain": [
              "StatementMeta(7c27951d-2bdf-4140-be82-d0dc0c0e7d8e, 47, 58, Finished, Available)"
            ]
          },
          "metadata": {},
          "output_type": "display_data"
        }
      ],
      "source": [
        "sentiment_comments_kansas_pcount_2021_pd = sentiment_comments_kansas_pcount_2021.toPandas()\n",
        "sentiment_comments_kansas_pcount_2022_pd = sentiment_comments_kansas_pcount_2022.toPandas()\n",
        "sentiment_comments_unc_pcount_2021_pd = sentiment_comments_unc_pcount_2021.toPandas()\n",
        "sentiment_comments_unc_pcount_2022_pd = sentiment_comments_unc_pcount_2022.toPandas()"
      ]
    },
    {
      "cell_type": "code",
      "execution_count": 2,
      "metadata": {
        "gather": {
          "logged": 1700442696294
        },
        "jupyter": {
          "outputs_hidden": false,
          "source_hidden": false
        },
        "nteract": {
          "transient": {
            "deleting": false
          }
        }
      },
      "outputs": [
        {
          "data": {
            "application/vnd.livy.statement-meta+json": {
              "execution_finish_time": "2023-11-20T01:11:36.1781888Z",
              "execution_start_time": "2023-11-20T01:11:34.6313416Z",
              "livy_statement_state": "available",
              "parent_msg_id": "58650418-2778-4201-9ab5-607f45c0ef9c",
              "queued_time": "2023-11-20T01:11:34.4617997Z",
              "session_id": "45",
              "session_start_time": null,
              "spark_jobs": {
                "jobs": [],
                "limit": 20,
                "numbers": {
                  "FAILED": 0,
                  "RUNNING": 0,
                  "SUCCEEDED": 0,
                  "UNKNOWN": 0
                },
                "rule": "ALL_DESC"
              },
              "spark_pool": "7c27951d-2bdf-4140-be82-d0dc0c0e7d8e",
              "state": "finished",
              "statement_id": 7
            },
            "text/plain": [
              "StatementMeta(7c27951d-2bdf-4140-be82-d0dc0c0e7d8e, 45, 7, Finished, Available)"
            ]
          },
          "metadata": {},
          "output_type": "display_data"
        }
      ],
      "source": [
        "spark.stop()"
      ]
    },
    {
      "cell_type": "code",
      "execution_count": 50,
      "metadata": {
        "gather": {
          "logged": 1700431806723
        },
        "jupyter": {
          "outputs_hidden": false,
          "source_hidden": false
        },
        "nteract": {
          "transient": {
            "deleting": false
          }
        }
      },
      "outputs": [
        {
          "data": {
            "application/vnd.livy.statement-meta+json": {
              "execution_finish_time": "2023-11-19T22:10:06.612489Z",
              "execution_start_time": "2023-11-19T22:10:06.3181423Z",
              "livy_statement_state": "available",
              "parent_msg_id": "53eb5eb1-7309-4869-95c9-07c382c7456f",
              "queued_time": "2023-11-19T22:10:06.2075628Z",
              "session_id": "43",
              "session_start_time": null,
              "spark_jobs": {
                "jobs": [],
                "limit": 20,
                "numbers": {
                  "FAILED": 0,
                  "RUNNING": 0,
                  "SUCCEEDED": 0,
                  "UNKNOWN": 0
                },
                "rule": "ALL_DESC"
              },
              "spark_pool": "7c27951d-2bdf-4140-be82-d0dc0c0e7d8e",
              "state": "finished",
              "statement_id": 52
            },
            "text/plain": [
              "StatementMeta(7c27951d-2bdf-4140-be82-d0dc0c0e7d8e, 43, 52, Finished, Available)"
            ]
          },
          "metadata": {},
          "output_type": "display_data"
        },
        {
          "data": {
            "text/plain": [
              "Index(['year', 'week', 'count'], dtype='object')"
            ]
          },
          "execution_count": 103,
          "metadata": {},
          "output_type": "execute_result"
        }
      ],
      "source": [
        "sentiment_comments_kansas_pcount_2021_pd.columns"
      ]
    },
    {
      "cell_type": "markdown",
      "metadata": {
        "nteract": {
          "transient": {
            "deleting": false
          }
        }
      },
      "source": [
        "Now let's add in the external dataset to help to answer our question 8."
      ]
    },
    {
      "cell_type": "code",
      "execution_count": 33,
      "metadata": {
        "gather": {
          "logged": 1700452096576
        },
        "jupyter": {
          "outputs_hidden": false,
          "source_hidden": false
        },
        "nteract": {
          "transient": {
            "deleting": false
          }
        }
      },
      "outputs": [
        {
          "data": {
            "application/vnd.livy.statement-meta+json": {
              "execution_finish_time": "2023-11-20T03:48:16.4506717Z",
              "execution_start_time": "2023-11-20T03:48:15.6481639Z",
              "livy_statement_state": "available",
              "parent_msg_id": "44e01834-7332-406b-b196-fdaeec504aa9",
              "queued_time": "2023-11-20T03:48:15.5206431Z",
              "session_id": "47",
              "session_start_time": null,
              "spark_jobs": {
                "jobs": [],
                "limit": 20,
                "numbers": {
                  "FAILED": 0,
                  "RUNNING": 0,
                  "SUCCEEDED": 0,
                  "UNKNOWN": 0
                },
                "rule": "ALL_DESC"
              },
              "spark_pool": "7c27951d-2bdf-4140-be82-d0dc0c0e7d8e",
              "state": "finished",
              "statement_id": 36
            },
            "text/plain": [
              "StatementMeta(7c27951d-2bdf-4140-be82-d0dc0c0e7d8e, 47, 36, Finished, Available)"
            ]
          },
          "metadata": {},
          "output_type": "display_data"
        }
      ],
      "source": [
        "url = 'https://www.sports-reference.com/cbb/seasons/men/2022-polls.html'\n",
        "rankings = pd.read_html(url, header=2)[0]\n"
      ]
    },
    {
      "cell_type": "markdown",
      "metadata": {
        "nteract": {
          "transient": {
            "deleting": false
          }
        }
      },
      "source": [
        "We focus on the most two successful teams in this basketball season so let's extract the row of 'Kansas' and the row of 'UNC'."
      ]
    },
    {
      "cell_type": "code",
      "execution_count": 34,
      "metadata": {
        "gather": {
          "logged": 1700452099036
        },
        "jupyter": {
          "outputs_hidden": false,
          "source_hidden": false
        },
        "nteract": {
          "transient": {
            "deleting": false
          }
        }
      },
      "outputs": [
        {
          "data": {
            "application/vnd.livy.statement-meta+json": {
              "execution_finish_time": "2023-11-20T03:48:18.8875793Z",
              "execution_start_time": "2023-11-20T03:48:18.5745904Z",
              "livy_statement_state": "available",
              "parent_msg_id": "66ff8d35-ac3c-4ecf-b2c5-fa6e0a162c1f",
              "queued_time": "2023-11-20T03:48:18.4728683Z",
              "session_id": "47",
              "session_start_time": null,
              "spark_jobs": {
                "jobs": [],
                "limit": 20,
                "numbers": {
                  "FAILED": 0,
                  "RUNNING": 0,
                  "SUCCEEDED": 0,
                  "UNKNOWN": 0
                },
                "rule": "ALL_DESC"
              },
              "spark_pool": "7c27951d-2bdf-4140-be82-d0dc0c0e7d8e",
              "state": "finished",
              "statement_id": 37
            },
            "text/plain": [
              "StatementMeta(7c27951d-2bdf-4140-be82-d0dc0c0e7d8e, 47, 37, Finished, Available)"
            ]
          },
          "metadata": {},
          "output_type": "display_data"
        }
      ],
      "source": [
        "kansas_ranking = rankings[rankings['School'] == 'Kansas']\n",
        "unc_ranking = rankings[rankings['School'] == 'UNC']"
      ]
    },
    {
      "cell_type": "markdown",
      "metadata": {
        "nteract": {
          "transient": {
            "deleting": false
          }
        }
      },
      "source": [
        "The Kansas ranking data looks like this. From the ranking, it seems that Kansas is a really good team."
      ]
    },
    {
      "cell_type": "code",
      "execution_count": 27,
      "metadata": {
        "gather": {
          "logged": 1700444272030
        },
        "jupyter": {
          "outputs_hidden": false,
          "source_hidden": false
        },
        "nteract": {
          "transient": {
            "deleting": false
          }
        }
      },
      "outputs": [
        {
          "data": {
            "application/vnd.livy.statement-meta+json": {
              "execution_finish_time": "2023-11-20T01:37:51.840448Z",
              "execution_start_time": "2023-11-20T01:37:51.5454598Z",
              "livy_statement_state": "available",
              "parent_msg_id": "f5b8ea88-831e-45f1-b00b-8cd646e5ebd3",
              "queued_time": "2023-11-20T01:37:51.4462366Z",
              "session_id": "45",
              "session_start_time": null,
              "spark_jobs": {
                "jobs": [],
                "limit": 20,
                "numbers": {
                  "FAILED": 0,
                  "RUNNING": 0,
                  "SUCCEEDED": 0,
                  "UNKNOWN": 0
                },
                "rule": "ALL_DESC"
              },
              "spark_pool": "7c27951d-2bdf-4140-be82-d0dc0c0e7d8e",
              "state": "finished",
              "statement_id": 32
            },
            "text/plain": [
              "StatementMeta(7c27951d-2bdf-4140-be82-d0dc0c0e7d8e, 45, 32, Finished, Available)"
            ]
          },
          "metadata": {},
          "output_type": "display_data"
        },
        {
          "data": {
            "text/html": [
              "<div>\n",
              "<style scoped>\n",
              "    .dataframe tbody tr th:only-of-type {\n",
              "        vertical-align: middle;\n",
              "    }\n",
              "\n",
              "    .dataframe tbody tr th {\n",
              "        vertical-align: top;\n",
              "    }\n",
              "\n",
              "    .dataframe thead th {\n",
              "        text-align: right;\n",
              "    }\n",
              "</style>\n",
              "<table border=\"1\" class=\"dataframe\">\n",
              "  <thead>\n",
              "    <tr style=\"text-align: right;\">\n",
              "      <th></th>\n",
              "      <th>School</th>\n",
              "      <th>Conf</th>\n",
              "      <th>Pre</th>\n",
              "      <th>11/15</th>\n",
              "      <th>11/22</th>\n",
              "      <th>11/29</th>\n",
              "      <th>12/6</th>\n",
              "      <th>12/13</th>\n",
              "      <th>12/20</th>\n",
              "      <th>12/27</th>\n",
              "      <th>...</th>\n",
              "      <th>1/10</th>\n",
              "      <th>1/17</th>\n",
              "      <th>1/24</th>\n",
              "      <th>1/31</th>\n",
              "      <th>2/7</th>\n",
              "      <th>2/14</th>\n",
              "      <th>2/21</th>\n",
              "      <th>2/28</th>\n",
              "      <th>3/7</th>\n",
              "      <th>Final</th>\n",
              "    </tr>\n",
              "  </thead>\n",
              "  <tbody>\n",
              "    <tr>\n",
              "      <th>17</th>\n",
              "      <td>Kansas</td>\n",
              "      <td>Big 12</td>\n",
              "      <td>3</td>\n",
              "      <td>3</td>\n",
              "      <td>4</td>\n",
              "      <td>8</td>\n",
              "      <td>8</td>\n",
              "      <td>7</td>\n",
              "      <td>7</td>\n",
              "      <td>6</td>\n",
              "      <td>...</td>\n",
              "      <td>9</td>\n",
              "      <td>7</td>\n",
              "      <td>5</td>\n",
              "      <td>10</td>\n",
              "      <td>8</td>\n",
              "      <td>6</td>\n",
              "      <td>5</td>\n",
              "      <td>6</td>\n",
              "      <td>6</td>\n",
              "      <td>3</td>\n",
              "    </tr>\n",
              "  </tbody>\n",
              "</table>\n",
              "<p>1 rows × 21 columns</p>\n",
              "</div>"
            ],
            "text/plain": [
              "    School    Conf Pre 11/15 11/22 11/29 12/6 12/13 12/20 12/27  ... 1/10  \\\n",
              "17  Kansas  Big 12   3     3     4     8    8     7     7     6  ...    9   \n",
              "\n",
              "   1/17 1/24 1/31 2/7 2/14 2/21 2/28 3/7 Final  \n",
              "17    7    5   10   8    6    5    6   6     3  \n",
              "\n",
              "[1 rows x 21 columns]"
            ]
          },
          "execution_count": 63,
          "metadata": {},
          "output_type": "execute_result"
        }
      ],
      "source": [
        "kansas_ranking"
      ]
    },
    {
      "cell_type": "markdown",
      "metadata": {
        "nteract": {
          "transient": {
            "deleting": false
          }
        }
      },
      "source": [
        "However, the unc ranking is not that good. There are lots of missing values. It turns out that the unc team is not very good during the regular season."
      ]
    },
    {
      "cell_type": "code",
      "execution_count": 8,
      "metadata": {
        "gather": {
          "logged": 1700442736699
        },
        "jupyter": {
          "outputs_hidden": false,
          "source_hidden": false
        },
        "nteract": {
          "transient": {
            "deleting": false
          }
        }
      },
      "outputs": [
        {
          "data": {
            "application/vnd.livy.statement-meta+json": {
              "execution_finish_time": "2023-11-20T01:12:16.5249527Z",
              "execution_start_time": "2023-11-20T01:12:16.2149543Z",
              "livy_statement_state": "available",
              "parent_msg_id": "58e069dd-a4e9-4aa3-a9cd-dd642eba6d62",
              "queued_time": "2023-11-20T01:12:16.0538419Z",
              "session_id": "45",
              "session_start_time": null,
              "spark_jobs": {
                "jobs": [],
                "limit": 20,
                "numbers": {
                  "FAILED": 0,
                  "RUNNING": 0,
                  "SUCCEEDED": 0,
                  "UNKNOWN": 0
                },
                "rule": "ALL_DESC"
              },
              "spark_pool": "7c27951d-2bdf-4140-be82-d0dc0c0e7d8e",
              "state": "finished",
              "statement_id": 13
            },
            "text/plain": [
              "StatementMeta(7c27951d-2bdf-4140-be82-d0dc0c0e7d8e, 45, 13, Finished, Available)"
            ]
          },
          "metadata": {},
          "output_type": "display_data"
        },
        {
          "data": {
            "text/html": [
              "<div>\n",
              "<style scoped>\n",
              "    .dataframe tbody tr th:only-of-type {\n",
              "        vertical-align: middle;\n",
              "    }\n",
              "\n",
              "    .dataframe tbody tr th {\n",
              "        vertical-align: top;\n",
              "    }\n",
              "\n",
              "    .dataframe thead th {\n",
              "        text-align: right;\n",
              "    }\n",
              "</style>\n",
              "<table border=\"1\" class=\"dataframe\">\n",
              "  <thead>\n",
              "    <tr style=\"text-align: right;\">\n",
              "      <th></th>\n",
              "      <th>School</th>\n",
              "      <th>Conf</th>\n",
              "      <th>Pre</th>\n",
              "      <th>11/15</th>\n",
              "      <th>11/22</th>\n",
              "      <th>11/29</th>\n",
              "      <th>12/6</th>\n",
              "      <th>12/13</th>\n",
              "      <th>12/20</th>\n",
              "      <th>12/27</th>\n",
              "      <th>...</th>\n",
              "      <th>1/10</th>\n",
              "      <th>1/17</th>\n",
              "      <th>1/24</th>\n",
              "      <th>1/31</th>\n",
              "      <th>2/7</th>\n",
              "      <th>2/14</th>\n",
              "      <th>2/21</th>\n",
              "      <th>2/28</th>\n",
              "      <th>3/7</th>\n",
              "      <th>Final</th>\n",
              "    </tr>\n",
              "  </thead>\n",
              "  <tbody>\n",
              "    <tr>\n",
              "      <th>41</th>\n",
              "      <td>UNC</td>\n",
              "      <td>ACC</td>\n",
              "      <td>19</td>\n",
              "      <td>18</td>\n",
              "      <td>NaN</td>\n",
              "      <td>NaN</td>\n",
              "      <td>NaN</td>\n",
              "      <td>NaN</td>\n",
              "      <td>NaN</td>\n",
              "      <td>NaN</td>\n",
              "      <td>...</td>\n",
              "      <td>NaN</td>\n",
              "      <td>NaN</td>\n",
              "      <td>NaN</td>\n",
              "      <td>NaN</td>\n",
              "      <td>NaN</td>\n",
              "      <td>NaN</td>\n",
              "      <td>NaN</td>\n",
              "      <td>NaN</td>\n",
              "      <td>25</td>\n",
              "      <td>NaN</td>\n",
              "    </tr>\n",
              "  </tbody>\n",
              "</table>\n",
              "<p>1 rows × 21 columns</p>\n",
              "</div>"
            ],
            "text/plain": [
              "   School Conf Pre 11/15 11/22 11/29 12/6 12/13 12/20 12/27  ... 1/10 1/17  \\\n",
              "41    UNC  ACC  19    18   NaN   NaN  NaN   NaN   NaN   NaN  ...  NaN  NaN   \n",
              "\n",
              "   1/24 1/31  2/7 2/14 2/21 2/28 3/7 Final  \n",
              "41  NaN  NaN  NaN  NaN  NaN  NaN  25   NaN  \n",
              "\n",
              "[1 rows x 21 columns]"
            ]
          },
          "execution_count": 25,
          "metadata": {},
          "output_type": "execute_result"
        }
      ],
      "source": [
        "unc_ranking"
      ]
    },
    {
      "cell_type": "markdown",
      "metadata": {
        "nteract": {
          "transient": {
            "deleting": false
          }
        }
      },
      "source": [
        "Because there are lots of missing values in the UNC ranking, to answer the question 8, we have to focus on the Kansas team."
      ]
    },
    {
      "cell_type": "markdown",
      "metadata": {
        "nteract": {
          "transient": {
            "deleting": false
          }
        }
      },
      "source": [
        "Let's clean the Kansas ranking data and change the column names of it."
      ]
    },
    {
      "cell_type": "code",
      "execution_count": 35,
      "metadata": {
        "gather": {
          "logged": 1700452104331
        },
        "jupyter": {
          "outputs_hidden": false,
          "source_hidden": false
        },
        "nteract": {
          "transient": {
            "deleting": false
          }
        }
      },
      "outputs": [
        {
          "data": {
            "application/vnd.livy.statement-meta+json": {
              "execution_finish_time": "2023-11-20T03:48:24.1129383Z",
              "execution_start_time": "2023-11-20T03:48:23.8263414Z",
              "livy_statement_state": "available",
              "parent_msg_id": "6a851fda-04b5-4307-8965-3292533f54dc",
              "queued_time": "2023-11-20T03:48:23.7286018Z",
              "session_id": "47",
              "session_start_time": null,
              "spark_jobs": {
                "jobs": [],
                "limit": 20,
                "numbers": {
                  "FAILED": 0,
                  "RUNNING": 0,
                  "SUCCEEDED": 0,
                  "UNKNOWN": 0
                },
                "rule": "ALL_DESC"
              },
              "spark_pool": "7c27951d-2bdf-4140-be82-d0dc0c0e7d8e",
              "state": "finished",
              "statement_id": 38
            },
            "text/plain": [
              "StatementMeta(7c27951d-2bdf-4140-be82-d0dc0c0e7d8e, 47, 38, Finished, Available)"
            ]
          },
          "metadata": {},
          "output_type": "display_data"
        }
      ],
      "source": [
        "kansas_ranking = kansas_ranking.T.reset_index().iloc[3:]"
      ]
    },
    {
      "cell_type": "code",
      "execution_count": 85,
      "metadata": {
        "gather": {
          "logged": 1700447149183
        },
        "jupyter": {
          "outputs_hidden": false,
          "source_hidden": false
        },
        "nteract": {
          "transient": {
            "deleting": false
          }
        }
      },
      "outputs": [
        {
          "data": {
            "application/vnd.livy.statement-meta+json": {
              "execution_finish_time": "2023-11-20T02:25:49.0211958Z",
              "execution_start_time": "2023-11-20T02:25:48.7296585Z",
              "livy_statement_state": "available",
              "parent_msg_id": "2e28c104-ec3a-44aa-bc72-186116b88e08",
              "queued_time": "2023-11-20T02:25:48.6326192Z",
              "session_id": "45",
              "session_start_time": null,
              "spark_jobs": {
                "jobs": [],
                "limit": 20,
                "numbers": {
                  "FAILED": 0,
                  "RUNNING": 0,
                  "SUCCEEDED": 0,
                  "UNKNOWN": 0
                },
                "rule": "ALL_DESC"
              },
              "spark_pool": "7c27951d-2bdf-4140-be82-d0dc0c0e7d8e",
              "state": "finished",
              "statement_id": 91
            },
            "text/plain": [
              "StatementMeta(7c27951d-2bdf-4140-be82-d0dc0c0e7d8e, 45, 91, Finished, Available)"
            ]
          },
          "metadata": {},
          "output_type": "display_data"
        },
        {
          "data": {
            "text/html": [
              "<div>\n",
              "<style scoped>\n",
              "    .dataframe tbody tr th:only-of-type {\n",
              "        vertical-align: middle;\n",
              "    }\n",
              "\n",
              "    .dataframe tbody tr th {\n",
              "        vertical-align: top;\n",
              "    }\n",
              "\n",
              "    .dataframe thead th {\n",
              "        text-align: right;\n",
              "    }\n",
              "</style>\n",
              "<table border=\"1\" class=\"dataframe\">\n",
              "  <thead>\n",
              "    <tr style=\"text-align: right;\">\n",
              "      <th></th>\n",
              "      <th>index</th>\n",
              "      <th>17</th>\n",
              "    </tr>\n",
              "  </thead>\n",
              "  <tbody>\n",
              "    <tr>\n",
              "      <th>3</th>\n",
              "      <td>11/15</td>\n",
              "      <td>3</td>\n",
              "    </tr>\n",
              "    <tr>\n",
              "      <th>4</th>\n",
              "      <td>11/22</td>\n",
              "      <td>4</td>\n",
              "    </tr>\n",
              "    <tr>\n",
              "      <th>5</th>\n",
              "      <td>11/29</td>\n",
              "      <td>8</td>\n",
              "    </tr>\n",
              "    <tr>\n",
              "      <th>6</th>\n",
              "      <td>12/6</td>\n",
              "      <td>8</td>\n",
              "    </tr>\n",
              "    <tr>\n",
              "      <th>7</th>\n",
              "      <td>12/13</td>\n",
              "      <td>7</td>\n",
              "    </tr>\n",
              "    <tr>\n",
              "      <th>8</th>\n",
              "      <td>12/20</td>\n",
              "      <td>7</td>\n",
              "    </tr>\n",
              "    <tr>\n",
              "      <th>9</th>\n",
              "      <td>12/27</td>\n",
              "      <td>6</td>\n",
              "    </tr>\n",
              "    <tr>\n",
              "      <th>10</th>\n",
              "      <td>1/3</td>\n",
              "      <td>6</td>\n",
              "    </tr>\n",
              "    <tr>\n",
              "      <th>11</th>\n",
              "      <td>1/10</td>\n",
              "      <td>9</td>\n",
              "    </tr>\n",
              "    <tr>\n",
              "      <th>12</th>\n",
              "      <td>1/17</td>\n",
              "      <td>7</td>\n",
              "    </tr>\n",
              "    <tr>\n",
              "      <th>13</th>\n",
              "      <td>1/24</td>\n",
              "      <td>5</td>\n",
              "    </tr>\n",
              "    <tr>\n",
              "      <th>14</th>\n",
              "      <td>1/31</td>\n",
              "      <td>10</td>\n",
              "    </tr>\n",
              "    <tr>\n",
              "      <th>15</th>\n",
              "      <td>2/7</td>\n",
              "      <td>8</td>\n",
              "    </tr>\n",
              "    <tr>\n",
              "      <th>16</th>\n",
              "      <td>2/14</td>\n",
              "      <td>6</td>\n",
              "    </tr>\n",
              "    <tr>\n",
              "      <th>17</th>\n",
              "      <td>2/21</td>\n",
              "      <td>5</td>\n",
              "    </tr>\n",
              "    <tr>\n",
              "      <th>18</th>\n",
              "      <td>2/28</td>\n",
              "      <td>6</td>\n",
              "    </tr>\n",
              "    <tr>\n",
              "      <th>19</th>\n",
              "      <td>3/7</td>\n",
              "      <td>6</td>\n",
              "    </tr>\n",
              "    <tr>\n",
              "      <th>20</th>\n",
              "      <td>Final</td>\n",
              "      <td>3</td>\n",
              "    </tr>\n",
              "  </tbody>\n",
              "</table>\n",
              "</div>"
            ],
            "text/plain": [
              "    index  17\n",
              "3   11/15   3\n",
              "4   11/22   4\n",
              "5   11/29   8\n",
              "6    12/6   8\n",
              "7   12/13   7\n",
              "8   12/20   7\n",
              "9   12/27   6\n",
              "10    1/3   6\n",
              "11   1/10   9\n",
              "12   1/17   7\n",
              "13   1/24   5\n",
              "14   1/31  10\n",
              "15    2/7   8\n",
              "16   2/14   6\n",
              "17   2/21   5\n",
              "18   2/28   6\n",
              "19    3/7   6\n",
              "20  Final   3"
            ]
          },
          "execution_count": 181,
          "metadata": {},
          "output_type": "execute_result"
        }
      ],
      "source": [
        "kansas_ranking\n"
      ]
    },
    {
      "cell_type": "code",
      "execution_count": 10,
      "metadata": {
        "gather": {
          "logged": 1700442743441
        },
        "jupyter": {
          "outputs_hidden": false,
          "source_hidden": false
        },
        "nteract": {
          "transient": {
            "deleting": false
          }
        }
      },
      "outputs": [
        {
          "data": {
            "application/vnd.livy.statement-meta+json": {
              "execution_finish_time": "2023-11-20T01:12:23.3243866Z",
              "execution_start_time": "2023-11-20T01:12:23.0302456Z",
              "livy_statement_state": "available",
              "parent_msg_id": "2a26be76-3a53-4caf-9099-c243d7c1c28b",
              "queued_time": "2023-11-20T01:12:22.6728833Z",
              "session_id": "45",
              "session_start_time": null,
              "spark_jobs": {
                "jobs": [],
                "limit": 20,
                "numbers": {
                  "FAILED": 0,
                  "RUNNING": 0,
                  "SUCCEEDED": 0,
                  "UNKNOWN": 0
                },
                "rule": "ALL_DESC"
              },
              "spark_pool": "7c27951d-2bdf-4140-be82-d0dc0c0e7d8e",
              "state": "finished",
              "statement_id": 15
            },
            "text/plain": [
              "StatementMeta(7c27951d-2bdf-4140-be82-d0dc0c0e7d8e, 45, 15, Finished, Available)"
            ]
          },
          "metadata": {},
          "output_type": "display_data"
        },
        {
          "data": {
            "text/plain": [
              "Index(['index', 17], dtype='object')"
            ]
          },
          "execution_count": 29,
          "metadata": {},
          "output_type": "execute_result"
        }
      ],
      "source": [
        "kansas_ranking.columns"
      ]
    },
    {
      "cell_type": "code",
      "execution_count": 36,
      "metadata": {
        "gather": {
          "logged": 1700452109569
        },
        "jupyter": {
          "outputs_hidden": false,
          "source_hidden": false
        },
        "nteract": {
          "transient": {
            "deleting": false
          }
        }
      },
      "outputs": [
        {
          "data": {
            "application/vnd.livy.statement-meta+json": {
              "execution_finish_time": "2023-11-20T03:48:29.3504529Z",
              "execution_start_time": "2023-11-20T03:48:29.0426603Z",
              "livy_statement_state": "available",
              "parent_msg_id": "1ca4ed70-138d-4f16-8cf7-3a77e20fcd8a",
              "queued_time": "2023-11-20T03:48:28.9413378Z",
              "session_id": "47",
              "session_start_time": null,
              "spark_jobs": {
                "jobs": [],
                "limit": 20,
                "numbers": {
                  "FAILED": 0,
                  "RUNNING": 0,
                  "SUCCEEDED": 0,
                  "UNKNOWN": 0
                },
                "rule": "ALL_DESC"
              },
              "spark_pool": "7c27951d-2bdf-4140-be82-d0dc0c0e7d8e",
              "state": "finished",
              "statement_id": 39
            },
            "text/plain": [
              "StatementMeta(7c27951d-2bdf-4140-be82-d0dc0c0e7d8e, 47, 39, Finished, Available)"
            ]
          },
          "metadata": {},
          "output_type": "display_data"
        }
      ],
      "source": [
        "kansas_ranking = kansas_ranking.rename(columns = {\"index\":\"date\", 17:'rank'})"
      ]
    },
    {
      "cell_type": "code",
      "execution_count": 37,
      "metadata": {
        "gather": {
          "logged": 1700452112156
        },
        "jupyter": {
          "outputs_hidden": false,
          "source_hidden": false
        },
        "nteract": {
          "transient": {
            "deleting": false
          }
        }
      },
      "outputs": [
        {
          "data": {
            "application/vnd.livy.statement-meta+json": {
              "execution_finish_time": "2023-11-20T03:48:31.9931119Z",
              "execution_start_time": "2023-11-20T03:48:31.7000003Z",
              "livy_statement_state": "available",
              "parent_msg_id": "9f1a3ae3-d1e3-4a8d-b37e-4ab0885a6535",
              "queued_time": "2023-11-20T03:48:31.5778918Z",
              "session_id": "47",
              "session_start_time": null,
              "spark_jobs": {
                "jobs": [],
                "limit": 20,
                "numbers": {
                  "FAILED": 0,
                  "RUNNING": 0,
                  "SUCCEEDED": 0,
                  "UNKNOWN": 0
                },
                "rule": "ALL_DESC"
              },
              "spark_pool": "7c27951d-2bdf-4140-be82-d0dc0c0e7d8e",
              "state": "finished",
              "statement_id": 40
            },
            "text/plain": [
              "StatementMeta(7c27951d-2bdf-4140-be82-d0dc0c0e7d8e, 47, 40, Finished, Available)"
            ]
          },
          "metadata": {},
          "output_type": "display_data"
        },
        {
          "data": {
            "text/html": [
              "<div>\n",
              "<style scoped>\n",
              "    .dataframe tbody tr th:only-of-type {\n",
              "        vertical-align: middle;\n",
              "    }\n",
              "\n",
              "    .dataframe tbody tr th {\n",
              "        vertical-align: top;\n",
              "    }\n",
              "\n",
              "    .dataframe thead th {\n",
              "        text-align: right;\n",
              "    }\n",
              "</style>\n",
              "<table border=\"1\" class=\"dataframe\">\n",
              "  <thead>\n",
              "    <tr style=\"text-align: right;\">\n",
              "      <th></th>\n",
              "      <th>date</th>\n",
              "      <th>rank</th>\n",
              "    </tr>\n",
              "  </thead>\n",
              "  <tbody>\n",
              "    <tr>\n",
              "      <th>3</th>\n",
              "      <td>11/15</td>\n",
              "      <td>3</td>\n",
              "    </tr>\n",
              "    <tr>\n",
              "      <th>4</th>\n",
              "      <td>11/22</td>\n",
              "      <td>4</td>\n",
              "    </tr>\n",
              "    <tr>\n",
              "      <th>5</th>\n",
              "      <td>11/29</td>\n",
              "      <td>8</td>\n",
              "    </tr>\n",
              "    <tr>\n",
              "      <th>6</th>\n",
              "      <td>12/6</td>\n",
              "      <td>8</td>\n",
              "    </tr>\n",
              "    <tr>\n",
              "      <th>7</th>\n",
              "      <td>12/13</td>\n",
              "      <td>7</td>\n",
              "    </tr>\n",
              "    <tr>\n",
              "      <th>8</th>\n",
              "      <td>12/20</td>\n",
              "      <td>7</td>\n",
              "    </tr>\n",
              "    <tr>\n",
              "      <th>9</th>\n",
              "      <td>12/27</td>\n",
              "      <td>6</td>\n",
              "    </tr>\n",
              "    <tr>\n",
              "      <th>10</th>\n",
              "      <td>1/3</td>\n",
              "      <td>6</td>\n",
              "    </tr>\n",
              "    <tr>\n",
              "      <th>11</th>\n",
              "      <td>1/10</td>\n",
              "      <td>9</td>\n",
              "    </tr>\n",
              "    <tr>\n",
              "      <th>12</th>\n",
              "      <td>1/17</td>\n",
              "      <td>7</td>\n",
              "    </tr>\n",
              "    <tr>\n",
              "      <th>13</th>\n",
              "      <td>1/24</td>\n",
              "      <td>5</td>\n",
              "    </tr>\n",
              "    <tr>\n",
              "      <th>14</th>\n",
              "      <td>1/31</td>\n",
              "      <td>10</td>\n",
              "    </tr>\n",
              "    <tr>\n",
              "      <th>15</th>\n",
              "      <td>2/7</td>\n",
              "      <td>8</td>\n",
              "    </tr>\n",
              "    <tr>\n",
              "      <th>16</th>\n",
              "      <td>2/14</td>\n",
              "      <td>6</td>\n",
              "    </tr>\n",
              "    <tr>\n",
              "      <th>17</th>\n",
              "      <td>2/21</td>\n",
              "      <td>5</td>\n",
              "    </tr>\n",
              "    <tr>\n",
              "      <th>18</th>\n",
              "      <td>2/28</td>\n",
              "      <td>6</td>\n",
              "    </tr>\n",
              "    <tr>\n",
              "      <th>19</th>\n",
              "      <td>3/7</td>\n",
              "      <td>6</td>\n",
              "    </tr>\n",
              "    <tr>\n",
              "      <th>20</th>\n",
              "      <td>Final</td>\n",
              "      <td>3</td>\n",
              "    </tr>\n",
              "  </tbody>\n",
              "</table>\n",
              "</div>"
            ],
            "text/plain": [
              "     date rank\n",
              "3   11/15    3\n",
              "4   11/22    4\n",
              "5   11/29    8\n",
              "6    12/6    8\n",
              "7   12/13    7\n",
              "8   12/20    7\n",
              "9   12/27    6\n",
              "10    1/3    6\n",
              "11   1/10    9\n",
              "12   1/17    7\n",
              "13   1/24    5\n",
              "14   1/31   10\n",
              "15    2/7    8\n",
              "16   2/14    6\n",
              "17   2/21    5\n",
              "18   2/28    6\n",
              "19    3/7    6\n",
              "20  Final    3"
            ]
          },
          "execution_count": 79,
          "metadata": {},
          "output_type": "execute_result"
        }
      ],
      "source": [
        "kansas_ranking"
      ]
    },
    {
      "cell_type": "markdown",
      "metadata": {
        "nteract": {
          "transient": {
            "deleting": false
          }
        }
      },
      "source": [
        "Similarly, let's divide the Kansas ranking data into two parts, one for 2021 and the other for 2022."
      ]
    },
    {
      "cell_type": "code",
      "execution_count": 38,
      "metadata": {
        "gather": {
          "logged": 1700452125041
        },
        "jupyter": {
          "outputs_hidden": false,
          "source_hidden": false
        },
        "nteract": {
          "transient": {
            "deleting": false
          }
        }
      },
      "outputs": [
        {
          "data": {
            "application/vnd.livy.statement-meta+json": {
              "execution_finish_time": "2023-11-20T03:48:44.8918815Z",
              "execution_start_time": "2023-11-20T03:48:44.5997715Z",
              "livy_statement_state": "available",
              "parent_msg_id": "742763bb-5c1c-4498-a29d-5ab97dcb1ba6",
              "queued_time": "2023-11-20T03:48:44.4506853Z",
              "session_id": "47",
              "session_start_time": null,
              "spark_jobs": {
                "jobs": [],
                "limit": 20,
                "numbers": {
                  "FAILED": 0,
                  "RUNNING": 0,
                  "SUCCEEDED": 0,
                  "UNKNOWN": 0
                },
                "rule": "ALL_DESC"
              },
              "spark_pool": "7c27951d-2bdf-4140-be82-d0dc0c0e7d8e",
              "state": "finished",
              "statement_id": 41
            },
            "text/plain": [
              "StatementMeta(7c27951d-2bdf-4140-be82-d0dc0c0e7d8e, 47, 41, Finished, Available)"
            ]
          },
          "metadata": {},
          "output_type": "display_data"
        }
      ],
      "source": [
        "kansas_ranking_2021 = kansas_ranking.iloc[:7].copy()"
      ]
    },
    {
      "cell_type": "code",
      "execution_count": 39,
      "metadata": {
        "gather": {
          "logged": 1700452127048
        },
        "jupyter": {
          "outputs_hidden": false,
          "source_hidden": false
        },
        "nteract": {
          "transient": {
            "deleting": false
          }
        }
      },
      "outputs": [
        {
          "data": {
            "application/vnd.livy.statement-meta+json": {
              "execution_finish_time": "2023-11-20T03:48:46.8541902Z",
              "execution_start_time": "2023-11-20T03:48:46.5519184Z",
              "livy_statement_state": "available",
              "parent_msg_id": "533d96a9-bd5f-49d6-9923-2e613aef7efe",
              "queued_time": "2023-11-20T03:48:46.4549981Z",
              "session_id": "47",
              "session_start_time": null,
              "spark_jobs": {
                "jobs": [],
                "limit": 20,
                "numbers": {
                  "FAILED": 0,
                  "RUNNING": 0,
                  "SUCCEEDED": 0,
                  "UNKNOWN": 0
                },
                "rule": "ALL_DESC"
              },
              "spark_pool": "7c27951d-2bdf-4140-be82-d0dc0c0e7d8e",
              "state": "finished",
              "statement_id": 42
            },
            "text/plain": [
              "StatementMeta(7c27951d-2bdf-4140-be82-d0dc0c0e7d8e, 47, 42, Finished, Available)"
            ]
          },
          "metadata": {},
          "output_type": "display_data"
        }
      ],
      "source": [
        "kansas_ranking_2022 = kansas_ranking.iloc[7:].copy()"
      ]
    },
    {
      "cell_type": "code",
      "execution_count": 101,
      "metadata": {
        "gather": {
          "logged": 1700447369608
        },
        "jupyter": {
          "outputs_hidden": false,
          "source_hidden": false
        },
        "nteract": {
          "transient": {
            "deleting": false
          }
        }
      },
      "outputs": [
        {
          "data": {
            "application/vnd.livy.statement-meta+json": {
              "execution_finish_time": "2023-11-20T02:29:29.4437932Z",
              "execution_start_time": "2023-11-20T02:29:29.1535269Z",
              "livy_statement_state": "available",
              "parent_msg_id": "dbd6e6b3-fc4e-43e5-bc25-fd1fb93002b0",
              "queued_time": "2023-11-20T02:29:29.0487304Z",
              "session_id": "45",
              "session_start_time": null,
              "spark_jobs": {
                "jobs": [],
                "limit": 20,
                "numbers": {
                  "FAILED": 0,
                  "RUNNING": 0,
                  "SUCCEEDED": 0,
                  "UNKNOWN": 0
                },
                "rule": "ALL_DESC"
              },
              "spark_pool": "7c27951d-2bdf-4140-be82-d0dc0c0e7d8e",
              "state": "finished",
              "statement_id": 107
            },
            "text/plain": [
              "StatementMeta(7c27951d-2bdf-4140-be82-d0dc0c0e7d8e, 45, 107, Finished, Available)"
            ]
          },
          "metadata": {},
          "output_type": "display_data"
        },
        {
          "data": {
            "text/html": [
              "<div>\n",
              "<style scoped>\n",
              "    .dataframe tbody tr th:only-of-type {\n",
              "        vertical-align: middle;\n",
              "    }\n",
              "\n",
              "    .dataframe tbody tr th {\n",
              "        vertical-align: top;\n",
              "    }\n",
              "\n",
              "    .dataframe thead th {\n",
              "        text-align: right;\n",
              "    }\n",
              "</style>\n",
              "<table border=\"1\" class=\"dataframe\">\n",
              "  <thead>\n",
              "    <tr style=\"text-align: right;\">\n",
              "      <th></th>\n",
              "      <th>date</th>\n",
              "      <th>rank</th>\n",
              "    </tr>\n",
              "  </thead>\n",
              "  <tbody>\n",
              "    <tr>\n",
              "      <th>10</th>\n",
              "      <td>1/3</td>\n",
              "      <td>6</td>\n",
              "    </tr>\n",
              "    <tr>\n",
              "      <th>11</th>\n",
              "      <td>1/10</td>\n",
              "      <td>9</td>\n",
              "    </tr>\n",
              "    <tr>\n",
              "      <th>12</th>\n",
              "      <td>1/17</td>\n",
              "      <td>7</td>\n",
              "    </tr>\n",
              "    <tr>\n",
              "      <th>13</th>\n",
              "      <td>1/24</td>\n",
              "      <td>5</td>\n",
              "    </tr>\n",
              "    <tr>\n",
              "      <th>14</th>\n",
              "      <td>1/31</td>\n",
              "      <td>10</td>\n",
              "    </tr>\n",
              "    <tr>\n",
              "      <th>15</th>\n",
              "      <td>2/7</td>\n",
              "      <td>8</td>\n",
              "    </tr>\n",
              "    <tr>\n",
              "      <th>16</th>\n",
              "      <td>2/14</td>\n",
              "      <td>6</td>\n",
              "    </tr>\n",
              "    <tr>\n",
              "      <th>17</th>\n",
              "      <td>2/21</td>\n",
              "      <td>5</td>\n",
              "    </tr>\n",
              "    <tr>\n",
              "      <th>18</th>\n",
              "      <td>2/28</td>\n",
              "      <td>6</td>\n",
              "    </tr>\n",
              "    <tr>\n",
              "      <th>19</th>\n",
              "      <td>3/7</td>\n",
              "      <td>6</td>\n",
              "    </tr>\n",
              "    <tr>\n",
              "      <th>20</th>\n",
              "      <td>Final</td>\n",
              "      <td>3</td>\n",
              "    </tr>\n",
              "  </tbody>\n",
              "</table>\n",
              "</div>"
            ],
            "text/plain": [
              "     date rank\n",
              "10    1/3    6\n",
              "11   1/10    9\n",
              "12   1/17    7\n",
              "13   1/24    5\n",
              "14   1/31   10\n",
              "15    2/7    8\n",
              "16   2/14    6\n",
              "17   2/21    5\n",
              "18   2/28    6\n",
              "19    3/7    6\n",
              "20  Final    3"
            ]
          },
          "execution_count": 213,
          "metadata": {},
          "output_type": "execute_result"
        }
      ],
      "source": [
        "kansas_ranking_2022"
      ]
    },
    {
      "cell_type": "code",
      "execution_count": 40,
      "metadata": {
        "gather": {
          "logged": 1700452136276
        },
        "jupyter": {
          "outputs_hidden": false,
          "source_hidden": false
        },
        "nteract": {
          "transient": {
            "deleting": false
          }
        }
      },
      "outputs": [
        {
          "data": {
            "application/vnd.livy.statement-meta+json": {
              "execution_finish_time": "2023-11-20T03:48:56.1111824Z",
              "execution_start_time": "2023-11-20T03:48:55.8215278Z",
              "livy_statement_state": "available",
              "parent_msg_id": "1799bbc5-1e5f-4ef3-988f-3c7bc28cdf4a",
              "queued_time": "2023-11-20T03:48:55.7248444Z",
              "session_id": "47",
              "session_start_time": null,
              "spark_jobs": {
                "jobs": [],
                "limit": 20,
                "numbers": {
                  "FAILED": 0,
                  "RUNNING": 0,
                  "SUCCEEDED": 0,
                  "UNKNOWN": 0
                },
                "rule": "ALL_DESC"
              },
              "spark_pool": "7c27951d-2bdf-4140-be82-d0dc0c0e7d8e",
              "state": "finished",
              "statement_id": 43
            },
            "text/plain": [
              "StatementMeta(7c27951d-2bdf-4140-be82-d0dc0c0e7d8e, 47, 43, Finished, Available)"
            ]
          },
          "metadata": {},
          "output_type": "display_data"
        }
      ],
      "source": [
        "kansas_ranking_2022 = kansas_ranking_2022.replace('Final', '3/14')"
      ]
    },
    {
      "cell_type": "code",
      "execution_count": 41,
      "metadata": {
        "gather": {
          "logged": 1700452142428
        },
        "jupyter": {
          "outputs_hidden": false,
          "source_hidden": false
        },
        "nteract": {
          "transient": {
            "deleting": false
          }
        }
      },
      "outputs": [
        {
          "data": {
            "application/vnd.livy.statement-meta+json": {
              "execution_finish_time": "2023-11-20T03:49:02.2659375Z",
              "execution_start_time": "2023-11-20T03:49:01.9694862Z",
              "livy_statement_state": "available",
              "parent_msg_id": "68c7ba2c-646a-4213-b46d-e58c25918bc9",
              "queued_time": "2023-11-20T03:49:01.8708083Z",
              "session_id": "47",
              "session_start_time": null,
              "spark_jobs": {
                "jobs": [],
                "limit": 20,
                "numbers": {
                  "FAILED": 0,
                  "RUNNING": 0,
                  "SUCCEEDED": 0,
                  "UNKNOWN": 0
                },
                "rule": "ALL_DESC"
              },
              "spark_pool": "7c27951d-2bdf-4140-be82-d0dc0c0e7d8e",
              "state": "finished",
              "statement_id": 44
            },
            "text/plain": [
              "StatementMeta(7c27951d-2bdf-4140-be82-d0dc0c0e7d8e, 47, 44, Finished, Available)"
            ]
          },
          "metadata": {},
          "output_type": "display_data"
        },
        {
          "data": {
            "text/html": [
              "<div>\n",
              "<style scoped>\n",
              "    .dataframe tbody tr th:only-of-type {\n",
              "        vertical-align: middle;\n",
              "    }\n",
              "\n",
              "    .dataframe tbody tr th {\n",
              "        vertical-align: top;\n",
              "    }\n",
              "\n",
              "    .dataframe thead th {\n",
              "        text-align: right;\n",
              "    }\n",
              "</style>\n",
              "<table border=\"1\" class=\"dataframe\">\n",
              "  <thead>\n",
              "    <tr style=\"text-align: right;\">\n",
              "      <th></th>\n",
              "      <th>date</th>\n",
              "      <th>rank</th>\n",
              "    </tr>\n",
              "  </thead>\n",
              "  <tbody>\n",
              "    <tr>\n",
              "      <th>3</th>\n",
              "      <td>11/15</td>\n",
              "      <td>3</td>\n",
              "    </tr>\n",
              "    <tr>\n",
              "      <th>4</th>\n",
              "      <td>11/22</td>\n",
              "      <td>4</td>\n",
              "    </tr>\n",
              "    <tr>\n",
              "      <th>5</th>\n",
              "      <td>11/29</td>\n",
              "      <td>8</td>\n",
              "    </tr>\n",
              "    <tr>\n",
              "      <th>6</th>\n",
              "      <td>12/6</td>\n",
              "      <td>8</td>\n",
              "    </tr>\n",
              "    <tr>\n",
              "      <th>7</th>\n",
              "      <td>12/13</td>\n",
              "      <td>7</td>\n",
              "    </tr>\n",
              "    <tr>\n",
              "      <th>8</th>\n",
              "      <td>12/20</td>\n",
              "      <td>7</td>\n",
              "    </tr>\n",
              "    <tr>\n",
              "      <th>9</th>\n",
              "      <td>12/27</td>\n",
              "      <td>6</td>\n",
              "    </tr>\n",
              "  </tbody>\n",
              "</table>\n",
              "</div>"
            ],
            "text/plain": [
              "    date rank\n",
              "3  11/15    3\n",
              "4  11/22    4\n",
              "5  11/29    8\n",
              "6   12/6    8\n",
              "7  12/13    7\n",
              "8  12/20    7\n",
              "9  12/27    6"
            ]
          },
          "execution_count": 87,
          "metadata": {},
          "output_type": "execute_result"
        }
      ],
      "source": [
        "kansas_ranking_2021"
      ]
    },
    {
      "cell_type": "code",
      "execution_count": 42,
      "metadata": {
        "gather": {
          "logged": 1700452145713
        },
        "jupyter": {
          "outputs_hidden": false,
          "source_hidden": false
        },
        "nteract": {
          "transient": {
            "deleting": false
          }
        }
      },
      "outputs": [
        {
          "data": {
            "application/vnd.livy.statement-meta+json": {
              "execution_finish_time": "2023-11-20T03:49:05.5583758Z",
              "execution_start_time": "2023-11-20T03:49:05.2504576Z",
              "livy_statement_state": "available",
              "parent_msg_id": "0a6d74df-a02f-4b06-919f-1b08af694e3c",
              "queued_time": "2023-11-20T03:49:05.1326884Z",
              "session_id": "47",
              "session_start_time": null,
              "spark_jobs": {
                "jobs": [],
                "limit": 20,
                "numbers": {
                  "FAILED": 0,
                  "RUNNING": 0,
                  "SUCCEEDED": 0,
                  "UNKNOWN": 0
                },
                "rule": "ALL_DESC"
              },
              "spark_pool": "7c27951d-2bdf-4140-be82-d0dc0c0e7d8e",
              "state": "finished",
              "statement_id": 45
            },
            "text/plain": [
              "StatementMeta(7c27951d-2bdf-4140-be82-d0dc0c0e7d8e, 47, 45, Finished, Available)"
            ]
          },
          "metadata": {},
          "output_type": "display_data"
        },
        {
          "data": {
            "text/html": [
              "<div>\n",
              "<style scoped>\n",
              "    .dataframe tbody tr th:only-of-type {\n",
              "        vertical-align: middle;\n",
              "    }\n",
              "\n",
              "    .dataframe tbody tr th {\n",
              "        vertical-align: top;\n",
              "    }\n",
              "\n",
              "    .dataframe thead th {\n",
              "        text-align: right;\n",
              "    }\n",
              "</style>\n",
              "<table border=\"1\" class=\"dataframe\">\n",
              "  <thead>\n",
              "    <tr style=\"text-align: right;\">\n",
              "      <th></th>\n",
              "      <th>date</th>\n",
              "      <th>rank</th>\n",
              "    </tr>\n",
              "  </thead>\n",
              "  <tbody>\n",
              "    <tr>\n",
              "      <th>10</th>\n",
              "      <td>1/3</td>\n",
              "      <td>6</td>\n",
              "    </tr>\n",
              "    <tr>\n",
              "      <th>11</th>\n",
              "      <td>1/10</td>\n",
              "      <td>9</td>\n",
              "    </tr>\n",
              "    <tr>\n",
              "      <th>12</th>\n",
              "      <td>1/17</td>\n",
              "      <td>7</td>\n",
              "    </tr>\n",
              "    <tr>\n",
              "      <th>13</th>\n",
              "      <td>1/24</td>\n",
              "      <td>5</td>\n",
              "    </tr>\n",
              "    <tr>\n",
              "      <th>14</th>\n",
              "      <td>1/31</td>\n",
              "      <td>10</td>\n",
              "    </tr>\n",
              "    <tr>\n",
              "      <th>15</th>\n",
              "      <td>2/7</td>\n",
              "      <td>8</td>\n",
              "    </tr>\n",
              "    <tr>\n",
              "      <th>16</th>\n",
              "      <td>2/14</td>\n",
              "      <td>6</td>\n",
              "    </tr>\n",
              "    <tr>\n",
              "      <th>17</th>\n",
              "      <td>2/21</td>\n",
              "      <td>5</td>\n",
              "    </tr>\n",
              "    <tr>\n",
              "      <th>18</th>\n",
              "      <td>2/28</td>\n",
              "      <td>6</td>\n",
              "    </tr>\n",
              "    <tr>\n",
              "      <th>19</th>\n",
              "      <td>3/7</td>\n",
              "      <td>6</td>\n",
              "    </tr>\n",
              "    <tr>\n",
              "      <th>20</th>\n",
              "      <td>3/14</td>\n",
              "      <td>3</td>\n",
              "    </tr>\n",
              "  </tbody>\n",
              "</table>\n",
              "</div>"
            ],
            "text/plain": [
              "    date rank\n",
              "10   1/3    6\n",
              "11  1/10    9\n",
              "12  1/17    7\n",
              "13  1/24    5\n",
              "14  1/31   10\n",
              "15   2/7    8\n",
              "16  2/14    6\n",
              "17  2/21    5\n",
              "18  2/28    6\n",
              "19   3/7    6\n",
              "20  3/14    3"
            ]
          },
          "execution_count": 89,
          "metadata": {},
          "output_type": "execute_result"
        }
      ],
      "source": [
        "kansas_ranking_2022"
      ]
    },
    {
      "cell_type": "markdown",
      "metadata": {
        "nteract": {
          "transient": {
            "deleting": false
          }
        }
      },
      "source": [
        "Let's change the format of 'date' so we can extract the information about the week of the year from it."
      ]
    },
    {
      "cell_type": "code",
      "execution_count": 43,
      "metadata": {
        "gather": {
          "logged": 1700452151501
        },
        "jupyter": {
          "outputs_hidden": false,
          "source_hidden": false
        },
        "nteract": {
          "transient": {
            "deleting": false
          }
        }
      },
      "outputs": [
        {
          "data": {
            "application/vnd.livy.statement-meta+json": {
              "execution_finish_time": "2023-11-20T03:49:11.3028514Z",
              "execution_start_time": "2023-11-20T03:49:11.0085071Z",
              "livy_statement_state": "available",
              "parent_msg_id": "e9797f09-68a5-42cc-8f20-dd7d48ff1533",
              "queued_time": "2023-11-20T03:49:10.9121625Z",
              "session_id": "47",
              "session_start_time": null,
              "spark_jobs": {
                "jobs": [],
                "limit": 20,
                "numbers": {
                  "FAILED": 0,
                  "RUNNING": 0,
                  "SUCCEEDED": 0,
                  "UNKNOWN": 0
                },
                "rule": "ALL_DESC"
              },
              "spark_pool": "7c27951d-2bdf-4140-be82-d0dc0c0e7d8e",
              "state": "finished",
              "statement_id": 46
            },
            "text/plain": [
              "StatementMeta(7c27951d-2bdf-4140-be82-d0dc0c0e7d8e, 47, 46, Finished, Available)"
            ]
          },
          "metadata": {},
          "output_type": "display_data"
        }
      ],
      "source": [
        "kansas_ranking_2021['date'] = kansas_ranking_2021['date'].str.replace('/','-')\n",
        "kansas_ranking_2022['date'] = kansas_ranking_2022['date'].str.replace('/','-')"
      ]
    },
    {
      "cell_type": "code",
      "execution_count": 44,
      "metadata": {
        "gather": {
          "logged": 1700452156818
        },
        "jupyter": {
          "outputs_hidden": false,
          "source_hidden": false
        },
        "nteract": {
          "transient": {
            "deleting": false
          }
        }
      },
      "outputs": [
        {
          "data": {
            "application/vnd.livy.statement-meta+json": {
              "execution_finish_time": "2023-11-20T03:49:16.6502365Z",
              "execution_start_time": "2023-11-20T03:49:16.3673714Z",
              "livy_statement_state": "available",
              "parent_msg_id": "3582c573-c6a3-4054-bc01-1654f610f6cd",
              "queued_time": "2023-11-20T03:49:16.2622999Z",
              "session_id": "47",
              "session_start_time": null,
              "spark_jobs": {
                "jobs": [],
                "limit": 20,
                "numbers": {
                  "FAILED": 0,
                  "RUNNING": 0,
                  "SUCCEEDED": 0,
                  "UNKNOWN": 0
                },
                "rule": "ALL_DESC"
              },
              "spark_pool": "7c27951d-2bdf-4140-be82-d0dc0c0e7d8e",
              "state": "finished",
              "statement_id": 47
            },
            "text/plain": [
              "StatementMeta(7c27951d-2bdf-4140-be82-d0dc0c0e7d8e, 47, 47, Finished, Available)"
            ]
          },
          "metadata": {},
          "output_type": "display_data"
        },
        {
          "data": {
            "text/html": [
              "<div>\n",
              "<style scoped>\n",
              "    .dataframe tbody tr th:only-of-type {\n",
              "        vertical-align: middle;\n",
              "    }\n",
              "\n",
              "    .dataframe tbody tr th {\n",
              "        vertical-align: top;\n",
              "    }\n",
              "\n",
              "    .dataframe thead th {\n",
              "        text-align: right;\n",
              "    }\n",
              "</style>\n",
              "<table border=\"1\" class=\"dataframe\">\n",
              "  <thead>\n",
              "    <tr style=\"text-align: right;\">\n",
              "      <th></th>\n",
              "      <th>date</th>\n",
              "      <th>rank</th>\n",
              "    </tr>\n",
              "  </thead>\n",
              "  <tbody>\n",
              "    <tr>\n",
              "      <th>10</th>\n",
              "      <td>1-3</td>\n",
              "      <td>6</td>\n",
              "    </tr>\n",
              "    <tr>\n",
              "      <th>11</th>\n",
              "      <td>1-10</td>\n",
              "      <td>9</td>\n",
              "    </tr>\n",
              "    <tr>\n",
              "      <th>12</th>\n",
              "      <td>1-17</td>\n",
              "      <td>7</td>\n",
              "    </tr>\n",
              "    <tr>\n",
              "      <th>13</th>\n",
              "      <td>1-24</td>\n",
              "      <td>5</td>\n",
              "    </tr>\n",
              "    <tr>\n",
              "      <th>14</th>\n",
              "      <td>1-31</td>\n",
              "      <td>10</td>\n",
              "    </tr>\n",
              "    <tr>\n",
              "      <th>15</th>\n",
              "      <td>2-7</td>\n",
              "      <td>8</td>\n",
              "    </tr>\n",
              "    <tr>\n",
              "      <th>16</th>\n",
              "      <td>2-14</td>\n",
              "      <td>6</td>\n",
              "    </tr>\n",
              "    <tr>\n",
              "      <th>17</th>\n",
              "      <td>2-21</td>\n",
              "      <td>5</td>\n",
              "    </tr>\n",
              "    <tr>\n",
              "      <th>18</th>\n",
              "      <td>2-28</td>\n",
              "      <td>6</td>\n",
              "    </tr>\n",
              "    <tr>\n",
              "      <th>19</th>\n",
              "      <td>3-7</td>\n",
              "      <td>6</td>\n",
              "    </tr>\n",
              "    <tr>\n",
              "      <th>20</th>\n",
              "      <td>3-14</td>\n",
              "      <td>3</td>\n",
              "    </tr>\n",
              "  </tbody>\n",
              "</table>\n",
              "</div>"
            ],
            "text/plain": [
              "    date rank\n",
              "10   1-3    6\n",
              "11  1-10    9\n",
              "12  1-17    7\n",
              "13  1-24    5\n",
              "14  1-31   10\n",
              "15   2-7    8\n",
              "16  2-14    6\n",
              "17  2-21    5\n",
              "18  2-28    6\n",
              "19   3-7    6\n",
              "20  3-14    3"
            ]
          },
          "execution_count": 93,
          "metadata": {},
          "output_type": "execute_result"
        }
      ],
      "source": [
        "kansas_ranking_2022"
      ]
    },
    {
      "cell_type": "code",
      "execution_count": 45,
      "metadata": {
        "gather": {
          "logged": 1700452176785
        },
        "jupyter": {
          "outputs_hidden": false,
          "source_hidden": false
        },
        "nteract": {
          "transient": {
            "deleting": false
          }
        }
      },
      "outputs": [
        {
          "data": {
            "application/vnd.livy.statement-meta+json": {
              "execution_finish_time": "2023-11-20T03:49:36.6563325Z",
              "execution_start_time": "2023-11-20T03:49:36.3703585Z",
              "livy_statement_state": "available",
              "parent_msg_id": "9203abd9-c60f-4925-8dce-ccea1cc5a975",
              "queued_time": "2023-11-20T03:49:36.2637285Z",
              "session_id": "47",
              "session_start_time": null,
              "spark_jobs": {
                "jobs": [],
                "limit": 20,
                "numbers": {
                  "FAILED": 0,
                  "RUNNING": 0,
                  "SUCCEEDED": 0,
                  "UNKNOWN": 0
                },
                "rule": "ALL_DESC"
              },
              "spark_pool": "7c27951d-2bdf-4140-be82-d0dc0c0e7d8e",
              "state": "finished",
              "statement_id": 48
            },
            "text/plain": [
              "StatementMeta(7c27951d-2bdf-4140-be82-d0dc0c0e7d8e, 47, 48, Finished, Available)"
            ]
          },
          "metadata": {},
          "output_type": "display_data"
        }
      ],
      "source": [
        "kansas_ranking_2021['date'] = '2021-' + kansas_ranking_2021['date'].astype(str)\n",
        "kansas_ranking_2022['date'] = '2022-' + kansas_ranking_2022['date'].astype(str)"
      ]
    },
    {
      "cell_type": "code",
      "execution_count": 46,
      "metadata": {
        "gather": {
          "logged": 1700452180892
        },
        "jupyter": {
          "outputs_hidden": false,
          "source_hidden": false
        },
        "nteract": {
          "transient": {
            "deleting": false
          }
        }
      },
      "outputs": [
        {
          "data": {
            "application/vnd.livy.statement-meta+json": {
              "execution_finish_time": "2023-11-20T03:49:40.7510936Z",
              "execution_start_time": "2023-11-20T03:49:40.4635654Z",
              "livy_statement_state": "available",
              "parent_msg_id": "f6c64eee-b757-4348-9ef6-47dab6118320",
              "queued_time": "2023-11-20T03:49:40.3505316Z",
              "session_id": "47",
              "session_start_time": null,
              "spark_jobs": {
                "jobs": [],
                "limit": 20,
                "numbers": {
                  "FAILED": 0,
                  "RUNNING": 0,
                  "SUCCEEDED": 0,
                  "UNKNOWN": 0
                },
                "rule": "ALL_DESC"
              },
              "spark_pool": "7c27951d-2bdf-4140-be82-d0dc0c0e7d8e",
              "state": "finished",
              "statement_id": 49
            },
            "text/plain": [
              "StatementMeta(7c27951d-2bdf-4140-be82-d0dc0c0e7d8e, 47, 49, Finished, Available)"
            ]
          },
          "metadata": {},
          "output_type": "display_data"
        },
        {
          "data": {
            "text/html": [
              "<div>\n",
              "<style scoped>\n",
              "    .dataframe tbody tr th:only-of-type {\n",
              "        vertical-align: middle;\n",
              "    }\n",
              "\n",
              "    .dataframe tbody tr th {\n",
              "        vertical-align: top;\n",
              "    }\n",
              "\n",
              "    .dataframe thead th {\n",
              "        text-align: right;\n",
              "    }\n",
              "</style>\n",
              "<table border=\"1\" class=\"dataframe\">\n",
              "  <thead>\n",
              "    <tr style=\"text-align: right;\">\n",
              "      <th></th>\n",
              "      <th>date</th>\n",
              "      <th>rank</th>\n",
              "    </tr>\n",
              "  </thead>\n",
              "  <tbody>\n",
              "    <tr>\n",
              "      <th>3</th>\n",
              "      <td>2021-11-15</td>\n",
              "      <td>3</td>\n",
              "    </tr>\n",
              "    <tr>\n",
              "      <th>4</th>\n",
              "      <td>2021-11-22</td>\n",
              "      <td>4</td>\n",
              "    </tr>\n",
              "    <tr>\n",
              "      <th>5</th>\n",
              "      <td>2021-11-29</td>\n",
              "      <td>8</td>\n",
              "    </tr>\n",
              "    <tr>\n",
              "      <th>6</th>\n",
              "      <td>2021-12-6</td>\n",
              "      <td>8</td>\n",
              "    </tr>\n",
              "    <tr>\n",
              "      <th>7</th>\n",
              "      <td>2021-12-13</td>\n",
              "      <td>7</td>\n",
              "    </tr>\n",
              "    <tr>\n",
              "      <th>8</th>\n",
              "      <td>2021-12-20</td>\n",
              "      <td>7</td>\n",
              "    </tr>\n",
              "    <tr>\n",
              "      <th>9</th>\n",
              "      <td>2021-12-27</td>\n",
              "      <td>6</td>\n",
              "    </tr>\n",
              "  </tbody>\n",
              "</table>\n",
              "</div>"
            ],
            "text/plain": [
              "         date rank\n",
              "3  2021-11-15    3\n",
              "4  2021-11-22    4\n",
              "5  2021-11-29    8\n",
              "6   2021-12-6    8\n",
              "7  2021-12-13    7\n",
              "8  2021-12-20    7\n",
              "9  2021-12-27    6"
            ]
          },
          "execution_count": 97,
          "metadata": {},
          "output_type": "execute_result"
        }
      ],
      "source": [
        "kansas_ranking_2021"
      ]
    },
    {
      "cell_type": "code",
      "execution_count": 47,
      "metadata": {
        "gather": {
          "logged": 1700452204004
        },
        "jupyter": {
          "outputs_hidden": false,
          "source_hidden": false
        },
        "nteract": {
          "transient": {
            "deleting": false
          }
        }
      },
      "outputs": [
        {
          "data": {
            "application/vnd.livy.statement-meta+json": {
              "execution_finish_time": "2023-11-20T03:50:03.8450373Z",
              "execution_start_time": "2023-11-20T03:50:03.5534032Z",
              "livy_statement_state": "available",
              "parent_msg_id": "550dfd7d-cdac-4410-8c95-ad836444cf1a",
              "queued_time": "2023-11-20T03:50:03.4538535Z",
              "session_id": "47",
              "session_start_time": null,
              "spark_jobs": {
                "jobs": [],
                "limit": 20,
                "numbers": {
                  "FAILED": 0,
                  "RUNNING": 0,
                  "SUCCEEDED": 0,
                  "UNKNOWN": 0
                },
                "rule": "ALL_DESC"
              },
              "spark_pool": "7c27951d-2bdf-4140-be82-d0dc0c0e7d8e",
              "state": "finished",
              "statement_id": 50
            },
            "text/plain": [
              "StatementMeta(7c27951d-2bdf-4140-be82-d0dc0c0e7d8e, 47, 50, Finished, Available)"
            ]
          },
          "metadata": {},
          "output_type": "display_data"
        },
        {
          "data": {
            "text/html": [
              "<div>\n",
              "<style scoped>\n",
              "    .dataframe tbody tr th:only-of-type {\n",
              "        vertical-align: middle;\n",
              "    }\n",
              "\n",
              "    .dataframe tbody tr th {\n",
              "        vertical-align: top;\n",
              "    }\n",
              "\n",
              "    .dataframe thead th {\n",
              "        text-align: right;\n",
              "    }\n",
              "</style>\n",
              "<table border=\"1\" class=\"dataframe\">\n",
              "  <thead>\n",
              "    <tr style=\"text-align: right;\">\n",
              "      <th></th>\n",
              "      <th>date</th>\n",
              "      <th>rank</th>\n",
              "    </tr>\n",
              "  </thead>\n",
              "  <tbody>\n",
              "    <tr>\n",
              "      <th>10</th>\n",
              "      <td>2022-1-3</td>\n",
              "      <td>6</td>\n",
              "    </tr>\n",
              "    <tr>\n",
              "      <th>11</th>\n",
              "      <td>2022-1-10</td>\n",
              "      <td>9</td>\n",
              "    </tr>\n",
              "    <tr>\n",
              "      <th>12</th>\n",
              "      <td>2022-1-17</td>\n",
              "      <td>7</td>\n",
              "    </tr>\n",
              "    <tr>\n",
              "      <th>13</th>\n",
              "      <td>2022-1-24</td>\n",
              "      <td>5</td>\n",
              "    </tr>\n",
              "    <tr>\n",
              "      <th>14</th>\n",
              "      <td>2022-1-31</td>\n",
              "      <td>10</td>\n",
              "    </tr>\n",
              "    <tr>\n",
              "      <th>15</th>\n",
              "      <td>2022-2-7</td>\n",
              "      <td>8</td>\n",
              "    </tr>\n",
              "    <tr>\n",
              "      <th>16</th>\n",
              "      <td>2022-2-14</td>\n",
              "      <td>6</td>\n",
              "    </tr>\n",
              "    <tr>\n",
              "      <th>17</th>\n",
              "      <td>2022-2-21</td>\n",
              "      <td>5</td>\n",
              "    </tr>\n",
              "    <tr>\n",
              "      <th>18</th>\n",
              "      <td>2022-2-28</td>\n",
              "      <td>6</td>\n",
              "    </tr>\n",
              "    <tr>\n",
              "      <th>19</th>\n",
              "      <td>2022-3-7</td>\n",
              "      <td>6</td>\n",
              "    </tr>\n",
              "    <tr>\n",
              "      <th>20</th>\n",
              "      <td>2022-3-14</td>\n",
              "      <td>3</td>\n",
              "    </tr>\n",
              "  </tbody>\n",
              "</table>\n",
              "</div>"
            ],
            "text/plain": [
              "         date rank\n",
              "10   2022-1-3    6\n",
              "11  2022-1-10    9\n",
              "12  2022-1-17    7\n",
              "13  2022-1-24    5\n",
              "14  2022-1-31   10\n",
              "15   2022-2-7    8\n",
              "16  2022-2-14    6\n",
              "17  2022-2-21    5\n",
              "18  2022-2-28    6\n",
              "19   2022-3-7    6\n",
              "20  2022-3-14    3"
            ]
          },
          "execution_count": 99,
          "metadata": {},
          "output_type": "execute_result"
        }
      ],
      "source": [
        "kansas_ranking_2022"
      ]
    },
    {
      "cell_type": "code",
      "execution_count": 48,
      "metadata": {
        "gather": {
          "logged": 1700452269798
        },
        "jupyter": {
          "outputs_hidden": false,
          "source_hidden": false
        },
        "nteract": {
          "transient": {
            "deleting": false
          }
        }
      },
      "outputs": [
        {
          "data": {
            "application/vnd.livy.statement-meta+json": {
              "execution_finish_time": "2023-11-20T03:51:09.6736532Z",
              "execution_start_time": "2023-11-20T03:51:09.379244Z",
              "livy_statement_state": "available",
              "parent_msg_id": "adec0b8e-bab7-4c31-8075-6429144e2563",
              "queued_time": "2023-11-20T03:51:09.2642715Z",
              "session_id": "47",
              "session_start_time": null,
              "spark_jobs": {
                "jobs": [],
                "limit": 20,
                "numbers": {
                  "FAILED": 0,
                  "RUNNING": 0,
                  "SUCCEEDED": 0,
                  "UNKNOWN": 0
                },
                "rule": "ALL_DESC"
              },
              "spark_pool": "7c27951d-2bdf-4140-be82-d0dc0c0e7d8e",
              "state": "finished",
              "statement_id": 51
            },
            "text/plain": [
              "StatementMeta(7c27951d-2bdf-4140-be82-d0dc0c0e7d8e, 47, 51, Finished, Available)"
            ]
          },
          "metadata": {},
          "output_type": "display_data"
        }
      ],
      "source": [
        "kansas_ranking_2021['date'] = pd.to_datetime(kansas_ranking_2021['date'])\n",
        "kansas_ranking_2022['date'] = pd.to_datetime(kansas_ranking_2022['date'])"
      ]
    },
    {
      "cell_type": "code",
      "execution_count": 49,
      "metadata": {
        "gather": {
          "logged": 1700452289206
        },
        "jupyter": {
          "outputs_hidden": false,
          "source_hidden": false
        },
        "nteract": {
          "transient": {
            "deleting": false
          }
        }
      },
      "outputs": [
        {
          "data": {
            "application/vnd.livy.statement-meta+json": {
              "execution_finish_time": "2023-11-20T03:51:29.0771649Z",
              "execution_start_time": "2023-11-20T03:51:28.7633763Z",
              "livy_statement_state": "available",
              "parent_msg_id": "c31216b5-bde1-431a-96a2-df239c8e7d70",
              "queued_time": "2023-11-20T03:51:28.6635545Z",
              "session_id": "47",
              "session_start_time": null,
              "spark_jobs": {
                "jobs": [],
                "limit": 20,
                "numbers": {
                  "FAILED": 0,
                  "RUNNING": 0,
                  "SUCCEEDED": 0,
                  "UNKNOWN": 0
                },
                "rule": "ALL_DESC"
              },
              "spark_pool": "7c27951d-2bdf-4140-be82-d0dc0c0e7d8e",
              "state": "finished",
              "statement_id": 52
            },
            "text/plain": [
              "StatementMeta(7c27951d-2bdf-4140-be82-d0dc0c0e7d8e, 47, 52, Finished, Available)"
            ]
          },
          "metadata": {},
          "output_type": "display_data"
        },
        {
          "name": "stderr",
          "output_type": "stream",
          "text": [
            "/tmp/ipykernel_28510/3244876404.py:1: FutureWarning: Series.dt.weekofyear and Series.dt.week have been deprecated.  Please use Series.dt.isocalendar().week instead.\n",
            "  kansas_ranking_2021['week']= kansas_ranking_2021['date'].dt.week\n"
          ]
        }
      ],
      "source": [
        "kansas_ranking_2021['week']= kansas_ranking_2021['date'].dt.week"
      ]
    },
    {
      "cell_type": "code",
      "execution_count": 126,
      "metadata": {
        "gather": {
          "logged": 1700448319789
        },
        "jupyter": {
          "outputs_hidden": false,
          "source_hidden": false
        },
        "nteract": {
          "transient": {
            "deleting": false
          }
        }
      },
      "outputs": [
        {
          "data": {
            "application/vnd.livy.statement-meta+json": {
              "execution_finish_time": "2023-11-20T02:45:19.5810675Z",
              "execution_start_time": "2023-11-20T02:45:19.2928933Z",
              "livy_statement_state": "available",
              "parent_msg_id": "c7653e0a-84c6-46ac-83ac-e90744ed3587",
              "queued_time": "2023-11-20T02:45:19.1895488Z",
              "session_id": "45",
              "session_start_time": null,
              "spark_jobs": {
                "jobs": [],
                "limit": 20,
                "numbers": {
                  "FAILED": 0,
                  "RUNNING": 0,
                  "SUCCEEDED": 0,
                  "UNKNOWN": 0
                },
                "rule": "ALL_DESC"
              },
              "spark_pool": "7c27951d-2bdf-4140-be82-d0dc0c0e7d8e",
              "state": "finished",
              "statement_id": 132
            },
            "text/plain": [
              "StatementMeta(7c27951d-2bdf-4140-be82-d0dc0c0e7d8e, 45, 132, Finished, Available)"
            ]
          },
          "metadata": {},
          "output_type": "display_data"
        },
        {
          "data": {
            "text/html": [
              "<div>\n",
              "<style scoped>\n",
              "    .dataframe tbody tr th:only-of-type {\n",
              "        vertical-align: middle;\n",
              "    }\n",
              "\n",
              "    .dataframe tbody tr th {\n",
              "        vertical-align: top;\n",
              "    }\n",
              "\n",
              "    .dataframe thead th {\n",
              "        text-align: right;\n",
              "    }\n",
              "</style>\n",
              "<table border=\"1\" class=\"dataframe\">\n",
              "  <thead>\n",
              "    <tr style=\"text-align: right;\">\n",
              "      <th></th>\n",
              "      <th>date</th>\n",
              "      <th>rank</th>\n",
              "      <th>week</th>\n",
              "    </tr>\n",
              "  </thead>\n",
              "  <tbody>\n",
              "    <tr>\n",
              "      <th>3</th>\n",
              "      <td>2021-11-15</td>\n",
              "      <td>3</td>\n",
              "      <td>46</td>\n",
              "    </tr>\n",
              "    <tr>\n",
              "      <th>4</th>\n",
              "      <td>2021-11-22</td>\n",
              "      <td>4</td>\n",
              "      <td>47</td>\n",
              "    </tr>\n",
              "    <tr>\n",
              "      <th>5</th>\n",
              "      <td>2021-11-29</td>\n",
              "      <td>8</td>\n",
              "      <td>48</td>\n",
              "    </tr>\n",
              "    <tr>\n",
              "      <th>6</th>\n",
              "      <td>2021-12-06</td>\n",
              "      <td>8</td>\n",
              "      <td>49</td>\n",
              "    </tr>\n",
              "    <tr>\n",
              "      <th>7</th>\n",
              "      <td>2021-12-13</td>\n",
              "      <td>7</td>\n",
              "      <td>50</td>\n",
              "    </tr>\n",
              "    <tr>\n",
              "      <th>8</th>\n",
              "      <td>2021-12-20</td>\n",
              "      <td>7</td>\n",
              "      <td>51</td>\n",
              "    </tr>\n",
              "    <tr>\n",
              "      <th>9</th>\n",
              "      <td>2021-12-27</td>\n",
              "      <td>6</td>\n",
              "      <td>52</td>\n",
              "    </tr>\n",
              "  </tbody>\n",
              "</table>\n",
              "</div>"
            ],
            "text/plain": [
              "        date rank  week\n",
              "3 2021-11-15    3    46\n",
              "4 2021-11-22    4    47\n",
              "5 2021-11-29    8    48\n",
              "6 2021-12-06    8    49\n",
              "7 2021-12-13    7    50\n",
              "8 2021-12-20    7    51\n",
              "9 2021-12-27    6    52"
            ]
          },
          "execution_count": 263,
          "metadata": {},
          "output_type": "execute_result"
        }
      ],
      "source": [
        "kansas_ranking_2021"
      ]
    },
    {
      "cell_type": "code",
      "execution_count": 50,
      "metadata": {
        "gather": {
          "logged": 1700452294018
        },
        "jupyter": {
          "outputs_hidden": false,
          "source_hidden": false
        },
        "nteract": {
          "transient": {
            "deleting": false
          }
        }
      },
      "outputs": [
        {
          "data": {
            "application/vnd.livy.statement-meta+json": {
              "execution_finish_time": "2023-11-20T03:51:33.8851056Z",
              "execution_start_time": "2023-11-20T03:51:33.5805237Z",
              "livy_statement_state": "available",
              "parent_msg_id": "06c535f7-c38f-424f-8b51-503fd2f93a53",
              "queued_time": "2023-11-20T03:51:33.4760934Z",
              "session_id": "47",
              "session_start_time": null,
              "spark_jobs": {
                "jobs": [],
                "limit": 20,
                "numbers": {
                  "FAILED": 0,
                  "RUNNING": 0,
                  "SUCCEEDED": 0,
                  "UNKNOWN": 0
                },
                "rule": "ALL_DESC"
              },
              "spark_pool": "7c27951d-2bdf-4140-be82-d0dc0c0e7d8e",
              "state": "finished",
              "statement_id": 53
            },
            "text/plain": [
              "StatementMeta(7c27951d-2bdf-4140-be82-d0dc0c0e7d8e, 47, 53, Finished, Available)"
            ]
          },
          "metadata": {},
          "output_type": "display_data"
        },
        {
          "name": "stderr",
          "output_type": "stream",
          "text": [
            "/tmp/ipykernel_28510/2593785924.py:1: FutureWarning: Series.dt.weekofyear and Series.dt.week have been deprecated.  Please use Series.dt.isocalendar().week instead.\n",
            "  kansas_ranking_2022['week'] = kansas_ranking_2022['date'].dt.week\n"
          ]
        }
      ],
      "source": [
        "kansas_ranking_2022['week'] = kansas_ranking_2022['date'].dt.week"
      ]
    },
    {
      "cell_type": "code",
      "execution_count": 128,
      "metadata": {
        "gather": {
          "logged": 1700448389313
        },
        "jupyter": {
          "outputs_hidden": false,
          "source_hidden": false
        },
        "nteract": {
          "transient": {
            "deleting": false
          }
        }
      },
      "outputs": [
        {
          "data": {
            "application/vnd.livy.statement-meta+json": {
              "execution_finish_time": "2023-11-20T02:46:29.1619027Z",
              "execution_start_time": "2023-11-20T02:46:28.8575701Z",
              "livy_statement_state": "available",
              "parent_msg_id": "2efc5e52-0086-49f5-b996-606b4ad34395",
              "queued_time": "2023-11-20T02:46:28.7583305Z",
              "session_id": "45",
              "session_start_time": null,
              "spark_jobs": {
                "jobs": [],
                "limit": 20,
                "numbers": {
                  "FAILED": 0,
                  "RUNNING": 0,
                  "SUCCEEDED": 0,
                  "UNKNOWN": 0
                },
                "rule": "ALL_DESC"
              },
              "spark_pool": "7c27951d-2bdf-4140-be82-d0dc0c0e7d8e",
              "state": "finished",
              "statement_id": 134
            },
            "text/plain": [
              "StatementMeta(7c27951d-2bdf-4140-be82-d0dc0c0e7d8e, 45, 134, Finished, Available)"
            ]
          },
          "metadata": {},
          "output_type": "display_data"
        },
        {
          "data": {
            "text/html": [
              "<div>\n",
              "<style scoped>\n",
              "    .dataframe tbody tr th:only-of-type {\n",
              "        vertical-align: middle;\n",
              "    }\n",
              "\n",
              "    .dataframe tbody tr th {\n",
              "        vertical-align: top;\n",
              "    }\n",
              "\n",
              "    .dataframe thead th {\n",
              "        text-align: right;\n",
              "    }\n",
              "</style>\n",
              "<table border=\"1\" class=\"dataframe\">\n",
              "  <thead>\n",
              "    <tr style=\"text-align: right;\">\n",
              "      <th></th>\n",
              "      <th>date</th>\n",
              "      <th>rank</th>\n",
              "      <th>week</th>\n",
              "    </tr>\n",
              "  </thead>\n",
              "  <tbody>\n",
              "    <tr>\n",
              "      <th>10</th>\n",
              "      <td>2022-01-03</td>\n",
              "      <td>6</td>\n",
              "      <td>1</td>\n",
              "    </tr>\n",
              "    <tr>\n",
              "      <th>11</th>\n",
              "      <td>2022-01-10</td>\n",
              "      <td>9</td>\n",
              "      <td>2</td>\n",
              "    </tr>\n",
              "    <tr>\n",
              "      <th>12</th>\n",
              "      <td>2022-01-17</td>\n",
              "      <td>7</td>\n",
              "      <td>3</td>\n",
              "    </tr>\n",
              "    <tr>\n",
              "      <th>13</th>\n",
              "      <td>2022-01-24</td>\n",
              "      <td>5</td>\n",
              "      <td>4</td>\n",
              "    </tr>\n",
              "    <tr>\n",
              "      <th>14</th>\n",
              "      <td>2022-01-31</td>\n",
              "      <td>10</td>\n",
              "      <td>5</td>\n",
              "    </tr>\n",
              "    <tr>\n",
              "      <th>15</th>\n",
              "      <td>2022-02-07</td>\n",
              "      <td>8</td>\n",
              "      <td>6</td>\n",
              "    </tr>\n",
              "    <tr>\n",
              "      <th>16</th>\n",
              "      <td>2022-02-14</td>\n",
              "      <td>6</td>\n",
              "      <td>7</td>\n",
              "    </tr>\n",
              "    <tr>\n",
              "      <th>17</th>\n",
              "      <td>2022-02-21</td>\n",
              "      <td>5</td>\n",
              "      <td>8</td>\n",
              "    </tr>\n",
              "    <tr>\n",
              "      <th>18</th>\n",
              "      <td>2022-02-28</td>\n",
              "      <td>6</td>\n",
              "      <td>9</td>\n",
              "    </tr>\n",
              "    <tr>\n",
              "      <th>19</th>\n",
              "      <td>2022-03-07</td>\n",
              "      <td>6</td>\n",
              "      <td>10</td>\n",
              "    </tr>\n",
              "    <tr>\n",
              "      <th>20</th>\n",
              "      <td>2022-03-14</td>\n",
              "      <td>3</td>\n",
              "      <td>11</td>\n",
              "    </tr>\n",
              "  </tbody>\n",
              "</table>\n",
              "</div>"
            ],
            "text/plain": [
              "         date rank  week\n",
              "10 2022-01-03    6     1\n",
              "11 2022-01-10    9     2\n",
              "12 2022-01-17    7     3\n",
              "13 2022-01-24    5     4\n",
              "14 2022-01-31   10     5\n",
              "15 2022-02-07    8     6\n",
              "16 2022-02-14    6     7\n",
              "17 2022-02-21    5     8\n",
              "18 2022-02-28    6     9\n",
              "19 2022-03-07    6    10\n",
              "20 2022-03-14    3    11"
            ]
          },
          "execution_count": 267,
          "metadata": {},
          "output_type": "execute_result"
        }
      ],
      "source": [
        "kansas_ranking_2022"
      ]
    },
    {
      "cell_type": "code",
      "execution_count": 61,
      "metadata": {
        "gather": {
          "logged": 1700454893686
        },
        "jupyter": {
          "outputs_hidden": false,
          "source_hidden": false
        },
        "nteract": {
          "transient": {
            "deleting": false
          }
        }
      },
      "outputs": [
        {
          "data": {
            "application/vnd.livy.statement-meta+json": {
              "execution_finish_time": "2023-11-20T04:34:53.5142235Z",
              "execution_start_time": "2023-11-20T04:34:53.209773Z",
              "livy_statement_state": "available",
              "parent_msg_id": "b1af79e0-6690-46f9-8779-64ae607014d2",
              "queued_time": "2023-11-20T04:34:53.1128809Z",
              "session_id": "47",
              "session_start_time": null,
              "spark_jobs": {
                "jobs": [],
                "limit": 20,
                "numbers": {
                  "FAILED": 0,
                  "RUNNING": 0,
                  "SUCCEEDED": 0,
                  "UNKNOWN": 0
                },
                "rule": "ALL_DESC"
              },
              "spark_pool": "7c27951d-2bdf-4140-be82-d0dc0c0e7d8e",
              "state": "finished",
              "statement_id": 64
            },
            "text/plain": [
              "StatementMeta(7c27951d-2bdf-4140-be82-d0dc0c0e7d8e, 47, 64, Finished, Available)"
            ]
          },
          "metadata": {},
          "output_type": "display_data"
        },
        {
          "data": {
            "text/html": [
              "<div>\n",
              "<style scoped>\n",
              "    .dataframe tbody tr th:only-of-type {\n",
              "        vertical-align: middle;\n",
              "    }\n",
              "\n",
              "    .dataframe tbody tr th {\n",
              "        vertical-align: top;\n",
              "    }\n",
              "\n",
              "    .dataframe thead th {\n",
              "        text-align: right;\n",
              "    }\n",
              "</style>\n",
              "<table border=\"1\" class=\"dataframe\">\n",
              "  <thead>\n",
              "    <tr style=\"text-align: right;\">\n",
              "      <th></th>\n",
              "      <th>year</th>\n",
              "      <th>week</th>\n",
              "      <th>count</th>\n",
              "    </tr>\n",
              "  </thead>\n",
              "  <tbody>\n",
              "    <tr>\n",
              "      <th>0</th>\n",
              "      <td>2021</td>\n",
              "      <td>35</td>\n",
              "      <td>26</td>\n",
              "    </tr>\n",
              "    <tr>\n",
              "      <th>1</th>\n",
              "      <td>2021</td>\n",
              "      <td>36</td>\n",
              "      <td>20</td>\n",
              "    </tr>\n",
              "    <tr>\n",
              "      <th>2</th>\n",
              "      <td>2021</td>\n",
              "      <td>37</td>\n",
              "      <td>9</td>\n",
              "    </tr>\n",
              "    <tr>\n",
              "      <th>3</th>\n",
              "      <td>2021</td>\n",
              "      <td>38</td>\n",
              "      <td>3</td>\n",
              "    </tr>\n",
              "    <tr>\n",
              "      <th>4</th>\n",
              "      <td>2021</td>\n",
              "      <td>39</td>\n",
              "      <td>15</td>\n",
              "    </tr>\n",
              "    <tr>\n",
              "      <th>5</th>\n",
              "      <td>2021</td>\n",
              "      <td>40</td>\n",
              "      <td>21</td>\n",
              "    </tr>\n",
              "    <tr>\n",
              "      <th>6</th>\n",
              "      <td>2021</td>\n",
              "      <td>41</td>\n",
              "      <td>37</td>\n",
              "    </tr>\n",
              "    <tr>\n",
              "      <th>7</th>\n",
              "      <td>2021</td>\n",
              "      <td>42</td>\n",
              "      <td>23</td>\n",
              "    </tr>\n",
              "    <tr>\n",
              "      <th>8</th>\n",
              "      <td>2021</td>\n",
              "      <td>43</td>\n",
              "      <td>7</td>\n",
              "    </tr>\n",
              "    <tr>\n",
              "      <th>9</th>\n",
              "      <td>2021</td>\n",
              "      <td>44</td>\n",
              "      <td>58</td>\n",
              "    </tr>\n",
              "    <tr>\n",
              "      <th>10</th>\n",
              "      <td>2021</td>\n",
              "      <td>45</td>\n",
              "      <td>93</td>\n",
              "    </tr>\n",
              "    <tr>\n",
              "      <th>11</th>\n",
              "      <td>2021</td>\n",
              "      <td>46</td>\n",
              "      <td>45</td>\n",
              "    </tr>\n",
              "    <tr>\n",
              "      <th>12</th>\n",
              "      <td>2021</td>\n",
              "      <td>47</td>\n",
              "      <td>22</td>\n",
              "    </tr>\n",
              "    <tr>\n",
              "      <th>13</th>\n",
              "      <td>2021</td>\n",
              "      <td>48</td>\n",
              "      <td>32</td>\n",
              "    </tr>\n",
              "    <tr>\n",
              "      <th>14</th>\n",
              "      <td>2021</td>\n",
              "      <td>49</td>\n",
              "      <td>47</td>\n",
              "    </tr>\n",
              "    <tr>\n",
              "      <th>15</th>\n",
              "      <td>2021</td>\n",
              "      <td>50</td>\n",
              "      <td>34</td>\n",
              "    </tr>\n",
              "    <tr>\n",
              "      <th>16</th>\n",
              "      <td>2021</td>\n",
              "      <td>51</td>\n",
              "      <td>23</td>\n",
              "    </tr>\n",
              "    <tr>\n",
              "      <th>17</th>\n",
              "      <td>2021</td>\n",
              "      <td>52</td>\n",
              "      <td>32</td>\n",
              "    </tr>\n",
              "  </tbody>\n",
              "</table>\n",
              "</div>"
            ],
            "text/plain": [
              "    year  week  count\n",
              "0   2021    35     26\n",
              "1   2021    36     20\n",
              "2   2021    37      9\n",
              "3   2021    38      3\n",
              "4   2021    39     15\n",
              "5   2021    40     21\n",
              "6   2021    41     37\n",
              "7   2021    42     23\n",
              "8   2021    43      7\n",
              "9   2021    44     58\n",
              "10  2021    45     93\n",
              "11  2021    46     45\n",
              "12  2021    47     22\n",
              "13  2021    48     32\n",
              "14  2021    49     47\n",
              "15  2021    50     34\n",
              "16  2021    51     23\n",
              "17  2021    52     32"
            ]
          },
          "execution_count": 127,
          "metadata": {},
          "output_type": "execute_result"
        }
      ],
      "source": [
        "sentiment_comments_kansas_pcount_2021_pd"
      ]
    },
    {
      "cell_type": "markdown",
      "metadata": {
        "nteract": {
          "transient": {
            "deleting": false
          }
        }
      },
      "source": [
        "From the two tables about the information of Kansas in 2021, "
      ]
    },
    {
      "cell_type": "markdown",
      "metadata": {
        "nteract": {
          "transient": {
            "deleting": false
          }
        }
      },
      "source": []
    },
    {
      "cell_type": "code",
      "execution_count": 58,
      "metadata": {
        "gather": {
          "logged": 1700454359199
        },
        "jupyter": {
          "outputs_hidden": false,
          "source_hidden": false
        },
        "nteract": {
          "transient": {
            "deleting": false
          }
        }
      },
      "outputs": [
        {
          "data": {
            "application/vnd.livy.statement-meta+json": {
              "execution_finish_time": "2023-11-20T04:25:59.0639531Z",
              "execution_start_time": "2023-11-20T04:25:57.5683047Z",
              "livy_statement_state": "available",
              "parent_msg_id": "f03b695a-108f-4eea-957a-f4697b8b7d3c",
              "queued_time": "2023-11-20T04:25:57.4497565Z",
              "session_id": "47",
              "session_start_time": null,
              "spark_jobs": {
                "jobs": [],
                "limit": 20,
                "numbers": {
                  "FAILED": 0,
                  "RUNNING": 0,
                  "SUCCEEDED": 0,
                  "UNKNOWN": 0
                },
                "rule": "ALL_DESC"
              },
              "spark_pool": "7c27951d-2bdf-4140-be82-d0dc0c0e7d8e",
              "state": "finished",
              "statement_id": 61
            },
            "text/plain": [
              "StatementMeta(7c27951d-2bdf-4140-be82-d0dc0c0e7d8e, 47, 61, Finished, Available)"
            ]
          },
          "metadata": {},
          "output_type": "display_data"
        }
      ],
      "source": [
        "spark.stop()"
      ]
    },
    {
      "cell_type": "markdown",
      "metadata": {
        "nteract": {
          "transient": {
            "deleting": false
          }
        }
      },
      "source": [
        "Now let's plot the ranking information and the counts of positive comments in the same figure to see if we can find something interesting."
      ]
    },
    {
      "cell_type": "code",
      "execution_count": 63,
      "metadata": {
        "gather": {
          "logged": 1700455047772
        },
        "jupyter": {
          "outputs_hidden": false,
          "source_hidden": false
        },
        "nteract": {
          "transient": {
            "deleting": false
          }
        }
      },
      "outputs": [
        {
          "data": {
            "application/vnd.livy.statement-meta+json": {
              "execution_finish_time": "2023-11-20T04:37:27.6049447Z",
              "execution_start_time": "2023-11-20T04:37:26.7676672Z",
              "livy_statement_state": "available",
              "parent_msg_id": "531966ca-a3a8-48bd-8db3-abe6501a22a4",
              "queued_time": "2023-11-20T04:37:26.6696099Z",
              "session_id": "47",
              "session_start_time": null,
              "spark_jobs": {
                "jobs": [],
                "limit": 20,
                "numbers": {
                  "FAILED": 0,
                  "RUNNING": 0,
                  "SUCCEEDED": 0,
                  "UNKNOWN": 0
                },
                "rule": "ALL_DESC"
              },
              "spark_pool": "7c27951d-2bdf-4140-be82-d0dc0c0e7d8e",
              "state": "finished",
              "statement_id": 66
            },
            "text/plain": [
              "StatementMeta(7c27951d-2bdf-4140-be82-d0dc0c0e7d8e, 47, 66, Finished, Available)"
            ]
          },
          "metadata": {},
          "output_type": "display_data"
        },
        {
          "data": {
            "text/plain": [
              "<matplotlib.legend.Legend at 0x7fc5852b7460>"
            ]
          },
          "execution_count": 131,
          "metadata": {},
          "output_type": "execute_result"
        },
        {
          "data": {
            "image/png": "[encoded data removed]",
            "text/plain": [
              "<Figure size 936x432 with 1 Axes>"
            ]
          },
          "metadata": {
            "needs_background": "light"
          },
          "output_type": "display_data"
        }
      ],
      "source": [
        "plt.figure(figsize = (13,6))\n",
        "plt.plot(sentiment_comments_kansas_pcount_2021_pd['week'], sentiment_comments_kansas_pcount_2021_pd['count'], label = 'Positive Sentiment Counts', marker = 'o')\n",
        "plt.plot(kansas_ranking_2021['week'], kansas_ranking_2021['rank'], label = 'Rank', marker = 'o')\n",
        "plt.xlabel('Week')\n",
        "plt.ylabel('Count')\n",
        "plt.title('Relationship between Rank and Positive Sentiment Counts in 2021')\n",
        "plt.legend()"
      ]
    },
    {
      "cell_type": "markdown",
      "metadata": {
        "nteract": {
          "transient": {
            "deleting": false
          }
        }
      },
      "source": [
        "From the first figure, we can see that at the beginning of this basketball season there are lots of positive comments in the 'Kansas' subreddit. The Kansas team must have lots of fans. However, we can't tell there are much relationship between the counts of positive comments and the ranking of the team in 2021."
      ]
    },
    {
      "cell_type": "code",
      "execution_count": 62,
      "metadata": {
        "gather": {
          "logged": 1700455030841
        },
        "jupyter": {
          "outputs_hidden": false,
          "source_hidden": false
        },
        "nteract": {
          "transient": {
            "deleting": false
          }
        }
      },
      "outputs": [
        {
          "data": {
            "application/vnd.livy.statement-meta+json": {
              "execution_finish_time": "2023-11-20T04:37:10.6673088Z",
              "execution_start_time": "2023-11-20T04:37:09.8671207Z",
              "livy_statement_state": "available",
              "parent_msg_id": "dea47bf4-2cd3-4c92-9ce9-090f28a54c6b",
              "queued_time": "2023-11-20T04:37:09.6059256Z",
              "session_id": "47",
              "session_start_time": null,
              "spark_jobs": {
                "jobs": [],
                "limit": 20,
                "numbers": {
                  "FAILED": 0,
                  "RUNNING": 0,
                  "SUCCEEDED": 0,
                  "UNKNOWN": 0
                },
                "rule": "ALL_DESC"
              },
              "spark_pool": "7c27951d-2bdf-4140-be82-d0dc0c0e7d8e",
              "state": "finished",
              "statement_id": 65
            },
            "text/plain": [
              "StatementMeta(7c27951d-2bdf-4140-be82-d0dc0c0e7d8e, 47, 65, Finished, Available)"
            ]
          },
          "metadata": {},
          "output_type": "display_data"
        },
        {
          "data": {
            "text/plain": [
              "<matplotlib.legend.Legend at 0x7fc5859f6a60>"
            ]
          },
          "execution_count": 129,
          "metadata": {},
          "output_type": "execute_result"
        },
        {
          "data": {
            "image/png": "[encoded data removed]",
            "text/plain": [
              "<Figure size 936x432 with 1 Axes>"
            ]
          },
          "metadata": {
            "needs_background": "light"
          },
          "output_type": "display_data"
        }
      ],
      "source": [
        "plt.figure(figsize = (13,6))\n",
        "plt.plot(sentiment_comments_kansas_pcount_2022_pd['week'], sentiment_comments_kansas_pcount_2022_pd['count'], label = 'Positive Sentiment Counts', marker = 'o')\n",
        "plt.plot(kansas_ranking_2022['week'], kansas_ranking_2022['rank'], label = 'Rank', marker = 'o')\n",
        "plt.xlabel('Week')\n",
        "plt.ylabel('Count')\n",
        "plt.title('Relationship between Rank and Positive Sentiment Counts in 2022')\n",
        "plt.legend()"
      ]
    },
    {
      "cell_type": "markdown",
      "metadata": {
        "nteract": {
          "transient": {
            "deleting": false
          }
        }
      },
      "source": [
        "Similarly, let's focus on the blue line about positive sentiment counts. The blue line goes up and down and finally the number of positive comments increases drastically. We know that Kansas won in the end so that must be people cheering the success of Kansas in the 'jayhawks' subreddit."
      ]
    },
    {
      "cell_type": "markdown",
      "metadata": {
        "nteract": {
          "transient": {
            "deleting": false
          }
        }
      },
      "source": [
        "In the end, we are not so sure of the relationship between the comments sentiment and the performance of the team. Actually, if a team does not do so well in a game, the fans can cheer them up, say positive words and be patient about it, but the fans can also get frustrated. It is hard to determine the reaction of the fans."
      ]
    },
    {
      "cell_type": "code",
      "execution_count": null,
      "metadata": {
        "jupyter": {
          "outputs_hidden": false,
          "source_hidden": false
        },
        "nteract": {
          "transient": {
            "deleting": false
          }
        }
      },
      "outputs": [],
      "source": [
        "# sentiment_comments_kansas_pcount_2021_pd\n",
        "# sentiment_comments_kansas_pcount_2022_pd\n",
        "# sentiment_comments_unc_pcount_2021_pd\n",
        "# sentiment_comments_unc_pcount_2022_pd\n",
        "# kansas_ranking_2021\n",
        "# kansas_ranking_2022"
      ]
    }
  ],
  "metadata": {
    "kernel_info": {
      "name": "synapse_pyspark"
    },
    "kernelspec": {
      "display_name": "Synapse PySpark",
      "language": "Python",
      "name": "synapse_pyspark"
    },
    "language_info": {
      "codemirror_mode": "ipython",
      "file_extension": ".py",
      "mimetype": "text/x-python",
      "name": "python",
      "nbconvert_exporter": "python",
      "pygments_lexer": "ipython",
      "version": "3.8.0"
    },
    "microsoft": {
      "host": {
        "AzureML": {
          "notebookHasBeenCompleted": true
        }
      },
      "ms_spell_check": {
        "ms_spell_check_language": "en"
      }
    },
    "nteract": {
      "version": "nteract-front-end@1.0.0"
    }
  },
  "nbformat": 4,
  "nbformat_minor": 2
}

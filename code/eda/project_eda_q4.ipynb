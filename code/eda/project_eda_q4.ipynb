{
  "cells": [
    {
      "cell_type": "markdown",
      "metadata": {
        "nteract": {
          "transient": {
            "deleting": false
          }
        }
      },
      "source": [
        "## EDA Q4"
      ]
    },
    {
      "cell_type": "markdown",
      "metadata": {
        "nteract": {
          "transient": {
            "deleting": false
          }
        }
      },
      "source": [
        "**Business Goal 4:** Identify the teams that have the most engagement on the main college basketball subreddit.  \n",
        "**Technical Proposal:** Use grouping and sorting algorithms to find which college basketball teams are the most mentioned teams. Using key word searches we can identify mentions of these teams. Identify if these mentions ebb or flow over the course of the season."
      ]
    },
    {
      "cell_type": "markdown",
      "metadata": {
        "nteract": {
          "transient": {
            "deleting": false
          }
        }
      },
      "source": [
        "### Setting up spark"
      ]
    },
    {
      "cell_type": "code",
      "execution_count": 1,
      "metadata": {
        "gather": {
          "logged": 1699631356540
        }
      },
      "outputs": [
        {
          "data": {
            "application/vnd.livy.statement-meta+json": {
              "execution_finish_time": "2023-11-10T15:49:16.0979799Z",
              "execution_start_time": "2023-11-10T15:49:13.0900196Z",
              "livy_statement_state": "available",
              "parent_msg_id": "018e0017-c03b-46f5-ad22-9c30ce3c0bcf",
              "queued_time": "2023-11-10T15:45:55.2134699Z",
              "session_id": "36",
              "session_start_time": "2023-11-10T15:45:55.2650392Z",
              "spark_jobs": {
                "jobs": [],
                "limit": 20,
                "numbers": {
                  "FAILED": 0,
                  "RUNNING": 0,
                  "SUCCEEDED": 0,
                  "UNKNOWN": 0
                },
                "rule": "ALL_DESC"
              },
              "spark_pool": "7c27951d-2bdf-4140-be82-d0dc0c0e7d8e",
              "state": "finished",
              "statement_id": 6
            },
            "text/plain": [
              "StatementMeta(7c27951d-2bdf-4140-be82-d0dc0c0e7d8e, 36, 6, Finished, Available)"
            ]
          },
          "metadata": {},
          "output_type": "display_data"
        },
        {
          "data": {
            "text/html": [
              "\n",
              "            <div>\n",
              "                <p><b>SparkSession - hive</b></p>\n",
              "                \n",
              "        <div>\n",
              "            <p><b>SparkContext</b></p>\n",
              "\n",
              "            <p><a href=\"http://vm-d8666078:41303\">Spark UI</a></p>\n",
              "\n",
              "            <dl>\n",
              "              <dt>Version</dt>\n",
              "                <dd><code>v3.2.2.5.1-100879434</code></dd>\n",
              "              <dt>Master</dt>\n",
              "                <dd><code>yarn</code></dd>\n",
              "              <dt>AppName</dt>\n",
              "                <dd><code>Azure ML Experiment</code></dd>\n",
              "            </dl>\n",
              "        </div>\n",
              "        \n",
              "            </div>\n",
              "        "
            ],
            "text/plain": [
              "<pyspark.sql.session.SparkSession at 0x7fa004d20a60>"
            ]
          },
          "execution_count": 11,
          "metadata": {},
          "output_type": "execute_result"
        }
      ],
      "source": [
        "spark"
      ]
    },
    {
      "cell_type": "markdown",
      "metadata": {
        "nteract": {
          "transient": {
            "deleting": false
          }
        }
      },
      "source": [
        "### Loading Intermediate Data"
      ]
    },
    {
      "cell_type": "code",
      "execution_count": 4,
      "metadata": {
        "gather": {
          "logged": 1699632315610
        },
        "jupyter": {
          "outputs_hidden": false,
          "source_hidden": false
        },
        "nteract": {
          "transient": {
            "deleting": false
          }
        }
      },
      "outputs": [
        {
          "data": {
            "application/vnd.livy.statement-meta+json": {
              "execution_finish_time": "2023-11-10T16:05:15.4225402Z",
              "execution_start_time": "2023-11-10T16:05:15.1251714Z",
              "livy_statement_state": "available",
              "parent_msg_id": "2c33f655-08b6-4dba-b7c3-44cfd4fb2df4",
              "queued_time": "2023-11-10T16:05:14.9734556Z",
              "session_id": "37",
              "session_start_time": null,
              "spark_jobs": {
                "jobs": [],
                "limit": 20,
                "numbers": {
                  "FAILED": 0,
                  "RUNNING": 0,
                  "SUCCEEDED": 0,
                  "UNKNOWN": 0
                },
                "rule": "ALL_DESC"
              },
              "spark_pool": "7c27951d-2bdf-4140-be82-d0dc0c0e7d8e",
              "state": "finished",
              "statement_id": 9
            },
            "text/plain": [
              "StatementMeta(7c27951d-2bdf-4140-be82-d0dc0c0e7d8e, 37, 9, Finished, Available)"
            ]
          },
          "metadata": {},
          "output_type": "display_data"
        }
      ],
      "source": [
        "workspace_default_storage_account = \"aml6214727930\"\n",
        "workspace_default_container = \"azureml-blobstore-6653633b-3460-4381-9199-d9e0f368353c\"\n",
        "\n",
        "workspace_wasbs_base_url = (\n",
        "    f\"wasbs://{workspace_default_container}@{workspace_default_storage_account}.blob.core.windows.net/\"\n",
        ")"
      ]
    },
    {
      "cell_type": "code",
      "execution_count": 5,
      "metadata": {
        "gather": {
          "logged": 1699632330529
        },
        "jupyter": {
          "outputs_hidden": false,
          "source_hidden": false
        },
        "nteract": {
          "transient": {
            "deleting": false
          }
        }
      },
      "outputs": [
        {
          "data": {
            "application/vnd.livy.statement-meta+json": {
              "execution_finish_time": "2023-11-10T16:05:30.2612899Z",
              "execution_start_time": "2023-11-10T16:05:18.1008518Z",
              "livy_statement_state": "available",
              "parent_msg_id": "8e0275bc-431f-44e9-bc1d-c4ac8a87cd1a",
              "queued_time": "2023-11-10T16:05:17.8621044Z",
              "session_id": "37",
              "session_start_time": null,
              "spark_jobs": {
                "jobs": [
                  {
                    "completionTime": "2023-11-10T16:05:28.139GMT",
                    "dataRead": 0,
                    "dataWritten": 0,
                    "description": "Job group for statement 10:\n#datastore = 'azureml://datastores/workspaceblobstore/paths'\ncomments_path = \"/basketball_comments_sep.parquet\"\nsubmissions_path = \"/basketball_submissions_sep.parquet\"\n\ncomments = spark.read.parquet(f\"{workspace_wasbs_base_url}{comments_path}\")\nsubmissions = spark.read.parquet(f\"{workspace_wasbs_base_url}{submissions_path}\")",
                    "displayName": "parquet at NativeMethodAccessorImpl.java:0",
                    "jobGroup": "10",
                    "jobId": 1,
                    "killedTasksSummary": {},
                    "name": "parquet at NativeMethodAccessorImpl.java:0",
                    "numActiveStages": 0,
                    "numActiveTasks": 0,
                    "numCompletedIndices": 1,
                    "numCompletedStages": 1,
                    "numCompletedTasks": 1,
                    "numFailedStages": 0,
                    "numFailedTasks": 0,
                    "numKilledTasks": 0,
                    "numSkippedStages": 0,
                    "numSkippedTasks": 0,
                    "numTasks": 1,
                    "rowCount": 0,
                    "stageIds": [
                      1
                    ],
                    "status": "SUCCEEDED",
                    "submissionTime": "2023-11-10T16:05:27.931GMT",
                    "usageDescription": ""
                  },
                  {
                    "completionTime": "2023-11-10T16:05:24.986GMT",
                    "dataRead": 0,
                    "dataWritten": 0,
                    "description": "Job group for statement 10:\n#datastore = 'azureml://datastores/workspaceblobstore/paths'\ncomments_path = \"/basketball_comments_sep.parquet\"\nsubmissions_path = \"/basketball_submissions_sep.parquet\"\n\ncomments = spark.read.parquet(f\"{workspace_wasbs_base_url}{comments_path}\")\nsubmissions = spark.read.parquet(f\"{workspace_wasbs_base_url}{submissions_path}\")",
                    "displayName": "parquet at NativeMethodAccessorImpl.java:0",
                    "jobGroup": "10",
                    "jobId": 0,
                    "killedTasksSummary": {},
                    "name": "parquet at NativeMethodAccessorImpl.java:0",
                    "numActiveStages": 0,
                    "numActiveTasks": 0,
                    "numCompletedIndices": 1,
                    "numCompletedStages": 1,
                    "numCompletedTasks": 1,
                    "numFailedStages": 0,
                    "numFailedTasks": 0,
                    "numKilledTasks": 0,
                    "numSkippedStages": 0,
                    "numSkippedTasks": 0,
                    "numTasks": 1,
                    "rowCount": 0,
                    "stageIds": [
                      0
                    ],
                    "status": "SUCCEEDED",
                    "submissionTime": "2023-11-10T16:05:21.495GMT",
                    "usageDescription": ""
                  }
                ],
                "limit": 20,
                "numbers": {
                  "FAILED": 0,
                  "RUNNING": 0,
                  "SUCCEEDED": 2,
                  "UNKNOWN": 0
                },
                "rule": "ALL_DESC"
              },
              "spark_pool": "7c27951d-2bdf-4140-be82-d0dc0c0e7d8e",
              "state": "finished",
              "statement_id": 10
            },
            "text/plain": [
              "StatementMeta(7c27951d-2bdf-4140-be82-d0dc0c0e7d8e, 37, 10, Finished, Available)"
            ]
          },
          "metadata": {},
          "output_type": "display_data"
        }
      ],
      "source": [
        "#datastore = 'azureml://datastores/workspaceblobstore/paths'\n",
        "comments_path = \"/basketball_comments_sep.parquet\"\n",
        "submissions_path = \"/basketball_submissions_sep.parquet\"\n",
        "\n",
        "comments = spark.read.parquet(f\"{workspace_wasbs_base_url}{comments_path}\")\n",
        "submissions = spark.read.parquet(f\"{workspace_wasbs_base_url}{submissions_path}\")"
      ]
    },
    {
      "cell_type": "markdown",
      "metadata": {
        "nteract": {
          "transient": {
            "deleting": false
          }
        }
      },
      "source": [
        "### Data Cleaning"
      ]
    },
    {
      "cell_type": "code",
      "execution_count": 6,
      "metadata": {
        "gather": {
          "logged": 1699632357620
        },
        "jupyter": {
          "outputs_hidden": false,
          "source_hidden": false
        },
        "nteract": {
          "transient": {
            "deleting": false
          }
        }
      },
      "outputs": [
        {
          "data": {
            "application/vnd.livy.statement-meta+json": {
              "execution_finish_time": "2023-11-10T16:05:57.3995858Z",
              "execution_start_time": "2023-11-10T16:05:56.5757762Z",
              "livy_statement_state": "available",
              "parent_msg_id": "83a547e6-cd9a-47a7-b0da-b3cd9b5442db",
              "queued_time": "2023-11-10T16:05:56.3590606Z",
              "session_id": "37",
              "session_start_time": null,
              "spark_jobs": {
                "jobs": [],
                "limit": 20,
                "numbers": {
                  "FAILED": 0,
                  "RUNNING": 0,
                  "SUCCEEDED": 0,
                  "UNKNOWN": 0
                },
                "rule": "ALL_DESC"
              },
              "spark_pool": "7c27951d-2bdf-4140-be82-d0dc0c0e7d8e",
              "state": "finished",
              "statement_id": 11
            },
            "text/plain": [
              "StatementMeta(7c27951d-2bdf-4140-be82-d0dc0c0e7d8e, 37, 11, Finished, Available)"
            ]
          },
          "metadata": {},
          "output_type": "display_data"
        }
      ],
      "source": [
        "submissions = submissions.cache()\n",
        "comments = comments.cache()"
      ]
    },
    {
      "cell_type": "code",
      "execution_count": 7,
      "metadata": {
        "gather": {
          "logged": 1699632360905
        },
        "jupyter": {
          "outputs_hidden": false,
          "source_hidden": false
        },
        "nteract": {
          "transient": {
            "deleting": false
          }
        }
      },
      "outputs": [
        {
          "data": {
            "application/vnd.livy.statement-meta+json": {
              "execution_finish_time": "2023-11-10T16:06:00.7317195Z",
              "execution_start_time": "2023-11-10T16:05:59.9043579Z",
              "livy_statement_state": "available",
              "parent_msg_id": "a537901a-ac50-4807-84da-9f55b7ecc68e",
              "queued_time": "2023-11-10T16:05:59.7539597Z",
              "session_id": "37",
              "session_start_time": null,
              "spark_jobs": {
                "jobs": [],
                "limit": 20,
                "numbers": {
                  "FAILED": 0,
                  "RUNNING": 0,
                  "SUCCEEDED": 0,
                  "UNKNOWN": 0
                },
                "rule": "ALL_DESC"
              },
              "spark_pool": "7c27951d-2bdf-4140-be82-d0dc0c0e7d8e",
              "state": "finished",
              "statement_id": 12
            },
            "text/plain": [
              "StatementMeta(7c27951d-2bdf-4140-be82-d0dc0c0e7d8e, 37, 12, Finished, Available)"
            ]
          },
          "metadata": {},
          "output_type": "display_data"
        }
      ],
      "source": [
        "submissions = submissions.filter((submissions.selftext != \"\") & (submissions.selftext != \"[deleted]\")& (submissions.selftext != \"[removed]\"))\n",
        "\n",
        "comments = comments.filter(comments.body != \"\")"
      ]
    },
    {
      "cell_type": "markdown",
      "metadata": {},
      "source": [
        "Foe this question, we mainly focus on the r/CollegeBasketball subreddit. "
      ]
    },
    {
      "cell_type": "code",
      "execution_count": 8,
      "metadata": {
        "gather": {
          "logged": 1699632364794
        },
        "jupyter": {
          "outputs_hidden": false,
          "source_hidden": false
        },
        "nteract": {
          "transient": {
            "deleting": false
          }
        }
      },
      "outputs": [
        {
          "data": {
            "application/vnd.livy.statement-meta+json": {
              "execution_finish_time": "2023-11-10T16:06:04.607644Z",
              "execution_start_time": "2023-11-10T16:06:03.8230385Z",
              "livy_statement_state": "available",
              "parent_msg_id": "0e916288-66d4-42ce-b186-0b693ea82383",
              "queued_time": "2023-11-10T16:06:03.6709174Z",
              "session_id": "37",
              "session_start_time": null,
              "spark_jobs": {
                "jobs": [],
                "limit": 20,
                "numbers": {
                  "FAILED": 0,
                  "RUNNING": 0,
                  "SUCCEEDED": 0,
                  "UNKNOWN": 0
                },
                "rule": "ALL_DESC"
              },
              "spark_pool": "7c27951d-2bdf-4140-be82-d0dc0c0e7d8e",
              "state": "finished",
              "statement_id": 13
            },
            "text/plain": [
              "StatementMeta(7c27951d-2bdf-4140-be82-d0dc0c0e7d8e, 37, 13, Finished, Available)"
            ]
          },
          "metadata": {},
          "output_type": "display_data"
        }
      ],
      "source": [
        "from pyspark.sql.functions import col\n",
        "\n",
        "submissions = submissions.select(\"subreddit\", \"author\", \"title\", \"selftext\", \"created_utc\", \"num_comments\").filter(col(\"subreddit\") == \"CollegeBasketball\")\n",
        "\n",
        "comments = comments.select(\"subreddit\", \"author\", \"body\", \"parent_id\", \"created_utc\").filter(col(\"subreddit\") == \"CollegeBasketball\")"
      ]
    },
    {
      "cell_type": "code",
      "execution_count": 13,
      "metadata": {
        "gather": {
          "logged": 1699283325831
        },
        "jupyter": {
          "outputs_hidden": false,
          "source_hidden": false
        },
        "nteract": {
          "transient": {
            "deleting": false
          }
        }
      },
      "outputs": [
        {
          "data": {
            "application/vnd.livy.statement-meta+json": {
              "execution_finish_time": "2023-11-06T15:08:45.5497529Z",
              "execution_start_time": "2023-11-06T15:08:44.5863177Z",
              "livy_statement_state": "available",
              "parent_msg_id": "7c9af98a-1d2b-4ba6-8646-aae440917c3d",
              "queued_time": "2023-11-06T15:08:44.3935758Z",
              "session_id": "23",
              "session_start_time": null,
              "spark_jobs": {
                "jobs": [
                  {
                    "completionTime": "2023-11-06T15:08:45.179GMT",
                    "dataRead": 3769,
                    "dataWritten": 0,
                    "description": "Job group for statement 18:\nsubmissions.count()",
                    "displayName": "count at NativeMethodAccessorImpl.java:0",
                    "jobGroup": "18",
                    "jobId": 11,
                    "killedTasksSummary": {},
                    "name": "count at NativeMethodAccessorImpl.java:0",
                    "numActiveStages": 0,
                    "numActiveTasks": 0,
                    "numCompletedIndices": 1,
                    "numCompletedStages": 1,
                    "numCompletedTasks": 1,
                    "numFailedStages": 0,
                    "numFailedTasks": 0,
                    "numKilledTasks": 0,
                    "numSkippedStages": 1,
                    "numSkippedTasks": 64,
                    "numTasks": 65,
                    "rowCount": 64,
                    "stageIds": [
                      13,
                      14
                    ],
                    "status": "SUCCEEDED",
                    "submissionTime": "2023-11-06T15:08:45.068GMT",
                    "usageDescription": ""
                  },
                  {
                    "completionTime": "2023-11-06T15:08:45.032GMT",
                    "dataRead": 14033664,
                    "dataWritten": 3769,
                    "description": "Job group for statement 18:\nsubmissions.count()",
                    "displayName": "count at NativeMethodAccessorImpl.java:0",
                    "jobGroup": "18",
                    "jobId": 10,
                    "killedTasksSummary": {},
                    "name": "count at NativeMethodAccessorImpl.java:0",
                    "numActiveStages": 0,
                    "numActiveTasks": 0,
                    "numCompletedIndices": 64,
                    "numCompletedStages": 1,
                    "numCompletedTasks": 64,
                    "numFailedStages": 0,
                    "numFailedTasks": 0,
                    "numKilledTasks": 0,
                    "numSkippedStages": 0,
                    "numSkippedTasks": 0,
                    "numTasks": 64,
                    "rowCount": 128,
                    "stageIds": [
                      12
                    ],
                    "status": "SUCCEEDED",
                    "submissionTime": "2023-11-06T15:08:44.669GMT",
                    "usageDescription": ""
                  }
                ],
                "limit": 20,
                "numbers": {
                  "FAILED": 0,
                  "RUNNING": 0,
                  "SUCCEEDED": 2,
                  "UNKNOWN": 0
                },
                "rule": "ALL_DESC"
              },
              "spark_pool": "7c27951d-2bdf-4140-be82-d0dc0c0e7d8e",
              "state": "finished",
              "statement_id": 18
            },
            "text/plain": [
              "StatementMeta(7c27951d-2bdf-4140-be82-d0dc0c0e7d8e, 23, 18, Finished, Available)"
            ]
          },
          "metadata": {},
          "output_type": "display_data"
        },
        {
          "data": {
            "text/plain": [
              "9567"
            ]
          },
          "execution_count": 35,
          "metadata": {},
          "output_type": "execute_result"
        }
      ],
      "source": [
        "submissions.count()"
      ]
    },
    {
      "cell_type": "code",
      "execution_count": 14,
      "metadata": {
        "gather": {
          "logged": 1699283335399
        },
        "jupyter": {
          "outputs_hidden": false,
          "source_hidden": false
        },
        "nteract": {
          "transient": {
            "deleting": false
          }
        }
      },
      "outputs": [
        {
          "data": {
            "application/vnd.livy.statement-meta+json": {
              "execution_finish_time": "2023-11-06T15:08:55.1589323Z",
              "execution_start_time": "2023-11-06T15:08:53.4103833Z",
              "livy_statement_state": "available",
              "parent_msg_id": "2cba07b2-95f6-4d08-bed2-322dcf67d6ae",
              "queued_time": "2023-11-06T15:08:53.181391Z",
              "session_id": "23",
              "session_start_time": null,
              "spark_jobs": {
                "jobs": [
                  {
                    "completionTime": "2023-11-06T15:08:54.429GMT",
                    "dataRead": 10737,
                    "dataWritten": 0,
                    "description": "Job group for statement 19:\ncomments.count()",
                    "displayName": "count at NativeMethodAccessorImpl.java:0",
                    "jobGroup": "19",
                    "jobId": 13,
                    "killedTasksSummary": {},
                    "name": "count at NativeMethodAccessorImpl.java:0",
                    "numActiveStages": 0,
                    "numActiveTasks": 0,
                    "numCompletedIndices": 1,
                    "numCompletedStages": 1,
                    "numCompletedTasks": 1,
                    "numFailedStages": 0,
                    "numFailedTasks": 0,
                    "numKilledTasks": 0,
                    "numSkippedStages": 1,
                    "numSkippedTasks": 182,
                    "numTasks": 183,
                    "rowCount": 182,
                    "stageIds": [
                      16,
                      17
                    ],
                    "status": "SUCCEEDED",
                    "submissionTime": "2023-11-06T15:08:54.334GMT",
                    "usageDescription": ""
                  },
                  {
                    "completionTime": "2023-11-06T15:08:54.297GMT",
                    "dataRead": 220865831,
                    "dataWritten": 10737,
                    "description": "Job group for statement 19:\ncomments.count()",
                    "displayName": "count at NativeMethodAccessorImpl.java:0",
                    "jobGroup": "19",
                    "jobId": 12,
                    "killedTasksSummary": {},
                    "name": "count at NativeMethodAccessorImpl.java:0",
                    "numActiveStages": 0,
                    "numActiveTasks": 0,
                    "numCompletedIndices": 182,
                    "numCompletedStages": 1,
                    "numCompletedTasks": 182,
                    "numFailedStages": 0,
                    "numFailedTasks": 0,
                    "numKilledTasks": 0,
                    "numSkippedStages": 0,
                    "numSkippedTasks": 0,
                    "numTasks": 182,
                    "rowCount": 457,
                    "stageIds": [
                      15
                    ],
                    "status": "SUCCEEDED",
                    "submissionTime": "2023-11-06T15:08:53.450GMT",
                    "usageDescription": ""
                  }
                ],
                "limit": 20,
                "numbers": {
                  "FAILED": 0,
                  "RUNNING": 0,
                  "SUCCEEDED": 2,
                  "UNKNOWN": 0
                },
                "rule": "ALL_DESC"
              },
              "spark_pool": "7c27951d-2bdf-4140-be82-d0dc0c0e7d8e",
              "state": "finished",
              "statement_id": 19
            },
            "text/plain": [
              "StatementMeta(7c27951d-2bdf-4140-be82-d0dc0c0e7d8e, 23, 19, Finished, Available)"
            ]
          },
          "metadata": {},
          "output_type": "display_data"
        },
        {
          "data": {
            "text/plain": [
              "1567798"
            ]
          },
          "execution_count": 37,
          "metadata": {},
          "output_type": "execute_result"
        }
      ],
      "source": [
        "comments.count()"
      ]
    },
    {
      "cell_type": "markdown",
      "metadata": {
        "nteract": {
          "transient": {
            "deleting": false
          }
        }
      },
      "source": [
        "### Team Mentions of Submissions and Comments in `r/CollegeBasketball`"
      ]
    },
    {
      "cell_type": "markdown",
      "metadata": {},
      "source": [
        "To commence our analysis of the 2022 basketball tournament, it's crucial to identify key teams for detailed study. Among the 68 participating teams, our focus will be on the **Elite 8**. These teams, namely Houston, Kansas, Villanova, Duke, Arkansas, Saint Peter's, North Carolina, and Miami, not only excelled in the tournament but also garnered significant audience interest, as per the 2022 DI Men's Basketball Championship Official Bracket (https://www.ncaa.com/brackets/basketball-men/d1/2022). Additionally, incorporating insights from `author_flair_text` analysis, we included Purdue and Illinois, two teams that enjoyed considerable support, to broaden our scope."
      ]
    },
    {
      "cell_type": "markdown",
      "metadata": {},
      "source": [
        "To begin our examination of engagement levels in submissions and comments associated with each team, it's essential to develop a comprehensive keyword dictionary. This resource will facilitate precise analysis by identifying content related to the teams in focus. The dictionary will encompass various identifiers for each team, including official team names, popular nicknames, abbreviations, and other relevant terms. This approach ensures a thorough and accurate assessment of team-specific engagement."
      ]
    },
    {
      "cell_type": "code",
      "execution_count": 9,
      "metadata": {
        "gather": {
          "logged": 1699632372130
        },
        "jupyter": {
          "outputs_hidden": false,
          "source_hidden": false
        },
        "nteract": {
          "transient": {
            "deleting": false
          }
        }
      },
      "outputs": [
        {
          "data": {
            "application/vnd.livy.statement-meta+json": {
              "execution_finish_time": "2023-11-10T16:06:11.9113289Z",
              "execution_start_time": "2023-11-10T16:06:11.6150024Z",
              "livy_statement_state": "available",
              "parent_msg_id": "87c3cb50-815e-44d7-ad4f-f2d176fb9029",
              "queued_time": "2023-11-10T16:06:10.9913564Z",
              "session_id": "37",
              "session_start_time": null,
              "spark_jobs": {
                "jobs": [],
                "limit": 20,
                "numbers": {
                  "FAILED": 0,
                  "RUNNING": 0,
                  "SUCCEEDED": 0,
                  "UNKNOWN": 0
                },
                "rule": "ALL_DESC"
              },
              "spark_pool": "7c27951d-2bdf-4140-be82-d0dc0c0e7d8e",
              "state": "finished",
              "statement_id": 14
            },
            "text/plain": [
              "StatementMeta(7c27951d-2bdf-4140-be82-d0dc0c0e7d8e, 37, 14, Finished, Available)"
            ]
          },
          "metadata": {},
          "output_type": "display_data"
        }
      ],
      "source": [
        "# Define a dictionary of teams and associated keywords\n",
        "team_keywords = {\n",
        "    'houston': ['houston', 'cougars', 'uh', 'uh cougars'],\n",
        "    'kansas': ['kansas', 'jayhawks', 'ku', 'rock chalk', 'ku jayhawks'],\n",
        "    'villanova': ['villanova', 'wildcats', 'nova', 'villanova wildcats'],\n",
        "    'duke': ['duke', 'blue devils', 'duke blue devils'],\n",
        "    'arkansas': ['arkansas', 'razorbacks', 'hogs', 'u of a', 'arkansas razorbacks'],\n",
        "    'saint peters': [\"saint peter's\", 'peacocks', \"saint peter's peacocks\", 'saint peters', \"st. peter's\", 'st peters', 'spu'],\n",
        "    'north carolina': ['north carolina', 'tar heels', 'unc', 'unc tar heels'],\n",
        "    'miami': ['miami', 'hurricanes', 'um', 'miami hurricanes'],\n",
        "    'purdue': ['purdue', 'boilermakers', 'purdue boilermakers', 'pu'],\n",
        "    'illinois': ['illinois', 'fighting illini', 'illini', 'u of i', 'university of illinois']\n",
        "}\n"
      ]
    },
    {
      "cell_type": "code",
      "execution_count": 10,
      "metadata": {
        "gather": {
          "logged": 1699632375152
        },
        "jupyter": {
          "outputs_hidden": false,
          "source_hidden": false
        },
        "nteract": {
          "transient": {
            "deleting": false
          }
        }
      },
      "outputs": [
        {
          "data": {
            "application/vnd.livy.statement-meta+json": {
              "execution_finish_time": "2023-11-10T16:06:14.8730745Z",
              "execution_start_time": "2023-11-10T16:06:14.5835947Z",
              "livy_statement_state": "available",
              "parent_msg_id": "d20334b7-df1e-45bf-b89f-014b2f7290db",
              "queued_time": "2023-11-10T16:06:14.4042353Z",
              "session_id": "37",
              "session_start_time": null,
              "spark_jobs": {
                "jobs": [],
                "limit": 20,
                "numbers": {
                  "FAILED": 0,
                  "RUNNING": 0,
                  "SUCCEEDED": 0,
                  "UNKNOWN": 0
                },
                "rule": "ALL_DESC"
              },
              "spark_pool": "7c27951d-2bdf-4140-be82-d0dc0c0e7d8e",
              "state": "finished",
              "statement_id": 15
            },
            "text/plain": [
              "StatementMeta(7c27951d-2bdf-4140-be82-d0dc0c0e7d8e, 37, 15, Finished, Available)"
            ]
          },
          "metadata": {},
          "output_type": "display_data"
        }
      ],
      "source": [
        "from pyspark.sql.functions import lower\n",
        "\n",
        "# Lowercase the text fields for uniformity\n",
        "comments = comments.withColumn('body', lower(col('body')))\n",
        "submissions = submissions.withColumn('title', lower(col('title')))\\\n",
        "                         .withColumn('selftext', lower(col('selftext')))"
      ]
    },
    {
      "cell_type": "code",
      "execution_count": 11,
      "metadata": {
        "gather": {
          "logged": 1699632377793
        },
        "jupyter": {
          "outputs_hidden": false,
          "source_hidden": false
        },
        "nteract": {
          "transient": {
            "deleting": false
          }
        }
      },
      "outputs": [
        {
          "data": {
            "application/vnd.livy.statement-meta+json": {
              "execution_finish_time": "2023-11-10T16:06:17.5064436Z",
              "execution_start_time": "2023-11-10T16:06:17.2143851Z",
              "livy_statement_state": "available",
              "parent_msg_id": "1ead84cb-e611-4c65-94ad-8345911757d9",
              "queued_time": "2023-11-10T16:06:17.0271149Z",
              "session_id": "37",
              "session_start_time": null,
              "spark_jobs": {
                "jobs": [],
                "limit": 20,
                "numbers": {
                  "FAILED": 0,
                  "RUNNING": 0,
                  "SUCCEEDED": 0,
                  "UNKNOWN": 0
                },
                "rule": "ALL_DESC"
              },
              "spark_pool": "7c27951d-2bdf-4140-be82-d0dc0c0e7d8e",
              "state": "finished",
              "statement_id": 16
            },
            "text/plain": [
              "StatementMeta(7c27951d-2bdf-4140-be82-d0dc0c0e7d8e, 37, 16, Finished, Available)"
            ]
          },
          "metadata": {},
          "output_type": "display_data"
        }
      ],
      "source": [
        "from pyspark.sql.functions import udf, lit, array\n",
        "from pyspark.sql.types import BooleanType\n",
        "\n",
        "# Define the UDF to check the existence of key words\n",
        "def keyword_present(text, keywords):\n",
        "    if text:\n",
        "        return any(keyword in text for keyword in keywords)\n",
        "    return False\n",
        "\n",
        "keyword_udf = udf(keyword_present, BooleanType())"
      ]
    },
    {
      "cell_type": "code",
      "execution_count": 12,
      "metadata": {
        "gather": {
          "logged": 1699632382554
        },
        "jupyter": {
          "outputs_hidden": false,
          "source_hidden": false
        },
        "nteract": {
          "transient": {
            "deleting": false
          }
        }
      },
      "outputs": [
        {
          "data": {
            "application/vnd.livy.statement-meta+json": {
              "execution_finish_time": "2023-11-10T16:06:22.3045456Z",
              "execution_start_time": "2023-11-10T16:06:20.7999698Z",
              "livy_statement_state": "available",
              "parent_msg_id": "e60a719c-f781-450f-a024-69a4cf883117",
              "queued_time": "2023-11-10T16:06:20.6630975Z",
              "session_id": "37",
              "session_start_time": null,
              "spark_jobs": {
                "jobs": [],
                "limit": 20,
                "numbers": {
                  "FAILED": 0,
                  "RUNNING": 0,
                  "SUCCEEDED": 0,
                  "UNKNOWN": 0
                },
                "rule": "ALL_DESC"
              },
              "spark_pool": "7c27951d-2bdf-4140-be82-d0dc0c0e7d8e",
              "state": "finished",
              "statement_id": 17
            },
            "text/plain": [
              "StatementMeta(7c27951d-2bdf-4140-be82-d0dc0c0e7d8e, 37, 17, Finished, Available)"
            ]
          },
          "metadata": {},
          "output_type": "display_data"
        }
      ],
      "source": [
        "# Apply the UDF\n",
        "for team, keywords in team_keywords.items():\n",
        "    submissions = submissions.withColumn(\n",
        "        team,\n",
        "        keyword_udf(col(\"title\"), array([lit(k) for k in keywords])) | keyword_udf(col(\"selftext\"), array([lit(k) for k in keywords]))\n",
        "    )\n",
        "    comments = comments.withColumn(\n",
        "        team, \n",
        "        keyword_udf(col(\"body\"), array([lit(k) for k in keywords]))\n",
        "    )"
      ]
    },
    {
      "cell_type": "code",
      "execution_count": 11,
      "metadata": {
        "gather": {
          "logged": 1699631520178
        },
        "jupyter": {
          "outputs_hidden": false,
          "source_hidden": false
        },
        "nteract": {
          "transient": {
            "deleting": false
          }
        }
      },
      "outputs": [
        {
          "data": {
            "application/vnd.livy.statement-meta+json": {
              "execution_finish_time": "2023-11-10T15:51:59.9487803Z",
              "execution_start_time": "2023-11-10T15:51:59.6615084Z",
              "livy_statement_state": "available",
              "parent_msg_id": "d38c87ab-21cb-4777-a1f3-ba8609c54303",
              "queued_time": "2023-11-10T15:51:59.5291807Z",
              "session_id": "36",
              "session_start_time": null,
              "spark_jobs": {
                "jobs": [],
                "limit": 20,
                "numbers": {
                  "FAILED": 0,
                  "RUNNING": 0,
                  "SUCCEEDED": 0,
                  "UNKNOWN": 0
                },
                "rule": "ALL_DESC"
              },
              "spark_pool": "7c27951d-2bdf-4140-be82-d0dc0c0e7d8e",
              "state": "finished",
              "statement_id": 16
            },
            "text/plain": [
              "StatementMeta(7c27951d-2bdf-4140-be82-d0dc0c0e7d8e, 36, 16, Finished, Available)"
            ]
          },
          "metadata": {},
          "output_type": "display_data"
        },
        {
          "data": {
            "text/plain": [
              "<bound method DataFrame.printSchema of DataFrame[subreddit: string, author: string, title: string, selftext: string, created_utc: timestamp, num_comments: bigint, houston: boolean, kansas: boolean, villanova: boolean, duke: boolean, arkansas: boolean, saint peters: boolean, north carolina: boolean, miami: boolean, purdue: boolean, illinois: boolean]>"
            ]
          },
          "execution_count": 31,
          "metadata": {},
          "output_type": "execute_result"
        }
      ],
      "source": [
        "# Check\n",
        "submissions.printSchema"
      ]
    },
    {
      "cell_type": "code",
      "execution_count": 12,
      "metadata": {
        "gather": {
          "logged": 1699631524391
        },
        "jupyter": {
          "outputs_hidden": false,
          "source_hidden": false
        },
        "nteract": {
          "transient": {
            "deleting": false
          }
        }
      },
      "outputs": [
        {
          "data": {
            "application/vnd.livy.statement-meta+json": {
              "execution_finish_time": "2023-11-10T15:52:04.0720931Z",
              "execution_start_time": "2023-11-10T15:52:03.7905017Z",
              "livy_statement_state": "available",
              "parent_msg_id": "6c3b2433-6263-4ddc-bf82-c6f59b3a7baa",
              "queued_time": "2023-11-10T15:52:03.6535532Z",
              "session_id": "36",
              "session_start_time": null,
              "spark_jobs": {
                "jobs": [],
                "limit": 20,
                "numbers": {
                  "FAILED": 0,
                  "RUNNING": 0,
                  "SUCCEEDED": 0,
                  "UNKNOWN": 0
                },
                "rule": "ALL_DESC"
              },
              "spark_pool": "7c27951d-2bdf-4140-be82-d0dc0c0e7d8e",
              "state": "finished",
              "statement_id": 17
            },
            "text/plain": [
              "StatementMeta(7c27951d-2bdf-4140-be82-d0dc0c0e7d8e, 36, 17, Finished, Available)"
            ]
          },
          "metadata": {},
          "output_type": "display_data"
        },
        {
          "data": {
            "text/plain": [
              "<bound method DataFrame.printSchema of DataFrame[subreddit: string, author: string, body: string, parent_id: string, created_utc: timestamp, houston: boolean, kansas: boolean, villanova: boolean, duke: boolean, arkansas: boolean, saint peters: boolean, north carolina: boolean, miami: boolean, purdue: boolean, illinois: boolean]>"
            ]
          },
          "execution_count": 33,
          "metadata": {},
          "output_type": "execute_result"
        }
      ],
      "source": [
        "comments.printSchema"
      ]
    },
    {
      "cell_type": "code",
      "execution_count": 13,
      "metadata": {
        "gather": {
          "logged": 1699632386467
        },
        "jupyter": {
          "outputs_hidden": false,
          "source_hidden": false
        },
        "nteract": {
          "transient": {
            "deleting": false
          }
        }
      },
      "outputs": [
        {
          "data": {
            "application/vnd.livy.statement-meta+json": {
              "execution_finish_time": "2023-11-10T16:06:26.233537Z",
              "execution_start_time": "2023-11-10T16:06:25.4032153Z",
              "livy_statement_state": "available",
              "parent_msg_id": "48012b4a-8efd-4833-b423-4602c4394a07",
              "queued_time": "2023-11-10T16:06:25.2903591Z",
              "session_id": "37",
              "session_start_time": null,
              "spark_jobs": {
                "jobs": [],
                "limit": 20,
                "numbers": {
                  "FAILED": 0,
                  "RUNNING": 0,
                  "SUCCEEDED": 0,
                  "UNKNOWN": 0
                },
                "rule": "ALL_DESC"
              },
              "spark_pool": "7c27951d-2bdf-4140-be82-d0dc0c0e7d8e",
              "state": "finished",
              "statement_id": 18
            },
            "text/plain": [
              "StatementMeta(7c27951d-2bdf-4140-be82-d0dc0c0e7d8e, 37, 18, Finished, Available)"
            ]
          },
          "metadata": {},
          "output_type": "display_data"
        }
      ],
      "source": [
        "from pyspark.sql.functions import sum as sql_sum\n",
        "\n",
        "# Aggregate the counts for submissions\n",
        "submissions_counts = submissions.select([sql_sum(col(team).cast(\"int\")).alias(team) for team in team_keywords.keys()])\n",
        "\n",
        "# Aggregate the counts for comments\n",
        "comments_counts = comments.select([sql_sum(col(team).cast(\"int\")).alias(team) for team in team_keywords.keys()])"
      ]
    },
    {
      "cell_type": "markdown",
      "metadata": {},
      "source": [
        "Now that we have completed the group statistics of the number of mentions for these 8 teams, let’s check the results."
      ]
    },
    {
      "cell_type": "code",
      "execution_count": 15,
      "metadata": {
        "gather": {
          "logged": 1699631585852
        },
        "jupyter": {
          "outputs_hidden": false,
          "source_hidden": false
        },
        "nteract": {
          "transient": {
            "deleting": false
          }
        }
      },
      "outputs": [
        {
          "data": {
            "application/vnd.livy.statement-meta+json": {
              "execution_finish_time": "2023-11-10T15:53:05.6471272Z",
              "execution_start_time": "2023-11-10T15:52:52.6675898Z",
              "livy_statement_state": "available",
              "parent_msg_id": "3543148d-3e87-46e5-866f-e0ad611ee5c6",
              "queued_time": "2023-11-10T15:52:52.5549437Z",
              "session_id": "36",
              "session_start_time": null,
              "spark_jobs": {
                "jobs": [
                  {
                    "completionTime": "2023-11-10T15:53:04.417GMT",
                    "dataRead": 5553,
                    "dataWritten": 0,
                    "description": "Job group for statement 20:\nprint(\"Team Mentions in Submissions\")\nsubmissions_counts.show()",
                    "displayName": "showString at NativeMethodAccessorImpl.java:0",
                    "jobGroup": "20",
                    "jobId": 4,
                    "killedTasksSummary": {},
                    "name": "showString at NativeMethodAccessorImpl.java:0",
                    "numActiveStages": 0,
                    "numActiveTasks": 0,
                    "numCompletedIndices": 1,
                    "numCompletedStages": 1,
                    "numCompletedTasks": 1,
                    "numFailedStages": 0,
                    "numFailedTasks": 0,
                    "numKilledTasks": 0,
                    "numSkippedStages": 1,
                    "numSkippedTasks": 64,
                    "numTasks": 65,
                    "rowCount": 64,
                    "stageIds": [
                      5,
                      4
                    ],
                    "status": "SUCCEEDED",
                    "submissionTime": "2023-11-10T15:53:04.023GMT",
                    "usageDescription": ""
                  },
                  {
                    "completionTime": "2023-11-10T15:53:03.858GMT",
                    "dataRead": 19915642,
                    "dataWritten": 5553,
                    "description": "Job group for statement 20:\nprint(\"Team Mentions in Submissions\")\nsubmissions_counts.show()",
                    "displayName": "showString at NativeMethodAccessorImpl.java:0",
                    "jobGroup": "20",
                    "jobId": 3,
                    "killedTasksSummary": {},
                    "name": "showString at NativeMethodAccessorImpl.java:0",
                    "numActiveStages": 0,
                    "numActiveTasks": 0,
                    "numCompletedIndices": 64,
                    "numCompletedStages": 1,
                    "numCompletedTasks": 64,
                    "numFailedStages": 0,
                    "numFailedTasks": 0,
                    "numKilledTasks": 0,
                    "numSkippedStages": 0,
                    "numSkippedTasks": 0,
                    "numTasks": 64,
                    "rowCount": 5689,
                    "stageIds": [
                      3
                    ],
                    "status": "SUCCEEDED",
                    "submissionTime": "2023-11-10T15:52:52.902GMT",
                    "usageDescription": ""
                  }
                ],
                "limit": 20,
                "numbers": {
                  "FAILED": 0,
                  "RUNNING": 0,
                  "SUCCEEDED": 2,
                  "UNKNOWN": 0
                },
                "rule": "ALL_DESC"
              },
              "spark_pool": "7c27951d-2bdf-4140-be82-d0dc0c0e7d8e",
              "state": "finished",
              "statement_id": 20
            },
            "text/plain": [
              "StatementMeta(7c27951d-2bdf-4140-be82-d0dc0c0e7d8e, 36, 20, Finished, Available)"
            ]
          },
          "metadata": {},
          "output_type": "display_data"
        },
        {
          "name": "stdout",
          "output_type": "stream",
          "text": [
            "Team Mentions in Submissions\n",
            "+-------+------+---------+----+--------+------------+--------------+-----+------+--------+\n",
            "|houston|kansas|villanova|duke|arkansas|saint peters|north carolina|miami|purdue|illinois|\n",
            "+-------+------+---------+----+--------+------------+--------------+-----+------+--------+\n",
            "|    454|   969|      385| 453|     371|         149|           809| 3102|   840|     572|\n",
            "+-------+------+---------+----+--------+------------+--------------+-----+------+--------+\n",
            "\n"
          ]
        }
      ],
      "source": [
        "print(\"Team Mentions in Submissions\")\n",
        "submissions_counts.show()"
      ]
    },
    {
      "cell_type": "code",
      "execution_count": 16,
      "metadata": {
        "gather": {
          "logged": 1699631677319
        },
        "jupyter": {
          "outputs_hidden": false,
          "source_hidden": false
        },
        "nteract": {
          "transient": {
            "deleting": false
          }
        }
      },
      "outputs": [
        {
          "data": {
            "application/vnd.livy.statement-meta+json": {
              "execution_finish_time": "2023-11-10T15:54:37.1324353Z",
              "execution_start_time": "2023-11-10T15:53:24.8270077Z",
              "livy_statement_state": "available",
              "parent_msg_id": "18a45795-e75e-4ddd-b725-d3488657f6d0",
              "queued_time": "2023-11-10T15:53:24.7163835Z",
              "session_id": "36",
              "session_start_time": null,
              "spark_jobs": {
                "jobs": [
                  {
                    "completionTime": "2023-11-10T15:54:35.093GMT",
                    "dataRead": 17382,
                    "dataWritten": 0,
                    "description": "Job group for statement 21:\nprint(\"Team Mentions in Comments\")\ncomments_counts.show()",
                    "displayName": "showString at NativeMethodAccessorImpl.java:0",
                    "jobGroup": "21",
                    "jobId": 6,
                    "killedTasksSummary": {},
                    "name": "showString at NativeMethodAccessorImpl.java:0",
                    "numActiveStages": 0,
                    "numActiveTasks": 0,
                    "numCompletedIndices": 1,
                    "numCompletedStages": 1,
                    "numCompletedTasks": 1,
                    "numFailedStages": 0,
                    "numFailedTasks": 0,
                    "numKilledTasks": 0,
                    "numSkippedStages": 1,
                    "numSkippedTasks": 182,
                    "numTasks": 183,
                    "rowCount": 182,
                    "stageIds": [
                      7,
                      8
                    ],
                    "status": "SUCCEEDED",
                    "submissionTime": "2023-11-10T15:54:34.719GMT",
                    "usageDescription": ""
                  },
                  {
                    "completionTime": "2023-11-10T15:54:34.650GMT",
                    "dataRead": 192935219,
                    "dataWritten": 17382,
                    "description": "Job group for statement 21:\nprint(\"Team Mentions in Comments\")\ncomments_counts.show()",
                    "displayName": "showString at NativeMethodAccessorImpl.java:0",
                    "jobGroup": "21",
                    "jobId": 5,
                    "killedTasksSummary": {},
                    "name": "showString at NativeMethodAccessorImpl.java:0",
                    "numActiveStages": 0,
                    "numActiveTasks": 0,
                    "numCompletedIndices": 182,
                    "numCompletedStages": 1,
                    "numCompletedTasks": 182,
                    "numFailedStages": 0,
                    "numFailedTasks": 0,
                    "numKilledTasks": 0,
                    "numSkippedStages": 0,
                    "numSkippedTasks": 0,
                    "numTasks": 182,
                    "rowCount": 1575352,
                    "stageIds": [
                      6
                    ],
                    "status": "SUCCEEDED",
                    "submissionTime": "2023-11-10T15:53:25.295GMT",
                    "usageDescription": ""
                  }
                ],
                "limit": 20,
                "numbers": {
                  "FAILED": 0,
                  "RUNNING": 0,
                  "SUCCEEDED": 2,
                  "UNKNOWN": 0
                },
                "rule": "ALL_DESC"
              },
              "spark_pool": "7c27951d-2bdf-4140-be82-d0dc0c0e7d8e",
              "state": "finished",
              "statement_id": 21
            },
            "text/plain": [
              "StatementMeta(7c27951d-2bdf-4140-be82-d0dc0c0e7d8e, 36, 21, Finished, Available)"
            ]
          },
          "metadata": {},
          "output_type": "display_data"
        },
        {
          "name": "stdout",
          "output_type": "stream",
          "text": [
            "Team Mentions in Comments\n",
            "+-------+------+---------+-----+--------+------------+--------------+-----+------+--------+\n",
            "|houston|kansas|villanova| duke|arkansas|saint peters|north carolina|miami|purdue|illinois|\n",
            "+-------+------+---------+-----+--------+------------+--------------+-----+------+--------+\n",
            "|  17144| 34285|    12317|31856|    9246|        6020|         46033|69595| 70959|   14189|\n",
            "+-------+------+---------+-----+--------+------------+--------------+-----+------+--------+\n",
            "\n"
          ]
        }
      ],
      "source": [
        "print(\"Team Mentions in Comments\")\n",
        "comments_counts.show()"
      ]
    },
    {
      "cell_type": "markdown",
      "metadata": {},
      "source": [
        "To display the results more visually, let's create two histograms to illustrate."
      ]
    },
    {
      "cell_type": "code",
      "execution_count": 14,
      "metadata": {
        "gather": {
          "logged": 1699632498776
        },
        "jupyter": {
          "outputs_hidden": false,
          "source_hidden": false
        },
        "nteract": {
          "transient": {
            "deleting": false
          }
        }
      },
      "outputs": [
        {
          "data": {
            "application/vnd.livy.statement-meta+json": {
              "execution_finish_time": "2023-11-10T16:08:18.5456664Z",
              "execution_start_time": "2023-11-10T16:06:37.3802481Z",
              "livy_statement_state": "available",
              "parent_msg_id": "093845ff-fb27-41eb-be31-f7fa8b2c3330",
              "queued_time": "2023-11-10T16:06:37.2254627Z",
              "session_id": "37",
              "session_start_time": null,
              "spark_jobs": {
                "jobs": [
                  {
                    "completionTime": "2023-11-10T16:08:16.817GMT",
                    "dataRead": 17382,
                    "dataWritten": 0,
                    "description": "Job group for statement 19:\n# Convert the Spark DataFrame to a Pandas DataFrame\nsubmissions_counts_pd = submissions_counts.toPandas()\ncomments_counts_pd = comments_counts.toPandas()",
                    "displayName": "toPandas at /tmp/ipykernel_11807/2725837890.py:3",
                    "jobGroup": "19",
                    "jobId": 5,
                    "killedTasksSummary": {},
                    "name": "toPandas at /tmp/ipykernel_11807/2725837890.py:3",
                    "numActiveStages": 0,
                    "numActiveTasks": 0,
                    "numCompletedIndices": 1,
                    "numCompletedStages": 1,
                    "numCompletedTasks": 1,
                    "numFailedStages": 0,
                    "numFailedTasks": 0,
                    "numKilledTasks": 0,
                    "numSkippedStages": 1,
                    "numSkippedTasks": 182,
                    "numTasks": 183,
                    "rowCount": 182,
                    "stageIds": [
                      6,
                      7
                    ],
                    "status": "SUCCEEDED",
                    "submissionTime": "2023-11-10T16:08:15.847GMT",
                    "usageDescription": ""
                  },
                  {
                    "completionTime": "2023-11-10T16:08:15.797GMT",
                    "dataRead": 192935219,
                    "dataWritten": 17382,
                    "description": "Job group for statement 19:\n# Convert the Spark DataFrame to a Pandas DataFrame\nsubmissions_counts_pd = submissions_counts.toPandas()\ncomments_counts_pd = comments_counts.toPandas()",
                    "displayName": "toPandas at /tmp/ipykernel_11807/2725837890.py:3",
                    "jobGroup": "19",
                    "jobId": 4,
                    "killedTasksSummary": {},
                    "name": "toPandas at /tmp/ipykernel_11807/2725837890.py:3",
                    "numActiveStages": 0,
                    "numActiveTasks": 0,
                    "numCompletedIndices": 182,
                    "numCompletedStages": 1,
                    "numCompletedTasks": 182,
                    "numFailedStages": 0,
                    "numFailedTasks": 0,
                    "numKilledTasks": 0,
                    "numSkippedStages": 0,
                    "numSkippedTasks": 0,
                    "numTasks": 182,
                    "rowCount": 1575352,
                    "stageIds": [
                      5
                    ],
                    "status": "SUCCEEDED",
                    "submissionTime": "2023-11-10T16:07:07.069GMT",
                    "usageDescription": ""
                  },
                  {
                    "completionTime": "2023-11-10T16:07:06.453GMT",
                    "dataRead": 5553,
                    "dataWritten": 0,
                    "description": "Job group for statement 19:\n# Convert the Spark DataFrame to a Pandas DataFrame\nsubmissions_counts_pd = submissions_counts.toPandas()\ncomments_counts_pd = comments_counts.toPandas()",
                    "displayName": "toPandas at /tmp/ipykernel_11807/2725837890.py:2",
                    "jobGroup": "19",
                    "jobId": 3,
                    "killedTasksSummary": {},
                    "name": "toPandas at /tmp/ipykernel_11807/2725837890.py:2",
                    "numActiveStages": 0,
                    "numActiveTasks": 0,
                    "numCompletedIndices": 1,
                    "numCompletedStages": 1,
                    "numCompletedTasks": 1,
                    "numFailedStages": 0,
                    "numFailedTasks": 0,
                    "numKilledTasks": 0,
                    "numSkippedStages": 1,
                    "numSkippedTasks": 64,
                    "numTasks": 65,
                    "rowCount": 64,
                    "stageIds": [
                      3,
                      4
                    ],
                    "status": "SUCCEEDED",
                    "submissionTime": "2023-11-10T16:07:05.849GMT",
                    "usageDescription": ""
                  },
                  {
                    "completionTime": "2023-11-10T16:07:05.701GMT",
                    "dataRead": 20654375,
                    "dataWritten": 5553,
                    "description": "Job group for statement 19:\n# Convert the Spark DataFrame to a Pandas DataFrame\nsubmissions_counts_pd = submissions_counts.toPandas()\ncomments_counts_pd = comments_counts.toPandas()",
                    "displayName": "toPandas at /tmp/ipykernel_11807/2725837890.py:2",
                    "jobGroup": "19",
                    "jobId": 2,
                    "killedTasksSummary": {},
                    "name": "toPandas at /tmp/ipykernel_11807/2725837890.py:2",
                    "numActiveStages": 0,
                    "numActiveTasks": 0,
                    "numCompletedIndices": 64,
                    "numCompletedStages": 1,
                    "numCompletedTasks": 64,
                    "numFailedStages": 0,
                    "numFailedTasks": 0,
                    "numKilledTasks": 0,
                    "numSkippedStages": 0,
                    "numSkippedTasks": 0,
                    "numTasks": 64,
                    "rowCount": 22216,
                    "stageIds": [
                      2
                    ],
                    "status": "SUCCEEDED",
                    "submissionTime": "2023-11-10T16:06:39.857GMT",
                    "usageDescription": ""
                  }
                ],
                "limit": 20,
                "numbers": {
                  "FAILED": 0,
                  "RUNNING": 0,
                  "SUCCEEDED": 4,
                  "UNKNOWN": 0
                },
                "rule": "ALL_DESC"
              },
              "spark_pool": "7c27951d-2bdf-4140-be82-d0dc0c0e7d8e",
              "state": "finished",
              "statement_id": 19
            },
            "text/plain": [
              "StatementMeta(7c27951d-2bdf-4140-be82-d0dc0c0e7d8e, 37, 19, Finished, Available)"
            ]
          },
          "metadata": {},
          "output_type": "display_data"
        }
      ],
      "source": [
        "# Convert the Spark DataFrame to a Pandas DataFrame\n",
        "submissions_counts_pd = submissions_counts.toPandas()\n",
        "comments_counts_pd = comments_counts.toPandas()"
      ]
    },
    {
      "cell_type": "code",
      "execution_count": 15,
      "metadata": {
        "gather": {
          "logged": 1699632505360
        },
        "jupyter": {
          "outputs_hidden": false,
          "source_hidden": false
        },
        "nteract": {
          "transient": {
            "deleting": false
          }
        }
      },
      "outputs": [
        {
          "data": {
            "application/vnd.livy.statement-meta+json": {
              "execution_finish_time": "2023-11-10T16:08:25.0091781Z",
              "execution_start_time": "2023-11-10T16:08:22.9517491Z",
              "livy_statement_state": "available",
              "parent_msg_id": "30416a9d-c033-4e74-a59e-7668b12359bf",
              "queued_time": "2023-11-10T16:08:22.8169264Z",
              "session_id": "37",
              "session_start_time": null,
              "spark_jobs": {
                "jobs": [],
                "limit": 20,
                "numbers": {
                  "FAILED": 0,
                  "RUNNING": 0,
                  "SUCCEEDED": 0,
                  "UNKNOWN": 0
                },
                "rule": "ALL_DESC"
              },
              "spark_pool": "7c27951d-2bdf-4140-be82-d0dc0c0e7d8e",
              "state": "finished",
              "statement_id": 20
            },
            "text/plain": [
              "StatementMeta(7c27951d-2bdf-4140-be82-d0dc0c0e7d8e, 37, 20, Finished, Available)"
            ]
          },
          "metadata": {},
          "output_type": "display_data"
        },
        {
          "data": {
            "image/png": "[encoded data removed]",
            "text/plain": [
              "<Figure size 720x432 with 1 Axes>"
            ]
          },
          "metadata": {
            "needs_background": "light"
          },
          "output_type": "display_data"
        }
      ],
      "source": [
        "import pandas as pd\n",
        "import matplotlib.pyplot as plt\n",
        "\n",
        "# Histogram for Submissions Counts\n",
        "plt.figure(figsize=(10, 6))\n",
        "plt.bar(submissions_counts_pd.columns, submissions_counts_pd.iloc[0], color='blue')\n",
        "plt.title('Histogram of Team Mentions in Submissions')\n",
        "plt.xlabel('Teams')\n",
        "plt.ylabel('Mentions')\n",
        "plt.xticks(rotation=45)\n",
        "plt.tight_layout()\n",
        "plt.show()"
      ]
    },
    {
      "cell_type": "markdown",
      "metadata": {},
      "source": [
        "The graph presents a striking observation: Miami is mentioned markedly more often than other teams, a notably unexpected finding. Additionally, it reveals that the comment mention counts for Kansas, the 2022 champion, North Carolina, the runner-up, and the consistently strong Purdue, significantly exceed those of other teams. This aligns with typical expectations and highlights their prominence in discussions."
      ]
    },
    {
      "cell_type": "code",
      "execution_count": 16,
      "metadata": {
        "gather": {
          "logged": 1699632573980
        },
        "jupyter": {
          "outputs_hidden": false,
          "source_hidden": false
        },
        "nteract": {
          "transient": {
            "deleting": false
          }
        }
      },
      "outputs": [
        {
          "data": {
            "application/vnd.livy.statement-meta+json": {
              "execution_finish_time": "2023-11-10T16:09:33.6080139Z",
              "execution_start_time": "2023-11-10T16:09:32.8066783Z",
              "livy_statement_state": "available",
              "parent_msg_id": "016f9831-38b5-4c52-b47d-4c1922fcc2a0",
              "queued_time": "2023-11-10T16:09:32.6615847Z",
              "session_id": "37",
              "session_start_time": null,
              "spark_jobs": {
                "jobs": [],
                "limit": 20,
                "numbers": {
                  "FAILED": 0,
                  "RUNNING": 0,
                  "SUCCEEDED": 0,
                  "UNKNOWN": 0
                },
                "rule": "ALL_DESC"
              },
              "spark_pool": "7c27951d-2bdf-4140-be82-d0dc0c0e7d8e",
              "state": "finished",
              "statement_id": 21
            },
            "text/plain": [
              "StatementMeta(7c27951d-2bdf-4140-be82-d0dc0c0e7d8e, 37, 21, Finished, Available)"
            ]
          },
          "metadata": {},
          "output_type": "display_data"
        },
        {
          "data": {
            "image/png": "[encoded data removed]",
            "text/plain": [
              "<Figure size 720x432 with 1 Axes>"
            ]
          },
          "metadata": {
            "needs_background": "light"
          },
          "output_type": "display_data"
        }
      ],
      "source": [
        "# Histogram for Comments Counts\n",
        "plt.figure(figsize=(10, 6))\n",
        "plt.bar(comments_counts_pd.columns, comments_counts_pd.iloc[0], color='blue')\n",
        "plt.title('Histogram of Team Mentions in Comments')\n",
        "plt.xlabel('Teams')\n",
        "plt.ylabel('Mentions')\n",
        "plt.xticks(rotation=45)\n",
        "plt.tight_layout()\n",
        "plt.show()"
      ]
    },
    {
      "cell_type": "markdown",
      "metadata": {},
      "source": [
        "The data from the comment counts largely mirrors the trends observed in the previous figure, with a notable exception: Purdue's mentions significantly surpass those of Kansas and North Carolina, aligning them more closely with Miami's high mention frequency. This suggests a distinct level of engagement and interest in Purdue, setting it apart from the other teams."
      ]
    },
    {
      "cell_type": "markdown",
      "metadata": {},
      "source": [
        "The empirical analysis reveals a correlation between a team's number of mentions and factors like popularity and season performance. Frequently mentioned teams include top performers like Kansas, the eventual champions, and unexpected contenders like North Carolina, which aligns with our initial expectations. Intriguingly, a team like Miami, despite a lower seed ranking and only reaching the top eight, has garnered more submissions and comment mentions than even the championship team. This anomaly suggests there are additional underlying factors influencing Miami's high visibility, warranting further investigation to uncover these reasons."
      ]
    },
    {
      "cell_type": "markdown",
      "metadata": {
        "nteract": {
          "transient": {
            "deleting": false
          }
        }
      },
      "source": [
        "### Daily Team Mentions of Submissions and Comments in `r/CollegeBasketball`"
      ]
    },
    {
      "cell_type": "markdown",
      "metadata": {},
      "source": [
        "As we progress, our objective is to conduct a detailed analysis of the daily mention trends for each team. This will offer a more nuanced understanding of how audience engagement evolved over the course of the tournament. To optimize our analysis, and informed by our previous findings, we've narrowed our focus to Miami, Kansas, North Carolina, and Purdue. These four teams, having attracted a significantly higher volume of mentions, are ideal candidates for our in-depth examination of engagement patterns."
      ]
    },
    {
      "cell_type": "code",
      "execution_count": 19,
      "metadata": {
        "gather": {
          "logged": 1699632675672
        },
        "jupyter": {
          "outputs_hidden": false,
          "source_hidden": false
        },
        "nteract": {
          "transient": {
            "deleting": false
          }
        }
      },
      "outputs": [
        {
          "data": {
            "application/vnd.livy.statement-meta+json": {
              "execution_finish_time": "2023-11-10T16:11:15.4095548Z",
              "execution_start_time": "2023-11-10T16:11:15.0988894Z",
              "livy_statement_state": "available",
              "parent_msg_id": "958ca420-7735-4dd9-8c32-3017474b89a0",
              "queued_time": "2023-11-10T16:11:14.9599312Z",
              "session_id": "37",
              "session_start_time": null,
              "spark_jobs": {
                "jobs": [],
                "limit": 20,
                "numbers": {
                  "FAILED": 0,
                  "RUNNING": 0,
                  "SUCCEEDED": 0,
                  "UNKNOWN": 0
                },
                "rule": "ALL_DESC"
              },
              "spark_pool": "7c27951d-2bdf-4140-be82-d0dc0c0e7d8e",
              "state": "finished",
              "statement_id": 24
            },
            "text/plain": [
              "StatementMeta(7c27951d-2bdf-4140-be82-d0dc0c0e7d8e, 37, 24, Finished, Available)"
            ]
          },
          "metadata": {},
          "output_type": "display_data"
        }
      ],
      "source": [
        "from pyspark.sql.functions import dayofmonth, month, year\n",
        "\n",
        "# Aggregate the daily mention counts for each team\n",
        "daily_mentions_comments = comments.groupBy(\n",
        "    year(\"created_utc\").alias(\"year\"),\n",
        "    month(\"created_utc\").alias(\"month\"),\n",
        "    dayofmonth(\"created_utc\").alias(\"day\")\n",
        ").agg(\n",
        "    sql_sum(col('kansas').cast('int')).alias('kansas'),\n",
        "    sql_sum(col('purdue').cast('int')).alias('purdue'),\n",
        "    sql_sum(col('north carolina').cast('int')).alias('north_carolina'),\n",
        "    sql_sum(col('miami').cast('int')).alias('miami')\n",
        ")\n",
        "\n",
        "daily_mentions_submissions = submissions.groupBy(\n",
        "    year(\"created_utc\").alias(\"year\"),\n",
        "    month(\"created_utc\").alias(\"month\"),\n",
        "    dayofmonth(\"created_utc\").alias(\"day\")\n",
        ").agg(\n",
        "    sql_sum(col('kansas').cast('int')).alias('kansas'),\n",
        "    sql_sum(col('purdue').cast('int')).alias('purdue'),\n",
        "    sql_sum(col('north carolina').cast('int')).alias('north_carolina'),\n",
        "    sql_sum(col('miami').cast('int')).alias('miami')\n",
        ")"
      ]
    },
    {
      "cell_type": "code",
      "execution_count": 20,
      "metadata": {
        "gather": {
          "logged": 1699632691168
        },
        "jupyter": {
          "outputs_hidden": false,
          "source_hidden": false
        },
        "nteract": {
          "transient": {
            "deleting": false
          }
        }
      },
      "outputs": [
        {
          "data": {
            "application/vnd.livy.statement-meta+json": {
              "execution_finish_time": "2023-11-10T16:11:30.7269738Z",
              "execution_start_time": "2023-11-10T16:11:27.8767546Z",
              "livy_statement_state": "available",
              "parent_msg_id": "fe507e56-a3ff-4ae4-a795-e5f9496f0d98",
              "queued_time": "2023-11-10T16:11:27.737831Z",
              "session_id": "37",
              "session_start_time": null,
              "spark_jobs": {
                "jobs": [
                  {
                    "completionTime": "2023-11-10T16:11:29.641GMT",
                    "dataRead": 192356,
                    "dataWritten": 0,
                    "description": "Job group for statement 25:\n# Plot Daily Team Mentions in Submissions\n# Convert the Spark DataFrame to a Pandas DataFrame\ndaily_mentions_submissions_pd = daily_mentions_submissions.toPandas()\n\n# Convert year, month, day to a datetime object\ndaily_mentions_submissions_pd['date'] = pd.to_datetime(daily_mentions_submissions_pd[['year', 'month', 'day']])\n\n# Set the 'date' column as index\ndaily_mentions_submissions_pd.set_index('date', inplace=True)\n\n# Drop the year, month, and day columns\ndaily_mentions_submissions_pd.drop(['year', 'month', 'day'], axis=1, inplace=True)\n\n# Sort the DataFrame by date\ndaily_mentions_submissions_pd.sort_index(inplace=True)\n\n# Plot\nplt.figure(figsize=(14, 8))\n\nfor column in daily_mentions_submissions_pd.columns:\n    plt.plot(daily_mentions_submissions_pd.index, daily_mentions_submissions_pd[column], label=column.replace('_', ' ').title())\n\nplt.xlabel('Date')\nplt.ylabel('Daily Mentions')\nplt.title('Daily Team Mentions in Submissions')\nplt.legend()\nplt.grid(True)\nplt.show()",
                    "displayName": "toPandas at /tmp/ipykernel_11807/1850306054.py:3",
                    "jobGroup": "25",
                    "jobId": 9,
                    "killedTasksSummary": {},
                    "name": "toPandas at /tmp/ipykernel_11807/1850306054.py:3",
                    "numActiveStages": 0,
                    "numActiveTasks": 0,
                    "numCompletedIndices": 1,
                    "numCompletedStages": 1,
                    "numCompletedTasks": 1,
                    "numFailedStages": 0,
                    "numFailedTasks": 0,
                    "numKilledTasks": 0,
                    "numSkippedStages": 1,
                    "numSkippedTasks": 64,
                    "numTasks": 65,
                    "rowCount": 2729,
                    "stageIds": [
                      12,
                      13
                    ],
                    "status": "SUCCEEDED",
                    "submissionTime": "2023-11-10T16:11:29.448GMT",
                    "usageDescription": ""
                  },
                  {
                    "completionTime": "2023-11-10T16:11:29.395GMT",
                    "dataRead": 14027930,
                    "dataWritten": 192356,
                    "description": "Job group for statement 25:\n# Plot Daily Team Mentions in Submissions\n# Convert the Spark DataFrame to a Pandas DataFrame\ndaily_mentions_submissions_pd = daily_mentions_submissions.toPandas()\n\n# Convert year, month, day to a datetime object\ndaily_mentions_submissions_pd['date'] = pd.to_datetime(daily_mentions_submissions_pd[['year', 'month', 'day']])\n\n# Set the 'date' column as index\ndaily_mentions_submissions_pd.set_index('date', inplace=True)\n\n# Drop the year, month, and day columns\ndaily_mentions_submissions_pd.drop(['year', 'month', 'day'], axis=1, inplace=True)\n\n# Sort the DataFrame by date\ndaily_mentions_submissions_pd.sort_index(inplace=True)\n\n# Plot\nplt.figure(figsize=(14, 8))\n\nfor column in daily_mentions_submissions_pd.columns:\n    plt.plot(daily_mentions_submissions_pd.index, daily_mentions_submissions_pd[column], label=column.replace('_', ' ').title())\n\nplt.xlabel('Date')\nplt.ylabel('Daily Mentions')\nplt.title('Daily Team Mentions in Submissions')\nplt.legend()\nplt.grid(True)\nplt.show()",
                    "displayName": "toPandas at /tmp/ipykernel_11807/1850306054.py:3",
                    "jobGroup": "25",
                    "jobId": 8,
                    "killedTasksSummary": {},
                    "name": "toPandas at /tmp/ipykernel_11807/1850306054.py:3",
                    "numActiveStages": 0,
                    "numActiveTasks": 0,
                    "numCompletedIndices": 64,
                    "numCompletedStages": 1,
                    "numCompletedTasks": 64,
                    "numFailedStages": 0,
                    "numFailedTasks": 0,
                    "numKilledTasks": 0,
                    "numSkippedStages": 0,
                    "numSkippedTasks": 0,
                    "numTasks": 64,
                    "rowCount": 2793,
                    "stageIds": [
                      11
                    ],
                    "status": "SUCCEEDED",
                    "submissionTime": "2023-11-10T16:11:28.123GMT",
                    "usageDescription": ""
                  }
                ],
                "limit": 20,
                "numbers": {
                  "FAILED": 0,
                  "RUNNING": 0,
                  "SUCCEEDED": 2,
                  "UNKNOWN": 0
                },
                "rule": "ALL_DESC"
              },
              "spark_pool": "7c27951d-2bdf-4140-be82-d0dc0c0e7d8e",
              "state": "finished",
              "statement_id": 25
            },
            "text/plain": [
              "StatementMeta(7c27951d-2bdf-4140-be82-d0dc0c0e7d8e, 37, 25, Finished, Available)"
            ]
          },
          "metadata": {},
          "output_type": "display_data"
        },
        {
          "data": {
            "image/png": "[encoded data removed]",
            "text/plain": [
              "<Figure size 1008x576 with 1 Axes>"
            ]
          },
          "metadata": {
            "needs_background": "light"
          },
          "output_type": "display_data"
        }
      ],
      "source": [
        "# Plot Daily Team Mentions in Submissions\n",
        "# Convert the Spark DataFrame to a Pandas DataFrame\n",
        "daily_mentions_submissions_pd = daily_mentions_submissions.toPandas()\n",
        "\n",
        "# Convert year, month, day to a datetime object\n",
        "daily_mentions_submissions_pd['date'] = pd.to_datetime(daily_mentions_submissions_pd[['year', 'month', 'day']])\n",
        "\n",
        "# Set the 'date' column as index\n",
        "daily_mentions_submissions_pd.set_index('date', inplace=True)\n",
        "\n",
        "# Drop the year, month, and day columns\n",
        "daily_mentions_submissions_pd.drop(['year', 'month', 'day'], axis=1, inplace=True)\n",
        "\n",
        "# Sort the DataFrame by date\n",
        "daily_mentions_submissions_pd.sort_index(inplace=True)\n",
        "\n",
        "# Plot\n",
        "plt.figure(figsize=(14, 8))\n",
        "\n",
        "for column in daily_mentions_submissions_pd.columns:\n",
        "    plt.plot(daily_mentions_submissions_pd.index, daily_mentions_submissions_pd[column], label=column.replace('_', ' ').title())\n",
        "\n",
        "plt.xlabel('Date')\n",
        "plt.ylabel('Daily Mentions')\n",
        "plt.title('Daily Team Mentions in Submissions')\n",
        "plt.legend()\n",
        "plt.grid(True)\n",
        "plt.show()"
      ]
    },
    {
      "cell_type": "markdown",
      "metadata": {},
      "source": [
        "The chart illustrates a distinct trend: From the season's onset in November 2021 to March 2022, Miami led in commit frequency, surpassing other teams. However, a shift occurred in mid-March 2022, as Miami's commit frequency began to decline, eventually aligning with the baseline levels seen in other teams. Concurrently, there was a notable surge in submissions related to Kansas and North Carolina, culminating in a peak in early April 2022. This increase is clearly linked to their progression to the finals, reflecting heightened audience interest and engagement as these teams advanced in the tournament."
      ]
    },
    {
      "cell_type": "code",
      "execution_count": 21,
      "metadata": {
        "gather": {
          "logged": 1699632717621
        },
        "jupyter": {
          "outputs_hidden": false,
          "source_hidden": false
        },
        "nteract": {
          "transient": {
            "deleting": false
          }
        }
      },
      "outputs": [
        {
          "data": {
            "application/vnd.livy.statement-meta+json": {
              "execution_finish_time": "2023-11-10T16:11:57.2761234Z",
              "execution_start_time": "2023-11-10T16:11:45.3155771Z",
              "livy_statement_state": "available",
              "parent_msg_id": "89712bde-7dfc-4331-9966-651b61f9b293",
              "queued_time": "2023-11-10T16:11:45.1786726Z",
              "session_id": "37",
              "session_start_time": null,
              "spark_jobs": {
                "jobs": [
                  {
                    "completionTime": "2023-11-10T16:11:56.116GMT",
                    "dataRead": 1034844,
                    "dataWritten": 0,
                    "description": "Job group for statement 26:\n# Plot Daily Team Mentions in Comments\n# Convert the Spark DataFrame to a Pandas DataFrame\ndaily_mentions_comments_pd = daily_mentions_comments.toPandas()\n\n# Convert year, month, day to a datetime object\ndaily_mentions_comments_pd['date'] = pd.to_datetime(daily_mentions_comments_pd[['year', 'month', 'day']])\n\n# Set the 'date' column as index\ndaily_mentions_comments_pd.set_index('date', inplace=True)\n\n# Drop the year, month, and day columns\ndaily_mentions_comments_pd.drop(['year', 'month', 'day'], axis=1, inplace=True)\n\n# Sort the DataFrame by date\ndaily_mentions_comments_pd.sort_index(inplace=True)\n\n# Plot\nplt.figure(figsize=(14, 8))\n\nfor column in daily_mentions_comments_pd.columns:\n    plt.plot(daily_mentions_comments_pd.index, daily_mentions_comments_pd[column], label=column.replace('_', ' ').title())\n\nplt.xlabel('Date')\nplt.ylabel('Daily Mentions')\nplt.title('Daily Team Mentions in Comments')\nplt.legend()\nplt.grid(True)\nplt.show()",
                    "displayName": "toPandas at /tmp/ipykernel_11807/1640855485.py:3",
                    "jobGroup": "26",
                    "jobId": 11,
                    "killedTasksSummary": {},
                    "name": "toPandas at /tmp/ipykernel_11807/1640855485.py:3",
                    "numActiveStages": 0,
                    "numActiveTasks": 0,
                    "numCompletedIndices": 1,
                    "numCompletedStages": 1,
                    "numCompletedTasks": 1,
                    "numFailedStages": 0,
                    "numFailedTasks": 0,
                    "numKilledTasks": 0,
                    "numSkippedStages": 1,
                    "numSkippedTasks": 182,
                    "numTasks": 183,
                    "rowCount": 14728,
                    "stageIds": [
                      15,
                      16
                    ],
                    "status": "SUCCEEDED",
                    "submissionTime": "2023-11-10T16:11:55.934GMT",
                    "usageDescription": ""
                  },
                  {
                    "completionTime": "2023-11-10T16:11:55.573GMT",
                    "dataRead": 220617824,
                    "dataWritten": 1034844,
                    "description": "Job group for statement 26:\n# Plot Daily Team Mentions in Comments\n# Convert the Spark DataFrame to a Pandas DataFrame\ndaily_mentions_comments_pd = daily_mentions_comments.toPandas()\n\n# Convert year, month, day to a datetime object\ndaily_mentions_comments_pd['date'] = pd.to_datetime(daily_mentions_comments_pd[['year', 'month', 'day']])\n\n# Set the 'date' column as index\ndaily_mentions_comments_pd.set_index('date', inplace=True)\n\n# Drop the year, month, and day columns\ndaily_mentions_comments_pd.drop(['year', 'month', 'day'], axis=1, inplace=True)\n\n# Sort the DataFrame by date\ndaily_mentions_comments_pd.sort_index(inplace=True)\n\n# Plot\nplt.figure(figsize=(14, 8))\n\nfor column in daily_mentions_comments_pd.columns:\n    plt.plot(daily_mentions_comments_pd.index, daily_mentions_comments_pd[column], label=column.replace('_', ' ').title())\n\nplt.xlabel('Date')\nplt.ylabel('Daily Mentions')\nplt.title('Daily Team Mentions in Comments')\nplt.legend()\nplt.grid(True)\nplt.show()",
                    "displayName": "toPandas at /tmp/ipykernel_11807/1640855485.py:3",
                    "jobGroup": "26",
                    "jobId": 10,
                    "killedTasksSummary": {},
                    "name": "toPandas at /tmp/ipykernel_11807/1640855485.py:3",
                    "numActiveStages": 0,
                    "numActiveTasks": 0,
                    "numCompletedIndices": 182,
                    "numCompletedStages": 1,
                    "numCompletedTasks": 182,
                    "numFailedStages": 0,
                    "numFailedTasks": 0,
                    "numKilledTasks": 0,
                    "numSkippedStages": 0,
                    "numSkippedTasks": 0,
                    "numTasks": 182,
                    "rowCount": 15003,
                    "stageIds": [
                      14
                    ],
                    "status": "SUCCEEDED",
                    "submissionTime": "2023-11-10T16:11:45.515GMT",
                    "usageDescription": ""
                  }
                ],
                "limit": 20,
                "numbers": {
                  "FAILED": 0,
                  "RUNNING": 0,
                  "SUCCEEDED": 2,
                  "UNKNOWN": 0
                },
                "rule": "ALL_DESC"
              },
              "spark_pool": "7c27951d-2bdf-4140-be82-d0dc0c0e7d8e",
              "state": "finished",
              "statement_id": 26
            },
            "text/plain": [
              "StatementMeta(7c27951d-2bdf-4140-be82-d0dc0c0e7d8e, 37, 26, Finished, Available)"
            ]
          },
          "metadata": {},
          "output_type": "display_data"
        },
        {
          "data": {
            "image/png": "[encoded data removed]",
            "text/plain": [
              "<Figure size 1008x576 with 1 Axes>"
            ]
          },
          "metadata": {
            "needs_background": "light"
          },
          "output_type": "display_data"
        }
      ],
      "source": [
        "# Plot Daily Team Mentions in Comments\n",
        "# Convert the Spark DataFrame to a Pandas DataFrame\n",
        "daily_mentions_comments_pd = daily_mentions_comments.toPandas()\n",
        "\n",
        "# Convert year, month, day to a datetime object\n",
        "daily_mentions_comments_pd['date'] = pd.to_datetime(daily_mentions_comments_pd[['year', 'month', 'day']])\n",
        "\n",
        "# Set the 'date' column as index\n",
        "daily_mentions_comments_pd.set_index('date', inplace=True)\n",
        "\n",
        "# Drop the year, month, and day columns\n",
        "daily_mentions_comments_pd.drop(['year', 'month', 'day'], axis=1, inplace=True)\n",
        "\n",
        "# Sort the DataFrame by date\n",
        "daily_mentions_comments_pd.sort_index(inplace=True)\n",
        "\n",
        "# Plot\n",
        "plt.figure(figsize=(14, 8))\n",
        "\n",
        "for column in daily_mentions_comments_pd.columns:\n",
        "    plt.plot(daily_mentions_comments_pd.index, daily_mentions_comments_pd[column], label=column.replace('_', ' ').title())\n",
        "\n",
        "plt.xlabel('Date')\n",
        "plt.ylabel('Daily Mentions')\n",
        "plt.title('Daily Team Mentions in Comments')\n",
        "plt.legend()\n",
        "plt.grid(True)\n",
        "plt.show()"
      ]
    },
    {
      "cell_type": "markdown",
      "metadata": {},
      "source": [
        "The data shows that while Miami and Purdue have a higher volume of daily comments, the disparity isn't as marked when compared to other teams. Both teams experienced a peak in comment activity from mid-to-late March. This trend aligns with key tournament events: Purdue's journey ended in the top 16 after their loss to St. Peter's on March 25, while Miami concluded in the top 8 following their defeat by Kansas on March 27. North Carolina's peak in comment volume around mid-March can be directly attributed to their victory over the previous year's champions, Baylor. Kansas, on the other hand, saw its comment numbers reach the highest point among all teams in early April 2022, a testament to their ultimate championship victory, drawing substantial audience engagement and discussion."
      ]
    },
    {
      "cell_type": "markdown",
      "metadata": {},
      "source": [
        "Overall, the variations in comment volume mirror the dynamics of audience engagement. As the season approaches its climax, particularly the finals, discussions intensify. The disparity in comment counts across different teams highlights the variations in their popularity and performance throughout the season. The data vividly illustrates that audience engagement peaked during critical matches, with this fervor culminating in the finals on April 4, indicating a high level of interest and involvement from fans during these pivotal moments of the tournament."
      ]
    }
  ],
  "metadata": {
    "kernel_info": {
      "name": "synapse_pyspark"
    },
    "kernelspec": {
      "display_name": "Synapse PySpark",
      "language": "Python",
      "name": "synapse_pyspark"
    },
    "language_info": {
      "codemirror_mode": "ipython",
      "file_extension": ".py",
      "mimetype": "text/x-python",
      "name": "python",
      "nbconvert_exporter": "python",
      "pygments_lexer": "ipython",
      "version": "3.8.0"
    },
    "microsoft": {
      "host": {
        "AzureML": {
          "notebookHasBeenCompleted": true
        }
      },
      "ms_spell_check": {
        "ms_spell_check_language": "en"
      }
    },
    "nteract": {
      "version": "nteract-front-end@1.0.0"
    }
  },
  "nbformat": 4,
  "nbformat_minor": 2
}

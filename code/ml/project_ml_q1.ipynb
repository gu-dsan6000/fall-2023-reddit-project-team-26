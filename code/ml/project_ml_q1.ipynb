{
  "cells": [
    {
      "cell_type": "code",
      "source": [
        "spark"
      ],
      "outputs": [
        {
          "output_type": "display_data",
          "data": {
            "application/vnd.livy.statement-meta+json": {
              "spark_pool": "d3c1b951-094c-48e1-919d-e32bc175397b",
              "session_id": "47",
              "statement_id": 6,
              "state": "finished",
              "livy_statement_state": "available",
              "queued_time": "2023-11-29T18:41:19.6783419Z",
              "session_start_time": "2023-11-29T18:41:19.7492958Z",
              "execution_start_time": "2023-11-29T18:42:15.1545644Z",
              "execution_finish_time": "2023-11-29T18:42:15.6077794Z",
              "spark_jobs": {
                "numbers": {
                  "FAILED": 0,
                  "RUNNING": 0,
                  "UNKNOWN": 0,
                  "SUCCEEDED": 0
                },
                "jobs": [],
                "limit": 20,
                "rule": "ALL_DESC"
              },
              "parent_msg_id": "6db73d4e-5dec-4e5f-affe-72f2d283f505"
            },
            "text/plain": "StatementMeta(d3c1b951-094c-48e1-919d-e32bc175397b, 47, 6, Finished, Available)"
          },
          "metadata": {}
        },
        {
          "output_type": "execute_result",
          "execution_count": 11,
          "data": {
            "text/plain": "<pyspark.sql.session.SparkSession at 0x7f44a8df3280>",
            "text/html": "\n            <div>\n                <p><b>SparkSession - hive</b></p>\n                \n        <div>\n            <p><b>SparkContext</b></p>\n\n            <p><a href=\"http://vm-82755593:46007\">Spark UI</a></p>\n\n            <dl>\n              <dt>Version</dt>\n                <dd><code>v3.2.2.5.1-100879434</code></dd>\n              <dt>Master</dt>\n                <dd><code>yarn</code></dd>\n              <dt>AppName</dt>\n                <dd><code>Azure ML Experiment</code></dd>\n            </dl>\n        </div>\n        \n            </div>\n        "
          },
          "metadata": {}
        }
      ],
      "execution_count": 1,
      "metadata": {
        "gather": {
          "logged": 1701283335865
        }
      }
    },
    {
      "cell_type": "code",
      "source": [
        "## Necessary Libraries\n",
        "import pandas as pd\n",
        "import matplotlib.pyplot as plt\n",
        "import seaborn as sns\n",
        "from pyspark.sql.functions import *\n",
        "from pyspark.sql import functions as F\n",
        "from pyspark.sql.window import Window\n",
        "\n",
        "from pyspark.ml.feature import VectorAssembler, StringIndexer, OneHotEncoder, IndexToString\n",
        "from pyspark.ml.classification import RandomForestClassifier, LogisticRegression\n",
        "from pyspark.ml import Pipeline\n",
        "from pyspark.ml.evaluation import BinaryClassificationEvaluator, RegressionEvaluator\n",
        "from pyspark.ml.regression import LinearRegression, RandomForestRegressor\n",
        "from pyspark.ml import PipelineModel\n"
      ],
      "outputs": [
        {
          "output_type": "display_data",
          "data": {
            "application/vnd.livy.statement-meta+json": {
              "spark_pool": "d3c1b951-094c-48e1-919d-e32bc175397b",
              "session_id": "47",
              "statement_id": 7,
              "state": "finished",
              "livy_statement_state": "available",
              "queued_time": "2023-11-29T18:41:19.6795564Z",
              "session_start_time": null,
              "execution_start_time": "2023-11-29T18:42:15.7700882Z",
              "execution_finish_time": "2023-11-29T18:42:17.2614124Z",
              "spark_jobs": {
                "numbers": {
                  "FAILED": 0,
                  "RUNNING": 0,
                  "UNKNOWN": 0,
                  "SUCCEEDED": 0
                },
                "jobs": [],
                "limit": 20,
                "rule": "ALL_DESC"
              },
              "parent_msg_id": "d6687126-f91e-43fe-a9b6-c89ea9f418c2"
            },
            "text/plain": "StatementMeta(d3c1b951-094c-48e1-919d-e32bc175397b, 47, 7, Finished, Available)"
          },
          "metadata": {}
        }
      ],
      "execution_count": 2,
      "metadata": {
        "jupyter": {
          "source_hidden": false,
          "outputs_hidden": false
        },
        "nteract": {
          "transient": {
            "deleting": false
          }
        },
        "gather": {
          "logged": 1701283337435
        }
      }
    },
    {
      "cell_type": "code",
      "source": [
        "workspace_default_storage_account = \"aml6214727930\"\n",
        "workspace_default_container = \"azureml-blobstore-6653633b-3460-4381-9199-d9e0f368353c\"\n",
        "\n",
        "workspace_wasbs_base_url = (\n",
        "    f\"wasbs://{workspace_default_container}@{workspace_default_storage_account}.blob.core.windows.net/\"\n",
        ")\n",
        "\n",
        "comments_path = \"/basketball_comments_clean_v2.parquet\"\n",
        "comments_sentiment_path = \"/basketball_comments_sentiment.parquet\"\n",
        "\n",
        "comments = spark.read.parquet(f\"{workspace_wasbs_base_url}{comments_path}\")\n",
        "comments_sentiment = spark.read.parquet(f\"{workspace_wasbs_base_url}{comments_sentiment_path}\")"
      ],
      "outputs": [
        {
          "output_type": "display_data",
          "data": {
            "application/vnd.livy.statement-meta+json": {
              "spark_pool": "d3c1b951-094c-48e1-919d-e32bc175397b",
              "session_id": "47",
              "statement_id": 8,
              "state": "finished",
              "livy_statement_state": "available",
              "queued_time": "2023-11-29T18:41:19.6806437Z",
              "session_start_time": null,
              "execution_start_time": "2023-11-29T18:42:17.4047999Z",
              "execution_finish_time": "2023-11-29T18:42:28.1843151Z",
              "spark_jobs": {
                "numbers": {
                  "FAILED": 0,
                  "RUNNING": 0,
                  "UNKNOWN": 0,
                  "SUCCEEDED": 2
                },
                "jobs": [
                  {
                    "displayName": "parquet at NativeMethodAccessorImpl.java:0",
                    "dataWritten": 0,
                    "dataRead": 0,
                    "rowCount": 0,
                    "usageDescription": "",
                    "jobId": 1,
                    "name": "parquet at NativeMethodAccessorImpl.java:0",
                    "description": "Job group for statement 8:\nworkspace_default_storage_account = \"aml6214727930\"\nworkspace_default_container = \"azureml-blobstore-6653633b-3460-4381-9199-d9e0f368353c\"\n\nworkspace_wasbs_base_url = (\n    f\"wasbs://{workspace_default_container}@{workspace_default_storage_account}.blob.core.windows.net/\"\n)\n\ncomments_path = \"/basketball_comments_clean_v2.parquet\"\ncomments_sentiment_path = \"/basketball_comments_sentiment.parquet\"\n\ncomments = spark.read.parquet(f\"{workspace_wasbs_base_url}{comments_path}\")\ncomments_sentiment = spark.read.parquet(f\"{workspace_wasbs_base_url}{comments_sentiment_path}\")",
                    "submissionTime": "2023-11-29T18:42:24.129GMT",
                    "completionTime": "2023-11-29T18:42:26.937GMT",
                    "stageIds": [
                      1
                    ],
                    "jobGroup": "8",
                    "status": "SUCCEEDED",
                    "numTasks": 1,
                    "numActiveTasks": 0,
                    "numCompletedTasks": 1,
                    "numSkippedTasks": 0,
                    "numFailedTasks": 0,
                    "numKilledTasks": 0,
                    "numCompletedIndices": 1,
                    "numActiveStages": 0,
                    "numCompletedStages": 1,
                    "numSkippedStages": 0,
                    "numFailedStages": 0,
                    "killedTasksSummary": {}
                  },
                  {
                    "displayName": "parquet at NativeMethodAccessorImpl.java:0",
                    "dataWritten": 0,
                    "dataRead": 0,
                    "rowCount": 0,
                    "usageDescription": "",
                    "jobId": 0,
                    "name": "parquet at NativeMethodAccessorImpl.java:0",
                    "description": "Job group for statement 8:\nworkspace_default_storage_account = \"aml6214727930\"\nworkspace_default_container = \"azureml-blobstore-6653633b-3460-4381-9199-d9e0f368353c\"\n\nworkspace_wasbs_base_url = (\n    f\"wasbs://{workspace_default_container}@{workspace_default_storage_account}.blob.core.windows.net/\"\n)\n\ncomments_path = \"/basketball_comments_clean_v2.parquet\"\ncomments_sentiment_path = \"/basketball_comments_sentiment.parquet\"\n\ncomments = spark.read.parquet(f\"{workspace_wasbs_base_url}{comments_path}\")\ncomments_sentiment = spark.read.parquet(f\"{workspace_wasbs_base_url}{comments_sentiment_path}\")",
                    "submissionTime": "2023-11-29T18:42:18.343GMT",
                    "completionTime": "2023-11-29T18:42:22.243GMT",
                    "stageIds": [
                      0
                    ],
                    "jobGroup": "8",
                    "status": "SUCCEEDED",
                    "numTasks": 1,
                    "numActiveTasks": 0,
                    "numCompletedTasks": 1,
                    "numSkippedTasks": 0,
                    "numFailedTasks": 0,
                    "numKilledTasks": 0,
                    "numCompletedIndices": 1,
                    "numActiveStages": 0,
                    "numCompletedStages": 1,
                    "numSkippedStages": 0,
                    "numFailedStages": 0,
                    "killedTasksSummary": {}
                  }
                ],
                "limit": 20,
                "rule": "ALL_DESC"
              },
              "parent_msg_id": "e011c6ee-66a2-4011-8073-cdbbdfe6887f"
            },
            "text/plain": "StatementMeta(d3c1b951-094c-48e1-919d-e32bc175397b, 47, 8, Finished, Available)"
          },
          "metadata": {}
        }
      ],
      "execution_count": 3,
      "metadata": {
        "jupyter": {
          "source_hidden": false,
          "outputs_hidden": false
        },
        "nteract": {
          "transient": {
            "deleting": false
          }
        },
        "gather": {
          "logged": 1701283348409
        }
      }
    },
    {
      "cell_type": "code",
      "source": [
        "comments = comments.join(comments_sentiment.select(\"id\", \"col\", \"clean_text\"), on=\"id\", how='inner')"
      ],
      "outputs": [
        {
          "output_type": "display_data",
          "data": {
            "application/vnd.livy.statement-meta+json": {
              "spark_pool": "d3c1b951-094c-48e1-919d-e32bc175397b",
              "session_id": "47",
              "statement_id": 9,
              "state": "finished",
              "livy_statement_state": "available",
              "queued_time": "2023-11-29T18:41:19.6842493Z",
              "session_start_time": null,
              "execution_start_time": "2023-11-29T18:42:28.3337061Z",
              "execution_finish_time": "2023-11-29T18:42:28.6264314Z",
              "spark_jobs": {
                "numbers": {
                  "FAILED": 0,
                  "RUNNING": 0,
                  "UNKNOWN": 0,
                  "SUCCEEDED": 0
                },
                "jobs": [],
                "limit": 20,
                "rule": "ALL_DESC"
              },
              "parent_msg_id": "d3e0bb27-c969-4b94-9b47-36fe6607e115"
            },
            "text/plain": "StatementMeta(d3c1b951-094c-48e1-919d-e32bc175397b, 47, 9, Finished, Available)"
          },
          "metadata": {}
        }
      ],
      "execution_count": 4,
      "metadata": {
        "jupyter": {
          "source_hidden": false,
          "outputs_hidden": false
        },
        "nteract": {
          "transient": {
            "deleting": false
          }
        },
        "gather": {
          "logged": 1701283348772
        }
      }
    },
    {
      "cell_type": "code",
      "source": [
        "comments = comments.cache()"
      ],
      "outputs": [
        {
          "output_type": "display_data",
          "data": {
            "application/vnd.livy.statement-meta+json": {
              "spark_pool": "d3c1b951-094c-48e1-919d-e32bc175397b",
              "session_id": "47",
              "statement_id": 10,
              "state": "finished",
              "livy_statement_state": "available",
              "queued_time": "2023-11-29T18:41:19.6858974Z",
              "session_start_time": null,
              "execution_start_time": "2023-11-29T18:42:28.7727586Z",
              "execution_finish_time": "2023-11-29T18:42:30.3781413Z",
              "spark_jobs": {
                "numbers": {
                  "FAILED": 0,
                  "RUNNING": 0,
                  "UNKNOWN": 0,
                  "SUCCEEDED": 0
                },
                "jobs": [],
                "limit": 20,
                "rule": "ALL_DESC"
              },
              "parent_msg_id": "b5f94448-a5e3-4811-ba69-c4d57fb2362c"
            },
            "text/plain": "StatementMeta(d3c1b951-094c-48e1-919d-e32bc175397b, 47, 10, Finished, Available)"
          },
          "metadata": {}
        }
      ],
      "execution_count": 5,
      "metadata": {
        "jupyter": {
          "source_hidden": false,
          "outputs_hidden": false
        },
        "nteract": {
          "transient": {
            "deleting": false
          }
        },
        "gather": {
          "logged": 1701283350550
        }
      }
    },
    {
      "cell_type": "code",
      "source": [
        "comments = comments.filter(col(\"subreddit\")==\"CollegeBasketball\")\n",
        "comments = comments.withColumn(\"hour\", hour(\"created_utc\"))\n",
        "comments = comments.withColumn(\"popular\", when(comments[\"score\"] > 8, 1).otherwise(0))\n",
        "comments = comments.withColumn(\"comment_length\", length(\"body\"))\n",
        "comments = comments.withColumnRenamed(\"col\", \"sentiment\")\n",
        "comments = comments.withColumn(\"supports_a_team\", when(col(\"supported_team\").isNull(), 0).otherwise(1))"
      ],
      "outputs": [
        {
          "output_type": "display_data",
          "data": {
            "application/vnd.livy.statement-meta+json": {
              "spark_pool": "d3c1b951-094c-48e1-919d-e32bc175397b",
              "session_id": "47",
              "statement_id": 11,
              "state": "finished",
              "livy_statement_state": "available",
              "queued_time": "2023-11-29T18:41:19.6873567Z",
              "session_start_time": null,
              "execution_start_time": "2023-11-29T18:42:30.5280814Z",
              "execution_finish_time": "2023-11-29T18:42:31.3712294Z",
              "spark_jobs": {
                "numbers": {
                  "FAILED": 0,
                  "RUNNING": 0,
                  "UNKNOWN": 0,
                  "SUCCEEDED": 0
                },
                "jobs": [],
                "limit": 20,
                "rule": "ALL_DESC"
              },
              "parent_msg_id": "ccdaf1a7-78f8-464e-a304-3bb4b4e1eef7"
            },
            "text/plain": "StatementMeta(d3c1b951-094c-48e1-919d-e32bc175397b, 47, 11, Finished, Available)"
          },
          "metadata": {}
        }
      ],
      "execution_count": 6,
      "metadata": {
        "jupyter": {
          "source_hidden": false,
          "outputs_hidden": false
        },
        "nteract": {
          "transient": {
            "deleting": false
          }
        },
        "gather": {
          "logged": 1701283351569
        }
      }
    },
    {
      "cell_type": "code",
      "source": [
        "pandas_df = comments.select(\"score\").toPandas()\n",
        "\n",
        "counts = pandas_df['score'].value_counts()\n",
        "counts.hist()\n",
        "\n",
        "# Add labels and title\n",
        "plt.title(\"Distribution of Popular Comments\")\n",
        "plt.xlabel('Popular')\n",
        "plt.ylabel('Count')\n",
        "# Show the plot\n",
        "plt.show()"
      ],
      "outputs": [
        {
          "output_type": "display_data",
          "data": {
            "application/vnd.livy.statement-meta+json": {
              "spark_pool": "d3c1b951-094c-48e1-919d-e32bc175397b",
              "session_id": "46",
              "statement_id": 12,
              "state": "finished",
              "livy_statement_state": "available",
              "queued_time": "2023-11-29T18:16:17.6715509Z",
              "session_start_time": null,
              "execution_start_time": "2023-11-29T18:16:17.7962848Z",
              "execution_finish_time": "2023-11-29T18:16:38.7109624Z",
              "spark_jobs": {
                "numbers": {
                  "FAILED": 0,
                  "RUNNING": 0,
                  "UNKNOWN": 0,
                  "SUCCEEDED": 1
                },
                "jobs": [
                  {
                    "displayName": "toPandas at /tmp/ipykernel_22438/3055976364.py:1",
                    "dataWritten": 323865526,
                    "dataRead": 518094289,
                    "rowCount": 7079037,
                    "usageDescription": "",
                    "jobId": 2,
                    "name": "toPandas at /tmp/ipykernel_22438/3055976364.py:1",
                    "description": "Job group for statement 12:\npandas_df = comments.select(\"score\").toPandas()\n\ncounts = pandas_df['score'].value_counts()\ncounts.hist()\n\n# Add labels and title\nplt.title(\"Distribution of Popular Comments\")\nplt.xlabel('Popular')\nplt.ylabel('Count')\n# Show the plot\nplt.show()",
                    "submissionTime": "2023-11-29T18:16:19.635GMT",
                    "completionTime": "2023-11-29T18:16:34.453GMT",
                    "stageIds": [
                      2,
                      3,
                      4
                    ],
                    "jobGroup": "12",
                    "status": "SUCCEEDED",
                    "numTasks": 232,
                    "numActiveTasks": 0,
                    "numCompletedTasks": 232,
                    "numSkippedTasks": 0,
                    "numFailedTasks": 0,
                    "numKilledTasks": 0,
                    "numCompletedIndices": 232,
                    "numActiveStages": 0,
                    "numCompletedStages": 3,
                    "numSkippedStages": 0,
                    "numFailedStages": 0,
                    "killedTasksSummary": {}
                  }
                ],
                "limit": 20,
                "rule": "ALL_DESC"
              },
              "parent_msg_id": "c67749ef-81c9-4111-8ab1-ece0040cc1b6"
            },
            "text/plain": "StatementMeta(d3c1b951-094c-48e1-919d-e32bc175397b, 46, 12, Finished, Available)"
          },
          "metadata": {}
        },
        {
          "output_type": "display_data",
          "data": {
            "text/plain": "<Figure size 432x288 with 1 Axes>",
            "image/png": "[encoded data removed]"
          },
          "metadata": {
            "needs_background": "light"
          }
        }
      ],
      "execution_count": 7,
      "metadata": {
        "jupyter": {
          "source_hidden": false,
          "outputs_hidden": false
        },
        "nteract": {
          "transient": {
            "deleting": false
          }
        },
        "gather": {
          "logged": 1701281799060
        }
      }
    },
    {
      "cell_type": "code",
      "source": [
        "window_spec = Window.partitionBy(\"author\")\n",
        "comments = comments.withColumn(\"author_activity\", F.count(\"author\").over(window_spec))"
      ],
      "outputs": [
        {
          "output_type": "display_data",
          "data": {
            "application/vnd.livy.statement-meta+json": {
              "spark_pool": "d3c1b951-094c-48e1-919d-e32bc175397b",
              "session_id": "47",
              "statement_id": 12,
              "state": "finished",
              "livy_statement_state": "available",
              "queued_time": "2023-11-29T18:41:21.0271863Z",
              "session_start_time": null,
              "execution_start_time": "2023-11-29T18:42:31.5167331Z",
              "execution_finish_time": "2023-11-29T18:42:31.8195761Z",
              "spark_jobs": {
                "numbers": {
                  "FAILED": 0,
                  "RUNNING": 0,
                  "UNKNOWN": 0,
                  "SUCCEEDED": 0
                },
                "jobs": [],
                "limit": 20,
                "rule": "ALL_DESC"
              },
              "parent_msg_id": "80588eb9-92e2-4b9a-ad70-8a6f5feb3bde"
            },
            "text/plain": "StatementMeta(d3c1b951-094c-48e1-919d-e32bc175397b, 47, 12, Finished, Available)"
          },
          "metadata": {}
        }
      ],
      "execution_count": 7,
      "metadata": {
        "jupyter": {
          "source_hidden": false,
          "outputs_hidden": false
        },
        "nteract": {
          "transient": {
            "deleting": false
          }
        },
        "gather": {
          "logged": 1701283351967
        }
      }
    },
    {
      "cell_type": "code",
      "source": [
        "train_data, test_data = comments.randomSplit([0.8, 0.2], seed = 82)\n",
        "print(\"Number of training records: \" + str(train_data.count()))\n",
        "print(\"Number of testing records : \" + str(test_data.count()))\n",
        "train_data = train_data.cache()"
      ],
      "outputs": [
        {
          "output_type": "display_data",
          "data": {
            "application/vnd.livy.statement-meta+json": {
              "spark_pool": "d3c1b951-094c-48e1-919d-e32bc175397b",
              "session_id": "47",
              "statement_id": 13,
              "state": "finished",
              "livy_statement_state": "available",
              "queued_time": "2023-11-29T18:41:22.2180315Z",
              "session_start_time": null,
              "execution_start_time": "2023-11-29T18:42:31.9790782Z",
              "execution_finish_time": "2023-11-29T18:43:01.8508058Z",
              "spark_jobs": {
                "numbers": {
                  "FAILED": 0,
                  "RUNNING": 0,
                  "UNKNOWN": 0,
                  "SUCCEEDED": 6
                },
                "jobs": [
                  {
                    "displayName": "count at NativeMethodAccessorImpl.java:0",
                    "dataWritten": 0,
                    "dataRead": 1003,
                    "rowCount": 17,
                    "usageDescription": "",
                    "jobId": 7,
                    "name": "count at NativeMethodAccessorImpl.java:0",
                    "description": "Job group for statement 13:\ntrain_data, test_data = comments.randomSplit([0.8, 0.2], seed = 82)\nprint(\"Number of training records: \" + str(train_data.count()))\nprint(\"Number of testing records : \" + str(test_data.count()))\ntrain_data = train_data.cache()",
                    "submissionTime": "2023-11-29T18:42:59.760GMT",
                    "completionTime": "2023-11-29T18:42:59.940GMT",
                    "stageIds": [
                      24,
                      21,
                      25,
                      22,
                      23
                    ],
                    "jobGroup": "13",
                    "status": "SUCCEEDED",
                    "numTasks": 250,
                    "numActiveTasks": 0,
                    "numCompletedTasks": 1,
                    "numSkippedTasks": 249,
                    "numFailedTasks": 0,
                    "numKilledTasks": 0,
                    "numCompletedIndices": 1,
                    "numActiveStages": 0,
                    "numCompletedStages": 1,
                    "numSkippedStages": 4,
                    "numFailedStages": 0,
                    "killedTasksSummary": {}
                  },
                  {
                    "displayName": "count at NativeMethodAccessorImpl.java:0",
                    "dataWritten": 1003,
                    "dataRead": 256953685,
                    "rowCount": 865489,
                    "usageDescription": "",
                    "jobId": 6,
                    "name": "count at NativeMethodAccessorImpl.java:0",
                    "description": "Job group for statement 13:\ntrain_data, test_data = comments.randomSplit([0.8, 0.2], seed = 82)\nprint(\"Number of training records: \" + str(train_data.count()))\nprint(\"Number of testing records : \" + str(test_data.count()))\ntrain_data = train_data.cache()",
                    "submissionTime": "2023-11-29T18:42:58.844GMT",
                    "completionTime": "2023-11-29T18:42:59.700GMT",
                    "stageIds": [
                      19,
                      20,
                      17,
                      18
                    ],
                    "jobGroup": "13",
                    "status": "SUCCEEDED",
                    "numTasks": 249,
                    "numActiveTasks": 0,
                    "numCompletedTasks": 17,
                    "numSkippedTasks": 232,
                    "numFailedTasks": 0,
                    "numKilledTasks": 0,
                    "numCompletedIndices": 17,
                    "numActiveStages": 0,
                    "numCompletedStages": 1,
                    "numSkippedStages": 3,
                    "numFailedStages": 0,
                    "killedTasksSummary": {}
                  },
                  {
                    "displayName": "count at NativeMethodAccessorImpl.java:0",
                    "dataWritten": 256953685,
                    "dataRead": 250305889,
                    "rowCount": 865672,
                    "usageDescription": "",
                    "jobId": 5,
                    "name": "count at NativeMethodAccessorImpl.java:0",
                    "description": "Job group for statement 13:\ntrain_data, test_data = comments.randomSplit([0.8, 0.2], seed = 82)\nprint(\"Number of training records: \" + str(train_data.count()))\nprint(\"Number of testing records : \" + str(test_data.count()))\ntrain_data = train_data.cache()",
                    "submissionTime": "2023-11-29T18:42:55.286GMT",
                    "completionTime": "2023-11-29T18:42:58.738GMT",
                    "stageIds": [
                      15,
                      16,
                      14
                    ],
                    "jobGroup": "13",
                    "status": "SUCCEEDED",
                    "numTasks": 232,
                    "numActiveTasks": 0,
                    "numCompletedTasks": 200,
                    "numSkippedTasks": 32,
                    "numFailedTasks": 0,
                    "numKilledTasks": 0,
                    "numCompletedIndices": 200,
                    "numActiveStages": 0,
                    "numCompletedStages": 1,
                    "numSkippedStages": 2,
                    "numFailedStages": 0,
                    "killedTasksSummary": {}
                  },
                  {
                    "displayName": "count at NativeMethodAccessorImpl.java:0",
                    "dataWritten": 0,
                    "dataRead": 1003,
                    "rowCount": 17,
                    "usageDescription": "",
                    "jobId": 4,
                    "name": "count at NativeMethodAccessorImpl.java:0",
                    "description": "Job group for statement 13:\ntrain_data, test_data = comments.randomSplit([0.8, 0.2], seed = 82)\nprint(\"Number of training records: \" + str(train_data.count()))\nprint(\"Number of testing records : \" + str(test_data.count()))\ntrain_data = train_data.cache()",
                    "submissionTime": "2023-11-29T18:42:54.940GMT",
                    "completionTime": "2023-11-29T18:42:55.019GMT",
                    "stageIds": [
                      12,
                      9,
                      13,
                      10,
                      11
                    ],
                    "jobGroup": "13",
                    "status": "SUCCEEDED",
                    "numTasks": 250,
                    "numActiveTasks": 0,
                    "numCompletedTasks": 1,
                    "numSkippedTasks": 249,
                    "numFailedTasks": 0,
                    "numKilledTasks": 0,
                    "numCompletedIndices": 1,
                    "numActiveStages": 0,
                    "numCompletedStages": 1,
                    "numSkippedStages": 4,
                    "numFailedStages": 0,
                    "killedTasksSummary": {}
                  },
                  {
                    "displayName": "count at NativeMethodAccessorImpl.java:0",
                    "dataWritten": 1003,
                    "dataRead": 256953685,
                    "rowCount": 865489,
                    "usageDescription": "",
                    "jobId": 3,
                    "name": "count at NativeMethodAccessorImpl.java:0",
                    "description": "Job group for statement 13:\ntrain_data, test_data = comments.randomSplit([0.8, 0.2], seed = 82)\nprint(\"Number of training records: \" + str(train_data.count()))\nprint(\"Number of testing records : \" + str(test_data.count()))\ntrain_data = train_data.cache()",
                    "submissionTime": "2023-11-29T18:42:52.965GMT",
                    "completionTime": "2023-11-29T18:42:54.860GMT",
                    "stageIds": [
                      5,
                      6,
                      7,
                      8
                    ],
                    "jobGroup": "13",
                    "status": "SUCCEEDED",
                    "numTasks": 249,
                    "numActiveTasks": 0,
                    "numCompletedTasks": 17,
                    "numSkippedTasks": 232,
                    "numFailedTasks": 0,
                    "numKilledTasks": 0,
                    "numCompletedIndices": 17,
                    "numActiveStages": 0,
                    "numCompletedStages": 1,
                    "numSkippedStages": 3,
                    "numFailedStages": 0,
                    "killedTasksSummary": {}
                  },
                  {
                    "displayName": "count at NativeMethodAccessorImpl.java:0",
                    "dataWritten": 580819211,
                    "dataRead": 518087235,
                    "rowCount": 7944509,
                    "usageDescription": "",
                    "jobId": 2,
                    "name": "count at NativeMethodAccessorImpl.java:0",
                    "description": "Job group for statement 13:\ntrain_data, test_data = comments.randomSplit([0.8, 0.2], seed = 82)\nprint(\"Number of training records: \" + str(train_data.count()))\nprint(\"Number of testing records : \" + str(test_data.count()))\ntrain_data = train_data.cache()",
                    "submissionTime": "2023-11-29T18:42:33.723GMT",
                    "completionTime": "2023-11-29T18:42:52.445GMT",
                    "stageIds": [
                      2,
                      3,
                      4
                    ],
                    "jobGroup": "13",
                    "status": "SUCCEEDED",
                    "numTasks": 232,
                    "numActiveTasks": 0,
                    "numCompletedTasks": 232,
                    "numSkippedTasks": 0,
                    "numFailedTasks": 0,
                    "numKilledTasks": 0,
                    "numCompletedIndices": 232,
                    "numActiveStages": 0,
                    "numCompletedStages": 3,
                    "numSkippedStages": 0,
                    "numFailedStages": 0,
                    "killedTasksSummary": {}
                  }
                ],
                "limit": 20,
                "rule": "ALL_DESC"
              },
              "parent_msg_id": "901d0352-ba68-4468-8f6e-abbb81e65fb8"
            },
            "text/plain": "StatementMeta(d3c1b951-094c-48e1-919d-e32bc175397b, 47, 13, Finished, Available)"
          },
          "metadata": {}
        },
        {
          "output_type": "stream",
          "name": "stdout",
          "text": "Number of training records: 692712\nNumber of testing records : 172760\n"
        }
      ],
      "execution_count": 8,
      "metadata": {
        "jupyter": {
          "source_hidden": false,
          "outputs_hidden": false
        },
        "nteract": {
          "transient": {
            "deleting": false
          }
        },
        "gather": {
          "logged": 1701283382063
        }
      }
    },
    {
      "cell_type": "markdown",
      "source": [
        "### Regression Version"
      ],
      "metadata": {
        "nteract": {
          "transient": {
            "deleting": false
          }
        }
      }
    },
    {
      "cell_type": "code",
      "source": [
        "stringIndexer_team = StringIndexer(inputCol='supports_a_team', outputCol=\"team_index\", handleInvalid=\"skip\") \n",
        "stringIndexer_month = StringIndexer(inputCol='month', outputCol=\"month_index\", handleInvalid=\"skip\") \n",
        "stringIndexer_sentiment = StringIndexer(inputCol='sentiment', outputCol=\"sentiment_index\", handleInvalid=\"skip\") \n",
        "onehot_sentiment = OneHotEncoder(inputCol=\"sentiment_index\", outputCol=\"sentiment_vec\")\n",
        "onehot_month = OneHotEncoder(inputCol=\"month_index\", outputCol=\"month_vec\")"
      ],
      "outputs": [
        {
          "output_type": "display_data",
          "data": {
            "application/vnd.livy.statement-meta+json": {
              "spark_pool": "d3c1b951-094c-48e1-919d-e32bc175397b",
              "session_id": "47",
              "statement_id": 14,
              "state": "finished",
              "livy_statement_state": "available",
              "queued_time": "2023-11-29T18:41:29.9503383Z",
              "session_start_time": null,
              "execution_start_time": "2023-11-29T18:43:01.9973028Z",
              "execution_finish_time": "2023-11-29T18:43:02.291461Z",
              "spark_jobs": {
                "numbers": {
                  "FAILED": 0,
                  "RUNNING": 0,
                  "UNKNOWN": 0,
                  "SUCCEEDED": 0
                },
                "jobs": [],
                "limit": 20,
                "rule": "ALL_DESC"
              },
              "parent_msg_id": "4b0b926c-b5b9-4bf2-86f8-651c78ef5e99"
            },
            "text/plain": "StatementMeta(d3c1b951-094c-48e1-919d-e32bc175397b, 47, 14, Finished, Available)"
          },
          "metadata": {}
        }
      ],
      "execution_count": 9,
      "metadata": {
        "jupyter": {
          "source_hidden": false,
          "outputs_hidden": false
        },
        "nteract": {
          "transient": {
            "deleting": false
          }
        },
        "gather": {
          "logged": 1701283382444
        }
      }
    },
    {
      "cell_type": "code",
      "source": [
        "feature_cols = ['comment_length', 'day', 'year', 'hour', 'author_activity', \"month_vec\", \"sentiment_vec\", \"team_index\"]\n",
        "assembler = VectorAssembler(inputCols=feature_cols, outputCol=\"features\")"
      ],
      "outputs": [
        {
          "output_type": "display_data",
          "data": {
            "application/vnd.livy.statement-meta+json": {
              "spark_pool": "d3c1b951-094c-48e1-919d-e32bc175397b",
              "session_id": "47",
              "statement_id": 15,
              "state": "finished",
              "livy_statement_state": "available",
              "queued_time": "2023-11-29T18:41:32.2961219Z",
              "session_start_time": null,
              "execution_start_time": "2023-11-29T18:43:02.4690637Z",
              "execution_finish_time": "2023-11-29T18:43:02.8402099Z",
              "spark_jobs": {
                "numbers": {
                  "FAILED": 0,
                  "RUNNING": 0,
                  "UNKNOWN": 0,
                  "SUCCEEDED": 0
                },
                "jobs": [],
                "limit": 20,
                "rule": "ALL_DESC"
              },
              "parent_msg_id": "1c3695b7-1db3-4896-bab3-636da687efaf"
            },
            "text/plain": "StatementMeta(d3c1b951-094c-48e1-919d-e32bc175397b, 47, 15, Finished, Available)"
          },
          "metadata": {}
        }
      ],
      "execution_count": 10,
      "metadata": {
        "jupyter": {
          "source_hidden": false,
          "outputs_hidden": false
        },
        "nteract": {
          "transient": {
            "deleting": false
          }
        },
        "gather": {
          "logged": 1701283382997
        }
      }
    },
    {
      "cell_type": "code",
      "source": [
        "lr = LinearRegression(featuresCol=\"features\", labelCol=\"score\", maxIter=10, regParam=0.3, elasticNetParam=0.8)"
      ],
      "outputs": [
        {
          "output_type": "display_data",
          "data": {
            "application/vnd.livy.statement-meta+json": {
              "spark_pool": "d3c1b951-094c-48e1-919d-e32bc175397b",
              "session_id": "44",
              "statement_id": 158,
              "state": "finished",
              "livy_statement_state": "available",
              "queued_time": "2023-11-29T17:01:17.4797046Z",
              "session_start_time": null,
              "execution_start_time": "2023-11-29T17:01:17.5775898Z",
              "execution_finish_time": "2023-11-29T17:01:17.8740472Z",
              "spark_jobs": {
                "numbers": {
                  "FAILED": 0,
                  "RUNNING": 0,
                  "UNKNOWN": 0,
                  "SUCCEEDED": 0
                },
                "jobs": [],
                "limit": 20,
                "rule": "ALL_DESC"
              },
              "parent_msg_id": "769bfcf4-27d0-48f0-9d4e-28e7151436c0"
            },
            "text/plain": "StatementMeta(d3c1b951-094c-48e1-919d-e32bc175397b, 44, 158, Finished, Available)"
          },
          "metadata": {}
        }
      ],
      "execution_count": 151,
      "metadata": {
        "jupyter": {
          "source_hidden": false,
          "outputs_hidden": false
        },
        "nteract": {
          "transient": {
            "deleting": false
          }
        },
        "gather": {
          "logged": 1701277278577
        }
      }
    },
    {
      "cell_type": "code",
      "source": [
        "rf = RandomForestRegressor(featuresCol=\"features\", labelCol=\"score\", maxDepth=15, numTrees=50)"
      ],
      "outputs": [
        {
          "output_type": "display_data",
          "data": {
            "application/vnd.livy.statement-meta+json": {
              "spark_pool": "d3c1b951-094c-48e1-919d-e32bc175397b",
              "session_id": "46",
              "statement_id": 18,
              "state": "finished",
              "livy_statement_state": "available",
              "queued_time": "2023-11-29T18:18:40.5702731Z",
              "session_start_time": null,
              "execution_start_time": "2023-11-29T18:18:40.6892935Z",
              "execution_finish_time": "2023-11-29T18:18:40.9783363Z",
              "spark_jobs": {
                "numbers": {
                  "FAILED": 0,
                  "RUNNING": 0,
                  "UNKNOWN": 0,
                  "SUCCEEDED": 0
                },
                "jobs": [],
                "limit": 20,
                "rule": "ALL_DESC"
              },
              "parent_msg_id": "b2fd3931-7ef2-49f8-8c55-258c4fd08526"
            },
            "text/plain": "StatementMeta(d3c1b951-094c-48e1-919d-e32bc175397b, 46, 18, Finished, Available)"
          },
          "metadata": {}
        }
      ],
      "execution_count": 13,
      "metadata": {
        "jupyter": {
          "source_hidden": false,
          "outputs_hidden": false
        },
        "nteract": {
          "transient": {
            "deleting": false
          }
        },
        "gather": {
          "logged": 1701281921273
        }
      }
    },
    {
      "cell_type": "code",
      "source": [
        "pipeline_model = Pipeline(stages = [\n",
        "    stringIndexer_sentiment,\n",
        "    stringIndexer_month,\n",
        "    stringIndexer_team,\n",
        "    onehot_month,\n",
        "    onehot_sentiment,\n",
        "    assembler,\n",
        "    rf\n",
        "])"
      ],
      "outputs": [
        {
          "output_type": "display_data",
          "data": {
            "application/vnd.livy.statement-meta+json": {
              "spark_pool": "d3c1b951-094c-48e1-919d-e32bc175397b",
              "session_id": "46",
              "statement_id": 19,
              "state": "finished",
              "livy_statement_state": "available",
              "queued_time": "2023-11-29T18:18:42.7646875Z",
              "session_start_time": null,
              "execution_start_time": "2023-11-29T18:18:42.8739518Z",
              "execution_finish_time": "2023-11-29T18:18:43.1619138Z",
              "spark_jobs": {
                "numbers": {
                  "FAILED": 0,
                  "RUNNING": 0,
                  "UNKNOWN": 0,
                  "SUCCEEDED": 0
                },
                "jobs": [],
                "limit": 20,
                "rule": "ALL_DESC"
              },
              "parent_msg_id": "2199d06b-0703-4287-ba12-6933943c1380"
            },
            "text/plain": "StatementMeta(d3c1b951-094c-48e1-919d-e32bc175397b, 46, 19, Finished, Available)"
          },
          "metadata": {}
        }
      ],
      "execution_count": 14,
      "metadata": {
        "jupyter": {
          "source_hidden": false,
          "outputs_hidden": false
        },
        "nteract": {
          "transient": {
            "deleting": false
          }
        },
        "gather": {
          "logged": 1701281923350
        }
      }
    },
    {
      "cell_type": "code",
      "source": [
        "model = pipeline_model.fit(train_data)"
      ],
      "outputs": [
        {
          "output_type": "display_data",
          "data": {
            "application/vnd.livy.statement-meta+json": {
              "spark_pool": "d3c1b951-094c-48e1-919d-e32bc175397b",
              "session_id": "46",
              "statement_id": 20,
              "state": "finished",
              "livy_statement_state": "available",
              "queued_time": "2023-11-29T18:18:44.2568032Z",
              "session_start_time": null,
              "execution_start_time": "2023-11-29T18:18:44.378962Z",
              "execution_finish_time": "2023-11-29T18:27:39.7313867Z",
              "spark_jobs": {
                "numbers": {
                  "FAILED": 0,
                  "RUNNING": 0,
                  "UNKNOWN": 0,
                  "SUCCEEDED": 24
                },
                "jobs": [
                  {
                    "displayName": "collectAsMap at RandomForest.scala:663",
                    "dataWritten": 1291528526,
                    "dataRead": 1525426431,
                    "rowCount": 59663240,
                    "usageDescription": "",
                    "jobId": 32,
                    "name": "collectAsMap at RandomForest.scala:663",
                    "description": "Job group for statement 20:\nmodel = pipeline_model.fit(train_data)",
                    "submissionTime": "2023-11-29T18:24:52.623GMT",
                    "completionTime": "2023-11-29T18:27:36.037GMT",
                    "stageIds": [
                      143,
                      139,
                      140,
                      141,
                      142
                    ],
                    "jobGroup": "20",
                    "status": "SUCCEEDED",
                    "numTasks": 632,
                    "numActiveTasks": 0,
                    "numCompletedTasks": 400,
                    "numSkippedTasks": 232,
                    "numFailedTasks": 0,
                    "numKilledTasks": 0,
                    "numCompletedIndices": 400,
                    "numActiveStages": 0,
                    "numCompletedStages": 2,
                    "numSkippedStages": 3,
                    "numFailedStages": 0,
                    "killedTasksSummary": {}
                  },
                  {
                    "displayName": "collectAsMap at RandomForest.scala:663",
                    "dataWritten": 1008399146,
                    "dataRead": 1245624716,
                    "rowCount": 42969240,
                    "usageDescription": "",
                    "jobId": 31,
                    "name": "collectAsMap at RandomForest.scala:663",
                    "description": "Job group for statement 20:\nmodel = pipeline_model.fit(train_data)",
                    "submissionTime": "2023-11-29T18:22:50.166GMT",
                    "completionTime": "2023-11-29T18:24:48.462GMT",
                    "stageIds": [
                      135,
                      136,
                      137,
                      138,
                      134
                    ],
                    "jobGroup": "20",
                    "status": "SUCCEEDED",
                    "numTasks": 632,
                    "numActiveTasks": 0,
                    "numCompletedTasks": 400,
                    "numSkippedTasks": 232,
                    "numFailedTasks": 0,
                    "numKilledTasks": 0,
                    "numCompletedIndices": 400,
                    "numActiveStages": 0,
                    "numCompletedStages": 2,
                    "numSkippedStages": 3,
                    "numFailedStages": 0,
                    "killedTasksSummary": {}
                  },
                  {
                    "displayName": "collectAsMap at RandomForest.scala:663",
                    "dataWritten": 762897391,
                    "dataRead": 1000787453,
                    "rowCount": 29595240,
                    "usageDescription": "",
                    "jobId": 30,
                    "name": "collectAsMap at RandomForest.scala:663",
                    "description": "Job group for statement 20:\nmodel = pipeline_model.fit(train_data)",
                    "submissionTime": "2023-11-29T18:21:29.596GMT",
                    "completionTime": "2023-11-29T18:22:47.475GMT",
                    "stageIds": [
                      132,
                      129,
                      133,
                      130,
                      131
                    ],
                    "jobGroup": "20",
                    "status": "SUCCEEDED",
                    "numTasks": 632,
                    "numActiveTasks": 0,
                    "numCompletedTasks": 400,
                    "numSkippedTasks": 232,
                    "numFailedTasks": 0,
                    "numKilledTasks": 0,
                    "numCompletedIndices": 400,
                    "numActiveStages": 0,
                    "numCompletedStages": 2,
                    "numSkippedStages": 3,
                    "numFailedStages": 0,
                    "killedTasksSummary": {}
                  },
                  {
                    "displayName": "collectAsMap at RandomForest.scala:663",
                    "dataWritten": 567987854,
                    "dataRead": 807684413,
                    "rowCount": 19600840,
                    "usageDescription": "",
                    "jobId": 29,
                    "name": "collectAsMap at RandomForest.scala:663",
                    "description": "Job group for statement 20:\nmodel = pipeline_model.fit(train_data)",
                    "submissionTime": "2023-11-29T18:20:37.572GMT",
                    "completionTime": "2023-11-29T18:21:27.856GMT",
                    "stageIds": [
                      125,
                      126,
                      127,
                      124,
                      128
                    ],
                    "jobGroup": "20",
                    "status": "SUCCEEDED",
                    "numTasks": 632,
                    "numActiveTasks": 0,
                    "numCompletedTasks": 400,
                    "numSkippedTasks": 232,
                    "numFailedTasks": 0,
                    "numKilledTasks": 0,
                    "numCompletedIndices": 400,
                    "numActiveStages": 0,
                    "numCompletedStages": 2,
                    "numSkippedStages": 3,
                    "numFailedStages": 0,
                    "killedTasksSummary": {}
                  },
                  {
                    "displayName": "collectAsMap at RandomForest.scala:663",
                    "dataWritten": 426185156,
                    "dataRead": 660975952,
                    "rowCount": 12424440,
                    "usageDescription": "",
                    "jobId": 28,
                    "name": "collectAsMap at RandomForest.scala:663",
                    "description": "Job group for statement 20:\nmodel = pipeline_model.fit(train_data)",
                    "submissionTime": "2023-11-29T18:20:05.220GMT",
                    "completionTime": "2023-11-29T18:20:36.342GMT",
                    "stageIds": [
                      121,
                      122,
                      119,
                      123,
                      120
                    ],
                    "jobGroup": "20",
                    "status": "SUCCEEDED",
                    "numTasks": 632,
                    "numActiveTasks": 0,
                    "numCompletedTasks": 400,
                    "numSkippedTasks": 232,
                    "numFailedTasks": 0,
                    "numKilledTasks": 0,
                    "numCompletedIndices": 400,
                    "numActiveStages": 0,
                    "numCompletedStages": 2,
                    "numSkippedStages": 3,
                    "numFailedStages": 0,
                    "killedTasksSummary": {}
                  },
                  {
                    "displayName": "collectAsMap at RandomForest.scala:663",
                    "dataWritten": 307699067,
                    "dataRead": 546399965,
                    "rowCount": 7650840,
                    "usageDescription": "",
                    "jobId": 27,
                    "name": "collectAsMap at RandomForest.scala:663",
                    "description": "Job group for statement 20:\nmodel = pipeline_model.fit(train_data)",
                    "submissionTime": "2023-11-29T18:19:45.645GMT",
                    "completionTime": "2023-11-29T18:20:04.555GMT",
                    "stageIds": [
                      117,
                      114,
                      118,
                      115,
                      116
                    ],
                    "jobGroup": "20",
                    "status": "SUCCEEDED",
                    "numTasks": 632,
                    "numActiveTasks": 0,
                    "numCompletedTasks": 400,
                    "numSkippedTasks": 232,
                    "numFailedTasks": 0,
                    "numKilledTasks": 0,
                    "numCompletedIndices": 400,
                    "numActiveStages": 0,
                    "numCompletedStages": 2,
                    "numSkippedStages": 3,
                    "numFailedStages": 0,
                    "killedTasksSummary": {}
                  },
                  {
                    "displayName": "collectAsMap at RandomForest.scala:663",
                    "dataWritten": 214710125,
                    "dataRead": 448700235,
                    "rowCount": 4652440,
                    "usageDescription": "",
                    "jobId": 26,
                    "name": "collectAsMap at RandomForest.scala:663",
                    "description": "Job group for statement 20:\nmodel = pipeline_model.fit(train_data)",
                    "submissionTime": "2023-11-29T18:19:34.804GMT",
                    "completionTime": "2023-11-29T18:19:45.256GMT",
                    "stageIds": [
                      111,
                      112,
                      109,
                      113,
                      110
                    ],
                    "jobGroup": "20",
                    "status": "SUCCEEDED",
                    "numTasks": 632,
                    "numActiveTasks": 0,
                    "numCompletedTasks": 400,
                    "numSkippedTasks": 232,
                    "numFailedTasks": 0,
                    "numKilledTasks": 0,
                    "numCompletedIndices": 400,
                    "numActiveStages": 0,
                    "numCompletedStages": 2,
                    "numSkippedStages": 3,
                    "numFailedStages": 0,
                    "killedTasksSummary": {}
                  },
                  {
                    "displayName": "collectAsMap at RandomForest.scala:663",
                    "dataWritten": 162633916,
                    "dataRead": 399088807,
                    "rowCount": 2873240,
                    "usageDescription": "",
                    "jobId": 25,
                    "name": "collectAsMap at RandomForest.scala:663",
                    "description": "Job group for statement 20:\nmodel = pipeline_model.fit(train_data)",
                    "submissionTime": "2023-11-29T18:19:27.589GMT",
                    "completionTime": "2023-11-29T18:19:34.539GMT",
                    "stageIds": [
                      107,
                      104,
                      108,
                      105,
                      106
                    ],
                    "jobGroup": "20",
                    "status": "SUCCEEDED",
                    "numTasks": 632,
                    "numActiveTasks": 0,
                    "numCompletedTasks": 400,
                    "numSkippedTasks": 232,
                    "numFailedTasks": 0,
                    "numKilledTasks": 0,
                    "numCompletedIndices": 400,
                    "numActiveStages": 0,
                    "numCompletedStages": 2,
                    "numSkippedStages": 3,
                    "numFailedStages": 0,
                    "killedTasksSummary": {}
                  },
                  {
                    "displayName": "collectAsMap at RandomForest.scala:663",
                    "dataWritten": 122259447,
                    "dataRead": 360829252,
                    "rowCount": 1853240,
                    "usageDescription": "",
                    "jobId": 24,
                    "name": "collectAsMap at RandomForest.scala:663",
                    "description": "Job group for statement 20:\nmodel = pipeline_model.fit(train_data)",
                    "submissionTime": "2023-11-29T18:19:22.335GMT",
                    "completionTime": "2023-11-29T18:19:27.385GMT",
                    "stageIds": [
                      102,
                      99,
                      103,
                      100,
                      101
                    ],
                    "jobGroup": "20",
                    "status": "SUCCEEDED",
                    "numTasks": 632,
                    "numActiveTasks": 0,
                    "numCompletedTasks": 400,
                    "numSkippedTasks": 232,
                    "numFailedTasks": 0,
                    "numKilledTasks": 0,
                    "numCompletedIndices": 400,
                    "numActiveStages": 0,
                    "numCompletedStages": 2,
                    "numSkippedStages": 3,
                    "numFailedStages": 0,
                    "killedTasksSummary": {}
                  },
                  {
                    "displayName": "collectAsMap at RandomForest.scala:663",
                    "dataWritten": 92831680,
                    "dataRead": 330156334,
                    "rowCount": 1294040,
                    "usageDescription": "",
                    "jobId": 23,
                    "name": "collectAsMap at RandomForest.scala:663",
                    "description": "Job group for statement 20:\nmodel = pipeline_model.fit(train_data)",
                    "submissionTime": "2023-11-29T18:19:18.377GMT",
                    "completionTime": "2023-11-29T18:19:22.211GMT",
                    "stageIds": [
                      96,
                      97,
                      94,
                      98,
                      95
                    ],
                    "jobGroup": "20",
                    "status": "SUCCEEDED",
                    "numTasks": 632,
                    "numActiveTasks": 0,
                    "numCompletedTasks": 400,
                    "numSkippedTasks": 232,
                    "numFailedTasks": 0,
                    "numKilledTasks": 0,
                    "numCompletedIndices": 400,
                    "numActiveStages": 0,
                    "numCompletedStages": 2,
                    "numSkippedStages": 3,
                    "numFailedStages": 0,
                    "killedTasksSummary": {}
                  },
                  {
                    "displayName": "collectAsMap at RandomForest.scala:663",
                    "dataWritten": 67755197,
                    "dataRead": 303862810,
                    "rowCount": 1002040,
                    "usageDescription": "",
                    "jobId": 22,
                    "name": "collectAsMap at RandomForest.scala:663",
                    "description": "Job group for statement 20:\nmodel = pipeline_model.fit(train_data)",
                    "submissionTime": "2023-11-29T18:19:14.636GMT",
                    "completionTime": "2023-11-29T18:19:18.290GMT",
                    "stageIds": [
                      89,
                      93,
                      90,
                      91,
                      92
                    ],
                    "jobGroup": "20",
                    "status": "SUCCEEDED",
                    "numTasks": 632,
                    "numActiveTasks": 0,
                    "numCompletedTasks": 400,
                    "numSkippedTasks": 232,
                    "numFailedTasks": 0,
                    "numKilledTasks": 0,
                    "numCompletedIndices": 400,
                    "numActiveStages": 0,
                    "numCompletedStages": 2,
                    "numSkippedStages": 3,
                    "numFailedStages": 0,
                    "killedTasksSummary": {}
                  },
                  {
                    "displayName": "collectAsMap at RandomForest.scala:663",
                    "dataWritten": 49785722,
                    "dataRead": 290825110,
                    "rowCount": 847640,
                    "usageDescription": "",
                    "jobId": 21,
                    "name": "collectAsMap at RandomForest.scala:663",
                    "description": "Job group for statement 20:\nmodel = pipeline_model.fit(train_data)",
                    "submissionTime": "2023-11-29T18:19:11.489GMT",
                    "completionTime": "2023-11-29T18:19:14.573GMT",
                    "stageIds": [
                      84,
                      88,
                      85,
                      86,
                      87
                    ],
                    "jobGroup": "20",
                    "status": "SUCCEEDED",
                    "numTasks": 632,
                    "numActiveTasks": 0,
                    "numCompletedTasks": 400,
                    "numSkippedTasks": 232,
                    "numFailedTasks": 0,
                    "numKilledTasks": 0,
                    "numCompletedIndices": 400,
                    "numActiveStages": 0,
                    "numCompletedStages": 2,
                    "numSkippedStages": 3,
                    "numFailedStages": 0,
                    "killedTasksSummary": {}
                  },
                  {
                    "displayName": "collectAsMap at RandomForest.scala:663",
                    "dataWritten": 37173942,
                    "dataRead": 280172172,
                    "rowCount": 771640,
                    "usageDescription": "",
                    "jobId": 20,
                    "name": "collectAsMap at RandomForest.scala:663",
                    "description": "Job group for statement 20:\nmodel = pipeline_model.fit(train_data)",
                    "submissionTime": "2023-11-29T18:19:08.611GMT",
                    "completionTime": "2023-11-29T18:19:11.441GMT",
                    "stageIds": [
                      81,
                      82,
                      83,
                      79,
                      80
                    ],
                    "jobGroup": "20",
                    "status": "SUCCEEDED",
                    "numTasks": 632,
                    "numActiveTasks": 0,
                    "numCompletedTasks": 400,
                    "numSkippedTasks": 232,
                    "numFailedTasks": 0,
                    "numKilledTasks": 0,
                    "numCompletedIndices": 400,
                    "numActiveStages": 0,
                    "numCompletedStages": 2,
                    "numSkippedStages": 3,
                    "numFailedStages": 0,
                    "killedTasksSummary": {}
                  },
                  {
                    "displayName": "collectAsMap at RandomForest.scala:663",
                    "dataWritten": 21097159,
                    "dataRead": 262689678,
                    "rowCount": 732440,
                    "usageDescription": "",
                    "jobId": 19,
                    "name": "collectAsMap at RandomForest.scala:663",
                    "description": "Job group for statement 20:\nmodel = pipeline_model.fit(train_data)",
                    "submissionTime": "2023-11-29T18:19:06.386GMT",
                    "completionTime": "2023-11-29T18:19:08.541GMT",
                    "stageIds": [
                      78,
                      74,
                      75,
                      76,
                      77
                    ],
                    "jobGroup": "20",
                    "status": "SUCCEEDED",
                    "numTasks": 632,
                    "numActiveTasks": 0,
                    "numCompletedTasks": 400,
                    "numSkippedTasks": 232,
                    "numFailedTasks": 0,
                    "numKilledTasks": 0,
                    "numCompletedIndices": 400,
                    "numActiveStages": 0,
                    "numCompletedStages": 2,
                    "numSkippedStages": 3,
                    "numFailedStages": 0,
                    "killedTasksSummary": {}
                  },
                  {
                    "displayName": "collectAsMap at RandomForest.scala:663",
                    "dataWritten": 12028530,
                    "dataRead": 197735271,
                    "rowCount": 20201,
                    "usageDescription": "",
                    "jobId": 18,
                    "name": "collectAsMap at RandomForest.scala:663",
                    "description": "Job group for statement 20:\nmodel = pipeline_model.fit(train_data)",
                    "submissionTime": "2023-11-29T18:19:02.032GMT",
                    "completionTime": "2023-11-29T18:19:06.309GMT",
                    "stageIds": [
                      70,
                      71,
                      72,
                      69,
                      73
                    ],
                    "jobGroup": "20",
                    "status": "SUCCEEDED",
                    "numTasks": 632,
                    "numActiveTasks": 0,
                    "numCompletedTasks": 400,
                    "numSkippedTasks": 232,
                    "numFailedTasks": 0,
                    "numKilledTasks": 0,
                    "numCompletedIndices": 400,
                    "numActiveStages": 0,
                    "numCompletedStages": 2,
                    "numSkippedStages": 3,
                    "numFailedStages": 0,
                    "killedTasksSummary": {}
                  },
                  {
                    "displayName": "collectAsMap at RandomForest.scala:1054",
                    "dataWritten": 641750,
                    "dataRead": 188333200,
                    "rowCount": 2201,
                    "usageDescription": "",
                    "jobId": 17,
                    "name": "collectAsMap at RandomForest.scala:1054",
                    "description": "Job group for statement 20:\nmodel = pipeline_model.fit(train_data)",
                    "submissionTime": "2023-11-29T18:18:59.959GMT",
                    "completionTime": "2023-11-29T18:19:01.956GMT",
                    "stageIds": [
                      66,
                      67,
                      64,
                      68,
                      65
                    ],
                    "jobGroup": "20",
                    "status": "SUCCEEDED",
                    "numTasks": 437,
                    "numActiveTasks": 0,
                    "numCompletedTasks": 205,
                    "numSkippedTasks": 232,
                    "numFailedTasks": 0,
                    "numKilledTasks": 0,
                    "numCompletedIndices": 205,
                    "numActiveStages": 0,
                    "numCompletedStages": 2,
                    "numSkippedStages": 3,
                    "numFailedStages": 0,
                    "killedTasksSummary": {}
                  },
                  {
                    "displayName": "aggregate at DecisionTreeMetadata.scala:125",
                    "dataWritten": 0,
                    "dataRead": 186816162,
                    "rowCount": 201,
                    "usageDescription": "",
                    "jobId": 16,
                    "name": "aggregate at DecisionTreeMetadata.scala:125",
                    "description": "Job group for statement 20:\nmodel = pipeline_model.fit(train_data)",
                    "submissionTime": "2023-11-29T18:18:57.527GMT",
                    "completionTime": "2023-11-29T18:18:59.863GMT",
                    "stageIds": [
                      63,
                      60,
                      61,
                      62
                    ],
                    "jobGroup": "20",
                    "status": "SUCCEEDED",
                    "numTasks": 432,
                    "numActiveTasks": 0,
                    "numCompletedTasks": 200,
                    "numSkippedTasks": 232,
                    "numFailedTasks": 0,
                    "numKilledTasks": 0,
                    "numCompletedIndices": 200,
                    "numActiveStages": 0,
                    "numCompletedStages": 1,
                    "numSkippedStages": 3,
                    "numFailedStages": 0,
                    "killedTasksSummary": {}
                  },
                  {
                    "displayName": "take at DecisionTreeMetadata.scala:119",
                    "dataWritten": 0,
                    "dataRead": 1395776,
                    "rowCount": 1,
                    "usageDescription": "",
                    "jobId": 15,
                    "name": "take at DecisionTreeMetadata.scala:119",
                    "description": "Job group for statement 20:\nmodel = pipeline_model.fit(train_data)",
                    "submissionTime": "2023-11-29T18:18:57.199GMT",
                    "completionTime": "2023-11-29T18:18:57.508GMT",
                    "stageIds": [
                      56,
                      57,
                      58,
                      59
                    ],
                    "jobGroup": "20",
                    "status": "SUCCEEDED",
                    "numTasks": 233,
                    "numActiveTasks": 0,
                    "numCompletedTasks": 1,
                    "numSkippedTasks": 232,
                    "numFailedTasks": 0,
                    "numKilledTasks": 0,
                    "numCompletedIndices": 1,
                    "numActiveStages": 0,
                    "numCompletedStages": 1,
                    "numSkippedStages": 3,
                    "numFailedStages": 0,
                    "killedTasksSummary": {}
                  },
                  {
                    "displayName": "collect at StringIndexer.scala:204",
                    "dataWritten": 0,
                    "dataRead": 100583,
                    "rowCount": 200,
                    "usageDescription": "",
                    "jobId": 14,
                    "name": "collect at StringIndexer.scala:204",
                    "description": "Job group for statement 20:\nmodel = pipeline_model.fit(train_data)",
                    "submissionTime": "2023-11-29T18:18:56.153GMT",
                    "completionTime": "2023-11-29T18:18:56.241GMT",
                    "stageIds": [
                      51,
                      52,
                      53,
                      54,
                      55
                    ],
                    "jobGroup": "20",
                    "status": "SUCCEEDED",
                    "numTasks": 433,
                    "numActiveTasks": 0,
                    "numCompletedTasks": 1,
                    "numSkippedTasks": 432,
                    "numFailedTasks": 0,
                    "numKilledTasks": 0,
                    "numCompletedIndices": 1,
                    "numActiveStages": 0,
                    "numCompletedStages": 1,
                    "numSkippedStages": 4,
                    "numFailedStages": 0,
                    "killedTasksSummary": {}
                  },
                  {
                    "displayName": "collect at StringIndexer.scala:204",
                    "dataWritten": 100583,
                    "dataRead": 186189791,
                    "rowCount": 401,
                    "usageDescription": "",
                    "jobId": 13,
                    "name": "collect at StringIndexer.scala:204",
                    "description": "Job group for statement 20:\nmodel = pipeline_model.fit(train_data)",
                    "submissionTime": "2023-11-29T18:18:55.117GMT",
                    "completionTime": "2023-11-29T18:18:56.098GMT",
                    "stageIds": [
                      48,
                      49,
                      50,
                      47
                    ],
                    "jobGroup": "20",
                    "status": "SUCCEEDED",
                    "numTasks": 432,
                    "numActiveTasks": 0,
                    "numCompletedTasks": 200,
                    "numSkippedTasks": 232,
                    "numFailedTasks": 0,
                    "numKilledTasks": 0,
                    "numCompletedIndices": 200,
                    "numActiveStages": 0,
                    "numCompletedStages": 1,
                    "numSkippedStages": 3,
                    "numFailedStages": 0,
                    "killedTasksSummary": {}
                  }
                ],
                "limit": 20,
                "rule": "ALL_DESC"
              },
              "parent_msg_id": "ec459849-bd1b-4d76-a06e-d9a34ac139ee"
            },
            "text/plain": "StatementMeta(d3c1b951-094c-48e1-919d-e32bc175397b, 46, 20, Finished, Available)"
          },
          "metadata": {}
        }
      ],
      "execution_count": 15,
      "metadata": {
        "jupyter": {
          "source_hidden": false,
          "outputs_hidden": false
        },
        "nteract": {
          "transient": {
            "deleting": false
          }
        },
        "gather": {
          "logged": 1701282460197
        }
      }
    },
    {
      "cell_type": "code",
      "source": [
        "model.write().overwrite().save(\"Users/vankempenklaas/fall-2023-reddit-project-team-26/code/ml/model_files/popularity_model_v2\")"
      ],
      "outputs": [
        {
          "output_type": "display_data",
          "data": {
            "application/vnd.livy.statement-meta+json": {
              "spark_pool": "d3c1b951-094c-48e1-919d-e32bc175397b",
              "session_id": "46",
              "statement_id": 22,
              "state": "finished",
              "livy_statement_state": "available",
              "queued_time": "2023-11-29T18:28:49.1441302Z",
              "session_start_time": null,
              "execution_start_time": "2023-11-29T18:28:49.2775725Z",
              "execution_finish_time": "2023-11-29T18:29:16.6115965Z",
              "spark_jobs": {
                "numbers": {
                  "FAILED": 0,
                  "RUNNING": 0,
                  "UNKNOWN": 0,
                  "SUCCEEDED": 22
                },
                "jobs": [
                  {
                    "displayName": "parquet at treeModels.scala:491",
                    "dataWritten": 25918306,
                    "dataRead": 40060381,
                    "rowCount": 1478728,
                    "usageDescription": "",
                    "jobId": 54,
                    "name": "parquet at treeModels.scala:491",
                    "description": "Job group for statement 22:\nmodel.write().overwrite().save(\"Users/vankempenklaas/fall-2023-reddit-project-team-26/code/ml/model_files/popularity_model_v2\")",
                    "submissionTime": "2023-11-29T18:29:12.177GMT",
                    "completionTime": "2023-11-29T18:29:16.000GMT",
                    "stageIds": [
                      171,
                      172
                    ],
                    "jobGroup": "22",
                    "status": "SUCCEEDED",
                    "numTasks": 17,
                    "numActiveTasks": 0,
                    "numCompletedTasks": 1,
                    "numSkippedTasks": 16,
                    "numFailedTasks": 0,
                    "numKilledTasks": 0,
                    "numCompletedIndices": 1,
                    "numActiveStages": 0,
                    "numCompletedStages": 1,
                    "numSkippedStages": 1,
                    "numFailedStages": 0,
                    "killedTasksSummary": {}
                  },
                  {
                    "displayName": "parquet at treeModels.scala:491",
                    "dataWritten": 40060381,
                    "dataRead": 0,
                    "rowCount": 739364,
                    "usageDescription": "",
                    "jobId": 53,
                    "name": "parquet at treeModels.scala:491",
                    "description": "Job group for statement 22:\nmodel.write().overwrite().save(\"Users/vankempenklaas/fall-2023-reddit-project-team-26/code/ml/model_files/popularity_model_v2\")",
                    "submissionTime": "2023-11-29T18:29:09.816GMT",
                    "completionTime": "2023-11-29T18:29:12.121GMT",
                    "stageIds": [
                      170
                    ],
                    "jobGroup": "22",
                    "status": "SUCCEEDED",
                    "numTasks": 16,
                    "numActiveTasks": 0,
                    "numCompletedTasks": 16,
                    "numSkippedTasks": 0,
                    "numFailedTasks": 0,
                    "numKilledTasks": 0,
                    "numCompletedIndices": 16,
                    "numActiveStages": 0,
                    "numCompletedStages": 1,
                    "numSkippedStages": 0,
                    "numFailedStages": 0,
                    "killedTasksSummary": {}
                  },
                  {
                    "displayName": "parquet at treeModels.scala:483",
                    "dataWritten": 6672,
                    "dataRead": 12006,
                    "rowCount": 100,
                    "usageDescription": "",
                    "jobId": 52,
                    "name": "parquet at treeModels.scala:483",
                    "description": "Job group for statement 22:\nmodel.write().overwrite().save(\"Users/vankempenklaas/fall-2023-reddit-project-team-26/code/ml/model_files/popularity_model_v2\")",
                    "submissionTime": "2023-11-29T18:29:08.355GMT",
                    "completionTime": "2023-11-29T18:29:09.151GMT",
                    "stageIds": [
                      168,
                      169
                    ],
                    "jobGroup": "22",
                    "status": "SUCCEEDED",
                    "numTasks": 17,
                    "numActiveTasks": 0,
                    "numCompletedTasks": 1,
                    "numSkippedTasks": 16,
                    "numFailedTasks": 0,
                    "numKilledTasks": 0,
                    "numCompletedIndices": 1,
                    "numActiveStages": 0,
                    "numCompletedStages": 1,
                    "numSkippedStages": 1,
                    "numFailedStages": 0,
                    "killedTasksSummary": {}
                  },
                  {
                    "displayName": "parquet at treeModels.scala:483",
                    "dataWritten": 12006,
                    "dataRead": 0,
                    "rowCount": 50,
                    "usageDescription": "",
                    "jobId": 51,
                    "name": "parquet at treeModels.scala:483",
                    "description": "Job group for statement 22:\nmodel.write().overwrite().save(\"Users/vankempenklaas/fall-2023-reddit-project-team-26/code/ml/model_files/popularity_model_v2\")",
                    "submissionTime": "2023-11-29T18:29:08.253GMT",
                    "completionTime": "2023-11-29T18:29:08.299GMT",
                    "stageIds": [
                      167
                    ],
                    "jobGroup": "22",
                    "status": "SUCCEEDED",
                    "numTasks": 16,
                    "numActiveTasks": 0,
                    "numCompletedTasks": 16,
                    "numSkippedTasks": 0,
                    "numFailedTasks": 0,
                    "numKilledTasks": 0,
                    "numCompletedIndices": 16,
                    "numActiveStages": 0,
                    "numCompletedStages": 1,
                    "numSkippedStages": 0,
                    "numFailedStages": 0,
                    "killedTasksSummary": {}
                  },
                  {
                    "displayName": "runJob at SparkHadoopWriter.scala:85",
                    "dataWritten": 696,
                    "dataRead": 0,
                    "rowCount": 1,
                    "usageDescription": "",
                    "jobId": 50,
                    "name": "runJob at SparkHadoopWriter.scala:85",
                    "description": "Job group for statement 22:\nmodel.write().overwrite().save(\"Users/vankempenklaas/fall-2023-reddit-project-team-26/code/ml/model_files/popularity_model_v2\")",
                    "submissionTime": "2023-11-29T18:29:06.991GMT",
                    "completionTime": "2023-11-29T18:29:07.699GMT",
                    "stageIds": [
                      166
                    ],
                    "jobGroup": "22",
                    "status": "SUCCEEDED",
                    "numTasks": 1,
                    "numActiveTasks": 0,
                    "numCompletedTasks": 1,
                    "numSkippedTasks": 0,
                    "numFailedTasks": 0,
                    "numKilledTasks": 0,
                    "numCompletedIndices": 1,
                    "numActiveStages": 0,
                    "numCompletedStages": 1,
                    "numSkippedStages": 0,
                    "numFailedStages": 0,
                    "killedTasksSummary": {}
                  },
                  {
                    "displayName": "runJob at SparkHadoopWriter.scala:85",
                    "dataWritten": 397,
                    "dataRead": 0,
                    "rowCount": 1,
                    "usageDescription": "",
                    "jobId": 49,
                    "name": "runJob at SparkHadoopWriter.scala:85",
                    "description": "Job group for statement 22:\nmodel.write().overwrite().save(\"Users/vankempenklaas/fall-2023-reddit-project-team-26/code/ml/model_files/popularity_model_v2\")",
                    "submissionTime": "2023-11-29T18:29:05.920GMT",
                    "completionTime": "2023-11-29T18:29:06.440GMT",
                    "stageIds": [
                      165
                    ],
                    "jobGroup": "22",
                    "status": "SUCCEEDED",
                    "numTasks": 1,
                    "numActiveTasks": 0,
                    "numCompletedTasks": 1,
                    "numSkippedTasks": 0,
                    "numFailedTasks": 0,
                    "numKilledTasks": 0,
                    "numCompletedIndices": 1,
                    "numActiveStages": 0,
                    "numCompletedStages": 1,
                    "numSkippedStages": 0,
                    "numFailedStages": 0,
                    "killedTasksSummary": {}
                  },
                  {
                    "displayName": "parquet at OneHotEncoder.scala:407",
                    "dataWritten": 589,
                    "dataRead": 74,
                    "rowCount": 2,
                    "usageDescription": "",
                    "jobId": 48,
                    "name": "parquet at OneHotEncoder.scala:407",
                    "description": "Job group for statement 22:\nmodel.write().overwrite().save(\"Users/vankempenklaas/fall-2023-reddit-project-team-26/code/ml/model_files/popularity_model_v2\")",
                    "submissionTime": "2023-11-29T18:29:04.848GMT",
                    "completionTime": "2023-11-29T18:29:05.440GMT",
                    "stageIds": [
                      163,
                      164
                    ],
                    "jobGroup": "22",
                    "status": "SUCCEEDED",
                    "numTasks": 2,
                    "numActiveTasks": 0,
                    "numCompletedTasks": 1,
                    "numSkippedTasks": 1,
                    "numFailedTasks": 0,
                    "numKilledTasks": 0,
                    "numCompletedIndices": 1,
                    "numActiveStages": 0,
                    "numCompletedStages": 1,
                    "numSkippedStages": 1,
                    "numFailedStages": 0,
                    "killedTasksSummary": {}
                  },
                  {
                    "displayName": "parquet at OneHotEncoder.scala:407",
                    "dataWritten": 74,
                    "dataRead": 0,
                    "rowCount": 1,
                    "usageDescription": "",
                    "jobId": 47,
                    "name": "parquet at OneHotEncoder.scala:407",
                    "description": "Job group for statement 22:\nmodel.write().overwrite().save(\"Users/vankempenklaas/fall-2023-reddit-project-team-26/code/ml/model_files/popularity_model_v2\")",
                    "submissionTime": "2023-11-29T18:29:04.779GMT",
                    "completionTime": "2023-11-29T18:29:04.800GMT",
                    "stageIds": [
                      162
                    ],
                    "jobGroup": "22",
                    "status": "SUCCEEDED",
                    "numTasks": 1,
                    "numActiveTasks": 0,
                    "numCompletedTasks": 1,
                    "numSkippedTasks": 0,
                    "numFailedTasks": 0,
                    "numKilledTasks": 0,
                    "numCompletedIndices": 1,
                    "numActiveStages": 0,
                    "numCompletedStages": 1,
                    "numSkippedStages": 0,
                    "numFailedStages": 0,
                    "killedTasksSummary": {}
                  },
                  {
                    "displayName": "runJob at SparkHadoopWriter.scala:85",
                    "dataWritten": 336,
                    "dataRead": 0,
                    "rowCount": 1,
                    "usageDescription": "",
                    "jobId": 46,
                    "name": "runJob at SparkHadoopWriter.scala:85",
                    "description": "Job group for statement 22:\nmodel.write().overwrite().save(\"Users/vankempenklaas/fall-2023-reddit-project-team-26/code/ml/model_files/popularity_model_v2\")",
                    "submissionTime": "2023-11-29T18:29:03.749GMT",
                    "completionTime": "2023-11-29T18:29:04.303GMT",
                    "stageIds": [
                      161
                    ],
                    "jobGroup": "22",
                    "status": "SUCCEEDED",
                    "numTasks": 1,
                    "numActiveTasks": 0,
                    "numCompletedTasks": 1,
                    "numSkippedTasks": 0,
                    "numFailedTasks": 0,
                    "numKilledTasks": 0,
                    "numCompletedIndices": 1,
                    "numActiveStages": 0,
                    "numCompletedStages": 1,
                    "numSkippedStages": 0,
                    "numFailedStages": 0,
                    "killedTasksSummary": {}
                  },
                  {
                    "displayName": "parquet at OneHotEncoder.scala:407",
                    "dataWritten": 589,
                    "dataRead": 74,
                    "rowCount": 2,
                    "usageDescription": "",
                    "jobId": 45,
                    "name": "parquet at OneHotEncoder.scala:407",
                    "description": "Job group for statement 22:\nmodel.write().overwrite().save(\"Users/vankempenklaas/fall-2023-reddit-project-team-26/code/ml/model_files/popularity_model_v2\")",
                    "submissionTime": "2023-11-29T18:29:02.041GMT",
                    "completionTime": "2023-11-29T18:29:03.312GMT",
                    "stageIds": [
                      159,
                      160
                    ],
                    "jobGroup": "22",
                    "status": "SUCCEEDED",
                    "numTasks": 2,
                    "numActiveTasks": 0,
                    "numCompletedTasks": 1,
                    "numSkippedTasks": 1,
                    "numFailedTasks": 0,
                    "numKilledTasks": 0,
                    "numCompletedIndices": 1,
                    "numActiveStages": 0,
                    "numCompletedStages": 1,
                    "numSkippedStages": 1,
                    "numFailedStages": 0,
                    "killedTasksSummary": {}
                  },
                  {
                    "displayName": "parquet at OneHotEncoder.scala:407",
                    "dataWritten": 74,
                    "dataRead": 0,
                    "rowCount": 1,
                    "usageDescription": "",
                    "jobId": 44,
                    "name": "parquet at OneHotEncoder.scala:407",
                    "description": "Job group for statement 22:\nmodel.write().overwrite().save(\"Users/vankempenklaas/fall-2023-reddit-project-team-26/code/ml/model_files/popularity_model_v2\")",
                    "submissionTime": "2023-11-29T18:29:01.922GMT",
                    "completionTime": "2023-11-29T18:29:01.990GMT",
                    "stageIds": [
                      158
                    ],
                    "jobGroup": "22",
                    "status": "SUCCEEDED",
                    "numTasks": 1,
                    "numActiveTasks": 0,
                    "numCompletedTasks": 1,
                    "numSkippedTasks": 0,
                    "numFailedTasks": 0,
                    "numKilledTasks": 0,
                    "numCompletedIndices": 1,
                    "numActiveStages": 0,
                    "numCompletedStages": 1,
                    "numSkippedStages": 0,
                    "numFailedStages": 0,
                    "killedTasksSummary": {}
                  },
                  {
                    "displayName": "runJob at SparkHadoopWriter.scala:85",
                    "dataWritten": 328,
                    "dataRead": 0,
                    "rowCount": 1,
                    "usageDescription": "",
                    "jobId": 43,
                    "name": "runJob at SparkHadoopWriter.scala:85",
                    "description": "Job group for statement 22:\nmodel.write().overwrite().save(\"Users/vankempenklaas/fall-2023-reddit-project-team-26/code/ml/model_files/popularity_model_v2\")",
                    "submissionTime": "2023-11-29T18:29:00.954GMT",
                    "completionTime": "2023-11-29T18:29:01.498GMT",
                    "stageIds": [
                      157
                    ],
                    "jobGroup": "22",
                    "status": "SUCCEEDED",
                    "numTasks": 1,
                    "numActiveTasks": 0,
                    "numCompletedTasks": 1,
                    "numSkippedTasks": 0,
                    "numFailedTasks": 0,
                    "numKilledTasks": 0,
                    "numCompletedIndices": 1,
                    "numActiveStages": 0,
                    "numCompletedStages": 1,
                    "numSkippedStages": 0,
                    "numFailedStages": 0,
                    "killedTasksSummary": {}
                  },
                  {
                    "displayName": "parquet at StringIndexer.scala:499",
                    "dataWritten": 665,
                    "dataRead": 104,
                    "rowCount": 2,
                    "usageDescription": "",
                    "jobId": 42,
                    "name": "parquet at StringIndexer.scala:499",
                    "description": "Job group for statement 22:\nmodel.write().overwrite().save(\"Users/vankempenklaas/fall-2023-reddit-project-team-26/code/ml/model_files/popularity_model_v2\")",
                    "submissionTime": "2023-11-29T18:28:59.595GMT",
                    "completionTime": "2023-11-29T18:29:00.494GMT",
                    "stageIds": [
                      155,
                      156
                    ],
                    "jobGroup": "22",
                    "status": "SUCCEEDED",
                    "numTasks": 2,
                    "numActiveTasks": 0,
                    "numCompletedTasks": 1,
                    "numSkippedTasks": 1,
                    "numFailedTasks": 0,
                    "numKilledTasks": 0,
                    "numCompletedIndices": 1,
                    "numActiveStages": 0,
                    "numCompletedStages": 1,
                    "numSkippedStages": 1,
                    "numFailedStages": 0,
                    "killedTasksSummary": {}
                  },
                  {
                    "displayName": "parquet at StringIndexer.scala:499",
                    "dataWritten": 104,
                    "dataRead": 0,
                    "rowCount": 1,
                    "usageDescription": "",
                    "jobId": 41,
                    "name": "parquet at StringIndexer.scala:499",
                    "description": "Job group for statement 22:\nmodel.write().overwrite().save(\"Users/vankempenklaas/fall-2023-reddit-project-team-26/code/ml/model_files/popularity_model_v2\")",
                    "submissionTime": "2023-11-29T18:28:59.496GMT",
                    "completionTime": "2023-11-29T18:28:59.545GMT",
                    "stageIds": [
                      154
                    ],
                    "jobGroup": "22",
                    "status": "SUCCEEDED",
                    "numTasks": 1,
                    "numActiveTasks": 0,
                    "numCompletedTasks": 1,
                    "numSkippedTasks": 0,
                    "numFailedTasks": 0,
                    "numKilledTasks": 0,
                    "numCompletedIndices": 1,
                    "numActiveStages": 0,
                    "numCompletedStages": 1,
                    "numSkippedStages": 0,
                    "numFailedStages": 0,
                    "killedTasksSummary": {}
                  },
                  {
                    "displayName": "runJob at SparkHadoopWriter.scala:85",
                    "dataWritten": 374,
                    "dataRead": 0,
                    "rowCount": 1,
                    "usageDescription": "",
                    "jobId": 40,
                    "name": "runJob at SparkHadoopWriter.scala:85",
                    "description": "Job group for statement 22:\nmodel.write().overwrite().save(\"Users/vankempenklaas/fall-2023-reddit-project-team-26/code/ml/model_files/popularity_model_v2\")",
                    "submissionTime": "2023-11-29T18:28:58.526GMT",
                    "completionTime": "2023-11-29T18:28:59.066GMT",
                    "stageIds": [
                      153
                    ],
                    "jobGroup": "22",
                    "status": "SUCCEEDED",
                    "numTasks": 1,
                    "numActiveTasks": 0,
                    "numCompletedTasks": 1,
                    "numSkippedTasks": 0,
                    "numFailedTasks": 0,
                    "numKilledTasks": 0,
                    "numCompletedIndices": 1,
                    "numActiveStages": 0,
                    "numCompletedStages": 1,
                    "numSkippedStages": 0,
                    "numFailedStages": 0,
                    "killedTasksSummary": {}
                  },
                  {
                    "displayName": "parquet at StringIndexer.scala:499",
                    "dataWritten": 697,
                    "dataRead": 155,
                    "rowCount": 2,
                    "usageDescription": "",
                    "jobId": 39,
                    "name": "parquet at StringIndexer.scala:499",
                    "description": "Job group for statement 22:\nmodel.write().overwrite().save(\"Users/vankempenklaas/fall-2023-reddit-project-team-26/code/ml/model_files/popularity_model_v2\")",
                    "submissionTime": "2023-11-29T18:28:57.129GMT",
                    "completionTime": "2023-11-29T18:28:58.043GMT",
                    "stageIds": [
                      151,
                      152
                    ],
                    "jobGroup": "22",
                    "status": "SUCCEEDED",
                    "numTasks": 2,
                    "numActiveTasks": 0,
                    "numCompletedTasks": 1,
                    "numSkippedTasks": 1,
                    "numFailedTasks": 0,
                    "numKilledTasks": 0,
                    "numCompletedIndices": 1,
                    "numActiveStages": 0,
                    "numCompletedStages": 1,
                    "numSkippedStages": 1,
                    "numFailedStages": 0,
                    "killedTasksSummary": {}
                  },
                  {
                    "displayName": "parquet at StringIndexer.scala:499",
                    "dataWritten": 155,
                    "dataRead": 0,
                    "rowCount": 1,
                    "usageDescription": "",
                    "jobId": 38,
                    "name": "parquet at StringIndexer.scala:499",
                    "description": "Job group for statement 22:\nmodel.write().overwrite().save(\"Users/vankempenklaas/fall-2023-reddit-project-team-26/code/ml/model_files/popularity_model_v2\")",
                    "submissionTime": "2023-11-29T18:28:57.025GMT",
                    "completionTime": "2023-11-29T18:28:57.076GMT",
                    "stageIds": [
                      150
                    ],
                    "jobGroup": "22",
                    "status": "SUCCEEDED",
                    "numTasks": 1,
                    "numActiveTasks": 0,
                    "numCompletedTasks": 1,
                    "numSkippedTasks": 0,
                    "numFailedTasks": 0,
                    "numKilledTasks": 0,
                    "numCompletedIndices": 1,
                    "numActiveStages": 0,
                    "numCompletedStages": 1,
                    "numSkippedStages": 0,
                    "numFailedStages": 0,
                    "killedTasksSummary": {}
                  },
                  {
                    "displayName": "runJob at SparkHadoopWriter.scala:85",
                    "dataWritten": 365,
                    "dataRead": 0,
                    "rowCount": 1,
                    "usageDescription": "",
                    "jobId": 37,
                    "name": "runJob at SparkHadoopWriter.scala:85",
                    "description": "Job group for statement 22:\nmodel.write().overwrite().save(\"Users/vankempenklaas/fall-2023-reddit-project-team-26/code/ml/model_files/popularity_model_v2\")",
                    "submissionTime": "2023-11-29T18:28:55.485GMT",
                    "completionTime": "2023-11-29T18:28:56.507GMT",
                    "stageIds": [
                      149
                    ],
                    "jobGroup": "22",
                    "status": "SUCCEEDED",
                    "numTasks": 1,
                    "numActiveTasks": 0,
                    "numCompletedTasks": 1,
                    "numSkippedTasks": 0,
                    "numFailedTasks": 0,
                    "numKilledTasks": 0,
                    "numCompletedIndices": 1,
                    "numActiveStages": 0,
                    "numCompletedStages": 1,
                    "numSkippedStages": 0,
                    "numFailedStages": 0,
                    "killedTasksSummary": {}
                  },
                  {
                    "displayName": "parquet at StringIndexer.scala:499",
                    "dataWritten": 723,
                    "dataRead": 123,
                    "rowCount": 2,
                    "usageDescription": "",
                    "jobId": 36,
                    "name": "parquet at StringIndexer.scala:499",
                    "description": "Job group for statement 22:\nmodel.write().overwrite().save(\"Users/vankempenklaas/fall-2023-reddit-project-team-26/code/ml/model_files/popularity_model_v2\")",
                    "submissionTime": "2023-11-29T18:28:54.072GMT",
                    "completionTime": "2023-11-29T18:28:55.046GMT",
                    "stageIds": [
                      147,
                      148
                    ],
                    "jobGroup": "22",
                    "status": "SUCCEEDED",
                    "numTasks": 2,
                    "numActiveTasks": 0,
                    "numCompletedTasks": 1,
                    "numSkippedTasks": 1,
                    "numFailedTasks": 0,
                    "numKilledTasks": 0,
                    "numCompletedIndices": 1,
                    "numActiveStages": 0,
                    "numCompletedStages": 1,
                    "numSkippedStages": 1,
                    "numFailedStages": 0,
                    "killedTasksSummary": {}
                  },
                  {
                    "displayName": "parquet at StringIndexer.scala:499",
                    "dataWritten": 123,
                    "dataRead": 0,
                    "rowCount": 1,
                    "usageDescription": "",
                    "jobId": 35,
                    "name": "parquet at StringIndexer.scala:499",
                    "description": "Job group for statement 22:\nmodel.write().overwrite().save(\"Users/vankempenklaas/fall-2023-reddit-project-team-26/code/ml/model_files/popularity_model_v2\")",
                    "submissionTime": "2023-11-29T18:28:53.820GMT",
                    "completionTime": "2023-11-29T18:28:54.008GMT",
                    "stageIds": [
                      146
                    ],
                    "jobGroup": "22",
                    "status": "SUCCEEDED",
                    "numTasks": 1,
                    "numActiveTasks": 0,
                    "numCompletedTasks": 1,
                    "numSkippedTasks": 0,
                    "numFailedTasks": 0,
                    "numKilledTasks": 0,
                    "numCompletedIndices": 1,
                    "numActiveStages": 0,
                    "numCompletedStages": 1,
                    "numSkippedStages": 0,
                    "numFailedStages": 0,
                    "killedTasksSummary": {}
                  }
                ],
                "limit": 20,
                "rule": "ALL_DESC"
              },
              "parent_msg_id": "da529158-7746-45ff-9fc6-d52fd5671117"
            },
            "text/plain": "StatementMeta(d3c1b951-094c-48e1-919d-e32bc175397b, 46, 22, Finished, Available)"
          },
          "metadata": {}
        }
      ],
      "execution_count": 17,
      "metadata": {
        "jupyter": {
          "source_hidden": false,
          "outputs_hidden": false
        },
        "nteract": {
          "transient": {
            "deleting": false
          }
        },
        "gather": {
          "logged": 1701282556886
        }
      }
    },
    {
      "cell_type": "code",
      "source": [
        "loaded_model = PipelineModel.load(\"Users/vankempenklaas/fall-2023-reddit-project-team-26/code/ml/model_files/popularity_model_v2\")"
      ],
      "outputs": [
        {
          "output_type": "display_data",
          "data": {
            "application/vnd.livy.statement-meta+json": {
              "spark_pool": "d3c1b951-094c-48e1-919d-e32bc175397b",
              "session_id": "46",
              "statement_id": 24,
              "state": "finished",
              "livy_statement_state": "available",
              "queued_time": "2023-11-29T18:30:20.1373929Z",
              "session_start_time": null,
              "execution_start_time": "2023-11-29T18:30:20.2709348Z",
              "execution_finish_time": "2023-11-29T18:30:39.5697706Z",
              "spark_jobs": {
                "numbers": {
                  "FAILED": 0,
                  "RUNNING": 0,
                  "UNKNOWN": 0,
                  "SUCCEEDED": 31
                },
                "jobs": [
                  {
                    "displayName": "collect at treeModels.scala:549",
                    "dataWritten": 26013967,
                    "dataRead": 58035908,
                    "rowCount": 739464,
                    "usageDescription": "",
                    "jobId": 85,
                    "name": "collect at treeModels.scala:549",
                    "description": "Job group for statement 24:\nloaded_model = PipelineModel.load(\"Users/vankempenklaas/fall-2023-reddit-project-team-26/code/ml/model_files/popularity_model_v2\")",
                    "submissionTime": "2023-11-29T18:30:34.497GMT",
                    "completionTime": "2023-11-29T18:30:37.114GMT",
                    "stageIds": [
                      205,
                      206,
                      207
                    ],
                    "jobGroup": "24",
                    "status": "SUCCEEDED",
                    "numTasks": 21,
                    "numActiveTasks": 0,
                    "numCompletedTasks": 14,
                    "numSkippedTasks": 7,
                    "numFailedTasks": 0,
                    "numKilledTasks": 0,
                    "numCompletedIndices": 14,
                    "numActiveStages": 0,
                    "numCompletedStages": 2,
                    "numSkippedStages": 1,
                    "numFailedStages": 0,
                    "killedTasksSummary": {}
                  },
                  {
                    "displayName": "sortByKey at treeModels.scala:549",
                    "dataWritten": 32021941,
                    "dataRead": 57969662,
                    "rowCount": 2218092,
                    "usageDescription": "",
                    "jobId": 84,
                    "name": "sortByKey at treeModels.scala:549",
                    "description": "Job group for statement 24:\nloaded_model = PipelineModel.load(\"Users/vankempenklaas/fall-2023-reddit-project-team-26/code/ml/model_files/popularity_model_v2\")",
                    "submissionTime": "2023-11-29T18:30:29.310GMT",
                    "completionTime": "2023-11-29T18:30:34.476GMT",
                    "stageIds": [
                      204,
                      203
                    ],
                    "jobGroup": "24",
                    "status": "SUCCEEDED",
                    "numTasks": 14,
                    "numActiveTasks": 0,
                    "numCompletedTasks": 14,
                    "numSkippedTasks": 0,
                    "numFailedTasks": 0,
                    "numKilledTasks": 0,
                    "numCompletedIndices": 14,
                    "numActiveStages": 0,
                    "numCompletedStages": 2,
                    "numSkippedStages": 0,
                    "numFailedStages": 0,
                    "killedTasksSummary": {}
                  },
                  {
                    "displayName": "parquet at treeModels.scala:532",
                    "dataWritten": 0,
                    "dataRead": 0,
                    "rowCount": 0,
                    "usageDescription": "",
                    "jobId": 83,
                    "name": "parquet at treeModels.scala:532",
                    "description": "Job group for statement 24:\nloaded_model = PipelineModel.load(\"Users/vankempenklaas/fall-2023-reddit-project-team-26/code/ml/model_files/popularity_model_v2\")",
                    "submissionTime": "2023-11-29T18:30:28.945GMT",
                    "completionTime": "2023-11-29T18:30:29.126GMT",
                    "stageIds": [
                      202
                    ],
                    "jobGroup": "24",
                    "status": "SUCCEEDED",
                    "numTasks": 1,
                    "numActiveTasks": 0,
                    "numCompletedTasks": 1,
                    "numSkippedTasks": 0,
                    "numFailedTasks": 0,
                    "numKilledTasks": 0,
                    "numCompletedIndices": 1,
                    "numActiveStages": 0,
                    "numCompletedStages": 1,
                    "numSkippedStages": 0,
                    "numFailedStages": 0,
                    "killedTasksSummary": {}
                  },
                  {
                    "displayName": "collect at treeModels.scala:527",
                    "dataWritten": 14039,
                    "dataRead": 24409,
                    "rowCount": 150,
                    "usageDescription": "",
                    "jobId": 82,
                    "name": "collect at treeModels.scala:527",
                    "description": "Job group for statement 24:\nloaded_model = PipelineModel.load(\"Users/vankempenklaas/fall-2023-reddit-project-team-26/code/ml/model_files/popularity_model_v2\")",
                    "submissionTime": "2023-11-29T18:30:28.282GMT",
                    "completionTime": "2023-11-29T18:30:28.788GMT",
                    "stageIds": [
                      201,
                      200
                    ],
                    "jobGroup": "24",
                    "status": "SUCCEEDED",
                    "numTasks": 2,
                    "numActiveTasks": 0,
                    "numCompletedTasks": 2,
                    "numSkippedTasks": 0,
                    "numFailedTasks": 0,
                    "numKilledTasks": 0,
                    "numCompletedIndices": 2,
                    "numActiveStages": 0,
                    "numCompletedStages": 2,
                    "numSkippedStages": 0,
                    "numFailedStages": 0,
                    "killedTasksSummary": {}
                  },
                  {
                    "displayName": "parquet at treeModels.scala:520",
                    "dataWritten": 0,
                    "dataRead": 0,
                    "rowCount": 0,
                    "usageDescription": "",
                    "jobId": 81,
                    "name": "parquet at treeModels.scala:520",
                    "description": "Job group for statement 24:\nloaded_model = PipelineModel.load(\"Users/vankempenklaas/fall-2023-reddit-project-team-26/code/ml/model_files/popularity_model_v2\")",
                    "submissionTime": "2023-11-29T18:30:27.973GMT",
                    "completionTime": "2023-11-29T18:30:28.046GMT",
                    "stageIds": [
                      199
                    ],
                    "jobGroup": "24",
                    "status": "SUCCEEDED",
                    "numTasks": 1,
                    "numActiveTasks": 0,
                    "numCompletedTasks": 1,
                    "numSkippedTasks": 0,
                    "numFailedTasks": 0,
                    "numKilledTasks": 0,
                    "numCompletedIndices": 1,
                    "numActiveStages": 0,
                    "numCompletedStages": 1,
                    "numSkippedStages": 0,
                    "numFailedStages": 0,
                    "killedTasksSummary": {}
                  },
                  {
                    "displayName": "first at ReadWrite.scala:587",
                    "dataWritten": 0,
                    "dataRead": 696,
                    "rowCount": 1,
                    "usageDescription": "",
                    "jobId": 80,
                    "name": "first at ReadWrite.scala:587",
                    "description": "Job group for statement 24:\nloaded_model = PipelineModel.load(\"Users/vankempenklaas/fall-2023-reddit-project-team-26/code/ml/model_files/popularity_model_v2\")",
                    "submissionTime": "2023-11-29T18:30:27.771GMT",
                    "completionTime": "2023-11-29T18:30:27.828GMT",
                    "stageIds": [
                      198
                    ],
                    "jobGroup": "24",
                    "status": "SUCCEEDED",
                    "numTasks": 1,
                    "numActiveTasks": 0,
                    "numCompletedTasks": 1,
                    "numSkippedTasks": 0,
                    "numFailedTasks": 0,
                    "numKilledTasks": 0,
                    "numCompletedIndices": 1,
                    "numActiveStages": 0,
                    "numCompletedStages": 1,
                    "numSkippedStages": 0,
                    "numFailedStages": 0,
                    "killedTasksSummary": {}
                  },
                  {
                    "displayName": "first at ReadWrite.scala:587",
                    "dataWritten": 0,
                    "dataRead": 696,
                    "rowCount": 1,
                    "usageDescription": "",
                    "jobId": 79,
                    "name": "first at ReadWrite.scala:587",
                    "description": "Job group for statement 24:\nloaded_model = PipelineModel.load(\"Users/vankempenklaas/fall-2023-reddit-project-team-26/code/ml/model_files/popularity_model_v2\")",
                    "submissionTime": "2023-11-29T18:30:27.636GMT",
                    "completionTime": "2023-11-29T18:30:27.694GMT",
                    "stageIds": [
                      197
                    ],
                    "jobGroup": "24",
                    "status": "SUCCEEDED",
                    "numTasks": 1,
                    "numActiveTasks": 0,
                    "numCompletedTasks": 1,
                    "numSkippedTasks": 0,
                    "numFailedTasks": 0,
                    "numKilledTasks": 0,
                    "numCompletedIndices": 1,
                    "numActiveStages": 0,
                    "numCompletedStages": 1,
                    "numSkippedStages": 0,
                    "numFailedStages": 0,
                    "killedTasksSummary": {}
                  },
                  {
                    "displayName": "first at ReadWrite.scala:587",
                    "dataWritten": 0,
                    "dataRead": 397,
                    "rowCount": 1,
                    "usageDescription": "",
                    "jobId": 78,
                    "name": "first at ReadWrite.scala:587",
                    "description": "Job group for statement 24:\nloaded_model = PipelineModel.load(\"Users/vankempenklaas/fall-2023-reddit-project-team-26/code/ml/model_files/popularity_model_v2\")",
                    "submissionTime": "2023-11-29T18:30:27.501GMT",
                    "completionTime": "2023-11-29T18:30:27.562GMT",
                    "stageIds": [
                      196
                    ],
                    "jobGroup": "24",
                    "status": "SUCCEEDED",
                    "numTasks": 1,
                    "numActiveTasks": 0,
                    "numCompletedTasks": 1,
                    "numSkippedTasks": 0,
                    "numFailedTasks": 0,
                    "numKilledTasks": 0,
                    "numCompletedIndices": 1,
                    "numActiveStages": 0,
                    "numCompletedStages": 1,
                    "numSkippedStages": 0,
                    "numFailedStages": 0,
                    "killedTasksSummary": {}
                  },
                  {
                    "displayName": "first at ReadWrite.scala:587",
                    "dataWritten": 0,
                    "dataRead": 397,
                    "rowCount": 1,
                    "usageDescription": "",
                    "jobId": 77,
                    "name": "first at ReadWrite.scala:587",
                    "description": "Job group for statement 24:\nloaded_model = PipelineModel.load(\"Users/vankempenklaas/fall-2023-reddit-project-team-26/code/ml/model_files/popularity_model_v2\")",
                    "submissionTime": "2023-11-29T18:30:27.185GMT",
                    "completionTime": "2023-11-29T18:30:27.241GMT",
                    "stageIds": [
                      195
                    ],
                    "jobGroup": "24",
                    "status": "SUCCEEDED",
                    "numTasks": 1,
                    "numActiveTasks": 0,
                    "numCompletedTasks": 1,
                    "numSkippedTasks": 0,
                    "numFailedTasks": 0,
                    "numKilledTasks": 0,
                    "numCompletedIndices": 1,
                    "numActiveStages": 0,
                    "numCompletedStages": 1,
                    "numSkippedStages": 0,
                    "numFailedStages": 0,
                    "killedTasksSummary": {}
                  },
                  {
                    "displayName": "head at OneHotEncoder.scala:419",
                    "dataWritten": 0,
                    "dataRead": 1621,
                    "rowCount": 1,
                    "usageDescription": "",
                    "jobId": 76,
                    "name": "head at OneHotEncoder.scala:419",
                    "description": "Job group for statement 24:\nloaded_model = PipelineModel.load(\"Users/vankempenklaas/fall-2023-reddit-project-team-26/code/ml/model_files/popularity_model_v2\")",
                    "submissionTime": "2023-11-29T18:30:26.857GMT",
                    "completionTime": "2023-11-29T18:30:27.108GMT",
                    "stageIds": [
                      194
                    ],
                    "jobGroup": "24",
                    "status": "SUCCEEDED",
                    "numTasks": 1,
                    "numActiveTasks": 0,
                    "numCompletedTasks": 1,
                    "numSkippedTasks": 0,
                    "numFailedTasks": 0,
                    "numKilledTasks": 0,
                    "numCompletedIndices": 1,
                    "numActiveStages": 0,
                    "numCompletedStages": 1,
                    "numSkippedStages": 0,
                    "numFailedStages": 0,
                    "killedTasksSummary": {}
                  },
                  {
                    "displayName": "parquet at OneHotEncoder.scala:418",
                    "dataWritten": 0,
                    "dataRead": 0,
                    "rowCount": 0,
                    "usageDescription": "",
                    "jobId": 75,
                    "name": "parquet at OneHotEncoder.scala:418",
                    "description": "Job group for statement 24:\nloaded_model = PipelineModel.load(\"Users/vankempenklaas/fall-2023-reddit-project-team-26/code/ml/model_files/popularity_model_v2\")",
                    "submissionTime": "2023-11-29T18:30:26.724GMT",
                    "completionTime": "2023-11-29T18:30:26.809GMT",
                    "stageIds": [
                      193
                    ],
                    "jobGroup": "24",
                    "status": "SUCCEEDED",
                    "numTasks": 1,
                    "numActiveTasks": 0,
                    "numCompletedTasks": 1,
                    "numSkippedTasks": 0,
                    "numFailedTasks": 0,
                    "numKilledTasks": 0,
                    "numCompletedIndices": 1,
                    "numActiveStages": 0,
                    "numCompletedStages": 1,
                    "numSkippedStages": 0,
                    "numFailedStages": 0,
                    "killedTasksSummary": {}
                  },
                  {
                    "displayName": "first at ReadWrite.scala:587",
                    "dataWritten": 0,
                    "dataRead": 336,
                    "rowCount": 1,
                    "usageDescription": "",
                    "jobId": 74,
                    "name": "first at ReadWrite.scala:587",
                    "description": "Job group for statement 24:\nloaded_model = PipelineModel.load(\"Users/vankempenklaas/fall-2023-reddit-project-team-26/code/ml/model_files/popularity_model_v2\")",
                    "submissionTime": "2023-11-29T18:30:26.535GMT",
                    "completionTime": "2023-11-29T18:30:26.588GMT",
                    "stageIds": [
                      192
                    ],
                    "jobGroup": "24",
                    "status": "SUCCEEDED",
                    "numTasks": 1,
                    "numActiveTasks": 0,
                    "numCompletedTasks": 1,
                    "numSkippedTasks": 0,
                    "numFailedTasks": 0,
                    "numKilledTasks": 0,
                    "numCompletedIndices": 1,
                    "numActiveStages": 0,
                    "numCompletedStages": 1,
                    "numSkippedStages": 0,
                    "numFailedStages": 0,
                    "killedTasksSummary": {}
                  },
                  {
                    "displayName": "first at ReadWrite.scala:587",
                    "dataWritten": 0,
                    "dataRead": 336,
                    "rowCount": 1,
                    "usageDescription": "",
                    "jobId": 73,
                    "name": "first at ReadWrite.scala:587",
                    "description": "Job group for statement 24:\nloaded_model = PipelineModel.load(\"Users/vankempenklaas/fall-2023-reddit-project-team-26/code/ml/model_files/popularity_model_v2\")",
                    "submissionTime": "2023-11-29T18:30:26.412GMT",
                    "completionTime": "2023-11-29T18:30:26.461GMT",
                    "stageIds": [
                      191
                    ],
                    "jobGroup": "24",
                    "status": "SUCCEEDED",
                    "numTasks": 1,
                    "numActiveTasks": 0,
                    "numCompletedTasks": 1,
                    "numSkippedTasks": 0,
                    "numFailedTasks": 0,
                    "numKilledTasks": 0,
                    "numCompletedIndices": 1,
                    "numActiveStages": 0,
                    "numCompletedStages": 1,
                    "numSkippedStages": 0,
                    "numFailedStages": 0,
                    "killedTasksSummary": {}
                  },
                  {
                    "displayName": "head at OneHotEncoder.scala:419",
                    "dataWritten": 0,
                    "dataRead": 1621,
                    "rowCount": 1,
                    "usageDescription": "",
                    "jobId": 72,
                    "name": "head at OneHotEncoder.scala:419",
                    "description": "Job group for statement 24:\nloaded_model = PipelineModel.load(\"Users/vankempenklaas/fall-2023-reddit-project-team-26/code/ml/model_files/popularity_model_v2\")",
                    "submissionTime": "2023-11-29T18:30:26.190GMT",
                    "completionTime": "2023-11-29T18:30:26.315GMT",
                    "stageIds": [
                      190
                    ],
                    "jobGroup": "24",
                    "status": "SUCCEEDED",
                    "numTasks": 1,
                    "numActiveTasks": 0,
                    "numCompletedTasks": 1,
                    "numSkippedTasks": 0,
                    "numFailedTasks": 0,
                    "numKilledTasks": 0,
                    "numCompletedIndices": 1,
                    "numActiveStages": 0,
                    "numCompletedStages": 1,
                    "numSkippedStages": 0,
                    "numFailedStages": 0,
                    "killedTasksSummary": {}
                  },
                  {
                    "displayName": "parquet at OneHotEncoder.scala:418",
                    "dataWritten": 0,
                    "dataRead": 0,
                    "rowCount": 0,
                    "usageDescription": "",
                    "jobId": 71,
                    "name": "parquet at OneHotEncoder.scala:418",
                    "description": "Job group for statement 24:\nloaded_model = PipelineModel.load(\"Users/vankempenklaas/fall-2023-reddit-project-team-26/code/ml/model_files/popularity_model_v2\")",
                    "submissionTime": "2023-11-29T18:30:26.051GMT",
                    "completionTime": "2023-11-29T18:30:26.125GMT",
                    "stageIds": [
                      189
                    ],
                    "jobGroup": "24",
                    "status": "SUCCEEDED",
                    "numTasks": 1,
                    "numActiveTasks": 0,
                    "numCompletedTasks": 1,
                    "numSkippedTasks": 0,
                    "numFailedTasks": 0,
                    "numKilledTasks": 0,
                    "numCompletedIndices": 1,
                    "numActiveStages": 0,
                    "numCompletedStages": 1,
                    "numSkippedStages": 0,
                    "numFailedStages": 0,
                    "killedTasksSummary": {}
                  },
                  {
                    "displayName": "first at ReadWrite.scala:587",
                    "dataWritten": 0,
                    "dataRead": 328,
                    "rowCount": 1,
                    "usageDescription": "",
                    "jobId": 70,
                    "name": "first at ReadWrite.scala:587",
                    "description": "Job group for statement 24:\nloaded_model = PipelineModel.load(\"Users/vankempenklaas/fall-2023-reddit-project-team-26/code/ml/model_files/popularity_model_v2\")",
                    "submissionTime": "2023-11-29T18:30:25.861GMT",
                    "completionTime": "2023-11-29T18:30:25.913GMT",
                    "stageIds": [
                      188
                    ],
                    "jobGroup": "24",
                    "status": "SUCCEEDED",
                    "numTasks": 1,
                    "numActiveTasks": 0,
                    "numCompletedTasks": 1,
                    "numSkippedTasks": 0,
                    "numFailedTasks": 0,
                    "numKilledTasks": 0,
                    "numCompletedIndices": 1,
                    "numActiveStages": 0,
                    "numCompletedStages": 1,
                    "numSkippedStages": 0,
                    "numFailedStages": 0,
                    "killedTasksSummary": {}
                  },
                  {
                    "displayName": "first at ReadWrite.scala:587",
                    "dataWritten": 0,
                    "dataRead": 328,
                    "rowCount": 1,
                    "usageDescription": "",
                    "jobId": 69,
                    "name": "first at ReadWrite.scala:587",
                    "description": "Job group for statement 24:\nloaded_model = PipelineModel.load(\"Users/vankempenklaas/fall-2023-reddit-project-team-26/code/ml/model_files/popularity_model_v2\")",
                    "submissionTime": "2023-11-29T18:30:25.733GMT",
                    "completionTime": "2023-11-29T18:30:25.786GMT",
                    "stageIds": [
                      187
                    ],
                    "jobGroup": "24",
                    "status": "SUCCEEDED",
                    "numTasks": 1,
                    "numActiveTasks": 0,
                    "numCompletedTasks": 1,
                    "numSkippedTasks": 0,
                    "numFailedTasks": 0,
                    "numKilledTasks": 0,
                    "numCompletedIndices": 1,
                    "numActiveStages": 0,
                    "numCompletedStages": 1,
                    "numSkippedStages": 0,
                    "numFailedStages": 0,
                    "killedTasksSummary": {}
                  },
                  {
                    "displayName": "head at StringIndexer.scala:524",
                    "dataWritten": 0,
                    "dataRead": 1847,
                    "rowCount": 1,
                    "usageDescription": "",
                    "jobId": 68,
                    "name": "head at StringIndexer.scala:524",
                    "description": "Job group for statement 24:\nloaded_model = PipelineModel.load(\"Users/vankempenklaas/fall-2023-reddit-project-team-26/code/ml/model_files/popularity_model_v2\")",
                    "submissionTime": "2023-11-29T18:30:25.543GMT",
                    "completionTime": "2023-11-29T18:30:25.664GMT",
                    "stageIds": [
                      186
                    ],
                    "jobGroup": "24",
                    "status": "SUCCEEDED",
                    "numTasks": 1,
                    "numActiveTasks": 0,
                    "numCompletedTasks": 1,
                    "numSkippedTasks": 0,
                    "numFailedTasks": 0,
                    "numKilledTasks": 0,
                    "numCompletedIndices": 1,
                    "numActiveStages": 0,
                    "numCompletedStages": 1,
                    "numSkippedStages": 0,
                    "numFailedStages": 0,
                    "killedTasksSummary": {}
                  },
                  {
                    "displayName": "parquet at StringIndexer.scala:523",
                    "dataWritten": 0,
                    "dataRead": 0,
                    "rowCount": 0,
                    "usageDescription": "",
                    "jobId": 67,
                    "name": "parquet at StringIndexer.scala:523",
                    "description": "Job group for statement 24:\nloaded_model = PipelineModel.load(\"Users/vankempenklaas/fall-2023-reddit-project-team-26/code/ml/model_files/popularity_model_v2\")",
                    "submissionTime": "2023-11-29T18:30:25.395GMT",
                    "completionTime": "2023-11-29T18:30:25.484GMT",
                    "stageIds": [
                      185
                    ],
                    "jobGroup": "24",
                    "status": "SUCCEEDED",
                    "numTasks": 1,
                    "numActiveTasks": 0,
                    "numCompletedTasks": 1,
                    "numSkippedTasks": 0,
                    "numFailedTasks": 0,
                    "numKilledTasks": 0,
                    "numCompletedIndices": 1,
                    "numActiveStages": 0,
                    "numCompletedStages": 1,
                    "numSkippedStages": 0,
                    "numFailedStages": 0,
                    "killedTasksSummary": {}
                  },
                  {
                    "displayName": "first at ReadWrite.scala:587",
                    "dataWritten": 0,
                    "dataRead": 374,
                    "rowCount": 1,
                    "usageDescription": "",
                    "jobId": 66,
                    "name": "first at ReadWrite.scala:587",
                    "description": "Job group for statement 24:\nloaded_model = PipelineModel.load(\"Users/vankempenklaas/fall-2023-reddit-project-team-26/code/ml/model_files/popularity_model_v2\")",
                    "submissionTime": "2023-11-29T18:30:25.178GMT",
                    "completionTime": "2023-11-29T18:30:25.242GMT",
                    "stageIds": [
                      184
                    ],
                    "jobGroup": "24",
                    "status": "SUCCEEDED",
                    "numTasks": 1,
                    "numActiveTasks": 0,
                    "numCompletedTasks": 1,
                    "numSkippedTasks": 0,
                    "numFailedTasks": 0,
                    "numKilledTasks": 0,
                    "numCompletedIndices": 1,
                    "numActiveStages": 0,
                    "numCompletedStages": 1,
                    "numSkippedStages": 0,
                    "numFailedStages": 0,
                    "killedTasksSummary": {}
                  }
                ],
                "limit": 20,
                "rule": "ALL_DESC"
              },
              "parent_msg_id": "707b9586-45d5-4294-91d0-fd0b160f24c6"
            },
            "text/plain": "StatementMeta(d3c1b951-094c-48e1-919d-e32bc175397b, 46, 24, Finished, Available)"
          },
          "metadata": {}
        }
      ],
      "execution_count": 19,
      "metadata": {
        "jupyter": {
          "source_hidden": false,
          "outputs_hidden": false
        },
        "nteract": {
          "transient": {
            "deleting": false
          }
        },
        "gather": {
          "logged": 1701282640175
        }
      }
    },
    {
      "cell_type": "code",
      "source": [
        "predictions = loaded_model.transform(test_data)"
      ],
      "outputs": [
        {
          "output_type": "display_data",
          "data": {
            "application/vnd.livy.statement-meta+json": {
              "spark_pool": "d3c1b951-094c-48e1-919d-e32bc175397b",
              "session_id": "46",
              "statement_id": 26,
              "state": "finished",
              "livy_statement_state": "available",
              "queued_time": "2023-11-29T18:30:58.2700402Z",
              "session_start_time": null,
              "execution_start_time": "2023-11-29T18:30:58.416311Z",
              "execution_finish_time": "2023-11-29T18:31:05.8277102Z",
              "spark_jobs": {
                "numbers": {
                  "FAILED": 0,
                  "RUNNING": 0,
                  "UNKNOWN": 0,
                  "SUCCEEDED": 0
                },
                "jobs": [],
                "limit": 20,
                "rule": "ALL_DESC"
              },
              "parent_msg_id": "a5b3aeee-53e7-4f3d-adfe-ec3d68d63004"
            },
            "text/plain": "StatementMeta(d3c1b951-094c-48e1-919d-e32bc175397b, 46, 26, Finished, Available)"
          },
          "metadata": {}
        }
      ],
      "execution_count": 21,
      "metadata": {
        "jupyter": {
          "source_hidden": false,
          "outputs_hidden": false
        },
        "nteract": {
          "transient": {
            "deleting": false
          }
        },
        "gather": {
          "logged": 1701282666088
        }
      }
    },
    {
      "cell_type": "code",
      "source": [
        "evaluator = RegressionEvaluator(labelCol=\"score\", predictionCol=\"prediction\", metricName=\"rmse\")\n",
        "rmse = evaluator.evaluate(predictions)\n",
        "print(\"Root Mean Squared Error (RMSE) on test data = {:.2f}\".format(rmse))\n"
      ],
      "outputs": [
        {
          "output_type": "display_data",
          "data": {
            "application/vnd.livy.statement-meta+json": {
              "spark_pool": "d3c1b951-094c-48e1-919d-e32bc175397b",
              "session_id": "46",
              "statement_id": 27,
              "state": "finished",
              "livy_statement_state": "available",
              "queued_time": "2023-11-29T18:31:08.9542697Z",
              "session_start_time": null,
              "execution_start_time": "2023-11-29T18:31:09.0799936Z",
              "execution_finish_time": "2023-11-29T18:31:28.9422544Z",
              "spark_jobs": {
                "numbers": {
                  "FAILED": 0,
                  "RUNNING": 0,
                  "UNKNOWN": 0,
                  "SUCCEEDED": 2
                },
                "jobs": [
                  {
                    "displayName": "treeAggregate at Statistics.scala:58",
                    "dataWritten": 6035,
                    "dataRead": 256959720,
                    "rowCount": 865506,
                    "usageDescription": "",
                    "jobId": 87,
                    "name": "treeAggregate at Statistics.scala:58",
                    "description": "Job group for statement 27:\nevaluator = RegressionEvaluator(labelCol=\"score\", predictionCol=\"prediction\", metricName=\"rmse\")\nrmse = evaluator.evaluate(predictions)\nprint(\"Root Mean Squared Error (RMSE) on test data = {:.2f}\".format(rmse))\n",
                    "submissionTime": "2023-11-29T18:31:21.887GMT",
                    "completionTime": "2023-11-29T18:31:28.742GMT",
                    "stageIds": [
                      215,
                      212,
                      213,
                      214,
                      211
                    ],
                    "jobGroup": "27",
                    "status": "SUCCEEDED",
                    "numTasks": 252,
                    "numActiveTasks": 0,
                    "numCompletedTasks": 20,
                    "numSkippedTasks": 232,
                    "numFailedTasks": 0,
                    "numKilledTasks": 0,
                    "numCompletedIndices": 20,
                    "numActiveStages": 0,
                    "numCompletedStages": 2,
                    "numSkippedStages": 3,
                    "numFailedStages": 0,
                    "killedTasksSummary": {}
                  },
                  {
                    "displayName": "rdd at RegressionEvaluator.scala:125",
                    "dataWritten": 256953685,
                    "dataRead": 244505255,
                    "rowCount": 865672,
                    "usageDescription": "",
                    "jobId": 86,
                    "name": "rdd at RegressionEvaluator.scala:125",
                    "description": "Job group for statement 27:\nevaluator = RegressionEvaluator(labelCol=\"score\", predictionCol=\"prediction\", metricName=\"rmse\")\nrmse = evaluator.evaluate(predictions)\nprint(\"Root Mean Squared Error (RMSE) on test data = {:.2f}\".format(rmse))\n",
                    "submissionTime": "2023-11-29T18:31:09.283GMT",
                    "completionTime": "2023-11-29T18:31:21.662GMT",
                    "stageIds": [
                      208,
                      209,
                      210
                    ],
                    "jobGroup": "27",
                    "status": "SUCCEEDED",
                    "numTasks": 232,
                    "numActiveTasks": 0,
                    "numCompletedTasks": 200,
                    "numSkippedTasks": 32,
                    "numFailedTasks": 0,
                    "numKilledTasks": 0,
                    "numCompletedIndices": 200,
                    "numActiveStages": 0,
                    "numCompletedStages": 1,
                    "numSkippedStages": 2,
                    "numFailedStages": 0,
                    "killedTasksSummary": {}
                  }
                ],
                "limit": 20,
                "rule": "ALL_DESC"
              },
              "parent_msg_id": "c61126c4-260f-4f0c-9799-db0efc2a1b7f"
            },
            "text/plain": "StatementMeta(d3c1b951-094c-48e1-919d-e32bc175397b, 46, 27, Finished, Available)"
          },
          "metadata": {}
        },
        {
          "output_type": "stream",
          "name": "stdout",
          "text": "Root Mean Squared Error (RMSE) on test data = 36.21\n"
        }
      ],
      "execution_count": 22,
      "metadata": {
        "jupyter": {
          "source_hidden": false,
          "outputs_hidden": false
        },
        "nteract": {
          "transient": {
            "deleting": false
          }
        },
        "gather": {
          "logged": 1701282689164
        }
      }
    },
    {
      "cell_type": "code",
      "source": [
        "predictions_df = predictions.sample(fraction = 0.07, seed = 92).select(\"prediction\").toPandas()\n",
        "true_labels_df = predictions.sample(fraction = 0.07, seed = 92).select(\"score\").toPandas()"
      ],
      "outputs": [
        {
          "output_type": "display_data",
          "data": {
            "application/vnd.livy.statement-meta+json": {
              "spark_pool": "d3c1b951-094c-48e1-919d-e32bc175397b",
              "session_id": "46",
              "statement_id": 28,
              "state": "finished",
              "livy_statement_state": "available",
              "queued_time": "2023-11-29T18:32:30.8971323Z",
              "session_start_time": null,
              "execution_start_time": "2023-11-29T18:32:31.1096251Z",
              "execution_finish_time": "2023-11-29T18:32:44.7962438Z",
              "spark_jobs": {
                "numbers": {
                  "FAILED": 0,
                  "RUNNING": 0,
                  "UNKNOWN": 0,
                  "SUCCEEDED": 4
                },
                "jobs": [
                  {
                    "displayName": "toPandas at /tmp/ipykernel_22438/813262684.py:2",
                    "dataWritten": 0,
                    "dataRead": 256953685,
                    "rowCount": 865472,
                    "usageDescription": "",
                    "jobId": 91,
                    "name": "toPandas at /tmp/ipykernel_22438/813262684.py:2",
                    "description": "Job group for statement 28:\npredictions_df = predictions.sample(fraction = 0.07, seed = 92).select(\"prediction\").toPandas()\ntrue_labels_df = predictions.sample(fraction = 0.07, seed = 92).select(\"score\").toPandas()",
                    "submissionTime": "2023-11-29T18:32:42.454GMT",
                    "completionTime": "2023-11-29T18:32:43.493GMT",
                    "stageIds": [
                      227,
                      228,
                      229,
                      226
                    ],
                    "jobGroup": "28",
                    "status": "SUCCEEDED",
                    "numTasks": 249,
                    "numActiveTasks": 0,
                    "numCompletedTasks": 17,
                    "numSkippedTasks": 232,
                    "numFailedTasks": 0,
                    "numKilledTasks": 0,
                    "numCompletedIndices": 17,
                    "numActiveStages": 0,
                    "numCompletedStages": 1,
                    "numSkippedStages": 3,
                    "numFailedStages": 0,
                    "killedTasksSummary": {}
                  },
                  {
                    "displayName": "toPandas at /tmp/ipykernel_22438/813262684.py:2",
                    "dataWritten": 256953685,
                    "dataRead": 250303995,
                    "rowCount": 865672,
                    "usageDescription": "",
                    "jobId": 90,
                    "name": "toPandas at /tmp/ipykernel_22438/813262684.py:2",
                    "description": "Job group for statement 28:\npredictions_df = predictions.sample(fraction = 0.07, seed = 92).select(\"prediction\").toPandas()\ntrue_labels_df = predictions.sample(fraction = 0.07, seed = 92).select(\"score\").toPandas()",
                    "submissionTime": "2023-11-29T18:32:39.241GMT",
                    "completionTime": "2023-11-29T18:32:42.339GMT",
                    "stageIds": [
                      223,
                      224,
                      225
                    ],
                    "jobGroup": "28",
                    "status": "SUCCEEDED",
                    "numTasks": 232,
                    "numActiveTasks": 0,
                    "numCompletedTasks": 200,
                    "numSkippedTasks": 32,
                    "numFailedTasks": 0,
                    "numKilledTasks": 0,
                    "numCompletedIndices": 200,
                    "numActiveStages": 0,
                    "numCompletedStages": 1,
                    "numSkippedStages": 2,
                    "numFailedStages": 0,
                    "killedTasksSummary": {}
                  },
                  {
                    "displayName": "toPandas at /tmp/ipykernel_22438/813262684.py:1",
                    "dataWritten": 0,
                    "dataRead": 256953685,
                    "rowCount": 865472,
                    "usageDescription": "",
                    "jobId": 89,
                    "name": "toPandas at /tmp/ipykernel_22438/813262684.py:1",
                    "description": "Job group for statement 28:\npredictions_df = predictions.sample(fraction = 0.07, seed = 92).select(\"prediction\").toPandas()\ntrue_labels_df = predictions.sample(fraction = 0.07, seed = 92).select(\"score\").toPandas()",
                    "submissionTime": "2023-11-29T18:32:37.519GMT",
                    "completionTime": "2023-11-29T18:32:39.100GMT",
                    "stageIds": [
                      222,
                      219,
                      220,
                      221
                    ],
                    "jobGroup": "28",
                    "status": "SUCCEEDED",
                    "numTasks": 249,
                    "numActiveTasks": 0,
                    "numCompletedTasks": 17,
                    "numSkippedTasks": 232,
                    "numFailedTasks": 0,
                    "numKilledTasks": 0,
                    "numCompletedIndices": 17,
                    "numActiveStages": 0,
                    "numCompletedStages": 1,
                    "numSkippedStages": 3,
                    "numFailedStages": 0,
                    "killedTasksSummary": {}
                  },
                  {
                    "displayName": "toPandas at /tmp/ipykernel_22438/813262684.py:1",
                    "dataWritten": 256953685,
                    "dataRead": 249474055,
                    "rowCount": 865672,
                    "usageDescription": "",
                    "jobId": 88,
                    "name": "toPandas at /tmp/ipykernel_22438/813262684.py:1",
                    "description": "Job group for statement 28:\npredictions_df = predictions.sample(fraction = 0.07, seed = 92).select(\"prediction\").toPandas()\ntrue_labels_df = predictions.sample(fraction = 0.07, seed = 92).select(\"score\").toPandas()",
                    "submissionTime": "2023-11-29T18:32:31.199GMT",
                    "completionTime": "2023-11-29T18:32:37.234GMT",
                    "stageIds": [
                      216,
                      217,
                      218
                    ],
                    "jobGroup": "28",
                    "status": "SUCCEEDED",
                    "numTasks": 232,
                    "numActiveTasks": 0,
                    "numCompletedTasks": 200,
                    "numSkippedTasks": 32,
                    "numFailedTasks": 0,
                    "numKilledTasks": 0,
                    "numCompletedIndices": 200,
                    "numActiveStages": 0,
                    "numCompletedStages": 1,
                    "numSkippedStages": 2,
                    "numFailedStages": 0,
                    "killedTasksSummary": {}
                  }
                ],
                "limit": 20,
                "rule": "ALL_DESC"
              },
              "parent_msg_id": "1812e0ba-ab28-4b85-8cb3-e77a6856da9c"
            },
            "text/plain": "StatementMeta(d3c1b951-094c-48e1-919d-e32bc175397b, 46, 28, Finished, Available)"
          },
          "metadata": {}
        }
      ],
      "execution_count": 23,
      "metadata": {
        "jupyter": {
          "source_hidden": false,
          "outputs_hidden": false
        },
        "nteract": {
          "transient": {
            "deleting": false
          }
        },
        "gather": {
          "logged": 1701282765032
        }
      }
    },
    {
      "cell_type": "code",
      "source": [
        "# Plot true values against predicted values\n",
        "plt.scatter(true_labels_df, predictions_df, alpha=0.5, s = 15)\n",
        "plt.title(\"True vs Predicted Score\")\n",
        "plt.xlabel(\"True Score\")\n",
        "plt.ylabel(\"Predicted Score\")\n",
        "plt.ylim([0,40])\n",
        "plt.xlim([-50,200])\n",
        "#plt.xscale(\"log\")\n",
        "#plt.yscale(\"log\")\n",
        "plt.show()"
      ],
      "outputs": [
        {
          "output_type": "display_data",
          "data": {
            "application/vnd.livy.statement-meta+json": {
              "spark_pool": "d3c1b951-094c-48e1-919d-e32bc175397b",
              "session_id": "46",
              "statement_id": 43,
              "state": "finished",
              "livy_statement_state": "available",
              "queued_time": "2023-11-29T18:35:31.5236637Z",
              "session_start_time": null,
              "execution_start_time": "2023-11-29T18:35:31.6975621Z",
              "execution_finish_time": "2023-11-29T18:35:32.0192429Z",
              "spark_jobs": {
                "numbers": {
                  "FAILED": 0,
                  "RUNNING": 0,
                  "UNKNOWN": 0,
                  "SUCCEEDED": 0
                },
                "jobs": [],
                "limit": 20,
                "rule": "ALL_DESC"
              },
              "parent_msg_id": "882d376e-840d-4bab-acdb-581cc5b85fad"
            },
            "text/plain": "StatementMeta(d3c1b951-094c-48e1-919d-e32bc175397b, 46, 43, Finished, Available)"
          },
          "metadata": {}
        },
        {
          "output_type": "display_data",
          "data": {
            "text/plain": "<Figure size 432x288 with 1 Axes>",
            "image/png": "[encoded data removed]"
          },
          "metadata": {
            "needs_background": "light"
          }
        }
      ],
      "execution_count": 38,
      "metadata": {
        "jupyter": {
          "source_hidden": false,
          "outputs_hidden": false
        },
        "nteract": {
          "transient": {
            "deleting": false
          }
        },
        "gather": {
          "logged": 1701282932268
        }
      }
    },
    {
      "cell_type": "code",
      "source": [
        "model_lr = model.stages[-1]"
      ],
      "outputs": [
        {
          "output_type": "display_data",
          "data": {
            "application/vnd.livy.statement-meta+json": {
              "spark_pool": "d3c1b951-094c-48e1-919d-e32bc175397b",
              "session_id": "44",
              "statement_id": 166,
              "state": "finished",
              "livy_statement_state": "available",
              "queued_time": "2023-11-29T17:02:11.5195885Z",
              "session_start_time": null,
              "execution_start_time": "2023-11-29T17:02:11.6345773Z",
              "execution_finish_time": "2023-11-29T17:02:11.9496741Z",
              "spark_jobs": {
                "numbers": {
                  "FAILED": 0,
                  "RUNNING": 0,
                  "UNKNOWN": 0,
                  "SUCCEEDED": 0
                },
                "jobs": [],
                "limit": 20,
                "rule": "ALL_DESC"
              },
              "parent_msg_id": "c9113ed2-7fb2-40db-83b9-853eea04bc64"
            },
            "text/plain": "StatementMeta(d3c1b951-094c-48e1-919d-e32bc175397b, 44, 166, Finished, Available)"
          },
          "metadata": {}
        }
      ],
      "execution_count": 159,
      "metadata": {
        "jupyter": {
          "source_hidden": false,
          "outputs_hidden": false
        },
        "nteract": {
          "transient": {
            "deleting": false
          }
        },
        "gather": {
          "logged": 1701277332144
        }
      }
    },
    {
      "cell_type": "code",
      "source": [
        "coefficients_df = pd.DataFrame(list(zip(feature_cols, model_lr.coefficients.toArray())),\n",
        "                                columns=['Feature', 'Coefficient'])\n",
        "\n",
        "print(\"Intercept: {:.2f}\".format(model_lr.intercept))\n",
        "print(\"Coefficients:\")\n",
        "coefficients_df.sort_values(by='Coefficient', ascending=False, inplace=True)\n",
        "print(coefficients_df)"
      ],
      "outputs": [
        {
          "output_type": "display_data",
          "data": {
            "application/vnd.livy.statement-meta+json": {
              "spark_pool": "d3c1b951-094c-48e1-919d-e32bc175397b",
              "session_id": "44",
              "statement_id": 167,
              "state": "finished",
              "livy_statement_state": "available",
              "queued_time": "2023-11-29T17:02:12.1828275Z",
              "session_start_time": null,
              "execution_start_time": "2023-11-29T17:02:12.2914837Z",
              "execution_finish_time": "2023-11-29T17:02:12.581557Z",
              "spark_jobs": {
                "numbers": {
                  "FAILED": 0,
                  "RUNNING": 0,
                  "UNKNOWN": 0,
                  "SUCCEEDED": 0
                },
                "jobs": [],
                "limit": 20,
                "rule": "ALL_DESC"
              },
              "parent_msg_id": "480e598a-0093-4a7a-a739-a473670c6b91"
            },
            "text/plain": "StatementMeta(d3c1b951-094c-48e1-919d-e32bc175397b, 44, 167, Finished, Available)"
          },
          "metadata": {}
        },
        {
          "output_type": "stream",
          "name": "stdout",
          "text": "Intercept: 9.44\nCoefficients:\n           Feature  Coefficient\n1              day     0.001184\n0   comment_length     0.000000\n2             year     0.000000\n3             hour     0.000000\n4  author_activity     0.000000\n5        month_vec     0.000000\n6    sentiment_vec    -0.622529\n7       team_index    -1.014445\n"
        }
      ],
      "execution_count": 160,
      "metadata": {
        "jupyter": {
          "source_hidden": false,
          "outputs_hidden": false
        },
        "nteract": {
          "transient": {
            "deleting": false
          }
        },
        "gather": {
          "logged": 1701277332943
        }
      }
    },
    {
      "cell_type": "markdown",
      "source": [
        "#### Version 2"
      ],
      "metadata": {
        "nteract": {
          "transient": {
            "deleting": false
          }
        }
      }
    },
    {
      "cell_type": "code",
      "source": [
        "rf_v2 = RandomForestRegressor(featuresCol=\"features\", labelCol=\"score\", maxDepth=15, numTrees=500)"
      ],
      "outputs": [
        {
          "output_type": "display_data",
          "data": {
            "application/vnd.livy.statement-meta+json": {
              "spark_pool": "d3c1b951-094c-48e1-919d-e32bc175397b",
              "session_id": "47",
              "statement_id": 16,
              "state": "finished",
              "livy_statement_state": "available",
              "queued_time": "2023-11-29T18:41:43.6795052Z",
              "session_start_time": null,
              "execution_start_time": "2023-11-29T18:43:03.0036256Z",
              "execution_finish_time": "2023-11-29T18:43:03.3215792Z",
              "spark_jobs": {
                "numbers": {
                  "FAILED": 0,
                  "RUNNING": 0,
                  "UNKNOWN": 0,
                  "SUCCEEDED": 0
                },
                "jobs": [],
                "limit": 20,
                "rule": "ALL_DESC"
              },
              "parent_msg_id": "045694cd-2d47-48b0-ac72-6fe762daa339"
            },
            "text/plain": "StatementMeta(d3c1b951-094c-48e1-919d-e32bc175397b, 47, 16, Finished, Available)"
          },
          "metadata": {}
        }
      ],
      "execution_count": 11,
      "metadata": {
        "jupyter": {
          "source_hidden": false,
          "outputs_hidden": false
        },
        "nteract": {
          "transient": {
            "deleting": false
          }
        },
        "gather": {
          "logged": 1701283383497
        }
      }
    },
    {
      "cell_type": "code",
      "source": [
        "pipeline_model_v2 = Pipeline(stages = [\n",
        "    stringIndexer_sentiment,\n",
        "    stringIndexer_month,\n",
        "    stringIndexer_team,\n",
        "    onehot_month,\n",
        "    onehot_sentiment,\n",
        "    assembler,\n",
        "    rf_v2\n",
        "])"
      ],
      "outputs": [
        {
          "output_type": "display_data",
          "data": {
            "application/vnd.livy.statement-meta+json": {
              "spark_pool": "d3c1b951-094c-48e1-919d-e32bc175397b",
              "session_id": "47",
              "statement_id": 17,
              "state": "finished",
              "livy_statement_state": "available",
              "queued_time": "2023-11-29T18:41:46.5904867Z",
              "session_start_time": null,
              "execution_start_time": "2023-11-29T18:43:03.473403Z",
              "execution_finish_time": "2023-11-29T18:43:03.8300976Z",
              "spark_jobs": {
                "numbers": {
                  "FAILED": 0,
                  "RUNNING": 0,
                  "UNKNOWN": 0,
                  "SUCCEEDED": 0
                },
                "jobs": [],
                "limit": 20,
                "rule": "ALL_DESC"
              },
              "parent_msg_id": "7f47ef1c-f4fd-4da2-8828-1c925dfd1cf1"
            },
            "text/plain": "StatementMeta(d3c1b951-094c-48e1-919d-e32bc175397b, 47, 17, Finished, Available)"
          },
          "metadata": {}
        }
      ],
      "execution_count": 12,
      "metadata": {
        "jupyter": {
          "source_hidden": false,
          "outputs_hidden": false
        },
        "nteract": {
          "transient": {
            "deleting": false
          }
        },
        "gather": {
          "logged": 1701283384010
        }
      }
    },
    {
      "cell_type": "code",
      "source": [
        "model_v2 = pipeline_model_v2.fit(train_data)"
      ],
      "outputs": [
        {
          "output_type": "display_data",
          "data": {
            "application/vnd.livy.statement-meta+json": {
              "spark_pool": "d3c1b951-094c-48e1-919d-e32bc175397b",
              "session_id": "47",
              "statement_id": 18,
              "state": "finished",
              "livy_statement_state": "available",
              "queued_time": "2023-11-29T18:42:00.7472804Z",
              "session_start_time": null,
              "execution_start_time": "2023-11-29T18:43:03.9787455Z",
              "execution_finish_time": "2023-11-29T20:09:03.7095183Z",
              "spark_jobs": {
                "numbers": {
                  "FAILED": 0,
                  "RUNNING": 0,
                  "UNKNOWN": 0,
                  "SUCCEEDED": 38
                },
                "jobs": [
                  {
                    "displayName": "collectAsMap at RandomForest.scala:663",
                    "dataWritten": 88583824,
                    "dataRead": 1494632764,
                    "rowCount": 4671240,
                    "usageDescription": "",
                    "jobId": 45,
                    "name": "collectAsMap at RandomForest.scala:663",
                    "description": "Job group for statement 18:\nmodel_v2 = pipeline_model_v2.fit(train_data)",
                    "submissionTime": "2023-11-29T20:08:47.797GMT",
                    "completionTime": "2023-11-29T20:09:00.964GMT",
                    "stageIds": [
                      208,
                      209,
                      206,
                      210,
                      207
                    ],
                    "jobGroup": "18",
                    "status": "SUCCEEDED",
                    "numTasks": 632,
                    "numActiveTasks": 0,
                    "numCompletedTasks": 400,
                    "numSkippedTasks": 232,
                    "numFailedTasks": 0,
                    "numKilledTasks": 0,
                    "numCompletedIndices": 400,
                    "numActiveStages": 0,
                    "numCompletedStages": 2,
                    "numSkippedStages": 3,
                    "numFailedStages": 0,
                    "killedTasksSummary": {}
                  },
                  {
                    "displayName": "collectAsMap at RandomForest.scala:663",
                    "dataWritten": 1492317663,
                    "dataRead": 2913787473,
                    "rowCount": 68464440,
                    "usageDescription": "",
                    "jobId": 44,
                    "name": "collectAsMap at RandomForest.scala:663",
                    "description": "Job group for statement 18:\nmodel_v2 = pipeline_model_v2.fit(train_data)",
                    "submissionTime": "2023-11-29T20:05:46.142GMT",
                    "completionTime": "2023-11-29T20:08:47.357GMT",
                    "stageIds": [
                      204,
                      201,
                      205,
                      202,
                      203
                    ],
                    "jobGroup": "18",
                    "status": "SUCCEEDED",
                    "numTasks": 632,
                    "numActiveTasks": 0,
                    "numCompletedTasks": 400,
                    "numSkippedTasks": 232,
                    "numFailedTasks": 0,
                    "numKilledTasks": 0,
                    "numCompletedIndices": 400,
                    "numActiveStages": 0,
                    "numCompletedStages": 2,
                    "numSkippedStages": 3,
                    "numFailedStages": 0,
                    "killedTasksSummary": {}
                  },
                  {
                    "displayName": "collectAsMap at RandomForest.scala:663",
                    "dataWritten": 2148542787,
                    "dataRead": 3562177181,
                    "rowCount": 94484040,
                    "usageDescription": "",
                    "jobId": 43,
                    "name": "collectAsMap at RandomForest.scala:663",
                    "description": "Job group for statement 18:\nmodel_v2 = pipeline_model_v2.fit(train_data)",
                    "submissionTime": "2023-11-29T20:01:24.752GMT",
                    "completionTime": "2023-11-29T20:05:41.270GMT",
                    "stageIds": [
                      197,
                      198,
                      199,
                      196,
                      200
                    ],
                    "jobGroup": "18",
                    "status": "SUCCEEDED",
                    "numTasks": 632,
                    "numActiveTasks": 0,
                    "numCompletedTasks": 400,
                    "numSkippedTasks": 232,
                    "numFailedTasks": 0,
                    "numKilledTasks": 0,
                    "numCompletedIndices": 400,
                    "numActiveStages": 0,
                    "numCompletedStages": 2,
                    "numSkippedStages": 3,
                    "numFailedStages": 0,
                    "killedTasksSummary": {}
                  },
                  {
                    "displayName": "collectAsMap at RandomForest.scala:663",
                    "dataWritten": 1756498283,
                    "dataRead": 3190473028,
                    "rowCount": 70732040,
                    "usageDescription": "",
                    "jobId": 42,
                    "name": "collectAsMap at RandomForest.scala:663",
                    "description": "Job group for statement 18:\nmodel_v2 = pipeline_model_v2.fit(train_data)",
                    "submissionTime": "2023-11-29T19:58:16.170GMT",
                    "completionTime": "2023-11-29T20:01:17.837GMT",
                    "stageIds": [
                      194,
                      191,
                      195,
                      192,
                      193
                    ],
                    "jobGroup": "18",
                    "status": "SUCCEEDED",
                    "numTasks": 632,
                    "numActiveTasks": 0,
                    "numCompletedTasks": 400,
                    "numSkippedTasks": 232,
                    "numFailedTasks": 0,
                    "numKilledTasks": 0,
                    "numCompletedIndices": 400,
                    "numActiveStages": 0,
                    "numCompletedStages": 2,
                    "numSkippedStages": 3,
                    "numFailedStages": 0,
                    "killedTasksSummary": {}
                  },
                  {
                    "displayName": "collectAsMap at RandomForest.scala:663",
                    "dataWritten": 1921644989,
                    "dataRead": 3343287118,
                    "rowCount": 75119240,
                    "usageDescription": "",
                    "jobId": 41,
                    "name": "collectAsMap at RandomForest.scala:663",
                    "description": "Job group for statement 18:\nmodel_v2 = pipeline_model_v2.fit(train_data)",
                    "submissionTime": "2023-11-29T19:54:52.575GMT",
                    "completionTime": "2023-11-29T19:58:10.983GMT",
                    "stageIds": [
                      186,
                      190,
                      187,
                      188,
                      189
                    ],
                    "jobGroup": "18",
                    "status": "SUCCEEDED",
                    "numTasks": 632,
                    "numActiveTasks": 0,
                    "numCompletedTasks": 400,
                    "numSkippedTasks": 232,
                    "numFailedTasks": 0,
                    "numKilledTasks": 0,
                    "numCompletedIndices": 400,
                    "numActiveStages": 0,
                    "numCompletedStages": 2,
                    "numSkippedStages": 3,
                    "numFailedStages": 0,
                    "killedTasksSummary": {}
                  },
                  {
                    "displayName": "collectAsMap at RandomForest.scala:663",
                    "dataWritten": 2085395725,
                    "dataRead": 3506114056,
                    "rowCount": 94354840,
                    "usageDescription": "",
                    "jobId": 40,
                    "name": "collectAsMap at RandomForest.scala:663",
                    "description": "Job group for statement 18:\nmodel_v2 = pipeline_model_v2.fit(train_data)",
                    "submissionTime": "2023-11-29T19:50:27.936GMT",
                    "completionTime": "2023-11-29T19:54:47.513GMT",
                    "stageIds": [
                      183,
                      184,
                      181,
                      185,
                      182
                    ],
                    "jobGroup": "18",
                    "status": "SUCCEEDED",
                    "numTasks": 632,
                    "numActiveTasks": 0,
                    "numCompletedTasks": 400,
                    "numSkippedTasks": 232,
                    "numFailedTasks": 0,
                    "numKilledTasks": 0,
                    "numCompletedIndices": 400,
                    "numActiveStages": 0,
                    "numCompletedStages": 2,
                    "numSkippedStages": 3,
                    "numFailedStages": 0,
                    "killedTasksSummary": {}
                  },
                  {
                    "displayName": "collectAsMap at RandomForest.scala:663",
                    "dataWritten": 2345331207,
                    "dataRead": 3779823842,
                    "rowCount": 94682840,
                    "usageDescription": "",
                    "jobId": 39,
                    "name": "collectAsMap at RandomForest.scala:663",
                    "description": "Job group for statement 18:\nmodel_v2 = pipeline_model_v2.fit(train_data)",
                    "submissionTime": "2023-11-29T19:46:07.442GMT",
                    "completionTime": "2023-11-29T19:50:21.287GMT",
                    "stageIds": [
                      179,
                      180,
                      176,
                      177,
                      178
                    ],
                    "jobGroup": "18",
                    "status": "SUCCEEDED",
                    "numTasks": 632,
                    "numActiveTasks": 0,
                    "numCompletedTasks": 400,
                    "numSkippedTasks": 232,
                    "numFailedTasks": 0,
                    "numKilledTasks": 0,
                    "numCompletedIndices": 400,
                    "numActiveStages": 0,
                    "numCompletedStages": 2,
                    "numSkippedStages": 3,
                    "numFailedStages": 0,
                    "killedTasksSummary": {}
                  },
                  {
                    "displayName": "collectAsMap at RandomForest.scala:663",
                    "dataWritten": 2252621434,
                    "dataRead": 3680428665,
                    "rowCount": 77955640,
                    "usageDescription": "",
                    "jobId": 38,
                    "name": "collectAsMap at RandomForest.scala:663",
                    "description": "Job group for statement 18:\nmodel_v2 = pipeline_model_v2.fit(train_data)",
                    "submissionTime": "2023-11-29T19:42:29.180GMT",
                    "completionTime": "2023-11-29T19:46:00.986GMT",
                    "stageIds": [
                      171,
                      172,
                      173,
                      174,
                      175
                    ],
                    "jobGroup": "18",
                    "status": "SUCCEEDED",
                    "numTasks": 632,
                    "numActiveTasks": 0,
                    "numCompletedTasks": 400,
                    "numSkippedTasks": 232,
                    "numFailedTasks": 0,
                    "numKilledTasks": 0,
                    "numCompletedIndices": 400,
                    "numActiveStages": 0,
                    "numCompletedStages": 2,
                    "numSkippedStages": 3,
                    "numFailedStages": 0,
                    "killedTasksSummary": {}
                  },
                  {
                    "displayName": "collectAsMap at RandomForest.scala:663",
                    "dataWritten": 2267458200,
                    "dataRead": 3687611469,
                    "rowCount": 94476040,
                    "usageDescription": "",
                    "jobId": 37,
                    "name": "collectAsMap at RandomForest.scala:663",
                    "description": "Job group for statement 18:\nmodel_v2 = pipeline_model_v2.fit(train_data)",
                    "submissionTime": "2023-11-29T19:38:05.266GMT",
                    "completionTime": "2023-11-29T19:42:24.086GMT",
                    "stageIds": [
                      168,
                      169,
                      166,
                      170,
                      167
                    ],
                    "jobGroup": "18",
                    "status": "SUCCEEDED",
                    "numTasks": 632,
                    "numActiveTasks": 0,
                    "numCompletedTasks": 400,
                    "numSkippedTasks": 232,
                    "numFailedTasks": 0,
                    "numKilledTasks": 0,
                    "numCompletedIndices": 400,
                    "numActiveStages": 0,
                    "numCompletedStages": 2,
                    "numSkippedStages": 3,
                    "numFailedStages": 0,
                    "killedTasksSummary": {}
                  },
                  {
                    "displayName": "collectAsMap at RandomForest.scala:663",
                    "dataWritten": 2136610598,
                    "dataRead": 3550244992,
                    "rowCount": 94387640,
                    "usageDescription": "",
                    "jobId": 36,
                    "name": "collectAsMap at RandomForest.scala:663",
                    "description": "Job group for statement 18:\nmodel_v2 = pipeline_model_v2.fit(train_data)",
                    "submissionTime": "2023-11-29T19:33:40.601GMT",
                    "completionTime": "2023-11-29T19:37:58.492GMT",
                    "stageIds": [
                      161,
                      165,
                      162,
                      163,
                      164
                    ],
                    "jobGroup": "18",
                    "status": "SUCCEEDED",
                    "numTasks": 632,
                    "numActiveTasks": 0,
                    "numCompletedTasks": 400,
                    "numSkippedTasks": 232,
                    "numFailedTasks": 0,
                    "numKilledTasks": 0,
                    "numCompletedIndices": 400,
                    "numActiveStages": 0,
                    "numCompletedStages": 2,
                    "numSkippedStages": 3,
                    "numFailedStages": 0,
                    "killedTasksSummary": {}
                  },
                  {
                    "displayName": "collectAsMap at RandomForest.scala:663",
                    "dataWritten": 2258138528,
                    "dataRead": 3678291797,
                    "rowCount": 94551240,
                    "usageDescription": "",
                    "jobId": 35,
                    "name": "collectAsMap at RandomForest.scala:663",
                    "description": "Job group for statement 18:\nmodel_v2 = pipeline_model_v2.fit(train_data)",
                    "submissionTime": "2023-11-29T19:29:16.163GMT",
                    "completionTime": "2023-11-29T19:33:33.467GMT",
                    "stageIds": [
                      157,
                      158,
                      159,
                      156,
                      160
                    ],
                    "jobGroup": "18",
                    "status": "SUCCEEDED",
                    "numTasks": 632,
                    "numActiveTasks": 0,
                    "numCompletedTasks": 400,
                    "numSkippedTasks": 232,
                    "numFailedTasks": 0,
                    "numKilledTasks": 0,
                    "numCompletedIndices": 400,
                    "numActiveStages": 0,
                    "numCompletedStages": 2,
                    "numSkippedStages": 3,
                    "numFailedStages": 0,
                    "killedTasksSummary": {}
                  },
                  {
                    "displayName": "collectAsMap at RandomForest.scala:663",
                    "dataWritten": 2391645090,
                    "dataRead": 3821697934,
                    "rowCount": 94682040,
                    "usageDescription": "",
                    "jobId": 34,
                    "name": "collectAsMap at RandomForest.scala:663",
                    "description": "Job group for statement 18:\nmodel_v2 = pipeline_model_v2.fit(train_data)",
                    "submissionTime": "2023-11-29T19:24:50.690GMT",
                    "completionTime": "2023-11-29T19:29:09.137GMT",
                    "stageIds": [
                      153,
                      154,
                      151,
                      155,
                      152
                    ],
                    "jobGroup": "18",
                    "status": "SUCCEEDED",
                    "numTasks": 632,
                    "numActiveTasks": 0,
                    "numCompletedTasks": 400,
                    "numSkippedTasks": 232,
                    "numFailedTasks": 0,
                    "numKilledTasks": 0,
                    "numCompletedIndices": 400,
                    "numActiveStages": 0,
                    "numCompletedStages": 2,
                    "numSkippedStages": 3,
                    "numFailedStages": 0,
                    "killedTasksSummary": {}
                  },
                  {
                    "displayName": "collectAsMap at RandomForest.scala:663",
                    "dataWritten": 2167924120,
                    "dataRead": 3581558514,
                    "rowCount": 94752440,
                    "usageDescription": "",
                    "jobId": 33,
                    "name": "collectAsMap at RandomForest.scala:663",
                    "description": "Job group for statement 18:\nmodel_v2 = pipeline_model_v2.fit(train_data)",
                    "submissionTime": "2023-11-29T19:20:24.207GMT",
                    "completionTime": "2023-11-29T19:24:41.826GMT",
                    "stageIds": [
                      150,
                      147,
                      148,
                      149,
                      146
                    ],
                    "jobGroup": "18",
                    "status": "SUCCEEDED",
                    "numTasks": 632,
                    "numActiveTasks": 0,
                    "numCompletedTasks": 400,
                    "numSkippedTasks": 232,
                    "numFailedTasks": 0,
                    "numKilledTasks": 0,
                    "numCompletedIndices": 400,
                    "numActiveStages": 0,
                    "numCompletedStages": 2,
                    "numSkippedStages": 3,
                    "numFailedStages": 0,
                    "killedTasksSummary": {}
                  },
                  {
                    "displayName": "collectAsMap at RandomForest.scala:663",
                    "dataWritten": 2205202735,
                    "dataRead": 3618837129,
                    "rowCount": 94493640,
                    "usageDescription": "",
                    "jobId": 32,
                    "name": "collectAsMap at RandomForest.scala:663",
                    "description": "Job group for statement 18:\nmodel_v2 = pipeline_model_v2.fit(train_data)",
                    "submissionTime": "2023-11-29T19:15:55.744GMT",
                    "completionTime": "2023-11-29T19:20:17.595GMT",
                    "stageIds": [
                      143,
                      144,
                      141,
                      145,
                      142
                    ],
                    "jobGroup": "18",
                    "status": "SUCCEEDED",
                    "numTasks": 632,
                    "numActiveTasks": 0,
                    "numCompletedTasks": 400,
                    "numSkippedTasks": 232,
                    "numFailedTasks": 0,
                    "numKilledTasks": 0,
                    "numCompletedIndices": 400,
                    "numActiveStages": 0,
                    "numCompletedStages": 2,
                    "numSkippedStages": 3,
                    "numFailedStages": 0,
                    "killedTasksSummary": {}
                  },
                  {
                    "displayName": "collectAsMap at RandomForest.scala:663",
                    "dataWritten": 2050883932,
                    "dataRead": 3472526061,
                    "rowCount": 94763240,
                    "usageDescription": "",
                    "jobId": 31,
                    "name": "collectAsMap at RandomForest.scala:663",
                    "description": "Job group for statement 18:\nmodel_v2 = pipeline_model_v2.fit(train_data)",
                    "submissionTime": "2023-11-29T19:11:21.746GMT",
                    "completionTime": "2023-11-29T19:15:43.912GMT",
                    "stageIds": [
                      139,
                      136,
                      140,
                      137,
                      138
                    ],
                    "jobGroup": "18",
                    "status": "SUCCEEDED",
                    "numTasks": 632,
                    "numActiveTasks": 0,
                    "numCompletedTasks": 400,
                    "numSkippedTasks": 232,
                    "numFailedTasks": 0,
                    "numKilledTasks": 0,
                    "numCompletedIndices": 400,
                    "numActiveStages": 0,
                    "numCompletedStages": 2,
                    "numSkippedStages": 3,
                    "numFailedStages": 0,
                    "killedTasksSummary": {}
                  },
                  {
                    "displayName": "collectAsMap at RandomForest.scala:663",
                    "dataWritten": 2226669472,
                    "dataRead": 3649257917,
                    "rowCount": 94504840,
                    "usageDescription": "",
                    "jobId": 30,
                    "name": "collectAsMap at RandomForest.scala:663",
                    "description": "Job group for statement 18:\nmodel_v2 = pipeline_model_v2.fit(train_data)",
                    "submissionTime": "2023-11-29T19:06:48.292GMT",
                    "completionTime": "2023-11-29T19:11:04.513GMT",
                    "stageIds": [
                      135,
                      132,
                      133,
                      134,
                      131
                    ],
                    "jobGroup": "18",
                    "status": "SUCCEEDED",
                    "numTasks": 632,
                    "numActiveTasks": 0,
                    "numCompletedTasks": 400,
                    "numSkippedTasks": 232,
                    "numFailedTasks": 0,
                    "numKilledTasks": 0,
                    "numCompletedIndices": 400,
                    "numActiveStages": 0,
                    "numCompletedStages": 2,
                    "numSkippedStages": 3,
                    "numFailedStages": 0,
                    "killedTasksSummary": {}
                  },
                  {
                    "displayName": "collectAsMap at RandomForest.scala:663",
                    "dataWritten": 2488291714,
                    "dataRead": 3916076703,
                    "rowCount": 94758040,
                    "usageDescription": "",
                    "jobId": 29,
                    "name": "collectAsMap at RandomForest.scala:663",
                    "description": "Job group for statement 18:\nmodel_v2 = pipeline_model_v2.fit(train_data)",
                    "submissionTime": "2023-11-29T19:02:31.007GMT",
                    "completionTime": "2023-11-29T19:06:37.433GMT",
                    "stageIds": [
                      129,
                      126,
                      130,
                      127,
                      128
                    ],
                    "jobGroup": "18",
                    "status": "SUCCEEDED",
                    "numTasks": 632,
                    "numActiveTasks": 0,
                    "numCompletedTasks": 400,
                    "numSkippedTasks": 232,
                    "numFailedTasks": 0,
                    "numKilledTasks": 0,
                    "numCompletedIndices": 400,
                    "numActiveStages": 0,
                    "numCompletedStages": 2,
                    "numSkippedStages": 3,
                    "numFailedStages": 0,
                    "killedTasksSummary": {}
                  },
                  {
                    "displayName": "collectAsMap at RandomForest.scala:663",
                    "dataWritten": 2818197882,
                    "dataRead": 4253254758,
                    "rowCount": 94546440,
                    "usageDescription": "",
                    "jobId": 28,
                    "name": "collectAsMap at RandomForest.scala:663",
                    "description": "Job group for statement 18:\nmodel_v2 = pipeline_model_v2.fit(train_data)",
                    "submissionTime": "2023-11-29T18:58:09.384GMT",
                    "completionTime": "2023-11-29T19:02:20.572GMT",
                    "stageIds": [
                      121,
                      125,
                      122,
                      123,
                      124
                    ],
                    "jobGroup": "18",
                    "status": "SUCCEEDED",
                    "numTasks": 632,
                    "numActiveTasks": 0,
                    "numCompletedTasks": 400,
                    "numSkippedTasks": 232,
                    "numFailedTasks": 0,
                    "numKilledTasks": 0,
                    "numCompletedIndices": 400,
                    "numActiveStages": 0,
                    "numCompletedStages": 2,
                    "numSkippedStages": 3,
                    "numFailedStages": 0,
                    "killedTasksSummary": {}
                  },
                  {
                    "displayName": "collectAsMap at RandomForest.scala:663",
                    "dataWritten": 3298825334,
                    "dataRead": 4732217234,
                    "rowCount": 94476040,
                    "usageDescription": "",
                    "jobId": 27,
                    "name": "collectAsMap at RandomForest.scala:663",
                    "description": "Job group for statement 18:\nmodel_v2 = pipeline_model_v2.fit(train_data)",
                    "submissionTime": "2023-11-29T18:53:40.789GMT",
                    "completionTime": "2023-11-29T18:57:59.585GMT",
                    "stageIds": [
                      117,
                      118,
                      119,
                      120,
                      116
                    ],
                    "jobGroup": "18",
                    "status": "SUCCEEDED",
                    "numTasks": 632,
                    "numActiveTasks": 0,
                    "numCompletedTasks": 400,
                    "numSkippedTasks": 232,
                    "numFailedTasks": 0,
                    "numKilledTasks": 0,
                    "numCompletedIndices": 400,
                    "numActiveStages": 0,
                    "numCompletedStages": 2,
                    "numSkippedStages": 3,
                    "numFailedStages": 0,
                    "killedTasksSummary": {}
                  },
                  {
                    "displayName": "collectAsMap at RandomForest.scala:663",
                    "dataWritten": 2981932337,
                    "dataRead": 4418869302,
                    "rowCount": 70538040,
                    "usageDescription": "",
                    "jobId": 26,
                    "name": "collectAsMap at RandomForest.scala:663",
                    "description": "Job group for statement 18:\nmodel_v2 = pipeline_model_v2.fit(train_data)",
                    "submissionTime": "2023-11-29T18:50:06.644GMT",
                    "completionTime": "2023-11-29T18:53:31.364GMT",
                    "stageIds": [
                      114,
                      115,
                      111,
                      112,
                      113
                    ],
                    "jobGroup": "18",
                    "status": "SUCCEEDED",
                    "numTasks": 632,
                    "numActiveTasks": 0,
                    "numCompletedTasks": 400,
                    "numSkippedTasks": 232,
                    "numFailedTasks": 0,
                    "numKilledTasks": 0,
                    "numCompletedIndices": 400,
                    "numActiveStages": 0,
                    "numCompletedStages": 2,
                    "numSkippedStages": 3,
                    "numFailedStages": 0,
                    "killedTasksSummary": {}
                  }
                ],
                "limit": 20,
                "rule": "ALL_DESC"
              },
              "parent_msg_id": "26affea2-696d-4f04-bc01-1933f269f271"
            },
            "text/plain": "StatementMeta(d3c1b951-094c-48e1-919d-e32bc175397b, 47, 18, Finished, Available)"
          },
          "metadata": {}
        }
      ],
      "execution_count": 13,
      "metadata": {
        "jupyter": {
          "source_hidden": false,
          "outputs_hidden": false
        },
        "nteract": {
          "transient": {
            "deleting": false
          }
        },
        "gather": {
          "logged": 1701288545853
        }
      }
    },
    {
      "cell_type": "code",
      "source": [
        "model_v2.write().overwrite().save(\"Users/vankempenklaas/fall-2023-reddit-project-team-26/code/ml/model_files/popularity_model_v3\")"
      ],
      "outputs": [
        {
          "output_type": "display_data",
          "data": {
            "application/vnd.livy.statement-meta+json": {
              "spark_pool": "d3c1b951-094c-48e1-919d-e32bc175397b",
              "session_id": "47",
              "statement_id": 19,
              "state": "submitted",
              "livy_statement_state": "running",
              "queued_time": "2023-11-29T18:42:10.5914941Z",
              "session_start_time": null,
              "execution_start_time": "2023-11-29T20:09:03.8380864Z",
              "execution_finish_time": null,
              "spark_jobs": {
                "numbers": {
                  "FAILED": 0,
                  "RUNNING": 1,
                  "UNKNOWN": 0,
                  "SUCCEEDED": 20
                },
                "jobs": [
                  {
                    "displayName": "parquet at treeModels.scala:491",
                    "dataWritten": 0,
                    "dataRead": 0,
                    "rowCount": 0,
                    "usageDescription": "",
                    "jobId": 66,
                    "name": "parquet at treeModels.scala:491",
                    "description": "Job group for statement 19:\nmodel_v2.write().overwrite().save(\"Users/vankempenklaas/fall-2023-reddit-project-team-26/code/ml/model_files/popularity_model_v3\")",
                    "submissionTime": "2023-11-29T20:09:25.107GMT",
                    "stageIds": [
                      237
                    ],
                    "jobGroup": "19",
                    "status": "RUNNING",
                    "numTasks": 16,
                    "numActiveTasks": 10,
                    "numCompletedTasks": 0,
                    "numSkippedTasks": 0,
                    "numFailedTasks": 0,
                    "numKilledTasks": 0,
                    "numCompletedIndices": 0,
                    "numActiveStages": 1,
                    "numCompletedStages": 0,
                    "numSkippedStages": 0,
                    "numFailedStages": 0,
                    "killedTasksSummary": {}
                  },
                  {
                    "displayName": "parquet at treeModels.scala:483",
                    "dataWritten": 43364,
                    "dataRead": 51617,
                    "rowCount": 1000,
                    "usageDescription": "",
                    "jobId": 65,
                    "name": "parquet at treeModels.scala:483",
                    "description": "Job group for statement 19:\nmodel_v2.write().overwrite().save(\"Users/vankempenklaas/fall-2023-reddit-project-team-26/code/ml/model_files/popularity_model_v3\")",
                    "submissionTime": "2023-11-29T20:09:23.404GMT",
                    "completionTime": "2023-11-29T20:09:24.416GMT",
                    "stageIds": [
                      235,
                      236
                    ],
                    "jobGroup": "19",
                    "status": "SUCCEEDED",
                    "numTasks": 17,
                    "numActiveTasks": 0,
                    "numCompletedTasks": 1,
                    "numSkippedTasks": 16,
                    "numFailedTasks": 0,
                    "numKilledTasks": 0,
                    "numCompletedIndices": 1,
                    "numActiveStages": 0,
                    "numCompletedStages": 1,
                    "numSkippedStages": 1,
                    "numFailedStages": 0,
                    "killedTasksSummary": {}
                  },
                  {
                    "displayName": "parquet at treeModels.scala:483",
                    "dataWritten": 51617,
                    "dataRead": 0,
                    "rowCount": 500,
                    "usageDescription": "",
                    "jobId": 64,
                    "name": "parquet at treeModels.scala:483",
                    "description": "Job group for statement 19:\nmodel_v2.write().overwrite().save(\"Users/vankempenklaas/fall-2023-reddit-project-team-26/code/ml/model_files/popularity_model_v3\")",
                    "submissionTime": "2023-11-29T20:09:23.261GMT",
                    "completionTime": "2023-11-29T20:09:23.341GMT",
                    "stageIds": [
                      234
                    ],
                    "jobGroup": "19",
                    "status": "SUCCEEDED",
                    "numTasks": 16,
                    "numActiveTasks": 0,
                    "numCompletedTasks": 16,
                    "numSkippedTasks": 0,
                    "numFailedTasks": 0,
                    "numKilledTasks": 0,
                    "numCompletedIndices": 16,
                    "numActiveStages": 0,
                    "numCompletedStages": 1,
                    "numSkippedStages": 0,
                    "numFailedStages": 0,
                    "killedTasksSummary": {}
                  },
                  {
                    "displayName": "runJob at SparkHadoopWriter.scala:85",
                    "dataWritten": 698,
                    "dataRead": 0,
                    "rowCount": 1,
                    "usageDescription": "",
                    "jobId": 63,
                    "name": "runJob at SparkHadoopWriter.scala:85",
                    "description": "Job group for statement 19:\nmodel_v2.write().overwrite().save(\"Users/vankempenklaas/fall-2023-reddit-project-team-26/code/ml/model_files/popularity_model_v3\")",
                    "submissionTime": "2023-11-29T20:09:21.977GMT",
                    "completionTime": "2023-11-29T20:09:22.680GMT",
                    "stageIds": [
                      233
                    ],
                    "jobGroup": "19",
                    "status": "SUCCEEDED",
                    "numTasks": 1,
                    "numActiveTasks": 0,
                    "numCompletedTasks": 1,
                    "numSkippedTasks": 0,
                    "numFailedTasks": 0,
                    "numKilledTasks": 0,
                    "numCompletedIndices": 1,
                    "numActiveStages": 0,
                    "numCompletedStages": 1,
                    "numSkippedStages": 0,
                    "numFailedStages": 0,
                    "killedTasksSummary": {}
                  },
                  {
                    "displayName": "runJob at SparkHadoopWriter.scala:85",
                    "dataWritten": 397,
                    "dataRead": 0,
                    "rowCount": 1,
                    "usageDescription": "",
                    "jobId": 62,
                    "name": "runJob at SparkHadoopWriter.scala:85",
                    "description": "Job group for statement 19:\nmodel_v2.write().overwrite().save(\"Users/vankempenklaas/fall-2023-reddit-project-team-26/code/ml/model_files/popularity_model_v3\")",
                    "submissionTime": "2023-11-29T20:09:20.840GMT",
                    "completionTime": "2023-11-29T20:09:21.529GMT",
                    "stageIds": [
                      232
                    ],
                    "jobGroup": "19",
                    "status": "SUCCEEDED",
                    "numTasks": 1,
                    "numActiveTasks": 0,
                    "numCompletedTasks": 1,
                    "numSkippedTasks": 0,
                    "numFailedTasks": 0,
                    "numKilledTasks": 0,
                    "numCompletedIndices": 1,
                    "numActiveStages": 0,
                    "numCompletedStages": 1,
                    "numSkippedStages": 0,
                    "numFailedStages": 0,
                    "killedTasksSummary": {}
                  },
                  {
                    "displayName": "parquet at OneHotEncoder.scala:407",
                    "dataWritten": 589,
                    "dataRead": 74,
                    "rowCount": 2,
                    "usageDescription": "",
                    "jobId": 61,
                    "name": "parquet at OneHotEncoder.scala:407",
                    "description": "Job group for statement 19:\nmodel_v2.write().overwrite().save(\"Users/vankempenklaas/fall-2023-reddit-project-team-26/code/ml/model_files/popularity_model_v3\")",
                    "submissionTime": "2023-11-29T20:09:19.272GMT",
                    "completionTime": "2023-11-29T20:09:20.360GMT",
                    "stageIds": [
                      230,
                      231
                    ],
                    "jobGroup": "19",
                    "status": "SUCCEEDED",
                    "numTasks": 2,
                    "numActiveTasks": 0,
                    "numCompletedTasks": 1,
                    "numSkippedTasks": 1,
                    "numFailedTasks": 0,
                    "numKilledTasks": 0,
                    "numCompletedIndices": 1,
                    "numActiveStages": 0,
                    "numCompletedStages": 1,
                    "numSkippedStages": 1,
                    "numFailedStages": 0,
                    "killedTasksSummary": {}
                  },
                  {
                    "displayName": "parquet at OneHotEncoder.scala:407",
                    "dataWritten": 74,
                    "dataRead": 0,
                    "rowCount": 1,
                    "usageDescription": "",
                    "jobId": 60,
                    "name": "parquet at OneHotEncoder.scala:407",
                    "description": "Job group for statement 19:\nmodel_v2.write().overwrite().save(\"Users/vankempenklaas/fall-2023-reddit-project-team-26/code/ml/model_files/popularity_model_v3\")",
                    "submissionTime": "2023-11-29T20:09:19.188GMT",
                    "completionTime": "2023-11-29T20:09:19.226GMT",
                    "stageIds": [
                      229
                    ],
                    "jobGroup": "19",
                    "status": "SUCCEEDED",
                    "numTasks": 1,
                    "numActiveTasks": 0,
                    "numCompletedTasks": 1,
                    "numSkippedTasks": 0,
                    "numFailedTasks": 0,
                    "numKilledTasks": 0,
                    "numCompletedIndices": 1,
                    "numActiveStages": 0,
                    "numCompletedStages": 1,
                    "numSkippedStages": 0,
                    "numFailedStages": 0,
                    "killedTasksSummary": {}
                  },
                  {
                    "displayName": "runJob at SparkHadoopWriter.scala:85",
                    "dataWritten": 336,
                    "dataRead": 0,
                    "rowCount": 1,
                    "usageDescription": "",
                    "jobId": 59,
                    "name": "runJob at SparkHadoopWriter.scala:85",
                    "description": "Job group for statement 19:\nmodel_v2.write().overwrite().save(\"Users/vankempenklaas/fall-2023-reddit-project-team-26/code/ml/model_files/popularity_model_v3\")",
                    "submissionTime": "2023-11-29T20:09:18.107GMT",
                    "completionTime": "2023-11-29T20:09:18.762GMT",
                    "stageIds": [
                      228
                    ],
                    "jobGroup": "19",
                    "status": "SUCCEEDED",
                    "numTasks": 1,
                    "numActiveTasks": 0,
                    "numCompletedTasks": 1,
                    "numSkippedTasks": 0,
                    "numFailedTasks": 0,
                    "numKilledTasks": 0,
                    "numCompletedIndices": 1,
                    "numActiveStages": 0,
                    "numCompletedStages": 1,
                    "numSkippedStages": 0,
                    "numFailedStages": 0,
                    "killedTasksSummary": {}
                  },
                  {
                    "displayName": "parquet at OneHotEncoder.scala:407",
                    "dataWritten": 589,
                    "dataRead": 74,
                    "rowCount": 2,
                    "usageDescription": "",
                    "jobId": 58,
                    "name": "parquet at OneHotEncoder.scala:407",
                    "description": "Job group for statement 19:\nmodel_v2.write().overwrite().save(\"Users/vankempenklaas/fall-2023-reddit-project-team-26/code/ml/model_files/popularity_model_v3\")",
                    "submissionTime": "2023-11-29T20:09:16.984GMT",
                    "completionTime": "2023-11-29T20:09:17.637GMT",
                    "stageIds": [
                      227,
                      226
                    ],
                    "jobGroup": "19",
                    "status": "SUCCEEDED",
                    "numTasks": 2,
                    "numActiveTasks": 0,
                    "numCompletedTasks": 1,
                    "numSkippedTasks": 1,
                    "numFailedTasks": 0,
                    "numKilledTasks": 0,
                    "numCompletedIndices": 1,
                    "numActiveStages": 0,
                    "numCompletedStages": 1,
                    "numSkippedStages": 1,
                    "numFailedStages": 0,
                    "killedTasksSummary": {}
                  },
                  {
                    "displayName": "parquet at OneHotEncoder.scala:407",
                    "dataWritten": 74,
                    "dataRead": 0,
                    "rowCount": 1,
                    "usageDescription": "",
                    "jobId": 57,
                    "name": "parquet at OneHotEncoder.scala:407",
                    "description": "Job group for statement 19:\nmodel_v2.write().overwrite().save(\"Users/vankempenklaas/fall-2023-reddit-project-team-26/code/ml/model_files/popularity_model_v3\")",
                    "submissionTime": "2023-11-29T20:09:16.920GMT",
                    "completionTime": "2023-11-29T20:09:16.939GMT",
                    "stageIds": [
                      225
                    ],
                    "jobGroup": "19",
                    "status": "SUCCEEDED",
                    "numTasks": 1,
                    "numActiveTasks": 0,
                    "numCompletedTasks": 1,
                    "numSkippedTasks": 0,
                    "numFailedTasks": 0,
                    "numKilledTasks": 0,
                    "numCompletedIndices": 1,
                    "numActiveStages": 0,
                    "numCompletedStages": 1,
                    "numSkippedStages": 0,
                    "numFailedStages": 0,
                    "killedTasksSummary": {}
                  },
                  {
                    "displayName": "runJob at SparkHadoopWriter.scala:85",
                    "dataWritten": 328,
                    "dataRead": 0,
                    "rowCount": 1,
                    "usageDescription": "",
                    "jobId": 56,
                    "name": "runJob at SparkHadoopWriter.scala:85",
                    "description": "Job group for statement 19:\nmodel_v2.write().overwrite().save(\"Users/vankempenklaas/fall-2023-reddit-project-team-26/code/ml/model_files/popularity_model_v3\")",
                    "submissionTime": "2023-11-29T20:09:15.869GMT",
                    "completionTime": "2023-11-29T20:09:16.468GMT",
                    "stageIds": [
                      224
                    ],
                    "jobGroup": "19",
                    "status": "SUCCEEDED",
                    "numTasks": 1,
                    "numActiveTasks": 0,
                    "numCompletedTasks": 1,
                    "numSkippedTasks": 0,
                    "numFailedTasks": 0,
                    "numKilledTasks": 0,
                    "numCompletedIndices": 1,
                    "numActiveStages": 0,
                    "numCompletedStages": 1,
                    "numSkippedStages": 0,
                    "numFailedStages": 0,
                    "killedTasksSummary": {}
                  },
                  {
                    "displayName": "parquet at StringIndexer.scala:499",
                    "dataWritten": 665,
                    "dataRead": 104,
                    "rowCount": 2,
                    "usageDescription": "",
                    "jobId": 55,
                    "name": "parquet at StringIndexer.scala:499",
                    "description": "Job group for statement 19:\nmodel_v2.write().overwrite().save(\"Users/vankempenklaas/fall-2023-reddit-project-team-26/code/ml/model_files/popularity_model_v3\")",
                    "submissionTime": "2023-11-29T20:09:14.683GMT",
                    "completionTime": "2023-11-29T20:09:15.435GMT",
                    "stageIds": [
                      222,
                      223
                    ],
                    "jobGroup": "19",
                    "status": "SUCCEEDED",
                    "numTasks": 2,
                    "numActiveTasks": 0,
                    "numCompletedTasks": 1,
                    "numSkippedTasks": 1,
                    "numFailedTasks": 0,
                    "numKilledTasks": 0,
                    "numCompletedIndices": 1,
                    "numActiveStages": 0,
                    "numCompletedStages": 1,
                    "numSkippedStages": 1,
                    "numFailedStages": 0,
                    "killedTasksSummary": {}
                  },
                  {
                    "displayName": "parquet at StringIndexer.scala:499",
                    "dataWritten": 104,
                    "dataRead": 0,
                    "rowCount": 1,
                    "usageDescription": "",
                    "jobId": 54,
                    "name": "parquet at StringIndexer.scala:499",
                    "description": "Job group for statement 19:\nmodel_v2.write().overwrite().save(\"Users/vankempenklaas/fall-2023-reddit-project-team-26/code/ml/model_files/popularity_model_v3\")",
                    "submissionTime": "2023-11-29T20:09:14.600GMT",
                    "completionTime": "2023-11-29T20:09:14.617GMT",
                    "stageIds": [
                      221
                    ],
                    "jobGroup": "19",
                    "status": "SUCCEEDED",
                    "numTasks": 1,
                    "numActiveTasks": 0,
                    "numCompletedTasks": 1,
                    "numSkippedTasks": 0,
                    "numFailedTasks": 0,
                    "numKilledTasks": 0,
                    "numCompletedIndices": 1,
                    "numActiveStages": 0,
                    "numCompletedStages": 1,
                    "numSkippedStages": 0,
                    "numFailedStages": 0,
                    "killedTasksSummary": {}
                  },
                  {
                    "displayName": "runJob at SparkHadoopWriter.scala:85",
                    "dataWritten": 374,
                    "dataRead": 0,
                    "rowCount": 1,
                    "usageDescription": "",
                    "jobId": 53,
                    "name": "runJob at SparkHadoopWriter.scala:85",
                    "description": "Job group for statement 19:\nmodel_v2.write().overwrite().save(\"Users/vankempenklaas/fall-2023-reddit-project-team-26/code/ml/model_files/popularity_model_v3\")",
                    "submissionTime": "2023-11-29T20:09:12.973GMT",
                    "completionTime": "2023-11-29T20:09:14.094GMT",
                    "stageIds": [
                      220
                    ],
                    "jobGroup": "19",
                    "status": "SUCCEEDED",
                    "numTasks": 1,
                    "numActiveTasks": 0,
                    "numCompletedTasks": 1,
                    "numSkippedTasks": 0,
                    "numFailedTasks": 0,
                    "numKilledTasks": 0,
                    "numCompletedIndices": 1,
                    "numActiveStages": 0,
                    "numCompletedStages": 1,
                    "numSkippedStages": 0,
                    "numFailedStages": 0,
                    "killedTasksSummary": {}
                  },
                  {
                    "displayName": "parquet at StringIndexer.scala:499",
                    "dataWritten": 697,
                    "dataRead": 155,
                    "rowCount": 2,
                    "usageDescription": "",
                    "jobId": 52,
                    "name": "parquet at StringIndexer.scala:499",
                    "description": "Job group for statement 19:\nmodel_v2.write().overwrite().save(\"Users/vankempenklaas/fall-2023-reddit-project-team-26/code/ml/model_files/popularity_model_v3\")",
                    "submissionTime": "2023-11-29T20:09:11.584GMT",
                    "completionTime": "2023-11-29T20:09:12.471GMT",
                    "stageIds": [
                      219,
                      218
                    ],
                    "jobGroup": "19",
                    "status": "SUCCEEDED",
                    "numTasks": 2,
                    "numActiveTasks": 0,
                    "numCompletedTasks": 1,
                    "numSkippedTasks": 1,
                    "numFailedTasks": 0,
                    "numKilledTasks": 0,
                    "numCompletedIndices": 1,
                    "numActiveStages": 0,
                    "numCompletedStages": 1,
                    "numSkippedStages": 1,
                    "numFailedStages": 0,
                    "killedTasksSummary": {}
                  },
                  {
                    "displayName": "parquet at StringIndexer.scala:499",
                    "dataWritten": 155,
                    "dataRead": 0,
                    "rowCount": 1,
                    "usageDescription": "",
                    "jobId": 51,
                    "name": "parquet at StringIndexer.scala:499",
                    "description": "Job group for statement 19:\nmodel_v2.write().overwrite().save(\"Users/vankempenklaas/fall-2023-reddit-project-team-26/code/ml/model_files/popularity_model_v3\")",
                    "submissionTime": "2023-11-29T20:09:11.521GMT",
                    "completionTime": "2023-11-29T20:09:11.540GMT",
                    "stageIds": [
                      217
                    ],
                    "jobGroup": "19",
                    "status": "SUCCEEDED",
                    "numTasks": 1,
                    "numActiveTasks": 0,
                    "numCompletedTasks": 1,
                    "numSkippedTasks": 0,
                    "numFailedTasks": 0,
                    "numKilledTasks": 0,
                    "numCompletedIndices": 1,
                    "numActiveStages": 0,
                    "numCompletedStages": 1,
                    "numSkippedStages": 0,
                    "numFailedStages": 0,
                    "killedTasksSummary": {}
                  },
                  {
                    "displayName": "runJob at SparkHadoopWriter.scala:85",
                    "dataWritten": 365,
                    "dataRead": 0,
                    "rowCount": 1,
                    "usageDescription": "",
                    "jobId": 50,
                    "name": "runJob at SparkHadoopWriter.scala:85",
                    "description": "Job group for statement 19:\nmodel_v2.write().overwrite().save(\"Users/vankempenklaas/fall-2023-reddit-project-team-26/code/ml/model_files/popularity_model_v3\")",
                    "submissionTime": "2023-11-29T20:09:10.158GMT",
                    "completionTime": "2023-11-29T20:09:10.803GMT",
                    "stageIds": [
                      216
                    ],
                    "jobGroup": "19",
                    "status": "SUCCEEDED",
                    "numTasks": 1,
                    "numActiveTasks": 0,
                    "numCompletedTasks": 1,
                    "numSkippedTasks": 0,
                    "numFailedTasks": 0,
                    "numKilledTasks": 0,
                    "numCompletedIndices": 1,
                    "numActiveStages": 0,
                    "numCompletedStages": 1,
                    "numSkippedStages": 0,
                    "numFailedStages": 0,
                    "killedTasksSummary": {}
                  },
                  {
                    "displayName": "parquet at StringIndexer.scala:499",
                    "dataWritten": 723,
                    "dataRead": 123,
                    "rowCount": 2,
                    "usageDescription": "",
                    "jobId": 49,
                    "name": "parquet at StringIndexer.scala:499",
                    "description": "Job group for statement 19:\nmodel_v2.write().overwrite().save(\"Users/vankempenklaas/fall-2023-reddit-project-team-26/code/ml/model_files/popularity_model_v3\")",
                    "submissionTime": "2023-11-29T20:09:08.218GMT",
                    "completionTime": "2023-11-29T20:09:09.675GMT",
                    "stageIds": [
                      215,
                      214
                    ],
                    "jobGroup": "19",
                    "status": "SUCCEEDED",
                    "numTasks": 2,
                    "numActiveTasks": 0,
                    "numCompletedTasks": 1,
                    "numSkippedTasks": 1,
                    "numFailedTasks": 0,
                    "numKilledTasks": 0,
                    "numCompletedIndices": 1,
                    "numActiveStages": 0,
                    "numCompletedStages": 1,
                    "numSkippedStages": 1,
                    "numFailedStages": 0,
                    "killedTasksSummary": {}
                  },
                  {
                    "displayName": "parquet at StringIndexer.scala:499",
                    "dataWritten": 123,
                    "dataRead": 0,
                    "rowCount": 1,
                    "usageDescription": "",
                    "jobId": 48,
                    "name": "parquet at StringIndexer.scala:499",
                    "description": "Job group for statement 19:\nmodel_v2.write().overwrite().save(\"Users/vankempenklaas/fall-2023-reddit-project-team-26/code/ml/model_files/popularity_model_v3\")",
                    "submissionTime": "2023-11-29T20:09:08.081GMT",
                    "completionTime": "2023-11-29T20:09:08.145GMT",
                    "stageIds": [
                      213
                    ],
                    "jobGroup": "19",
                    "status": "SUCCEEDED",
                    "numTasks": 1,
                    "numActiveTasks": 0,
                    "numCompletedTasks": 1,
                    "numSkippedTasks": 0,
                    "numFailedTasks": 0,
                    "numKilledTasks": 0,
                    "numCompletedIndices": 1,
                    "numActiveStages": 0,
                    "numCompletedStages": 1,
                    "numSkippedStages": 0,
                    "numFailedStages": 0,
                    "killedTasksSummary": {}
                  },
                  {
                    "displayName": "runJob at SparkHadoopWriter.scala:85",
                    "dataWritten": 373,
                    "dataRead": 0,
                    "rowCount": 1,
                    "usageDescription": "",
                    "jobId": 47,
                    "name": "runJob at SparkHadoopWriter.scala:85",
                    "description": "Job group for statement 19:\nmodel_v2.write().overwrite().save(\"Users/vankempenklaas/fall-2023-reddit-project-team-26/code/ml/model_files/popularity_model_v3\")",
                    "submissionTime": "2023-11-29T20:09:05.730GMT",
                    "completionTime": "2023-11-29T20:09:06.724GMT",
                    "stageIds": [
                      212
                    ],
                    "jobGroup": "19",
                    "status": "SUCCEEDED",
                    "numTasks": 1,
                    "numActiveTasks": 0,
                    "numCompletedTasks": 1,
                    "numSkippedTasks": 0,
                    "numFailedTasks": 0,
                    "numKilledTasks": 0,
                    "numCompletedIndices": 1,
                    "numActiveStages": 0,
                    "numCompletedStages": 1,
                    "numSkippedStages": 0,
                    "numFailedStages": 0,
                    "killedTasksSummary": {}
                  }
                ],
                "limit": 20,
                "rule": "ALL_DESC"
              },
              "parent_msg_id": "46a2acfa-e1f9-4ce9-85b4-5d6391555277"
            },
            "text/plain": "StatementMeta(d3c1b951-094c-48e1-919d-e32bc175397b, 47, 19, Submitted, Running)"
          },
          "metadata": {}
        }
      ],
      "execution_count": 14,
      "metadata": {
        "jupyter": {
          "source_hidden": false,
          "outputs_hidden": false
        },
        "nteract": {
          "transient": {
            "deleting": false
          }
        },
        "gather": {
          "logged": 1701288598489
        }
      }
    },
    {
      "cell_type": "code",
      "source": [
        "loaded_model_v2 = PipelineModel.load(\"Users/vankempenklaas/fall-2023-reddit-project-team-26/code/ml/model_files/popularity_model_v3\")"
      ],
      "outputs": [
        {
          "output_type": "display_data",
          "data": {
            "application/vnd.livy.statement-meta+json": {
              "spark_pool": "d3c1b951-094c-48e1-919d-e32bc175397b",
              "session_id": "47",
              "statement_id": 20,
              "state": "finished",
              "livy_statement_state": "available",
              "queued_time": "2023-11-29T20:10:44.255734Z",
              "session_start_time": null,
              "execution_start_time": "2023-11-29T20:10:44.373196Z",
              "execution_finish_time": "2023-11-29T20:11:43.5856652Z",
              "spark_jobs": {
                "numbers": {
                  "FAILED": 0,
                  "RUNNING": 0,
                  "UNKNOWN": 0,
                  "SUCCEEDED": 31
                },
                "jobs": [
                  {
                    "displayName": "collect at treeModels.scala:549",
                    "dataWritten": 260882313,
                    "dataRead": 604685565,
                    "rowCount": 7411036,
                    "usageDescription": "",
                    "jobId": 98,
                    "name": "collect at treeModels.scala:549",
                    "description": "Job group for statement 20:\nloaded_model_v2 = PipelineModel.load(\"Users/vankempenklaas/fall-2023-reddit-project-team-26/code/ml/model_files/popularity_model_v3\")",
                    "submissionTime": "2023-11-29T20:11:17.008GMT",
                    "completionTime": "2023-11-29T20:11:42.419GMT",
                    "stageIds": [
                      273,
                      274,
                      272
                    ],
                    "jobGroup": "20",
                    "status": "SUCCEEDED",
                    "numTasks": 48,
                    "numActiveTasks": 0,
                    "numCompletedTasks": 32,
                    "numSkippedTasks": 16,
                    "numFailedTasks": 0,
                    "numKilledTasks": 0,
                    "numCompletedIndices": 32,
                    "numActiveStages": 0,
                    "numCompletedStages": 2,
                    "numSkippedStages": 1,
                    "numFailedStages": 0,
                    "killedTasksSummary": {}
                  },
                  {
                    "displayName": "sortByKey at treeModels.scala:549",
                    "dataWritten": 343803252,
                    "dataRead": 621896613,
                    "rowCount": 22230108,
                    "usageDescription": "",
                    "jobId": 97,
                    "name": "sortByKey at treeModels.scala:549",
                    "description": "Job group for statement 20:\nloaded_model_v2 = PipelineModel.load(\"Users/vankempenklaas/fall-2023-reddit-project-team-26/code/ml/model_files/popularity_model_v3\")",
                    "submissionTime": "2023-11-29T20:10:52.776GMT",
                    "completionTime": "2023-11-29T20:11:16.983GMT",
                    "stageIds": [
                      270,
                      271
                    ],
                    "jobGroup": "20",
                    "status": "SUCCEEDED",
                    "numTasks": 32,
                    "numActiveTasks": 0,
                    "numCompletedTasks": 32,
                    "numSkippedTasks": 0,
                    "numFailedTasks": 0,
                    "numKilledTasks": 0,
                    "numCompletedIndices": 32,
                    "numActiveStages": 0,
                    "numCompletedStages": 2,
                    "numSkippedStages": 0,
                    "numFailedStages": 0,
                    "killedTasksSummary": {}
                  },
                  {
                    "displayName": "parquet at treeModels.scala:532",
                    "dataWritten": 0,
                    "dataRead": 0,
                    "rowCount": 0,
                    "usageDescription": "",
                    "jobId": 96,
                    "name": "parquet at treeModels.scala:532",
                    "description": "Job group for statement 20:\nloaded_model_v2 = PipelineModel.load(\"Users/vankempenklaas/fall-2023-reddit-project-team-26/code/ml/model_files/popularity_model_v3\")",
                    "submissionTime": "2023-11-29T20:10:52.279GMT",
                    "completionTime": "2023-11-29T20:10:52.598GMT",
                    "stageIds": [
                      269
                    ],
                    "jobGroup": "20",
                    "status": "SUCCEEDED",
                    "numTasks": 1,
                    "numActiveTasks": 0,
                    "numCompletedTasks": 1,
                    "numSkippedTasks": 0,
                    "numFailedTasks": 0,
                    "numKilledTasks": 0,
                    "numCompletedIndices": 1,
                    "numActiveStages": 0,
                    "numCompletedStages": 1,
                    "numSkippedStages": 0,
                    "numFailedStages": 0,
                    "killedTasksSummary": {}
                  },
                  {
                    "displayName": "collect at treeModels.scala:527",
                    "dataWritten": 135513,
                    "dataRead": 182607,
                    "rowCount": 1500,
                    "usageDescription": "",
                    "jobId": 95,
                    "name": "collect at treeModels.scala:527",
                    "description": "Job group for statement 20:\nloaded_model_v2 = PipelineModel.load(\"Users/vankempenklaas/fall-2023-reddit-project-team-26/code/ml/model_files/popularity_model_v3\")",
                    "submissionTime": "2023-11-29T20:10:51.384GMT",
                    "completionTime": "2023-11-29T20:10:52.139GMT",
                    "stageIds": [
                      267,
                      268
                    ],
                    "jobGroup": "20",
                    "status": "SUCCEEDED",
                    "numTasks": 2,
                    "numActiveTasks": 0,
                    "numCompletedTasks": 2,
                    "numSkippedTasks": 0,
                    "numFailedTasks": 0,
                    "numKilledTasks": 0,
                    "numCompletedIndices": 2,
                    "numActiveStages": 0,
                    "numCompletedStages": 2,
                    "numSkippedStages": 0,
                    "numFailedStages": 0,
                    "killedTasksSummary": {}
                  },
                  {
                    "displayName": "parquet at treeModels.scala:520",
                    "dataWritten": 0,
                    "dataRead": 0,
                    "rowCount": 0,
                    "usageDescription": "",
                    "jobId": 94,
                    "name": "parquet at treeModels.scala:520",
                    "description": "Job group for statement 20:\nloaded_model_v2 = PipelineModel.load(\"Users/vankempenklaas/fall-2023-reddit-project-team-26/code/ml/model_files/popularity_model_v3\")",
                    "submissionTime": "2023-11-29T20:10:51.136GMT",
                    "completionTime": "2023-11-29T20:10:51.205GMT",
                    "stageIds": [
                      266
                    ],
                    "jobGroup": "20",
                    "status": "SUCCEEDED",
                    "numTasks": 1,
                    "numActiveTasks": 0,
                    "numCompletedTasks": 1,
                    "numSkippedTasks": 0,
                    "numFailedTasks": 0,
                    "numKilledTasks": 0,
                    "numCompletedIndices": 1,
                    "numActiveStages": 0,
                    "numCompletedStages": 1,
                    "numSkippedStages": 0,
                    "numFailedStages": 0,
                    "killedTasksSummary": {}
                  },
                  {
                    "displayName": "first at ReadWrite.scala:587",
                    "dataWritten": 0,
                    "dataRead": 698,
                    "rowCount": 1,
                    "usageDescription": "",
                    "jobId": 93,
                    "name": "first at ReadWrite.scala:587",
                    "description": "Job group for statement 20:\nloaded_model_v2 = PipelineModel.load(\"Users/vankempenklaas/fall-2023-reddit-project-team-26/code/ml/model_files/popularity_model_v3\")",
                    "submissionTime": "2023-11-29T20:10:50.942GMT",
                    "completionTime": "2023-11-29T20:10:51.000GMT",
                    "stageIds": [
                      265
                    ],
                    "jobGroup": "20",
                    "status": "SUCCEEDED",
                    "numTasks": 1,
                    "numActiveTasks": 0,
                    "numCompletedTasks": 1,
                    "numSkippedTasks": 0,
                    "numFailedTasks": 0,
                    "numKilledTasks": 0,
                    "numCompletedIndices": 1,
                    "numActiveStages": 0,
                    "numCompletedStages": 1,
                    "numSkippedStages": 0,
                    "numFailedStages": 0,
                    "killedTasksSummary": {}
                  },
                  {
                    "displayName": "first at ReadWrite.scala:587",
                    "dataWritten": 0,
                    "dataRead": 698,
                    "rowCount": 1,
                    "usageDescription": "",
                    "jobId": 92,
                    "name": "first at ReadWrite.scala:587",
                    "description": "Job group for statement 20:\nloaded_model_v2 = PipelineModel.load(\"Users/vankempenklaas/fall-2023-reddit-project-team-26/code/ml/model_files/popularity_model_v3\")",
                    "submissionTime": "2023-11-29T20:10:50.791GMT",
                    "completionTime": "2023-11-29T20:10:50.849GMT",
                    "stageIds": [
                      264
                    ],
                    "jobGroup": "20",
                    "status": "SUCCEEDED",
                    "numTasks": 1,
                    "numActiveTasks": 0,
                    "numCompletedTasks": 1,
                    "numSkippedTasks": 0,
                    "numFailedTasks": 0,
                    "numKilledTasks": 0,
                    "numCompletedIndices": 1,
                    "numActiveStages": 0,
                    "numCompletedStages": 1,
                    "numSkippedStages": 0,
                    "numFailedStages": 0,
                    "killedTasksSummary": {}
                  },
                  {
                    "displayName": "first at ReadWrite.scala:587",
                    "dataWritten": 0,
                    "dataRead": 397,
                    "rowCount": 1,
                    "usageDescription": "",
                    "jobId": 91,
                    "name": "first at ReadWrite.scala:587",
                    "description": "Job group for statement 20:\nloaded_model_v2 = PipelineModel.load(\"Users/vankempenklaas/fall-2023-reddit-project-team-26/code/ml/model_files/popularity_model_v3\")",
                    "submissionTime": "2023-11-29T20:10:50.652GMT",
                    "completionTime": "2023-11-29T20:10:50.704GMT",
                    "stageIds": [
                      263
                    ],
                    "jobGroup": "20",
                    "status": "SUCCEEDED",
                    "numTasks": 1,
                    "numActiveTasks": 0,
                    "numCompletedTasks": 1,
                    "numSkippedTasks": 0,
                    "numFailedTasks": 0,
                    "numKilledTasks": 0,
                    "numCompletedIndices": 1,
                    "numActiveStages": 0,
                    "numCompletedStages": 1,
                    "numSkippedStages": 0,
                    "numFailedStages": 0,
                    "killedTasksSummary": {}
                  },
                  {
                    "displayName": "first at ReadWrite.scala:587",
                    "dataWritten": 0,
                    "dataRead": 397,
                    "rowCount": 1,
                    "usageDescription": "",
                    "jobId": 90,
                    "name": "first at ReadWrite.scala:587",
                    "description": "Job group for statement 20:\nloaded_model_v2 = PipelineModel.load(\"Users/vankempenklaas/fall-2023-reddit-project-team-26/code/ml/model_files/popularity_model_v3\")",
                    "submissionTime": "2023-11-29T20:10:50.525GMT",
                    "completionTime": "2023-11-29T20:10:50.573GMT",
                    "stageIds": [
                      262
                    ],
                    "jobGroup": "20",
                    "status": "SUCCEEDED",
                    "numTasks": 1,
                    "numActiveTasks": 0,
                    "numCompletedTasks": 1,
                    "numSkippedTasks": 0,
                    "numFailedTasks": 0,
                    "numKilledTasks": 0,
                    "numCompletedIndices": 1,
                    "numActiveStages": 0,
                    "numCompletedStages": 1,
                    "numSkippedStages": 0,
                    "numFailedStages": 0,
                    "killedTasksSummary": {}
                  },
                  {
                    "displayName": "head at OneHotEncoder.scala:419",
                    "dataWritten": 0,
                    "dataRead": 1621,
                    "rowCount": 1,
                    "usageDescription": "",
                    "jobId": 89,
                    "name": "head at OneHotEncoder.scala:419",
                    "description": "Job group for statement 20:\nloaded_model_v2 = PipelineModel.load(\"Users/vankempenklaas/fall-2023-reddit-project-team-26/code/ml/model_files/popularity_model_v3\")",
                    "submissionTime": "2023-11-29T20:10:50.339GMT",
                    "completionTime": "2023-11-29T20:10:50.452GMT",
                    "stageIds": [
                      261
                    ],
                    "jobGroup": "20",
                    "status": "SUCCEEDED",
                    "numTasks": 1,
                    "numActiveTasks": 0,
                    "numCompletedTasks": 1,
                    "numSkippedTasks": 0,
                    "numFailedTasks": 0,
                    "numKilledTasks": 0,
                    "numCompletedIndices": 1,
                    "numActiveStages": 0,
                    "numCompletedStages": 1,
                    "numSkippedStages": 0,
                    "numFailedStages": 0,
                    "killedTasksSummary": {}
                  },
                  {
                    "displayName": "parquet at OneHotEncoder.scala:418",
                    "dataWritten": 0,
                    "dataRead": 0,
                    "rowCount": 0,
                    "usageDescription": "",
                    "jobId": 88,
                    "name": "parquet at OneHotEncoder.scala:418",
                    "description": "Job group for statement 20:\nloaded_model_v2 = PipelineModel.load(\"Users/vankempenklaas/fall-2023-reddit-project-team-26/code/ml/model_files/popularity_model_v3\")",
                    "submissionTime": "2023-11-29T20:10:50.198GMT",
                    "completionTime": "2023-11-29T20:10:50.282GMT",
                    "stageIds": [
                      260
                    ],
                    "jobGroup": "20",
                    "status": "SUCCEEDED",
                    "numTasks": 1,
                    "numActiveTasks": 0,
                    "numCompletedTasks": 1,
                    "numSkippedTasks": 0,
                    "numFailedTasks": 0,
                    "numKilledTasks": 0,
                    "numCompletedIndices": 1,
                    "numActiveStages": 0,
                    "numCompletedStages": 1,
                    "numSkippedStages": 0,
                    "numFailedStages": 0,
                    "killedTasksSummary": {}
                  },
                  {
                    "displayName": "first at ReadWrite.scala:587",
                    "dataWritten": 0,
                    "dataRead": 336,
                    "rowCount": 1,
                    "usageDescription": "",
                    "jobId": 87,
                    "name": "first at ReadWrite.scala:587",
                    "description": "Job group for statement 20:\nloaded_model_v2 = PipelineModel.load(\"Users/vankempenklaas/fall-2023-reddit-project-team-26/code/ml/model_files/popularity_model_v3\")",
                    "submissionTime": "2023-11-29T20:10:50.014GMT",
                    "completionTime": "2023-11-29T20:10:50.058GMT",
                    "stageIds": [
                      259
                    ],
                    "jobGroup": "20",
                    "status": "SUCCEEDED",
                    "numTasks": 1,
                    "numActiveTasks": 0,
                    "numCompletedTasks": 1,
                    "numSkippedTasks": 0,
                    "numFailedTasks": 0,
                    "numKilledTasks": 0,
                    "numCompletedIndices": 1,
                    "numActiveStages": 0,
                    "numCompletedStages": 1,
                    "numSkippedStages": 0,
                    "numFailedStages": 0,
                    "killedTasksSummary": {}
                  },
                  {
                    "displayName": "first at ReadWrite.scala:587",
                    "dataWritten": 0,
                    "dataRead": 336,
                    "rowCount": 1,
                    "usageDescription": "",
                    "jobId": 86,
                    "name": "first at ReadWrite.scala:587",
                    "description": "Job group for statement 20:\nloaded_model_v2 = PipelineModel.load(\"Users/vankempenklaas/fall-2023-reddit-project-team-26/code/ml/model_files/popularity_model_v3\")",
                    "submissionTime": "2023-11-29T20:10:49.813GMT",
                    "completionTime": "2023-11-29T20:10:49.946GMT",
                    "stageIds": [
                      258
                    ],
                    "jobGroup": "20",
                    "status": "SUCCEEDED",
                    "numTasks": 1,
                    "numActiveTasks": 0,
                    "numCompletedTasks": 1,
                    "numSkippedTasks": 0,
                    "numFailedTasks": 0,
                    "numKilledTasks": 0,
                    "numCompletedIndices": 1,
                    "numActiveStages": 0,
                    "numCompletedStages": 1,
                    "numSkippedStages": 0,
                    "numFailedStages": 0,
                    "killedTasksSummary": {}
                  },
                  {
                    "displayName": "head at OneHotEncoder.scala:419",
                    "dataWritten": 0,
                    "dataRead": 1621,
                    "rowCount": 1,
                    "usageDescription": "",
                    "jobId": 85,
                    "name": "head at OneHotEncoder.scala:419",
                    "description": "Job group for statement 20:\nloaded_model_v2 = PipelineModel.load(\"Users/vankempenklaas/fall-2023-reddit-project-team-26/code/ml/model_files/popularity_model_v3\")",
                    "submissionTime": "2023-11-29T20:10:49.592GMT",
                    "completionTime": "2023-11-29T20:10:49.712GMT",
                    "stageIds": [
                      257
                    ],
                    "jobGroup": "20",
                    "status": "SUCCEEDED",
                    "numTasks": 1,
                    "numActiveTasks": 0,
                    "numCompletedTasks": 1,
                    "numSkippedTasks": 0,
                    "numFailedTasks": 0,
                    "numKilledTasks": 0,
                    "numCompletedIndices": 1,
                    "numActiveStages": 0,
                    "numCompletedStages": 1,
                    "numSkippedStages": 0,
                    "numFailedStages": 0,
                    "killedTasksSummary": {}
                  },
                  {
                    "displayName": "parquet at OneHotEncoder.scala:418",
                    "dataWritten": 0,
                    "dataRead": 0,
                    "rowCount": 0,
                    "usageDescription": "",
                    "jobId": 84,
                    "name": "parquet at OneHotEncoder.scala:418",
                    "description": "Job group for statement 20:\nloaded_model_v2 = PipelineModel.load(\"Users/vankempenklaas/fall-2023-reddit-project-team-26/code/ml/model_files/popularity_model_v3\")",
                    "submissionTime": "2023-11-29T20:10:49.452GMT",
                    "completionTime": "2023-11-29T20:10:49.541GMT",
                    "stageIds": [
                      256
                    ],
                    "jobGroup": "20",
                    "status": "SUCCEEDED",
                    "numTasks": 1,
                    "numActiveTasks": 0,
                    "numCompletedTasks": 1,
                    "numSkippedTasks": 0,
                    "numFailedTasks": 0,
                    "numKilledTasks": 0,
                    "numCompletedIndices": 1,
                    "numActiveStages": 0,
                    "numCompletedStages": 1,
                    "numSkippedStages": 0,
                    "numFailedStages": 0,
                    "killedTasksSummary": {}
                  },
                  {
                    "displayName": "first at ReadWrite.scala:587",
                    "dataWritten": 0,
                    "dataRead": 328,
                    "rowCount": 1,
                    "usageDescription": "",
                    "jobId": 83,
                    "name": "first at ReadWrite.scala:587",
                    "description": "Job group for statement 20:\nloaded_model_v2 = PipelineModel.load(\"Users/vankempenklaas/fall-2023-reddit-project-team-26/code/ml/model_files/popularity_model_v3\")",
                    "submissionTime": "2023-11-29T20:10:49.278GMT",
                    "completionTime": "2023-11-29T20:10:49.327GMT",
                    "stageIds": [
                      255
                    ],
                    "jobGroup": "20",
                    "status": "SUCCEEDED",
                    "numTasks": 1,
                    "numActiveTasks": 0,
                    "numCompletedTasks": 1,
                    "numSkippedTasks": 0,
                    "numFailedTasks": 0,
                    "numKilledTasks": 0,
                    "numCompletedIndices": 1,
                    "numActiveStages": 0,
                    "numCompletedStages": 1,
                    "numSkippedStages": 0,
                    "numFailedStages": 0,
                    "killedTasksSummary": {}
                  },
                  {
                    "displayName": "first at ReadWrite.scala:587",
                    "dataWritten": 0,
                    "dataRead": 328,
                    "rowCount": 1,
                    "usageDescription": "",
                    "jobId": 82,
                    "name": "first at ReadWrite.scala:587",
                    "description": "Job group for statement 20:\nloaded_model_v2 = PipelineModel.load(\"Users/vankempenklaas/fall-2023-reddit-project-team-26/code/ml/model_files/popularity_model_v3\")",
                    "submissionTime": "2023-11-29T20:10:49.147GMT",
                    "completionTime": "2023-11-29T20:10:49.200GMT",
                    "stageIds": [
                      254
                    ],
                    "jobGroup": "20",
                    "status": "SUCCEEDED",
                    "numTasks": 1,
                    "numActiveTasks": 0,
                    "numCompletedTasks": 1,
                    "numSkippedTasks": 0,
                    "numFailedTasks": 0,
                    "numKilledTasks": 0,
                    "numCompletedIndices": 1,
                    "numActiveStages": 0,
                    "numCompletedStages": 1,
                    "numSkippedStages": 0,
                    "numFailedStages": 0,
                    "killedTasksSummary": {}
                  },
                  {
                    "displayName": "head at StringIndexer.scala:524",
                    "dataWritten": 0,
                    "dataRead": 1847,
                    "rowCount": 1,
                    "usageDescription": "",
                    "jobId": 81,
                    "name": "head at StringIndexer.scala:524",
                    "description": "Job group for statement 20:\nloaded_model_v2 = PipelineModel.load(\"Users/vankempenklaas/fall-2023-reddit-project-team-26/code/ml/model_files/popularity_model_v3\")",
                    "submissionTime": "2023-11-29T20:10:48.825GMT",
                    "completionTime": "2023-11-29T20:10:49.066GMT",
                    "stageIds": [
                      253
                    ],
                    "jobGroup": "20",
                    "status": "SUCCEEDED",
                    "numTasks": 1,
                    "numActiveTasks": 0,
                    "numCompletedTasks": 1,
                    "numSkippedTasks": 0,
                    "numFailedTasks": 0,
                    "numKilledTasks": 0,
                    "numCompletedIndices": 1,
                    "numActiveStages": 0,
                    "numCompletedStages": 1,
                    "numSkippedStages": 0,
                    "numFailedStages": 0,
                    "killedTasksSummary": {}
                  },
                  {
                    "displayName": "parquet at StringIndexer.scala:523",
                    "dataWritten": 0,
                    "dataRead": 0,
                    "rowCount": 0,
                    "usageDescription": "",
                    "jobId": 80,
                    "name": "parquet at StringIndexer.scala:523",
                    "description": "Job group for statement 20:\nloaded_model_v2 = PipelineModel.load(\"Users/vankempenklaas/fall-2023-reddit-project-team-26/code/ml/model_files/popularity_model_v3\")",
                    "submissionTime": "2023-11-29T20:10:48.472GMT",
                    "completionTime": "2023-11-29T20:10:48.758GMT",
                    "stageIds": [
                      252
                    ],
                    "jobGroup": "20",
                    "status": "SUCCEEDED",
                    "numTasks": 1,
                    "numActiveTasks": 0,
                    "numCompletedTasks": 1,
                    "numSkippedTasks": 0,
                    "numFailedTasks": 0,
                    "numKilledTasks": 0,
                    "numCompletedIndices": 1,
                    "numActiveStages": 0,
                    "numCompletedStages": 1,
                    "numSkippedStages": 0,
                    "numFailedStages": 0,
                    "killedTasksSummary": {}
                  },
                  {
                    "displayName": "first at ReadWrite.scala:587",
                    "dataWritten": 0,
                    "dataRead": 374,
                    "rowCount": 1,
                    "usageDescription": "",
                    "jobId": 79,
                    "name": "first at ReadWrite.scala:587",
                    "description": "Job group for statement 20:\nloaded_model_v2 = PipelineModel.load(\"Users/vankempenklaas/fall-2023-reddit-project-team-26/code/ml/model_files/popularity_model_v3\")",
                    "submissionTime": "2023-11-29T20:10:48.165GMT",
                    "completionTime": "2023-11-29T20:10:48.298GMT",
                    "stageIds": [
                      251
                    ],
                    "jobGroup": "20",
                    "status": "SUCCEEDED",
                    "numTasks": 1,
                    "numActiveTasks": 0,
                    "numCompletedTasks": 1,
                    "numSkippedTasks": 0,
                    "numFailedTasks": 0,
                    "numKilledTasks": 0,
                    "numCompletedIndices": 1,
                    "numActiveStages": 0,
                    "numCompletedStages": 1,
                    "numSkippedStages": 0,
                    "numFailedStages": 0,
                    "killedTasksSummary": {}
                  }
                ],
                "limit": 20,
                "rule": "ALL_DESC"
              },
              "parent_msg_id": "0282cecc-506e-4890-9f55-9a7f211ee866"
            },
            "text/plain": "StatementMeta(d3c1b951-094c-48e1-919d-e32bc175397b, 47, 20, Finished, Available)"
          },
          "metadata": {}
        }
      ],
      "execution_count": 15,
      "metadata": {
        "jupyter": {
          "source_hidden": false,
          "outputs_hidden": false
        },
        "nteract": {
          "transient": {
            "deleting": false
          }
        },
        "gather": {
          "logged": 1701288704193
        }
      }
    },
    {
      "cell_type": "code",
      "source": [
        "predictions = loaded_model_v2.transform(test_data)"
      ],
      "outputs": [
        {
          "output_type": "display_data",
          "data": {
            "application/vnd.livy.statement-meta+json": {
              "spark_pool": "d3c1b951-094c-48e1-919d-e32bc175397b",
              "session_id": "47",
              "statement_id": 22,
              "state": "finished",
              "livy_statement_state": "available",
              "queued_time": "2023-11-29T20:12:11.9575664Z",
              "session_start_time": null,
              "execution_start_time": "2023-11-29T20:12:12.0580925Z",
              "execution_finish_time": "2023-11-29T20:12:50.1949039Z",
              "spark_jobs": {
                "numbers": {
                  "FAILED": 0,
                  "RUNNING": 0,
                  "UNKNOWN": 0,
                  "SUCCEEDED": 0
                },
                "jobs": [],
                "limit": 20,
                "rule": "ALL_DESC"
              },
              "parent_msg_id": "cc469abd-9ba8-450f-922b-4444e82d2f66"
            },
            "text/plain": "StatementMeta(d3c1b951-094c-48e1-919d-e32bc175397b, 47, 22, Finished, Available)"
          },
          "metadata": {}
        }
      ],
      "execution_count": 17,
      "metadata": {
        "jupyter": {
          "source_hidden": false,
          "outputs_hidden": false
        },
        "nteract": {
          "transient": {
            "deleting": false
          }
        },
        "gather": {
          "logged": 1701288770357
        }
      }
    },
    {
      "cell_type": "code",
      "source": [
        "evaluator = RegressionEvaluator(labelCol=\"score\", predictionCol=\"prediction\", metricName=\"rmse\")\n",
        "rmse = evaluator.evaluate(predictions)\n",
        "print(\"Root Mean Squared Error (RMSE) on test data = {:.2f}\".format(rmse))"
      ],
      "outputs": [
        {
          "output_type": "display_data",
          "data": {
            "application/vnd.livy.statement-meta+json": {
              "spark_pool": "d3c1b951-094c-48e1-919d-e32bc175397b",
              "session_id": "47",
              "statement_id": 23,
              "state": "finished",
              "livy_statement_state": "available",
              "queued_time": "2023-11-29T20:13:11.2110678Z",
              "session_start_time": null,
              "execution_start_time": "2023-11-29T20:13:11.3437979Z",
              "execution_finish_time": "2023-11-29T20:14:56.3516138Z",
              "spark_jobs": {
                "numbers": {
                  "FAILED": 0,
                  "RUNNING": 0,
                  "UNKNOWN": 0,
                  "SUCCEEDED": 2
                },
                "jobs": [
                  {
                    "displayName": "treeAggregate at Statistics.scala:58",
                    "dataWritten": 6035,
                    "dataRead": 256959720,
                    "rowCount": 865506,
                    "usageDescription": "",
                    "jobId": 100,
                    "name": "treeAggregate at Statistics.scala:58",
                    "description": "Job group for statement 23:\nevaluator = RegressionEvaluator(labelCol=\"score\", predictionCol=\"prediction\", metricName=\"rmse\")\nrmse = evaluator.evaluate(predictions)\nprint(\"Root Mean Squared Error (RMSE) on test data = {:.2f}\".format(rmse))",
                    "submissionTime": "2023-11-29T20:13:24.485GMT",
                    "completionTime": "2023-11-29T20:14:54.252GMT",
                    "stageIds": [
                      281,
                      278,
                      282,
                      279,
                      280
                    ],
                    "jobGroup": "23",
                    "status": "SUCCEEDED",
                    "numTasks": 252,
                    "numActiveTasks": 0,
                    "numCompletedTasks": 20,
                    "numSkippedTasks": 232,
                    "numFailedTasks": 0,
                    "numKilledTasks": 0,
                    "numCompletedIndices": 20,
                    "numActiveStages": 0,
                    "numCompletedStages": 2,
                    "numSkippedStages": 3,
                    "numFailedStages": 0,
                    "killedTasksSummary": {}
                  },
                  {
                    "displayName": "rdd at RegressionEvaluator.scala:125",
                    "dataWritten": 256953685,
                    "dataRead": 244402138,
                    "rowCount": 865672,
                    "usageDescription": "",
                    "jobId": 99,
                    "name": "rdd at RegressionEvaluator.scala:125",
                    "description": "Job group for statement 23:\nevaluator = RegressionEvaluator(labelCol=\"score\", predictionCol=\"prediction\", metricName=\"rmse\")\nrmse = evaluator.evaluate(predictions)\nprint(\"Root Mean Squared Error (RMSE) on test data = {:.2f}\".format(rmse))",
                    "submissionTime": "2023-11-29T20:13:11.483GMT",
                    "completionTime": "2023-11-29T20:13:24.271GMT",
                    "stageIds": [
                      277,
                      275,
                      276
                    ],
                    "jobGroup": "23",
                    "status": "SUCCEEDED",
                    "numTasks": 232,
                    "numActiveTasks": 0,
                    "numCompletedTasks": 200,
                    "numSkippedTasks": 32,
                    "numFailedTasks": 0,
                    "numKilledTasks": 0,
                    "numCompletedIndices": 200,
                    "numActiveStages": 0,
                    "numCompletedStages": 1,
                    "numSkippedStages": 2,
                    "numFailedStages": 0,
                    "killedTasksSummary": {}
                  }
                ],
                "limit": 20,
                "rule": "ALL_DESC"
              },
              "parent_msg_id": "88c00d09-d292-44ff-bee0-b351e76ac177"
            },
            "text/plain": "StatementMeta(d3c1b951-094c-48e1-919d-e32bc175397b, 47, 23, Finished, Available)"
          },
          "metadata": {}
        },
        {
          "output_type": "stream",
          "name": "stdout",
          "text": "Root Mean Squared Error (RMSE) on test data = 36.05\n"
        }
      ],
      "execution_count": 18,
      "metadata": {
        "jupyter": {
          "source_hidden": false,
          "outputs_hidden": false
        },
        "nteract": {
          "transient": {
            "deleting": false
          }
        },
        "gather": {
          "logged": 1701288896770
        }
      }
    },
    {
      "cell_type": "code",
      "source": [
        "predictions_df = predictions.sample(fraction = 0.07, seed = 92).select(\"prediction\").toPandas()\n",
        "true_labels_df = predictions.sample(fraction = 0.07, seed = 92).select(\"score\").toPandas()"
      ],
      "outputs": [
        {
          "output_type": "display_data",
          "data": {
            "application/vnd.livy.statement-meta+json": {
              "spark_pool": "d3c1b951-094c-48e1-919d-e32bc175397b",
              "session_id": "47",
              "statement_id": 24,
              "state": "finished",
              "livy_statement_state": "available",
              "queued_time": "2023-11-29T20:15:02.9806729Z",
              "session_start_time": null,
              "execution_start_time": "2023-11-29T20:15:03.089094Z",
              "execution_finish_time": "2023-11-29T20:15:15.1593792Z",
              "spark_jobs": {
                "numbers": {
                  "FAILED": 0,
                  "RUNNING": 0,
                  "UNKNOWN": 0,
                  "SUCCEEDED": 4
                },
                "jobs": [
                  {
                    "displayName": "toPandas at /tmp/ipykernel_28451/813262684.py:2",
                    "dataWritten": 0,
                    "dataRead": 256953685,
                    "rowCount": 865472,
                    "usageDescription": "",
                    "jobId": 104,
                    "name": "toPandas at /tmp/ipykernel_28451/813262684.py:2",
                    "description": "Job group for statement 24:\npredictions_df = predictions.sample(fraction = 0.07, seed = 92).select(\"prediction\").toPandas()\ntrue_labels_df = predictions.sample(fraction = 0.07, seed = 92).select(\"score\").toPandas()",
                    "submissionTime": "2023-11-29T20:15:12.217GMT",
                    "completionTime": "2023-11-29T20:15:12.993GMT",
                    "stageIds": [
                      296,
                      293,
                      294,
                      295
                    ],
                    "jobGroup": "24",
                    "status": "SUCCEEDED",
                    "numTasks": 249,
                    "numActiveTasks": 0,
                    "numCompletedTasks": 17,
                    "numSkippedTasks": 232,
                    "numFailedTasks": 0,
                    "numKilledTasks": 0,
                    "numCompletedIndices": 17,
                    "numActiveStages": 0,
                    "numCompletedStages": 1,
                    "numSkippedStages": 3,
                    "numFailedStages": 0,
                    "killedTasksSummary": {}
                  },
                  {
                    "displayName": "toPandas at /tmp/ipykernel_28451/813262684.py:2",
                    "dataWritten": 256953685,
                    "dataRead": 253194360,
                    "rowCount": 865672,
                    "usageDescription": "",
                    "jobId": 103,
                    "name": "toPandas at /tmp/ipykernel_28451/813262684.py:2",
                    "description": "Job group for statement 24:\npredictions_df = predictions.sample(fraction = 0.07, seed = 92).select(\"prediction\").toPandas()\ntrue_labels_df = predictions.sample(fraction = 0.07, seed = 92).select(\"score\").toPandas()",
                    "submissionTime": "2023-11-29T20:15:09.164GMT",
                    "completionTime": "2023-11-29T20:15:12.142GMT",
                    "stageIds": [
                      291,
                      292,
                      290
                    ],
                    "jobGroup": "24",
                    "status": "SUCCEEDED",
                    "numTasks": 232,
                    "numActiveTasks": 0,
                    "numCompletedTasks": 200,
                    "numSkippedTasks": 32,
                    "numFailedTasks": 0,
                    "numKilledTasks": 0,
                    "numCompletedIndices": 200,
                    "numActiveStages": 0,
                    "numCompletedStages": 1,
                    "numSkippedStages": 2,
                    "numFailedStages": 0,
                    "killedTasksSummary": {}
                  },
                  {
                    "displayName": "toPandas at /tmp/ipykernel_28451/813262684.py:1",
                    "dataWritten": 0,
                    "dataRead": 256953685,
                    "rowCount": 865472,
                    "usageDescription": "",
                    "jobId": 102,
                    "name": "toPandas at /tmp/ipykernel_28451/813262684.py:1",
                    "description": "Job group for statement 24:\npredictions_df = predictions.sample(fraction = 0.07, seed = 92).select(\"prediction\").toPandas()\ntrue_labels_df = predictions.sample(fraction = 0.07, seed = 92).select(\"score\").toPandas()",
                    "submissionTime": "2023-11-29T20:15:06.706GMT",
                    "completionTime": "2023-11-29T20:15:08.977GMT",
                    "stageIds": [
                      287,
                      288,
                      289,
                      286
                    ],
                    "jobGroup": "24",
                    "status": "SUCCEEDED",
                    "numTasks": 249,
                    "numActiveTasks": 0,
                    "numCompletedTasks": 17,
                    "numSkippedTasks": 232,
                    "numFailedTasks": 0,
                    "numKilledTasks": 0,
                    "numCompletedIndices": 17,
                    "numActiveStages": 0,
                    "numCompletedStages": 1,
                    "numSkippedStages": 3,
                    "numFailedStages": 0,
                    "killedTasksSummary": {}
                  },
                  {
                    "displayName": "toPandas at /tmp/ipykernel_28451/813262684.py:1",
                    "dataWritten": 256953685,
                    "dataRead": 254015233,
                    "rowCount": 865672,
                    "usageDescription": "",
                    "jobId": 101,
                    "name": "toPandas at /tmp/ipykernel_28451/813262684.py:1",
                    "description": "Job group for statement 24:\npredictions_df = predictions.sample(fraction = 0.07, seed = 92).select(\"prediction\").toPandas()\ntrue_labels_df = predictions.sample(fraction = 0.07, seed = 92).select(\"score\").toPandas()",
                    "submissionTime": "2023-11-29T20:15:03.473GMT",
                    "completionTime": "2023-11-29T20:15:06.529GMT",
                    "stageIds": [
                      284,
                      285,
                      283
                    ],
                    "jobGroup": "24",
                    "status": "SUCCEEDED",
                    "numTasks": 232,
                    "numActiveTasks": 0,
                    "numCompletedTasks": 200,
                    "numSkippedTasks": 32,
                    "numFailedTasks": 0,
                    "numKilledTasks": 0,
                    "numCompletedIndices": 200,
                    "numActiveStages": 0,
                    "numCompletedStages": 1,
                    "numSkippedStages": 2,
                    "numFailedStages": 0,
                    "killedTasksSummary": {}
                  }
                ],
                "limit": 20,
                "rule": "ALL_DESC"
              },
              "parent_msg_id": "015cb112-eb33-4630-82b0-fe29b60be1b1"
            },
            "text/plain": "StatementMeta(d3c1b951-094c-48e1-919d-e32bc175397b, 47, 24, Finished, Available)"
          },
          "metadata": {}
        }
      ],
      "execution_count": 19,
      "metadata": {
        "jupyter": {
          "source_hidden": false,
          "outputs_hidden": false
        },
        "nteract": {
          "transient": {
            "deleting": false
          }
        },
        "gather": {
          "logged": 1701288915394
        }
      }
    },
    {
      "cell_type": "code",
      "source": [
        "# Plot true values against predicted values\n",
        "plt.scatter(true_labels_df, predictions_df, alpha=0.5, s = 15)\n",
        "plt.title(\"True vs Predicted Score\")\n",
        "plt.xlabel(\"True Score\")\n",
        "plt.ylabel(\"Predicted Score\")\n",
        "plt.ylim([0,40])\n",
        "plt.xlim([-50,200])\n",
        "#plt.xscale(\"log\")\n",
        "#plt.yscale(\"log\")\n",
        "plt.show()"
      ],
      "outputs": [],
      "execution_count": null,
      "metadata": {
        "jupyter": {
          "source_hidden": false,
          "outputs_hidden": false
        },
        "nteract": {
          "transient": {
            "deleting": false
          }
        }
      }
    }
  ],
  "metadata": {
    "kernelspec": {
      "name": "synapse_pyspark",
      "language": "Python",
      "display_name": "Synapse PySpark"
    },
    "language_info": {
      "name": "python",
      "version": "3.8.0",
      "mimetype": "text/x-python",
      "file_extension": ".py",
      "pygments_lexer": "ipython",
      "codemirror_mode": "ipython",
      "nbconvert_exporter": "python"
    },
    "microsoft": {
      "ms_spell_check": {
        "ms_spell_check_language": "en"
      },
      "host": {
        "AzureML": {
          "notebookHasBeenCompleted": true
        }
      }
    },
    "kernel_info": {
      "name": "synapse_pyspark"
    },
    "nteract": {
      "version": "nteract-front-end@1.0.0"
    }
  },
  "nbformat": 4,
  "nbformat_minor": 2
}
{
  "cells": [
    {
      "cell_type": "code",
      "source": [
        "spark"
      ],
      "outputs": [
        {
          "output_type": "display_data",
          "data": {
            "application/vnd.livy.statement-meta+json": {
              "spark_pool": "d3c1b951-094c-48e1-919d-e32bc175397b",
              "session_id": "48",
              "statement_id": 6,
              "state": "finished",
              "livy_statement_state": "available",
              "queued_time": "2023-11-30T16:34:01.5409671Z",
              "session_start_time": "2023-11-30T16:34:01.6025591Z",
              "execution_start_time": "2023-11-30T16:37:28.8529882Z",
              "execution_finish_time": "2023-11-30T16:37:31.5472711Z",
              "spark_jobs": {
                "numbers": {
                  "FAILED": 0,
                  "RUNNING": 0,
                  "UNKNOWN": 0,
                  "SUCCEEDED": 0
                },
                "jobs": [],
                "limit": 20,
                "rule": "ALL_DESC"
              },
              "parent_msg_id": "5007ba3b-7c68-4da2-9846-b9d724e0fa1b"
            },
            "text/plain": "StatementMeta(d3c1b951-094c-48e1-919d-e32bc175397b, 48, 6, Finished, Available)"
          },
          "metadata": {}
        },
        {
          "output_type": "execute_result",
          "execution_count": 11,
          "data": {
            "text/plain": "<pyspark.sql.session.SparkSession at 0x7fb6eac50910>",
            "text/html": "\n            <div>\n                <p><b>SparkSession - hive</b></p>\n                \n        <div>\n            <p><b>SparkContext</b></p>\n\n            <p><a href=\"http://vm-8aa11376:37947\">Spark UI</a></p>\n\n            <dl>\n              <dt>Version</dt>\n                <dd><code>v3.2.2.5.1-100879434</code></dd>\n              <dt>Master</dt>\n                <dd><code>yarn</code></dd>\n              <dt>AppName</dt>\n                <dd><code>Azure ML Experiment</code></dd>\n            </dl>\n        </div>\n        \n            </div>\n        "
          },
          "metadata": {}
        }
      ],
      "execution_count": 1,
      "metadata": {
        "gather": {
          "logged": 1701362252002
        }
      }
    },
    {
      "cell_type": "markdown",
      "source": [
        "## Reading in Libraries and Importing Data"
      ],
      "metadata": {
        "nteract": {
          "transient": {
            "deleting": false
          }
        }
      }
    },
    {
      "cell_type": "code",
      "source": [
        "## Necessary Libraries\n",
        "import pandas as pd\n",
        "import matplotlib.pyplot as plt\n",
        "import seaborn as sns\n",
        "from pyspark.sql.functions import *\n",
        "from pyspark.sql import functions as F\n",
        "from pyspark.sql.window import Window\n",
        "from tabulate import tabulate\n",
        "\n",
        "from pyspark.ml.feature import VectorAssembler, StringIndexer, OneHotEncoder, IndexToString\n",
        "from pyspark.ml.classification import RandomForestClassifier, LogisticRegression\n",
        "from pyspark.ml import Pipeline\n",
        "from pyspark.ml.evaluation import BinaryClassificationEvaluator, RegressionEvaluator\n",
        "from pyspark.ml.regression import LinearRegression, RandomForestRegressor\n",
        "from pyspark.ml import PipelineModel\n"
      ],
      "outputs": [
        {
          "output_type": "display_data",
          "data": {
            "application/vnd.livy.statement-meta+json": {
              "spark_pool": "d3c1b951-094c-48e1-919d-e32bc175397b",
              "session_id": "48",
              "statement_id": 30,
              "state": "finished",
              "livy_statement_state": "available",
              "queued_time": "2023-11-30T16:48:14.0932554Z",
              "session_start_time": null,
              "execution_start_time": "2023-11-30T16:48:14.3170891Z",
              "execution_finish_time": "2023-11-30T16:48:14.6057252Z",
              "spark_jobs": {
                "numbers": {
                  "FAILED": 0,
                  "RUNNING": 0,
                  "UNKNOWN": 0,
                  "SUCCEEDED": 0
                },
                "jobs": [],
                "limit": 20,
                "rule": "ALL_DESC"
              },
              "parent_msg_id": "98ac581b-57ab-47dd-b35d-4042379b5110"
            },
            "text/plain": "StatementMeta(d3c1b951-094c-48e1-919d-e32bc175397b, 48, 30, Finished, Available)"
          },
          "metadata": {}
        }
      ],
      "execution_count": 25,
      "metadata": {
        "jupyter": {
          "source_hidden": false,
          "outputs_hidden": false
        },
        "nteract": {
          "transient": {
            "deleting": false
          }
        },
        "gather": {
          "logged": 1701362894964
        }
      }
    },
    {
      "cell_type": "code",
      "source": [
        "# Read in data using spark\n",
        "workspace_default_storage_account = \"aml6214727930\"\n",
        "workspace_default_container = \"azureml-blobstore-6653633b-3460-4381-9199-d9e0f368353c\"\n",
        "\n",
        "workspace_wasbs_base_url = (\n",
        "    f\"wasbs://{workspace_default_container}@{workspace_default_storage_account}.blob.core.windows.net/\"\n",
        ")\n",
        "\n",
        "comments_path = \"/basketball_comments_clean_v2.parquet\"\n",
        "comments_sentiment_path = \"/basketball_comments_sentiment.parquet\"\n",
        "\n",
        "comments = spark.read.parquet(f\"{workspace_wasbs_base_url}{comments_path}\")\n",
        "comments_sentiment = spark.read.parquet(f\"{workspace_wasbs_base_url}{comments_sentiment_path}\")"
      ],
      "outputs": [
        {
          "output_type": "display_data",
          "data": {
            "application/vnd.livy.statement-meta+json": {
              "spark_pool": "d3c1b951-094c-48e1-919d-e32bc175397b",
              "session_id": "48",
              "statement_id": 8,
              "state": "finished",
              "livy_statement_state": "available",
              "queued_time": "2023-11-30T16:37:38.6251933Z",
              "session_start_time": null,
              "execution_start_time": "2023-11-30T16:37:48.1234462Z",
              "execution_finish_time": "2023-11-30T16:37:58.4952255Z",
              "spark_jobs": {
                "numbers": {
                  "FAILED": 0,
                  "RUNNING": 0,
                  "UNKNOWN": 0,
                  "SUCCEEDED": 2
                },
                "jobs": [
                  {
                    "displayName": "parquet at NativeMethodAccessorImpl.java:0",
                    "dataWritten": 0,
                    "dataRead": 0,
                    "rowCount": 0,
                    "usageDescription": "",
                    "jobId": 1,
                    "name": "parquet at NativeMethodAccessorImpl.java:0",
                    "description": "Job group for statement 8:\nworkspace_default_storage_account = \"aml6214727930\"\nworkspace_default_container = \"azureml-blobstore-6653633b-3460-4381-9199-d9e0f368353c\"\n\nworkspace_wasbs_base_url = (\n    f\"wasbs://{workspace_default_container}@{workspace_default_storage_account}.blob.core.windows.net/\"\n)\n\ncomments_path = \"/basketball_comments_clean_v2.parquet\"\ncomments_sentiment_path = \"/basketball_comments_sentiment.parquet\"\n\ncomments = spark.read.parquet(f\"{workspace_wasbs_base_url}{comments_path}\")\ncomments_sentiment = spark.read.parquet(f\"{workspace_wasbs_base_url}{comments_sentiment_path}\")",
                    "submissionTime": "2023-11-30T16:37:57.411GMT",
                    "completionTime": "2023-11-30T16:37:57.649GMT",
                    "stageIds": [
                      1
                    ],
                    "jobGroup": "8",
                    "status": "SUCCEEDED",
                    "numTasks": 1,
                    "numActiveTasks": 0,
                    "numCompletedTasks": 1,
                    "numSkippedTasks": 0,
                    "numFailedTasks": 0,
                    "numKilledTasks": 0,
                    "numCompletedIndices": 1,
                    "numActiveStages": 0,
                    "numCompletedStages": 1,
                    "numSkippedStages": 0,
                    "numFailedStages": 0,
                    "killedTasksSummary": {}
                  },
                  {
                    "displayName": "parquet at NativeMethodAccessorImpl.java:0",
                    "dataWritten": 0,
                    "dataRead": 0,
                    "rowCount": 0,
                    "usageDescription": "",
                    "jobId": 0,
                    "name": "parquet at NativeMethodAccessorImpl.java:0",
                    "description": "Job group for statement 8:\nworkspace_default_storage_account = \"aml6214727930\"\nworkspace_default_container = \"azureml-blobstore-6653633b-3460-4381-9199-d9e0f368353c\"\n\nworkspace_wasbs_base_url = (\n    f\"wasbs://{workspace_default_container}@{workspace_default_storage_account}.blob.core.windows.net/\"\n)\n\ncomments_path = \"/basketball_comments_clean_v2.parquet\"\ncomments_sentiment_path = \"/basketball_comments_sentiment.parquet\"\n\ncomments = spark.read.parquet(f\"{workspace_wasbs_base_url}{comments_path}\")\ncomments_sentiment = spark.read.parquet(f\"{workspace_wasbs_base_url}{comments_sentiment_path}\")",
                    "submissionTime": "2023-11-30T16:37:49.300GMT",
                    "completionTime": "2023-11-30T16:37:55.860GMT",
                    "stageIds": [
                      0
                    ],
                    "jobGroup": "8",
                    "status": "SUCCEEDED",
                    "numTasks": 1,
                    "numActiveTasks": 0,
                    "numCompletedTasks": 1,
                    "numSkippedTasks": 0,
                    "numFailedTasks": 0,
                    "numKilledTasks": 0,
                    "numCompletedIndices": 1,
                    "numActiveStages": 0,
                    "numCompletedStages": 1,
                    "numSkippedStages": 0,
                    "numFailedStages": 0,
                    "killedTasksSummary": {}
                  }
                ],
                "limit": 20,
                "rule": "ALL_DESC"
              },
              "parent_msg_id": "200aaa70-3d22-46a9-8235-4e24c3f34e44"
            },
            "text/plain": "StatementMeta(d3c1b951-094c-48e1-919d-e32bc175397b, 48, 8, Finished, Available)"
          },
          "metadata": {}
        }
      ],
      "execution_count": 3,
      "metadata": {
        "jupyter": {
          "source_hidden": false,
          "outputs_hidden": false
        },
        "nteract": {
          "transient": {
            "deleting": false
          }
        },
        "gather": {
          "logged": 1701362278727
        }
      }
    },
    {
      "cell_type": "code",
      "source": [
        "# Merge comments and sentiment dataframe to get sentiment on same line for each comment\n",
        "comments = comments.join(comments_sentiment.select(\"id\", \"col\", \"clean_text\"), on=\"id\", how='inner')\n",
        "comments = comments.cache()"
      ],
      "outputs": [
        {
          "output_type": "display_data",
          "data": {
            "application/vnd.livy.statement-meta+json": {
              "spark_pool": "d3c1b951-094c-48e1-919d-e32bc175397b",
              "session_id": "48",
              "statement_id": 9,
              "state": "finished",
              "livy_statement_state": "available",
              "queued_time": "2023-11-30T16:37:39.6579394Z",
              "session_start_time": null,
              "execution_start_time": "2023-11-30T16:37:58.7096033Z",
              "execution_finish_time": "2023-11-30T16:38:00.2869881Z",
              "spark_jobs": {
                "numbers": {
                  "FAILED": 0,
                  "RUNNING": 0,
                  "UNKNOWN": 0,
                  "SUCCEEDED": 0
                },
                "jobs": [],
                "limit": 20,
                "rule": "ALL_DESC"
              },
              "parent_msg_id": "3b7bf4ac-8296-4382-b832-9061c4c4e92d"
            },
            "text/plain": "StatementMeta(d3c1b951-094c-48e1-919d-e32bc175397b, 48, 9, Finished, Available)"
          },
          "metadata": {}
        }
      ],
      "execution_count": 4,
      "metadata": {
        "jupyter": {
          "source_hidden": false,
          "outputs_hidden": false
        },
        "nteract": {
          "transient": {
            "deleting": false
          }
        },
        "gather": {
          "logged": 1701362280525
        }
      }
    },
    {
      "cell_type": "markdown",
      "source": [
        "## Prepare Dataframe for Modeling"
      ],
      "metadata": {
        "nteract": {
          "transient": {
            "deleting": false
          }
        }
      }
    },
    {
      "cell_type": "code",
      "source": [
        "comments = comments.filter(col(\"subreddit\")==\"CollegeBasketball\") # keep only CollegeBasketball Subreddit\n",
        "comments = comments.withColumn(\"hour\", hour(\"created_utc\")) # create hour column\n",
        "comments = comments.withColumn(\"comment_length\", length(\"body\")) # create comment length column\n",
        "comments = comments.withColumnRenamed(\"col\", \"sentiment\") # rename \"col\" to \"sentiment\"\n",
        "comments = comments.withColumn(\"supports_a_team\", when(col(\"supported_team\").isNull(), 0).otherwise(1)) # define binary variable for if an author has a supported team in their profile\n",
        "# count number of posts by each author and create column (Used GAI for these two lines prompt: for each unique entry in the \"author\" column count how many times that entry existsw in the dataset and create a new column with that value for each author)\n",
        "window_spec = Window.partitionBy(\"author\")  # GAI\n",
        "comments = comments.withColumn(\"author_activity\", F.count(\"author\").over(window_spec)) # GAI"
      ],
      "outputs": [
        {
          "output_type": "display_data",
          "data": {
            "application/vnd.livy.statement-meta+json": {
              "spark_pool": "d3c1b951-094c-48e1-919d-e32bc175397b",
              "session_id": "48",
              "statement_id": 63,
              "state": "finished",
              "livy_statement_state": "available",
              "queued_time": "2023-11-30T17:04:51.6849349Z",
              "session_start_time": null,
              "execution_start_time": "2023-11-30T17:04:51.8813275Z",
              "execution_finish_time": "2023-11-30T17:04:52.7152087Z",
              "spark_jobs": {
                "numbers": {
                  "FAILED": 0,
                  "RUNNING": 0,
                  "UNKNOWN": 0,
                  "SUCCEEDED": 0
                },
                "jobs": [],
                "limit": 20,
                "rule": "ALL_DESC"
              },
              "parent_msg_id": "ec38628c-aae1-4c7d-add9-5e4504c4326c"
            },
            "text/plain": "StatementMeta(d3c1b951-094c-48e1-919d-e32bc175397b, 48, 63, Finished, Available)"
          },
          "metadata": {}
        }
      ],
      "execution_count": 58,
      "metadata": {
        "jupyter": {
          "source_hidden": false,
          "outputs_hidden": false
        },
        "nteract": {
          "transient": {
            "deleting": false
          }
        },
        "gather": {
          "logged": 1701363892930
        }
      }
    },
    {
      "cell_type": "code",
      "source": [
        "score = comments.select(\"score\").toPandas()\n",
        "stats_table = score[\"score\"].describe()\n",
        "print(\"         Summary Statistics for 'Score' (Upvotes-Downvotes) Variable\")\n",
        "print(tabulate(pd.DataFrame(stats_table).T, headers='keys', tablefmt='fancy_grid'))"
      ],
      "outputs": [
        {
          "output_type": "display_data",
          "data": {
            "application/vnd.livy.statement-meta+json": {
              "spark_pool": "d3c1b951-094c-48e1-919d-e32bc175397b",
              "session_id": "48",
              "statement_id": 125,
              "state": "finished",
              "livy_statement_state": "available",
              "queued_time": "2023-11-30T17:35:17.6440416Z",
              "session_start_time": null,
              "execution_start_time": "2023-11-30T17:35:17.7873515Z",
              "execution_finish_time": "2023-11-30T17:35:18.6523339Z",
              "spark_jobs": {
                "numbers": {
                  "FAILED": 0,
                  "RUNNING": 0,
                  "UNKNOWN": 0,
                  "SUCCEEDED": 1
                },
                "jobs": [
                  {
                    "displayName": "toPandas at /tmp/ipykernel_7828/2020804629.py:1",
                    "dataWritten": 0,
                    "dataRead": 0,
                    "rowCount": 0,
                    "usageDescription": "",
                    "jobId": 239,
                    "name": "toPandas at /tmp/ipykernel_7828/2020804629.py:1",
                    "description": "Job group for statement 125:\nscore = comments.select(\"score\").toPandas()\nstats_table = score[\"score\"].describe()\nprint(\"         Summary Statistics for 'Score' (Upvotes-Downvotes) Variable\")\nprint(tabulate(pd.DataFrame(stats_table).T, headers='keys', tablefmt='fancy_grid'))",
                    "submissionTime": "2023-11-30T17:35:17.834GMT",
                    "completionTime": "2023-11-30T17:35:18.372GMT",
                    "stageIds": [
                      556,
                      557,
                      558
                    ],
                    "jobGroup": "125",
                    "status": "SUCCEEDED",
                    "numTasks": 217,
                    "numActiveTasks": 0,
                    "numCompletedTasks": 200,
                    "numSkippedTasks": 17,
                    "numFailedTasks": 0,
                    "numKilledTasks": 0,
                    "numCompletedIndices": 200,
                    "numActiveStages": 0,
                    "numCompletedStages": 1,
                    "numSkippedStages": 2,
                    "numFailedStages": 0,
                    "killedTasksSummary": {}
                  }
                ],
                "limit": 20,
                "rule": "ALL_DESC"
              },
              "parent_msg_id": "9f5a20b5-c32b-4afd-b974-e362c39e9560"
            },
            "text/plain": "StatementMeta(d3c1b951-094c-48e1-919d-e32bc175397b, 48, 125, Finished, Available)"
          },
          "metadata": {}
        },
        {
          "output_type": "stream",
          "name": "stdout",
          "text": "         Summary Statistics for 'Score' (Upvotes-Downvotes) Variable\n╒═══════╤═════════╤═════════╤═══════╤═══════╤═══════╤═══════╤═══════╤═══════╕\n│       │   count │    mean │   std │   min │   25% │   50% │   75% │   max │\n╞═══════╪═════════╪═════════╪═══════╪═══════╪═══════╪═══════╪═══════╪═══════╡\n│ score │  865472 │ 9.19509 │ 39.91 │  -341 │     1 │     3 │     7 │  5360 │\n╘═══════╧═════════╧═════════╧═══════╧═══════╧═══════╧═══════╧═══════╧═══════╛\n"
        }
      ],
      "execution_count": 120,
      "metadata": {
        "jupyter": {
          "source_hidden": false,
          "outputs_hidden": false
        },
        "nteract": {
          "transient": {
            "deleting": false
          }
        },
        "gather": {
          "logged": 1701365718908
        }
      }
    },
    {
      "cell_type": "code",
      "source": [
        "score[\"score_limit\"] = score[\"score\"][(score[\"score\"]<80) & (score[\"score\"]>-25)]\n",
        "plt.hist(score[\"score_limit\"], bins = 50, color=\"darkgreen\")\n",
        "plt.title(\"Distribution of Score (Upvotes-Downvotes)\", fontsize = 16)\n",
        "plt.xlabel('Score \\n\\n (X axis limited to -20 to 80 for readability)', fontsize = 16)\n",
        "plt.ylabel('Count', fontsize = 16)\n",
        "plt.xticks(fontsize = 14)\n",
        "plt.yticks(fontsize = 12)\n",
        "plt.savefig(\"Users/vankempenklaas/fall-2023-reddit-project-team-26/data/plots/ml_q1_score_dist.png\")\n",
        "plt.show()"
      ],
      "outputs": [
        {
          "output_type": "display_data",
          "data": {
            "application/vnd.livy.statement-meta+json": {
              "spark_pool": "d3c1b951-094c-48e1-919d-e32bc175397b",
              "session_id": "48",
              "statement_id": 126,
              "state": "finished",
              "livy_statement_state": "available",
              "queued_time": "2023-11-30T17:35:55.0970246Z",
              "session_start_time": null,
              "execution_start_time": "2023-11-30T17:35:55.2440953Z",
              "execution_finish_time": "2023-11-30T17:35:56.1738217Z",
              "spark_jobs": {
                "numbers": {
                  "FAILED": 0,
                  "RUNNING": 0,
                  "UNKNOWN": 0,
                  "SUCCEEDED": 0
                },
                "jobs": [],
                "limit": 20,
                "rule": "ALL_DESC"
              },
              "parent_msg_id": "0be2f705-0b87-4e73-9608-caec95d81c31"
            },
            "text/plain": "StatementMeta(d3c1b951-094c-48e1-919d-e32bc175397b, 48, 126, Finished, Available)"
          },
          "metadata": {}
        },
        {
          "output_type": "display_data",
          "data": {
            "text/plain": "<Figure size 432x288 with 1 Axes>",
            "image/png": "[encoded data removed]"
          },
          "metadata": {
            "needs_background": "light"
          }
        }
      ],
      "execution_count": 121,
      "metadata": {
        "jupyter": {
          "source_hidden": false,
          "outputs_hidden": false
        },
        "nteract": {
          "transient": {
            "deleting": false
          }
        },
        "gather": {
          "logged": 1701365756300
        }
      }
    },
    {
      "cell_type": "markdown",
      "source": [
        "Split data into training and testing (80/20) with start seed"
      ],
      "metadata": {
        "nteract": {
          "transient": {
            "deleting": false
          }
        }
      }
    },
    {
      "cell_type": "code",
      "source": [
        "train_data, test_data = comments.randomSplit([0.8, 0.2], seed = 82)\n",
        "print(\"Number of training records: \" + str(train_data.count()))\n",
        "print(\"Number of testing records : \" + str(test_data.count()))\n",
        "train_data = train_data.cache()"
      ],
      "outputs": [
        {
          "output_type": "display_data",
          "data": {
            "application/vnd.livy.statement-meta+json": {
              "spark_pool": "d3c1b951-094c-48e1-919d-e32bc175397b",
              "session_id": "48",
              "statement_id": 64,
              "state": "finished",
              "livy_statement_state": "available",
              "queued_time": "2023-11-30T17:05:06.5392018Z",
              "session_start_time": null,
              "execution_start_time": "2023-11-30T17:05:06.7149067Z",
              "execution_finish_time": "2023-11-30T17:05:21.1744588Z",
              "spark_jobs": {
                "numbers": {
                  "FAILED": 0,
                  "RUNNING": 0,
                  "UNKNOWN": 0,
                  "SUCCEEDED": 6
                },
                "jobs": [
                  {
                    "displayName": "count at NativeMethodAccessorImpl.java:0",
                    "dataWritten": 0,
                    "dataRead": 1003,
                    "rowCount": 17,
                    "usageDescription": "",
                    "jobId": 39,
                    "name": "count at NativeMethodAccessorImpl.java:0",
                    "description": "Job group for statement 64:\ntrain_data, test_data = comments.randomSplit([0.8, 0.2], seed = 82)\nprint(\"Number of training records: \" + str(train_data.count()))\nprint(\"Number of testing records : \" + str(test_data.count()))\ntrain_data = train_data.cache()",
                    "submissionTime": "2023-11-30T17:05:19.431GMT",
                    "completionTime": "2023-11-30T17:05:19.480GMT",
                    "stageIds": [
                      125,
                      122,
                      126,
                      123,
                      124
                    ],
                    "jobGroup": "64",
                    "status": "SUCCEEDED",
                    "numTasks": 235,
                    "numActiveTasks": 0,
                    "numCompletedTasks": 1,
                    "numSkippedTasks": 234,
                    "numFailedTasks": 0,
                    "numKilledTasks": 0,
                    "numCompletedIndices": 1,
                    "numActiveStages": 0,
                    "numCompletedStages": 1,
                    "numSkippedStages": 4,
                    "numFailedStages": 0,
                    "killedTasksSummary": {}
                  },
                  {
                    "displayName": "count at NativeMethodAccessorImpl.java:0",
                    "dataWritten": 1003,
                    "dataRead": 255537744,
                    "rowCount": 865489,
                    "usageDescription": "",
                    "jobId": 38,
                    "name": "count at NativeMethodAccessorImpl.java:0",
                    "description": "Job group for statement 64:\ntrain_data, test_data = comments.randomSplit([0.8, 0.2], seed = 82)\nprint(\"Number of training records: \" + str(train_data.count()))\nprint(\"Number of testing records : \" + str(test_data.count()))\ntrain_data = train_data.cache()",
                    "submissionTime": "2023-11-30T17:05:18.557GMT",
                    "completionTime": "2023-11-30T17:05:19.409GMT",
                    "stageIds": [
                      121,
                      118,
                      119,
                      120
                    ],
                    "jobGroup": "64",
                    "status": "SUCCEEDED",
                    "numTasks": 234,
                    "numActiveTasks": 0,
                    "numCompletedTasks": 17,
                    "numSkippedTasks": 217,
                    "numFailedTasks": 0,
                    "numKilledTasks": 0,
                    "numCompletedIndices": 17,
                    "numActiveStages": 0,
                    "numCompletedStages": 1,
                    "numSkippedStages": 3,
                    "numFailedStages": 0,
                    "killedTasksSummary": {}
                  },
                  {
                    "displayName": "count at NativeMethodAccessorImpl.java:0",
                    "dataWritten": 255537744,
                    "dataRead": 208228770,
                    "rowCount": 865672,
                    "usageDescription": "",
                    "jobId": 37,
                    "name": "count at NativeMethodAccessorImpl.java:0",
                    "description": "Job group for statement 64:\ntrain_data, test_data = comments.randomSplit([0.8, 0.2], seed = 82)\nprint(\"Number of training records: \" + str(train_data.count()))\nprint(\"Number of testing records : \" + str(test_data.count()))\ntrain_data = train_data.cache()",
                    "submissionTime": "2023-11-30T17:05:14.877GMT",
                    "completionTime": "2023-11-30T17:05:18.444GMT",
                    "stageIds": [
                      117,
                      115,
                      116
                    ],
                    "jobGroup": "64",
                    "status": "SUCCEEDED",
                    "numTasks": 217,
                    "numActiveTasks": 0,
                    "numCompletedTasks": 200,
                    "numSkippedTasks": 17,
                    "numFailedTasks": 0,
                    "numKilledTasks": 0,
                    "numCompletedIndices": 200,
                    "numActiveStages": 0,
                    "numCompletedStages": 1,
                    "numSkippedStages": 2,
                    "numFailedStages": 0,
                    "killedTasksSummary": {}
                  },
                  {
                    "displayName": "count at NativeMethodAccessorImpl.java:0",
                    "dataWritten": 0,
                    "dataRead": 1003,
                    "rowCount": 17,
                    "usageDescription": "",
                    "jobId": 36,
                    "name": "count at NativeMethodAccessorImpl.java:0",
                    "description": "Job group for statement 64:\ntrain_data, test_data = comments.randomSplit([0.8, 0.2], seed = 82)\nprint(\"Number of training records: \" + str(train_data.count()))\nprint(\"Number of testing records : \" + str(test_data.count()))\ntrain_data = train_data.cache()",
                    "submissionTime": "2023-11-30T17:05:14.653GMT",
                    "completionTime": "2023-11-30T17:05:14.736GMT",
                    "stageIds": [
                      114,
                      111,
                      112,
                      113,
                      110
                    ],
                    "jobGroup": "64",
                    "status": "SUCCEEDED",
                    "numTasks": 235,
                    "numActiveTasks": 0,
                    "numCompletedTasks": 1,
                    "numSkippedTasks": 234,
                    "numFailedTasks": 0,
                    "numKilledTasks": 0,
                    "numCompletedIndices": 1,
                    "numActiveStages": 0,
                    "numCompletedStages": 1,
                    "numSkippedStages": 4,
                    "numFailedStages": 0,
                    "killedTasksSummary": {}
                  },
                  {
                    "displayName": "count at NativeMethodAccessorImpl.java:0",
                    "dataWritten": 1003,
                    "dataRead": 255537744,
                    "rowCount": 865489,
                    "usageDescription": "",
                    "jobId": 35,
                    "name": "count at NativeMethodAccessorImpl.java:0",
                    "description": "Job group for statement 64:\ntrain_data, test_data = comments.randomSplit([0.8, 0.2], seed = 82)\nprint(\"Number of training records: \" + str(train_data.count()))\nprint(\"Number of testing records : \" + str(test_data.count()))\ntrain_data = train_data.cache()",
                    "submissionTime": "2023-11-30T17:05:12.474GMT",
                    "completionTime": "2023-11-30T17:05:14.542GMT",
                    "stageIds": [
                      107,
                      108,
                      109,
                      106
                    ],
                    "jobGroup": "64",
                    "status": "SUCCEEDED",
                    "numTasks": 234,
                    "numActiveTasks": 0,
                    "numCompletedTasks": 17,
                    "numSkippedTasks": 217,
                    "numFailedTasks": 0,
                    "numKilledTasks": 0,
                    "numCompletedIndices": 17,
                    "numActiveStages": 0,
                    "numCompletedStages": 1,
                    "numSkippedStages": 3,
                    "numFailedStages": 0,
                    "killedTasksSummary": {}
                  },
                  {
                    "displayName": "count at NativeMethodAccessorImpl.java:0",
                    "dataWritten": 255537744,
                    "dataRead": 202365912,
                    "rowCount": 865672,
                    "usageDescription": "",
                    "jobId": 34,
                    "name": "count at NativeMethodAccessorImpl.java:0",
                    "description": "Job group for statement 64:\ntrain_data, test_data = comments.randomSplit([0.8, 0.2], seed = 82)\nprint(\"Number of training records: \" + str(train_data.count()))\nprint(\"Number of testing records : \" + str(test_data.count()))\ntrain_data = train_data.cache()",
                    "submissionTime": "2023-11-30T17:05:06.854GMT",
                    "completionTime": "2023-11-30T17:05:12.349GMT",
                    "stageIds": [
                      103,
                      104,
                      105
                    ],
                    "jobGroup": "64",
                    "status": "SUCCEEDED",
                    "numTasks": 217,
                    "numActiveTasks": 0,
                    "numCompletedTasks": 200,
                    "numSkippedTasks": 17,
                    "numFailedTasks": 0,
                    "numKilledTasks": 0,
                    "numCompletedIndices": 200,
                    "numActiveStages": 0,
                    "numCompletedStages": 1,
                    "numSkippedStages": 2,
                    "numFailedStages": 0,
                    "killedTasksSummary": {}
                  }
                ],
                "limit": 20,
                "rule": "ALL_DESC"
              },
              "parent_msg_id": "f560181c-0957-4060-9547-b89ac1b86d0e"
            },
            "text/plain": "StatementMeta(d3c1b951-094c-48e1-919d-e32bc175397b, 48, 64, Finished, Available)"
          },
          "metadata": {}
        },
        {
          "output_type": "stream",
          "name": "stdout",
          "text": "Number of training records: 692712\nNumber of testing records : 172760\n"
        }
      ],
      "execution_count": 59,
      "metadata": {
        "jupyter": {
          "source_hidden": false,
          "outputs_hidden": false
        },
        "nteract": {
          "transient": {
            "deleting": false
          }
        },
        "gather": {
          "logged": 1701363921799
        }
      }
    },
    {
      "cell_type": "markdown",
      "source": [
        "### Regression\n",
        "\n",
        "Attempt to predict score of a comment (popularity) based on the following: \n",
        "\n",
        "- If the author has a supported team in their profile picture\n",
        "- What month the post is from\n",
        "- What the sentiment of the post is\n",
        "- What Year the post is from\n",
        "- What day the post is from\n",
        "- What Hour of day the post is from\n",
        "- Length of the post\n",
        "- How much the author has commented in this dataset"
      ],
      "metadata": {
        "nteract": {
          "transient": {
            "deleting": false
          }
        }
      }
    },
    {
      "cell_type": "code",
      "source": [
        "# perform variable transformations for categorical/binary variables\n",
        "stringIndexer_team = StringIndexer(inputCol='supports_a_team', outputCol=\"team_index\", handleInvalid=\"skip\") \n",
        "stringIndexer_month = StringIndexer(inputCol='month', outputCol=\"month_index\", handleInvalid=\"skip\") \n",
        "stringIndexer_sentiment = StringIndexer(inputCol='sentiment', outputCol=\"sentiment_index\", handleInvalid=\"skip\") \n",
        "onehot_sentiment = OneHotEncoder(inputCol=\"sentiment_index\", outputCol=\"sentiment_vec\")\n",
        "onehot_month = OneHotEncoder(inputCol=\"month_index\", outputCol=\"month_vec\")"
      ],
      "outputs": [
        {
          "output_type": "display_data",
          "data": {
            "application/vnd.livy.statement-meta+json": {
              "spark_pool": "d3c1b951-094c-48e1-919d-e32bc175397b",
              "session_id": "48",
              "statement_id": 65,
              "state": "finished",
              "livy_statement_state": "available",
              "queued_time": "2023-11-30T17:05:10.2234292Z",
              "session_start_time": null,
              "execution_start_time": "2023-11-30T17:05:21.4167768Z",
              "execution_finish_time": "2023-11-30T17:05:21.7245827Z",
              "spark_jobs": {
                "numbers": {
                  "FAILED": 0,
                  "RUNNING": 0,
                  "UNKNOWN": 0,
                  "SUCCEEDED": 0
                },
                "jobs": [],
                "limit": 20,
                "rule": "ALL_DESC"
              },
              "parent_msg_id": "3dac30cc-85ba-4e7a-85df-8619a461d2a9"
            },
            "text/plain": "StatementMeta(d3c1b951-094c-48e1-919d-e32bc175397b, 48, 65, Finished, Available)"
          },
          "metadata": {}
        }
      ],
      "execution_count": 60,
      "metadata": {
        "jupyter": {
          "source_hidden": false,
          "outputs_hidden": false
        },
        "nteract": {
          "transient": {
            "deleting": false
          }
        },
        "gather": {
          "logged": 1701363922075
        }
      }
    },
    {
      "cell_type": "code",
      "source": [
        "# assemble all features using vector assembler \n",
        "feature_cols = ['comment_length', 'day', 'year', 'hour', 'author_activity', \"month_vec\", \"sentiment_vec\", \"team_index\"]\n",
        "assembler = VectorAssembler(inputCols=feature_cols, outputCol=\"features\")"
      ],
      "outputs": [
        {
          "output_type": "display_data",
          "data": {
            "application/vnd.livy.statement-meta+json": {
              "spark_pool": "d3c1b951-094c-48e1-919d-e32bc175397b",
              "session_id": "48",
              "statement_id": 66,
              "state": "finished",
              "livy_statement_state": "available",
              "queued_time": "2023-11-30T17:05:11.1014061Z",
              "session_start_time": null,
              "execution_start_time": "2023-11-30T17:05:21.9316955Z",
              "execution_finish_time": "2023-11-30T17:05:22.2216876Z",
              "spark_jobs": {
                "numbers": {
                  "FAILED": 0,
                  "RUNNING": 0,
                  "UNKNOWN": 0,
                  "SUCCEEDED": 0
                },
                "jobs": [],
                "limit": 20,
                "rule": "ALL_DESC"
              },
              "parent_msg_id": "be5a6899-ac1d-4135-bdf3-058d2fe9dd75"
            },
            "text/plain": "StatementMeta(d3c1b951-094c-48e1-919d-e32bc175397b, 48, 66, Finished, Available)"
          },
          "metadata": {}
        }
      ],
      "execution_count": 61,
      "metadata": {
        "jupyter": {
          "source_hidden": false,
          "outputs_hidden": false
        },
        "nteract": {
          "transient": {
            "deleting": false
          }
        },
        "gather": {
          "logged": 1701363922436
        }
      }
    },
    {
      "cell_type": "code",
      "source": [
        "# define random forest model \n",
        "rf = RandomForestRegressor(featuresCol=\"features\", labelCol=\"score\", maxDepth=5, numTrees=50)"
      ],
      "outputs": [
        {
          "output_type": "display_data",
          "data": {
            "application/vnd.livy.statement-meta+json": {
              "spark_pool": "d3c1b951-094c-48e1-919d-e32bc175397b",
              "session_id": "48",
              "statement_id": 80,
              "state": "finished",
              "livy_statement_state": "available",
              "queued_time": "2023-11-30T17:12:54.8714981Z",
              "session_start_time": null,
              "execution_start_time": "2023-11-30T17:12:55.0452731Z",
              "execution_finish_time": "2023-11-30T17:12:55.3567655Z",
              "spark_jobs": {
                "numbers": {
                  "FAILED": 0,
                  "RUNNING": 0,
                  "UNKNOWN": 0,
                  "SUCCEEDED": 0
                },
                "jobs": [],
                "limit": 20,
                "rule": "ALL_DESC"
              },
              "parent_msg_id": "3f53d00a-27b0-4285-be07-7548856d8a2a"
            },
            "text/plain": "StatementMeta(d3c1b951-094c-48e1-919d-e32bc175397b, 48, 80, Finished, Available)"
          },
          "metadata": {}
        }
      ],
      "execution_count": 75,
      "metadata": {
        "jupyter": {
          "source_hidden": false,
          "outputs_hidden": false
        },
        "nteract": {
          "transient": {
            "deleting": false
          }
        },
        "gather": {
          "logged": 1701364375827
        }
      }
    },
    {
      "cell_type": "code",
      "source": [
        "# define pipeline model \n",
        "pipeline_model = Pipeline(stages = [\n",
        "    stringIndexer_sentiment,\n",
        "    stringIndexer_month,\n",
        "    stringIndexer_team,\n",
        "    onehot_month,\n",
        "    onehot_sentiment,\n",
        "    assembler,\n",
        "    rf\n",
        "])"
      ],
      "outputs": [
        {
          "output_type": "display_data",
          "data": {
            "application/vnd.livy.statement-meta+json": {
              "spark_pool": "d3c1b951-094c-48e1-919d-e32bc175397b",
              "session_id": "48",
              "statement_id": 81,
              "state": "finished",
              "livy_statement_state": "available",
              "queued_time": "2023-11-30T17:12:57.0168723Z",
              "session_start_time": null,
              "execution_start_time": "2023-11-30T17:12:57.1680624Z",
              "execution_finish_time": "2023-11-30T17:12:57.4618073Z",
              "spark_jobs": {
                "numbers": {
                  "FAILED": 0,
                  "RUNNING": 0,
                  "UNKNOWN": 0,
                  "SUCCEEDED": 0
                },
                "jobs": [],
                "limit": 20,
                "rule": "ALL_DESC"
              },
              "parent_msg_id": "0982ac6b-0abc-4a3a-b078-be1c940972d4"
            },
            "text/plain": "StatementMeta(d3c1b951-094c-48e1-919d-e32bc175397b, 48, 81, Finished, Available)"
          },
          "metadata": {}
        }
      ],
      "execution_count": 76,
      "metadata": {
        "jupyter": {
          "source_hidden": false,
          "outputs_hidden": false
        },
        "nteract": {
          "transient": {
            "deleting": false
          }
        },
        "gather": {
          "logged": 1701364377744
        }
      }
    },
    {
      "cell_type": "code",
      "source": [
        "# fit the pipelined model using the training data\n",
        "model = pipeline_model.fit(train_data)"
      ],
      "outputs": [
        {
          "output_type": "display_data",
          "data": {
            "application/vnd.livy.statement-meta+json": {
              "spark_pool": "d3c1b951-094c-48e1-919d-e32bc175397b",
              "session_id": "48",
              "statement_id": 82,
              "state": "finished",
              "livy_statement_state": "available",
              "queued_time": "2023-11-30T17:12:59.8961201Z",
              "session_start_time": null,
              "execution_start_time": "2023-11-30T17:13:00.0342971Z",
              "execution_finish_time": "2023-11-30T17:13:24.2453957Z",
              "spark_jobs": {
                "numbers": {
                  "FAILED": 0,
                  "RUNNING": 0,
                  "UNKNOWN": 0,
                  "SUCCEEDED": 14
                },
                "jobs": [
                  {
                    "displayName": "collectAsMap at RandomForest.scala:663",
                    "dataWritten": 67754960,
                    "dataRead": 307360807,
                    "rowCount": 1002040,
                    "usageDescription": "",
                    "jobId": 131,
                    "name": "collectAsMap at RandomForest.scala:663",
                    "description": "Job group for statement 82:\n# fit the pipelined model using the training data\nmodel = pipeline_model.fit(train_data)",
                    "submissionTime": "2023-11-30T17:13:19.240GMT",
                    "completionTime": "2023-11-30T17:13:22.313GMT",
                    "stageIds": [
                      365,
                      366,
                      363,
                      367,
                      364
                    ],
                    "jobGroup": "82",
                    "status": "SUCCEEDED",
                    "numTasks": 617,
                    "numActiveTasks": 0,
                    "numCompletedTasks": 400,
                    "numSkippedTasks": 217,
                    "numFailedTasks": 0,
                    "numKilledTasks": 0,
                    "numCompletedIndices": 400,
                    "numActiveStages": 0,
                    "numCompletedStages": 2,
                    "numSkippedStages": 3,
                    "numFailedStages": 0,
                    "killedTasksSummary": {}
                  },
                  {
                    "displayName": "collectAsMap at RandomForest.scala:663",
                    "dataWritten": 49785771,
                    "dataRead": 273356061,
                    "rowCount": 847640,
                    "usageDescription": "",
                    "jobId": 130,
                    "name": "collectAsMap at RandomForest.scala:663",
                    "description": "Job group for statement 82:\n# fit the pipelined model using the training data\nmodel = pipeline_model.fit(train_data)",
                    "submissionTime": "2023-11-30T17:13:16.192GMT",
                    "completionTime": "2023-11-30T17:13:19.207GMT",
                    "stageIds": [
                      361,
                      358,
                      362,
                      359,
                      360
                    ],
                    "jobGroup": "82",
                    "status": "SUCCEEDED",
                    "numTasks": 617,
                    "numActiveTasks": 0,
                    "numCompletedTasks": 400,
                    "numSkippedTasks": 217,
                    "numFailedTasks": 0,
                    "numKilledTasks": 0,
                    "numCompletedIndices": 400,
                    "numActiveStages": 0,
                    "numCompletedStages": 2,
                    "numSkippedStages": 3,
                    "numFailedStages": 0,
                    "killedTasksSummary": {}
                  },
                  {
                    "displayName": "collectAsMap at RandomForest.scala:663",
                    "dataWritten": 37173656,
                    "dataRead": 248901817,
                    "rowCount": 771640,
                    "usageDescription": "",
                    "jobId": 129,
                    "name": "collectAsMap at RandomForest.scala:663",
                    "description": "Job group for statement 82:\n# fit the pipelined model using the training data\nmodel = pipeline_model.fit(train_data)",
                    "submissionTime": "2023-11-30T17:13:11.766GMT",
                    "completionTime": "2023-11-30T17:13:16.152GMT",
                    "stageIds": [
                      356,
                      353,
                      357,
                      354,
                      355
                    ],
                    "jobGroup": "82",
                    "status": "SUCCEEDED",
                    "numTasks": 617,
                    "numActiveTasks": 0,
                    "numCompletedTasks": 400,
                    "numSkippedTasks": 217,
                    "numFailedTasks": 0,
                    "numKilledTasks": 0,
                    "numCompletedIndices": 400,
                    "numActiveStages": 0,
                    "numCompletedStages": 2,
                    "numSkippedStages": 3,
                    "numFailedStages": 0,
                    "killedTasksSummary": {}
                  },
                  {
                    "displayName": "collectAsMap at RandomForest.scala:663",
                    "dataWritten": 21097273,
                    "dataRead": 249586364,
                    "rowCount": 732440,
                    "usageDescription": "",
                    "jobId": 128,
                    "name": "collectAsMap at RandomForest.scala:663",
                    "description": "Job group for statement 82:\n# fit the pipelined model using the training data\nmodel = pipeline_model.fit(train_data)",
                    "submissionTime": "2023-11-30T17:13:08.438GMT",
                    "completionTime": "2023-11-30T17:13:11.741GMT",
                    "stageIds": [
                      350,
                      351,
                      348,
                      352,
                      349
                    ],
                    "jobGroup": "82",
                    "status": "SUCCEEDED",
                    "numTasks": 617,
                    "numActiveTasks": 0,
                    "numCompletedTasks": 400,
                    "numSkippedTasks": 217,
                    "numFailedTasks": 0,
                    "numKilledTasks": 0,
                    "numCompletedIndices": 400,
                    "numActiveStages": 0,
                    "numCompletedStages": 2,
                    "numSkippedStages": 3,
                    "numFailedStages": 0,
                    "killedTasksSummary": {}
                  },
                  {
                    "displayName": "collectAsMap at RandomForest.scala:663",
                    "dataWritten": 12028502,
                    "dataRead": 198552618,
                    "rowCount": 20201,
                    "usageDescription": "",
                    "jobId": 127,
                    "name": "collectAsMap at RandomForest.scala:663",
                    "description": "Job group for statement 82:\n# fit the pipelined model using the training data\nmodel = pipeline_model.fit(train_data)",
                    "submissionTime": "2023-11-30T17:13:05.680GMT",
                    "completionTime": "2023-11-30T17:13:08.411GMT",
                    "stageIds": [
                      343,
                      347,
                      344,
                      345,
                      346
                    ],
                    "jobGroup": "82",
                    "status": "SUCCEEDED",
                    "numTasks": 617,
                    "numActiveTasks": 0,
                    "numCompletedTasks": 400,
                    "numSkippedTasks": 217,
                    "numFailedTasks": 0,
                    "numKilledTasks": 0,
                    "numCompletedIndices": 400,
                    "numActiveStages": 0,
                    "numCompletedStages": 2,
                    "numSkippedStages": 3,
                    "numFailedStages": 0,
                    "killedTasksSummary": {}
                  },
                  {
                    "displayName": "collectAsMap at RandomForest.scala:1054",
                    "dataWritten": 641750,
                    "dataRead": 189441760,
                    "rowCount": 2201,
                    "usageDescription": "",
                    "jobId": 126,
                    "name": "collectAsMap at RandomForest.scala:1054",
                    "description": "Job group for statement 82:\n# fit the pipelined model using the training data\nmodel = pipeline_model.fit(train_data)",
                    "submissionTime": "2023-11-30T17:13:04.348GMT",
                    "completionTime": "2023-11-30T17:13:05.653GMT",
                    "stageIds": [
                      338,
                      342,
                      339,
                      340,
                      341
                    ],
                    "jobGroup": "82",
                    "status": "SUCCEEDED",
                    "numTasks": 422,
                    "numActiveTasks": 0,
                    "numCompletedTasks": 205,
                    "numSkippedTasks": 217,
                    "numFailedTasks": 0,
                    "numKilledTasks": 0,
                    "numCompletedIndices": 205,
                    "numActiveStages": 0,
                    "numCompletedStages": 2,
                    "numSkippedStages": 3,
                    "numFailedStages": 0,
                    "killedTasksSummary": {}
                  },
                  {
                    "displayName": "aggregate at DecisionTreeMetadata.scala:125",
                    "dataWritten": 0,
                    "dataRead": 186883877,
                    "rowCount": 201,
                    "usageDescription": "",
                    "jobId": 125,
                    "name": "aggregate at DecisionTreeMetadata.scala:125",
                    "description": "Job group for statement 82:\n# fit the pipelined model using the training data\nmodel = pipeline_model.fit(train_data)",
                    "submissionTime": "2023-11-30T17:13:03.417GMT",
                    "completionTime": "2023-11-30T17:13:04.319GMT",
                    "stageIds": [
                      335,
                      336,
                      337,
                      334
                    ],
                    "jobGroup": "82",
                    "status": "SUCCEEDED",
                    "numTasks": 417,
                    "numActiveTasks": 0,
                    "numCompletedTasks": 200,
                    "numSkippedTasks": 217,
                    "numFailedTasks": 0,
                    "numKilledTasks": 0,
                    "numCompletedIndices": 200,
                    "numActiveStages": 0,
                    "numCompletedStages": 1,
                    "numSkippedStages": 3,
                    "numFailedStages": 0,
                    "killedTasksSummary": {}
                  },
                  {
                    "displayName": "take at DecisionTreeMetadata.scala:119",
                    "dataWritten": 0,
                    "dataRead": 1391120,
                    "rowCount": 1,
                    "usageDescription": "",
                    "jobId": 124,
                    "name": "take at DecisionTreeMetadata.scala:119",
                    "description": "Job group for statement 82:\n# fit the pipelined model using the training data\nmodel = pipeline_model.fit(train_data)",
                    "submissionTime": "2023-11-30T17:13:03.383GMT",
                    "completionTime": "2023-11-30T17:13:03.412GMT",
                    "stageIds": [
                      332,
                      333,
                      330,
                      331
                    ],
                    "jobGroup": "82",
                    "status": "SUCCEEDED",
                    "numTasks": 218,
                    "numActiveTasks": 0,
                    "numCompletedTasks": 1,
                    "numSkippedTasks": 217,
                    "numFailedTasks": 0,
                    "numKilledTasks": 0,
                    "numCompletedIndices": 1,
                    "numActiveStages": 0,
                    "numCompletedStages": 1,
                    "numSkippedStages": 3,
                    "numFailedStages": 0,
                    "killedTasksSummary": {}
                  },
                  {
                    "displayName": "collect at StringIndexer.scala:204",
                    "dataWritten": 0,
                    "dataRead": 100583,
                    "rowCount": 200,
                    "usageDescription": "",
                    "jobId": 123,
                    "name": "collect at StringIndexer.scala:204",
                    "description": "Job group for statement 82:\n# fit the pipelined model using the training data\nmodel = pipeline_model.fit(train_data)",
                    "submissionTime": "2023-11-30T17:13:02.974GMT",
                    "completionTime": "2023-11-30T17:13:03.040GMT",
                    "stageIds": [
                      328,
                      325,
                      329,
                      326,
                      327
                    ],
                    "jobGroup": "82",
                    "status": "SUCCEEDED",
                    "numTasks": 418,
                    "numActiveTasks": 0,
                    "numCompletedTasks": 1,
                    "numSkippedTasks": 417,
                    "numFailedTasks": 0,
                    "numKilledTasks": 0,
                    "numCompletedIndices": 1,
                    "numActiveStages": 0,
                    "numCompletedStages": 1,
                    "numSkippedStages": 4,
                    "numFailedStages": 0,
                    "killedTasksSummary": {}
                  },
                  {
                    "displayName": "collect at StringIndexer.scala:204",
                    "dataWritten": 100583,
                    "dataRead": 190275891,
                    "rowCount": 401,
                    "usageDescription": "",
                    "jobId": 122,
                    "name": "collect at StringIndexer.scala:204",
                    "description": "Job group for statement 82:\n# fit the pipelined model using the training data\nmodel = pipeline_model.fit(train_data)",
                    "submissionTime": "2023-11-30T17:13:02.469GMT",
                    "completionTime": "2023-11-30T17:13:02.934GMT",
                    "stageIds": [
                      324,
                      321,
                      322,
                      323
                    ],
                    "jobGroup": "82",
                    "status": "SUCCEEDED",
                    "numTasks": 417,
                    "numActiveTasks": 0,
                    "numCompletedTasks": 200,
                    "numSkippedTasks": 217,
                    "numFailedTasks": 0,
                    "numKilledTasks": 0,
                    "numCompletedIndices": 200,
                    "numActiveStages": 0,
                    "numCompletedStages": 1,
                    "numSkippedStages": 3,
                    "numFailedStages": 0,
                    "killedTasksSummary": {}
                  },
                  {
                    "displayName": "collect at StringIndexer.scala:204",
                    "dataWritten": 0,
                    "dataRead": 110983,
                    "rowCount": 200,
                    "usageDescription": "",
                    "jobId": 121,
                    "name": "collect at StringIndexer.scala:204",
                    "description": "Job group for statement 82:\n# fit the pipelined model using the training data\nmodel = pipeline_model.fit(train_data)",
                    "submissionTime": "2023-11-30T17:13:02.150GMT",
                    "completionTime": "2023-11-30T17:13:02.208GMT",
                    "stageIds": [
                      320,
                      317,
                      318,
                      319,
                      316
                    ],
                    "jobGroup": "82",
                    "status": "SUCCEEDED",
                    "numTasks": 418,
                    "numActiveTasks": 0,
                    "numCompletedTasks": 1,
                    "numSkippedTasks": 417,
                    "numFailedTasks": 0,
                    "numKilledTasks": 0,
                    "numCompletedIndices": 1,
                    "numActiveStages": 0,
                    "numCompletedStages": 1,
                    "numSkippedStages": 4,
                    "numFailedStages": 0,
                    "killedTasksSummary": {}
                  },
                  {
                    "displayName": "collect at StringIndexer.scala:204",
                    "dataWritten": 110983,
                    "dataRead": 185803687,
                    "rowCount": 401,
                    "usageDescription": "",
                    "jobId": 120,
                    "name": "collect at StringIndexer.scala:204",
                    "description": "Job group for statement 82:\n# fit the pipelined model using the training data\nmodel = pipeline_model.fit(train_data)",
                    "submissionTime": "2023-11-30T17:13:01.012GMT",
                    "completionTime": "2023-11-30T17:13:02.125GMT",
                    "stageIds": [
                      314,
                      315,
                      312,
                      313
                    ],
                    "jobGroup": "82",
                    "status": "SUCCEEDED",
                    "numTasks": 417,
                    "numActiveTasks": 0,
                    "numCompletedTasks": 200,
                    "numSkippedTasks": 217,
                    "numFailedTasks": 0,
                    "numKilledTasks": 0,
                    "numCompletedIndices": 200,
                    "numActiveStages": 0,
                    "numCompletedStages": 1,
                    "numSkippedStages": 3,
                    "numFailedStages": 0,
                    "killedTasksSummary": {}
                  },
                  {
                    "displayName": "collect at StringIndexer.scala:204",
                    "dataWritten": 0,
                    "dataRead": 104993,
                    "rowCount": 200,
                    "usageDescription": "",
                    "jobId": 119,
                    "name": "collect at StringIndexer.scala:204",
                    "description": "Job group for statement 82:\n# fit the pipelined model using the training data\nmodel = pipeline_model.fit(train_data)",
                    "submissionTime": "2023-11-30T17:13:00.674GMT",
                    "completionTime": "2023-11-30T17:13:00.751GMT",
                    "stageIds": [
                      310,
                      307,
                      311,
                      308,
                      309
                    ],
                    "jobGroup": "82",
                    "status": "SUCCEEDED",
                    "numTasks": 418,
                    "numActiveTasks": 0,
                    "numCompletedTasks": 1,
                    "numSkippedTasks": 417,
                    "numFailedTasks": 0,
                    "numKilledTasks": 0,
                    "numCompletedIndices": 1,
                    "numActiveStages": 0,
                    "numCompletedStages": 1,
                    "numSkippedStages": 4,
                    "numFailedStages": 0,
                    "killedTasksSummary": {}
                  },
                  {
                    "displayName": "collect at StringIndexer.scala:204",
                    "dataWritten": 104993,
                    "dataRead": 189121789,
                    "rowCount": 401,
                    "usageDescription": "",
                    "jobId": 118,
                    "name": "collect at StringIndexer.scala:204",
                    "description": "Job group for statement 82:\n# fit the pipelined model using the training data\nmodel = pipeline_model.fit(train_data)",
                    "submissionTime": "2023-11-30T17:13:00.080GMT",
                    "completionTime": "2023-11-30T17:13:00.546GMT",
                    "stageIds": [
                      305,
                      306,
                      303,
                      304
                    ],
                    "jobGroup": "82",
                    "status": "SUCCEEDED",
                    "numTasks": 417,
                    "numActiveTasks": 0,
                    "numCompletedTasks": 200,
                    "numSkippedTasks": 217,
                    "numFailedTasks": 0,
                    "numKilledTasks": 0,
                    "numCompletedIndices": 200,
                    "numActiveStages": 0,
                    "numCompletedStages": 1,
                    "numSkippedStages": 3,
                    "numFailedStages": 0,
                    "killedTasksSummary": {}
                  }
                ],
                "limit": 20,
                "rule": "ALL_DESC"
              },
              "parent_msg_id": "61663bca-d169-4326-82a4-9d67513d4d76"
            },
            "text/plain": "StatementMeta(d3c1b951-094c-48e1-919d-e32bc175397b, 48, 82, Finished, Available)"
          },
          "metadata": {}
        }
      ],
      "execution_count": 77,
      "metadata": {
        "jupyter": {
          "source_hidden": false,
          "outputs_hidden": false
        },
        "nteract": {
          "transient": {
            "deleting": false
          }
        },
        "gather": {
          "logged": 1701364404688
        }
      }
    },
    {
      "cell_type": "code",
      "source": [
        "# save the model\n",
        "model.write().overwrite().save(\"Users/vankempenklaas/fall-2023-reddit-project-team-26/code/ml/model_files/popularity_model_v2\")"
      ],
      "outputs": [
        {
          "output_type": "display_data",
          "data": {
            "application/vnd.livy.statement-meta+json": {
              "spark_pool": "d3c1b951-094c-48e1-919d-e32bc175397b",
              "session_id": "48",
              "statement_id": 84,
              "state": "finished",
              "livy_statement_state": "available",
              "queued_time": "2023-11-30T17:13:47.4361964Z",
              "session_start_time": null,
              "execution_start_time": "2023-11-30T17:13:48.0362793Z",
              "execution_finish_time": "2023-11-30T17:14:05.7875324Z",
              "spark_jobs": {
                "numbers": {
                  "FAILED": 0,
                  "RUNNING": 0,
                  "UNKNOWN": 0,
                  "SUCCEEDED": 22
                },
                "jobs": [
                  {
                    "displayName": "parquet at treeModels.scala:491",
                    "dataWritten": 140198,
                    "dataRead": 203669,
                    "rowCount": 6032,
                    "usageDescription": "",
                    "jobId": 155,
                    "name": "parquet at treeModels.scala:491",
                    "description": "Job group for statement 84:\n# save the model\nmodel.write().overwrite().save(\"Users/vankempenklaas/fall-2023-reddit-project-team-26/code/ml/model_files/popularity_model_v2\")",
                    "submissionTime": "2023-11-30T17:14:04.184GMT",
                    "completionTime": "2023-11-30T17:14:05.277GMT",
                    "stageIds": [
                      404,
                      403
                    ],
                    "jobGroup": "84",
                    "status": "SUCCEEDED",
                    "numTasks": 17,
                    "numActiveTasks": 0,
                    "numCompletedTasks": 1,
                    "numSkippedTasks": 16,
                    "numFailedTasks": 0,
                    "numKilledTasks": 0,
                    "numCompletedIndices": 1,
                    "numActiveStages": 0,
                    "numCompletedStages": 1,
                    "numSkippedStages": 1,
                    "numFailedStages": 0,
                    "killedTasksSummary": {}
                  },
                  {
                    "displayName": "parquet at treeModels.scala:491",
                    "dataWritten": 203669,
                    "dataRead": 0,
                    "rowCount": 3016,
                    "usageDescription": "",
                    "jobId": 154,
                    "name": "parquet at treeModels.scala:491",
                    "description": "Job group for statement 84:\n# save the model\nmodel.write().overwrite().save(\"Users/vankempenklaas/fall-2023-reddit-project-team-26/code/ml/model_files/popularity_model_v2\")",
                    "submissionTime": "2023-11-30T17:14:04.046GMT",
                    "completionTime": "2023-11-30T17:14:04.132GMT",
                    "stageIds": [
                      402
                    ],
                    "jobGroup": "84",
                    "status": "SUCCEEDED",
                    "numTasks": 16,
                    "numActiveTasks": 0,
                    "numCompletedTasks": 16,
                    "numSkippedTasks": 0,
                    "numFailedTasks": 0,
                    "numKilledTasks": 0,
                    "numCompletedIndices": 16,
                    "numActiveStages": 0,
                    "numCompletedStages": 1,
                    "numSkippedStages": 0,
                    "numFailedStages": 0,
                    "killedTasksSummary": {}
                  },
                  {
                    "displayName": "parquet at treeModels.scala:483",
                    "dataWritten": 6643,
                    "dataRead": 12116,
                    "rowCount": 100,
                    "usageDescription": "",
                    "jobId": 153,
                    "name": "parquet at treeModels.scala:483",
                    "description": "Job group for statement 84:\n# save the model\nmodel.write().overwrite().save(\"Users/vankempenklaas/fall-2023-reddit-project-team-26/code/ml/model_files/popularity_model_v2\")",
                    "submissionTime": "2023-11-30T17:14:03.018GMT",
                    "completionTime": "2023-11-30T17:14:03.621GMT",
                    "stageIds": [
                      401,
                      400
                    ],
                    "jobGroup": "84",
                    "status": "SUCCEEDED",
                    "numTasks": 17,
                    "numActiveTasks": 0,
                    "numCompletedTasks": 1,
                    "numSkippedTasks": 16,
                    "numFailedTasks": 0,
                    "numKilledTasks": 0,
                    "numCompletedIndices": 1,
                    "numActiveStages": 0,
                    "numCompletedStages": 1,
                    "numSkippedStages": 1,
                    "numFailedStages": 0,
                    "killedTasksSummary": {}
                  },
                  {
                    "displayName": "parquet at treeModels.scala:483",
                    "dataWritten": 12116,
                    "dataRead": 0,
                    "rowCount": 50,
                    "usageDescription": "",
                    "jobId": 152,
                    "name": "parquet at treeModels.scala:483",
                    "description": "Job group for statement 84:\n# save the model\nmodel.write().overwrite().save(\"Users/vankempenklaas/fall-2023-reddit-project-team-26/code/ml/model_files/popularity_model_v2\")",
                    "submissionTime": "2023-11-30T17:14:02.925GMT",
                    "completionTime": "2023-11-30T17:14:02.966GMT",
                    "stageIds": [
                      399
                    ],
                    "jobGroup": "84",
                    "status": "SUCCEEDED",
                    "numTasks": 16,
                    "numActiveTasks": 0,
                    "numCompletedTasks": 16,
                    "numSkippedTasks": 0,
                    "numFailedTasks": 0,
                    "numKilledTasks": 0,
                    "numCompletedIndices": 16,
                    "numActiveStages": 0,
                    "numCompletedStages": 1,
                    "numSkippedStages": 0,
                    "numFailedStages": 0,
                    "killedTasksSummary": {}
                  },
                  {
                    "displayName": "runJob at SparkHadoopWriter.scala:85",
                    "dataWritten": 695,
                    "dataRead": 0,
                    "rowCount": 1,
                    "usageDescription": "",
                    "jobId": 151,
                    "name": "runJob at SparkHadoopWriter.scala:85",
                    "description": "Job group for statement 84:\n# save the model\nmodel.write().overwrite().save(\"Users/vankempenklaas/fall-2023-reddit-project-team-26/code/ml/model_files/popularity_model_v2\")",
                    "submissionTime": "2023-11-30T17:14:02.002GMT",
                    "completionTime": "2023-11-30T17:14:02.544GMT",
                    "stageIds": [
                      398
                    ],
                    "jobGroup": "84",
                    "status": "SUCCEEDED",
                    "numTasks": 1,
                    "numActiveTasks": 0,
                    "numCompletedTasks": 1,
                    "numSkippedTasks": 0,
                    "numFailedTasks": 0,
                    "numKilledTasks": 0,
                    "numCompletedIndices": 1,
                    "numActiveStages": 0,
                    "numCompletedStages": 1,
                    "numSkippedStages": 0,
                    "numFailedStages": 0,
                    "killedTasksSummary": {}
                  },
                  {
                    "displayName": "runJob at SparkHadoopWriter.scala:85",
                    "dataWritten": 397,
                    "dataRead": 0,
                    "rowCount": 1,
                    "usageDescription": "",
                    "jobId": 150,
                    "name": "runJob at SparkHadoopWriter.scala:85",
                    "description": "Job group for statement 84:\n# save the model\nmodel.write().overwrite().save(\"Users/vankempenklaas/fall-2023-reddit-project-team-26/code/ml/model_files/popularity_model_v2\")",
                    "submissionTime": "2023-11-30T17:14:01.070GMT",
                    "completionTime": "2023-11-30T17:14:01.588GMT",
                    "stageIds": [
                      397
                    ],
                    "jobGroup": "84",
                    "status": "SUCCEEDED",
                    "numTasks": 1,
                    "numActiveTasks": 0,
                    "numCompletedTasks": 1,
                    "numSkippedTasks": 0,
                    "numFailedTasks": 0,
                    "numKilledTasks": 0,
                    "numCompletedIndices": 1,
                    "numActiveStages": 0,
                    "numCompletedStages": 1,
                    "numSkippedStages": 0,
                    "numFailedStages": 0,
                    "killedTasksSummary": {}
                  },
                  {
                    "displayName": "parquet at OneHotEncoder.scala:407",
                    "dataWritten": 589,
                    "dataRead": 74,
                    "rowCount": 2,
                    "usageDescription": "",
                    "jobId": 149,
                    "name": "parquet at OneHotEncoder.scala:407",
                    "description": "Job group for statement 84:\n# save the model\nmodel.write().overwrite().save(\"Users/vankempenklaas/fall-2023-reddit-project-team-26/code/ml/model_files/popularity_model_v2\")",
                    "submissionTime": "2023-11-30T17:13:59.883GMT",
                    "completionTime": "2023-11-30T17:14:00.651GMT",
                    "stageIds": [
                      395,
                      396
                    ],
                    "jobGroup": "84",
                    "status": "SUCCEEDED",
                    "numTasks": 2,
                    "numActiveTasks": 0,
                    "numCompletedTasks": 1,
                    "numSkippedTasks": 1,
                    "numFailedTasks": 0,
                    "numKilledTasks": 0,
                    "numCompletedIndices": 1,
                    "numActiveStages": 0,
                    "numCompletedStages": 1,
                    "numSkippedStages": 1,
                    "numFailedStages": 0,
                    "killedTasksSummary": {}
                  },
                  {
                    "displayName": "parquet at OneHotEncoder.scala:407",
                    "dataWritten": 74,
                    "dataRead": 0,
                    "rowCount": 1,
                    "usageDescription": "",
                    "jobId": 148,
                    "name": "parquet at OneHotEncoder.scala:407",
                    "description": "Job group for statement 84:\n# save the model\nmodel.write().overwrite().save(\"Users/vankempenklaas/fall-2023-reddit-project-team-26/code/ml/model_files/popularity_model_v2\")",
                    "submissionTime": "2023-11-30T17:13:59.813GMT",
                    "completionTime": "2023-11-30T17:13:59.830GMT",
                    "stageIds": [
                      394
                    ],
                    "jobGroup": "84",
                    "status": "SUCCEEDED",
                    "numTasks": 1,
                    "numActiveTasks": 0,
                    "numCompletedTasks": 1,
                    "numSkippedTasks": 0,
                    "numFailedTasks": 0,
                    "numKilledTasks": 0,
                    "numCompletedIndices": 1,
                    "numActiveStages": 0,
                    "numCompletedStages": 1,
                    "numSkippedStages": 0,
                    "numFailedStages": 0,
                    "killedTasksSummary": {}
                  },
                  {
                    "displayName": "runJob at SparkHadoopWriter.scala:85",
                    "dataWritten": 336,
                    "dataRead": 0,
                    "rowCount": 1,
                    "usageDescription": "",
                    "jobId": 147,
                    "name": "runJob at SparkHadoopWriter.scala:85",
                    "description": "Job group for statement 84:\n# save the model\nmodel.write().overwrite().save(\"Users/vankempenklaas/fall-2023-reddit-project-team-26/code/ml/model_files/popularity_model_v2\")",
                    "submissionTime": "2023-11-30T17:13:58.983GMT",
                    "completionTime": "2023-11-30T17:13:59.451GMT",
                    "stageIds": [
                      393
                    ],
                    "jobGroup": "84",
                    "status": "SUCCEEDED",
                    "numTasks": 1,
                    "numActiveTasks": 0,
                    "numCompletedTasks": 1,
                    "numSkippedTasks": 0,
                    "numFailedTasks": 0,
                    "numKilledTasks": 0,
                    "numCompletedIndices": 1,
                    "numActiveStages": 0,
                    "numCompletedStages": 1,
                    "numSkippedStages": 0,
                    "numFailedStages": 0,
                    "killedTasksSummary": {}
                  },
                  {
                    "displayName": "parquet at OneHotEncoder.scala:407",
                    "dataWritten": 589,
                    "dataRead": 74,
                    "rowCount": 2,
                    "usageDescription": "",
                    "jobId": 146,
                    "name": "parquet at OneHotEncoder.scala:407",
                    "description": "Job group for statement 84:\n# save the model\nmodel.write().overwrite().save(\"Users/vankempenklaas/fall-2023-reddit-project-team-26/code/ml/model_files/popularity_model_v2\")",
                    "submissionTime": "2023-11-30T17:13:57.905GMT",
                    "completionTime": "2023-11-30T17:13:58.572GMT",
                    "stageIds": [
                      391,
                      392
                    ],
                    "jobGroup": "84",
                    "status": "SUCCEEDED",
                    "numTasks": 2,
                    "numActiveTasks": 0,
                    "numCompletedTasks": 1,
                    "numSkippedTasks": 1,
                    "numFailedTasks": 0,
                    "numKilledTasks": 0,
                    "numCompletedIndices": 1,
                    "numActiveStages": 0,
                    "numCompletedStages": 1,
                    "numSkippedStages": 1,
                    "numFailedStages": 0,
                    "killedTasksSummary": {}
                  },
                  {
                    "displayName": "parquet at OneHotEncoder.scala:407",
                    "dataWritten": 74,
                    "dataRead": 0,
                    "rowCount": 1,
                    "usageDescription": "",
                    "jobId": 145,
                    "name": "parquet at OneHotEncoder.scala:407",
                    "description": "Job group for statement 84:\n# save the model\nmodel.write().overwrite().save(\"Users/vankempenklaas/fall-2023-reddit-project-team-26/code/ml/model_files/popularity_model_v2\")",
                    "submissionTime": "2023-11-30T17:13:57.836GMT",
                    "completionTime": "2023-11-30T17:13:57.856GMT",
                    "stageIds": [
                      390
                    ],
                    "jobGroup": "84",
                    "status": "SUCCEEDED",
                    "numTasks": 1,
                    "numActiveTasks": 0,
                    "numCompletedTasks": 1,
                    "numSkippedTasks": 0,
                    "numFailedTasks": 0,
                    "numKilledTasks": 0,
                    "numCompletedIndices": 1,
                    "numActiveStages": 0,
                    "numCompletedStages": 1,
                    "numSkippedStages": 0,
                    "numFailedStages": 0,
                    "killedTasksSummary": {}
                  },
                  {
                    "displayName": "runJob at SparkHadoopWriter.scala:85",
                    "dataWritten": 328,
                    "dataRead": 0,
                    "rowCount": 1,
                    "usageDescription": "",
                    "jobId": 144,
                    "name": "runJob at SparkHadoopWriter.scala:85",
                    "description": "Job group for statement 84:\n# save the model\nmodel.write().overwrite().save(\"Users/vankempenklaas/fall-2023-reddit-project-team-26/code/ml/model_files/popularity_model_v2\")",
                    "submissionTime": "2023-11-30T17:13:56.658GMT",
                    "completionTime": "2023-11-30T17:13:57.375GMT",
                    "stageIds": [
                      389
                    ],
                    "jobGroup": "84",
                    "status": "SUCCEEDED",
                    "numTasks": 1,
                    "numActiveTasks": 0,
                    "numCompletedTasks": 1,
                    "numSkippedTasks": 0,
                    "numFailedTasks": 0,
                    "numKilledTasks": 0,
                    "numCompletedIndices": 1,
                    "numActiveStages": 0,
                    "numCompletedStages": 1,
                    "numSkippedStages": 0,
                    "numFailedStages": 0,
                    "killedTasksSummary": {}
                  },
                  {
                    "displayName": "parquet at StringIndexer.scala:499",
                    "dataWritten": 665,
                    "dataRead": 104,
                    "rowCount": 2,
                    "usageDescription": "",
                    "jobId": 143,
                    "name": "parquet at StringIndexer.scala:499",
                    "description": "Job group for statement 84:\n# save the model\nmodel.write().overwrite().save(\"Users/vankempenklaas/fall-2023-reddit-project-team-26/code/ml/model_files/popularity_model_v2\")",
                    "submissionTime": "2023-11-30T17:13:55.622GMT",
                    "completionTime": "2023-11-30T17:13:56.229GMT",
                    "stageIds": [
                      387,
                      388
                    ],
                    "jobGroup": "84",
                    "status": "SUCCEEDED",
                    "numTasks": 2,
                    "numActiveTasks": 0,
                    "numCompletedTasks": 1,
                    "numSkippedTasks": 1,
                    "numFailedTasks": 0,
                    "numKilledTasks": 0,
                    "numCompletedIndices": 1,
                    "numActiveStages": 0,
                    "numCompletedStages": 1,
                    "numSkippedStages": 1,
                    "numFailedStages": 0,
                    "killedTasksSummary": {}
                  },
                  {
                    "displayName": "parquet at StringIndexer.scala:499",
                    "dataWritten": 104,
                    "dataRead": 0,
                    "rowCount": 1,
                    "usageDescription": "",
                    "jobId": 142,
                    "name": "parquet at StringIndexer.scala:499",
                    "description": "Job group for statement 84:\n# save the model\nmodel.write().overwrite().save(\"Users/vankempenklaas/fall-2023-reddit-project-team-26/code/ml/model_files/popularity_model_v2\")",
                    "submissionTime": "2023-11-30T17:13:55.556GMT",
                    "completionTime": "2023-11-30T17:13:55.573GMT",
                    "stageIds": [
                      386
                    ],
                    "jobGroup": "84",
                    "status": "SUCCEEDED",
                    "numTasks": 1,
                    "numActiveTasks": 0,
                    "numCompletedTasks": 1,
                    "numSkippedTasks": 0,
                    "numFailedTasks": 0,
                    "numKilledTasks": 0,
                    "numCompletedIndices": 1,
                    "numActiveStages": 0,
                    "numCompletedStages": 1,
                    "numSkippedStages": 0,
                    "numFailedStages": 0,
                    "killedTasksSummary": {}
                  },
                  {
                    "displayName": "runJob at SparkHadoopWriter.scala:85",
                    "dataWritten": 374,
                    "dataRead": 0,
                    "rowCount": 1,
                    "usageDescription": "",
                    "jobId": 141,
                    "name": "runJob at SparkHadoopWriter.scala:85",
                    "description": "Job group for statement 84:\n# save the model\nmodel.write().overwrite().save(\"Users/vankempenklaas/fall-2023-reddit-project-team-26/code/ml/model_files/popularity_model_v2\")",
                    "submissionTime": "2023-11-30T17:13:54.351GMT",
                    "completionTime": "2023-11-30T17:13:54.897GMT",
                    "stageIds": [
                      385
                    ],
                    "jobGroup": "84",
                    "status": "SUCCEEDED",
                    "numTasks": 1,
                    "numActiveTasks": 0,
                    "numCompletedTasks": 1,
                    "numSkippedTasks": 0,
                    "numFailedTasks": 0,
                    "numKilledTasks": 0,
                    "numCompletedIndices": 1,
                    "numActiveStages": 0,
                    "numCompletedStages": 1,
                    "numSkippedStages": 0,
                    "numFailedStages": 0,
                    "killedTasksSummary": {}
                  },
                  {
                    "displayName": "parquet at StringIndexer.scala:499",
                    "dataWritten": 697,
                    "dataRead": 155,
                    "rowCount": 2,
                    "usageDescription": "",
                    "jobId": 140,
                    "name": "parquet at StringIndexer.scala:499",
                    "description": "Job group for statement 84:\n# save the model\nmodel.write().overwrite().save(\"Users/vankempenklaas/fall-2023-reddit-project-team-26/code/ml/model_files/popularity_model_v2\")",
                    "submissionTime": "2023-11-30T17:13:52.937GMT",
                    "completionTime": "2023-11-30T17:13:53.921GMT",
                    "stageIds": [
                      383,
                      384
                    ],
                    "jobGroup": "84",
                    "status": "SUCCEEDED",
                    "numTasks": 2,
                    "numActiveTasks": 0,
                    "numCompletedTasks": 1,
                    "numSkippedTasks": 1,
                    "numFailedTasks": 0,
                    "numKilledTasks": 0,
                    "numCompletedIndices": 1,
                    "numActiveStages": 0,
                    "numCompletedStages": 1,
                    "numSkippedStages": 1,
                    "numFailedStages": 0,
                    "killedTasksSummary": {}
                  },
                  {
                    "displayName": "parquet at StringIndexer.scala:499",
                    "dataWritten": 155,
                    "dataRead": 0,
                    "rowCount": 1,
                    "usageDescription": "",
                    "jobId": 139,
                    "name": "parquet at StringIndexer.scala:499",
                    "description": "Job group for statement 84:\n# save the model\nmodel.write().overwrite().save(\"Users/vankempenklaas/fall-2023-reddit-project-team-26/code/ml/model_files/popularity_model_v2\")",
                    "submissionTime": "2023-11-30T17:13:52.873GMT",
                    "completionTime": "2023-11-30T17:13:52.891GMT",
                    "stageIds": [
                      382
                    ],
                    "jobGroup": "84",
                    "status": "SUCCEEDED",
                    "numTasks": 1,
                    "numActiveTasks": 0,
                    "numCompletedTasks": 1,
                    "numSkippedTasks": 0,
                    "numFailedTasks": 0,
                    "numKilledTasks": 0,
                    "numCompletedIndices": 1,
                    "numActiveStages": 0,
                    "numCompletedStages": 1,
                    "numSkippedStages": 0,
                    "numFailedStages": 0,
                    "killedTasksSummary": {}
                  },
                  {
                    "displayName": "runJob at SparkHadoopWriter.scala:85",
                    "dataWritten": 365,
                    "dataRead": 0,
                    "rowCount": 1,
                    "usageDescription": "",
                    "jobId": 138,
                    "name": "runJob at SparkHadoopWriter.scala:85",
                    "description": "Job group for statement 84:\n# save the model\nmodel.write().overwrite().save(\"Users/vankempenklaas/fall-2023-reddit-project-team-26/code/ml/model_files/popularity_model_v2\")",
                    "submissionTime": "2023-11-30T17:13:51.735GMT",
                    "completionTime": "2023-11-30T17:13:52.436GMT",
                    "stageIds": [
                      381
                    ],
                    "jobGroup": "84",
                    "status": "SUCCEEDED",
                    "numTasks": 1,
                    "numActiveTasks": 0,
                    "numCompletedTasks": 1,
                    "numSkippedTasks": 0,
                    "numFailedTasks": 0,
                    "numKilledTasks": 0,
                    "numCompletedIndices": 1,
                    "numActiveStages": 0,
                    "numCompletedStages": 1,
                    "numSkippedStages": 0,
                    "numFailedStages": 0,
                    "killedTasksSummary": {}
                  },
                  {
                    "displayName": "parquet at StringIndexer.scala:499",
                    "dataWritten": 723,
                    "dataRead": 123,
                    "rowCount": 2,
                    "usageDescription": "",
                    "jobId": 137,
                    "name": "parquet at StringIndexer.scala:499",
                    "description": "Job group for statement 84:\n# save the model\nmodel.write().overwrite().save(\"Users/vankempenklaas/fall-2023-reddit-project-team-26/code/ml/model_files/popularity_model_v2\")",
                    "submissionTime": "2023-11-30T17:13:50.472GMT",
                    "completionTime": "2023-11-30T17:13:51.215GMT",
                    "stageIds": [
                      379,
                      380
                    ],
                    "jobGroup": "84",
                    "status": "SUCCEEDED",
                    "numTasks": 2,
                    "numActiveTasks": 0,
                    "numCompletedTasks": 1,
                    "numSkippedTasks": 1,
                    "numFailedTasks": 0,
                    "numKilledTasks": 0,
                    "numCompletedIndices": 1,
                    "numActiveStages": 0,
                    "numCompletedStages": 1,
                    "numSkippedStages": 1,
                    "numFailedStages": 0,
                    "killedTasksSummary": {}
                  },
                  {
                    "displayName": "parquet at StringIndexer.scala:499",
                    "dataWritten": 123,
                    "dataRead": 0,
                    "rowCount": 1,
                    "usageDescription": "",
                    "jobId": 136,
                    "name": "parquet at StringIndexer.scala:499",
                    "description": "Job group for statement 84:\n# save the model\nmodel.write().overwrite().save(\"Users/vankempenklaas/fall-2023-reddit-project-team-26/code/ml/model_files/popularity_model_v2\")",
                    "submissionTime": "2023-11-30T17:13:50.410GMT",
                    "completionTime": "2023-11-30T17:13:50.428GMT",
                    "stageIds": [
                      378
                    ],
                    "jobGroup": "84",
                    "status": "SUCCEEDED",
                    "numTasks": 1,
                    "numActiveTasks": 0,
                    "numCompletedTasks": 1,
                    "numSkippedTasks": 0,
                    "numFailedTasks": 0,
                    "numKilledTasks": 0,
                    "numCompletedIndices": 1,
                    "numActiveStages": 0,
                    "numCompletedStages": 1,
                    "numSkippedStages": 0,
                    "numFailedStages": 0,
                    "killedTasksSummary": {}
                  }
                ],
                "limit": 20,
                "rule": "ALL_DESC"
              },
              "parent_msg_id": "0754942e-ab3b-4be4-93af-7526570f97fb"
            },
            "text/plain": "StatementMeta(d3c1b951-094c-48e1-919d-e32bc175397b, 48, 84, Finished, Available)"
          },
          "metadata": {}
        }
      ],
      "execution_count": 79,
      "metadata": {
        "jupyter": {
          "source_hidden": false,
          "outputs_hidden": false
        },
        "nteract": {
          "transient": {
            "deleting": false
          }
        },
        "gather": {
          "logged": 1701364446791
        }
      }
    },
    {
      "cell_type": "code",
      "source": [
        "# load the saved trained model\n",
        "loaded_model = PipelineModel.load(\"Users/vankempenklaas/fall-2023-reddit-project-team-26/code/ml/model_files/popularity_model_v2\")"
      ],
      "outputs": [
        {
          "output_type": "display_data",
          "data": {
            "application/vnd.livy.statement-meta+json": {
              "spark_pool": "d3c1b951-094c-48e1-919d-e32bc175397b",
              "session_id": "48",
              "statement_id": 120,
              "state": "finished",
              "livy_statement_state": "available",
              "queued_time": "2023-11-30T17:33:34.1138718Z",
              "session_start_time": null,
              "execution_start_time": "2023-11-30T17:33:34.2785827Z",
              "execution_finish_time": "2023-11-30T17:33:43.0732894Z",
              "spark_jobs": {
                "numbers": {
                  "FAILED": 0,
                  "RUNNING": 0,
                  "UNKNOWN": 0,
                  "SUCCEEDED": 30
                },
                "jobs": [
                  {
                    "displayName": "collect at treeModels.scala:549",
                    "dataWritten": 0,
                    "dataRead": 0,
                    "rowCount": 0,
                    "usageDescription": "",
                    "jobId": 232,
                    "name": "collect at treeModels.scala:549",
                    "description": "Job group for statement 120:\n# load the saved trained model\nloaded_model = PipelineModel.load(\"Users/vankempenklaas/fall-2023-reddit-project-team-26/code/ml/model_files/popularity_model_v2\")",
                    "submissionTime": "2023-11-30T17:33:39.687GMT",
                    "completionTime": "2023-11-30T17:33:40.287GMT",
                    "stageIds": [
                      531,
                      532,
                      533
                    ],
                    "jobGroup": "120",
                    "status": "SUCCEEDED",
                    "numTasks": 3,
                    "numActiveTasks": 0,
                    "numCompletedTasks": 3,
                    "numSkippedTasks": 0,
                    "numFailedTasks": 0,
                    "numKilledTasks": 0,
                    "numCompletedIndices": 3,
                    "numActiveStages": 0,
                    "numCompletedStages": 3,
                    "numSkippedStages": 0,
                    "numFailedStages": 0,
                    "killedTasksSummary": {}
                  },
                  {
                    "displayName": "parquet at treeModels.scala:532",
                    "dataWritten": 0,
                    "dataRead": 0,
                    "rowCount": 0,
                    "usageDescription": "",
                    "jobId": 231,
                    "name": "parquet at treeModels.scala:532",
                    "description": "Job group for statement 120:\n# load the saved trained model\nloaded_model = PipelineModel.load(\"Users/vankempenklaas/fall-2023-reddit-project-team-26/code/ml/model_files/popularity_model_v2\")",
                    "submissionTime": "2023-11-30T17:33:39.498GMT",
                    "completionTime": "2023-11-30T17:33:39.577GMT",
                    "stageIds": [
                      530
                    ],
                    "jobGroup": "120",
                    "status": "SUCCEEDED",
                    "numTasks": 1,
                    "numActiveTasks": 0,
                    "numCompletedTasks": 1,
                    "numSkippedTasks": 0,
                    "numFailedTasks": 0,
                    "numKilledTasks": 0,
                    "numCompletedIndices": 1,
                    "numActiveStages": 0,
                    "numCompletedStages": 1,
                    "numSkippedStages": 0,
                    "numFailedStages": 0,
                    "killedTasksSummary": {}
                  },
                  {
                    "displayName": "collect at treeModels.scala:527",
                    "dataWritten": 0,
                    "dataRead": 0,
                    "rowCount": 0,
                    "usageDescription": "",
                    "jobId": 230,
                    "name": "collect at treeModels.scala:527",
                    "description": "Job group for statement 120:\n# load the saved trained model\nloaded_model = PipelineModel.load(\"Users/vankempenklaas/fall-2023-reddit-project-team-26/code/ml/model_files/popularity_model_v2\")",
                    "submissionTime": "2023-11-30T17:33:39.047GMT",
                    "completionTime": "2023-11-30T17:33:39.370GMT",
                    "stageIds": [
                      528,
                      529
                    ],
                    "jobGroup": "120",
                    "status": "SUCCEEDED",
                    "numTasks": 2,
                    "numActiveTasks": 0,
                    "numCompletedTasks": 2,
                    "numSkippedTasks": 0,
                    "numFailedTasks": 0,
                    "numKilledTasks": 0,
                    "numCompletedIndices": 2,
                    "numActiveStages": 0,
                    "numCompletedStages": 2,
                    "numSkippedStages": 0,
                    "numFailedStages": 0,
                    "killedTasksSummary": {}
                  },
                  {
                    "displayName": "parquet at treeModels.scala:520",
                    "dataWritten": 0,
                    "dataRead": 0,
                    "rowCount": 0,
                    "usageDescription": "",
                    "jobId": 229,
                    "name": "parquet at treeModels.scala:520",
                    "description": "Job group for statement 120:\n# load the saved trained model\nloaded_model = PipelineModel.load(\"Users/vankempenklaas/fall-2023-reddit-project-team-26/code/ml/model_files/popularity_model_v2\")",
                    "submissionTime": "2023-11-30T17:33:38.831GMT",
                    "completionTime": "2023-11-30T17:33:38.907GMT",
                    "stageIds": [
                      527
                    ],
                    "jobGroup": "120",
                    "status": "SUCCEEDED",
                    "numTasks": 1,
                    "numActiveTasks": 0,
                    "numCompletedTasks": 1,
                    "numSkippedTasks": 0,
                    "numFailedTasks": 0,
                    "numKilledTasks": 0,
                    "numCompletedIndices": 1,
                    "numActiveStages": 0,
                    "numCompletedStages": 1,
                    "numSkippedStages": 0,
                    "numFailedStages": 0,
                    "killedTasksSummary": {}
                  },
                  {
                    "displayName": "first at ReadWrite.scala:587",
                    "dataWritten": 0,
                    "dataRead": 0,
                    "rowCount": 0,
                    "usageDescription": "",
                    "jobId": 228,
                    "name": "first at ReadWrite.scala:587",
                    "description": "Job group for statement 120:\n# load the saved trained model\nloaded_model = PipelineModel.load(\"Users/vankempenklaas/fall-2023-reddit-project-team-26/code/ml/model_files/popularity_model_v2\")",
                    "submissionTime": "2023-11-30T17:33:38.627GMT",
                    "completionTime": "2023-11-30T17:33:38.674GMT",
                    "stageIds": [
                      526
                    ],
                    "jobGroup": "120",
                    "status": "SUCCEEDED",
                    "numTasks": 1,
                    "numActiveTasks": 0,
                    "numCompletedTasks": 1,
                    "numSkippedTasks": 0,
                    "numFailedTasks": 0,
                    "numKilledTasks": 0,
                    "numCompletedIndices": 1,
                    "numActiveStages": 0,
                    "numCompletedStages": 1,
                    "numSkippedStages": 0,
                    "numFailedStages": 0,
                    "killedTasksSummary": {}
                  },
                  {
                    "displayName": "first at ReadWrite.scala:587",
                    "dataWritten": 0,
                    "dataRead": 0,
                    "rowCount": 0,
                    "usageDescription": "",
                    "jobId": 227,
                    "name": "first at ReadWrite.scala:587",
                    "description": "Job group for statement 120:\n# load the saved trained model\nloaded_model = PipelineModel.load(\"Users/vankempenklaas/fall-2023-reddit-project-team-26/code/ml/model_files/popularity_model_v2\")",
                    "submissionTime": "2023-11-30T17:33:38.493GMT",
                    "completionTime": "2023-11-30T17:33:38.537GMT",
                    "stageIds": [
                      525
                    ],
                    "jobGroup": "120",
                    "status": "SUCCEEDED",
                    "numTasks": 1,
                    "numActiveTasks": 0,
                    "numCompletedTasks": 1,
                    "numSkippedTasks": 0,
                    "numFailedTasks": 0,
                    "numKilledTasks": 0,
                    "numCompletedIndices": 1,
                    "numActiveStages": 0,
                    "numCompletedStages": 1,
                    "numSkippedStages": 0,
                    "numFailedStages": 0,
                    "killedTasksSummary": {}
                  },
                  {
                    "displayName": "first at ReadWrite.scala:587",
                    "dataWritten": 0,
                    "dataRead": 0,
                    "rowCount": 0,
                    "usageDescription": "",
                    "jobId": 226,
                    "name": "first at ReadWrite.scala:587",
                    "description": "Job group for statement 120:\n# load the saved trained model\nloaded_model = PipelineModel.load(\"Users/vankempenklaas/fall-2023-reddit-project-team-26/code/ml/model_files/popularity_model_v2\")",
                    "submissionTime": "2023-11-30T17:33:38.348GMT",
                    "completionTime": "2023-11-30T17:33:38.401GMT",
                    "stageIds": [
                      524
                    ],
                    "jobGroup": "120",
                    "status": "SUCCEEDED",
                    "numTasks": 1,
                    "numActiveTasks": 0,
                    "numCompletedTasks": 1,
                    "numSkippedTasks": 0,
                    "numFailedTasks": 0,
                    "numKilledTasks": 0,
                    "numCompletedIndices": 1,
                    "numActiveStages": 0,
                    "numCompletedStages": 1,
                    "numSkippedStages": 0,
                    "numFailedStages": 0,
                    "killedTasksSummary": {}
                  },
                  {
                    "displayName": "first at ReadWrite.scala:587",
                    "dataWritten": 0,
                    "dataRead": 0,
                    "rowCount": 0,
                    "usageDescription": "",
                    "jobId": 225,
                    "name": "first at ReadWrite.scala:587",
                    "description": "Job group for statement 120:\n# load the saved trained model\nloaded_model = PipelineModel.load(\"Users/vankempenklaas/fall-2023-reddit-project-team-26/code/ml/model_files/popularity_model_v2\")",
                    "submissionTime": "2023-11-30T17:33:38.229GMT",
                    "completionTime": "2023-11-30T17:33:38.277GMT",
                    "stageIds": [
                      523
                    ],
                    "jobGroup": "120",
                    "status": "SUCCEEDED",
                    "numTasks": 1,
                    "numActiveTasks": 0,
                    "numCompletedTasks": 1,
                    "numSkippedTasks": 0,
                    "numFailedTasks": 0,
                    "numKilledTasks": 0,
                    "numCompletedIndices": 1,
                    "numActiveStages": 0,
                    "numCompletedStages": 1,
                    "numSkippedStages": 0,
                    "numFailedStages": 0,
                    "killedTasksSummary": {}
                  },
                  {
                    "displayName": "head at OneHotEncoder.scala:419",
                    "dataWritten": 0,
                    "dataRead": 0,
                    "rowCount": 0,
                    "usageDescription": "",
                    "jobId": 224,
                    "name": "head at OneHotEncoder.scala:419",
                    "description": "Job group for statement 120:\n# load the saved trained model\nloaded_model = PipelineModel.load(\"Users/vankempenklaas/fall-2023-reddit-project-team-26/code/ml/model_files/popularity_model_v2\")",
                    "submissionTime": "2023-11-30T17:33:38.046GMT",
                    "completionTime": "2023-11-30T17:33:38.161GMT",
                    "stageIds": [
                      522
                    ],
                    "jobGroup": "120",
                    "status": "SUCCEEDED",
                    "numTasks": 1,
                    "numActiveTasks": 0,
                    "numCompletedTasks": 1,
                    "numSkippedTasks": 0,
                    "numFailedTasks": 0,
                    "numKilledTasks": 0,
                    "numCompletedIndices": 1,
                    "numActiveStages": 0,
                    "numCompletedStages": 1,
                    "numSkippedStages": 0,
                    "numFailedStages": 0,
                    "killedTasksSummary": {}
                  },
                  {
                    "displayName": "parquet at OneHotEncoder.scala:418",
                    "dataWritten": 0,
                    "dataRead": 0,
                    "rowCount": 0,
                    "usageDescription": "",
                    "jobId": 223,
                    "name": "parquet at OneHotEncoder.scala:418",
                    "description": "Job group for statement 120:\n# load the saved trained model\nloaded_model = PipelineModel.load(\"Users/vankempenklaas/fall-2023-reddit-project-team-26/code/ml/model_files/popularity_model_v2\")",
                    "submissionTime": "2023-11-30T17:33:37.935GMT",
                    "completionTime": "2023-11-30T17:33:38.000GMT",
                    "stageIds": [
                      521
                    ],
                    "jobGroup": "120",
                    "status": "SUCCEEDED",
                    "numTasks": 1,
                    "numActiveTasks": 0,
                    "numCompletedTasks": 1,
                    "numSkippedTasks": 0,
                    "numFailedTasks": 0,
                    "numKilledTasks": 0,
                    "numCompletedIndices": 1,
                    "numActiveStages": 0,
                    "numCompletedStages": 1,
                    "numSkippedStages": 0,
                    "numFailedStages": 0,
                    "killedTasksSummary": {}
                  },
                  {
                    "displayName": "first at ReadWrite.scala:587",
                    "dataWritten": 0,
                    "dataRead": 0,
                    "rowCount": 0,
                    "usageDescription": "",
                    "jobId": 222,
                    "name": "first at ReadWrite.scala:587",
                    "description": "Job group for statement 120:\n# load the saved trained model\nloaded_model = PipelineModel.load(\"Users/vankempenklaas/fall-2023-reddit-project-team-26/code/ml/model_files/popularity_model_v2\")",
                    "submissionTime": "2023-11-30T17:33:37.745GMT",
                    "completionTime": "2023-11-30T17:33:37.791GMT",
                    "stageIds": [
                      520
                    ],
                    "jobGroup": "120",
                    "status": "SUCCEEDED",
                    "numTasks": 1,
                    "numActiveTasks": 0,
                    "numCompletedTasks": 1,
                    "numSkippedTasks": 0,
                    "numFailedTasks": 0,
                    "numKilledTasks": 0,
                    "numCompletedIndices": 1,
                    "numActiveStages": 0,
                    "numCompletedStages": 1,
                    "numSkippedStages": 0,
                    "numFailedStages": 0,
                    "killedTasksSummary": {}
                  },
                  {
                    "displayName": "first at ReadWrite.scala:587",
                    "dataWritten": 0,
                    "dataRead": 0,
                    "rowCount": 0,
                    "usageDescription": "",
                    "jobId": 221,
                    "name": "first at ReadWrite.scala:587",
                    "description": "Job group for statement 120:\n# load the saved trained model\nloaded_model = PipelineModel.load(\"Users/vankempenklaas/fall-2023-reddit-project-team-26/code/ml/model_files/popularity_model_v2\")",
                    "submissionTime": "2023-11-30T17:33:37.620GMT",
                    "completionTime": "2023-11-30T17:33:37.676GMT",
                    "stageIds": [
                      519
                    ],
                    "jobGroup": "120",
                    "status": "SUCCEEDED",
                    "numTasks": 1,
                    "numActiveTasks": 0,
                    "numCompletedTasks": 1,
                    "numSkippedTasks": 0,
                    "numFailedTasks": 0,
                    "numKilledTasks": 0,
                    "numCompletedIndices": 1,
                    "numActiveStages": 0,
                    "numCompletedStages": 1,
                    "numSkippedStages": 0,
                    "numFailedStages": 0,
                    "killedTasksSummary": {}
                  },
                  {
                    "displayName": "head at OneHotEncoder.scala:419",
                    "dataWritten": 0,
                    "dataRead": 0,
                    "rowCount": 0,
                    "usageDescription": "",
                    "jobId": 220,
                    "name": "head at OneHotEncoder.scala:419",
                    "description": "Job group for statement 120:\n# load the saved trained model\nloaded_model = PipelineModel.load(\"Users/vankempenklaas/fall-2023-reddit-project-team-26/code/ml/model_files/popularity_model_v2\")",
                    "submissionTime": "2023-11-30T17:33:37.424GMT",
                    "completionTime": "2023-11-30T17:33:37.553GMT",
                    "stageIds": [
                      518
                    ],
                    "jobGroup": "120",
                    "status": "SUCCEEDED",
                    "numTasks": 1,
                    "numActiveTasks": 0,
                    "numCompletedTasks": 1,
                    "numSkippedTasks": 0,
                    "numFailedTasks": 0,
                    "numKilledTasks": 0,
                    "numCompletedIndices": 1,
                    "numActiveStages": 0,
                    "numCompletedStages": 1,
                    "numSkippedStages": 0,
                    "numFailedStages": 0,
                    "killedTasksSummary": {}
                  },
                  {
                    "displayName": "parquet at OneHotEncoder.scala:418",
                    "dataWritten": 0,
                    "dataRead": 0,
                    "rowCount": 0,
                    "usageDescription": "",
                    "jobId": 219,
                    "name": "parquet at OneHotEncoder.scala:418",
                    "description": "Job group for statement 120:\n# load the saved trained model\nloaded_model = PipelineModel.load(\"Users/vankempenklaas/fall-2023-reddit-project-team-26/code/ml/model_files/popularity_model_v2\")",
                    "submissionTime": "2023-11-30T17:33:37.309GMT",
                    "completionTime": "2023-11-30T17:33:37.380GMT",
                    "stageIds": [
                      517
                    ],
                    "jobGroup": "120",
                    "status": "SUCCEEDED",
                    "numTasks": 1,
                    "numActiveTasks": 0,
                    "numCompletedTasks": 1,
                    "numSkippedTasks": 0,
                    "numFailedTasks": 0,
                    "numKilledTasks": 0,
                    "numCompletedIndices": 1,
                    "numActiveStages": 0,
                    "numCompletedStages": 1,
                    "numSkippedStages": 0,
                    "numFailedStages": 0,
                    "killedTasksSummary": {}
                  },
                  {
                    "displayName": "first at ReadWrite.scala:587",
                    "dataWritten": 0,
                    "dataRead": 0,
                    "rowCount": 0,
                    "usageDescription": "",
                    "jobId": 218,
                    "name": "first at ReadWrite.scala:587",
                    "description": "Job group for statement 120:\n# load the saved trained model\nloaded_model = PipelineModel.load(\"Users/vankempenklaas/fall-2023-reddit-project-team-26/code/ml/model_files/popularity_model_v2\")",
                    "submissionTime": "2023-11-30T17:33:37.132GMT",
                    "completionTime": "2023-11-30T17:33:37.179GMT",
                    "stageIds": [
                      516
                    ],
                    "jobGroup": "120",
                    "status": "SUCCEEDED",
                    "numTasks": 1,
                    "numActiveTasks": 0,
                    "numCompletedTasks": 1,
                    "numSkippedTasks": 0,
                    "numFailedTasks": 0,
                    "numKilledTasks": 0,
                    "numCompletedIndices": 1,
                    "numActiveStages": 0,
                    "numCompletedStages": 1,
                    "numSkippedStages": 0,
                    "numFailedStages": 0,
                    "killedTasksSummary": {}
                  },
                  {
                    "displayName": "first at ReadWrite.scala:587",
                    "dataWritten": 0,
                    "dataRead": 0,
                    "rowCount": 0,
                    "usageDescription": "",
                    "jobId": 217,
                    "name": "first at ReadWrite.scala:587",
                    "description": "Job group for statement 120:\n# load the saved trained model\nloaded_model = PipelineModel.load(\"Users/vankempenklaas/fall-2023-reddit-project-team-26/code/ml/model_files/popularity_model_v2\")",
                    "submissionTime": "2023-11-30T17:33:36.999GMT",
                    "completionTime": "2023-11-30T17:33:37.048GMT",
                    "stageIds": [
                      515
                    ],
                    "jobGroup": "120",
                    "status": "SUCCEEDED",
                    "numTasks": 1,
                    "numActiveTasks": 0,
                    "numCompletedTasks": 1,
                    "numSkippedTasks": 0,
                    "numFailedTasks": 0,
                    "numKilledTasks": 0,
                    "numCompletedIndices": 1,
                    "numActiveStages": 0,
                    "numCompletedStages": 1,
                    "numSkippedStages": 0,
                    "numFailedStages": 0,
                    "killedTasksSummary": {}
                  },
                  {
                    "displayName": "head at StringIndexer.scala:524",
                    "dataWritten": 0,
                    "dataRead": 0,
                    "rowCount": 0,
                    "usageDescription": "",
                    "jobId": 216,
                    "name": "head at StringIndexer.scala:524",
                    "description": "Job group for statement 120:\n# load the saved trained model\nloaded_model = PipelineModel.load(\"Users/vankempenklaas/fall-2023-reddit-project-team-26/code/ml/model_files/popularity_model_v2\")",
                    "submissionTime": "2023-11-30T17:33:36.840GMT",
                    "completionTime": "2023-11-30T17:33:36.930GMT",
                    "stageIds": [
                      514
                    ],
                    "jobGroup": "120",
                    "status": "SUCCEEDED",
                    "numTasks": 1,
                    "numActiveTasks": 0,
                    "numCompletedTasks": 1,
                    "numSkippedTasks": 0,
                    "numFailedTasks": 0,
                    "numKilledTasks": 0,
                    "numCompletedIndices": 1,
                    "numActiveStages": 0,
                    "numCompletedStages": 1,
                    "numSkippedStages": 0,
                    "numFailedStages": 0,
                    "killedTasksSummary": {}
                  },
                  {
                    "displayName": "parquet at StringIndexer.scala:523",
                    "dataWritten": 0,
                    "dataRead": 0,
                    "rowCount": 0,
                    "usageDescription": "",
                    "jobId": 215,
                    "name": "parquet at StringIndexer.scala:523",
                    "description": "Job group for statement 120:\n# load the saved trained model\nloaded_model = PipelineModel.load(\"Users/vankempenklaas/fall-2023-reddit-project-team-26/code/ml/model_files/popularity_model_v2\")",
                    "submissionTime": "2023-11-30T17:33:36.678GMT",
                    "completionTime": "2023-11-30T17:33:36.795GMT",
                    "stageIds": [
                      513
                    ],
                    "jobGroup": "120",
                    "status": "SUCCEEDED",
                    "numTasks": 1,
                    "numActiveTasks": 0,
                    "numCompletedTasks": 1,
                    "numSkippedTasks": 0,
                    "numFailedTasks": 0,
                    "numKilledTasks": 0,
                    "numCompletedIndices": 1,
                    "numActiveStages": 0,
                    "numCompletedStages": 1,
                    "numSkippedStages": 0,
                    "numFailedStages": 0,
                    "killedTasksSummary": {}
                  },
                  {
                    "displayName": "first at ReadWrite.scala:587",
                    "dataWritten": 0,
                    "dataRead": 0,
                    "rowCount": 0,
                    "usageDescription": "",
                    "jobId": 214,
                    "name": "first at ReadWrite.scala:587",
                    "description": "Job group for statement 120:\n# load the saved trained model\nloaded_model = PipelineModel.load(\"Users/vankempenklaas/fall-2023-reddit-project-team-26/code/ml/model_files/popularity_model_v2\")",
                    "submissionTime": "2023-11-30T17:33:36.483GMT",
                    "completionTime": "2023-11-30T17:33:36.535GMT",
                    "stageIds": [
                      512
                    ],
                    "jobGroup": "120",
                    "status": "SUCCEEDED",
                    "numTasks": 1,
                    "numActiveTasks": 0,
                    "numCompletedTasks": 1,
                    "numSkippedTasks": 0,
                    "numFailedTasks": 0,
                    "numKilledTasks": 0,
                    "numCompletedIndices": 1,
                    "numActiveStages": 0,
                    "numCompletedStages": 1,
                    "numSkippedStages": 0,
                    "numFailedStages": 0,
                    "killedTasksSummary": {}
                  },
                  {
                    "displayName": "first at ReadWrite.scala:587",
                    "dataWritten": 0,
                    "dataRead": 0,
                    "rowCount": 0,
                    "usageDescription": "",
                    "jobId": 213,
                    "name": "first at ReadWrite.scala:587",
                    "description": "Job group for statement 120:\n# load the saved trained model\nloaded_model = PipelineModel.load(\"Users/vankempenklaas/fall-2023-reddit-project-team-26/code/ml/model_files/popularity_model_v2\")",
                    "submissionTime": "2023-11-30T17:33:36.303GMT",
                    "completionTime": "2023-11-30T17:33:36.416GMT",
                    "stageIds": [
                      511
                    ],
                    "jobGroup": "120",
                    "status": "SUCCEEDED",
                    "numTasks": 1,
                    "numActiveTasks": 0,
                    "numCompletedTasks": 1,
                    "numSkippedTasks": 0,
                    "numFailedTasks": 0,
                    "numKilledTasks": 0,
                    "numCompletedIndices": 1,
                    "numActiveStages": 0,
                    "numCompletedStages": 1,
                    "numSkippedStages": 0,
                    "numFailedStages": 0,
                    "killedTasksSummary": {}
                  }
                ],
                "limit": 20,
                "rule": "ALL_DESC"
              },
              "parent_msg_id": "8febb746-1115-4cfa-a549-9745fb1b2391"
            },
            "text/plain": "StatementMeta(d3c1b951-094c-48e1-919d-e32bc175397b, 48, 120, Finished, Available)"
          },
          "metadata": {}
        }
      ],
      "execution_count": 115,
      "metadata": {
        "jupyter": {
          "source_hidden": false,
          "outputs_hidden": false
        },
        "nteract": {
          "transient": {
            "deleting": false
          }
        },
        "gather": {
          "logged": 1701365623211
        }
      }
    },
    {
      "cell_type": "code",
      "source": [
        "# make predictions using the saved model on the test data\n",
        "predictions = loaded_model.transform(test_data)"
      ],
      "outputs": [
        {
          "output_type": "display_data",
          "data": {
            "application/vnd.livy.statement-meta+json": {
              "spark_pool": "d3c1b951-094c-48e1-919d-e32bc175397b",
              "session_id": "48",
              "statement_id": 121,
              "state": "finished",
              "livy_statement_state": "available",
              "queued_time": "2023-11-30T17:33:44.6016338Z",
              "session_start_time": null,
              "execution_start_time": "2023-11-30T17:33:44.740559Z",
              "execution_finish_time": "2023-11-30T17:33:49.0179685Z",
              "spark_jobs": {
                "numbers": {
                  "FAILED": 0,
                  "RUNNING": 0,
                  "UNKNOWN": 0,
                  "SUCCEEDED": 0
                },
                "jobs": [],
                "limit": 20,
                "rule": "ALL_DESC"
              },
              "parent_msg_id": "167fb4bb-6b8c-4ede-833a-d110360934ac"
            },
            "text/plain": "StatementMeta(d3c1b951-094c-48e1-919d-e32bc175397b, 48, 121, Finished, Available)"
          },
          "metadata": {}
        }
      ],
      "execution_count": 116,
      "metadata": {
        "jupyter": {
          "source_hidden": false,
          "outputs_hidden": false
        },
        "nteract": {
          "transient": {
            "deleting": false
          }
        },
        "gather": {
          "logged": 1701365629185
        }
      }
    },
    {
      "cell_type": "code",
      "source": [
        "# evaluate the model using RMSE \n",
        "evaluator = RegressionEvaluator(labelCol=\"score\", predictionCol=\"prediction\", metricName=\"rmse\")\n",
        "rmse = evaluator.evaluate(predictions)\n",
        "print(\"Root Mean Squared Error (RMSE) on test data = {:.2f}\".format(rmse))"
      ],
      "outputs": [
        {
          "output_type": "display_data",
          "data": {
            "application/vnd.livy.statement-meta+json": {
              "spark_pool": "d3c1b951-094c-48e1-919d-e32bc175397b",
              "session_id": "48",
              "statement_id": 122,
              "state": "finished",
              "livy_statement_state": "available",
              "queued_time": "2023-11-30T17:33:51.0890892Z",
              "session_start_time": null,
              "execution_start_time": "2023-11-30T17:33:51.2551882Z",
              "execution_finish_time": "2023-11-30T17:33:58.2893586Z",
              "spark_jobs": {
                "numbers": {
                  "FAILED": 0,
                  "RUNNING": 0,
                  "UNKNOWN": 0,
                  "SUCCEEDED": 2
                },
                "jobs": [
                  {
                    "displayName": "treeAggregate at Statistics.scala:58",
                    "dataWritten": 0,
                    "dataRead": 0,
                    "rowCount": 0,
                    "usageDescription": "",
                    "jobId": 234,
                    "name": "treeAggregate at Statistics.scala:58",
                    "description": "Job group for statement 122:\n# evaluate the model using RMSE \nevaluator = RegressionEvaluator(labelCol=\"score\", predictionCol=\"prediction\", metricName=\"rmse\")\nrmse = evaluator.evaluate(predictions)\nprint(\"Root Mean Squared Error (RMSE) on test data = {:.2f}\".format(rmse))",
                    "submissionTime": "2023-11-30T17:33:56.529GMT",
                    "completionTime": "2023-11-30T17:33:57.664GMT",
                    "stageIds": [
                      538,
                      539,
                      540,
                      537,
                      541
                    ],
                    "jobGroup": "122",
                    "status": "SUCCEEDED",
                    "numTasks": 237,
                    "numActiveTasks": 0,
                    "numCompletedTasks": 20,
                    "numSkippedTasks": 217,
                    "numFailedTasks": 0,
                    "numKilledTasks": 0,
                    "numCompletedIndices": 20,
                    "numActiveStages": 0,
                    "numCompletedStages": 2,
                    "numSkippedStages": 3,
                    "numFailedStages": 0,
                    "killedTasksSummary": {}
                  },
                  {
                    "displayName": "rdd at RegressionEvaluator.scala:125",
                    "dataWritten": 0,
                    "dataRead": 0,
                    "rowCount": 0,
                    "usageDescription": "",
                    "jobId": 233,
                    "name": "rdd at RegressionEvaluator.scala:125",
                    "description": "Job group for statement 122:\n# evaluate the model using RMSE \nevaluator = RegressionEvaluator(labelCol=\"score\", predictionCol=\"prediction\", metricName=\"rmse\")\nrmse = evaluator.evaluate(predictions)\nprint(\"Root Mean Squared Error (RMSE) on test data = {:.2f}\".format(rmse))",
                    "submissionTime": "2023-11-30T17:33:51.325GMT",
                    "completionTime": "2023-11-30T17:33:56.450GMT",
                    "stageIds": [
                      535,
                      536,
                      534
                    ],
                    "jobGroup": "122",
                    "status": "SUCCEEDED",
                    "numTasks": 217,
                    "numActiveTasks": 0,
                    "numCompletedTasks": 200,
                    "numSkippedTasks": 17,
                    "numFailedTasks": 0,
                    "numKilledTasks": 0,
                    "numCompletedIndices": 200,
                    "numActiveStages": 0,
                    "numCompletedStages": 1,
                    "numSkippedStages": 2,
                    "numFailedStages": 0,
                    "killedTasksSummary": {}
                  }
                ],
                "limit": 20,
                "rule": "ALL_DESC"
              },
              "parent_msg_id": "f1fd3f7c-4928-4b1b-b6a2-2255b13fae20"
            },
            "text/plain": "StatementMeta(d3c1b951-094c-48e1-919d-e32bc175397b, 48, 122, Finished, Available)"
          },
          "metadata": {}
        },
        {
          "output_type": "stream",
          "name": "stdout",
          "text": "Root Mean Squared Error (RMSE) on test data = 37.55\n"
        }
      ],
      "execution_count": 117,
      "metadata": {
        "jupyter": {
          "source_hidden": false,
          "outputs_hidden": false
        },
        "nteract": {
          "transient": {
            "deleting": false
          }
        },
        "gather": {
          "logged": 1701365638469
        }
      }
    },
    {
      "cell_type": "code",
      "source": [
        "# downsample the predictions to get ~10,000 rows to visualize \n",
        "predictions_df = predictions.sample(fraction = 0.07, seed = 92).select(\"prediction\").toPandas()\n",
        "true_labels_df = predictions.sample(fraction = 0.07, seed = 92).select(\"score\").toPandas()"
      ],
      "outputs": [
        {
          "output_type": "display_data",
          "data": {
            "application/vnd.livy.statement-meta+json": {
              "spark_pool": "d3c1b951-094c-48e1-919d-e32bc175397b",
              "session_id": "48",
              "statement_id": 130,
              "state": "finished",
              "livy_statement_state": "available",
              "queued_time": "2023-11-30T17:37:43.6055797Z",
              "session_start_time": null,
              "execution_start_time": "2023-11-30T17:37:43.7497855Z",
              "execution_finish_time": "2023-11-30T17:38:00.4625828Z",
              "spark_jobs": {
                "numbers": {
                  "FAILED": 0,
                  "RUNNING": 0,
                  "UNKNOWN": 0,
                  "SUCCEEDED": 4
                },
                "jobs": [
                  {
                    "displayName": "toPandas at /tmp/ipykernel_7828/3721980617.py:3",
                    "dataWritten": 0,
                    "dataRead": 0,
                    "rowCount": 0,
                    "usageDescription": "",
                    "jobId": 247,
                    "name": "toPandas at /tmp/ipykernel_7828/3721980617.py:3",
                    "description": "Job group for statement 130:\n# downsample the predictions to get ~10,000 rows to visualize \npredictions_df = predictions.sample(fraction = 0.07, seed = 92).select(\"prediction\").toPandas()\ntrue_labels_df = predictions.sample(fraction = 0.07, seed = 92).select(\"score\").toPandas()",
                    "submissionTime": "2023-11-30T17:37:57.752GMT",
                    "completionTime": "2023-11-30T17:37:58.448GMT",
                    "stageIds": [
                      586,
                      583,
                      584,
                      585
                    ],
                    "jobGroup": "130",
                    "status": "SUCCEEDED",
                    "numTasks": 234,
                    "numActiveTasks": 0,
                    "numCompletedTasks": 17,
                    "numSkippedTasks": 217,
                    "numFailedTasks": 0,
                    "numKilledTasks": 0,
                    "numCompletedIndices": 17,
                    "numActiveStages": 0,
                    "numCompletedStages": 1,
                    "numSkippedStages": 3,
                    "numFailedStages": 0,
                    "killedTasksSummary": {}
                  },
                  {
                    "displayName": "toPandas at /tmp/ipykernel_7828/3721980617.py:3",
                    "dataWritten": 0,
                    "dataRead": 0,
                    "rowCount": 0,
                    "usageDescription": "",
                    "jobId": 246,
                    "name": "toPandas at /tmp/ipykernel_7828/3721980617.py:3",
                    "description": "Job group for statement 130:\n# downsample the predictions to get ~10,000 rows to visualize \npredictions_df = predictions.sample(fraction = 0.07, seed = 92).select(\"prediction\").toPandas()\ntrue_labels_df = predictions.sample(fraction = 0.07, seed = 92).select(\"score\").toPandas()",
                    "submissionTime": "2023-11-30T17:37:53.834GMT",
                    "completionTime": "2023-11-30T17:37:57.719GMT",
                    "stageIds": [
                      582,
                      580,
                      581
                    ],
                    "jobGroup": "130",
                    "status": "SUCCEEDED",
                    "numTasks": 217,
                    "numActiveTasks": 0,
                    "numCompletedTasks": 200,
                    "numSkippedTasks": 17,
                    "numFailedTasks": 0,
                    "numKilledTasks": 0,
                    "numCompletedIndices": 200,
                    "numActiveStages": 0,
                    "numCompletedStages": 1,
                    "numSkippedStages": 2,
                    "numFailedStages": 0,
                    "killedTasksSummary": {}
                  },
                  {
                    "displayName": "toPandas at /tmp/ipykernel_7828/3721980617.py:2",
                    "dataWritten": 0,
                    "dataRead": 0,
                    "rowCount": 0,
                    "usageDescription": "",
                    "jobId": 245,
                    "name": "toPandas at /tmp/ipykernel_7828/3721980617.py:2",
                    "description": "Job group for statement 130:\n# downsample the predictions to get ~10,000 rows to visualize \npredictions_df = predictions.sample(fraction = 0.07, seed = 92).select(\"prediction\").toPandas()\ntrue_labels_df = predictions.sample(fraction = 0.07, seed = 92).select(\"score\").toPandas()",
                    "submissionTime": "2023-11-30T17:37:52.186GMT",
                    "completionTime": "2023-11-30T17:37:53.721GMT",
                    "stageIds": [
                      578,
                      579,
                      576,
                      577
                    ],
                    "jobGroup": "130",
                    "status": "SUCCEEDED",
                    "numTasks": 234,
                    "numActiveTasks": 0,
                    "numCompletedTasks": 17,
                    "numSkippedTasks": 217,
                    "numFailedTasks": 0,
                    "numKilledTasks": 0,
                    "numCompletedIndices": 17,
                    "numActiveStages": 0,
                    "numCompletedStages": 1,
                    "numSkippedStages": 3,
                    "numFailedStages": 0,
                    "killedTasksSummary": {}
                  },
                  {
                    "displayName": "toPandas at /tmp/ipykernel_7828/3721980617.py:2",
                    "dataWritten": 0,
                    "dataRead": 0,
                    "rowCount": 0,
                    "usageDescription": "",
                    "jobId": 244,
                    "name": "toPandas at /tmp/ipykernel_7828/3721980617.py:2",
                    "description": "Job group for statement 130:\n# downsample the predictions to get ~10,000 rows to visualize \npredictions_df = predictions.sample(fraction = 0.07, seed = 92).select(\"prediction\").toPandas()\ntrue_labels_df = predictions.sample(fraction = 0.07, seed = 92).select(\"score\").toPandas()",
                    "submissionTime": "2023-11-30T17:37:43.824GMT",
                    "completionTime": "2023-11-30T17:37:52.101GMT",
                    "stageIds": [
                      574,
                      575,
                      573
                    ],
                    "jobGroup": "130",
                    "status": "SUCCEEDED",
                    "numTasks": 217,
                    "numActiveTasks": 0,
                    "numCompletedTasks": 200,
                    "numSkippedTasks": 17,
                    "numFailedTasks": 0,
                    "numKilledTasks": 0,
                    "numCompletedIndices": 200,
                    "numActiveStages": 0,
                    "numCompletedStages": 1,
                    "numSkippedStages": 2,
                    "numFailedStages": 0,
                    "killedTasksSummary": {}
                  }
                ],
                "limit": 20,
                "rule": "ALL_DESC"
              },
              "parent_msg_id": "2242f619-d155-45c0-a472-dfc7679d559e"
            },
            "text/plain": "StatementMeta(d3c1b951-094c-48e1-919d-e32bc175397b, 48, 130, Finished, Available)"
          },
          "metadata": {}
        }
      ],
      "execution_count": 125,
      "metadata": {
        "jupyter": {
          "source_hidden": false,
          "outputs_hidden": false
        },
        "nteract": {
          "transient": {
            "deleting": false
          }
        },
        "gather": {
          "logged": 1701365880556
        }
      }
    },
    {
      "cell_type": "code",
      "source": [
        "# plot true values against predicted values\n",
        "plt.scatter(true_labels_df, predictions_df, alpha=0.5, s = 10, c = [\"darkgreen\"])\n",
        "plt.title(\"True vs Predicted Score (Less Complex Model)\\n\", fontsize = 16)\n",
        "plt.xlabel(\"True Score \\n\\n (X axis limited to -20 to 80 for readability)\", fontsize = 14)\n",
        "plt.ylabel(\"Predicted Score\", fontsize = 14)\n",
        "plt.ylim([0,40])\n",
        "plt.xlim([-25,80])\n",
        "plt.xticks(fontsize = 12)\n",
        "plt.yticks(fontsize = 12)\n",
        "plt.savefig(\"Users/vankempenklaas/fall-2023-reddit-project-team-26/data/plots/ml_q1_simplemodel_plot.png\")\n",
        "plt.show()"
      ],
      "outputs": [
        {
          "output_type": "display_data",
          "data": {
            "application/vnd.livy.statement-meta+json": {
              "spark_pool": "d3c1b951-094c-48e1-919d-e32bc175397b",
              "session_id": "48",
              "statement_id": 131,
              "state": "finished",
              "livy_statement_state": "available",
              "queued_time": "2023-11-30T17:38:06.7722227Z",
              "session_start_time": null,
              "execution_start_time": "2023-11-30T17:38:06.9573118Z",
              "execution_finish_time": "2023-11-30T17:38:07.8504236Z",
              "spark_jobs": {
                "numbers": {
                  "FAILED": 0,
                  "RUNNING": 0,
                  "UNKNOWN": 0,
                  "SUCCEEDED": 0
                },
                "jobs": [],
                "limit": 20,
                "rule": "ALL_DESC"
              },
              "parent_msg_id": "a8b1835f-3a6a-4733-8e12-22730dca1020"
            },
            "text/plain": "StatementMeta(d3c1b951-094c-48e1-919d-e32bc175397b, 48, 131, Finished, Available)"
          },
          "metadata": {}
        },
        {
          "output_type": "display_data",
          "data": {
            "text/plain": "<Figure size 432x288 with 1 Axes>",
            "image/png": "[encoded data removed]"
          },
          "metadata": {
            "needs_background": "light"
          }
        }
      ],
      "execution_count": 126,
      "metadata": {
        "jupyter": {
          "source_hidden": false,
          "outputs_hidden": false
        },
        "nteract": {
          "transient": {
            "deleting": false
          }
        },
        "gather": {
          "logged": 1701365888083
        }
      }
    },
    {
      "cell_type": "markdown",
      "source": [
        "#### Version 2\n",
        "\n",
        "Increasing the number of trees in the random forest from 50 to 200 to give the model more complexity. Also increasing the max depth from 5 to 10 to increase complexity as well. "
      ],
      "metadata": {
        "nteract": {
          "transient": {
            "deleting": false
          }
        }
      }
    },
    {
      "cell_type": "code",
      "source": [
        "rf_v2 = RandomForestRegressor(featuresCol=\"features\", labelCol=\"score\", maxDepth=10, numTrees=200)"
      ],
      "outputs": [
        {
          "output_type": "display_data",
          "data": {
            "application/vnd.livy.statement-meta+json": {
              "spark_pool": "d3c1b951-094c-48e1-919d-e32bc175397b",
              "session_id": "48",
              "statement_id": 68,
              "state": "finished",
              "livy_statement_state": "available",
              "queued_time": "2023-11-30T17:05:21.196447Z",
              "session_start_time": null,
              "execution_start_time": "2023-11-30T17:05:22.8925135Z",
              "execution_finish_time": "2023-11-30T17:05:23.1870993Z",
              "spark_jobs": {
                "numbers": {
                  "FAILED": 0,
                  "RUNNING": 0,
                  "UNKNOWN": 0,
                  "SUCCEEDED": 0
                },
                "jobs": [],
                "limit": 20,
                "rule": "ALL_DESC"
              },
              "parent_msg_id": "cb36c6f4-466b-4d97-8be9-8e0b7475afec"
            },
            "text/plain": "StatementMeta(d3c1b951-094c-48e1-919d-e32bc175397b, 48, 68, Finished, Available)"
          },
          "metadata": {}
        }
      ],
      "execution_count": 63,
      "metadata": {
        "jupyter": {
          "source_hidden": false,
          "outputs_hidden": false
        },
        "nteract": {
          "transient": {
            "deleting": false
          }
        },
        "gather": {
          "logged": 1701363923987
        }
      }
    },
    {
      "cell_type": "code",
      "source": [
        "pipeline_model_v2 = Pipeline(stages = [\n",
        "    stringIndexer_sentiment,\n",
        "    stringIndexer_month,\n",
        "    stringIndexer_team,\n",
        "    onehot_month,\n",
        "    onehot_sentiment,\n",
        "    assembler,\n",
        "    rf_v2\n",
        "])"
      ],
      "outputs": [
        {
          "output_type": "display_data",
          "data": {
            "application/vnd.livy.statement-meta+json": {
              "spark_pool": "d3c1b951-094c-48e1-919d-e32bc175397b",
              "session_id": "48",
              "statement_id": 69,
              "state": "finished",
              "livy_statement_state": "available",
              "queued_time": "2023-11-30T17:05:24.6982539Z",
              "session_start_time": null,
              "execution_start_time": "2023-11-30T17:05:24.89974Z",
              "execution_finish_time": "2023-11-30T17:05:25.1922894Z",
              "spark_jobs": {
                "numbers": {
                  "FAILED": 0,
                  "RUNNING": 0,
                  "UNKNOWN": 0,
                  "SUCCEEDED": 0
                },
                "jobs": [],
                "limit": 20,
                "rule": "ALL_DESC"
              },
              "parent_msg_id": "eb1c896b-b7ca-4d66-88cc-0056ae90b2aa"
            },
            "text/plain": "StatementMeta(d3c1b951-094c-48e1-919d-e32bc175397b, 48, 69, Finished, Available)"
          },
          "metadata": {}
        }
      ],
      "execution_count": 64,
      "metadata": {
        "jupyter": {
          "source_hidden": false,
          "outputs_hidden": false
        },
        "nteract": {
          "transient": {
            "deleting": false
          }
        },
        "gather": {
          "logged": 1701363925607
        }
      }
    },
    {
      "cell_type": "code",
      "source": [
        "model_v2 = pipeline_model_v2.fit(train_data)"
      ],
      "outputs": [
        {
          "output_type": "display_data",
          "data": {
            "application/vnd.livy.statement-meta+json": {
              "spark_pool": "d3c1b951-094c-48e1-919d-e32bc175397b",
              "session_id": "48",
              "statement_id": 70,
              "state": "finished",
              "livy_statement_state": "available",
              "queued_time": "2023-11-30T17:05:26.1107862Z",
              "session_start_time": null,
              "execution_start_time": "2023-11-30T17:05:26.2430701Z",
              "execution_finish_time": "2023-11-30T17:09:35.9667872Z",
              "spark_jobs": {
                "numbers": {
                  "FAILED": 0,
                  "RUNNING": 0,
                  "UNKNOWN": 0,
                  "SUCCEEDED": 19
                },
                "jobs": [
                  {
                    "displayName": "collectAsMap at RandomForest.scala:663",
                    "dataWritten": 1190007350,
                    "dataRead": 1808972439,
                    "rowCount": 28742840,
                    "usageDescription": "",
                    "jobId": 58,
                    "name": "collectAsMap at RandomForest.scala:663",
                    "description": "Job group for statement 70:\nmodel_v2 = pipeline_model_v2.fit(train_data)",
                    "submissionTime": "2023-11-30T17:08:16.144GMT",
                    "completionTime": "2023-11-30T17:09:33.508GMT",
                    "stageIds": [
                      215,
                      212,
                      216,
                      213,
                      214
                    ],
                    "jobGroup": "70",
                    "status": "SUCCEEDED",
                    "numTasks": 617,
                    "numActiveTasks": 0,
                    "numCompletedTasks": 400,
                    "numSkippedTasks": 217,
                    "numFailedTasks": 0,
                    "numKilledTasks": 0,
                    "numCompletedIndices": 400,
                    "numActiveStages": 0,
                    "numCompletedStages": 2,
                    "numSkippedStages": 3,
                    "numFailedStages": 0,
                    "killedTasksSummary": {}
                  },
                  {
                    "displayName": "collectAsMap at RandomForest.scala:663",
                    "dataWritten": 854230463,
                    "dataRead": 1474274360,
                    "rowCount": 16631240,
                    "usageDescription": "",
                    "jobId": 57,
                    "name": "collectAsMap at RandomForest.scala:663",
                    "description": "Job group for statement 70:\nmodel_v2 = pipeline_model_v2.fit(train_data)",
                    "submissionTime": "2023-11-30T17:07:25.725GMT",
                    "completionTime": "2023-11-30T17:08:14.594GMT",
                    "stageIds": [
                      208,
                      209,
                      210,
                      207,
                      211
                    ],
                    "jobGroup": "70",
                    "status": "SUCCEEDED",
                    "numTasks": 617,
                    "numActiveTasks": 0,
                    "numCompletedTasks": 400,
                    "numSkippedTasks": 217,
                    "numFailedTasks": 0,
                    "numKilledTasks": 0,
                    "numCompletedIndices": 400,
                    "numActiveStages": 0,
                    "numCompletedStages": 2,
                    "numSkippedStages": 3,
                    "numFailedStages": 0,
                    "killedTasksSummary": {}
                  },
                  {
                    "displayName": "collectAsMap at RandomForest.scala:663",
                    "dataWritten": 606341374,
                    "dataRead": 1232390257,
                    "rowCount": 9417240,
                    "usageDescription": "",
                    "jobId": 56,
                    "name": "collectAsMap at RandomForest.scala:663",
                    "description": "Job group for statement 70:\nmodel_v2 = pipeline_model_v2.fit(train_data)",
                    "submissionTime": "2023-11-30T17:06:54.850GMT",
                    "completionTime": "2023-11-30T17:07:24.814GMT",
                    "stageIds": [
                      204,
                      205,
                      202,
                      206,
                      203
                    ],
                    "jobGroup": "70",
                    "status": "SUCCEEDED",
                    "numTasks": 617,
                    "numActiveTasks": 0,
                    "numCompletedTasks": 400,
                    "numSkippedTasks": 217,
                    "numFailedTasks": 0,
                    "numKilledTasks": 0,
                    "numCompletedIndices": 400,
                    "numActiveStages": 0,
                    "numCompletedStages": 2,
                    "numSkippedStages": 3,
                    "numFailedStages": 0,
                    "killedTasksSummary": {}
                  },
                  {
                    "displayName": "collectAsMap at RandomForest.scala:663",
                    "dataWritten": 422504454,
                    "dataRead": 1053452633,
                    "rowCount": 5329640,
                    "usageDescription": "",
                    "jobId": 55,
                    "name": "collectAsMap at RandomForest.scala:663",
                    "description": "Job group for statement 70:\nmodel_v2 = pipeline_model_v2.fit(train_data)",
                    "submissionTime": "2023-11-30T17:06:34.363GMT",
                    "completionTime": "2023-11-30T17:06:54.344GMT",
                    "stageIds": [
                      197,
                      201,
                      198,
                      199,
                      200
                    ],
                    "jobGroup": "70",
                    "status": "SUCCEEDED",
                    "numTasks": 617,
                    "numActiveTasks": 0,
                    "numCompletedTasks": 400,
                    "numSkippedTasks": 217,
                    "numFailedTasks": 0,
                    "numKilledTasks": 0,
                    "numCompletedIndices": 400,
                    "numActiveStages": 0,
                    "numCompletedStages": 2,
                    "numSkippedStages": 3,
                    "numFailedStages": 0,
                    "killedTasksSummary": {}
                  },
                  {
                    "displayName": "collectAsMap at RandomForest.scala:663",
                    "dataWritten": 306119744,
                    "dataRead": 947511277,
                    "rowCount": 3108840,
                    "usageDescription": "",
                    "jobId": 54,
                    "name": "collectAsMap at RandomForest.scala:663",
                    "description": "Job group for statement 70:\nmodel_v2 = pipeline_model_v2.fit(train_data)",
                    "submissionTime": "2023-11-30T17:06:19.832GMT",
                    "completionTime": "2023-11-30T17:06:34.007GMT",
                    "stageIds": [
                      194,
                      195,
                      192,
                      196,
                      193
                    ],
                    "jobGroup": "70",
                    "status": "SUCCEEDED",
                    "numTasks": 617,
                    "numActiveTasks": 0,
                    "numCompletedTasks": 400,
                    "numSkippedTasks": 217,
                    "numFailedTasks": 0,
                    "numKilledTasks": 0,
                    "numCompletedIndices": 400,
                    "numActiveStages": 0,
                    "numCompletedStages": 2,
                    "numSkippedStages": 3,
                    "numFailedStages": 0,
                    "killedTasksSummary": {}
                  },
                  {
                    "displayName": "collectAsMap at RandomForest.scala:663",
                    "dataWritten": 215729991,
                    "dataRead": 864628698,
                    "rowCount": 1928440,
                    "usageDescription": "",
                    "jobId": 53,
                    "name": "collectAsMap at RandomForest.scala:663",
                    "description": "Job group for statement 70:\nmodel_v2 = pipeline_model_v2.fit(train_data)",
                    "submissionTime": "2023-11-30T17:06:08.854GMT",
                    "completionTime": "2023-11-30T17:06:19.655GMT",
                    "stageIds": [
                      190,
                      187,
                      191,
                      188,
                      189
                    ],
                    "jobGroup": "70",
                    "status": "SUCCEEDED",
                    "numTasks": 617,
                    "numActiveTasks": 0,
                    "numCompletedTasks": 400,
                    "numSkippedTasks": 217,
                    "numFailedTasks": 0,
                    "numKilledTasks": 0,
                    "numCompletedIndices": 400,
                    "numActiveStages": 0,
                    "numCompletedStages": 2,
                    "numSkippedStages": 3,
                    "numFailedStages": 0,
                    "killedTasksSummary": {}
                  },
                  {
                    "displayName": "collectAsMap at RandomForest.scala:663",
                    "dataWritten": 153301192,
                    "dataRead": 809113721,
                    "rowCount": 1322040,
                    "usageDescription": "",
                    "jobId": 52,
                    "name": "collectAsMap at RandomForest.scala:663",
                    "description": "Job group for statement 70:\nmodel_v2 = pipeline_model_v2.fit(train_data)",
                    "submissionTime": "2023-11-30T17:05:59.936GMT",
                    "completionTime": "2023-11-30T17:06:08.720GMT",
                    "stageIds": [
                      186,
                      183,
                      184,
                      185,
                      182
                    ],
                    "jobGroup": "70",
                    "status": "SUCCEEDED",
                    "numTasks": 617,
                    "numActiveTasks": 0,
                    "numCompletedTasks": 400,
                    "numSkippedTasks": 217,
                    "numFailedTasks": 0,
                    "numKilledTasks": 0,
                    "numCompletedIndices": 400,
                    "numActiveStages": 0,
                    "numCompletedStages": 2,
                    "numSkippedStages": 3,
                    "numFailedStages": 0,
                    "killedTasksSummary": {}
                  },
                  {
                    "displayName": "collectAsMap at RandomForest.scala:663",
                    "dataWritten": 104547173,
                    "dataRead": 752029310,
                    "rowCount": 1010840,
                    "usageDescription": "",
                    "jobId": 51,
                    "name": "collectAsMap at RandomForest.scala:663",
                    "description": "Job group for statement 70:\nmodel_v2 = pipeline_model_v2.fit(train_data)",
                    "submissionTime": "2023-11-30T17:05:52.779GMT",
                    "completionTime": "2023-11-30T17:05:59.846GMT",
                    "stageIds": [
                      179,
                      180,
                      177,
                      181,
                      178
                    ],
                    "jobGroup": "70",
                    "status": "SUCCEEDED",
                    "numTasks": 617,
                    "numActiveTasks": 0,
                    "numCompletedTasks": 400,
                    "numSkippedTasks": 217,
                    "numFailedTasks": 0,
                    "numKilledTasks": 0,
                    "numCompletedIndices": 400,
                    "numActiveStages": 0,
                    "numCompletedStages": 2,
                    "numSkippedStages": 3,
                    "numFailedStages": 0,
                    "killedTasksSummary": {}
                  },
                  {
                    "displayName": "collectAsMap at RandomForest.scala:663",
                    "dataWritten": 70607740,
                    "dataRead": 704006998,
                    "rowCount": 852440,
                    "usageDescription": "",
                    "jobId": 50,
                    "name": "collectAsMap at RandomForest.scala:663",
                    "description": "Job group for statement 70:\nmodel_v2 = pipeline_model_v2.fit(train_data)",
                    "submissionTime": "2023-11-30T17:05:47.862GMT",
                    "completionTime": "2023-11-30T17:05:52.657GMT",
                    "stageIds": [
                      172,
                      176,
                      173,
                      174,
                      175
                    ],
                    "jobGroup": "70",
                    "status": "SUCCEEDED",
                    "numTasks": 617,
                    "numActiveTasks": 0,
                    "numCompletedTasks": 400,
                    "numSkippedTasks": 217,
                    "numFailedTasks": 0,
                    "numKilledTasks": 0,
                    "numCompletedIndices": 400,
                    "numActiveStages": 0,
                    "numCompletedStages": 2,
                    "numSkippedStages": 3,
                    "numFailedStages": 0,
                    "killedTasksSummary": {}
                  },
                  {
                    "displayName": "collectAsMap at RandomForest.scala:663",
                    "dataWritten": 47025014,
                    "dataRead": 235730902,
                    "rowCount": 80201,
                    "usageDescription": "",
                    "jobId": 49,
                    "name": "collectAsMap at RandomForest.scala:663",
                    "description": "Job group for statement 70:\nmodel_v2 = pipeline_model_v2.fit(train_data)",
                    "submissionTime": "2023-11-30T17:05:40.605GMT",
                    "completionTime": "2023-11-30T17:05:47.803GMT",
                    "stageIds": [
                      171,
                      168,
                      169,
                      170,
                      167
                    ],
                    "jobGroup": "70",
                    "status": "SUCCEEDED",
                    "numTasks": 617,
                    "numActiveTasks": 0,
                    "numCompletedTasks": 400,
                    "numSkippedTasks": 217,
                    "numFailedTasks": 0,
                    "numKilledTasks": 0,
                    "numCompletedIndices": 400,
                    "numActiveStages": 0,
                    "numCompletedStages": 2,
                    "numSkippedStages": 3,
                    "numFailedStages": 0,
                    "killedTasksSummary": {}
                  },
                  {
                    "displayName": "collectAsMap at RandomForest.scala:1054",
                    "dataWritten": 641750,
                    "dataRead": 186052249,
                    "rowCount": 2201,
                    "usageDescription": "",
                    "jobId": 48,
                    "name": "collectAsMap at RandomForest.scala:1054",
                    "description": "Job group for statement 70:\nmodel_v2 = pipeline_model_v2.fit(train_data)",
                    "submissionTime": "2023-11-30T17:05:38.613GMT",
                    "completionTime": "2023-11-30T17:05:40.500GMT",
                    "stageIds": [
                      165,
                      166,
                      162,
                      163,
                      164
                    ],
                    "jobGroup": "70",
                    "status": "SUCCEEDED",
                    "numTasks": 422,
                    "numActiveTasks": 0,
                    "numCompletedTasks": 205,
                    "numSkippedTasks": 217,
                    "numFailedTasks": 0,
                    "numKilledTasks": 0,
                    "numCompletedIndices": 205,
                    "numActiveStages": 0,
                    "numCompletedStages": 2,
                    "numSkippedStages": 3,
                    "numFailedStages": 0,
                    "killedTasksSummary": {}
                  },
                  {
                    "displayName": "aggregate at DecisionTreeMetadata.scala:125",
                    "dataWritten": 0,
                    "dataRead": 190404435,
                    "rowCount": 201,
                    "usageDescription": "",
                    "jobId": 47,
                    "name": "aggregate at DecisionTreeMetadata.scala:125",
                    "description": "Job group for statement 70:\nmodel_v2 = pipeline_model_v2.fit(train_data)",
                    "submissionTime": "2023-11-30T17:05:36.243GMT",
                    "completionTime": "2023-11-30T17:05:38.507GMT",
                    "stageIds": [
                      161,
                      158,
                      159,
                      160
                    ],
                    "jobGroup": "70",
                    "status": "SUCCEEDED",
                    "numTasks": 417,
                    "numActiveTasks": 0,
                    "numCompletedTasks": 200,
                    "numSkippedTasks": 217,
                    "numFailedTasks": 0,
                    "numKilledTasks": 0,
                    "numCompletedIndices": 200,
                    "numActiveStages": 0,
                    "numCompletedStages": 1,
                    "numSkippedStages": 3,
                    "numFailedStages": 0,
                    "killedTasksSummary": {}
                  },
                  {
                    "displayName": "take at DecisionTreeMetadata.scala:119",
                    "dataWritten": 0,
                    "dataRead": 1391120,
                    "rowCount": 1,
                    "usageDescription": "",
                    "jobId": 46,
                    "name": "take at DecisionTreeMetadata.scala:119",
                    "description": "Job group for statement 70:\nmodel_v2 = pipeline_model_v2.fit(train_data)",
                    "submissionTime": "2023-11-30T17:05:35.859GMT",
                    "completionTime": "2023-11-30T17:05:36.230GMT",
                    "stageIds": [
                      157,
                      154,
                      155,
                      156
                    ],
                    "jobGroup": "70",
                    "status": "SUCCEEDED",
                    "numTasks": 218,
                    "numActiveTasks": 0,
                    "numCompletedTasks": 1,
                    "numSkippedTasks": 217,
                    "numFailedTasks": 0,
                    "numKilledTasks": 0,
                    "numCompletedIndices": 1,
                    "numActiveStages": 0,
                    "numCompletedStages": 1,
                    "numSkippedStages": 3,
                    "numFailedStages": 0,
                    "killedTasksSummary": {}
                  },
                  {
                    "displayName": "collect at StringIndexer.scala:204",
                    "dataWritten": 0,
                    "dataRead": 100583,
                    "rowCount": 200,
                    "usageDescription": "",
                    "jobId": 45,
                    "name": "collect at StringIndexer.scala:204",
                    "description": "Job group for statement 70:\nmodel_v2 = pipeline_model_v2.fit(train_data)",
                    "submissionTime": "2023-11-30T17:05:34.923GMT",
                    "completionTime": "2023-11-30T17:05:35.002GMT",
                    "stageIds": [
                      153,
                      150,
                      151,
                      152,
                      149
                    ],
                    "jobGroup": "70",
                    "status": "SUCCEEDED",
                    "numTasks": 418,
                    "numActiveTasks": 0,
                    "numCompletedTasks": 1,
                    "numSkippedTasks": 417,
                    "numFailedTasks": 0,
                    "numKilledTasks": 0,
                    "numCompletedIndices": 1,
                    "numActiveStages": 0,
                    "numCompletedStages": 1,
                    "numSkippedStages": 4,
                    "numFailedStages": 0,
                    "killedTasksSummary": {}
                  },
                  {
                    "displayName": "collect at StringIndexer.scala:204",
                    "dataWritten": 100583,
                    "dataRead": 188893348,
                    "rowCount": 401,
                    "usageDescription": "",
                    "jobId": 44,
                    "name": "collect at StringIndexer.scala:204",
                    "description": "Job group for statement 70:\nmodel_v2 = pipeline_model_v2.fit(train_data)",
                    "submissionTime": "2023-11-30T17:05:34.293GMT",
                    "completionTime": "2023-11-30T17:05:34.850GMT",
                    "stageIds": [
                      147,
                      148,
                      145,
                      146
                    ],
                    "jobGroup": "70",
                    "status": "SUCCEEDED",
                    "numTasks": 417,
                    "numActiveTasks": 0,
                    "numCompletedTasks": 200,
                    "numSkippedTasks": 217,
                    "numFailedTasks": 0,
                    "numKilledTasks": 0,
                    "numCompletedIndices": 200,
                    "numActiveStages": 0,
                    "numCompletedStages": 1,
                    "numSkippedStages": 3,
                    "numFailedStages": 0,
                    "killedTasksSummary": {}
                  },
                  {
                    "displayName": "collect at StringIndexer.scala:204",
                    "dataWritten": 0,
                    "dataRead": 110983,
                    "rowCount": 200,
                    "usageDescription": "",
                    "jobId": 43,
                    "name": "collect at StringIndexer.scala:204",
                    "description": "Job group for statement 70:\nmodel_v2 = pipeline_model_v2.fit(train_data)",
                    "submissionTime": "2023-11-30T17:05:33.928GMT",
                    "completionTime": "2023-11-30T17:05:34.053GMT",
                    "stageIds": [
                      143,
                      140,
                      144,
                      141,
                      142
                    ],
                    "jobGroup": "70",
                    "status": "SUCCEEDED",
                    "numTasks": 418,
                    "numActiveTasks": 0,
                    "numCompletedTasks": 1,
                    "numSkippedTasks": 417,
                    "numFailedTasks": 0,
                    "numKilledTasks": 0,
                    "numCompletedIndices": 1,
                    "numActiveStages": 0,
                    "numCompletedStages": 1,
                    "numSkippedStages": 4,
                    "numFailedStages": 0,
                    "killedTasksSummary": {}
                  },
                  {
                    "displayName": "collect at StringIndexer.scala:204",
                    "dataWritten": 110983,
                    "dataRead": 188060219,
                    "rowCount": 401,
                    "usageDescription": "",
                    "jobId": 42,
                    "name": "collect at StringIndexer.scala:204",
                    "description": "Job group for statement 70:\nmodel_v2 = pipeline_model_v2.fit(train_data)",
                    "submissionTime": "2023-11-30T17:05:33.349GMT",
                    "completionTime": "2023-11-30T17:05:33.897GMT",
                    "stageIds": [
                      139,
                      136,
                      137,
                      138
                    ],
                    "jobGroup": "70",
                    "status": "SUCCEEDED",
                    "numTasks": 417,
                    "numActiveTasks": 0,
                    "numCompletedTasks": 200,
                    "numSkippedTasks": 217,
                    "numFailedTasks": 0,
                    "numKilledTasks": 0,
                    "numCompletedIndices": 200,
                    "numActiveStages": 0,
                    "numCompletedStages": 1,
                    "numSkippedStages": 3,
                    "numFailedStages": 0,
                    "killedTasksSummary": {}
                  },
                  {
                    "displayName": "collect at StringIndexer.scala:204",
                    "dataWritten": 0,
                    "dataRead": 104993,
                    "rowCount": 200,
                    "usageDescription": "",
                    "jobId": 41,
                    "name": "collect at StringIndexer.scala:204",
                    "description": "Job group for statement 70:\nmodel_v2 = pipeline_model_v2.fit(train_data)",
                    "submissionTime": "2023-11-30T17:05:32.932GMT",
                    "completionTime": "2023-11-30T17:05:33.025GMT",
                    "stageIds": [
                      135,
                      132,
                      133,
                      134,
                      131
                    ],
                    "jobGroup": "70",
                    "status": "SUCCEEDED",
                    "numTasks": 418,
                    "numActiveTasks": 0,
                    "numCompletedTasks": 1,
                    "numSkippedTasks": 417,
                    "numFailedTasks": 0,
                    "numKilledTasks": 0,
                    "numCompletedIndices": 1,
                    "numActiveStages": 0,
                    "numCompletedStages": 1,
                    "numSkippedStages": 4,
                    "numFailedStages": 0,
                    "killedTasksSummary": {}
                  },
                  {
                    "displayName": "collect at StringIndexer.scala:204",
                    "dataWritten": 255642737,
                    "dataRead": 462040009,
                    "rowCount": 1731344,
                    "usageDescription": "",
                    "jobId": 40,
                    "name": "collect at StringIndexer.scala:204",
                    "description": "Job group for statement 70:\nmodel_v2 = pipeline_model_v2.fit(train_data)",
                    "submissionTime": "2023-11-30T17:05:26.459GMT",
                    "completionTime": "2023-11-30T17:05:32.882GMT",
                    "stageIds": [
                      129,
                      130,
                      127,
                      128
                    ],
                    "jobGroup": "70",
                    "status": "SUCCEEDED",
                    "numTasks": 417,
                    "numActiveTasks": 0,
                    "numCompletedTasks": 400,
                    "numSkippedTasks": 17,
                    "numFailedTasks": 0,
                    "numKilledTasks": 0,
                    "numCompletedIndices": 400,
                    "numActiveStages": 0,
                    "numCompletedStages": 2,
                    "numSkippedStages": 2,
                    "numFailedStages": 0,
                    "killedTasksSummary": {}
                  }
                ],
                "limit": 20,
                "rule": "ALL_DESC"
              },
              "parent_msg_id": "f57c3862-970d-405d-90a4-b7fea080a9fd"
            },
            "text/plain": "StatementMeta(d3c1b951-094c-48e1-919d-e32bc175397b, 48, 70, Finished, Available)"
          },
          "metadata": {}
        }
      ],
      "execution_count": 65,
      "metadata": {
        "jupyter": {
          "source_hidden": false,
          "outputs_hidden": false
        },
        "nteract": {
          "transient": {
            "deleting": false
          }
        },
        "gather": {
          "logged": 1701364176355
        }
      }
    },
    {
      "cell_type": "code",
      "source": [
        "model_v2.write().overwrite().save(\"Users/vankempenklaas/fall-2023-reddit-project-team-26/code/ml/model_files/popularity_model_v3\")"
      ],
      "outputs": [
        {
          "output_type": "display_data",
          "data": {
            "application/vnd.livy.statement-meta+json": {
              "spark_pool": "d3c1b951-094c-48e1-919d-e32bc175397b",
              "session_id": "48",
              "statement_id": 71,
              "state": "finished",
              "livy_statement_state": "available",
              "queued_time": "2023-11-30T17:09:41.8878429Z",
              "session_start_time": null,
              "execution_start_time": "2023-11-30T17:09:42.112568Z",
              "execution_finish_time": "2023-11-30T17:10:15.102434Z",
              "spark_jobs": {
                "numbers": {
                  "FAILED": 0,
                  "RUNNING": 0,
                  "UNKNOWN": 0,
                  "SUCCEEDED": 22
                },
                "jobs": [
                  {
                    "displayName": "parquet at treeModels.scala:491",
                    "dataWritten": 11235847,
                    "dataRead": 17095557,
                    "rowCount": 568916,
                    "usageDescription": "",
                    "jobId": 80,
                    "name": "parquet at treeModels.scala:491",
                    "description": "Job group for statement 71:\nmodel_v2.write().overwrite().save(\"Users/vankempenklaas/fall-2023-reddit-project-team-26/code/ml/model_files/popularity_model_v3\")",
                    "submissionTime": "2023-11-30T17:10:10.085GMT",
                    "completionTime": "2023-11-30T17:10:12.643GMT",
                    "stageIds": [
                      245,
                      244
                    ],
                    "jobGroup": "71",
                    "status": "SUCCEEDED",
                    "numTasks": 17,
                    "numActiveTasks": 0,
                    "numCompletedTasks": 1,
                    "numSkippedTasks": 16,
                    "numFailedTasks": 0,
                    "numKilledTasks": 0,
                    "numCompletedIndices": 1,
                    "numActiveStages": 0,
                    "numCompletedStages": 1,
                    "numSkippedStages": 1,
                    "numFailedStages": 0,
                    "killedTasksSummary": {}
                  },
                  {
                    "displayName": "parquet at treeModels.scala:491",
                    "dataWritten": 17095557,
                    "dataRead": 0,
                    "rowCount": 284458,
                    "usageDescription": "",
                    "jobId": 79,
                    "name": "parquet at treeModels.scala:491",
                    "description": "Job group for statement 71:\nmodel_v2.write().overwrite().save(\"Users/vankempenklaas/fall-2023-reddit-project-team-26/code/ml/model_files/popularity_model_v3\")",
                    "submissionTime": "2023-11-30T17:10:08.604GMT",
                    "completionTime": "2023-11-30T17:10:10.030GMT",
                    "stageIds": [
                      243
                    ],
                    "jobGroup": "71",
                    "status": "SUCCEEDED",
                    "numTasks": 16,
                    "numActiveTasks": 0,
                    "numCompletedTasks": 16,
                    "numSkippedTasks": 0,
                    "numFailedTasks": 0,
                    "numKilledTasks": 0,
                    "numCompletedIndices": 16,
                    "numActiveStages": 0,
                    "numCompletedStages": 1,
                    "numSkippedStages": 0,
                    "numFailedStages": 0,
                    "killedTasksSummary": {}
                  },
                  {
                    "displayName": "parquet at treeModels.scala:483",
                    "dataWritten": 18601,
                    "dataRead": 25954,
                    "rowCount": 400,
                    "usageDescription": "",
                    "jobId": 78,
                    "name": "parquet at treeModels.scala:483",
                    "description": "Job group for statement 71:\nmodel_v2.write().overwrite().save(\"Users/vankempenklaas/fall-2023-reddit-project-team-26/code/ml/model_files/popularity_model_v3\")",
                    "submissionTime": "2023-11-30T17:10:05.134GMT",
                    "completionTime": "2023-11-30T17:10:07.748GMT",
                    "stageIds": [
                      241,
                      242
                    ],
                    "jobGroup": "71",
                    "status": "SUCCEEDED",
                    "numTasks": 17,
                    "numActiveTasks": 0,
                    "numCompletedTasks": 1,
                    "numSkippedTasks": 16,
                    "numFailedTasks": 0,
                    "numKilledTasks": 0,
                    "numCompletedIndices": 1,
                    "numActiveStages": 0,
                    "numCompletedStages": 1,
                    "numSkippedStages": 1,
                    "numFailedStages": 0,
                    "killedTasksSummary": {}
                  },
                  {
                    "displayName": "parquet at treeModels.scala:483",
                    "dataWritten": 25954,
                    "dataRead": 0,
                    "rowCount": 200,
                    "usageDescription": "",
                    "jobId": 77,
                    "name": "parquet at treeModels.scala:483",
                    "description": "Job group for statement 71:\nmodel_v2.write().overwrite().save(\"Users/vankempenklaas/fall-2023-reddit-project-team-26/code/ml/model_files/popularity_model_v3\")",
                    "submissionTime": "2023-11-30T17:10:05.004GMT",
                    "completionTime": "2023-11-30T17:10:05.076GMT",
                    "stageIds": [
                      240
                    ],
                    "jobGroup": "71",
                    "status": "SUCCEEDED",
                    "numTasks": 16,
                    "numActiveTasks": 0,
                    "numCompletedTasks": 16,
                    "numSkippedTasks": 0,
                    "numFailedTasks": 0,
                    "numKilledTasks": 0,
                    "numCompletedIndices": 16,
                    "numActiveStages": 0,
                    "numCompletedStages": 1,
                    "numSkippedStages": 0,
                    "numFailedStages": 0,
                    "killedTasksSummary": {}
                  },
                  {
                    "displayName": "runJob at SparkHadoopWriter.scala:85",
                    "dataWritten": 698,
                    "dataRead": 0,
                    "rowCount": 1,
                    "usageDescription": "",
                    "jobId": 76,
                    "name": "runJob at SparkHadoopWriter.scala:85",
                    "description": "Job group for statement 71:\nmodel_v2.write().overwrite().save(\"Users/vankempenklaas/fall-2023-reddit-project-team-26/code/ml/model_files/popularity_model_v3\")",
                    "submissionTime": "2023-11-30T17:10:03.808GMT",
                    "completionTime": "2023-11-30T17:10:04.492GMT",
                    "stageIds": [
                      239
                    ],
                    "jobGroup": "71",
                    "status": "SUCCEEDED",
                    "numTasks": 1,
                    "numActiveTasks": 0,
                    "numCompletedTasks": 1,
                    "numSkippedTasks": 0,
                    "numFailedTasks": 0,
                    "numKilledTasks": 0,
                    "numCompletedIndices": 1,
                    "numActiveStages": 0,
                    "numCompletedStages": 1,
                    "numSkippedStages": 0,
                    "numFailedStages": 0,
                    "killedTasksSummary": {}
                  },
                  {
                    "displayName": "runJob at SparkHadoopWriter.scala:85",
                    "dataWritten": 397,
                    "dataRead": 0,
                    "rowCount": 1,
                    "usageDescription": "",
                    "jobId": 75,
                    "name": "runJob at SparkHadoopWriter.scala:85",
                    "description": "Job group for statement 71:\nmodel_v2.write().overwrite().save(\"Users/vankempenklaas/fall-2023-reddit-project-team-26/code/ml/model_files/popularity_model_v3\")",
                    "submissionTime": "2023-11-30T17:10:01.072GMT",
                    "completionTime": "2023-11-30T17:10:03.290GMT",
                    "stageIds": [
                      238
                    ],
                    "jobGroup": "71",
                    "status": "SUCCEEDED",
                    "numTasks": 1,
                    "numActiveTasks": 0,
                    "numCompletedTasks": 1,
                    "numSkippedTasks": 0,
                    "numFailedTasks": 0,
                    "numKilledTasks": 0,
                    "numCompletedIndices": 1,
                    "numActiveStages": 0,
                    "numCompletedStages": 1,
                    "numSkippedStages": 0,
                    "numFailedStages": 0,
                    "killedTasksSummary": {}
                  },
                  {
                    "displayName": "parquet at OneHotEncoder.scala:407",
                    "dataWritten": 589,
                    "dataRead": 74,
                    "rowCount": 2,
                    "usageDescription": "",
                    "jobId": 74,
                    "name": "parquet at OneHotEncoder.scala:407",
                    "description": "Job group for statement 71:\nmodel_v2.write().overwrite().save(\"Users/vankempenklaas/fall-2023-reddit-project-team-26/code/ml/model_files/popularity_model_v3\")",
                    "submissionTime": "2023-11-30T17:09:59.794GMT",
                    "completionTime": "2023-11-30T17:10:00.445GMT",
                    "stageIds": [
                      237,
                      236
                    ],
                    "jobGroup": "71",
                    "status": "SUCCEEDED",
                    "numTasks": 2,
                    "numActiveTasks": 0,
                    "numCompletedTasks": 1,
                    "numSkippedTasks": 1,
                    "numFailedTasks": 0,
                    "numKilledTasks": 0,
                    "numCompletedIndices": 1,
                    "numActiveStages": 0,
                    "numCompletedStages": 1,
                    "numSkippedStages": 1,
                    "numFailedStages": 0,
                    "killedTasksSummary": {}
                  },
                  {
                    "displayName": "parquet at OneHotEncoder.scala:407",
                    "dataWritten": 74,
                    "dataRead": 0,
                    "rowCount": 1,
                    "usageDescription": "",
                    "jobId": 73,
                    "name": "parquet at OneHotEncoder.scala:407",
                    "description": "Job group for statement 71:\nmodel_v2.write().overwrite().save(\"Users/vankempenklaas/fall-2023-reddit-project-team-26/code/ml/model_files/popularity_model_v3\")",
                    "submissionTime": "2023-11-30T17:09:59.728GMT",
                    "completionTime": "2023-11-30T17:09:59.747GMT",
                    "stageIds": [
                      235
                    ],
                    "jobGroup": "71",
                    "status": "SUCCEEDED",
                    "numTasks": 1,
                    "numActiveTasks": 0,
                    "numCompletedTasks": 1,
                    "numSkippedTasks": 0,
                    "numFailedTasks": 0,
                    "numKilledTasks": 0,
                    "numCompletedIndices": 1,
                    "numActiveStages": 0,
                    "numCompletedStages": 1,
                    "numSkippedStages": 0,
                    "numFailedStages": 0,
                    "killedTasksSummary": {}
                  },
                  {
                    "displayName": "runJob at SparkHadoopWriter.scala:85",
                    "dataWritten": 336,
                    "dataRead": 0,
                    "rowCount": 1,
                    "usageDescription": "",
                    "jobId": 72,
                    "name": "runJob at SparkHadoopWriter.scala:85",
                    "description": "Job group for statement 71:\nmodel_v2.write().overwrite().save(\"Users/vankempenklaas/fall-2023-reddit-project-team-26/code/ml/model_files/popularity_model_v3\")",
                    "submissionTime": "2023-11-30T17:09:58.625GMT",
                    "completionTime": "2023-11-30T17:09:59.295GMT",
                    "stageIds": [
                      234
                    ],
                    "jobGroup": "71",
                    "status": "SUCCEEDED",
                    "numTasks": 1,
                    "numActiveTasks": 0,
                    "numCompletedTasks": 1,
                    "numSkippedTasks": 0,
                    "numFailedTasks": 0,
                    "numKilledTasks": 0,
                    "numCompletedIndices": 1,
                    "numActiveStages": 0,
                    "numCompletedStages": 1,
                    "numSkippedStages": 0,
                    "numFailedStages": 0,
                    "killedTasksSummary": {}
                  },
                  {
                    "displayName": "parquet at OneHotEncoder.scala:407",
                    "dataWritten": 589,
                    "dataRead": 74,
                    "rowCount": 2,
                    "usageDescription": "",
                    "jobId": 71,
                    "name": "parquet at OneHotEncoder.scala:407",
                    "description": "Job group for statement 71:\nmodel_v2.write().overwrite().save(\"Users/vankempenklaas/fall-2023-reddit-project-team-26/code/ml/model_files/popularity_model_v3\")",
                    "submissionTime": "2023-11-30T17:09:57.342GMT",
                    "completionTime": "2023-11-30T17:09:58.080GMT",
                    "stageIds": [
                      233,
                      232
                    ],
                    "jobGroup": "71",
                    "status": "SUCCEEDED",
                    "numTasks": 2,
                    "numActiveTasks": 0,
                    "numCompletedTasks": 1,
                    "numSkippedTasks": 1,
                    "numFailedTasks": 0,
                    "numKilledTasks": 0,
                    "numCompletedIndices": 1,
                    "numActiveStages": 0,
                    "numCompletedStages": 1,
                    "numSkippedStages": 1,
                    "numFailedStages": 0,
                    "killedTasksSummary": {}
                  },
                  {
                    "displayName": "parquet at OneHotEncoder.scala:407",
                    "dataWritten": 74,
                    "dataRead": 0,
                    "rowCount": 1,
                    "usageDescription": "",
                    "jobId": 70,
                    "name": "parquet at OneHotEncoder.scala:407",
                    "description": "Job group for statement 71:\nmodel_v2.write().overwrite().save(\"Users/vankempenklaas/fall-2023-reddit-project-team-26/code/ml/model_files/popularity_model_v3\")",
                    "submissionTime": "2023-11-30T17:09:57.273GMT",
                    "completionTime": "2023-11-30T17:09:57.292GMT",
                    "stageIds": [
                      231
                    ],
                    "jobGroup": "71",
                    "status": "SUCCEEDED",
                    "numTasks": 1,
                    "numActiveTasks": 0,
                    "numCompletedTasks": 1,
                    "numSkippedTasks": 0,
                    "numFailedTasks": 0,
                    "numKilledTasks": 0,
                    "numCompletedIndices": 1,
                    "numActiveStages": 0,
                    "numCompletedStages": 1,
                    "numSkippedStages": 0,
                    "numFailedStages": 0,
                    "killedTasksSummary": {}
                  },
                  {
                    "displayName": "runJob at SparkHadoopWriter.scala:85",
                    "dataWritten": 328,
                    "dataRead": 0,
                    "rowCount": 1,
                    "usageDescription": "",
                    "jobId": 69,
                    "name": "runJob at SparkHadoopWriter.scala:85",
                    "description": "Job group for statement 71:\nmodel_v2.write().overwrite().save(\"Users/vankempenklaas/fall-2023-reddit-project-team-26/code/ml/model_files/popularity_model_v3\")",
                    "submissionTime": "2023-11-30T17:09:55.792GMT",
                    "completionTime": "2023-11-30T17:09:56.697GMT",
                    "stageIds": [
                      230
                    ],
                    "jobGroup": "71",
                    "status": "SUCCEEDED",
                    "numTasks": 1,
                    "numActiveTasks": 0,
                    "numCompletedTasks": 1,
                    "numSkippedTasks": 0,
                    "numFailedTasks": 0,
                    "numKilledTasks": 0,
                    "numCompletedIndices": 1,
                    "numActiveStages": 0,
                    "numCompletedStages": 1,
                    "numSkippedStages": 0,
                    "numFailedStages": 0,
                    "killedTasksSummary": {}
                  },
                  {
                    "displayName": "parquet at StringIndexer.scala:499",
                    "dataWritten": 665,
                    "dataRead": 104,
                    "rowCount": 2,
                    "usageDescription": "",
                    "jobId": 68,
                    "name": "parquet at StringIndexer.scala:499",
                    "description": "Job group for statement 71:\nmodel_v2.write().overwrite().save(\"Users/vankempenklaas/fall-2023-reddit-project-team-26/code/ml/model_files/popularity_model_v3\")",
                    "submissionTime": "2023-11-30T17:09:54.632GMT",
                    "completionTime": "2023-11-30T17:09:55.256GMT",
                    "stageIds": [
                      228,
                      229
                    ],
                    "jobGroup": "71",
                    "status": "SUCCEEDED",
                    "numTasks": 2,
                    "numActiveTasks": 0,
                    "numCompletedTasks": 1,
                    "numSkippedTasks": 1,
                    "numFailedTasks": 0,
                    "numKilledTasks": 0,
                    "numCompletedIndices": 1,
                    "numActiveStages": 0,
                    "numCompletedStages": 1,
                    "numSkippedStages": 1,
                    "numFailedStages": 0,
                    "killedTasksSummary": {}
                  },
                  {
                    "displayName": "parquet at StringIndexer.scala:499",
                    "dataWritten": 104,
                    "dataRead": 0,
                    "rowCount": 1,
                    "usageDescription": "",
                    "jobId": 67,
                    "name": "parquet at StringIndexer.scala:499",
                    "description": "Job group for statement 71:\nmodel_v2.write().overwrite().save(\"Users/vankempenklaas/fall-2023-reddit-project-team-26/code/ml/model_files/popularity_model_v3\")",
                    "submissionTime": "2023-11-30T17:09:54.565GMT",
                    "completionTime": "2023-11-30T17:09:54.584GMT",
                    "stageIds": [
                      227
                    ],
                    "jobGroup": "71",
                    "status": "SUCCEEDED",
                    "numTasks": 1,
                    "numActiveTasks": 0,
                    "numCompletedTasks": 1,
                    "numSkippedTasks": 0,
                    "numFailedTasks": 0,
                    "numKilledTasks": 0,
                    "numCompletedIndices": 1,
                    "numActiveStages": 0,
                    "numCompletedStages": 1,
                    "numSkippedStages": 0,
                    "numFailedStages": 0,
                    "killedTasksSummary": {}
                  },
                  {
                    "displayName": "runJob at SparkHadoopWriter.scala:85",
                    "dataWritten": 374,
                    "dataRead": 0,
                    "rowCount": 1,
                    "usageDescription": "",
                    "jobId": 66,
                    "name": "runJob at SparkHadoopWriter.scala:85",
                    "description": "Job group for statement 71:\nmodel_v2.write().overwrite().save(\"Users/vankempenklaas/fall-2023-reddit-project-team-26/code/ml/model_files/popularity_model_v3\")",
                    "submissionTime": "2023-11-30T17:09:53.520GMT",
                    "completionTime": "2023-11-30T17:09:54.149GMT",
                    "stageIds": [
                      226
                    ],
                    "jobGroup": "71",
                    "status": "SUCCEEDED",
                    "numTasks": 1,
                    "numActiveTasks": 0,
                    "numCompletedTasks": 1,
                    "numSkippedTasks": 0,
                    "numFailedTasks": 0,
                    "numKilledTasks": 0,
                    "numCompletedIndices": 1,
                    "numActiveStages": 0,
                    "numCompletedStages": 1,
                    "numSkippedStages": 0,
                    "numFailedStages": 0,
                    "killedTasksSummary": {}
                  },
                  {
                    "displayName": "parquet at StringIndexer.scala:499",
                    "dataWritten": 697,
                    "dataRead": 155,
                    "rowCount": 2,
                    "usageDescription": "",
                    "jobId": 65,
                    "name": "parquet at StringIndexer.scala:499",
                    "description": "Job group for statement 71:\nmodel_v2.write().overwrite().save(\"Users/vankempenklaas/fall-2023-reddit-project-team-26/code/ml/model_files/popularity_model_v3\")",
                    "submissionTime": "2023-11-30T17:09:51.700GMT",
                    "completionTime": "2023-11-30T17:09:53.046GMT",
                    "stageIds": [
                      224,
                      225
                    ],
                    "jobGroup": "71",
                    "status": "SUCCEEDED",
                    "numTasks": 2,
                    "numActiveTasks": 0,
                    "numCompletedTasks": 1,
                    "numSkippedTasks": 1,
                    "numFailedTasks": 0,
                    "numKilledTasks": 0,
                    "numCompletedIndices": 1,
                    "numActiveStages": 0,
                    "numCompletedStages": 1,
                    "numSkippedStages": 1,
                    "numFailedStages": 0,
                    "killedTasksSummary": {}
                  },
                  {
                    "displayName": "parquet at StringIndexer.scala:499",
                    "dataWritten": 155,
                    "dataRead": 0,
                    "rowCount": 1,
                    "usageDescription": "",
                    "jobId": 64,
                    "name": "parquet at StringIndexer.scala:499",
                    "description": "Job group for statement 71:\nmodel_v2.write().overwrite().save(\"Users/vankempenklaas/fall-2023-reddit-project-team-26/code/ml/model_files/popularity_model_v3\")",
                    "submissionTime": "2023-11-30T17:09:51.570GMT",
                    "completionTime": "2023-11-30T17:09:51.643GMT",
                    "stageIds": [
                      223
                    ],
                    "jobGroup": "71",
                    "status": "SUCCEEDED",
                    "numTasks": 1,
                    "numActiveTasks": 0,
                    "numCompletedTasks": 1,
                    "numSkippedTasks": 0,
                    "numFailedTasks": 0,
                    "numKilledTasks": 0,
                    "numCompletedIndices": 1,
                    "numActiveStages": 0,
                    "numCompletedStages": 1,
                    "numSkippedStages": 0,
                    "numFailedStages": 0,
                    "killedTasksSummary": {}
                  },
                  {
                    "displayName": "runJob at SparkHadoopWriter.scala:85",
                    "dataWritten": 365,
                    "dataRead": 0,
                    "rowCount": 1,
                    "usageDescription": "",
                    "jobId": 63,
                    "name": "runJob at SparkHadoopWriter.scala:85",
                    "description": "Job group for statement 71:\nmodel_v2.write().overwrite().save(\"Users/vankempenklaas/fall-2023-reddit-project-team-26/code/ml/model_files/popularity_model_v3\")",
                    "submissionTime": "2023-11-30T17:09:50.471GMT",
                    "completionTime": "2023-11-30T17:09:51.052GMT",
                    "stageIds": [
                      222
                    ],
                    "jobGroup": "71",
                    "status": "SUCCEEDED",
                    "numTasks": 1,
                    "numActiveTasks": 0,
                    "numCompletedTasks": 1,
                    "numSkippedTasks": 0,
                    "numFailedTasks": 0,
                    "numKilledTasks": 0,
                    "numCompletedIndices": 1,
                    "numActiveStages": 0,
                    "numCompletedStages": 1,
                    "numSkippedStages": 0,
                    "numFailedStages": 0,
                    "killedTasksSummary": {}
                  },
                  {
                    "displayName": "parquet at StringIndexer.scala:499",
                    "dataWritten": 723,
                    "dataRead": 123,
                    "rowCount": 2,
                    "usageDescription": "",
                    "jobId": 62,
                    "name": "parquet at StringIndexer.scala:499",
                    "description": "Job group for statement 71:\nmodel_v2.write().overwrite().save(\"Users/vankempenklaas/fall-2023-reddit-project-team-26/code/ml/model_files/popularity_model_v3\")",
                    "submissionTime": "2023-11-30T17:09:47.542GMT",
                    "completionTime": "2023-11-30T17:09:49.921GMT",
                    "stageIds": [
                      220,
                      221
                    ],
                    "jobGroup": "71",
                    "status": "SUCCEEDED",
                    "numTasks": 2,
                    "numActiveTasks": 0,
                    "numCompletedTasks": 1,
                    "numSkippedTasks": 1,
                    "numFailedTasks": 0,
                    "numKilledTasks": 0,
                    "numCompletedIndices": 1,
                    "numActiveStages": 0,
                    "numCompletedStages": 1,
                    "numSkippedStages": 1,
                    "numFailedStages": 0,
                    "killedTasksSummary": {}
                  },
                  {
                    "displayName": "parquet at StringIndexer.scala:499",
                    "dataWritten": 123,
                    "dataRead": 0,
                    "rowCount": 1,
                    "usageDescription": "",
                    "jobId": 61,
                    "name": "parquet at StringIndexer.scala:499",
                    "description": "Job group for statement 71:\nmodel_v2.write().overwrite().save(\"Users/vankempenklaas/fall-2023-reddit-project-team-26/code/ml/model_files/popularity_model_v3\")",
                    "submissionTime": "2023-11-30T17:09:47.405GMT",
                    "completionTime": "2023-11-30T17:09:47.474GMT",
                    "stageIds": [
                      219
                    ],
                    "jobGroup": "71",
                    "status": "SUCCEEDED",
                    "numTasks": 1,
                    "numActiveTasks": 0,
                    "numCompletedTasks": 1,
                    "numSkippedTasks": 0,
                    "numFailedTasks": 0,
                    "numKilledTasks": 0,
                    "numCompletedIndices": 1,
                    "numActiveStages": 0,
                    "numCompletedStages": 1,
                    "numSkippedStages": 0,
                    "numFailedStages": 0,
                    "killedTasksSummary": {}
                  }
                ],
                "limit": 20,
                "rule": "ALL_DESC"
              },
              "parent_msg_id": "14428a6f-f54f-4218-89e7-6d7234db5dd0"
            },
            "text/plain": "StatementMeta(d3c1b951-094c-48e1-919d-e32bc175397b, 48, 71, Finished, Available)"
          },
          "metadata": {}
        }
      ],
      "execution_count": 66,
      "metadata": {
        "jupyter": {
          "source_hidden": false,
          "outputs_hidden": false
        },
        "nteract": {
          "transient": {
            "deleting": false
          }
        },
        "gather": {
          "logged": 1701364215329
        }
      }
    },
    {
      "cell_type": "code",
      "source": [
        "loaded_model_v2 = PipelineModel.load(\"Users/vankempenklaas/fall-2023-reddit-project-team-26/code/ml/model_files/popularity_model_v3\")"
      ],
      "outputs": [
        {
          "output_type": "display_data",
          "data": {
            "application/vnd.livy.statement-meta+json": {
              "spark_pool": "d3c1b951-094c-48e1-919d-e32bc175397b",
              "session_id": "48",
              "statement_id": 72,
              "state": "finished",
              "livy_statement_state": "available",
              "queued_time": "2023-11-30T17:10:17.0583454Z",
              "session_start_time": null,
              "execution_start_time": "2023-11-30T17:10:17.196455Z",
              "execution_finish_time": "2023-11-30T17:10:36.6857348Z",
              "spark_jobs": {
                "numbers": {
                  "FAILED": 0,
                  "RUNNING": 0,
                  "UNKNOWN": 0,
                  "SUCCEEDED": 31
                },
                "jobs": [
                  {
                    "displayName": "collect at treeModels.scala:549",
                    "dataWritten": 12426113,
                    "dataRead": 26608633,
                    "rowCount": 284858,
                    "usageDescription": "",
                    "jobId": 111,
                    "name": "collect at treeModels.scala:549",
                    "description": "Job group for statement 72:\nloaded_model_v2 = PipelineModel.load(\"Users/vankempenklaas/fall-2023-reddit-project-team-26/code/ml/model_files/popularity_model_v3\")",
                    "submissionTime": "2023-11-30T17:10:32.293GMT",
                    "completionTime": "2023-11-30T17:10:35.983GMT",
                    "stageIds": [
                      278,
                      279,
                      280
                    ],
                    "jobGroup": "72",
                    "status": "SUCCEEDED",
                    "numTasks": 9,
                    "numActiveTasks": 0,
                    "numCompletedTasks": 6,
                    "numSkippedTasks": 3,
                    "numFailedTasks": 0,
                    "numKilledTasks": 0,
                    "numCompletedIndices": 6,
                    "numActiveStages": 0,
                    "numCompletedStages": 2,
                    "numSkippedStages": 1,
                    "numFailedStages": 0,
                    "killedTasksSummary": {}
                  },
                  {
                    "displayName": "sortByKey at treeModels.scala:549",
                    "dataWritten": 14182520,
                    "dataRead": 25429094,
                    "rowCount": 853374,
                    "usageDescription": "",
                    "jobId": 110,
                    "name": "sortByKey at treeModels.scala:549",
                    "description": "Job group for statement 72:\nloaded_model_v2 = PipelineModel.load(\"Users/vankempenklaas/fall-2023-reddit-project-team-26/code/ml/model_files/popularity_model_v3\")",
                    "submissionTime": "2023-11-30T17:10:28.902GMT",
                    "completionTime": "2023-11-30T17:10:32.270GMT",
                    "stageIds": [
                      277,
                      276
                    ],
                    "jobGroup": "72",
                    "status": "SUCCEEDED",
                    "numTasks": 6,
                    "numActiveTasks": 0,
                    "numCompletedTasks": 6,
                    "numSkippedTasks": 0,
                    "numFailedTasks": 0,
                    "numKilledTasks": 0,
                    "numCompletedIndices": 6,
                    "numActiveStages": 0,
                    "numCompletedStages": 2,
                    "numSkippedStages": 0,
                    "numFailedStages": 0,
                    "killedTasksSummary": {}
                  },
                  {
                    "displayName": "parquet at treeModels.scala:532",
                    "dataWritten": 0,
                    "dataRead": 0,
                    "rowCount": 0,
                    "usageDescription": "",
                    "jobId": 109,
                    "name": "parquet at treeModels.scala:532",
                    "description": "Job group for statement 72:\nloaded_model_v2 = PipelineModel.load(\"Users/vankempenklaas/fall-2023-reddit-project-team-26/code/ml/model_files/popularity_model_v3\")",
                    "submissionTime": "2023-11-30T17:10:28.644GMT",
                    "completionTime": "2023-11-30T17:10:28.755GMT",
                    "stageIds": [
                      275
                    ],
                    "jobGroup": "72",
                    "status": "SUCCEEDED",
                    "numTasks": 1,
                    "numActiveTasks": 0,
                    "numCompletedTasks": 1,
                    "numSkippedTasks": 0,
                    "numFailedTasks": 0,
                    "numKilledTasks": 0,
                    "numCompletedIndices": 1,
                    "numActiveStages": 0,
                    "numCompletedStages": 1,
                    "numSkippedStages": 0,
                    "numFailedStages": 0,
                    "killedTasksSummary": {}
                  },
                  {
                    "displayName": "collect at treeModels.scala:527",
                    "dataWritten": 54650,
                    "dataRead": 76981,
                    "rowCount": 600,
                    "usageDescription": "",
                    "jobId": 108,
                    "name": "collect at treeModels.scala:527",
                    "description": "Job group for statement 72:\nloaded_model_v2 = PipelineModel.load(\"Users/vankempenklaas/fall-2023-reddit-project-team-26/code/ml/model_files/popularity_model_v3\")",
                    "submissionTime": "2023-11-30T17:10:27.978GMT",
                    "completionTime": "2023-11-30T17:10:28.510GMT",
                    "stageIds": [
                      273,
                      274
                    ],
                    "jobGroup": "72",
                    "status": "SUCCEEDED",
                    "numTasks": 2,
                    "numActiveTasks": 0,
                    "numCompletedTasks": 2,
                    "numSkippedTasks": 0,
                    "numFailedTasks": 0,
                    "numKilledTasks": 0,
                    "numCompletedIndices": 2,
                    "numActiveStages": 0,
                    "numCompletedStages": 2,
                    "numSkippedStages": 0,
                    "numFailedStages": 0,
                    "killedTasksSummary": {}
                  },
                  {
                    "displayName": "parquet at treeModels.scala:520",
                    "dataWritten": 0,
                    "dataRead": 0,
                    "rowCount": 0,
                    "usageDescription": "",
                    "jobId": 107,
                    "name": "parquet at treeModels.scala:520",
                    "description": "Job group for statement 72:\nloaded_model_v2 = PipelineModel.load(\"Users/vankempenklaas/fall-2023-reddit-project-team-26/code/ml/model_files/popularity_model_v3\")",
                    "submissionTime": "2023-11-30T17:10:27.714GMT",
                    "completionTime": "2023-11-30T17:10:27.794GMT",
                    "stageIds": [
                      272
                    ],
                    "jobGroup": "72",
                    "status": "SUCCEEDED",
                    "numTasks": 1,
                    "numActiveTasks": 0,
                    "numCompletedTasks": 1,
                    "numSkippedTasks": 0,
                    "numFailedTasks": 0,
                    "numKilledTasks": 0,
                    "numCompletedIndices": 1,
                    "numActiveStages": 0,
                    "numCompletedStages": 1,
                    "numSkippedStages": 0,
                    "numFailedStages": 0,
                    "killedTasksSummary": {}
                  },
                  {
                    "displayName": "first at ReadWrite.scala:587",
                    "dataWritten": 0,
                    "dataRead": 698,
                    "rowCount": 1,
                    "usageDescription": "",
                    "jobId": 106,
                    "name": "first at ReadWrite.scala:587",
                    "description": "Job group for statement 72:\nloaded_model_v2 = PipelineModel.load(\"Users/vankempenklaas/fall-2023-reddit-project-team-26/code/ml/model_files/popularity_model_v3\")",
                    "submissionTime": "2023-11-30T17:10:27.519GMT",
                    "completionTime": "2023-11-30T17:10:27.573GMT",
                    "stageIds": [
                      271
                    ],
                    "jobGroup": "72",
                    "status": "SUCCEEDED",
                    "numTasks": 1,
                    "numActiveTasks": 0,
                    "numCompletedTasks": 1,
                    "numSkippedTasks": 0,
                    "numFailedTasks": 0,
                    "numKilledTasks": 0,
                    "numCompletedIndices": 1,
                    "numActiveStages": 0,
                    "numCompletedStages": 1,
                    "numSkippedStages": 0,
                    "numFailedStages": 0,
                    "killedTasksSummary": {}
                  },
                  {
                    "displayName": "first at ReadWrite.scala:587",
                    "dataWritten": 0,
                    "dataRead": 698,
                    "rowCount": 1,
                    "usageDescription": "",
                    "jobId": 105,
                    "name": "first at ReadWrite.scala:587",
                    "description": "Job group for statement 72:\nloaded_model_v2 = PipelineModel.load(\"Users/vankempenklaas/fall-2023-reddit-project-team-26/code/ml/model_files/popularity_model_v3\")",
                    "submissionTime": "2023-11-30T17:10:27.376GMT",
                    "completionTime": "2023-11-30T17:10:27.449GMT",
                    "stageIds": [
                      270
                    ],
                    "jobGroup": "72",
                    "status": "SUCCEEDED",
                    "numTasks": 1,
                    "numActiveTasks": 0,
                    "numCompletedTasks": 1,
                    "numSkippedTasks": 0,
                    "numFailedTasks": 0,
                    "numKilledTasks": 0,
                    "numCompletedIndices": 1,
                    "numActiveStages": 0,
                    "numCompletedStages": 1,
                    "numSkippedStages": 0,
                    "numFailedStages": 0,
                    "killedTasksSummary": {}
                  },
                  {
                    "displayName": "first at ReadWrite.scala:587",
                    "dataWritten": 0,
                    "dataRead": 397,
                    "rowCount": 1,
                    "usageDescription": "",
                    "jobId": 104,
                    "name": "first at ReadWrite.scala:587",
                    "description": "Job group for statement 72:\nloaded_model_v2 = PipelineModel.load(\"Users/vankempenklaas/fall-2023-reddit-project-team-26/code/ml/model_files/popularity_model_v3\")",
                    "submissionTime": "2023-11-30T17:10:27.257GMT",
                    "completionTime": "2023-11-30T17:10:27.312GMT",
                    "stageIds": [
                      269
                    ],
                    "jobGroup": "72",
                    "status": "SUCCEEDED",
                    "numTasks": 1,
                    "numActiveTasks": 0,
                    "numCompletedTasks": 1,
                    "numSkippedTasks": 0,
                    "numFailedTasks": 0,
                    "numKilledTasks": 0,
                    "numCompletedIndices": 1,
                    "numActiveStages": 0,
                    "numCompletedStages": 1,
                    "numSkippedStages": 0,
                    "numFailedStages": 0,
                    "killedTasksSummary": {}
                  },
                  {
                    "displayName": "first at ReadWrite.scala:587",
                    "dataWritten": 0,
                    "dataRead": 397,
                    "rowCount": 1,
                    "usageDescription": "",
                    "jobId": 103,
                    "name": "first at ReadWrite.scala:587",
                    "description": "Job group for statement 72:\nloaded_model_v2 = PipelineModel.load(\"Users/vankempenklaas/fall-2023-reddit-project-team-26/code/ml/model_files/popularity_model_v3\")",
                    "submissionTime": "2023-11-30T17:10:27.137GMT",
                    "completionTime": "2023-11-30T17:10:27.187GMT",
                    "stageIds": [
                      268
                    ],
                    "jobGroup": "72",
                    "status": "SUCCEEDED",
                    "numTasks": 1,
                    "numActiveTasks": 0,
                    "numCompletedTasks": 1,
                    "numSkippedTasks": 0,
                    "numFailedTasks": 0,
                    "numKilledTasks": 0,
                    "numCompletedIndices": 1,
                    "numActiveStages": 0,
                    "numCompletedStages": 1,
                    "numSkippedStages": 0,
                    "numFailedStages": 0,
                    "killedTasksSummary": {}
                  },
                  {
                    "displayName": "head at OneHotEncoder.scala:419",
                    "dataWritten": 0,
                    "dataRead": 1621,
                    "rowCount": 1,
                    "usageDescription": "",
                    "jobId": 102,
                    "name": "head at OneHotEncoder.scala:419",
                    "description": "Job group for statement 72:\nloaded_model_v2 = PipelineModel.load(\"Users/vankempenklaas/fall-2023-reddit-project-team-26/code/ml/model_files/popularity_model_v3\")",
                    "submissionTime": "2023-11-30T17:10:26.898GMT",
                    "completionTime": "2023-11-30T17:10:27.061GMT",
                    "stageIds": [
                      267
                    ],
                    "jobGroup": "72",
                    "status": "SUCCEEDED",
                    "numTasks": 1,
                    "numActiveTasks": 0,
                    "numCompletedTasks": 1,
                    "numSkippedTasks": 0,
                    "numFailedTasks": 0,
                    "numKilledTasks": 0,
                    "numCompletedIndices": 1,
                    "numActiveStages": 0,
                    "numCompletedStages": 1,
                    "numSkippedStages": 0,
                    "numFailedStages": 0,
                    "killedTasksSummary": {}
                  },
                  {
                    "displayName": "parquet at OneHotEncoder.scala:418",
                    "dataWritten": 0,
                    "dataRead": 0,
                    "rowCount": 0,
                    "usageDescription": "",
                    "jobId": 101,
                    "name": "parquet at OneHotEncoder.scala:418",
                    "description": "Job group for statement 72:\nloaded_model_v2 = PipelineModel.load(\"Users/vankempenklaas/fall-2023-reddit-project-team-26/code/ml/model_files/popularity_model_v3\")",
                    "submissionTime": "2023-11-30T17:10:26.610GMT",
                    "completionTime": "2023-11-30T17:10:26.689GMT",
                    "stageIds": [
                      266
                    ],
                    "jobGroup": "72",
                    "status": "SUCCEEDED",
                    "numTasks": 1,
                    "numActiveTasks": 0,
                    "numCompletedTasks": 1,
                    "numSkippedTasks": 0,
                    "numFailedTasks": 0,
                    "numKilledTasks": 0,
                    "numCompletedIndices": 1,
                    "numActiveStages": 0,
                    "numCompletedStages": 1,
                    "numSkippedStages": 0,
                    "numFailedStages": 0,
                    "killedTasksSummary": {}
                  },
                  {
                    "displayName": "first at ReadWrite.scala:587",
                    "dataWritten": 0,
                    "dataRead": 336,
                    "rowCount": 1,
                    "usageDescription": "",
                    "jobId": 100,
                    "name": "first at ReadWrite.scala:587",
                    "description": "Job group for statement 72:\nloaded_model_v2 = PipelineModel.load(\"Users/vankempenklaas/fall-2023-reddit-project-team-26/code/ml/model_files/popularity_model_v3\")",
                    "submissionTime": "2023-11-30T17:10:26.427GMT",
                    "completionTime": "2023-11-30T17:10:26.477GMT",
                    "stageIds": [
                      265
                    ],
                    "jobGroup": "72",
                    "status": "SUCCEEDED",
                    "numTasks": 1,
                    "numActiveTasks": 0,
                    "numCompletedTasks": 1,
                    "numSkippedTasks": 0,
                    "numFailedTasks": 0,
                    "numKilledTasks": 0,
                    "numCompletedIndices": 1,
                    "numActiveStages": 0,
                    "numCompletedStages": 1,
                    "numSkippedStages": 0,
                    "numFailedStages": 0,
                    "killedTasksSummary": {}
                  },
                  {
                    "displayName": "first at ReadWrite.scala:587",
                    "dataWritten": 0,
                    "dataRead": 336,
                    "rowCount": 1,
                    "usageDescription": "",
                    "jobId": 99,
                    "name": "first at ReadWrite.scala:587",
                    "description": "Job group for statement 72:\nloaded_model_v2 = PipelineModel.load(\"Users/vankempenklaas/fall-2023-reddit-project-team-26/code/ml/model_files/popularity_model_v3\")",
                    "submissionTime": "2023-11-30T17:10:26.307GMT",
                    "completionTime": "2023-11-30T17:10:26.355GMT",
                    "stageIds": [
                      264
                    ],
                    "jobGroup": "72",
                    "status": "SUCCEEDED",
                    "numTasks": 1,
                    "numActiveTasks": 0,
                    "numCompletedTasks": 1,
                    "numSkippedTasks": 0,
                    "numFailedTasks": 0,
                    "numKilledTasks": 0,
                    "numCompletedIndices": 1,
                    "numActiveStages": 0,
                    "numCompletedStages": 1,
                    "numSkippedStages": 0,
                    "numFailedStages": 0,
                    "killedTasksSummary": {}
                  },
                  {
                    "displayName": "head at OneHotEncoder.scala:419",
                    "dataWritten": 0,
                    "dataRead": 1621,
                    "rowCount": 1,
                    "usageDescription": "",
                    "jobId": 98,
                    "name": "head at OneHotEncoder.scala:419",
                    "description": "Job group for statement 72:\nloaded_model_v2 = PipelineModel.load(\"Users/vankempenklaas/fall-2023-reddit-project-team-26/code/ml/model_files/popularity_model_v3\")",
                    "submissionTime": "2023-11-30T17:10:26.085GMT",
                    "completionTime": "2023-11-30T17:10:26.215GMT",
                    "stageIds": [
                      263
                    ],
                    "jobGroup": "72",
                    "status": "SUCCEEDED",
                    "numTasks": 1,
                    "numActiveTasks": 0,
                    "numCompletedTasks": 1,
                    "numSkippedTasks": 0,
                    "numFailedTasks": 0,
                    "numKilledTasks": 0,
                    "numCompletedIndices": 1,
                    "numActiveStages": 0,
                    "numCompletedStages": 1,
                    "numSkippedStages": 0,
                    "numFailedStages": 0,
                    "killedTasksSummary": {}
                  },
                  {
                    "displayName": "parquet at OneHotEncoder.scala:418",
                    "dataWritten": 0,
                    "dataRead": 0,
                    "rowCount": 0,
                    "usageDescription": "",
                    "jobId": 97,
                    "name": "parquet at OneHotEncoder.scala:418",
                    "description": "Job group for statement 72:\nloaded_model_v2 = PipelineModel.load(\"Users/vankempenklaas/fall-2023-reddit-project-team-26/code/ml/model_files/popularity_model_v3\")",
                    "submissionTime": "2023-11-30T17:10:25.773GMT",
                    "completionTime": "2023-11-30T17:10:26.025GMT",
                    "stageIds": [
                      262
                    ],
                    "jobGroup": "72",
                    "status": "SUCCEEDED",
                    "numTasks": 1,
                    "numActiveTasks": 0,
                    "numCompletedTasks": 1,
                    "numSkippedTasks": 0,
                    "numFailedTasks": 0,
                    "numKilledTasks": 0,
                    "numCompletedIndices": 1,
                    "numActiveStages": 0,
                    "numCompletedStages": 1,
                    "numSkippedStages": 0,
                    "numFailedStages": 0,
                    "killedTasksSummary": {}
                  },
                  {
                    "displayName": "first at ReadWrite.scala:587",
                    "dataWritten": 0,
                    "dataRead": 328,
                    "rowCount": 1,
                    "usageDescription": "",
                    "jobId": 96,
                    "name": "first at ReadWrite.scala:587",
                    "description": "Job group for statement 72:\nloaded_model_v2 = PipelineModel.load(\"Users/vankempenklaas/fall-2023-reddit-project-team-26/code/ml/model_files/popularity_model_v3\")",
                    "submissionTime": "2023-11-30T17:10:25.363GMT",
                    "completionTime": "2023-11-30T17:10:25.422GMT",
                    "stageIds": [
                      261
                    ],
                    "jobGroup": "72",
                    "status": "SUCCEEDED",
                    "numTasks": 1,
                    "numActiveTasks": 0,
                    "numCompletedTasks": 1,
                    "numSkippedTasks": 0,
                    "numFailedTasks": 0,
                    "numKilledTasks": 0,
                    "numCompletedIndices": 1,
                    "numActiveStages": 0,
                    "numCompletedStages": 1,
                    "numSkippedStages": 0,
                    "numFailedStages": 0,
                    "killedTasksSummary": {}
                  },
                  {
                    "displayName": "first at ReadWrite.scala:587",
                    "dataWritten": 0,
                    "dataRead": 328,
                    "rowCount": 1,
                    "usageDescription": "",
                    "jobId": 95,
                    "name": "first at ReadWrite.scala:587",
                    "description": "Job group for statement 72:\nloaded_model_v2 = PipelineModel.load(\"Users/vankempenklaas/fall-2023-reddit-project-team-26/code/ml/model_files/popularity_model_v3\")",
                    "submissionTime": "2023-11-30T17:10:25.239GMT",
                    "completionTime": "2023-11-30T17:10:25.298GMT",
                    "stageIds": [
                      260
                    ],
                    "jobGroup": "72",
                    "status": "SUCCEEDED",
                    "numTasks": 1,
                    "numActiveTasks": 0,
                    "numCompletedTasks": 1,
                    "numSkippedTasks": 0,
                    "numFailedTasks": 0,
                    "numKilledTasks": 0,
                    "numCompletedIndices": 1,
                    "numActiveStages": 0,
                    "numCompletedStages": 1,
                    "numSkippedStages": 0,
                    "numFailedStages": 0,
                    "killedTasksSummary": {}
                  },
                  {
                    "displayName": "head at StringIndexer.scala:524",
                    "dataWritten": 0,
                    "dataRead": 1847,
                    "rowCount": 1,
                    "usageDescription": "",
                    "jobId": 94,
                    "name": "head at StringIndexer.scala:524",
                    "description": "Job group for statement 72:\nloaded_model_v2 = PipelineModel.load(\"Users/vankempenklaas/fall-2023-reddit-project-team-26/code/ml/model_files/popularity_model_v3\")",
                    "submissionTime": "2023-11-30T17:10:24.879GMT",
                    "completionTime": "2023-11-30T17:10:25.161GMT",
                    "stageIds": [
                      259
                    ],
                    "jobGroup": "72",
                    "status": "SUCCEEDED",
                    "numTasks": 1,
                    "numActiveTasks": 0,
                    "numCompletedTasks": 1,
                    "numSkippedTasks": 0,
                    "numFailedTasks": 0,
                    "numKilledTasks": 0,
                    "numCompletedIndices": 1,
                    "numActiveStages": 0,
                    "numCompletedStages": 1,
                    "numSkippedStages": 0,
                    "numFailedStages": 0,
                    "killedTasksSummary": {}
                  },
                  {
                    "displayName": "parquet at StringIndexer.scala:523",
                    "dataWritten": 0,
                    "dataRead": 0,
                    "rowCount": 0,
                    "usageDescription": "",
                    "jobId": 93,
                    "name": "parquet at StringIndexer.scala:523",
                    "description": "Job group for statement 72:\nloaded_model_v2 = PipelineModel.load(\"Users/vankempenklaas/fall-2023-reddit-project-team-26/code/ml/model_files/popularity_model_v3\")",
                    "submissionTime": "2023-11-30T17:10:24.704GMT",
                    "completionTime": "2023-11-30T17:10:24.828GMT",
                    "stageIds": [
                      258
                    ],
                    "jobGroup": "72",
                    "status": "SUCCEEDED",
                    "numTasks": 1,
                    "numActiveTasks": 0,
                    "numCompletedTasks": 1,
                    "numSkippedTasks": 0,
                    "numFailedTasks": 0,
                    "numKilledTasks": 0,
                    "numCompletedIndices": 1,
                    "numActiveStages": 0,
                    "numCompletedStages": 1,
                    "numSkippedStages": 0,
                    "numFailedStages": 0,
                    "killedTasksSummary": {}
                  },
                  {
                    "displayName": "first at ReadWrite.scala:587",
                    "dataWritten": 0,
                    "dataRead": 374,
                    "rowCount": 1,
                    "usageDescription": "",
                    "jobId": 92,
                    "name": "first at ReadWrite.scala:587",
                    "description": "Job group for statement 72:\nloaded_model_v2 = PipelineModel.load(\"Users/vankempenklaas/fall-2023-reddit-project-team-26/code/ml/model_files/popularity_model_v3\")",
                    "submissionTime": "2023-11-30T17:10:24.511GMT",
                    "completionTime": "2023-11-30T17:10:24.565GMT",
                    "stageIds": [
                      257
                    ],
                    "jobGroup": "72",
                    "status": "SUCCEEDED",
                    "numTasks": 1,
                    "numActiveTasks": 0,
                    "numCompletedTasks": 1,
                    "numSkippedTasks": 0,
                    "numFailedTasks": 0,
                    "numKilledTasks": 0,
                    "numCompletedIndices": 1,
                    "numActiveStages": 0,
                    "numCompletedStages": 1,
                    "numSkippedStages": 0,
                    "numFailedStages": 0,
                    "killedTasksSummary": {}
                  }
                ],
                "limit": 20,
                "rule": "ALL_DESC"
              },
              "parent_msg_id": "f7bc9417-3e1d-48d7-91d4-b000aa63e10c"
            },
            "text/plain": "StatementMeta(d3c1b951-094c-48e1-919d-e32bc175397b, 48, 72, Finished, Available)"
          },
          "metadata": {}
        }
      ],
      "execution_count": 67,
      "metadata": {
        "jupyter": {
          "source_hidden": false,
          "outputs_hidden": false
        },
        "nteract": {
          "transient": {
            "deleting": false
          }
        },
        "gather": {
          "logged": 1701364237016
        }
      }
    },
    {
      "cell_type": "code",
      "source": [
        "test_predictions = loaded_model_v2.transform(test_data)\n",
        "train_predictions = loaded_model_v2.transform(train_data)"
      ],
      "outputs": [
        {
          "output_type": "display_data",
          "data": {
            "application/vnd.livy.statement-meta+json": {
              "spark_pool": "d3c1b951-094c-48e1-919d-e32bc175397b",
              "session_id": "48",
              "statement_id": 100,
              "state": "finished",
              "livy_statement_state": "available",
              "queued_time": "2023-11-30T17:18:22.0099792Z",
              "session_start_time": null,
              "execution_start_time": "2023-11-30T17:18:22.1297767Z",
              "execution_finish_time": "2023-11-30T17:18:29.0705076Z",
              "spark_jobs": {
                "numbers": {
                  "FAILED": 0,
                  "RUNNING": 0,
                  "UNKNOWN": 0,
                  "SUCCEEDED": 0
                },
                "jobs": [],
                "limit": 20,
                "rule": "ALL_DESC"
              },
              "parent_msg_id": "adfa1588-4c8d-4572-8970-0da019944699"
            },
            "text/plain": "StatementMeta(d3c1b951-094c-48e1-919d-e32bc175397b, 48, 100, Finished, Available)"
          },
          "metadata": {}
        }
      ],
      "execution_count": 95,
      "metadata": {
        "jupyter": {
          "source_hidden": false,
          "outputs_hidden": false
        },
        "nteract": {
          "transient": {
            "deleting": false
          }
        },
        "gather": {
          "logged": 1701364709380
        }
      }
    },
    {
      "cell_type": "code",
      "source": [
        "evaluator = RegressionEvaluator(labelCol=\"score\", predictionCol=\"prediction\", metricName=\"rmse\")\n",
        "test_rmse = evaluator.evaluate(test_predictions)\n",
        "train_rmse = evaluator.evaluate(train_predictions)\n",
        "print(\"Root Mean Squared Error (RMSE) on test data = {:.2f}\".format(test_rmse))\n",
        "print(\"Root Mean Squared Error (RMSE) on train data = {:.2f}\".format(train_rmse))"
      ],
      "outputs": [
        {
          "output_type": "display_data",
          "data": {
            "application/vnd.livy.statement-meta+json": {
              "spark_pool": "d3c1b951-094c-48e1-919d-e32bc175397b",
              "session_id": "48",
              "statement_id": 101,
              "state": "finished",
              "livy_statement_state": "available",
              "queued_time": "2023-11-30T17:18:49.2999139Z",
              "session_start_time": null,
              "execution_start_time": "2023-11-30T17:18:49.4171899Z",
              "execution_finish_time": "2023-11-30T17:19:10.8532359Z",
              "spark_jobs": {
                "numbers": {
                  "FAILED": 0,
                  "RUNNING": 0,
                  "UNKNOWN": 0,
                  "SUCCEEDED": 3
                },
                "jobs": [
                  {
                    "displayName": "treeAggregate at Statistics.scala:58",
                    "dataWritten": 71251,
                    "dataRead": 185225292,
                    "rowCount": 601,
                    "usageDescription": "",
                    "jobId": 194,
                    "name": "treeAggregate at Statistics.scala:58",
                    "description": "Job group for statement 101:\nevaluator = RegressionEvaluator(labelCol=\"score\", predictionCol=\"prediction\", metricName=\"rmse\")\ntest_rmse = evaluator.evaluate(test_predictions)\ntrain_rmse = evaluator.evaluate(train_predictions)\nprint(\"Root Mean Squared Error (RMSE) on test data = {:.2f}\".format(test_rmse))\nprint(\"Root Mean Squared Error (RMSE) on train data = {:.2f}\".format(train_rmse))",
                    "submissionTime": "2023-11-30T17:18:57.836GMT",
                    "completionTime": "2023-11-30T17:19:09.220GMT",
                    "stageIds": [
                      470,
                      471,
                      468,
                      472,
                      469
                    ],
                    "jobGroup": "101",
                    "status": "SUCCEEDED",
                    "numTasks": 430,
                    "numActiveTasks": 0,
                    "numCompletedTasks": 213,
                    "numSkippedTasks": 217,
                    "numFailedTasks": 0,
                    "numKilledTasks": 0,
                    "numCompletedIndices": 213,
                    "numActiveStages": 0,
                    "numCompletedStages": 2,
                    "numSkippedStages": 3,
                    "numFailedStages": 0,
                    "killedTasksSummary": {}
                  },
                  {
                    "displayName": "treeAggregate at Statistics.scala:58",
                    "dataWritten": 6035,
                    "dataRead": 255543779,
                    "rowCount": 865506,
                    "usageDescription": "",
                    "jobId": 193,
                    "name": "treeAggregate at Statistics.scala:58",
                    "description": "Job group for statement 101:\nevaluator = RegressionEvaluator(labelCol=\"score\", predictionCol=\"prediction\", metricName=\"rmse\")\ntest_rmse = evaluator.evaluate(test_predictions)\ntrain_rmse = evaluator.evaluate(train_predictions)\nprint(\"Root Mean Squared Error (RMSE) on test data = {:.2f}\".format(test_rmse))\nprint(\"Root Mean Squared Error (RMSE) on train data = {:.2f}\".format(train_rmse))",
                    "submissionTime": "2023-11-30T17:18:52.923GMT",
                    "completionTime": "2023-11-30T17:18:57.708GMT",
                    "stageIds": [
                      466,
                      463,
                      467,
                      464,
                      465
                    ],
                    "jobGroup": "101",
                    "status": "SUCCEEDED",
                    "numTasks": 237,
                    "numActiveTasks": 0,
                    "numCompletedTasks": 20,
                    "numSkippedTasks": 217,
                    "numFailedTasks": 0,
                    "numKilledTasks": 0,
                    "numCompletedIndices": 20,
                    "numActiveStages": 0,
                    "numCompletedStages": 2,
                    "numSkippedStages": 3,
                    "numFailedStages": 0,
                    "killedTasksSummary": {}
                  },
                  {
                    "displayName": "rdd at RegressionEvaluator.scala:125",
                    "dataWritten": 255537744,
                    "dataRead": 218309603,
                    "rowCount": 865672,
                    "usageDescription": "",
                    "jobId": 192,
                    "name": "rdd at RegressionEvaluator.scala:125",
                    "description": "Job group for statement 101:\nevaluator = RegressionEvaluator(labelCol=\"score\", predictionCol=\"prediction\", metricName=\"rmse\")\ntest_rmse = evaluator.evaluate(test_predictions)\ntrain_rmse = evaluator.evaluate(train_predictions)\nprint(\"Root Mean Squared Error (RMSE) on test data = {:.2f}\".format(test_rmse))\nprint(\"Root Mean Squared Error (RMSE) on train data = {:.2f}\".format(train_rmse))",
                    "submissionTime": "2023-11-30T17:18:49.503GMT",
                    "completionTime": "2023-11-30T17:18:52.846GMT",
                    "stageIds": [
                      462,
                      460,
                      461
                    ],
                    "jobGroup": "101",
                    "status": "SUCCEEDED",
                    "numTasks": 217,
                    "numActiveTasks": 0,
                    "numCompletedTasks": 200,
                    "numSkippedTasks": 17,
                    "numFailedTasks": 0,
                    "numKilledTasks": 0,
                    "numCompletedIndices": 200,
                    "numActiveStages": 0,
                    "numCompletedStages": 1,
                    "numSkippedStages": 2,
                    "numFailedStages": 0,
                    "killedTasksSummary": {}
                  }
                ],
                "limit": 20,
                "rule": "ALL_DESC"
              },
              "parent_msg_id": "2856f0c5-af21-490b-a6fc-25b0aef20f2f"
            },
            "text/plain": "StatementMeta(d3c1b951-094c-48e1-919d-e32bc175397b, 48, 101, Finished, Available)"
          },
          "metadata": {}
        },
        {
          "output_type": "stream",
          "name": "stdout",
          "text": "Root Mean Squared Error (RMSE) on test data = 37.25\nRoot Mean Squared Error (RMSE) on train data = 39.33\n"
        }
      ],
      "execution_count": 96,
      "metadata": {
        "jupyter": {
          "source_hidden": false,
          "outputs_hidden": false
        },
        "nteract": {
          "transient": {
            "deleting": false
          }
        },
        "gather": {
          "logged": 1701364751155
        }
      }
    },
    {
      "cell_type": "code",
      "source": [
        "predictions_df = test_predictions.sample(fraction = 0.07, seed = 92).select(\"prediction\").toPandas()\n",
        "true_labels_df = test_predictions.sample(fraction = 0.07, seed = 92).select(\"score\").toPandas()"
      ],
      "outputs": [
        {
          "output_type": "display_data",
          "data": {
            "application/vnd.livy.statement-meta+json": {
              "spark_pool": "d3c1b951-094c-48e1-919d-e32bc175397b",
              "session_id": "48",
              "statement_id": 128,
              "state": "finished",
              "livy_statement_state": "available",
              "queued_time": "2023-11-30T17:37:00.6822999Z",
              "session_start_time": null,
              "execution_start_time": "2023-11-30T17:37:00.8136228Z",
              "execution_finish_time": "2023-11-30T17:37:24.1298997Z",
              "spark_jobs": {
                "numbers": {
                  "FAILED": 0,
                  "RUNNING": 0,
                  "UNKNOWN": 0,
                  "SUCCEEDED": 4
                },
                "jobs": [
                  {
                    "displayName": "toPandas at /tmp/ipykernel_7828/95333478.py:2",
                    "dataWritten": 0,
                    "dataRead": 0,
                    "rowCount": 0,
                    "usageDescription": "",
                    "jobId": 243,
                    "name": "toPandas at /tmp/ipykernel_7828/95333478.py:2",
                    "description": "Job group for statement 128:\npredictions_df = test_predictions.sample(fraction = 0.07, seed = 92).select(\"prediction\").toPandas()\ntrue_labels_df = test_predictions.sample(fraction = 0.07, seed = 92).select(\"score\").toPandas()",
                    "submissionTime": "2023-11-30T17:37:22.537GMT",
                    "completionTime": "2023-11-30T17:37:23.328GMT",
                    "stageIds": [
                      571,
                      572,
                      569,
                      570
                    ],
                    "jobGroup": "128",
                    "status": "SUCCEEDED",
                    "numTasks": 234,
                    "numActiveTasks": 0,
                    "numCompletedTasks": 17,
                    "numSkippedTasks": 217,
                    "numFailedTasks": 0,
                    "numKilledTasks": 0,
                    "numCompletedIndices": 17,
                    "numActiveStages": 0,
                    "numCompletedStages": 1,
                    "numSkippedStages": 3,
                    "numFailedStages": 0,
                    "killedTasksSummary": {}
                  },
                  {
                    "displayName": "toPandas at /tmp/ipykernel_7828/95333478.py:2",
                    "dataWritten": 0,
                    "dataRead": 0,
                    "rowCount": 0,
                    "usageDescription": "",
                    "jobId": 242,
                    "name": "toPandas at /tmp/ipykernel_7828/95333478.py:2",
                    "description": "Job group for statement 128:\npredictions_df = test_predictions.sample(fraction = 0.07, seed = 92).select(\"prediction\").toPandas()\ntrue_labels_df = test_predictions.sample(fraction = 0.07, seed = 92).select(\"score\").toPandas()",
                    "submissionTime": "2023-11-30T17:37:08.330GMT",
                    "completionTime": "2023-11-30T17:37:22.491GMT",
                    "stageIds": [
                      568,
                      566,
                      567
                    ],
                    "jobGroup": "128",
                    "status": "SUCCEEDED",
                    "numTasks": 217,
                    "numActiveTasks": 0,
                    "numCompletedTasks": 200,
                    "numSkippedTasks": 17,
                    "numFailedTasks": 0,
                    "numKilledTasks": 0,
                    "numCompletedIndices": 200,
                    "numActiveStages": 0,
                    "numCompletedStages": 1,
                    "numSkippedStages": 2,
                    "numFailedStages": 0,
                    "killedTasksSummary": {}
                  },
                  {
                    "displayName": "toPandas at /tmp/ipykernel_7828/95333478.py:1",
                    "dataWritten": 0,
                    "dataRead": 0,
                    "rowCount": 0,
                    "usageDescription": "",
                    "jobId": 241,
                    "name": "toPandas at /tmp/ipykernel_7828/95333478.py:1",
                    "description": "Job group for statement 128:\npredictions_df = test_predictions.sample(fraction = 0.07, seed = 92).select(\"prediction\").toPandas()\ntrue_labels_df = test_predictions.sample(fraction = 0.07, seed = 92).select(\"score\").toPandas()",
                    "submissionTime": "2023-11-30T17:37:04.834GMT",
                    "completionTime": "2023-11-30T17:37:08.209GMT",
                    "stageIds": [
                      564,
                      565,
                      562,
                      563
                    ],
                    "jobGroup": "128",
                    "status": "SUCCEEDED",
                    "numTasks": 234,
                    "numActiveTasks": 0,
                    "numCompletedTasks": 17,
                    "numSkippedTasks": 217,
                    "numFailedTasks": 0,
                    "numKilledTasks": 0,
                    "numCompletedIndices": 17,
                    "numActiveStages": 0,
                    "numCompletedStages": 1,
                    "numSkippedStages": 3,
                    "numFailedStages": 0,
                    "killedTasksSummary": {}
                  },
                  {
                    "displayName": "toPandas at /tmp/ipykernel_7828/95333478.py:1",
                    "dataWritten": 0,
                    "dataRead": 0,
                    "rowCount": 0,
                    "usageDescription": "",
                    "jobId": 240,
                    "name": "toPandas at /tmp/ipykernel_7828/95333478.py:1",
                    "description": "Job group for statement 128:\npredictions_df = test_predictions.sample(fraction = 0.07, seed = 92).select(\"prediction\").toPandas()\ntrue_labels_df = test_predictions.sample(fraction = 0.07, seed = 92).select(\"score\").toPandas()",
                    "submissionTime": "2023-11-30T17:37:00.903GMT",
                    "completionTime": "2023-11-30T17:37:04.778GMT",
                    "stageIds": [
                      560,
                      561,
                      559
                    ],
                    "jobGroup": "128",
                    "status": "SUCCEEDED",
                    "numTasks": 217,
                    "numActiveTasks": 0,
                    "numCompletedTasks": 200,
                    "numSkippedTasks": 17,
                    "numFailedTasks": 0,
                    "numKilledTasks": 0,
                    "numCompletedIndices": 200,
                    "numActiveStages": 0,
                    "numCompletedStages": 1,
                    "numSkippedStages": 2,
                    "numFailedStages": 0,
                    "killedTasksSummary": {}
                  }
                ],
                "limit": 20,
                "rule": "ALL_DESC"
              },
              "parent_msg_id": "6c5b8cbc-0623-45d8-8080-c2b04dae877f"
            },
            "text/plain": "StatementMeta(d3c1b951-094c-48e1-919d-e32bc175397b, 48, 128, Finished, Available)"
          },
          "metadata": {}
        }
      ],
      "execution_count": 123,
      "metadata": {
        "jupyter": {
          "source_hidden": false,
          "outputs_hidden": false
        },
        "nteract": {
          "transient": {
            "deleting": false
          }
        },
        "gather": {
          "logged": 1701365844299
        }
      }
    },
    {
      "cell_type": "code",
      "source": [
        "# plot true values against predicted values\n",
        "plt.scatter(true_labels_df, predictions_df, alpha=0.5, s = 10, c = [\"darkgreen\"])\n",
        "plt.title(\"True vs Predicted Score (More Complex Model)\\n\", fontsize = 16)\n",
        "plt.xlabel(\"True Score \\n\\n (X axis limited to -20 to 80 for readability)\", fontsize = 14)\n",
        "plt.ylabel(\"Predicted Score\", fontsize = 14)\n",
        "plt.ylim([0,40])\n",
        "plt.xlim([-25,80])\n",
        "plt.xticks(fontsize = 12)\n",
        "plt.yticks(fontsize = 12)\n",
        "plt.savefig(\"Users/vankempenklaas/fall-2023-reddit-project-team-26/data/plots/ml_q1_complexmodel_plot.png\")\n",
        "plt.show()"
      ],
      "outputs": [
        {
          "output_type": "display_data",
          "data": {
            "application/vnd.livy.statement-meta+json": {
              "spark_pool": "d3c1b951-094c-48e1-919d-e32bc175397b",
              "session_id": "48",
              "statement_id": 129,
              "state": "finished",
              "livy_statement_state": "available",
              "queued_time": "2023-11-30T17:37:25.5773826Z",
              "session_start_time": null,
              "execution_start_time": "2023-11-30T17:37:25.7407619Z",
              "execution_finish_time": "2023-11-30T17:37:26.6065062Z",
              "spark_jobs": {
                "numbers": {
                  "FAILED": 0,
                  "RUNNING": 0,
                  "UNKNOWN": 0,
                  "SUCCEEDED": 0
                },
                "jobs": [],
                "limit": 20,
                "rule": "ALL_DESC"
              },
              "parent_msg_id": "8f530b1e-8316-4aee-8595-096e207a61c1"
            },
            "text/plain": "StatementMeta(d3c1b951-094c-48e1-919d-e32bc175397b, 48, 129, Finished, Available)"
          },
          "metadata": {}
        },
        {
          "output_type": "display_data",
          "data": {
            "text/plain": "<Figure size 432x288 with 1 Axes>",
            "image/png": "[encoded data removed]"
          },
          "metadata": {
            "needs_background": "light"
          }
        }
      ],
      "execution_count": 124,
      "metadata": {
        "jupyter": {
          "source_hidden": false,
          "outputs_hidden": false
        },
        "nteract": {
          "transient": {
            "deleting": false
          }
        },
        "gather": {
          "logged": 1701365846822
        }
      }
    },
    {
      "cell_type": "code",
      "source": [
        "importances = loaded_model_v2.stages[-1].featureImportances\n",
        "\n",
        "var_imp = pd.DataFrame(list(zip(feature_cols, importances)),columns=['feature', 'importance'])\n",
        "var_imp.sort_values(by = \"importance\", ascending=False, inplace=True)\n",
        "print(\" Complex Model Feature Importance\")\n",
        "print(tabulate(var_imp.set_index(\"feature\"), headers='keys', tablefmt='fancy_grid'))"
      ],
      "outputs": [
        {
          "output_type": "display_data",
          "data": {
            "application/vnd.livy.statement-meta+json": {
              "spark_pool": "d3c1b951-094c-48e1-919d-e32bc175397b",
              "session_id": "48",
              "statement_id": 115,
              "state": "finished",
              "livy_statement_state": "available",
              "queued_time": "2023-11-30T17:24:03.7080502Z",
              "session_start_time": null,
              "execution_start_time": "2023-11-30T17:24:03.8480389Z",
              "execution_finish_time": "2023-11-30T17:24:04.2107317Z",
              "spark_jobs": {
                "numbers": {
                  "FAILED": 0,
                  "RUNNING": 0,
                  "UNKNOWN": 0,
                  "SUCCEEDED": 0
                },
                "jobs": [],
                "limit": 20,
                "rule": "ALL_DESC"
              },
              "parent_msg_id": "ad849af6-d1ab-47f0-bff1-d802cdb5e8f4"
            },
            "text/plain": "StatementMeta(d3c1b951-094c-48e1-919d-e32bc175397b, 48, 115, Finished, Available)"
          },
          "metadata": {}
        },
        {
          "output_type": "stream",
          "name": "stdout",
          "text": " Complex Model Feature Importance\n╒═════════════════╤══════════════╕\n│ feature         │   importance │\n╞═════════════════╪══════════════╡\n│ comment_length  │   0.21808    │\n├─────────────────┼──────────────┤\n│ author_activity │   0.203866   │\n├─────────────────┼──────────────┤\n│ hour            │   0.203269   │\n├─────────────────┼──────────────┤\n│ day             │   0.184356   │\n├─────────────────┼──────────────┤\n│ month_vec       │   0.0172099  │\n├─────────────────┼──────────────┤\n│ team_index      │   0.0103959  │\n├─────────────────┼──────────────┤\n│ sentiment_vec   │   0.00865863 │\n├─────────────────┼──────────────┤\n│ year            │   0.00547859 │\n╘═════════════════╧══════════════╛\n"
        }
      ],
      "execution_count": 110,
      "metadata": {
        "jupyter": {
          "source_hidden": false,
          "outputs_hidden": false
        },
        "nteract": {
          "transient": {
            "deleting": false
          }
        },
        "gather": {
          "logged": 1701365044460
        }
      }
    },
    {
      "cell_type": "code",
      "source": [],
      "outputs": [],
      "execution_count": null,
      "metadata": {
        "jupyter": {
          "source_hidden": false,
          "outputs_hidden": false
        },
        "nteract": {
          "transient": {
            "deleting": false
          }
        }
      }
    }
  ],
  "metadata": {
    "kernelspec": {
      "name": "synapse_pyspark",
      "language": "Python",
      "display_name": "Synapse PySpark"
    },
    "language_info": {
      "name": "python",
      "version": "3.8.0",
      "mimetype": "text/x-python",
      "file_extension": ".py",
      "pygments_lexer": "ipython",
      "codemirror_mode": "ipython",
      "nbconvert_exporter": "python"
    },
    "microsoft": {
      "ms_spell_check": {
        "ms_spell_check_language": "en"
      },
      "host": {
        "AzureML": {
          "notebookHasBeenCompleted": true
        }
      }
    },
    "kernel_info": {
      "name": "synapse_pyspark"
    },
    "nteract": {
      "version": "nteract-front-end@1.0.0"
    }
  },
  "nbformat": 4,
  "nbformat_minor": 2
}
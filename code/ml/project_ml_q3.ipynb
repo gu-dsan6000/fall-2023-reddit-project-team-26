{
 "cells": [
  {
   "cell_type": "raw",
   "metadata": {},
   "source": [
    "---\n",
    "format: html\n",
    "embed-resources: True\n",
    "---"
   ]
  },
  {
   "cell_type": "code",
   "execution_count": 3,
   "id": "d4266db7-01c4-4157-9cc7-cb0d067a6d3b",
   "metadata": {
    "tags": []
   },
   "outputs": [
    {
     "name": "stdout",
     "output_type": "stream",
     "text": [
      "Retrieving notices: ...working... done\n",
      "Collecting package metadata (current_repodata.json): done\n",
      "Solving environment: done\n",
      "\n",
      "\n",
      "==> WARNING: A newer version of conda exists. <==\n",
      "  current version: 23.3.1\n",
      "  latest version: 23.11.0\n",
      "\n",
      "Please update conda by running\n",
      "\n",
      "    $ conda update -n base -c defaults conda\n",
      "\n",
      "Or to minimize the number of packages updated during conda update use\n",
      "\n",
      "     conda install conda=23.11.0\n",
      "\n",
      "\n",
      "\n",
      "## Package Plan ##\n",
      "\n",
      "  environment location: /opt/conda\n",
      "\n",
      "  added / updated specs:\n",
      "    - openjdk\n",
      "\n",
      "\n",
      "The following packages will be downloaded:\n",
      "\n",
      "    package                    |            build\n",
      "    ---------------------------|-----------------\n",
      "    ca-certificates-2023.08.22 |       h06a4308_0         123 KB\n",
      "    certifi-2023.11.17         |  py310h06a4308_0         158 KB\n",
      "    openjdk-11.0.13            |       h87a67e3_0       341.0 MB\n",
      "    ------------------------------------------------------------\n",
      "                                           Total:       341.3 MB\n",
      "\n",
      "The following NEW packages will be INSTALLED:\n",
      "\n",
      "  openjdk            pkgs/main/linux-64::openjdk-11.0.13-h87a67e3_0 \n",
      "\n",
      "The following packages will be UPDATED:\n",
      "\n",
      "  ca-certificates    conda-forge::ca-certificates-2023.7.2~ --> pkgs/main::ca-certificates-2023.08.22-h06a4308_0 \n",
      "  certifi            conda-forge/noarch::certifi-2023.7.22~ --> pkgs/main/linux-64::certifi-2023.11.17-py310h06a4308_0 \n",
      "\n",
      "\n",
      "\n",
      "Downloading and Extracting Packages\n",
      "openjdk-11.0.13      | 341.0 MB  |                                       |   0% \n",
      "certifi-2023.11.17   | 158 KB    |                                       |   0% \u001b[A\n",
      "\n",
      "openjdk-11.0.13      | 341.0 MB  |                                       |   0% \u001b[A\u001b[A\n",
      "certifi-2023.11.17   | 158 KB    | ##################################### | 100% \u001b[A\n",
      "certifi-2023.11.17   | 158 KB    | ##################################### | 100% \u001b[A\n",
      "\n",
      "ca-certificates-2023 | 123 KB    | ##################################### | 100% \u001b[A\u001b[A\n",
      "\n",
      "                                                                                \u001b[A\u001b[A\n",
      "                                                                                \u001b[A\n",
      "\n",
      "                                                                                \u001b[A\u001b[A\n",
      "Preparing transaction: done\n",
      "Verifying transaction: done\n",
      "Executing transaction: done\n",
      "\n",
      "Note: you may need to restart the kernel to use updated packages.\n",
      "Collecting pyspark==3.2.0\n",
      "  Using cached pyspark-3.2.0-py2.py3-none-any.whl\n",
      "Collecting py4j==0.10.9.2 (from pyspark==3.2.0)\n",
      "  Using cached py4j-0.10.9.2-py2.py3-none-any.whl (198 kB)\n",
      "Installing collected packages: py4j, pyspark\n",
      "Successfully installed py4j-0.10.9.2 pyspark-3.2.0\n",
      "\u001b[33mWARNING: Running pip as the 'root' user can result in broken permissions and conflicting behaviour with the system package manager. It is recommended to use a virtual environment instead: https://pip.pypa.io/warnings/venv\u001b[0m\u001b[33m\n",
      "\u001b[0m\n",
      "\u001b[1m[\u001b[0m\u001b[34;49mnotice\u001b[0m\u001b[1;39;49m]\u001b[0m\u001b[39;49m A new release of pip is available: \u001b[0m\u001b[31;49m23.2.1\u001b[0m\u001b[39;49m -> \u001b[0m\u001b[32;49m23.3.1\u001b[0m\n",
      "\u001b[1m[\u001b[0m\u001b[34;49mnotice\u001b[0m\u001b[1;39;49m]\u001b[0m\u001b[39;49m To update, run: \u001b[0m\u001b[32;49mpip install --upgrade pip\u001b[0m\n",
      "Note: you may need to restart the kernel to use updated packages.\n"
     ]
    },
    {
     "data": {
      "text/html": [
       "<script>Jupyter.notebook.kernel.restart()</script>"
      ],
      "text/plain": [
       "<IPython.core.display.HTML object>"
      ]
     },
     "execution_count": 3,
     "metadata": {},
     "output_type": "execute_result"
    }
   ],
   "source": [
    "# Setup - Run only once per Kernel App\n",
    "%conda install openjdk -y\n",
    "\n",
    "# install PySpark\n",
    "%pip install pyspark==3.2.0\n",
    "\n",
    "# restart kernel\n",
    "from IPython.core.display import HTML\n",
    "HTML(\"<script>Jupyter.notebook.kernel.restart()</script>\")"
   ]
  },
  {
   "cell_type": "code",
   "execution_count": 4,
   "id": "c2ab3a5c-a085-404a-9884-c8de25ac1fff",
   "metadata": {
    "tags": []
   },
   "outputs": [
    {
     "name": "stdout",
     "output_type": "stream",
     "text": [
      "sagemaker.config INFO - Not applying SDK defaults from location: /etc/xdg/sagemaker/config.yaml\n",
      "sagemaker.config INFO - Not applying SDK defaults from location: /root/.config/sagemaker/config.yaml\n",
      "sagemaker.config INFO - Not applying SDK defaults from location: /etc/xdg/sagemaker/config.yaml\n",
      "sagemaker.config INFO - Not applying SDK defaults from location: /root/.config/sagemaker/config.yaml\n"
     ]
    }
   ],
   "source": [
    "import sagemaker\n",
    "sess = sagemaker.Session()"
   ]
  },
  {
   "cell_type": "code",
   "execution_count": 5,
   "id": "7d98c754-8c9f-4a0b-a670-1570c5b8100e",
   "metadata": {
    "tags": []
   },
   "outputs": [
    {
     "name": "stderr",
     "output_type": "stream",
     "text": [
      "Warning: Ignoring non-Spark config property: fs.s3a.aws.credentials.provider\n",
      "WARNING: An illegal reflective access operation has occurred\n",
      "WARNING: Illegal reflective access by org.apache.spark.unsafe.Platform (file:/opt/conda/lib/python3.10/site-packages/pyspark/jars/spark-unsafe_2.12-3.2.0.jar) to constructor java.nio.DirectByteBuffer(long,int)\n",
      "WARNING: Please consider reporting this to the maintainers of org.apache.spark.unsafe.Platform\n",
      "WARNING: Use --illegal-access=warn to enable warnings of further illegal reflective access operations\n",
      "WARNING: All illegal access operations will be denied in a future release\n"
     ]
    },
    {
     "name": "stdout",
     "output_type": "stream",
     "text": [
      ":: loading settings :: url = jar:file:/opt/conda/lib/python3.10/site-packages/pyspark/jars/ivy-2.5.0.jar!/org/apache/ivy/core/settings/ivysettings.xml\n"
     ]
    },
    {
     "name": "stderr",
     "output_type": "stream",
     "text": [
      "Ivy Default Cache set to: /root/.ivy2/cache\n",
      "The jars for the packages stored in: /root/.ivy2/jars\n",
      "org.apache.hadoop#hadoop-aws added as a dependency\n",
      ":: resolving dependencies :: org.apache.spark#spark-submit-parent-65f9f63a-ecab-4f0e-a837-8c622902b075;1.0\n",
      "\tconfs: [default]\n",
      "\tfound org.apache.hadoop#hadoop-aws;3.2.2 in central\n",
      "\tfound com.amazonaws#aws-java-sdk-bundle;1.11.563 in central\n",
      ":: resolution report :: resolve 506ms :: artifacts dl 26ms\n",
      "\t:: modules in use:\n",
      "\tcom.amazonaws#aws-java-sdk-bundle;1.11.563 from central in [default]\n",
      "\torg.apache.hadoop#hadoop-aws;3.2.2 from central in [default]\n",
      "\t---------------------------------------------------------------------\n",
      "\t|                  |            modules            ||   artifacts   |\n",
      "\t|       conf       | number| search|dwnlded|evicted|| number|dwnlded|\n",
      "\t---------------------------------------------------------------------\n",
      "\t|      default     |   2   |   0   |   0   |   0   ||   2   |   0   |\n",
      "\t---------------------------------------------------------------------\n",
      ":: retrieving :: org.apache.spark#spark-submit-parent-65f9f63a-ecab-4f0e-a837-8c622902b075\n",
      "\tconfs: [default]\n",
      "\t0 artifacts copied, 2 already retrieved (0kB/39ms)\n",
      "23/12/05 15:33:11 WARN NativeCodeLoader: Unable to load native-hadoop library for your platform... using builtin-java classes where applicable\n",
      "Using Spark's default log4j profile: org/apache/spark/log4j-defaults.properties\n",
      "Setting default log level to \"WARN\".\n",
      "To adjust logging level use sc.setLogLevel(newLevel). For SparkR, use setLogLevel(newLevel).\n"
     ]
    },
    {
     "name": "stdout",
     "output_type": "stream",
     "text": [
      "3.2.0\n"
     ]
    }
   ],
   "source": [
    "# Import pyspark and build Spark session\n",
    "from pyspark.sql import SparkSession\n",
    "\n",
    "spark = (\n",
    "    SparkSession.builder.appName(\"PySparkApp\")\n",
    "    .config(\"spark.jars.packages\", \"org.apache.hadoop:hadoop-aws:3.2.2\")\n",
    "    .config(\n",
    "        \"fs.s3a.aws.credentials.provider\",\n",
    "        \"com.amazonaws.auth.ContainerCredentialsProvider\",\n",
    "    )\n",
    "    .getOrCreate()\n",
    ")\n",
    "\n",
    "print(spark.version)"
   ]
  },
  {
   "cell_type": "code",
   "execution_count": 30,
   "id": "1191e396-3a96-4053-9b52-5fd8b43f4f65",
   "metadata": {
    "tags": []
   },
   "outputs": [],
   "source": [
    "file_path = \"s3a://big-data-class-sz636/basketball_comments_sentiment.parquet\"\n",
    "the_data = spark.read.parquet(file_path)"
   ]
  },
  {
   "cell_type": "code",
   "execution_count": 54,
   "id": "36854aea-d806-4ff5-b9e3-cf1287517394",
   "metadata": {
    "tags": []
   },
   "outputs": [],
   "source": [
    "from pyspark.sql.functions import col"
   ]
  },
  {
   "cell_type": "code",
   "execution_count": 56,
   "id": "b1cd3443-2e15-4166-bb1b-50e3f04a9532",
   "metadata": {
    "tags": []
   },
   "outputs": [
    {
     "name": "stderr",
     "output_type": "stream",
     "text": [
      "[Stage 42:>                                                         (0 + 1) / 1]\r"
     ]
    },
    {
     "name": "stdout",
     "output_type": "stream",
     "text": [
      "+-----------------+-------------------+--------------------+--------------------+----------+---------+-------+-------------------+--------------+---+-----+----+--------------------+----------+----+--------+\n",
      "|        subreddit|             author|   author_flair_text|                body| parent_id|  link_id|     id|        created_utc|supported_team|day|month|year|          clean_text|      date|week|     col|\n",
      "+-----------------+-------------------+--------------------+--------------------+----------+---------+-------+-------------------+--------------+---+-----+----+--------------------+----------+----+--------+\n",
      "|CollegeBasketball|       DaddyStone13|:cincinnati: :big...|lol i forgot abou...|t1_hkiua9s|t3_qtcawg|hkiungs|2021-11-14 00:27:51|    cincinnati| 14|   11|2021|lol forget footba...|2021-11-14|  45|negative|\n",
      "|CollegeBasketball|        seahawksjoe|   :usc: USC Trojans|Also, half of the...| t3_qtcaw2|t3_qtcaw2|hkiuqzc|2021-11-14 00:28:36|           usc| 14|   11|2021|half foul arent f...|2021-11-14|  45|negative|\n",
      "|CollegeBasketball|       CheeseAndCam|:iowastate: Iowa ...|I like how Creigh...| t3_qt70bd|t3_qt70bd|hkiuy80|2021-11-14 00:30:06|     iowastate| 14|   11|2021|like creighton ne...|2021-11-14|  45|positive|\n",
      "|CollegeBasketball|       corranhorn57|:cincinnati: Cinc...|Oklahoma lost, th...|t1_hkiungs|t3_qtcawg|hkiuzp2|2021-11-14 00:30:26|    cincinnati| 14|   11|2021|oklahoma lose tha...|2021-11-14|  45|negative|\n",
      "|CollegeBasketball|SwimmingInYourPants|   :usc: USC Trojans|Ah, I missed thes...| t3_qtcaw2|t3_qtcaw2|hkiuzzi|2021-11-14 00:30:29|           usc| 14|   11|2021|ah miss miss free...|2021-11-14|  45|negative|\n",
      "+-----------------+-------------------+--------------------+--------------------+----------+---------+-------+-------------------+--------------+---+-----+----+--------------------+----------+----+--------+\n",
      "only showing top 5 rows\n",
      "\n"
     ]
    },
    {
     "name": "stderr",
     "output_type": "stream",
     "text": [
      "                                                                                \r"
     ]
    }
   ],
   "source": [
    "the_data.show(5)"
   ]
  },
  {
   "cell_type": "code",
   "execution_count": 32,
   "id": "7ab7b294-e44c-4596-91e9-924be9362c41",
   "metadata": {
    "tags": []
   },
   "outputs": [
    {
     "name": "stderr",
     "output_type": "stream",
     "text": [
      "[Stage 4:>                                                          (0 + 1) / 1]\r"
     ]
    },
    {
     "name": "stdout",
     "output_type": "stream",
     "text": [
      "+---------+-----------+--------------------+--------------------+----------+---------+-------+-------------------+--------------+---+-----+----+--------------------+----------+----+--------+\n",
      "|subreddit|     author|   author_flair_text|                body| parent_id|  link_id|     id|        created_utc|supported_team|day|month|year|          clean_text|      date|week|     col|\n",
      "+---------+-----------+--------------------+--------------------+----------+---------+-------+-------------------+--------------+---+-----+----+--------------------+----------+----+--------+\n",
      "| jayhawks|   OtoNoOto|       :1920_-_1922:|Google: “Where is...|t1_i13loq3|t3_tgjf5u|i13m74v|2022-03-18 01:47:08|              | 18|    3|2022|google where be s...|2022-03-18|  11|positive|\n",
      "| jayhawks|  SpecialT9|:1912_-_1919: 202...|creighton/sdsu in...| t3_tg4mq3|t3_tg4mq3|i13mmfs|2022-03-18 01:50:21|              | 18|    3|2022|creightonsdsu ot ...|2022-03-18|  11|negative|\n",
      "| jayhawks|   OtoNoOto|       :1920_-_1922:|Memphis looking g...| t3_tgjf5u|t3_tgjf5u|i1cwse0|2022-03-20 02:33:34|              | 20|    3|2022|memphis look good...|2022-03-20|  11|positive|\n",
      "| jayhawks|PhogMachine|                null|Hell of a game fr...|t1_i1bxr3i|t3_ti5sz8|i1cxtzk|2022-03-20 02:42:43|          null| 20|    3|2022|hell game big did...|2022-03-20|  11|negative|\n",
      "| jayhawks|  SpecialT9|:1912_-_1919: 202...|Seems Reddit lagg...| t3_tuxdox|t3_tuxdox|i364ml6|2022-04-03 01:21:25|              |  3|    4|2022|reddit lag apolog...|2022-04-03|  13|positive|\n",
      "+---------+-----------+--------------------+--------------------+----------+---------+-------+-------------------+--------------+---+-----+----+--------------------+----------+----+--------+\n",
      "only showing top 5 rows\n",
      "\n"
     ]
    },
    {
     "name": "stderr",
     "output_type": "stream",
     "text": [
      "                                                                                \r"
     ]
    }
   ],
   "source": [
    "the_data.where(the_data.subreddit == 'jayhawks').show(5)\n",
    "#reference: https://www.geeksforgeeks.org/pyspark-dataframe-where-filter/"
   ]
  },
  {
   "cell_type": "code",
   "execution_count": 58,
   "id": "0704f9d7-59eb-4f73-9910-c454dbbb65eb",
   "metadata": {
    "tags": []
   },
   "outputs": [],
   "source": [
    "k_data = the_data.where((col('subreddit') == 'CollegeBasketball') | (col('subreddit') == 'jayhawks'))"
   ]
  },
  {
   "cell_type": "code",
   "execution_count": 59,
   "id": "be2bdbeb-cd37-460f-b348-dd870dbec8e9",
   "metadata": {
    "tags": []
   },
   "outputs": [
    {
     "name": "stderr",
     "output_type": "stream",
     "text": [
      "                                                                                \r"
     ]
    },
    {
     "data": {
      "text/plain": [
       "869306"
      ]
     },
     "execution_count": 59,
     "metadata": {},
     "output_type": "execute_result"
    }
   ],
   "source": [
    "k_data.count()"
   ]
  },
  {
   "cell_type": "code",
   "execution_count": 60,
   "id": "c4bc94cd-a0e8-489a-a99b-dddb682e7ce9",
   "metadata": {
    "tags": []
   },
   "outputs": [
    {
     "name": "stdout",
     "output_type": "stream",
     "text": [
      "+---+-----+----+----+--------+\n",
      "|day|month|year|week|     col|\n",
      "+---+-----+----+----+--------+\n",
      "| 14|   11|2021|  45|negative|\n",
      "| 14|   11|2021|  45|negative|\n",
      "| 14|   11|2021|  45|positive|\n",
      "| 14|   11|2021|  45|negative|\n",
      "| 14|   11|2021|  45|negative|\n",
      "+---+-----+----+----+--------+\n",
      "only showing top 5 rows\n",
      "\n"
     ]
    }
   ],
   "source": [
    "k_data.select(['day','month','year','week','col']).show(5)"
   ]
  },
  {
   "cell_type": "code",
   "execution_count": 61,
   "id": "486afea4-eda5-4153-a95a-ad82f463fd76",
   "metadata": {
    "tags": []
   },
   "outputs": [
    {
     "name": "stdout",
     "output_type": "stream",
     "text": [
      "root\n",
      " |-- subreddit: string (nullable = true)\n",
      " |-- author: string (nullable = true)\n",
      " |-- author_flair_text: string (nullable = true)\n",
      " |-- body: string (nullable = true)\n",
      " |-- parent_id: string (nullable = true)\n",
      " |-- link_id: string (nullable = true)\n",
      " |-- id: string (nullable = true)\n",
      " |-- created_utc: timestamp (nullable = true)\n",
      " |-- supported_team: string (nullable = true)\n",
      " |-- day: integer (nullable = true)\n",
      " |-- month: integer (nullable = true)\n",
      " |-- year: integer (nullable = true)\n",
      " |-- clean_text: string (nullable = true)\n",
      " |-- date: date (nullable = true)\n",
      " |-- week: integer (nullable = true)\n",
      " |-- col: string (nullable = true)\n",
      "\n"
     ]
    }
   ],
   "source": [
    "k_data.printSchema()"
   ]
  },
  {
   "cell_type": "code",
   "execution_count": 62,
   "id": "9f37fb6d-b9a8-4b43-a31c-7bddf3fa6151",
   "metadata": {
    "tags": []
   },
   "outputs": [],
   "source": [
    "kansas_data = k_data.select(['day','month','year','date','week','col'])"
   ]
  },
  {
   "cell_type": "code",
   "execution_count": 63,
   "id": "f4edac2a-8913-4716-8d11-d1973c23763d",
   "metadata": {
    "tags": []
   },
   "outputs": [
    {
     "name": "stdout",
     "output_type": "stream",
     "text": [
      "+---+-----+----+----------+----+--------+\n",
      "|day|month|year|      date|week|     col|\n",
      "+---+-----+----+----------+----+--------+\n",
      "| 14|   11|2021|2021-11-14|  45|negative|\n",
      "| 14|   11|2021|2021-11-14|  45|negative|\n",
      "| 14|   11|2021|2021-11-14|  45|positive|\n",
      "| 14|   11|2021|2021-11-14|  45|negative|\n",
      "| 14|   11|2021|2021-11-14|  45|negative|\n",
      "+---+-----+----+----------+----+--------+\n",
      "only showing top 5 rows\n",
      "\n"
     ]
    }
   ],
   "source": [
    "kansas_data.show(5)"
   ]
  },
  {
   "cell_type": "code",
   "execution_count": 6,
   "id": "e3bf4ab6-688e-4b27-bfa6-83488f254ba5",
   "metadata": {
    "tags": []
   },
   "outputs": [],
   "source": [
    "import pandas as pd\n",
    "from pyspark.sql.functions import to_timestamp\n",
    "from pyspark.sql.functions import *\n",
    "import matplotlib.pyplot as plt\n",
    "from sklearn.metrics import confusion_matrix, ConfusionMatrixDisplay"
   ]
  },
  {
   "cell_type": "code",
   "execution_count": 7,
   "id": "3999ab18-5bb3-446f-b2c6-39c9094b2b5d",
   "metadata": {
    "tags": []
   },
   "outputs": [],
   "source": [
    "external_data = pd.read_csv(\"../../data/csv/kansas_schedule.csv\")"
   ]
  },
  {
   "cell_type": "code",
   "execution_count": 8,
   "id": "e656fe71-7216-45bc-abcc-61caf034d59a",
   "metadata": {
    "tags": []
   },
   "outputs": [
    {
     "data": {
      "text/html": [
       "<div>\n",
       "<style scoped>\n",
       "    .dataframe tbody tr th:only-of-type {\n",
       "        vertical-align: middle;\n",
       "    }\n",
       "\n",
       "    .dataframe tbody tr th {\n",
       "        vertical-align: top;\n",
       "    }\n",
       "\n",
       "    .dataframe thead th {\n",
       "        text-align: right;\n",
       "    }\n",
       "</style>\n",
       "<table border=\"1\" class=\"dataframe\">\n",
       "  <thead>\n",
       "    <tr style=\"text-align: right;\">\n",
       "      <th></th>\n",
       "      <th>Unnamed: 0</th>\n",
       "      <th>Date</th>\n",
       "      <th>Opponent</th>\n",
       "      <th>Unnamed: 8</th>\n",
       "      <th>Tm</th>\n",
       "      <th>Opp</th>\n",
       "      <th>OT</th>\n",
       "      <th>W</th>\n",
       "      <th>L</th>\n",
       "      <th>Streak</th>\n",
       "    </tr>\n",
       "  </thead>\n",
       "  <tbody>\n",
       "    <tr>\n",
       "      <th>0</th>\n",
       "      <td>0</td>\n",
       "      <td>Tue, Nov 9, 2021</td>\n",
       "      <td>Michigan State</td>\n",
       "      <td>W</td>\n",
       "      <td>87</td>\n",
       "      <td>74</td>\n",
       "      <td>NaN</td>\n",
       "      <td>1</td>\n",
       "      <td>0</td>\n",
       "      <td>W 1</td>\n",
       "    </tr>\n",
       "    <tr>\n",
       "      <th>1</th>\n",
       "      <td>1</td>\n",
       "      <td>Fri, Nov 12, 2021</td>\n",
       "      <td>Tarleton State</td>\n",
       "      <td>W</td>\n",
       "      <td>88</td>\n",
       "      <td>62</td>\n",
       "      <td>NaN</td>\n",
       "      <td>2</td>\n",
       "      <td>0</td>\n",
       "      <td>W 2</td>\n",
       "    </tr>\n",
       "    <tr>\n",
       "      <th>2</th>\n",
       "      <td>2</td>\n",
       "      <td>Thu, Nov 18, 2021</td>\n",
       "      <td>Stony Brook</td>\n",
       "      <td>W</td>\n",
       "      <td>88</td>\n",
       "      <td>59</td>\n",
       "      <td>NaN</td>\n",
       "      <td>3</td>\n",
       "      <td>0</td>\n",
       "      <td>W 3</td>\n",
       "    </tr>\n",
       "    <tr>\n",
       "      <th>3</th>\n",
       "      <td>3</td>\n",
       "      <td>Thu, Nov 25, 2021</td>\n",
       "      <td>North Texas</td>\n",
       "      <td>W</td>\n",
       "      <td>71</td>\n",
       "      <td>59</td>\n",
       "      <td>NaN</td>\n",
       "      <td>4</td>\n",
       "      <td>0</td>\n",
       "      <td>W 4</td>\n",
       "    </tr>\n",
       "    <tr>\n",
       "      <th>4</th>\n",
       "      <td>4</td>\n",
       "      <td>Fri, Nov 26, 2021</td>\n",
       "      <td>Dayton</td>\n",
       "      <td>L</td>\n",
       "      <td>73</td>\n",
       "      <td>74</td>\n",
       "      <td>NaN</td>\n",
       "      <td>4</td>\n",
       "      <td>1</td>\n",
       "      <td>L 1</td>\n",
       "    </tr>\n",
       "  </tbody>\n",
       "</table>\n",
       "</div>"
      ],
      "text/plain": [
       "   Unnamed: 0               Date        Opponent Unnamed: 8  Tm  Opp   OT  W  \\\n",
       "0           0   Tue, Nov 9, 2021  Michigan State          W  87   74  NaN  1   \n",
       "1           1  Fri, Nov 12, 2021  Tarleton State          W  88   62  NaN  2   \n",
       "2           2  Thu, Nov 18, 2021     Stony Brook          W  88   59  NaN  3   \n",
       "3           3  Thu, Nov 25, 2021     North Texas          W  71   59  NaN  4   \n",
       "4           4  Fri, Nov 26, 2021          Dayton          L  73   74  NaN  4   \n",
       "\n",
       "   L Streak  \n",
       "0  0    W 1  \n",
       "1  0    W 2  \n",
       "2  0    W 3  \n",
       "3  0    W 4  \n",
       "4  1    L 1  "
      ]
     },
     "execution_count": 8,
     "metadata": {},
     "output_type": "execute_result"
    }
   ],
   "source": [
    "external_data.head()"
   ]
  },
  {
   "cell_type": "code",
   "execution_count": 21,
   "id": "3502542a-48b9-4dbd-bc33-ae4aa41816b2",
   "metadata": {
    "tags": []
   },
   "outputs": [
    {
     "data": {
      "text/html": [
       "<div>\n",
       "<style scoped>\n",
       "    .dataframe tbody tr th:only-of-type {\n",
       "        vertical-align: middle;\n",
       "    }\n",
       "\n",
       "    .dataframe tbody tr th {\n",
       "        vertical-align: top;\n",
       "    }\n",
       "\n",
       "    .dataframe thead th {\n",
       "        text-align: right;\n",
       "    }\n",
       "</style>\n",
       "<table border=\"1\" class=\"dataframe\">\n",
       "  <thead>\n",
       "    <tr style=\"text-align: right;\">\n",
       "      <th></th>\n",
       "      <th>Date</th>\n",
       "      <th>Unnamed: 8</th>\n",
       "    </tr>\n",
       "  </thead>\n",
       "  <tbody>\n",
       "    <tr>\n",
       "      <th>0</th>\n",
       "      <td>Tue, Nov 9, 2021</td>\n",
       "      <td>W</td>\n",
       "    </tr>\n",
       "    <tr>\n",
       "      <th>1</th>\n",
       "      <td>Fri, Nov 12, 2021</td>\n",
       "      <td>W</td>\n",
       "    </tr>\n",
       "    <tr>\n",
       "      <th>2</th>\n",
       "      <td>Thu, Nov 18, 2021</td>\n",
       "      <td>W</td>\n",
       "    </tr>\n",
       "    <tr>\n",
       "      <th>3</th>\n",
       "      <td>Thu, Nov 25, 2021</td>\n",
       "      <td>W</td>\n",
       "    </tr>\n",
       "    <tr>\n",
       "      <th>4</th>\n",
       "      <td>Fri, Nov 26, 2021</td>\n",
       "      <td>L</td>\n",
       "    </tr>\n",
       "  </tbody>\n",
       "</table>\n",
       "</div>"
      ],
      "text/plain": [
       "                Date Unnamed: 8\n",
       "0   Tue, Nov 9, 2021          W\n",
       "1  Fri, Nov 12, 2021          W\n",
       "2  Thu, Nov 18, 2021          W\n",
       "3  Thu, Nov 25, 2021          W\n",
       "4  Fri, Nov 26, 2021          L"
      ]
     },
     "execution_count": 21,
     "metadata": {},
     "output_type": "execute_result"
    }
   ],
   "source": [
    "external_data[['Date','Unnamed: 8']].head()"
   ]
  },
  {
   "cell_type": "code",
   "execution_count": 9,
   "id": "6c0cdfdd-95ae-4ce9-a519-e5779bf090af",
   "metadata": {
    "tags": []
   },
   "outputs": [],
   "source": [
    "external_data.rename(columns={'Unnamed: 8':'result'}, inplace = True)"
   ]
  },
  {
   "cell_type": "code",
   "execution_count": 10,
   "id": "f89e38da-f338-4c12-a0b6-d717e3e941fd",
   "metadata": {
    "tags": []
   },
   "outputs": [
    {
     "data": {
      "text/html": [
       "<div>\n",
       "<style scoped>\n",
       "    .dataframe tbody tr th:only-of-type {\n",
       "        vertical-align: middle;\n",
       "    }\n",
       "\n",
       "    .dataframe tbody tr th {\n",
       "        vertical-align: top;\n",
       "    }\n",
       "\n",
       "    .dataframe thead th {\n",
       "        text-align: right;\n",
       "    }\n",
       "</style>\n",
       "<table border=\"1\" class=\"dataframe\">\n",
       "  <thead>\n",
       "    <tr style=\"text-align: right;\">\n",
       "      <th></th>\n",
       "      <th>Unnamed: 0</th>\n",
       "      <th>Date</th>\n",
       "      <th>Opponent</th>\n",
       "      <th>result</th>\n",
       "      <th>Tm</th>\n",
       "      <th>Opp</th>\n",
       "      <th>OT</th>\n",
       "      <th>W</th>\n",
       "      <th>L</th>\n",
       "      <th>Streak</th>\n",
       "    </tr>\n",
       "  </thead>\n",
       "  <tbody>\n",
       "    <tr>\n",
       "      <th>0</th>\n",
       "      <td>0</td>\n",
       "      <td>Tue, Nov 9, 2021</td>\n",
       "      <td>Michigan State</td>\n",
       "      <td>W</td>\n",
       "      <td>87</td>\n",
       "      <td>74</td>\n",
       "      <td>NaN</td>\n",
       "      <td>1</td>\n",
       "      <td>0</td>\n",
       "      <td>W 1</td>\n",
       "    </tr>\n",
       "    <tr>\n",
       "      <th>1</th>\n",
       "      <td>1</td>\n",
       "      <td>Fri, Nov 12, 2021</td>\n",
       "      <td>Tarleton State</td>\n",
       "      <td>W</td>\n",
       "      <td>88</td>\n",
       "      <td>62</td>\n",
       "      <td>NaN</td>\n",
       "      <td>2</td>\n",
       "      <td>0</td>\n",
       "      <td>W 2</td>\n",
       "    </tr>\n",
       "    <tr>\n",
       "      <th>2</th>\n",
       "      <td>2</td>\n",
       "      <td>Thu, Nov 18, 2021</td>\n",
       "      <td>Stony Brook</td>\n",
       "      <td>W</td>\n",
       "      <td>88</td>\n",
       "      <td>59</td>\n",
       "      <td>NaN</td>\n",
       "      <td>3</td>\n",
       "      <td>0</td>\n",
       "      <td>W 3</td>\n",
       "    </tr>\n",
       "    <tr>\n",
       "      <th>3</th>\n",
       "      <td>3</td>\n",
       "      <td>Thu, Nov 25, 2021</td>\n",
       "      <td>North Texas</td>\n",
       "      <td>W</td>\n",
       "      <td>71</td>\n",
       "      <td>59</td>\n",
       "      <td>NaN</td>\n",
       "      <td>4</td>\n",
       "      <td>0</td>\n",
       "      <td>W 4</td>\n",
       "    </tr>\n",
       "    <tr>\n",
       "      <th>4</th>\n",
       "      <td>4</td>\n",
       "      <td>Fri, Nov 26, 2021</td>\n",
       "      <td>Dayton</td>\n",
       "      <td>L</td>\n",
       "      <td>73</td>\n",
       "      <td>74</td>\n",
       "      <td>NaN</td>\n",
       "      <td>4</td>\n",
       "      <td>1</td>\n",
       "      <td>L 1</td>\n",
       "    </tr>\n",
       "  </tbody>\n",
       "</table>\n",
       "</div>"
      ],
      "text/plain": [
       "   Unnamed: 0               Date        Opponent result  Tm  Opp   OT  W  L  \\\n",
       "0           0   Tue, Nov 9, 2021  Michigan State      W  87   74  NaN  1  0   \n",
       "1           1  Fri, Nov 12, 2021  Tarleton State      W  88   62  NaN  2  0   \n",
       "2           2  Thu, Nov 18, 2021     Stony Brook      W  88   59  NaN  3  0   \n",
       "3           3  Thu, Nov 25, 2021     North Texas      W  71   59  NaN  4  0   \n",
       "4           4  Fri, Nov 26, 2021          Dayton      L  73   74  NaN  4  1   \n",
       "\n",
       "  Streak  \n",
       "0    W 1  \n",
       "1    W 2  \n",
       "2    W 3  \n",
       "3    W 4  \n",
       "4    L 1  "
      ]
     },
     "execution_count": 10,
     "metadata": {},
     "output_type": "execute_result"
    }
   ],
   "source": [
    "external_data.head(5)"
   ]
  },
  {
   "cell_type": "code",
   "execution_count": 12,
   "id": "e2c68091-95ea-4865-94a7-1602b4d035a5",
   "metadata": {
    "tags": []
   },
   "outputs": [],
   "source": [
    "external_data['Date'] = pd.to_datetime(external_data['Date'], format = '%a, %b %d, %Y').copy()\n",
    "#reference: https://pandas.pydata.org/docs/reference/api/pandas.to_datetime.html\n",
    "#reference: https://docs.python.org/3/library/datetime.html#strftime-and-strptime-behavior\n",
    "# asked GAI to give some clues about how to combine two dataframes together"
   ]
  },
  {
   "cell_type": "code",
   "execution_count": 13,
   "id": "26317477-cb52-4626-8399-55bfb5c53872",
   "metadata": {
    "tags": []
   },
   "outputs": [
    {
     "data": {
      "text/html": [
       "<div>\n",
       "<style scoped>\n",
       "    .dataframe tbody tr th:only-of-type {\n",
       "        vertical-align: middle;\n",
       "    }\n",
       "\n",
       "    .dataframe tbody tr th {\n",
       "        vertical-align: top;\n",
       "    }\n",
       "\n",
       "    .dataframe thead th {\n",
       "        text-align: right;\n",
       "    }\n",
       "</style>\n",
       "<table border=\"1\" class=\"dataframe\">\n",
       "  <thead>\n",
       "    <tr style=\"text-align: right;\">\n",
       "      <th></th>\n",
       "      <th>Unnamed: 0</th>\n",
       "      <th>Date</th>\n",
       "      <th>Opponent</th>\n",
       "      <th>result</th>\n",
       "      <th>Tm</th>\n",
       "      <th>Opp</th>\n",
       "      <th>OT</th>\n",
       "      <th>W</th>\n",
       "      <th>L</th>\n",
       "      <th>Streak</th>\n",
       "    </tr>\n",
       "  </thead>\n",
       "  <tbody>\n",
       "    <tr>\n",
       "      <th>0</th>\n",
       "      <td>0</td>\n",
       "      <td>2021-11-09</td>\n",
       "      <td>Michigan State</td>\n",
       "      <td>W</td>\n",
       "      <td>87</td>\n",
       "      <td>74</td>\n",
       "      <td>NaN</td>\n",
       "      <td>1</td>\n",
       "      <td>0</td>\n",
       "      <td>W 1</td>\n",
       "    </tr>\n",
       "    <tr>\n",
       "      <th>1</th>\n",
       "      <td>1</td>\n",
       "      <td>2021-11-12</td>\n",
       "      <td>Tarleton State</td>\n",
       "      <td>W</td>\n",
       "      <td>88</td>\n",
       "      <td>62</td>\n",
       "      <td>NaN</td>\n",
       "      <td>2</td>\n",
       "      <td>0</td>\n",
       "      <td>W 2</td>\n",
       "    </tr>\n",
       "    <tr>\n",
       "      <th>2</th>\n",
       "      <td>2</td>\n",
       "      <td>2021-11-18</td>\n",
       "      <td>Stony Brook</td>\n",
       "      <td>W</td>\n",
       "      <td>88</td>\n",
       "      <td>59</td>\n",
       "      <td>NaN</td>\n",
       "      <td>3</td>\n",
       "      <td>0</td>\n",
       "      <td>W 3</td>\n",
       "    </tr>\n",
       "    <tr>\n",
       "      <th>3</th>\n",
       "      <td>3</td>\n",
       "      <td>2021-11-25</td>\n",
       "      <td>North Texas</td>\n",
       "      <td>W</td>\n",
       "      <td>71</td>\n",
       "      <td>59</td>\n",
       "      <td>NaN</td>\n",
       "      <td>4</td>\n",
       "      <td>0</td>\n",
       "      <td>W 4</td>\n",
       "    </tr>\n",
       "    <tr>\n",
       "      <th>4</th>\n",
       "      <td>4</td>\n",
       "      <td>2021-11-26</td>\n",
       "      <td>Dayton</td>\n",
       "      <td>L</td>\n",
       "      <td>73</td>\n",
       "      <td>74</td>\n",
       "      <td>NaN</td>\n",
       "      <td>4</td>\n",
       "      <td>1</td>\n",
       "      <td>L 1</td>\n",
       "    </tr>\n",
       "  </tbody>\n",
       "</table>\n",
       "</div>"
      ],
      "text/plain": [
       "   Unnamed: 0       Date        Opponent result  Tm  Opp   OT  W  L Streak\n",
       "0           0 2021-11-09  Michigan State      W  87   74  NaN  1  0    W 1\n",
       "1           1 2021-11-12  Tarleton State      W  88   62  NaN  2  0    W 2\n",
       "2           2 2021-11-18     Stony Brook      W  88   59  NaN  3  0    W 3\n",
       "3           3 2021-11-25     North Texas      W  71   59  NaN  4  0    W 4\n",
       "4           4 2021-11-26          Dayton      L  73   74  NaN  4  1    L 1"
      ]
     },
     "execution_count": 13,
     "metadata": {},
     "output_type": "execute_result"
    }
   ],
   "source": [
    "external_data.head(5)"
   ]
  },
  {
   "cell_type": "code",
   "execution_count": 14,
   "id": "b2ad503c-eeac-4190-b770-267ab56c452d",
   "metadata": {
    "tags": []
   },
   "outputs": [],
   "source": [
    "external_data = external_data[['Date','result']]"
   ]
  },
  {
   "cell_type": "code",
   "execution_count": 15,
   "id": "27c5f72f-9ad9-459e-b446-b4d7df441061",
   "metadata": {
    "tags": []
   },
   "outputs": [
    {
     "data": {
      "text/html": [
       "<div>\n",
       "<style scoped>\n",
       "    .dataframe tbody tr th:only-of-type {\n",
       "        vertical-align: middle;\n",
       "    }\n",
       "\n",
       "    .dataframe tbody tr th {\n",
       "        vertical-align: top;\n",
       "    }\n",
       "\n",
       "    .dataframe thead th {\n",
       "        text-align: right;\n",
       "    }\n",
       "</style>\n",
       "<table border=\"1\" class=\"dataframe\">\n",
       "  <thead>\n",
       "    <tr style=\"text-align: right;\">\n",
       "      <th></th>\n",
       "      <th>Date</th>\n",
       "      <th>result</th>\n",
       "    </tr>\n",
       "  </thead>\n",
       "  <tbody>\n",
       "    <tr>\n",
       "      <th>0</th>\n",
       "      <td>2021-11-09</td>\n",
       "      <td>W</td>\n",
       "    </tr>\n",
       "    <tr>\n",
       "      <th>1</th>\n",
       "      <td>2021-11-12</td>\n",
       "      <td>W</td>\n",
       "    </tr>\n",
       "    <tr>\n",
       "      <th>2</th>\n",
       "      <td>2021-11-18</td>\n",
       "      <td>W</td>\n",
       "    </tr>\n",
       "    <tr>\n",
       "      <th>3</th>\n",
       "      <td>2021-11-25</td>\n",
       "      <td>W</td>\n",
       "    </tr>\n",
       "    <tr>\n",
       "      <th>4</th>\n",
       "      <td>2021-11-26</td>\n",
       "      <td>L</td>\n",
       "    </tr>\n",
       "  </tbody>\n",
       "</table>\n",
       "</div>"
      ],
      "text/plain": [
       "        Date result\n",
       "0 2021-11-09      W\n",
       "1 2021-11-12      W\n",
       "2 2021-11-18      W\n",
       "3 2021-11-25      W\n",
       "4 2021-11-26      L"
      ]
     },
     "execution_count": 15,
     "metadata": {},
     "output_type": "execute_result"
    }
   ],
   "source": [
    "external_data.head(5)"
   ]
  },
  {
   "cell_type": "code",
   "execution_count": 16,
   "id": "2fa44213-2f28-4cda-9546-a041df71cf85",
   "metadata": {
    "tags": []
   },
   "outputs": [],
   "source": [
    "external_data['Date'] = pd.to_datetime(external_data['Date'])"
   ]
  },
  {
   "cell_type": "code",
   "execution_count": 18,
   "id": "ec34e241-22d9-4a82-8bd9-157b679ac8cd",
   "metadata": {
    "tags": []
   },
   "outputs": [],
   "source": [
    "expand_external_data = pd.DataFrame({'Date': pd.date_range(start = external_data['Date'].min(),\n",
    "                                                           end = external_data['Date'].max())})\n",
    "#reference: https://www.geeksforgeeks.org/python-pandas-date_range-method/"
   ]
  },
  {
   "cell_type": "code",
   "execution_count": 19,
   "id": "a702bf96-95d9-49ef-aeac-248aacdb1f51",
   "metadata": {
    "tags": []
   },
   "outputs": [
    {
     "data": {
      "text/html": [
       "<div>\n",
       "<style scoped>\n",
       "    .dataframe tbody tr th:only-of-type {\n",
       "        vertical-align: middle;\n",
       "    }\n",
       "\n",
       "    .dataframe tbody tr th {\n",
       "        vertical-align: top;\n",
       "    }\n",
       "\n",
       "    .dataframe thead th {\n",
       "        text-align: right;\n",
       "    }\n",
       "</style>\n",
       "<table border=\"1\" class=\"dataframe\">\n",
       "  <thead>\n",
       "    <tr style=\"text-align: right;\">\n",
       "      <th></th>\n",
       "      <th>Date</th>\n",
       "    </tr>\n",
       "  </thead>\n",
       "  <tbody>\n",
       "    <tr>\n",
       "      <th>0</th>\n",
       "      <td>2021-11-09</td>\n",
       "    </tr>\n",
       "    <tr>\n",
       "      <th>1</th>\n",
       "      <td>2021-11-10</td>\n",
       "    </tr>\n",
       "    <tr>\n",
       "      <th>2</th>\n",
       "      <td>2021-11-11</td>\n",
       "    </tr>\n",
       "    <tr>\n",
       "      <th>3</th>\n",
       "      <td>2021-11-12</td>\n",
       "    </tr>\n",
       "    <tr>\n",
       "      <th>4</th>\n",
       "      <td>2021-11-13</td>\n",
       "    </tr>\n",
       "    <tr>\n",
       "      <th>...</th>\n",
       "      <td>...</td>\n",
       "    </tr>\n",
       "    <tr>\n",
       "      <th>142</th>\n",
       "      <td>2022-03-31</td>\n",
       "    </tr>\n",
       "    <tr>\n",
       "      <th>143</th>\n",
       "      <td>2022-04-01</td>\n",
       "    </tr>\n",
       "    <tr>\n",
       "      <th>144</th>\n",
       "      <td>2022-04-02</td>\n",
       "    </tr>\n",
       "    <tr>\n",
       "      <th>145</th>\n",
       "      <td>2022-04-03</td>\n",
       "    </tr>\n",
       "    <tr>\n",
       "      <th>146</th>\n",
       "      <td>2022-04-04</td>\n",
       "    </tr>\n",
       "  </tbody>\n",
       "</table>\n",
       "<p>147 rows × 1 columns</p>\n",
       "</div>"
      ],
      "text/plain": [
       "          Date\n",
       "0   2021-11-09\n",
       "1   2021-11-10\n",
       "2   2021-11-11\n",
       "3   2021-11-12\n",
       "4   2021-11-13\n",
       "..         ...\n",
       "142 2022-03-31\n",
       "143 2022-04-01\n",
       "144 2022-04-02\n",
       "145 2022-04-03\n",
       "146 2022-04-04\n",
       "\n",
       "[147 rows x 1 columns]"
      ]
     },
     "execution_count": 19,
     "metadata": {},
     "output_type": "execute_result"
    }
   ],
   "source": [
    "expand_external_data"
   ]
  },
  {
   "cell_type": "code",
   "execution_count": 20,
   "id": "ebe7cd02-1432-47d7-a1e5-a1a9c50751dd",
   "metadata": {
    "tags": []
   },
   "outputs": [],
   "source": [
    "the_external_data = pd.merge(expand_external_data, external_data, how = \"left\", on = \"Date\")\n",
    "#reference: https://www.geeksforgeeks.org/how-to-join-pandas-dataframes-using-merge/"
   ]
  },
  {
   "cell_type": "code",
   "execution_count": 21,
   "id": "cfb47aa7-8ae1-4904-8c12-c6d07f538cc3",
   "metadata": {
    "tags": []
   },
   "outputs": [
    {
     "data": {
      "text/html": [
       "<div>\n",
       "<style scoped>\n",
       "    .dataframe tbody tr th:only-of-type {\n",
       "        vertical-align: middle;\n",
       "    }\n",
       "\n",
       "    .dataframe tbody tr th {\n",
       "        vertical-align: top;\n",
       "    }\n",
       "\n",
       "    .dataframe thead th {\n",
       "        text-align: right;\n",
       "    }\n",
       "</style>\n",
       "<table border=\"1\" class=\"dataframe\">\n",
       "  <thead>\n",
       "    <tr style=\"text-align: right;\">\n",
       "      <th></th>\n",
       "      <th>Date</th>\n",
       "      <th>result</th>\n",
       "    </tr>\n",
       "  </thead>\n",
       "  <tbody>\n",
       "    <tr>\n",
       "      <th>0</th>\n",
       "      <td>2021-11-09</td>\n",
       "      <td>W</td>\n",
       "    </tr>\n",
       "    <tr>\n",
       "      <th>1</th>\n",
       "      <td>2021-11-10</td>\n",
       "      <td>NaN</td>\n",
       "    </tr>\n",
       "    <tr>\n",
       "      <th>2</th>\n",
       "      <td>2021-11-11</td>\n",
       "      <td>NaN</td>\n",
       "    </tr>\n",
       "    <tr>\n",
       "      <th>3</th>\n",
       "      <td>2021-11-12</td>\n",
       "      <td>W</td>\n",
       "    </tr>\n",
       "    <tr>\n",
       "      <th>4</th>\n",
       "      <td>2021-11-13</td>\n",
       "      <td>NaN</td>\n",
       "    </tr>\n",
       "    <tr>\n",
       "      <th>...</th>\n",
       "      <td>...</td>\n",
       "      <td>...</td>\n",
       "    </tr>\n",
       "    <tr>\n",
       "      <th>142</th>\n",
       "      <td>2022-03-31</td>\n",
       "      <td>NaN</td>\n",
       "    </tr>\n",
       "    <tr>\n",
       "      <th>143</th>\n",
       "      <td>2022-04-01</td>\n",
       "      <td>NaN</td>\n",
       "    </tr>\n",
       "    <tr>\n",
       "      <th>144</th>\n",
       "      <td>2022-04-02</td>\n",
       "      <td>W</td>\n",
       "    </tr>\n",
       "    <tr>\n",
       "      <th>145</th>\n",
       "      <td>2022-04-03</td>\n",
       "      <td>NaN</td>\n",
       "    </tr>\n",
       "    <tr>\n",
       "      <th>146</th>\n",
       "      <td>2022-04-04</td>\n",
       "      <td>W</td>\n",
       "    </tr>\n",
       "  </tbody>\n",
       "</table>\n",
       "<p>147 rows × 2 columns</p>\n",
       "</div>"
      ],
      "text/plain": [
       "          Date result\n",
       "0   2021-11-09      W\n",
       "1   2021-11-10    NaN\n",
       "2   2021-11-11    NaN\n",
       "3   2021-11-12      W\n",
       "4   2021-11-13    NaN\n",
       "..         ...    ...\n",
       "142 2022-03-31    NaN\n",
       "143 2022-04-01    NaN\n",
       "144 2022-04-02      W\n",
       "145 2022-04-03    NaN\n",
       "146 2022-04-04      W\n",
       "\n",
       "[147 rows x 2 columns]"
      ]
     },
     "execution_count": 21,
     "metadata": {},
     "output_type": "execute_result"
    }
   ],
   "source": [
    "the_external_data"
   ]
  },
  {
   "cell_type": "code",
   "execution_count": 22,
   "id": "fcaa204c-23b0-4a55-ad58-8326dbb1b269",
   "metadata": {
    "tags": []
   },
   "outputs": [],
   "source": [
    "the_external_data['result'] = the_external_data['result'].fillna(method = \"bfill\")"
   ]
  },
  {
   "cell_type": "code",
   "execution_count": 64,
   "id": "82451ddd-f6ae-4693-8292-c2a8d9ec67b7",
   "metadata": {
    "tags": []
   },
   "outputs": [
    {
     "data": {
      "text/html": [
       "<div>\n",
       "<style scoped>\n",
       "    .dataframe tbody tr th:only-of-type {\n",
       "        vertical-align: middle;\n",
       "    }\n",
       "\n",
       "    .dataframe tbody tr th {\n",
       "        vertical-align: top;\n",
       "    }\n",
       "\n",
       "    .dataframe thead th {\n",
       "        text-align: right;\n",
       "    }\n",
       "</style>\n",
       "<table border=\"1\" class=\"dataframe\">\n",
       "  <thead>\n",
       "    <tr style=\"text-align: right;\">\n",
       "      <th></th>\n",
       "      <th>Date</th>\n",
       "      <th>result</th>\n",
       "    </tr>\n",
       "  </thead>\n",
       "  <tbody>\n",
       "    <tr>\n",
       "      <th>0</th>\n",
       "      <td>2021-11-09</td>\n",
       "      <td>W</td>\n",
       "    </tr>\n",
       "    <tr>\n",
       "      <th>1</th>\n",
       "      <td>2021-11-10</td>\n",
       "      <td>W</td>\n",
       "    </tr>\n",
       "    <tr>\n",
       "      <th>2</th>\n",
       "      <td>2021-11-11</td>\n",
       "      <td>W</td>\n",
       "    </tr>\n",
       "    <tr>\n",
       "      <th>3</th>\n",
       "      <td>2021-11-12</td>\n",
       "      <td>W</td>\n",
       "    </tr>\n",
       "    <tr>\n",
       "      <th>4</th>\n",
       "      <td>2021-11-13</td>\n",
       "      <td>W</td>\n",
       "    </tr>\n",
       "    <tr>\n",
       "      <th>...</th>\n",
       "      <td>...</td>\n",
       "      <td>...</td>\n",
       "    </tr>\n",
       "    <tr>\n",
       "      <th>142</th>\n",
       "      <td>2022-03-31</td>\n",
       "      <td>W</td>\n",
       "    </tr>\n",
       "    <tr>\n",
       "      <th>143</th>\n",
       "      <td>2022-04-01</td>\n",
       "      <td>W</td>\n",
       "    </tr>\n",
       "    <tr>\n",
       "      <th>144</th>\n",
       "      <td>2022-04-02</td>\n",
       "      <td>W</td>\n",
       "    </tr>\n",
       "    <tr>\n",
       "      <th>145</th>\n",
       "      <td>2022-04-03</td>\n",
       "      <td>W</td>\n",
       "    </tr>\n",
       "    <tr>\n",
       "      <th>146</th>\n",
       "      <td>2022-04-04</td>\n",
       "      <td>W</td>\n",
       "    </tr>\n",
       "  </tbody>\n",
       "</table>\n",
       "<p>147 rows × 2 columns</p>\n",
       "</div>"
      ],
      "text/plain": [
       "          Date result\n",
       "0   2021-11-09      W\n",
       "1   2021-11-10      W\n",
       "2   2021-11-11      W\n",
       "3   2021-11-12      W\n",
       "4   2021-11-13      W\n",
       "..         ...    ...\n",
       "142 2022-03-31      W\n",
       "143 2022-04-01      W\n",
       "144 2022-04-02      W\n",
       "145 2022-04-03      W\n",
       "146 2022-04-04      W\n",
       "\n",
       "[147 rows x 2 columns]"
      ]
     },
     "execution_count": 64,
     "metadata": {},
     "output_type": "execute_result"
    }
   ],
   "source": [
    "the_external_data"
   ]
  },
  {
   "cell_type": "code",
   "execution_count": 19,
   "id": "eb83dad6-883f-4f68-8934-a3a86eacd0f3",
   "metadata": {
    "tags": []
   },
   "outputs": [],
   "source": [
    "expand_external_data = pd.Dataframe({'date': pd.date_range"
   ]
  },
  {
   "cell_type": "code",
   "execution_count": 24,
   "id": "7ef1a209-7387-4ef2-830a-373158d52aee",
   "metadata": {
    "tags": []
   },
   "outputs": [],
   "source": [
    "external_s = spark.createDataFrame(the_external_data)"
   ]
  },
  {
   "cell_type": "code",
   "execution_count": 25,
   "id": "571a9fde-84f2-44c6-b966-2c4fe8511c23",
   "metadata": {
    "tags": []
   },
   "outputs": [
    {
     "name": "stderr",
     "output_type": "stream",
     "text": [
      "[Stage 0:>                                                          (0 + 1) / 1]\r"
     ]
    },
    {
     "name": "stdout",
     "output_type": "stream",
     "text": [
      "+-------------------+------+\n",
      "|               Date|result|\n",
      "+-------------------+------+\n",
      "|2021-11-09 00:00:00|     W|\n",
      "|2021-11-10 00:00:00|     W|\n",
      "|2021-11-11 00:00:00|     W|\n",
      "|2021-11-12 00:00:00|     W|\n",
      "|2021-11-13 00:00:00|     W|\n",
      "|2021-11-14 00:00:00|     W|\n",
      "|2021-11-15 00:00:00|     W|\n",
      "|2021-11-16 00:00:00|     W|\n",
      "|2021-11-17 00:00:00|     W|\n",
      "|2021-11-18 00:00:00|     W|\n",
      "|2021-11-19 00:00:00|     W|\n",
      "|2021-11-20 00:00:00|     W|\n",
      "|2021-11-21 00:00:00|     W|\n",
      "|2021-11-22 00:00:00|     W|\n",
      "|2021-11-23 00:00:00|     W|\n",
      "|2021-11-24 00:00:00|     W|\n",
      "|2021-11-25 00:00:00|     W|\n",
      "|2021-11-26 00:00:00|     L|\n",
      "|2021-11-27 00:00:00|     W|\n",
      "|2021-11-28 00:00:00|     W|\n",
      "+-------------------+------+\n",
      "only showing top 20 rows\n",
      "\n"
     ]
    },
    {
     "name": "stderr",
     "output_type": "stream",
     "text": [
      "                                                                                \r"
     ]
    }
   ],
   "source": [
    "external_s.show()"
   ]
  },
  {
   "cell_type": "code",
   "execution_count": 26,
   "id": "94319f62-43fc-41db-9432-0166df4e2fbf",
   "metadata": {
    "tags": []
   },
   "outputs": [
    {
     "name": "stdout",
     "output_type": "stream",
     "text": [
      "root\n",
      " |-- Date: timestamp (nullable = true)\n",
      " |-- result: string (nullable = true)\n",
      "\n"
     ]
    }
   ],
   "source": [
    "external_s.printSchema()"
   ]
  },
  {
   "cell_type": "code",
   "execution_count": 27,
   "id": "db67fc70-8f6a-4e7e-91c8-ef60f2d37f60",
   "metadata": {
    "tags": []
   },
   "outputs": [],
   "source": [
    "external_s_df = external_s.withColumn('time', to_date(col('Date')))"
   ]
  },
  {
   "cell_type": "code",
   "execution_count": 41,
   "id": "a9847b47-e132-4f38-b50a-b27860333b38",
   "metadata": {
    "tags": []
   },
   "outputs": [
    {
     "name": "stdout",
     "output_type": "stream",
     "text": [
      "+-------------------+------+----------+\n",
      "|               Date|result|      time|\n",
      "+-------------------+------+----------+\n",
      "|2021-11-09 00:00:00|     W|2021-11-09|\n",
      "|2021-11-10 00:00:00|     W|2021-11-10|\n",
      "|2021-11-11 00:00:00|     W|2021-11-11|\n",
      "|2021-11-12 00:00:00|     W|2021-11-12|\n",
      "|2021-11-13 00:00:00|     W|2021-11-13|\n",
      "+-------------------+------+----------+\n",
      "only showing top 5 rows\n",
      "\n"
     ]
    }
   ],
   "source": [
    "external_s_df.show(5)"
   ]
  },
  {
   "cell_type": "code",
   "execution_count": 65,
   "id": "138efc2d-62ff-403f-8859-abc981032cdd",
   "metadata": {
    "tags": []
   },
   "outputs": [
    {
     "name": "stderr",
     "output_type": "stream",
     "text": [
      "[Stage 51:=============================>                            (1 + 1) / 2]\r"
     ]
    },
    {
     "name": "stdout",
     "output_type": "stream",
     "text": [
      "+---+-----+----+----------+----+--------+-------------------+------+----------+\n",
      "|day|month|year|      date|week|     col|               Date|result|      time|\n",
      "+---+-----+----+----------+----+--------+-------------------+------+----------+\n",
      "| 18|   12|2021|2021-12-18|  50|positive|2021-12-18 00:00:00|     W|2021-12-18|\n",
      "| 18|   12|2021|2021-12-18|  50|positive|2021-12-18 00:00:00|     W|2021-12-18|\n",
      "| 18|   12|2021|2021-12-18|  50|negative|2021-12-18 00:00:00|     W|2021-12-18|\n",
      "| 18|   12|2021|2021-12-18|  50|negative|2021-12-18 00:00:00|     W|2021-12-18|\n",
      "| 18|   12|2021|2021-12-18|  50| neutral|2021-12-18 00:00:00|     W|2021-12-18|\n",
      "+---+-----+----+----------+----+--------+-------------------+------+----------+\n",
      "only showing top 5 rows\n",
      "\n"
     ]
    },
    {
     "name": "stderr",
     "output_type": "stream",
     "text": [
      "                                                                                \r"
     ]
    }
   ],
   "source": [
    "kansas_data.join(external_s_df, kansas_data['date'] == external_s_df['time'], \"inner\").show(5)\n",
    "#reference: https://medium.com/plumbersofdatascience/exploring-the-different-join-types-in-spark-sql-a-step-by-step-guide-49342ffe9578"
   ]
  },
  {
   "cell_type": "code",
   "execution_count": 66,
   "id": "9e21d12b-7c8a-4d84-a7cd-abb6a0f0a6a3",
   "metadata": {
    "tags": []
   },
   "outputs": [],
   "source": [
    "the_df = kansas_data.join(external_s_df, kansas_data['date'] == external_s_df['time'], \"inner\")"
   ]
  },
  {
   "cell_type": "code",
   "execution_count": 67,
   "id": "c23cfbc0-2d81-4a5b-85a1-3ac2d98d1dff",
   "metadata": {
    "tags": []
   },
   "outputs": [],
   "source": [
    "ml_df = the_df.select(['day','month','year','week','col','result'])"
   ]
  },
  {
   "cell_type": "code",
   "execution_count": 68,
   "id": "a2fbd910-03c7-479b-9724-8852db4ae533",
   "metadata": {
    "tags": []
   },
   "outputs": [
    {
     "name": "stderr",
     "output_type": "stream",
     "text": [
      "[Stage 57:=============================>                            (1 + 1) / 2]\r"
     ]
    },
    {
     "name": "stdout",
     "output_type": "stream",
     "text": [
      "+---+-----+----+----+--------+------+\n",
      "|day|month|year|week|     col|result|\n",
      "+---+-----+----+----+--------+------+\n",
      "| 18|   12|2021|  50|positive|     W|\n",
      "| 18|   12|2021|  50|positive|     W|\n",
      "| 18|   12|2021|  50|negative|     W|\n",
      "| 18|   12|2021|  50|negative|     W|\n",
      "| 18|   12|2021|  50| neutral|     W|\n",
      "+---+-----+----+----+--------+------+\n",
      "only showing top 5 rows\n",
      "\n"
     ]
    },
    {
     "name": "stderr",
     "output_type": "stream",
     "text": [
      "                                                                                \r"
     ]
    }
   ],
   "source": [
    "ml_df.show(5)"
   ]
  },
  {
   "cell_type": "code",
   "execution_count": 69,
   "id": "eb5c2dc4-5b15-4b90-b8fe-983fc6edc5df",
   "metadata": {
    "tags": []
   },
   "outputs": [
    {
     "name": "stderr",
     "output_type": "stream",
     "text": [
      "[Stage 64:=============================>                            (1 + 1) / 2]\r"
     ]
    },
    {
     "name": "stdout",
     "output_type": "stream",
     "text": [
      "+------+------+\n",
      "|result| count|\n",
      "+------+------+\n",
      "|     L| 85710|\n",
      "|     W|695896|\n",
      "+------+------+\n",
      "\n"
     ]
    },
    {
     "name": "stderr",
     "output_type": "stream",
     "text": [
      "                                                                                \r"
     ]
    }
   ],
   "source": [
    "ml_df.groupBy('result').count().show()"
   ]
  },
  {
   "cell_type": "code",
   "execution_count": null,
   "id": "3d976a8e-5919-41a8-8003-625aa7372b4b",
   "metadata": {},
   "outputs": [],
   "source": []
  },
  {
   "cell_type": "code",
   "execution_count": 70,
   "id": "d6f55912-e10f-47fe-8c89-4263b0d170f0",
   "metadata": {
    "tags": []
   },
   "outputs": [],
   "source": [
    "from pyspark.ml.feature import OneHotEncoder, StringIndexer, IndexToString, VectorAssembler\n",
    "from pyspark.ml.classification import RandomForestClassifier, MultilayerPerceptronClassifier, GBTClassifier, LogisticRegression\n",
    "from pyspark.ml.evaluation import BinaryClassificationEvaluator, MulticlassClassificationEvaluator\n",
    "from pyspark.ml import Pipeline, Model"
   ]
  },
  {
   "cell_type": "code",
   "execution_count": 71,
   "id": "e4ca95f9-1ca5-4fca-9969-06e867823fe8",
   "metadata": {
    "tags": []
   },
   "outputs": [
    {
     "name": "stdout",
     "output_type": "stream",
     "text": [
      "root\n",
      " |-- day: integer (nullable = true)\n",
      " |-- month: integer (nullable = true)\n",
      " |-- year: integer (nullable = true)\n",
      " |-- week: integer (nullable = true)\n",
      " |-- col: string (nullable = true)\n",
      " |-- result: string (nullable = true)\n",
      "\n"
     ]
    }
   ],
   "source": [
    "ml_df.printSchema()"
   ]
  },
  {
   "cell_type": "code",
   "execution_count": 72,
   "id": "a8ed8da3-9c1f-4f1e-9310-7d685570afbe",
   "metadata": {
    "tags": []
   },
   "outputs": [
    {
     "name": "stderr",
     "output_type": "stream",
     "text": [
      "                                                                                \r"
     ]
    },
    {
     "name": "stdout",
     "output_type": "stream",
     "text": [
      "Number of training records: 625133\n"
     ]
    },
    {
     "name": "stderr",
     "output_type": "stream",
     "text": [
      "[Stage 81:=============================>                            (1 + 1) / 2]\r"
     ]
    },
    {
     "name": "stdout",
     "output_type": "stream",
     "text": [
      "Number of testing records : 156473\n"
     ]
    },
    {
     "name": "stderr",
     "output_type": "stream",
     "text": [
      "                                                                                \r"
     ]
    }
   ],
   "source": [
    "train_data, test_data = ml_df.randomSplit([0.8, 0.2], seed = 30)\n",
    "print(\"Number of training records: \" + str(train_data.count()))\n",
    "print(\"Number of testing records : \" + str(test_data.count()))\n",
    "train_data = train_data.cache()"
   ]
  },
  {
   "cell_type": "code",
   "execution_count": 76,
   "id": "682cdb4f-4a68-434e-95dc-4bd06b8da6df",
   "metadata": {
    "tags": []
   },
   "outputs": [],
   "source": [
    "stringIndexer_result = StringIndexer(inputCol=\"result\", outputCol=\"game_win\")\n",
    "stringIndexer_col = StringIndexer(inputCol=\"col\", outputCol=\"sentiments\")"
   ]
  },
  {
   "cell_type": "code",
   "execution_count": 77,
   "id": "e4fcfeb7-b6d6-45d2-ac87-94a227655df6",
   "metadata": {
    "tags": []
   },
   "outputs": [],
   "source": [
    "vectorAssembler_features = VectorAssembler(\n",
    "    inputCols=['day','month','year','week',\n",
    "              'sentiments'], \n",
    "    outputCol= \"features\")"
   ]
  },
  {
   "cell_type": "code",
   "execution_count": 2,
   "id": "41bb910b-e4f6-4ff8-a837-ee7a338747f4",
   "metadata": {
    "tags": []
   },
   "outputs": [],
   "source": [
    "# model 1"
   ]
  },
  {
   "cell_type": "code",
   "execution_count": 78,
   "id": "833c3da1-44f0-42de-98cd-b1af1f69dca6",
   "metadata": {
    "tags": []
   },
   "outputs": [],
   "source": [
    "model = RandomForestClassifier(labelCol=\"game_win\", featuresCol=\"features\", numTrees=20)"
   ]
  },
  {
   "cell_type": "code",
   "execution_count": 79,
   "id": "a0f83672-3c9a-49a2-a3cc-98fec362d56f",
   "metadata": {
    "tags": []
   },
   "outputs": [
    {
     "name": "stderr",
     "output_type": "stream",
     "text": [
      "                                                                                \r"
     ]
    }
   ],
   "source": [
    "labelConverter = IndexToString(inputCol=\"prediction\", \n",
    "                               outputCol=\"predictedresult\", \n",
    "                               labels= stringIndexer_result.fit(train_data).labels)"
   ]
  },
  {
   "cell_type": "code",
   "execution_count": 80,
   "id": "e7a7c571-7b24-408d-92ad-4d2d2bdf2500",
   "metadata": {
    "tags": []
   },
   "outputs": [],
   "source": [
    "pipeline_model = Pipeline(stages=[stringIndexer_result, \n",
    "                               stringIndexer_col,\n",
    "                               vectorAssembler_features, \n",
    "                               model, labelConverter])"
   ]
  },
  {
   "cell_type": "code",
   "execution_count": 85,
   "id": "26ac60b7-d6ad-4b58-a010-17633be0051f",
   "metadata": {
    "tags": []
   },
   "outputs": [
    {
     "name": "stderr",
     "output_type": "stream",
     "text": [
      "                                                                                \r"
     ]
    }
   ],
   "source": [
    "model = pipeline_model.fit(train_data)"
   ]
  },
  {
   "cell_type": "code",
   "execution_count": 86,
   "id": "74910b77-cf3a-42c2-a5bc-25578de59704",
   "metadata": {
    "tags": []
   },
   "outputs": [],
   "source": [
    "predictions_1 = model.transform(test_data)"
   ]
  },
  {
   "cell_type": "code",
   "execution_count": 87,
   "id": "7d2e9d98-f51b-4b0c-a2f7-6d18e7164337",
   "metadata": {
    "tags": []
   },
   "outputs": [
    {
     "name": "stderr",
     "output_type": "stream",
     "text": [
      "                                                                                \r"
     ]
    },
    {
     "data": {
      "text/plain": [
       "0.9482698484011378"
      ]
     },
     "execution_count": 87,
     "metadata": {},
     "output_type": "execute_result"
    }
   ],
   "source": [
    "evaluator = BinaryClassificationEvaluator(labelCol=\"game_win\", rawPredictionCol=\"prediction\", metricName=\"areaUnderROC\")\n",
    "roc_result_1 = evaluator.evaluate(predictions_1)\n",
    "roc_result_1"
   ]
  },
  {
   "cell_type": "code",
   "execution_count": 88,
   "id": "b0d39905-e29f-4aa1-bb72-b9e347791aa2",
   "metadata": {
    "tags": []
   },
   "outputs": [
    {
     "name": "stderr",
     "output_type": "stream",
     "text": [
      "                                                                                \r"
     ]
    }
   ],
   "source": [
    "evaluator = MulticlassClassificationEvaluator(labelCol=\"game_win\",\n",
    "                                              predictionCol=\"prediction\",\n",
    "                                              metricName=\"accuracy\")\n",
    "accuracy_1 = evaluator.evaluate(predictions_1)"
   ]
  },
  {
   "cell_type": "code",
   "execution_count": 89,
   "id": "6b79730b-c7df-490a-9913-1ce6b12d04cd",
   "metadata": {
    "tags": []
   },
   "outputs": [
    {
     "data": {
      "text/plain": [
       "0.9865983268678942"
      ]
     },
     "execution_count": 89,
     "metadata": {},
     "output_type": "execute_result"
    }
   ],
   "source": [
    "accuracy_1"
   ]
  },
  {
   "cell_type": "code",
   "execution_count": 3,
   "id": "788eee2f-5bfc-471c-86ca-d631c444df2c",
   "metadata": {
    "tags": []
   },
   "outputs": [],
   "source": [
    "# model 2"
   ]
  },
  {
   "cell_type": "code",
   "execution_count": 90,
   "id": "e4376a7b-ba8d-47ee-bc97-b5c46d5ee0f1",
   "metadata": {
    "tags": []
   },
   "outputs": [],
   "source": [
    "model = LogisticRegression(labelCol=\"game_win\", featuresCol=\"features\")\n",
    "#reference: https://www.geeksforgeeks.org/logistic-regression-using-pyspark-python/"
   ]
  },
  {
   "cell_type": "code",
   "execution_count": 91,
   "id": "e82d8efb-dc82-4afa-a89b-142bf05c1c3b",
   "metadata": {
    "tags": []
   },
   "outputs": [],
   "source": [
    "pipeline_model = Pipeline(stages=[stringIndexer_result, \n",
    "                               stringIndexer_col,\n",
    "                               vectorAssembler_features, \n",
    "                               model, labelConverter])"
   ]
  },
  {
   "cell_type": "code",
   "execution_count": 92,
   "id": "383c6473-4ea5-4e1d-819d-419a861aa176",
   "metadata": {
    "tags": []
   },
   "outputs": [
    {
     "name": "stderr",
     "output_type": "stream",
     "text": [
      "23/12/05 17:03:51 WARN InstanceBuilder$NativeBLAS: Failed to load implementation from:dev.ludovic.netlib.blas.JNIBLAS\n",
      "23/12/05 17:03:51 WARN InstanceBuilder$NativeBLAS: Failed to load implementation from:dev.ludovic.netlib.blas.ForeignLinkerBLAS\n",
      "                                                                                \r"
     ]
    }
   ],
   "source": [
    "model = pipeline_model.fit(train_data)"
   ]
  },
  {
   "cell_type": "code",
   "execution_count": 94,
   "id": "046939bf-ae0d-4e93-9e74-599f4b24df9a",
   "metadata": {
    "tags": []
   },
   "outputs": [],
   "source": [
    "predictions_2 = model.transform(test_data)"
   ]
  },
  {
   "cell_type": "code",
   "execution_count": 95,
   "id": "b0d61976-a341-433b-9f54-f43cb6f71472",
   "metadata": {
    "tags": []
   },
   "outputs": [
    {
     "name": "stderr",
     "output_type": "stream",
     "text": [
      "                                                                                \r"
     ]
    },
    {
     "data": {
      "text/plain": [
       "0.6350601029761115"
      ]
     },
     "execution_count": 95,
     "metadata": {},
     "output_type": "execute_result"
    }
   ],
   "source": [
    "evaluator = BinaryClassificationEvaluator(labelCol=\"game_win\", rawPredictionCol=\"prediction\", metricName=\"areaUnderROC\")\n",
    "roc_result_2 = evaluator.evaluate(predictions_2)\n",
    "roc_result_2"
   ]
  },
  {
   "cell_type": "code",
   "execution_count": 96,
   "id": "218c0efd-8e65-4b1f-ab61-16a861460cd4",
   "metadata": {
    "tags": []
   },
   "outputs": [
    {
     "name": "stderr",
     "output_type": "stream",
     "text": [
      "                                                                                \r"
     ]
    }
   ],
   "source": [
    "evaluator = MulticlassClassificationEvaluator(labelCol=\"game_win\",\n",
    "                                              predictionCol=\"prediction\",\n",
    "                                              metricName=\"accuracy\")\n",
    "accuracy_2 = evaluator.evaluate(predictions_2)"
   ]
  },
  {
   "cell_type": "code",
   "execution_count": 97,
   "id": "4f2b78a7-2d7c-4c95-9b3e-78f32c183d0d",
   "metadata": {
    "tags": []
   },
   "outputs": [
    {
     "data": {
      "text/plain": [
       "0.9043796693359237"
      ]
     },
     "execution_count": 97,
     "metadata": {},
     "output_type": "execute_result"
    }
   ],
   "source": [
    "accuracy_2"
   ]
  },
  {
   "cell_type": "code",
   "execution_count": 4,
   "id": "de3b4fb0-62f4-4eed-a272-719164bc4c46",
   "metadata": {
    "tags": []
   },
   "outputs": [],
   "source": [
    "# model 3"
   ]
  },
  {
   "cell_type": "code",
   "execution_count": 105,
   "id": "e8f5ad4d-462e-49ac-bcdf-7e849d4a3444",
   "metadata": {
    "tags": []
   },
   "outputs": [],
   "source": [
    "model = RandomForestClassifier(labelCol=\"game_win\", featuresCol=\"features\", numTrees=10)"
   ]
  },
  {
   "cell_type": "code",
   "execution_count": 106,
   "id": "be8a7156-ec76-4c7b-8305-74d89a4aee72",
   "metadata": {
    "tags": []
   },
   "outputs": [],
   "source": [
    "pipeline_model = Pipeline(stages=[stringIndexer_result, \n",
    "                               stringIndexer_col,\n",
    "                               vectorAssembler_features, \n",
    "                               model, labelConverter])"
   ]
  },
  {
   "cell_type": "code",
   "execution_count": 107,
   "id": "1ab0fe2f-509b-4924-b098-91509c4aa7fd",
   "metadata": {
    "tags": []
   },
   "outputs": [
    {
     "name": "stderr",
     "output_type": "stream",
     "text": [
      "                                                                                \r"
     ]
    }
   ],
   "source": [
    "model = pipeline_model.fit(train_data)"
   ]
  },
  {
   "cell_type": "code",
   "execution_count": 108,
   "id": "e45b1a14-5a55-4ae8-a05c-2576d6470cbc",
   "metadata": {
    "tags": []
   },
   "outputs": [],
   "source": [
    "predictions_3 = model.transform(test_data)"
   ]
  },
  {
   "cell_type": "code",
   "execution_count": 109,
   "id": "e413a94f-e24a-4e66-a3c0-c17aa97cd34f",
   "metadata": {
    "tags": []
   },
   "outputs": [
    {
     "name": "stderr",
     "output_type": "stream",
     "text": [
      "                                                                                \r"
     ]
    },
    {
     "data": {
      "text/plain": [
       "0.9658356148424303"
      ]
     },
     "execution_count": 109,
     "metadata": {},
     "output_type": "execute_result"
    }
   ],
   "source": [
    "evaluator = BinaryClassificationEvaluator(labelCol=\"game_win\", rawPredictionCol=\"prediction\", metricName=\"areaUnderROC\")\n",
    "roc_result_3 = evaluator.evaluate(predictions_3)\n",
    "roc_result_3"
   ]
  },
  {
   "cell_type": "code",
   "execution_count": 110,
   "id": "9b3e2e11-e7e1-4fed-8482-8424661087ce",
   "metadata": {
    "tags": []
   },
   "outputs": [
    {
     "name": "stderr",
     "output_type": "stream",
     "text": [
      "                                                                                \r"
     ]
    }
   ],
   "source": [
    "evaluator = MulticlassClassificationEvaluator(labelCol=\"game_win\",\n",
    "                                              predictionCol=\"prediction\",\n",
    "                                              metricName=\"accuracy\")\n",
    "accuracy_3 = evaluator.evaluate(predictions_3)"
   ]
  },
  {
   "cell_type": "code",
   "execution_count": 111,
   "id": "6506c13d-2b99-4a54-8289-221449c0b9d4",
   "metadata": {
    "tags": []
   },
   "outputs": [
    {
     "data": {
      "text/plain": [
       "0.9925034990062184"
      ]
     },
     "execution_count": 111,
     "metadata": {},
     "output_type": "execute_result"
    }
   ],
   "source": [
    "accuracy_3"
   ]
  },
  {
   "cell_type": "code",
   "execution_count": null,
   "id": "babc2dca-584c-4f08-8a48-f20c05c4b6bd",
   "metadata": {},
   "outputs": [],
   "source": [
    "# model comparison"
   ]
  },
  {
   "cell_type": "code",
   "execution_count": 113,
   "id": "26e4fa78-9abe-409b-ad15-fd6b24b2c7ff",
   "metadata": {
    "tags": []
   },
   "outputs": [
    {
     "name": "stdout",
     "output_type": "stream",
     "text": [
      "     model       roc  accuracy\n",
      "0  model 1  0.948270  0.986598\n",
      "1  model 2  0.635060  0.904380\n",
      "2  model 3  0.965836  0.992503\n"
     ]
    }
   ],
   "source": [
    "model_summary = {'model':['model 1','model 2','model 3'],\n",
    "                 'roc':[roc_result_1,roc_result_2,roc_result_3],\n",
    "                 'accuracy':[accuracy_1,accuracy_2,accuracy_3]}\n",
    "summary_df = pd.DataFrame(model_summary)\n",
    "print(summary_df)"
   ]
  },
  {
   "cell_type": "code",
   "execution_count": 114,
   "id": "46ff9b02-08e8-423d-aeec-ebf322756302",
   "metadata": {
    "tags": []
   },
   "outputs": [
    {
     "name": "stderr",
     "output_type": "stream",
     "text": [
      "                                                                                \r"
     ]
    }
   ],
   "source": [
    "y_pred=predictions_3.select(\"predictedresult\").collect()\n",
    "y_orig=predictions_3.select(\"result\").collect()"
   ]
  },
  {
   "cell_type": "code",
   "execution_count": 115,
   "id": "8900c16b-98cf-45ee-b5a4-7c66759c963d",
   "metadata": {
    "tags": []
   },
   "outputs": [
    {
     "data": {
      "image/png": "[encoded data removed]",
      "text/plain": [
       "<Figure size 640x480 with 2 Axes>"
      ]
     },
     "metadata": {},
     "output_type": "display_data"
    }
   ],
   "source": [
    "cm = confusion_matrix(y_orig, y_pred)\n",
    "graph = ConfusionMatrixDisplay(confusion_matrix = cm)\n",
    "graph.plot()\n",
    "plt.show()\n",
    "#reference: https://scikit-learn.org/stable/modules/generated/sklearn.metrics.ConfusionMatrixDisplay.html"
   ]
  },
  {
   "cell_type": "code",
   "execution_count": null,
   "id": "7ccee83f-56e1-4a8a-9598-6ac86ccc06a3",
   "metadata": {},
   "outputs": [],
   "source": []
  },
  {
   "cell_type": "code",
   "execution_count": null,
   "id": "a2ebdae8-1f8a-4f86-801c-9f3e07013df0",
   "metadata": {},
   "outputs": [],
   "source": []
  }
 ],
 "metadata": {
  "availableInstances": [
   {
    "_defaultOrder": 0,
    "_isFastLaunch": true,
    "category": "General purpose",
    "gpuNum": 0,
    "hideHardwareSpecs": false,
    "memoryGiB": 4,
    "name": "ml.t3.medium",
    "vcpuNum": 2
   },
   {
    "_defaultOrder": 1,
    "_isFastLaunch": false,
    "category": "General purpose",
    "gpuNum": 0,
    "hideHardwareSpecs": false,
    "memoryGiB": 8,
    "name": "ml.t3.large",
    "vcpuNum": 2
   },
   {
    "_defaultOrder": 2,
    "_isFastLaunch": false,
    "category": "General purpose",
    "gpuNum": 0,
    "hideHardwareSpecs": false,
    "memoryGiB": 16,
    "name": "ml.t3.xlarge",
    "vcpuNum": 4
   },
   {
    "_defaultOrder": 3,
    "_isFastLaunch": false,
    "category": "General purpose",
    "gpuNum": 0,
    "hideHardwareSpecs": false,
    "memoryGiB": 32,
    "name": "ml.t3.2xlarge",
    "vcpuNum": 8
   },
   {
    "_defaultOrder": 4,
    "_isFastLaunch": true,
    "category": "General purpose",
    "gpuNum": 0,
    "hideHardwareSpecs": false,
    "memoryGiB": 8,
    "name": "ml.m5.large",
    "vcpuNum": 2
   },
   {
    "_defaultOrder": 5,
    "_isFastLaunch": false,
    "category": "General purpose",
    "gpuNum": 0,
    "hideHardwareSpecs": false,
    "memoryGiB": 16,
    "name": "ml.m5.xlarge",
    "vcpuNum": 4
   },
   {
    "_defaultOrder": 6,
    "_isFastLaunch": false,
    "category": "General purpose",
    "gpuNum": 0,
    "hideHardwareSpecs": false,
    "memoryGiB": 32,
    "name": "ml.m5.2xlarge",
    "vcpuNum": 8
   },
   {
    "_defaultOrder": 7,
    "_isFastLaunch": false,
    "category": "General purpose",
    "gpuNum": 0,
    "hideHardwareSpecs": false,
    "memoryGiB": 64,
    "name": "ml.m5.4xlarge",
    "vcpuNum": 16
   },
   {
    "_defaultOrder": 8,
    "_isFastLaunch": false,
    "category": "General purpose",
    "gpuNum": 0,
    "hideHardwareSpecs": false,
    "memoryGiB": 128,
    "name": "ml.m5.8xlarge",
    "vcpuNum": 32
   },
   {
    "_defaultOrder": 9,
    "_isFastLaunch": false,
    "category": "General purpose",
    "gpuNum": 0,
    "hideHardwareSpecs": false,
    "memoryGiB": 192,
    "name": "ml.m5.12xlarge",
    "vcpuNum": 48
   },
   {
    "_defaultOrder": 10,
    "_isFastLaunch": false,
    "category": "General purpose",
    "gpuNum": 0,
    "hideHardwareSpecs": false,
    "memoryGiB": 256,
    "name": "ml.m5.16xlarge",
    "vcpuNum": 64
   },
   {
    "_defaultOrder": 11,
    "_isFastLaunch": false,
    "category": "General purpose",
    "gpuNum": 0,
    "hideHardwareSpecs": false,
    "memoryGiB": 384,
    "name": "ml.m5.24xlarge",
    "vcpuNum": 96
   },
   {
    "_defaultOrder": 12,
    "_isFastLaunch": false,
    "category": "General purpose",
    "gpuNum": 0,
    "hideHardwareSpecs": false,
    "memoryGiB": 8,
    "name": "ml.m5d.large",
    "vcpuNum": 2
   },
   {
    "_defaultOrder": 13,
    "_isFastLaunch": false,
    "category": "General purpose",
    "gpuNum": 0,
    "hideHardwareSpecs": false,
    "memoryGiB": 16,
    "name": "ml.m5d.xlarge",
    "vcpuNum": 4
   },
   {
    "_defaultOrder": 14,
    "_isFastLaunch": false,
    "category": "General purpose",
    "gpuNum": 0,
    "hideHardwareSpecs": false,
    "memoryGiB": 32,
    "name": "ml.m5d.2xlarge",
    "vcpuNum": 8
   },
   {
    "_defaultOrder": 15,
    "_isFastLaunch": false,
    "category": "General purpose",
    "gpuNum": 0,
    "hideHardwareSpecs": false,
    "memoryGiB": 64,
    "name": "ml.m5d.4xlarge",
    "vcpuNum": 16
   },
   {
    "_defaultOrder": 16,
    "_isFastLaunch": false,
    "category": "General purpose",
    "gpuNum": 0,
    "hideHardwareSpecs": false,
    "memoryGiB": 128,
    "name": "ml.m5d.8xlarge",
    "vcpuNum": 32
   },
   {
    "_defaultOrder": 17,
    "_isFastLaunch": false,
    "category": "General purpose",
    "gpuNum": 0,
    "hideHardwareSpecs": false,
    "memoryGiB": 192,
    "name": "ml.m5d.12xlarge",
    "vcpuNum": 48
   },
   {
    "_defaultOrder": 18,
    "_isFastLaunch": false,
    "category": "General purpose",
    "gpuNum": 0,
    "hideHardwareSpecs": false,
    "memoryGiB": 256,
    "name": "ml.m5d.16xlarge",
    "vcpuNum": 64
   },
   {
    "_defaultOrder": 19,
    "_isFastLaunch": false,
    "category": "General purpose",
    "gpuNum": 0,
    "hideHardwareSpecs": false,
    "memoryGiB": 384,
    "name": "ml.m5d.24xlarge",
    "vcpuNum": 96
   },
   {
    "_defaultOrder": 20,
    "_isFastLaunch": false,
    "category": "General purpose",
    "gpuNum": 0,
    "hideHardwareSpecs": true,
    "memoryGiB": 0,
    "name": "ml.geospatial.interactive",
    "supportedImageNames": [
     "sagemaker-geospatial-v1-0"
    ],
    "vcpuNum": 0
   },
   {
    "_defaultOrder": 21,
    "_isFastLaunch": true,
    "category": "Compute optimized",
    "gpuNum": 0,
    "hideHardwareSpecs": false,
    "memoryGiB": 4,
    "name": "ml.c5.large",
    "vcpuNum": 2
   },
   {
    "_defaultOrder": 22,
    "_isFastLaunch": false,
    "category": "Compute optimized",
    "gpuNum": 0,
    "hideHardwareSpecs": false,
    "memoryGiB": 8,
    "name": "ml.c5.xlarge",
    "vcpuNum": 4
   },
   {
    "_defaultOrder": 23,
    "_isFastLaunch": false,
    "category": "Compute optimized",
    "gpuNum": 0,
    "hideHardwareSpecs": false,
    "memoryGiB": 16,
    "name": "ml.c5.2xlarge",
    "vcpuNum": 8
   },
   {
    "_defaultOrder": 24,
    "_isFastLaunch": false,
    "category": "Compute optimized",
    "gpuNum": 0,
    "hideHardwareSpecs": false,
    "memoryGiB": 32,
    "name": "ml.c5.4xlarge",
    "vcpuNum": 16
   },
   {
    "_defaultOrder": 25,
    "_isFastLaunch": false,
    "category": "Compute optimized",
    "gpuNum": 0,
    "hideHardwareSpecs": false,
    "memoryGiB": 72,
    "name": "ml.c5.9xlarge",
    "vcpuNum": 36
   },
   {
    "_defaultOrder": 26,
    "_isFastLaunch": false,
    "category": "Compute optimized",
    "gpuNum": 0,
    "hideHardwareSpecs": false,
    "memoryGiB": 96,
    "name": "ml.c5.12xlarge",
    "vcpuNum": 48
   },
   {
    "_defaultOrder": 27,
    "_isFastLaunch": false,
    "category": "Compute optimized",
    "gpuNum": 0,
    "hideHardwareSpecs": false,
    "memoryGiB": 144,
    "name": "ml.c5.18xlarge",
    "vcpuNum": 72
   },
   {
    "_defaultOrder": 28,
    "_isFastLaunch": false,
    "category": "Compute optimized",
    "gpuNum": 0,
    "hideHardwareSpecs": false,
    "memoryGiB": 192,
    "name": "ml.c5.24xlarge",
    "vcpuNum": 96
   },
   {
    "_defaultOrder": 29,
    "_isFastLaunch": true,
    "category": "Accelerated computing",
    "gpuNum": 1,
    "hideHardwareSpecs": false,
    "memoryGiB": 16,
    "name": "ml.g4dn.xlarge",
    "vcpuNum": 4
   },
   {
    "_defaultOrder": 30,
    "_isFastLaunch": false,
    "category": "Accelerated computing",
    "gpuNum": 1,
    "hideHardwareSpecs": false,
    "memoryGiB": 32,
    "name": "ml.g4dn.2xlarge",
    "vcpuNum": 8
   },
   {
    "_defaultOrder": 31,
    "_isFastLaunch": false,
    "category": "Accelerated computing",
    "gpuNum": 1,
    "hideHardwareSpecs": false,
    "memoryGiB": 64,
    "name": "ml.g4dn.4xlarge",
    "vcpuNum": 16
   },
   {
    "_defaultOrder": 32,
    "_isFastLaunch": false,
    "category": "Accelerated computing",
    "gpuNum": 1,
    "hideHardwareSpecs": false,
    "memoryGiB": 128,
    "name": "ml.g4dn.8xlarge",
    "vcpuNum": 32
   },
   {
    "_defaultOrder": 33,
    "_isFastLaunch": false,
    "category": "Accelerated computing",
    "gpuNum": 4,
    "hideHardwareSpecs": false,
    "memoryGiB": 192,
    "name": "ml.g4dn.12xlarge",
    "vcpuNum": 48
   },
   {
    "_defaultOrder": 34,
    "_isFastLaunch": false,
    "category": "Accelerated computing",
    "gpuNum": 1,
    "hideHardwareSpecs": false,
    "memoryGiB": 256,
    "name": "ml.g4dn.16xlarge",
    "vcpuNum": 64
   },
   {
    "_defaultOrder": 35,
    "_isFastLaunch": false,
    "category": "Accelerated computing",
    "gpuNum": 1,
    "hideHardwareSpecs": false,
    "memoryGiB": 61,
    "name": "ml.p3.2xlarge",
    "vcpuNum": 8
   },
   {
    "_defaultOrder": 36,
    "_isFastLaunch": false,
    "category": "Accelerated computing",
    "gpuNum": 4,
    "hideHardwareSpecs": false,
    "memoryGiB": 244,
    "name": "ml.p3.8xlarge",
    "vcpuNum": 32
   },
   {
    "_defaultOrder": 37,
    "_isFastLaunch": false,
    "category": "Accelerated computing",
    "gpuNum": 8,
    "hideHardwareSpecs": false,
    "memoryGiB": 488,
    "name": "ml.p3.16xlarge",
    "vcpuNum": 64
   },
   {
    "_defaultOrder": 38,
    "_isFastLaunch": false,
    "category": "Accelerated computing",
    "gpuNum": 8,
    "hideHardwareSpecs": false,
    "memoryGiB": 768,
    "name": "ml.p3dn.24xlarge",
    "vcpuNum": 96
   },
   {
    "_defaultOrder": 39,
    "_isFastLaunch": false,
    "category": "Memory Optimized",
    "gpuNum": 0,
    "hideHardwareSpecs": false,
    "memoryGiB": 16,
    "name": "ml.r5.large",
    "vcpuNum": 2
   },
   {
    "_defaultOrder": 40,
    "_isFastLaunch": false,
    "category": "Memory Optimized",
    "gpuNum": 0,
    "hideHardwareSpecs": false,
    "memoryGiB": 32,
    "name": "ml.r5.xlarge",
    "vcpuNum": 4
   },
   {
    "_defaultOrder": 41,
    "_isFastLaunch": false,
    "category": "Memory Optimized",
    "gpuNum": 0,
    "hideHardwareSpecs": false,
    "memoryGiB": 64,
    "name": "ml.r5.2xlarge",
    "vcpuNum": 8
   },
   {
    "_defaultOrder": 42,
    "_isFastLaunch": false,
    "category": "Memory Optimized",
    "gpuNum": 0,
    "hideHardwareSpecs": false,
    "memoryGiB": 128,
    "name": "ml.r5.4xlarge",
    "vcpuNum": 16
   },
   {
    "_defaultOrder": 43,
    "_isFastLaunch": false,
    "category": "Memory Optimized",
    "gpuNum": 0,
    "hideHardwareSpecs": false,
    "memoryGiB": 256,
    "name": "ml.r5.8xlarge",
    "vcpuNum": 32
   },
   {
    "_defaultOrder": 44,
    "_isFastLaunch": false,
    "category": "Memory Optimized",
    "gpuNum": 0,
    "hideHardwareSpecs": false,
    "memoryGiB": 384,
    "name": "ml.r5.12xlarge",
    "vcpuNum": 48
   },
   {
    "_defaultOrder": 45,
    "_isFastLaunch": false,
    "category": "Memory Optimized",
    "gpuNum": 0,
    "hideHardwareSpecs": false,
    "memoryGiB": 512,
    "name": "ml.r5.16xlarge",
    "vcpuNum": 64
   },
   {
    "_defaultOrder": 46,
    "_isFastLaunch": false,
    "category": "Memory Optimized",
    "gpuNum": 0,
    "hideHardwareSpecs": false,
    "memoryGiB": 768,
    "name": "ml.r5.24xlarge",
    "vcpuNum": 96
   },
   {
    "_defaultOrder": 47,
    "_isFastLaunch": false,
    "category": "Accelerated computing",
    "gpuNum": 1,
    "hideHardwareSpecs": false,
    "memoryGiB": 16,
    "name": "ml.g5.xlarge",
    "vcpuNum": 4
   },
   {
    "_defaultOrder": 48,
    "_isFastLaunch": false,
    "category": "Accelerated computing",
    "gpuNum": 1,
    "hideHardwareSpecs": false,
    "memoryGiB": 32,
    "name": "ml.g5.2xlarge",
    "vcpuNum": 8
   },
   {
    "_defaultOrder": 49,
    "_isFastLaunch": false,
    "category": "Accelerated computing",
    "gpuNum": 1,
    "hideHardwareSpecs": false,
    "memoryGiB": 64,
    "name": "ml.g5.4xlarge",
    "vcpuNum": 16
   },
   {
    "_defaultOrder": 50,
    "_isFastLaunch": false,
    "category": "Accelerated computing",
    "gpuNum": 1,
    "hideHardwareSpecs": false,
    "memoryGiB": 128,
    "name": "ml.g5.8xlarge",
    "vcpuNum": 32
   },
   {
    "_defaultOrder": 51,
    "_isFastLaunch": false,
    "category": "Accelerated computing",
    "gpuNum": 1,
    "hideHardwareSpecs": false,
    "memoryGiB": 256,
    "name": "ml.g5.16xlarge",
    "vcpuNum": 64
   },
   {
    "_defaultOrder": 52,
    "_isFastLaunch": false,
    "category": "Accelerated computing",
    "gpuNum": 4,
    "hideHardwareSpecs": false,
    "memoryGiB": 192,
    "name": "ml.g5.12xlarge",
    "vcpuNum": 48
   },
   {
    "_defaultOrder": 53,
    "_isFastLaunch": false,
    "category": "Accelerated computing",
    "gpuNum": 4,
    "hideHardwareSpecs": false,
    "memoryGiB": 384,
    "name": "ml.g5.24xlarge",
    "vcpuNum": 96
   },
   {
    "_defaultOrder": 54,
    "_isFastLaunch": false,
    "category": "Accelerated computing",
    "gpuNum": 8,
    "hideHardwareSpecs": false,
    "memoryGiB": 768,
    "name": "ml.g5.48xlarge",
    "vcpuNum": 192
   },
   {
    "_defaultOrder": 55,
    "_isFastLaunch": false,
    "category": "Accelerated computing",
    "gpuNum": 8,
    "hideHardwareSpecs": false,
    "memoryGiB": 1152,
    "name": "ml.p4d.24xlarge",
    "vcpuNum": 96
   },
   {
    "_defaultOrder": 56,
    "_isFastLaunch": false,
    "category": "Accelerated computing",
    "gpuNum": 8,
    "hideHardwareSpecs": false,
    "memoryGiB": 1152,
    "name": "ml.p4de.24xlarge",
    "vcpuNum": 96
   },
   {
    "_defaultOrder": 57,
    "_isFastLaunch": false,
    "category": "Accelerated computing",
    "gpuNum": 0,
    "hideHardwareSpecs": false,
    "memoryGiB": 32,
    "name": "ml.trn1.2xlarge",
    "vcpuNum": 8
   },
   {
    "_defaultOrder": 58,
    "_isFastLaunch": false,
    "category": "Accelerated computing",
    "gpuNum": 0,
    "hideHardwareSpecs": false,
    "memoryGiB": 512,
    "name": "ml.trn1.32xlarge",
    "vcpuNum": 128
   },
   {
    "_defaultOrder": 59,
    "_isFastLaunch": false,
    "category": "Accelerated computing",
    "gpuNum": 0,
    "hideHardwareSpecs": false,
    "memoryGiB": 512,
    "name": "ml.trn1n.32xlarge",
    "vcpuNum": 128
   }
  ],
  "instance_type": "ml.t3.medium",
  "kernelspec": {
   "display_name": "Python 3 (Data Science 3.0)",
   "language": "python",
   "name": "python3__SAGEMAKER_INTERNAL__arn:aws:sagemaker:us-east-1:081325390199:image/sagemaker-data-science-310-v1"
  },
  "language_info": {
   "codemirror_mode": {
    "name": "ipython",
    "version": 3
   },
   "file_extension": ".py",
   "mimetype": "text/x-python",
   "name": "python",
   "nbconvert_exporter": "python",
   "pygments_lexer": "ipython3",
   "version": "3.10.6"
  }
 },
 "nbformat": 4,
 "nbformat_minor": 5
}

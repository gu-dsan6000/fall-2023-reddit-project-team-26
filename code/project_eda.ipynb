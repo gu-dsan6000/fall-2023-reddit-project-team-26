{
  "cells": [
    {
      "cell_type": "markdown",
      "source": [
        "# Project EDA Notebook"
      ],
      "metadata": {},
      "id": "ee8ae429-47c6-4761-982f-512698bbf719"
    },
    {
      "cell_type": "markdown",
      "source": [
        "### Project by Klaas van Kempen, Shihong Zhou, Yifan Hu, and Katherine Nunez\n",
        "\n",
        "## Overview of the Project\n",
        "\n",
        "This project will use the given Reddit data to explore how Reddit users view, react to, and analyze collegiate basketball. We will compare sentiments and use external datasets such as team records and injuries to better understand how Reddit users react to their team successes or failures. \n",
        "\n",
        "This project will center around three different areas of analysis: exploratory data analysis, natural language processing (NLP), and machine learning. We expect these three different areas of analysis to display different areas of the dataset and allow us to answer a variety of questions about this data. \n",
        "\n",
        "We will use the Reddit data to explore the differences in sentiment between collegiate basketball fans and how the fans of the top teams from 2021-2022 reacted over the course of the season. We chose to limit our data to 2021-2022 because we wanted to ensure that our data captured an entire basketball season. The collegiate season ranges from November to about March, so by taking our data from October 2021 to April 2022, we are able to ensure that we can capture the data from an entire basketball season.\n",
        "\n",
        "\n",
        "### Overview of Colleagiate Basketball\n",
        "\n",
        "Although professional and collegiate basketball are very related, there are some key differences that we want to establish before engaging in any exploratory data analysis. We expect these differences to become apparent in some of our sentiment analysis, NLP, and even in the exploratory phase of this project.\n",
        "\n",
        "\n",
        "**Collegiate Basketball:** Collegiate basketball in the United States is regulated primarily by the National Collegiate Athletic Association (NCAA). For the purposes of this project, we will be focusing on NCAA division 1 (D1) college basketball. College basketball is sorted into conferences (which typically align across sports for schools), which determines most of each team's scheduled opponents and the conference championship tournament. At the end of each season, there is a gigantic tournament to determine the college basketball champion, colloquially called March Madness. In March, 64 teams (plus four other teams who play a \"play-in game\") compete in a single-elimination tournament to determine the champion for the season. These players are considered amateurs, i.e. they do not receive contracts, but each collegiate basketball player is eligible to receive sponsorships and advertisement revenues.\n",
        "\n",
        "Part of our analysis will by analyzing the r/CBB (college basketball) subreddit, but we will also be analyzing the r/jayhawks and r/UNC, the two teams to make the finals for college basketball in 2022 (Kansas won!). This way, we can also track the sentiments of the fans of the two most successful college basketball teams across the course of the season on their championship runs.\n",
        "\n"
      ],
      "metadata": {},
      "id": "6ac6cc23-dcb0-4013-8318-7d0f80d47dbf"
    },
    {
      "cell_type": "markdown",
      "source": [
        "## Business Goals: Questions To Answer\n",
        "\n",
        "Over the course of this project, we aim to answer different data science questions. The first few questions will be exploratory data analysis, which we have presented for you here. The next questions will be on NLP and machine learning, which will vary in complexity and in which part of the data set they are analyzing. We aim to answer these questions through multiple visual avenues, including plots, graphs, and charts, and aim to expose some interesting trends in professional and collegiate basketball over the course of the 2022 season.\n",
        "\n",
        "### Exploratory Data Analysis Questions\n",
        "\n",
        "**Business Goal 1:** Determine which college basketball games had the most reddit engagement. \\\n",
        "**Technical Proposal:** Use word counts in comments and number of comments to determine which game had the most fan engagement online. Identify trends in when major games occur and if there are any similarities in which teams compete in these games. Possibly correlate these major games to most successful teams by record and ranking.\n",
        "\n",
        "**Business Goal 2:** Determine how reddit activity ebbs and flows over the course of a collegiate basketball season. Construct visuals to aid in understanding how much reddit users post over the course of the 2022 season. \\\n",
        "**Technical Proposal:** Use exploratory data analysis techniques to achieve some of the same outcomes as the goal above, only with collegiate subreddit data. Create opportunity to identify differences in the trends between professional and collegiate sports through word counts and post counts over the course of the season. Identify any differences between the overall CBB subreddit activity and the subreddits of the individual teams we have chosen.\n",
        "\n",
        "**Business Goal 3:** Explore how the subreddit page of the NCAA champion in 2022, the Kansas Jayhawks, varied over the course of the season. Identify any trends in post frequency or comment length that may correlate to on-the-court successes or failures. \\\n",
        "**Technical Proposal:** Use trend analysis and count number of comments and comment lengths to determine excitement over the course of the NBA season. Correlate any major trends to outside data sets, including Jayhawks wins and losses or injuries of key players. Analyze any additional trends in activity over the course of the 2022 season to find any other additional results before entering into the NLP phase of the project.\n",
        "\n",
        "**Business Goal 4:** Identify the teams that have the most engagement on the main college basketball subreddit.\n",
        "**Technical Proposal:** Use grouping and sorting algorithms to find which college basketball teams are the most mentioned teams. Identify if these mentions ebb or flow over the course of the season. Incorporate external datasets such as basketball rankings to correlate mentions with popular games or teams.\n",
        "\n",
        "### Natural Language Processing (NLP) Questions\n",
        "\n",
        "**Business Goal 5:** Rank CBB players in terms of popularity across subreddits. Determine if the popularity is \"positive\" or \"negative\". \\\n",
        "**Technical Proposal:** Use NLP techniques to identify which players are the most popular in collegiate basketball by analyzing how many times they are mentioned or are referred to in comments. Extract mentions of player names using NLP techniques and count frequency. Combine with sentiment scores to create a popularity index. Use sentiment analysis techniques to determine if this popularity is due to positive or negative sentiment. Compare trends in these players' appearance in comments to external factors, such as on-the-court statistics or injuries.\n",
        "\n",
        "**Business Goal 6:** Understand how player transfers in CBB affect fan engagement on relevant subreddits. \\\n",
        "**Technical Proposal:** Conduct time-series analysis of post and comment frequencies before and after trade announcements. Apply statistical tests to determine significance. Use sentiment analysis to determine how fans feel about each trade. Integrate external data sets to see if fan sentiment agrees with conventional wisdom on the success of trades.\n",
        "\n",
        "**Business Goal 7:** Determine how collegiate fan bases react after big wins and big losses. Identify volatility over the course of the season, especially for teams we know reach the championship. \\\n",
        "**Technical Proposal:** Identify fan sentiment for two days following a \"big win\" or a \"big loss\". A big win could be some definition such as by beating a team by 20 points, and a big loss could be some definition such as losing to a team by more than 20 points. Analyze how fans of championship-caliber teams react to victory and defeat. Use NLP techniques to identify any rivalries or particularly important games to fanbases.\n",
        "\n",
        "**Business Goal 8:** Determine if sentiment correlates to team success on CBB subreddits. Identify fan sentiment over the course of a championship-caliber season. \\\n",
        "**Technical Proposal:** Use NLP techniques to conduct trend analysis on sentiment across individual subreddits for CBB teams. Identify how positive and negative sentiment fluxuate over the course of a season. Use NLP to identify additional trends around March and June, the time of the playoffs, and how fan sentiment changes (or does not change) during the postseason.\n",
        "\n",
        "**Business Goal 9:** Determine which teams are the most liked or most hated in college basketball. \\\n",
        "**Technical Proposal:** Incorporate results of the EDA portion of most mentioned teams. Conduct NLP analysis to determine if these mentions are positive or negative. Expand analysis to surrounding comments and threads to understand which teams are generally viewed favorably or which are viewed negatively. Use external news sources to understand how fans view unlikely winners, such as \"cinderella stories,\" or losers, such as \"upsets.\"\n",
        "\n",
        "\n",
        "### Machine Learning Questions\n",
        "\n",
        "**Business Goal 9:** Assess if the sentiment on CBB subreddits can help predict game outcomes. \\\n",
        "**Technical Proposal:** Build a machine learning model using historical game outcomes and pre-game subreddit sentiment as features. Use external data sets, such as season win/loss records, to create predictive model that incorporates pre-game sentiment. Test data on 2022-2023 season to determine accuracy of said model.\n",
        "\n",
        "**Business Goal 10:** Determine what do subreddits look like in the lead up to big games or big tournaments. \\\n",
        "**Technical Proposal:** Start with postseason sentiment analysis, then use cluster modeling or some similar machine learning technique to identify important games throughout the course of the season. Correlate these important games to external factors, such as rivalries, injuries, or trades. Visualize results by grouping important games over the course of the regular season and post season.\n",
        "\n",
        "**Business Goal 11:** Assess if the Kansas Jayhawks or UNC Tar Heel subreddits more volatile throughout the season. \\\n",
        "**Technical Proposal:** Compare NBA and CBB subreddits using a multitude of machine learning techniques to identify which have more varied reactions, posting tempos, or other factors. Identify which have a wider variety of types of post and poster over the course of a season. Determine if NBA fans or CBB fans are more volatile in their reaction timing, tempo, length, and frequency over the course of a season.\n",
        "\n",
        "**Business Goal 12:** Predict which college basketball players will become major NBA stars based on Reddit discussions. \\\n",
        "**Technical Proposal:** Monitor mentions and sentiments around CBB players. Track those who enter the NBA and evaluate their performance using regression analysis against Reddit metrics. Use draft status and 2022-2023 NBA season statistics to verify these outcomes.\n",
        "\n",
        "\n",
        "\n",
        "\n",
        "### An Aside\n",
        "\n",
        "We initially conceptualized this project as a comparison of professional and collegiate basketball. When we began our initial data pulls of the reddit data, we found that this data would be too big and too unweildy to complete a project like this one. Below is our overview of professional basketball and our initial proposal.\n",
        "\n",
        "**Professional Basketball:** Professional basketball in the United States is played in the National Basketball Association (NBA). The NBA has feeder leagues (such as the G League), and there are other international leagues as well. The NBA consists of 30 teams, most if not all of which have their own subreddits. Each NBA team has 15 players, in addition to two two-way contracts between the NBA and the G League. Each player in the NBA is paid via contract, and each are eligible for any advertising or sponsorship money that they pursue in addition to their contractual responsibilities. \n",
        "\n",
        "Part of our analysis would've been analyzing the r/NBA subreddit and also the r/bostonceltics and r/warriors subreddits, as those were the two teams to make the NBA finals in 2022 (the Golden State Warriors were the 2022 NBA champions). This way, we would've been able to track the sentiments of the two most successful teams in the NBA across the season."
      ],
      "metadata": {},
      "id": "bed93baa"
    },
    {
      "cell_type": "markdown",
      "source": [
        "### Setting up spark"
      ],
      "metadata": {},
      "id": "9c13ef86-d4b4-4451-a1e1-7253311062a6"
    },
    {
      "cell_type": "code",
      "source": [
        "spark"
      ],
      "outputs": [
        {
          "output_type": "display_data",
          "data": {
            "application/vnd.livy.statement-meta+json": {
              "spark_pool": "7c27951d-2bdf-4140-be82-d0dc0c0e7d8e",
              "session_id": "16",
              "statement_id": 6,
              "state": "finished",
              "livy_statement_state": "available",
              "queued_time": "2023-11-02T20:18:23.0673451Z",
              "session_start_time": "2023-11-02T20:18:23.1775913Z",
              "execution_start_time": "2023-11-02T20:21:45.9277482Z",
              "execution_finish_time": "2023-11-02T20:21:48.8186021Z",
              "spark_jobs": {
                "numbers": {
                  "SUCCEEDED": 0,
                  "UNKNOWN": 0,
                  "FAILED": 0,
                  "RUNNING": 0
                },
                "jobs": [],
                "limit": 20,
                "rule": "ALL_DESC"
              },
              "parent_msg_id": "f65717aa-8901-466d-a060-fb09bd2d361d"
            },
            "text/plain": "StatementMeta(7c27951d-2bdf-4140-be82-d0dc0c0e7d8e, 16, 6, Finished, Available)"
          },
          "metadata": {}
        },
        {
          "output_type": "execute_result",
          "execution_count": 11,
          "data": {
            "text/plain": "<pyspark.sql.session.SparkSession at 0x7fa840c8a9a0>",
            "text/html": "\n            <div>\n                <p><b>SparkSession - hive</b></p>\n                \n        <div>\n            <p><b>SparkContext</b></p>\n\n            <p><a href=\"http://vm-45451788:41213\">Spark UI</a></p>\n\n            <dl>\n              <dt>Version</dt>\n                <dd><code>v3.2.2.5.1-100879434</code></dd>\n              <dt>Master</dt>\n                <dd><code>yarn</code></dd>\n              <dt>AppName</dt>\n                <dd><code>Azure ML Experiment</code></dd>\n            </dl>\n        </div>\n        \n            </div>\n        "
          },
          "metadata": {}
        }
      ],
      "execution_count": 1,
      "metadata": {
        "jupyter": {
          "source_hidden": false,
          "outputs_hidden": false
        },
        "nteract": {
          "transient": {
            "deleting": false
          }
        },
        "gather": {
          "logged": 1698956509355
        }
      },
      "id": "93750110-1490-41d2-adbc-456018af35fd"
    },
    {
      "cell_type": "code",
      "source": [
        "from azureml.core import Workspace, Datastore\n"
      ],
      "outputs": [
        {
          "output_type": "display_data",
          "data": {
            "application/vnd.livy.statement-meta+json": {
              "spark_pool": "7c27951d-2bdf-4140-be82-d0dc0c0e7d8e",
              "session_id": "16",
              "statement_id": 8,
              "state": "finished",
              "livy_statement_state": "available",
              "queued_time": "2023-11-02T20:23:20.4316335Z",
              "session_start_time": null,
              "execution_start_time": "2023-11-02T20:23:20.584714Z",
              "execution_finish_time": "2023-11-02T20:23:20.9526105Z",
              "spark_jobs": {
                "numbers": {
                  "SUCCEEDED": 0,
                  "UNKNOWN": 0,
                  "FAILED": 0,
                  "RUNNING": 0
                },
                "jobs": [],
                "limit": 20,
                "rule": "ALL_DESC"
              },
              "parent_msg_id": "3e33a5d0-78b6-49f6-b976-2086cad39608"
            },
            "text/plain": "StatementMeta(7c27951d-2bdf-4140-be82-d0dc0c0e7d8e, 16, 8, Finished, Available)"
          },
          "metadata": {}
        }
      ],
      "execution_count": 3,
      "metadata": {
        "jupyter": {
          "source_hidden": false,
          "outputs_hidden": false
        },
        "nteract": {
          "transient": {
            "deleting": false
          }
        },
        "gather": {
          "logged": 1698956601759
        }
      },
      "id": "8de1443e-c862-4bb7-b80e-bea9eb996812"
    },
    {
      "cell_type": "code",
      "source": [
        "import pandas as pd\n",
        "df = pd.DataFrame({\"x\":[1], \"y\":[2]})\n",
        "df = spark.createDataFrame(df)"
      ],
      "outputs": [
        {
          "output_type": "display_data",
          "data": {
            "application/vnd.livy.statement-meta+json": {
              "spark_pool": "7c27951d-2bdf-4140-be82-d0dc0c0e7d8e",
              "session_id": "16",
              "statement_id": 12,
              "state": "finished",
              "livy_statement_state": "available",
              "queued_time": "2023-11-02T20:25:09.2134087Z",
              "session_start_time": null,
              "execution_start_time": "2023-11-02T20:25:09.3953767Z",
              "execution_finish_time": "2023-11-02T20:25:14.5883652Z",
              "spark_jobs": {
                "numbers": {
                  "SUCCEEDED": 0,
                  "UNKNOWN": 0,
                  "FAILED": 0,
                  "RUNNING": 0
                },
                "jobs": [],
                "limit": 20,
                "rule": "ALL_DESC"
              },
              "parent_msg_id": "8b4cc977-ed00-46af-93ee-b550eae8cd0f"
            },
            "text/plain": "StatementMeta(7c27951d-2bdf-4140-be82-d0dc0c0e7d8e, 16, 12, Finished, Available)"
          },
          "metadata": {}
        }
      ],
      "execution_count": 7,
      "metadata": {
        "jupyter": {
          "source_hidden": false,
          "outputs_hidden": false
        },
        "nteract": {
          "transient": {
            "deleting": false
          }
        },
        "gather": {
          "logged": 1698956714837
        }
      },
      "id": "fb845d78-0676-4f81-a72e-3dabad222c34"
    },
    {
      "cell_type": "code",
      "source": [
        "datastore = 'azureml://datastores/workspaceblobstore/paths'\n",
        "df.write.mode(\"overwrite\").parquet(f\"{datastore}/college_basketball.parquet\")"
      ],
      "outputs": [
        {
          "output_type": "display_data",
          "data": {
            "application/vnd.livy.statement-meta+json": {
              "spark_pool": "7c27951d-2bdf-4140-be82-d0dc0c0e7d8e",
              "session_id": "16",
              "statement_id": 17,
              "state": "finished",
              "livy_statement_state": "available",
              "queued_time": "2023-11-02T20:28:42.0572969Z",
              "session_start_time": null,
              "execution_start_time": "2023-11-02T20:28:42.247455Z",
              "execution_finish_time": "2023-11-02T20:28:52.6918262Z",
              "spark_jobs": {
                "numbers": {
                  "SUCCEEDED": 1,
                  "UNKNOWN": 0,
                  "FAILED": 0,
                  "RUNNING": 0
                },
                "jobs": [
                  {
                    "displayName": "parquet at NativeMethodAccessorImpl.java:0",
                    "dataWritten": 716,
                    "dataRead": 0,
                    "rowCount": 1,
                    "usageDescription": "",
                    "jobId": 4,
                    "name": "parquet at NativeMethodAccessorImpl.java:0",
                    "description": "Job group for statement 17:\ndatastore = 'azureml://datastores/workspaceblobstore/paths'\ndf.write.mode(\"overwrite\").parquet(f\"{datastore}/college_basketball.parquet\")",
                    "submissionTime": "2023-11-02T20:28:42.423GMT",
                    "completionTime": "2023-11-02T20:28:51.229GMT",
                    "stageIds": [
                      4
                    ],
                    "jobGroup": "17",
                    "status": "SUCCEEDED",
                    "numTasks": 1,
                    "numActiveTasks": 0,
                    "numCompletedTasks": 1,
                    "numSkippedTasks": 0,
                    "numFailedTasks": 0,
                    "numKilledTasks": 0,
                    "numCompletedIndices": 1,
                    "numActiveStages": 0,
                    "numCompletedStages": 1,
                    "numSkippedStages": 0,
                    "numFailedStages": 0,
                    "killedTasksSummary": {}
                  }
                ],
                "limit": 20,
                "rule": "ALL_DESC"
              },
              "parent_msg_id": "e6f0033f-6972-48fd-84f0-777a34a4b3dc"
            },
            "text/plain": "StatementMeta(7c27951d-2bdf-4140-be82-d0dc0c0e7d8e, 16, 17, Finished, Available)"
          },
          "metadata": {}
        }
      ],
      "execution_count": 12,
      "metadata": {
        "jupyter": {
          "source_hidden": false,
          "outputs_hidden": false
        },
        "nteract": {
          "transient": {
            "deleting": false
          }
        },
        "gather": {
          "logged": 1698956932875
        }
      },
      "id": "39838b06-6dca-4d48-bd68-24537a71cc16"
    },
    {
      "cell_type": "code",
      "source": [
        "datastore.blob_service.delete_blob(datastore.container_name, file_or_directory_path)"
      ],
      "outputs": [],
      "execution_count": null,
      "metadata": {
        "jupyter": {
          "source_hidden": false,
          "outputs_hidden": false
        },
        "nteract": {
          "transient": {
            "deleting": false
          }
        }
      },
      "id": "a45ec87b-6cf6-4950-be31-d358ef1ec028"
    },
    {
      "cell_type": "markdown",
      "source": [
        "### Setting up Data Configuration"
      ],
      "metadata": {
        "nteract": {
          "transient": {
            "deleting": false
          }
        }
      },
      "id": "a20d1993-fa64-443d-9715-41ea4a0171a3"
    },
    {
      "cell_type": "code",
      "source": [
        "blob_account_name = \"marckvnonprodblob\"\n",
        "blob_container_name = \"bigdata\"\n",
        "# read only\n",
        "blob_sas_token = \"?sv=2021-10-04&st=2023-10-04T01%3A42%3A59Z&se=2024-01-02T02%3A42%3A00Z&sr=c&sp=rlf&sig=w3CH9MbCOpwO7DtHlrahc7AlRPxSZZb8MOgS6TaXLzI%3D\"\n",
        "\n",
        "wasbs_base_url = (\n",
        "    f\"wasbs://{blob_container_name}@{blob_account_name}.blob.core.windows.net/\"\n",
        ")\n",
        "spark.conf.set(\n",
        "    f\"fs.azure.sas.{blob_container_name}.{blob_account_name}.blob.core.windows.net\",\n",
        "    blob_sas_token,\n",
        ")"
      ],
      "outputs": [
        {
          "output_type": "display_data",
          "data": {
            "application/vnd.livy.statement-meta+json": {
              "spark_pool": "7c27951d-2bdf-4140-be82-d0dc0c0e7d8e",
              "session_id": "15",
              "statement_id": 7,
              "state": "finished",
              "livy_statement_state": "available",
              "queued_time": "2023-11-02T17:41:52.2500956Z",
              "session_start_time": null,
              "execution_start_time": "2023-11-02T17:42:47.7208626Z",
              "execution_finish_time": "2023-11-02T17:42:48.1391206Z",
              "spark_jobs": {
                "numbers": {
                  "FAILED": 0,
                  "RUNNING": 0,
                  "UNKNOWN": 0,
                  "SUCCEEDED": 0
                },
                "jobs": [],
                "limit": 20,
                "rule": "ALL_DESC"
              },
              "parent_msg_id": "10e99f7d-1413-4fad-ae01-4f6758cec54f"
            },
            "text/plain": "StatementMeta(7c27951d-2bdf-4140-be82-d0dc0c0e7d8e, 15, 7, Finished, Available)"
          },
          "metadata": {}
        }
      ],
      "execution_count": 2,
      "metadata": {
        "jupyter": {
          "source_hidden": false,
          "outputs_hidden": false
        },
        "nteract": {
          "transient": {
            "deleting": false
          }
        },
        "gather": {
          "logged": 1698946968258
        }
      },
      "id": "18d8cf8a-0690-428c-92bc-b170311b5302"
    },
    {
      "cell_type": "markdown",
      "source": [
        "### Reading in Reddit Data"
      ],
      "metadata": {},
      "id": "070acf71-a6dc-4b37-8c03-56e1d721cee0"
    },
    {
      "cell_type": "code",
      "source": [
        "comments_path = \"reddit-parquet/comments/\"\n",
        "submissions_path = \"reddit-parquet/submissions/\""
      ],
      "outputs": [
        {
          "output_type": "display_data",
          "data": {
            "application/vnd.livy.statement-meta+json": {
              "spark_pool": "7c27951d-2bdf-4140-be82-d0dc0c0e7d8e",
              "session_id": "15",
              "statement_id": 8,
              "state": "finished",
              "livy_statement_state": "available",
              "queued_time": "2023-11-02T17:41:52.2510147Z",
              "session_start_time": null,
              "execution_start_time": "2023-11-02T17:42:48.2594437Z",
              "execution_finish_time": "2023-11-02T17:42:48.6562494Z",
              "spark_jobs": {
                "numbers": {
                  "FAILED": 0,
                  "RUNNING": 0,
                  "UNKNOWN": 0,
                  "SUCCEEDED": 0
                },
                "jobs": [],
                "limit": 20,
                "rule": "ALL_DESC"
              },
              "parent_msg_id": "56d2af88-f880-4404-9317-39f798332f4a"
            },
            "text/plain": "StatementMeta(7c27951d-2bdf-4140-be82-d0dc0c0e7d8e, 15, 8, Finished, Available)"
          },
          "metadata": {}
        }
      ],
      "execution_count": 3,
      "metadata": {
        "jupyter": {
          "source_hidden": false,
          "outputs_hidden": false
        },
        "nteract": {
          "transient": {
            "deleting": false
          }
        },
        "gather": {
          "logged": 1698946968791
        }
      },
      "id": "3bdf3f26-a60b-4345-aa0f-1fdb69ff5df5"
    },
    {
      "cell_type": "code",
      "source": [
        "# Test on a single file only (random file)\n",
        "comments_single = \"year=2021/month=10/*\"\n",
        "submissions_single = \"year=2021/month=10/*\""
      ],
      "outputs": [
        {
          "output_type": "display_data",
          "data": {
            "application/vnd.livy.statement-meta+json": {
              "spark_pool": "7c27951d-2bdf-4140-be82-d0dc0c0e7d8e",
              "session_id": "13",
              "statement_id": 9,
              "state": "finished",
              "livy_statement_state": "available",
              "queued_time": "2023-11-02T17:35:20.4985232Z",
              "session_start_time": null,
              "execution_start_time": "2023-11-02T17:36:13.1506106Z",
              "execution_finish_time": "2023-11-02T17:36:13.5115381Z",
              "spark_jobs": {
                "numbers": {
                  "FAILED": 0,
                  "RUNNING": 0,
                  "UNKNOWN": 0,
                  "SUCCEEDED": 0
                },
                "jobs": [],
                "limit": 20,
                "rule": "ALL_DESC"
              },
              "parent_msg_id": "f3d5da55-f96d-40d7-9d9f-e9351f6dd90f"
            },
            "text/plain": "StatementMeta(7c27951d-2bdf-4140-be82-d0dc0c0e7d8e, 13, 9, Finished, Available)"
          },
          "metadata": {}
        }
      ],
      "execution_count": 4,
      "metadata": {
        "jupyter": {
          "source_hidden": false,
          "outputs_hidden": false
        },
        "nteract": {
          "transient": {
            "deleting": false
          }
        },
        "gather": {
          "logged": 1698946574774
        }
      },
      "id": "a68daec4-2262-4212-8393-e3d0540ecb51"
    },
    {
      "cell_type": "code",
      "source": [
        "comments_single_df = spark.read.parquet(f\"{wasbs_base_url}{comments_path}\")\n",
        "submissions_single_df = spark.read.parquet(f\"{wasbs_base_url}{submissions_path}\")"
      ],
      "outputs": [
        {
          "output_type": "display_data",
          "data": {
            "application/vnd.livy.statement-meta+json": {
              "spark_pool": "7c27951d-2bdf-4140-be82-d0dc0c0e7d8e",
              "session_id": "15",
              "statement_id": 9,
              "state": "finished",
              "livy_statement_state": "available",
              "queued_time": "2023-11-02T17:41:52.251934Z",
              "session_start_time": null,
              "execution_start_time": "2023-11-02T17:42:48.8094005Z",
              "execution_finish_time": "2023-11-02T17:43:21.4446886Z",
              "spark_jobs": {
                "numbers": {
                  "FAILED": 0,
                  "RUNNING": 0,
                  "UNKNOWN": 0,
                  "SUCCEEDED": 2
                },
                "jobs": [
                  {
                    "displayName": "parquet at NativeMethodAccessorImpl.java:0",
                    "dataWritten": 0,
                    "dataRead": 0,
                    "rowCount": 0,
                    "usageDescription": "",
                    "jobId": 1,
                    "name": "parquet at NativeMethodAccessorImpl.java:0",
                    "description": "Job group for statement 9:\ncomments_single_df = spark.read.parquet(f\"{wasbs_base_url}{comments_path}\")\nsubmissions_single_df = spark.read.parquet(f\"{wasbs_base_url}{submissions_path}\")",
                    "submissionTime": "2023-11-02T17:43:16.282GMT",
                    "completionTime": "2023-11-02T17:43:19.074GMT",
                    "stageIds": [
                      1
                    ],
                    "jobGroup": "9",
                    "status": "SUCCEEDED",
                    "numTasks": 1,
                    "numActiveTasks": 0,
                    "numCompletedTasks": 1,
                    "numSkippedTasks": 0,
                    "numFailedTasks": 0,
                    "numKilledTasks": 0,
                    "numCompletedIndices": 1,
                    "numActiveStages": 0,
                    "numCompletedStages": 1,
                    "numSkippedStages": 0,
                    "numFailedStages": 0,
                    "killedTasksSummary": {}
                  },
                  {
                    "displayName": "parquet at NativeMethodAccessorImpl.java:0",
                    "dataWritten": 0,
                    "dataRead": 0,
                    "rowCount": 0,
                    "usageDescription": "",
                    "jobId": 0,
                    "name": "parquet at NativeMethodAccessorImpl.java:0",
                    "description": "Job group for statement 9:\ncomments_single_df = spark.read.parquet(f\"{wasbs_base_url}{comments_path}\")\nsubmissions_single_df = spark.read.parquet(f\"{wasbs_base_url}{submissions_path}\")",
                    "submissionTime": "2023-11-02T17:43:04.150GMT",
                    "completionTime": "2023-11-02T17:43:07.511GMT",
                    "stageIds": [
                      0
                    ],
                    "jobGroup": "9",
                    "status": "SUCCEEDED",
                    "numTasks": 1,
                    "numActiveTasks": 0,
                    "numCompletedTasks": 1,
                    "numSkippedTasks": 0,
                    "numFailedTasks": 0,
                    "numKilledTasks": 0,
                    "numCompletedIndices": 1,
                    "numActiveStages": 0,
                    "numCompletedStages": 1,
                    "numSkippedStages": 0,
                    "numFailedStages": 0,
                    "killedTasksSummary": {}
                  }
                ],
                "limit": 20,
                "rule": "ALL_DESC"
              },
              "parent_msg_id": "b1f3a97c-a887-4fb1-91ce-803dd327d9b1"
            },
            "text/plain": "StatementMeta(7c27951d-2bdf-4140-be82-d0dc0c0e7d8e, 15, 9, Finished, Available)"
          },
          "metadata": {}
        }
      ],
      "execution_count": 4,
      "metadata": {
        "jupyter": {
          "source_hidden": false,
          "outputs_hidden": false
        },
        "nteract": {
          "transient": {
            "deleting": false
          }
        },
        "gather": {
          "logged": 1698947001581
        }
      },
      "id": "7eb6d8f8-1414-46b1-9c54-29a7fc985544"
    },
    {
      "cell_type": "markdown",
      "source": [
        "### Only College Basketball Subreddit"
      ],
      "metadata": {
        "nteract": {
          "transient": {
            "deleting": false
          }
        }
      },
      "id": "858c072a-681d-4a35-ade2-b8fab01bbb9c"
    },
    {
      "cell_type": "code",
      "source": [
        "submissions_filtered = submissions_single_df.filter(submissions_single_df['subreddit'] == \"CollegeBasketball\")\n",
        "comments_filtered = comments_single_df.filter(comments_single_df['subreddit']  == \"CollegeBasketball\")"
      ],
      "outputs": [
        {
          "output_type": "display_data",
          "data": {
            "application/vnd.livy.statement-meta+json": {
              "spark_pool": "7c27951d-2bdf-4140-be82-d0dc0c0e7d8e",
              "session_id": "13",
              "statement_id": 11,
              "state": "finished",
              "livy_statement_state": "available",
              "queued_time": "2023-11-02T17:35:20.5006755Z",
              "session_start_time": null,
              "execution_start_time": "2023-11-02T17:36:42.159148Z",
              "execution_finish_time": "2023-11-02T17:36:43.0751775Z",
              "spark_jobs": {
                "numbers": {
                  "FAILED": 0,
                  "RUNNING": 0,
                  "UNKNOWN": 0,
                  "SUCCEEDED": 0
                },
                "jobs": [],
                "limit": 20,
                "rule": "ALL_DESC"
              },
              "parent_msg_id": "79a495a8-4dbc-4b06-b145-c333bfb9372b"
            },
            "text/plain": "StatementMeta(7c27951d-2bdf-4140-be82-d0dc0c0e7d8e, 13, 11, Finished, Available)"
          },
          "metadata": {}
        }
      ],
      "execution_count": 6,
      "metadata": {
        "jupyter": {
          "source_hidden": false,
          "outputs_hidden": false
        },
        "nteract": {
          "transient": {
            "deleting": false
          }
        },
        "gather": {
          "logged": 1698946603172
        }
      },
      "id": "f38ff848-066e-46aa-bcc8-4f4b4c9bca9f"
    },
    {
      "cell_type": "code",
      "source": [
        "submissions_filtered = submissions_single_df.filter(submissions_single_df['subreddit'] == \"CollegeBasketball\")"
      ],
      "outputs": [
        {
          "output_type": "display_data",
          "data": {
            "application/vnd.livy.statement-meta+json": {
              "spark_pool": "7c27951d-2bdf-4140-be82-d0dc0c0e7d8e",
              "session_id": "14",
              "statement_id": 11,
              "state": "finished",
              "livy_statement_state": "available",
              "queued_time": "2023-11-02T17:40:49.9478181Z",
              "session_start_time": null,
              "execution_start_time": "2023-11-02T17:40:50.0628843Z",
              "execution_finish_time": "2023-11-02T17:40:51.0093109Z",
              "spark_jobs": {
                "numbers": {
                  "FAILED": 0,
                  "RUNNING": 0,
                  "UNKNOWN": 0,
                  "SUCCEEDED": 0
                },
                "jobs": [],
                "limit": 20,
                "rule": "ALL_DESC"
              },
              "parent_msg_id": "f5ac48a6-f994-4c75-a810-a12e8e27cc15"
            },
            "text/plain": "StatementMeta(7c27951d-2bdf-4140-be82-d0dc0c0e7d8e, 14, 11, Finished, Available)"
          },
          "metadata": {}
        }
      ],
      "execution_count": 6,
      "metadata": {
        "jupyter": {
          "source_hidden": false,
          "outputs_hidden": false
        },
        "nteract": {
          "transient": {
            "deleting": false
          }
        },
        "gather": {
          "logged": 1698946851132
        }
      },
      "id": "dc0586cc-18d2-424d-b514-b3f6810cb8bf"
    },
    {
      "cell_type": "markdown",
      "source": [
        "### Selecting Desired Subreddits"
      ],
      "metadata": {},
      "id": "56cb76ec-baf0-43c1-b4f2-0ba185624d81"
    },
    {
      "cell_type": "code",
      "source": [
        "subreddit_values = [\"CollegeBasketball\", \"jayhawks\", \"tarheels\"]\n",
        "submissions_filtered = submissions_single_df.filter(submissions_single_df['subreddit'].isin(subreddit_values))\n",
        "comments_filtered = comments_single_df.filter(comments_single_df['subreddit'].isin(subreddit_values))"
      ],
      "outputs": [
        {
          "output_type": "display_data",
          "data": {
            "application/vnd.livy.statement-meta+json": {
              "spark_pool": "7c27951d-2bdf-4140-be82-d0dc0c0e7d8e",
              "session_id": "15",
              "statement_id": 10,
              "state": "finished",
              "livy_statement_state": "available",
              "queued_time": "2023-11-02T17:41:54.6021942Z",
              "session_start_time": null,
              "execution_start_time": "2023-11-02T17:43:21.5702146Z",
              "execution_finish_time": "2023-11-02T17:43:22.5020355Z",
              "spark_jobs": {
                "numbers": {
                  "FAILED": 0,
                  "RUNNING": 0,
                  "UNKNOWN": 0,
                  "SUCCEEDED": 0
                },
                "jobs": [],
                "limit": 20,
                "rule": "ALL_DESC"
              },
              "parent_msg_id": "b1fccfbc-2bfc-41bb-9d5c-4f3397f0637c"
            },
            "text/plain": "StatementMeta(7c27951d-2bdf-4140-be82-d0dc0c0e7d8e, 15, 10, Finished, Available)"
          },
          "metadata": {}
        }
      ],
      "execution_count": 5,
      "metadata": {
        "jupyter": {
          "source_hidden": false,
          "outputs_hidden": false
        },
        "nteract": {
          "transient": {
            "deleting": false
          }
        },
        "gather": {
          "logged": 1698947002638
        }
      },
      "id": "efd4d193-132c-4d27-bd50-d0a902758e86"
    },
    {
      "cell_type": "code",
      "source": [
        "comments_filtered.select(\"subreddit\", \"author\", \"body\", \"parent_id\", \"link_id\", \"id\", \"created_utc\").show()"
      ],
      "outputs": [
        {
          "output_type": "display_data",
          "data": {
            "application/vnd.livy.statement-meta+json": {
              "spark_pool": "7c27951d-2bdf-4140-be82-d0dc0c0e7d8e",
              "session_id": "12",
              "statement_id": 15,
              "state": "finished",
              "livy_statement_state": "available",
              "queued_time": "2023-11-02T17:22:30.4606973Z",
              "session_start_time": null,
              "execution_start_time": "2023-11-02T17:22:30.5868483Z",
              "execution_finish_time": "2023-11-02T17:22:37.3417124Z",
              "spark_jobs": {
                "numbers": {
                  "FAILED": 0,
                  "RUNNING": 0,
                  "UNKNOWN": 0,
                  "SUCCEEDED": 2
                },
                "jobs": [
                  {
                    "displayName": "showString at NativeMethodAccessorImpl.java:0",
                    "dataWritten": 0,
                    "dataRead": 37019349,
                    "rowCount": 126976,
                    "usageDescription": "",
                    "jobId": 9,
                    "name": "showString at NativeMethodAccessorImpl.java:0",
                    "description": "Job group for statement 15:\ncomments_filtered.select(\"subreddit\", \"author\", \"body\", \"parent_id\", \"link_id\", \"id\", \"created_utc\").show()",
                    "submissionTime": "2023-11-02T17:22:34.736GMT",
                    "completionTime": "2023-11-02T17:22:35.994GMT",
                    "stageIds": [
                      10
                    ],
                    "jobGroup": "15",
                    "status": "SUCCEEDED",
                    "numTasks": 4,
                    "numActiveTasks": 0,
                    "numCompletedTasks": 4,
                    "numSkippedTasks": 0,
                    "numFailedTasks": 0,
                    "numKilledTasks": 0,
                    "numCompletedIndices": 4,
                    "numActiveStages": 0,
                    "numCompletedStages": 1,
                    "numSkippedStages": 0,
                    "numFailedStages": 0,
                    "killedTasksSummary": {}
                  },
                  {
                    "displayName": "showString at NativeMethodAccessorImpl.java:0",
                    "dataWritten": 0,
                    "dataRead": 33412007,
                    "rowCount": 280821,
                    "usageDescription": "",
                    "jobId": 8,
                    "name": "showString at NativeMethodAccessorImpl.java:0",
                    "description": "Job group for statement 15:\ncomments_filtered.select(\"subreddit\", \"author\", \"body\", \"parent_id\", \"link_id\", \"id\", \"created_utc\").show()",
                    "submissionTime": "2023-11-02T17:22:31.485GMT",
                    "completionTime": "2023-11-02T17:22:34.725GMT",
                    "stageIds": [
                      9
                    ],
                    "jobGroup": "15",
                    "status": "SUCCEEDED",
                    "numTasks": 1,
                    "numActiveTasks": 0,
                    "numCompletedTasks": 1,
                    "numSkippedTasks": 0,
                    "numFailedTasks": 0,
                    "numKilledTasks": 0,
                    "numCompletedIndices": 1,
                    "numActiveStages": 0,
                    "numCompletedStages": 1,
                    "numSkippedStages": 0,
                    "numFailedStages": 0,
                    "killedTasksSummary": {}
                  }
                ],
                "limit": 20,
                "rule": "ALL_DESC"
              },
              "parent_msg_id": "daa57243-fed1-444e-a855-ff139214663f"
            },
            "text/plain": "StatementMeta(7c27951d-2bdf-4140-be82-d0dc0c0e7d8e, 12, 15, Finished, Available)"
          },
          "metadata": {}
        },
        {
          "output_type": "stream",
          "name": "stdout",
          "text": "+-----------------+--------------------+--------------------+----------+---------+-------+-------------------+\n|        subreddit|              author|                body| parent_id|  link_id|     id|        created_utc|\n+-----------------+--------------------+--------------------+----------+---------+-------+-------------------+\n|CollegeBasketball|          YoooCakess|Is Mando a big La...|t1_h2lc3l9|t3_o55ia9|h2qsi3q|2021-06-23 07:11:56|\n|CollegeBasketball|  humphrey_the_camel|         Are you me?|t1_h2qox4q|t3_o65x04|h2qqbhs|2021-06-23 06:39:42|\n|CollegeBasketball|     shenanigans3390|What do you think...|t1_h2p6a5e|t3_o5rm4c|h2r2sg7|2021-06-23 09:57:58|\n|CollegeBasketball|   backtothepresent_|Turned me into a fan|t1_i4b74ak|t3_u19rzq|i4bri1y|2022-04-11 18:28:45|\n|CollegeBasketball|       booojangles13|The issue isn’t h...|t1_i4bqdwq|t3_u1drii|i4brjch|2022-04-11 18:28:59|\n|CollegeBasketball|           jayhawk03|those are the pla...|t1_i4b66qq|t3_u1b0st|i4brkjx|2022-04-11 18:29:12|\n|CollegeBasketball|             theels6|There's too many ...| t3_u19gk6|t3_u19gk6|i4brkuu|2022-04-11 18:29:15|\n|CollegeBasketball|            gmills87|Just want to poin...| t3_u1czjy|t3_u1czjy|i4brmio|2022-04-11 18:29:33|\n|CollegeBasketball|Cautious-Barnacle-15|He doesnt have co...|t1_i48l77x|t3_u0v6pb|i4brmvf|2022-04-11 18:29:36|\n|CollegeBasketball|        tarspaceheel|Ugh, call Coach K...|t1_i4awf2h|t3_u18f9x|i4brn5y|2022-04-11 18:29:39|\n|CollegeBasketball|    TangerineChicken|I think you might...|t1_i4bql5p|t3_u1ck3m|i4brng2|2022-04-11 18:29:42|\n|CollegeBasketball|    Vague_Intentions|They played like ...|t1_i4b402q|t3_u19rzq|i4brofv|2022-04-11 18:29:53|\n|CollegeBasketball|      SentientPoster|We’ll take 1 efto...|t1_i4bod8g|t3_u1drii|i4brpe1|2022-04-11 18:30:03|\n|CollegeBasketball|         luvdadrafts|You know what’s b...|t1_i4ayohc|t3_u18g1w|i4brq7b|2022-04-11 18:30:12|\n|CollegeBasketball|    themidnightmamba|There hasn’t been...|t1_i4bqel6|t3_u1drii|i4brs9p|2022-04-11 18:30:33|\n|CollegeBasketball|            KBHoleN1|I believe this ca...|t1_i4bpxos|t3_u1ds3y|i4bruyb|2022-04-11 18:31:01|\n|CollegeBasketball|             Mjss776|It's at least a h...|t1_i4bnbsh|t3_u1d3vq|i4brwac|2022-04-11 18:31:15|\n|CollegeBasketball|         Spicehawk86|Typical Duke worr...| t3_u1ck3m|t3_u1ck3m|i4bs0e3|2022-04-11 18:31:59|\n|CollegeBasketball|        tarspaceheel|From a pure baske...|t1_i4b402q|t3_u19rzq|i4bs2fu|2022-04-11 18:32:20|\n|CollegeBasketball|            VandyHOU|   I'd prefer not to|t1_i4boqyt|t3_u1ds3y|i4bs2pu|2022-04-11 18:32:23|\n+-----------------+--------------------+--------------------+----------+---------+-------+-------------------+\nonly showing top 20 rows\n\n"
        }
      ],
      "execution_count": 10,
      "metadata": {
        "jupyter": {
          "source_hidden": false,
          "outputs_hidden": false
        },
        "nteract": {
          "transient": {
            "deleting": false
          }
        },
        "gather": {
          "logged": 1698945757487
        }
      },
      "id": "3e0d94b8-cc84-46f7-a806-df626614251c"
    },
    {
      "cell_type": "code",
      "source": [
        "submissions_filtered.select(\"subreddit\", \"author\", \"title\", \"selftext\", \"created_utc\", \"num_comments\").show()"
      ],
      "outputs": [
        {
          "output_type": "display_data",
          "data": {
            "application/vnd.livy.statement-meta+json": {
              "spark_pool": "7c27951d-2bdf-4140-be82-d0dc0c0e7d8e",
              "session_id": "11",
              "statement_id": 19,
              "state": "finished",
              "livy_statement_state": "available",
              "queued_time": "2023-11-02T17:14:57.8609939Z",
              "session_start_time": null,
              "execution_start_time": "2023-11-02T17:14:57.9983542Z",
              "execution_finish_time": "2023-11-02T17:15:06.4869968Z",
              "spark_jobs": {
                "numbers": {
                  "FAILED": 0,
                  "RUNNING": 0,
                  "UNKNOWN": 0,
                  "SUCCEEDED": 2
                },
                "jobs": [
                  {
                    "displayName": "showString at NativeMethodAccessorImpl.java:0",
                    "dataWritten": 0,
                    "dataRead": 20916738,
                    "rowCount": 212091,
                    "usageDescription": "",
                    "jobId": 16,
                    "name": "showString at NativeMethodAccessorImpl.java:0",
                    "description": "Job group for statement 19:\nsubmissions_filtered.select(\"subreddit\", \"author\", \"title\", \"selftext\", \"created_utc\", \"num_comments\").show()",
                    "submissionTime": "2023-11-02T17:15:02.023GMT",
                    "completionTime": "2023-11-02T17:15:04.899GMT",
                    "stageIds": [
                      18
                    ],
                    "jobGroup": "19",
                    "status": "SUCCEEDED",
                    "numTasks": 1,
                    "numActiveTasks": 0,
                    "numCompletedTasks": 1,
                    "numSkippedTasks": 0,
                    "numFailedTasks": 0,
                    "numKilledTasks": 0,
                    "numCompletedIndices": 1,
                    "numActiveStages": 0,
                    "numCompletedStages": 1,
                    "numSkippedStages": 0,
                    "numFailedStages": 0,
                    "killedTasksSummary": {}
                  },
                  {
                    "displayName": "showString at NativeMethodAccessorImpl.java:0",
                    "dataWritten": 0,
                    "dataRead": 27869091,
                    "rowCount": 282320,
                    "usageDescription": "",
                    "jobId": 15,
                    "name": "showString at NativeMethodAccessorImpl.java:0",
                    "description": "Job group for statement 19:\nsubmissions_filtered.select(\"subreddit\", \"author\", \"title\", \"selftext\", \"created_utc\", \"num_comments\").show()",
                    "submissionTime": "2023-11-02T17:14:58.144GMT",
                    "completionTime": "2023-11-02T17:15:02.015GMT",
                    "stageIds": [
                      17
                    ],
                    "jobGroup": "19",
                    "status": "SUCCEEDED",
                    "numTasks": 1,
                    "numActiveTasks": 0,
                    "numCompletedTasks": 1,
                    "numSkippedTasks": 0,
                    "numFailedTasks": 0,
                    "numKilledTasks": 0,
                    "numCompletedIndices": 1,
                    "numActiveStages": 0,
                    "numCompletedStages": 1,
                    "numSkippedStages": 0,
                    "numFailedStages": 0,
                    "killedTasksSummary": {}
                  }
                ],
                "limit": 20,
                "rule": "ALL_DESC"
              },
              "parent_msg_id": "144c533e-d0cc-46a6-81bb-568c0420efc9"
            },
            "text/plain": "StatementMeta(7c27951d-2bdf-4140-be82-d0dc0c0e7d8e, 11, 19, Finished, Available)"
          },
          "metadata": {}
        },
        {
          "output_type": "stream",
          "name": "stdout",
          "text": "+-----------------+------------------+--------------------+--------------------+-------------------+------------+\n|        subreddit|            author|               title|            selftext|        created_utc|num_comments|\n+-----------------+------------------+--------------------+--------------------+-------------------+------------+\n|CollegeBasketball|       pillowman17|Jeff Goodman’s 20...|                    |2021-10-20 15:13:06|          16|\n|CollegeBasketball|          treeeefy|Anyone who is int...|           [removed]|2021-10-20 16:44:23|           0|\n|CollegeBasketball|          DaMantis|Dick Vitale's pre...|                    |2021-10-20 17:07:08|          20|\n|CollegeBasketball|         [deleted]|Follow @collegeho...|           [removed]|2021-10-20 17:08:55|           0|\n|CollegeBasketball|     DavidBenAkiva|[Hoop Hall] Baske...|                    |2021-10-20 17:12:31|           8|\n|CollegeBasketball|       KatKat23421|American Athletic...|                    |2021-10-21 14:09:05|         225|\n|CollegeBasketball|        LordLiquid|Rice Accepts Invi...|                    |2021-10-21 14:15:38|          24|\n|CollegeBasketball|     DavidBenAkiva|[Jack Giles] Win%...|                    |2021-10-21 14:24:27|          37|\n|CollegeBasketball|     DavidBenAkiva|HBCU's Howard, Mo...|                    |2021-10-21 14:32:09|           9|\n|CollegeBasketball|     DavidBenAkiva|[Field of 68] Pre...|                    |2021-10-20 13:40:37|           4|\n|CollegeBasketball|          akunst22|Jaden Ivey Breakdown|                    |2021-10-20 13:49:27|          17|\n|CollegeBasketball|    CreativeAmount|MVC Releases Pres...|                    |2021-10-20 14:32:56|          40|\n|CollegeBasketball|     AutoModerator|[Weekly Post] Who...|Welcome to Whose ...|2021-10-20 15:00:13|           0|\n|CollegeBasketball|         [deleted]|Why isn’t there a...|Basketball only s...|2021-10-21 20:58:06|          69|\n|CollegeBasketball|     finalfourcuse|Chris Bunch commi...|                    |2021-10-21 21:15:21|          23|\n|CollegeBasketball|         [deleted]|   [deleted by user]|           [removed]|2021-10-06 10:13:36|           0|\n|CollegeBasketball|dealsonlinebyhenry|VolgoPlus is a b2...|                    |2021-10-06 10:18:47|           0|\n|CollegeBasketball|       YeOldeDoggo|The Most Popular ...|                    |2021-10-20 15:52:12|         143|\n|CollegeBasketball|            Chaz--|Top international...|https://www.espn....|2021-10-20 16:14:10|          14|\n|CollegeBasketball|      hilltopper06|DIY G5 Realignmen...|Just for fun, mak...|2021-10-14 14:22:49|          28|\n+-----------------+------------------+--------------------+--------------------+-------------------+------------+\nonly showing top 20 rows\n\n"
        }
      ],
      "execution_count": 14,
      "metadata": {
        "jupyter": {
          "source_hidden": false,
          "outputs_hidden": false
        },
        "nteract": {
          "transient": {
            "deleting": false
          }
        },
        "gather": {
          "logged": 1698945306851
        }
      },
      "id": "7e986699-a294-4be5-b036-b670bf896cfd"
    },
    {
      "cell_type": "code",
      "source": [
        "from pyspark.sql.functions import *\n",
        "from datetime import datetime\n",
        "\n",
        "start_timestamp = datetime(2021, 7, 1)\n",
        "end_timestamp = datetime(2022, 6, 30)\n",
        "\n",
        "submissions_filtered = submissions_filtered.filter((col(\"created_utc\") >= start_timestamp) & (col(\"created_utc\") <= end_timestamp))\n",
        "comments_filtered = comments_filtered.filter((col(\"created_utc\") >= start_timestamp) & (col(\"created_utc\") <= end_timestamp))"
      ],
      "outputs": [
        {
          "output_type": "display_data",
          "data": {
            "application/vnd.livy.statement-meta+json": {
              "spark_pool": "7c27951d-2bdf-4140-be82-d0dc0c0e7d8e",
              "session_id": "15",
              "statement_id": 11,
              "state": "finished",
              "livy_statement_state": "available",
              "queued_time": "2023-11-02T17:42:05.30375Z",
              "session_start_time": null,
              "execution_start_time": "2023-11-02T17:43:22.6218847Z",
              "execution_finish_time": "2023-11-02T17:43:23.5390255Z",
              "spark_jobs": {
                "numbers": {
                  "FAILED": 0,
                  "RUNNING": 0,
                  "UNKNOWN": 0,
                  "SUCCEEDED": 0
                },
                "jobs": [],
                "limit": 20,
                "rule": "ALL_DESC"
              },
              "parent_msg_id": "3b7ff1a2-5a9f-4756-9d42-938752cd6000"
            },
            "text/plain": "StatementMeta(7c27951d-2bdf-4140-be82-d0dc0c0e7d8e, 15, 11, Finished, Available)"
          },
          "metadata": {}
        }
      ],
      "execution_count": 6,
      "metadata": {
        "jupyter": {
          "source_hidden": false,
          "outputs_hidden": false
        },
        "nteract": {
          "transient": {
            "deleting": false
          }
        },
        "gather": {
          "logged": 1698947003823
        }
      },
      "id": "c0056d33-8855-48aa-8b0a-bf7b21b66eef"
    },
    {
      "cell_type": "markdown",
      "source": [
        "### EDA"
      ],
      "metadata": {
        "nteract": {
          "transient": {
            "deleting": false
          }
        }
      },
      "id": "b9cf75c6-6b70-41ac-8265-e8d6bb077404"
    },
    {
      "cell_type": "markdown",
      "source": [
        "#### Basic Data Summary"
      ],
      "metadata": {
        "nteract": {
          "transient": {
            "deleting": false
          }
        }
      },
      "id": "5d1fccc1-afcc-41ab-8243-8c7fecef0df8"
    },
    {
      "cell_type": "code",
      "source": [
        "submissions_filtered.printSchema()"
      ],
      "outputs": [
        {
          "output_type": "display_data",
          "data": {
            "application/vnd.livy.statement-meta+json": {
              "spark_pool": "7c27951d-2bdf-4140-be82-d0dc0c0e7d8e",
              "session_id": "1",
              "statement_id": 14,
              "state": "finished",
              "livy_statement_state": "available",
              "queued_time": "2023-11-02T15:03:04.7644737Z",
              "session_start_time": null,
              "execution_start_time": "2023-11-02T15:03:04.9207165Z",
              "execution_finish_time": "2023-11-02T15:03:05.2704013Z",
              "spark_jobs": {
                "numbers": {
                  "FAILED": 0,
                  "RUNNING": 0,
                  "UNKNOWN": 0,
                  "SUCCEEDED": 0
                },
                "jobs": [],
                "limit": 20,
                "rule": "ALL_DESC"
              },
              "parent_msg_id": "a147f6aa-8419-4cb5-8a0c-f8c18d1cd843"
            },
            "text/plain": "StatementMeta(7c27951d-2bdf-4140-be82-d0dc0c0e7d8e, 1, 14, Finished, Available)"
          },
          "metadata": {}
        },
        {
          "output_type": "stream",
          "name": "stdout",
          "text": "root\n |-- adserver_click_url: string (nullable = true)\n |-- adserver_imp_pixel: string (nullable = true)\n |-- archived: boolean (nullable = true)\n |-- author: string (nullable = true)\n |-- author_cakeday: boolean (nullable = true)\n |-- author_flair_css_class: string (nullable = true)\n |-- author_flair_text: string (nullable = true)\n |-- author_id: string (nullable = true)\n |-- brand_safe: boolean (nullable = true)\n |-- contest_mode: boolean (nullable = true)\n |-- created_utc: timestamp (nullable = true)\n |-- crosspost_parent: string (nullable = true)\n |-- crosspost_parent_list: array (nullable = true)\n |    |-- element: struct (containsNull = true)\n |    |    |-- approved_at_utc: string (nullable = true)\n |    |    |-- approved_by: string (nullable = true)\n |    |    |-- archived: boolean (nullable = true)\n |    |    |-- author: string (nullable = true)\n |    |    |-- author_flair_css_class: string (nullable = true)\n |    |    |-- author_flair_text: string (nullable = true)\n |    |    |-- banned_at_utc: string (nullable = true)\n |    |    |-- banned_by: string (nullable = true)\n |    |    |-- brand_safe: boolean (nullable = true)\n |    |    |-- can_gild: boolean (nullable = true)\n |    |    |-- can_mod_post: boolean (nullable = true)\n |    |    |-- clicked: boolean (nullable = true)\n |    |    |-- contest_mode: boolean (nullable = true)\n |    |    |-- created: double (nullable = true)\n |    |    |-- created_utc: double (nullable = true)\n |    |    |-- distinguished: string (nullable = true)\n |    |    |-- domain: string (nullable = true)\n |    |    |-- downs: long (nullable = true)\n |    |    |-- edited: boolean (nullable = true)\n |    |    |-- gilded: long (nullable = true)\n |    |    |-- hidden: boolean (nullable = true)\n |    |    |-- hide_score: boolean (nullable = true)\n |    |    |-- id: string (nullable = true)\n |    |    |-- is_crosspostable: boolean (nullable = true)\n |    |    |-- is_reddit_media_domain: boolean (nullable = true)\n |    |    |-- is_self: boolean (nullable = true)\n |    |    |-- is_video: boolean (nullable = true)\n |    |    |-- likes: string (nullable = true)\n |    |    |-- link_flair_css_class: string (nullable = true)\n |    |    |-- link_flair_text: string (nullable = true)\n |    |    |-- locked: boolean (nullable = true)\n |    |    |-- media: string (nullable = true)\n |    |    |-- mod_reports: array (nullable = true)\n |    |    |    |-- element: string (containsNull = true)\n |    |    |-- name: string (nullable = true)\n |    |    |-- num_comments: long (nullable = true)\n |    |    |-- num_crossposts: long (nullable = true)\n |    |    |-- num_reports: string (nullable = true)\n |    |    |-- over_18: boolean (nullable = true)\n |    |    |-- parent_whitelist_status: string (nullable = true)\n |    |    |-- permalink: string (nullable = true)\n |    |    |-- pinned: boolean (nullable = true)\n |    |    |-- quarantine: boolean (nullable = true)\n |    |    |-- removal_reason: string (nullable = true)\n |    |    |-- report_reasons: string (nullable = true)\n |    |    |-- saved: boolean (nullable = true)\n |    |    |-- score: long (nullable = true)\n |    |    |-- secure_media: string (nullable = true)\n |    |    |-- selftext: string (nullable = true)\n |    |    |-- selftext_html: string (nullable = true)\n |    |    |-- spoiler: boolean (nullable = true)\n |    |    |-- stickied: boolean (nullable = true)\n |    |    |-- subreddit: string (nullable = true)\n |    |    |-- subreddit_id: string (nullable = true)\n |    |    |-- subreddit_name_prefixed: string (nullable = true)\n |    |    |-- subreddit_type: string (nullable = true)\n |    |    |-- suggested_sort: string (nullable = true)\n |    |    |-- thumbnail: string (nullable = true)\n |    |    |-- thumbnail_height: string (nullable = true)\n |    |    |-- thumbnail_width: string (nullable = true)\n |    |    |-- title: string (nullable = true)\n |    |    |-- ups: long (nullable = true)\n |    |    |-- url: string (nullable = true)\n |    |    |-- user_reports: array (nullable = true)\n |    |    |    |-- element: string (containsNull = true)\n |    |    |-- view_count: string (nullable = true)\n |    |    |-- visited: boolean (nullable = true)\n |    |    |-- whitelist_status: string (nullable = true)\n |-- disable_comments: boolean (nullable = true)\n |-- distinguished: string (nullable = true)\n |-- domain: string (nullable = true)\n |-- domain_override: string (nullable = true)\n |-- edited: string (nullable = true)\n |-- embed_type: string (nullable = true)\n |-- embed_url: string (nullable = true)\n |-- gilded: long (nullable = true)\n |-- hidden: boolean (nullable = true)\n |-- hide_score: boolean (nullable = true)\n |-- href_url: string (nullable = true)\n |-- id: string (nullable = true)\n |-- imp_pixel: string (nullable = true)\n |-- is_crosspostable: boolean (nullable = true)\n |-- is_reddit_media_domain: boolean (nullable = true)\n |-- is_self: boolean (nullable = true)\n |-- is_video: boolean (nullable = true)\n |-- link_flair_css_class: string (nullable = true)\n |-- link_flair_text: string (nullable = true)\n |-- locked: boolean (nullable = true)\n |-- media: struct (nullable = true)\n |    |-- event_id: string (nullable = true)\n |    |-- oembed: struct (nullable = true)\n |    |    |-- author_name: string (nullable = true)\n |    |    |-- author_url: string (nullable = true)\n |    |    |-- cache_age: long (nullable = true)\n |    |    |-- description: string (nullable = true)\n |    |    |-- height: long (nullable = true)\n |    |    |-- html: string (nullable = true)\n |    |    |-- provider_name: string (nullable = true)\n |    |    |-- provider_url: string (nullable = true)\n |    |    |-- thumbnail_height: long (nullable = true)\n |    |    |-- thumbnail_url: string (nullable = true)\n |    |    |-- thumbnail_width: long (nullable = true)\n |    |    |-- title: string (nullable = true)\n |    |    |-- type: string (nullable = true)\n |    |    |-- url: string (nullable = true)\n |    |    |-- version: string (nullable = true)\n |    |    |-- width: long (nullable = true)\n |    |-- reddit_video: struct (nullable = true)\n |    |    |-- dash_url: string (nullable = true)\n |    |    |-- duration: long (nullable = true)\n |    |    |-- fallback_url: string (nullable = true)\n |    |    |-- height: long (nullable = true)\n |    |    |-- hls_url: string (nullable = true)\n |    |    |-- is_gif: boolean (nullable = true)\n |    |    |-- scrubber_media_url: string (nullable = true)\n |    |    |-- transcoding_status: string (nullable = true)\n |    |    |-- width: long (nullable = true)\n |    |-- type: string (nullable = true)\n |-- media_embed: struct (nullable = true)\n |    |-- content: string (nullable = true)\n |    |-- height: long (nullable = true)\n |    |-- scrolling: boolean (nullable = true)\n |    |-- width: long (nullable = true)\n |-- mobile_ad_url: string (nullable = true)\n |-- num_comments: long (nullable = true)\n |-- num_crossposts: long (nullable = true)\n |-- original_link: string (nullable = true)\n |-- over_18: boolean (nullable = true)\n |-- parent_whitelist_status: string (nullable = true)\n |-- permalink: string (nullable = true)\n |-- pinned: boolean (nullable = true)\n |-- post_hint: string (nullable = true)\n |-- preview: struct (nullable = true)\n |    |-- enabled: boolean (nullable = true)\n |    |-- images: array (nullable = true)\n |    |    |-- element: struct (containsNull = true)\n |    |    |    |-- id: string (nullable = true)\n |    |    |    |-- resolutions: array (nullable = true)\n |    |    |    |    |-- element: struct (containsNull = true)\n |    |    |    |    |    |-- height: long (nullable = true)\n |    |    |    |    |    |-- url: string (nullable = true)\n |    |    |    |    |    |-- width: long (nullable = true)\n |    |    |    |-- source: struct (nullable = true)\n |    |    |    |    |-- height: long (nullable = true)\n |    |    |    |    |-- url: string (nullable = true)\n |    |    |    |    |-- width: long (nullable = true)\n |    |    |    |-- variants: struct (nullable = true)\n |    |    |    |    |-- gif: struct (nullable = true)\n |    |    |    |    |    |-- resolutions: array (nullable = true)\n |    |    |    |    |    |    |-- element: struct (containsNull = true)\n |    |    |    |    |    |    |    |-- height: long (nullable = true)\n |    |    |    |    |    |    |    |-- url: string (nullable = true)\n |    |    |    |    |    |    |    |-- width: long (nullable = true)\n |    |    |    |    |    |-- source: struct (nullable = true)\n |    |    |    |    |    |    |-- height: long (nullable = true)\n |    |    |    |    |    |    |-- url: string (nullable = true)\n |    |    |    |    |    |    |-- width: long (nullable = true)\n |    |    |    |    |-- mp4: struct (nullable = true)\n |    |    |    |    |    |-- resolutions: array (nullable = true)\n |    |    |    |    |    |    |-- element: struct (containsNull = true)\n |    |    |    |    |    |    |    |-- height: long (nullable = true)\n |    |    |    |    |    |    |    |-- url: string (nullable = true)\n |    |    |    |    |    |    |    |-- width: long (nullable = true)\n |    |    |    |    |    |-- source: struct (nullable = true)\n |    |    |    |    |    |    |-- height: long (nullable = true)\n |    |    |    |    |    |    |-- url: string (nullable = true)\n |    |    |    |    |    |    |-- width: long (nullable = true)\n |    |    |    |    |-- nsfw: struct (nullable = true)\n |    |    |    |    |    |-- resolutions: array (nullable = true)\n |    |    |    |    |    |    |-- element: struct (containsNull = true)\n |    |    |    |    |    |    |    |-- height: long (nullable = true)\n |    |    |    |    |    |    |    |-- url: string (nullable = true)\n |    |    |    |    |    |    |    |-- width: long (nullable = true)\n |    |    |    |    |    |-- source: struct (nullable = true)\n |    |    |    |    |    |    |-- height: long (nullable = true)\n |    |    |    |    |    |    |-- url: string (nullable = true)\n |    |    |    |    |    |    |-- width: long (nullable = true)\n |    |    |    |    |-- obfuscated: struct (nullable = true)\n |    |    |    |    |    |-- resolutions: array (nullable = true)\n |    |    |    |    |    |    |-- element: struct (containsNull = true)\n |    |    |    |    |    |    |    |-- height: long (nullable = true)\n |    |    |    |    |    |    |    |-- url: string (nullable = true)\n |    |    |    |    |    |    |    |-- width: long (nullable = true)\n |    |    |    |    |    |-- source: struct (nullable = true)\n |    |    |    |    |    |    |-- height: long (nullable = true)\n |    |    |    |    |    |    |-- url: string (nullable = true)\n |    |    |    |    |    |    |-- width: long (nullable = true)\n |-- promoted: boolean (nullable = true)\n |-- promoted_by: string (nullable = true)\n |-- promoted_display_name: string (nullable = true)\n |-- promoted_url: string (nullable = true)\n |-- retrieved_on: timestamp (nullable = true)\n |-- score: long (nullable = true)\n |-- secure_media: struct (nullable = true)\n |    |-- event_id: string (nullable = true)\n |    |-- oembed: struct (nullable = true)\n |    |    |-- author_name: string (nullable = true)\n |    |    |-- author_url: string (nullable = true)\n |    |    |-- cache_age: long (nullable = true)\n |    |    |-- description: string (nullable = true)\n |    |    |-- height: long (nullable = true)\n |    |    |-- html: string (nullable = true)\n |    |    |-- provider_name: string (nullable = true)\n |    |    |-- provider_url: string (nullable = true)\n |    |    |-- thumbnail_height: long (nullable = true)\n |    |    |-- thumbnail_url: string (nullable = true)\n |    |    |-- thumbnail_width: long (nullable = true)\n |    |    |-- title: string (nullable = true)\n |    |    |-- type: string (nullable = true)\n |    |    |-- url: string (nullable = true)\n |    |    |-- version: string (nullable = true)\n |    |    |-- width: long (nullable = true)\n |    |-- type: string (nullable = true)\n |-- secure_media_embed: struct (nullable = true)\n |    |-- content: string (nullable = true)\n |    |-- height: long (nullable = true)\n |    |-- media_domain_url: string (nullable = true)\n |    |-- scrolling: boolean (nullable = true)\n |    |-- width: long (nullable = true)\n |-- selftext: string (nullable = true)\n |-- spoiler: boolean (nullable = true)\n |-- stickied: boolean (nullable = true)\n |-- subreddit: string (nullable = true)\n |-- subreddit_id: string (nullable = true)\n |-- suggested_sort: string (nullable = true)\n |-- third_party_trackers: array (nullable = true)\n |    |-- element: string (containsNull = true)\n |-- third_party_tracking: string (nullable = true)\n |-- third_party_tracking_2: string (nullable = true)\n |-- thumbnail: string (nullable = true)\n |-- thumbnail_height: long (nullable = true)\n |-- thumbnail_width: long (nullable = true)\n |-- title: string (nullable = true)\n |-- url: string (nullable = true)\n |-- whitelist_status: string (nullable = true)\n\n"
        }
      ],
      "execution_count": 9,
      "metadata": {
        "jupyter": {
          "source_hidden": false,
          "outputs_hidden": false
        },
        "nteract": {
          "transient": {
            "deleting": false
          }
        },
        "gather": {
          "logged": 1698937385519
        }
      },
      "id": "4c7ae733-e95e-4abe-ba15-5cbd3e421ec6"
    },
    {
      "cell_type": "code",
      "source": [
        "comments_filtered.printSchema()"
      ],
      "outputs": [
        {
          "output_type": "display_data",
          "data": {
            "application/vnd.livy.statement-meta+json": {
              "spark_pool": "7c27951d-2bdf-4140-be82-d0dc0c0e7d8e",
              "session_id": "1",
              "statement_id": 15,
              "state": "finished",
              "livy_statement_state": "available",
              "queued_time": "2023-11-02T15:03:07.0180259Z",
              "session_start_time": null,
              "execution_start_time": "2023-11-02T15:03:07.1400881Z",
              "execution_finish_time": "2023-11-02T15:03:07.509558Z",
              "spark_jobs": {
                "numbers": {
                  "FAILED": 0,
                  "RUNNING": 0,
                  "UNKNOWN": 0,
                  "SUCCEEDED": 0
                },
                "jobs": [],
                "limit": 20,
                "rule": "ALL_DESC"
              },
              "parent_msg_id": "716169bd-2b01-4ea7-95cb-caa8f25c75f4"
            },
            "text/plain": "StatementMeta(7c27951d-2bdf-4140-be82-d0dc0c0e7d8e, 1, 15, Finished, Available)"
          },
          "metadata": {}
        },
        {
          "output_type": "stream",
          "name": "stdout",
          "text": "root\n |-- author: string (nullable = true)\n |-- author_cakeday: boolean (nullable = true)\n |-- author_flair_css_class: string (nullable = true)\n |-- author_flair_text: string (nullable = true)\n |-- body: string (nullable = true)\n |-- can_gild: boolean (nullable = true)\n |-- controversiality: long (nullable = true)\n |-- created_utc: timestamp (nullable = true)\n |-- distinguished: string (nullable = true)\n |-- edited: string (nullable = true)\n |-- gilded: long (nullable = true)\n |-- id: string (nullable = true)\n |-- is_submitter: boolean (nullable = true)\n |-- link_id: string (nullable = true)\n |-- parent_id: string (nullable = true)\n |-- permalink: string (nullable = true)\n |-- retrieved_on: timestamp (nullable = true)\n |-- score: long (nullable = true)\n |-- stickied: boolean (nullable = true)\n |-- subreddit: string (nullable = true)\n |-- subreddit_id: string (nullable = true)\n\n"
        }
      ],
      "execution_count": 10,
      "metadata": {
        "jupyter": {
          "source_hidden": false,
          "outputs_hidden": false
        },
        "nteract": {
          "transient": {
            "deleting": false
          }
        },
        "gather": {
          "logged": 1698937387621
        }
      },
      "id": "6e3d813e-6aca-46a1-a832-e9ebae16fe36"
    },
    {
      "cell_type": "code",
      "source": [
        "submissions_filtered = submissions_filtered.cache()"
      ],
      "outputs": [
        {
          "output_type": "display_data",
          "data": {
            "application/vnd.livy.statement-meta+json": {
              "spark_pool": "7c27951d-2bdf-4140-be82-d0dc0c0e7d8e",
              "session_id": "15",
              "statement_id": 12,
              "state": "finished",
              "livy_statement_state": "available",
              "queued_time": "2023-11-02T17:42:30.5710043Z",
              "session_start_time": null,
              "execution_start_time": "2023-11-02T17:43:23.6602148Z",
              "execution_finish_time": "2023-11-02T17:43:24.600076Z",
              "spark_jobs": {
                "numbers": {
                  "FAILED": 0,
                  "RUNNING": 0,
                  "UNKNOWN": 0,
                  "SUCCEEDED": 0
                },
                "jobs": [],
                "limit": 20,
                "rule": "ALL_DESC"
              },
              "parent_msg_id": "eaf9b756-9673-4011-a53c-67a415409697"
            },
            "text/plain": "StatementMeta(7c27951d-2bdf-4140-be82-d0dc0c0e7d8e, 15, 12, Finished, Available)"
          },
          "metadata": {}
        }
      ],
      "execution_count": 7,
      "metadata": {
        "jupyter": {
          "source_hidden": false,
          "outputs_hidden": false
        },
        "nteract": {
          "transient": {
            "deleting": false
          }
        },
        "gather": {
          "logged": 1698947004734
        }
      },
      "id": "0dd4e078-b4b8-4729-be66-ad7590869f2b"
    },
    {
      "cell_type": "code",
      "source": [
        "print(\"Total Submissions\")\n",
        "print(submissions_filtered.count())"
      ],
      "outputs": [
        {
          "output_type": "display_data",
          "data": {
            "application/vnd.livy.statement-meta+json": {
              "spark_pool": "7c27951d-2bdf-4140-be82-d0dc0c0e7d8e",
              "session_id": "15",
              "statement_id": 13,
              "state": "submitted",
              "livy_statement_state": "running",
              "queued_time": "2023-11-02T17:42:32.288109Z",
              "session_start_time": null,
              "execution_start_time": "2023-11-02T17:43:24.7520155Z",
              "execution_finish_time": null,
              "spark_jobs": {
                "numbers": {
                  "FAILED": 0,
                  "RUNNING": 1,
                  "UNKNOWN": 0,
                  "SUCCEEDED": 0
                },
                "jobs": [
                  {
                    "displayName": "count at NativeMethodAccessorImpl.java:0",
                    "dataWritten": 560,
                    "dataRead": 712649635,
                    "rowCount": 1756350,
                    "usageDescription": "",
                    "jobId": 2,
                    "name": "count at NativeMethodAccessorImpl.java:0",
                    "description": "Job group for statement 13:\nprint(\"Total Submissions\")\nprint(submissions_filtered.count())",
                    "submissionTime": "2023-11-02T17:43:26.228GMT",
                    "stageIds": [
                      2
                    ],
                    "jobGroup": "13",
                    "status": "RUNNING",
                    "numTasks": 3080,
                    "numActiveTasks": 9,
                    "numCompletedTasks": 10,
                    "numSkippedTasks": 0,
                    "numFailedTasks": 0,
                    "numKilledTasks": 0,
                    "numCompletedIndices": 10,
                    "numActiveStages": 1,
                    "numCompletedStages": 0,
                    "numSkippedStages": 0,
                    "numFailedStages": 0,
                    "killedTasksSummary": {}
                  }
                ],
                "limit": 20,
                "rule": "ALL_DESC"
              },
              "parent_msg_id": "ef0d6928-85dc-41df-9689-a99b10cc45af"
            },
            "text/plain": "StatementMeta(7c27951d-2bdf-4140-be82-d0dc0c0e7d8e, 15, 13, Submitted, Running)"
          },
          "metadata": {}
        },
        {
          "output_type": "stream",
          "name": "stdout",
          "text": "Total Submissions\n"
        }
      ],
      "execution_count": 8,
      "metadata": {
        "jupyter": {
          "source_hidden": false,
          "outputs_hidden": false
        },
        "nteract": {
          "transient": {
            "deleting": false
          }
        },
        "gather": {
          "logged": 1698945342474
        }
      },
      "id": "5f313a05-f15d-42ee-9616-3a890b6780ee"
    },
    {
      "cell_type": "code",
      "source": [
        "print(\"Total Comments\")\n",
        "print(comments_filtered.count())"
      ],
      "outputs": [],
      "execution_count": null,
      "metadata": {
        "jupyter": {
          "source_hidden": false,
          "outputs_hidden": false
        },
        "nteract": {
          "transient": {
            "deleting": false
          }
        }
      },
      "id": "8c93e85d-e1c1-4e36-ab48-dd21b0206c05"
    },
    {
      "cell_type": "code",
      "source": [
        "print(\"Count of Submissions by Subreddit\")\n",
        "print(submissions_filtered.groupBy('subreddit').count().show())"
      ],
      "outputs": [
        {
          "output_type": "display_data",
          "data": {
            "application/vnd.livy.statement-meta+json": {
              "spark_pool": null,
              "session_id": null,
              "statement_id": null,
              "state": "waiting",
              "livy_statement_state": null,
              "queued_time": "2023-11-02T17:42:38.0483134Z",
              "session_start_time": null,
              "execution_start_time": null,
              "execution_finish_time": null,
              "spark_jobs": null,
              "parent_msg_id": "6ab4fdd4-2c36-4479-a2bb-4f6a6a1bb7ce"
            },
            "text/plain": "StatementMeta(, , , Waiting, )"
          },
          "metadata": {}
        }
      ],
      "execution_count": null,
      "metadata": {
        "jupyter": {
          "source_hidden": false,
          "outputs_hidden": false
        },
        "nteract": {
          "transient": {
            "deleting": false
          }
        },
        "gather": {
          "logged": 1698945366222
        }
      },
      "id": "5ee9edc8-0500-4040-9193-2013304639f1"
    },
    {
      "cell_type": "code",
      "source": [
        "print(\"Count of Comments by Subreddit\")\n",
        "print(comments_filtered.groupBy('subreddit').count().show())"
      ],
      "outputs": [],
      "execution_count": null,
      "metadata": {
        "jupyter": {
          "source_hidden": false,
          "outputs_hidden": false
        },
        "nteract": {
          "transient": {
            "deleting": false
          }
        }
      },
      "id": "faa5a2ce-88d8-4ff7-9746-d498de0cc351"
    },
    {
      "cell_type": "markdown",
      "source": [
        "#### Interesting Plots"
      ],
      "metadata": {
        "nteract": {
          "transient": {
            "deleting": false
          }
        }
      },
      "id": "c4ac9a4f-8c2b-4bb1-b49e-27cf8496e389"
    },
    {
      "cell_type": "code",
      "source": [
        "submissions_filtered_small = submissions_filtered.limit(1000)\n",
        "comments_filtered_small = comments_filtered.limit(1000)"
      ],
      "outputs": [
        {
          "output_type": "display_data",
          "data": {
            "application/vnd.livy.statement-meta+json": {
              "spark_pool": "7c27951d-2bdf-4140-be82-d0dc0c0e7d8e",
              "session_id": "3",
              "statement_id": 17,
              "state": "finished",
              "livy_statement_state": "available",
              "queued_time": "2023-11-02T15:44:31.6692752Z",
              "session_start_time": null,
              "execution_start_time": "2023-11-02T15:46:43.8271556Z",
              "execution_finish_time": "2023-11-02T15:46:44.1917704Z",
              "spark_jobs": {
                "numbers": {
                  "FAILED": 0,
                  "RUNNING": 0,
                  "UNKNOWN": 0,
                  "SUCCEEDED": 0
                },
                "jobs": [],
                "limit": 20,
                "rule": "ALL_DESC"
              },
              "parent_msg_id": "79c62cea-4bd3-44c6-bb14-fa29ce6d620e"
            },
            "text/plain": "StatementMeta(7c27951d-2bdf-4140-be82-d0dc0c0e7d8e, 3, 17, Finished, Available)"
          },
          "metadata": {}
        }
      ],
      "execution_count": 12,
      "metadata": {
        "jupyter": {
          "source_hidden": false,
          "outputs_hidden": false
        },
        "nteract": {
          "transient": {
            "deleting": false
          }
        },
        "gather": {
          "logged": 1698940004257
        }
      },
      "id": "424700c2-6fca-4827-9195-67d0e4735874"
    },
    {
      "cell_type": "code",
      "source": [
        "comments_filtered = comments_filtered.cache()\n",
        "submissions_filtered = submissions_filtered.cache()"
      ],
      "outputs": [
        {
          "output_type": "display_data",
          "data": {
            "application/vnd.livy.statement-meta+json": {
              "spark_pool": "7c27951d-2bdf-4140-be82-d0dc0c0e7d8e",
              "session_id": "11",
              "statement_id": 22,
              "state": "finished",
              "livy_statement_state": "available",
              "queued_time": "2023-11-02T17:16:11.7083612Z",
              "session_start_time": null,
              "execution_start_time": "2023-11-02T17:16:11.8233122Z",
              "execution_finish_time": "2023-11-02T17:16:12.1758943Z",
              "spark_jobs": {
                "numbers": {
                  "FAILED": 0,
                  "RUNNING": 0,
                  "UNKNOWN": 0,
                  "SUCCEEDED": 0
                },
                "jobs": [],
                "limit": 20,
                "rule": "ALL_DESC"
              },
              "parent_msg_id": "351d0e92-422c-4410-b014-0028e13c14e1"
            },
            "text/plain": "StatementMeta(7c27951d-2bdf-4140-be82-d0dc0c0e7d8e, 11, 22, Finished, Available)"
          },
          "metadata": {}
        }
      ],
      "execution_count": 17,
      "metadata": {
        "jupyter": {
          "source_hidden": false,
          "outputs_hidden": false
        },
        "nteract": {
          "transient": {
            "deleting": false
          }
        },
        "gather": {
          "logged": 1698945372471
        }
      },
      "id": "a9e382db-2bad-4437-9424-b774a52eae45"
    },
    {
      "cell_type": "code",
      "source": [
        "q = (\n",
        "    submissions_filtered\n",
        "    .withColumn(\"day\", dayofmonth(col(\"created_utc\")))\n",
        "    .withColumn(\"month\", month(col(\"created_utc\")))\n",
        "    .withColumn(\"year\", year(col(\"created_utc\")))\n",
        "    .groupBy(\"year\", \"month\", \"day\")\n",
        "    .count()\n",
        ")\n",
        "df = q.toPandas()"
      ],
      "outputs": [
        {
          "output_type": "display_data",
          "data": {
            "application/vnd.livy.statement-meta+json": {
              "spark_pool": "7c27951d-2bdf-4140-be82-d0dc0c0e7d8e",
              "session_id": "11",
              "statement_id": 25,
              "state": "finished",
              "livy_statement_state": "available",
              "queued_time": "2023-11-02T17:16:30.6000244Z",
              "session_start_time": null,
              "execution_start_time": "2023-11-02T17:16:30.7214674Z",
              "execution_finish_time": "2023-11-02T17:17:19.3352598Z",
              "spark_jobs": {
                "numbers": {
                  "FAILED": 0,
                  "RUNNING": 0,
                  "UNKNOWN": 0,
                  "SUCCEEDED": 2
                },
                "jobs": [
                  {
                    "displayName": "toPandas at /tmp/ipykernel_27039/1441683520.py:9",
                    "dataWritten": 0,
                    "dataRead": 26321,
                    "rowCount": 361,
                    "usageDescription": "",
                    "jobId": 25,
                    "name": "toPandas at /tmp/ipykernel_27039/1441683520.py:9",
                    "description": "Job group for statement 25:\nq = (\n    submissions_filtered\n    .withColumn(\"day\", dayofmonth(col(\"created_utc\")))\n    .withColumn(\"month\", month(col(\"created_utc\")))\n    .withColumn(\"year\", year(col(\"created_utc\")))\n    .groupBy(\"year\", \"month\", \"day\")\n    .count()\n)\ndf = q.toPandas()",
                    "submissionTime": "2023-11-02T17:17:17.427GMT",
                    "completionTime": "2023-11-02T17:17:18.795GMT",
                    "stageIds": [
                      30,
                      31
                    ],
                    "jobGroup": "25",
                    "status": "SUCCEEDED",
                    "numTasks": 91,
                    "numActiveTasks": 0,
                    "numCompletedTasks": 1,
                    "numSkippedTasks": 90,
                    "numFailedTasks": 0,
                    "numKilledTasks": 0,
                    "numCompletedIndices": 1,
                    "numActiveStages": 0,
                    "numCompletedStages": 1,
                    "numSkippedStages": 1,
                    "numFailedStages": 0,
                    "killedTasksSummary": {}
                  },
                  {
                    "displayName": "toPandas at /tmp/ipykernel_27039/1441683520.py:9",
                    "dataWritten": 26321,
                    "dataRead": 4591658135,
                    "rowCount": 14572472,
                    "usageDescription": "",
                    "jobId": 24,
                    "name": "toPandas at /tmp/ipykernel_27039/1441683520.py:9",
                    "description": "Job group for statement 25:\nq = (\n    submissions_filtered\n    .withColumn(\"day\", dayofmonth(col(\"created_utc\")))\n    .withColumn(\"month\", month(col(\"created_utc\")))\n    .withColumn(\"year\", year(col(\"created_utc\")))\n    .groupBy(\"year\", \"month\", \"day\")\n    .count()\n)\ndf = q.toPandas()",
                    "submissionTime": "2023-11-02T17:16:35.134GMT",
                    "completionTime": "2023-11-02T17:17:17.180GMT",
                    "stageIds": [
                      29
                    ],
                    "jobGroup": "25",
                    "status": "SUCCEEDED",
                    "numTasks": 90,
                    "numActiveTasks": 0,
                    "numCompletedTasks": 90,
                    "numSkippedTasks": 0,
                    "numFailedTasks": 0,
                    "numKilledTasks": 0,
                    "numCompletedIndices": 90,
                    "numActiveStages": 0,
                    "numCompletedStages": 1,
                    "numSkippedStages": 0,
                    "numFailedStages": 0,
                    "killedTasksSummary": {}
                  }
                ],
                "limit": 20,
                "rule": "ALL_DESC"
              },
              "parent_msg_id": "89d96ac8-0c70-4471-9ca3-f8a3f8231e41"
            },
            "text/plain": "StatementMeta(7c27951d-2bdf-4140-be82-d0dc0c0e7d8e, 11, 25, Finished, Available)"
          },
          "metadata": {}
        }
      ],
      "execution_count": 20,
      "metadata": {
        "jupyter": {
          "source_hidden": false,
          "outputs_hidden": false
        },
        "nteract": {
          "transient": {
            "deleting": false
          }
        },
        "gather": {
          "logged": 1698945439465
        }
      },
      "id": "96ad35ab-f683-4397-813e-a48afef1692b"
    },
    {
      "cell_type": "code",
      "source": [
        "import matplotlib.pyplot as plt\n",
        "import pandas as pd\n",
        "\n",
        "df['date'] = pd.to_datetime(df[['year', 'month', 'day']])\n",
        "plt.figure(figsize=(8, 6))\n",
        "plt.bar(df['date'], df['count'])\n",
        "plt.xlabel('Date')\n",
        "plt.ylabel('Count')\n",
        "plt.title('Submission Count by Day')\n",
        "plt.xticks(rotation=45)\n",
        "plt.tight_layout()\n",
        "plt.show()"
      ],
      "outputs": [
        {
          "output_type": "display_data",
          "data": {
            "application/vnd.livy.statement-meta+json": {
              "spark_pool": "7c27951d-2bdf-4140-be82-d0dc0c0e7d8e",
              "session_id": "11",
              "statement_id": 26,
              "state": "finished",
              "livy_statement_state": "available",
              "queued_time": "2023-11-02T17:16:31.5577343Z",
              "session_start_time": null,
              "execution_start_time": "2023-11-02T17:17:19.4934087Z",
              "execution_finish_time": "2023-11-02T17:17:22.0828543Z",
              "spark_jobs": {
                "numbers": {
                  "FAILED": 0,
                  "RUNNING": 0,
                  "UNKNOWN": 0,
                  "SUCCEEDED": 0
                },
                "jobs": [],
                "limit": 20,
                "rule": "ALL_DESC"
              },
              "parent_msg_id": "cfadcd76-8987-4f24-bf6d-27a35b840a99"
            },
            "text/plain": "StatementMeta(7c27951d-2bdf-4140-be82-d0dc0c0e7d8e, 11, 26, Finished, Available)"
          },
          "metadata": {}
        },
        {
          "output_type": "display_data",
          "data": {
            "text/plain": "<Figure size 576x432 with 1 Axes>",
            "image/png": "[encoded data removed]"
          },
          "metadata": {
            "needs_background": "light"
          }
        }
      ],
      "execution_count": 21,
      "metadata": {
        "tags": [],
        "gather": {
          "logged": 1698945442596
        }
      },
      "id": "90bb6428-0cc0-4d85-b41f-e07134e0ddb2"
    },
    {
      "cell_type": "markdown",
      "source": [
        "## EDA"
      ],
      "metadata": {},
      "id": "8fc728f7-cc3c-4555-8946-512cecf337c2"
    },
    {
      "cell_type": "markdown",
      "source": [
        "### Saving Intermediate Data"
      ],
      "metadata": {
        "nteract": {
          "transient": {
            "deleting": false
          }
        }
      },
      "id": "a5dfadae-ea43-42cc-ae88-52bdc682beab"
    },
    {
      "cell_type": "markdown",
      "source": [
        "#### College Basketball + Tar Heels + Jayhawks Subreddits"
      ],
      "metadata": {
        "nteract": {
          "transient": {
            "deleting": false
          }
        }
      },
      "id": "6bf6ee8a-5b15-44d1-8f63-95dce684fe8d"
    },
    {
      "cell_type": "code",
      "source": [
        "datastore = 'azureml://datastores/workspaceblobstore/paths'\n",
        "comments_filtered.write.mode(\"overwrite\").parquet(f\"{datastore}/college_basketball_comments_full.parquet\")"
      ],
      "outputs": [
        {
          "output_type": "display_data",
          "data": {
            "application/vnd.livy.statement-meta+json": {
              "spark_pool": "7c27951d-2bdf-4140-be82-d0dc0c0e7d8e",
              "session_id": "6",
              "statement_id": 13,
              "state": "submitted",
              "livy_statement_state": "running",
              "queued_time": "2023-11-02T16:20:39.3509208Z",
              "session_start_time": null,
              "execution_start_time": "2023-11-02T16:20:39.4779388Z",
              "execution_finish_time": null,
              "spark_jobs": {
                "numbers": {
                  "FAILED": 0,
                  "RUNNING": 1,
                  "UNKNOWN": 0,
                  "SUCCEEDED": 0
                },
                "jobs": [
                  {
                    "displayName": "parquet at NativeMethodAccessorImpl.java:0",
                    "dataWritten": 288301822,
                    "dataRead": 353808471381,
                    "rowCount": 2947116549,
                    "usageDescription": "",
                    "jobId": 2,
                    "name": "parquet at NativeMethodAccessorImpl.java:0",
                    "description": "Job group for statement 13:\ndatastore = 'azureml://datastores/workspaceblobstore/paths'\ncomments_filtered.write.mode(\"overwrite\").parquet(f\"{datastore}/college_basketball_comments_full.parquet\")",
                    "submissionTime": "2023-11-02T16:20:41.607GMT",
                    "stageIds": [
                      2
                    ],
                    "jobGroup": "13",
                    "status": "RUNNING",
                    "numTasks": 7428,
                    "numActiveTasks": 33,
                    "numCompletedTasks": 3843,
                    "numSkippedTasks": 0,
                    "numFailedTasks": 4,
                    "numKilledTasks": 0,
                    "numCompletedIndices": 3843,
                    "numActiveStages": 1,
                    "numCompletedStages": 0,
                    "numSkippedStages": 0,
                    "numFailedStages": 0,
                    "killedTasksSummary": {}
                  }
                ],
                "limit": 20,
                "rule": "ALL_DESC"
              },
              "parent_msg_id": "ef92e447-adba-4f60-a3b1-25a580fbbe05"
            },
            "text/plain": "StatementMeta(7c27951d-2bdf-4140-be82-d0dc0c0e7d8e, 6, 13, Submitted, Running)"
          },
          "metadata": {}
        }
      ],
      "execution_count": 8,
      "metadata": {
        "gather": {
          "logged": 1698942851964
        }
      },
      "id": "4cf80840-e6ee-4b08-bc45-fdd5878a27ac"
    },
    {
      "cell_type": "code",
      "source": [
        "datastore = 'azureml://datastores/workspaceblobstore/paths'\n",
        "submissions_filtered.write.mode(\"overwrite\").parquet(f\"{datastore}/college_basketball_submissions_full.parquet\")"
      ],
      "outputs": [
        {
          "output_type": "display_data",
          "data": {
            "application/vnd.livy.statement-meta+json": {
              "spark_pool": null,
              "session_id": null,
              "statement_id": null,
              "state": "waiting",
              "livy_statement_state": null,
              "queued_time": "2023-11-02T17:42:49.7836259Z",
              "session_start_time": null,
              "execution_start_time": null,
              "execution_finish_time": null,
              "spark_jobs": null,
              "parent_msg_id": "3cc00396-9c27-4467-b250-6d019dd78bcd"
            },
            "text/plain": "StatementMeta(, , , Waiting, )"
          },
          "metadata": {}
        }
      ],
      "execution_count": null,
      "metadata": {
        "jupyter": {
          "source_hidden": false,
          "outputs_hidden": false
        },
        "nteract": {
          "transient": {
            "deleting": false
          }
        },
        "gather": {
          "logged": 1698945872164
        }
      },
      "id": "92192d84-d785-4dee-81f9-5329f02384cf"
    },
    {
      "cell_type": "code",
      "source": [
        "comments_single_df_load = spark.read.parquet(f\"{datastore}/basketball_submissions.parquet\")"
      ],
      "outputs": [
        {
          "output_type": "display_data",
          "data": {
            "application/vnd.livy.statement-meta+json": {
              "spark_pool": "7c27951d-2bdf-4140-be82-d0dc0c0e7d8e",
              "session_id": "0",
              "statement_id": 61,
              "state": "finished",
              "livy_statement_state": "available",
              "queued_time": "2023-11-02T14:58:13.6189224Z",
              "session_start_time": null,
              "execution_start_time": "2023-11-02T14:58:13.7576733Z",
              "execution_finish_time": "2023-11-02T14:58:14.6467798Z",
              "spark_jobs": {
                "numbers": {
                  "FAILED": 0,
                  "RUNNING": 0,
                  "UNKNOWN": 0,
                  "SUCCEEDED": 1
                },
                "jobs": [
                  {
                    "displayName": "parquet at NativeMethodAccessorImpl.java:0",
                    "dataWritten": 0,
                    "dataRead": 0,
                    "rowCount": 0,
                    "usageDescription": "",
                    "jobId": 46,
                    "name": "parquet at NativeMethodAccessorImpl.java:0",
                    "description": "Job group for statement 61:\ncomments_single_df_load = spark.read.parquet(f\"{datastore}/basketball_submissions.parquet\")",
                    "submissionTime": "2023-11-02T14:58:13.923GMT",
                    "completionTime": "2023-11-02T14:58:14.098GMT",
                    "stageIds": [
                      65
                    ],
                    "jobGroup": "61",
                    "status": "SUCCEEDED",
                    "numTasks": 1,
                    "numActiveTasks": 0,
                    "numCompletedTasks": 1,
                    "numSkippedTasks": 0,
                    "numFailedTasks": 0,
                    "numKilledTasks": 0,
                    "numCompletedIndices": 1,
                    "numActiveStages": 0,
                    "numCompletedStages": 1,
                    "numSkippedStages": 0,
                    "numFailedStages": 0,
                    "killedTasksSummary": {}
                  }
                ],
                "limit": 20,
                "rule": "ALL_DESC"
              },
              "parent_msg_id": "78ab3dea-17aa-443a-a62b-aea3b942fcfc"
            },
            "text/plain": "StatementMeta(7c27951d-2bdf-4140-be82-d0dc0c0e7d8e, 0, 61, Finished, Available)"
          },
          "metadata": {}
        }
      ],
      "execution_count": 56,
      "metadata": {
        "jupyter": {
          "source_hidden": false,
          "outputs_hidden": false
        },
        "nteract": {
          "transient": {
            "deleting": false
          }
        },
        "gather": {
          "logged": 1698937094731
        }
      },
      "id": "83ecbd9b-d668-4df1-be79-45e12deb05be"
    },
    {
      "cell_type": "markdown",
      "source": [
        "#### NBA Subreddit"
      ],
      "metadata": {
        "nteract": {
          "transient": {
            "deleting": false
          }
        }
      },
      "id": "34915e29-2d13-4d96-9901-a48ef8240d61"
    }
  ],
  "metadata": {
    "availableInstances": [
      {
        "_defaultOrder": 0,
        "_isFastLaunch": true,
        "category": "General purpose",
        "gpuNum": 0,
        "hideHardwareSpecs": false,
        "memoryGiB": 4,
        "name": "ml.t3.medium",
        "vcpuNum": 2
      },
      {
        "_defaultOrder": 1,
        "_isFastLaunch": false,
        "category": "General purpose",
        "gpuNum": 0,
        "hideHardwareSpecs": false,
        "memoryGiB": 8,
        "name": "ml.t3.large",
        "vcpuNum": 2
      },
      {
        "_defaultOrder": 2,
        "_isFastLaunch": false,
        "category": "General purpose",
        "gpuNum": 0,
        "hideHardwareSpecs": false,
        "memoryGiB": 16,
        "name": "ml.t3.xlarge",
        "vcpuNum": 4
      },
      {
        "_defaultOrder": 3,
        "_isFastLaunch": false,
        "category": "General purpose",
        "gpuNum": 0,
        "hideHardwareSpecs": false,
        "memoryGiB": 32,
        "name": "ml.t3.2xlarge",
        "vcpuNum": 8
      },
      {
        "_defaultOrder": 4,
        "_isFastLaunch": true,
        "category": "General purpose",
        "gpuNum": 0,
        "hideHardwareSpecs": false,
        "memoryGiB": 8,
        "name": "ml.m5.large",
        "vcpuNum": 2
      },
      {
        "_defaultOrder": 5,
        "_isFastLaunch": false,
        "category": "General purpose",
        "gpuNum": 0,
        "hideHardwareSpecs": false,
        "memoryGiB": 16,
        "name": "ml.m5.xlarge",
        "vcpuNum": 4
      },
      {
        "_defaultOrder": 6,
        "_isFastLaunch": false,
        "category": "General purpose",
        "gpuNum": 0,
        "hideHardwareSpecs": false,
        "memoryGiB": 32,
        "name": "ml.m5.2xlarge",
        "vcpuNum": 8
      },
      {
        "_defaultOrder": 7,
        "_isFastLaunch": false,
        "category": "General purpose",
        "gpuNum": 0,
        "hideHardwareSpecs": false,
        "memoryGiB": 64,
        "name": "ml.m5.4xlarge",
        "vcpuNum": 16
      },
      {
        "_defaultOrder": 8,
        "_isFastLaunch": false,
        "category": "General purpose",
        "gpuNum": 0,
        "hideHardwareSpecs": false,
        "memoryGiB": 128,
        "name": "ml.m5.8xlarge",
        "vcpuNum": 32
      },
      {
        "_defaultOrder": 9,
        "_isFastLaunch": false,
        "category": "General purpose",
        "gpuNum": 0,
        "hideHardwareSpecs": false,
        "memoryGiB": 192,
        "name": "ml.m5.12xlarge",
        "vcpuNum": 48
      },
      {
        "_defaultOrder": 10,
        "_isFastLaunch": false,
        "category": "General purpose",
        "gpuNum": 0,
        "hideHardwareSpecs": false,
        "memoryGiB": 256,
        "name": "ml.m5.16xlarge",
        "vcpuNum": 64
      },
      {
        "_defaultOrder": 11,
        "_isFastLaunch": false,
        "category": "General purpose",
        "gpuNum": 0,
        "hideHardwareSpecs": false,
        "memoryGiB": 384,
        "name": "ml.m5.24xlarge",
        "vcpuNum": 96
      },
      {
        "_defaultOrder": 12,
        "_isFastLaunch": false,
        "category": "General purpose",
        "gpuNum": 0,
        "hideHardwareSpecs": false,
        "memoryGiB": 8,
        "name": "ml.m5d.large",
        "vcpuNum": 2
      },
      {
        "_defaultOrder": 13,
        "_isFastLaunch": false,
        "category": "General purpose",
        "gpuNum": 0,
        "hideHardwareSpecs": false,
        "memoryGiB": 16,
        "name": "ml.m5d.xlarge",
        "vcpuNum": 4
      },
      {
        "_defaultOrder": 14,
        "_isFastLaunch": false,
        "category": "General purpose",
        "gpuNum": 0,
        "hideHardwareSpecs": false,
        "memoryGiB": 32,
        "name": "ml.m5d.2xlarge",
        "vcpuNum": 8
      },
      {
        "_defaultOrder": 15,
        "_isFastLaunch": false,
        "category": "General purpose",
        "gpuNum": 0,
        "hideHardwareSpecs": false,
        "memoryGiB": 64,
        "name": "ml.m5d.4xlarge",
        "vcpuNum": 16
      },
      {
        "_defaultOrder": 16,
        "_isFastLaunch": false,
        "category": "General purpose",
        "gpuNum": 0,
        "hideHardwareSpecs": false,
        "memoryGiB": 128,
        "name": "ml.m5d.8xlarge",
        "vcpuNum": 32
      },
      {
        "_defaultOrder": 17,
        "_isFastLaunch": false,
        "category": "General purpose",
        "gpuNum": 0,
        "hideHardwareSpecs": false,
        "memoryGiB": 192,
        "name": "ml.m5d.12xlarge",
        "vcpuNum": 48
      },
      {
        "_defaultOrder": 18,
        "_isFastLaunch": false,
        "category": "General purpose",
        "gpuNum": 0,
        "hideHardwareSpecs": false,
        "memoryGiB": 256,
        "name": "ml.m5d.16xlarge",
        "vcpuNum": 64
      },
      {
        "_defaultOrder": 19,
        "_isFastLaunch": false,
        "category": "General purpose",
        "gpuNum": 0,
        "hideHardwareSpecs": false,
        "memoryGiB": 384,
        "name": "ml.m5d.24xlarge",
        "vcpuNum": 96
      },
      {
        "name": "ml.geospatial.interactive",
        "_defaultOrder": 20,
        "hideHardwareSpecs": true,
        "vcpuNum": 0,
        "_isFastLaunch": false,
        "gpuNum": 0,
        "supportedImageNames": [
          "sagemaker-geospatial-v1-0"
        ],
        "category": "General purpose",
        "memoryGiB": 0
      },
      {
        "_defaultOrder": 21,
        "_isFastLaunch": true,
        "category": "Compute optimized",
        "gpuNum": 0,
        "hideHardwareSpecs": false,
        "memoryGiB": 4,
        "name": "ml.c5.large",
        "vcpuNum": 2
      },
      {
        "_defaultOrder": 22,
        "_isFastLaunch": false,
        "category": "Compute optimized",
        "gpuNum": 0,
        "hideHardwareSpecs": false,
        "memoryGiB": 8,
        "name": "ml.c5.xlarge",
        "vcpuNum": 4
      },
      {
        "_defaultOrder": 23,
        "_isFastLaunch": false,
        "category": "Compute optimized",
        "gpuNum": 0,
        "hideHardwareSpecs": false,
        "memoryGiB": 16,
        "name": "ml.c5.2xlarge",
        "vcpuNum": 8
      },
      {
        "_defaultOrder": 24,
        "_isFastLaunch": false,
        "category": "Compute optimized",
        "gpuNum": 0,
        "hideHardwareSpecs": false,
        "memoryGiB": 32,
        "name": "ml.c5.4xlarge",
        "vcpuNum": 16
      },
      {
        "_defaultOrder": 25,
        "_isFastLaunch": false,
        "category": "Compute optimized",
        "gpuNum": 0,
        "hideHardwareSpecs": false,
        "memoryGiB": 72,
        "name": "ml.c5.9xlarge",
        "vcpuNum": 36
      },
      {
        "_defaultOrder": 26,
        "_isFastLaunch": false,
        "category": "Compute optimized",
        "gpuNum": 0,
        "hideHardwareSpecs": false,
        "memoryGiB": 96,
        "name": "ml.c5.12xlarge",
        "vcpuNum": 48
      },
      {
        "_defaultOrder": 27,
        "_isFastLaunch": false,
        "category": "Compute optimized",
        "gpuNum": 0,
        "hideHardwareSpecs": false,
        "memoryGiB": 144,
        "name": "ml.c5.18xlarge",
        "vcpuNum": 72
      },
      {
        "_defaultOrder": 28,
        "_isFastLaunch": false,
        "category": "Compute optimized",
        "gpuNum": 0,
        "hideHardwareSpecs": false,
        "memoryGiB": 192,
        "name": "ml.c5.24xlarge",
        "vcpuNum": 96
      },
      {
        "_defaultOrder": 29,
        "_isFastLaunch": true,
        "category": "Accelerated computing",
        "gpuNum": 1,
        "hideHardwareSpecs": false,
        "memoryGiB": 16,
        "name": "ml.g4dn.xlarge",
        "vcpuNum": 4
      },
      {
        "_defaultOrder": 30,
        "_isFastLaunch": false,
        "category": "Accelerated computing",
        "gpuNum": 1,
        "hideHardwareSpecs": false,
        "memoryGiB": 32,
        "name": "ml.g4dn.2xlarge",
        "vcpuNum": 8
      },
      {
        "_defaultOrder": 31,
        "_isFastLaunch": false,
        "category": "Accelerated computing",
        "gpuNum": 1,
        "hideHardwareSpecs": false,
        "memoryGiB": 64,
        "name": "ml.g4dn.4xlarge",
        "vcpuNum": 16
      },
      {
        "_defaultOrder": 32,
        "_isFastLaunch": false,
        "category": "Accelerated computing",
        "gpuNum": 1,
        "hideHardwareSpecs": false,
        "memoryGiB": 128,
        "name": "ml.g4dn.8xlarge",
        "vcpuNum": 32
      },
      {
        "_defaultOrder": 33,
        "_isFastLaunch": false,
        "category": "Accelerated computing",
        "gpuNum": 4,
        "hideHardwareSpecs": false,
        "memoryGiB": 192,
        "name": "ml.g4dn.12xlarge",
        "vcpuNum": 48
      },
      {
        "_defaultOrder": 34,
        "_isFastLaunch": false,
        "category": "Accelerated computing",
        "gpuNum": 1,
        "hideHardwareSpecs": false,
        "memoryGiB": 256,
        "name": "ml.g4dn.16xlarge",
        "vcpuNum": 64
      },
      {
        "_defaultOrder": 35,
        "_isFastLaunch": false,
        "category": "Accelerated computing",
        "gpuNum": 1,
        "hideHardwareSpecs": false,
        "memoryGiB": 61,
        "name": "ml.p3.2xlarge",
        "vcpuNum": 8
      },
      {
        "_defaultOrder": 36,
        "_isFastLaunch": false,
        "category": "Accelerated computing",
        "gpuNum": 4,
        "hideHardwareSpecs": false,
        "memoryGiB": 244,
        "name": "ml.p3.8xlarge",
        "vcpuNum": 32
      },
      {
        "_defaultOrder": 37,
        "_isFastLaunch": false,
        "category": "Accelerated computing",
        "gpuNum": 8,
        "hideHardwareSpecs": false,
        "memoryGiB": 488,
        "name": "ml.p3.16xlarge",
        "vcpuNum": 64
      },
      {
        "_defaultOrder": 38,
        "_isFastLaunch": false,
        "category": "Accelerated computing",
        "gpuNum": 8,
        "hideHardwareSpecs": false,
        "memoryGiB": 768,
        "name": "ml.p3dn.24xlarge",
        "vcpuNum": 96
      },
      {
        "_defaultOrder": 39,
        "_isFastLaunch": false,
        "category": "Memory Optimized",
        "gpuNum": 0,
        "hideHardwareSpecs": false,
        "memoryGiB": 16,
        "name": "ml.r5.large",
        "vcpuNum": 2
      },
      {
        "_defaultOrder": 40,
        "_isFastLaunch": false,
        "category": "Memory Optimized",
        "gpuNum": 0,
        "hideHardwareSpecs": false,
        "memoryGiB": 32,
        "name": "ml.r5.xlarge",
        "vcpuNum": 4
      },
      {
        "_defaultOrder": 41,
        "_isFastLaunch": false,
        "category": "Memory Optimized",
        "gpuNum": 0,
        "hideHardwareSpecs": false,
        "memoryGiB": 64,
        "name": "ml.r5.2xlarge",
        "vcpuNum": 8
      },
      {
        "_defaultOrder": 42,
        "_isFastLaunch": false,
        "category": "Memory Optimized",
        "gpuNum": 0,
        "hideHardwareSpecs": false,
        "memoryGiB": 128,
        "name": "ml.r5.4xlarge",
        "vcpuNum": 16
      },
      {
        "_defaultOrder": 43,
        "_isFastLaunch": false,
        "category": "Memory Optimized",
        "gpuNum": 0,
        "hideHardwareSpecs": false,
        "memoryGiB": 256,
        "name": "ml.r5.8xlarge",
        "vcpuNum": 32
      },
      {
        "_defaultOrder": 44,
        "_isFastLaunch": false,
        "category": "Memory Optimized",
        "gpuNum": 0,
        "hideHardwareSpecs": false,
        "memoryGiB": 384,
        "name": "ml.r5.12xlarge",
        "vcpuNum": 48
      },
      {
        "_defaultOrder": 45,
        "_isFastLaunch": false,
        "category": "Memory Optimized",
        "gpuNum": 0,
        "hideHardwareSpecs": false,
        "memoryGiB": 512,
        "name": "ml.r5.16xlarge",
        "vcpuNum": 64
      },
      {
        "_defaultOrder": 46,
        "_isFastLaunch": false,
        "category": "Memory Optimized",
        "gpuNum": 0,
        "hideHardwareSpecs": false,
        "memoryGiB": 768,
        "name": "ml.r5.24xlarge",
        "vcpuNum": 96
      },
      {
        "_defaultOrder": 47,
        "_isFastLaunch": false,
        "category": "Accelerated computing",
        "gpuNum": 1,
        "hideHardwareSpecs": false,
        "memoryGiB": 16,
        "name": "ml.g5.xlarge",
        "vcpuNum": 4
      },
      {
        "_defaultOrder": 48,
        "_isFastLaunch": false,
        "category": "Accelerated computing",
        "gpuNum": 1,
        "hideHardwareSpecs": false,
        "memoryGiB": 32,
        "name": "ml.g5.2xlarge",
        "vcpuNum": 8
      },
      {
        "_defaultOrder": 49,
        "_isFastLaunch": false,
        "category": "Accelerated computing",
        "gpuNum": 1,
        "hideHardwareSpecs": false,
        "memoryGiB": 64,
        "name": "ml.g5.4xlarge",
        "vcpuNum": 16
      },
      {
        "_defaultOrder": 50,
        "_isFastLaunch": false,
        "category": "Accelerated computing",
        "gpuNum": 1,
        "hideHardwareSpecs": false,
        "memoryGiB": 128,
        "name": "ml.g5.8xlarge",
        "vcpuNum": 32
      },
      {
        "_defaultOrder": 51,
        "_isFastLaunch": false,
        "category": "Accelerated computing",
        "gpuNum": 1,
        "hideHardwareSpecs": false,
        "memoryGiB": 256,
        "name": "ml.g5.16xlarge",
        "vcpuNum": 64
      },
      {
        "_defaultOrder": 52,
        "_isFastLaunch": false,
        "category": "Accelerated computing",
        "gpuNum": 4,
        "hideHardwareSpecs": false,
        "memoryGiB": 192,
        "name": "ml.g5.12xlarge",
        "vcpuNum": 48
      },
      {
        "_defaultOrder": 53,
        "_isFastLaunch": false,
        "category": "Accelerated computing",
        "gpuNum": 4,
        "hideHardwareSpecs": false,
        "memoryGiB": 384,
        "name": "ml.g5.24xlarge",
        "vcpuNum": 96
      },
      {
        "_defaultOrder": 54,
        "_isFastLaunch": false,
        "category": "Accelerated computing",
        "gpuNum": 8,
        "hideHardwareSpecs": false,
        "memoryGiB": 768,
        "name": "ml.g5.48xlarge",
        "vcpuNum": 192
      },
      {
        "_defaultOrder": 55,
        "_isFastLaunch": false,
        "category": "Accelerated computing",
        "gpuNum": 8,
        "hideHardwareSpecs": false,
        "memoryGiB": 1152,
        "name": "ml.p4d.24xlarge",
        "vcpuNum": 96
      },
      {
        "_defaultOrder": 56,
        "_isFastLaunch": false,
        "category": "Accelerated computing",
        "gpuNum": 8,
        "hideHardwareSpecs": false,
        "memoryGiB": 1152,
        "name": "ml.p4de.24xlarge",
        "vcpuNum": 96
      }
    ],
    "instance_type": "ml.t3.medium",
    "kernelspec": {
      "name": "synapse_pyspark",
      "language": "Python",
      "display_name": "Synapse PySpark"
    },
    "language_info": {
      "name": "python",
      "version": "3.8.0",
      "mimetype": "text/x-python",
      "file_extension": ".py",
      "pygments_lexer": "ipython",
      "codemirror_mode": "ipython",
      "nbconvert_exporter": "python"
    },
    "microsoft": {
      "ms_spell_check": {
        "ms_spell_check_language": "en"
      },
      "host": {
        "AzureML": {
          "notebookHasBeenCompleted": true
        }
      }
    },
    "nteract": {
      "version": "nteract-front-end@1.0.0"
    },
    "kernel_info": {
      "name": "synapse_pyspark"
    }
  },
  "nbformat": 4,
  "nbformat_minor": 5
}
{
  "cells": [
    {
      "cell_type": "raw",
      "metadata": {},
      "source": [
        "---\n",
        "format: html\n",
        "embed-resources: True\n",
        "---"
      ]
    },
    {
      "cell_type": "markdown",
      "metadata": {
        "nteract": {
          "transient": {
            "deleting": false
          }
        }
      },
      "source": [
        "### Setting up"
      ]
    },
    {
      "cell_type": "code",
      "execution_count": 1,
      "metadata": {
        "gather": {
          "logged": 1700520666884
        },
        "jupyter": {
          "outputs_hidden": false,
          "source_hidden": false
        },
        "nteract": {
          "transient": {
            "deleting": false
          }
        }
      },
      "outputs": [
        {
          "data": {
            "application/vnd.livy.statement-meta+json": {
              "execution_finish_time": "2023-11-20T22:51:06.2782363Z",
              "execution_start_time": "2023-11-20T22:51:03.3006108Z",
              "livy_statement_state": "available",
              "parent_msg_id": "8bac6ea1-4d49-480c-bc85-c9c49e8103da",
              "queued_time": "2023-11-20T22:47:29.3235284Z",
              "session_id": "53",
              "session_start_time": "2023-11-20T22:47:29.3633085Z",
              "spark_jobs": {
                "jobs": [],
                "limit": 20,
                "numbers": {
                  "FAILED": 0,
                  "RUNNING": 0,
                  "SUCCEEDED": 0,
                  "UNKNOWN": 0
                },
                "rule": "ALL_DESC"
              },
              "spark_pool": "7c27951d-2bdf-4140-be82-d0dc0c0e7d8e",
              "state": "finished",
              "statement_id": 6
            },
            "text/plain": [
              "StatementMeta(7c27951d-2bdf-4140-be82-d0dc0c0e7d8e, 53, 6, Finished, Available)"
            ]
          },
          "metadata": {},
          "output_type": "display_data"
        },
        {
          "data": {
            "text/html": [
              "\n",
              "            <div>\n",
              "                <p><b>SparkSession - hive</b></p>\n",
              "                \n",
              "        <div>\n",
              "            <p><b>SparkContext</b></p>\n",
              "\n",
              "            <p><a href=\"http://vm-70b69838:35833\">Spark UI</a></p>\n",
              "\n",
              "            <dl>\n",
              "              <dt>Version</dt>\n",
              "                <dd><code>v3.2.2.5.1-100879434</code></dd>\n",
              "              <dt>Master</dt>\n",
              "                <dd><code>yarn</code></dd>\n",
              "              <dt>AppName</dt>\n",
              "                <dd><code>Azure ML Experiment</code></dd>\n",
              "            </dl>\n",
              "        </div>\n",
              "        \n",
              "            </div>\n",
              "        "
            ],
            "text/plain": [
              "<pyspark.sql.session.SparkSession at 0x7f762d8448e0>"
            ]
          },
          "execution_count": 11,
          "metadata": {},
          "output_type": "execute_result"
        }
      ],
      "source": [
        "spark"
      ]
    },
    {
      "cell_type": "code",
      "execution_count": 2,
      "metadata": {
        "gather": {
          "logged": 1700520691895
        },
        "jupyter": {
          "outputs_hidden": false,
          "source_hidden": false
        },
        "nteract": {
          "transient": {
            "deleting": false
          }
        }
      },
      "outputs": [
        {
          "data": {
            "application/vnd.livy.statement-meta+json": {
              "execution_finish_time": "2023-11-20T22:51:31.5610814Z",
              "execution_start_time": "2023-11-20T22:51:20.8187306Z",
              "livy_statement_state": "available",
              "parent_msg_id": "f2782f94-fc9e-4253-b16c-01471ab97fea",
              "queued_time": "2023-11-20T22:51:20.7196715Z",
              "session_id": "53",
              "session_start_time": null,
              "spark_jobs": {
                "jobs": [],
                "limit": 20,
                "numbers": {
                  "FAILED": 0,
                  "RUNNING": 0,
                  "SUCCEEDED": 0,
                  "UNKNOWN": 0
                },
                "rule": "ALL_DESC"
              },
              "spark_pool": "7c27951d-2bdf-4140-be82-d0dc0c0e7d8e",
              "state": "finished",
              "statement_id": 7
            },
            "text/plain": [
              "StatementMeta(7c27951d-2bdf-4140-be82-d0dc0c0e7d8e, 53, 7, Finished, Available)"
            ]
          },
          "metadata": {},
          "output_type": "display_data"
        }
      ],
      "source": [
        "import pandas as pd\n",
        "import matplotlib.pyplot as plt\n",
        "import seaborn as sns\n",
        "from pyspark.sql.functions import *\n",
        "from pyspark.sql.types import BooleanType\n",
        "from pyspark.ml.feature import HashingTF, IDF, Tokenizer, CountVectorizer\n",
        "from pyspark.ml import Pipeline\n",
        "from tabulate import tabulate\n",
        "from functools import reduce\n",
        "import matplotlib.dates as mdates"
      ]
    },
    {
      "cell_type": "markdown",
      "metadata": {
        "nteract": {
          "transient": {
            "deleting": false
          }
        }
      },
      "source": [
        "### Loading data"
      ]
    },
    {
      "cell_type": "code",
      "execution_count": 3,
      "metadata": {
        "gather": {
          "logged": 1700520705027
        },
        "jupyter": {
          "outputs_hidden": false,
          "source_hidden": false
        },
        "nteract": {
          "transient": {
            "deleting": false
          }
        }
      },
      "outputs": [
        {
          "data": {
            "application/vnd.livy.statement-meta+json": {
              "execution_finish_time": "2023-11-20T22:51:44.7247981Z",
              "execution_start_time": "2023-11-20T22:51:34.5896015Z",
              "livy_statement_state": "available",
              "parent_msg_id": "d336005c-b4c3-413d-b6d4-1a082b678003",
              "queued_time": "2023-11-20T22:51:34.4841953Z",
              "session_id": "53",
              "session_start_time": null,
              "spark_jobs": {
                "jobs": [
                  {
                    "completionTime": "2023-11-20T22:51:43.447GMT",
                    "dataRead": 0,
                    "dataWritten": 0,
                    "description": "Job group for statement 8:\nworkspace_default_storage_account = \"aml6214727930\"\nworkspace_default_container = \"azureml-blobstore-6653633b-3460-4381-9199-d9e0f368353c\"\n\nworkspace_wasbs_base_url = (\n    f\"wasbs://{workspace_default_container}@{workspace_default_storage_account}.blob.core.windows.net/\"\n)\n\ncomments_path = \"/basketball_comments_sentiment.parquet\"\nsubmissions_path = \"/basketball_submissions_sentiment.parquet\"\n\ncomments = spark.read.parquet(f\"{workspace_wasbs_base_url}{comments_path}\")\nsubmissions = spark.read.parquet(f\"{workspace_wasbs_base_url}{submissions_path}\")",
                    "displayName": "parquet at NativeMethodAccessorImpl.java:0",
                    "jobGroup": "8",
                    "jobId": 1,
                    "killedTasksSummary": {},
                    "name": "parquet at NativeMethodAccessorImpl.java:0",
                    "numActiveStages": 0,
                    "numActiveTasks": 0,
                    "numCompletedIndices": 1,
                    "numCompletedStages": 1,
                    "numCompletedTasks": 1,
                    "numFailedStages": 0,
                    "numFailedTasks": 0,
                    "numKilledTasks": 0,
                    "numSkippedStages": 0,
                    "numSkippedTasks": 0,
                    "numTasks": 1,
                    "rowCount": 0,
                    "stageIds": [
                      1
                    ],
                    "status": "SUCCEEDED",
                    "submissionTime": "2023-11-20T22:51:43.207GMT",
                    "usageDescription": ""
                  },
                  {
                    "completionTime": "2023-11-20T22:51:41.800GMT",
                    "dataRead": 0,
                    "dataWritten": 0,
                    "description": "Job group for statement 8:\nworkspace_default_storage_account = \"aml6214727930\"\nworkspace_default_container = \"azureml-blobstore-6653633b-3460-4381-9199-d9e0f368353c\"\n\nworkspace_wasbs_base_url = (\n    f\"wasbs://{workspace_default_container}@{workspace_default_storage_account}.blob.core.windows.net/\"\n)\n\ncomments_path = \"/basketball_comments_sentiment.parquet\"\nsubmissions_path = \"/basketball_submissions_sentiment.parquet\"\n\ncomments = spark.read.parquet(f\"{workspace_wasbs_base_url}{comments_path}\")\nsubmissions = spark.read.parquet(f\"{workspace_wasbs_base_url}{submissions_path}\")",
                    "displayName": "parquet at NativeMethodAccessorImpl.java:0",
                    "jobGroup": "8",
                    "jobId": 0,
                    "killedTasksSummary": {},
                    "name": "parquet at NativeMethodAccessorImpl.java:0",
                    "numActiveStages": 0,
                    "numActiveTasks": 0,
                    "numCompletedIndices": 1,
                    "numCompletedStages": 1,
                    "numCompletedTasks": 1,
                    "numFailedStages": 0,
                    "numFailedTasks": 0,
                    "numKilledTasks": 0,
                    "numSkippedStages": 0,
                    "numSkippedTasks": 0,
                    "numTasks": 1,
                    "rowCount": 0,
                    "stageIds": [
                      0
                    ],
                    "status": "SUCCEEDED",
                    "submissionTime": "2023-11-20T22:51:35.639GMT",
                    "usageDescription": ""
                  }
                ],
                "limit": 20,
                "numbers": {
                  "FAILED": 0,
                  "RUNNING": 0,
                  "SUCCEEDED": 2,
                  "UNKNOWN": 0
                },
                "rule": "ALL_DESC"
              },
              "spark_pool": "7c27951d-2bdf-4140-be82-d0dc0c0e7d8e",
              "state": "finished",
              "statement_id": 8
            },
            "text/plain": [
              "StatementMeta(7c27951d-2bdf-4140-be82-d0dc0c0e7d8e, 53, 8, Finished, Available)"
            ]
          },
          "metadata": {},
          "output_type": "display_data"
        }
      ],
      "source": [
        "workspace_default_storage_account = \"aml6214727930\"\n",
        "workspace_default_container = \"azureml-blobstore-6653633b-3460-4381-9199-d9e0f368353c\"\n",
        "\n",
        "workspace_wasbs_base_url = (\n",
        "    f\"wasbs://{workspace_default_container}@{workspace_default_storage_account}.blob.core.windows.net/\"\n",
        ")\n",
        "\n",
        "comments_path = \"/basketball_comments_sentiment.parquet\"\n",
        "submissions_path = \"/basketball_submissions_sentiment.parquet\"\n",
        "\n",
        "comments = spark.read.parquet(f\"{workspace_wasbs_base_url}{comments_path}\")\n",
        "submissions = spark.read.parquet(f\"{workspace_wasbs_base_url}{submissions_path}\")"
      ]
    },
    {
      "cell_type": "code",
      "execution_count": 4,
      "metadata": {
        "gather": {
          "logged": 1700500798009
        },
        "jupyter": {
          "outputs_hidden": false,
          "source_hidden": false
        },
        "nteract": {
          "transient": {
            "deleting": false
          }
        }
      },
      "outputs": [
        {
          "data": {
            "application/vnd.livy.statement-meta+json": {
              "execution_finish_time": "2023-11-20T17:19:57.7768268Z",
              "execution_start_time": "2023-11-20T17:19:45.5630416Z",
              "livy_statement_state": "available",
              "parent_msg_id": "f8d459cd-0637-40ac-83ae-2fcbf672b3c3",
              "queued_time": "2023-11-20T17:19:45.4466068Z",
              "session_id": "51",
              "session_start_time": null,
              "spark_jobs": {
                "jobs": [
                  {
                    "completionTime": "2023-11-20T17:19:55.544GMT",
                    "dataRead": 1861774,
                    "dataWritten": 0,
                    "description": "Job group for statement 9:\nsubmissions.show(5)",
                    "displayName": "showString at NativeMethodAccessorImpl.java:0",
                    "jobGroup": "9",
                    "jobId": 2,
                    "killedTasksSummary": {},
                    "name": "showString at NativeMethodAccessorImpl.java:0",
                    "numActiveStages": 0,
                    "numActiveTasks": 0,
                    "numCompletedIndices": 1,
                    "numCompletedStages": 1,
                    "numCompletedTasks": 1,
                    "numFailedStages": 0,
                    "numFailedTasks": 0,
                    "numKilledTasks": 0,
                    "numSkippedStages": 0,
                    "numSkippedTasks": 0,
                    "numTasks": 1,
                    "rowCount": 2827,
                    "stageIds": [
                      2
                    ],
                    "status": "SUCCEEDED",
                    "submissionTime": "2023-11-20T17:19:47.249GMT",
                    "usageDescription": ""
                  }
                ],
                "limit": 20,
                "numbers": {
                  "FAILED": 0,
                  "RUNNING": 0,
                  "SUCCEEDED": 1,
                  "UNKNOWN": 0
                },
                "rule": "ALL_DESC"
              },
              "spark_pool": "7c27951d-2bdf-4140-be82-d0dc0c0e7d8e",
              "state": "finished",
              "statement_id": 9
            },
            "text/plain": [
              "StatementMeta(7c27951d-2bdf-4140-be82-d0dc0c0e7d8e, 51, 9, Finished, Available)"
            ]
          },
          "metadata": {},
          "output_type": "display_data"
        },
        {
          "name": "stdout",
          "output_type": "stream",
          "text": [
            "+-----------------+------+--------------------+--------------------+--------------------+-------------------+------------+--------------+-----------+------------+------------+------------+----------------+-----------+--------------+---+-----+----+--------------------+--------+\n",
            "|        subreddit|author|   author_flair_text|               title|            selftext|        created_utc|num_comments|supported_team|game_thread|home_ranking|   home_team|away_ranking|       away_team|  game_time|ranked_matchup|day|month|year|          clean_text|     col|\n",
            "+-----------------+------+--------------------+--------------------+--------------------+-------------------+------------+--------------+-----------+------------+------------+------------+----------------+-----------+--------------+---+-----+----+--------------------+--------+\n",
            "|CollegeBasketball|cbbBot|:rcbb: :ncaa: /r/...|[Game Thread] #3 ...|[UCLA](#f/ucla) *...|2022-02-04 00:00:04|        1172|          rcbb|       true|           5|     Arizona|           3|            UCLA|08:00 PM ET|          true|  4|    2|2022|uclafucla arizona...|positive|\n",
            "|CollegeBasketball|cbbBot|:rcbb: :ncaa: /r/...|[Game Thread] Mar...|[Marshall](#f/mar...|2022-02-04 00:00:06|           0|          rcbb|       true|            |Old Dominion|            |        Marshall|08:00 PM ET|         false|  4|    2|2022|marshallfmarshall...|positive|\n",
            "|CollegeBasketball|cbbBot|:rcbb: :ncaa: /r/...|[Game Thread] Wes...|[Western Illinois...|2022-02-04 00:00:08|           1|          rcbb|       true|            |Oral Roberts|            |Western Illinois|08:00 PM ET|         false|  4|    2|2022|western illinoisf...|positive|\n",
            "|CollegeBasketball|cbbBot|:rcbb: :ncaa: /r/...|[Game Thread] Den...|[Denver](#f/denve...|2022-02-04 00:00:11|          10|          rcbb|       true|            |North Dakota|            |          Denver|08:00 PM ET|         false|  4|    2|2022|denverfdenver nor...|positive|\n",
            "|CollegeBasketball|cbbBot|:rcbb: :ncaa: /r/...|[Game Thread] UNC...|[UNC Wilmington](...|2022-02-04 00:23:06|           0|          rcbb|       true|            |        Elon|            |  UNC Wilmington|07:00 PM ET|         false|  4|    2|2022|unc wilmingtonfun...|positive|\n",
            "+-----------------+------+--------------------+--------------------+--------------------+-------------------+------------+--------------+-----------+------------+------------+------------+----------------+-----------+--------------+---+-----+----+--------------------+--------+\n",
            "only showing top 5 rows\n",
            "\n"
          ]
        }
      ],
      "source": [
        "submissions.show(5)"
      ]
    },
    {
      "cell_type": "code",
      "execution_count": 4,
      "metadata": {
        "gather": {
          "logged": 1700520710916
        },
        "jupyter": {
          "outputs_hidden": false,
          "source_hidden": false
        },
        "nteract": {
          "transient": {
            "deleting": false
          }
        }
      },
      "outputs": [
        {
          "data": {
            "application/vnd.livy.statement-meta+json": {
              "execution_finish_time": "2023-11-20T22:51:50.6981883Z",
              "execution_start_time": "2023-11-20T22:51:50.3774019Z",
              "livy_statement_state": "available",
              "parent_msg_id": "eabebcfe-352e-4351-8599-a9df5a792ca1",
              "queued_time": "2023-11-20T22:51:50.2774481Z",
              "session_id": "53",
              "session_start_time": null,
              "spark_jobs": {
                "jobs": [],
                "limit": 20,
                "numbers": {
                  "FAILED": 0,
                  "RUNNING": 0,
                  "SUCCEEDED": 0,
                  "UNKNOWN": 0
                },
                "rule": "ALL_DESC"
              },
              "spark_pool": "7c27951d-2bdf-4140-be82-d0dc0c0e7d8e",
              "state": "finished",
              "statement_id": 9
            },
            "text/plain": [
              "StatementMeta(7c27951d-2bdf-4140-be82-d0dc0c0e7d8e, 53, 9, Finished, Available)"
            ]
          },
          "metadata": {},
          "output_type": "display_data"
        }
      ],
      "source": [
        "# Rename col sentiment\n",
        "submissions = submissions.withColumnRenamed(\"col\", \"sentiment\")\n",
        "comments = comments.withColumnRenamed(\"col\", \"sentiment\")"
      ]
    },
    {
      "cell_type": "code",
      "execution_count": 18,
      "metadata": {
        "gather": {
          "logged": 1700501549825
        },
        "jupyter": {
          "outputs_hidden": false,
          "source_hidden": false
        },
        "nteract": {
          "transient": {
            "deleting": false
          }
        }
      },
      "outputs": [
        {
          "data": {
            "application/vnd.livy.statement-meta+json": {
              "execution_finish_time": "2023-11-20T17:32:29.7061984Z",
              "execution_start_time": "2023-11-20T17:32:28.8654792Z",
              "livy_statement_state": "available",
              "parent_msg_id": "6957e5bb-364c-492f-826d-1f18308da170",
              "queued_time": "2023-11-20T17:32:28.7537294Z",
              "session_id": "51",
              "session_start_time": null,
              "spark_jobs": {
                "jobs": [
                  {
                    "completionTime": "2023-11-20T17:32:29.341GMT",
                    "dataRead": 354,
                    "dataWritten": 0,
                    "description": "Job group for statement 23:\nsubmissions.count()",
                    "displayName": "count at NativeMethodAccessorImpl.java:0",
                    "jobGroup": "23",
                    "jobId": 25,
                    "killedTasksSummary": {},
                    "name": "count at NativeMethodAccessorImpl.java:0",
                    "numActiveStages": 0,
                    "numActiveTasks": 0,
                    "numCompletedIndices": 1,
                    "numCompletedStages": 1,
                    "numCompletedTasks": 1,
                    "numFailedStages": 0,
                    "numFailedTasks": 0,
                    "numKilledTasks": 0,
                    "numSkippedStages": 1,
                    "numSkippedTasks": 6,
                    "numTasks": 7,
                    "rowCount": 6,
                    "stageIds": [
                      117,
                      116
                    ],
                    "status": "SUCCEEDED",
                    "submissionTime": "2023-11-20T17:32:29.298GMT",
                    "usageDescription": ""
                  },
                  {
                    "completionTime": "2023-11-20T17:32:29.274GMT",
                    "dataRead": 51354,
                    "dataWritten": 354,
                    "description": "Job group for statement 23:\nsubmissions.count()",
                    "displayName": "count at NativeMethodAccessorImpl.java:0",
                    "jobGroup": "23",
                    "jobId": 24,
                    "killedTasksSummary": {},
                    "name": "count at NativeMethodAccessorImpl.java:0",
                    "numActiveStages": 0,
                    "numActiveTasks": 0,
                    "numCompletedIndices": 6,
                    "numCompletedStages": 1,
                    "numCompletedTasks": 6,
                    "numFailedStages": 0,
                    "numFailedTasks": 0,
                    "numKilledTasks": 0,
                    "numSkippedStages": 0,
                    "numSkippedTasks": 0,
                    "numTasks": 6,
                    "rowCount": 9169,
                    "stageIds": [
                      115
                    ],
                    "status": "SUCCEEDED",
                    "submissionTime": "2023-11-20T17:32:28.996GMT",
                    "usageDescription": ""
                  }
                ],
                "limit": 20,
                "numbers": {
                  "FAILED": 0,
                  "RUNNING": 0,
                  "SUCCEEDED": 2,
                  "UNKNOWN": 0
                },
                "rule": "ALL_DESC"
              },
              "spark_pool": "7c27951d-2bdf-4140-be82-d0dc0c0e7d8e",
              "state": "finished",
              "statement_id": 23
            },
            "text/plain": [
              "StatementMeta(7c27951d-2bdf-4140-be82-d0dc0c0e7d8e, 51, 23, Finished, Available)"
            ]
          },
          "metadata": {},
          "output_type": "display_data"
        },
        {
          "data": {
            "text/plain": [
              "9163"
            ]
          },
          "execution_count": 45,
          "metadata": {},
          "output_type": "execute_result"
        }
      ],
      "source": [
        "submissions.count()"
      ]
    },
    {
      "cell_type": "code",
      "execution_count": 19,
      "metadata": {
        "gather": {
          "logged": 1700501640182
        },
        "jupyter": {
          "outputs_hidden": false,
          "source_hidden": false
        },
        "nteract": {
          "transient": {
            "deleting": false
          }
        }
      },
      "outputs": [
        {
          "data": {
            "application/vnd.livy.statement-meta+json": {
              "execution_finish_time": "2023-11-20T17:34:00.0461339Z",
              "execution_start_time": "2023-11-20T17:33:59.2269265Z",
              "livy_statement_state": "available",
              "parent_msg_id": "2d0644dd-84d4-4832-ba38-7cd7229f739c",
              "queued_time": "2023-11-20T17:33:59.0681555Z",
              "session_id": "51",
              "session_start_time": null,
              "spark_jobs": {
                "jobs": [
                  {
                    "completionTime": "2023-11-20T17:33:59.723GMT",
                    "dataRead": 531,
                    "dataWritten": 0,
                    "description": "Job group for statement 24:\ncomments.count()",
                    "displayName": "count at NativeMethodAccessorImpl.java:0",
                    "jobGroup": "24",
                    "jobId": 27,
                    "killedTasksSummary": {},
                    "name": "count at NativeMethodAccessorImpl.java:0",
                    "numActiveStages": 0,
                    "numActiveTasks": 0,
                    "numCompletedIndices": 1,
                    "numCompletedStages": 1,
                    "numCompletedTasks": 1,
                    "numFailedStages": 0,
                    "numFailedTasks": 0,
                    "numKilledTasks": 0,
                    "numSkippedStages": 1,
                    "numSkippedTasks": 9,
                    "numTasks": 10,
                    "rowCount": 9,
                    "stageIds": [
                      119,
                      120
                    ],
                    "status": "SUCCEEDED",
                    "submissionTime": "2023-11-20T17:33:59.674GMT",
                    "usageDescription": ""
                  },
                  {
                    "completionTime": "2023-11-20T17:33:59.639GMT",
                    "dataRead": 75286,
                    "dataWritten": 531,
                    "description": "Job group for statement 24:\ncomments.count()",
                    "displayName": "count at NativeMethodAccessorImpl.java:0",
                    "jobGroup": "24",
                    "jobId": 26,
                    "killedTasksSummary": {},
                    "name": "count at NativeMethodAccessorImpl.java:0",
                    "numActiveStages": 0,
                    "numActiveTasks": 0,
                    "numCompletedIndices": 9,
                    "numCompletedStages": 1,
                    "numCompletedTasks": 9,
                    "numFailedStages": 0,
                    "numFailedTasks": 0,
                    "numKilledTasks": 0,
                    "numSkippedStages": 0,
                    "numSkippedTasks": 0,
                    "numTasks": 9,
                    "rowCount": 869813,
                    "stageIds": [
                      118
                    ],
                    "status": "SUCCEEDED",
                    "submissionTime": "2023-11-20T17:33:59.298GMT",
                    "usageDescription": ""
                  }
                ],
                "limit": 20,
                "numbers": {
                  "FAILED": 0,
                  "RUNNING": 0,
                  "SUCCEEDED": 2,
                  "UNKNOWN": 0
                },
                "rule": "ALL_DESC"
              },
              "spark_pool": "7c27951d-2bdf-4140-be82-d0dc0c0e7d8e",
              "state": "finished",
              "statement_id": 24
            },
            "text/plain": [
              "StatementMeta(7c27951d-2bdf-4140-be82-d0dc0c0e7d8e, 51, 24, Finished, Available)"
            ]
          },
          "metadata": {},
          "output_type": "display_data"
        },
        {
          "data": {
            "text/plain": [
              "869804"
            ]
          },
          "execution_count": 47,
          "metadata": {},
          "output_type": "execute_result"
        }
      ],
      "source": [
        "comments.count()"
      ]
    },
    {
      "cell_type": "markdown",
      "metadata": {
        "nteract": {
          "transient": {
            "deleting": false
          }
        }
      },
      "source": [
        "### Sentiment Analysis on Each Team"
      ]
    },
    {
      "cell_type": "code",
      "execution_count": 5,
      "metadata": {
        "gather": {
          "logged": 1700520715203
        },
        "jupyter": {
          "outputs_hidden": false,
          "source_hidden": false
        },
        "nteract": {
          "transient": {
            "deleting": false
          }
        }
      },
      "outputs": [
        {
          "data": {
            "application/vnd.livy.statement-meta+json": {
              "execution_finish_time": "2023-11-20T22:51:54.8425863Z",
              "execution_start_time": "2023-11-20T22:51:54.5411246Z",
              "livy_statement_state": "available",
              "parent_msg_id": "e5b74c2c-029b-4374-8a00-acc1dd7244cb",
              "queued_time": "2023-11-20T22:51:54.4039961Z",
              "session_id": "53",
              "session_start_time": null,
              "spark_jobs": {
                "jobs": [],
                "limit": 20,
                "numbers": {
                  "FAILED": 0,
                  "RUNNING": 0,
                  "SUCCEEDED": 0,
                  "UNKNOWN": 0
                },
                "rule": "ALL_DESC"
              },
              "spark_pool": "7c27951d-2bdf-4140-be82-d0dc0c0e7d8e",
              "state": "finished",
              "statement_id": 10
            },
            "text/plain": [
              "StatementMeta(7c27951d-2bdf-4140-be82-d0dc0c0e7d8e, 53, 10, Finished, Available)"
            ]
          },
          "metadata": {},
          "output_type": "display_data"
        }
      ],
      "source": [
        "# Define a dictionary of teams and associated keywords\n",
        "team_keywords = {\n",
        "    'houston': ['houston', 'cougars', 'uh', 'uh cougars'],\n",
        "    'kansas': ['kansas', 'jayhawks', 'ku', 'rock chalk', 'ku jayhawks'],\n",
        "    'villanova': ['villanova', 'wildcats', 'nova', 'villanova wildcats'],\n",
        "    'duke': ['duke', 'blue devils', 'duke blue devils'],\n",
        "    'arkansas': ['arkansas', 'razorbacks', 'hogs', 'u of a', 'arkansas razorbacks'],\n",
        "    'saint peters': [\"saint peter's\", 'peacocks', \"saint peter's peacocks\", 'saint peters', \"st. peter's\", 'st peters', 'spu'],\n",
        "    'north carolina': ['north carolina', 'tar heels', 'unc', 'unc tar heels'],\n",
        "    'miami': ['miami', 'hurricanes', 'um', 'miami hurricanes'],\n",
        "    'purdue': ['purdue', 'boilermakers', 'purdue boilermakers', 'pu'],\n",
        "    'illinois': ['illinois', 'fighting illini', 'illini', 'u of i', 'university of illinois']\n",
        "}"
      ]
    },
    {
      "cell_type": "code",
      "execution_count": 6,
      "metadata": {
        "gather": {
          "logged": 1700520718402
        },
        "jupyter": {
          "outputs_hidden": false,
          "source_hidden": false
        },
        "nteract": {
          "transient": {
            "deleting": false
          }
        }
      },
      "outputs": [
        {
          "data": {
            "application/vnd.livy.statement-meta+json": {
              "execution_finish_time": "2023-11-20T22:51:58.1489327Z",
              "execution_start_time": "2023-11-20T22:51:57.8480261Z",
              "livy_statement_state": "available",
              "parent_msg_id": "b326d578-19b0-4494-b19a-d335e158ddee",
              "queued_time": "2023-11-20T22:51:57.7497255Z",
              "session_id": "53",
              "session_start_time": null,
              "spark_jobs": {
                "jobs": [],
                "limit": 20,
                "numbers": {
                  "FAILED": 0,
                  "RUNNING": 0,
                  "SUCCEEDED": 0,
                  "UNKNOWN": 0
                },
                "rule": "ALL_DESC"
              },
              "spark_pool": "7c27951d-2bdf-4140-be82-d0dc0c0e7d8e",
              "state": "finished",
              "statement_id": 11
            },
            "text/plain": [
              "StatementMeta(7c27951d-2bdf-4140-be82-d0dc0c0e7d8e, 53, 11, Finished, Available)"
            ]
          },
          "metadata": {},
          "output_type": "display_data"
        }
      ],
      "source": [
        "# Define the UDF to check the existence of key words\n",
        "def keyword_present(text, keywords):\n",
        "    if text:\n",
        "        return any(keyword in text for keyword in keywords)\n",
        "    return False\n",
        "\n",
        "keyword_udf = udf(keyword_present, BooleanType())"
      ]
    },
    {
      "cell_type": "code",
      "execution_count": 7,
      "metadata": {
        "gather": {
          "logged": 1700520722842
        },
        "jupyter": {
          "outputs_hidden": false,
          "source_hidden": false
        },
        "nteract": {
          "transient": {
            "deleting": false
          }
        }
      },
      "outputs": [
        {
          "data": {
            "application/vnd.livy.statement-meta+json": {
              "execution_finish_time": "2023-11-20T22:52:02.7098837Z",
              "execution_start_time": "2023-11-20T22:52:00.2953177Z",
              "livy_statement_state": "available",
              "parent_msg_id": "9db8d217-8ede-4544-aecd-7ea70caf1b1a",
              "queued_time": "2023-11-20T22:52:00.1752573Z",
              "session_id": "53",
              "session_start_time": null,
              "spark_jobs": {
                "jobs": [],
                "limit": 20,
                "numbers": {
                  "FAILED": 0,
                  "RUNNING": 0,
                  "SUCCEEDED": 0,
                  "UNKNOWN": 0
                },
                "rule": "ALL_DESC"
              },
              "spark_pool": "7c27951d-2bdf-4140-be82-d0dc0c0e7d8e",
              "state": "finished",
              "statement_id": 12
            },
            "text/plain": [
              "StatementMeta(7c27951d-2bdf-4140-be82-d0dc0c0e7d8e, 53, 12, Finished, Available)"
            ]
          },
          "metadata": {},
          "output_type": "display_data"
        }
      ],
      "source": [
        "# Apply the UDF\n",
        "for team, keywords in team_keywords.items():\n",
        "    submissions = submissions.withColumn(\n",
        "        team,\n",
        "        keyword_udf(col(\"title\"), array([lit(k) for k in keywords])) | keyword_udf(col(\"selftext\"), array([lit(k) for k in keywords]))\n",
        "    )\n",
        "    comments = comments.withColumn(\n",
        "        team, \n",
        "        keyword_udf(col(\"body\"), array([lit(k) for k in keywords]))\n",
        "    )"
      ]
    },
    {
      "cell_type": "code",
      "execution_count": 45,
      "metadata": {
        "gather": {
          "logged": 1700512866613
        },
        "jupyter": {
          "outputs_hidden": false,
          "source_hidden": false
        },
        "nteract": {
          "transient": {
            "deleting": false
          }
        }
      },
      "outputs": [
        {
          "data": {
            "application/vnd.livy.statement-meta+json": {
              "execution_finish_time": "2023-11-20T20:41:06.248043Z",
              "execution_start_time": "2023-11-20T20:41:05.9152051Z",
              "livy_statement_state": "available",
              "parent_msg_id": "e85f8ccf-9c35-4a85-8507-9d5a38789932",
              "queued_time": "2023-11-20T20:41:05.7405422Z",
              "session_id": "52",
              "session_start_time": null,
              "spark_jobs": {
                "jobs": [],
                "limit": 20,
                "numbers": {
                  "FAILED": 0,
                  "RUNNING": 0,
                  "SUCCEEDED": 0,
                  "UNKNOWN": 0
                },
                "rule": "ALL_DESC"
              },
              "spark_pool": "7c27951d-2bdf-4140-be82-d0dc0c0e7d8e",
              "state": "finished",
              "statement_id": 50
            },
            "text/plain": [
              "StatementMeta(7c27951d-2bdf-4140-be82-d0dc0c0e7d8e, 52, 50, Finished, Available)"
            ]
          },
          "metadata": {},
          "output_type": "display_data"
        },
        {
          "data": {
            "text/plain": [
              "<bound method DataFrame.printSchema of DataFrame[subreddit: string, author: string, author_flair_text: string, title: string, selftext: string, created_utc: timestamp, num_comments: bigint, supported_team: string, game_thread: boolean, home_ranking: string, home_team: string, away_ranking: string, away_team: string, game_time: string, ranked_matchup: boolean, day: int, month: int, year: int, clean_text: string, sentiment: string, houston: boolean, kansas: boolean, villanova: boolean, duke: boolean, arkansas: boolean, saint peters: boolean, north carolina: boolean, miami: boolean, purdue: boolean, illinois: boolean]>"
            ]
          },
          "execution_count": 99,
          "metadata": {},
          "output_type": "execute_result"
        }
      ],
      "source": [
        "# Check\n",
        "submissions.printSchema"
      ]
    },
    {
      "cell_type": "code",
      "execution_count": 8,
      "metadata": {
        "gather": {
          "logged": 1700520770891
        },
        "jupyter": {
          "outputs_hidden": false,
          "source_hidden": false
        },
        "nteract": {
          "transient": {
            "deleting": false
          }
        }
      },
      "outputs": [
        {
          "data": {
            "application/vnd.livy.statement-meta+json": {
              "execution_finish_time": "2023-11-20T22:52:50.6822397Z",
              "execution_start_time": "2023-11-20T22:52:36.9775965Z",
              "livy_statement_state": "available",
              "parent_msg_id": "917356d1-2a86-45b6-8c79-ea0b54f472ce",
              "queued_time": "2023-11-20T22:52:36.8759793Z",
              "session_id": "53",
              "session_start_time": null,
              "spark_jobs": {
                "jobs": [],
                "limit": 20,
                "numbers": {
                  "FAILED": 0,
                  "RUNNING": 0,
                  "SUCCEEDED": 0,
                  "UNKNOWN": 0
                },
                "rule": "ALL_DESC"
              },
              "spark_pool": "7c27951d-2bdf-4140-be82-d0dc0c0e7d8e",
              "state": "finished",
              "statement_id": 13
            },
            "text/plain": [
              "StatementMeta(7c27951d-2bdf-4140-be82-d0dc0c0e7d8e, 53, 13, Finished, Available)"
            ]
          },
          "metadata": {},
          "output_type": "display_data"
        }
      ],
      "source": [
        "from pyspark.sql.functions import sum as sql_sum\n",
        "\n",
        "# Define the function to aggregate counts by sentiment and team\n",
        "def aggregate_counts_by_sentiment_and_team(df):\n",
        "    aggregated_dfs = [df.groupBy(\"sentiment\").agg(sql_sum(col(team).cast(\"int\")).alias(team)) for team in team_keywords.keys()]\n",
        "    return reduce(lambda df1, df2: df1.join(df2, \"sentiment\", \"outer\"), aggregated_dfs)\n",
        "\n",
        "\n",
        "# Aggregate the counts for submissions by sentiment and team\n",
        "submissions_aggregated = aggregate_counts_by_sentiment_and_team(submissions)\n",
        "\n",
        "# Aggregate the counts for comments by sentiment and team\n",
        "comments_aggregated = aggregate_counts_by_sentiment_and_team(comments)"
      ]
    },
    {
      "cell_type": "code",
      "execution_count": 16,
      "metadata": {
        "gather": {
          "logged": 1700501376339
        },
        "jupyter": {
          "outputs_hidden": false,
          "source_hidden": false
        },
        "nteract": {
          "transient": {
            "deleting": false
          }
        }
      },
      "outputs": [
        {
          "data": {
            "application/vnd.livy.statement-meta+json": {
              "execution_finish_time": "2023-11-20T17:29:35.8631457Z",
              "execution_start_time": "2023-11-20T17:29:18.4112141Z",
              "livy_statement_state": "available",
              "parent_msg_id": "b9655786-cbc8-452f-9408-e83077af1336",
              "queued_time": "2023-11-20T17:29:17.9763122Z",
              "session_id": "51",
              "session_start_time": null,
              "spark_jobs": {
                "jobs": [
                  {
                    "completionTime": "2023-11-20T17:29:35.098GMT",
                    "dataRead": 1579,
                    "dataWritten": 0,
                    "description": "Job group for statement 21:\nprint(\"Team Mentions and Sentiment Proportion in Submissions\")\nsubmissions_aggregated.show()",
                    "displayName": "showString at NativeMethodAccessorImpl.java:0",
                    "jobGroup": "21",
                    "jobId": 21,
                    "killedTasksSummary": {},
                    "name": "showString at NativeMethodAccessorImpl.java:0",
                    "numActiveStages": 0,
                    "numActiveTasks": 0,
                    "numCompletedIndices": 1,
                    "numCompletedStages": 1,
                    "numCompletedTasks": 1,
                    "numFailedStages": 0,
                    "numFailedTasks": 0,
                    "numKilledTasks": 0,
                    "numSkippedStages": 18,
                    "numSkippedTasks": 68,
                    "numTasks": 69,
                    "rowCount": 21,
                    "stageIds": [
                      102,
                      96,
                      103,
                      104,
                      111,
                      105,
                      97,
                      106,
                      98,
                      99,
                      100,
                      107,
                      101,
                      93,
                      108,
                      94,
                      109,
                      95,
                      110
                    ],
                    "status": "SUCCEEDED",
                    "submissionTime": "2023-11-20T17:29:34.823GMT",
                    "usageDescription": ""
                  },
                  {
                    "completionTime": "2023-11-20T17:29:34.545GMT",
                    "dataRead": 1575,
                    "dataWritten": 311,
                    "description": "Job group for statement 21:\nprint(\"Team Mentions and Sentiment Proportion in Submissions\")\nsubmissions_aggregated.show()",
                    "displayName": "showString at NativeMethodAccessorImpl.java:0",
                    "jobGroup": "21",
                    "jobId": 20,
                    "killedTasksSummary": {},
                    "name": "showString at NativeMethodAccessorImpl.java:0",
                    "numActiveStages": 0,
                    "numActiveTasks": 0,
                    "numCompletedIndices": 1,
                    "numCompletedStages": 1,
                    "numCompletedTasks": 1,
                    "numFailedStages": 0,
                    "numFailedTasks": 0,
                    "numKilledTasks": 0,
                    "numSkippedStages": 16,
                    "numSkippedTasks": 61,
                    "numTasks": 62,
                    "rowCount": 24,
                    "stageIds": [
                      81,
                      88,
                      82,
                      89,
                      83,
                      90,
                      76,
                      91,
                      77,
                      92,
                      84,
                      78,
                      85,
                      86,
                      87,
                      79,
                      80
                    ],
                    "status": "SUCCEEDED",
                    "submissionTime": "2023-11-20T17:29:34.262GMT",
                    "usageDescription": ""
                  },
                  {
                    "completionTime": "2023-11-20T17:29:33.950GMT",
                    "dataRead": 1563,
                    "dataWritten": 298,
                    "description": "Job group for statement 21:\nprint(\"Team Mentions and Sentiment Proportion in Submissions\")\nsubmissions_aggregated.show()",
                    "displayName": "showString at NativeMethodAccessorImpl.java:0",
                    "jobGroup": "21",
                    "jobId": 19,
                    "killedTasksSummary": {},
                    "name": "showString at NativeMethodAccessorImpl.java:0",
                    "numActiveStages": 0,
                    "numActiveTasks": 0,
                    "numCompletedIndices": 1,
                    "numCompletedStages": 1,
                    "numCompletedTasks": 1,
                    "numFailedStages": 0,
                    "numFailedTasks": 0,
                    "numKilledTasks": 0,
                    "numSkippedStages": 14,
                    "numSkippedTasks": 54,
                    "numTasks": 55,
                    "rowCount": 24,
                    "stageIds": [
                      66,
                      67,
                      74,
                      68,
                      75,
                      69,
                      61,
                      62,
                      63,
                      70,
                      64,
                      71,
                      72,
                      73,
                      65
                    ],
                    "status": "SUCCEEDED",
                    "submissionTime": "2023-11-20T17:29:33.765GMT",
                    "usageDescription": ""
                  },
                  {
                    "completionTime": "2023-11-20T17:29:33.485GMT",
                    "dataRead": 1547,
                    "dataWritten": 284,
                    "description": "Job group for statement 21:\nprint(\"Team Mentions and Sentiment Proportion in Submissions\")\nsubmissions_aggregated.show()",
                    "displayName": "showString at NativeMethodAccessorImpl.java:0",
                    "jobGroup": "21",
                    "jobId": 18,
                    "killedTasksSummary": {},
                    "name": "showString at NativeMethodAccessorImpl.java:0",
                    "numActiveStages": 0,
                    "numActiveTasks": 0,
                    "numCompletedIndices": 1,
                    "numCompletedStages": 1,
                    "numCompletedTasks": 1,
                    "numFailedStages": 0,
                    "numFailedTasks": 0,
                    "numKilledTasks": 0,
                    "numSkippedStages": 12,
                    "numSkippedTasks": 47,
                    "numTasks": 48,
                    "rowCount": 24,
                    "stageIds": [
                      51,
                      48,
                      60,
                      52,
                      49,
                      56,
                      53,
                      50,
                      57,
                      54,
                      58,
                      55,
                      59
                    ],
                    "status": "SUCCEEDED",
                    "submissionTime": "2023-11-20T17:29:33.231GMT",
                    "usageDescription": ""
                  },
                  {
                    "completionTime": "2023-11-20T17:29:32.921GMT",
                    "dataRead": 1525,
                    "dataWritten": 272,
                    "description": "Job group for statement 21:\nprint(\"Team Mentions and Sentiment Proportion in Submissions\")\nsubmissions_aggregated.show()",
                    "displayName": "showString at NativeMethodAccessorImpl.java:0",
                    "jobGroup": "21",
                    "jobId": 17,
                    "killedTasksSummary": {},
                    "name": "showString at NativeMethodAccessorImpl.java:0",
                    "numActiveStages": 0,
                    "numActiveTasks": 0,
                    "numCompletedIndices": 1,
                    "numCompletedStages": 1,
                    "numCompletedTasks": 1,
                    "numFailedStages": 0,
                    "numFailedTasks": 0,
                    "numKilledTasks": 0,
                    "numSkippedStages": 10,
                    "numSkippedTasks": 40,
                    "numTasks": 41,
                    "rowCount": 24,
                    "stageIds": [
                      45,
                      37,
                      46,
                      38,
                      42,
                      39,
                      43,
                      40,
                      47,
                      44,
                      41
                    ],
                    "status": "SUCCEEDED",
                    "submissionTime": "2023-11-20T17:29:32.707GMT",
                    "usageDescription": ""
                  },
                  {
                    "completionTime": "2023-11-20T17:29:32.477GMT",
                    "dataRead": 1521,
                    "dataWritten": 262,
                    "description": "Job group for statement 21:\nprint(\"Team Mentions and Sentiment Proportion in Submissions\")\nsubmissions_aggregated.show()",
                    "displayName": "showString at NativeMethodAccessorImpl.java:0",
                    "jobGroup": "21",
                    "jobId": 16,
                    "killedTasksSummary": {},
                    "name": "showString at NativeMethodAccessorImpl.java:0",
                    "numActiveStages": 0,
                    "numActiveTasks": 0,
                    "numCompletedIndices": 1,
                    "numCompletedStages": 1,
                    "numCompletedTasks": 1,
                    "numFailedStages": 0,
                    "numFailedTasks": 0,
                    "numKilledTasks": 0,
                    "numSkippedStages": 8,
                    "numSkippedTasks": 33,
                    "numTasks": 34,
                    "rowCount": 24,
                    "stageIds": [
                      33,
                      30,
                      34,
                      31,
                      35,
                      32,
                      36,
                      28,
                      29
                    ],
                    "status": "SUCCEEDED",
                    "submissionTime": "2023-11-20T17:29:32.252GMT",
                    "usageDescription": ""
                  },
                  {
                    "completionTime": "2023-11-20T17:29:32.009GMT",
                    "dataRead": 1512,
                    "dataWritten": 251,
                    "description": "Job group for statement 21:\nprint(\"Team Mentions and Sentiment Proportion in Submissions\")\nsubmissions_aggregated.show()",
                    "displayName": "showString at NativeMethodAccessorImpl.java:0",
                    "jobGroup": "21",
                    "jobId": 15,
                    "killedTasksSummary": {},
                    "name": "showString at NativeMethodAccessorImpl.java:0",
                    "numActiveStages": 0,
                    "numActiveTasks": 0,
                    "numCompletedIndices": 1,
                    "numCompletedStages": 1,
                    "numCompletedTasks": 1,
                    "numFailedStages": 0,
                    "numFailedTasks": 0,
                    "numKilledTasks": 0,
                    "numSkippedStages": 6,
                    "numSkippedTasks": 26,
                    "numTasks": 27,
                    "rowCount": 24,
                    "stageIds": [
                      27,
                      24,
                      21,
                      25,
                      22,
                      26,
                      23
                    ],
                    "status": "SUCCEEDED",
                    "submissionTime": "2023-11-20T17:29:31.787GMT",
                    "usageDescription": ""
                  },
                  {
                    "completionTime": "2023-11-20T17:29:31.505GMT",
                    "dataRead": 1501,
                    "dataWritten": 239,
                    "description": "Job group for statement 21:\nprint(\"Team Mentions and Sentiment Proportion in Submissions\")\nsubmissions_aggregated.show()",
                    "displayName": "showString at NativeMethodAccessorImpl.java:0",
                    "jobGroup": "21",
                    "jobId": 14,
                    "killedTasksSummary": {},
                    "name": "showString at NativeMethodAccessorImpl.java:0",
                    "numActiveStages": 0,
                    "numActiveTasks": 0,
                    "numCompletedIndices": 1,
                    "numCompletedStages": 1,
                    "numCompletedTasks": 1,
                    "numFailedStages": 0,
                    "numFailedTasks": 0,
                    "numKilledTasks": 0,
                    "numSkippedStages": 4,
                    "numSkippedTasks": 19,
                    "numTasks": 20,
                    "rowCount": 24,
                    "stageIds": [
                      19,
                      16,
                      20,
                      17,
                      18
                    ],
                    "status": "SUCCEEDED",
                    "submissionTime": "2023-11-20T17:29:31.257GMT",
                    "usageDescription": ""
                  },
                  {
                    "completionTime": "2023-11-20T17:29:31.040GMT",
                    "dataRead": 2546,
                    "dataWritten": 226,
                    "description": "Job group for statement 21:\nprint(\"Team Mentions and Sentiment Proportion in Submissions\")\nsubmissions_aggregated.show()",
                    "displayName": "showString at NativeMethodAccessorImpl.java:0",
                    "jobGroup": "21",
                    "jobId": 13,
                    "killedTasksSummary": {},
                    "name": "showString at NativeMethodAccessorImpl.java:0",
                    "numActiveStages": 0,
                    "numActiveTasks": 0,
                    "numCompletedIndices": 1,
                    "numCompletedStages": 1,
                    "numCompletedTasks": 1,
                    "numFailedStages": 0,
                    "numFailedTasks": 0,
                    "numKilledTasks": 0,
                    "numSkippedStages": 2,
                    "numSkippedTasks": 12,
                    "numTasks": 13,
                    "rowCount": 39,
                    "stageIds": [
                      15,
                      13,
                      14
                    ],
                    "status": "SUCCEEDED",
                    "submissionTime": "2023-11-20T17:29:27.546GMT",
                    "usageDescription": ""
                  },
                  {
                    "completionTime": "2023-11-20T17:29:30.453GMT",
                    "dataRead": 4253296,
                    "dataWritten": 1268,
                    "description": "Job group for statement 21:\nprint(\"Team Mentions and Sentiment Proportion in Submissions\")\nsubmissions_aggregated.show()",
                    "displayName": "showString at NativeMethodAccessorImpl.java:0",
                    "jobGroup": "21",
                    "jobId": 12,
                    "killedTasksSummary": {},
                    "name": "showString at NativeMethodAccessorImpl.java:0",
                    "numActiveStages": 0,
                    "numActiveTasks": 0,
                    "numCompletedIndices": 6,
                    "numCompletedStages": 1,
                    "numCompletedTasks": 6,
                    "numFailedStages": 0,
                    "numFailedTasks": 0,
                    "numKilledTasks": 0,
                    "numSkippedStages": 0,
                    "numSkippedTasks": 0,
                    "numTasks": 6,
                    "rowCount": 9181,
                    "stageIds": [
                      12
                    ],
                    "status": "SUCCEEDED",
                    "submissionTime": "2023-11-20T17:29:21.823GMT",
                    "usageDescription": ""
                  },
                  {
                    "completionTime": "2023-11-20T17:29:30.185GMT",
                    "dataRead": 4253296,
                    "dataWritten": 1277,
                    "description": "Job group for statement 21:\nprint(\"Team Mentions and Sentiment Proportion in Submissions\")\nsubmissions_aggregated.show()",
                    "displayName": "showString at NativeMethodAccessorImpl.java:0",
                    "jobGroup": "21",
                    "jobId": 11,
                    "killedTasksSummary": {},
                    "name": "showString at NativeMethodAccessorImpl.java:0",
                    "numActiveStages": 0,
                    "numActiveTasks": 0,
                    "numCompletedIndices": 6,
                    "numCompletedStages": 1,
                    "numCompletedTasks": 6,
                    "numFailedStages": 0,
                    "numFailedTasks": 0,
                    "numKilledTasks": 0,
                    "numSkippedStages": 0,
                    "numSkippedTasks": 0,
                    "numTasks": 6,
                    "rowCount": 9181,
                    "stageIds": [
                      11
                    ],
                    "status": "SUCCEEDED",
                    "submissionTime": "2023-11-20T17:29:21.591GMT",
                    "usageDescription": ""
                  },
                  {
                    "completionTime": "2023-11-20T17:29:29.780GMT",
                    "dataRead": 4253296,
                    "dataWritten": 1279,
                    "description": "Job group for statement 21:\nprint(\"Team Mentions and Sentiment Proportion in Submissions\")\nsubmissions_aggregated.show()",
                    "displayName": "showString at NativeMethodAccessorImpl.java:0",
                    "jobGroup": "21",
                    "jobId": 10,
                    "killedTasksSummary": {},
                    "name": "showString at NativeMethodAccessorImpl.java:0",
                    "numActiveStages": 0,
                    "numActiveTasks": 0,
                    "numCompletedIndices": 6,
                    "numCompletedStages": 1,
                    "numCompletedTasks": 6,
                    "numFailedStages": 0,
                    "numFailedTasks": 0,
                    "numKilledTasks": 0,
                    "numSkippedStages": 0,
                    "numSkippedTasks": 0,
                    "numTasks": 6,
                    "rowCount": 9181,
                    "stageIds": [
                      10
                    ],
                    "status": "SUCCEEDED",
                    "submissionTime": "2023-11-20T17:29:21.274GMT",
                    "usageDescription": ""
                  },
                  {
                    "completionTime": "2023-11-20T17:29:29.378GMT",
                    "dataRead": 4253296,
                    "dataWritten": 1275,
                    "description": "Job group for statement 21:\nprint(\"Team Mentions and Sentiment Proportion in Submissions\")\nsubmissions_aggregated.show()",
                    "displayName": "showString at NativeMethodAccessorImpl.java:0",
                    "jobGroup": "21",
                    "jobId": 9,
                    "killedTasksSummary": {},
                    "name": "showString at NativeMethodAccessorImpl.java:0",
                    "numActiveStages": 0,
                    "numActiveTasks": 0,
                    "numCompletedIndices": 6,
                    "numCompletedStages": 1,
                    "numCompletedTasks": 6,
                    "numFailedStages": 0,
                    "numFailedTasks": 0,
                    "numKilledTasks": 0,
                    "numSkippedStages": 0,
                    "numSkippedTasks": 0,
                    "numTasks": 6,
                    "rowCount": 9181,
                    "stageIds": [
                      9
                    ],
                    "status": "SUCCEEDED",
                    "submissionTime": "2023-11-20T17:29:21.031GMT",
                    "usageDescription": ""
                  },
                  {
                    "completionTime": "2023-11-20T17:29:28.933GMT",
                    "dataRead": 4253296,
                    "dataWritten": 1263,
                    "description": "Job group for statement 21:\nprint(\"Team Mentions and Sentiment Proportion in Submissions\")\nsubmissions_aggregated.show()",
                    "displayName": "showString at NativeMethodAccessorImpl.java:0",
                    "jobGroup": "21",
                    "jobId": 8,
                    "killedTasksSummary": {},
                    "name": "showString at NativeMethodAccessorImpl.java:0",
                    "numActiveStages": 0,
                    "numActiveTasks": 0,
                    "numCompletedIndices": 6,
                    "numCompletedStages": 1,
                    "numCompletedTasks": 6,
                    "numFailedStages": 0,
                    "numFailedTasks": 0,
                    "numKilledTasks": 0,
                    "numSkippedStages": 0,
                    "numSkippedTasks": 0,
                    "numTasks": 6,
                    "rowCount": 9181,
                    "stageIds": [
                      8
                    ],
                    "status": "SUCCEEDED",
                    "submissionTime": "2023-11-20T17:29:20.864GMT",
                    "usageDescription": ""
                  },
                  {
                    "completionTime": "2023-11-20T17:29:28.551GMT",
                    "dataRead": 4259598,
                    "dataWritten": 1270,
                    "description": "Job group for statement 21:\nprint(\"Team Mentions and Sentiment Proportion in Submissions\")\nsubmissions_aggregated.show()",
                    "displayName": "showString at NativeMethodAccessorImpl.java:0",
                    "jobGroup": "21",
                    "jobId": 7,
                    "killedTasksSummary": {},
                    "name": "showString at NativeMethodAccessorImpl.java:0",
                    "numActiveStages": 0,
                    "numActiveTasks": 0,
                    "numCompletedIndices": 6,
                    "numCompletedStages": 1,
                    "numCompletedTasks": 6,
                    "numFailedStages": 0,
                    "numFailedTasks": 0,
                    "numKilledTasks": 0,
                    "numSkippedStages": 0,
                    "numSkippedTasks": 0,
                    "numTasks": 6,
                    "rowCount": 9181,
                    "stageIds": [
                      7
                    ],
                    "status": "SUCCEEDED",
                    "submissionTime": "2023-11-20T17:29:20.672GMT",
                    "usageDescription": ""
                  },
                  {
                    "completionTime": "2023-11-20T17:29:28.147GMT",
                    "dataRead": 4253296,
                    "dataWritten": 1273,
                    "description": "Job group for statement 21:\nprint(\"Team Mentions and Sentiment Proportion in Submissions\")\nsubmissions_aggregated.show()",
                    "displayName": "showString at NativeMethodAccessorImpl.java:0",
                    "jobGroup": "21",
                    "jobId": 6,
                    "killedTasksSummary": {},
                    "name": "showString at NativeMethodAccessorImpl.java:0",
                    "numActiveStages": 0,
                    "numActiveTasks": 0,
                    "numCompletedIndices": 6,
                    "numCompletedStages": 1,
                    "numCompletedTasks": 6,
                    "numFailedStages": 0,
                    "numFailedTasks": 0,
                    "numKilledTasks": 0,
                    "numSkippedStages": 0,
                    "numSkippedTasks": 0,
                    "numTasks": 6,
                    "rowCount": 9181,
                    "stageIds": [
                      6
                    ],
                    "status": "SUCCEEDED",
                    "submissionTime": "2023-11-20T17:29:20.487GMT",
                    "usageDescription": ""
                  },
                  {
                    "completionTime": "2023-11-20T17:29:27.788GMT",
                    "dataRead": 4263675,
                    "dataWritten": 1275,
                    "description": "Job group for statement 21:\nprint(\"Team Mentions and Sentiment Proportion in Submissions\")\nsubmissions_aggregated.show()",
                    "displayName": "showString at NativeMethodAccessorImpl.java:0",
                    "jobGroup": "21",
                    "jobId": 5,
                    "killedTasksSummary": {},
                    "name": "showString at NativeMethodAccessorImpl.java:0",
                    "numActiveStages": 0,
                    "numActiveTasks": 0,
                    "numCompletedIndices": 6,
                    "numCompletedStages": 1,
                    "numCompletedTasks": 6,
                    "numFailedStages": 0,
                    "numFailedTasks": 0,
                    "numKilledTasks": 0,
                    "numSkippedStages": 0,
                    "numSkippedTasks": 0,
                    "numTasks": 6,
                    "rowCount": 9181,
                    "stageIds": [
                      5
                    ],
                    "status": "SUCCEEDED",
                    "submissionTime": "2023-11-20T17:29:20.286GMT",
                    "usageDescription": ""
                  },
                  {
                    "completionTime": "2023-11-20T17:29:27.001GMT",
                    "dataRead": 4287969,
                    "dataWritten": 1274,
                    "description": "Job group for statement 21:\nprint(\"Team Mentions and Sentiment Proportion in Submissions\")\nsubmissions_aggregated.show()",
                    "displayName": "showString at NativeMethodAccessorImpl.java:0",
                    "jobGroup": "21",
                    "jobId": 4,
                    "killedTasksSummary": {},
                    "name": "showString at NativeMethodAccessorImpl.java:0",
                    "numActiveStages": 0,
                    "numActiveTasks": 0,
                    "numCompletedIndices": 6,
                    "numCompletedStages": 1,
                    "numCompletedTasks": 6,
                    "numFailedStages": 0,
                    "numFailedTasks": 0,
                    "numKilledTasks": 0,
                    "numSkippedStages": 0,
                    "numSkippedTasks": 0,
                    "numTasks": 6,
                    "rowCount": 9181,
                    "stageIds": [
                      4
                    ],
                    "status": "SUCCEEDED",
                    "submissionTime": "2023-11-20T17:29:20.118GMT",
                    "usageDescription": ""
                  },
                  {
                    "completionTime": "2023-11-20T17:29:26.992GMT",
                    "dataRead": 4297348,
                    "dataWritten": 1272,
                    "description": "Job group for statement 21:\nprint(\"Team Mentions and Sentiment Proportion in Submissions\")\nsubmissions_aggregated.show()",
                    "displayName": "showString at NativeMethodAccessorImpl.java:0",
                    "jobGroup": "21",
                    "jobId": 3,
                    "killedTasksSummary": {},
                    "name": "showString at NativeMethodAccessorImpl.java:0",
                    "numActiveStages": 0,
                    "numActiveTasks": 0,
                    "numCompletedIndices": 6,
                    "numCompletedStages": 1,
                    "numCompletedTasks": 6,
                    "numFailedStages": 0,
                    "numFailedTasks": 0,
                    "numKilledTasks": 0,
                    "numSkippedStages": 0,
                    "numSkippedTasks": 0,
                    "numTasks": 6,
                    "rowCount": 9181,
                    "stageIds": [
                      3
                    ],
                    "status": "SUCCEEDED",
                    "submissionTime": "2023-11-20T17:29:19.832GMT",
                    "usageDescription": ""
                  }
                ],
                "limit": 20,
                "numbers": {
                  "FAILED": 0,
                  "RUNNING": 0,
                  "SUCCEEDED": 19,
                  "UNKNOWN": 0
                },
                "rule": "ALL_DESC"
              },
              "spark_pool": "7c27951d-2bdf-4140-be82-d0dc0c0e7d8e",
              "state": "finished",
              "statement_id": 21
            },
            "text/plain": [
              "StatementMeta(7c27951d-2bdf-4140-be82-d0dc0c0e7d8e, 51, 21, Finished, Available)"
            ]
          },
          "metadata": {},
          "output_type": "display_data"
        },
        {
          "name": "stdout",
          "output_type": "stream",
          "text": [
            "Team Mentions and Sentiment Proportion in Submissions\n",
            "+---------+-------+------+---------+----+--------+------------+--------------+-----+------+--------+\n",
            "|sentiment|houston|kansas|villanova|duke|arkansas|saint peters|north carolina|miami|purdue|illinois|\n",
            "+---------+-------+------+---------+----+--------+------------+--------------+-----+------+--------+\n",
            "| negative|     71|   173|      100|  42|      46|           0|           101|  308|   211|      81|\n",
            "|  neutral|      2|    30|       25|   3|       2|           0|             8|   53|    15|       3|\n",
            "| positive|    187|   462|      210| 113|     122|           4|           226| 2611|   404|     265|\n",
            "+---------+-------+------+---------+----+--------+------------+--------------+-----+------+--------+\n",
            "\n"
          ]
        }
      ],
      "source": [
        "print(\"Team Mentions and Sentiment Proportion in Submissions\")\n",
        "submissions_aggregated.show()"
      ]
    },
    {
      "cell_type": "code",
      "execution_count": 20,
      "metadata": {
        "gather": {
          "logged": 1700501738017
        },
        "jupyter": {
          "outputs_hidden": false,
          "source_hidden": false
        },
        "nteract": {
          "transient": {
            "deleting": false
          }
        }
      },
      "outputs": [
        {
          "data": {
            "application/vnd.livy.statement-meta+json": {
              "execution_finish_time": "2023-11-20T17:35:37.7528385Z",
              "execution_start_time": "2023-11-20T17:35:12.3641989Z",
              "livy_statement_state": "available",
              "parent_msg_id": "5fbbc703-b6c2-408c-ada6-c83ce806ef06",
              "queued_time": "2023-11-20T17:35:12.2455666Z",
              "session_id": "51",
              "session_start_time": null,
              "spark_jobs": {
                "jobs": [
                  {
                    "completionTime": "2023-11-20T17:35:37.018GMT",
                    "dataRead": 2250,
                    "dataWritten": 0,
                    "description": "Job group for statement 25:\nprint(\"Team Mentions and Sentiment Proportion in Comments\")\ncomments_aggregated.show()",
                    "displayName": "showString at NativeMethodAccessorImpl.java:0",
                    "jobGroup": "25",
                    "jobId": 46,
                    "killedTasksSummary": {},
                    "name": "showString at NativeMethodAccessorImpl.java:0",
                    "numActiveStages": 0,
                    "numActiveTasks": 0,
                    "numCompletedIndices": 1,
                    "numCompletedStages": 1,
                    "numCompletedTasks": 1,
                    "numFailedStages": 0,
                    "numFailedTasks": 0,
                    "numKilledTasks": 0,
                    "numSkippedStages": 18,
                    "numSkippedTasks": 98,
                    "numTasks": 99,
                    "rowCount": 30,
                    "stageIds": [
                      212,
                      219,
                      220,
                      227,
                      221,
                      213,
                      228,
                      214,
                      229,
                      215,
                      222,
                      216,
                      223,
                      224,
                      225,
                      217,
                      211,
                      226,
                      218
                    ],
                    "status": "SUCCEEDED",
                    "submissionTime": "2023-11-20T17:35:36.856GMT",
                    "usageDescription": ""
                  },
                  {
                    "completionTime": "2023-11-20T17:35:36.780GMT",
                    "dataRead": 2256,
                    "dataWritten": 336,
                    "description": "Job group for statement 25:\nprint(\"Team Mentions and Sentiment Proportion in Comments\")\ncomments_aggregated.show()",
                    "displayName": "showString at NativeMethodAccessorImpl.java:0",
                    "jobGroup": "25",
                    "jobId": 45,
                    "killedTasksSummary": {},
                    "name": "showString at NativeMethodAccessorImpl.java:0",
                    "numActiveStages": 0,
                    "numActiveTasks": 0,
                    "numCompletedIndices": 1,
                    "numCompletedStages": 1,
                    "numCompletedTasks": 1,
                    "numFailedStages": 0,
                    "numFailedTasks": 0,
                    "numKilledTasks": 0,
                    "numSkippedStages": 16,
                    "numSkippedTasks": 88,
                    "numTasks": 89,
                    "rowCount": 33,
                    "stageIds": [
                      197,
                      204,
                      198,
                      205,
                      206,
                      207,
                      199,
                      200,
                      201,
                      208,
                      202,
                      194,
                      209,
                      203,
                      195,
                      210,
                      196
                    ],
                    "status": "SUCCEEDED",
                    "submissionTime": "2023-11-20T17:35:36.596GMT",
                    "usageDescription": ""
                  },
                  {
                    "completionTime": "2023-11-20T17:35:36.533GMT",
                    "dataRead": 2244,
                    "dataWritten": 319,
                    "description": "Job group for statement 25:\nprint(\"Team Mentions and Sentiment Proportion in Comments\")\ncomments_aggregated.show()",
                    "displayName": "showString at NativeMethodAccessorImpl.java:0",
                    "jobGroup": "25",
                    "jobId": 44,
                    "killedTasksSummary": {},
                    "name": "showString at NativeMethodAccessorImpl.java:0",
                    "numActiveStages": 0,
                    "numActiveTasks": 0,
                    "numCompletedIndices": 1,
                    "numCompletedStages": 1,
                    "numCompletedTasks": 1,
                    "numFailedStages": 0,
                    "numFailedTasks": 0,
                    "numKilledTasks": 0,
                    "numSkippedStages": 14,
                    "numSkippedTasks": 78,
                    "numTasks": 79,
                    "rowCount": 33,
                    "stageIds": [
                      183,
                      190,
                      184,
                      191,
                      192,
                      193,
                      185,
                      179,
                      186,
                      180,
                      187,
                      188,
                      189,
                      181,
                      182
                    ],
                    "status": "SUCCEEDED",
                    "submissionTime": "2023-11-20T17:35:36.377GMT",
                    "usageDescription": ""
                  },
                  {
                    "completionTime": "2023-11-20T17:35:36.288GMT",
                    "dataRead": 2221,
                    "dataWritten": 304,
                    "description": "Job group for statement 25:\nprint(\"Team Mentions and Sentiment Proportion in Comments\")\ncomments_aggregated.show()",
                    "displayName": "showString at NativeMethodAccessorImpl.java:0",
                    "jobGroup": "25",
                    "jobId": 43,
                    "killedTasksSummary": {},
                    "name": "showString at NativeMethodAccessorImpl.java:0",
                    "numActiveStages": 0,
                    "numActiveTasks": 0,
                    "numCompletedIndices": 1,
                    "numCompletedStages": 1,
                    "numCompletedTasks": 1,
                    "numFailedStages": 0,
                    "numFailedTasks": 0,
                    "numKilledTasks": 0,
                    "numSkippedStages": 12,
                    "numSkippedTasks": 68,
                    "numTasks": 69,
                    "rowCount": 33,
                    "stageIds": [
                      171,
                      168,
                      172,
                      169,
                      166,
                      176,
                      173,
                      170,
                      177,
                      174,
                      178,
                      175,
                      167
                    ],
                    "status": "SUCCEEDED",
                    "submissionTime": "2023-11-20T17:35:36.135GMT",
                    "usageDescription": ""
                  },
                  {
                    "completionTime": "2023-11-20T17:35:35.953GMT",
                    "dataRead": 2188,
                    "dataWritten": 289,
                    "description": "Job group for statement 25:\nprint(\"Team Mentions and Sentiment Proportion in Comments\")\ncomments_aggregated.show()",
                    "displayName": "showString at NativeMethodAccessorImpl.java:0",
                    "jobGroup": "25",
                    "jobId": 42,
                    "killedTasksSummary": {},
                    "name": "showString at NativeMethodAccessorImpl.java:0",
                    "numActiveStages": 0,
                    "numActiveTasks": 0,
                    "numCompletedIndices": 1,
                    "numCompletedStages": 1,
                    "numCompletedTasks": 1,
                    "numFailedStages": 0,
                    "numFailedTasks": 0,
                    "numKilledTasks": 0,
                    "numSkippedStages": 10,
                    "numSkippedTasks": 58,
                    "numTasks": 59,
                    "rowCount": 33,
                    "stageIds": [
                      161,
                      165,
                      157,
                      158,
                      155,
                      162,
                      159,
                      156,
                      163,
                      160,
                      164
                    ],
                    "status": "SUCCEEDED",
                    "submissionTime": "2023-11-20T17:35:35.797GMT",
                    "usageDescription": ""
                  },
                  {
                    "completionTime": "2023-11-20T17:35:35.700GMT",
                    "dataRead": 2175,
                    "dataWritten": 275,
                    "description": "Job group for statement 25:\nprint(\"Team Mentions and Sentiment Proportion in Comments\")\ncomments_aggregated.show()",
                    "displayName": "showString at NativeMethodAccessorImpl.java:0",
                    "jobGroup": "25",
                    "jobId": 41,
                    "killedTasksSummary": {},
                    "name": "showString at NativeMethodAccessorImpl.java:0",
                    "numActiveStages": 0,
                    "numActiveTasks": 0,
                    "numCompletedIndices": 1,
                    "numCompletedStages": 1,
                    "numCompletedTasks": 1,
                    "numFailedStages": 0,
                    "numFailedTasks": 0,
                    "numKilledTasks": 0,
                    "numSkippedStages": 8,
                    "numSkippedTasks": 48,
                    "numTasks": 49,
                    "rowCount": 33,
                    "stageIds": [
                      153,
                      150,
                      147,
                      154,
                      151,
                      152,
                      148,
                      149,
                      146
                    ],
                    "status": "SUCCEEDED",
                    "submissionTime": "2023-11-20T17:35:35.554GMT",
                    "usageDescription": ""
                  },
                  {
                    "completionTime": "2023-11-20T17:35:35.472GMT",
                    "dataRead": 2161,
                    "dataWritten": 261,
                    "description": "Job group for statement 25:\nprint(\"Team Mentions and Sentiment Proportion in Comments\")\ncomments_aggregated.show()",
                    "displayName": "showString at NativeMethodAccessorImpl.java:0",
                    "jobGroup": "25",
                    "jobId": 40,
                    "killedTasksSummary": {},
                    "name": "showString at NativeMethodAccessorImpl.java:0",
                    "numActiveStages": 0,
                    "numActiveTasks": 0,
                    "numCompletedIndices": 1,
                    "numCompletedStages": 1,
                    "numCompletedTasks": 1,
                    "numFailedStages": 0,
                    "numFailedTasks": 0,
                    "numKilledTasks": 0,
                    "numSkippedStages": 6,
                    "numSkippedTasks": 38,
                    "numTasks": 39,
                    "rowCount": 33,
                    "stageIds": [
                      143,
                      139,
                      140,
                      144,
                      141,
                      145,
                      142
                    ],
                    "status": "SUCCEEDED",
                    "submissionTime": "2023-11-20T17:35:35.290GMT",
                    "usageDescription": ""
                  },
                  {
                    "completionTime": "2023-11-20T17:35:35.159GMT",
                    "dataRead": 2158,
                    "dataWritten": 245,
                    "description": "Job group for statement 25:\nprint(\"Team Mentions and Sentiment Proportion in Comments\")\ncomments_aggregated.show()",
                    "displayName": "showString at NativeMethodAccessorImpl.java:0",
                    "jobGroup": "25",
                    "jobId": 39,
                    "killedTasksSummary": {},
                    "name": "showString at NativeMethodAccessorImpl.java:0",
                    "numActiveStages": 0,
                    "numActiveTasks": 0,
                    "numCompletedIndices": 1,
                    "numCompletedStages": 1,
                    "numCompletedTasks": 1,
                    "numFailedStages": 0,
                    "numFailedTasks": 0,
                    "numKilledTasks": 0,
                    "numSkippedStages": 4,
                    "numSkippedTasks": 28,
                    "numTasks": 29,
                    "rowCount": 33,
                    "stageIds": [
                      135,
                      136,
                      137,
                      138,
                      134
                    ],
                    "status": "SUCCEEDED",
                    "submissionTime": "2023-11-20T17:35:34.907GMT",
                    "usageDescription": ""
                  },
                  {
                    "completionTime": "2023-11-20T17:35:34.763GMT",
                    "dataRead": 3846,
                    "dataWritten": 230,
                    "description": "Job group for statement 25:\nprint(\"Team Mentions and Sentiment Proportion in Comments\")\ncomments_aggregated.show()",
                    "displayName": "showString at NativeMethodAccessorImpl.java:0",
                    "jobGroup": "25",
                    "jobId": 38,
                    "killedTasksSummary": {},
                    "name": "showString at NativeMethodAccessorImpl.java:0",
                    "numActiveStages": 0,
                    "numActiveTasks": 0,
                    "numCompletedIndices": 1,
                    "numCompletedStages": 1,
                    "numCompletedTasks": 1,
                    "numFailedStages": 0,
                    "numFailedTasks": 0,
                    "numKilledTasks": 0,
                    "numSkippedStages": 2,
                    "numSkippedTasks": 18,
                    "numTasks": 19,
                    "rowCount": 57,
                    "stageIds": [
                      132,
                      133,
                      131
                    ],
                    "status": "SUCCEEDED",
                    "submissionTime": "2023-11-20T17:35:18.589GMT",
                    "usageDescription": ""
                  },
                  {
                    "completionTime": "2023-11-20T17:35:34.904GMT",
                    "dataRead": 80719460,
                    "dataWritten": 1914,
                    "description": "Job group for statement 25:\nprint(\"Team Mentions and Sentiment Proportion in Comments\")\ncomments_aggregated.show()",
                    "displayName": "showString at NativeMethodAccessorImpl.java:0",
                    "jobGroup": "25",
                    "jobId": 37,
                    "killedTasksSummary": {},
                    "name": "showString at NativeMethodAccessorImpl.java:0",
                    "numActiveStages": 0,
                    "numActiveTasks": 0,
                    "numCompletedIndices": 9,
                    "numCompletedStages": 1,
                    "numCompletedTasks": 9,
                    "numFailedStages": 0,
                    "numFailedTasks": 0,
                    "numKilledTasks": 0,
                    "numSkippedStages": 0,
                    "numSkippedTasks": 0,
                    "numTasks": 9,
                    "rowCount": 869831,
                    "stageIds": [
                      130
                    ],
                    "status": "SUCCEEDED",
                    "submissionTime": "2023-11-20T17:35:14.263GMT",
                    "usageDescription": ""
                  },
                  {
                    "completionTime": "2023-11-20T17:35:33.097GMT",
                    "dataRead": 80719460,
                    "dataWritten": 1937,
                    "description": "Job group for statement 25:\nprint(\"Team Mentions and Sentiment Proportion in Comments\")\ncomments_aggregated.show()",
                    "displayName": "showString at NativeMethodAccessorImpl.java:0",
                    "jobGroup": "25",
                    "jobId": 36,
                    "killedTasksSummary": {},
                    "name": "showString at NativeMethodAccessorImpl.java:0",
                    "numActiveStages": 0,
                    "numActiveTasks": 0,
                    "numCompletedIndices": 9,
                    "numCompletedStages": 1,
                    "numCompletedTasks": 9,
                    "numFailedStages": 0,
                    "numFailedTasks": 0,
                    "numKilledTasks": 0,
                    "numSkippedStages": 0,
                    "numSkippedTasks": 0,
                    "numTasks": 9,
                    "rowCount": 869831,
                    "stageIds": [
                      129
                    ],
                    "status": "SUCCEEDED",
                    "submissionTime": "2023-11-20T17:35:14.179GMT",
                    "usageDescription": ""
                  },
                  {
                    "completionTime": "2023-11-20T17:35:30.809GMT",
                    "dataRead": 80719460,
                    "dataWritten": 1940,
                    "description": "Job group for statement 25:\nprint(\"Team Mentions and Sentiment Proportion in Comments\")\ncomments_aggregated.show()",
                    "displayName": "showString at NativeMethodAccessorImpl.java:0",
                    "jobGroup": "25",
                    "jobId": 35,
                    "killedTasksSummary": {},
                    "name": "showString at NativeMethodAccessorImpl.java:0",
                    "numActiveStages": 0,
                    "numActiveTasks": 0,
                    "numCompletedIndices": 9,
                    "numCompletedStages": 1,
                    "numCompletedTasks": 9,
                    "numFailedStages": 0,
                    "numFailedTasks": 0,
                    "numKilledTasks": 0,
                    "numSkippedStages": 0,
                    "numSkippedTasks": 0,
                    "numTasks": 9,
                    "rowCount": 869831,
                    "stageIds": [
                      128
                    ],
                    "status": "SUCCEEDED",
                    "submissionTime": "2023-11-20T17:35:14.059GMT",
                    "usageDescription": ""
                  },
                  {
                    "completionTime": "2023-11-20T17:35:28.938GMT",
                    "dataRead": 80719460,
                    "dataWritten": 1932,
                    "description": "Job group for statement 25:\nprint(\"Team Mentions and Sentiment Proportion in Comments\")\ncomments_aggregated.show()",
                    "displayName": "showString at NativeMethodAccessorImpl.java:0",
                    "jobGroup": "25",
                    "jobId": 34,
                    "killedTasksSummary": {},
                    "name": "showString at NativeMethodAccessorImpl.java:0",
                    "numActiveStages": 0,
                    "numActiveTasks": 0,
                    "numCompletedIndices": 9,
                    "numCompletedStages": 1,
                    "numCompletedTasks": 9,
                    "numFailedStages": 0,
                    "numFailedTasks": 0,
                    "numKilledTasks": 0,
                    "numSkippedStages": 0,
                    "numSkippedTasks": 0,
                    "numTasks": 9,
                    "rowCount": 869831,
                    "stageIds": [
                      127
                    ],
                    "status": "SUCCEEDED",
                    "submissionTime": "2023-11-20T17:35:13.922GMT",
                    "usageDescription": ""
                  },
                  {
                    "completionTime": "2023-11-20T17:35:27.916GMT",
                    "dataRead": 80719460,
                    "dataWritten": 1913,
                    "description": "Job group for statement 25:\nprint(\"Team Mentions and Sentiment Proportion in Comments\")\ncomments_aggregated.show()",
                    "displayName": "showString at NativeMethodAccessorImpl.java:0",
                    "jobGroup": "25",
                    "jobId": 33,
                    "killedTasksSummary": {},
                    "name": "showString at NativeMethodAccessorImpl.java:0",
                    "numActiveStages": 0,
                    "numActiveTasks": 0,
                    "numCompletedIndices": 9,
                    "numCompletedStages": 1,
                    "numCompletedTasks": 9,
                    "numFailedStages": 0,
                    "numFailedTasks": 0,
                    "numKilledTasks": 0,
                    "numSkippedStages": 0,
                    "numSkippedTasks": 0,
                    "numTasks": 9,
                    "rowCount": 869831,
                    "stageIds": [
                      126
                    ],
                    "status": "SUCCEEDED",
                    "submissionTime": "2023-11-20T17:35:13.660GMT",
                    "usageDescription": ""
                  },
                  {
                    "completionTime": "2023-11-20T17:35:24.608GMT",
                    "dataRead": 80719460,
                    "dataWritten": 1914,
                    "description": "Job group for statement 25:\nprint(\"Team Mentions and Sentiment Proportion in Comments\")\ncomments_aggregated.show()",
                    "displayName": "showString at NativeMethodAccessorImpl.java:0",
                    "jobGroup": "25",
                    "jobId": 32,
                    "killedTasksSummary": {},
                    "name": "showString at NativeMethodAccessorImpl.java:0",
                    "numActiveStages": 0,
                    "numActiveTasks": 0,
                    "numCompletedIndices": 9,
                    "numCompletedStages": 1,
                    "numCompletedTasks": 9,
                    "numFailedStages": 0,
                    "numFailedTasks": 0,
                    "numKilledTasks": 0,
                    "numSkippedStages": 0,
                    "numSkippedTasks": 0,
                    "numTasks": 9,
                    "rowCount": 869831,
                    "stageIds": [
                      125
                    ],
                    "status": "SUCCEEDED",
                    "submissionTime": "2023-11-20T17:35:13.503GMT",
                    "usageDescription": ""
                  },
                  {
                    "completionTime": "2023-11-20T17:35:22.703GMT",
                    "dataRead": 80719460,
                    "dataWritten": 1916,
                    "description": "Job group for statement 25:\nprint(\"Team Mentions and Sentiment Proportion in Comments\")\ncomments_aggregated.show()",
                    "displayName": "showString at NativeMethodAccessorImpl.java:0",
                    "jobGroup": "25",
                    "jobId": 31,
                    "killedTasksSummary": {},
                    "name": "showString at NativeMethodAccessorImpl.java:0",
                    "numActiveStages": 0,
                    "numActiveTasks": 0,
                    "numCompletedIndices": 9,
                    "numCompletedStages": 1,
                    "numCompletedTasks": 9,
                    "numFailedStages": 0,
                    "numFailedTasks": 0,
                    "numKilledTasks": 0,
                    "numSkippedStages": 0,
                    "numSkippedTasks": 0,
                    "numTasks": 9,
                    "rowCount": 869831,
                    "stageIds": [
                      124
                    ],
                    "status": "SUCCEEDED",
                    "submissionTime": "2023-11-20T17:35:13.358GMT",
                    "usageDescription": ""
                  },
                  {
                    "completionTime": "2023-11-20T17:35:20.568GMT",
                    "dataRead": 80719460,
                    "dataWritten": 1928,
                    "description": "Job group for statement 25:\nprint(\"Team Mentions and Sentiment Proportion in Comments\")\ncomments_aggregated.show()",
                    "displayName": "showString at NativeMethodAccessorImpl.java:0",
                    "jobGroup": "25",
                    "jobId": 30,
                    "killedTasksSummary": {},
                    "name": "showString at NativeMethodAccessorImpl.java:0",
                    "numActiveStages": 0,
                    "numActiveTasks": 0,
                    "numCompletedIndices": 9,
                    "numCompletedStages": 1,
                    "numCompletedTasks": 9,
                    "numFailedStages": 0,
                    "numFailedTasks": 0,
                    "numKilledTasks": 0,
                    "numSkippedStages": 0,
                    "numSkippedTasks": 0,
                    "numTasks": 9,
                    "rowCount": 869831,
                    "stageIds": [
                      123
                    ],
                    "status": "SUCCEEDED",
                    "submissionTime": "2023-11-20T17:35:13.135GMT",
                    "usageDescription": ""
                  },
                  {
                    "completionTime": "2023-11-20T17:35:18.481GMT",
                    "dataRead": 80719460,
                    "dataWritten": 1926,
                    "description": "Job group for statement 25:\nprint(\"Team Mentions and Sentiment Proportion in Comments\")\ncomments_aggregated.show()",
                    "displayName": "showString at NativeMethodAccessorImpl.java:0",
                    "jobGroup": "25",
                    "jobId": 29,
                    "killedTasksSummary": {},
                    "name": "showString at NativeMethodAccessorImpl.java:0",
                    "numActiveStages": 0,
                    "numActiveTasks": 0,
                    "numCompletedIndices": 9,
                    "numCompletedStages": 1,
                    "numCompletedTasks": 9,
                    "numFailedStages": 0,
                    "numFailedTasks": 0,
                    "numKilledTasks": 0,
                    "numSkippedStages": 0,
                    "numSkippedTasks": 0,
                    "numTasks": 9,
                    "rowCount": 869831,
                    "stageIds": [
                      122
                    ],
                    "status": "SUCCEEDED",
                    "submissionTime": "2023-11-20T17:35:13.005GMT",
                    "usageDescription": ""
                  },
                  {
                    "completionTime": "2023-11-20T17:35:16.505GMT",
                    "dataRead": 80750131,
                    "dataWritten": 1920,
                    "description": "Job group for statement 25:\nprint(\"Team Mentions and Sentiment Proportion in Comments\")\ncomments_aggregated.show()",
                    "displayName": "showString at NativeMethodAccessorImpl.java:0",
                    "jobGroup": "25",
                    "jobId": 28,
                    "killedTasksSummary": {},
                    "name": "showString at NativeMethodAccessorImpl.java:0",
                    "numActiveStages": 0,
                    "numActiveTasks": 0,
                    "numCompletedIndices": 9,
                    "numCompletedStages": 1,
                    "numCompletedTasks": 9,
                    "numFailedStages": 0,
                    "numFailedTasks": 0,
                    "numKilledTasks": 0,
                    "numSkippedStages": 0,
                    "numSkippedTasks": 0,
                    "numTasks": 9,
                    "rowCount": 869831,
                    "stageIds": [
                      121
                    ],
                    "status": "SUCCEEDED",
                    "submissionTime": "2023-11-20T17:35:12.855GMT",
                    "usageDescription": ""
                  }
                ],
                "limit": 20,
                "numbers": {
                  "FAILED": 0,
                  "RUNNING": 0,
                  "SUCCEEDED": 19,
                  "UNKNOWN": 0
                },
                "rule": "ALL_DESC"
              },
              "spark_pool": "7c27951d-2bdf-4140-be82-d0dc0c0e7d8e",
              "state": "finished",
              "statement_id": 25
            },
            "text/plain": [
              "StatementMeta(7c27951d-2bdf-4140-be82-d0dc0c0e7d8e, 51, 25, Finished, Available)"
            ]
          },
          "metadata": {},
          "output_type": "display_data"
        },
        {
          "name": "stdout",
          "output_type": "stream",
          "text": [
            "Team Mentions and Sentiment Proportion in Comments\n",
            "+---------+-------+------+---------+----+--------+------------+--------------+-----+------+--------+\n",
            "|sentiment|houston|kansas|villanova|duke|arkansas|saint peters|north carolina|miami|purdue|illinois|\n",
            "+---------+-------+------+---------+----+--------+------------+--------------+-----+------+--------+\n",
            "| negative|   1347|  3612|     2233|1111|     237|         359|          6283|19138| 15274|     253|\n",
            "|  neutral|    190|   494|      307| 158|      41|          39|           849| 2428|  1908|      29|\n",
            "| positive|   2518|  5109|     3573|1865|     462|         786|         11905|31182| 25010|     361|\n",
            "+---------+-------+------+---------+----+--------+------------+--------------+-----+------+--------+\n",
            "\n"
          ]
        }
      ],
      "source": [
        "print(\"Team Mentions and Sentiment Proportion in Comments\")\n",
        "comments_aggregated.show()"
      ]
    },
    {
      "cell_type": "code",
      "execution_count": 23,
      "metadata": {
        "gather": {
          "logged": 1700501888047
        },
        "jupyter": {
          "outputs_hidden": false,
          "source_hidden": false
        },
        "nteract": {
          "transient": {
            "deleting": false
          }
        }
      },
      "outputs": [
        {
          "data": {
            "application/vnd.livy.statement-meta+json": {
              "execution_finish_time": "2023-11-20T17:38:07.8432497Z",
              "execution_start_time": "2023-11-20T17:37:39.9220155Z",
              "livy_statement_state": "available",
              "parent_msg_id": "1b2979bb-47b5-446e-8a2d-5d015dce8c11",
              "queued_time": "2023-11-20T17:37:39.8210623Z",
              "session_id": "51",
              "session_start_time": null,
              "spark_jobs": {
                "jobs": [
                  {
                    "completionTime": "2023-11-20T17:38:05.650GMT",
                    "dataRead": 2250,
                    "dataWritten": 0,
                    "description": "Job group for statement 28:\n# Convert the Spark DataFrame to a Pandas DataFrame\nsubmissions_aggregated_pd = submissions_aggregated.toPandas()\ncomments_aggregated_pd = comments_aggregated.toPandas()",
                    "displayName": "toPandas at /tmp/ipykernel_8085/249865643.py:3",
                    "jobGroup": "28",
                    "jobId": 86,
                    "killedTasksSummary": {},
                    "name": "toPandas at /tmp/ipykernel_8085/249865643.py:3",
                    "numActiveStages": 0,
                    "numActiveTasks": 0,
                    "numCompletedIndices": 1,
                    "numCompletedStages": 1,
                    "numCompletedTasks": 1,
                    "numFailedStages": 0,
                    "numFailedTasks": 0,
                    "numKilledTasks": 0,
                    "numSkippedStages": 18,
                    "numSkippedTasks": 98,
                    "numTasks": 99,
                    "rowCount": 30,
                    "stageIds": [
                      437,
                      444,
                      438,
                      445,
                      446,
                      432,
                      447,
                      439,
                      433,
                      440,
                      441,
                      448,
                      442,
                      434,
                      449,
                      443,
                      435,
                      450,
                      436
                    ],
                    "status": "SUCCEEDED",
                    "submissionTime": "2023-11-20T17:38:05.551GMT",
                    "usageDescription": ""
                  },
                  {
                    "completionTime": "2023-11-20T17:38:05.479GMT",
                    "dataRead": 2256,
                    "dataWritten": 336,
                    "description": "Job group for statement 28:\n# Convert the Spark DataFrame to a Pandas DataFrame\nsubmissions_aggregated_pd = submissions_aggregated.toPandas()\ncomments_aggregated_pd = comments_aggregated.toPandas()",
                    "displayName": "toPandas at /tmp/ipykernel_8085/249865643.py:3",
                    "jobGroup": "28",
                    "jobId": 85,
                    "killedTasksSummary": {},
                    "name": "toPandas at /tmp/ipykernel_8085/249865643.py:3",
                    "numActiveStages": 0,
                    "numActiveTasks": 0,
                    "numCompletedIndices": 1,
                    "numCompletedStages": 1,
                    "numCompletedTasks": 1,
                    "numFailedStages": 0,
                    "numFailedTasks": 0,
                    "numKilledTasks": 0,
                    "numSkippedStages": 16,
                    "numSkippedTasks": 88,
                    "numTasks": 89,
                    "rowCount": 33,
                    "stageIds": [
                      422,
                      423,
                      430,
                      424,
                      416,
                      431,
                      417,
                      418,
                      425,
                      419,
                      426,
                      420,
                      427,
                      428,
                      429,
                      421,
                      415
                    ],
                    "status": "SUCCEEDED",
                    "submissionTime": "2023-11-20T17:38:05.379GMT",
                    "usageDescription": ""
                  },
                  {
                    "completionTime": "2023-11-20T17:38:05.283GMT",
                    "dataRead": 2244,
                    "dataWritten": 319,
                    "description": "Job group for statement 28:\n# Convert the Spark DataFrame to a Pandas DataFrame\nsubmissions_aggregated_pd = submissions_aggregated.toPandas()\ncomments_aggregated_pd = comments_aggregated.toPandas()",
                    "displayName": "toPandas at /tmp/ipykernel_8085/249865643.py:3",
                    "jobGroup": "28",
                    "jobId": 84,
                    "killedTasksSummary": {},
                    "name": "toPandas at /tmp/ipykernel_8085/249865643.py:3",
                    "numActiveStages": 0,
                    "numActiveTasks": 0,
                    "numCompletedIndices": 1,
                    "numCompletedStages": 1,
                    "numCompletedTasks": 1,
                    "numFailedStages": 0,
                    "numFailedTasks": 0,
                    "numKilledTasks": 0,
                    "numSkippedStages": 14,
                    "numSkippedTasks": 78,
                    "numTasks": 79,
                    "rowCount": 33,
                    "stageIds": [
                      407,
                      401,
                      408,
                      409,
                      410,
                      402,
                      403,
                      404,
                      411,
                      405,
                      412,
                      406,
                      413,
                      414,
                      400
                    ],
                    "status": "SUCCEEDED",
                    "submissionTime": "2023-11-20T17:38:05.185GMT",
                    "usageDescription": ""
                  },
                  {
                    "completionTime": "2023-11-20T17:38:05.036GMT",
                    "dataRead": 2221,
                    "dataWritten": 304,
                    "description": "Job group for statement 28:\n# Convert the Spark DataFrame to a Pandas DataFrame\nsubmissions_aggregated_pd = submissions_aggregated.toPandas()\ncomments_aggregated_pd = comments_aggregated.toPandas()",
                    "displayName": "toPandas at /tmp/ipykernel_8085/249865643.py:3",
                    "jobGroup": "28",
                    "jobId": 83,
                    "killedTasksSummary": {},
                    "name": "toPandas at /tmp/ipykernel_8085/249865643.py:3",
                    "numActiveStages": 0,
                    "numActiveTasks": 0,
                    "numCompletedIndices": 1,
                    "numCompletedStages": 1,
                    "numCompletedTasks": 1,
                    "numFailedStages": 0,
                    "numFailedTasks": 0,
                    "numKilledTasks": 0,
                    "numSkippedStages": 12,
                    "numSkippedTasks": 68,
                    "numTasks": 69,
                    "rowCount": 33,
                    "stageIds": [
                      389,
                      393,
                      390,
                      387,
                      397,
                      394,
                      391,
                      398,
                      395,
                      392,
                      399,
                      396,
                      388
                    ],
                    "status": "SUCCEEDED",
                    "submissionTime": "2023-11-20T17:38:04.971GMT",
                    "usageDescription": ""
                  },
                  {
                    "completionTime": "2023-11-20T17:38:04.792GMT",
                    "dataRead": 2188,
                    "dataWritten": 289,
                    "description": "Job group for statement 28:\n# Convert the Spark DataFrame to a Pandas DataFrame\nsubmissions_aggregated_pd = submissions_aggregated.toPandas()\ncomments_aggregated_pd = comments_aggregated.toPandas()",
                    "displayName": "toPandas at /tmp/ipykernel_8085/249865643.py:3",
                    "jobGroup": "28",
                    "jobId": 82,
                    "killedTasksSummary": {},
                    "name": "toPandas at /tmp/ipykernel_8085/249865643.py:3",
                    "numActiveStages": 0,
                    "numActiveTasks": 0,
                    "numCompletedIndices": 1,
                    "numCompletedStages": 1,
                    "numCompletedTasks": 1,
                    "numFailedStages": 0,
                    "numFailedTasks": 0,
                    "numKilledTasks": 0,
                    "numSkippedStages": 10,
                    "numSkippedTasks": 58,
                    "numTasks": 59,
                    "rowCount": 33,
                    "stageIds": [
                      386,
                      383,
                      379,
                      376,
                      380,
                      377,
                      384,
                      381,
                      378,
                      385,
                      382
                    ],
                    "status": "SUCCEEDED",
                    "submissionTime": "2023-11-20T17:38:04.707GMT",
                    "usageDescription": ""
                  },
                  {
                    "completionTime": "2023-11-20T17:38:04.609GMT",
                    "dataRead": 2175,
                    "dataWritten": 275,
                    "description": "Job group for statement 28:\n# Convert the Spark DataFrame to a Pandas DataFrame\nsubmissions_aggregated_pd = submissions_aggregated.toPandas()\ncomments_aggregated_pd = comments_aggregated.toPandas()",
                    "displayName": "toPandas at /tmp/ipykernel_8085/249865643.py:3",
                    "jobGroup": "28",
                    "jobId": 81,
                    "killedTasksSummary": {},
                    "name": "toPandas at /tmp/ipykernel_8085/249865643.py:3",
                    "numActiveStages": 0,
                    "numActiveTasks": 0,
                    "numCompletedIndices": 1,
                    "numCompletedStages": 1,
                    "numCompletedTasks": 1,
                    "numFailedStages": 0,
                    "numFailedTasks": 0,
                    "numKilledTasks": 0,
                    "numSkippedStages": 8,
                    "numSkippedTasks": 48,
                    "numTasks": 49,
                    "rowCount": 33,
                    "stageIds": [
                      374,
                      371,
                      368,
                      375,
                      372,
                      369,
                      373,
                      370,
                      367
                    ],
                    "status": "SUCCEEDED",
                    "submissionTime": "2023-11-20T17:38:04.516GMT",
                    "usageDescription": ""
                  },
                  {
                    "completionTime": "2023-11-20T17:38:04.423GMT",
                    "dataRead": 2161,
                    "dataWritten": 261,
                    "description": "Job group for statement 28:\n# Convert the Spark DataFrame to a Pandas DataFrame\nsubmissions_aggregated_pd = submissions_aggregated.toPandas()\ncomments_aggregated_pd = comments_aggregated.toPandas()",
                    "displayName": "toPandas at /tmp/ipykernel_8085/249865643.py:3",
                    "jobGroup": "28",
                    "jobId": 80,
                    "killedTasksSummary": {},
                    "name": "toPandas at /tmp/ipykernel_8085/249865643.py:3",
                    "numActiveStages": 0,
                    "numActiveTasks": 0,
                    "numCompletedIndices": 1,
                    "numCompletedStages": 1,
                    "numCompletedTasks": 1,
                    "numFailedStages": 0,
                    "numFailedTasks": 0,
                    "numKilledTasks": 0,
                    "numSkippedStages": 6,
                    "numSkippedTasks": 38,
                    "numTasks": 39,
                    "rowCount": 33,
                    "stageIds": [
                      361,
                      365,
                      362,
                      366,
                      363,
                      360,
                      364
                    ],
                    "status": "SUCCEEDED",
                    "submissionTime": "2023-11-20T17:38:04.352GMT",
                    "usageDescription": ""
                  },
                  {
                    "completionTime": "2023-11-20T17:38:04.292GMT",
                    "dataRead": 2158,
                    "dataWritten": 245,
                    "description": "Job group for statement 28:\n# Convert the Spark DataFrame to a Pandas DataFrame\nsubmissions_aggregated_pd = submissions_aggregated.toPandas()\ncomments_aggregated_pd = comments_aggregated.toPandas()",
                    "displayName": "toPandas at /tmp/ipykernel_8085/249865643.py:3",
                    "jobGroup": "28",
                    "jobId": 79,
                    "killedTasksSummary": {},
                    "name": "toPandas at /tmp/ipykernel_8085/249865643.py:3",
                    "numActiveStages": 0,
                    "numActiveTasks": 0,
                    "numCompletedIndices": 1,
                    "numCompletedStages": 1,
                    "numCompletedTasks": 1,
                    "numFailedStages": 0,
                    "numFailedTasks": 0,
                    "numKilledTasks": 0,
                    "numSkippedStages": 4,
                    "numSkippedTasks": 28,
                    "numTasks": 29,
                    "rowCount": 33,
                    "stageIds": [
                      356,
                      357,
                      358,
                      355,
                      359
                    ],
                    "status": "SUCCEEDED",
                    "submissionTime": "2023-11-20T17:38:04.170GMT",
                    "usageDescription": ""
                  },
                  {
                    "completionTime": "2023-11-20T17:38:04.109GMT",
                    "dataRead": 3846,
                    "dataWritten": 230,
                    "description": "Job group for statement 28:\n# Convert the Spark DataFrame to a Pandas DataFrame\nsubmissions_aggregated_pd = submissions_aggregated.toPandas()\ncomments_aggregated_pd = comments_aggregated.toPandas()",
                    "displayName": "toPandas at /tmp/ipykernel_8085/249865643.py:3",
                    "jobGroup": "28",
                    "jobId": 78,
                    "killedTasksSummary": {},
                    "name": "toPandas at /tmp/ipykernel_8085/249865643.py:3",
                    "numActiveStages": 0,
                    "numActiveTasks": 0,
                    "numCompletedIndices": 1,
                    "numCompletedStages": 1,
                    "numCompletedTasks": 1,
                    "numFailedStages": 0,
                    "numFailedTasks": 0,
                    "numKilledTasks": 0,
                    "numSkippedStages": 2,
                    "numSkippedTasks": 18,
                    "numTasks": 19,
                    "rowCount": 57,
                    "stageIds": [
                      353,
                      354,
                      352
                    ],
                    "status": "SUCCEEDED",
                    "submissionTime": "2023-11-20T17:37:49.370GMT",
                    "usageDescription": ""
                  },
                  {
                    "completionTime": "2023-11-20T17:38:04.539GMT",
                    "dataRead": 80719460,
                    "dataWritten": 1914,
                    "description": "Job group for statement 28:\n# Convert the Spark DataFrame to a Pandas DataFrame\nsubmissions_aggregated_pd = submissions_aggregated.toPandas()\ncomments_aggregated_pd = comments_aggregated.toPandas()",
                    "displayName": "toPandas at /tmp/ipykernel_8085/249865643.py:3",
                    "jobGroup": "28",
                    "jobId": 77,
                    "killedTasksSummary": {},
                    "name": "toPandas at /tmp/ipykernel_8085/249865643.py:3",
                    "numActiveStages": 0,
                    "numActiveTasks": 0,
                    "numCompletedIndices": 9,
                    "numCompletedStages": 1,
                    "numCompletedTasks": 9,
                    "numFailedStages": 0,
                    "numFailedTasks": 0,
                    "numKilledTasks": 0,
                    "numSkippedStages": 0,
                    "numSkippedTasks": 0,
                    "numTasks": 9,
                    "rowCount": 869831,
                    "stageIds": [
                      351
                    ],
                    "status": "SUCCEEDED",
                    "submissionTime": "2023-11-20T17:37:45.815GMT",
                    "usageDescription": ""
                  },
                  {
                    "completionTime": "2023-11-20T17:38:02.753GMT",
                    "dataRead": 80719460,
                    "dataWritten": 1937,
                    "description": "Job group for statement 28:\n# Convert the Spark DataFrame to a Pandas DataFrame\nsubmissions_aggregated_pd = submissions_aggregated.toPandas()\ncomments_aggregated_pd = comments_aggregated.toPandas()",
                    "displayName": "toPandas at /tmp/ipykernel_8085/249865643.py:3",
                    "jobGroup": "28",
                    "jobId": 76,
                    "killedTasksSummary": {},
                    "name": "toPandas at /tmp/ipykernel_8085/249865643.py:3",
                    "numActiveStages": 0,
                    "numActiveTasks": 0,
                    "numCompletedIndices": 9,
                    "numCompletedStages": 1,
                    "numCompletedTasks": 9,
                    "numFailedStages": 0,
                    "numFailedTasks": 0,
                    "numKilledTasks": 0,
                    "numSkippedStages": 0,
                    "numSkippedTasks": 0,
                    "numTasks": 9,
                    "rowCount": 869831,
                    "stageIds": [
                      350
                    ],
                    "status": "SUCCEEDED",
                    "submissionTime": "2023-11-20T17:37:45.756GMT",
                    "usageDescription": ""
                  },
                  {
                    "completionTime": "2023-11-20T17:38:00.975GMT",
                    "dataRead": 80719460,
                    "dataWritten": 1940,
                    "description": "Job group for statement 28:\n# Convert the Spark DataFrame to a Pandas DataFrame\nsubmissions_aggregated_pd = submissions_aggregated.toPandas()\ncomments_aggregated_pd = comments_aggregated.toPandas()",
                    "displayName": "toPandas at /tmp/ipykernel_8085/249865643.py:3",
                    "jobGroup": "28",
                    "jobId": 75,
                    "killedTasksSummary": {},
                    "name": "toPandas at /tmp/ipykernel_8085/249865643.py:3",
                    "numActiveStages": 0,
                    "numActiveTasks": 0,
                    "numCompletedIndices": 9,
                    "numCompletedStages": 1,
                    "numCompletedTasks": 9,
                    "numFailedStages": 0,
                    "numFailedTasks": 0,
                    "numKilledTasks": 0,
                    "numSkippedStages": 0,
                    "numSkippedTasks": 0,
                    "numTasks": 9,
                    "rowCount": 869831,
                    "stageIds": [
                      349
                    ],
                    "status": "SUCCEEDED",
                    "submissionTime": "2023-11-20T17:37:45.626GMT",
                    "usageDescription": ""
                  },
                  {
                    "completionTime": "2023-11-20T17:37:59.056GMT",
                    "dataRead": 80719460,
                    "dataWritten": 1932,
                    "description": "Job group for statement 28:\n# Convert the Spark DataFrame to a Pandas DataFrame\nsubmissions_aggregated_pd = submissions_aggregated.toPandas()\ncomments_aggregated_pd = comments_aggregated.toPandas()",
                    "displayName": "toPandas at /tmp/ipykernel_8085/249865643.py:3",
                    "jobGroup": "28",
                    "jobId": 74,
                    "killedTasksSummary": {},
                    "name": "toPandas at /tmp/ipykernel_8085/249865643.py:3",
                    "numActiveStages": 0,
                    "numActiveTasks": 0,
                    "numCompletedIndices": 9,
                    "numCompletedStages": 1,
                    "numCompletedTasks": 9,
                    "numFailedStages": 0,
                    "numFailedTasks": 0,
                    "numKilledTasks": 0,
                    "numSkippedStages": 0,
                    "numSkippedTasks": 0,
                    "numTasks": 9,
                    "rowCount": 869831,
                    "stageIds": [
                      348
                    ],
                    "status": "SUCCEEDED",
                    "submissionTime": "2023-11-20T17:37:45.557GMT",
                    "usageDescription": ""
                  },
                  {
                    "completionTime": "2023-11-20T17:37:58.370GMT",
                    "dataRead": 80719460,
                    "dataWritten": 1913,
                    "description": "Job group for statement 28:\n# Convert the Spark DataFrame to a Pandas DataFrame\nsubmissions_aggregated_pd = submissions_aggregated.toPandas()\ncomments_aggregated_pd = comments_aggregated.toPandas()",
                    "displayName": "toPandas at /tmp/ipykernel_8085/249865643.py:3",
                    "jobGroup": "28",
                    "jobId": 73,
                    "killedTasksSummary": {},
                    "name": "toPandas at /tmp/ipykernel_8085/249865643.py:3",
                    "numActiveStages": 0,
                    "numActiveTasks": 0,
                    "numCompletedIndices": 9,
                    "numCompletedStages": 1,
                    "numCompletedTasks": 9,
                    "numFailedStages": 0,
                    "numFailedTasks": 0,
                    "numKilledTasks": 0,
                    "numSkippedStages": 0,
                    "numSkippedTasks": 0,
                    "numTasks": 9,
                    "rowCount": 869831,
                    "stageIds": [
                      347
                    ],
                    "status": "SUCCEEDED",
                    "submissionTime": "2023-11-20T17:37:45.507GMT",
                    "usageDescription": ""
                  },
                  {
                    "completionTime": "2023-11-20T17:37:55.341GMT",
                    "dataRead": 80719460,
                    "dataWritten": 1914,
                    "description": "Job group for statement 28:\n# Convert the Spark DataFrame to a Pandas DataFrame\nsubmissions_aggregated_pd = submissions_aggregated.toPandas()\ncomments_aggregated_pd = comments_aggregated.toPandas()",
                    "displayName": "toPandas at /tmp/ipykernel_8085/249865643.py:3",
                    "jobGroup": "28",
                    "jobId": 72,
                    "killedTasksSummary": {},
                    "name": "toPandas at /tmp/ipykernel_8085/249865643.py:3",
                    "numActiveStages": 0,
                    "numActiveTasks": 0,
                    "numCompletedIndices": 9,
                    "numCompletedStages": 1,
                    "numCompletedTasks": 9,
                    "numFailedStages": 0,
                    "numFailedTasks": 0,
                    "numKilledTasks": 0,
                    "numSkippedStages": 0,
                    "numSkippedTasks": 0,
                    "numTasks": 9,
                    "rowCount": 869831,
                    "stageIds": [
                      346
                    ],
                    "status": "SUCCEEDED",
                    "submissionTime": "2023-11-20T17:37:45.443GMT",
                    "usageDescription": ""
                  },
                  {
                    "completionTime": "2023-11-20T17:37:53.026GMT",
                    "dataRead": 80719460,
                    "dataWritten": 1916,
                    "description": "Job group for statement 28:\n# Convert the Spark DataFrame to a Pandas DataFrame\nsubmissions_aggregated_pd = submissions_aggregated.toPandas()\ncomments_aggregated_pd = comments_aggregated.toPandas()",
                    "displayName": "toPandas at /tmp/ipykernel_8085/249865643.py:3",
                    "jobGroup": "28",
                    "jobId": 71,
                    "killedTasksSummary": {},
                    "name": "toPandas at /tmp/ipykernel_8085/249865643.py:3",
                    "numActiveStages": 0,
                    "numActiveTasks": 0,
                    "numCompletedIndices": 9,
                    "numCompletedStages": 1,
                    "numCompletedTasks": 9,
                    "numFailedStages": 0,
                    "numFailedTasks": 0,
                    "numKilledTasks": 0,
                    "numSkippedStages": 0,
                    "numSkippedTasks": 0,
                    "numTasks": 9,
                    "rowCount": 869831,
                    "stageIds": [
                      345
                    ],
                    "status": "SUCCEEDED",
                    "submissionTime": "2023-11-20T17:37:45.385GMT",
                    "usageDescription": ""
                  },
                  {
                    "completionTime": "2023-11-20T17:37:51.566GMT",
                    "dataRead": 80719460,
                    "dataWritten": 1928,
                    "description": "Job group for statement 28:\n# Convert the Spark DataFrame to a Pandas DataFrame\nsubmissions_aggregated_pd = submissions_aggregated.toPandas()\ncomments_aggregated_pd = comments_aggregated.toPandas()",
                    "displayName": "toPandas at /tmp/ipykernel_8085/249865643.py:3",
                    "jobGroup": "28",
                    "jobId": 70,
                    "killedTasksSummary": {},
                    "name": "toPandas at /tmp/ipykernel_8085/249865643.py:3",
                    "numActiveStages": 0,
                    "numActiveTasks": 0,
                    "numCompletedIndices": 9,
                    "numCompletedStages": 1,
                    "numCompletedTasks": 9,
                    "numFailedStages": 0,
                    "numFailedTasks": 0,
                    "numKilledTasks": 0,
                    "numSkippedStages": 0,
                    "numSkippedTasks": 0,
                    "numTasks": 9,
                    "rowCount": 869831,
                    "stageIds": [
                      344
                    ],
                    "status": "SUCCEEDED",
                    "submissionTime": "2023-11-20T17:37:45.319GMT",
                    "usageDescription": ""
                  },
                  {
                    "completionTime": "2023-11-20T17:37:49.266GMT",
                    "dataRead": 80719460,
                    "dataWritten": 1926,
                    "description": "Job group for statement 28:\n# Convert the Spark DataFrame to a Pandas DataFrame\nsubmissions_aggregated_pd = submissions_aggregated.toPandas()\ncomments_aggregated_pd = comments_aggregated.toPandas()",
                    "displayName": "toPandas at /tmp/ipykernel_8085/249865643.py:3",
                    "jobGroup": "28",
                    "jobId": 69,
                    "killedTasksSummary": {},
                    "name": "toPandas at /tmp/ipykernel_8085/249865643.py:3",
                    "numActiveStages": 0,
                    "numActiveTasks": 0,
                    "numCompletedIndices": 9,
                    "numCompletedStages": 1,
                    "numCompletedTasks": 9,
                    "numFailedStages": 0,
                    "numFailedTasks": 0,
                    "numKilledTasks": 0,
                    "numSkippedStages": 0,
                    "numSkippedTasks": 0,
                    "numTasks": 9,
                    "rowCount": 869831,
                    "stageIds": [
                      343
                    ],
                    "status": "SUCCEEDED",
                    "submissionTime": "2023-11-20T17:37:45.259GMT",
                    "usageDescription": ""
                  },
                  {
                    "completionTime": "2023-11-20T17:37:48.419GMT",
                    "dataRead": 80719460,
                    "dataWritten": 1920,
                    "description": "Job group for statement 28:\n# Convert the Spark DataFrame to a Pandas DataFrame\nsubmissions_aggregated_pd = submissions_aggregated.toPandas()\ncomments_aggregated_pd = comments_aggregated.toPandas()",
                    "displayName": "toPandas at /tmp/ipykernel_8085/249865643.py:3",
                    "jobGroup": "28",
                    "jobId": 68,
                    "killedTasksSummary": {},
                    "name": "toPandas at /tmp/ipykernel_8085/249865643.py:3",
                    "numActiveStages": 0,
                    "numActiveTasks": 0,
                    "numCompletedIndices": 9,
                    "numCompletedStages": 1,
                    "numCompletedTasks": 9,
                    "numFailedStages": 0,
                    "numFailedTasks": 0,
                    "numKilledTasks": 0,
                    "numSkippedStages": 0,
                    "numSkippedTasks": 0,
                    "numTasks": 9,
                    "rowCount": 869831,
                    "stageIds": [
                      342
                    ],
                    "status": "SUCCEEDED",
                    "submissionTime": "2023-11-20T17:37:45.196GMT",
                    "usageDescription": ""
                  },
                  {
                    "completionTime": "2023-11-20T17:37:44.799GMT",
                    "dataRead": 1579,
                    "dataWritten": 0,
                    "description": "Job group for statement 28:\n# Convert the Spark DataFrame to a Pandas DataFrame\nsubmissions_aggregated_pd = submissions_aggregated.toPandas()\ncomments_aggregated_pd = comments_aggregated.toPandas()",
                    "displayName": "toPandas at /tmp/ipykernel_8085/249865643.py:2",
                    "jobGroup": "28",
                    "jobId": 67,
                    "killedTasksSummary": {},
                    "name": "toPandas at /tmp/ipykernel_8085/249865643.py:2",
                    "numActiveStages": 0,
                    "numActiveTasks": 0,
                    "numCompletedIndices": 1,
                    "numCompletedStages": 1,
                    "numCompletedTasks": 1,
                    "numFailedStages": 0,
                    "numFailedTasks": 0,
                    "numKilledTasks": 0,
                    "numSkippedStages": 18,
                    "numSkippedTasks": 68,
                    "numTasks": 69,
                    "rowCount": 21,
                    "stageIds": [
                      335,
                      336,
                      328,
                      329,
                      323,
                      330,
                      337,
                      331,
                      338,
                      332,
                      324,
                      339,
                      325,
                      340,
                      326,
                      341,
                      333,
                      327,
                      334
                    ],
                    "status": "SUCCEEDED",
                    "submissionTime": "2023-11-20T17:37:43.986GMT",
                    "usageDescription": ""
                  }
                ],
                "limit": 20,
                "numbers": {
                  "FAILED": 0,
                  "RUNNING": 0,
                  "SUCCEEDED": 38,
                  "UNKNOWN": 0
                },
                "rule": "ALL_DESC"
              },
              "spark_pool": "7c27951d-2bdf-4140-be82-d0dc0c0e7d8e",
              "state": "finished",
              "statement_id": 28
            },
            "text/plain": [
              "StatementMeta(7c27951d-2bdf-4140-be82-d0dc0c0e7d8e, 51, 28, Finished, Available)"
            ]
          },
          "metadata": {},
          "output_type": "display_data"
        }
      ],
      "source": [
        "# Convert the Spark DataFrame to a Pandas DataFrame\n",
        "submissions_aggregated_pd = submissions_aggregated.toPandas()\n",
        "comments_aggregated_pd = comments_aggregated.toPandas()"
      ]
    },
    {
      "cell_type": "code",
      "execution_count": 38,
      "metadata": {
        "gather": {
          "logged": 1700503493938
        },
        "jupyter": {
          "outputs_hidden": false,
          "source_hidden": false
        },
        "nteract": {
          "transient": {
            "deleting": false
          }
        }
      },
      "outputs": [
        {
          "data": {
            "application/vnd.livy.statement-meta+json": {
              "execution_finish_time": "2023-11-20T18:04:53.5722271Z",
              "execution_start_time": "2023-11-20T18:04:52.0076776Z",
              "livy_statement_state": "available",
              "parent_msg_id": "908a0e01-fb2b-4bc8-93d5-1cd708de1a3a",
              "queued_time": "2023-11-20T18:04:51.8823701Z",
              "session_id": "51",
              "session_start_time": null,
              "spark_jobs": {
                "jobs": [],
                "limit": 20,
                "numbers": {
                  "FAILED": 0,
                  "RUNNING": 0,
                  "SUCCEEDED": 0,
                  "UNKNOWN": 0
                },
                "rule": "ALL_DESC"
              },
              "spark_pool": "7c27951d-2bdf-4140-be82-d0dc0c0e7d8e",
              "state": "finished",
              "statement_id": 43
            },
            "text/plain": [
              "StatementMeta(7c27951d-2bdf-4140-be82-d0dc0c0e7d8e, 51, 43, Finished, Available)"
            ]
          },
          "metadata": {},
          "output_type": "display_data"
        },
        {
          "data": {
            "image/png": "[encoded data removed]",
            "text/plain": [
              "<Figure size 1152x576 with 1 Axes>"
            ]
          },
          "metadata": {
            "needs_background": "light"
          },
          "output_type": "display_data"
        }
      ],
      "source": [
        "# Calculate the total counts for each team\n",
        "submissions_total_counts = submissions_aggregated_pd.set_index('sentiment').sum()\n",
        "\n",
        "# Calculate proportions\n",
        "submissions_proportions = submissions_aggregated_pd.set_index('sentiment').div(submissions_total_counts)\n",
        "\n",
        "# Plot\n",
        "fig, ax = plt.subplots(figsize=(16, 8))\n",
        "bars = submissions_proportions.T.plot(kind='bar', stacked=True, ax=ax)\n",
        "\n",
        "# Annotate each bar segment with its proportion\n",
        "for bar in bars.containers:\n",
        "    ax.bar_label(bar, fmt='%.2f', label_type='center')\n",
        "\n",
        "ax.set_xlabel('Team')\n",
        "ax.set_ylabel('Proportion of Sentiments')\n",
        "ax.set_title('Sentiment Distribution for Each Team in Submissions')\n",
        "plt.xticks(rotation=45)\n",
        "plt.legend(title='Sentiment')\n",
        "plt.savefig(\"Users/yh706/fall-2023-reddit-project-team-26/data/plots/sentiment_distribution_for_each_team_in_submissions.png\")\n",
        "plt.show()"
      ]
    },
    {
      "cell_type": "code",
      "execution_count": 39,
      "metadata": {
        "gather": {
          "logged": 1700503511152
        },
        "jupyter": {
          "outputs_hidden": false,
          "source_hidden": false
        },
        "nteract": {
          "transient": {
            "deleting": false
          }
        }
      },
      "outputs": [
        {
          "data": {
            "application/vnd.livy.statement-meta+json": {
              "execution_finish_time": "2023-11-20T18:05:10.7540426Z",
              "execution_start_time": "2023-11-20T18:05:09.236954Z",
              "livy_statement_state": "available",
              "parent_msg_id": "8532eba7-5046-4d13-858f-e88a6417adb5",
              "queued_time": "2023-11-20T18:05:09.1346989Z",
              "session_id": "51",
              "session_start_time": null,
              "spark_jobs": {
                "jobs": [],
                "limit": 20,
                "numbers": {
                  "FAILED": 0,
                  "RUNNING": 0,
                  "SUCCEEDED": 0,
                  "UNKNOWN": 0
                },
                "rule": "ALL_DESC"
              },
              "spark_pool": "7c27951d-2bdf-4140-be82-d0dc0c0e7d8e",
              "state": "finished",
              "statement_id": 44
            },
            "text/plain": [
              "StatementMeta(7c27951d-2bdf-4140-be82-d0dc0c0e7d8e, 51, 44, Finished, Available)"
            ]
          },
          "metadata": {},
          "output_type": "display_data"
        },
        {
          "data": {
            "image/png": "[encoded data removed]",
            "text/plain": [
              "<Figure size 1152x576 with 1 Axes>"
            ]
          },
          "metadata": {
            "needs_background": "light"
          },
          "output_type": "display_data"
        }
      ],
      "source": [
        "# Calculate the total counts for each team\n",
        "comments_total_counts = comments_aggregated_pd.set_index('sentiment').sum()\n",
        "\n",
        "# Calculate proportions\n",
        "comments_proportions = comments_aggregated_pd.set_index('sentiment').div(comments_total_counts)\n",
        "\n",
        "# Plot\n",
        "fig, ax = plt.subplots(figsize=(16, 8))\n",
        "bars = comments_proportions.T.plot(kind='bar', stacked=True, ax=ax)\n",
        "\n",
        "# Annotate each bar segment with its proportion\n",
        "for bar in bars.containers:\n",
        "    ax.bar_label(bar, fmt='%.2f', label_type='center')\n",
        "\n",
        "ax.set_xlabel('Team')\n",
        "ax.set_ylabel('Proportion of Sentiments')\n",
        "ax.set_title('Sentiment Distribution for Each Team in Comments')\n",
        "plt.xticks(rotation=45)\n",
        "plt.legend(title='Sentiment')\n",
        "plt.savefig(\"Users/yh706/fall-2023-reddit-project-team-26/data/plots/sentiment_distribution_for_each_team_in_comments.png\")\n",
        "plt.show()"
      ]
    },
    {
      "cell_type": "markdown",
      "metadata": {
        "nteract": {
          "transient": {
            "deleting": false
          }
        }
      },
      "source": [
        "### Daily Mentions and Sentiment Changes and Correlation with Score"
      ]
    },
    {
      "cell_type": "code",
      "execution_count": 9,
      "metadata": {
        "gather": {
          "logged": 1700520796942
        },
        "jupyter": {
          "outputs_hidden": false,
          "source_hidden": false
        },
        "nteract": {
          "transient": {
            "deleting": false
          }
        }
      },
      "outputs": [
        {
          "data": {
            "application/vnd.livy.statement-meta+json": {
              "execution_finish_time": "2023-11-20T22:53:16.2680689Z",
              "execution_start_time": "2023-11-20T22:53:15.4635416Z",
              "livy_statement_state": "available",
              "parent_msg_id": "f92f51c5-aae5-4959-840c-ff0239fbaa04",
              "queued_time": "2023-11-20T22:53:15.31571Z",
              "session_id": "53",
              "session_start_time": null,
              "spark_jobs": {
                "jobs": [],
                "limit": 20,
                "numbers": {
                  "FAILED": 0,
                  "RUNNING": 0,
                  "SUCCEEDED": 0,
                  "UNKNOWN": 0
                },
                "rule": "ALL_DESC"
              },
              "spark_pool": "7c27951d-2bdf-4140-be82-d0dc0c0e7d8e",
              "state": "finished",
              "statement_id": 14
            },
            "text/plain": [
              "StatementMeta(7c27951d-2bdf-4140-be82-d0dc0c0e7d8e, 53, 14, Finished, Available)"
            ]
          },
          "metadata": {},
          "output_type": "display_data"
        }
      ],
      "source": [
        "# Aggregate the daily mention counts for each team and groupby sentiment\n",
        "daily_mentions_comments = comments.groupBy(\n",
        "    year(\"created_utc\").alias(\"year\"),\n",
        "    month(\"created_utc\").alias(\"month\"),\n",
        "    dayofmonth(\"created_utc\").alias(\"day\"),\n",
        "    \"sentiment\"  # Adding sentiment to the grouping\n",
        ").agg(\n",
        "    sql_sum(col('kansas').cast('int')).alias('kansas'),\n",
        "    sql_sum(col('north carolina').cast('int')).alias('north_carolina')\n",
        ")"
      ]
    },
    {
      "cell_type": "code",
      "execution_count": 10,
      "metadata": {
        "gather": {
          "logged": 1700520993910
        },
        "jupyter": {
          "outputs_hidden": false,
          "source_hidden": false
        },
        "nteract": {
          "transient": {
            "deleting": false
          }
        }
      },
      "outputs": [
        {
          "data": {
            "application/vnd.livy.statement-meta+json": {
              "execution_finish_time": "2023-11-20T22:56:33.6277764Z",
              "execution_start_time": "2023-11-20T22:56:04.990005Z",
              "livy_statement_state": "available",
              "parent_msg_id": "a9a819ec-8cb7-4f24-a347-a3c21a0ee4f7",
              "queued_time": "2023-11-20T22:56:04.7692877Z",
              "session_id": "53",
              "session_start_time": null,
              "spark_jobs": {
                "jobs": [
                  {
                    "completionTime": "2023-11-20T22:56:31.300GMT",
                    "dataRead": 252130,
                    "dataWritten": 0,
                    "description": "Job group for statement 15:\n# Convert the Spark DataFrame to a Pandas DataFrame\ndaily_mentions_comments_pd = daily_mentions_comments.toPandas()",
                    "displayName": "toPandas at /tmp/ipykernel_7303/1300789172.py:2",
                    "jobGroup": "15",
                    "jobId": 3,
                    "killedTasksSummary": {},
                    "name": "toPandas at /tmp/ipykernel_7303/1300789172.py:2",
                    "numActiveStages": 0,
                    "numActiveTasks": 0,
                    "numCompletedIndices": 1,
                    "numCompletedStages": 1,
                    "numCompletedTasks": 1,
                    "numFailedStages": 0,
                    "numFailedTasks": 0,
                    "numKilledTasks": 0,
                    "numSkippedStages": 1,
                    "numSkippedTasks": 9,
                    "numTasks": 10,
                    "rowCount": 5739,
                    "stageIds": [
                      3,
                      4
                    ],
                    "status": "SUCCEEDED",
                    "submissionTime": "2023-11-20T22:56:29.790GMT",
                    "usageDescription": ""
                  },
                  {
                    "completionTime": "2023-11-20T22:56:29.603GMT",
                    "dataRead": 87490439,
                    "dataWritten": 252130,
                    "description": "Job group for statement 15:\n# Convert the Spark DataFrame to a Pandas DataFrame\ndaily_mentions_comments_pd = daily_mentions_comments.toPandas()",
                    "displayName": "toPandas at /tmp/ipykernel_7303/1300789172.py:2",
                    "jobGroup": "15",
                    "jobId": 2,
                    "killedTasksSummary": {},
                    "name": "toPandas at /tmp/ipykernel_7303/1300789172.py:2",
                    "numActiveStages": 0,
                    "numActiveTasks": 0,
                    "numCompletedIndices": 9,
                    "numCompletedStages": 1,
                    "numCompletedTasks": 9,
                    "numFailedStages": 0,
                    "numFailedTasks": 0,
                    "numKilledTasks": 0,
                    "numSkippedStages": 0,
                    "numSkippedTasks": 0,
                    "numTasks": 9,
                    "rowCount": 875543,
                    "stageIds": [
                      2
                    ],
                    "status": "SUCCEEDED",
                    "submissionTime": "2023-11-20T22:56:09.820GMT",
                    "usageDescription": ""
                  }
                ],
                "limit": 20,
                "numbers": {
                  "FAILED": 0,
                  "RUNNING": 0,
                  "SUCCEEDED": 2,
                  "UNKNOWN": 0
                },
                "rule": "ALL_DESC"
              },
              "spark_pool": "7c27951d-2bdf-4140-be82-d0dc0c0e7d8e",
              "state": "finished",
              "statement_id": 15
            },
            "text/plain": [
              "StatementMeta(7c27951d-2bdf-4140-be82-d0dc0c0e7d8e, 53, 15, Finished, Available)"
            ]
          },
          "metadata": {},
          "output_type": "display_data"
        }
      ],
      "source": [
        "# Convert the Spark DataFrame to a Pandas DataFrame\n",
        "daily_mentions_comments_pd = daily_mentions_comments.toPandas()"
      ]
    },
    {
      "cell_type": "code",
      "execution_count": 49,
      "metadata": {
        "gather": {
          "logged": 1700512900829
        },
        "jupyter": {
          "outputs_hidden": false,
          "source_hidden": false
        },
        "nteract": {
          "transient": {
            "deleting": false
          }
        }
      },
      "outputs": [
        {
          "data": {
            "application/vnd.livy.statement-meta+json": {
              "execution_finish_time": "2023-11-20T20:41:40.3972231Z",
              "execution_start_time": "2023-11-20T20:41:40.1068947Z",
              "livy_statement_state": "available",
              "parent_msg_id": "584d0710-6b6a-4fc1-8600-c11164a9fe0e",
              "queued_time": "2023-11-20T20:41:40.0003314Z",
              "session_id": "52",
              "session_start_time": null,
              "spark_jobs": {
                "jobs": [],
                "limit": 20,
                "numbers": {
                  "FAILED": 0,
                  "RUNNING": 0,
                  "SUCCEEDED": 0,
                  "UNKNOWN": 0
                },
                "rule": "ALL_DESC"
              },
              "spark_pool": "7c27951d-2bdf-4140-be82-d0dc0c0e7d8e",
              "state": "finished",
              "statement_id": 54
            },
            "text/plain": [
              "StatementMeta(7c27951d-2bdf-4140-be82-d0dc0c0e7d8e, 52, 54, Finished, Available)"
            ]
          },
          "metadata": {},
          "output_type": "display_data"
        },
        {
          "data": {
            "text/plain": [
              "year               int32\n",
              "month              int32\n",
              "day                int32\n",
              "sentiment         object\n",
              "kansas             int64\n",
              "north_carolina     int64\n",
              "dtype: object"
            ]
          },
          "execution_count": 107,
          "metadata": {},
          "output_type": "execute_result"
        }
      ],
      "source": [
        "daily_mentions_comments_pd.dtypes"
      ]
    },
    {
      "cell_type": "code",
      "execution_count": 11,
      "metadata": {
        "gather": {
          "logged": 1700521018709
        },
        "jupyter": {
          "outputs_hidden": false,
          "source_hidden": false
        },
        "nteract": {
          "transient": {
            "deleting": false
          }
        }
      },
      "outputs": [
        {
          "data": {
            "application/vnd.livy.statement-meta+json": {
              "execution_finish_time": "2023-11-20T22:56:58.5180069Z",
              "execution_start_time": "2023-11-20T22:56:56.2592601Z",
              "livy_statement_state": "available",
              "parent_msg_id": "5c57bdf8-47d2-49f9-bdc9-779d9418c860",
              "queued_time": "2023-11-20T22:56:56.0015578Z",
              "session_id": "53",
              "session_start_time": null,
              "spark_jobs": {
                "jobs": [],
                "limit": 20,
                "numbers": {
                  "FAILED": 0,
                  "RUNNING": 0,
                  "SUCCEEDED": 0,
                  "UNKNOWN": 0
                },
                "rule": "ALL_DESC"
              },
              "spark_pool": "7c27951d-2bdf-4140-be82-d0dc0c0e7d8e",
              "state": "finished",
              "statement_id": 16
            },
            "text/plain": [
              "StatementMeta(7c27951d-2bdf-4140-be82-d0dc0c0e7d8e, 53, 16, Finished, Available)"
            ]
          },
          "metadata": {},
          "output_type": "display_data"
        }
      ],
      "source": [
        "url_kansas = 'https://www.sports-reference.com/cbb/schools/kansas/men/2022-schedule.html'\n",
        "kansas_schedule = pd.read_html(url_kansas, header=0)[1]\n",
        "kansas_schedule = kansas_schedule[~kansas_schedule['Date'].str.contains('date', case=False, na=False)]\n",
        "columns_keep = ['Date', 'Opponent', 'Unnamed: 8', 'Tm', 'Opp', 'OT', 'W', 'L', 'Streak']\n",
        "kansas_schedule = kansas_schedule[columns_keep]"
      ]
    },
    {
      "cell_type": "code",
      "execution_count": 12,
      "metadata": {
        "gather": {
          "logged": 1700521022298
        },
        "jupyter": {
          "outputs_hidden": false,
          "source_hidden": false
        },
        "nteract": {
          "transient": {
            "deleting": false
          }
        }
      },
      "outputs": [
        {
          "data": {
            "application/vnd.livy.statement-meta+json": {
              "execution_finish_time": "2023-11-20T22:57:02.086956Z",
              "execution_start_time": "2023-11-20T22:57:01.7901735Z",
              "livy_statement_state": "available",
              "parent_msg_id": "57c45ef9-1147-44d9-9dec-1c0c8c1187ec",
              "queued_time": "2023-11-20T22:57:01.6813638Z",
              "session_id": "53",
              "session_start_time": null,
              "spark_jobs": {
                "jobs": [],
                "limit": 20,
                "numbers": {
                  "FAILED": 0,
                  "RUNNING": 0,
                  "SUCCEEDED": 0,
                  "UNKNOWN": 0
                },
                "rule": "ALL_DESC"
              },
              "spark_pool": "7c27951d-2bdf-4140-be82-d0dc0c0e7d8e",
              "state": "finished",
              "statement_id": 17
            },
            "text/plain": [
              "StatementMeta(7c27951d-2bdf-4140-be82-d0dc0c0e7d8e, 53, 17, Finished, Available)"
            ]
          },
          "metadata": {},
          "output_type": "display_data"
        }
      ],
      "source": [
        "# Convert 'Tm' and 'Opp' columns to integers\n",
        "kansas_schedule['Tm'] = pd.to_numeric(kansas_schedule['Tm'], errors='coerce')\n",
        "kansas_schedule['Opp'] = pd.to_numeric(kansas_schedule['Opp'], errors='coerce')\n",
        "\n",
        "# Create the 'score' column\n",
        "kansas_schedule['score'] = kansas_schedule['Tm'] - kansas_schedule['Opp']\n",
        "\n",
        "# Convert 'Date' column to datetime format with specific format string\n",
        "kansas_schedule['Date'] = pd.to_datetime(kansas_schedule['Date'], format='%a, %b %d, %Y')\n",
        "\n",
        "# Extract year, month, and day\n",
        "kansas_schedule['year'] = kansas_schedule['Date'].dt.year\n",
        "kansas_schedule['month'] = kansas_schedule['Date'].dt.month\n",
        "kansas_schedule['day'] = kansas_schedule['Date'].dt.day"
      ]
    },
    {
      "cell_type": "code",
      "execution_count": 52,
      "metadata": {
        "gather": {
          "logged": 1700512912470
        },
        "jupyter": {
          "outputs_hidden": false,
          "source_hidden": false
        },
        "nteract": {
          "transient": {
            "deleting": false
          }
        }
      },
      "outputs": [
        {
          "data": {
            "application/vnd.livy.statement-meta+json": {
              "execution_finish_time": "2023-11-20T20:41:52.0373159Z",
              "execution_start_time": "2023-11-20T20:41:51.747593Z",
              "livy_statement_state": "available",
              "parent_msg_id": "b6f1c37d-a8f9-4eed-9ef9-c72797044516",
              "queued_time": "2023-11-20T20:41:51.6070374Z",
              "session_id": "52",
              "session_start_time": null,
              "spark_jobs": {
                "jobs": [],
                "limit": 20,
                "numbers": {
                  "FAILED": 0,
                  "RUNNING": 0,
                  "SUCCEEDED": 0,
                  "UNKNOWN": 0
                },
                "rule": "ALL_DESC"
              },
              "spark_pool": "7c27951d-2bdf-4140-be82-d0dc0c0e7d8e",
              "state": "finished",
              "statement_id": 57
            },
            "text/plain": [
              "StatementMeta(7c27951d-2bdf-4140-be82-d0dc0c0e7d8e, 52, 57, Finished, Available)"
            ]
          },
          "metadata": {},
          "output_type": "display_data"
        },
        {
          "data": {
            "text/plain": [
              "Date          datetime64[ns]\n",
              "Opponent              object\n",
              "Unnamed: 8            object\n",
              "Tm                     int64\n",
              "Opp                    int64\n",
              "OT                    object\n",
              "W                     object\n",
              "L                     object\n",
              "Streak                object\n",
              "score                  int64\n",
              "year                   int64\n",
              "month                  int64\n",
              "day                    int64\n",
              "dtype: object"
            ]
          },
          "execution_count": 113,
          "metadata": {},
          "output_type": "execute_result"
        }
      ],
      "source": [
        "kansas_schedule.dtypes"
      ]
    },
    {
      "cell_type": "code",
      "execution_count": 14,
      "metadata": {
        "gather": {
          "logged": 1700521118963
        },
        "jupyter": {
          "outputs_hidden": false,
          "source_hidden": false
        },
        "nteract": {
          "transient": {
            "deleting": false
          }
        }
      },
      "outputs": [
        {
          "data": {
            "application/vnd.livy.statement-meta+json": {
              "execution_finish_time": "2023-11-20T22:58:38.5251832Z",
              "execution_start_time": "2023-11-20T22:58:37.6946023Z",
              "livy_statement_state": "available",
              "parent_msg_id": "291f53a6-76d7-42c9-a152-68fe6c1333dc",
              "queued_time": "2023-11-20T22:58:37.5915215Z",
              "session_id": "53",
              "session_start_time": null,
              "spark_jobs": {
                "jobs": [],
                "limit": 20,
                "numbers": {
                  "FAILED": 0,
                  "RUNNING": 0,
                  "SUCCEEDED": 0,
                  "UNKNOWN": 0
                },
                "rule": "ALL_DESC"
              },
              "spark_pool": "7c27951d-2bdf-4140-be82-d0dc0c0e7d8e",
              "state": "finished",
              "statement_id": 19
            },
            "text/plain": [
              "StatementMeta(7c27951d-2bdf-4140-be82-d0dc0c0e7d8e, 53, 19, Finished, Available)"
            ]
          },
          "metadata": {},
          "output_type": "display_data"
        },
        {
          "data": {
            "image/png": "[encoded data removed]",
            "text/plain": [
              "<Figure size 1440x720 with 2 Axes>"
            ]
          },
          "metadata": {},
          "output_type": "display_data"
        }
      ],
      "source": [
        "# Separating positive and negative mentions\n",
        "positive_mentions = daily_mentions_comments_pd[daily_mentions_comments_pd['sentiment'] == 'positive']\n",
        "negative_mentions = daily_mentions_comments_pd[daily_mentions_comments_pd['sentiment'] == 'negative']\n",
        "\n",
        "# Merging with the kansas_schedule DataFrame\n",
        "merged_pos = pd.merge(kansas_schedule, positive_mentions, on=['year', 'month', 'day'], how='left')\n",
        "merged_neg = pd.merge(kansas_schedule, negative_mentions, on=['year', 'month', 'day'], how='left')\n",
        "\n",
        "# Creating the figure and axes\n",
        "fig, ax1 = plt.subplots(figsize=(20, 10))\n",
        "\n",
        "# Plotting the score difference as a bar chart\n",
        "ax1.bar(merged_pos['Date'], merged_pos['score'], color=['green' if x > 0 else 'red' for x in merged_pos['score']])\n",
        "ax1.set_ylabel('Score Difference', color='blue')\n",
        "ax1.tick_params(axis='y', labelcolor='blue')\n",
        "\n",
        "# Creating a secondary axis for daily mentions\n",
        "ax2 = ax1.twinx()\n",
        "ax2.plot(merged_pos['Date'], merged_pos['kansas'], color='green', marker='o', linestyle='-', label='Positive Mentions')\n",
        "ax2.plot(merged_neg['Date'], -merged_neg['kansas'], color='red', marker='o', linestyle='-', label='Negative Mentions')  # Negative mentions inverted\n",
        "ax2.set_ylabel('Daily Mentions', color='orange')\n",
        "ax2.tick_params(axis='y', labelcolor='orange')\n",
        "\n",
        "# Setting the x-axis as date\n",
        "ax1.xaxis.set_major_locator(mdates.DayLocator(interval=10))\n",
        "ax1.xaxis.set_major_formatter(mdates.DateFormatter('%Y-%m-%d'))\n",
        "plt.xticks(rotation=45)\n",
        "\n",
        "# Setting titles and labels\n",
        "plt.title('Kansas: Score Differences and Daily Mentions')\n",
        "ax1.set_xlabel('Date')\n",
        "ax2.legend(loc='upper left')\n",
        "\n",
        "# Show and save the plot\n",
        "plt.savefig(\"Users/yh706/fall-2023-reddit-project-team-26/data/plots/kansas_score_differences_and_daily_mentions.png\")\n",
        "plt.show()"
      ]
    },
    {
      "cell_type": "code",
      "execution_count": 15,
      "metadata": {
        "gather": {
          "logged": 1700521144510
        },
        "jupyter": {
          "outputs_hidden": false,
          "source_hidden": false
        },
        "nteract": {
          "transient": {
            "deleting": false
          }
        }
      },
      "outputs": [
        {
          "data": {
            "application/vnd.livy.statement-meta+json": {
              "execution_finish_time": "2023-11-20T22:59:04.2561594Z",
              "execution_start_time": "2023-11-20T22:59:03.903751Z",
              "livy_statement_state": "available",
              "parent_msg_id": "1843766f-0371-4d40-8ae9-c6895ffb0509",
              "queued_time": "2023-11-20T22:59:03.8038389Z",
              "session_id": "53",
              "session_start_time": null,
              "spark_jobs": {
                "jobs": [],
                "limit": 20,
                "numbers": {
                  "FAILED": 0,
                  "RUNNING": 0,
                  "SUCCEEDED": 0,
                  "UNKNOWN": 0
                },
                "rule": "ALL_DESC"
              },
              "spark_pool": "7c27951d-2bdf-4140-be82-d0dc0c0e7d8e",
              "state": "finished",
              "statement_id": 20
            },
            "text/plain": [
              "StatementMeta(7c27951d-2bdf-4140-be82-d0dc0c0e7d8e, 53, 20, Finished, Available)"
            ]
          },
          "metadata": {},
          "output_type": "display_data"
        }
      ],
      "source": [
        "unc_url = 'https://www.sports-reference.com/cbb/schools/north-carolina/men/2022-schedule.html'\n",
        "\n",
        "unc_schedule = pd.read_html(unc_url, header=0)[1]\n",
        "unc_schedule = unc_schedule[~unc_schedule['Date'].str.contains('date', case=False, na=False)]\n",
        "unc_schedule = unc_schedule[columns_keep]"
      ]
    },
    {
      "cell_type": "code",
      "execution_count": 16,
      "metadata": {
        "gather": {
          "logged": 1700521147654
        },
        "jupyter": {
          "outputs_hidden": false,
          "source_hidden": false
        },
        "nteract": {
          "transient": {
            "deleting": false
          }
        }
      },
      "outputs": [
        {
          "data": {
            "application/vnd.livy.statement-meta+json": {
              "execution_finish_time": "2023-11-20T22:59:07.4077789Z",
              "execution_start_time": "2023-11-20T22:59:07.1028129Z",
              "livy_statement_state": "available",
              "parent_msg_id": "e6497b81-bfb0-44b9-8a34-0a4994bc99cd",
              "queued_time": "2023-11-20T22:59:06.999617Z",
              "session_id": "53",
              "session_start_time": null,
              "spark_jobs": {
                "jobs": [],
                "limit": 20,
                "numbers": {
                  "FAILED": 0,
                  "RUNNING": 0,
                  "SUCCEEDED": 0,
                  "UNKNOWN": 0
                },
                "rule": "ALL_DESC"
              },
              "spark_pool": "7c27951d-2bdf-4140-be82-d0dc0c0e7d8e",
              "state": "finished",
              "statement_id": 21
            },
            "text/plain": [
              "StatementMeta(7c27951d-2bdf-4140-be82-d0dc0c0e7d8e, 53, 21, Finished, Available)"
            ]
          },
          "metadata": {},
          "output_type": "display_data"
        }
      ],
      "source": [
        "# Convert 'Tm' and 'Opp' columns to integers\n",
        "unc_schedule['Tm'] = pd.to_numeric(unc_schedule['Tm'], errors='coerce')\n",
        "unc_schedule['Opp'] = pd.to_numeric(unc_schedule['Opp'], errors='coerce')\n",
        "\n",
        "# Create the 'score' column\n",
        "unc_schedule['score'] = unc_schedule['Tm'] - unc_schedule['Opp']\n",
        "\n",
        "# Convert 'Date' column to datetime format with specific format string\n",
        "unc_schedule['Date'] = pd.to_datetime(unc_schedule['Date'], format='%a, %b %d, %Y')\n",
        "\n",
        "# Extract year, month, and day\n",
        "unc_schedule['year'] = unc_schedule['Date'].dt.year\n",
        "unc_schedule['month'] = unc_schedule['Date'].dt.month\n",
        "unc_schedule['day'] = unc_schedule['Date'].dt.day"
      ]
    },
    {
      "cell_type": "code",
      "execution_count": 62,
      "metadata": {
        "gather": {
          "logged": 1700513430276
        },
        "jupyter": {
          "outputs_hidden": false,
          "source_hidden": false
        },
        "nteract": {
          "transient": {
            "deleting": false
          }
        }
      },
      "outputs": [
        {
          "data": {
            "application/vnd.livy.statement-meta+json": {
              "execution_finish_time": "2023-11-20T20:50:29.9032039Z",
              "execution_start_time": "2023-11-20T20:50:29.5925635Z",
              "livy_statement_state": "available",
              "parent_msg_id": "9b489fef-beef-4010-9c5d-52aefba82cab",
              "queued_time": "2023-11-20T20:50:29.4259386Z",
              "session_id": "52",
              "session_start_time": null,
              "spark_jobs": {
                "jobs": [],
                "limit": 20,
                "numbers": {
                  "FAILED": 0,
                  "RUNNING": 0,
                  "SUCCEEDED": 0,
                  "UNKNOWN": 0
                },
                "rule": "ALL_DESC"
              },
              "spark_pool": "7c27951d-2bdf-4140-be82-d0dc0c0e7d8e",
              "state": "finished",
              "statement_id": 67
            },
            "text/plain": [
              "StatementMeta(7c27951d-2bdf-4140-be82-d0dc0c0e7d8e, 52, 67, Finished, Available)"
            ]
          },
          "metadata": {},
          "output_type": "display_data"
        },
        {
          "data": {
            "text/plain": [
              "Date          datetime64[ns]\n",
              "Opponent              object\n",
              "Unnamed: 8            object\n",
              "Tm                     int64\n",
              "Opp                    int64\n",
              "OT                    object\n",
              "W                     object\n",
              "L                     object\n",
              "Streak                object\n",
              "score                  int64\n",
              "year                   int64\n",
              "month                  int64\n",
              "day                    int64\n",
              "dtype: object"
            ]
          },
          "execution_count": 133,
          "metadata": {},
          "output_type": "execute_result"
        }
      ],
      "source": [
        "unc_schedule.dtypes"
      ]
    },
    {
      "cell_type": "code",
      "execution_count": 17,
      "metadata": {
        "gather": {
          "logged": 1700521167577
        },
        "jupyter": {
          "outputs_hidden": false,
          "source_hidden": false
        },
        "nteract": {
          "transient": {
            "deleting": false
          }
        }
      },
      "outputs": [
        {
          "data": {
            "application/vnd.livy.statement-meta+json": {
              "execution_finish_time": "2023-11-20T22:59:27.1801784Z",
              "execution_start_time": "2023-11-20T22:59:20.8277132Z",
              "livy_statement_state": "available",
              "parent_msg_id": "8f204ffd-e317-49b7-8530-e056ecf23968",
              "queued_time": "2023-11-20T22:59:20.7163472Z",
              "session_id": "53",
              "session_start_time": null,
              "spark_jobs": {
                "jobs": [],
                "limit": 20,
                "numbers": {
                  "FAILED": 0,
                  "RUNNING": 0,
                  "SUCCEEDED": 0,
                  "UNKNOWN": 0
                },
                "rule": "ALL_DESC"
              },
              "spark_pool": "7c27951d-2bdf-4140-be82-d0dc0c0e7d8e",
              "state": "finished",
              "statement_id": 22
            },
            "text/plain": [
              "StatementMeta(7c27951d-2bdf-4140-be82-d0dc0c0e7d8e, 53, 22, Finished, Available)"
            ]
          },
          "metadata": {},
          "output_type": "display_data"
        },
        {
          "data": {
            "image/png": "[encoded data removed]",
            "text/plain": [
              "<Figure size 1440x720 with 2 Axes>"
            ]
          },
          "metadata": {},
          "output_type": "display_data"
        }
      ],
      "source": [
        "# Merging with the unc_schedule DataFrame\n",
        "merged_pos = pd.merge(unc_schedule, positive_mentions, on=['year', 'month', 'day'], how='left')\n",
        "merged_neg = pd.merge(unc_schedule, negative_mentions, on=['year', 'month', 'day'], how='left')\n",
        "\n",
        "# Creating the figure and axes\n",
        "fig, ax1 = plt.subplots(figsize=(20, 10))\n",
        "\n",
        "# Plotting the score difference as a bar chart\n",
        "ax1.bar(merged_pos['Date'], merged_pos['score'], color=['green' if x > 0 else 'red' for x in merged_pos['score']])\n",
        "ax1.set_ylabel('Score Difference', color='blue')\n",
        "ax1.tick_params(axis='y', labelcolor='blue')\n",
        "\n",
        "# Creating a secondary axis for daily mentions\n",
        "ax2 = ax1.twinx()\n",
        "ax2.plot(merged_pos['Date'], merged_pos['north_carolina'], color='green', marker='o', linestyle='-', label='Positive Mentions')\n",
        "ax2.plot(merged_neg['Date'], -merged_neg['north_carolina'], color='red', marker='o', linestyle='-', label='Negative Mentions')  # Negative mentions inverted\n",
        "ax2.set_ylabel('Daily Mentions', color='orange')\n",
        "ax2.tick_params(axis='y', labelcolor='orange')\n",
        "\n",
        "# Setting the x-axis as date\n",
        "ax1.xaxis.set_major_locator(mdates.DayLocator(interval=10))\n",
        "ax1.xaxis.set_major_formatter(mdates.DateFormatter('%Y-%m-%d'))\n",
        "plt.xticks(rotation=45)\n",
        "\n",
        "# Setting titles and labels\n",
        "plt.title('UNC: Score Differences and Daily Mentions')\n",
        "ax1.set_xlabel('Date')\n",
        "ax2.legend(loc='upper left')\n",
        "\n",
        "# Show and save the plot\n",
        "plt.savefig(\"Users/yh706/fall-2023-reddit-project-team-26/data/plots/unc_score_differences_and_daily_mentions.png\")\n",
        "plt.show()"
      ]
    }
  ],
  "metadata": {
    "kernel_info": {
      "name": "synapse_pyspark"
    },
    "kernelspec": {
      "display_name": "Synapse PySpark",
      "language": "Python",
      "name": "synapse_pyspark"
    },
    "language_info": {
      "codemirror_mode": "ipython",
      "file_extension": ".py",
      "mimetype": "text/x-python",
      "name": "python",
      "nbconvert_exporter": "python",
      "pygments_lexer": "ipython",
      "version": "3.8.0"
    },
    "microsoft": {
      "host": {
        "AzureML": {
          "notebookHasBeenCompleted": true
        }
      },
      "ms_spell_check": {
        "ms_spell_check_language": "en"
      }
    },
    "nteract": {
      "version": "nteract-front-end@1.0.0"
    }
  },
  "nbformat": 4,
  "nbformat_minor": 2
}

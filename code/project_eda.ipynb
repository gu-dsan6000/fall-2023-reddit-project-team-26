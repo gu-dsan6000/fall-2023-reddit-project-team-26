{
  "cells": [
    {
      "cell_type": "markdown",
      "source": [
        "# Project EDA Notebook"
      ],
      "metadata": {},
      "id": "ee8ae429-47c6-4761-982f-512698bbf719"
    },
    {
      "cell_type": "markdown",
      "source": [
        "### Project by Klaas van Kempen, Shihong Zhou, Yifan Hu, and Katherine Nunez\n",
        "\n",
        "## Overview of the Project\n",
        "\n",
        "This project will use the given Reddit data to explore how Reddit users view, react to, and analyze collegiate basketball. We will compare sentiments and use external datasets such as team records and injuries to better understand how Reddit users react to their team successes or failures. \n",
        "\n",
        "This project will center around three different areas of analysis: exploratory data analysis, natural language processing (NLP), and machine learning. We expect these three different areas of analysis to display different areas of the dataset and allow us to answer a variety of questions about this data. \n",
        "\n",
        "We will use the Reddit data to explore the differences in sentiment between collegiate basketball fans and how the fans of the top teams from 2021-2022 reacted over the course of the season. We chose to limit our data to 2021-2022 because we wanted to ensure that our data captured an entire basketball season. The collegiate season ranges from November to about March, so by taking our data from October 2021 to April 2022, we are able to ensure that we can capture the data from an entire basketball season.\n",
        "\n",
        "\n",
        "### Overview of Colleagiate Basketball\n",
        "\n",
        "Although professional and collegiate basketball are very related, there are some key differences that we want to establish before engaging in any exploratory data analysis. We expect these differences to become apparent in some of our sentiment analysis, NLP, and even in the exploratory phase of this project.\n",
        "\n",
        "\n",
        "**Collegiate Basketball:** Collegiate basketball in the United States is regulated primarily by the National Collegiate Athletic Association (NCAA). For the purposes of this project, we will be focusing on NCAA division 1 (D1) college basketball. College basketball is sorted into conferences (which typically align across sports for schools), which determines most of each team's scheduled opponents and the conference championship tournament. At the end of each season, there is a gigantic tournament to determine the college basketball champion, colloquially called March Madness. In March, 64 teams (plus four other teams who play a \"play-in game\") compete in a single-elimination tournament to determine the champion for the season. These players are considered amateurs, i.e. they do not receive contracts, but each collegiate basketball player is eligible to receive sponsorships and advertisement revenues.\n",
        "\n",
        "Part of our analysis will by analyzing the r/CBB (college basketball) subreddit, but we will also be analyzing the r/jayhawks and r/UNC, the two teams to make the finals for college basketball in 2022 (Kansas won!). This way, we can also track the sentiments of the fans of the two most successful college basketball teams across the course of the season on their championship runs.\n",
        "\n"
      ],
      "metadata": {},
      "id": "6ac6cc23-dcb0-4013-8318-7d0f80d47dbf"
    },
    {
      "cell_type": "markdown",
      "source": [
        "## Business Goals: Questions To Answer\n",
        "\n",
        "Over the course of this project, we aim to answer different data science questions. The first few questions will be exploratory data analysis, which we have presented for you here. The next questions will be on NLP and machine learning, which will vary in complexity and in which part of the data set they are analyzing. We aim to answer these questions through multiple visual avenues, including plots, graphs, and charts, and aim to expose some interesting trends in professional and collegiate basketball over the course of the 2022 season.\n",
        "\n",
        "### Exploratory Data Analysis Questions\n",
        "\n",
        "**Business Goal 1:** Determine which college basketball games had the most reddit engagement. \\\n",
        "**Technical Proposal:** Use word counts in comments and number of comments to determine which game had the most fan engagement online. Identify trends in when major games occur and if there are any similarities in which teams compete in these games. Possibly correlate these major games to most successful teams by record and ranking.\n",
        "\n",
        "**Business Goal 2:** Determine how reddit activity ebbs and flows over the course of a collegiate basketball season. Construct visuals to aid in understanding how much reddit users post over the course of the 2022 season. \\\n",
        "**Technical Proposal:** Use exploratory data analysis techniques to achieve some of the same outcomes as the goal above, only with collegiate subreddit data. Create opportunity to identify differences in the trends between professional and collegiate sports through word counts and post counts over the course of the season. Identify any differences between the overall CBB subreddit activity and the subreddits of the individual teams we have chosen.\n",
        "\n",
        "**Business Goal 3:** Explore how the subreddit page of the NCAA champion in 2022, the Kansas Jayhawks, varied over the course of the season. Identify any trends in post frequency or comment length that may correlate to on-the-court successes or failures. \\\n",
        "**Technical Proposal:** Use trend analysis and count number of comments and comment lengths to determine excitement over the course of the NBA season. Correlate any major trends to outside data sets, including Jayhawks wins and losses or injuries of key players. Analyze any additional trends in activity over the course of the 2022 season to find any other additional results before entering into the NLP phase of the project.\n",
        "\n",
        "**Business Goal 4:** Identify the teams that have the most engagement on the main college basketball subreddit.\n",
        "**Technical Proposal:** Use grouping and sorting algorithms to find which college basketball teams are the most mentioned teams. Identify if these mentions ebb or flow over the course of the season. Incorporate external datasets such as basketball rankings to correlate mentions with popular games or teams.\n",
        "\n",
        "### Natural Language Processing (NLP) Questions\n",
        "\n",
        "**Business Goal 5:** Rank CBB players in terms of popularity across subreddits. Determine if the popularity is \"positive\" or \"negative\". \\\n",
        "**Technical Proposal:** Use NLP techniques to identify which players are the most popular in collegiate basketball by analyzing how many times they are mentioned or are referred to in comments. Extract mentions of player names using NLP techniques and count frequency. Combine with sentiment scores to create a popularity index. Use sentiment analysis techniques to determine if this popularity is due to positive or negative sentiment. Compare trends in these players' appearance in comments to external factors, such as on-the-court statistics or injuries.\n",
        "\n",
        "**Business Goal 6:** Understand how player transfers in CBB affect fan engagement on relevant subreddits. \\\n",
        "**Technical Proposal:** Conduct time-series analysis of post and comment frequencies before and after trade announcements. Apply statistical tests to determine significance. Use sentiment analysis to determine how fans feel about each trade. Integrate external data sets to see if fan sentiment agrees with conventional wisdom on the success of trades.\n",
        "\n",
        "**Business Goal 7:** Determine how collegiate fan bases react after big wins and big losses. Identify volatility over the course of the season, especially for teams we know reach the championship. \\\n",
        "**Technical Proposal:** Identify fan sentiment for two days following a \"big win\" or a \"big loss\". A big win could be some definition such as by beating a team by 20 points, and a big loss could be some definition such as losing to a team by more than 20 points. Analyze how fans of championship-caliber teams react to victory and defeat. Use NLP techniques to identify any rivalries or particularly important games to fanbases.\n",
        "\n",
        "**Business Goal 8:** Determine if sentiment correlates to team success on CBB subreddits. Identify fan sentiment over the course of a championship-caliber season. \\\n",
        "**Technical Proposal:** Use NLP techniques to conduct trend analysis on sentiment across individual subreddits for CBB teams. Identify how positive and negative sentiment fluxuate over the course of a season. Use NLP to identify additional trends around March and June, the time of the playoffs, and how fan sentiment changes (or does not change) during the postseason.\n",
        "\n",
        "**Business Goal 9:** Determine which teams are the most liked or most hated in college basketball. \\\n",
        "**Technical Proposal:** Incorporate results of the EDA portion of most mentioned teams. Conduct NLP analysis to determine if these mentions are positive or negative. Expand analysis to surrounding comments and threads to understand which teams are generally viewed favorably or which are viewed negatively. Use external news sources to understand how fans view unlikely winners, such as \"cinderella stories,\" or losers, such as \"upsets.\"\n",
        "\n",
        "\n",
        "### Machine Learning Questions\n",
        "\n",
        "**Business Goal 9:** Assess if the sentiment on CBB subreddits can help predict game outcomes. \\\n",
        "**Technical Proposal:** Build a machine learning model using historical game outcomes and pre-game subreddit sentiment as features. Use external data sets, such as season win/loss records, to create predictive model that incorporates pre-game sentiment. Test data on 2022-2023 season to determine accuracy of said model.\n",
        "\n",
        "**Business Goal 10:** Determine what do subreddits look like in the lead up to big games or big tournaments. \\\n",
        "**Technical Proposal:** Start with postseason sentiment analysis, then use cluster modeling or some similar machine learning technique to identify important games throughout the course of the season. Correlate these important games to external factors, such as rivalries, injuries, or trades. Visualize results by grouping important games over the course of the regular season and post season.\n",
        "\n",
        "**Business Goal 11:** Assess if the Kansas Jayhawks or UNC Tar Heel subreddits more volatile throughout the season. \\\n",
        "**Technical Proposal:** Compare NBA and CBB subreddits using a multitude of machine learning techniques to identify which have more varied reactions, posting tempos, or other factors. Identify which have a wider variety of types of post and poster over the course of a season. Determine if NBA fans or CBB fans are more volatile in their reaction timing, tempo, length, and frequency over the course of a season.\n",
        "\n",
        "**Business Goal 12:** Predict which college basketball players will become major NBA stars based on Reddit discussions. \\\n",
        "**Technical Proposal:** Monitor mentions and sentiments around CBB players. Track those who enter the NBA and evaluate their performance using regression analysis against Reddit metrics. Use draft status and 2022-2023 NBA season statistics to verify these outcomes.\n",
        "\n",
        "\n",
        "\n",
        "\n",
        "### An Aside\n",
        "\n",
        "We initially conceptualized this project as a comparison of professional and collegiate basketball. When we began our initial data pulls of the reddit data, we found that this data would be too big and too unweildy to complete a project like this one. Below is our overview of professional basketball and our initial proposal.\n",
        "\n",
        "**Professional Basketball:** Professional basketball in the United States is played in the National Basketball Association (NBA). The NBA has feeder leagues (such as the G League), and there are other international leagues as well. The NBA consists of 30 teams, most if not all of which have their own subreddits. Each NBA team has 15 players, in addition to two two-way contracts between the NBA and the G League. Each player in the NBA is paid via contract, and each are eligible for any advertising or sponsorship money that they pursue in addition to their contractual responsibilities. \n",
        "\n",
        "Part of our analysis would've been analyzing the r/NBA subreddit and also the r/bostonceltics and r/warriors subreddits, as those were the two teams to make the NBA finals in 2022 (the Golden State Warriors were the 2022 NBA champions). This way, we would've been able to track the sentiments of the two most successful teams in the NBA across the season."
      ],
      "metadata": {},
      "id": "bed93baa"
    },
    {
      "cell_type": "markdown",
      "source": [
        "### Setting up spark"
      ],
      "metadata": {},
      "id": "9c13ef86-d4b4-4451-a1e1-7253311062a6"
    },
    {
      "cell_type": "code",
      "source": [
        "spark"
      ],
      "outputs": [
        {
          "output_type": "display_data",
          "data": {
            "application/vnd.livy.statement-meta+json": {
              "spark_pool": "7c27951d-2bdf-4140-be82-d0dc0c0e7d8e",
              "session_id": "18",
              "statement_id": 6,
              "state": "finished",
              "livy_statement_state": "available",
              "queued_time": "2023-11-03T15:18:38.2790269Z",
              "session_start_time": "2023-11-03T15:18:38.3425142Z",
              "execution_start_time": "2023-11-03T15:22:02.5700444Z",
              "execution_finish_time": "2023-11-03T15:22:05.3783207Z",
              "spark_jobs": {
                "numbers": {
                  "SUCCEEDED": 0,
                  "RUNNING": 0,
                  "FAILED": 0,
                  "UNKNOWN": 0
                },
                "jobs": [],
                "limit": 20,
                "rule": "ALL_DESC"
              },
              "parent_msg_id": "46ae466f-7936-4664-a5b3-e8ad6fb2c4b3"
            },
            "text/plain": "StatementMeta(7c27951d-2bdf-4140-be82-d0dc0c0e7d8e, 18, 6, Finished, Available)"
          },
          "metadata": {}
        },
        {
          "output_type": "execute_result",
          "execution_count": 11,
          "data": {
            "text/plain": "<pyspark.sql.session.SparkSession at 0x7f7cfb05a970>",
            "text/html": "\n            <div>\n                <p><b>SparkSession - hive</b></p>\n                \n        <div>\n            <p><b>SparkContext</b></p>\n\n            <p><a href=\"http://vm-83764091:41785\">Spark UI</a></p>\n\n            <dl>\n              <dt>Version</dt>\n                <dd><code>v3.2.2.5.1-100879434</code></dd>\n              <dt>Master</dt>\n                <dd><code>yarn</code></dd>\n              <dt>AppName</dt>\n                <dd><code>Azure ML Experiment</code></dd>\n            </dl>\n        </div>\n        \n            </div>\n        "
          },
          "metadata": {}
        }
      ],
      "execution_count": 1,
      "metadata": {
        "jupyter": {
          "source_hidden": false,
          "outputs_hidden": false
        },
        "nteract": {
          "transient": {
            "deleting": false
          }
        },
        "gather": {
          "logged": 1699024925674
        }
      },
      "id": "93750110-1490-41d2-adbc-456018af35fd"
    },
    {
      "cell_type": "markdown",
      "source": [
        "### Setting up Data Configuration"
      ],
      "metadata": {
        "nteract": {
          "transient": {
            "deleting": false
          }
        }
      },
      "id": "a20d1993-fa64-443d-9715-41ea4a0171a3"
    },
    {
      "cell_type": "code",
      "source": [
        "blob_account_name = \"marckvnonprodblob\"\n",
        "blob_container_name = \"bigdata\"\n",
        "# read only\n",
        "blob_sas_token = \"?sv=2021-10-04&st=2023-10-04T01%3A42%3A59Z&se=2024-01-02T02%3A42%3A00Z&sr=c&sp=rlf&sig=w3CH9MbCOpwO7DtHlrahc7AlRPxSZZb8MOgS6TaXLzI%3D\"\n",
        "\n",
        "wasbs_base_url = (\n",
        "    f\"wasbs://{blob_container_name}@{blob_account_name}.blob.core.windows.net/\"\n",
        ")\n",
        "spark.conf.set(\n",
        "    f\"fs.azure.sas.{blob_container_name}.{blob_account_name}.blob.core.windows.net\",\n",
        "    blob_sas_token,\n",
        ")"
      ],
      "outputs": [
        {
          "output_type": "display_data",
          "data": {
            "application/vnd.livy.statement-meta+json": {
              "spark_pool": "7c27951d-2bdf-4140-be82-d0dc0c0e7d8e",
              "session_id": "17",
              "statement_id": 11,
              "state": "finished",
              "livy_statement_state": "available",
              "queued_time": "2023-11-03T15:00:28.1411332Z",
              "session_start_time": null,
              "execution_start_time": "2023-11-03T15:00:28.3009778Z",
              "execution_finish_time": "2023-11-03T15:00:28.6925348Z",
              "spark_jobs": {
                "numbers": {
                  "RUNNING": 0,
                  "UNKNOWN": 0,
                  "SUCCEEDED": 0,
                  "FAILED": 0
                },
                "jobs": [],
                "limit": 20,
                "rule": "ALL_DESC"
              },
              "parent_msg_id": "15a990e2-30e7-41dd-a1b6-bab002a6cf22"
            },
            "text/plain": "StatementMeta(7c27951d-2bdf-4140-be82-d0dc0c0e7d8e, 17, 11, Finished, Available)"
          },
          "metadata": {}
        }
      ],
      "execution_count": 6,
      "metadata": {
        "jupyter": {
          "source_hidden": false,
          "outputs_hidden": false
        },
        "nteract": {
          "transient": {
            "deleting": false
          }
        },
        "gather": {
          "logged": 1699023628930
        }
      },
      "id": "18d8cf8a-0690-428c-92bc-b170311b5302"
    },
    {
      "cell_type": "markdown",
      "source": [
        "### Reading in Reddit Data"
      ],
      "metadata": {},
      "id": "070acf71-a6dc-4b37-8c03-56e1d721cee0"
    },
    {
      "cell_type": "code",
      "source": [
        "comments_path = \"reddit-parquet/comments/\"\n",
        "submissions_path = \"reddit-parquet/submissions/\""
      ],
      "outputs": [
        {
          "output_type": "display_data",
          "data": {
            "application/vnd.livy.statement-meta+json": {
              "spark_pool": "7c27951d-2bdf-4140-be82-d0dc0c0e7d8e",
              "session_id": "17",
              "statement_id": 12,
              "state": "finished",
              "livy_statement_state": "available",
              "queued_time": "2023-11-03T15:00:30.7387236Z",
              "session_start_time": null,
              "execution_start_time": "2023-11-03T15:00:30.9707581Z",
              "execution_finish_time": "2023-11-03T15:00:31.3820361Z",
              "spark_jobs": {
                "numbers": {
                  "RUNNING": 0,
                  "UNKNOWN": 0,
                  "SUCCEEDED": 0,
                  "FAILED": 0
                },
                "jobs": [],
                "limit": 20,
                "rule": "ALL_DESC"
              },
              "parent_msg_id": "9139cb98-4b66-4ce0-a4df-8239a8036ef9"
            },
            "text/plain": "StatementMeta(7c27951d-2bdf-4140-be82-d0dc0c0e7d8e, 17, 12, Finished, Available)"
          },
          "metadata": {}
        }
      ],
      "execution_count": 7,
      "metadata": {
        "jupyter": {
          "source_hidden": false,
          "outputs_hidden": false
        },
        "nteract": {
          "transient": {
            "deleting": false
          }
        },
        "gather": {
          "logged": 1699023631618
        }
      },
      "id": "3bdf3f26-a60b-4345-aa0f-1fdb69ff5df5"
    },
    {
      "cell_type": "code",
      "source": [
        "# Test on a single file only (random file)\n",
        "comments_single = \"year=2021/month=10/*\"\n",
        "submissions_single = \"year=2021/month=10/*\""
      ],
      "outputs": [
        {
          "output_type": "display_data",
          "data": {
            "application/vnd.livy.statement-meta+json": {
              "spark_pool": "7c27951d-2bdf-4140-be82-d0dc0c0e7d8e",
              "session_id": "13",
              "statement_id": 9,
              "state": "finished",
              "livy_statement_state": "available",
              "queued_time": "2023-11-02T17:35:20.4985232Z",
              "session_start_time": null,
              "execution_start_time": "2023-11-02T17:36:13.1506106Z",
              "execution_finish_time": "2023-11-02T17:36:13.5115381Z",
              "spark_jobs": {
                "numbers": {
                  "FAILED": 0,
                  "RUNNING": 0,
                  "UNKNOWN": 0,
                  "SUCCEEDED": 0
                },
                "jobs": [],
                "limit": 20,
                "rule": "ALL_DESC"
              },
              "parent_msg_id": "f3d5da55-f96d-40d7-9d9f-e9351f6dd90f"
            },
            "text/plain": "StatementMeta(7c27951d-2bdf-4140-be82-d0dc0c0e7d8e, 13, 9, Finished, Available)"
          },
          "metadata": {}
        }
      ],
      "execution_count": 4,
      "metadata": {
        "jupyter": {
          "source_hidden": false,
          "outputs_hidden": false
        },
        "nteract": {
          "transient": {
            "deleting": false
          }
        },
        "gather": {
          "logged": 1698946574774
        }
      },
      "id": "a68daec4-2262-4212-8393-e3d0540ecb51"
    },
    {
      "cell_type": "code",
      "source": [
        "comments_single_df = spark.read.parquet(f\"{wasbs_base_url}{comments_path}\")\n",
        "submissions_single_df = spark.read.parquet(f\"{wasbs_base_url}{submissions_path}\")"
      ],
      "outputs": [
        {
          "output_type": "display_data",
          "data": {
            "application/vnd.livy.statement-meta+json": {
              "spark_pool": "7c27951d-2bdf-4140-be82-d0dc0c0e7d8e",
              "session_id": "17",
              "statement_id": 13,
              "state": "cancelled",
              "livy_statement_state": "waiting",
              "queued_time": "2023-11-03T15:00:34.862815Z",
              "session_start_time": null,
              "execution_start_time": "2023-11-03T15:00:35.0030136Z",
              "execution_finish_time": "2023-11-03T15:00:44.6271634Z",
              "spark_jobs": {
                "numbers": {
                  "RUNNING": 0,
                  "UNKNOWN": 0,
                  "SUCCEEDED": 0,
                  "FAILED": 0
                },
                "jobs": [],
                "limit": 20,
                "rule": "ALL_DESC"
              },
              "parent_msg_id": "c55998d7-6c8a-458f-a44d-e708fc4ce7ae"
            },
            "text/plain": "StatementMeta(7c27951d-2bdf-4140-be82-d0dc0c0e7d8e, 17, 13, Cancelled, Waiting)"
          },
          "metadata": {}
        }
      ],
      "execution_count": 8,
      "metadata": {
        "jupyter": {
          "source_hidden": false,
          "outputs_hidden": false
        },
        "nteract": {
          "transient": {
            "deleting": false
          }
        },
        "gather": {
          "logged": 1699023644354
        }
      },
      "id": "7eb6d8f8-1414-46b1-9c54-29a7fc985544"
    },
    {
      "cell_type": "code",
      "source": [],
      "outputs": [],
      "execution_count": null,
      "metadata": {
        "jupyter": {
          "source_hidden": false,
          "outputs_hidden": false
        },
        "nteract": {
          "transient": {
            "deleting": false
          }
        }
      },
      "id": "c6e8a444-745c-4954-a953-106f519373a7"
    },
    {
      "cell_type": "markdown",
      "source": [
        "### Only College Basketball Subreddit"
      ],
      "metadata": {
        "nteract": {
          "transient": {
            "deleting": false
          }
        }
      },
      "id": "858c072a-681d-4a35-ade2-b8fab01bbb9c"
    },
    {
      "cell_type": "code",
      "source": [
        "submissions_filtered = submissions_single_df.filter(submissions_single_df['subreddit'] == \"CollegeBasketball\")\n",
        "comments_filtered = comments_single_df.filter(comments_single_df['subreddit']  == \"CollegeBasketball\")"
      ],
      "outputs": [
        {
          "output_type": "display_data",
          "data": {
            "application/vnd.livy.statement-meta+json": {
              "spark_pool": "7c27951d-2bdf-4140-be82-d0dc0c0e7d8e",
              "session_id": "13",
              "statement_id": 11,
              "state": "finished",
              "livy_statement_state": "available",
              "queued_time": "2023-11-02T17:35:20.5006755Z",
              "session_start_time": null,
              "execution_start_time": "2023-11-02T17:36:42.159148Z",
              "execution_finish_time": "2023-11-02T17:36:43.0751775Z",
              "spark_jobs": {
                "numbers": {
                  "FAILED": 0,
                  "RUNNING": 0,
                  "UNKNOWN": 0,
                  "SUCCEEDED": 0
                },
                "jobs": [],
                "limit": 20,
                "rule": "ALL_DESC"
              },
              "parent_msg_id": "79a495a8-4dbc-4b06-b145-c333bfb9372b"
            },
            "text/plain": "StatementMeta(7c27951d-2bdf-4140-be82-d0dc0c0e7d8e, 13, 11, Finished, Available)"
          },
          "metadata": {}
        }
      ],
      "execution_count": 6,
      "metadata": {
        "jupyter": {
          "source_hidden": false,
          "outputs_hidden": false
        },
        "nteract": {
          "transient": {
            "deleting": false
          }
        },
        "gather": {
          "logged": 1698946603172
        }
      },
      "id": "f38ff848-066e-46aa-bcc8-4f4b4c9bca9f"
    },
    {
      "cell_type": "code",
      "source": [
        "submissions_filtered = submissions_single_df.filter(submissions_single_df['subreddit'] == \"CollegeBasketball\")"
      ],
      "outputs": [
        {
          "output_type": "display_data",
          "data": {
            "application/vnd.livy.statement-meta+json": {
              "spark_pool": "7c27951d-2bdf-4140-be82-d0dc0c0e7d8e",
              "session_id": "14",
              "statement_id": 11,
              "state": "finished",
              "livy_statement_state": "available",
              "queued_time": "2023-11-02T17:40:49.9478181Z",
              "session_start_time": null,
              "execution_start_time": "2023-11-02T17:40:50.0628843Z",
              "execution_finish_time": "2023-11-02T17:40:51.0093109Z",
              "spark_jobs": {
                "numbers": {
                  "FAILED": 0,
                  "RUNNING": 0,
                  "UNKNOWN": 0,
                  "SUCCEEDED": 0
                },
                "jobs": [],
                "limit": 20,
                "rule": "ALL_DESC"
              },
              "parent_msg_id": "f5ac48a6-f994-4c75-a810-a12e8e27cc15"
            },
            "text/plain": "StatementMeta(7c27951d-2bdf-4140-be82-d0dc0c0e7d8e, 14, 11, Finished, Available)"
          },
          "metadata": {}
        }
      ],
      "execution_count": 6,
      "metadata": {
        "jupyter": {
          "source_hidden": false,
          "outputs_hidden": false
        },
        "nteract": {
          "transient": {
            "deleting": false
          }
        },
        "gather": {
          "logged": 1698946851132
        }
      },
      "id": "dc0586cc-18d2-424d-b514-b3f6810cb8bf"
    },
    {
      "cell_type": "markdown",
      "source": [
        "### Selecting Desired Subreddits"
      ],
      "metadata": {},
      "id": "56cb76ec-baf0-43c1-b4f2-0ba185624d81"
    },
    {
      "cell_type": "code",
      "source": [
        "subreddit_values = [\"CollegeBasketball\", \"jayhawks\", \"tarheels\"]\n",
        "submissions_filtered = submissions_single_df.filter(submissions_single_df['subreddit'].isin(subreddit_values))\n",
        "comments_filtered = comments_single_df.filter(comments_single_df['subreddit'].isin(subreddit_values))"
      ],
      "outputs": [
        {
          "output_type": "display_data",
          "data": {
            "application/vnd.livy.statement-meta+json": {
              "spark_pool": "d3c1b951-094c-48e1-919d-e32bc175397b",
              "session_id": "7",
              "statement_id": 10,
              "state": "finished",
              "livy_statement_state": "available",
              "queued_time": "2023-11-03T01:55:04.958658Z",
              "session_start_time": null,
              "execution_start_time": "2023-11-03T01:58:39.7413221Z",
              "execution_finish_time": "2023-11-03T01:58:40.6693918Z",
              "spark_jobs": {
                "numbers": {
                  "RUNNING": 0,
                  "SUCCEEDED": 0,
                  "FAILED": 0,
                  "UNKNOWN": 0
                },
                "jobs": [],
                "limit": 20,
                "rule": "ALL_DESC"
              },
              "parent_msg_id": "76ae4f19-9768-42be-bc64-3f1c4df39c2d"
            },
            "text/plain": "StatementMeta(d3c1b951-094c-48e1-919d-e32bc175397b, 7, 10, Finished, Available)"
          },
          "metadata": {}
        }
      ],
      "execution_count": 5,
      "metadata": {
        "jupyter": {
          "source_hidden": false,
          "outputs_hidden": false
        },
        "nteract": {
          "transient": {
            "deleting": false
          }
        },
        "gather": {
          "logged": 1698976720882
        }
      },
      "id": "efd4d193-132c-4d27-bd50-d0a902758e86"
    },
    {
      "cell_type": "code",
      "source": [
        "comments_filtered.select(\"subreddit\", \"author\", \"body\", \"parent_id\", \"link_id\", \"id\", \"created_utc\").show()"
      ],
      "outputs": [
        {
          "output_type": "display_data",
          "data": {
            "application/vnd.livy.statement-meta+json": {
              "spark_pool": "d3c1b951-094c-48e1-919d-e32bc175397b",
              "session_id": "1",
              "statement_id": 11,
              "state": "finished",
              "livy_statement_state": "available",
              "queued_time": "2023-11-02T22:57:57.9772801Z",
              "session_start_time": null,
              "execution_start_time": "2023-11-02T22:57:58.1559025Z",
              "execution_finish_time": "2023-11-02T22:58:08.82436Z",
              "spark_jobs": {
                "numbers": {
                  "FAILED": 0,
                  "RUNNING": 0,
                  "SUCCEEDED": 2,
                  "UNKNOWN": 0
                },
                "jobs": [
                  {
                    "displayName": "showString at NativeMethodAccessorImpl.java:0",
                    "dataWritten": 0,
                    "dataRead": 37019349,
                    "rowCount": 126976,
                    "usageDescription": "",
                    "jobId": 3,
                    "name": "showString at NativeMethodAccessorImpl.java:0",
                    "description": "Job group for statement 11:\ncomments_filtered.select(\"subreddit\", \"author\", \"body\", \"parent_id\", \"link_id\", \"id\", \"created_utc\").show()",
                    "submissionTime": "2023-11-02T22:58:05.296GMT",
                    "completionTime": "2023-11-02T22:58:08.333GMT",
                    "stageIds": [
                      3
                    ],
                    "jobGroup": "11",
                    "status": "SUCCEEDED",
                    "numTasks": 4,
                    "numActiveTasks": 0,
                    "numCompletedTasks": 4,
                    "numSkippedTasks": 0,
                    "numFailedTasks": 0,
                    "numKilledTasks": 0,
                    "numCompletedIndices": 4,
                    "numActiveStages": 0,
                    "numCompletedStages": 1,
                    "numSkippedStages": 0,
                    "numFailedStages": 0,
                    "killedTasksSummary": {}
                  },
                  {
                    "displayName": "showString at NativeMethodAccessorImpl.java:0",
                    "dataWritten": 0,
                    "dataRead": 33412007,
                    "rowCount": 280821,
                    "usageDescription": "",
                    "jobId": 2,
                    "name": "showString at NativeMethodAccessorImpl.java:0",
                    "description": "Job group for statement 11:\ncomments_filtered.select(\"subreddit\", \"author\", \"body\", \"parent_id\", \"link_id\", \"id\", \"created_utc\").show()",
                    "submissionTime": "2023-11-02T22:58:00.496GMT",
                    "completionTime": "2023-11-02T22:58:05.278GMT",
                    "stageIds": [
                      2
                    ],
                    "jobGroup": "11",
                    "status": "SUCCEEDED",
                    "numTasks": 1,
                    "numActiveTasks": 0,
                    "numCompletedTasks": 1,
                    "numSkippedTasks": 0,
                    "numFailedTasks": 0,
                    "numKilledTasks": 0,
                    "numCompletedIndices": 1,
                    "numActiveStages": 0,
                    "numCompletedStages": 1,
                    "numSkippedStages": 0,
                    "numFailedStages": 0,
                    "killedTasksSummary": {}
                  }
                ],
                "limit": 20,
                "rule": "ALL_DESC"
              },
              "parent_msg_id": "3e54725e-a5ef-448e-a6a6-50e4733c7169"
            },
            "text/plain": "StatementMeta(d3c1b951-094c-48e1-919d-e32bc175397b, 1, 11, Finished, Available)"
          },
          "metadata": {}
        },
        {
          "output_type": "stream",
          "name": "stdout",
          "text": "+-----------------+--------------------+--------------------+----------+---------+-------+-------------------+\n|        subreddit|              author|                body| parent_id|  link_id|     id|        created_utc|\n+-----------------+--------------------+--------------------+----------+---------+-------+-------------------+\n|CollegeBasketball|          YoooCakess|Is Mando a big La...|t1_h2lc3l9|t3_o55ia9|h2qsi3q|2021-06-23 07:11:56|\n|CollegeBasketball|  humphrey_the_camel|         Are you me?|t1_h2qox4q|t3_o65x04|h2qqbhs|2021-06-23 06:39:42|\n|CollegeBasketball|     shenanigans3390|What do you think...|t1_h2p6a5e|t3_o5rm4c|h2r2sg7|2021-06-23 09:57:58|\n|CollegeBasketball|   backtothepresent_|Turned me into a fan|t1_i4b74ak|t3_u19rzq|i4bri1y|2022-04-11 18:28:45|\n|CollegeBasketball|       booojangles13|The issue isn’t h...|t1_i4bqdwq|t3_u1drii|i4brjch|2022-04-11 18:28:59|\n|CollegeBasketball|           jayhawk03|those are the pla...|t1_i4b66qq|t3_u1b0st|i4brkjx|2022-04-11 18:29:12|\n|CollegeBasketball|             theels6|There's too many ...| t3_u19gk6|t3_u19gk6|i4brkuu|2022-04-11 18:29:15|\n|CollegeBasketball|            gmills87|Just want to poin...| t3_u1czjy|t3_u1czjy|i4brmio|2022-04-11 18:29:33|\n|CollegeBasketball|Cautious-Barnacle-15|He doesnt have co...|t1_i48l77x|t3_u0v6pb|i4brmvf|2022-04-11 18:29:36|\n|CollegeBasketball|        tarspaceheel|Ugh, call Coach K...|t1_i4awf2h|t3_u18f9x|i4brn5y|2022-04-11 18:29:39|\n|CollegeBasketball|    TangerineChicken|I think you might...|t1_i4bql5p|t3_u1ck3m|i4brng2|2022-04-11 18:29:42|\n|CollegeBasketball|    Vague_Intentions|They played like ...|t1_i4b402q|t3_u19rzq|i4brofv|2022-04-11 18:29:53|\n|CollegeBasketball|      SentientPoster|We’ll take 1 efto...|t1_i4bod8g|t3_u1drii|i4brpe1|2022-04-11 18:30:03|\n|CollegeBasketball|         luvdadrafts|You know what’s b...|t1_i4ayohc|t3_u18g1w|i4brq7b|2022-04-11 18:30:12|\n|CollegeBasketball|    themidnightmamba|There hasn’t been...|t1_i4bqel6|t3_u1drii|i4brs9p|2022-04-11 18:30:33|\n|CollegeBasketball|            KBHoleN1|I believe this ca...|t1_i4bpxos|t3_u1ds3y|i4bruyb|2022-04-11 18:31:01|\n|CollegeBasketball|             Mjss776|It's at least a h...|t1_i4bnbsh|t3_u1d3vq|i4brwac|2022-04-11 18:31:15|\n|CollegeBasketball|         Spicehawk86|Typical Duke worr...| t3_u1ck3m|t3_u1ck3m|i4bs0e3|2022-04-11 18:31:59|\n|CollegeBasketball|        tarspaceheel|From a pure baske...|t1_i4b402q|t3_u19rzq|i4bs2fu|2022-04-11 18:32:20|\n|CollegeBasketball|            VandyHOU|   I'd prefer not to|t1_i4boqyt|t3_u1ds3y|i4bs2pu|2022-04-11 18:32:23|\n+-----------------+--------------------+--------------------+----------+---------+-------+-------------------+\nonly showing top 20 rows\n\n"
        }
      ],
      "execution_count": 6,
      "metadata": {
        "jupyter": {
          "source_hidden": false,
          "outputs_hidden": false
        },
        "nteract": {
          "transient": {
            "deleting": false
          }
        },
        "gather": {
          "logged": 1698965889020
        }
      },
      "id": "3e0d94b8-cc84-46f7-a806-df626614251c"
    },
    {
      "cell_type": "code",
      "source": [
        "submissions_filtered.select(\"subreddit\", \"author\", \"title\", \"selftext\", \"created_utc\", \"num_comments\").show()"
      ],
      "outputs": [
        {
          "output_type": "display_data",
          "data": {
            "application/vnd.livy.statement-meta+json": {
              "spark_pool": "d3c1b951-094c-48e1-919d-e32bc175397b",
              "session_id": "2",
              "statement_id": 16,
              "state": "finished",
              "livy_statement_state": "available",
              "queued_time": "2023-11-02T23:33:50.9910245Z",
              "session_start_time": null,
              "execution_start_time": "2023-11-02T23:33:51.1049301Z",
              "execution_finish_time": "2023-11-02T23:33:56.4100068Z",
              "spark_jobs": {
                "numbers": {
                  "FAILED": 0,
                  "RUNNING": 0,
                  "SUCCEEDED": 1,
                  "UNKNOWN": 0
                },
                "jobs": [
                  {
                    "displayName": "showString at NativeMethodAccessorImpl.java:0",
                    "dataWritten": 0,
                    "dataRead": 45904992,
                    "rowCount": 195567,
                    "usageDescription": "",
                    "jobId": 6,
                    "name": "showString at NativeMethodAccessorImpl.java:0",
                    "description": "Job group for statement 16:\nsubmissions_filtered.select(\"subreddit\", \"author\", \"title\", \"selftext\", \"created_utc\", \"num_comments\").show()",
                    "submissionTime": "2023-11-02T23:33:51.621GMT",
                    "completionTime": "2023-11-02T23:33:55.598GMT",
                    "stageIds": [
                      6
                    ],
                    "jobGroup": "16",
                    "status": "SUCCEEDED",
                    "numTasks": 1,
                    "numActiveTasks": 0,
                    "numCompletedTasks": 1,
                    "numSkippedTasks": 0,
                    "numFailedTasks": 0,
                    "numKilledTasks": 0,
                    "numCompletedIndices": 1,
                    "numActiveStages": 0,
                    "numCompletedStages": 1,
                    "numSkippedStages": 0,
                    "numFailedStages": 0,
                    "killedTasksSummary": {}
                  }
                ],
                "limit": 20,
                "rule": "ALL_DESC"
              },
              "parent_msg_id": "ac80f94c-8110-455f-b5ad-bca2087adc71"
            },
            "text/plain": "StatementMeta(d3c1b951-094c-48e1-919d-e32bc175397b, 2, 16, Finished, Available)"
          },
          "metadata": {}
        },
        {
          "output_type": "stream",
          "name": "stdout",
          "text": "+-----------------+-------------------+--------------------+--------------------+-------------------+------------+\n|        subreddit|             author|               title|            selftext|        created_utc|num_comments|\n+-----------------+-------------------+--------------------+--------------------+-------------------+------------+\n|CollegeBasketball|       BhamTioMateo|Brandon Miller's ...|                    |2023-02-22 21:17:19|        1168|\n|CollegeBasketball|          [deleted]|Brandon Miller’s ...|           [deleted]|2023-02-22 21:18:21|           0|\n|CollegeBasketball|     Hipster_Whale5|Blind Resume Rank...|                    |2023-02-22 21:18:22|          23|\n|CollegeBasketball|  ActualLibertarian|Gradey Dick found...|                    |2023-02-21 05:46:07|          95|\n|         jayhawks|          [deleted]|[KUHoops] @big wi...|           [deleted]|2023-02-21 06:32:53|           0|\n|         jayhawks|          SpecialT9|[KUHoops] big win...|                    |2023-02-21 06:34:32|           5|\n|CollegeBasketball|              g4rt0|   Gartology Week 15|           [removed]|2023-02-21 06:42:56|           0|\n|CollegeBasketball|             cbbBot|[Post Game Thread...|[Box Score](https...|2023-02-21 04:54:04|           0|\n|CollegeBasketball|INeedMoreCreativity|Kansas has set a ...|                    |2023-02-21 04:54:46|          81|\n|CollegeBasketball|             cbbBot|[Post Game Thread...|[Box Score](https...|2023-02-21 04:59:05|           1|\n|CollegeBasketball|         AlekRivard|The Conference To...|I would like to o...|2023-02-21 05:00:33|          32|\n|CollegeBasketball|             cbbBot|[Post Game Thread...|[Box Score](https...|2023-02-21 05:08:04|           2|\n|CollegeBasketball|   NotaRepublican85|Someone tell me w...|He lost 75% of hi...|2023-02-21 05:27:04|          88|\n|CollegeBasketball|          Az-Wooper|Nate Oats: Brando...|                    |2023-02-21 19:32:23|         712|\n|CollegeBasketball|          [deleted]|I asked AI to cre...|           [deleted]|2023-02-21 19:42:34|           1|\n|CollegeBasketball|          mothman26|Nate Oats on reac...|                    |2023-02-21 19:50:01|          49|\n|CollegeBasketball|   joeyminichiello5|Joe Lunardi (2/21...|                    |2023-02-21 19:57:38|         178|\n|CollegeBasketball|        daswassup13|[Rothstein] NEWS:...|                    |2023-02-21 20:10:08|          33|\n|         jayhawks|            furdguy|Has anyone seen t...|I just found this...|2023-02-21 20:13:22|           1|\n|CollegeBasketball|          [deleted]|This is the newes...|           [deleted]|2021-02-23 08:44:27|           0|\n+-----------------+-------------------+--------------------+--------------------+-------------------+------------+\nonly showing top 20 rows\n\n"
        }
      ],
      "execution_count": 11,
      "metadata": {
        "jupyter": {
          "source_hidden": false,
          "outputs_hidden": false
        },
        "nteract": {
          "transient": {
            "deleting": false
          }
        },
        "gather": {
          "logged": 1698968036619
        }
      },
      "id": "7e986699-a294-4be5-b036-b670bf896cfd"
    },
    {
      "cell_type": "code",
      "source": [
        "from pyspark.sql.functions import *\n",
        "from datetime import datetime\n",
        "\n",
        "start_timestamp = datetime(2021, 9, 1)\n",
        "end_timestamp = datetime(2022, 4, 30)\n",
        "\n",
        "submissions_filtered = submissions_filtered.filter((col(\"created_utc\") >= start_timestamp) & (col(\"created_utc\") <= end_timestamp))\n",
        "comments_filtered = comments_filtered.filter((col(\"created_utc\") >= start_timestamp) & (col(\"created_utc\") <= end_timestamp))"
      ],
      "outputs": [
        {
          "output_type": "display_data",
          "data": {
            "application/vnd.livy.statement-meta+json": {
              "spark_pool": "d3c1b951-094c-48e1-919d-e32bc175397b",
              "session_id": "7",
              "statement_id": 11,
              "state": "finished",
              "livy_statement_state": "available",
              "queued_time": "2023-11-03T01:55:33.4496986Z",
              "session_start_time": null,
              "execution_start_time": "2023-11-03T01:58:40.7940462Z",
              "execution_finish_time": "2023-11-03T01:58:41.6740308Z",
              "spark_jobs": {
                "numbers": {
                  "RUNNING": 0,
                  "SUCCEEDED": 0,
                  "FAILED": 0,
                  "UNKNOWN": 0
                },
                "jobs": [],
                "limit": 20,
                "rule": "ALL_DESC"
              },
              "parent_msg_id": "4add17d0-58ed-400f-ada4-7e50203d3c33"
            },
            "text/plain": "StatementMeta(d3c1b951-094c-48e1-919d-e32bc175397b, 7, 11, Finished, Available)"
          },
          "metadata": {}
        }
      ],
      "execution_count": 6,
      "metadata": {
        "jupyter": {
          "source_hidden": false,
          "outputs_hidden": false
        },
        "nteract": {
          "transient": {
            "deleting": false
          }
        },
        "gather": {
          "logged": 1698976721878
        }
      },
      "id": "c0056d33-8855-48aa-8b0a-bf7b21b66eef"
    },
    {
      "cell_type": "markdown",
      "source": [
        "### EDA"
      ],
      "metadata": {
        "nteract": {
          "transient": {
            "deleting": false
          }
        }
      },
      "id": "b9cf75c6-6b70-41ac-8265-e8d6bb077404"
    },
    {
      "cell_type": "markdown",
      "source": [
        "#### Basic Data Summary"
      ],
      "metadata": {
        "nteract": {
          "transient": {
            "deleting": false
          }
        }
      },
      "id": "5d1fccc1-afcc-41ab-8243-8c7fecef0df8"
    },
    {
      "cell_type": "code",
      "source": [
        "submissions_filtered.printSchema()"
      ],
      "outputs": [
        {
          "output_type": "display_data",
          "data": {
            "application/vnd.livy.statement-meta+json": {
              "spark_pool": "7c27951d-2bdf-4140-be82-d0dc0c0e7d8e",
              "session_id": "1",
              "statement_id": 14,
              "state": "finished",
              "livy_statement_state": "available",
              "queued_time": "2023-11-02T15:03:04.7644737Z",
              "session_start_time": null,
              "execution_start_time": "2023-11-02T15:03:04.9207165Z",
              "execution_finish_time": "2023-11-02T15:03:05.2704013Z",
              "spark_jobs": {
                "numbers": {
                  "FAILED": 0,
                  "RUNNING": 0,
                  "UNKNOWN": 0,
                  "SUCCEEDED": 0
                },
                "jobs": [],
                "limit": 20,
                "rule": "ALL_DESC"
              },
              "parent_msg_id": "a147f6aa-8419-4cb5-8a0c-f8c18d1cd843"
            },
            "text/plain": "StatementMeta(7c27951d-2bdf-4140-be82-d0dc0c0e7d8e, 1, 14, Finished, Available)"
          },
          "metadata": {}
        },
        {
          "output_type": "stream",
          "name": "stdout",
          "text": "root\n |-- adserver_click_url: string (nullable = true)\n |-- adserver_imp_pixel: string (nullable = true)\n |-- archived: boolean (nullable = true)\n |-- author: string (nullable = true)\n |-- author_cakeday: boolean (nullable = true)\n |-- author_flair_css_class: string (nullable = true)\n |-- author_flair_text: string (nullable = true)\n |-- author_id: string (nullable = true)\n |-- brand_safe: boolean (nullable = true)\n |-- contest_mode: boolean (nullable = true)\n |-- created_utc: timestamp (nullable = true)\n |-- crosspost_parent: string (nullable = true)\n |-- crosspost_parent_list: array (nullable = true)\n |    |-- element: struct (containsNull = true)\n |    |    |-- approved_at_utc: string (nullable = true)\n |    |    |-- approved_by: string (nullable = true)\n |    |    |-- archived: boolean (nullable = true)\n |    |    |-- author: string (nullable = true)\n |    |    |-- author_flair_css_class: string (nullable = true)\n |    |    |-- author_flair_text: string (nullable = true)\n |    |    |-- banned_at_utc: string (nullable = true)\n |    |    |-- banned_by: string (nullable = true)\n |    |    |-- brand_safe: boolean (nullable = true)\n |    |    |-- can_gild: boolean (nullable = true)\n |    |    |-- can_mod_post: boolean (nullable = true)\n |    |    |-- clicked: boolean (nullable = true)\n |    |    |-- contest_mode: boolean (nullable = true)\n |    |    |-- created: double (nullable = true)\n |    |    |-- created_utc: double (nullable = true)\n |    |    |-- distinguished: string (nullable = true)\n |    |    |-- domain: string (nullable = true)\n |    |    |-- downs: long (nullable = true)\n |    |    |-- edited: boolean (nullable = true)\n |    |    |-- gilded: long (nullable = true)\n |    |    |-- hidden: boolean (nullable = true)\n |    |    |-- hide_score: boolean (nullable = true)\n |    |    |-- id: string (nullable = true)\n |    |    |-- is_crosspostable: boolean (nullable = true)\n |    |    |-- is_reddit_media_domain: boolean (nullable = true)\n |    |    |-- is_self: boolean (nullable = true)\n |    |    |-- is_video: boolean (nullable = true)\n |    |    |-- likes: string (nullable = true)\n |    |    |-- link_flair_css_class: string (nullable = true)\n |    |    |-- link_flair_text: string (nullable = true)\n |    |    |-- locked: boolean (nullable = true)\n |    |    |-- media: string (nullable = true)\n |    |    |-- mod_reports: array (nullable = true)\n |    |    |    |-- element: string (containsNull = true)\n |    |    |-- name: string (nullable = true)\n |    |    |-- num_comments: long (nullable = true)\n |    |    |-- num_crossposts: long (nullable = true)\n |    |    |-- num_reports: string (nullable = true)\n |    |    |-- over_18: boolean (nullable = true)\n |    |    |-- parent_whitelist_status: string (nullable = true)\n |    |    |-- permalink: string (nullable = true)\n |    |    |-- pinned: boolean (nullable = true)\n |    |    |-- quarantine: boolean (nullable = true)\n |    |    |-- removal_reason: string (nullable = true)\n |    |    |-- report_reasons: string (nullable = true)\n |    |    |-- saved: boolean (nullable = true)\n |    |    |-- score: long (nullable = true)\n |    |    |-- secure_media: string (nullable = true)\n |    |    |-- selftext: string (nullable = true)\n |    |    |-- selftext_html: string (nullable = true)\n |    |    |-- spoiler: boolean (nullable = true)\n |    |    |-- stickied: boolean (nullable = true)\n |    |    |-- subreddit: string (nullable = true)\n |    |    |-- subreddit_id: string (nullable = true)\n |    |    |-- subreddit_name_prefixed: string (nullable = true)\n |    |    |-- subreddit_type: string (nullable = true)\n |    |    |-- suggested_sort: string (nullable = true)\n |    |    |-- thumbnail: string (nullable = true)\n |    |    |-- thumbnail_height: string (nullable = true)\n |    |    |-- thumbnail_width: string (nullable = true)\n |    |    |-- title: string (nullable = true)\n |    |    |-- ups: long (nullable = true)\n |    |    |-- url: string (nullable = true)\n |    |    |-- user_reports: array (nullable = true)\n |    |    |    |-- element: string (containsNull = true)\n |    |    |-- view_count: string (nullable = true)\n |    |    |-- visited: boolean (nullable = true)\n |    |    |-- whitelist_status: string (nullable = true)\n |-- disable_comments: boolean (nullable = true)\n |-- distinguished: string (nullable = true)\n |-- domain: string (nullable = true)\n |-- domain_override: string (nullable = true)\n |-- edited: string (nullable = true)\n |-- embed_type: string (nullable = true)\n |-- embed_url: string (nullable = true)\n |-- gilded: long (nullable = true)\n |-- hidden: boolean (nullable = true)\n |-- hide_score: boolean (nullable = true)\n |-- href_url: string (nullable = true)\n |-- id: string (nullable = true)\n |-- imp_pixel: string (nullable = true)\n |-- is_crosspostable: boolean (nullable = true)\n |-- is_reddit_media_domain: boolean (nullable = true)\n |-- is_self: boolean (nullable = true)\n |-- is_video: boolean (nullable = true)\n |-- link_flair_css_class: string (nullable = true)\n |-- link_flair_text: string (nullable = true)\n |-- locked: boolean (nullable = true)\n |-- media: struct (nullable = true)\n |    |-- event_id: string (nullable = true)\n |    |-- oembed: struct (nullable = true)\n |    |    |-- author_name: string (nullable = true)\n |    |    |-- author_url: string (nullable = true)\n |    |    |-- cache_age: long (nullable = true)\n |    |    |-- description: string (nullable = true)\n |    |    |-- height: long (nullable = true)\n |    |    |-- html: string (nullable = true)\n |    |    |-- provider_name: string (nullable = true)\n |    |    |-- provider_url: string (nullable = true)\n |    |    |-- thumbnail_height: long (nullable = true)\n |    |    |-- thumbnail_url: string (nullable = true)\n |    |    |-- thumbnail_width: long (nullable = true)\n |    |    |-- title: string (nullable = true)\n |    |    |-- type: string (nullable = true)\n |    |    |-- url: string (nullable = true)\n |    |    |-- version: string (nullable = true)\n |    |    |-- width: long (nullable = true)\n |    |-- reddit_video: struct (nullable = true)\n |    |    |-- dash_url: string (nullable = true)\n |    |    |-- duration: long (nullable = true)\n |    |    |-- fallback_url: string (nullable = true)\n |    |    |-- height: long (nullable = true)\n |    |    |-- hls_url: string (nullable = true)\n |    |    |-- is_gif: boolean (nullable = true)\n |    |    |-- scrubber_media_url: string (nullable = true)\n |    |    |-- transcoding_status: string (nullable = true)\n |    |    |-- width: long (nullable = true)\n |    |-- type: string (nullable = true)\n |-- media_embed: struct (nullable = true)\n |    |-- content: string (nullable = true)\n |    |-- height: long (nullable = true)\n |    |-- scrolling: boolean (nullable = true)\n |    |-- width: long (nullable = true)\n |-- mobile_ad_url: string (nullable = true)\n |-- num_comments: long (nullable = true)\n |-- num_crossposts: long (nullable = true)\n |-- original_link: string (nullable = true)\n |-- over_18: boolean (nullable = true)\n |-- parent_whitelist_status: string (nullable = true)\n |-- permalink: string (nullable = true)\n |-- pinned: boolean (nullable = true)\n |-- post_hint: string (nullable = true)\n |-- preview: struct (nullable = true)\n |    |-- enabled: boolean (nullable = true)\n |    |-- images: array (nullable = true)\n |    |    |-- element: struct (containsNull = true)\n |    |    |    |-- id: string (nullable = true)\n |    |    |    |-- resolutions: array (nullable = true)\n |    |    |    |    |-- element: struct (containsNull = true)\n |    |    |    |    |    |-- height: long (nullable = true)\n |    |    |    |    |    |-- url: string (nullable = true)\n |    |    |    |    |    |-- width: long (nullable = true)\n |    |    |    |-- source: struct (nullable = true)\n |    |    |    |    |-- height: long (nullable = true)\n |    |    |    |    |-- url: string (nullable = true)\n |    |    |    |    |-- width: long (nullable = true)\n |    |    |    |-- variants: struct (nullable = true)\n |    |    |    |    |-- gif: struct (nullable = true)\n |    |    |    |    |    |-- resolutions: array (nullable = true)\n |    |    |    |    |    |    |-- element: struct (containsNull = true)\n |    |    |    |    |    |    |    |-- height: long (nullable = true)\n |    |    |    |    |    |    |    |-- url: string (nullable = true)\n |    |    |    |    |    |    |    |-- width: long (nullable = true)\n |    |    |    |    |    |-- source: struct (nullable = true)\n |    |    |    |    |    |    |-- height: long (nullable = true)\n |    |    |    |    |    |    |-- url: string (nullable = true)\n |    |    |    |    |    |    |-- width: long (nullable = true)\n |    |    |    |    |-- mp4: struct (nullable = true)\n |    |    |    |    |    |-- resolutions: array (nullable = true)\n |    |    |    |    |    |    |-- element: struct (containsNull = true)\n |    |    |    |    |    |    |    |-- height: long (nullable = true)\n |    |    |    |    |    |    |    |-- url: string (nullable = true)\n |    |    |    |    |    |    |    |-- width: long (nullable = true)\n |    |    |    |    |    |-- source: struct (nullable = true)\n |    |    |    |    |    |    |-- height: long (nullable = true)\n |    |    |    |    |    |    |-- url: string (nullable = true)\n |    |    |    |    |    |    |-- width: long (nullable = true)\n |    |    |    |    |-- nsfw: struct (nullable = true)\n |    |    |    |    |    |-- resolutions: array (nullable = true)\n |    |    |    |    |    |    |-- element: struct (containsNull = true)\n |    |    |    |    |    |    |    |-- height: long (nullable = true)\n |    |    |    |    |    |    |    |-- url: string (nullable = true)\n |    |    |    |    |    |    |    |-- width: long (nullable = true)\n |    |    |    |    |    |-- source: struct (nullable = true)\n |    |    |    |    |    |    |-- height: long (nullable = true)\n |    |    |    |    |    |    |-- url: string (nullable = true)\n |    |    |    |    |    |    |-- width: long (nullable = true)\n |    |    |    |    |-- obfuscated: struct (nullable = true)\n |    |    |    |    |    |-- resolutions: array (nullable = true)\n |    |    |    |    |    |    |-- element: struct (containsNull = true)\n |    |    |    |    |    |    |    |-- height: long (nullable = true)\n |    |    |    |    |    |    |    |-- url: string (nullable = true)\n |    |    |    |    |    |    |    |-- width: long (nullable = true)\n |    |    |    |    |    |-- source: struct (nullable = true)\n |    |    |    |    |    |    |-- height: long (nullable = true)\n |    |    |    |    |    |    |-- url: string (nullable = true)\n |    |    |    |    |    |    |-- width: long (nullable = true)\n |-- promoted: boolean (nullable = true)\n |-- promoted_by: string (nullable = true)\n |-- promoted_display_name: string (nullable = true)\n |-- promoted_url: string (nullable = true)\n |-- retrieved_on: timestamp (nullable = true)\n |-- score: long (nullable = true)\n |-- secure_media: struct (nullable = true)\n |    |-- event_id: string (nullable = true)\n |    |-- oembed: struct (nullable = true)\n |    |    |-- author_name: string (nullable = true)\n |    |    |-- author_url: string (nullable = true)\n |    |    |-- cache_age: long (nullable = true)\n |    |    |-- description: string (nullable = true)\n |    |    |-- height: long (nullable = true)\n |    |    |-- html: string (nullable = true)\n |    |    |-- provider_name: string (nullable = true)\n |    |    |-- provider_url: string (nullable = true)\n |    |    |-- thumbnail_height: long (nullable = true)\n |    |    |-- thumbnail_url: string (nullable = true)\n |    |    |-- thumbnail_width: long (nullable = true)\n |    |    |-- title: string (nullable = true)\n |    |    |-- type: string (nullable = true)\n |    |    |-- url: string (nullable = true)\n |    |    |-- version: string (nullable = true)\n |    |    |-- width: long (nullable = true)\n |    |-- type: string (nullable = true)\n |-- secure_media_embed: struct (nullable = true)\n |    |-- content: string (nullable = true)\n |    |-- height: long (nullable = true)\n |    |-- media_domain_url: string (nullable = true)\n |    |-- scrolling: boolean (nullable = true)\n |    |-- width: long (nullable = true)\n |-- selftext: string (nullable = true)\n |-- spoiler: boolean (nullable = true)\n |-- stickied: boolean (nullable = true)\n |-- subreddit: string (nullable = true)\n |-- subreddit_id: string (nullable = true)\n |-- suggested_sort: string (nullable = true)\n |-- third_party_trackers: array (nullable = true)\n |    |-- element: string (containsNull = true)\n |-- third_party_tracking: string (nullable = true)\n |-- third_party_tracking_2: string (nullable = true)\n |-- thumbnail: string (nullable = true)\n |-- thumbnail_height: long (nullable = true)\n |-- thumbnail_width: long (nullable = true)\n |-- title: string (nullable = true)\n |-- url: string (nullable = true)\n |-- whitelist_status: string (nullable = true)\n\n"
        }
      ],
      "execution_count": 9,
      "metadata": {
        "jupyter": {
          "source_hidden": false,
          "outputs_hidden": false
        },
        "nteract": {
          "transient": {
            "deleting": false
          }
        },
        "gather": {
          "logged": 1698937385519
        }
      },
      "id": "4c7ae733-e95e-4abe-ba15-5cbd3e421ec6"
    },
    {
      "cell_type": "code",
      "source": [
        "comments_filtered.printSchema()"
      ],
      "outputs": [
        {
          "output_type": "display_data",
          "data": {
            "application/vnd.livy.statement-meta+json": {
              "spark_pool": "7c27951d-2bdf-4140-be82-d0dc0c0e7d8e",
              "session_id": "1",
              "statement_id": 15,
              "state": "finished",
              "livy_statement_state": "available",
              "queued_time": "2023-11-02T15:03:07.0180259Z",
              "session_start_time": null,
              "execution_start_time": "2023-11-02T15:03:07.1400881Z",
              "execution_finish_time": "2023-11-02T15:03:07.509558Z",
              "spark_jobs": {
                "numbers": {
                  "FAILED": 0,
                  "RUNNING": 0,
                  "UNKNOWN": 0,
                  "SUCCEEDED": 0
                },
                "jobs": [],
                "limit": 20,
                "rule": "ALL_DESC"
              },
              "parent_msg_id": "716169bd-2b01-4ea7-95cb-caa8f25c75f4"
            },
            "text/plain": "StatementMeta(7c27951d-2bdf-4140-be82-d0dc0c0e7d8e, 1, 15, Finished, Available)"
          },
          "metadata": {}
        },
        {
          "output_type": "stream",
          "name": "stdout",
          "text": "root\n |-- author: string (nullable = true)\n |-- author_cakeday: boolean (nullable = true)\n |-- author_flair_css_class: string (nullable = true)\n |-- author_flair_text: string (nullable = true)\n |-- body: string (nullable = true)\n |-- can_gild: boolean (nullable = true)\n |-- controversiality: long (nullable = true)\n |-- created_utc: timestamp (nullable = true)\n |-- distinguished: string (nullable = true)\n |-- edited: string (nullable = true)\n |-- gilded: long (nullable = true)\n |-- id: string (nullable = true)\n |-- is_submitter: boolean (nullable = true)\n |-- link_id: string (nullable = true)\n |-- parent_id: string (nullable = true)\n |-- permalink: string (nullable = true)\n |-- retrieved_on: timestamp (nullable = true)\n |-- score: long (nullable = true)\n |-- stickied: boolean (nullable = true)\n |-- subreddit: string (nullable = true)\n |-- subreddit_id: string (nullable = true)\n\n"
        }
      ],
      "execution_count": 10,
      "metadata": {
        "jupyter": {
          "source_hidden": false,
          "outputs_hidden": false
        },
        "nteract": {
          "transient": {
            "deleting": false
          }
        },
        "gather": {
          "logged": 1698937387621
        }
      },
      "id": "6e3d813e-6aca-46a1-a832-e9ebae16fe36"
    },
    {
      "cell_type": "markdown",
      "source": [
        "#### Interesting Plots"
      ],
      "metadata": {
        "nteract": {
          "transient": {
            "deleting": false
          }
        }
      },
      "id": "c4ac9a4f-8c2b-4bb1-b49e-27cf8496e389"
    },
    {
      "cell_type": "markdown",
      "source": [
        "## EDA"
      ],
      "metadata": {},
      "id": "8fc728f7-cc3c-4555-8946-512cecf337c2"
    },
    {
      "cell_type": "markdown",
      "source": [
        "### Saving Intermediate Data"
      ],
      "metadata": {
        "nteract": {
          "transient": {
            "deleting": false
          }
        }
      },
      "id": "a5dfadae-ea43-42cc-ae88-52bdc682beab"
    },
    {
      "cell_type": "markdown",
      "source": [
        "#### Saving Intermediate Data"
      ],
      "metadata": {
        "nteract": {
          "transient": {
            "deleting": false
          }
        }
      },
      "id": "6bf6ee8a-5b15-44d1-8f63-95dce684fe8d"
    },
    {
      "cell_type": "code",
      "source": [
        "workspace_default_storage_account = \"aml6214727930\"\n",
        "workspace_default_container = \"azureml-blobstore-6653633b-3460-4381-9199-d9e0f368353c\"\n",
        "\n",
        "workspace_wasbs_base_url = (\n",
        "    f\"wasbs://{workspace_default_container}@{workspace_default_storage_account}.blob.core.windows.net/\"\n",
        ")"
      ],
      "outputs": [
        {
          "output_type": "display_data",
          "data": {
            "application/vnd.livy.statement-meta+json": {
              "spark_pool": "7c27951d-2bdf-4140-be82-d0dc0c0e7d8e",
              "session_id": "18",
              "statement_id": 9,
              "state": "finished",
              "livy_statement_state": "available",
              "queued_time": "2023-11-03T15:24:38.3613157Z",
              "session_start_time": null,
              "execution_start_time": "2023-11-03T15:24:38.578839Z",
              "execution_finish_time": "2023-11-03T15:24:38.9354677Z",
              "spark_jobs": {
                "numbers": {
                  "SUCCEEDED": 0,
                  "RUNNING": 0,
                  "FAILED": 0,
                  "UNKNOWN": 0
                },
                "jobs": [],
                "limit": 20,
                "rule": "ALL_DESC"
              },
              "parent_msg_id": "fd9a7599-40f8-4e0f-9b16-8cb7c80fff25"
            },
            "text/plain": "StatementMeta(7c27951d-2bdf-4140-be82-d0dc0c0e7d8e, 18, 9, Finished, Available)"
          },
          "metadata": {}
        }
      ],
      "execution_count": 4,
      "metadata": {
        "jupyter": {
          "source_hidden": false,
          "outputs_hidden": false
        },
        "nteract": {
          "transient": {
            "deleting": false
          }
        },
        "gather": {
          "logged": 1699025079043
        }
      },
      "id": "2b01020e-e826-4093-837f-47515dfa1b6b"
    },
    {
      "cell_type": "code",
      "source": [
        "comments_filtered.select(\"subreddit\", \"author\",\"author_flair_text\", \"body\", \"parent_id\", \"link_id\", \"id\", \"created_utc\").write.mode(\"overwrite\").parquet(f\"{workspace_wasbs_base_url}/basketball_comments_sep.parquet\")"
      ],
      "outputs": [
        {
          "output_type": "display_data",
          "data": {
            "application/vnd.livy.statement-meta+json": {
              "spark_pool": "d3c1b951-094c-48e1-919d-e32bc175397b",
              "session_id": "7",
              "statement_id": 13,
              "state": "finished",
              "livy_statement_state": "available",
              "queued_time": "2023-11-03T01:59:20.2764481Z",
              "session_start_time": null,
              "execution_start_time": "2023-11-03T01:59:20.4283624Z",
              "execution_finish_time": "2023-11-03T02:38:35.8362796Z",
              "spark_jobs": {
                "numbers": {
                  "RUNNING": 0,
                  "SUCCEEDED": 1,
                  "FAILED": 0,
                  "UNKNOWN": 0
                },
                "jobs": [
                  {
                    "displayName": "parquet at NativeMethodAccessorImpl.java:0",
                    "dataWritten": 170939214,
                    "dataRead": 525742623630,
                    "rowCount": 6013024692,
                    "usageDescription": "",
                    "jobId": 2,
                    "name": "parquet at NativeMethodAccessorImpl.java:0",
                    "description": "Job group for statement 13:\ncomments_filtered.select(\"subreddit\", \"author\",\"author_flair_text\", \"body\", \"parent_id\", \"link_id\", \"id\", \"created_utc\").write.mode(\"overwrite\").parquet(f\"{workspace_wasbs_base_url}/basketball_comments_sep.parquet\")",
                    "submissionTime": "2023-11-03T01:59:23.723GMT",
                    "completionTime": "2023-11-03T02:37:50.993GMT",
                    "stageIds": [
                      2
                    ],
                    "jobGroup": "13",
                    "status": "SUCCEEDED",
                    "numTasks": 7428,
                    "numActiveTasks": 0,
                    "numCompletedTasks": 7428,
                    "numSkippedTasks": 0,
                    "numFailedTasks": 0,
                    "numKilledTasks": 0,
                    "numCompletedIndices": 7428,
                    "numActiveStages": 0,
                    "numCompletedStages": 1,
                    "numSkippedStages": 0,
                    "numFailedStages": 0,
                    "killedTasksSummary": {}
                  }
                ],
                "limit": 20,
                "rule": "ALL_DESC"
              },
              "parent_msg_id": "abb0942a-e260-4355-a192-80fda7933614"
            },
            "text/plain": "StatementMeta(d3c1b951-094c-48e1-919d-e32bc175397b, 7, 13, Finished, Available)"
          },
          "metadata": {}
        }
      ],
      "execution_count": 8,
      "metadata": {
        "jupyter": {
          "source_hidden": false,
          "outputs_hidden": false
        },
        "nteract": {
          "transient": {
            "deleting": false
          }
        },
        "gather": {
          "logged": 1698979116252
        }
      },
      "id": "59b51c5c-eac6-4b42-9b63-c6366e4f7947"
    },
    {
      "cell_type": "code",
      "source": [
        "submissions_filtered.select(\"subreddit\", \"author\", 'author_flair_text',\"title\", \"selftext\", \"created_utc\", \"num_comments\").write.mode(\"overwrite\").parquet(f\"{workspace_wasbs_base_url}/basketball_submissions_sep.parquet\")"
      ],
      "outputs": [
        {
          "output_type": "display_data",
          "data": {
            "application/vnd.livy.statement-meta+json": {
              "spark_pool": "d3c1b951-094c-48e1-919d-e32bc175397b",
              "session_id": "7",
              "statement_id": 15,
              "state": "finished",
              "livy_statement_state": "available",
              "queued_time": "2023-11-03T02:40:56.0758728Z",
              "session_start_time": null,
              "execution_start_time": "2023-11-03T02:40:56.2221939Z",
              "execution_finish_time": "2023-11-03T02:50:46.9424521Z",
              "spark_jobs": {
                "numbers": {
                  "RUNNING": 0,
                  "SUCCEEDED": 1,
                  "FAILED": 0,
                  "UNKNOWN": 0
                },
                "jobs": [
                  {
                    "displayName": "parquet at NativeMethodAccessorImpl.java:0",
                    "dataWritten": 12570391,
                    "dataRead": 59310198117,
                    "rowCount": 595601450,
                    "usageDescription": "",
                    "jobId": 3,
                    "name": "parquet at NativeMethodAccessorImpl.java:0",
                    "description": "Job group for statement 15:\nsubmissions_filtered.select(\"subreddit\", \"author\", 'author_flair_text',\"title\", \"selftext\", \"created_utc\", \"num_comments\").write.mode(\"overwrite\").parquet(f\"{workspace_wasbs_base_url}/basketball_submissions_sep.parquet\")",
                    "submissionTime": "2023-11-03T02:40:56.766GMT",
                    "completionTime": "2023-11-03T02:50:29.886GMT",
                    "stageIds": [
                      3
                    ],
                    "jobGroup": "15",
                    "status": "SUCCEEDED",
                    "numTasks": 3080,
                    "numActiveTasks": 0,
                    "numCompletedTasks": 3080,
                    "numSkippedTasks": 0,
                    "numFailedTasks": 0,
                    "numKilledTasks": 0,
                    "numCompletedIndices": 3080,
                    "numActiveStages": 0,
                    "numCompletedStages": 1,
                    "numSkippedStages": 0,
                    "numFailedStages": 0,
                    "killedTasksSummary": {}
                  }
                ],
                "limit": 20,
                "rule": "ALL_DESC"
              },
              "parent_msg_id": "90caa735-44df-43ac-a4b1-857a5ab5d49b"
            },
            "text/plain": "StatementMeta(d3c1b951-094c-48e1-919d-e32bc175397b, 7, 15, Finished, Available)"
          },
          "metadata": {}
        }
      ],
      "execution_count": 10,
      "metadata": {
        "jupyter": {
          "source_hidden": false,
          "outputs_hidden": false
        },
        "nteract": {
          "transient": {
            "deleting": false
          }
        },
        "gather": {
          "logged": 1698979847217
        }
      },
      "id": "c6c0b78d-6cc5-49de-a6ec-73eda12c28e3"
    },
    {
      "cell_type": "markdown",
      "source": [
        "#### Loading Intermediate Data"
      ],
      "metadata": {
        "nteract": {
          "transient": {
            "deleting": false
          }
        }
      },
      "id": "5d61eabb-c0c5-48bd-8a2b-9419d9a4c970"
    },
    {
      "cell_type": "code",
      "source": [
        "#datastore = 'azureml://datastores/workspaceblobstore/paths'\n",
        "comments_path = \"/basketball_comments_sep.parquet\"\n",
        "submissions_path = \"/basketball_submissions_sep.parquet\"\n",
        "\n",
        "comments = spark.read.parquet(f\"{workspace_wasbs_base_url}{comments_path}\")\n",
        "submissions = spark.read.parquet(f\"{workspace_wasbs_base_url}{submissions_path}\")\n",
        "\n"
      ],
      "outputs": [
        {
          "output_type": "display_data",
          "data": {
            "application/vnd.livy.statement-meta+json": {
              "spark_pool": "7c27951d-2bdf-4140-be82-d0dc0c0e7d8e",
              "session_id": "18",
              "statement_id": 10,
              "state": "finished",
              "livy_statement_state": "available",
              "queued_time": "2023-11-03T15:24:41.3076068Z",
              "session_start_time": null,
              "execution_start_time": "2023-11-03T15:24:41.4498742Z",
              "execution_finish_time": "2023-11-03T15:24:58.7118476Z",
              "spark_jobs": {
                "numbers": {
                  "SUCCEEDED": 2,
                  "RUNNING": 0,
                  "FAILED": 0,
                  "UNKNOWN": 0
                },
                "jobs": [
                  {
                    "displayName": "parquet at NativeMethodAccessorImpl.java:0",
                    "dataWritten": 0,
                    "dataRead": 0,
                    "rowCount": 0,
                    "usageDescription": "",
                    "jobId": 1,
                    "name": "parquet at NativeMethodAccessorImpl.java:0",
                    "description": "Job group for statement 10:\n#datastore = 'azureml://datastores/workspaceblobstore/paths'\ncomments_path = \"/basketball_comments_sep.parquet\"\nsubmissions_path = \"/basketball_submissions_sep.parquet\"\n\ncomments = spark.read.parquet(f\"{workspace_wasbs_base_url}{comments_path}\")\nsubmissions = spark.read.parquet(f\"{workspace_wasbs_base_url}{submissions_path}\")\n\n",
                    "submissionTime": "2023-11-03T15:24:52.763GMT",
                    "completionTime": "2023-11-03T15:24:57.516GMT",
                    "stageIds": [
                      1
                    ],
                    "jobGroup": "10",
                    "status": "SUCCEEDED",
                    "numTasks": 1,
                    "numActiveTasks": 0,
                    "numCompletedTasks": 1,
                    "numSkippedTasks": 0,
                    "numFailedTasks": 0,
                    "numKilledTasks": 0,
                    "numCompletedIndices": 1,
                    "numActiveStages": 0,
                    "numCompletedStages": 1,
                    "numSkippedStages": 0,
                    "numFailedStages": 0,
                    "killedTasksSummary": {}
                  },
                  {
                    "displayName": "parquet at NativeMethodAccessorImpl.java:0",
                    "dataWritten": 0,
                    "dataRead": 0,
                    "rowCount": 0,
                    "usageDescription": "",
                    "jobId": 0,
                    "name": "parquet at NativeMethodAccessorImpl.java:0",
                    "description": "Job group for statement 10:\n#datastore = 'azureml://datastores/workspaceblobstore/paths'\ncomments_path = \"/basketball_comments_sep.parquet\"\nsubmissions_path = \"/basketball_submissions_sep.parquet\"\n\ncomments = spark.read.parquet(f\"{workspace_wasbs_base_url}{comments_path}\")\nsubmissions = spark.read.parquet(f\"{workspace_wasbs_base_url}{submissions_path}\")\n\n",
                    "submissionTime": "2023-11-03T15:24:44.038GMT",
                    "completionTime": "2023-11-03T15:24:50.830GMT",
                    "stageIds": [
                      0
                    ],
                    "jobGroup": "10",
                    "status": "SUCCEEDED",
                    "numTasks": 1,
                    "numActiveTasks": 0,
                    "numCompletedTasks": 1,
                    "numSkippedTasks": 0,
                    "numFailedTasks": 0,
                    "numKilledTasks": 0,
                    "numCompletedIndices": 1,
                    "numActiveStages": 0,
                    "numCompletedStages": 1,
                    "numSkippedStages": 0,
                    "numFailedStages": 0,
                    "killedTasksSummary": {}
                  }
                ],
                "limit": 20,
                "rule": "ALL_DESC"
              },
              "parent_msg_id": "69f3351f-6a0f-4a7c-bbae-995e0738621a"
            },
            "text/plain": "StatementMeta(7c27951d-2bdf-4140-be82-d0dc0c0e7d8e, 18, 10, Finished, Available)"
          },
          "metadata": {}
        }
      ],
      "execution_count": 5,
      "metadata": {
        "jupyter": {
          "source_hidden": false,
          "outputs_hidden": false
        },
        "nteract": {
          "transient": {
            "deleting": false
          }
        },
        "gather": {
          "logged": 1699025098911
        }
      },
      "id": "83ecbd9b-d668-4df1-be79-45e12deb05be"
    },
    {
      "cell_type": "markdown",
      "source": [
        "#### EDA"
      ],
      "metadata": {
        "nteract": {
          "transient": {
            "deleting": false
          }
        }
      },
      "id": "8963c050-ee55-48b3-97f1-8af8f05f0279"
    },
    {
      "cell_type": "code",
      "source": [
        "submissions = submissions.cache()\n",
        "comments = comments.cache()"
      ],
      "outputs": [
        {
          "output_type": "display_data",
          "data": {
            "application/vnd.livy.statement-meta+json": {
              "spark_pool": "d3c1b951-094c-48e1-919d-e32bc175397b",
              "session_id": "9",
              "statement_id": 27,
              "state": "finished",
              "livy_statement_state": "available",
              "queued_time": "2023-11-03T03:14:42.0772566Z",
              "session_start_time": null,
              "execution_start_time": "2023-11-03T03:14:42.1893929Z",
              "execution_finish_time": "2023-11-03T03:14:43.1145857Z",
              "spark_jobs": {
                "numbers": {
                  "RUNNING": 0,
                  "SUCCEEDED": 0,
                  "FAILED": 0,
                  "UNKNOWN": 0
                },
                "jobs": [],
                "limit": 20,
                "rule": "ALL_DESC"
              },
              "parent_msg_id": "1b71db51-b452-4252-a59e-0861ea5e160f"
            },
            "text/plain": "StatementMeta(d3c1b951-094c-48e1-919d-e32bc175397b, 9, 27, Finished, Available)"
          },
          "metadata": {}
        }
      ],
      "execution_count": 23,
      "metadata": {
        "jupyter": {
          "source_hidden": false,
          "outputs_hidden": false
        },
        "nteract": {
          "transient": {
            "deleting": false
          }
        },
        "gather": {
          "logged": 1698981283394
        }
      },
      "id": "d1653834-0869-4f3f-9de2-39b5428d632e"
    },
    {
      "cell_type": "code",
      "source": [
        "submissions.count()"
      ],
      "outputs": [
        {
          "output_type": "display_data",
          "data": {
            "application/vnd.livy.statement-meta+json": {
              "spark_pool": "7c27951d-2bdf-4140-be82-d0dc0c0e7d8e",
              "session_id": "18",
              "statement_id": 11,
              "state": "submitted",
              "livy_statement_state": "running",
              "queued_time": "2023-11-03T15:25:01.8262314Z",
              "session_start_time": null,
              "execution_start_time": "2023-11-03T15:25:01.9879778Z",
              "execution_finish_time": null,
              "spark_jobs": {
                "numbers": {
                  "SUCCEEDED": 0,
                  "RUNNING": 1,
                  "FAILED": 0,
                  "UNKNOWN": 0
                },
                "jobs": [
                  {
                    "displayName": "count at NativeMethodAccessorImpl.java:0",
                    "dataWritten": 0,
                    "dataRead": 0,
                    "rowCount": 0,
                    "usageDescription": "",
                    "jobId": 2,
                    "name": "count at NativeMethodAccessorImpl.java:0",
                    "description": "Job group for statement 11:\nsubmissions.count()",
                    "submissionTime": "2023-11-03T15:25:03.406GMT",
                    "stageIds": [
                      2
                    ],
                    "jobGroup": "11",
                    "status": "RUNNING",
                    "numTasks": 64,
                    "numActiveTasks": 9,
                    "numCompletedTasks": 0,
                    "numSkippedTasks": 0,
                    "numFailedTasks": 0,
                    "numKilledTasks": 0,
                    "numCompletedIndices": 0,
                    "numActiveStages": 1,
                    "numCompletedStages": 0,
                    "numSkippedStages": 0,
                    "numFailedStages": 0,
                    "killedTasksSummary": {}
                  }
                ],
                "limit": 20,
                "rule": "ALL_DESC"
              },
              "parent_msg_id": "9a33e198-b879-4421-ba48-a02ed9b71b1e"
            },
            "text/plain": "StatementMeta(7c27951d-2bdf-4140-be82-d0dc0c0e7d8e, 18, 11, Submitted, Running)"
          },
          "metadata": {}
        }
      ],
      "execution_count": 6,
      "metadata": {
        "jupyter": {
          "source_hidden": false,
          "outputs_hidden": false
        },
        "nteract": {
          "transient": {
            "deleting": false
          }
        },
        "gather": {
          "logged": 1698979923841
        }
      },
      "id": "236eefdd-7512-4b3c-b99e-a3373dac6d09"
    },
    {
      "cell_type": "code",
      "source": [
        "comments.count()"
      ],
      "outputs": [
        {
          "output_type": "display_data",
          "data": {
            "application/vnd.livy.statement-meta+json": {
              "spark_pool": "d3c1b951-094c-48e1-919d-e32bc175397b",
              "session_id": "7",
              "statement_id": 23,
              "state": "finished",
              "livy_statement_state": "available",
              "queued_time": "2023-11-03T02:52:08.8488638Z",
              "session_start_time": null,
              "execution_start_time": "2023-11-03T02:52:08.9626821Z",
              "execution_finish_time": "2023-11-03T02:52:59.6766143Z",
              "spark_jobs": {
                "numbers": {
                  "RUNNING": 0,
                  "SUCCEEDED": 2,
                  "FAILED": 0,
                  "UNKNOWN": 0
                },
                "jobs": [
                  {
                    "displayName": "count at NativeMethodAccessorImpl.java:0",
                    "dataWritten": 0,
                    "dataRead": 10737,
                    "rowCount": 182,
                    "usageDescription": "",
                    "jobId": 13,
                    "name": "count at NativeMethodAccessorImpl.java:0",
                    "description": "Job group for statement 23:\ncomments.count()",
                    "submissionTime": "2023-11-03T02:52:57.297GMT",
                    "completionTime": "2023-11-03T02:52:57.763GMT",
                    "stageIds": [
                      15,
                      14
                    ],
                    "jobGroup": "23",
                    "status": "SUCCEEDED",
                    "numTasks": 183,
                    "numActiveTasks": 0,
                    "numCompletedTasks": 1,
                    "numSkippedTasks": 182,
                    "numFailedTasks": 0,
                    "numKilledTasks": 0,
                    "numCompletedIndices": 1,
                    "numActiveStages": 0,
                    "numCompletedStages": 1,
                    "numSkippedStages": 1,
                    "numFailedStages": 0,
                    "killedTasksSummary": {}
                  },
                  {
                    "displayName": "count at NativeMethodAccessorImpl.java:0",
                    "dataWritten": 10737,
                    "dataRead": 192935219,
                    "rowCount": 1575352,
                    "usageDescription": "",
                    "jobId": 12,
                    "name": "count at NativeMethodAccessorImpl.java:0",
                    "description": "Job group for statement 23:\ncomments.count()",
                    "submissionTime": "2023-11-03T02:52:09.140GMT",
                    "completionTime": "2023-11-03T02:52:57.271GMT",
                    "stageIds": [
                      13
                    ],
                    "jobGroup": "23",
                    "status": "SUCCEEDED",
                    "numTasks": 182,
                    "numActiveTasks": 0,
                    "numCompletedTasks": 182,
                    "numSkippedTasks": 0,
                    "numFailedTasks": 29,
                    "numKilledTasks": 0,
                    "numCompletedIndices": 182,
                    "numActiveStages": 0,
                    "numCompletedStages": 1,
                    "numSkippedStages": 0,
                    "numFailedStages": 0,
                    "killedTasksSummary": {}
                  }
                ],
                "limit": 20,
                "rule": "ALL_DESC"
              },
              "parent_msg_id": "5314243f-7743-4ef7-8a8f-e687ee448d21"
            },
            "text/plain": "StatementMeta(d3c1b951-094c-48e1-919d-e32bc175397b, 7, 23, Finished, Available)"
          },
          "metadata": {}
        },
        {
          "output_type": "execute_result",
          "execution_count": 45,
          "data": {
            "text/plain": "1575170"
          },
          "metadata": {}
        }
      ],
      "execution_count": 18,
      "metadata": {
        "jupyter": {
          "source_hidden": false,
          "outputs_hidden": false
        },
        "nteract": {
          "transient": {
            "deleting": false
          }
        },
        "gather": {
          "logged": 1698979980139
        }
      },
      "id": "11daedb2-eebd-49af-9697-4e45fdf99fc1"
    },
    {
      "cell_type": "code",
      "source": [
        "submissions = submissions.filter((submissions.selftext != \"\") & (submissions.selftext != \"[deleted]\")& (submissions.selftext != \"[removed]\"))"
      ],
      "outputs": [
        {
          "output_type": "display_data",
          "data": {
            "application/vnd.livy.statement-meta+json": {
              "spark_pool": "d3c1b951-094c-48e1-919d-e32bc175397b",
              "session_id": "9",
              "statement_id": 24,
              "state": "finished",
              "livy_statement_state": "available",
              "queued_time": "2023-11-03T03:13:40.4468968Z",
              "session_start_time": null,
              "execution_start_time": "2023-11-03T03:13:40.5597865Z",
              "execution_finish_time": "2023-11-03T03:13:40.9178291Z",
              "spark_jobs": {
                "numbers": {
                  "RUNNING": 0,
                  "SUCCEEDED": 0,
                  "FAILED": 0,
                  "UNKNOWN": 0
                },
                "jobs": [],
                "limit": 20,
                "rule": "ALL_DESC"
              },
              "parent_msg_id": "03b37bba-0578-4cbd-a5df-be5a4a622b23"
            },
            "text/plain": "StatementMeta(d3c1b951-094c-48e1-919d-e32bc175397b, 9, 24, Finished, Available)"
          },
          "metadata": {}
        }
      ],
      "execution_count": 20,
      "metadata": {
        "jupyter": {
          "source_hidden": false,
          "outputs_hidden": false
        },
        "nteract": {
          "transient": {
            "deleting": false
          }
        },
        "gather": {
          "logged": 1698981221130
        }
      },
      "id": "50754198-54ac-40b0-8484-dbc1f256a1c3"
    },
    {
      "cell_type": "code",
      "source": [
        "comments = comments.filter(comments.body != \"\")"
      ],
      "outputs": [
        {
          "output_type": "display_data",
          "data": {
            "application/vnd.livy.statement-meta+json": {
              "spark_pool": "d3c1b951-094c-48e1-919d-e32bc175397b",
              "session_id": "9",
              "statement_id": 22,
              "state": "finished",
              "livy_statement_state": "available",
              "queued_time": "2023-11-03T03:12:53.3499422Z",
              "session_start_time": null,
              "execution_start_time": "2023-11-03T03:12:53.4794096Z",
              "execution_finish_time": "2023-11-03T03:12:53.8435917Z",
              "spark_jobs": {
                "numbers": {
                  "RUNNING": 0,
                  "SUCCEEDED": 0,
                  "FAILED": 0,
                  "UNKNOWN": 0
                },
                "jobs": [],
                "limit": 20,
                "rule": "ALL_DESC"
              },
              "parent_msg_id": "2473f840-84e6-4d84-9a55-e0b659b5eac5"
            },
            "text/plain": "StatementMeta(d3c1b951-094c-48e1-919d-e32bc175397b, 9, 22, Finished, Available)"
          },
          "metadata": {}
        }
      ],
      "execution_count": 18,
      "metadata": {
        "jupyter": {
          "source_hidden": false,
          "outputs_hidden": false
        },
        "nteract": {
          "transient": {
            "deleting": false
          }
        },
        "gather": {
          "logged": 1698981174090
        }
      },
      "id": "07b0017d-fcc8-413d-9c66-bf5b16d7db9d"
    },
    {
      "cell_type": "code",
      "source": [
        "submissions.select(\"subreddit\", \"author\", \"title\", \"selftext\", \"created_utc\", \"num_comments\").show()"
      ],
      "outputs": [
        {
          "output_type": "display_data",
          "data": {
            "application/vnd.livy.statement-meta+json": {
              "spark_pool": "d3c1b951-094c-48e1-919d-e32bc175397b",
              "session_id": "9",
              "statement_id": 25,
              "state": "finished",
              "livy_statement_state": "available",
              "queued_time": "2023-11-03T03:13:43.576091Z",
              "session_start_time": null,
              "execution_start_time": "2023-11-03T03:13:43.6853171Z",
              "execution_finish_time": "2023-11-03T03:13:44.5744942Z",
              "spark_jobs": {
                "numbers": {
                  "RUNNING": 0,
                  "SUCCEEDED": 1,
                  "FAILED": 0,
                  "UNKNOWN": 0
                },
                "jobs": [
                  {
                    "displayName": "showString at NativeMethodAccessorImpl.java:0",
                    "dataWritten": 0,
                    "dataRead": 1111728,
                    "rowCount": 1,
                    "usageDescription": "",
                    "jobId": 11,
                    "name": "showString at NativeMethodAccessorImpl.java:0",
                    "description": "Job group for statement 25:\nsubmissions.select(\"subreddit\", \"author\", \"title\", \"selftext\", \"created_utc\", \"num_comments\").show()",
                    "submissionTime": "2023-11-03T03:13:43.798GMT",
                    "completionTime": "2023-11-03T03:13:43.863GMT",
                    "stageIds": [
                      14
                    ],
                    "jobGroup": "25",
                    "status": "SUCCEEDED",
                    "numTasks": 1,
                    "numActiveTasks": 0,
                    "numCompletedTasks": 1,
                    "numSkippedTasks": 0,
                    "numFailedTasks": 0,
                    "numKilledTasks": 0,
                    "numCompletedIndices": 1,
                    "numActiveStages": 0,
                    "numCompletedStages": 1,
                    "numSkippedStages": 0,
                    "numFailedStages": 0,
                    "killedTasksSummary": {}
                  }
                ],
                "limit": 20,
                "rule": "ALL_DESC"
              },
              "parent_msg_id": "856f4c0b-7a26-4652-92fc-eda7f861bac3"
            },
            "text/plain": "StatementMeta(d3c1b951-094c-48e1-919d-e32bc175397b, 9, 25, Finished, Available)"
          },
          "metadata": {}
        },
        {
          "output_type": "stream",
          "name": "stdout",
          "text": "+-----------------+--------------------+--------------------+--------------------+-------------------+------------+\n|        subreddit|              author|               title|            selftext|        created_utc|num_comments|\n+-----------------+--------------------+--------------------+--------------------+-------------------+------------+\n|CollegeBasketball|             rCBBMod|Announcement: The...|Hello r/CollegeBa...|2022-03-17 14:00:50|           9|\n|CollegeBasketball|       AutoModerator|[Weekly Post] Fre...|Are you new to th...|2022-04-29 15:00:11|           0|\n|CollegeBasketball|       AutoModerator|[Weekly Post] Fre...|It's Free Talk Fr...|2022-04-29 15:00:11|           1|\n|CollegeBasketball|              cbbBot|[Game Thread] Neb...|[Nebraska](#f/neb...|2022-02-23 00:54:05|          41|\n|CollegeBasketball|              cbbBot|[Game Thread] Kan...|[Kansas State](#f...|2022-02-23 01:00:04|         626|\n|CollegeBasketball|              cbbBot|[Game Thread] #24...|[Alabama](#f/alab...|2022-02-23 01:00:05|         198|\n|CollegeBasketball|              cbbBot|[Game Thread] San...|[San Diego State]...|2022-02-23 01:00:06|         135|\n|CollegeBasketball|              i_MiLK|Meet the Mid-Majo...|Hello March Madne...|2022-03-07 14:41:43|           5|\n|CollegeBasketball|          INtoCT2015|Izzo surpasses Bo...|Sorry to hijack I...|2022-03-07 14:50:10|           9|\n|CollegeBasketball|   urdueBoilermakers|Since the Big Ten...|(Note, when Purdu...|2022-03-07 14:55:07|          47|\n|CollegeBasketball|          sourceit88|240 Teams are sti...|Sunday had 17 new...|2022-03-07 14:58:37|           4|\n|CollegeBasketball|          cbbpollbot|  User Poll: Week 18|\\nRank||Team (Fir...|2022-03-07 15:00:04|         173|\n|CollegeBasketball|  Sharp_Quarter_8343|               BIG10|Anyone else think...|2022-03-07 15:03:26|          19|\n|CollegeBasketball|              cbbBot|Game Thread Index...|# Ranked Games\\n\\...|2022-03-07 15:07:07|           0|\n|CollegeBasketball|      TallLatvianLad|Mid-Major+ User P...|Rankings of teams...|2022-03-07 15:11:12|           9|\n|         tarheels|SteelHeelNittanyLion|What seed do you ...|[removed]\\n\\n[Vie...|2022-03-07 15:12:34|           0|\n|CollegeBasketball|              cbbBot|[Game Thread] #18...|[Texas](#f/texas)...|2021-12-19 19:00:06|          23|\n|CollegeBasketball|              cbbBot|[Game Thread] UT ...|[UT Martin](#f/ut...|2021-12-19 19:00:10|           0|\n|CollegeBasketball|              cbbBot|[Game Thread] UT ...|[UT Arlington](#f...|2021-12-19 19:00:14|           2|\n|CollegeBasketball|              cbbBot|[Game Thread] SMU...|[SMU](#f/smu) **9...|2021-12-19 19:00:19|           3|\n+-----------------+--------------------+--------------------+--------------------+-------------------+------------+\nonly showing top 20 rows\n\n"
        }
      ],
      "execution_count": 21,
      "metadata": {
        "jupyter": {
          "source_hidden": false,
          "outputs_hidden": false
        },
        "nteract": {
          "transient": {
            "deleting": false
          }
        },
        "gather": {
          "logged": 1698981224861
        }
      },
      "id": "a3054e6b-ba12-4b31-ae52-bad5e3982481"
    },
    {
      "cell_type": "code",
      "source": [
        "print(\"Count of Comments by Subreddit\")\n",
        "print(comments.groupBy('subreddit').count().show())"
      ],
      "outputs": [
        {
          "output_type": "display_data",
          "data": {
            "application/vnd.livy.statement-meta+json": {
              "spark_pool": "d3c1b951-094c-48e1-919d-e32bc175397b",
              "session_id": "9",
              "statement_id": 28,
              "state": "finished",
              "livy_statement_state": "available",
              "queued_time": "2023-11-03T03:14:47.7584262Z",
              "session_start_time": null,
              "execution_start_time": "2023-11-03T03:14:47.8841062Z",
              "execution_finish_time": "2023-11-03T03:15:16.3832716Z",
              "spark_jobs": {
                "numbers": {
                  "RUNNING": 0,
                  "SUCCEEDED": 2,
                  "FAILED": 0,
                  "UNKNOWN": 0
                },
                "jobs": [
                  {
                    "displayName": "showString at NativeMethodAccessorImpl.java:0",
                    "dataWritten": 0,
                    "dataRead": 39894,
                    "rowCount": 516,
                    "usageDescription": "",
                    "jobId": 14,
                    "name": "showString at NativeMethodAccessorImpl.java:0",
                    "description": "Job group for statement 28:\nprint(\"Count of Comments by Subreddit\")\nprint(comments.groupBy('subreddit').count().show())",
                    "submissionTime": "2023-11-03T03:15:15.622GMT",
                    "completionTime": "2023-11-03T03:15:15.906GMT",
                    "stageIds": [
                      17,
                      18
                    ],
                    "jobGroup": "28",
                    "status": "SUCCEEDED",
                    "numTasks": 183,
                    "numActiveTasks": 0,
                    "numCompletedTasks": 1,
                    "numSkippedTasks": 182,
                    "numFailedTasks": 0,
                    "numKilledTasks": 0,
                    "numCompletedIndices": 1,
                    "numActiveStages": 0,
                    "numCompletedStages": 1,
                    "numSkippedStages": 1,
                    "numFailedStages": 0,
                    "killedTasksSummary": {}
                  },
                  {
                    "displayName": "showString at NativeMethodAccessorImpl.java:0",
                    "dataWritten": 39894,
                    "dataRead": 234006353,
                    "rowCount": 1575686,
                    "usageDescription": "",
                    "jobId": 13,
                    "name": "showString at NativeMethodAccessorImpl.java:0",
                    "description": "Job group for statement 28:\nprint(\"Count of Comments by Subreddit\")\nprint(comments.groupBy('subreddit').count().show())",
                    "submissionTime": "2023-11-03T03:14:48.167GMT",
                    "completionTime": "2023-11-03T03:15:15.440GMT",
                    "stageIds": [
                      16
                    ],
                    "jobGroup": "28",
                    "status": "SUCCEEDED",
                    "numTasks": 182,
                    "numActiveTasks": 0,
                    "numCompletedTasks": 182,
                    "numSkippedTasks": 0,
                    "numFailedTasks": 0,
                    "numKilledTasks": 0,
                    "numCompletedIndices": 182,
                    "numActiveStages": 0,
                    "numCompletedStages": 1,
                    "numSkippedStages": 0,
                    "numFailedStages": 0,
                    "killedTasksSummary": {}
                  }
                ],
                "limit": 20,
                "rule": "ALL_DESC"
              },
              "parent_msg_id": "1e49be0f-c833-4a9c-8ab7-4c437f1cb130"
            },
            "text/plain": "StatementMeta(d3c1b951-094c-48e1-919d-e32bc175397b, 9, 28, Finished, Available)"
          },
          "metadata": {}
        },
        {
          "output_type": "stream",
          "name": "stdout",
          "text": "Count of Comments by Subreddit\n+-----------------+-------+\n|        subreddit|  count|\n+-----------------+-------+\n|         jayhawks|   6541|\n|CollegeBasketball|1567798|\n|         tarheels|    828|\n+-----------------+-------+\n\nNone\n"
        }
      ],
      "execution_count": 24,
      "metadata": {
        "jupyter": {
          "source_hidden": false,
          "outputs_hidden": false
        },
        "nteract": {
          "transient": {
            "deleting": false
          }
        },
        "gather": {
          "logged": 1698981316662
        }
      },
      "id": "5b1f7a87-e0bf-4524-89c5-49645067af3f"
    },
    {
      "cell_type": "code",
      "source": [
        "print(\"Count of Submissions by Subreddit\")\n",
        "print(submissions.groupBy('subreddit').count().show())"
      ],
      "outputs": [
        {
          "output_type": "display_data",
          "data": {
            "application/vnd.livy.statement-meta+json": {
              "spark_pool": "d3c1b951-094c-48e1-919d-e32bc175397b",
              "session_id": "9",
              "statement_id": 29,
              "state": "finished",
              "livy_statement_state": "available",
              "queued_time": "2023-11-03T03:15:20.9638003Z",
              "session_start_time": null,
              "execution_start_time": "2023-11-03T03:15:21.076079Z",
              "execution_finish_time": "2023-11-03T03:15:21.9917315Z",
              "spark_jobs": {
                "numbers": {
                  "RUNNING": 0,
                  "SUCCEEDED": 2,
                  "FAILED": 0,
                  "UNKNOWN": 0
                },
                "jobs": [
                  {
                    "displayName": "showString at NativeMethodAccessorImpl.java:0",
                    "dataWritten": 0,
                    "dataRead": 11079,
                    "rowCount": 141,
                    "usageDescription": "",
                    "jobId": 16,
                    "name": "showString at NativeMethodAccessorImpl.java:0",
                    "description": "Job group for statement 29:\nprint(\"Count of Submissions by Subreddit\")\nprint(submissions.groupBy('subreddit').count().show())",
                    "submissionTime": "2023-11-03T03:15:21.668GMT",
                    "completionTime": "2023-11-03T03:15:21.727GMT",
                    "stageIds": [
                      20,
                      21
                    ],
                    "jobGroup": "29",
                    "status": "SUCCEEDED",
                    "numTasks": 65,
                    "numActiveTasks": 0,
                    "numCompletedTasks": 1,
                    "numSkippedTasks": 64,
                    "numFailedTasks": 0,
                    "numKilledTasks": 0,
                    "numCompletedIndices": 1,
                    "numActiveStages": 0,
                    "numCompletedStages": 1,
                    "numSkippedStages": 1,
                    "numFailedStages": 0,
                    "killedTasksSummary": {}
                  },
                  {
                    "displayName": "showString at NativeMethodAccessorImpl.java:0",
                    "dataWritten": 11079,
                    "dataRead": 13994220,
                    "rowCount": 205,
                    "usageDescription": "",
                    "jobId": 15,
                    "name": "showString at NativeMethodAccessorImpl.java:0",
                    "description": "Job group for statement 29:\nprint(\"Count of Submissions by Subreddit\")\nprint(submissions.groupBy('subreddit').count().show())",
                    "submissionTime": "2023-11-03T03:15:21.152GMT",
                    "completionTime": "2023-11-03T03:15:21.623GMT",
                    "stageIds": [
                      19
                    ],
                    "jobGroup": "29",
                    "status": "SUCCEEDED",
                    "numTasks": 64,
                    "numActiveTasks": 0,
                    "numCompletedTasks": 64,
                    "numSkippedTasks": 0,
                    "numFailedTasks": 0,
                    "numKilledTasks": 0,
                    "numCompletedIndices": 64,
                    "numActiveStages": 0,
                    "numCompletedStages": 1,
                    "numSkippedStages": 0,
                    "numFailedStages": 0,
                    "killedTasksSummary": {}
                  }
                ],
                "limit": 20,
                "rule": "ALL_DESC"
              },
              "parent_msg_id": "43e472aa-1885-4230-af39-27a346ec3a2e"
            },
            "text/plain": "StatementMeta(d3c1b951-094c-48e1-919d-e32bc175397b, 9, 29, Finished, Available)"
          },
          "metadata": {}
        },
        {
          "output_type": "stream",
          "name": "stdout",
          "text": "Count of Submissions by Subreddit\n+-----------------+-----+\n|        subreddit|count|\n+-----------------+-----+\n|         jayhawks|  204|\n|CollegeBasketball| 9567|\n|         tarheels|   33|\n+-----------------+-----+\n\nNone\n"
        }
      ],
      "execution_count": 25,
      "metadata": {
        "jupyter": {
          "source_hidden": false,
          "outputs_hidden": false
        },
        "nteract": {
          "transient": {
            "deleting": false
          }
        },
        "gather": {
          "logged": 1698981322236
        }
      },
      "id": "e3124bd6-019f-4040-b006-7bf8392e365f"
    },
    {
      "cell_type": "code",
      "source": [
        "from pyspark.sql.functions import *\n",
        "q = (\n",
        "    comments\n",
        "    .filter(col(\"subreddit\") == \"CollegeBasketball\")\n",
        "    .withColumn(\"day\", dayofmonth(col(\"created_utc\")))\n",
        "    .withColumn(\"month\", month(col(\"created_utc\")))\n",
        "    .withColumn(\"year\", year(col(\"created_utc\")))\n",
        "    .groupBy(\"year\", \"month\", \"day\")\n",
        "    .count()\n",
        ")\n",
        "df = q.toPandas()"
      ],
      "outputs": [
        {
          "output_type": "display_data",
          "data": {
            "application/vnd.livy.statement-meta+json": {
              "spark_pool": "d3c1b951-094c-48e1-919d-e32bc175397b",
              "session_id": "9",
              "statement_id": 31,
              "state": "finished",
              "livy_statement_state": "available",
              "queued_time": "2023-11-03T03:15:42.6558588Z",
              "session_start_time": null,
              "execution_start_time": "2023-11-03T03:15:42.7903654Z",
              "execution_finish_time": "2023-11-03T03:15:45.4059433Z",
              "spark_jobs": {
                "numbers": {
                  "RUNNING": 0,
                  "SUCCEEDED": 2,
                  "FAILED": 0,
                  "UNKNOWN": 0
                },
                "jobs": [
                  {
                    "displayName": "toPandas at /tmp/ipykernel_514/1464292824.py:11",
                    "dataWritten": 0,
                    "dataRead": 929394,
                    "rowCount": 14728,
                    "usageDescription": "",
                    "jobId": 18,
                    "name": "toPandas at /tmp/ipykernel_514/1464292824.py:11",
                    "description": "Job group for statement 31:\nfrom pyspark.sql.functions import *\nq = (\n    comments\n    .filter(col(\"subreddit\") == \"CollegeBasketball\")\n    .withColumn(\"day\", dayofmonth(col(\"created_utc\")))\n    .withColumn(\"month\", month(col(\"created_utc\")))\n    .withColumn(\"year\", year(col(\"created_utc\")))\n    .groupBy(\"year\", \"month\", \"day\")\n    .count()\n)\ndf = q.toPandas()",
                    "submissionTime": "2023-11-03T03:15:44.179GMT",
                    "completionTime": "2023-11-03T03:15:44.362GMT",
                    "stageIds": [
                      24,
                      23
                    ],
                    "jobGroup": "31",
                    "status": "SUCCEEDED",
                    "numTasks": 183,
                    "numActiveTasks": 0,
                    "numCompletedTasks": 1,
                    "numSkippedTasks": 182,
                    "numFailedTasks": 0,
                    "numKilledTasks": 0,
                    "numCompletedIndices": 1,
                    "numActiveStages": 0,
                    "numCompletedStages": 1,
                    "numSkippedStages": 1,
                    "numFailedStages": 0,
                    "killedTasksSummary": {}
                  },
                  {
                    "displayName": "toPandas at /tmp/ipykernel_514/1464292824.py:11",
                    "dataWritten": 929394,
                    "dataRead": 220647981,
                    "rowCount": 15003,
                    "usageDescription": "",
                    "jobId": 17,
                    "name": "toPandas at /tmp/ipykernel_514/1464292824.py:11",
                    "description": "Job group for statement 31:\nfrom pyspark.sql.functions import *\nq = (\n    comments\n    .filter(col(\"subreddit\") == \"CollegeBasketball\")\n    .withColumn(\"day\", dayofmonth(col(\"created_utc\")))\n    .withColumn(\"month\", month(col(\"created_utc\")))\n    .withColumn(\"year\", year(col(\"created_utc\")))\n    .groupBy(\"year\", \"month\", \"day\")\n    .count()\n)\ndf = q.toPandas()",
                    "submissionTime": "2023-11-03T03:15:42.949GMT",
                    "completionTime": "2023-11-03T03:15:44.143GMT",
                    "stageIds": [
                      22
                    ],
                    "jobGroup": "31",
                    "status": "SUCCEEDED",
                    "numTasks": 182,
                    "numActiveTasks": 0,
                    "numCompletedTasks": 182,
                    "numSkippedTasks": 0,
                    "numFailedTasks": 0,
                    "numKilledTasks": 0,
                    "numCompletedIndices": 182,
                    "numActiveStages": 0,
                    "numCompletedStages": 1,
                    "numSkippedStages": 0,
                    "numFailedStages": 0,
                    "killedTasksSummary": {}
                  }
                ],
                "limit": 20,
                "rule": "ALL_DESC"
              },
              "parent_msg_id": "03b1432d-2c3b-4276-acd5-487faac48d51"
            },
            "text/plain": "StatementMeta(d3c1b951-094c-48e1-919d-e32bc175397b, 9, 31, Finished, Available)"
          },
          "metadata": {}
        }
      ],
      "execution_count": 27,
      "metadata": {
        "jupyter": {
          "source_hidden": false,
          "outputs_hidden": false
        },
        "nteract": {
          "transient": {
            "deleting": false
          }
        },
        "gather": {
          "logged": 1698981345650
        }
      },
      "id": "7090c84c-6810-44f5-872f-ada493812061"
    },
    {
      "cell_type": "code",
      "source": [
        "import matplotlib.pyplot as plt\n",
        "import pandas as pd\n",
        "\n",
        "df['date'] = pd.to_datetime(df[['year', 'month', 'day']])\n",
        "df = df.sort_values(by='date') \n",
        "plt.figure(figsize=(8, 6))\n",
        "plt.plot(df['date'], df['count'], marker='.', linestyle='-')\n",
        "plt.xlabel('Date')\n",
        "plt.ylabel('Count')\n",
        "plt.title('Comment Count by Day (r/CollegeBasketball)')\n",
        "plt.xticks(rotation=45)\n",
        "plt.tight_layout()\n",
        "plt.show()"
      ],
      "outputs": [
        {
          "output_type": "display_data",
          "data": {
            "application/vnd.livy.statement-meta+json": {
              "spark_pool": "d3c1b951-094c-48e1-919d-e32bc175397b",
              "session_id": "9",
              "statement_id": 37,
              "state": "finished",
              "livy_statement_state": "available",
              "queued_time": "2023-11-03T03:16:40.3690282Z",
              "session_start_time": null,
              "execution_start_time": "2023-11-03T03:16:40.5136009Z",
              "execution_finish_time": "2023-11-03T03:16:41.4923479Z",
              "spark_jobs": {
                "numbers": {
                  "RUNNING": 0,
                  "SUCCEEDED": 0,
                  "FAILED": 0,
                  "UNKNOWN": 0
                },
                "jobs": [],
                "limit": 20,
                "rule": "ALL_DESC"
              },
              "parent_msg_id": "c4fa09e7-ed6c-4e1a-9939-95096c86f75c"
            },
            "text/plain": "StatementMeta(d3c1b951-094c-48e1-919d-e32bc175397b, 9, 37, Finished, Available)"
          },
          "metadata": {}
        },
        {
          "output_type": "display_data",
          "data": {
            "text/plain": "<Figure size 576x432 with 1 Axes>",
            "image/png": "[encoded data removed]"
          },
          "metadata": {
            "needs_background": "light"
          }
        }
      ],
      "execution_count": 33,
      "metadata": {
        "jupyter": {
          "source_hidden": false,
          "outputs_hidden": false
        },
        "nteract": {
          "transient": {
            "deleting": false
          }
        },
        "gather": {
          "logged": 1698981401776
        }
      },
      "id": "1a609a17-dfd6-46b9-a241-71efce97f015"
    },
    {
      "cell_type": "code",
      "source": [
        "t = (\n",
        "    submissions\n",
        "    .filter(col(\"subreddit\") == \"CollegeBasketball\")\n",
        "    .withColumn(\"day\", dayofmonth(col(\"created_utc\")))\n",
        "    .withColumn(\"month\", month(col(\"created_utc\")))\n",
        "    .withColumn(\"year\", year(col(\"created_utc\")))\n",
        "    .groupBy(\"year\", \"month\", \"day\")\n",
        "    .count()\n",
        ")\n",
        "df_s = t.toPandas()"
      ],
      "outputs": [
        {
          "output_type": "display_data",
          "data": {
            "application/vnd.livy.statement-meta+json": {
              "spark_pool": "d3c1b951-094c-48e1-919d-e32bc175397b",
              "session_id": "9",
              "statement_id": 33,
              "state": "finished",
              "livy_statement_state": "available",
              "queued_time": "2023-11-03T03:16:03.7788122Z",
              "session_start_time": null,
              "execution_start_time": "2023-11-03T03:16:03.8897274Z",
              "execution_finish_time": "2023-11-03T03:16:04.7915422Z",
              "spark_jobs": {
                "numbers": {
                  "RUNNING": 0,
                  "SUCCEEDED": 2,
                  "FAILED": 0,
                  "UNKNOWN": 0
                },
                "jobs": [
                  {
                    "displayName": "toPandas at /tmp/ipykernel_514/1202966838.py:10",
                    "dataWritten": 0,
                    "dataRead": 181543,
                    "rowCount": 2729,
                    "usageDescription": "",
                    "jobId": 20,
                    "name": "toPandas at /tmp/ipykernel_514/1202966838.py:10",
                    "description": "Job group for statement 33:\nt = (\n    submissions\n    .filter(col(\"subreddit\") == \"CollegeBasketball\")\n    .withColumn(\"day\", dayofmonth(col(\"created_utc\")))\n    .withColumn(\"month\", month(col(\"created_utc\")))\n    .withColumn(\"year\", year(col(\"created_utc\")))\n    .groupBy(\"year\", \"month\", \"day\")\n    .count()\n)\ndf_s = t.toPandas()",
                    "submissionTime": "2023-11-03T03:16:04.486GMT",
                    "completionTime": "2023-11-03T03:16:04.565GMT",
                    "stageIds": [
                      27,
                      26
                    ],
                    "jobGroup": "33",
                    "status": "SUCCEEDED",
                    "numTasks": 65,
                    "numActiveTasks": 0,
                    "numCompletedTasks": 1,
                    "numSkippedTasks": 64,
                    "numFailedTasks": 0,
                    "numKilledTasks": 0,
                    "numCompletedIndices": 1,
                    "numActiveStages": 0,
                    "numCompletedStages": 1,
                    "numSkippedStages": 1,
                    "numFailedStages": 0,
                    "killedTasksSummary": {}
                  },
                  {
                    "displayName": "toPandas at /tmp/ipykernel_514/1202966838.py:10",
                    "dataWritten": 181543,
                    "dataRead": 12579398,
                    "rowCount": 2791,
                    "usageDescription": "",
                    "jobId": 19,
                    "name": "toPandas at /tmp/ipykernel_514/1202966838.py:10",
                    "description": "Job group for statement 33:\nt = (\n    submissions\n    .filter(col(\"subreddit\") == \"CollegeBasketball\")\n    .withColumn(\"day\", dayofmonth(col(\"created_utc\")))\n    .withColumn(\"month\", month(col(\"created_utc\")))\n    .withColumn(\"year\", year(col(\"created_utc\")))\n    .groupBy(\"year\", \"month\", \"day\")\n    .count()\n)\ndf_s = t.toPandas()",
                    "submissionTime": "2023-11-03T03:16:04.151GMT",
                    "completionTime": "2023-11-03T03:16:04.440GMT",
                    "stageIds": [
                      25
                    ],
                    "jobGroup": "33",
                    "status": "SUCCEEDED",
                    "numTasks": 64,
                    "numActiveTasks": 0,
                    "numCompletedTasks": 64,
                    "numSkippedTasks": 0,
                    "numFailedTasks": 0,
                    "numKilledTasks": 0,
                    "numCompletedIndices": 64,
                    "numActiveStages": 0,
                    "numCompletedStages": 1,
                    "numSkippedStages": 0,
                    "numFailedStages": 0,
                    "killedTasksSummary": {}
                  }
                ],
                "limit": 20,
                "rule": "ALL_DESC"
              },
              "parent_msg_id": "89b5439d-7f88-4066-9a6e-ab49be005d89"
            },
            "text/plain": "StatementMeta(d3c1b951-094c-48e1-919d-e32bc175397b, 9, 33, Finished, Available)"
          },
          "metadata": {}
        }
      ],
      "execution_count": 29,
      "metadata": {
        "jupyter": {
          "source_hidden": false,
          "outputs_hidden": false
        },
        "nteract": {
          "transient": {
            "deleting": false
          }
        },
        "gather": {
          "logged": 1698981365024
        }
      },
      "id": "ce6be376-bbf6-4bf4-98d2-0f5e3e1fd4a2"
    },
    {
      "cell_type": "code",
      "source": [
        "\n",
        "df_s['date'] = pd.to_datetime(df_s[['year', 'month', 'day']])\n",
        "df_s = df_s.sort_values(by='date') \n",
        "plt.figure(figsize=(8, 6))\n",
        "plt.plot(df_s['date'], df_s['count'], marker='.', linestyle='-')\n",
        "plt.xlabel('Date')\n",
        "plt.ylabel('Count')\n",
        "plt.title('Submission Count by Day (r/CollegeBasketball)')\n",
        "plt.xticks(rotation=45)\n",
        "plt.tight_layout()\n",
        "plt.show()"
      ],
      "outputs": [
        {
          "output_type": "display_data",
          "data": {
            "application/vnd.livy.statement-meta+json": {
              "spark_pool": "d3c1b951-094c-48e1-919d-e32bc175397b",
              "session_id": "9",
              "statement_id": 36,
              "state": "finished",
              "livy_statement_state": "available",
              "queued_time": "2023-11-03T03:16:32.4633171Z",
              "session_start_time": null,
              "execution_start_time": "2023-11-03T03:16:32.5881371Z",
              "execution_finish_time": "2023-11-03T03:16:33.743069Z",
              "spark_jobs": {
                "numbers": {
                  "RUNNING": 0,
                  "SUCCEEDED": 0,
                  "FAILED": 0,
                  "UNKNOWN": 0
                },
                "jobs": [],
                "limit": 20,
                "rule": "ALL_DESC"
              },
              "parent_msg_id": "22bbb569-a5a8-40ee-9709-bc9fa25baf8e"
            },
            "text/plain": "StatementMeta(d3c1b951-094c-48e1-919d-e32bc175397b, 9, 36, Finished, Available)"
          },
          "metadata": {}
        },
        {
          "output_type": "display_data",
          "data": {
            "text/plain": "<Figure size 576x432 with 1 Axes>",
            "image/png": "[encoded data removed]"
          },
          "metadata": {
            "needs_background": "light"
          }
        }
      ],
      "execution_count": 32,
      "metadata": {
        "jupyter": {
          "source_hidden": false,
          "outputs_hidden": false
        },
        "nteract": {
          "transient": {
            "deleting": false
          }
        },
        "gather": {
          "logged": 1698981394514
        }
      },
      "id": "216e731c-00c9-4f44-9dbe-42f74f0a01a0"
    },
    {
      "cell_type": "code",
      "source": [],
      "outputs": [],
      "execution_count": null,
      "metadata": {
        "jupyter": {
          "source_hidden": false,
          "outputs_hidden": false
        },
        "nteract": {
          "transient": {
            "deleting": false
          }
        }
      },
      "id": "e4c3d2a7-09cb-4a85-bfab-37ec524ef461"
    }
  ],
  "metadata": {
    "availableInstances": [
      {
        "_defaultOrder": 0,
        "_isFastLaunch": true,
        "category": "General purpose",
        "gpuNum": 0,
        "hideHardwareSpecs": false,
        "memoryGiB": 4,
        "name": "ml.t3.medium",
        "vcpuNum": 2
      },
      {
        "_defaultOrder": 1,
        "_isFastLaunch": false,
        "category": "General purpose",
        "gpuNum": 0,
        "hideHardwareSpecs": false,
        "memoryGiB": 8,
        "name": "ml.t3.large",
        "vcpuNum": 2
      },
      {
        "_defaultOrder": 2,
        "_isFastLaunch": false,
        "category": "General purpose",
        "gpuNum": 0,
        "hideHardwareSpecs": false,
        "memoryGiB": 16,
        "name": "ml.t3.xlarge",
        "vcpuNum": 4
      },
      {
        "_defaultOrder": 3,
        "_isFastLaunch": false,
        "category": "General purpose",
        "gpuNum": 0,
        "hideHardwareSpecs": false,
        "memoryGiB": 32,
        "name": "ml.t3.2xlarge",
        "vcpuNum": 8
      },
      {
        "_defaultOrder": 4,
        "_isFastLaunch": true,
        "category": "General purpose",
        "gpuNum": 0,
        "hideHardwareSpecs": false,
        "memoryGiB": 8,
        "name": "ml.m5.large",
        "vcpuNum": 2
      },
      {
        "_defaultOrder": 5,
        "_isFastLaunch": false,
        "category": "General purpose",
        "gpuNum": 0,
        "hideHardwareSpecs": false,
        "memoryGiB": 16,
        "name": "ml.m5.xlarge",
        "vcpuNum": 4
      },
      {
        "_defaultOrder": 6,
        "_isFastLaunch": false,
        "category": "General purpose",
        "gpuNum": 0,
        "hideHardwareSpecs": false,
        "memoryGiB": 32,
        "name": "ml.m5.2xlarge",
        "vcpuNum": 8
      },
      {
        "_defaultOrder": 7,
        "_isFastLaunch": false,
        "category": "General purpose",
        "gpuNum": 0,
        "hideHardwareSpecs": false,
        "memoryGiB": 64,
        "name": "ml.m5.4xlarge",
        "vcpuNum": 16
      },
      {
        "_defaultOrder": 8,
        "_isFastLaunch": false,
        "category": "General purpose",
        "gpuNum": 0,
        "hideHardwareSpecs": false,
        "memoryGiB": 128,
        "name": "ml.m5.8xlarge",
        "vcpuNum": 32
      },
      {
        "_defaultOrder": 9,
        "_isFastLaunch": false,
        "category": "General purpose",
        "gpuNum": 0,
        "hideHardwareSpecs": false,
        "memoryGiB": 192,
        "name": "ml.m5.12xlarge",
        "vcpuNum": 48
      },
      {
        "_defaultOrder": 10,
        "_isFastLaunch": false,
        "category": "General purpose",
        "gpuNum": 0,
        "hideHardwareSpecs": false,
        "memoryGiB": 256,
        "name": "ml.m5.16xlarge",
        "vcpuNum": 64
      },
      {
        "_defaultOrder": 11,
        "_isFastLaunch": false,
        "category": "General purpose",
        "gpuNum": 0,
        "hideHardwareSpecs": false,
        "memoryGiB": 384,
        "name": "ml.m5.24xlarge",
        "vcpuNum": 96
      },
      {
        "_defaultOrder": 12,
        "_isFastLaunch": false,
        "category": "General purpose",
        "gpuNum": 0,
        "hideHardwareSpecs": false,
        "memoryGiB": 8,
        "name": "ml.m5d.large",
        "vcpuNum": 2
      },
      {
        "_defaultOrder": 13,
        "_isFastLaunch": false,
        "category": "General purpose",
        "gpuNum": 0,
        "hideHardwareSpecs": false,
        "memoryGiB": 16,
        "name": "ml.m5d.xlarge",
        "vcpuNum": 4
      },
      {
        "_defaultOrder": 14,
        "_isFastLaunch": false,
        "category": "General purpose",
        "gpuNum": 0,
        "hideHardwareSpecs": false,
        "memoryGiB": 32,
        "name": "ml.m5d.2xlarge",
        "vcpuNum": 8
      },
      {
        "_defaultOrder": 15,
        "_isFastLaunch": false,
        "category": "General purpose",
        "gpuNum": 0,
        "hideHardwareSpecs": false,
        "memoryGiB": 64,
        "name": "ml.m5d.4xlarge",
        "vcpuNum": 16
      },
      {
        "_defaultOrder": 16,
        "_isFastLaunch": false,
        "category": "General purpose",
        "gpuNum": 0,
        "hideHardwareSpecs": false,
        "memoryGiB": 128,
        "name": "ml.m5d.8xlarge",
        "vcpuNum": 32
      },
      {
        "_defaultOrder": 17,
        "_isFastLaunch": false,
        "category": "General purpose",
        "gpuNum": 0,
        "hideHardwareSpecs": false,
        "memoryGiB": 192,
        "name": "ml.m5d.12xlarge",
        "vcpuNum": 48
      },
      {
        "_defaultOrder": 18,
        "_isFastLaunch": false,
        "category": "General purpose",
        "gpuNum": 0,
        "hideHardwareSpecs": false,
        "memoryGiB": 256,
        "name": "ml.m5d.16xlarge",
        "vcpuNum": 64
      },
      {
        "_defaultOrder": 19,
        "_isFastLaunch": false,
        "category": "General purpose",
        "gpuNum": 0,
        "hideHardwareSpecs": false,
        "memoryGiB": 384,
        "name": "ml.m5d.24xlarge",
        "vcpuNum": 96
      },
      {
        "name": "ml.geospatial.interactive",
        "_defaultOrder": 20,
        "hideHardwareSpecs": true,
        "vcpuNum": 0,
        "_isFastLaunch": false,
        "gpuNum": 0,
        "supportedImageNames": [
          "sagemaker-geospatial-v1-0"
        ],
        "category": "General purpose",
        "memoryGiB": 0
      },
      {
        "_defaultOrder": 21,
        "_isFastLaunch": true,
        "category": "Compute optimized",
        "gpuNum": 0,
        "hideHardwareSpecs": false,
        "memoryGiB": 4,
        "name": "ml.c5.large",
        "vcpuNum": 2
      },
      {
        "_defaultOrder": 22,
        "_isFastLaunch": false,
        "category": "Compute optimized",
        "gpuNum": 0,
        "hideHardwareSpecs": false,
        "memoryGiB": 8,
        "name": "ml.c5.xlarge",
        "vcpuNum": 4
      },
      {
        "_defaultOrder": 23,
        "_isFastLaunch": false,
        "category": "Compute optimized",
        "gpuNum": 0,
        "hideHardwareSpecs": false,
        "memoryGiB": 16,
        "name": "ml.c5.2xlarge",
        "vcpuNum": 8
      },
      {
        "_defaultOrder": 24,
        "_isFastLaunch": false,
        "category": "Compute optimized",
        "gpuNum": 0,
        "hideHardwareSpecs": false,
        "memoryGiB": 32,
        "name": "ml.c5.4xlarge",
        "vcpuNum": 16
      },
      {
        "_defaultOrder": 25,
        "_isFastLaunch": false,
        "category": "Compute optimized",
        "gpuNum": 0,
        "hideHardwareSpecs": false,
        "memoryGiB": 72,
        "name": "ml.c5.9xlarge",
        "vcpuNum": 36
      },
      {
        "_defaultOrder": 26,
        "_isFastLaunch": false,
        "category": "Compute optimized",
        "gpuNum": 0,
        "hideHardwareSpecs": false,
        "memoryGiB": 96,
        "name": "ml.c5.12xlarge",
        "vcpuNum": 48
      },
      {
        "_defaultOrder": 27,
        "_isFastLaunch": false,
        "category": "Compute optimized",
        "gpuNum": 0,
        "hideHardwareSpecs": false,
        "memoryGiB": 144,
        "name": "ml.c5.18xlarge",
        "vcpuNum": 72
      },
      {
        "_defaultOrder": 28,
        "_isFastLaunch": false,
        "category": "Compute optimized",
        "gpuNum": 0,
        "hideHardwareSpecs": false,
        "memoryGiB": 192,
        "name": "ml.c5.24xlarge",
        "vcpuNum": 96
      },
      {
        "_defaultOrder": 29,
        "_isFastLaunch": true,
        "category": "Accelerated computing",
        "gpuNum": 1,
        "hideHardwareSpecs": false,
        "memoryGiB": 16,
        "name": "ml.g4dn.xlarge",
        "vcpuNum": 4
      },
      {
        "_defaultOrder": 30,
        "_isFastLaunch": false,
        "category": "Accelerated computing",
        "gpuNum": 1,
        "hideHardwareSpecs": false,
        "memoryGiB": 32,
        "name": "ml.g4dn.2xlarge",
        "vcpuNum": 8
      },
      {
        "_defaultOrder": 31,
        "_isFastLaunch": false,
        "category": "Accelerated computing",
        "gpuNum": 1,
        "hideHardwareSpecs": false,
        "memoryGiB": 64,
        "name": "ml.g4dn.4xlarge",
        "vcpuNum": 16
      },
      {
        "_defaultOrder": 32,
        "_isFastLaunch": false,
        "category": "Accelerated computing",
        "gpuNum": 1,
        "hideHardwareSpecs": false,
        "memoryGiB": 128,
        "name": "ml.g4dn.8xlarge",
        "vcpuNum": 32
      },
      {
        "_defaultOrder": 33,
        "_isFastLaunch": false,
        "category": "Accelerated computing",
        "gpuNum": 4,
        "hideHardwareSpecs": false,
        "memoryGiB": 192,
        "name": "ml.g4dn.12xlarge",
        "vcpuNum": 48
      },
      {
        "_defaultOrder": 34,
        "_isFastLaunch": false,
        "category": "Accelerated computing",
        "gpuNum": 1,
        "hideHardwareSpecs": false,
        "memoryGiB": 256,
        "name": "ml.g4dn.16xlarge",
        "vcpuNum": 64
      },
      {
        "_defaultOrder": 35,
        "_isFastLaunch": false,
        "category": "Accelerated computing",
        "gpuNum": 1,
        "hideHardwareSpecs": false,
        "memoryGiB": 61,
        "name": "ml.p3.2xlarge",
        "vcpuNum": 8
      },
      {
        "_defaultOrder": 36,
        "_isFastLaunch": false,
        "category": "Accelerated computing",
        "gpuNum": 4,
        "hideHardwareSpecs": false,
        "memoryGiB": 244,
        "name": "ml.p3.8xlarge",
        "vcpuNum": 32
      },
      {
        "_defaultOrder": 37,
        "_isFastLaunch": false,
        "category": "Accelerated computing",
        "gpuNum": 8,
        "hideHardwareSpecs": false,
        "memoryGiB": 488,
        "name": "ml.p3.16xlarge",
        "vcpuNum": 64
      },
      {
        "_defaultOrder": 38,
        "_isFastLaunch": false,
        "category": "Accelerated computing",
        "gpuNum": 8,
        "hideHardwareSpecs": false,
        "memoryGiB": 768,
        "name": "ml.p3dn.24xlarge",
        "vcpuNum": 96
      },
      {
        "_defaultOrder": 39,
        "_isFastLaunch": false,
        "category": "Memory Optimized",
        "gpuNum": 0,
        "hideHardwareSpecs": false,
        "memoryGiB": 16,
        "name": "ml.r5.large",
        "vcpuNum": 2
      },
      {
        "_defaultOrder": 40,
        "_isFastLaunch": false,
        "category": "Memory Optimized",
        "gpuNum": 0,
        "hideHardwareSpecs": false,
        "memoryGiB": 32,
        "name": "ml.r5.xlarge",
        "vcpuNum": 4
      },
      {
        "_defaultOrder": 41,
        "_isFastLaunch": false,
        "category": "Memory Optimized",
        "gpuNum": 0,
        "hideHardwareSpecs": false,
        "memoryGiB": 64,
        "name": "ml.r5.2xlarge",
        "vcpuNum": 8
      },
      {
        "_defaultOrder": 42,
        "_isFastLaunch": false,
        "category": "Memory Optimized",
        "gpuNum": 0,
        "hideHardwareSpecs": false,
        "memoryGiB": 128,
        "name": "ml.r5.4xlarge",
        "vcpuNum": 16
      },
      {
        "_defaultOrder": 43,
        "_isFastLaunch": false,
        "category": "Memory Optimized",
        "gpuNum": 0,
        "hideHardwareSpecs": false,
        "memoryGiB": 256,
        "name": "ml.r5.8xlarge",
        "vcpuNum": 32
      },
      {
        "_defaultOrder": 44,
        "_isFastLaunch": false,
        "category": "Memory Optimized",
        "gpuNum": 0,
        "hideHardwareSpecs": false,
        "memoryGiB": 384,
        "name": "ml.r5.12xlarge",
        "vcpuNum": 48
      },
      {
        "_defaultOrder": 45,
        "_isFastLaunch": false,
        "category": "Memory Optimized",
        "gpuNum": 0,
        "hideHardwareSpecs": false,
        "memoryGiB": 512,
        "name": "ml.r5.16xlarge",
        "vcpuNum": 64
      },
      {
        "_defaultOrder": 46,
        "_isFastLaunch": false,
        "category": "Memory Optimized",
        "gpuNum": 0,
        "hideHardwareSpecs": false,
        "memoryGiB": 768,
        "name": "ml.r5.24xlarge",
        "vcpuNum": 96
      },
      {
        "_defaultOrder": 47,
        "_isFastLaunch": false,
        "category": "Accelerated computing",
        "gpuNum": 1,
        "hideHardwareSpecs": false,
        "memoryGiB": 16,
        "name": "ml.g5.xlarge",
        "vcpuNum": 4
      },
      {
        "_defaultOrder": 48,
        "_isFastLaunch": false,
        "category": "Accelerated computing",
        "gpuNum": 1,
        "hideHardwareSpecs": false,
        "memoryGiB": 32,
        "name": "ml.g5.2xlarge",
        "vcpuNum": 8
      },
      {
        "_defaultOrder": 49,
        "_isFastLaunch": false,
        "category": "Accelerated computing",
        "gpuNum": 1,
        "hideHardwareSpecs": false,
        "memoryGiB": 64,
        "name": "ml.g5.4xlarge",
        "vcpuNum": 16
      },
      {
        "_defaultOrder": 50,
        "_isFastLaunch": false,
        "category": "Accelerated computing",
        "gpuNum": 1,
        "hideHardwareSpecs": false,
        "memoryGiB": 128,
        "name": "ml.g5.8xlarge",
        "vcpuNum": 32
      },
      {
        "_defaultOrder": 51,
        "_isFastLaunch": false,
        "category": "Accelerated computing",
        "gpuNum": 1,
        "hideHardwareSpecs": false,
        "memoryGiB": 256,
        "name": "ml.g5.16xlarge",
        "vcpuNum": 64
      },
      {
        "_defaultOrder": 52,
        "_isFastLaunch": false,
        "category": "Accelerated computing",
        "gpuNum": 4,
        "hideHardwareSpecs": false,
        "memoryGiB": 192,
        "name": "ml.g5.12xlarge",
        "vcpuNum": 48
      },
      {
        "_defaultOrder": 53,
        "_isFastLaunch": false,
        "category": "Accelerated computing",
        "gpuNum": 4,
        "hideHardwareSpecs": false,
        "memoryGiB": 384,
        "name": "ml.g5.24xlarge",
        "vcpuNum": 96
      },
      {
        "_defaultOrder": 54,
        "_isFastLaunch": false,
        "category": "Accelerated computing",
        "gpuNum": 8,
        "hideHardwareSpecs": false,
        "memoryGiB": 768,
        "name": "ml.g5.48xlarge",
        "vcpuNum": 192
      },
      {
        "_defaultOrder": 55,
        "_isFastLaunch": false,
        "category": "Accelerated computing",
        "gpuNum": 8,
        "hideHardwareSpecs": false,
        "memoryGiB": 1152,
        "name": "ml.p4d.24xlarge",
        "vcpuNum": 96
      },
      {
        "_defaultOrder": 56,
        "_isFastLaunch": false,
        "category": "Accelerated computing",
        "gpuNum": 8,
        "hideHardwareSpecs": false,
        "memoryGiB": 1152,
        "name": "ml.p4de.24xlarge",
        "vcpuNum": 96
      }
    ],
    "instance_type": "ml.t3.medium",
    "kernelspec": {
      "name": "synapse_pyspark",
      "language": "Python",
      "display_name": "Synapse PySpark"
    },
    "language_info": {
      "name": "python",
      "version": "3.8.0",
      "mimetype": "text/x-python",
      "file_extension": ".py",
      "pygments_lexer": "ipython",
      "codemirror_mode": "ipython",
      "nbconvert_exporter": "python"
    },
    "microsoft": {
      "ms_spell_check": {
        "ms_spell_check_language": "en"
      },
      "host": {
        "AzureML": {
          "notebookHasBeenCompleted": true
        }
      }
    },
    "nteract": {
      "version": "nteract-front-end@1.0.0"
    },
    "kernel_info": {
      "name": "synapse_pyspark"
    }
  },
  "nbformat": 4,
  "nbformat_minor": 5
}
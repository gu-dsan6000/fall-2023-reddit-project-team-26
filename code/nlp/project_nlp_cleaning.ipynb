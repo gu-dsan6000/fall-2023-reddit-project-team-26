{
  "cells": [
    {
      "cell_type": "code",
      "source": [
        "spark"
      ],
      "outputs": [
        {
          "output_type": "display_data",
          "data": {
            "application/vnd.livy.statement-meta+json": {
              "spark_pool": "d3c1b951-094c-48e1-919d-e32bc175397b",
              "session_id": "28",
              "statement_id": 6,
              "state": "finished",
              "livy_statement_state": "available",
              "queued_time": "2023-11-18T22:41:27.3480521Z",
              "session_start_time": "2023-11-18T22:41:27.4292666Z",
              "execution_start_time": "2023-11-18T22:44:44.2701259Z",
              "execution_finish_time": "2023-11-18T22:44:47.4351971Z",
              "spark_jobs": {
                "numbers": {
                  "SUCCEEDED": 0,
                  "UNKNOWN": 0,
                  "FAILED": 0,
                  "RUNNING": 0
                },
                "jobs": [],
                "limit": 20,
                "rule": "ALL_DESC"
              },
              "parent_msg_id": "2e2c3abd-15f4-4bd5-a1d4-5e6e19fc91a6"
            },
            "text/plain": "StatementMeta(d3c1b951-094c-48e1-919d-e32bc175397b, 28, 6, Finished, Available)"
          },
          "metadata": {}
        },
        {
          "output_type": "execute_result",
          "execution_count": 11,
          "data": {
            "text/plain": "<pyspark.sql.session.SparkSession at 0x7f2de338d2b0>",
            "text/html": "\n            <div>\n                <p><b>SparkSession - hive</b></p>\n                \n        <div>\n            <p><b>SparkContext</b></p>\n\n            <p><a href=\"http://vm-73433972:33009\">Spark UI</a></p>\n\n            <dl>\n              <dt>Version</dt>\n                <dd><code>v3.2.2.5.1-100879434</code></dd>\n              <dt>Master</dt>\n                <dd><code>yarn</code></dd>\n              <dt>AppName</dt>\n                <dd><code>Azure ML Experiment</code></dd>\n            </dl>\n        </div>\n        \n            </div>\n        "
          },
          "metadata": {}
        }
      ],
      "execution_count": 1,
      "metadata": {
        "gather": {
          "logged": 1700347487786
        }
      }
    },
    {
      "cell_type": "markdown",
      "source": [
        "## Loading Data"
      ],
      "metadata": {
        "nteract": {
          "transient": {
            "deleting": false
          }
        }
      }
    },
    {
      "cell_type": "code",
      "source": [
        "%%configure -f \\\n",
        "{\"conf\": {\"spark.jars.packages\": \"com.johnsnowlabs.nlp:spark-nlp_2.12:5.1.2\"}}"
      ],
      "outputs": [
        {
          "output_type": "display_data",
          "data": {
            "application/vnd.livy.statement-meta+json": {
              "spark_pool": "d3c1b951-094c-48e1-919d-e32bc175397b",
              "session_id": "29",
              "statement_id": -1,
              "state": "finished",
              "livy_statement_state": "available",
              "queued_time": "2023-11-18T22:41:27.3493655Z",
              "session_start_time": "2023-11-18T22:44:47.6359691Z",
              "execution_start_time": "2023-11-18T22:46:43.6104673Z",
              "execution_finish_time": "2023-11-18T22:46:43.6493568Z",
              "spark_jobs": {
                "numbers": {
                  "SUCCEEDED": 0,
                  "UNKNOWN": 0,
                  "FAILED": 0,
                  "RUNNING": 0
                },
                "jobs": [],
                "limit": 20,
                "rule": "ALL_DESC"
              },
              "parent_msg_id": "45500f2f-2991-4565-bebd-42ba334b16bd"
            },
            "text/plain": "StatementMeta(d3c1b951-094c-48e1-919d-e32bc175397b, 29, -1, Finished, Available)"
          },
          "metadata": {}
        },
        {
          "output_type": "stream",
          "name": "stdout",
          "text": "Unrecognized options: "
        }
      ],
      "execution_count": 2,
      "metadata": {
        "jupyter": {
          "source_hidden": false,
          "outputs_hidden": false
        },
        "nteract": {
          "transient": {
            "deleting": false
          }
        }
      }
    },
    {
      "cell_type": "code",
      "source": [
        "!pip install spark-nlp\n",
        "!pip install pyspark"
      ],
      "outputs": [
        {
          "output_type": "display_data",
          "data": {
            "application/vnd.livy.statement-meta+json": {
              "spark_pool": "d3c1b951-094c-48e1-919d-e32bc175397b",
              "session_id": "29",
              "statement_id": 6,
              "state": "finished",
              "livy_statement_state": "available",
              "queued_time": "2023-11-18T22:41:27.3503124Z",
              "session_start_time": null,
              "execution_start_time": "2023-11-18T22:47:23.9919468Z",
              "execution_finish_time": "2023-11-18T22:47:44.9081126Z",
              "spark_jobs": {
                "numbers": {
                  "SUCCEEDED": 0,
                  "UNKNOWN": 0,
                  "FAILED": 0,
                  "RUNNING": 0
                },
                "jobs": [],
                "limit": 20,
                "rule": "ALL_DESC"
              },
              "parent_msg_id": "f7135928-c505-481a-a437-eb0f5b3672d2"
            },
            "text/plain": "StatementMeta(d3c1b951-094c-48e1-919d-e32bc175397b, 29, 6, Finished, Available)"
          },
          "metadata": {}
        },
        {
          "output_type": "stream",
          "name": "stdout",
          "text": "Collecting spark-nlp\n  Downloading spark_nlp-5.1.4-py2.py3-none-any.whl (540 kB)\n\u001b[K     |████████████████████████████████| 540 kB 8.4 MB/s eta 0:00:01\n\u001b[?25hInstalling collected packages: spark-nlp\nSuccessfully installed spark-nlp-5.1.4\nRequirement already satisfied: pyspark in /home/trusted-service-user/cluster-env/env/lib/python3.8/site-packages (3.2.1)\nRequirement already satisfied: py4j==0.10.9.3 in /home/trusted-service-user/cluster-env/env/lib/python3.8/site-packages (from pyspark) (0.10.9.3)\n"
        }
      ],
      "execution_count": 3,
      "metadata": {
        "jupyter": {
          "source_hidden": false,
          "outputs_hidden": false
        },
        "nteract": {
          "transient": {
            "deleting": false
          }
        }
      }
    },
    {
      "cell_type": "code",
      "source": [
        "import pandas as pd\n",
        "import matplotlib.pyplot as plt\n",
        "import seaborn as sns\n",
        "from pyspark.sql.functions import *\n",
        "from pyspark.ml.feature import CountVectorizer, HashingTF, IDF\n",
        "from pyspark.ml import Pipeline"
      ],
      "outputs": [
        {
          "output_type": "display_data",
          "data": {
            "application/vnd.livy.statement-meta+json": {
              "spark_pool": "d3c1b951-094c-48e1-919d-e32bc175397b",
              "session_id": "29",
              "statement_id": 7,
              "state": "finished",
              "livy_statement_state": "available",
              "queued_time": "2023-11-18T22:46:51.2246733Z",
              "session_start_time": null,
              "execution_start_time": "2023-11-18T22:47:45.066484Z",
              "execution_finish_time": "2023-11-18T22:47:56.7657864Z",
              "spark_jobs": {
                "numbers": {
                  "SUCCEEDED": 0,
                  "UNKNOWN": 0,
                  "FAILED": 0,
                  "RUNNING": 0
                },
                "jobs": [],
                "limit": 20,
                "rule": "ALL_DESC"
              },
              "parent_msg_id": "58ae84e2-80fa-4bfa-a3b7-db6fe6267567"
            },
            "text/plain": "StatementMeta(d3c1b951-094c-48e1-919d-e32bc175397b, 29, 7, Finished, Available)"
          },
          "metadata": {}
        }
      ],
      "execution_count": 4,
      "metadata": {
        "jupyter": {
          "source_hidden": false,
          "outputs_hidden": false
        },
        "nteract": {
          "transient": {
            "deleting": false
          }
        },
        "gather": {
          "logged": 1700347676872
        }
      }
    },
    {
      "cell_type": "code",
      "source": [
        "## Necessary Libraries\n",
        "import sparknlp\n",
        "from sparknlp.base import *\n",
        "from sparknlp.annotator import *\n",
        "from sparknlp.pretrained import PretrainedPipeline\n"
      ],
      "outputs": [
        {
          "output_type": "display_data",
          "data": {
            "application/vnd.livy.statement-meta+json": {
              "spark_pool": "d3c1b951-094c-48e1-919d-e32bc175397b",
              "session_id": "29",
              "statement_id": 8,
              "state": "finished",
              "livy_statement_state": "available",
              "queued_time": "2023-11-18T22:48:03.0617629Z",
              "session_start_time": null,
              "execution_start_time": "2023-11-18T22:48:03.2145773Z",
              "execution_finish_time": "2023-11-18T22:48:04.0080625Z",
              "spark_jobs": {
                "numbers": {
                  "SUCCEEDED": 0,
                  "UNKNOWN": 0,
                  "FAILED": 0,
                  "RUNNING": 0
                },
                "jobs": [],
                "limit": 20,
                "rule": "ALL_DESC"
              },
              "parent_msg_id": "03ed4da6-0bf8-40d8-b3ec-71a55a410329"
            },
            "text/plain": "StatementMeta(d3c1b951-094c-48e1-919d-e32bc175397b, 29, 8, Finished, Available)"
          },
          "metadata": {}
        }
      ],
      "execution_count": 5,
      "metadata": {
        "jupyter": {
          "source_hidden": false,
          "outputs_hidden": false
        },
        "nteract": {
          "transient": {
            "deleting": false
          }
        },
        "gather": {
          "logged": 1700347684106
        }
      }
    },
    {
      "cell_type": "code",
      "source": [
        "workspace_default_storage_account = \"aml6214727930\"\n",
        "workspace_default_container = \"azureml-blobstore-6653633b-3460-4381-9199-d9e0f368353c\"\n",
        "\n",
        "workspace_wasbs_base_url = (\n",
        "    f\"wasbs://{workspace_default_container}@{workspace_default_storage_account}.blob.core.windows.net/\"\n",
        ")\n",
        "\n",
        "comments_path = \"/basketball_comments_clean.parquet\"\n",
        "submissions_path = \"/basketball_submissions_clean.parquet\"\n",
        "\n",
        "comments = spark.read.parquet(f\"{workspace_wasbs_base_url}{comments_path}\")\n",
        "submissions = spark.read.parquet(f\"{workspace_wasbs_base_url}{submissions_path}\")"
      ],
      "outputs": [
        {
          "output_type": "display_data",
          "data": {
            "application/vnd.livy.statement-meta+json": {
              "spark_pool": "d3c1b951-094c-48e1-919d-e32bc175397b",
              "session_id": "29",
              "statement_id": 9,
              "state": "finished",
              "livy_statement_state": "available",
              "queued_time": "2023-11-18T22:48:05.6509454Z",
              "session_start_time": null,
              "execution_start_time": "2023-11-18T22:48:05.7502041Z",
              "execution_finish_time": "2023-11-18T22:48:17.8568885Z",
              "spark_jobs": {
                "numbers": {
                  "SUCCEEDED": 2,
                  "UNKNOWN": 0,
                  "FAILED": 0,
                  "RUNNING": 0
                },
                "jobs": [
                  {
                    "displayName": "parquet at NativeMethodAccessorImpl.java:0",
                    "dataWritten": 0,
                    "dataRead": 0,
                    "rowCount": 0,
                    "usageDescription": "",
                    "jobId": 1,
                    "name": "parquet at NativeMethodAccessorImpl.java:0",
                    "description": "Job group for statement 9:\nworkspace_default_storage_account = \"aml6214727930\"\nworkspace_default_container = \"azureml-blobstore-6653633b-3460-4381-9199-d9e0f368353c\"\n\nworkspace_wasbs_base_url = (\n    f\"wasbs://{workspace_default_container}@{workspace_default_storage_account}.blob.core.windows.net/\"\n)\n\ncomments_path = \"/basketball_comments_clean.parquet\"\nsubmissions_path = \"/basketball_submissions_clean.parquet\"\n\ncomments = spark.read.parquet(f\"{workspace_wasbs_base_url}{comments_path}\")\nsubmissions = spark.read.parquet(f\"{workspace_wasbs_base_url}{submissions_path}\")",
                    "submissionTime": "2023-11-18T22:48:16.627GMT",
                    "completionTime": "2023-11-18T22:48:16.943GMT",
                    "stageIds": [
                      1
                    ],
                    "jobGroup": "9",
                    "status": "SUCCEEDED",
                    "numTasks": 1,
                    "numActiveTasks": 0,
                    "numCompletedTasks": 1,
                    "numSkippedTasks": 0,
                    "numFailedTasks": 0,
                    "numKilledTasks": 0,
                    "numCompletedIndices": 1,
                    "numActiveStages": 0,
                    "numCompletedStages": 1,
                    "numSkippedStages": 0,
                    "numFailedStages": 0,
                    "killedTasksSummary": {}
                  },
                  {
                    "displayName": "parquet at NativeMethodAccessorImpl.java:0",
                    "dataWritten": 0,
                    "dataRead": 0,
                    "rowCount": 0,
                    "usageDescription": "",
                    "jobId": 0,
                    "name": "parquet at NativeMethodAccessorImpl.java:0",
                    "description": "Job group for statement 9:\nworkspace_default_storage_account = \"aml6214727930\"\nworkspace_default_container = \"azureml-blobstore-6653633b-3460-4381-9199-d9e0f368353c\"\n\nworkspace_wasbs_base_url = (\n    f\"wasbs://{workspace_default_container}@{workspace_default_storage_account}.blob.core.windows.net/\"\n)\n\ncomments_path = \"/basketball_comments_clean.parquet\"\nsubmissions_path = \"/basketball_submissions_clean.parquet\"\n\ncomments = spark.read.parquet(f\"{workspace_wasbs_base_url}{comments_path}\")\nsubmissions = spark.read.parquet(f\"{workspace_wasbs_base_url}{submissions_path}\")",
                    "submissionTime": "2023-11-18T22:48:06.895GMT",
                    "completionTime": "2023-11-18T22:48:14.539GMT",
                    "stageIds": [
                      0
                    ],
                    "jobGroup": "9",
                    "status": "SUCCEEDED",
                    "numTasks": 1,
                    "numActiveTasks": 0,
                    "numCompletedTasks": 1,
                    "numSkippedTasks": 0,
                    "numFailedTasks": 0,
                    "numKilledTasks": 0,
                    "numCompletedIndices": 1,
                    "numActiveStages": 0,
                    "numCompletedStages": 1,
                    "numSkippedStages": 0,
                    "numFailedStages": 0,
                    "killedTasksSummary": {}
                  }
                ],
                "limit": 20,
                "rule": "ALL_DESC"
              },
              "parent_msg_id": "ba644311-79b8-4606-912a-71b6a3a964cf"
            },
            "text/plain": "StatementMeta(d3c1b951-094c-48e1-919d-e32bc175397b, 29, 9, Finished, Available)"
          },
          "metadata": {}
        }
      ],
      "execution_count": 6,
      "metadata": {
        "jupyter": {
          "source_hidden": false,
          "outputs_hidden": false
        },
        "nteract": {
          "transient": {
            "deleting": false
          }
        },
        "gather": {
          "logged": 1700347697940
        }
      }
    },
    {
      "cell_type": "markdown",
      "source": [
        "## NLP Processing"
      ],
      "metadata": {
        "nteract": {
          "transient": {
            "deleting": false
          }
        }
      }
    },
    {
      "cell_type": "markdown",
      "source": [
        "### Part 1: Data Checks"
      ],
      "metadata": {
        "nteract": {
          "transient": {
            "deleting": false
          }
        }
      }
    },
    {
      "cell_type": "markdown",
      "source": [
        "##### Most Common Words"
      ],
      "metadata": {
        "nteract": {
          "transient": {
            "deleting": false
          }
        }
      }
    },
    {
      "cell_type": "code",
      "source": [
        "comments = comments.cache()\n",
        "submissions = submissions.cache()\n",
        "\n",
        "# find the top 10 most common words in comments without cleaning\n",
        "words = comments.select(explode(split(comments[\"body\"], \"\\s+\")).alias(\"word\")) # split the body column in words\n",
        "word_counts = words.groupBy(\"word\").count() # group by each word and count\n",
        "top_10_words = word_counts.orderBy(desc(\"count\")).limit(10) # sort the words and take top 10\n",
        "print(\"Top 10 Words in Comments\")\n",
        "top_10_words.show()\n",
        "\n",
        "# find the top 10 most common words in submissions without cleaning\n",
        "words = submissions.select(explode(split(submissions[\"selftext\"], \"\\s+\")).alias(\"word\")) # split the body column in words\n",
        "word_counts = words.groupBy(\"word\").count() # group by each word and count\n",
        "top_10_words = word_counts.orderBy(desc(\"count\")).limit(10) # sort the words and take top 10\n",
        "print(\"Top 10 Words in Submissions\")\n",
        "top_10_words.show()"
      ],
      "outputs": [
        {
          "output_type": "display_data",
          "data": {
            "application/vnd.livy.statement-meta+json": {
              "spark_pool": "d3c1b951-094c-48e1-919d-e32bc175397b",
              "session_id": "26",
              "statement_id": 18,
              "state": "finished",
              "livy_statement_state": "available",
              "queued_time": "2023-11-17T20:41:38.8675611Z",
              "session_start_time": null,
              "execution_start_time": "2023-11-17T20:41:38.9700313Z",
              "execution_finish_time": "2023-11-17T20:41:45.404916Z",
              "spark_jobs": {
                "numbers": {
                  "SUCCEEDED": 4,
                  "UNKNOWN": 0,
                  "FAILED": 0,
                  "RUNNING": 0
                },
                "jobs": [
                  {
                    "displayName": "showString at NativeMethodAccessorImpl.java:0",
                    "dataWritten": 743,
                    "dataRead": 3607235,
                    "rowCount": 145646,
                    "usageDescription": "",
                    "jobId": 12,
                    "name": "showString at NativeMethodAccessorImpl.java:0",
                    "description": "Job group for statement 18:\ncomments = comments.cache()\nsubmissions = submissions.cache()\n\n# find the top 10 most common words in comments without cleaning\nwords = comments.select(explode(split(comments[\"body\"], \"\\s+\")).alias(\"word\")) # split the body column in words\nword_counts = words.groupBy(\"word\").count() # group by each word and count\ntop_10_words = word_counts.orderBy(desc(\"count\")).limit(10) # sort the words and take top 10\nprint(\"Top 10 Words in Comments\")\ntop_10_words.show()\n\n# find the top 10 most common words in submissions without cleaning\nwords = submissions.select(explode(split(submissions[\"selftext\"], \"\\s+\")).alias(\"word\")) # split the body column in words\nword_counts = words.groupBy(\"word\").count() # group by each word and count\ntop_10_words = word_counts.orderBy(desc(\"count\")).limit(10) # sort the words and take top 10\nprint(\"Top 10 Words in Submissions\")\ntop_10_words.show()",
                    "submissionTime": "2023-11-17T20:41:43.792GMT",
                    "completionTime": "2023-11-17T20:41:43.998GMT",
                    "stageIds": [
                      20,
                      21,
                      22
                    ],
                    "jobGroup": "18",
                    "status": "SUCCEEDED",
                    "numTasks": 20,
                    "numActiveTasks": 0,
                    "numCompletedTasks": 4,
                    "numSkippedTasks": 16,
                    "numFailedTasks": 0,
                    "numKilledTasks": 0,
                    "numCompletedIndices": 4,
                    "numActiveStages": 0,
                    "numCompletedStages": 2,
                    "numSkippedStages": 1,
                    "numFailedStages": 0,
                    "killedTasksSummary": {}
                  },
                  {
                    "displayName": "showString at NativeMethodAccessorImpl.java:0",
                    "dataWritten": 3606492,
                    "dataRead": 5415790,
                    "rowCount": 155390,
                    "usageDescription": "",
                    "jobId": 11,
                    "name": "showString at NativeMethodAccessorImpl.java:0",
                    "description": "Job group for statement 18:\ncomments = comments.cache()\nsubmissions = submissions.cache()\n\n# find the top 10 most common words in comments without cleaning\nwords = comments.select(explode(split(comments[\"body\"], \"\\s+\")).alias(\"word\")) # split the body column in words\nword_counts = words.groupBy(\"word\").count() # group by each word and count\ntop_10_words = word_counts.orderBy(desc(\"count\")).limit(10) # sort the words and take top 10\nprint(\"Top 10 Words in Comments\")\ntop_10_words.show()\n\n# find the top 10 most common words in submissions without cleaning\nwords = submissions.select(explode(split(submissions[\"selftext\"], \"\\s+\")).alias(\"word\")) # split the body column in words\nword_counts = words.groupBy(\"word\").count() # group by each word and count\ntop_10_words = word_counts.orderBy(desc(\"count\")).limit(10) # sort the words and take top 10\nprint(\"Top 10 Words in Submissions\")\ntop_10_words.show()",
                    "submissionTime": "2023-11-17T20:41:42.484GMT",
                    "completionTime": "2023-11-17T20:41:43.673GMT",
                    "stageIds": [
                      19
                    ],
                    "jobGroup": "18",
                    "status": "SUCCEEDED",
                    "numTasks": 16,
                    "numActiveTasks": 0,
                    "numCompletedTasks": 16,
                    "numSkippedTasks": 0,
                    "numFailedTasks": 0,
                    "numKilledTasks": 0,
                    "numCompletedIndices": 16,
                    "numActiveStages": 0,
                    "numCompletedStages": 1,
                    "numSkippedStages": 0,
                    "numFailedStages": 0,
                    "killedTasksSummary": {}
                  },
                  {
                    "displayName": "showString at NativeMethodAccessorImpl.java:0",
                    "dataWritten": 3830,
                    "dataRead": 22985129,
                    "rowCount": 1262758,
                    "usageDescription": "",
                    "jobId": 10,
                    "name": "showString at NativeMethodAccessorImpl.java:0",
                    "description": "Job group for statement 18:\ncomments = comments.cache()\nsubmissions = submissions.cache()\n\n# find the top 10 most common words in comments without cleaning\nwords = comments.select(explode(split(comments[\"body\"], \"\\s+\")).alias(\"word\")) # split the body column in words\nword_counts = words.groupBy(\"word\").count() # group by each word and count\ntop_10_words = word_counts.orderBy(desc(\"count\")).limit(10) # sort the words and take top 10\nprint(\"Top 10 Words in Comments\")\ntop_10_words.show()\n\n# find the top 10 most common words in submissions without cleaning\nwords = submissions.select(explode(split(submissions[\"selftext\"], \"\\s+\")).alias(\"word\")) # split the body column in words\nword_counts = words.groupBy(\"word\").count() # group by each word and count\ntop_10_words = word_counts.orderBy(desc(\"count\")).limit(10) # sort the words and take top 10\nprint(\"Top 10 Words in Submissions\")\ntop_10_words.show()",
                    "submissionTime": "2023-11-17T20:41:41.969GMT",
                    "completionTime": "2023-11-17T20:41:42.233GMT",
                    "stageIds": [
                      16,
                      17,
                      18
                    ],
                    "jobGroup": "18",
                    "status": "SUCCEEDED",
                    "numTasks": 33,
                    "numActiveTasks": 0,
                    "numCompletedTasks": 17,
                    "numSkippedTasks": 16,
                    "numFailedTasks": 0,
                    "numKilledTasks": 0,
                    "numCompletedIndices": 17,
                    "numActiveStages": 0,
                    "numCompletedStages": 2,
                    "numSkippedStages": 1,
                    "numFailedStages": 0,
                    "killedTasksSummary": {}
                  },
                  {
                    "displayName": "showString at NativeMethodAccessorImpl.java:0",
                    "dataWritten": 22981299,
                    "dataRead": 218221040,
                    "rowCount": 1262594,
                    "usageDescription": "",
                    "jobId": 9,
                    "name": "showString at NativeMethodAccessorImpl.java:0",
                    "description": "Job group for statement 18:\ncomments = comments.cache()\nsubmissions = submissions.cache()\n\n# find the top 10 most common words in comments without cleaning\nwords = comments.select(explode(split(comments[\"body\"], \"\\s+\")).alias(\"word\")) # split the body column in words\nword_counts = words.groupBy(\"word\").count() # group by each word and count\ntop_10_words = word_counts.orderBy(desc(\"count\")).limit(10) # sort the words and take top 10\nprint(\"Top 10 Words in Comments\")\ntop_10_words.show()\n\n# find the top 10 most common words in submissions without cleaning\nwords = submissions.select(explode(split(submissions[\"selftext\"], \"\\s+\")).alias(\"word\")) # split the body column in words\nword_counts = words.groupBy(\"word\").count() # group by each word and count\ntop_10_words = word_counts.orderBy(desc(\"count\")).limit(10) # sort the words and take top 10\nprint(\"Top 10 Words in Submissions\")\ntop_10_words.show()",
                    "submissionTime": "2023-11-17T20:41:39.082GMT",
                    "completionTime": "2023-11-17T20:41:41.913GMT",
                    "stageIds": [
                      15
                    ],
                    "jobGroup": "18",
                    "status": "SUCCEEDED",
                    "numTasks": 16,
                    "numActiveTasks": 0,
                    "numCompletedTasks": 16,
                    "numSkippedTasks": 0,
                    "numFailedTasks": 0,
                    "numKilledTasks": 0,
                    "numCompletedIndices": 16,
                    "numActiveStages": 0,
                    "numCompletedStages": 1,
                    "numSkippedStages": 0,
                    "numFailedStages": 0,
                    "killedTasksSummary": {}
                  }
                ],
                "limit": 20,
                "rule": "ALL_DESC"
              },
              "parent_msg_id": "c5f148e6-ecf4-43ee-9d6d-76cc224d582f"
            },
            "text/plain": "StatementMeta(d3c1b951-094c-48e1-919d-e32bc175397b, 26, 18, Finished, Available)"
          },
          "metadata": {}
        },
        {
          "output_type": "stream",
          "name": "stdout",
          "text": "Top 10 Words in Comments\n+----+------+\n|word| count|\n+----+------+\n| the|958778|\n|   a|599649|\n|  to|552908|\n| and|399550|\n|   I|386791|\n|  in|338734|\n|  is|333757|\n|  of|330328|\n|that|262082|\n| for|218723|\n+----+------+\n\nTop 10 Words in Submissions\n+--------------------+------+\n|                word| count|\n+--------------------+------+\n|                   ||235602|\n|                   -| 23506|\n|                 the| 23140|\n|                  to| 15876|\n|                   a| 14834|\n|-----------------...| 12805|\n|                  of| 10815|\n|                 and| 10239|\n|                  on|  9514|\n|                team|  7621|\n+--------------------+------+\n\n"
        }
      ],
      "execution_count": 17,
      "metadata": {
        "jupyter": {
          "source_hidden": false,
          "outputs_hidden": false
        },
        "nteract": {
          "transient": {
            "deleting": false
          }
        },
        "gather": {
          "logged": 1700253705572
        }
      }
    },
    {
      "cell_type": "markdown",
      "source": [
        "##### Distribution of Text Lengths"
      ],
      "metadata": {
        "nteract": {
          "transient": {
            "deleting": false
          }
        }
      }
    },
    {
      "cell_type": "code",
      "source": [
        "submissions_l = submissions.withColumn(\"selftext_word_count\", length(col(\"selftext\")))\n",
        "comments_l = comments.withColumn(\"body_word_count\", length(col(\"body\")))\n",
        "\n",
        "selftext_word_count = submissions_l.select(\"selftext_word_count\").rdd.flatMap(lambda x: x).collect()\n",
        "body_word_count = comments_l.select(\"body_word_count\").rdd.flatMap(lambda x: x).collect()\n",
        "\n",
        "plt.figure(figsize=(10, 5))\n",
        "\n",
        "plt.subplot(1, 2, 1)\n",
        "plt.hist(selftext_word_count, bins=20, color='blue')\n",
        "plt.title('Word Count in Submissions')\n",
        "plt.xlabel('Word Count')\n",
        "plt.ylabel('Frequency')\n",
        "\n",
        "plt.subplot(1, 2, 2)\n",
        "plt.hist(body_word_count, bins=20, color='purple')\n",
        "plt.title('Word Count in Comments')\n",
        "plt.xlabel('Word Count')\n",
        "plt.ylabel('Frequency')\n",
        "\n",
        "plt.show()"
      ],
      "outputs": [
        {
          "output_type": "display_data",
          "data": {
            "application/vnd.livy.statement-meta+json": {
              "spark_pool": "d3c1b951-094c-48e1-919d-e32bc175397b",
              "session_id": "26",
              "statement_id": 21,
              "state": "finished",
              "livy_statement_state": "available",
              "queued_time": "2023-11-17T20:45:44.8274007Z",
              "session_start_time": null,
              "execution_start_time": "2023-11-17T20:45:45.4776489Z",
              "execution_finish_time": "2023-11-17T20:45:58.1956166Z",
              "spark_jobs": {
                "numbers": {
                  "SUCCEEDED": 2,
                  "UNKNOWN": 0,
                  "FAILED": 0,
                  "RUNNING": 0
                },
                "jobs": [
                  {
                    "displayName": "collect at /tmp/ipykernel_10096/2772459046.py:5",
                    "dataWritten": 0,
                    "dataRead": 218221040,
                    "rowCount": 156,
                    "usageDescription": "",
                    "jobId": 18,
                    "name": "collect at /tmp/ipykernel_10096/2772459046.py:5",
                    "description": "Job group for statement 21:\nsubmissions_l = submissions.withColumn(\"selftext_word_count\", length(col(\"selftext\")))\ncomments_l = comments.withColumn(\"body_word_count\", length(col(\"body\")))\n\nselftext_word_count = submissions_l.select(\"selftext_word_count\").rdd.flatMap(lambda x: x).collect()\nbody_word_count = comments_l.select(\"body_word_count\").rdd.flatMap(lambda x: x).collect()\n\nplt.figure(figsize=(10, 5))\n\nplt.subplot(1, 2, 1)\nplt.hist(selftext_word_count, bins=20, color='blue')\nplt.title('Word Count in Submissions')\nplt.xlabel('Word Count')\nplt.ylabel('Frequency')\n\nplt.subplot(1, 2, 2)\nplt.hist(body_word_count, bins=20, color='purple')\nplt.title('Word Count in Comments')\nplt.xlabel('Word Count')\nplt.ylabel('Frequency')\n\nplt.show()",
                    "submissionTime": "2023-11-17T20:45:50.414GMT",
                    "completionTime": "2023-11-17T20:45:51.946GMT",
                    "stageIds": [
                      30
                    ],
                    "jobGroup": "21",
                    "status": "SUCCEEDED",
                    "numTasks": 16,
                    "numActiveTasks": 0,
                    "numCompletedTasks": 16,
                    "numSkippedTasks": 0,
                    "numFailedTasks": 0,
                    "numKilledTasks": 0,
                    "numCompletedIndices": 16,
                    "numActiveStages": 0,
                    "numCompletedStages": 1,
                    "numSkippedStages": 0,
                    "numFailedStages": 0,
                    "killedTasksSummary": {}
                  },
                  {
                    "displayName": "collect at /tmp/ipykernel_10096/2772459046.py:4",
                    "dataWritten": 0,
                    "dataRead": 12656240,
                    "rowCount": 16,
                    "usageDescription": "",
                    "jobId": 17,
                    "name": "collect at /tmp/ipykernel_10096/2772459046.py:4",
                    "description": "Job group for statement 21:\nsubmissions_l = submissions.withColumn(\"selftext_word_count\", length(col(\"selftext\")))\ncomments_l = comments.withColumn(\"body_word_count\", length(col(\"body\")))\n\nselftext_word_count = submissions_l.select(\"selftext_word_count\").rdd.flatMap(lambda x: x).collect()\nbody_word_count = comments_l.select(\"body_word_count\").rdd.flatMap(lambda x: x).collect()\n\nplt.figure(figsize=(10, 5))\n\nplt.subplot(1, 2, 1)\nplt.hist(selftext_word_count, bins=20, color='blue')\nplt.title('Word Count in Submissions')\nplt.xlabel('Word Count')\nplt.ylabel('Frequency')\n\nplt.subplot(1, 2, 2)\nplt.hist(body_word_count, bins=20, color='purple')\nplt.title('Word Count in Comments')\nplt.xlabel('Word Count')\nplt.ylabel('Frequency')\n\nplt.show()",
                    "submissionTime": "2023-11-17T20:45:45.603GMT",
                    "completionTime": "2023-11-17T20:45:50.350GMT",
                    "stageIds": [
                      29
                    ],
                    "jobGroup": "21",
                    "status": "SUCCEEDED",
                    "numTasks": 16,
                    "numActiveTasks": 0,
                    "numCompletedTasks": 16,
                    "numSkippedTasks": 0,
                    "numFailedTasks": 0,
                    "numKilledTasks": 0,
                    "numCompletedIndices": 16,
                    "numActiveStages": 0,
                    "numCompletedStages": 1,
                    "numSkippedStages": 0,
                    "numFailedStages": 0,
                    "killedTasksSummary": {}
                  }
                ],
                "limit": 20,
                "rule": "ALL_DESC"
              },
              "parent_msg_id": "cc67a1e5-83a8-459b-b81c-6d754522f50f"
            },
            "text/plain": "StatementMeta(d3c1b951-094c-48e1-919d-e32bc175397b, 26, 21, Finished, Available)"
          },
          "metadata": {}
        },
        {
          "output_type": "display_data",
          "data": {
            "text/plain": "<Figure size 720x360 with 2 Axes>",
            "image/png": "[encoded data removed]"
          },
          "metadata": {
            "needs_background": "light"
          }
        }
      ],
      "execution_count": 20,
      "metadata": {
        "jupyter": {
          "source_hidden": false,
          "outputs_hidden": false
        },
        "nteract": {
          "transient": {
            "deleting": false
          }
        },
        "gather": {
          "logged": 1700253958457
        }
      }
    },
    {
      "cell_type": "code",
      "source": [
        "# get average word count by day\n",
        "t = (\n",
        "    submissions\n",
        "    .filter(col(\"subreddit\") == \"CollegeBasketball\") # keep only college basketball subreddit\n",
        "    .withColumn(\"word_count\", size(split(col(\"selftext\"), \"\\\\s+\"))) # get size of selftext column split by spaces (# of words)\n",
        "    .groupBy(\"year\", \"month\", \"day\")  # group by day\n",
        "    .agg(avg(\"word_count\").alias(\"avg_words\")) # average number of words per day\n",
        ")\n",
        "q = (\n",
        "    comments\n",
        "    .filter(col(\"subreddit\") == \"CollegeBasketball\")  # keep only college basketball subreddit\n",
        "    .withColumn(\"word_count\", size(split(col(\"body\"), \"\\\\s+\"))) # get size of selftext column split by spaces (# of words)\n",
        "    .groupBy(\"year\", \"month\", \"day\")  # group by day\n",
        "    .agg(avg(\"word_count\").alias(\"avg_words\")) # average number of words per day\n",
        ")\n",
        "# convert grouped data to pandas\n",
        "df_s = t.toPandas()\n",
        "df = q.toPandas()\n",
        "df['date'] = pd.to_datetime(df[['year', 'month', 'day']])\n",
        "df = df.sort_values(by='date') \n",
        "\n",
        "df_s['date'] = pd.to_datetime(df_s[['year', 'month', 'day']])\n",
        "df_s = df_s.sort_values(by='date') \n",
        "\n",
        "# Plot average word count by day\n",
        "fig, (ax1, ax2) = plt.subplots(2, 1, figsize=(8, 10))\n",
        "ax1.plot(df['date'], df['avg_words'], linestyle='-', color = \"green\")\n",
        "ax2.plot(df_s['date'], df_s['avg_words'], linestyle='-')\n",
        "\n",
        "ax1.set_xlabel('Date')\n",
        "ax1.set_ylabel('Count')\n",
        "ax1.set_title('Average # of Words by Comment per Day (r/CollegeBasketball)', fontsize = 14)\n",
        "ax1.tick_params(axis='x', rotation=45)\n",
        "\n",
        "\n",
        "ax2.set_xlabel('Date')\n",
        "ax2.set_ylabel('Count')\n",
        "ax2.set_title('Average # of Words by Submission per Day (r/CollegeBasketball)', fontsize = 14)\n",
        "ax2.tick_params(axis='x', rotation=45)\n",
        "\n",
        "plt.tight_layout()\n",
        "plt.show()"
      ],
      "outputs": [
        {
          "output_type": "display_data",
          "data": {
            "application/vnd.livy.statement-meta+json": {
              "spark_pool": "d3c1b951-094c-48e1-919d-e32bc175397b",
              "session_id": "26",
              "statement_id": 19,
              "state": "finished",
              "livy_statement_state": "available",
              "queued_time": "2023-11-17T20:43:28.9658114Z",
              "session_start_time": null,
              "execution_start_time": "2023-11-17T20:43:29.0983793Z",
              "execution_finish_time": "2023-11-17T20:43:41.1905234Z",
              "spark_jobs": {
                "numbers": {
                  "SUCCEEDED": 4,
                  "UNKNOWN": 0,
                  "FAILED": 0,
                  "RUNNING": 0
                },
                "jobs": [
                  {
                    "displayName": "toPandas at /tmp/ipykernel_10096/4012679542.py:18",
                    "dataWritten": 0,
                    "dataRead": 205629,
                    "rowCount": 3553,
                    "usageDescription": "",
                    "jobId": 16,
                    "name": "toPandas at /tmp/ipykernel_10096/4012679542.py:18",
                    "description": "Job group for statement 19:\n# get average word count by day\nt = (\n    submissions\n    .filter(col(\"subreddit\") == \"CollegeBasketball\") # keep only college basketball subreddit\n    .withColumn(\"word_count\", size(split(col(\"selftext\"), \"\\s+\"))) # get size of selftext column split by spaces (# of words)\n    .groupBy(\"year\", \"month\", \"day\")  # group by day\n    .agg(avg(\"word_count\").alias(\"avg_words\")) # average number of words per day\n)\nq = (\n    comments\n    .filter(col(\"subreddit\") == \"CollegeBasketball\")  # keep only college basketball subreddit\n    .withColumn(\"word_count\", size(split(col(\"body\"), \"\\s+\"))) # get size of selftext column split by spaces (# of words)\n    .groupBy(\"year\", \"month\", \"day\")  # group by day\n    .agg(avg(\"word_count\").alias(\"avg_words\")) # average number of words per day\n)\n# convert grouped data to pandas\ndf_s = t.toPandas()\ndf = q.toPandas()\ndf['date'] = pd.to_datetime(df[['year', 'month', 'day']])\ndf = df.sort_values(by='date') \n\ndf_s['date'] = pd.to_datetime(df_s[['year', 'month', 'day']])\ndf_s = df_s.sort...",
                    "submissionTime": "2023-11-17T20:43:35.503GMT",
                    "completionTime": "2023-11-17T20:43:37.037GMT",
                    "stageIds": [
                      27,
                      28
                    ],
                    "jobGroup": "19",
                    "status": "SUCCEEDED",
                    "numTasks": 17,
                    "numActiveTasks": 0,
                    "numCompletedTasks": 1,
                    "numSkippedTasks": 16,
                    "numFailedTasks": 0,
                    "numKilledTasks": 0,
                    "numCompletedIndices": 1,
                    "numActiveStages": 0,
                    "numCompletedStages": 1,
                    "numSkippedStages": 1,
                    "numFailedStages": 0,
                    "killedTasksSummary": {}
                  },
                  {
                    "displayName": "toPandas at /tmp/ipykernel_10096/4012679542.py:18",
                    "dataWritten": 205629,
                    "dataRead": 218221040,
                    "rowCount": 3709,
                    "usageDescription": "",
                    "jobId": 15,
                    "name": "toPandas at /tmp/ipykernel_10096/4012679542.py:18",
                    "description": "Job group for statement 19:\n# get average word count by day\nt = (\n    submissions\n    .filter(col(\"subreddit\") == \"CollegeBasketball\") # keep only college basketball subreddit\n    .withColumn(\"word_count\", size(split(col(\"selftext\"), \"\\s+\"))) # get size of selftext column split by spaces (# of words)\n    .groupBy(\"year\", \"month\", \"day\")  # group by day\n    .agg(avg(\"word_count\").alias(\"avg_words\")) # average number of words per day\n)\nq = (\n    comments\n    .filter(col(\"subreddit\") == \"CollegeBasketball\")  # keep only college basketball subreddit\n    .withColumn(\"word_count\", size(split(col(\"body\"), \"\\s+\"))) # get size of selftext column split by spaces (# of words)\n    .groupBy(\"year\", \"month\", \"day\")  # group by day\n    .agg(avg(\"word_count\").alias(\"avg_words\")) # average number of words per day\n)\n# convert grouped data to pandas\ndf_s = t.toPandas()\ndf = q.toPandas()\ndf['date'] = pd.to_datetime(df[['year', 'month', 'day']])\ndf = df.sort_values(by='date') \n\ndf_s['date'] = pd.to_datetime(df_s[['year', 'month', 'day']])\ndf_s = df_s.sort...",
                    "submissionTime": "2023-11-17T20:43:33.231GMT",
                    "completionTime": "2023-11-17T20:43:35.468GMT",
                    "stageIds": [
                      26
                    ],
                    "jobGroup": "19",
                    "status": "SUCCEEDED",
                    "numTasks": 16,
                    "numActiveTasks": 0,
                    "numCompletedTasks": 16,
                    "numSkippedTasks": 0,
                    "numFailedTasks": 0,
                    "numKilledTasks": 0,
                    "numCompletedIndices": 16,
                    "numActiveStages": 0,
                    "numCompletedStages": 1,
                    "numSkippedStages": 0,
                    "numFailedStages": 0,
                    "killedTasksSummary": {}
                  },
                  {
                    "displayName": "toPandas at /tmp/ipykernel_10096/4012679542.py:17",
                    "dataWritten": 0,
                    "dataRead": 115047,
                    "rowCount": 1771,
                    "usageDescription": "",
                    "jobId": 14,
                    "name": "toPandas at /tmp/ipykernel_10096/4012679542.py:17",
                    "description": "Job group for statement 19:\n# get average word count by day\nt = (\n    submissions\n    .filter(col(\"subreddit\") == \"CollegeBasketball\") # keep only college basketball subreddit\n    .withColumn(\"word_count\", size(split(col(\"selftext\"), \"\\s+\"))) # get size of selftext column split by spaces (# of words)\n    .groupBy(\"year\", \"month\", \"day\")  # group by day\n    .agg(avg(\"word_count\").alias(\"avg_words\")) # average number of words per day\n)\nq = (\n    comments\n    .filter(col(\"subreddit\") == \"CollegeBasketball\")  # keep only college basketball subreddit\n    .withColumn(\"word_count\", size(split(col(\"body\"), \"\\s+\"))) # get size of selftext column split by spaces (# of words)\n    .groupBy(\"year\", \"month\", \"day\")  # group by day\n    .agg(avg(\"word_count\").alias(\"avg_words\")) # average number of words per day\n)\n# convert grouped data to pandas\ndf_s = t.toPandas()\ndf = q.toPandas()\ndf['date'] = pd.to_datetime(df[['year', 'month', 'day']])\ndf = df.sort_values(by='date') \n\ndf_s['date'] = pd.to_datetime(df_s[['year', 'month', 'day']])\ndf_s = df_s.sort...",
                    "submissionTime": "2023-11-17T20:43:31.647GMT",
                    "completionTime": "2023-11-17T20:43:32.901GMT",
                    "stageIds": [
                      24,
                      25
                    ],
                    "jobGroup": "19",
                    "status": "SUCCEEDED",
                    "numTasks": 17,
                    "numActiveTasks": 0,
                    "numCompletedTasks": 1,
                    "numSkippedTasks": 16,
                    "numFailedTasks": 0,
                    "numKilledTasks": 0,
                    "numCompletedIndices": 1,
                    "numActiveStages": 0,
                    "numCompletedStages": 1,
                    "numSkippedStages": 1,
                    "numFailedStages": 0,
                    "killedTasksSummary": {}
                  },
                  {
                    "displayName": "toPandas at /tmp/ipykernel_10096/4012679542.py:17",
                    "dataWritten": 115047,
                    "dataRead": 12656240,
                    "rowCount": 1787,
                    "usageDescription": "",
                    "jobId": 13,
                    "name": "toPandas at /tmp/ipykernel_10096/4012679542.py:17",
                    "description": "Job group for statement 19:\n# get average word count by day\nt = (\n    submissions\n    .filter(col(\"subreddit\") == \"CollegeBasketball\") # keep only college basketball subreddit\n    .withColumn(\"word_count\", size(split(col(\"selftext\"), \"\\s+\"))) # get size of selftext column split by spaces (# of words)\n    .groupBy(\"year\", \"month\", \"day\")  # group by day\n    .agg(avg(\"word_count\").alias(\"avg_words\")) # average number of words per day\n)\nq = (\n    comments\n    .filter(col(\"subreddit\") == \"CollegeBasketball\")  # keep only college basketball subreddit\n    .withColumn(\"word_count\", size(split(col(\"body\"), \"\\s+\"))) # get size of selftext column split by spaces (# of words)\n    .groupBy(\"year\", \"month\", \"day\")  # group by day\n    .agg(avg(\"word_count\").alias(\"avg_words\")) # average number of words per day\n)\n# convert grouped data to pandas\ndf_s = t.toPandas()\ndf = q.toPandas()\ndf['date'] = pd.to_datetime(df[['year', 'month', 'day']])\ndf = df.sort_values(by='date') \n\ndf_s['date'] = pd.to_datetime(df_s[['year', 'month', 'day']])\ndf_s = df_s.sort...",
                    "submissionTime": "2023-11-17T20:43:30.894GMT",
                    "completionTime": "2023-11-17T20:43:31.577GMT",
                    "stageIds": [
                      23
                    ],
                    "jobGroup": "19",
                    "status": "SUCCEEDED",
                    "numTasks": 16,
                    "numActiveTasks": 0,
                    "numCompletedTasks": 16,
                    "numSkippedTasks": 0,
                    "numFailedTasks": 0,
                    "numKilledTasks": 0,
                    "numCompletedIndices": 16,
                    "numActiveStages": 0,
                    "numCompletedStages": 1,
                    "numSkippedStages": 0,
                    "numFailedStages": 0,
                    "killedTasksSummary": {}
                  }
                ],
                "limit": 20,
                "rule": "ALL_DESC"
              },
              "parent_msg_id": "3aed4dc2-7e44-4b9c-8042-7953a05b03ab"
            },
            "text/plain": "StatementMeta(d3c1b951-094c-48e1-919d-e32bc175397b, 26, 19, Finished, Available)"
          },
          "metadata": {}
        },
        {
          "output_type": "display_data",
          "data": {
            "text/plain": "<Figure size 576x720 with 2 Axes>",
            "image/png": "[encoded data removed]"
          },
          "metadata": {
            "needs_background": "light"
          }
        }
      ],
      "execution_count": 18,
      "metadata": {
        "jupyter": {
          "source_hidden": false,
          "outputs_hidden": false
        },
        "nteract": {
          "transient": {
            "deleting": false
          }
        },
        "gather": {
          "logged": 1700253821439
        }
      }
    },
    {
      "cell_type": "markdown",
      "source": [
        "##### Most important words"
      ],
      "metadata": {
        "nteract": {
          "transient": {
            "deleting": false
          }
        }
      }
    },
    {
      "cell_type": "code",
      "source": [
        "# Step 3: Tokenize the text data\n",
        "tokenizer = Tokenizer(inputCol=\"text_column\", outputCol=\"words\")\n",
        "df = tokenizer.transform(df)\n",
        "\n",
        "# Step 4: Calculate Term Frequency (TF)\n",
        "cv = CountVectorizer(inputCol=\"words\", outputCol=\"raw_features\")\n",
        "model = cv.fit(df)\n",
        "df = model.transform(df)\n",
        "\n",
        "# Step 5: Calculate Inverse Document Frequency (IDF)\n",
        "idf = IDF(inputCol=\"raw_features\", outputCol=\"tf_idf_features\")\n",
        "idf_model = idf.fit(df)\n",
        "df = idf_model.transform(df)\n",
        "\n",
        "# Now, df contains the TF-IDF features in the \"tf_idf_features\" column\n",
        "\n",
        "# Optional: Select relevant columns if needed\n",
        "result_df = df.select(\"text_column\", \"tf_idf_features\")\n",
        "\n",
        "# Show the result\n",
        "result_df.show(truncate=False)"
      ],
      "outputs": [],
      "execution_count": null,
      "metadata": {
        "jupyter": {
          "source_hidden": false,
          "outputs_hidden": false
        },
        "nteract": {
          "transient": {
            "deleting": false
          }
        }
      }
    },
    {
      "cell_type": "markdown",
      "source": [
        "### Part 2: Particular Topics\n",
        "\n",
        "Topic 1. Top Players\n",
        "\n",
        "Topic 2. Transfer Portal"
      ],
      "metadata": {
        "nteract": {
          "transient": {
            "deleting": false
          }
        }
      }
    },
    {
      "cell_type": "code",
      "source": [
        "comments = comments.cache()\n",
        "submissions = submissions.cache()"
      ],
      "outputs": [
        {
          "output_type": "display_data",
          "data": {
            "application/vnd.livy.statement-meta+json": {
              "spark_pool": "d3c1b951-094c-48e1-919d-e32bc175397b",
              "session_id": "29",
              "statement_id": 10,
              "state": "finished",
              "livy_statement_state": "available",
              "queued_time": "2023-11-18T22:48:21.563935Z",
              "session_start_time": null,
              "execution_start_time": "2023-11-18T22:48:21.7207838Z",
              "execution_finish_time": "2023-11-18T22:48:22.0525241Z",
              "spark_jobs": {
                "numbers": {
                  "SUCCEEDED": 0,
                  "UNKNOWN": 0,
                  "FAILED": 0,
                  "RUNNING": 0
                },
                "jobs": [],
                "limit": 20,
                "rule": "ALL_DESC"
              },
              "parent_msg_id": "24825a0f-f149-4a14-a566-32132caa747c"
            },
            "text/plain": "StatementMeta(d3c1b951-094c-48e1-919d-e32bc175397b, 29, 10, Finished, Available)"
          },
          "metadata": {}
        }
      ],
      "execution_count": 7,
      "metadata": {
        "jupyter": {
          "source_hidden": false,
          "outputs_hidden": false
        },
        "nteract": {
          "transient": {
            "deleting": false
          }
        },
        "gather": {
          "logged": 1700347702238
        }
      }
    },
    {
      "cell_type": "code",
      "source": [
        "# search for player names\n",
        "\n",
        "# names of some of the top players in the 2021-2022 season\n",
        "player_names = [\"ochai agbaji\", \"kofi cockburn\", \"keegan murray\",\"oscar tshiebwe\", \"paolo banchero\",\"chet holmgren\",\"jaden ivey\",\"bennedict mathurin\",\"drew timme\"]\n",
        "comments_cb = comments.filter(col(\"subreddit\")==\"CollegeBasketball\") # look only at cbb subreddit\n",
        "\n",
        "comments_cb = comments_cb.withColumn(\"body\", lower(col(\"body\"))) # convert body to lower case\n",
        "\n",
        "# for each name indicate if first/last name is in the comment \n",
        "for player_name in player_names:\n",
        "    first_name, last_name = player_name.split()\n",
        "    comments_cb = comments_cb.withColumn(player_name, when((comments_cb.body.contains(first_name)) | (comments_cb.body.contains(last_name)), 1).otherwise(0))"
      ],
      "outputs": [
        {
          "output_type": "display_data",
          "data": {
            "application/vnd.livy.statement-meta+json": {
              "spark_pool": "d3c1b951-094c-48e1-919d-e32bc175397b",
              "session_id": "29",
              "statement_id": 29,
              "state": "finished",
              "livy_statement_state": "available",
              "queued_time": "2023-11-18T23:05:08.6083594Z",
              "session_start_time": null,
              "execution_start_time": "2023-11-18T23:05:08.8173987Z",
              "execution_finish_time": "2023-11-18T23:05:09.6904296Z",
              "spark_jobs": {
                "numbers": {
                  "SUCCEEDED": 0,
                  "UNKNOWN": 0,
                  "FAILED": 0,
                  "RUNNING": 0
                },
                "jobs": [],
                "limit": 20,
                "rule": "ALL_DESC"
              },
              "parent_msg_id": "c1eda4d7-6a5e-46a5-bedd-f972d360de34"
            },
            "text/plain": "StatementMeta(d3c1b951-094c-48e1-919d-e32bc175397b, 29, 29, Finished, Available)"
          },
          "metadata": {}
        }
      ],
      "execution_count": 26,
      "metadata": {
        "jupyter": {
          "source_hidden": false,
          "outputs_hidden": false
        },
        "nteract": {
          "transient": {
            "deleting": false
          }
        },
        "gather": {
          "logged": 1700348709648
        }
      }
    },
    {
      "cell_type": "code",
      "source": [
        "mentions = [comments_cb.select(name).agg({\"*\": \"sum\"}).collect()[0][0] for name in player_names] # count number of mentions by player"
      ],
      "outputs": [
        {
          "output_type": "display_data",
          "data": {
            "application/vnd.livy.statement-meta+json": {
              "spark_pool": "d3c1b951-094c-48e1-919d-e32bc175397b",
              "session_id": "29",
              "statement_id": 30,
              "state": "finished",
              "livy_statement_state": "available",
              "queued_time": "2023-11-18T23:05:14.512371Z",
              "session_start_time": null,
              "execution_start_time": "2023-11-18T23:05:14.6745171Z",
              "execution_finish_time": "2023-11-18T23:05:23.6157232Z",
              "spark_jobs": {
                "numbers": {
                  "SUCCEEDED": 18,
                  "UNKNOWN": 0,
                  "FAILED": 0,
                  "RUNNING": 0
                },
                "jobs": [
                  {
                    "displayName": "collect at /tmp/ipykernel_9981/2318470756.py:1",
                    "dataWritten": 0,
                    "dataRead": 944,
                    "rowCount": 16,
                    "usageDescription": "",
                    "jobId": 114,
                    "name": "collect at /tmp/ipykernel_9981/2318470756.py:1",
                    "description": "Job group for statement 30:\nmentions = [comments_cb.select(name).agg({\"*\": \"sum\"}).collect()[0][0] for name in player_names] # count number of mentions by player",
                    "submissionTime": "2023-11-18T23:05:21.911GMT",
                    "completionTime": "2023-11-18T23:05:21.943GMT",
                    "stageIds": [
                      169,
                      170
                    ],
                    "jobGroup": "30",
                    "status": "SUCCEEDED",
                    "numTasks": 17,
                    "numActiveTasks": 0,
                    "numCompletedTasks": 1,
                    "numSkippedTasks": 16,
                    "numFailedTasks": 0,
                    "numKilledTasks": 0,
                    "numCompletedIndices": 1,
                    "numActiveStages": 0,
                    "numCompletedStages": 1,
                    "numSkippedStages": 1,
                    "numFailedStages": 0,
                    "killedTasksSummary": {}
                  },
                  {
                    "displayName": "collect at /tmp/ipykernel_9981/2318470756.py:1",
                    "dataWritten": 944,
                    "dataRead": 218221040,
                    "rowCount": 172,
                    "usageDescription": "",
                    "jobId": 113,
                    "name": "collect at /tmp/ipykernel_9981/2318470756.py:1",
                    "description": "Job group for statement 30:\nmentions = [comments_cb.select(name).agg({\"*\": \"sum\"}).collect()[0][0] for name in player_names] # count number of mentions by player",
                    "submissionTime": "2023-11-18T23:05:21.334GMT",
                    "completionTime": "2023-11-18T23:05:21.894GMT",
                    "stageIds": [
                      168
                    ],
                    "jobGroup": "30",
                    "status": "SUCCEEDED",
                    "numTasks": 16,
                    "numActiveTasks": 0,
                    "numCompletedTasks": 16,
                    "numSkippedTasks": 0,
                    "numFailedTasks": 0,
                    "numKilledTasks": 0,
                    "numCompletedIndices": 16,
                    "numActiveStages": 0,
                    "numCompletedStages": 1,
                    "numSkippedStages": 0,
                    "numFailedStages": 0,
                    "killedTasksSummary": {}
                  },
                  {
                    "displayName": "collect at /tmp/ipykernel_9981/2318470756.py:1",
                    "dataWritten": 0,
                    "dataRead": 941,
                    "rowCount": 16,
                    "usageDescription": "",
                    "jobId": 112,
                    "name": "collect at /tmp/ipykernel_9981/2318470756.py:1",
                    "description": "Job group for statement 30:\nmentions = [comments_cb.select(name).agg({\"*\": \"sum\"}).collect()[0][0] for name in player_names] # count number of mentions by player",
                    "submissionTime": "2023-11-18T23:05:21.212GMT",
                    "completionTime": "2023-11-18T23:05:21.243GMT",
                    "stageIds": [
                      166,
                      167
                    ],
                    "jobGroup": "30",
                    "status": "SUCCEEDED",
                    "numTasks": 17,
                    "numActiveTasks": 0,
                    "numCompletedTasks": 1,
                    "numSkippedTasks": 16,
                    "numFailedTasks": 0,
                    "numKilledTasks": 0,
                    "numCompletedIndices": 1,
                    "numActiveStages": 0,
                    "numCompletedStages": 1,
                    "numSkippedStages": 1,
                    "numFailedStages": 0,
                    "killedTasksSummary": {}
                  },
                  {
                    "displayName": "collect at /tmp/ipykernel_9981/2318470756.py:1",
                    "dataWritten": 941,
                    "dataRead": 218221040,
                    "rowCount": 172,
                    "usageDescription": "",
                    "jobId": 111,
                    "name": "collect at /tmp/ipykernel_9981/2318470756.py:1",
                    "description": "Job group for statement 30:\nmentions = [comments_cb.select(name).agg({\"*\": \"sum\"}).collect()[0][0] for name in player_names] # count number of mentions by player",
                    "submissionTime": "2023-11-18T23:05:20.654GMT",
                    "completionTime": "2023-11-18T23:05:21.194GMT",
                    "stageIds": [
                      165
                    ],
                    "jobGroup": "30",
                    "status": "SUCCEEDED",
                    "numTasks": 16,
                    "numActiveTasks": 0,
                    "numCompletedTasks": 16,
                    "numSkippedTasks": 0,
                    "numFailedTasks": 0,
                    "numKilledTasks": 0,
                    "numCompletedIndices": 16,
                    "numActiveStages": 0,
                    "numCompletedStages": 1,
                    "numSkippedStages": 0,
                    "numFailedStages": 0,
                    "killedTasksSummary": {}
                  },
                  {
                    "displayName": "collect at /tmp/ipykernel_9981/2318470756.py:1",
                    "dataWritten": 0,
                    "dataRead": 944,
                    "rowCount": 16,
                    "usageDescription": "",
                    "jobId": 110,
                    "name": "collect at /tmp/ipykernel_9981/2318470756.py:1",
                    "description": "Job group for statement 30:\nmentions = [comments_cb.select(name).agg({\"*\": \"sum\"}).collect()[0][0] for name in player_names] # count number of mentions by player",
                    "submissionTime": "2023-11-18T23:05:20.530GMT",
                    "completionTime": "2023-11-18T23:05:20.569GMT",
                    "stageIds": [
                      163,
                      164
                    ],
                    "jobGroup": "30",
                    "status": "SUCCEEDED",
                    "numTasks": 17,
                    "numActiveTasks": 0,
                    "numCompletedTasks": 1,
                    "numSkippedTasks": 16,
                    "numFailedTasks": 0,
                    "numKilledTasks": 0,
                    "numCompletedIndices": 1,
                    "numActiveStages": 0,
                    "numCompletedStages": 1,
                    "numSkippedStages": 1,
                    "numFailedStages": 0,
                    "killedTasksSummary": {}
                  },
                  {
                    "displayName": "collect at /tmp/ipykernel_9981/2318470756.py:1",
                    "dataWritten": 944,
                    "dataRead": 218221040,
                    "rowCount": 172,
                    "usageDescription": "",
                    "jobId": 109,
                    "name": "collect at /tmp/ipykernel_9981/2318470756.py:1",
                    "description": "Job group for statement 30:\nmentions = [comments_cb.select(name).agg({\"*\": \"sum\"}).collect()[0][0] for name in player_names] # count number of mentions by player",
                    "submissionTime": "2023-11-18T23:05:19.892GMT",
                    "completionTime": "2023-11-18T23:05:20.511GMT",
                    "stageIds": [
                      162
                    ],
                    "jobGroup": "30",
                    "status": "SUCCEEDED",
                    "numTasks": 16,
                    "numActiveTasks": 0,
                    "numCompletedTasks": 16,
                    "numSkippedTasks": 0,
                    "numFailedTasks": 0,
                    "numKilledTasks": 0,
                    "numCompletedIndices": 16,
                    "numActiveStages": 0,
                    "numCompletedStages": 1,
                    "numSkippedStages": 0,
                    "numFailedStages": 0,
                    "killedTasksSummary": {}
                  },
                  {
                    "displayName": "collect at /tmp/ipykernel_9981/2318470756.py:1",
                    "dataWritten": 0,
                    "dataRead": 944,
                    "rowCount": 16,
                    "usageDescription": "",
                    "jobId": 108,
                    "name": "collect at /tmp/ipykernel_9981/2318470756.py:1",
                    "description": "Job group for statement 30:\nmentions = [comments_cb.select(name).agg({\"*\": \"sum\"}).collect()[0][0] for name in player_names] # count number of mentions by player",
                    "submissionTime": "2023-11-18T23:05:19.770GMT",
                    "completionTime": "2023-11-18T23:05:19.811GMT",
                    "stageIds": [
                      161,
                      160
                    ],
                    "jobGroup": "30",
                    "status": "SUCCEEDED",
                    "numTasks": 17,
                    "numActiveTasks": 0,
                    "numCompletedTasks": 1,
                    "numSkippedTasks": 16,
                    "numFailedTasks": 0,
                    "numKilledTasks": 0,
                    "numCompletedIndices": 1,
                    "numActiveStages": 0,
                    "numCompletedStages": 1,
                    "numSkippedStages": 1,
                    "numFailedStages": 0,
                    "killedTasksSummary": {}
                  },
                  {
                    "displayName": "collect at /tmp/ipykernel_9981/2318470756.py:1",
                    "dataWritten": 944,
                    "dataRead": 218221040,
                    "rowCount": 172,
                    "usageDescription": "",
                    "jobId": 107,
                    "name": "collect at /tmp/ipykernel_9981/2318470756.py:1",
                    "description": "Job group for statement 30:\nmentions = [comments_cb.select(name).agg({\"*\": \"sum\"}).collect()[0][0] for name in player_names] # count number of mentions by player",
                    "submissionTime": "2023-11-18T23:05:19.154GMT",
                    "completionTime": "2023-11-18T23:05:19.750GMT",
                    "stageIds": [
                      159
                    ],
                    "jobGroup": "30",
                    "status": "SUCCEEDED",
                    "numTasks": 16,
                    "numActiveTasks": 0,
                    "numCompletedTasks": 16,
                    "numSkippedTasks": 0,
                    "numFailedTasks": 0,
                    "numKilledTasks": 0,
                    "numCompletedIndices": 16,
                    "numActiveStages": 0,
                    "numCompletedStages": 1,
                    "numSkippedStages": 0,
                    "numFailedStages": 0,
                    "killedTasksSummary": {}
                  },
                  {
                    "displayName": "collect at /tmp/ipykernel_9981/2318470756.py:1",
                    "dataWritten": 0,
                    "dataRead": 944,
                    "rowCount": 16,
                    "usageDescription": "",
                    "jobId": 106,
                    "name": "collect at /tmp/ipykernel_9981/2318470756.py:1",
                    "description": "Job group for statement 30:\nmentions = [comments_cb.select(name).agg({\"*\": \"sum\"}).collect()[0][0] for name in player_names] # count number of mentions by player",
                    "submissionTime": "2023-11-18T23:05:19.035GMT",
                    "completionTime": "2023-11-18T23:05:19.068GMT",
                    "stageIds": [
                      157,
                      158
                    ],
                    "jobGroup": "30",
                    "status": "SUCCEEDED",
                    "numTasks": 17,
                    "numActiveTasks": 0,
                    "numCompletedTasks": 1,
                    "numSkippedTasks": 16,
                    "numFailedTasks": 0,
                    "numKilledTasks": 0,
                    "numCompletedIndices": 1,
                    "numActiveStages": 0,
                    "numCompletedStages": 1,
                    "numSkippedStages": 1,
                    "numFailedStages": 0,
                    "killedTasksSummary": {}
                  },
                  {
                    "displayName": "collect at /tmp/ipykernel_9981/2318470756.py:1",
                    "dataWritten": 944,
                    "dataRead": 218221040,
                    "rowCount": 172,
                    "usageDescription": "",
                    "jobId": 105,
                    "name": "collect at /tmp/ipykernel_9981/2318470756.py:1",
                    "description": "Job group for statement 30:\nmentions = [comments_cb.select(name).agg({\"*\": \"sum\"}).collect()[0][0] for name in player_names] # count number of mentions by player",
                    "submissionTime": "2023-11-18T23:05:18.333GMT",
                    "completionTime": "2023-11-18T23:05:19.016GMT",
                    "stageIds": [
                      156
                    ],
                    "jobGroup": "30",
                    "status": "SUCCEEDED",
                    "numTasks": 16,
                    "numActiveTasks": 0,
                    "numCompletedTasks": 16,
                    "numSkippedTasks": 0,
                    "numFailedTasks": 0,
                    "numKilledTasks": 0,
                    "numCompletedIndices": 16,
                    "numActiveStages": 0,
                    "numCompletedStages": 1,
                    "numSkippedStages": 0,
                    "numFailedStages": 0,
                    "killedTasksSummary": {}
                  },
                  {
                    "displayName": "collect at /tmp/ipykernel_9981/2318470756.py:1",
                    "dataWritten": 0,
                    "dataRead": 944,
                    "rowCount": 16,
                    "usageDescription": "",
                    "jobId": 104,
                    "name": "collect at /tmp/ipykernel_9981/2318470756.py:1",
                    "description": "Job group for statement 30:\nmentions = [comments_cb.select(name).agg({\"*\": \"sum\"}).collect()[0][0] for name in player_names] # count number of mentions by player",
                    "submissionTime": "2023-11-18T23:05:18.189GMT",
                    "completionTime": "2023-11-18T23:05:18.236GMT",
                    "stageIds": [
                      154,
                      155
                    ],
                    "jobGroup": "30",
                    "status": "SUCCEEDED",
                    "numTasks": 17,
                    "numActiveTasks": 0,
                    "numCompletedTasks": 1,
                    "numSkippedTasks": 16,
                    "numFailedTasks": 0,
                    "numKilledTasks": 0,
                    "numCompletedIndices": 1,
                    "numActiveStages": 0,
                    "numCompletedStages": 1,
                    "numSkippedStages": 1,
                    "numFailedStages": 0,
                    "killedTasksSummary": {}
                  },
                  {
                    "displayName": "collect at /tmp/ipykernel_9981/2318470756.py:1",
                    "dataWritten": 944,
                    "dataRead": 218221040,
                    "rowCount": 172,
                    "usageDescription": "",
                    "jobId": 103,
                    "name": "collect at /tmp/ipykernel_9981/2318470756.py:1",
                    "description": "Job group for statement 30:\nmentions = [comments_cb.select(name).agg({\"*\": \"sum\"}).collect()[0][0] for name in player_names] # count number of mentions by player",
                    "submissionTime": "2023-11-18T23:05:17.511GMT",
                    "completionTime": "2023-11-18T23:05:18.171GMT",
                    "stageIds": [
                      153
                    ],
                    "jobGroup": "30",
                    "status": "SUCCEEDED",
                    "numTasks": 16,
                    "numActiveTasks": 0,
                    "numCompletedTasks": 16,
                    "numSkippedTasks": 0,
                    "numFailedTasks": 0,
                    "numKilledTasks": 0,
                    "numCompletedIndices": 16,
                    "numActiveStages": 0,
                    "numCompletedStages": 1,
                    "numSkippedStages": 0,
                    "numFailedStages": 0,
                    "killedTasksSummary": {}
                  },
                  {
                    "displayName": "collect at /tmp/ipykernel_9981/2318470756.py:1",
                    "dataWritten": 0,
                    "dataRead": 944,
                    "rowCount": 16,
                    "usageDescription": "",
                    "jobId": 102,
                    "name": "collect at /tmp/ipykernel_9981/2318470756.py:1",
                    "description": "Job group for statement 30:\nmentions = [comments_cb.select(name).agg({\"*\": \"sum\"}).collect()[0][0] for name in player_names] # count number of mentions by player",
                    "submissionTime": "2023-11-18T23:05:17.390GMT",
                    "completionTime": "2023-11-18T23:05:17.422GMT",
                    "stageIds": [
                      151,
                      152
                    ],
                    "jobGroup": "30",
                    "status": "SUCCEEDED",
                    "numTasks": 17,
                    "numActiveTasks": 0,
                    "numCompletedTasks": 1,
                    "numSkippedTasks": 16,
                    "numFailedTasks": 0,
                    "numKilledTasks": 0,
                    "numCompletedIndices": 1,
                    "numActiveStages": 0,
                    "numCompletedStages": 1,
                    "numSkippedStages": 1,
                    "numFailedStages": 0,
                    "killedTasksSummary": {}
                  },
                  {
                    "displayName": "collect at /tmp/ipykernel_9981/2318470756.py:1",
                    "dataWritten": 944,
                    "dataRead": 218221040,
                    "rowCount": 172,
                    "usageDescription": "",
                    "jobId": 101,
                    "name": "collect at /tmp/ipykernel_9981/2318470756.py:1",
                    "description": "Job group for statement 30:\nmentions = [comments_cb.select(name).agg({\"*\": \"sum\"}).collect()[0][0] for name in player_names] # count number of mentions by player",
                    "submissionTime": "2023-11-18T23:05:16.814GMT",
                    "completionTime": "2023-11-18T23:05:17.373GMT",
                    "stageIds": [
                      150
                    ],
                    "jobGroup": "30",
                    "status": "SUCCEEDED",
                    "numTasks": 16,
                    "numActiveTasks": 0,
                    "numCompletedTasks": 16,
                    "numSkippedTasks": 0,
                    "numFailedTasks": 0,
                    "numKilledTasks": 0,
                    "numCompletedIndices": 16,
                    "numActiveStages": 0,
                    "numCompletedStages": 1,
                    "numSkippedStages": 0,
                    "numFailedStages": 0,
                    "killedTasksSummary": {}
                  },
                  {
                    "displayName": "collect at /tmp/ipykernel_9981/2318470756.py:1",
                    "dataWritten": 0,
                    "dataRead": 944,
                    "rowCount": 16,
                    "usageDescription": "",
                    "jobId": 100,
                    "name": "collect at /tmp/ipykernel_9981/2318470756.py:1",
                    "description": "Job group for statement 30:\nmentions = [comments_cb.select(name).agg({\"*\": \"sum\"}).collect()[0][0] for name in player_names] # count number of mentions by player",
                    "submissionTime": "2023-11-18T23:05:16.690GMT",
                    "completionTime": "2023-11-18T23:05:16.731GMT",
                    "stageIds": [
                      148,
                      149
                    ],
                    "jobGroup": "30",
                    "status": "SUCCEEDED",
                    "numTasks": 17,
                    "numActiveTasks": 0,
                    "numCompletedTasks": 1,
                    "numSkippedTasks": 16,
                    "numFailedTasks": 0,
                    "numKilledTasks": 0,
                    "numCompletedIndices": 1,
                    "numActiveStages": 0,
                    "numCompletedStages": 1,
                    "numSkippedStages": 1,
                    "numFailedStages": 0,
                    "killedTasksSummary": {}
                  },
                  {
                    "displayName": "collect at /tmp/ipykernel_9981/2318470756.py:1",
                    "dataWritten": 944,
                    "dataRead": 218221040,
                    "rowCount": 172,
                    "usageDescription": "",
                    "jobId": 99,
                    "name": "collect at /tmp/ipykernel_9981/2318470756.py:1",
                    "description": "Job group for statement 30:\nmentions = [comments_cb.select(name).agg({\"*\": \"sum\"}).collect()[0][0] for name in player_names] # count number of mentions by player",
                    "submissionTime": "2023-11-18T23:05:16.029GMT",
                    "completionTime": "2023-11-18T23:05:16.667GMT",
                    "stageIds": [
                      147
                    ],
                    "jobGroup": "30",
                    "status": "SUCCEEDED",
                    "numTasks": 16,
                    "numActiveTasks": 0,
                    "numCompletedTasks": 16,
                    "numSkippedTasks": 0,
                    "numFailedTasks": 0,
                    "numKilledTasks": 0,
                    "numCompletedIndices": 16,
                    "numActiveStages": 0,
                    "numCompletedStages": 1,
                    "numSkippedStages": 0,
                    "numFailedStages": 0,
                    "killedTasksSummary": {}
                  },
                  {
                    "displayName": "collect at /tmp/ipykernel_9981/2318470756.py:1",
                    "dataWritten": 0,
                    "dataRead": 944,
                    "rowCount": 16,
                    "usageDescription": "",
                    "jobId": 98,
                    "name": "collect at /tmp/ipykernel_9981/2318470756.py:1",
                    "description": "Job group for statement 30:\nmentions = [comments_cb.select(name).agg({\"*\": \"sum\"}).collect()[0][0] for name in player_names] # count number of mentions by player",
                    "submissionTime": "2023-11-18T23:05:15.891GMT",
                    "completionTime": "2023-11-18T23:05:15.934GMT",
                    "stageIds": [
                      145,
                      146
                    ],
                    "jobGroup": "30",
                    "status": "SUCCEEDED",
                    "numTasks": 17,
                    "numActiveTasks": 0,
                    "numCompletedTasks": 1,
                    "numSkippedTasks": 16,
                    "numFailedTasks": 0,
                    "numKilledTasks": 0,
                    "numCompletedIndices": 1,
                    "numActiveStages": 0,
                    "numCompletedStages": 1,
                    "numSkippedStages": 1,
                    "numFailedStages": 0,
                    "killedTasksSummary": {}
                  },
                  {
                    "displayName": "collect at /tmp/ipykernel_9981/2318470756.py:1",
                    "dataWritten": 944,
                    "dataRead": 218221040,
                    "rowCount": 172,
                    "usageDescription": "",
                    "jobId": 97,
                    "name": "collect at /tmp/ipykernel_9981/2318470756.py:1",
                    "description": "Job group for statement 30:\nmentions = [comments_cb.select(name).agg({\"*\": \"sum\"}).collect()[0][0] for name in player_names] # count number of mentions by player",
                    "submissionTime": "2023-11-18T23:05:14.833GMT",
                    "completionTime": "2023-11-18T23:05:15.867GMT",
                    "stageIds": [
                      144
                    ],
                    "jobGroup": "30",
                    "status": "SUCCEEDED",
                    "numTasks": 16,
                    "numActiveTasks": 0,
                    "numCompletedTasks": 16,
                    "numSkippedTasks": 0,
                    "numFailedTasks": 0,
                    "numKilledTasks": 0,
                    "numCompletedIndices": 16,
                    "numActiveStages": 0,
                    "numCompletedStages": 1,
                    "numSkippedStages": 0,
                    "numFailedStages": 0,
                    "killedTasksSummary": {}
                  }
                ],
                "limit": 20,
                "rule": "ALL_DESC"
              },
              "parent_msg_id": "68ca27b1-cdcc-41ff-b9ab-750e5cffecf7"
            },
            "text/plain": "StatementMeta(d3c1b951-094c-48e1-919d-e32bc175397b, 29, 30, Finished, Available)"
          },
          "metadata": {}
        }
      ],
      "execution_count": 27,
      "metadata": {
        "jupyter": {
          "source_hidden": false,
          "outputs_hidden": false
        },
        "nteract": {
          "transient": {
            "deleting": false
          }
        },
        "gather": {
          "logged": 1700348723797
        }
      }
    },
    {
      "cell_type": "code",
      "source": [
        "# plotting # of mentions by player\n",
        "plt.figure(figsize=(12,8))\n",
        "plt.bar(player_names, mentions, color='darkgreen')\n",
        "plt.xlabel('Player Names', fontsize = 14)\n",
        "plt.xticks(rotation = 30, fontsize = 12)\n",
        "plt.ylabel('Number of Comments', fontsize = 14)\n",
        "plt.title('Number of Comments for Each Player', fontsize = 14)\n",
        "plt.show()"
      ],
      "outputs": [
        {
          "output_type": "display_data",
          "data": {
            "application/vnd.livy.statement-meta+json": {
              "spark_pool": "d3c1b951-094c-48e1-919d-e32bc175397b",
              "session_id": "29",
              "statement_id": 32,
              "state": "finished",
              "livy_statement_state": "available",
              "queued_time": "2023-11-18T23:05:58.3549546Z",
              "session_start_time": null,
              "execution_start_time": "2023-11-18T23:05:59.9830291Z",
              "execution_finish_time": "2023-11-18T23:06:01.6503028Z",
              "spark_jobs": {
                "numbers": {
                  "SUCCEEDED": 0,
                  "UNKNOWN": 0,
                  "FAILED": 0,
                  "RUNNING": 0
                },
                "jobs": [],
                "limit": 20,
                "rule": "ALL_DESC"
              },
              "parent_msg_id": "bec1d907-e1b3-4022-b82f-b858fa144762"
            },
            "text/plain": "StatementMeta(d3c1b951-094c-48e1-919d-e32bc175397b, 29, 32, Finished, Available)"
          },
          "metadata": {}
        },
        {
          "output_type": "display_data",
          "data": {
            "text/plain": "<Figure size 864x576 with 1 Axes>",
            "image/png": "[encoded data removed]"
          },
          "metadata": {
            "needs_background": "light"
          }
        }
      ],
      "execution_count": 29,
      "metadata": {
        "jupyter": {
          "source_hidden": false,
          "outputs_hidden": false
        },
        "nteract": {
          "transient": {
            "deleting": false
          }
        },
        "gather": {
          "logged": 1700348762776
        }
      }
    },
    {
      "cell_type": "code",
      "source": [
        "x = (\"kofi cockburn\", \"keegan murray\",\"oscar tshiebwe\", \"paolo banchero\",\"chet holmgren\",\"jaden ivey\",\"bennedict mathurin\",\"drew timme\")\n",
        "mentions_month = (\n",
        "    comments_cb\n",
        "    .groupBy(\"month\")\n",
        "    .agg(\n",
        "        sum(\"ochai agbaji\").alias(\"Ochai Agbaji\"),\n",
        "        sum(\"keegan murray\").alias(\"Keegan Murray\"),\n",
        "        sum(\"oscar tshiebwe\").alias(\"Oscar Tshiebwe\"),\n",
        "        sum(\"paolo banchero\").alias(\"Paolo Banchero\"),\n",
        "        sum(\"chet holmgren\").alias(\"Chet Holmgren\"),\n",
        "        sum(\"jaden ivey\").alias(\"Jaden Ivey\"),\n",
        "        sum(\"bennedict mathurin\").alias(\"Bennedict Mathurin\"),\n",
        "        sum(\"drew timme\").alias(\"Drew Timme\"),\n",
        "\n",
        "    )\n",
        ").toPandas()"
      ],
      "outputs": [
        {
          "output_type": "display_data",
          "data": {
            "application/vnd.livy.statement-meta+json": {
              "spark_pool": "d3c1b951-094c-48e1-919d-e32bc175397b",
              "session_id": "29",
              "statement_id": 123,
              "state": "finished",
              "livy_statement_state": "available",
              "queued_time": "2023-11-18T23:52:33.8676161Z",
              "session_start_time": null,
              "execution_start_time": "2023-11-18T23:52:33.9868265Z",
              "execution_finish_time": "2023-11-18T23:52:36.5347128Z",
              "spark_jobs": {
                "numbers": {
                  "SUCCEEDED": 2,
                  "UNKNOWN": 0,
                  "FAILED": 0,
                  "RUNNING": 0
                },
                "jobs": [
                  {
                    "displayName": "toPandas at /tmp/ipykernel_9981/2141006629.py:2",
                    "dataWritten": 0,
                    "dataRead": 11108,
                    "rowCount": 128,
                    "usageDescription": "",
                    "jobId": 194,
                    "name": "toPandas at /tmp/ipykernel_9981/2141006629.py:2",
                    "description": "Job group for statement 123:\nx = (\"kofi cockburn\", \"keegan murray\",\"oscar tshiebwe\", \"paolo banchero\",\"chet holmgren\",\"jaden ivey\",\"bennedict mathurin\",\"drew timme\")\nmentions_month = (\n    comments_cb\n    .groupBy(\"month\")\n    .agg(\n        sum(\"ochai agbaji\").alias(\"Ochai Agbaji\"),\n        sum(\"keegan murray\").alias(\"Keegan Murray\"),\n        sum(\"oscar tshiebwe\").alias(\"Oscar Tshiebwe\"),\n        sum(\"paolo banchero\").alias(\"Paolo Banchero\"),\n        sum(\"chet holmgren\").alias(\"Chet Holmgren\"),\n        sum(\"jaden ivey\").alias(\"Jaden Ivey\"),\n        sum(\"bennedict mathurin\").alias(\"Bennedict Mathurin\"),\n        sum(\"drew timme\").alias(\"Drew Timme\"),\n\n    )\n).toPandas()",
                    "submissionTime": "2023-11-18T23:52:35.976GMT",
                    "completionTime": "2023-11-18T23:52:36.067GMT",
                    "stageIds": [
                      300,
                      301
                    ],
                    "jobGroup": "123",
                    "status": "SUCCEEDED",
                    "numTasks": 17,
                    "numActiveTasks": 0,
                    "numCompletedTasks": 1,
                    "numSkippedTasks": 16,
                    "numFailedTasks": 0,
                    "numKilledTasks": 0,
                    "numCompletedIndices": 1,
                    "numActiveStages": 0,
                    "numCompletedStages": 1,
                    "numSkippedStages": 1,
                    "numFailedStages": 0,
                    "killedTasksSummary": {}
                  },
                  {
                    "displayName": "toPandas at /tmp/ipykernel_9981/2141006629.py:2",
                    "dataWritten": 11108,
                    "dataRead": 218221040,
                    "rowCount": 284,
                    "usageDescription": "",
                    "jobId": 193,
                    "name": "toPandas at /tmp/ipykernel_9981/2141006629.py:2",
                    "description": "Job group for statement 123:\nx = (\"kofi cockburn\", \"keegan murray\",\"oscar tshiebwe\", \"paolo banchero\",\"chet holmgren\",\"jaden ivey\",\"bennedict mathurin\",\"drew timme\")\nmentions_month = (\n    comments_cb\n    .groupBy(\"month\")\n    .agg(\n        sum(\"ochai agbaji\").alias(\"Ochai Agbaji\"),\n        sum(\"keegan murray\").alias(\"Keegan Murray\"),\n        sum(\"oscar tshiebwe\").alias(\"Oscar Tshiebwe\"),\n        sum(\"paolo banchero\").alias(\"Paolo Banchero\"),\n        sum(\"chet holmgren\").alias(\"Chet Holmgren\"),\n        sum(\"jaden ivey\").alias(\"Jaden Ivey\"),\n        sum(\"bennedict mathurin\").alias(\"Bennedict Mathurin\"),\n        sum(\"drew timme\").alias(\"Drew Timme\"),\n\n    )\n).toPandas()",
                    "submissionTime": "2023-11-18T23:52:34.147GMT",
                    "completionTime": "2023-11-18T23:52:35.946GMT",
                    "stageIds": [
                      299
                    ],
                    "jobGroup": "123",
                    "status": "SUCCEEDED",
                    "numTasks": 16,
                    "numActiveTasks": 0,
                    "numCompletedTasks": 16,
                    "numSkippedTasks": 0,
                    "numFailedTasks": 0,
                    "numKilledTasks": 0,
                    "numCompletedIndices": 16,
                    "numActiveStages": 0,
                    "numCompletedStages": 1,
                    "numSkippedStages": 0,
                    "numFailedStages": 0,
                    "killedTasksSummary": {}
                  }
                ],
                "limit": 20,
                "rule": "ALL_DESC"
              },
              "parent_msg_id": "0ca797ff-c1bb-4fb6-afc3-77ac1d171c95"
            },
            "text/plain": "StatementMeta(d3c1b951-094c-48e1-919d-e32bc175397b, 29, 123, Finished, Available)"
          },
          "metadata": {}
        }
      ],
      "execution_count": 120,
      "metadata": {
        "jupyter": {
          "source_hidden": false,
          "outputs_hidden": false
        },
        "nteract": {
          "transient": {
            "deleting": false
          }
        },
        "gather": {
          "logged": 1700351556657
        }
      }
    },
    {
      "cell_type": "code",
      "source": [
        "custom_order = [9, 10, 11, 12, 1, 2, 3, 4]\n",
        "month_names = ['September', 'October', 'November', 'December', 'January', 'February', 'March', 'April']\n",
        "\n",
        "mentions_month['month'] = pd.Categorical(mentions_month['month'], categories=custom_order, ordered=True)\n",
        "mentions_month = mentions_month.sort_values(by='month')\n",
        "month_mapping = {1: 'Jan', 2: 'Feb', 3: 'Mar', 4: 'Apr', 5: 'May', 6: 'Jun', 7: 'Jul', 8: 'Aug', 9: 'Sep', 10: 'Oct', 11: 'Nov', 12: 'Dec'}\n",
        "mentions_month['month'] = mentions_month['month'].map(month_mapping)\n",
        "mentions_month.set_index(\"month\", inplace = True)\n",
        "mentions_month"
      ],
      "outputs": [
        {
          "output_type": "display_data",
          "data": {
            "application/vnd.livy.statement-meta+json": {
              "spark_pool": "d3c1b951-094c-48e1-919d-e32bc175397b",
              "session_id": "29",
              "statement_id": 124,
              "state": "finished",
              "livy_statement_state": "available",
              "queued_time": "2023-11-18T23:52:36.4176405Z",
              "session_start_time": null,
              "execution_start_time": "2023-11-18T23:52:36.7460674Z",
              "execution_finish_time": "2023-11-18T23:52:37.047185Z",
              "spark_jobs": {
                "numbers": {
                  "SUCCEEDED": 0,
                  "UNKNOWN": 0,
                  "FAILED": 0,
                  "RUNNING": 0
                },
                "jobs": [],
                "limit": 20,
                "rule": "ALL_DESC"
              },
              "parent_msg_id": "8540f6c1-5ad9-4567-8cc7-353da5445f5b"
            },
            "text/plain": "StatementMeta(d3c1b951-094c-48e1-919d-e32bc175397b, 29, 124, Finished, Available)"
          },
          "metadata": {}
        },
        {
          "output_type": "execute_result",
          "execution_count": 247,
          "data": {
            "text/plain": "  month  Ochai Agbaji  Keegan Murray  Oscar Tshiebwe  Paolo Banchero  \\\n3   Sep             5             90               7              25   \n5   Oct             8             82              18              45   \n6   Nov           132            343             320             806   \n0   Dec            58            519             345             126   \n1   Jan           335            580             687             201   \n7   Feb           188            762             750             425   \n2   Mar           449           2599             816             978   \n4   Apr           436            245             318             361   \n\n   Chet Holmgren  Jaden Ivey  Bennedict Mathurin  Drew Timme  \n3             39          30                   3          50  \n5             63          66                   8         102  \n6            844         271                  22         799  \n0            138         506                  87         305  \n1            132         911                  48         360  \n7            297         857                  75         499  \n2           1781        1766                 408        2424  \n4            143          60                  19         333  ",
            "text/html": "<div>\n<style scoped>\n    .dataframe tbody tr th:only-of-type {\n        vertical-align: middle;\n    }\n\n    .dataframe tbody tr th {\n        vertical-align: top;\n    }\n\n    .dataframe thead th {\n        text-align: right;\n    }\n</style>\n<table border=\"1\" class=\"dataframe\">\n  <thead>\n    <tr style=\"text-align: right;\">\n      <th></th>\n      <th>month</th>\n      <th>Ochai Agbaji</th>\n      <th>Keegan Murray</th>\n      <th>Oscar Tshiebwe</th>\n      <th>Paolo Banchero</th>\n      <th>Chet Holmgren</th>\n      <th>Jaden Ivey</th>\n      <th>Bennedict Mathurin</th>\n      <th>Drew Timme</th>\n    </tr>\n  </thead>\n  <tbody>\n    <tr>\n      <th>3</th>\n      <td>Sep</td>\n      <td>5</td>\n      <td>90</td>\n      <td>7</td>\n      <td>25</td>\n      <td>39</td>\n      <td>30</td>\n      <td>3</td>\n      <td>50</td>\n    </tr>\n    <tr>\n      <th>5</th>\n      <td>Oct</td>\n      <td>8</td>\n      <td>82</td>\n      <td>18</td>\n      <td>45</td>\n      <td>63</td>\n      <td>66</td>\n      <td>8</td>\n      <td>102</td>\n    </tr>\n    <tr>\n      <th>6</th>\n      <td>Nov</td>\n      <td>132</td>\n      <td>343</td>\n      <td>320</td>\n      <td>806</td>\n      <td>844</td>\n      <td>271</td>\n      <td>22</td>\n      <td>799</td>\n    </tr>\n    <tr>\n      <th>0</th>\n      <td>Dec</td>\n      <td>58</td>\n      <td>519</td>\n      <td>345</td>\n      <td>126</td>\n      <td>138</td>\n      <td>506</td>\n      <td>87</td>\n      <td>305</td>\n    </tr>\n    <tr>\n      <th>1</th>\n      <td>Jan</td>\n      <td>335</td>\n      <td>580</td>\n      <td>687</td>\n      <td>201</td>\n      <td>132</td>\n      <td>911</td>\n      <td>48</td>\n      <td>360</td>\n    </tr>\n    <tr>\n      <th>7</th>\n      <td>Feb</td>\n      <td>188</td>\n      <td>762</td>\n      <td>750</td>\n      <td>425</td>\n      <td>297</td>\n      <td>857</td>\n      <td>75</td>\n      <td>499</td>\n    </tr>\n    <tr>\n      <th>2</th>\n      <td>Mar</td>\n      <td>449</td>\n      <td>2599</td>\n      <td>816</td>\n      <td>978</td>\n      <td>1781</td>\n      <td>1766</td>\n      <td>408</td>\n      <td>2424</td>\n    </tr>\n    <tr>\n      <th>4</th>\n      <td>Apr</td>\n      <td>436</td>\n      <td>245</td>\n      <td>318</td>\n      <td>361</td>\n      <td>143</td>\n      <td>60</td>\n      <td>19</td>\n      <td>333</td>\n    </tr>\n  </tbody>\n</table>\n</div>"
          },
          "metadata": {}
        }
      ],
      "execution_count": 121,
      "metadata": {
        "jupyter": {
          "source_hidden": false,
          "outputs_hidden": false
        },
        "nteract": {
          "transient": {
            "deleting": false
          }
        },
        "gather": {
          "logged": 1700351557150
        }
      }
    },
    {
      "cell_type": "code",
      "source": [
        "results = {\n",
        "    mentions_month.index[0]: mentions_month.iloc[0].idxmax(),\n",
        "    mentions_month.index[1]: mentions_month.iloc[1].idxmax(),\n",
        "    mentions_month.index[2]: mentions_month.iloc[2].idxmax(),\n",
        "    mentions_month.index[3]: mentions_month.iloc[3].idxmax(),\n",
        "    mentions_month.index[4]: mentions_month.iloc[4].idxmax(),\n",
        "    mentions_month.index[5]: mentions_month.iloc[5].idxmax(),\n",
        "    mentions_month.index[6]: mentions_month.iloc[6].idxmax(),\n",
        "    mentions_month.index[7]: mentions_month.iloc[7].idxmax(),\n",
        "}\n",
        "df = pd.DataFrame(list(results.items()), columns=['Month', 'Most Discussed Player'])\n",
        "df"
      ],
      "outputs": [
        {
          "output_type": "display_data",
          "data": {
            "application/vnd.livy.statement-meta+json": {
              "spark_pool": "d3c1b951-094c-48e1-919d-e32bc175397b",
              "session_id": "29",
              "statement_id": 141,
              "state": "finished",
              "livy_statement_state": "available",
              "queued_time": "2023-11-18T23:57:10.7708351Z",
              "session_start_time": null,
              "execution_start_time": "2023-11-18T23:57:10.9499216Z",
              "execution_finish_time": "2023-11-18T23:57:11.2484101Z",
              "spark_jobs": {
                "numbers": {
                  "SUCCEEDED": 0,
                  "UNKNOWN": 0,
                  "FAILED": 0,
                  "RUNNING": 0
                },
                "jobs": [],
                "limit": 20,
                "rule": "ALL_DESC"
              },
              "parent_msg_id": "d1619aa3-88a9-400b-bc09-a3bab0bd7d07"
            },
            "text/plain": "StatementMeta(d3c1b951-094c-48e1-919d-e32bc175397b, 29, 141, Finished, Available)"
          },
          "metadata": {}
        },
        {
          "output_type": "execute_result",
          "execution_count": 281,
          "data": {
            "text/plain": "  Month Most Discussed Player\n0   Sep         Keegan Murray\n1   Oct            Drew Timme\n2   Nov         Chet Holmgren\n3   Dec         Keegan Murray\n4   Jan            Jaden Ivey\n5   Feb            Jaden Ivey\n6   Mar         Keegan Murray\n7   Apr          Ochai Agbaji",
            "text/html": "<div>\n<style scoped>\n    .dataframe tbody tr th:only-of-type {\n        vertical-align: middle;\n    }\n\n    .dataframe tbody tr th {\n        vertical-align: top;\n    }\n\n    .dataframe thead th {\n        text-align: right;\n    }\n</style>\n<table border=\"1\" class=\"dataframe\">\n  <thead>\n    <tr style=\"text-align: right;\">\n      <th></th>\n      <th>Month</th>\n      <th>Most Discussed Player</th>\n    </tr>\n  </thead>\n  <tbody>\n    <tr>\n      <th>0</th>\n      <td>Sep</td>\n      <td>Keegan Murray</td>\n    </tr>\n    <tr>\n      <th>1</th>\n      <td>Oct</td>\n      <td>Drew Timme</td>\n    </tr>\n    <tr>\n      <th>2</th>\n      <td>Nov</td>\n      <td>Chet Holmgren</td>\n    </tr>\n    <tr>\n      <th>3</th>\n      <td>Dec</td>\n      <td>Keegan Murray</td>\n    </tr>\n    <tr>\n      <th>4</th>\n      <td>Jan</td>\n      <td>Jaden Ivey</td>\n    </tr>\n    <tr>\n      <th>5</th>\n      <td>Feb</td>\n      <td>Jaden Ivey</td>\n    </tr>\n    <tr>\n      <th>6</th>\n      <td>Mar</td>\n      <td>Keegan Murray</td>\n    </tr>\n    <tr>\n      <th>7</th>\n      <td>Apr</td>\n      <td>Ochai Agbaji</td>\n    </tr>\n  </tbody>\n</table>\n</div>"
          },
          "metadata": {}
        }
      ],
      "execution_count": 138,
      "metadata": {
        "jupyter": {
          "source_hidden": false,
          "outputs_hidden": false
        },
        "nteract": {
          "transient": {
            "deleting": false
          }
        },
        "gather": {
          "logged": 1700351831675
        }
      }
    },
    {
      "cell_type": "markdown",
      "source": [
        "##### Transfer Portal"
      ],
      "metadata": {
        "nteract": {
          "transient": {
            "deleting": false
          }
        }
      }
    },
    {
      "cell_type": "code",
      "source": [
        "pattern = \"(transfer|transfer portal|portal|portaling)\"\n",
        "\n",
        "comments_cb = comments_cb.withColumn(\"transfer\", when(col(\"body\").rlike(pattern), 1).otherwise(0))\n",
        "count_byday= comments_cb.groupBy(\"year\", \"month\", \"day\", \"transfer\").count().filter(col(\"transfer\")==1 ).orderBy(\"year\", \"month\", \"day\").toPandas()\n"
      ],
      "outputs": [
        {
          "output_type": "display_data",
          "data": {
            "application/vnd.livy.statement-meta+json": {
              "spark_pool": "d3c1b951-094c-48e1-919d-e32bc175397b",
              "session_id": "29",
              "statement_id": 33,
              "state": "finished",
              "livy_statement_state": "available",
              "queued_time": "2023-11-18T23:08:30.2543281Z",
              "session_start_time": null,
              "execution_start_time": "2023-11-18T23:08:30.3803324Z",
              "execution_finish_time": "2023-11-18T23:08:30.6718121Z",
              "spark_jobs": {
                "numbers": {
                  "SUCCEEDED": 0,
                  "UNKNOWN": 0,
                  "FAILED": 0,
                  "RUNNING": 0
                },
                "jobs": [],
                "limit": 20,
                "rule": "ALL_DESC"
              },
              "parent_msg_id": "45aa7d65-d3f6-41ff-ab6f-d5765daab093"
            },
            "text/plain": "StatementMeta(d3c1b951-094c-48e1-919d-e32bc175397b, 29, 33, Finished, Available)"
          },
          "metadata": {}
        }
      ],
      "execution_count": 30,
      "metadata": {
        "jupyter": {
          "source_hidden": false,
          "outputs_hidden": false
        },
        "nteract": {
          "transient": {
            "deleting": false
          }
        },
        "gather": {
          "logged": 1700348911281
        }
      }
    },
    {
      "cell_type": "code",
      "source": [
        "count_byday['date'] = pd.to_datetime(count_byday[['year', 'month', 'day']])\n",
        "plt.figure(figsize=(10, 6))\n",
        "plt.plot(count_byday[\"date\"], count_byday[\"count\"], marker='.', linestyle='-', color = \"darkgreen\")\n",
        "plt.title('Number of Comments Discussing \"Transfer\" by Day', fontsize = 14)\n",
        "plt.xlabel('Date', fontsize = 14)\n",
        "plt.ylabel('Number of Comments', fontsize = 14)\n",
        "plt.grid(True)\n",
        "plt.show()"
      ],
      "outputs": [
        {
          "output_type": "display_data",
          "data": {
            "application/vnd.livy.statement-meta+json": {
              "spark_pool": "d3c1b951-094c-48e1-919d-e32bc175397b",
              "session_id": "29",
              "statement_id": 58,
              "state": "finished",
              "livy_statement_state": "available",
              "queued_time": "2023-11-18T23:20:47.4824209Z",
              "session_start_time": null,
              "execution_start_time": "2023-11-18T23:20:47.6237364Z",
              "execution_finish_time": "2023-11-18T23:20:48.4717042Z",
              "spark_jobs": {
                "numbers": {
                  "SUCCEEDED": 0,
                  "UNKNOWN": 0,
                  "FAILED": 0,
                  "RUNNING": 0
                },
                "jobs": [],
                "limit": 20,
                "rule": "ALL_DESC"
              },
              "parent_msg_id": "1511c95a-45f8-41a3-b259-ca5403f9584d"
            },
            "text/plain": "StatementMeta(d3c1b951-094c-48e1-919d-e32bc175397b, 29, 58, Finished, Available)"
          },
          "metadata": {}
        },
        {
          "output_type": "display_data",
          "data": {
            "text/plain": "<Figure size 720x432 with 1 Axes>",
            "image/png": "[encoded data removed]"
          },
          "metadata": {
            "needs_background": "light"
          }
        }
      ],
      "execution_count": 55,
      "metadata": {
        "jupyter": {
          "source_hidden": false,
          "outputs_hidden": false
        },
        "nteract": {
          "transient": {
            "deleting": false
          }
        },
        "gather": {
          "logged": 1700349648823
        }
      }
    },
    {
      "cell_type": "markdown",
      "source": [
        "### Part 3\n",
        "#### Cleaning Text Data (Comments)"
      ],
      "metadata": {
        "nteract": {
          "transient": {
            "deleting": false
          }
        }
      }
    },
    {
      "cell_type": "code",
      "source": [
        "# Text Data Cleaning Pipeline\n",
        "\n",
        "# covert body of comments data to nlp document format\n",
        "document_assembler = (\n",
        "    DocumentAssembler()\n",
        "    .setInputCol(\"body\")\n",
        "    .setOutputCol(\"document\")\n",
        ")\n",
        "# split document into sentences\n",
        "sentence = (\n",
        "    SentenceDetectorDLModel.pretrained(\"sentence_detector_dl\", \"en\")\n",
        "    .setInputCols([\"document\"])\n",
        "    .setOutputCol(\"sentence\")\n",
        ")\n",
        "# tokenize the words in each sentence\n",
        "tokenizer = (\n",
        "    Tokenizer()\n",
        "    .setInputCols([\"sentence\"])\n",
        "    .setOutputCol(\"token\")\n",
        ")\n",
        "# remove common stopwords\n",
        "stop_words = (\n",
        "    StopWordsCleaner().pretrained(\"stopwords_iso\",\"en\")\n",
        "    .setInputCols([\"token\"])\n",
        "    .setOutputCol(\"cleanTokens\")\n",
        ")\n",
        "# normalize data (remove any digits or entries that are non-standard words, convert to lowercase)\n",
        "normalizer = (\n",
        "    Normalizer()\n",
        "    .setInputCols([\"cleanTokens\"])\n",
        "    .setOutputCol(\"normalizedTokens\")\n",
        "    .setLowercase(True)\n",
        ")\n",
        "# lemmatize the normalized tokens\n",
        "lemmatizer = (\n",
        "    LemmatizerModel.pretrained().setInputCols([\"normalizedTokens\"]).setOutputCol(\"lemma\")\n",
        ")\n",
        "# define pipeline\n",
        "pipeline = Pipeline(stages=[document_assembler, sentence, tokenizer, stop_words, normalizer, lemmatizer])\n",
        "\n",
        "# fit and transform comments data using the pipeline\n",
        "model = pipeline.fit(comments)\n",
        "comments_clean = model.transform(comments)\n",
        "\n",
        "# print the new clean_text\n",
        "comments_clean = comments_clean.withColumn(\"clean_text\", col(\"lemma.result\"))\n",
        "comments_clean.select(\"clean_text\").show()"
      ],
      "outputs": [
        {
          "output_type": "display_data",
          "data": {
            "application/vnd.livy.statement-meta+json": {
              "spark_pool": "d3c1b951-094c-48e1-919d-e32bc175397b",
              "session_id": "23",
              "statement_id": 24,
              "state": "finished",
              "livy_statement_state": "available",
              "queued_time": "2023-11-17T17:19:33.603216Z",
              "session_start_time": null,
              "execution_start_time": "2023-11-17T17:19:33.7236774Z",
              "execution_finish_time": "2023-11-17T17:19:45.9171185Z",
              "spark_jobs": {
                "numbers": {
                  "RUNNING": 0,
                  "SUCCEEDED": 0,
                  "FAILED": 0,
                  "UNKNOWN": 0
                },
                "jobs": [],
                "limit": 20,
                "rule": "ALL_DESC"
              },
              "parent_msg_id": "10a91dbd-5a2e-4fa2-9130-5a4cc3938f5f"
            },
            "text/plain": "StatementMeta(d3c1b951-094c-48e1-919d-e32bc175397b, 23, 24, Finished, Available)"
          },
          "metadata": {}
        },
        {
          "output_type": "stream",
          "name": "stdout",
          "text": "sentence_detector_dl download started this may take some time.\nApproximate size to download 354.6 KB\n[OK!]\nstopwords_iso download started this may take some time.\nApproximate size to download 2.1 KB\n[OK!]\nlemma_antbnc download started this may take some time.\nApproximate size to download 907.6 KB\n[OK!]\n"
        }
      ],
      "execution_count": 27,
      "metadata": {
        "jupyter": {
          "source_hidden": false,
          "outputs_hidden": false
        },
        "nteract": {
          "transient": {
            "deleting": false
          }
        },
        "gather": {
          "logged": 1700241586149
        }
      }
    },
    {
      "cell_type": "code",
      "source": [],
      "outputs": [
        {
          "output_type": "display_data",
          "data": {
            "application/vnd.livy.statement-meta+json": {
              "spark_pool": "d3c1b951-094c-48e1-919d-e32bc175397b",
              "session_id": "23",
              "statement_id": 26,
              "state": "finished",
              "livy_statement_state": "available",
              "queued_time": "2023-11-17T17:20:01.5899371Z",
              "session_start_time": null,
              "execution_start_time": "2023-11-17T17:20:01.7212633Z",
              "execution_finish_time": "2023-11-17T17:20:08.0312553Z",
              "spark_jobs": {
                "numbers": {
                  "RUNNING": 0,
                  "SUCCEEDED": 1,
                  "FAILED": 0,
                  "UNKNOWN": 0
                },
                "jobs": [
                  {
                    "displayName": "showString at NativeMethodAccessorImpl.java:0",
                    "dataWritten": 0,
                    "dataRead": 4723985,
                    "rowCount": 4096,
                    "usageDescription": "",
                    "jobId": 13,
                    "name": "showString at NativeMethodAccessorImpl.java:0",
                    "description": "Job group for statement 26:\ncomments_clean = comments_clean.withColumn(\"clean_text\", col(\"lemma.result\"))\ncomments_clean.select(\"clean_text\").show()",
                    "submissionTime": "2023-11-17T17:20:01.853GMT",
                    "completionTime": "2023-11-17T17:20:07.825GMT",
                    "stageIds": [
                      13
                    ],
                    "jobGroup": "26",
                    "status": "SUCCEEDED",
                    "numTasks": 1,
                    "numActiveTasks": 0,
                    "numCompletedTasks": 1,
                    "numSkippedTasks": 0,
                    "numFailedTasks": 0,
                    "numKilledTasks": 0,
                    "numCompletedIndices": 1,
                    "numActiveStages": 0,
                    "numCompletedStages": 1,
                    "numSkippedStages": 0,
                    "numFailedStages": 0,
                    "killedTasksSummary": {}
                  }
                ],
                "limit": 20,
                "rule": "ALL_DESC"
              },
              "parent_msg_id": "19559590-48ae-41c7-b896-ec914b56c419"
            },
            "text/plain": "StatementMeta(d3c1b951-094c-48e1-919d-e32bc175397b, 23, 26, Finished, Available)"
          },
          "metadata": {}
        },
        {
          "output_type": "stream",
          "name": "stdout",
          "text": "+--------------------+\n|          clean_text|\n+--------------------+\n|              [fall]|\n|[lol, forget, foo...|\n|[half, foul, aren...|\n|[like, creighton,...|\n|  [lose, apparently]|\n|[oklahoma, lose, ...|\n|[ah, miss, miss, ...|\n|[gonna, hour, gam...|\n|[miss, shots, ope...|\n|   [man, call, ucla]|\n|[high, iq, play, ...|\n|[yeesh, yeah, fou...|\n|               [bet]|\n|[northern, iowa, ...|\n|[check, busy, foo...|\n|          [be, roll]|\n|[lmao, im, watch,...|\n|      [attaway, cat]|\n|[glad, thread, in...|\n|      [pretty, cool]|\n+--------------------+\nonly showing top 20 rows\n\n"
        }
      ],
      "execution_count": 29,
      "metadata": {
        "jupyter": {
          "source_hidden": false,
          "outputs_hidden": false
        },
        "nteract": {
          "transient": {
            "deleting": false
          }
        },
        "gather": {
          "logged": 1700241608306
        }
      }
    },
    {
      "cell_type": "markdown",
      "source": [
        "##### Remove comments with less than 5 words"
      ],
      "metadata": {
        "nteract": {
          "transient": {
            "deleting": false
          }
        }
      }
    },
    {
      "cell_type": "code",
      "source": [
        "comments_clean = comments_clean.filter(size(col(\"clean_text\")) >= 5)\n",
        "print(\"Number of Comments after cleaning\", comments_clean.count())"
      ],
      "outputs": [
        {
          "output_type": "display_data",
          "data": {
            "application/vnd.livy.statement-meta+json": {
              "spark_pool": "d3c1b951-094c-48e1-919d-e32bc175397b",
              "session_id": "23",
              "statement_id": 27,
              "state": "finished",
              "livy_statement_state": "available",
              "queued_time": "2023-11-17T17:20:11.5858945Z",
              "session_start_time": null,
              "execution_start_time": "2023-11-17T17:20:11.7222351Z",
              "execution_finish_time": "2023-11-17T17:25:50.7282561Z",
              "spark_jobs": {
                "numbers": {
                  "RUNNING": 0,
                  "SUCCEEDED": 2,
                  "FAILED": 0,
                  "UNKNOWN": 0
                },
                "jobs": [
                  {
                    "displayName": "count at NativeMethodAccessorImpl.java:0",
                    "dataWritten": 0,
                    "dataRead": 944,
                    "rowCount": 16,
                    "usageDescription": "",
                    "jobId": 15,
                    "name": "count at NativeMethodAccessorImpl.java:0",
                    "description": "Job group for statement 27:\ncomments_clean = comments_clean.filter(size(col(\"clean_text\")) >= 5)\ncomments_clean.count()",
                    "submissionTime": "2023-11-17T17:25:49.987GMT",
                    "completionTime": "2023-11-17T17:25:50.241GMT",
                    "stageIds": [
                      15,
                      16
                    ],
                    "jobGroup": "27",
                    "status": "SUCCEEDED",
                    "numTasks": 17,
                    "numActiveTasks": 0,
                    "numCompletedTasks": 1,
                    "numSkippedTasks": 16,
                    "numFailedTasks": 0,
                    "numKilledTasks": 0,
                    "numCompletedIndices": 1,
                    "numActiveStages": 0,
                    "numCompletedStages": 1,
                    "numSkippedStages": 1,
                    "numFailedStages": 0,
                    "killedTasksSummary": {}
                  },
                  {
                    "displayName": "count at NativeMethodAccessorImpl.java:0",
                    "dataWritten": 944,
                    "dataRead": 96088488,
                    "rowCount": 1489891,
                    "usageDescription": "",
                    "jobId": 14,
                    "name": "count at NativeMethodAccessorImpl.java:0",
                    "description": "Job group for statement 27:\ncomments_clean = comments_clean.filter(size(col(\"clean_text\")) >= 5)\ncomments_clean.count()",
                    "submissionTime": "2023-11-17T17:20:12.183GMT",
                    "completionTime": "2023-11-17T17:25:49.892GMT",
                    "stageIds": [
                      14
                    ],
                    "jobGroup": "27",
                    "status": "SUCCEEDED",
                    "numTasks": 16,
                    "numActiveTasks": 0,
                    "numCompletedTasks": 16,
                    "numSkippedTasks": 0,
                    "numFailedTasks": 0,
                    "numKilledTasks": 0,
                    "numCompletedIndices": 16,
                    "numActiveStages": 0,
                    "numCompletedStages": 1,
                    "numSkippedStages": 0,
                    "numFailedStages": 0,
                    "killedTasksSummary": {}
                  }
                ],
                "limit": 20,
                "rule": "ALL_DESC"
              },
              "parent_msg_id": "57ddcd50-dcab-4c2d-aaff-127b0a5744c9"
            },
            "text/plain": "StatementMeta(d3c1b951-094c-48e1-919d-e32bc175397b, 23, 27, Finished, Available)"
          },
          "metadata": {}
        },
        {
          "output_type": "execute_result",
          "execution_count": 53,
          "data": {
            "text/plain": "869804"
          },
          "metadata": {}
        }
      ],
      "execution_count": 30,
      "metadata": {
        "jupyter": {
          "source_hidden": false,
          "outputs_hidden": false
        },
        "nteract": {
          "transient": {
            "deleting": false
          }
        },
        "gather": {
          "logged": 1700241950947
        }
      }
    },
    {
      "cell_type": "markdown",
      "source": [
        "##### Save cleaned comments data"
      ],
      "metadata": {
        "nteract": {
          "transient": {
            "deleting": false
          }
        }
      }
    },
    {
      "cell_type": "code",
      "source": [
        "\n",
        "workspace_default_storage_account = \"aml6214727930\"\n",
        "workspace_default_container = \"azureml-blobstore-6653633b-3460-4381-9199-d9e0f368353c\"\n",
        "\n",
        "workspace_wasbs_base_url = (\n",
        "    f\"wasbs://{workspace_default_container}@{workspace_default_storage_account}.blob.core.windows.net/\"\n",
        ")\n",
        "\n",
        "comments_clean = comments_clean.select('subreddit','author','author_flair_text','body','parent_id','link_id','id','created_utc','supported_team','day','month','year','clean_text')\n",
        "comments_clean.write.mode(\"overwrite\").parquet(f\"{workspace_wasbs_base_url}/basketball_comments_nlp.parquet\")"
      ],
      "outputs": [
        {
          "output_type": "display_data",
          "data": {
            "application/vnd.livy.statement-meta+json": {
              "spark_pool": "d3c1b951-094c-48e1-919d-e32bc175397b",
              "session_id": "23",
              "statement_id": 29,
              "state": "finished",
              "livy_statement_state": "available",
              "queued_time": "2023-11-17T17:33:56.4435901Z",
              "session_start_time": null,
              "execution_start_time": "2023-11-17T17:33:56.6474211Z",
              "execution_finish_time": "2023-11-17T17:44:11.5422469Z",
              "spark_jobs": {
                "numbers": {
                  "RUNNING": 0,
                  "SUCCEEDED": 1,
                  "FAILED": 0,
                  "UNKNOWN": 0
                },
                "jobs": [
                  {
                    "displayName": "parquet at NativeMethodAccessorImpl.java:0",
                    "dataWritten": 130639049,
                    "dataRead": 142864304,
                    "rowCount": 2359679,
                    "usageDescription": "",
                    "jobId": 16,
                    "name": "parquet at NativeMethodAccessorImpl.java:0",
                    "description": "Job group for statement 29:\nworkspace_default_storage_account = \"aml6214727930\"\nworkspace_default_container = \"azureml-blobstore-6653633b-3460-4381-9199-d9e0f368353c\"\n\nworkspace_wasbs_base_url = (\n    f\"wasbs://{workspace_default_container}@{workspace_default_storage_account}.blob.core.windows.net/\"\n)\n\ncomments_clean.write.mode(\"overwrite\").parquet(f\"{workspace_wasbs_base_url}/basketball_comments_nlp.parquet\")",
                    "submissionTime": "2023-11-17T17:33:56.991GMT",
                    "completionTime": "2023-11-17T17:44:09.933GMT",
                    "stageIds": [
                      17
                    ],
                    "jobGroup": "29",
                    "status": "SUCCEEDED",
                    "numTasks": 16,
                    "numActiveTasks": 0,
                    "numCompletedTasks": 16,
                    "numSkippedTasks": 0,
                    "numFailedTasks": 0,
                    "numKilledTasks": 0,
                    "numCompletedIndices": 16,
                    "numActiveStages": 0,
                    "numCompletedStages": 1,
                    "numSkippedStages": 0,
                    "numFailedStages": 0,
                    "killedTasksSummary": {}
                  }
                ],
                "limit": 20,
                "rule": "ALL_DESC"
              },
              "parent_msg_id": "2a4ff7e1-af96-49ab-b6d3-155164b800b5"
            },
            "text/plain": "StatementMeta(d3c1b951-094c-48e1-919d-e32bc175397b, 23, 29, Finished, Available)"
          },
          "metadata": {}
        }
      ],
      "execution_count": 32,
      "metadata": {
        "jupyter": {
          "source_hidden": false,
          "outputs_hidden": false
        },
        "nteract": {
          "transient": {
            "deleting": false
          }
        },
        "gather": {
          "logged": 1700243051794
        }
      }
    },
    {
      "cell_type": "markdown",
      "source": [
        "#### Cleaning Text Data Submissions"
      ],
      "metadata": {
        "nteract": {
          "transient": {
            "deleting": false
          }
        }
      }
    },
    {
      "cell_type": "code",
      "source": [
        "# Text Data Cleaning Pipeline\n",
        "\n",
        "# covert selftext of submissions data to nlp document format\n",
        "document_assembler = (\n",
        "    DocumentAssembler()\n",
        "    .setInputCol(\"selftext\")\n",
        "    .setOutputCol(\"document\")\n",
        ")\n",
        "# split document into sentences\n",
        "sentence = (\n",
        "    SentenceDetectorDLModel.pretrained(\"sentence_detector_dl\", \"en\")\n",
        "    .setInputCols([\"document\"])\n",
        "    .setOutputCol(\"sentence\")\n",
        ")\n",
        "# tokenize the words in each sentence\n",
        "tokenizer = (\n",
        "    Tokenizer()\n",
        "    .setInputCols([\"sentence\"])\n",
        "    .setOutputCol(\"token\")\n",
        ")\n",
        "# remove common stopwords\n",
        "stop_words = (\n",
        "    StopWordsCleaner().pretrained(\"stopwords_iso\",\"en\")\n",
        "    .setInputCols([\"token\"])\n",
        "    .setOutputCol(\"cleanTokens\")\n",
        ")\n",
        "# normalize data (remove any digits or entries that are non-standard words, convert to lowercase)\n",
        "normalizer = (\n",
        "    Normalizer()\n",
        "    .setInputCols([\"cleanTokens\"])\n",
        "    .setOutputCol(\"normalizedTokens\")\n",
        "    .setLowercase(True)\n",
        ")\n",
        "# lemmatize the normalized tokens\n",
        "lemmatizer = (\n",
        "    LemmatizerModel.pretrained().setInputCols([\"normalizedTokens\"]).setOutputCol(\"lemma\")\n",
        ")\n",
        "# define pipeline\n",
        "pipeline = Pipeline(stages=[document_assembler, sentence, tokenizer, stop_words, normalizer, lemmatizer])\n",
        "\n",
        "# fit and transform submissions data using the pipeline\n",
        "model = pipeline.fit(submissions)\n",
        "submissions_clean = model.transform(submissions)\n",
        "\n",
        "# print the new clean_text\n",
        "submissions_clean = submissions_clean.withColumn(\"clean_text\", col(\"lemma.result\"))\n",
        "submissions_clean.select(\"clean_text\").show()"
      ],
      "outputs": [
        {
          "output_type": "display_data",
          "data": {
            "application/vnd.livy.statement-meta+json": {
              "spark_pool": "d3c1b951-094c-48e1-919d-e32bc175397b",
              "session_id": "23",
              "statement_id": 31,
              "state": "finished",
              "livy_statement_state": "available",
              "queued_time": "2023-11-17T17:44:18.9657244Z",
              "session_start_time": null,
              "execution_start_time": "2023-11-17T17:44:19.081546Z",
              "execution_finish_time": "2023-11-17T17:44:31.2050098Z",
              "spark_jobs": {
                "numbers": {
                  "RUNNING": 0,
                  "SUCCEEDED": 0,
                  "FAILED": 0,
                  "UNKNOWN": 0
                },
                "jobs": [],
                "limit": 20,
                "rule": "ALL_DESC"
              },
              "parent_msg_id": "eb4abb30-81d0-4ca5-a5f3-4e747051cd31"
            },
            "text/plain": "StatementMeta(d3c1b951-094c-48e1-919d-e32bc175397b, 23, 31, Finished, Available)"
          },
          "metadata": {}
        },
        {
          "output_type": "stream",
          "name": "stdout",
          "text": "sentence_detector_dl download started this may take some time.\nApproximate size to download 354.6 KB\n[OK!]\nstopwords_iso download started this may take some time.\nApproximate size to download 2.1 KB\n[OK!]\nlemma_antbnc download started this may take some time.\nApproximate size to download 907.6 KB\n[OK!]\n"
        }
      ],
      "execution_count": 34,
      "metadata": {
        "jupyter": {
          "source_hidden": false,
          "outputs_hidden": false
        },
        "nteract": {
          "transient": {
            "deleting": false
          }
        },
        "gather": {
          "logged": 1700243071409
        }
      }
    },
    {
      "cell_type": "code",
      "source": [],
      "outputs": [
        {
          "output_type": "display_data",
          "data": {
            "application/vnd.livy.statement-meta+json": {
              "spark_pool": "d3c1b951-094c-48e1-919d-e32bc175397b",
              "session_id": "23",
              "statement_id": 34,
              "state": "finished",
              "livy_statement_state": "available",
              "queued_time": "2023-11-17T17:44:44.3547721Z",
              "session_start_time": null,
              "execution_start_time": "2023-11-17T17:44:44.4937208Z",
              "execution_finish_time": "2023-11-17T17:44:45.9989413Z",
              "spark_jobs": {
                "numbers": {
                  "RUNNING": 0,
                  "SUCCEEDED": 1,
                  "FAILED": 0,
                  "UNKNOWN": 0
                },
                "jobs": [
                  {
                    "displayName": "showString at NativeMethodAccessorImpl.java:0",
                    "dataWritten": 0,
                    "dataRead": 3343632,
                    "rowCount": 1,
                    "usageDescription": "",
                    "jobId": 18,
                    "name": "showString at NativeMethodAccessorImpl.java:0",
                    "description": "Job group for statement 34:\nsubmissions_clean = submissions_clean.withColumn(\"clean_text\", col(\"lemma.result\"))\nsubmissions_clean.select(\"clean_text\").show()",
                    "submissionTime": "2023-11-17T17:44:44.689GMT",
                    "completionTime": "2023-11-17T17:44:45.706GMT",
                    "stageIds": [
                      19
                    ],
                    "jobGroup": "34",
                    "status": "SUCCEEDED",
                    "numTasks": 1,
                    "numActiveTasks": 0,
                    "numCompletedTasks": 1,
                    "numSkippedTasks": 0,
                    "numFailedTasks": 0,
                    "numKilledTasks": 0,
                    "numCompletedIndices": 1,
                    "numActiveStages": 0,
                    "numCompletedStages": 1,
                    "numSkippedStages": 0,
                    "numFailedStages": 0,
                    "killedTasksSummary": {}
                  }
                ],
                "limit": 20,
                "rule": "ALL_DESC"
              },
              "parent_msg_id": "4c89697a-d881-4e8a-8028-98f8f3240cdb"
            },
            "text/plain": "StatementMeta(d3c1b951-094c-48e1-919d-e32bc175397b, 23, 34, Finished, Available)"
          },
          "metadata": {}
        },
        {
          "output_type": "stream",
          "name": "stdout",
          "text": "+--------------------+\n|          clean_text|\n+--------------------+\n|[hello, rcollegeb...|\n|[new, game, stupi...|\n|[it, free, talk, ...|\n|[nebraskafnebrask...|\n|[kansas, statefka...|\n|[alabamafalabama,...|\n|[san, diego, stat...|\n|[hello, march, ma...|\n|[sorry, hijack, i...|\n|[note, purdue, re...|\n|[sunday, new, eli...|\n|[rankteam, place,...|\n|[think, iowa, win...|\n|[rank, game, time...|\n|[rankings, team, ...|\n|[remove, view, po...|\n|[texasftexas, sta...|\n|[ut, martinfutmar...|\n|[ut, arlingtonfut...|\n|[smufsmu, new, me...|\n+--------------------+\nonly showing top 20 rows\n\n"
        }
      ],
      "execution_count": 37,
      "metadata": {
        "jupyter": {
          "source_hidden": false,
          "outputs_hidden": false
        },
        "nteract": {
          "transient": {
            "deleting": false
          }
        },
        "gather": {
          "logged": 1700243086230
        }
      }
    },
    {
      "cell_type": "code",
      "source": [
        "submissions_clean = submissions_clean.filter(size(col(\"clean_text\")) >= 5)\n",
        "print(\"Number of Submissions after cleaning\", submissions_clean.count())"
      ],
      "outputs": [
        {
          "output_type": "display_data",
          "data": {
            "application/vnd.livy.statement-meta+json": {
              "spark_pool": "d3c1b951-094c-48e1-919d-e32bc175397b",
              "session_id": "23",
              "statement_id": 35,
              "state": "finished",
              "livy_statement_state": "available",
              "queued_time": "2023-11-17T17:44:52.4749268Z",
              "session_start_time": null,
              "execution_start_time": "2023-11-17T17:44:52.5968988Z",
              "execution_finish_time": "2023-11-17T17:46:02.3825837Z",
              "spark_jobs": {
                "numbers": {
                  "RUNNING": 0,
                  "SUCCEEDED": 2,
                  "FAILED": 0,
                  "UNKNOWN": 0
                },
                "jobs": [
                  {
                    "displayName": "count at NativeMethodAccessorImpl.java:0",
                    "dataWritten": 0,
                    "dataRead": 944,
                    "rowCount": 16,
                    "usageDescription": "",
                    "jobId": 20,
                    "name": "count at NativeMethodAccessorImpl.java:0",
                    "description": "Job group for statement 35:\nsubmissions_clean = submissions_clean.filter(size(col(\"clean_text\")) >= 5)\nsubmissions_clean.count()",
                    "submissionTime": "2023-11-17T17:46:00.279GMT",
                    "completionTime": "2023-11-17T17:46:00.446GMT",
                    "stageIds": [
                      21,
                      22
                    ],
                    "jobGroup": "35",
                    "status": "SUCCEEDED",
                    "numTasks": 17,
                    "numActiveTasks": 0,
                    "numCompletedTasks": 1,
                    "numSkippedTasks": 16,
                    "numFailedTasks": 0,
                    "numKilledTasks": 0,
                    "numCompletedIndices": 1,
                    "numActiveStages": 0,
                    "numCompletedStages": 1,
                    "numSkippedStages": 1,
                    "numFailedStages": 0,
                    "killedTasksSummary": {}
                  },
                  {
                    "displayName": "count at NativeMethodAccessorImpl.java:0",
                    "dataWritten": 944,
                    "dataRead": 7447304,
                    "rowCount": 8061,
                    "usageDescription": "",
                    "jobId": 19,
                    "name": "count at NativeMethodAccessorImpl.java:0",
                    "description": "Job group for statement 35:\nsubmissions_clean = submissions_clean.filter(size(col(\"clean_text\")) >= 5)\nsubmissions_clean.count()",
                    "submissionTime": "2023-11-17T17:44:52.738GMT",
                    "completionTime": "2023-11-17T17:46:00.255GMT",
                    "stageIds": [
                      20
                    ],
                    "jobGroup": "35",
                    "status": "SUCCEEDED",
                    "numTasks": 16,
                    "numActiveTasks": 0,
                    "numCompletedTasks": 16,
                    "numSkippedTasks": 0,
                    "numFailedTasks": 0,
                    "numKilledTasks": 0,
                    "numCompletedIndices": 16,
                    "numActiveStages": 0,
                    "numCompletedStages": 1,
                    "numSkippedStages": 0,
                    "numFailedStages": 0,
                    "killedTasksSummary": {}
                  }
                ],
                "limit": 20,
                "rule": "ALL_DESC"
              },
              "parent_msg_id": "c83c210a-86e5-43c1-9a2e-708e155b114f"
            },
            "text/plain": "StatementMeta(d3c1b951-094c-48e1-919d-e32bc175397b, 23, 35, Finished, Available)"
          },
          "metadata": {}
        },
        {
          "output_type": "execute_result",
          "execution_count": 69,
          "data": {
            "text/plain": "9163"
          },
          "metadata": {}
        }
      ],
      "execution_count": 38,
      "metadata": {
        "jupyter": {
          "source_hidden": false,
          "outputs_hidden": false
        },
        "nteract": {
          "transient": {
            "deleting": false
          }
        },
        "gather": {
          "logged": 1700243162853
        }
      }
    },
    {
      "cell_type": "markdown",
      "source": [
        "##### Saving clean submissions data"
      ],
      "metadata": {
        "nteract": {
          "transient": {
            "deleting": false
          }
        }
      }
    },
    {
      "cell_type": "code",
      "source": [
        "submissions_clean = submissions_clean.select('subreddit','author','author_flair_text','title','selftext','created_utc','num_comments','supported_team','game_thread','home_ranking','home_team','away_ranking','away_team','game_time','ranked_matchup','day','month','year','clean_text')\n",
        "submissions_clean.write.mode(\"overwrite\").parquet(f\"{workspace_wasbs_base_url}/basketball_submissions_nlp.parquet\")"
      ],
      "outputs": [
        {
          "output_type": "display_data",
          "data": {
            "application/vnd.livy.statement-meta+json": {
              "spark_pool": "d3c1b951-094c-48e1-919d-e32bc175397b",
              "session_id": "23",
              "statement_id": 37,
              "state": "finished",
              "livy_statement_state": "available",
              "queued_time": "2023-11-17T17:46:11.0816296Z",
              "session_start_time": null,
              "execution_start_time": "2023-11-17T17:46:12.8184925Z",
              "execution_finish_time": "2023-11-17T17:48:28.3477264Z",
              "spark_jobs": {
                "numbers": {
                  "RUNNING": 0,
                  "SUCCEEDED": 1,
                  "FAILED": 0,
                  "UNKNOWN": 0
                },
                "jobs": [
                  {
                    "displayName": "parquet at NativeMethodAccessorImpl.java:0",
                    "dataWritten": 6076323,
                    "dataRead": 12656240,
                    "rowCount": 9179,
                    "usageDescription": "",
                    "jobId": 21,
                    "name": "parquet at NativeMethodAccessorImpl.java:0",
                    "description": "Job group for statement 37:\nsubmissions_clean.write.mode(\"overwrite\").parquet(f\"{workspace_wasbs_base_url}/basketball_submissions_nlp.parquet\")",
                    "submissionTime": "2023-11-17T17:46:11.497GMT",
                    "completionTime": "2023-11-17T17:48:26.857GMT",
                    "stageIds": [
                      23
                    ],
                    "jobGroup": "37",
                    "status": "SUCCEEDED",
                    "numTasks": 16,
                    "numActiveTasks": 0,
                    "numCompletedTasks": 16,
                    "numSkippedTasks": 0,
                    "numFailedTasks": 0,
                    "numKilledTasks": 0,
                    "numCompletedIndices": 16,
                    "numActiveStages": 0,
                    "numCompletedStages": 1,
                    "numSkippedStages": 0,
                    "numFailedStages": 0,
                    "killedTasksSummary": {}
                  }
                ],
                "limit": 20,
                "rule": "ALL_DESC"
              },
              "parent_msg_id": "f923c4bd-8368-402b-8bab-179bd6d8f878"
            },
            "text/plain": "StatementMeta(d3c1b951-094c-48e1-919d-e32bc175397b, 23, 37, Finished, Available)"
          },
          "metadata": {}
        }
      ],
      "execution_count": 40,
      "metadata": {
        "jupyter": {
          "source_hidden": false,
          "outputs_hidden": false
        },
        "nteract": {
          "transient": {
            "deleting": false
          }
        },
        "gather": {
          "logged": 1700243308801
        }
      }
    },
    {
      "cell_type": "markdown",
      "source": [
        "### Part 4: Looking at Top words after cleaning"
      ],
      "metadata": {
        "nteract": {
          "transient": {
            "deleting": false
          }
        }
      }
    },
    {
      "cell_type": "code",
      "source": [
        "workspace_default_storage_account = \"aml6214727930\"\n",
        "workspace_default_container = \"azureml-blobstore-6653633b-3460-4381-9199-d9e0f368353c\"\n",
        "\n",
        "workspace_wasbs_base_url = (\n",
        "    f\"wasbs://{workspace_default_container}@{workspace_default_storage_account}.blob.core.windows.net/\"\n",
        ")\n",
        "\n",
        "comments_path = \"/basketball_comments_nlp.parquet\"\n",
        "submissions_path = \"/basketball_submissions_nlp.parquet\"\n",
        "\n",
        "comments_clean = spark.read.parquet(f\"{workspace_wasbs_base_url}{comments_path}\")\n",
        "submission_clean = spark.read.parquet(f\"{workspace_wasbs_base_url}{submissions_path}\")"
      ],
      "outputs": [
        {
          "output_type": "display_data",
          "data": {
            "application/vnd.livy.statement-meta+json": {
              "spark_pool": "d3c1b951-094c-48e1-919d-e32bc175397b",
              "session_id": "29",
              "statement_id": 142,
              "state": "finished",
              "livy_statement_state": "available",
              "queued_time": "2023-11-18T23:58:54.3858648Z",
              "session_start_time": null,
              "execution_start_time": "2023-11-18T23:58:54.5231941Z",
              "execution_finish_time": "2023-11-18T23:58:56.0945027Z",
              "spark_jobs": {
                "numbers": {
                  "SUCCEEDED": 2,
                  "UNKNOWN": 0,
                  "FAILED": 0,
                  "RUNNING": 0
                },
                "jobs": [
                  {
                    "displayName": "parquet at NativeMethodAccessorImpl.java:0",
                    "dataWritten": 0,
                    "dataRead": 0,
                    "rowCount": 0,
                    "usageDescription": "",
                    "jobId": 196,
                    "name": "parquet at NativeMethodAccessorImpl.java:0",
                    "description": "Job group for statement 142:\nworkspace_default_storage_account = \"aml6214727930\"\nworkspace_default_container = \"azureml-blobstore-6653633b-3460-4381-9199-d9e0f368353c\"\n\nworkspace_wasbs_base_url = (\n    f\"wasbs://{workspace_default_container}@{workspace_default_storage_account}.blob.core.windows.net/\"\n)\n\ncomments_path = \"/basketball_comments_nlp.parquet\"\nsubmissions_path = \"/basketball_submissions_nlp.parquet\"\n\ncomments_clean = spark.read.parquet(f\"{workspace_wasbs_base_url}{comments_path}\")\nsubmission_clean = spark.read.parquet(f\"{workspace_wasbs_base_url}{submissions_path}\")",
                    "submissionTime": "2023-11-18T23:58:55.042GMT",
                    "completionTime": "2023-11-18T23:58:55.309GMT",
                    "stageIds": [
                      303
                    ],
                    "jobGroup": "142",
                    "status": "SUCCEEDED",
                    "numTasks": 1,
                    "numActiveTasks": 0,
                    "numCompletedTasks": 1,
                    "numSkippedTasks": 0,
                    "numFailedTasks": 0,
                    "numKilledTasks": 0,
                    "numCompletedIndices": 1,
                    "numActiveStages": 0,
                    "numCompletedStages": 1,
                    "numSkippedStages": 0,
                    "numFailedStages": 0,
                    "killedTasksSummary": {}
                  },
                  {
                    "displayName": "parquet at NativeMethodAccessorImpl.java:0",
                    "dataWritten": 0,
                    "dataRead": 0,
                    "rowCount": 0,
                    "usageDescription": "",
                    "jobId": 195,
                    "name": "parquet at NativeMethodAccessorImpl.java:0",
                    "description": "Job group for statement 142:\nworkspace_default_storage_account = \"aml6214727930\"\nworkspace_default_container = \"azureml-blobstore-6653633b-3460-4381-9199-d9e0f368353c\"\n\nworkspace_wasbs_base_url = (\n    f\"wasbs://{workspace_default_container}@{workspace_default_storage_account}.blob.core.windows.net/\"\n)\n\ncomments_path = \"/basketball_comments_nlp.parquet\"\nsubmissions_path = \"/basketball_submissions_nlp.parquet\"\n\ncomments_clean = spark.read.parquet(f\"{workspace_wasbs_base_url}{comments_path}\")\nsubmission_clean = spark.read.parquet(f\"{workspace_wasbs_base_url}{submissions_path}\")",
                    "submissionTime": "2023-11-18T23:58:54.702GMT",
                    "completionTime": "2023-11-18T23:58:54.877GMT",
                    "stageIds": [
                      302
                    ],
                    "jobGroup": "142",
                    "status": "SUCCEEDED",
                    "numTasks": 1,
                    "numActiveTasks": 0,
                    "numCompletedTasks": 1,
                    "numSkippedTasks": 0,
                    "numFailedTasks": 0,
                    "numKilledTasks": 0,
                    "numCompletedIndices": 1,
                    "numActiveStages": 0,
                    "numCompletedStages": 1,
                    "numSkippedStages": 0,
                    "numFailedStages": 0,
                    "killedTasksSummary": {}
                  }
                ],
                "limit": 20,
                "rule": "ALL_DESC"
              },
              "parent_msg_id": "240d2133-d19e-4436-abce-3481486830bf"
            },
            "text/plain": "StatementMeta(d3c1b951-094c-48e1-919d-e32bc175397b, 29, 142, Finished, Available)"
          },
          "metadata": {}
        }
      ],
      "execution_count": 139,
      "metadata": {
        "jupyter": {
          "source_hidden": false,
          "outputs_hidden": false
        },
        "nteract": {
          "transient": {
            "deleting": false
          }
        },
        "gather": {
          "logged": 1700351936556
        }
      }
    },
    {
      "cell_type": "code",
      "source": [
        "# find the top 10 most common words in comments without cleaning\n",
        "comments_clean = comments_clean.withColumn(\"clean_text\", concat_ws(\" \", \"clean_text\"))\n",
        "words = comments_clean.select(explode(split(comments_clean[\"clean_text\"], \"\\s+\")).alias(\"word\")) # split the body column in words\n",
        "word_counts = words.groupBy(\"word\").count() # group by each word and count\n",
        "top_10_words = word_counts.orderBy(desc(\"count\")).limit(10) # sort the words and take top 10\n",
        "print(\"Top 10 Words in Comments\")\n",
        "top_10_words.show()\n",
        "\n",
        "# find the top 10 most common words in submissions without cleaning\n",
        "submission_clean = submission_clean.withColumn(\"clean_text\", concat_ws(\" \", \"clean_text\"))\n",
        "words = submission_clean.select(explode(split(submission_clean[\"clean_text\"], \"\\s+\")).alias(\"word\")) # split the body column in words\n",
        "word_counts = words.groupBy(\"word\").count() # group by each word and count\n",
        "top_10_words = word_counts.orderBy(desc(\"count\")).limit(10) # sort the words and take top 10\n",
        "print(\"Top 10 Words in Submissions\")\n",
        "top_10_words.show()"
      ],
      "outputs": [
        {
          "output_type": "display_data",
          "data": {
            "application/vnd.livy.statement-meta+json": {
              "spark_pool": "d3c1b951-094c-48e1-919d-e32bc175397b",
              "session_id": "29",
              "statement_id": 149,
              "state": "finished",
              "livy_statement_state": "available",
              "queued_time": "2023-11-19T00:02:13.7154145Z",
              "session_start_time": null,
              "execution_start_time": "2023-11-19T00:02:13.86993Z",
              "execution_finish_time": "2023-11-19T00:02:17.6663197Z",
              "spark_jobs": {
                "numbers": {
                  "SUCCEEDED": 4,
                  "UNKNOWN": 0,
                  "FAILED": 0,
                  "RUNNING": 0
                },
                "jobs": [
                  {
                    "displayName": "showString at <unknown>:0",
                    "dataWritten": 0,
                    "dataRead": 1818003,
                    "rowCount": 65176,
                    "usageDescription": "",
                    "jobId": 207,
                    "name": "showString at <unknown>:0",
                    "description": "Job group for statement 149:\n# find the top 10 most common words in comments without cleaning\ncomments_clean = comments_clean.withColumn(\"clean_text\", concat_ws(\" \", \"clean_text\"))\nwords = comments_clean.select(explode(split(comments_clean[\"clean_text\"], \"\\s+\")).alias(\"word\")) # split the body column in words\nword_counts = words.groupBy(\"word\").count() # group by each word and count\ntop_10_words = word_counts.orderBy(desc(\"count\")).limit(10) # sort the words and take top 10\nprint(\"Top 10 Words in Comments\")\ntop_10_words.show()\n\n# find the top 10 most common words in submissions without cleaning\nsubmission_clean = submission_clean.withColumn(\"clean_text\", concat_ws(\" \", \"clean_text\"))\nwords = submission_clean.select(explode(split(submission_clean[\"clean_text\"], \"\\s+\")).alias(\"word\")) # split the body column in words\nword_counts = words.groupBy(\"word\").count() # group by each word and count\ntop_10_words = word_counts.orderBy(desc(\"count\")).limit(10) # sort the words and take top 10\nprint(\"Top 10 Words in Submissions\")\ntop_10_words.show()",
                    "submissionTime": "2023-11-19T00:02:16.919GMT",
                    "completionTime": "2023-11-19T00:02:16.994GMT",
                    "stageIds": [
                      322,
                      323
                    ],
                    "jobGroup": "149",
                    "status": "SUCCEEDED",
                    "numTasks": 13,
                    "numActiveTasks": 0,
                    "numCompletedTasks": 1,
                    "numSkippedTasks": 12,
                    "numFailedTasks": 0,
                    "numKilledTasks": 0,
                    "numCompletedIndices": 1,
                    "numActiveStages": 0,
                    "numCompletedStages": 1,
                    "numSkippedStages": 1,
                    "numFailedStages": 0,
                    "killedTasksSummary": {}
                  },
                  {
                    "displayName": "showString at <unknown>:0",
                    "dataWritten": 1818003,
                    "dataRead": 1727540,
                    "rowCount": 74339,
                    "usageDescription": "",
                    "jobId": 206,
                    "name": "showString at <unknown>:0",
                    "description": "Job group for statement 149:\n# find the top 10 most common words in comments without cleaning\ncomments_clean = comments_clean.withColumn(\"clean_text\", concat_ws(\" \", \"clean_text\"))\nwords = comments_clean.select(explode(split(comments_clean[\"clean_text\"], \"\\s+\")).alias(\"word\")) # split the body column in words\nword_counts = words.groupBy(\"word\").count() # group by each word and count\ntop_10_words = word_counts.orderBy(desc(\"count\")).limit(10) # sort the words and take top 10\nprint(\"Top 10 Words in Comments\")\ntop_10_words.show()\n\n# find the top 10 most common words in submissions without cleaning\nsubmission_clean = submission_clean.withColumn(\"clean_text\", concat_ws(\" \", \"clean_text\"))\nwords = submission_clean.select(explode(split(submission_clean[\"clean_text\"], \"\\s+\")).alias(\"word\")) # split the body column in words\nword_counts = words.groupBy(\"word\").count() # group by each word and count\ntop_10_words = word_counts.orderBy(desc(\"count\")).limit(10) # sort the words and take top 10\nprint(\"Top 10 Words in Submissions\")\ntop_10_words.show()",
                    "submissionTime": "2023-11-19T00:02:16.403GMT",
                    "completionTime": "2023-11-19T00:02:16.888GMT",
                    "stageIds": [
                      321
                    ],
                    "jobGroup": "149",
                    "status": "SUCCEEDED",
                    "numTasks": 12,
                    "numActiveTasks": 0,
                    "numCompletedTasks": 12,
                    "numSkippedTasks": 0,
                    "numFailedTasks": 0,
                    "numKilledTasks": 0,
                    "numCompletedIndices": 12,
                    "numActiveStages": 0,
                    "numCompletedStages": 1,
                    "numSkippedStages": 0,
                    "numFailedStages": 0,
                    "killedTasksSummary": {}
                  },
                  {
                    "displayName": "showString at <unknown>:0",
                    "dataWritten": 1466,
                    "dataRead": 7109055,
                    "rowCount": 348855,
                    "usageDescription": "",
                    "jobId": 205,
                    "name": "showString at <unknown>:0",
                    "description": "Job group for statement 149:\n# find the top 10 most common words in comments without cleaning\ncomments_clean = comments_clean.withColumn(\"clean_text\", concat_ws(\" \", \"clean_text\"))\nwords = comments_clean.select(explode(split(comments_clean[\"clean_text\"], \"\\s+\")).alias(\"word\")) # split the body column in words\nword_counts = words.groupBy(\"word\").count() # group by each word and count\ntop_10_words = word_counts.orderBy(desc(\"count\")).limit(10) # sort the words and take top 10\nprint(\"Top 10 Words in Comments\")\ntop_10_words.show()\n\n# find the top 10 most common words in submissions without cleaning\nsubmission_clean = submission_clean.withColumn(\"clean_text\", concat_ws(\" \", \"clean_text\"))\nwords = submission_clean.select(explode(split(submission_clean[\"clean_text\"], \"\\s+\")).alias(\"word\")) # split the body column in words\nword_counts = words.groupBy(\"word\").count() # group by each word and count\ntop_10_words = word_counts.orderBy(desc(\"count\")).limit(10) # sort the words and take top 10\nprint(\"Top 10 Words in Submissions\")\ntop_10_words.show()",
                    "submissionTime": "2023-11-19T00:02:16.152GMT",
                    "completionTime": "2023-11-19T00:02:16.283GMT",
                    "stageIds": [
                      320,
                      318,
                      319
                    ],
                    "jobGroup": "149",
                    "status": "SUCCEEDED",
                    "numTasks": 23,
                    "numActiveTasks": 0,
                    "numCompletedTasks": 7,
                    "numSkippedTasks": 16,
                    "numFailedTasks": 0,
                    "numKilledTasks": 0,
                    "numCompletedIndices": 7,
                    "numActiveStages": 0,
                    "numCompletedStages": 2,
                    "numSkippedStages": 1,
                    "numFailedStages": 0,
                    "killedTasksSummary": {}
                  },
                  {
                    "displayName": "showString at <unknown>:0",
                    "dataWritten": 7107589,
                    "dataRead": 24164399,
                    "rowCount": 1218539,
                    "usageDescription": "",
                    "jobId": 204,
                    "name": "showString at <unknown>:0",
                    "description": "Job group for statement 149:\n# find the top 10 most common words in comments without cleaning\ncomments_clean = comments_clean.withColumn(\"clean_text\", concat_ws(\" \", \"clean_text\"))\nwords = comments_clean.select(explode(split(comments_clean[\"clean_text\"], \"\\s+\")).alias(\"word\")) # split the body column in words\nword_counts = words.groupBy(\"word\").count() # group by each word and count\ntop_10_words = word_counts.orderBy(desc(\"count\")).limit(10) # sort the words and take top 10\nprint(\"Top 10 Words in Comments\")\ntop_10_words.show()\n\n# find the top 10 most common words in submissions without cleaning\nsubmission_clean = submission_clean.withColumn(\"clean_text\", concat_ws(\" \", \"clean_text\"))\nwords = submission_clean.select(explode(split(submission_clean[\"clean_text\"], \"\\s+\")).alias(\"word\")) # split the body column in words\nword_counts = words.groupBy(\"word\").count() # group by each word and count\ntop_10_words = word_counts.orderBy(desc(\"count\")).limit(10) # sort the words and take top 10\nprint(\"Top 10 Words in Submissions\")\ntop_10_words.show()",
                    "submissionTime": "2023-11-19T00:02:14.031GMT",
                    "completionTime": "2023-11-19T00:02:16.122GMT",
                    "stageIds": [
                      317
                    ],
                    "jobGroup": "149",
                    "status": "SUCCEEDED",
                    "numTasks": 16,
                    "numActiveTasks": 0,
                    "numCompletedTasks": 16,
                    "numSkippedTasks": 0,
                    "numFailedTasks": 0,
                    "numKilledTasks": 0,
                    "numCompletedIndices": 16,
                    "numActiveStages": 0,
                    "numCompletedStages": 1,
                    "numSkippedStages": 0,
                    "numFailedStages": 0,
                    "killedTasksSummary": {}
                  }
                ],
                "limit": 20,
                "rule": "ALL_DESC"
              },
              "parent_msg_id": "2f777df1-96be-456d-ac4c-bbc9406572ac"
            },
            "text/plain": "StatementMeta(d3c1b951-094c-48e1-919d-e32bc175397b, 29, 149, Finished, Available)"
          },
          "metadata": {}
        },
        {
          "output_type": "stream",
          "name": "stdout",
          "text": "Top 10 Words in Comments\n+-----+------+\n| word| count|\n+-----+------+\n| game|179194|\n| team|150915|\n| like|123887|\n| year|103178|\n| play|100420|\n| good| 99257|\n|   it| 89460|\n|think| 89047|\n|  win| 84953|\n|  get| 78784|\n+-----+------+\n\nTop 10 Words in Submissions\n+------+-----+\n|  word|count|\n+------+-----+\n|  team|16217|\n|thread| 9657|\n| final| 9037|\n|  game| 8348|\n|  play| 7467|\n|     h| 6571|\n| index| 6323|\n|   for| 6319|\n|follow| 6157|\n| state| 5887|\n+------+-----+\n\n"
        }
      ],
      "execution_count": 146,
      "metadata": {
        "jupyter": {
          "source_hidden": false,
          "outputs_hidden": false
        },
        "nteract": {
          "transient": {
            "deleting": false
          }
        },
        "gather": {
          "logged": 1700352137783
        }
      }
    },
    {
      "cell_type": "code",
      "source": [],
      "outputs": [],
      "execution_count": null,
      "metadata": {
        "jupyter": {
          "source_hidden": false,
          "outputs_hidden": false
        },
        "nteract": {
          "transient": {
            "deleting": false
          }
        }
      }
    }
  ],
  "metadata": {
    "kernelspec": {
      "name": "synapse_pyspark",
      "language": "Python",
      "display_name": "Synapse PySpark"
    },
    "language_info": {
      "name": "python",
      "version": "3.8.0",
      "mimetype": "text/x-python",
      "file_extension": ".py",
      "pygments_lexer": "ipython",
      "codemirror_mode": "ipython",
      "nbconvert_exporter": "python"
    },
    "microsoft": {
      "ms_spell_check": {
        "ms_spell_check_language": "en"
      },
      "host": {
        "AzureML": {
          "notebookHasBeenCompleted": true
        }
      }
    },
    "kernel_info": {
      "name": "synapse_pyspark"
    },
    "nteract": {
      "version": "nteract-front-end@1.0.0"
    }
  },
  "nbformat": 4,
  "nbformat_minor": 2
}